{
 "cells": [
  {
   "cell_type": "markdown",
   "metadata": {},
   "source": [
    "# Goal\n",
    "\n",
    "* Primer design for clade of interest"
   ]
  },
  {
   "cell_type": "markdown",
   "metadata": {},
   "source": [
    "# Var"
   ]
  },
  {
   "cell_type": "code",
   "execution_count": 2,
   "metadata": {
    "execution": {
     "iopub.execute_input": "2021-04-23T08:06:12.977976Z",
     "iopub.status.busy": "2021-04-23T08:06:12.938881Z",
     "iopub.status.idle": "2021-04-23T08:06:12.995971Z"
    }
   },
   "outputs": [],
   "source": [
    "base_dir = '/ebio/abt3_projects/software/dev/ll_pipelines/llprimer/experiments/HMP_most-wanted/v0.3/'\n",
    "clade = 'Prevotella'\n",
    "domain = 'Bacteria'\n",
    "taxid = 838"
   ]
  },
  {
   "cell_type": "markdown",
   "metadata": {},
   "source": [
    "# Init"
   ]
  },
  {
   "cell_type": "code",
   "execution_count": 5,
   "metadata": {
    "execution": {
     "iopub.execute_input": "2021-04-23T08:06:18.973141Z",
     "iopub.status.busy": "2021-04-23T08:06:18.970862Z",
     "iopub.status.idle": "2021-04-23T08:06:18.996478Z"
    }
   },
   "outputs": [],
   "source": [
    "library(dplyr)\n",
    "library(tidyr)\n",
    "library(data.table)\n",
    "library(tidytable)\n",
    "library(ggplot2)\n",
    "library(LeyLabRMisc)"
   ]
  },
  {
   "cell_type": "code",
   "execution_count": 6,
   "metadata": {
    "execution": {
     "iopub.execute_input": "2021-04-23T08:06:19.396961Z",
     "iopub.status.busy": "2021-04-23T08:06:19.394651Z",
     "iopub.status.idle": "2021-04-23T08:06:19.414229Z"
    }
   },
   "outputs": [
    {
     "name": "stdout",
     "output_type": "stream",
     "text": [
      "Directory already exists: /ebio/abt3_projects/software/dev/ll_pipelines/llprimer/experiments/HMP_most-wanted/v0.3//Prevotella \n"
     ]
    }
   ],
   "source": [
    "df.dims()\n",
    "work_dir = file.path(base_dir, clade)\n",
    "make_dir(work_dir)"
   ]
  },
  {
   "cell_type": "markdown",
   "metadata": {},
   "source": [
    "# Genome download\n",
    "\n",
    "* Downloading genomes from NCBI"
   ]
  },
  {
   "cell_type": "markdown",
   "metadata": {
    "execution": {
     "iopub.execute_input": "2021-01-12T13:07:32.874718Z",
     "iopub.status.busy": "2021-01-12T13:07:32.867938Z",
     "iopub.status.idle": "2021-01-12T13:07:32.985785Z",
     "shell.execute_reply": "2021-01-12T13:07:32.983225Z"
    }
   },
   "source": [
    "```\n",
    "OUTDIR=/ebio/abt3_projects/software/dev/ll_pipelines/llprimer/experiments/HMP_most-wanted//Prevotella/\n",
    "mkdir -p $OUTDIR\n",
    "ncbi-genome-download -p 12 -s genbank -F fasta --genera /Prevotella -o $OUTDIR bacteria\n",
    "```"
   ]
  },
  {
   "cell_type": "markdown",
   "metadata": {},
   "source": [
    "# Genome quality\n",
    "\n",
    "* Filtering genomes by quality"
   ]
  },
  {
   "cell_type": "code",
   "execution_count": 9,
   "metadata": {
    "execution": {
     "iopub.execute_input": "2021-04-23T08:11:38.278050Z",
     "iopub.status.busy": "2021-04-23T08:11:38.275964Z",
     "iopub.status.idle": "2021-04-23T08:11:38.880174Z"
    }
   },
   "outputs": [
    {
     "data": {
      "text/html": [
       "<table>\n",
       "<caption>A data.frame: 921 × 4</caption>\n",
       "<thead>\n",
       "\t<tr><th scope=col>Name</th><th scope=col>Fasta</th><th scope=col>Domain</th><th scope=col>Taxid</th></tr>\n",
       "\t<tr><th scope=col>&lt;chr&gt;</th><th scope=col>&lt;chr&gt;</th><th scope=col>&lt;fct&gt;</th><th scope=col>&lt;dbl&gt;</th></tr>\n",
       "</thead>\n",
       "<tbody>\n",
       "\t<tr><td>GCA_000025925.1_ASM2592v1_genomic </td><td>/ebio/abt3_projects/software/dev/ll_pipelines/llprimer/experiments/HMP_most-wanted/v0.3/Prevotella/genbank/bacteria/GCA_000025925.1/GCA_000025925.1_ASM2592v1_genomic.fna.gz </td><td>Bacteria</td><td>838</td></tr>\n",
       "\t<tr><td>GCA_000142965.1_ASM14296v1_genomic</td><td>/ebio/abt3_projects/software/dev/ll_pipelines/llprimer/experiments/HMP_most-wanted/v0.3/Prevotella/genbank/bacteria/GCA_000142965.1/GCA_000142965.1_ASM14296v1_genomic.fna.gz</td><td>Bacteria</td><td>838</td></tr>\n",
       "\t<tr><td>⋮</td><td>⋮</td><td>⋮</td><td>⋮</td></tr>\n",
       "\t<tr><td>GCA_902399905.1_UHGG_MGYG-HGUT-03697_genomic            </td><td>/ebio/abt3_projects/software/dev/ll_pipelines/llprimer/experiments/HMP_most-wanted/v0.3/Prevotella/genbank/bacteria/GCA_902399905.1/GCA_902399905.1_UHGG_MGYG-HGUT-03697_genomic.fna.gz            </td><td>Bacteria</td><td>838</td></tr>\n",
       "\t<tr><td>GCA_902794455.1_Rumen_uncultured_genome_RUG13974_genomic</td><td>/ebio/abt3_projects/software/dev/ll_pipelines/llprimer/experiments/HMP_most-wanted/v0.3/Prevotella/genbank/bacteria/GCA_902794455.1/GCA_902794455.1_Rumen_uncultured_genome_RUG13974_genomic.fna.gz</td><td>Bacteria</td><td>838</td></tr>\n",
       "</tbody>\n",
       "</table>\n"
      ],
      "text/latex": [
       "A data.frame: 921 × 4\n",
       "\\begin{tabular}{llll}\n",
       " Name & Fasta & Domain & Taxid\\\\\n",
       " <chr> & <chr> & <fct> & <dbl>\\\\\n",
       "\\hline\n",
       "\t GCA\\_000025925.1\\_ASM2592v1\\_genomic  & /ebio/abt3\\_projects/software/dev/ll\\_pipelines/llprimer/experiments/HMP\\_most-wanted/v0.3/Prevotella/genbank/bacteria/GCA\\_000025925.1/GCA\\_000025925.1\\_ASM2592v1\\_genomic.fna.gz  & Bacteria & 838\\\\\n",
       "\t GCA\\_000142965.1\\_ASM14296v1\\_genomic & /ebio/abt3\\_projects/software/dev/ll\\_pipelines/llprimer/experiments/HMP\\_most-wanted/v0.3/Prevotella/genbank/bacteria/GCA\\_000142965.1/GCA\\_000142965.1\\_ASM14296v1\\_genomic.fna.gz & Bacteria & 838\\\\\n",
       "\t ⋮ & ⋮ & ⋮ & ⋮\\\\\n",
       "\t GCA\\_902399905.1\\_UHGG\\_MGYG-HGUT-03697\\_genomic             & /ebio/abt3\\_projects/software/dev/ll\\_pipelines/llprimer/experiments/HMP\\_most-wanted/v0.3/Prevotella/genbank/bacteria/GCA\\_902399905.1/GCA\\_902399905.1\\_UHGG\\_MGYG-HGUT-03697\\_genomic.fna.gz             & Bacteria & 838\\\\\n",
       "\t GCA\\_902794455.1\\_Rumen\\_uncultured\\_genome\\_RUG13974\\_genomic & /ebio/abt3\\_projects/software/dev/ll\\_pipelines/llprimer/experiments/HMP\\_most-wanted/v0.3/Prevotella/genbank/bacteria/GCA\\_902794455.1/GCA\\_902794455.1\\_Rumen\\_uncultured\\_genome\\_RUG13974\\_genomic.fna.gz & Bacteria & 838\\\\\n",
       "\\end{tabular}\n"
      ],
      "text/markdown": [
       "\n",
       "A data.frame: 921 × 4\n",
       "\n",
       "| Name &lt;chr&gt; | Fasta &lt;chr&gt; | Domain &lt;fct&gt; | Taxid &lt;dbl&gt; |\n",
       "|---|---|---|---|\n",
       "| GCA_000025925.1_ASM2592v1_genomic  | /ebio/abt3_projects/software/dev/ll_pipelines/llprimer/experiments/HMP_most-wanted/v0.3/Prevotella/genbank/bacteria/GCA_000025925.1/GCA_000025925.1_ASM2592v1_genomic.fna.gz  | Bacteria | 838 |\n",
       "| GCA_000142965.1_ASM14296v1_genomic | /ebio/abt3_projects/software/dev/ll_pipelines/llprimer/experiments/HMP_most-wanted/v0.3/Prevotella/genbank/bacteria/GCA_000142965.1/GCA_000142965.1_ASM14296v1_genomic.fna.gz | Bacteria | 838 |\n",
       "| ⋮ | ⋮ | ⋮ | ⋮ |\n",
       "| GCA_902399905.1_UHGG_MGYG-HGUT-03697_genomic             | /ebio/abt3_projects/software/dev/ll_pipelines/llprimer/experiments/HMP_most-wanted/v0.3/Prevotella/genbank/bacteria/GCA_902399905.1/GCA_902399905.1_UHGG_MGYG-HGUT-03697_genomic.fna.gz             | Bacteria | 838 |\n",
       "| GCA_902794455.1_Rumen_uncultured_genome_RUG13974_genomic | /ebio/abt3_projects/software/dev/ll_pipelines/llprimer/experiments/HMP_most-wanted/v0.3/Prevotella/genbank/bacteria/GCA_902794455.1/GCA_902794455.1_Rumen_uncultured_genome_RUG13974_genomic.fna.gz | Bacteria | 838 |\n",
       "\n"
      ],
      "text/plain": [
       "    Name                                                    \n",
       "1   GCA_000025925.1_ASM2592v1_genomic                       \n",
       "2   GCA_000142965.1_ASM14296v1_genomic                      \n",
       "⋮   ⋮                                                       \n",
       "920 GCA_902399905.1_UHGG_MGYG-HGUT-03697_genomic            \n",
       "921 GCA_902794455.1_Rumen_uncultured_genome_RUG13974_genomic\n",
       "    Fasta                                                                                                                                                                                              \n",
       "1   /ebio/abt3_projects/software/dev/ll_pipelines/llprimer/experiments/HMP_most-wanted/v0.3/Prevotella/genbank/bacteria/GCA_000025925.1/GCA_000025925.1_ASM2592v1_genomic.fna.gz                       \n",
       "2   /ebio/abt3_projects/software/dev/ll_pipelines/llprimer/experiments/HMP_most-wanted/v0.3/Prevotella/genbank/bacteria/GCA_000142965.1/GCA_000142965.1_ASM14296v1_genomic.fna.gz                      \n",
       "⋮   ⋮                                                                                                                                                                                                  \n",
       "920 /ebio/abt3_projects/software/dev/ll_pipelines/llprimer/experiments/HMP_most-wanted/v0.3/Prevotella/genbank/bacteria/GCA_902399905.1/GCA_902399905.1_UHGG_MGYG-HGUT-03697_genomic.fna.gz            \n",
       "921 /ebio/abt3_projects/software/dev/ll_pipelines/llprimer/experiments/HMP_most-wanted/v0.3/Prevotella/genbank/bacteria/GCA_902794455.1/GCA_902794455.1_Rumen_uncultured_genome_RUG13974_genomic.fna.gz\n",
       "    Domain   Taxid\n",
       "1   Bacteria 838  \n",
       "2   Bacteria 838  \n",
       "⋮   ⋮        ⋮    \n",
       "920 Bacteria 838  \n",
       "921 Bacteria 838  "
      ]
     },
     "metadata": {},
     "output_type": "display_data"
    },
    {
     "name": "stdout",
     "output_type": "stream",
     "text": [
      "File written: /ebio/abt3_projects/software/dev/ll_pipelines/llprimer/experiments/HMP_most-wanted/v0.3//Prevotella/genbank/samples.txt \n"
     ]
    }
   ],
   "source": [
    "D = file.path(base_dir, clade, 'genbank')\n",
    "files = list_files(D, '.fna.gz')\n",
    "samps = data.frame(Name = files %>% as.character %>% basename,\n",
    "                   Fasta = files,\n",
    "                   Domain = domain,\n",
    "                   Taxid = taxid) %>%\n",
    "    mutate(Name = gsub('\\\\.fna\\\\.gz$', '', Name),\n",
    "           Fasta = gsub('/+', '/', Fasta))\n",
    "samps\n",
    "\n",
    "# writing file\n",
    "outfile = file.path(D, 'samples.txt')\n",
    "write_table(samps, outfile)"
   ]
  },
  {
   "cell_type": "markdown",
   "metadata": {},
   "source": [
    "### LLG"
   ]
  },
  {
   "cell_type": "markdown",
   "metadata": {},
   "source": [
    "#### Config"
   ]
  },
  {
   "cell_type": "code",
   "execution_count": 10,
   "metadata": {
    "execution": {
     "iopub.execute_input": "2021-04-23T08:29:38.986628Z",
     "iopub.status.busy": "2021-04-23T08:29:38.984758Z",
     "iopub.status.idle": "2021-04-23T08:29:39.013064Z"
    }
   },
   "outputs": [
    {
     "name": "stdout",
     "output_type": "stream",
     "text": [
      "# table with genome --> fasta_file information\n",
      "samples_file: /ebio/abt3_projects/software/dev/ll_pipelines/llprimer/experiments/HMP_most-wanted/v0.3/Prevotella/genbank/samples.txt\n",
      "\n",
      "# output location\n",
      "output_dir: /ebio/abt3_projects/software/dev/ll_pipelines/llprimer/experiments/HMP_most-wanted/v0.3/Prevotella/LLG/\n",
      "\n",
      "# temporary file directory (your username will be added automatically)\n",
      "tmp_dir: /ebio/abt3_scratch/\n",
      "\n",
      "# batch processing of genomes for certain steps\n",
      "## increase to better parallelize\n",
      "batches: 2 \n",
      "\n",
      "# Domain of genomes ('Archaea' or 'Bacteria)\n",
      "## Use \"Skip\" if provided as a \"Domain\" column in the genome table\n",
      "Domain: Skip\n",
      "\n",
      "# software parameters\n",
      "# Use \"Skip\" to skip any of these steps. If no params for rule, use \"\"\n",
      "# dRep MAGs are not further analyzed, but you can de-rep & then use the de-rep genome table as input.\n",
      "params:\n",
      "  ionice: -c 3\n",
      "  # assembly assessment\n",
      "  seqkit: \"\"\n",
      "  quast: Skip #\"\"\n",
      "  multiqc_on_quast: \"\" \n",
      "  checkm: \"\"\n",
      "  # de-replication (requires checkm)\n",
      "  drep: -comp 90 -con 5 -sa 0.999\n",
      "  # taxonomy\n",
      "  sourmash:\n",
      "    compute: Skip #--scaled 10000 -k 31\n",
      "    gather: -k 31\n",
      "  gtdbtk:\n",
      "    classify_wf: --min_perc_aa 10\n",
      "  # genome pairwise ANI  \n",
      "  fastani: Skip #--fragLen 3000 --minFraction 0.2 -k 16\n",
      "  dashing: Skip #-k 31 --full-tsv\n",
      "  comparem_aai: Skip #--evalue 0.001\n",
      "  # gene annotation\n",
      "  gene_call:\n",
      "    prokka: Skip #\"\" \n",
      "    multiqc_on_prokka: \"\"\n",
      "    prodigal: Skip #\"\"\n",
      "  eggnog_mapper: \"\"\n",
      "  eggnog_mapper_annot: \"\"\n",
      "  # rRNA (16S alignment & phylogeny)\n",
      "  barrnap: Skip #--lencutoff 0.8\n",
      "  vsearch_per_genome_drep: --id 0.95    # Skip to prevent drep of 16S copies within each genome\n",
      "  qiime2_fasttree: \"\"\n",
      "  qiime2_iqtree: --p-alrt 1000 --p-abayes --p-lbp 1000  --p-substitution-model 'GTR+I+G'\n",
      "  # genome phylogeny\n",
      "  phylophlan_config: Skip #--map_dna diamond --db_aa diamond --map_aa diamond --msa mafft --trim trimal --tree1 fasttree --tree2 raxml\n",
      "  phylophlan: --diversity high --min_num_markers 50 --accurate\n",
      "  # phenotype\n",
      "  traitar: Skip #\"\"\n",
      "  # biosynthetic gene clusters (BGCs)\n",
      "  antismash: Skip #--cb-knownclusters --cb-subclusters --asf  \n",
      "  DeepBGC: Skip #--score 0.5 --classifier-score 0.5 --prodigal-meta-mode\n",
      "  # antimicrobial resistance (AMR)\n",
      "  abricate: Skip #--minid 75 --mincov 80\n",
      "  # CRISPRs\n",
      "  cctyper: Skip #--prodigal meta\n",
      "  \n",
      "# databases\n",
      "databases:\n",
      "  checkM_data: /ebio/abt3_projects/databases_no-backup/checkM/\n",
      "  sourmash: /ebio/abt3_projects/databases_no-backup/sourmash/genbank-k31.sbt.json\n",
      "  sourmash_lca: /ebio/abt3_projects/databases_no-backup/sourmash/genbank-k31.lca.json.gz\n",
      "  gtdbtk: /ebio/abt3_projects/databases_no-backup/GTDB/release95/gtdbtk/db_info.md\n",
      "  phylophlan: /ebio/abt3_projects/databases_no-backup/phylophlan/PhyloPhlan/phylophlan.faa.bz2\n",
      "  eggnog: /ebio/abt3_projects/databases_no-backup/Eggnog/v2/eggnog.db\n",
      "  eggnog_diamond: /ebio/abt3_projects/databases_no-backup/Eggnog/v2/eggnog_proteins.dmnd\n",
      "  antismash: /ebio/abt3_projects/databases_no-backup/antismash/v5/\n",
      "  deepbgc: /ebio/abt3_projects/databases_no-backup/DeepBGC/\n",
      "  traitar: /ebio/abt3_projects/databases_no-backup/pfam/traitar/\n",
      "  abricate:\n",
      "    ncbi: /ebio/abt3_projects/databases_no-backup/abricate/ncbi/sequences\n",
      "    card: /ebio/abt3_projects/databases_no-backup/abricate/card/sequences\n",
      "    resfinder: /ebio/abt3_projects/databases_no-backup/abricate/resfinder/sequences\n",
      "    argannot: /ebio/abt3_projects/databases_no-backup/abricate/argannot/sequences\n",
      "    bacmet2: /ebio/abt3_projects/databases_no-backup/abricate/bacmet2/sequences\n",
      "    vfdb: /ebio/abt3_projects/databases_no-backup/abricate/vfdb/sequences\n",
      "    megares: /ebio/abt3_projects/databases_no-backup/abricate/megares/sequences\n",
      "    plasmidfinder: /ebio/abt3_projects/databases_no-backup/abricate/plasmidfinder/sequences\n",
      "\n",
      "# snakemake pipeline\n",
      "pipeline:\n",
      "  snakemake_folder: ./\n",
      "  script_folder: ./bin/scripts/\n",
      "  use_shared_mem: True\n",
      "  name: LLG"
     ]
    }
   ],
   "source": [
    "cat_file(file.path(work_dir, 'LLG', 'config.yaml'))"
   ]
  },
  {
   "cell_type": "markdown",
   "metadata": {
    "execution": {
     "iopub.execute_input": "2021-01-12T13:14:50.416604Z",
     "iopub.status.busy": "2021-01-12T13:14:50.414179Z",
     "iopub.status.idle": "2021-01-12T13:14:50.431925Z",
     "shell.execute_reply": "2021-01-12T13:14:50.430260Z"
    }
   },
   "source": [
    "#### Run\n",
    "\n",
    "```\n",
    "(snakemake) @ rick:/ebio/abt3_projects/software/dev/ll_pipelines/llg\n",
    "$ screen -L -S llg ./snakemake_sge.sh /ebio/abt3_projects/software/dev/ll_pipelines/llprimer/experiments/HMP_most-wanted/v0.3/Prevotella/LLG/config.yaml 20 -F\n",
    "```"
   ]
  },
  {
   "cell_type": "markdown",
   "metadata": {},
   "source": [
    "### Samples table of high-quality genomes"
   ]
  },
  {
   "cell_type": "code",
   "execution_count": 36,
   "metadata": {
    "execution": {
     "iopub.execute_input": "2021-04-23T08:39:14.238992Z",
     "iopub.status.busy": "2021-04-23T08:39:14.236227Z",
     "iopub.status.idle": "2021-04-23T08:39:14.349232Z"
    }
   },
   "outputs": [
    {
     "data": {
      "text/html": [
       "<table>\n",
       "<caption>A data.frame: 921 × 33</caption>\n",
       "<thead>\n",
       "\t<tr><th scope=col>Bin.Id</th><th scope=col>Marker.lineage</th><th scope=col>X..genomes</th><th scope=col>X..markers</th><th scope=col>X..marker.sets</th><th scope=col>Completeness</th><th scope=col>Contamination</th><th scope=col>Strain.heterogeneity</th><th scope=col>Genome.size..bp.</th><th scope=col>X..ambiguous.bases</th><th scope=col>⋯</th><th scope=col>X0</th><th scope=col>X1</th><th scope=col>X2</th><th scope=col>X3</th><th scope=col>X4</th><th scope=col>X5.</th><th scope=col>assembly.Id</th><th scope=col>assembler.Id</th><th scope=col>taxon.Id</th><th scope=col>File</th></tr>\n",
       "\t<tr><th scope=col>&lt;fct&gt;</th><th scope=col>&lt;fct&gt;</th><th scope=col>&lt;int&gt;</th><th scope=col>&lt;int&gt;</th><th scope=col>&lt;int&gt;</th><th scope=col>&lt;dbl&gt;</th><th scope=col>&lt;dbl&gt;</th><th scope=col>&lt;dbl&gt;</th><th scope=col>&lt;int&gt;</th><th scope=col>&lt;int&gt;</th><th scope=col>⋯</th><th scope=col>&lt;int&gt;</th><th scope=col>&lt;int&gt;</th><th scope=col>&lt;int&gt;</th><th scope=col>&lt;int&gt;</th><th scope=col>&lt;int&gt;</th><th scope=col>&lt;int&gt;</th><th scope=col>&lt;fct&gt;</th><th scope=col>&lt;fct&gt;</th><th scope=col>&lt;lgl&gt;</th><th scope=col>&lt;fct&gt;</th></tr>\n",
       "</thead>\n",
       "<tbody>\n",
       "\t<tr><td>GCA_000025925.1_ASM2592v1_genomic </td><td>o__Bacteroidales (UID2716)</td><td>92</td><td>486</td><td>270</td><td>99.63</td><td>0.37</td><td>100</td><td>3619559</td><td>0</td><td>⋯</td><td>1</td><td>484</td><td>1</td><td>0</td><td>0</td><td>0</td><td>|ebio|abt3_projects|software|dev|ll_pipelines|llprimer|experiments|HMP_most-wanted|Prevotella|LLG_output|checkM|1|checkm|markers_qa_summary.tsv.1</td><td>markers_qa_summary.tsv.1</td><td>NA</td><td>/ebio/abt3_projects/software/dev/ll_pipelines/llprimer/experiments/HMP_most-wanted/Prevotella/LLG_output/checkM/1/checkm/markers_qa_summary.tsv.1</td></tr>\n",
       "\t<tr><td>GCA_000144405.1_ASM14440v1_genomic</td><td>g__Prevotella (UID2724)   </td><td>55</td><td>567</td><td>296</td><td>99.32</td><td>0.00</td><td>  0</td><td>3168282</td><td>0</td><td>⋯</td><td>2</td><td>565</td><td>0</td><td>0</td><td>0</td><td>0</td><td>|ebio|abt3_projects|software|dev|ll_pipelines|llprimer|experiments|HMP_most-wanted|Prevotella|LLG_output|checkM|1|checkm|markers_qa_summary.tsv.2</td><td>markers_qa_summary.tsv.2</td><td>NA</td><td>/ebio/abt3_projects/software/dev/ll_pipelines/llprimer/experiments/HMP_most-wanted/Prevotella/LLG_output/checkM/1/checkm/markers_qa_summary.tsv.2</td></tr>\n",
       "\t<tr><td>⋮</td><td>⋮</td><td>⋮</td><td>⋮</td><td>⋮</td><td>⋮</td><td>⋮</td><td>⋮</td><td>⋮</td><td>⋮</td><td>⋱</td><td>⋮</td><td>⋮</td><td>⋮</td><td>⋮</td><td>⋮</td><td>⋮</td><td>⋮</td><td>⋮</td><td>⋮</td><td>⋮</td></tr>\n",
       "\t<tr><td>GCA_902386825.1_UHGG_MGYG-HGUT-02412_genomic</td><td>o__Bacteroidales (UID2657)</td><td>160</td><td>492</td><td>269</td><td>97.58</td><td>0.00</td><td> 0.00</td><td>3475353</td><td>3078</td><td>⋯</td><td>7</td><td>485</td><td>0</td><td>0</td><td>0</td><td>0</td><td>|ebio|abt3_projects|software|dev|ll_pipelines|llprimer|experiments|HMP_most-wanted|Prevotella|LLG_output|checkM|2|checkm|markers_qa_summary.tsv.459</td><td>markers_qa_summary.tsv.459</td><td>NA</td><td>/ebio/abt3_projects/software/dev/ll_pipelines/llprimer/experiments/HMP_most-wanted/Prevotella/LLG_output/checkM/2/checkm/markers_qa_summary.tsv.459</td></tr>\n",
       "\t<tr><td>GCA_902399905.1_UHGG_MGYG-HGUT-03697_genomic</td><td>g__Prevotella (UID2724)   </td><td> 55</td><td>567</td><td>296</td><td>98.14</td><td>1.46</td><td>28.57</td><td>3900702</td><td> 818</td><td>⋯</td><td>7</td><td>553</td><td>7</td><td>0</td><td>0</td><td>0</td><td>|ebio|abt3_projects|software|dev|ll_pipelines|llprimer|experiments|HMP_most-wanted|Prevotella|LLG_output|checkM|2|checkm|markers_qa_summary.tsv.460</td><td>markers_qa_summary.tsv.460</td><td>NA</td><td>/ebio/abt3_projects/software/dev/ll_pipelines/llprimer/experiments/HMP_most-wanted/Prevotella/LLG_output/checkM/2/checkm/markers_qa_summary.tsv.460</td></tr>\n",
       "</tbody>\n",
       "</table>\n"
      ],
      "text/latex": [
       "A data.frame: 921 × 33\n",
       "\\begin{tabular}{lllllllllllllllllllll}\n",
       " Bin.Id & Marker.lineage & X..genomes & X..markers & X..marker.sets & Completeness & Contamination & Strain.heterogeneity & Genome.size..bp. & X..ambiguous.bases & ⋯ & X0 & X1 & X2 & X3 & X4 & X5. & assembly.Id & assembler.Id & taxon.Id & File\\\\\n",
       " <fct> & <fct> & <int> & <int> & <int> & <dbl> & <dbl> & <dbl> & <int> & <int> & ⋯ & <int> & <int> & <int> & <int> & <int> & <int> & <fct> & <fct> & <lgl> & <fct>\\\\\n",
       "\\hline\n",
       "\t GCA\\_000025925.1\\_ASM2592v1\\_genomic  & o\\_\\_Bacteroidales (UID2716) & 92 & 486 & 270 & 99.63 & 0.37 & 100 & 3619559 & 0 & ⋯ & 1 & 484 & 1 & 0 & 0 & 0 & \\textbar{}ebio\\textbar{}abt3\\_projects\\textbar{}software\\textbar{}dev\\textbar{}ll\\_pipelines\\textbar{}llprimer\\textbar{}experiments\\textbar{}HMP\\_most-wanted\\textbar{}Prevotella\\textbar{}LLG\\_output\\textbar{}checkM\\textbar{}1\\textbar{}checkm\\textbar{}markers\\_qa\\_summary.tsv.1 & markers\\_qa\\_summary.tsv.1 & NA & /ebio/abt3\\_projects/software/dev/ll\\_pipelines/llprimer/experiments/HMP\\_most-wanted/Prevotella/LLG\\_output/checkM/1/checkm/markers\\_qa\\_summary.tsv.1\\\\\n",
       "\t GCA\\_000144405.1\\_ASM14440v1\\_genomic & g\\_\\_Prevotella (UID2724)    & 55 & 567 & 296 & 99.32 & 0.00 &   0 & 3168282 & 0 & ⋯ & 2 & 565 & 0 & 0 & 0 & 0 & \\textbar{}ebio\\textbar{}abt3\\_projects\\textbar{}software\\textbar{}dev\\textbar{}ll\\_pipelines\\textbar{}llprimer\\textbar{}experiments\\textbar{}HMP\\_most-wanted\\textbar{}Prevotella\\textbar{}LLG\\_output\\textbar{}checkM\\textbar{}1\\textbar{}checkm\\textbar{}markers\\_qa\\_summary.tsv.2 & markers\\_qa\\_summary.tsv.2 & NA & /ebio/abt3\\_projects/software/dev/ll\\_pipelines/llprimer/experiments/HMP\\_most-wanted/Prevotella/LLG\\_output/checkM/1/checkm/markers\\_qa\\_summary.tsv.2\\\\\n",
       "\t ⋮ & ⋮ & ⋮ & ⋮ & ⋮ & ⋮ & ⋮ & ⋮ & ⋮ & ⋮ & ⋱ & ⋮ & ⋮ & ⋮ & ⋮ & ⋮ & ⋮ & ⋮ & ⋮ & ⋮ & ⋮\\\\\n",
       "\t GCA\\_902386825.1\\_UHGG\\_MGYG-HGUT-02412\\_genomic & o\\_\\_Bacteroidales (UID2657) & 160 & 492 & 269 & 97.58 & 0.00 &  0.00 & 3475353 & 3078 & ⋯ & 7 & 485 & 0 & 0 & 0 & 0 & \\textbar{}ebio\\textbar{}abt3\\_projects\\textbar{}software\\textbar{}dev\\textbar{}ll\\_pipelines\\textbar{}llprimer\\textbar{}experiments\\textbar{}HMP\\_most-wanted\\textbar{}Prevotella\\textbar{}LLG\\_output\\textbar{}checkM\\textbar{}2\\textbar{}checkm\\textbar{}markers\\_qa\\_summary.tsv.459 & markers\\_qa\\_summary.tsv.459 & NA & /ebio/abt3\\_projects/software/dev/ll\\_pipelines/llprimer/experiments/HMP\\_most-wanted/Prevotella/LLG\\_output/checkM/2/checkm/markers\\_qa\\_summary.tsv.459\\\\\n",
       "\t GCA\\_902399905.1\\_UHGG\\_MGYG-HGUT-03697\\_genomic & g\\_\\_Prevotella (UID2724)    &  55 & 567 & 296 & 98.14 & 1.46 & 28.57 & 3900702 &  818 & ⋯ & 7 & 553 & 7 & 0 & 0 & 0 & \\textbar{}ebio\\textbar{}abt3\\_projects\\textbar{}software\\textbar{}dev\\textbar{}ll\\_pipelines\\textbar{}llprimer\\textbar{}experiments\\textbar{}HMP\\_most-wanted\\textbar{}Prevotella\\textbar{}LLG\\_output\\textbar{}checkM\\textbar{}2\\textbar{}checkm\\textbar{}markers\\_qa\\_summary.tsv.460 & markers\\_qa\\_summary.tsv.460 & NA & /ebio/abt3\\_projects/software/dev/ll\\_pipelines/llprimer/experiments/HMP\\_most-wanted/Prevotella/LLG\\_output/checkM/2/checkm/markers\\_qa\\_summary.tsv.460\\\\\n",
       "\\end{tabular}\n"
      ],
      "text/markdown": [
       "\n",
       "A data.frame: 921 × 33\n",
       "\n",
       "| Bin.Id &lt;fct&gt; | Marker.lineage &lt;fct&gt; | X..genomes &lt;int&gt; | X..markers &lt;int&gt; | X..marker.sets &lt;int&gt; | Completeness &lt;dbl&gt; | Contamination &lt;dbl&gt; | Strain.heterogeneity &lt;dbl&gt; | Genome.size..bp. &lt;int&gt; | X..ambiguous.bases &lt;int&gt; | ⋯ ⋯ | X0 &lt;int&gt; | X1 &lt;int&gt; | X2 &lt;int&gt; | X3 &lt;int&gt; | X4 &lt;int&gt; | X5. &lt;int&gt; | assembly.Id &lt;fct&gt; | assembler.Id &lt;fct&gt; | taxon.Id &lt;lgl&gt; | File &lt;fct&gt; |\n",
       "|---|---|---|---|---|---|---|---|---|---|---|---|---|---|---|---|---|---|---|---|---|\n",
       "| GCA_000025925.1_ASM2592v1_genomic  | o__Bacteroidales (UID2716) | 92 | 486 | 270 | 99.63 | 0.37 | 100 | 3619559 | 0 | ⋯ | 1 | 484 | 1 | 0 | 0 | 0 | |ebio|abt3_projects|software|dev|ll_pipelines|llprimer|experiments|HMP_most-wanted|Prevotella|LLG_output|checkM|1|checkm|markers_qa_summary.tsv.1 | markers_qa_summary.tsv.1 | NA | /ebio/abt3_projects/software/dev/ll_pipelines/llprimer/experiments/HMP_most-wanted/Prevotella/LLG_output/checkM/1/checkm/markers_qa_summary.tsv.1 |\n",
       "| GCA_000144405.1_ASM14440v1_genomic | g__Prevotella (UID2724)    | 55 | 567 | 296 | 99.32 | 0.00 |   0 | 3168282 | 0 | ⋯ | 2 | 565 | 0 | 0 | 0 | 0 | |ebio|abt3_projects|software|dev|ll_pipelines|llprimer|experiments|HMP_most-wanted|Prevotella|LLG_output|checkM|1|checkm|markers_qa_summary.tsv.2 | markers_qa_summary.tsv.2 | NA | /ebio/abt3_projects/software/dev/ll_pipelines/llprimer/experiments/HMP_most-wanted/Prevotella/LLG_output/checkM/1/checkm/markers_qa_summary.tsv.2 |\n",
       "| ⋮ | ⋮ | ⋮ | ⋮ | ⋮ | ⋮ | ⋮ | ⋮ | ⋮ | ⋮ | ⋱ | ⋮ | ⋮ | ⋮ | ⋮ | ⋮ | ⋮ | ⋮ | ⋮ | ⋮ | ⋮ |\n",
       "| GCA_902386825.1_UHGG_MGYG-HGUT-02412_genomic | o__Bacteroidales (UID2657) | 160 | 492 | 269 | 97.58 | 0.00 |  0.00 | 3475353 | 3078 | ⋯ | 7 | 485 | 0 | 0 | 0 | 0 | |ebio|abt3_projects|software|dev|ll_pipelines|llprimer|experiments|HMP_most-wanted|Prevotella|LLG_output|checkM|2|checkm|markers_qa_summary.tsv.459 | markers_qa_summary.tsv.459 | NA | /ebio/abt3_projects/software/dev/ll_pipelines/llprimer/experiments/HMP_most-wanted/Prevotella/LLG_output/checkM/2/checkm/markers_qa_summary.tsv.459 |\n",
       "| GCA_902399905.1_UHGG_MGYG-HGUT-03697_genomic | g__Prevotella (UID2724)    |  55 | 567 | 296 | 98.14 | 1.46 | 28.57 | 3900702 |  818 | ⋯ | 7 | 553 | 7 | 0 | 0 | 0 | |ebio|abt3_projects|software|dev|ll_pipelines|llprimer|experiments|HMP_most-wanted|Prevotella|LLG_output|checkM|2|checkm|markers_qa_summary.tsv.460 | markers_qa_summary.tsv.460 | NA | /ebio/abt3_projects/software/dev/ll_pipelines/llprimer/experiments/HMP_most-wanted/Prevotella/LLG_output/checkM/2/checkm/markers_qa_summary.tsv.460 |\n",
       "\n"
      ],
      "text/plain": [
       "    Bin.Id                                       Marker.lineage            \n",
       "1   GCA_000025925.1_ASM2592v1_genomic            o__Bacteroidales (UID2716)\n",
       "2   GCA_000144405.1_ASM14440v1_genomic           g__Prevotella (UID2724)   \n",
       "⋮   ⋮                                            ⋮                         \n",
       "920 GCA_902386825.1_UHGG_MGYG-HGUT-02412_genomic o__Bacteroidales (UID2657)\n",
       "921 GCA_902399905.1_UHGG_MGYG-HGUT-03697_genomic g__Prevotella (UID2724)   \n",
       "    X..genomes X..markers X..marker.sets Completeness Contamination\n",
       "1   92         486        270            99.63        0.37         \n",
       "2   55         567        296            99.32        0.00         \n",
       "⋮   ⋮          ⋮          ⋮              ⋮            ⋮            \n",
       "920 160        492        269            97.58        0.00         \n",
       "921  55        567        296            98.14        1.46         \n",
       "    Strain.heterogeneity Genome.size..bp. X..ambiguous.bases ⋯ X0 X1  X2 X3 X4\n",
       "1   100                  3619559          0                  ⋯ 1  484 1  0  0 \n",
       "2     0                  3168282          0                  ⋯ 2  565 0  0  0 \n",
       "⋮   ⋮                    ⋮                ⋮                  ⋱ ⋮  ⋮   ⋮  ⋮  ⋮ \n",
       "920  0.00                3475353          3078               ⋯ 7  485 0  0  0 \n",
       "921 28.57                3900702           818               ⋯ 7  553 7  0  0 \n",
       "    X5.\n",
       "1   0  \n",
       "2   0  \n",
       "⋮   ⋮  \n",
       "920 0  \n",
       "921 0  \n",
       "    assembly.Id                                                                                                                                        \n",
       "1   |ebio|abt3_projects|software|dev|ll_pipelines|llprimer|experiments|HMP_most-wanted|Prevotella|LLG_output|checkM|1|checkm|markers_qa_summary.tsv.1  \n",
       "2   |ebio|abt3_projects|software|dev|ll_pipelines|llprimer|experiments|HMP_most-wanted|Prevotella|LLG_output|checkM|1|checkm|markers_qa_summary.tsv.2  \n",
       "⋮   ⋮                                                                                                                                                  \n",
       "920 |ebio|abt3_projects|software|dev|ll_pipelines|llprimer|experiments|HMP_most-wanted|Prevotella|LLG_output|checkM|2|checkm|markers_qa_summary.tsv.459\n",
       "921 |ebio|abt3_projects|software|dev|ll_pipelines|llprimer|experiments|HMP_most-wanted|Prevotella|LLG_output|checkM|2|checkm|markers_qa_summary.tsv.460\n",
       "    assembler.Id               taxon.Id\n",
       "1   markers_qa_summary.tsv.1   NA      \n",
       "2   markers_qa_summary.tsv.2   NA      \n",
       "⋮   ⋮                          ⋮       \n",
       "920 markers_qa_summary.tsv.459 NA      \n",
       "921 markers_qa_summary.tsv.460 NA      \n",
       "    File                                                                                                                                               \n",
       "1   /ebio/abt3_projects/software/dev/ll_pipelines/llprimer/experiments/HMP_most-wanted/Prevotella/LLG_output/checkM/1/checkm/markers_qa_summary.tsv.1  \n",
       "2   /ebio/abt3_projects/software/dev/ll_pipelines/llprimer/experiments/HMP_most-wanted/Prevotella/LLG_output/checkM/1/checkm/markers_qa_summary.tsv.2  \n",
       "⋮   ⋮                                                                                                                                                  \n",
       "920 /ebio/abt3_projects/software/dev/ll_pipelines/llprimer/experiments/HMP_most-wanted/Prevotella/LLG_output/checkM/2/checkm/markers_qa_summary.tsv.459\n",
       "921 /ebio/abt3_projects/software/dev/ll_pipelines/llprimer/experiments/HMP_most-wanted/Prevotella/LLG_output/checkM/2/checkm/markers_qa_summary.tsv.460"
      ]
     },
     "metadata": {},
     "output_type": "display_data"
    }
   ],
   "source": [
    "# checkM summary\n",
    "checkm = file.path(work_dir, 'LLG', 'checkM', 'checkm_qa_summary.tsv') %>%\n",
    "    read.delim(sep='\\t') \n",
    "checkm"
   ]
  },
  {
   "cell_type": "code",
   "execution_count": 37,
   "metadata": {
    "execution": {
     "iopub.execute_input": "2021-04-23T08:39:14.560636Z",
     "iopub.status.busy": "2021-04-23T08:39:14.547569Z",
     "iopub.status.idle": "2021-04-23T08:39:14.614804Z"
    }
   },
   "outputs": [
    {
     "data": {
      "text/html": [
       "<table>\n",
       "<caption>A data.frame: 921 × 4</caption>\n",
       "<thead>\n",
       "\t<tr><th scope=col>genome</th><th scope=col>completeness</th><th scope=col>contamination</th><th scope=col>Bin.Id</th></tr>\n",
       "\t<tr><th scope=col>&lt;fct&gt;</th><th scope=col>&lt;dbl&gt;</th><th scope=col>&lt;dbl&gt;</th><th scope=col>&lt;chr&gt;</th></tr>\n",
       "</thead>\n",
       "<tbody>\n",
       "\t<tr><td>/ebio/abt3_scratch/nyoungblut/LLG_62325884640/genomes/GCA_000025925.1_ASM2592v1_genomic.fna </td><td>99.63</td><td>0.37</td><td>GCA_000025925.1_ASM2592v1_genomic </td></tr>\n",
       "\t<tr><td>/ebio/abt3_scratch/nyoungblut/LLG_62325884640/genomes/GCA_000144405.1_ASM14440v1_genomic.fna</td><td>99.32</td><td>0.00</td><td>GCA_000144405.1_ASM14440v1_genomic</td></tr>\n",
       "\t<tr><td>⋮</td><td>⋮</td><td>⋮</td><td>⋮</td></tr>\n",
       "\t<tr><td>/ebio/abt3_scratch/nyoungblut/LLG_62325884640/genomes/GCA_902386825.1_UHGG_MGYG-HGUT-02412_genomic.fna</td><td>97.58</td><td>0.00</td><td>GCA_902386825.1_UHGG_MGYG-HGUT-02412_genomic</td></tr>\n",
       "\t<tr><td>/ebio/abt3_scratch/nyoungblut/LLG_62325884640/genomes/GCA_902399905.1_UHGG_MGYG-HGUT-03697_genomic.fna</td><td>98.14</td><td>1.46</td><td>GCA_902399905.1_UHGG_MGYG-HGUT-03697_genomic</td></tr>\n",
       "</tbody>\n",
       "</table>\n"
      ],
      "text/latex": [
       "A data.frame: 921 × 4\n",
       "\\begin{tabular}{llll}\n",
       " genome & completeness & contamination & Bin.Id\\\\\n",
       " <fct> & <dbl> & <dbl> & <chr>\\\\\n",
       "\\hline\n",
       "\t /ebio/abt3\\_scratch/nyoungblut/LLG\\_62325884640/genomes/GCA\\_000025925.1\\_ASM2592v1\\_genomic.fna  & 99.63 & 0.37 & GCA\\_000025925.1\\_ASM2592v1\\_genomic \\\\\n",
       "\t /ebio/abt3\\_scratch/nyoungblut/LLG\\_62325884640/genomes/GCA\\_000144405.1\\_ASM14440v1\\_genomic.fna & 99.32 & 0.00 & GCA\\_000144405.1\\_ASM14440v1\\_genomic\\\\\n",
       "\t ⋮ & ⋮ & ⋮ & ⋮\\\\\n",
       "\t /ebio/abt3\\_scratch/nyoungblut/LLG\\_62325884640/genomes/GCA\\_902386825.1\\_UHGG\\_MGYG-HGUT-02412\\_genomic.fna & 97.58 & 0.00 & GCA\\_902386825.1\\_UHGG\\_MGYG-HGUT-02412\\_genomic\\\\\n",
       "\t /ebio/abt3\\_scratch/nyoungblut/LLG\\_62325884640/genomes/GCA\\_902399905.1\\_UHGG\\_MGYG-HGUT-03697\\_genomic.fna & 98.14 & 1.46 & GCA\\_902399905.1\\_UHGG\\_MGYG-HGUT-03697\\_genomic\\\\\n",
       "\\end{tabular}\n"
      ],
      "text/markdown": [
       "\n",
       "A data.frame: 921 × 4\n",
       "\n",
       "| genome &lt;fct&gt; | completeness &lt;dbl&gt; | contamination &lt;dbl&gt; | Bin.Id &lt;chr&gt; |\n",
       "|---|---|---|---|\n",
       "| /ebio/abt3_scratch/nyoungblut/LLG_62325884640/genomes/GCA_000025925.1_ASM2592v1_genomic.fna  | 99.63 | 0.37 | GCA_000025925.1_ASM2592v1_genomic  |\n",
       "| /ebio/abt3_scratch/nyoungblut/LLG_62325884640/genomes/GCA_000144405.1_ASM14440v1_genomic.fna | 99.32 | 0.00 | GCA_000144405.1_ASM14440v1_genomic |\n",
       "| ⋮ | ⋮ | ⋮ | ⋮ |\n",
       "| /ebio/abt3_scratch/nyoungblut/LLG_62325884640/genomes/GCA_902386825.1_UHGG_MGYG-HGUT-02412_genomic.fna | 97.58 | 0.00 | GCA_902386825.1_UHGG_MGYG-HGUT-02412_genomic |\n",
       "| /ebio/abt3_scratch/nyoungblut/LLG_62325884640/genomes/GCA_902399905.1_UHGG_MGYG-HGUT-03697_genomic.fna | 98.14 | 1.46 | GCA_902399905.1_UHGG_MGYG-HGUT-03697_genomic |\n",
       "\n"
      ],
      "text/plain": [
       "    genome                                                                                                \n",
       "1   /ebio/abt3_scratch/nyoungblut/LLG_62325884640/genomes/GCA_000025925.1_ASM2592v1_genomic.fna           \n",
       "2   /ebio/abt3_scratch/nyoungblut/LLG_62325884640/genomes/GCA_000144405.1_ASM14440v1_genomic.fna          \n",
       "⋮   ⋮                                                                                                     \n",
       "920 /ebio/abt3_scratch/nyoungblut/LLG_62325884640/genomes/GCA_902386825.1_UHGG_MGYG-HGUT-02412_genomic.fna\n",
       "921 /ebio/abt3_scratch/nyoungblut/LLG_62325884640/genomes/GCA_902399905.1_UHGG_MGYG-HGUT-03697_genomic.fna\n",
       "    completeness contamination Bin.Id                                      \n",
       "1   99.63        0.37          GCA_000025925.1_ASM2592v1_genomic           \n",
       "2   99.32        0.00          GCA_000144405.1_ASM14440v1_genomic          \n",
       "⋮   ⋮            ⋮             ⋮                                           \n",
       "920 97.58        0.00          GCA_902386825.1_UHGG_MGYG-HGUT-02412_genomic\n",
       "921 98.14        1.46          GCA_902399905.1_UHGG_MGYG-HGUT-03697_genomic"
      ]
     },
     "metadata": {},
     "output_type": "display_data"
    }
   ],
   "source": [
    "# dRep summary\n",
    "drep = file.path(work_dir, 'LLG', 'drep', 'checkm_markers_qa_summary.tsv') %>%\n",
    "    read.delim(sep='\\t') %>%\n",
    "    mutate(Bin.Id = gsub('.+/', '', genome),\n",
    "           Bin.Id = gsub('\\\\.fna$', '', Bin.Id))\n",
    "drep"
   ]
  },
  {
   "cell_type": "code",
   "execution_count": 38,
   "metadata": {
    "execution": {
     "iopub.execute_input": "2021-04-23T08:39:14.729191Z",
     "iopub.status.busy": "2021-04-23T08:39:14.726751Z",
     "iopub.status.idle": "2021-04-23T08:39:14.776645Z"
    }
   },
   "outputs": [
    {
     "data": {
      "text/html": [
       "<table>\n",
       "<caption>A data.frame: 458 × 2</caption>\n",
       "<thead>\n",
       "\t<tr><th scope=col>Name</th><th scope=col>Fasta</th></tr>\n",
       "\t<tr><th scope=col>&lt;fct&gt;</th><th scope=col>&lt;fct&gt;</th></tr>\n",
       "</thead>\n",
       "<tbody>\n",
       "\t<tr><td>GCA_002342585.1_ASM234258v1_genomic</td><td>/ebio/abt3_projects/software/dev/ll_pipelines/llprimer/experiments/HMP_most-wanted/v0.3/Prevotella/LLG/drep/drep/dereplicated_genomes/GCA_002342585.1_ASM234258v1_genomic.fna</td></tr>\n",
       "\t<tr><td>GCA_002449845.1_ASM244984v1_genomic</td><td>/ebio/abt3_projects/software/dev/ll_pipelines/llprimer/experiments/HMP_most-wanted/v0.3/Prevotella/LLG/drep/drep/dereplicated_genomes/GCA_002449845.1_ASM244984v1_genomic.fna</td></tr>\n",
       "\t<tr><td>⋮</td><td>⋮</td></tr>\n",
       "\t<tr><td>GCA_000437495.1_MGS485_genomic     </td><td>/ebio/abt3_projects/software/dev/ll_pipelines/llprimer/experiments/HMP_most-wanted/v0.3/Prevotella/LLG/drep/drep/dereplicated_genomes/GCA_000437495.1_MGS485_genomic.fna     </td></tr>\n",
       "\t<tr><td>GCA_002297545.1_ASM229754v1_genomic</td><td>/ebio/abt3_projects/software/dev/ll_pipelines/llprimer/experiments/HMP_most-wanted/v0.3/Prevotella/LLG/drep/drep/dereplicated_genomes/GCA_002297545.1_ASM229754v1_genomic.fna</td></tr>\n",
       "</tbody>\n",
       "</table>\n"
      ],
      "text/latex": [
       "A data.frame: 458 × 2\n",
       "\\begin{tabular}{ll}\n",
       " Name & Fasta\\\\\n",
       " <fct> & <fct>\\\\\n",
       "\\hline\n",
       "\t GCA\\_002342585.1\\_ASM234258v1\\_genomic & /ebio/abt3\\_projects/software/dev/ll\\_pipelines/llprimer/experiments/HMP\\_most-wanted/v0.3/Prevotella/LLG/drep/drep/dereplicated\\_genomes/GCA\\_002342585.1\\_ASM234258v1\\_genomic.fna\\\\\n",
       "\t GCA\\_002449845.1\\_ASM244984v1\\_genomic & /ebio/abt3\\_projects/software/dev/ll\\_pipelines/llprimer/experiments/HMP\\_most-wanted/v0.3/Prevotella/LLG/drep/drep/dereplicated\\_genomes/GCA\\_002449845.1\\_ASM244984v1\\_genomic.fna\\\\\n",
       "\t ⋮ & ⋮\\\\\n",
       "\t GCA\\_000437495.1\\_MGS485\\_genomic      & /ebio/abt3\\_projects/software/dev/ll\\_pipelines/llprimer/experiments/HMP\\_most-wanted/v0.3/Prevotella/LLG/drep/drep/dereplicated\\_genomes/GCA\\_000437495.1\\_MGS485\\_genomic.fna     \\\\\n",
       "\t GCA\\_002297545.1\\_ASM229754v1\\_genomic & /ebio/abt3\\_projects/software/dev/ll\\_pipelines/llprimer/experiments/HMP\\_most-wanted/v0.3/Prevotella/LLG/drep/drep/dereplicated\\_genomes/GCA\\_002297545.1\\_ASM229754v1\\_genomic.fna\\\\\n",
       "\\end{tabular}\n"
      ],
      "text/markdown": [
       "\n",
       "A data.frame: 458 × 2\n",
       "\n",
       "| Name &lt;fct&gt; | Fasta &lt;fct&gt; |\n",
       "|---|---|\n",
       "| GCA_002342585.1_ASM234258v1_genomic | /ebio/abt3_projects/software/dev/ll_pipelines/llprimer/experiments/HMP_most-wanted/v0.3/Prevotella/LLG/drep/drep/dereplicated_genomes/GCA_002342585.1_ASM234258v1_genomic.fna |\n",
       "| GCA_002449845.1_ASM244984v1_genomic | /ebio/abt3_projects/software/dev/ll_pipelines/llprimer/experiments/HMP_most-wanted/v0.3/Prevotella/LLG/drep/drep/dereplicated_genomes/GCA_002449845.1_ASM244984v1_genomic.fna |\n",
       "| ⋮ | ⋮ |\n",
       "| GCA_000437495.1_MGS485_genomic      | /ebio/abt3_projects/software/dev/ll_pipelines/llprimer/experiments/HMP_most-wanted/v0.3/Prevotella/LLG/drep/drep/dereplicated_genomes/GCA_000437495.1_MGS485_genomic.fna      |\n",
       "| GCA_002297545.1_ASM229754v1_genomic | /ebio/abt3_projects/software/dev/ll_pipelines/llprimer/experiments/HMP_most-wanted/v0.3/Prevotella/LLG/drep/drep/dereplicated_genomes/GCA_002297545.1_ASM229754v1_genomic.fna |\n",
       "\n"
      ],
      "text/plain": [
       "    Name                               \n",
       "1   GCA_002342585.1_ASM234258v1_genomic\n",
       "2   GCA_002449845.1_ASM244984v1_genomic\n",
       "⋮   ⋮                                  \n",
       "457 GCA_000437495.1_MGS485_genomic     \n",
       "458 GCA_002297545.1_ASM229754v1_genomic\n",
       "    Fasta                                                                                                                                                                        \n",
       "1   /ebio/abt3_projects/software/dev/ll_pipelines/llprimer/experiments/HMP_most-wanted/v0.3/Prevotella/LLG/drep/drep/dereplicated_genomes/GCA_002342585.1_ASM234258v1_genomic.fna\n",
       "2   /ebio/abt3_projects/software/dev/ll_pipelines/llprimer/experiments/HMP_most-wanted/v0.3/Prevotella/LLG/drep/drep/dereplicated_genomes/GCA_002449845.1_ASM244984v1_genomic.fna\n",
       "⋮   ⋮                                                                                                                                                                            \n",
       "457 /ebio/abt3_projects/software/dev/ll_pipelines/llprimer/experiments/HMP_most-wanted/v0.3/Prevotella/LLG/drep/drep/dereplicated_genomes/GCA_000437495.1_MGS485_genomic.fna     \n",
       "458 /ebio/abt3_projects/software/dev/ll_pipelines/llprimer/experiments/HMP_most-wanted/v0.3/Prevotella/LLG/drep/drep/dereplicated_genomes/GCA_002297545.1_ASM229754v1_genomic.fna"
      ]
     },
     "metadata": {},
     "output_type": "display_data"
    }
   ],
   "source": [
    "# de-replicated genomes\n",
    "drep_gen = file.path(work_dir, 'LLG', 'drep', 'dereplicated_genomes.tsv') %>%\n",
    "    read.delim(sep='\\t')\n",
    "drep_gen"
   ]
  },
  {
   "cell_type": "code",
   "execution_count": 39,
   "metadata": {
    "execution": {
     "iopub.execute_input": "2021-04-23T08:39:15.285507Z",
     "iopub.status.busy": "2021-04-23T08:39:15.283357Z",
     "iopub.status.idle": "2021-04-23T08:39:15.491403Z"
    }
   },
   "outputs": [
    {
     "data": {
      "text/html": [
       "<table>\n",
       "<caption>A data.frame: 921 × 22</caption>\n",
       "<thead>\n",
       "\t<tr><th scope=col>user_genome</th><th scope=col>Domain</th><th scope=col>Phylum</th><th scope=col>Class</th><th scope=col>Order</th><th scope=col>Family</th><th scope=col>Genus</th><th scope=col>Species</th><th scope=col>fastani_reference</th><th scope=col>fastani_reference_radius</th><th scope=col>⋯</th><th scope=col>fastani_af</th><th scope=col>closest_placement_reference</th><th scope=col>closest_placement_radius</th><th scope=col>closest_placement_taxonomy</th><th scope=col>closest_placement_ani</th><th scope=col>closest_placement_af</th><th scope=col>msa_percent</th><th scope=col>translation_table</th><th scope=col>red_value</th><th scope=col>warnings</th></tr>\n",
       "\t<tr><th scope=col>&lt;fct&gt;</th><th scope=col>&lt;chr&gt;</th><th scope=col>&lt;chr&gt;</th><th scope=col>&lt;chr&gt;</th><th scope=col>&lt;chr&gt;</th><th scope=col>&lt;chr&gt;</th><th scope=col>&lt;chr&gt;</th><th scope=col>&lt;chr&gt;</th><th scope=col>&lt;fct&gt;</th><th scope=col>&lt;fct&gt;</th><th scope=col>⋯</th><th scope=col>&lt;fct&gt;</th><th scope=col>&lt;fct&gt;</th><th scope=col>&lt;fct&gt;</th><th scope=col>&lt;fct&gt;</th><th scope=col>&lt;fct&gt;</th><th scope=col>&lt;fct&gt;</th><th scope=col>&lt;dbl&gt;</th><th scope=col>&lt;int&gt;</th><th scope=col>&lt;fct&gt;</th><th scope=col>&lt;fct&gt;</th></tr>\n",
       "</thead>\n",
       "<tbody>\n",
       "\t<tr><td>GCA_000025925.1_ASM2592v1_genomic </td><td>d__Bacteria</td><td>p__Bacteroidota</td><td>c__Bacteroidia</td><td>o__Bacteroidales</td><td>f__Bacteroidaceae</td><td>g__Prevotella</td><td>s__Prevotella ruminicola    </td><td>GCF_000025925.1</td><td>95.0</td><td>⋯</td><td>1.0</td><td>GCF_000025925.1</td><td>95.0</td><td>d__Bacteria;p__Bacteroidota;c__Bacteroidia;o__Bacteroidales;f__Bacteroidaceae;g__Prevotella;s__Prevotella ruminicola    </td><td>100.0</td><td>1.0</td><td>96.11</td><td>11</td><td>N/A</td><td>N/A</td></tr>\n",
       "\t<tr><td>GCA_000144405.1_ASM14440v1_genomic</td><td>d__Bacteria</td><td>p__Bacteroidota</td><td>c__Bacteroidia</td><td>o__Bacteroidales</td><td>f__Bacteroidaceae</td><td>g__Prevotella</td><td>s__Prevotella melaninogenica</td><td>GCF_000144405.1</td><td>95.0</td><td>⋯</td><td>1.0</td><td>GCF_000144405.1</td><td>95.0</td><td>d__Bacteria;p__Bacteroidota;c__Bacteroidia;o__Bacteroidales;f__Bacteroidaceae;g__Prevotella;s__Prevotella melaninogenica</td><td>100.0</td><td>1.0</td><td>96.83</td><td>11</td><td>N/A</td><td>N/A</td></tr>\n",
       "\t<tr><td>⋮</td><td>⋮</td><td>⋮</td><td>⋮</td><td>⋮</td><td>⋮</td><td>⋮</td><td>⋮</td><td>⋮</td><td>⋮</td><td>⋱</td><td>⋮</td><td>⋮</td><td>⋮</td><td>⋮</td><td>⋮</td><td>⋮</td><td>⋮</td><td>⋮</td><td>⋮</td><td>⋮</td></tr>\n",
       "\t<tr><td>GCA_902386825.1_UHGG_MGYG-HGUT-02412_genomic</td><td>d__Bacteria</td><td>p__Bacteroidota</td><td>c__Bacteroidia</td><td>o__Bacteroidales</td><td>f__Bacteroidaceae</td><td>g__Prevotellamassilia</td><td>s__Prevotellamassilia timonensis</td><td>GCF_900106785.1</td><td>95.0</td><td>⋯</td><td>0.99</td><td>GCF_900106785.1</td><td>95.0</td><td>d__Bacteria;p__Bacteroidota;c__Bacteroidia;o__Bacteroidales;f__Bacteroidaceae;g__Prevotellamassilia;s__Prevotellamassilia timonensis</td><td>100.0</td><td>0.99</td><td>96.09</td><td>11</td><td>N/A</td><td>N/A</td></tr>\n",
       "\t<tr><td>GCA_902399905.1_UHGG_MGYG-HGUT-03697_genomic</td><td>d__Bacteria</td><td>p__Bacteroidota</td><td>c__Bacteroidia</td><td>o__Bacteroidales</td><td>f__Bacteroidaceae</td><td>g__Prevotella        </td><td>s__Prevotella copri_A           </td><td>GCF_002224675.1</td><td>95.0</td><td>⋯</td><td>0.75</td><td>GCF_002224675.1</td><td>95.0</td><td>d__Bacteria;p__Bacteroidota;c__Bacteroidia;o__Bacteroidales;f__Bacteroidaceae;g__Prevotella;s__Prevotella copri_A                   </td><td>96.12</td><td>0.75</td><td>96.07</td><td>11</td><td>N/A</td><td>N/A</td></tr>\n",
       "</tbody>\n",
       "</table>\n"
      ],
      "text/latex": [
       "A data.frame: 921 × 22\n",
       "\\begin{tabular}{lllllllllllllllllllll}\n",
       " user\\_genome & Domain & Phylum & Class & Order & Family & Genus & Species & fastani\\_reference & fastani\\_reference\\_radius & ⋯ & fastani\\_af & closest\\_placement\\_reference & closest\\_placement\\_radius & closest\\_placement\\_taxonomy & closest\\_placement\\_ani & closest\\_placement\\_af & msa\\_percent & translation\\_table & red\\_value & warnings\\\\\n",
       " <fct> & <chr> & <chr> & <chr> & <chr> & <chr> & <chr> & <chr> & <fct> & <fct> & ⋯ & <fct> & <fct> & <fct> & <fct> & <fct> & <fct> & <dbl> & <int> & <fct> & <fct>\\\\\n",
       "\\hline\n",
       "\t GCA\\_000025925.1\\_ASM2592v1\\_genomic  & d\\_\\_Bacteria & p\\_\\_Bacteroidota & c\\_\\_Bacteroidia & o\\_\\_Bacteroidales & f\\_\\_Bacteroidaceae & g\\_\\_Prevotella & s\\_\\_Prevotella ruminicola     & GCF\\_000025925.1 & 95.0 & ⋯ & 1.0 & GCF\\_000025925.1 & 95.0 & d\\_\\_Bacteria;p\\_\\_Bacteroidota;c\\_\\_Bacteroidia;o\\_\\_Bacteroidales;f\\_\\_Bacteroidaceae;g\\_\\_Prevotella;s\\_\\_Prevotella ruminicola     & 100.0 & 1.0 & 96.11 & 11 & N/A & N/A\\\\\n",
       "\t GCA\\_000144405.1\\_ASM14440v1\\_genomic & d\\_\\_Bacteria & p\\_\\_Bacteroidota & c\\_\\_Bacteroidia & o\\_\\_Bacteroidales & f\\_\\_Bacteroidaceae & g\\_\\_Prevotella & s\\_\\_Prevotella melaninogenica & GCF\\_000144405.1 & 95.0 & ⋯ & 1.0 & GCF\\_000144405.1 & 95.0 & d\\_\\_Bacteria;p\\_\\_Bacteroidota;c\\_\\_Bacteroidia;o\\_\\_Bacteroidales;f\\_\\_Bacteroidaceae;g\\_\\_Prevotella;s\\_\\_Prevotella melaninogenica & 100.0 & 1.0 & 96.83 & 11 & N/A & N/A\\\\\n",
       "\t ⋮ & ⋮ & ⋮ & ⋮ & ⋮ & ⋮ & ⋮ & ⋮ & ⋮ & ⋮ & ⋱ & ⋮ & ⋮ & ⋮ & ⋮ & ⋮ & ⋮ & ⋮ & ⋮ & ⋮ & ⋮\\\\\n",
       "\t GCA\\_902386825.1\\_UHGG\\_MGYG-HGUT-02412\\_genomic & d\\_\\_Bacteria & p\\_\\_Bacteroidota & c\\_\\_Bacteroidia & o\\_\\_Bacteroidales & f\\_\\_Bacteroidaceae & g\\_\\_Prevotellamassilia & s\\_\\_Prevotellamassilia timonensis & GCF\\_900106785.1 & 95.0 & ⋯ & 0.99 & GCF\\_900106785.1 & 95.0 & d\\_\\_Bacteria;p\\_\\_Bacteroidota;c\\_\\_Bacteroidia;o\\_\\_Bacteroidales;f\\_\\_Bacteroidaceae;g\\_\\_Prevotellamassilia;s\\_\\_Prevotellamassilia timonensis & 100.0 & 0.99 & 96.09 & 11 & N/A & N/A\\\\\n",
       "\t GCA\\_902399905.1\\_UHGG\\_MGYG-HGUT-03697\\_genomic & d\\_\\_Bacteria & p\\_\\_Bacteroidota & c\\_\\_Bacteroidia & o\\_\\_Bacteroidales & f\\_\\_Bacteroidaceae & g\\_\\_Prevotella         & s\\_\\_Prevotella copri\\_A            & GCF\\_002224675.1 & 95.0 & ⋯ & 0.75 & GCF\\_002224675.1 & 95.0 & d\\_\\_Bacteria;p\\_\\_Bacteroidota;c\\_\\_Bacteroidia;o\\_\\_Bacteroidales;f\\_\\_Bacteroidaceae;g\\_\\_Prevotella;s\\_\\_Prevotella copri\\_A                    & 96.12 & 0.75 & 96.07 & 11 & N/A & N/A\\\\\n",
       "\\end{tabular}\n"
      ],
      "text/markdown": [
       "\n",
       "A data.frame: 921 × 22\n",
       "\n",
       "| user_genome &lt;fct&gt; | Domain &lt;chr&gt; | Phylum &lt;chr&gt; | Class &lt;chr&gt; | Order &lt;chr&gt; | Family &lt;chr&gt; | Genus &lt;chr&gt; | Species &lt;chr&gt; | fastani_reference &lt;fct&gt; | fastani_reference_radius &lt;fct&gt; | ⋯ ⋯ | fastani_af &lt;fct&gt; | closest_placement_reference &lt;fct&gt; | closest_placement_radius &lt;fct&gt; | closest_placement_taxonomy &lt;fct&gt; | closest_placement_ani &lt;fct&gt; | closest_placement_af &lt;fct&gt; | msa_percent &lt;dbl&gt; | translation_table &lt;int&gt; | red_value &lt;fct&gt; | warnings &lt;fct&gt; |\n",
       "|---|---|---|---|---|---|---|---|---|---|---|---|---|---|---|---|---|---|---|---|---|\n",
       "| GCA_000025925.1_ASM2592v1_genomic  | d__Bacteria | p__Bacteroidota | c__Bacteroidia | o__Bacteroidales | f__Bacteroidaceae | g__Prevotella | s__Prevotella ruminicola     | GCF_000025925.1 | 95.0 | ⋯ | 1.0 | GCF_000025925.1 | 95.0 | d__Bacteria;p__Bacteroidota;c__Bacteroidia;o__Bacteroidales;f__Bacteroidaceae;g__Prevotella;s__Prevotella ruminicola     | 100.0 | 1.0 | 96.11 | 11 | N/A | N/A |\n",
       "| GCA_000144405.1_ASM14440v1_genomic | d__Bacteria | p__Bacteroidota | c__Bacteroidia | o__Bacteroidales | f__Bacteroidaceae | g__Prevotella | s__Prevotella melaninogenica | GCF_000144405.1 | 95.0 | ⋯ | 1.0 | GCF_000144405.1 | 95.0 | d__Bacteria;p__Bacteroidota;c__Bacteroidia;o__Bacteroidales;f__Bacteroidaceae;g__Prevotella;s__Prevotella melaninogenica | 100.0 | 1.0 | 96.83 | 11 | N/A | N/A |\n",
       "| ⋮ | ⋮ | ⋮ | ⋮ | ⋮ | ⋮ | ⋮ | ⋮ | ⋮ | ⋮ | ⋱ | ⋮ | ⋮ | ⋮ | ⋮ | ⋮ | ⋮ | ⋮ | ⋮ | ⋮ | ⋮ |\n",
       "| GCA_902386825.1_UHGG_MGYG-HGUT-02412_genomic | d__Bacteria | p__Bacteroidota | c__Bacteroidia | o__Bacteroidales | f__Bacteroidaceae | g__Prevotellamassilia | s__Prevotellamassilia timonensis | GCF_900106785.1 | 95.0 | ⋯ | 0.99 | GCF_900106785.1 | 95.0 | d__Bacteria;p__Bacteroidota;c__Bacteroidia;o__Bacteroidales;f__Bacteroidaceae;g__Prevotellamassilia;s__Prevotellamassilia timonensis | 100.0 | 0.99 | 96.09 | 11 | N/A | N/A |\n",
       "| GCA_902399905.1_UHGG_MGYG-HGUT-03697_genomic | d__Bacteria | p__Bacteroidota | c__Bacteroidia | o__Bacteroidales | f__Bacteroidaceae | g__Prevotella         | s__Prevotella copri_A            | GCF_002224675.1 | 95.0 | ⋯ | 0.75 | GCF_002224675.1 | 95.0 | d__Bacteria;p__Bacteroidota;c__Bacteroidia;o__Bacteroidales;f__Bacteroidaceae;g__Prevotella;s__Prevotella copri_A                    | 96.12 | 0.75 | 96.07 | 11 | N/A | N/A |\n",
       "\n"
      ],
      "text/plain": [
       "    user_genome                                  Domain      Phylum         \n",
       "1   GCA_000025925.1_ASM2592v1_genomic            d__Bacteria p__Bacteroidota\n",
       "2   GCA_000144405.1_ASM14440v1_genomic           d__Bacteria p__Bacteroidota\n",
       "⋮   ⋮                                            ⋮           ⋮              \n",
       "920 GCA_902386825.1_UHGG_MGYG-HGUT-02412_genomic d__Bacteria p__Bacteroidota\n",
       "921 GCA_902399905.1_UHGG_MGYG-HGUT-03697_genomic d__Bacteria p__Bacteroidota\n",
       "    Class          Order            Family            Genus                \n",
       "1   c__Bacteroidia o__Bacteroidales f__Bacteroidaceae g__Prevotella        \n",
       "2   c__Bacteroidia o__Bacteroidales f__Bacteroidaceae g__Prevotella        \n",
       "⋮   ⋮              ⋮                ⋮                 ⋮                    \n",
       "920 c__Bacteroidia o__Bacteroidales f__Bacteroidaceae g__Prevotellamassilia\n",
       "921 c__Bacteroidia o__Bacteroidales f__Bacteroidaceae g__Prevotella        \n",
       "    Species                          fastani_reference fastani_reference_radius\n",
       "1   s__Prevotella ruminicola         GCF_000025925.1   95.0                    \n",
       "2   s__Prevotella melaninogenica     GCF_000144405.1   95.0                    \n",
       "⋮   ⋮                                ⋮                 ⋮                       \n",
       "920 s__Prevotellamassilia timonensis GCF_900106785.1   95.0                    \n",
       "921 s__Prevotella copri_A            GCF_002224675.1   95.0                    \n",
       "    ⋯ fastani_af closest_placement_reference closest_placement_radius\n",
       "1   ⋯ 1.0        GCF_000025925.1             95.0                    \n",
       "2   ⋯ 1.0        GCF_000144405.1             95.0                    \n",
       "⋮   ⋱ ⋮          ⋮                           ⋮                       \n",
       "920 ⋯ 0.99       GCF_900106785.1             95.0                    \n",
       "921 ⋯ 0.75       GCF_002224675.1             95.0                    \n",
       "    closest_placement_taxonomy                                                                                                          \n",
       "1   d__Bacteria;p__Bacteroidota;c__Bacteroidia;o__Bacteroidales;f__Bacteroidaceae;g__Prevotella;s__Prevotella ruminicola                \n",
       "2   d__Bacteria;p__Bacteroidota;c__Bacteroidia;o__Bacteroidales;f__Bacteroidaceae;g__Prevotella;s__Prevotella melaninogenica            \n",
       "⋮   ⋮                                                                                                                                   \n",
       "920 d__Bacteria;p__Bacteroidota;c__Bacteroidia;o__Bacteroidales;f__Bacteroidaceae;g__Prevotellamassilia;s__Prevotellamassilia timonensis\n",
       "921 d__Bacteria;p__Bacteroidota;c__Bacteroidia;o__Bacteroidales;f__Bacteroidaceae;g__Prevotella;s__Prevotella copri_A                   \n",
       "    closest_placement_ani closest_placement_af msa_percent translation_table\n",
       "1   100.0                 1.0                  96.11       11               \n",
       "2   100.0                 1.0                  96.83       11               \n",
       "⋮   ⋮                     ⋮                    ⋮           ⋮                \n",
       "920 100.0                 0.99                 96.09       11               \n",
       "921 96.12                 0.75                 96.07       11               \n",
       "    red_value warnings\n",
       "1   N/A       N/A     \n",
       "2   N/A       N/A     \n",
       "⋮   ⋮         ⋮       \n",
       "920 N/A       N/A     \n",
       "921 N/A       N/A     "
      ]
     },
     "metadata": {},
     "output_type": "display_data"
    }
   ],
   "source": [
    "# GTDBTk summary\n",
    "tax = file.path(work_dir, 'LLG', 'gtdbtk', 'gtdbtk_bac_summary.tsv') %>%\n",
    "    read.delim(, sep='\\t') %>%\n",
    "    separate(classification, \n",
    "             c('Domain', 'Phylum', 'Class', 'Order', 'Family', 'Genus', 'Species'),\n",
    "             sep=';') %>%\n",
    "    select(-note, -classification_method, -pplacer_taxonomy,\n",
    "           -other_related_references.genome_id.species_name.radius.ANI.AF.)\n",
    "tax"
   ]
  },
  {
   "cell_type": "code",
   "execution_count": 40,
   "metadata": {
    "execution": {
     "iopub.execute_input": "2021-04-23T08:39:15.540999Z",
     "iopub.status.busy": "2021-04-23T08:39:15.538853Z",
     "iopub.status.idle": "2021-04-23T08:39:15.590950Z"
    }
   },
   "outputs": [
    {
     "name": "stdout",
     "output_type": "stream",
     "text": [
      "-- drep --\n",
      "intersect(x,y): 458 \n",
      "setdiff(x,y): 0 \n",
      "setdiff(y,x): 463 \n",
      "union(x,y): 921 \n",
      "-- checkm --\n",
      "intersect(x,y): 921 \n",
      "setdiff(x,y): 0 \n",
      "setdiff(y,x): 0 \n",
      "union(x,y): 921 \n",
      "-- gtdbtk --\n",
      "intersect(x,y): 921 \n",
      "setdiff(x,y): 0 \n",
      "setdiff(y,x): 0 \n",
      "union(x,y): 921 \n"
     ]
    }
   ],
   "source": [
    "# checking overlap\n",
    "cat('-- drep --\\n')\n",
    "overlap(basename(as.character(drep_gen$Fasta)), \n",
    "        basename(as.character(drep$genome)))\n",
    "cat('-- checkm --\\n')\n",
    "overlap(drep$Bin.Id, checkm$Bin.Id)\n",
    "cat('-- gtdbtk --\\n')\n",
    "overlap(drep$Bin.Id, tax$user_genome)"
   ]
  },
  {
   "cell_type": "code",
   "execution_count": 41,
   "metadata": {
    "execution": {
     "iopub.execute_input": "2021-04-23T08:39:15.761655Z",
     "iopub.status.busy": "2021-04-23T08:39:15.759642Z",
     "iopub.status.idle": "2021-04-23T08:39:15.858515Z"
    }
   },
   "outputs": [
    {
     "name": "stdout",
     "output_type": "stream",
     "text": [
      "No. of unique genomes: 458 \n"
     ]
    },
    {
     "data": {
      "text/html": [
       "<table>\n",
       "<caption>A data.frame: 458 × 60</caption>\n",
       "<thead>\n",
       "\t<tr><th scope=col>genome</th><th scope=col>completeness</th><th scope=col>contamination</th><th scope=col>Bin.Id</th><th scope=col>Marker.lineage</th><th scope=col>X..genomes</th><th scope=col>X..markers</th><th scope=col>X..marker.sets</th><th scope=col>Completeness</th><th scope=col>Contamination</th><th scope=col>⋯</th><th scope=col>fastani_af</th><th scope=col>closest_placement_reference</th><th scope=col>closest_placement_radius</th><th scope=col>closest_placement_taxonomy</th><th scope=col>closest_placement_ani</th><th scope=col>closest_placement_af</th><th scope=col>msa_percent</th><th scope=col>translation_table</th><th scope=col>red_value</th><th scope=col>warnings</th></tr>\n",
       "\t<tr><th scope=col>&lt;fct&gt;</th><th scope=col>&lt;dbl&gt;</th><th scope=col>&lt;dbl&gt;</th><th scope=col>&lt;chr&gt;</th><th scope=col>&lt;fct&gt;</th><th scope=col>&lt;int&gt;</th><th scope=col>&lt;int&gt;</th><th scope=col>&lt;int&gt;</th><th scope=col>&lt;dbl&gt;</th><th scope=col>&lt;dbl&gt;</th><th scope=col>⋯</th><th scope=col>&lt;fct&gt;</th><th scope=col>&lt;fct&gt;</th><th scope=col>&lt;fct&gt;</th><th scope=col>&lt;fct&gt;</th><th scope=col>&lt;fct&gt;</th><th scope=col>&lt;fct&gt;</th><th scope=col>&lt;dbl&gt;</th><th scope=col>&lt;int&gt;</th><th scope=col>&lt;fct&gt;</th><th scope=col>&lt;fct&gt;</th></tr>\n",
       "</thead>\n",
       "<tbody>\n",
       "\t<tr><td>/ebio/abt3_scratch/nyoungblut/LLG_62325884640/genomes/GCA_000025925.1_ASM2592v1_genomic.fna </td><td>99.63</td><td>0.37</td><td>GCA_000025925.1_ASM2592v1_genomic </td><td>o__Bacteroidales (UID2716)</td><td>92</td><td>486</td><td>270</td><td>99.63</td><td>0.37</td><td>⋯</td><td>1.0</td><td>GCF_000025925.1</td><td>95.0</td><td>d__Bacteria;p__Bacteroidota;c__Bacteroidia;o__Bacteroidales;f__Bacteroidaceae;g__Prevotella;s__Prevotella ruminicola    </td><td>100.0</td><td>1.0</td><td>96.11</td><td>11</td><td>N/A</td><td>N/A</td></tr>\n",
       "\t<tr><td>/ebio/abt3_scratch/nyoungblut/LLG_62325884640/genomes/GCA_000144405.1_ASM14440v1_genomic.fna</td><td>99.32</td><td>0.00</td><td>GCA_000144405.1_ASM14440v1_genomic</td><td>g__Prevotella (UID2724)   </td><td>55</td><td>567</td><td>296</td><td>99.32</td><td>0.00</td><td>⋯</td><td>1.0</td><td>GCF_000144405.1</td><td>95.0</td><td>d__Bacteria;p__Bacteroidota;c__Bacteroidia;o__Bacteroidales;f__Bacteroidaceae;g__Prevotella;s__Prevotella melaninogenica</td><td>100.0</td><td>1.0</td><td>96.83</td><td>11</td><td>N/A</td><td>N/A</td></tr>\n",
       "\t<tr><td>⋮</td><td>⋮</td><td>⋮</td><td>⋮</td><td>⋮</td><td>⋮</td><td>⋮</td><td>⋮</td><td>⋮</td><td>⋮</td><td>⋱</td><td>⋮</td><td>⋮</td><td>⋮</td><td>⋮</td><td>⋮</td><td>⋮</td><td>⋮</td><td>⋮</td><td>⋮</td><td>⋮</td></tr>\n",
       "\t<tr><td>/ebio/abt3_scratch/nyoungblut/LLG_62325884640/genomes/GCA_900607215.1_PRJEB27263_genomic.fna</td><td>98.65</td><td>0.16</td><td>GCA_900607215.1_PRJEB27263_genomic</td><td>g__Prevotella (UID2724)</td><td>55</td><td>567</td><td>296</td><td>98.65</td><td>0.16</td><td>⋯</td><td>1.0</td><td>GCF_900607215.1</td><td>95.0</td><td>d__Bacteria;p__Bacteroidota;c__Bacteroidia;o__Bacteroidales;f__Bacteroidaceae;g__Prevotella;s__Prevotella sp900607215</td><td>100.0</td><td>1.0</td><td>96.09</td><td>11</td><td>N/A</td><td>N/A</td></tr>\n",
       "\t<tr><td>/ebio/abt3_scratch/nyoungblut/LLG_62325884640/genomes/GCA_900637655.1_52295_B01_genomic.fna </td><td>99.32</td><td>0.34</td><td>GCA_900637655.1_52295_B01_genomic </td><td>g__Prevotella (UID2724)</td><td>55</td><td>567</td><td>296</td><td>99.32</td><td>0.34</td><td>⋯</td><td>1.0</td><td>GCF_900637655.1</td><td>95.0</td><td>d__Bacteria;p__Bacteroidota;c__Bacteroidia;o__Bacteroidales;f__Bacteroidaceae;g__Prevotella;s__Prevotella oris       </td><td>100.0</td><td>1.0</td><td>98.00</td><td>11</td><td>N/A</td><td>N/A</td></tr>\n",
       "</tbody>\n",
       "</table>\n"
      ],
      "text/latex": [
       "A data.frame: 458 × 60\n",
       "\\begin{tabular}{lllllllllllllllllllll}\n",
       " genome & completeness & contamination & Bin.Id & Marker.lineage & X..genomes & X..markers & X..marker.sets & Completeness & Contamination & ⋯ & fastani\\_af & closest\\_placement\\_reference & closest\\_placement\\_radius & closest\\_placement\\_taxonomy & closest\\_placement\\_ani & closest\\_placement\\_af & msa\\_percent & translation\\_table & red\\_value & warnings\\\\\n",
       " <fct> & <dbl> & <dbl> & <chr> & <fct> & <int> & <int> & <int> & <dbl> & <dbl> & ⋯ & <fct> & <fct> & <fct> & <fct> & <fct> & <fct> & <dbl> & <int> & <fct> & <fct>\\\\\n",
       "\\hline\n",
       "\t /ebio/abt3\\_scratch/nyoungblut/LLG\\_62325884640/genomes/GCA\\_000025925.1\\_ASM2592v1\\_genomic.fna  & 99.63 & 0.37 & GCA\\_000025925.1\\_ASM2592v1\\_genomic  & o\\_\\_Bacteroidales (UID2716) & 92 & 486 & 270 & 99.63 & 0.37 & ⋯ & 1.0 & GCF\\_000025925.1 & 95.0 & d\\_\\_Bacteria;p\\_\\_Bacteroidota;c\\_\\_Bacteroidia;o\\_\\_Bacteroidales;f\\_\\_Bacteroidaceae;g\\_\\_Prevotella;s\\_\\_Prevotella ruminicola     & 100.0 & 1.0 & 96.11 & 11 & N/A & N/A\\\\\n",
       "\t /ebio/abt3\\_scratch/nyoungblut/LLG\\_62325884640/genomes/GCA\\_000144405.1\\_ASM14440v1\\_genomic.fna & 99.32 & 0.00 & GCA\\_000144405.1\\_ASM14440v1\\_genomic & g\\_\\_Prevotella (UID2724)    & 55 & 567 & 296 & 99.32 & 0.00 & ⋯ & 1.0 & GCF\\_000144405.1 & 95.0 & d\\_\\_Bacteria;p\\_\\_Bacteroidota;c\\_\\_Bacteroidia;o\\_\\_Bacteroidales;f\\_\\_Bacteroidaceae;g\\_\\_Prevotella;s\\_\\_Prevotella melaninogenica & 100.0 & 1.0 & 96.83 & 11 & N/A & N/A\\\\\n",
       "\t ⋮ & ⋮ & ⋮ & ⋮ & ⋮ & ⋮ & ⋮ & ⋮ & ⋮ & ⋮ & ⋱ & ⋮ & ⋮ & ⋮ & ⋮ & ⋮ & ⋮ & ⋮ & ⋮ & ⋮ & ⋮\\\\\n",
       "\t /ebio/abt3\\_scratch/nyoungblut/LLG\\_62325884640/genomes/GCA\\_900607215.1\\_PRJEB27263\\_genomic.fna & 98.65 & 0.16 & GCA\\_900607215.1\\_PRJEB27263\\_genomic & g\\_\\_Prevotella (UID2724) & 55 & 567 & 296 & 98.65 & 0.16 & ⋯ & 1.0 & GCF\\_900607215.1 & 95.0 & d\\_\\_Bacteria;p\\_\\_Bacteroidota;c\\_\\_Bacteroidia;o\\_\\_Bacteroidales;f\\_\\_Bacteroidaceae;g\\_\\_Prevotella;s\\_\\_Prevotella sp900607215 & 100.0 & 1.0 & 96.09 & 11 & N/A & N/A\\\\\n",
       "\t /ebio/abt3\\_scratch/nyoungblut/LLG\\_62325884640/genomes/GCA\\_900637655.1\\_52295\\_B01\\_genomic.fna  & 99.32 & 0.34 & GCA\\_900637655.1\\_52295\\_B01\\_genomic  & g\\_\\_Prevotella (UID2724) & 55 & 567 & 296 & 99.32 & 0.34 & ⋯ & 1.0 & GCF\\_900637655.1 & 95.0 & d\\_\\_Bacteria;p\\_\\_Bacteroidota;c\\_\\_Bacteroidia;o\\_\\_Bacteroidales;f\\_\\_Bacteroidaceae;g\\_\\_Prevotella;s\\_\\_Prevotella oris        & 100.0 & 1.0 & 98.00 & 11 & N/A & N/A\\\\\n",
       "\\end{tabular}\n"
      ],
      "text/markdown": [
       "\n",
       "A data.frame: 458 × 60\n",
       "\n",
       "| genome &lt;fct&gt; | completeness &lt;dbl&gt; | contamination &lt;dbl&gt; | Bin.Id &lt;chr&gt; | Marker.lineage &lt;fct&gt; | X..genomes &lt;int&gt; | X..markers &lt;int&gt; | X..marker.sets &lt;int&gt; | Completeness &lt;dbl&gt; | Contamination &lt;dbl&gt; | ⋯ ⋯ | fastani_af &lt;fct&gt; | closest_placement_reference &lt;fct&gt; | closest_placement_radius &lt;fct&gt; | closest_placement_taxonomy &lt;fct&gt; | closest_placement_ani &lt;fct&gt; | closest_placement_af &lt;fct&gt; | msa_percent &lt;dbl&gt; | translation_table &lt;int&gt; | red_value &lt;fct&gt; | warnings &lt;fct&gt; |\n",
       "|---|---|---|---|---|---|---|---|---|---|---|---|---|---|---|---|---|---|---|---|---|\n",
       "| /ebio/abt3_scratch/nyoungblut/LLG_62325884640/genomes/GCA_000025925.1_ASM2592v1_genomic.fna  | 99.63 | 0.37 | GCA_000025925.1_ASM2592v1_genomic  | o__Bacteroidales (UID2716) | 92 | 486 | 270 | 99.63 | 0.37 | ⋯ | 1.0 | GCF_000025925.1 | 95.0 | d__Bacteria;p__Bacteroidota;c__Bacteroidia;o__Bacteroidales;f__Bacteroidaceae;g__Prevotella;s__Prevotella ruminicola     | 100.0 | 1.0 | 96.11 | 11 | N/A | N/A |\n",
       "| /ebio/abt3_scratch/nyoungblut/LLG_62325884640/genomes/GCA_000144405.1_ASM14440v1_genomic.fna | 99.32 | 0.00 | GCA_000144405.1_ASM14440v1_genomic | g__Prevotella (UID2724)    | 55 | 567 | 296 | 99.32 | 0.00 | ⋯ | 1.0 | GCF_000144405.1 | 95.0 | d__Bacteria;p__Bacteroidota;c__Bacteroidia;o__Bacteroidales;f__Bacteroidaceae;g__Prevotella;s__Prevotella melaninogenica | 100.0 | 1.0 | 96.83 | 11 | N/A | N/A |\n",
       "| ⋮ | ⋮ | ⋮ | ⋮ | ⋮ | ⋮ | ⋮ | ⋮ | ⋮ | ⋮ | ⋱ | ⋮ | ⋮ | ⋮ | ⋮ | ⋮ | ⋮ | ⋮ | ⋮ | ⋮ | ⋮ |\n",
       "| /ebio/abt3_scratch/nyoungblut/LLG_62325884640/genomes/GCA_900607215.1_PRJEB27263_genomic.fna | 98.65 | 0.16 | GCA_900607215.1_PRJEB27263_genomic | g__Prevotella (UID2724) | 55 | 567 | 296 | 98.65 | 0.16 | ⋯ | 1.0 | GCF_900607215.1 | 95.0 | d__Bacteria;p__Bacteroidota;c__Bacteroidia;o__Bacteroidales;f__Bacteroidaceae;g__Prevotella;s__Prevotella sp900607215 | 100.0 | 1.0 | 96.09 | 11 | N/A | N/A |\n",
       "| /ebio/abt3_scratch/nyoungblut/LLG_62325884640/genomes/GCA_900637655.1_52295_B01_genomic.fna  | 99.32 | 0.34 | GCA_900637655.1_52295_B01_genomic  | g__Prevotella (UID2724) | 55 | 567 | 296 | 99.32 | 0.34 | ⋯ | 1.0 | GCF_900637655.1 | 95.0 | d__Bacteria;p__Bacteroidota;c__Bacteroidia;o__Bacteroidales;f__Bacteroidaceae;g__Prevotella;s__Prevotella oris        | 100.0 | 1.0 | 98.00 | 11 | N/A | N/A |\n",
       "\n"
      ],
      "text/plain": [
       "    genome                                                                                      \n",
       "1   /ebio/abt3_scratch/nyoungblut/LLG_62325884640/genomes/GCA_000025925.1_ASM2592v1_genomic.fna \n",
       "2   /ebio/abt3_scratch/nyoungblut/LLG_62325884640/genomes/GCA_000144405.1_ASM14440v1_genomic.fna\n",
       "⋮   ⋮                                                                                           \n",
       "457 /ebio/abt3_scratch/nyoungblut/LLG_62325884640/genomes/GCA_900607215.1_PRJEB27263_genomic.fna\n",
       "458 /ebio/abt3_scratch/nyoungblut/LLG_62325884640/genomes/GCA_900637655.1_52295_B01_genomic.fna \n",
       "    completeness contamination Bin.Id                            \n",
       "1   99.63        0.37          GCA_000025925.1_ASM2592v1_genomic \n",
       "2   99.32        0.00          GCA_000144405.1_ASM14440v1_genomic\n",
       "⋮   ⋮            ⋮             ⋮                                 \n",
       "457 98.65        0.16          GCA_900607215.1_PRJEB27263_genomic\n",
       "458 99.32        0.34          GCA_900637655.1_52295_B01_genomic \n",
       "    Marker.lineage             X..genomes X..markers X..marker.sets\n",
       "1   o__Bacteroidales (UID2716) 92         486        270           \n",
       "2   g__Prevotella (UID2724)    55         567        296           \n",
       "⋮   ⋮                          ⋮          ⋮          ⋮             \n",
       "457 g__Prevotella (UID2724)    55         567        296           \n",
       "458 g__Prevotella (UID2724)    55         567        296           \n",
       "    Completeness Contamination ⋯ fastani_af closest_placement_reference\n",
       "1   99.63        0.37          ⋯ 1.0        GCF_000025925.1            \n",
       "2   99.32        0.00          ⋯ 1.0        GCF_000144405.1            \n",
       "⋮   ⋮            ⋮             ⋱ ⋮          ⋮                          \n",
       "457 98.65        0.16          ⋯ 1.0        GCF_900607215.1            \n",
       "458 99.32        0.34          ⋯ 1.0        GCF_900637655.1            \n",
       "    closest_placement_radius\n",
       "1   95.0                    \n",
       "2   95.0                    \n",
       "⋮   ⋮                       \n",
       "457 95.0                    \n",
       "458 95.0                    \n",
       "    closest_placement_taxonomy                                                                                              \n",
       "1   d__Bacteria;p__Bacteroidota;c__Bacteroidia;o__Bacteroidales;f__Bacteroidaceae;g__Prevotella;s__Prevotella ruminicola    \n",
       "2   d__Bacteria;p__Bacteroidota;c__Bacteroidia;o__Bacteroidales;f__Bacteroidaceae;g__Prevotella;s__Prevotella melaninogenica\n",
       "⋮   ⋮                                                                                                                       \n",
       "457 d__Bacteria;p__Bacteroidota;c__Bacteroidia;o__Bacteroidales;f__Bacteroidaceae;g__Prevotella;s__Prevotella sp900607215   \n",
       "458 d__Bacteria;p__Bacteroidota;c__Bacteroidia;o__Bacteroidales;f__Bacteroidaceae;g__Prevotella;s__Prevotella oris          \n",
       "    closest_placement_ani closest_placement_af msa_percent translation_table\n",
       "1   100.0                 1.0                  96.11       11               \n",
       "2   100.0                 1.0                  96.83       11               \n",
       "⋮   ⋮                     ⋮                    ⋮           ⋮                \n",
       "457 100.0                 1.0                  96.09       11               \n",
       "458 100.0                 1.0                  98.00       11               \n",
       "    red_value warnings\n",
       "1   N/A       N/A     \n",
       "2   N/A       N/A     \n",
       "⋮   ⋮         ⋮       \n",
       "457 N/A       N/A     \n",
       "458 N/A       N/A     "
      ]
     },
     "metadata": {},
     "output_type": "display_data"
    }
   ],
   "source": [
    "# joining based on Bin.Id\n",
    "drep = drep %>%\n",
    "    inner_join(checkm, c('Bin.Id')) %>%\n",
    "    mutate(GEN = genome %>% as.character %>% basename) %>%\n",
    "    inner_join(drep_gen %>% mutate(GEN = Fasta %>% as.character %>% basename),\n",
    "               by=c('GEN')) %>%\n",
    "    inner_join(tax, c('Bin.Id'='user_genome')) #%>%\n",
    "drep$genome %>% unique_n('genomes')\n",
    "drep"
   ]
  },
  {
   "cell_type": "code",
   "execution_count": 42,
   "metadata": {
    "execution": {
     "iopub.execute_input": "2021-04-23T08:39:15.953600Z",
     "iopub.status.busy": "2021-04-23T08:39:15.951189Z",
     "iopub.status.idle": "2021-04-23T08:39:16.028145Z"
    }
   },
   "outputs": [
    {
     "name": "stdout",
     "output_type": "stream",
     "text": [
      "No. of unique genomes: 91 \n"
     ]
    },
    {
     "data": {
      "text/html": [
       "<table>\n",
       "<caption>A data.frame: 91 × 60</caption>\n",
       "<thead>\n",
       "\t<tr><th scope=col>genome</th><th scope=col>completeness</th><th scope=col>contamination</th><th scope=col>Bin.Id</th><th scope=col>Marker.lineage</th><th scope=col>X..genomes</th><th scope=col>X..markers</th><th scope=col>X..marker.sets</th><th scope=col>Completeness</th><th scope=col>Contamination</th><th scope=col>⋯</th><th scope=col>fastani_af</th><th scope=col>closest_placement_reference</th><th scope=col>closest_placement_radius</th><th scope=col>closest_placement_taxonomy</th><th scope=col>closest_placement_ani</th><th scope=col>closest_placement_af</th><th scope=col>msa_percent</th><th scope=col>translation_table</th><th scope=col>red_value</th><th scope=col>warnings</th></tr>\n",
       "\t<tr><th scope=col>&lt;fct&gt;</th><th scope=col>&lt;dbl&gt;</th><th scope=col>&lt;dbl&gt;</th><th scope=col>&lt;chr&gt;</th><th scope=col>&lt;fct&gt;</th><th scope=col>&lt;int&gt;</th><th scope=col>&lt;int&gt;</th><th scope=col>&lt;int&gt;</th><th scope=col>&lt;dbl&gt;</th><th scope=col>&lt;dbl&gt;</th><th scope=col>⋯</th><th scope=col>&lt;fct&gt;</th><th scope=col>&lt;fct&gt;</th><th scope=col>&lt;fct&gt;</th><th scope=col>&lt;fct&gt;</th><th scope=col>&lt;fct&gt;</th><th scope=col>&lt;fct&gt;</th><th scope=col>&lt;dbl&gt;</th><th scope=col>&lt;int&gt;</th><th scope=col>&lt;fct&gt;</th><th scope=col>&lt;fct&gt;</th></tr>\n",
       "</thead>\n",
       "<tbody>\n",
       "\t<tr><td>/ebio/abt3_scratch/nyoungblut/LLG_62325884640/genomes/GCA_000144405.1_ASM14440v1_genomic.fna</td><td>99.32</td><td>0</td><td>GCA_000144405.1_ASM14440v1_genomic</td><td>g__Prevotella (UID2724)</td><td>55</td><td>567</td><td>296</td><td>99.32</td><td>0</td><td>⋯</td><td>1.0 </td><td>GCF_000144405.1</td><td>95.0</td><td>d__Bacteria;p__Bacteroidota;c__Bacteroidia;o__Bacteroidales;f__Bacteroidaceae;g__Prevotella;s__Prevotella melaninogenica</td><td>100.0</td><td>1.0 </td><td>96.83</td><td>11</td><td>N/A</td><td>N/A</td></tr>\n",
       "\t<tr><td>/ebio/abt3_scratch/nyoungblut/LLG_62325884640/genomes/GCA_000162915.1_ASM16291v1_genomic.fna</td><td>99.32</td><td>0</td><td>GCA_000162915.1_ASM16291v1_genomic</td><td>g__Prevotella (UID2724)</td><td>55</td><td>567</td><td>296</td><td>99.32</td><td>0</td><td>⋯</td><td>0.86</td><td>GCF_900637655.1</td><td>95.0</td><td>d__Bacteria;p__Bacteroidota;c__Bacteroidia;o__Bacteroidales;f__Bacteroidaceae;g__Prevotella;s__Prevotella oris          </td><td>97.06</td><td>0.86</td><td>97.20</td><td>11</td><td>N/A</td><td>N/A</td></tr>\n",
       "\t<tr><td>⋮</td><td>⋮</td><td>⋮</td><td>⋮</td><td>⋮</td><td>⋮</td><td>⋮</td><td>⋮</td><td>⋮</td><td>⋮</td><td>⋱</td><td>⋮</td><td>⋮</td><td>⋮</td><td>⋮</td><td>⋮</td><td>⋮</td><td>⋮</td><td>⋮</td><td>⋮</td><td>⋮</td></tr>\n",
       "\t<tr><td>/ebio/abt3_scratch/nyoungblut/LLG_62325884640/genomes/GCA_900454835.1_52295_A01_genomic.fna</td><td>99.21</td><td>0</td><td>GCA_900454835.1_52295_A01_genomic</td><td>g__Prevotella (UID2724)</td><td>55</td><td>567</td><td>296</td><td>99.21</td><td>0</td><td>⋯</td><td>1.0 </td><td>GCF_000613585.1</td><td>95.0</td><td>d__Bacteria;p__Bacteroidota;c__Bacteroidia;o__Bacteroidales;f__Bacteroidaceae;g__Prevotella;s__Prevotella denticola</td><td>99.97</td><td>1.0 </td><td>96.65</td><td>11</td><td>N/A</td><td>N/A</td></tr>\n",
       "\t<tr><td>/ebio/abt3_scratch/nyoungblut/LLG_62325884640/genomes/GCA_900454935.1_57800_C01_genomic.fna</td><td>99.66</td><td>0</td><td>GCA_900454935.1_57800_C01_genomic</td><td>g__Prevotella (UID2724)</td><td>55</td><td>567</td><td>296</td><td>99.66</td><td>0</td><td>⋯</td><td>0.88</td><td>GCF_000220255.1</td><td>95.0</td><td>d__Bacteria;p__Bacteroidota;c__Bacteroidia;o__Bacteroidales;f__Bacteroidaceae;g__Prevotella;s__Prevotella pallens  </td><td>97.92</td><td>0.88</td><td>97.00</td><td>11</td><td>N/A</td><td>N/A</td></tr>\n",
       "</tbody>\n",
       "</table>\n"
      ],
      "text/latex": [
       "A data.frame: 91 × 60\n",
       "\\begin{tabular}{lllllllllllllllllllll}\n",
       " genome & completeness & contamination & Bin.Id & Marker.lineage & X..genomes & X..markers & X..marker.sets & Completeness & Contamination & ⋯ & fastani\\_af & closest\\_placement\\_reference & closest\\_placement\\_radius & closest\\_placement\\_taxonomy & closest\\_placement\\_ani & closest\\_placement\\_af & msa\\_percent & translation\\_table & red\\_value & warnings\\\\\n",
       " <fct> & <dbl> & <dbl> & <chr> & <fct> & <int> & <int> & <int> & <dbl> & <dbl> & ⋯ & <fct> & <fct> & <fct> & <fct> & <fct> & <fct> & <dbl> & <int> & <fct> & <fct>\\\\\n",
       "\\hline\n",
       "\t /ebio/abt3\\_scratch/nyoungblut/LLG\\_62325884640/genomes/GCA\\_000144405.1\\_ASM14440v1\\_genomic.fna & 99.32 & 0 & GCA\\_000144405.1\\_ASM14440v1\\_genomic & g\\_\\_Prevotella (UID2724) & 55 & 567 & 296 & 99.32 & 0 & ⋯ & 1.0  & GCF\\_000144405.1 & 95.0 & d\\_\\_Bacteria;p\\_\\_Bacteroidota;c\\_\\_Bacteroidia;o\\_\\_Bacteroidales;f\\_\\_Bacteroidaceae;g\\_\\_Prevotella;s\\_\\_Prevotella melaninogenica & 100.0 & 1.0  & 96.83 & 11 & N/A & N/A\\\\\n",
       "\t /ebio/abt3\\_scratch/nyoungblut/LLG\\_62325884640/genomes/GCA\\_000162915.1\\_ASM16291v1\\_genomic.fna & 99.32 & 0 & GCA\\_000162915.1\\_ASM16291v1\\_genomic & g\\_\\_Prevotella (UID2724) & 55 & 567 & 296 & 99.32 & 0 & ⋯ & 0.86 & GCF\\_900637655.1 & 95.0 & d\\_\\_Bacteria;p\\_\\_Bacteroidota;c\\_\\_Bacteroidia;o\\_\\_Bacteroidales;f\\_\\_Bacteroidaceae;g\\_\\_Prevotella;s\\_\\_Prevotella oris           & 97.06 & 0.86 & 97.20 & 11 & N/A & N/A\\\\\n",
       "\t ⋮ & ⋮ & ⋮ & ⋮ & ⋮ & ⋮ & ⋮ & ⋮ & ⋮ & ⋮ & ⋱ & ⋮ & ⋮ & ⋮ & ⋮ & ⋮ & ⋮ & ⋮ & ⋮ & ⋮ & ⋮\\\\\n",
       "\t /ebio/abt3\\_scratch/nyoungblut/LLG\\_62325884640/genomes/GCA\\_900454835.1\\_52295\\_A01\\_genomic.fna & 99.21 & 0 & GCA\\_900454835.1\\_52295\\_A01\\_genomic & g\\_\\_Prevotella (UID2724) & 55 & 567 & 296 & 99.21 & 0 & ⋯ & 1.0  & GCF\\_000613585.1 & 95.0 & d\\_\\_Bacteria;p\\_\\_Bacteroidota;c\\_\\_Bacteroidia;o\\_\\_Bacteroidales;f\\_\\_Bacteroidaceae;g\\_\\_Prevotella;s\\_\\_Prevotella denticola & 99.97 & 1.0  & 96.65 & 11 & N/A & N/A\\\\\n",
       "\t /ebio/abt3\\_scratch/nyoungblut/LLG\\_62325884640/genomes/GCA\\_900454935.1\\_57800\\_C01\\_genomic.fna & 99.66 & 0 & GCA\\_900454935.1\\_57800\\_C01\\_genomic & g\\_\\_Prevotella (UID2724) & 55 & 567 & 296 & 99.66 & 0 & ⋯ & 0.88 & GCF\\_000220255.1 & 95.0 & d\\_\\_Bacteria;p\\_\\_Bacteroidota;c\\_\\_Bacteroidia;o\\_\\_Bacteroidales;f\\_\\_Bacteroidaceae;g\\_\\_Prevotella;s\\_\\_Prevotella pallens   & 97.92 & 0.88 & 97.00 & 11 & N/A & N/A\\\\\n",
       "\\end{tabular}\n"
      ],
      "text/markdown": [
       "\n",
       "A data.frame: 91 × 60\n",
       "\n",
       "| genome &lt;fct&gt; | completeness &lt;dbl&gt; | contamination &lt;dbl&gt; | Bin.Id &lt;chr&gt; | Marker.lineage &lt;fct&gt; | X..genomes &lt;int&gt; | X..markers &lt;int&gt; | X..marker.sets &lt;int&gt; | Completeness &lt;dbl&gt; | Contamination &lt;dbl&gt; | ⋯ ⋯ | fastani_af &lt;fct&gt; | closest_placement_reference &lt;fct&gt; | closest_placement_radius &lt;fct&gt; | closest_placement_taxonomy &lt;fct&gt; | closest_placement_ani &lt;fct&gt; | closest_placement_af &lt;fct&gt; | msa_percent &lt;dbl&gt; | translation_table &lt;int&gt; | red_value &lt;fct&gt; | warnings &lt;fct&gt; |\n",
       "|---|---|---|---|---|---|---|---|---|---|---|---|---|---|---|---|---|---|---|---|---|\n",
       "| /ebio/abt3_scratch/nyoungblut/LLG_62325884640/genomes/GCA_000144405.1_ASM14440v1_genomic.fna | 99.32 | 0 | GCA_000144405.1_ASM14440v1_genomic | g__Prevotella (UID2724) | 55 | 567 | 296 | 99.32 | 0 | ⋯ | 1.0  | GCF_000144405.1 | 95.0 | d__Bacteria;p__Bacteroidota;c__Bacteroidia;o__Bacteroidales;f__Bacteroidaceae;g__Prevotella;s__Prevotella melaninogenica | 100.0 | 1.0  | 96.83 | 11 | N/A | N/A |\n",
       "| /ebio/abt3_scratch/nyoungblut/LLG_62325884640/genomes/GCA_000162915.1_ASM16291v1_genomic.fna | 99.32 | 0 | GCA_000162915.1_ASM16291v1_genomic | g__Prevotella (UID2724) | 55 | 567 | 296 | 99.32 | 0 | ⋯ | 0.86 | GCF_900637655.1 | 95.0 | d__Bacteria;p__Bacteroidota;c__Bacteroidia;o__Bacteroidales;f__Bacteroidaceae;g__Prevotella;s__Prevotella oris           | 97.06 | 0.86 | 97.20 | 11 | N/A | N/A |\n",
       "| ⋮ | ⋮ | ⋮ | ⋮ | ⋮ | ⋮ | ⋮ | ⋮ | ⋮ | ⋮ | ⋱ | ⋮ | ⋮ | ⋮ | ⋮ | ⋮ | ⋮ | ⋮ | ⋮ | ⋮ | ⋮ |\n",
       "| /ebio/abt3_scratch/nyoungblut/LLG_62325884640/genomes/GCA_900454835.1_52295_A01_genomic.fna | 99.21 | 0 | GCA_900454835.1_52295_A01_genomic | g__Prevotella (UID2724) | 55 | 567 | 296 | 99.21 | 0 | ⋯ | 1.0  | GCF_000613585.1 | 95.0 | d__Bacteria;p__Bacteroidota;c__Bacteroidia;o__Bacteroidales;f__Bacteroidaceae;g__Prevotella;s__Prevotella denticola | 99.97 | 1.0  | 96.65 | 11 | N/A | N/A |\n",
       "| /ebio/abt3_scratch/nyoungblut/LLG_62325884640/genomes/GCA_900454935.1_57800_C01_genomic.fna | 99.66 | 0 | GCA_900454935.1_57800_C01_genomic | g__Prevotella (UID2724) | 55 | 567 | 296 | 99.66 | 0 | ⋯ | 0.88 | GCF_000220255.1 | 95.0 | d__Bacteria;p__Bacteroidota;c__Bacteroidia;o__Bacteroidales;f__Bacteroidaceae;g__Prevotella;s__Prevotella pallens   | 97.92 | 0.88 | 97.00 | 11 | N/A | N/A |\n",
       "\n"
      ],
      "text/plain": [
       "   genome                                                                                      \n",
       "1  /ebio/abt3_scratch/nyoungblut/LLG_62325884640/genomes/GCA_000144405.1_ASM14440v1_genomic.fna\n",
       "2  /ebio/abt3_scratch/nyoungblut/LLG_62325884640/genomes/GCA_000162915.1_ASM16291v1_genomic.fna\n",
       "⋮  ⋮                                                                                           \n",
       "90 /ebio/abt3_scratch/nyoungblut/LLG_62325884640/genomes/GCA_900454835.1_52295_A01_genomic.fna \n",
       "91 /ebio/abt3_scratch/nyoungblut/LLG_62325884640/genomes/GCA_900454935.1_57800_C01_genomic.fna \n",
       "   completeness contamination Bin.Id                            \n",
       "1  99.32        0             GCA_000144405.1_ASM14440v1_genomic\n",
       "2  99.32        0             GCA_000162915.1_ASM16291v1_genomic\n",
       "⋮  ⋮            ⋮             ⋮                                 \n",
       "90 99.21        0             GCA_900454835.1_52295_A01_genomic \n",
       "91 99.66        0             GCA_900454935.1_57800_C01_genomic \n",
       "   Marker.lineage          X..genomes X..markers X..marker.sets Completeness\n",
       "1  g__Prevotella (UID2724) 55         567        296            99.32       \n",
       "2  g__Prevotella (UID2724) 55         567        296            99.32       \n",
       "⋮  ⋮                       ⋮          ⋮          ⋮              ⋮           \n",
       "90 g__Prevotella (UID2724) 55         567        296            99.21       \n",
       "91 g__Prevotella (UID2724) 55         567        296            99.66       \n",
       "   Contamination ⋯ fastani_af closest_placement_reference\n",
       "1  0             ⋯ 1.0        GCF_000144405.1            \n",
       "2  0             ⋯ 0.86       GCF_900637655.1            \n",
       "⋮  ⋮             ⋱ ⋮          ⋮                          \n",
       "90 0             ⋯ 1.0        GCF_000613585.1            \n",
       "91 0             ⋯ 0.88       GCF_000220255.1            \n",
       "   closest_placement_radius\n",
       "1  95.0                    \n",
       "2  95.0                    \n",
       "⋮  ⋮                       \n",
       "90 95.0                    \n",
       "91 95.0                    \n",
       "   closest_placement_taxonomy                                                                                              \n",
       "1  d__Bacteria;p__Bacteroidota;c__Bacteroidia;o__Bacteroidales;f__Bacteroidaceae;g__Prevotella;s__Prevotella melaninogenica\n",
       "2  d__Bacteria;p__Bacteroidota;c__Bacteroidia;o__Bacteroidales;f__Bacteroidaceae;g__Prevotella;s__Prevotella oris          \n",
       "⋮  ⋮                                                                                                                       \n",
       "90 d__Bacteria;p__Bacteroidota;c__Bacteroidia;o__Bacteroidales;f__Bacteroidaceae;g__Prevotella;s__Prevotella denticola     \n",
       "91 d__Bacteria;p__Bacteroidota;c__Bacteroidia;o__Bacteroidales;f__Bacteroidaceae;g__Prevotella;s__Prevotella pallens       \n",
       "   closest_placement_ani closest_placement_af msa_percent translation_table\n",
       "1  100.0                 1.0                  96.83       11               \n",
       "2  97.06                 0.86                 97.20       11               \n",
       "⋮  ⋮                     ⋮                    ⋮           ⋮                \n",
       "90 99.97                 1.0                  96.65       11               \n",
       "91 97.92                 0.88                 97.00       11               \n",
       "   red_value warnings\n",
       "1  N/A       N/A     \n",
       "2  N/A       N/A     \n",
       "⋮  ⋮         ⋮       \n",
       "90 N/A       N/A     \n",
       "91 N/A       N/A     "
      ]
     },
     "metadata": {},
     "output_type": "display_data"
    }
   ],
   "source": [
    "# filtering by quality\n",
    "hq_genomes = drep %>%\n",
    "    filter(completeness >= 99,\n",
    "           contamination < 5,\n",
    "           Strain.heterogeneity < 50,\n",
    "           X..contigs <= 100,\n",
    "           Mean.contig.length..bp. >= 20000,\n",
    "           N50..contigs. >= 100000)#,\n",
    "#           X..predicted.genes >= 2000,\n",
    "#           X..predicted.genes <= 3000)\n",
    "hq_genomes$genome %>% unique_n('genomes')\n",
    "hq_genomes"
   ]
  },
  {
   "cell_type": "code",
   "execution_count": 43,
   "metadata": {
    "execution": {
     "iopub.execute_input": "2021-04-23T08:39:16.106325Z",
     "iopub.status.busy": "2021-04-23T08:39:16.103777Z",
     "iopub.status.idle": "2021-04-23T08:39:16.218772Z"
    }
   },
   "outputs": [
    {
     "data": {
      "text/html": [
       "<table>\n",
       "<caption>A matrix: 1 × 8 of type dbl</caption>\n",
       "<thead>\n",
       "\t<tr><th></th><th scope=col>Min.</th><th scope=col>1st Qu.</th><th scope=col>Median</th><th scope=col>Mean</th><th scope=col>3rd Qu.</th><th scope=col>Max.</th><th scope=col>sd</th><th scope=col>sd_err_of_mean</th></tr>\n",
       "</thead>\n",
       "<tbody>\n",
       "\t<tr><th scope=row>completeness</th><td>99.14</td><td>99.29</td><td>99.32</td><td>99.38626</td><td>99.605</td><td>99.66</td><td>0.198</td><td>0.081</td></tr>\n",
       "</tbody>\n",
       "</table>\n"
      ],
      "text/latex": [
       "A matrix: 1 × 8 of type dbl\n",
       "\\begin{tabular}{r|llllllll}\n",
       "  & Min. & 1st Qu. & Median & Mean & 3rd Qu. & Max. & sd & sd\\_err\\_of\\_mean\\\\\n",
       "\\hline\n",
       "\tcompleteness & 99.14 & 99.29 & 99.32 & 99.38626 & 99.605 & 99.66 & 0.198 & 0.081\\\\\n",
       "\\end{tabular}\n"
      ],
      "text/markdown": [
       "\n",
       "A matrix: 1 × 8 of type dbl\n",
       "\n",
       "| <!--/--> | Min. | 1st Qu. | Median | Mean | 3rd Qu. | Max. | sd | sd_err_of_mean |\n",
       "|---|---|---|---|---|---|---|---|---|\n",
       "| completeness | 99.14 | 99.29 | 99.32 | 99.38626 | 99.605 | 99.66 | 0.198 | 0.081 |\n",
       "\n"
      ],
      "text/plain": [
       "             Min.  1st Qu. Median Mean     3rd Qu. Max.  sd    sd_err_of_mean\n",
       "completeness 99.14 99.29   99.32  99.38626 99.605  99.66 0.198 0.081         "
      ]
     },
     "metadata": {},
     "output_type": "display_data"
    },
    {
     "data": {
      "text/html": [
       "<table>\n",
       "<caption>A matrix: 1 × 8 of type dbl</caption>\n",
       "<thead>\n",
       "\t<tr><th></th><th scope=col>Min.</th><th scope=col>1st Qu.</th><th scope=col>Median</th><th scope=col>Mean</th><th scope=col>3rd Qu.</th><th scope=col>Max.</th><th scope=col>sd</th><th scope=col>sd_err_of_mean</th></tr>\n",
       "</thead>\n",
       "<tbody>\n",
       "\t<tr><th scope=row>comtamination</th><td>0</td><td>0</td><td>0.08</td><td>0.2910989</td><td>0.49</td><td>2.04</td><td>0.786</td><td>0.321</td></tr>\n",
       "</tbody>\n",
       "</table>\n"
      ],
      "text/latex": [
       "A matrix: 1 × 8 of type dbl\n",
       "\\begin{tabular}{r|llllllll}\n",
       "  & Min. & 1st Qu. & Median & Mean & 3rd Qu. & Max. & sd & sd\\_err\\_of\\_mean\\\\\n",
       "\\hline\n",
       "\tcomtamination & 0 & 0 & 0.08 & 0.2910989 & 0.49 & 2.04 & 0.786 & 0.321\\\\\n",
       "\\end{tabular}\n"
      ],
      "text/markdown": [
       "\n",
       "A matrix: 1 × 8 of type dbl\n",
       "\n",
       "| <!--/--> | Min. | 1st Qu. | Median | Mean | 3rd Qu. | Max. | sd | sd_err_of_mean |\n",
       "|---|---|---|---|---|---|---|---|---|\n",
       "| comtamination | 0 | 0 | 0.08 | 0.2910989 | 0.49 | 2.04 | 0.786 | 0.321 |\n",
       "\n"
      ],
      "text/plain": [
       "              Min. 1st Qu. Median Mean      3rd Qu. Max. sd    sd_err_of_mean\n",
       "comtamination 0    0       0.08   0.2910989 0.49    2.04 0.786 0.321         "
      ]
     },
     "metadata": {},
     "output_type": "display_data"
    },
    {
     "data": {
      "text/html": [
       "<table>\n",
       "<caption>A matrix: 1 × 8 of type dbl</caption>\n",
       "<thead>\n",
       "\t<tr><th></th><th scope=col>Min.</th><th scope=col>1st Qu.</th><th scope=col>Median</th><th scope=col>Mean</th><th scope=col>3rd Qu.</th><th scope=col>Max.</th><th scope=col>sd</th><th scope=col>sd_err_of_mean</th></tr>\n",
       "</thead>\n",
       "<tbody>\n",
       "\t<tr><th scope=row>hetero</th><td>0</td><td>0</td><td>0</td><td>0.3662637</td><td>0</td><td>33.33</td><td>13.578</td><td>5.543</td></tr>\n",
       "</tbody>\n",
       "</table>\n"
      ],
      "text/latex": [
       "A matrix: 1 × 8 of type dbl\n",
       "\\begin{tabular}{r|llllllll}\n",
       "  & Min. & 1st Qu. & Median & Mean & 3rd Qu. & Max. & sd & sd\\_err\\_of\\_mean\\\\\n",
       "\\hline\n",
       "\thetero & 0 & 0 & 0 & 0.3662637 & 0 & 33.33 & 13.578 & 5.543\\\\\n",
       "\\end{tabular}\n"
      ],
      "text/markdown": [
       "\n",
       "A matrix: 1 × 8 of type dbl\n",
       "\n",
       "| <!--/--> | Min. | 1st Qu. | Median | Mean | 3rd Qu. | Max. | sd | sd_err_of_mean |\n",
       "|---|---|---|---|---|---|---|---|---|\n",
       "| hetero | 0 | 0 | 0 | 0.3662637 | 0 | 33.33 | 13.578 | 5.543 |\n",
       "\n"
      ],
      "text/plain": [
       "       Min. 1st Qu. Median Mean      3rd Qu. Max.  sd     sd_err_of_mean\n",
       "hetero 0    0       0      0.3662637 0       33.33 13.578 5.543         "
      ]
     },
     "metadata": {},
     "output_type": "display_data"
    },
    {
     "data": {
      "text/html": [
       "<table>\n",
       "<caption>A matrix: 1 × 8 of type dbl</caption>\n",
       "<thead>\n",
       "\t<tr><th></th><th scope=col>Min.</th><th scope=col>1st Qu.</th><th scope=col>Median</th><th scope=col>Mean</th><th scope=col>3rd Qu.</th><th scope=col>Max.</th><th scope=col>sd</th><th scope=col>sd_err_of_mean</th></tr>\n",
       "</thead>\n",
       "<tbody>\n",
       "\t<tr><th scope=row>no. of contigs</th><td>1</td><td>3.5</td><td>22</td><td>31.63736</td><td>50</td><td>98</td><td>36.111</td><td>14.742</td></tr>\n",
       "</tbody>\n",
       "</table>\n"
      ],
      "text/latex": [
       "A matrix: 1 × 8 of type dbl\n",
       "\\begin{tabular}{r|llllllll}\n",
       "  & Min. & 1st Qu. & Median & Mean & 3rd Qu. & Max. & sd & sd\\_err\\_of\\_mean\\\\\n",
       "\\hline\n",
       "\tno. of contigs & 1 & 3.5 & 22 & 31.63736 & 50 & 98 & 36.111 & 14.742\\\\\n",
       "\\end{tabular}\n"
      ],
      "text/markdown": [
       "\n",
       "A matrix: 1 × 8 of type dbl\n",
       "\n",
       "| <!--/--> | Min. | 1st Qu. | Median | Mean | 3rd Qu. | Max. | sd | sd_err_of_mean |\n",
       "|---|---|---|---|---|---|---|---|---|\n",
       "| no. of contigs | 1 | 3.5 | 22 | 31.63736 | 50 | 98 | 36.111 | 14.742 |\n",
       "\n"
      ],
      "text/plain": [
       "               Min. 1st Qu. Median Mean     3rd Qu. Max. sd     sd_err_of_mean\n",
       "no. of contigs 1    3.5     22     31.63736 50      98   36.111 14.742        "
      ]
     },
     "metadata": {},
     "output_type": "display_data"
    },
    {
     "data": {
      "text/html": [
       "<table>\n",
       "<caption>A matrix: 1 × 8 of type dbl</caption>\n",
       "<thead>\n",
       "\t<tr><th></th><th scope=col>Min.</th><th scope=col>1st Qu.</th><th scope=col>Median</th><th scope=col>Mean</th><th scope=col>3rd Qu.</th><th scope=col>Max.</th><th scope=col>sd</th><th scope=col>sd_err_of_mean</th></tr>\n",
       "</thead>\n",
       "<tbody>\n",
       "\t<tr><th scope=row>mean contig length</th><td>30476</td><td>67069.5</td><td>135673</td><td>499684.3</td><td>885175.5</td><td>2937589</td><td>1116017</td><td>455611.9</td></tr>\n",
       "</tbody>\n",
       "</table>\n"
      ],
      "text/latex": [
       "A matrix: 1 × 8 of type dbl\n",
       "\\begin{tabular}{r|llllllll}\n",
       "  & Min. & 1st Qu. & Median & Mean & 3rd Qu. & Max. & sd & sd\\_err\\_of\\_mean\\\\\n",
       "\\hline\n",
       "\tmean contig length & 30476 & 67069.5 & 135673 & 499684.3 & 885175.5 & 2937589 & 1116017 & 455611.9\\\\\n",
       "\\end{tabular}\n"
      ],
      "text/markdown": [
       "\n",
       "A matrix: 1 × 8 of type dbl\n",
       "\n",
       "| <!--/--> | Min. | 1st Qu. | Median | Mean | 3rd Qu. | Max. | sd | sd_err_of_mean |\n",
       "|---|---|---|---|---|---|---|---|---|\n",
       "| mean contig length | 30476 | 67069.5 | 135673 | 499684.3 | 885175.5 | 2937589 | 1116017 | 455611.9 |\n",
       "\n"
      ],
      "text/plain": [
       "                   Min.  1st Qu. Median Mean     3rd Qu.  Max.    sd     \n",
       "mean contig length 30476 67069.5 135673 499684.3 885175.5 2937589 1116017\n",
       "                   sd_err_of_mean\n",
       "mean contig length 455611.9      "
      ]
     },
     "metadata": {},
     "output_type": "display_data"
    },
    {
     "data": {
      "text/html": [
       "<table>\n",
       "<caption>A matrix: 1 × 8 of type dbl</caption>\n",
       "<thead>\n",
       "\t<tr><th></th><th scope=col>Min.</th><th scope=col>1st Qu.</th><th scope=col>Median</th><th scope=col>Mean</th><th scope=col>3rd Qu.</th><th scope=col>Max.</th><th scope=col>sd</th><th scope=col>sd_err_of_mean</th></tr>\n",
       "</thead>\n",
       "<tbody>\n",
       "\t<tr><th scope=row>no. of genes</th><td>2068</td><td>2455.5</td><td>2591</td><td>2649.055</td><td>2808</td><td>3455</td><td>458.335</td><td>187.115</td></tr>\n",
       "</tbody>\n",
       "</table>\n"
      ],
      "text/latex": [
       "A matrix: 1 × 8 of type dbl\n",
       "\\begin{tabular}{r|llllllll}\n",
       "  & Min. & 1st Qu. & Median & Mean & 3rd Qu. & Max. & sd & sd\\_err\\_of\\_mean\\\\\n",
       "\\hline\n",
       "\tno. of genes & 2068 & 2455.5 & 2591 & 2649.055 & 2808 & 3455 & 458.335 & 187.115\\\\\n",
       "\\end{tabular}\n"
      ],
      "text/markdown": [
       "\n",
       "A matrix: 1 × 8 of type dbl\n",
       "\n",
       "| <!--/--> | Min. | 1st Qu. | Median | Mean | 3rd Qu. | Max. | sd | sd_err_of_mean |\n",
       "|---|---|---|---|---|---|---|---|---|\n",
       "| no. of genes | 2068 | 2455.5 | 2591 | 2649.055 | 2808 | 3455 | 458.335 | 187.115 |\n",
       "\n"
      ],
      "text/plain": [
       "             Min. 1st Qu. Median Mean     3rd Qu. Max. sd      sd_err_of_mean\n",
       "no. of genes 2068 2455.5  2591   2649.055 2808    3455 458.335 187.115       "
      ]
     },
     "metadata": {},
     "output_type": "display_data"
    }
   ],
   "source": [
    "# summary\n",
    "hq_genomes %>% summary_x('completeness', completeness)\n",
    "hq_genomes %>% summary_x('comtamination', contamination)\n",
    "hq_genomes %>% summary_x('hetero', Strain.heterogeneity)\n",
    "hq_genomes %>% summary_x('no. of contigs', X..contigs)\n",
    "hq_genomes %>% summary_x('mean contig length', Mean.contig.length..bp.)\n",
    "hq_genomes %>% summary_x('no. of genes', X..predicted.genes)"
   ]
  },
  {
   "cell_type": "code",
   "execution_count": 44,
   "metadata": {
    "execution": {
     "iopub.execute_input": "2021-04-23T08:39:16.270348Z",
     "iopub.status.busy": "2021-04-23T08:39:16.268190Z",
     "iopub.status.idle": "2021-04-23T08:39:16.316511Z"
    }
   },
   "outputs": [
    {
     "data": {
      "text/html": [
       "<table>\n",
       "<caption>A tibble: 1 × 3</caption>\n",
       "<thead>\n",
       "\t<tr><th scope=col>Family</th><th scope=col>Genus</th><th scope=col>n_genomes</th></tr>\n",
       "\t<tr><th scope=col>&lt;chr&gt;</th><th scope=col>&lt;chr&gt;</th><th scope=col>&lt;int&gt;</th></tr>\n",
       "</thead>\n",
       "<tbody>\n",
       "\t<tr><td>f__Bacteroidaceae</td><td>g__Prevotella</td><td>91</td></tr>\n",
       "</tbody>\n",
       "</table>\n"
      ],
      "text/latex": [
       "A tibble: 1 × 3\n",
       "\\begin{tabular}{lll}\n",
       " Family & Genus & n\\_genomes\\\\\n",
       " <chr> & <chr> & <int>\\\\\n",
       "\\hline\n",
       "\t f\\_\\_Bacteroidaceae & g\\_\\_Prevotella & 91\\\\\n",
       "\\end{tabular}\n"
      ],
      "text/markdown": [
       "\n",
       "A tibble: 1 × 3\n",
       "\n",
       "| Family &lt;chr&gt; | Genus &lt;chr&gt; | n_genomes &lt;int&gt; |\n",
       "|---|---|---|\n",
       "| f__Bacteroidaceae | g__Prevotella | 91 |\n",
       "\n"
      ],
      "text/plain": [
       "  Family            Genus         n_genomes\n",
       "1 f__Bacteroidaceae g__Prevotella 91       "
      ]
     },
     "metadata": {},
     "output_type": "display_data"
    }
   ],
   "source": [
    "# summarizing the taxonomy\n",
    "df.dims(20)\n",
    "hq_genomes %>%\n",
    "    group_by(Family, Genus) %>%\n",
    "    summarize(n_genomes = n(), .groups='drop')\n",
    "df.dims()"
   ]
  },
  {
   "cell_type": "code",
   "execution_count": 45,
   "metadata": {
    "execution": {
     "iopub.execute_input": "2021-04-23T08:39:16.577126Z",
     "iopub.status.busy": "2021-04-23T08:39:16.574763Z",
     "iopub.status.idle": "2021-04-23T08:39:16.622471Z"
    }
   },
   "outputs": [
    {
     "name": "stdout",
     "output_type": "stream",
     "text": [
      "File written: /ebio/abt3_projects/software/dev/ll_pipelines/llprimer/experiments/HMP_most-wanted/v0.3//Prevotella/samples_genomes_hq.txt \n"
     ]
    }
   ],
   "source": [
    "# writing samples table for LLPRIMER\n",
    "outfile = file.path(work_dir, 'samples_genomes_hq.txt')\n",
    "hq_genomes %>%\n",
    "    select(Bin.Id, Fasta) %>%\n",
    "    rename('Taxon' = Bin.Id) %>%\n",
    "    mutate(Taxon = gsub('_chromosome.+', '', Taxon),\n",
    "           Taxon = gsub('_bin_.+', '', Taxon),\n",
    "           Taxon = gsub('_genomic', '', Taxon),\n",
    "           Taxon = gsub('_annotated_assembly', '', Taxon),\n",
    "           Taxid = taxid,\n",
    "           Domain = domain) %>%\n",
    "    write_table(outfile)"
   ]
  },
  {
   "cell_type": "markdown",
   "metadata": {},
   "source": [
    "# Primer design"
   ]
  },
  {
   "cell_type": "markdown",
   "metadata": {},
   "source": [
    "### Config"
   ]
  },
  {
   "cell_type": "code",
   "execution_count": 35,
   "metadata": {
    "execution": {
     "iopub.execute_input": "2021-04-23T08:36:41.376959Z",
     "iopub.status.busy": "2021-04-23T08:36:41.374278Z",
     "iopub.status.idle": "2021-04-23T08:36:41.435094Z"
    }
   },
   "outputs": [
    {
     "name": "stdout",
     "output_type": "stream",
     "text": [
      "#-- I/O --#\n",
      "samples_file: /ebio/abt3_projects/software/dev/ll_pipelines/llprimer/experiments/HMP_most-wanted/v0.3/Prevotella/samples_genomes_hq.txt\n",
      "\n",
      "# output location\n",
      "output_dir: /ebio/abt3_projects/software/dev/ll_pipelines/llprimer/experiments/HMP_most-wanted/v0.3/Prevotella/primers/\n",
      "\n",
      "# temporary file directory (your username will be added automatically)\n",
      "tmp_dir: /ebio/abt3_scratch/\n",
      "\n",
      "#-- software parameters --#\n",
      "# See the README for a description\n",
      "params:\n",
      "  ionice: -c 3\n",
      "  cgp:\n",
      "    prokka: \"\"\n",
      "    mmseqs:\n",
      "      method: cluster    # or linclust (faster)\n",
      "      run: --min-seq-id 0.8 -c 0.8\n",
      "    vsearch: --id 0.94\n",
      "    core_genes:\n",
      "      cds: --perc-genomes-cds 100 --copies-per-genome-cds 1 --max-clusters-cds 500\n",
      "      rRNA: --perc-genomes-rrna 100 --copies-per-genome-rrna 10 --max-clusters-rrna 500\n",
      "    align:\n",
      "      method: linsi\n",
      "      params: --auto --maxiterate 1000\n",
      "    primer3:\n",
      "      consensus: --consensus-threshold 0.34\n",
      "      number: --num-raw-primers 1000 --num-final-primers 10\n",
      "      size: --opt-size 20 --min-size 18 --max-size 26\n",
      "      product: --opt-prod-size 150 --min-prod-size 100 --max-prod-size 250\n",
      "      Tm: --opt-tm 62 --min-tm 54 --max-tm 70 --max-tm-diff 2.5\n",
      "      PCR: --oligo-DNA 50 --salt-monovalent 50 --salt-divalent 1.5 --dNTPs 0.2\n",
      "      GC: --opt-gc 50 --min-gc 25 --max-gc 75\n",
      "      degeneracy: --max-degeneracy 128 --max-degeneracy-3prime 6 --window-3prime 5\n",
      "      internal_oligo: --make-oligo 0 --int-opt-size 20 --int-opt-tm 60\n",
      "    blast_nontarget:\n",
      "      run_locally: False\n",
      "      cds: -evalue 1e-5 -max_target_seqs 30\n",
      "      rRNA: -evalue 1e-5 -max_target_seqs 30\n",
      "    blastn: -max_target_seqs 500 -perc_identity 90\n",
      "    blast_filter: --perc-len 80 --min-amplicon-len 30 --max-amplicon-len 2000\n",
      "    seqkit_amplicon: \"\"\n",
      "\n",
      "#-- database --#\n",
      "databases:\n",
      "  blast:\n",
      "    nucl: /ebio/abt3_projects/databases_no-backup/NCBI_blastdb/nt\n",
      "    prot: /ebio/abt3_projects/databases_no-backup/NCBI_blastdb/nr\n",
      "    rRNA:\n",
      "      SSU: /ebio/abt3_projects/databases_no-backup/NCBI_rRNA/2021-01/SSU/16S_ribosomal_RNA\n",
      "      LSU: /ebio/abt3_projects/databases_no-backup/NCBI_rRNA/2021-01/LSU/LSU_prokaryote_rRNA\n",
      "    gene_names: /ebio/abt3_projects/databases_no-backup/NCBI_nr_geneIDs/2021-01/nr_accession-geneNames.pkl\n",
      "  taxonomy:\n",
      "    names: /ebio/abt3_projects/databases_no-backup/NCBI_taxonomy/2020-12-23/names.dmp\n",
      "    nodes: /ebio/abt3_projects/databases_no-backup/NCBI_taxonomy/2020-12-23/nodes.dmp\n",
      "\n",
      "#-- snakemake pipeline --#\n",
      "pipeline:\n",
      "  snakemake_folder: ./\n",
      "  script_folder: bin/scripts/\n",
      "  name: LLPRIMER"
     ]
    }
   ],
   "source": [
    "F = file.path(work_dir, 'primers', 'config.yaml')\n",
    "cat_file(F)"
   ]
  },
  {
   "cell_type": "markdown",
   "metadata": {},
   "source": [
    "### Run"
   ]
  },
  {
   "cell_type": "markdown",
   "metadata": {},
   "source": [
    "```\n",
    "(snakemake) @ rick:/ebio/abt3_projects/software/dev/ll_pipelines/llprimer\n",
    "$ screen -L -S llprimer-Prev ./snakemake_sge.sh /ebio/abt3_projects/software/dev/ll_pipelines/llprimer/experiments/HMP_most-wanted/v0.3/Prevotella/primers/config.yaml 30 -F --notemp\n",
    "```"
   ]
  },
  {
   "cell_type": "markdown",
   "metadata": {},
   "source": [
    "## Summary"
   ]
  },
  {
   "cell_type": "markdown",
   "metadata": {},
   "source": [
    "### Primers"
   ]
  },
  {
   "cell_type": "code",
   "execution_count": 62,
   "metadata": {
    "execution": {
     "iopub.execute_input": "2021-04-24T13:16:54.196226Z",
     "iopub.status.busy": "2021-04-24T13:16:54.193904Z",
     "iopub.status.idle": "2021-04-24T13:16:54.247518Z"
    }
   },
   "outputs": [
    {
     "name": "stdout",
     "output_type": "stream",
     "text": [
      "No. of unique primers: 1 \n"
     ]
    },
    {
     "data": {
      "text/html": [
       "<table>\n",
       "<caption>A data.frame: 2 × 22</caption>\n",
       "<thead>\n",
       "\t<tr><th scope=col>gene_type</th><th scope=col>cluster_id</th><th scope=col>primer_set</th><th scope=col>amplicon_size_consensus</th><th scope=col>amplicon_size_avg</th><th scope=col>amplicon_size_sd</th><th scope=col>primer_id</th><th scope=col>primer_type</th><th scope=col>sequence</th><th scope=col>length</th><th scope=col>⋯</th><th scope=col>position_start</th><th scope=col>position_end</th><th scope=col>Tm_avg</th><th scope=col>Tm_sd</th><th scope=col>GC_avg</th><th scope=col>GC_sd</th><th scope=col>hairpin_avg</th><th scope=col>hairpin_sd</th><th scope=col>homodimer_avg</th><th scope=col>homodimer_sd</th></tr>\n",
       "\t<tr><th scope=col>&lt;fct&gt;</th><th scope=col>&lt;int&gt;</th><th scope=col>&lt;int&gt;</th><th scope=col>&lt;int&gt;</th><th scope=col>&lt;dbl&gt;</th><th scope=col>&lt;dbl&gt;</th><th scope=col>&lt;fct&gt;</th><th scope=col>&lt;fct&gt;</th><th scope=col>&lt;fct&gt;</th><th scope=col>&lt;int&gt;</th><th scope=col>⋯</th><th scope=col>&lt;int&gt;</th><th scope=col>&lt;int&gt;</th><th scope=col>&lt;dbl&gt;</th><th scope=col>&lt;dbl&gt;</th><th scope=col>&lt;dbl&gt;</th><th scope=col>&lt;dbl&gt;</th><th scope=col>&lt;dbl&gt;</th><th scope=col>&lt;dbl&gt;</th><th scope=col>&lt;dbl&gt;</th><th scope=col>&lt;dbl&gt;</th></tr>\n",
       "</thead>\n",
       "<tbody>\n",
       "\t<tr><td>cds</td><td>8</td><td>478</td><td>165</td><td>165</td><td>0</td><td>478f</td><td>PRIMER_LEFT </td><td>ATYAAGWGYCGYACNAARGG</td><td>20</td><td>⋯</td><td>474</td><td>494</td><td>57.34402</td><td>2.984923</td><td>47.5</td><td>5.590170</td><td>12.32349</td><td>18.38053</td><td>-5.195385</td><td>18.64899</td></tr>\n",
       "\t<tr><td>cds</td><td>8</td><td>478</td><td>165</td><td>165</td><td>0</td><td>478r</td><td>PRIMER_RIGHT</td><td>NACRTTRCGGAAYTCYTGRT</td><td>20</td><td>⋯</td><td>619</td><td>639</td><td>57.13081</td><td>2.800376</td><td>45.0</td><td>6.123724</td><td> 4.17719</td><td>11.05181</td><td> 2.801095</td><td>21.40866</td></tr>\n",
       "</tbody>\n",
       "</table>\n"
      ],
      "text/latex": [
       "A data.frame: 2 × 22\n",
       "\\begin{tabular}{lllllllllllllllllllll}\n",
       " gene\\_type & cluster\\_id & primer\\_set & amplicon\\_size\\_consensus & amplicon\\_size\\_avg & amplicon\\_size\\_sd & primer\\_id & primer\\_type & sequence & length & ⋯ & position\\_start & position\\_end & Tm\\_avg & Tm\\_sd & GC\\_avg & GC\\_sd & hairpin\\_avg & hairpin\\_sd & homodimer\\_avg & homodimer\\_sd\\\\\n",
       " <fct> & <int> & <int> & <int> & <dbl> & <dbl> & <fct> & <fct> & <fct> & <int> & ⋯ & <int> & <int> & <dbl> & <dbl> & <dbl> & <dbl> & <dbl> & <dbl> & <dbl> & <dbl>\\\\\n",
       "\\hline\n",
       "\t cds & 8 & 478 & 165 & 165 & 0 & 478f & PRIMER\\_LEFT  & ATYAAGWGYCGYACNAARGG & 20 & ⋯ & 474 & 494 & 57.34402 & 2.984923 & 47.5 & 5.590170 & 12.32349 & 18.38053 & -5.195385 & 18.64899\\\\\n",
       "\t cds & 8 & 478 & 165 & 165 & 0 & 478r & PRIMER\\_RIGHT & NACRTTRCGGAAYTCYTGRT & 20 & ⋯ & 619 & 639 & 57.13081 & 2.800376 & 45.0 & 6.123724 &  4.17719 & 11.05181 &  2.801095 & 21.40866\\\\\n",
       "\\end{tabular}\n"
      ],
      "text/markdown": [
       "\n",
       "A data.frame: 2 × 22\n",
       "\n",
       "| gene_type &lt;fct&gt; | cluster_id &lt;int&gt; | primer_set &lt;int&gt; | amplicon_size_consensus &lt;int&gt; | amplicon_size_avg &lt;dbl&gt; | amplicon_size_sd &lt;dbl&gt; | primer_id &lt;fct&gt; | primer_type &lt;fct&gt; | sequence &lt;fct&gt; | length &lt;int&gt; | ⋯ ⋯ | position_start &lt;int&gt; | position_end &lt;int&gt; | Tm_avg &lt;dbl&gt; | Tm_sd &lt;dbl&gt; | GC_avg &lt;dbl&gt; | GC_sd &lt;dbl&gt; | hairpin_avg &lt;dbl&gt; | hairpin_sd &lt;dbl&gt; | homodimer_avg &lt;dbl&gt; | homodimer_sd &lt;dbl&gt; |\n",
       "|---|---|---|---|---|---|---|---|---|---|---|---|---|---|---|---|---|---|---|---|---|\n",
       "| cds | 8 | 478 | 165 | 165 | 0 | 478f | PRIMER_LEFT  | ATYAAGWGYCGYACNAARGG | 20 | ⋯ | 474 | 494 | 57.34402 | 2.984923 | 47.5 | 5.590170 | 12.32349 | 18.38053 | -5.195385 | 18.64899 |\n",
       "| cds | 8 | 478 | 165 | 165 | 0 | 478r | PRIMER_RIGHT | NACRTTRCGGAAYTCYTGRT | 20 | ⋯ | 619 | 639 | 57.13081 | 2.800376 | 45.0 | 6.123724 |  4.17719 | 11.05181 |  2.801095 | 21.40866 |\n",
       "\n"
      ],
      "text/plain": [
       "  gene_type cluster_id primer_set amplicon_size_consensus amplicon_size_avg\n",
       "1 cds       8          478        165                     165              \n",
       "2 cds       8          478        165                     165              \n",
       "  amplicon_size_sd primer_id primer_type  sequence             length ⋯\n",
       "1 0                478f      PRIMER_LEFT  ATYAAGWGYCGYACNAARGG 20     ⋯\n",
       "2 0                478r      PRIMER_RIGHT NACRTTRCGGAAYTCYTGRT 20     ⋯\n",
       "  position_start position_end Tm_avg   Tm_sd    GC_avg GC_sd    hairpin_avg\n",
       "1 474            494          57.34402 2.984923 47.5   5.590170 12.32349   \n",
       "2 619            639          57.13081 2.800376 45.0   6.123724  4.17719   \n",
       "  hairpin_sd homodimer_avg homodimer_sd\n",
       "1 18.38053   -5.195385     18.64899    \n",
       "2 11.05181    2.801095     21.40866    "
      ]
     },
     "metadata": {},
     "output_type": "display_data"
    }
   ],
   "source": [
    "primer_info = read.delim(file.path(work_dir, 'primers', 'cgp', 'primers_final_info.tsv'), sep='\\t')\n",
    "primer_info %>% unique_n('primers', primer_set)\n",
    "primer_info"
   ]
  },
  {
   "cell_type": "markdown",
   "metadata": {},
   "source": [
    "### Gene clusters"
   ]
  },
  {
   "cell_type": "code",
   "execution_count": 48,
   "metadata": {
    "execution": {
     "iopub.execute_input": "2021-04-24T05:26:40.378510Z",
     "iopub.status.busy": "2021-04-24T05:26:40.376243Z",
     "iopub.status.idle": "2021-04-24T05:26:40.444232Z"
    }
   },
   "outputs": [
    {
     "name": "stdout",
     "output_type": "stream",
     "text": [
      "No. of clusters 1 \n"
     ]
    },
    {
     "data": {
      "text/html": [
       "<table>\n",
       "<caption>A data.frame: 91 × 13</caption>\n",
       "<thead>\n",
       "\t<tr><th scope=col>gene_type</th><th scope=col>cluster_id</th><th scope=col>seq_uuid</th><th scope=col>seq_orig_name</th><th scope=col>contig_id</th><th scope=col>taxon</th><th scope=col>start</th><th scope=col>end</th><th scope=col>score</th><th scope=col>strand</th><th scope=col>annotation</th><th scope=col>cluster_name</th><th scope=col>clust_id</th></tr>\n",
       "\t<tr><th scope=col>&lt;fct&gt;</th><th scope=col>&lt;int&gt;</th><th scope=col>&lt;fct&gt;</th><th scope=col>&lt;fct&gt;</th><th scope=col>&lt;fct&gt;</th><th scope=col>&lt;fct&gt;</th><th scope=col>&lt;int&gt;</th><th scope=col>&lt;int&gt;</th><th scope=col>&lt;fct&gt;</th><th scope=col>&lt;fct&gt;</th><th scope=col>&lt;fct&gt;</th><th scope=col>&lt;fct&gt;</th><th scope=col>&lt;int&gt;</th></tr>\n",
       "</thead>\n",
       "<tbody>\n",
       "\t<tr><td>cds</td><td>8</td><td>3404d3ff12a64e38aca73b6aa31fae58</td><td>JIKNMOCF_01515</td><td>CP002123.1</td><td>GCA_000144405.1_ASM14440v1</td><td> 97075</td><td> 98859</td><td>.</td><td>-</td><td>Polyribonucleotide nucleotidyltransferase</td><td>6ab20e4d4d0f406a8d66f92f6486129a</td><td>8</td></tr>\n",
       "\t<tr><td>cds</td><td>8</td><td>f220b5952cb749519bec8d6eeac845fe</td><td>NBHLGDOI_01200</td><td>GG703886.1</td><td>GCA_000162915.1_ASM16291v1</td><td>336896</td><td>338677</td><td>.</td><td>-</td><td>30S ribosomal protein S1                 </td><td>6ab20e4d4d0f406a8d66f92f6486129a</td><td>8</td></tr>\n",
       "\t<tr><td>⋮</td><td>⋮</td><td>⋮</td><td>⋮</td><td>⋮</td><td>⋮</td><td>⋮</td><td>⋮</td><td>⋮</td><td>⋮</td><td>⋮</td><td>⋮</td><td>⋮</td></tr>\n",
       "\t<tr><td>cds</td><td>8</td><td>a48a661ccd0a47d59993e36b95147fbc</td><td>AFOLKJKN_00363</td><td>UGTM01000002.1</td><td>GCA_900454835.1_52295_A01</td><td>451758</td><td>453539</td><td>.</td><td>-</td><td>Polyribonucleotide nucleotidyltransferase</td><td>6ab20e4d4d0f406a8d66f92f6486129a</td><td>8</td></tr>\n",
       "\t<tr><td>cds</td><td>8</td><td>299907c79c5a446fa61edd59ef341b1c</td><td>GDKFNPGA_00758</td><td>UGTP01000002.1</td><td>GCA_900454935.1_57800_C01</td><td>294357</td><td>296132</td><td>.</td><td>+</td><td>30S ribosomal protein S1                 </td><td>6ab20e4d4d0f406a8d66f92f6486129a</td><td>8</td></tr>\n",
       "</tbody>\n",
       "</table>\n"
      ],
      "text/latex": [
       "A data.frame: 91 × 13\n",
       "\\begin{tabular}{lllllllllllll}\n",
       " gene\\_type & cluster\\_id & seq\\_uuid & seq\\_orig\\_name & contig\\_id & taxon & start & end & score & strand & annotation & cluster\\_name & clust\\_id\\\\\n",
       " <fct> & <int> & <fct> & <fct> & <fct> & <fct> & <int> & <int> & <fct> & <fct> & <fct> & <fct> & <int>\\\\\n",
       "\\hline\n",
       "\t cds & 8 & 3404d3ff12a64e38aca73b6aa31fae58 & JIKNMOCF\\_01515 & CP002123.1 & GCA\\_000144405.1\\_ASM14440v1 &  97075 &  98859 & . & - & Polyribonucleotide nucleotidyltransferase & 6ab20e4d4d0f406a8d66f92f6486129a & 8\\\\\n",
       "\t cds & 8 & f220b5952cb749519bec8d6eeac845fe & NBHLGDOI\\_01200 & GG703886.1 & GCA\\_000162915.1\\_ASM16291v1 & 336896 & 338677 & . & - & 30S ribosomal protein S1                  & 6ab20e4d4d0f406a8d66f92f6486129a & 8\\\\\n",
       "\t ⋮ & ⋮ & ⋮ & ⋮ & ⋮ & ⋮ & ⋮ & ⋮ & ⋮ & ⋮ & ⋮ & ⋮ & ⋮\\\\\n",
       "\t cds & 8 & a48a661ccd0a47d59993e36b95147fbc & AFOLKJKN\\_00363 & UGTM01000002.1 & GCA\\_900454835.1\\_52295\\_A01 & 451758 & 453539 & . & - & Polyribonucleotide nucleotidyltransferase & 6ab20e4d4d0f406a8d66f92f6486129a & 8\\\\\n",
       "\t cds & 8 & 299907c79c5a446fa61edd59ef341b1c & GDKFNPGA\\_00758 & UGTP01000002.1 & GCA\\_900454935.1\\_57800\\_C01 & 294357 & 296132 & . & + & 30S ribosomal protein S1                  & 6ab20e4d4d0f406a8d66f92f6486129a & 8\\\\\n",
       "\\end{tabular}\n"
      ],
      "text/markdown": [
       "\n",
       "A data.frame: 91 × 13\n",
       "\n",
       "| gene_type &lt;fct&gt; | cluster_id &lt;int&gt; | seq_uuid &lt;fct&gt; | seq_orig_name &lt;fct&gt; | contig_id &lt;fct&gt; | taxon &lt;fct&gt; | start &lt;int&gt; | end &lt;int&gt; | score &lt;fct&gt; | strand &lt;fct&gt; | annotation &lt;fct&gt; | cluster_name &lt;fct&gt; | clust_id &lt;int&gt; |\n",
       "|---|---|---|---|---|---|---|---|---|---|---|---|---|\n",
       "| cds | 8 | 3404d3ff12a64e38aca73b6aa31fae58 | JIKNMOCF_01515 | CP002123.1 | GCA_000144405.1_ASM14440v1 |  97075 |  98859 | . | - | Polyribonucleotide nucleotidyltransferase | 6ab20e4d4d0f406a8d66f92f6486129a | 8 |\n",
       "| cds | 8 | f220b5952cb749519bec8d6eeac845fe | NBHLGDOI_01200 | GG703886.1 | GCA_000162915.1_ASM16291v1 | 336896 | 338677 | . | - | 30S ribosomal protein S1                  | 6ab20e4d4d0f406a8d66f92f6486129a | 8 |\n",
       "| ⋮ | ⋮ | ⋮ | ⋮ | ⋮ | ⋮ | ⋮ | ⋮ | ⋮ | ⋮ | ⋮ | ⋮ | ⋮ |\n",
       "| cds | 8 | a48a661ccd0a47d59993e36b95147fbc | AFOLKJKN_00363 | UGTM01000002.1 | GCA_900454835.1_52295_A01 | 451758 | 453539 | . | - | Polyribonucleotide nucleotidyltransferase | 6ab20e4d4d0f406a8d66f92f6486129a | 8 |\n",
       "| cds | 8 | 299907c79c5a446fa61edd59ef341b1c | GDKFNPGA_00758 | UGTP01000002.1 | GCA_900454935.1_57800_C01 | 294357 | 296132 | . | + | 30S ribosomal protein S1                  | 6ab20e4d4d0f406a8d66f92f6486129a | 8 |\n",
       "\n"
      ],
      "text/plain": [
       "   gene_type cluster_id seq_uuid                         seq_orig_name \n",
       "1  cds       8          3404d3ff12a64e38aca73b6aa31fae58 JIKNMOCF_01515\n",
       "2  cds       8          f220b5952cb749519bec8d6eeac845fe NBHLGDOI_01200\n",
       "⋮  ⋮         ⋮          ⋮                                ⋮             \n",
       "90 cds       8          a48a661ccd0a47d59993e36b95147fbc AFOLKJKN_00363\n",
       "91 cds       8          299907c79c5a446fa61edd59ef341b1c GDKFNPGA_00758\n",
       "   contig_id      taxon                      start  end    score strand\n",
       "1  CP002123.1     GCA_000144405.1_ASM14440v1  97075  98859 .     -     \n",
       "2  GG703886.1     GCA_000162915.1_ASM16291v1 336896 338677 .     -     \n",
       "⋮  ⋮              ⋮                          ⋮      ⋮      ⋮     ⋮     \n",
       "90 UGTM01000002.1 GCA_900454835.1_52295_A01  451758 453539 .     -     \n",
       "91 UGTP01000002.1 GCA_900454935.1_57800_C01  294357 296132 .     +     \n",
       "   annotation                                cluster_name                    \n",
       "1  Polyribonucleotide nucleotidyltransferase 6ab20e4d4d0f406a8d66f92f6486129a\n",
       "2  30S ribosomal protein S1                  6ab20e4d4d0f406a8d66f92f6486129a\n",
       "⋮  ⋮                                         ⋮                               \n",
       "90 Polyribonucleotide nucleotidyltransferase 6ab20e4d4d0f406a8d66f92f6486129a\n",
       "91 30S ribosomal protein S1                  6ab20e4d4d0f406a8d66f92f6486129a\n",
       "   clust_id\n",
       "1  8       \n",
       "2  8       \n",
       "⋮  ⋮       \n",
       "90 8       \n",
       "91 8       "
      ]
     },
     "metadata": {},
     "output_type": "display_data"
    }
   ],
   "source": [
    "# target gene info\n",
    "gene_annot = read.delim(file.path(work_dir, 'primers', 'cgp', 'core_clusters_info.tsv'), \n",
    "                        sep='\\t') %>%\n",
    "    semi_join(primer_info, c('cluster_id')) \n",
    "gene_annot %>% distinct(gene_type, cluster_id) %>% nrow %>% cat('No. of clusters', ., '\\n')\n",
    "gene_annot"
   ]
  },
  {
   "cell_type": "markdown",
   "metadata": {},
   "source": [
    "### Gene cluster annotations"
   ]
  },
  {
   "cell_type": "code",
   "execution_count": 50,
   "metadata": {
    "execution": {
     "iopub.execute_input": "2021-04-24T05:27:06.653115Z",
     "iopub.status.busy": "2021-04-24T05:27:06.651175Z",
     "iopub.status.idle": "2021-04-24T05:27:06.743639Z"
    }
   },
   "outputs": [
    {
     "data": {
      "text/html": [
       "<table>\n",
       "<caption>A data.frame: 30 × 17</caption>\n",
       "<thead>\n",
       "\t<tr><th scope=col>cluster_id</th><th scope=col>query</th><th scope=col>subject</th><th scope=col>subject_name</th><th scope=col>pident</th><th scope=col>length</th><th scope=col>mismatch</th><th scope=col>qstart</th><th scope=col>qend</th><th scope=col>sstart</th><th scope=col>send</th><th scope=col>evalue</th><th scope=col>slen</th><th scope=col>qlen</th><th scope=col>sscinames</th><th scope=col>staxids</th><th scope=col>pident_rank</th></tr>\n",
       "\t<tr><th scope=col>&lt;int&gt;</th><th scope=col>&lt;fct&gt;</th><th scope=col>&lt;fct&gt;</th><th scope=col>&lt;fct&gt;</th><th scope=col>&lt;dbl&gt;</th><th scope=col>&lt;int&gt;</th><th scope=col>&lt;int&gt;</th><th scope=col>&lt;int&gt;</th><th scope=col>&lt;int&gt;</th><th scope=col>&lt;int&gt;</th><th scope=col>&lt;int&gt;</th><th scope=col>&lt;dbl&gt;</th><th scope=col>&lt;int&gt;</th><th scope=col>&lt;int&gt;</th><th scope=col>&lt;fct&gt;</th><th scope=col>&lt;fct&gt;</th><th scope=col>&lt;int&gt;</th></tr>\n",
       "</thead>\n",
       "<tbody>\n",
       "\t<tr><td>8</td><td>6ab20e4d4d0f406a8d66f92f6486129a</td><td>SFW41323.1</td><td>SSU ribosomal protein S1P [Prevotellaceae bacterium HUN156]</td><td>90.674</td><td>579</td><td>53</td><td>1</td><td>1734</td><td>1</td><td>579</td><td>0</td><td>592</td><td>1779</td><td>Prevotellaceae bacterium HUN156</td><td>1520830</td><td>2</td></tr>\n",
       "\t<tr><td>8</td><td>6ab20e4d4d0f406a8d66f92f6486129a</td><td>SNU04056.1</td><td>SSU ribosomal protein S1P [Prevotellaceae bacterium MN60]  </td><td>90.846</td><td>579</td><td>52</td><td>1</td><td>1734</td><td>1</td><td>579</td><td>0</td><td>592</td><td>1779</td><td>Prevotellaceae bacterium MN60  </td><td>1945887</td><td>1</td></tr>\n",
       "\t<tr><td>⋮</td><td>⋮</td><td>⋮</td><td>⋮</td><td>⋮</td><td>⋮</td><td>⋮</td><td>⋮</td><td>⋮</td><td>⋮</td><td>⋮</td><td>⋮</td><td>⋮</td><td>⋮</td><td>⋮</td><td>⋮</td><td>⋮</td></tr>\n",
       "\t<tr><td>8</td><td>6ab20e4d4d0f406a8d66f92f6486129a</td><td>WP_044264685.1</td><td>MULTISPECIES: 30S ribosomal protein S1 [Bacteroides]</td><td>80.517</td><td>580</td><td>106</td><td>16</td><td>1734</td><td>5</td><td>584</td><td>0</td><td>598</td><td>1779</td><td>Bacteroides;Bacteroides oleiciplenus;Bacteroides stercorirosoris;Bacteroides timonensis   </td><td>816;626931;871324;1470345</td><td>25</td></tr>\n",
       "\t<tr><td>8</td><td>6ab20e4d4d0f406a8d66f92f6486129a</td><td>WP_007757364.1</td><td>MULTISPECIES: 30S ribosomal protein S1 [Bacteroides]</td><td>80.446</td><td>583</td><td>104</td><td>16</td><td>1734</td><td>5</td><td>587</td><td>0</td><td>600</td><td>1779</td><td>Bacteroides;Bacteroides finegoldii;Bacteroides finegoldii DSM 17565;Bacteroides sp. NSJ-39</td><td>816;338188;483215;2763019</td><td>26</td></tr>\n",
       "</tbody>\n",
       "</table>\n"
      ],
      "text/latex": [
       "A data.frame: 30 × 17\n",
       "\\begin{tabular}{lllllllllllllllll}\n",
       " cluster\\_id & query & subject & subject\\_name & pident & length & mismatch & qstart & qend & sstart & send & evalue & slen & qlen & sscinames & staxids & pident\\_rank\\\\\n",
       " <int> & <fct> & <fct> & <fct> & <dbl> & <int> & <int> & <int> & <int> & <int> & <int> & <dbl> & <int> & <int> & <fct> & <fct> & <int>\\\\\n",
       "\\hline\n",
       "\t 8 & 6ab20e4d4d0f406a8d66f92f6486129a & SFW41323.1 & SSU ribosomal protein S1P {[}Prevotellaceae bacterium HUN156{]} & 90.674 & 579 & 53 & 1 & 1734 & 1 & 579 & 0 & 592 & 1779 & Prevotellaceae bacterium HUN156 & 1520830 & 2\\\\\n",
       "\t 8 & 6ab20e4d4d0f406a8d66f92f6486129a & SNU04056.1 & SSU ribosomal protein S1P {[}Prevotellaceae bacterium MN60{]}   & 90.846 & 579 & 52 & 1 & 1734 & 1 & 579 & 0 & 592 & 1779 & Prevotellaceae bacterium MN60   & 1945887 & 1\\\\\n",
       "\t ⋮ & ⋮ & ⋮ & ⋮ & ⋮ & ⋮ & ⋮ & ⋮ & ⋮ & ⋮ & ⋮ & ⋮ & ⋮ & ⋮ & ⋮ & ⋮ & ⋮\\\\\n",
       "\t 8 & 6ab20e4d4d0f406a8d66f92f6486129a & WP\\_044264685.1 & MULTISPECIES: 30S ribosomal protein S1 {[}Bacteroides{]} & 80.517 & 580 & 106 & 16 & 1734 & 5 & 584 & 0 & 598 & 1779 & Bacteroides;Bacteroides oleiciplenus;Bacteroides stercorirosoris;Bacteroides timonensis    & 816;626931;871324;1470345 & 25\\\\\n",
       "\t 8 & 6ab20e4d4d0f406a8d66f92f6486129a & WP\\_007757364.1 & MULTISPECIES: 30S ribosomal protein S1 {[}Bacteroides{]} & 80.446 & 583 & 104 & 16 & 1734 & 5 & 587 & 0 & 600 & 1779 & Bacteroides;Bacteroides finegoldii;Bacteroides finegoldii DSM 17565;Bacteroides sp. NSJ-39 & 816;338188;483215;2763019 & 26\\\\\n",
       "\\end{tabular}\n"
      ],
      "text/markdown": [
       "\n",
       "A data.frame: 30 × 17\n",
       "\n",
       "| cluster_id &lt;int&gt; | query &lt;fct&gt; | subject &lt;fct&gt; | subject_name &lt;fct&gt; | pident &lt;dbl&gt; | length &lt;int&gt; | mismatch &lt;int&gt; | qstart &lt;int&gt; | qend &lt;int&gt; | sstart &lt;int&gt; | send &lt;int&gt; | evalue &lt;dbl&gt; | slen &lt;int&gt; | qlen &lt;int&gt; | sscinames &lt;fct&gt; | staxids &lt;fct&gt; | pident_rank &lt;int&gt; |\n",
       "|---|---|---|---|---|---|---|---|---|---|---|---|---|---|---|---|---|\n",
       "| 8 | 6ab20e4d4d0f406a8d66f92f6486129a | SFW41323.1 | SSU ribosomal protein S1P [Prevotellaceae bacterium HUN156] | 90.674 | 579 | 53 | 1 | 1734 | 1 | 579 | 0 | 592 | 1779 | Prevotellaceae bacterium HUN156 | 1520830 | 2 |\n",
       "| 8 | 6ab20e4d4d0f406a8d66f92f6486129a | SNU04056.1 | SSU ribosomal protein S1P [Prevotellaceae bacterium MN60]   | 90.846 | 579 | 52 | 1 | 1734 | 1 | 579 | 0 | 592 | 1779 | Prevotellaceae bacterium MN60   | 1945887 | 1 |\n",
       "| ⋮ | ⋮ | ⋮ | ⋮ | ⋮ | ⋮ | ⋮ | ⋮ | ⋮ | ⋮ | ⋮ | ⋮ | ⋮ | ⋮ | ⋮ | ⋮ | ⋮ |\n",
       "| 8 | 6ab20e4d4d0f406a8d66f92f6486129a | WP_044264685.1 | MULTISPECIES: 30S ribosomal protein S1 [Bacteroides] | 80.517 | 580 | 106 | 16 | 1734 | 5 | 584 | 0 | 598 | 1779 | Bacteroides;Bacteroides oleiciplenus;Bacteroides stercorirosoris;Bacteroides timonensis    | 816;626931;871324;1470345 | 25 |\n",
       "| 8 | 6ab20e4d4d0f406a8d66f92f6486129a | WP_007757364.1 | MULTISPECIES: 30S ribosomal protein S1 [Bacteroides] | 80.446 | 583 | 104 | 16 | 1734 | 5 | 587 | 0 | 600 | 1779 | Bacteroides;Bacteroides finegoldii;Bacteroides finegoldii DSM 17565;Bacteroides sp. NSJ-39 | 816;338188;483215;2763019 | 26 |\n",
       "\n"
      ],
      "text/plain": [
       "   cluster_id query                            subject       \n",
       "1  8          6ab20e4d4d0f406a8d66f92f6486129a SFW41323.1    \n",
       "2  8          6ab20e4d4d0f406a8d66f92f6486129a SNU04056.1    \n",
       "⋮  ⋮          ⋮                                ⋮             \n",
       "29 8          6ab20e4d4d0f406a8d66f92f6486129a WP_044264685.1\n",
       "30 8          6ab20e4d4d0f406a8d66f92f6486129a WP_007757364.1\n",
       "   subject_name                                                pident length\n",
       "1  SSU ribosomal protein S1P [Prevotellaceae bacterium HUN156] 90.674 579   \n",
       "2  SSU ribosomal protein S1P [Prevotellaceae bacterium MN60]   90.846 579   \n",
       "⋮  ⋮                                                           ⋮      ⋮     \n",
       "29 MULTISPECIES: 30S ribosomal protein S1 [Bacteroides]        80.517 580   \n",
       "30 MULTISPECIES: 30S ribosomal protein S1 [Bacteroides]        80.446 583   \n",
       "   mismatch qstart qend sstart send evalue slen qlen\n",
       "1  53       1      1734 1      579  0      592  1779\n",
       "2  52       1      1734 1      579  0      592  1779\n",
       "⋮  ⋮        ⋮      ⋮    ⋮      ⋮    ⋮      ⋮    ⋮   \n",
       "29 106      16     1734 5      584  0      598  1779\n",
       "30 104      16     1734 5      587  0      600  1779\n",
       "   sscinames                                                                                 \n",
       "1  Prevotellaceae bacterium HUN156                                                           \n",
       "2  Prevotellaceae bacterium MN60                                                             \n",
       "⋮  ⋮                                                                                         \n",
       "29 Bacteroides;Bacteroides oleiciplenus;Bacteroides stercorirosoris;Bacteroides timonensis   \n",
       "30 Bacteroides;Bacteroides finegoldii;Bacteroides finegoldii DSM 17565;Bacteroides sp. NSJ-39\n",
       "   staxids                   pident_rank\n",
       "1  1520830                   2          \n",
       "2  1945887                   1          \n",
       "⋮  ⋮                         ⋮          \n",
       "29 816;626931;871324;1470345 25         \n",
       "30 816;338188;483215;2763019 26         "
      ]
     },
     "metadata": {},
     "output_type": "display_data"
    }
   ],
   "source": [
    "# non-target cds gene annotations\n",
    "gene_nontarget = read.delim(file.path(work_dir, 'primers', 'cgp', 'nontarget', 'cds_blastx.tsv'), \n",
    "                        sep='\\t') %>%\n",
    "    semi_join(primer_info, c('cluster_id')) \n",
    "gene_nontarget"
   ]
  },
  {
   "cell_type": "markdown",
   "metadata": {},
   "source": [
    "### Cluster taxonomic uniqueness"
   ]
  },
  {
   "cell_type": "code",
   "execution_count": 51,
   "metadata": {
    "execution": {
     "iopub.execute_input": "2021-04-24T05:27:23.547028Z",
     "iopub.status.busy": "2021-04-24T05:27:23.544872Z",
     "iopub.status.idle": "2021-04-24T05:27:23.585366Z"
    }
   },
   "outputs": [
    {
     "data": {
      "text/html": [
       "<table>\n",
       "<caption>A matrix: 1 × 8 of type dbl</caption>\n",
       "<thead>\n",
       "\t<tr><th></th><th scope=col>Min.</th><th scope=col>1st Qu.</th><th scope=col>Median</th><th scope=col>Mean</th><th scope=col>3rd Qu.</th><th scope=col>Max.</th><th scope=col>sd</th><th scope=col>sd_err_of_mean</th></tr>\n",
       "</thead>\n",
       "<tbody>\n",
       "\t<tr><th scope=row>seq-ID to closest non-target</th><td>90.846</td><td>90.846</td><td>90.846</td><td>90.846</td><td>90.846</td><td>90.846</td><td>0</td><td>0</td></tr>\n",
       "</tbody>\n",
       "</table>\n"
      ],
      "text/latex": [
       "A matrix: 1 × 8 of type dbl\n",
       "\\begin{tabular}{r|llllllll}\n",
       "  & Min. & 1st Qu. & Median & Mean & 3rd Qu. & Max. & sd & sd\\_err\\_of\\_mean\\\\\n",
       "\\hline\n",
       "\tseq-ID to closest non-target & 90.846 & 90.846 & 90.846 & 90.846 & 90.846 & 90.846 & 0 & 0\\\\\n",
       "\\end{tabular}\n"
      ],
      "text/markdown": [
       "\n",
       "A matrix: 1 × 8 of type dbl\n",
       "\n",
       "| <!--/--> | Min. | 1st Qu. | Median | Mean | 3rd Qu. | Max. | sd | sd_err_of_mean |\n",
       "|---|---|---|---|---|---|---|---|---|\n",
       "| seq-ID to closest non-target | 90.846 | 90.846 | 90.846 | 90.846 | 90.846 | 90.846 | 0 | 0 |\n",
       "\n"
      ],
      "text/plain": [
       "                             Min.   1st Qu. Median Mean   3rd Qu. Max.   sd\n",
       "seq-ID to closest non-target 90.846 90.846  90.846 90.846 90.846  90.846 0 \n",
       "                             sd_err_of_mean\n",
       "seq-ID to closest non-target 0             "
      ]
     },
     "metadata": {},
     "output_type": "display_data"
    }
   ],
   "source": [
    "# closest seqID\n",
    "gene_nontarget %>%\n",
    "    filter(pident_rank == 1) %>%\n",
    "    .$pident %>% summary_x('seq-ID to closest non-target')"
   ]
  },
  {
   "cell_type": "markdown",
   "metadata": {},
   "source": [
    "### Primer quality"
   ]
  },
  {
   "cell_type": "code",
   "execution_count": 52,
   "metadata": {
    "execution": {
     "iopub.execute_input": "2021-04-24T05:27:37.135929Z",
     "iopub.status.busy": "2021-04-24T05:27:37.133450Z",
     "iopub.status.idle": "2021-04-24T05:27:37.158876Z"
    }
   },
   "outputs": [
    {
     "name": "stdout",
     "output_type": "stream",
     "text": [
      "No. of unique primer sets: 1 \n",
      "No. of unique clusters: 1 \n"
     ]
    }
   ],
   "source": [
    "# summary\n",
    "primer_info %>% unique_n('primer sets', primer_set)\n",
    "primer_info %>% distinct(gene_type, cluster_id) %>% nrow %>% cat('No. of unique clusters:', ., '\\n')"
   ]
  },
  {
   "cell_type": "code",
   "execution_count": 53,
   "metadata": {
    "execution": {
     "iopub.execute_input": "2021-04-24T05:27:43.872338Z",
     "iopub.status.busy": "2021-04-24T05:27:43.870051Z",
     "iopub.status.idle": "2021-04-24T05:27:43.916964Z"
    }
   },
   "outputs": [
    {
     "data": {
      "text/html": [
       "<table>\n",
       "<caption>A matrix: 1 × 8 of type dbl</caption>\n",
       "<thead>\n",
       "\t<tr><th></th><th scope=col>Min.</th><th scope=col>1st Qu.</th><th scope=col>Median</th><th scope=col>Mean</th><th scope=col>3rd Qu.</th><th scope=col>Max.</th><th scope=col>sd</th><th scope=col>sd_err_of_mean</th></tr>\n",
       "</thead>\n",
       "<tbody>\n",
       "\t<tr><th scope=row>primer sets per cluster</th><td>1</td><td>1</td><td>1</td><td>1</td><td>1</td><td>1</td><td>0</td><td>0</td></tr>\n",
       "</tbody>\n",
       "</table>\n"
      ],
      "text/latex": [
       "A matrix: 1 × 8 of type dbl\n",
       "\\begin{tabular}{r|llllllll}\n",
       "  & Min. & 1st Qu. & Median & Mean & 3rd Qu. & Max. & sd & sd\\_err\\_of\\_mean\\\\\n",
       "\\hline\n",
       "\tprimer sets per cluster & 1 & 1 & 1 & 1 & 1 & 1 & 0 & 0\\\\\n",
       "\\end{tabular}\n"
      ],
      "text/markdown": [
       "\n",
       "A matrix: 1 × 8 of type dbl\n",
       "\n",
       "| <!--/--> | Min. | 1st Qu. | Median | Mean | 3rd Qu. | Max. | sd | sd_err_of_mean |\n",
       "|---|---|---|---|---|---|---|---|---|\n",
       "| primer sets per cluster | 1 | 1 | 1 | 1 | 1 | 1 | 0 | 0 |\n",
       "\n"
      ],
      "text/plain": [
       "                        Min. 1st Qu. Median Mean 3rd Qu. Max. sd sd_err_of_mean\n",
       "primer sets per cluster 1    1       1      1    1       1    0  0             "
      ]
     },
     "metadata": {},
     "output_type": "display_data"
    }
   ],
   "source": [
    "# primer per cluster\n",
    "primer_info %>%\n",
    "    distinct(cluster_id, primer_set) %>%\n",
    "    group_by(cluster_id) %>%\n",
    "    summarize(n_primer_sets = n(), .groups='drop') %>%\n",
    "    .$n_primer_sets %>% summary_x('primer sets per cluster')"
   ]
  },
  {
   "cell_type": "code",
   "execution_count": 54,
   "metadata": {
    "execution": {
     "iopub.execute_input": "2021-04-24T05:27:50.724627Z",
     "iopub.status.busy": "2021-04-24T05:27:50.721395Z",
     "iopub.status.idle": "2021-04-24T05:27:50.772955Z"
    }
   },
   "outputs": [
    {
     "data": {
      "text/html": [
       "<table>\n",
       "<caption>A matrix: 1 × 8 of type dbl</caption>\n",
       "<thead>\n",
       "\t<tr><th></th><th scope=col>Min.</th><th scope=col>1st Qu.</th><th scope=col>Median</th><th scope=col>Mean</th><th scope=col>3rd Qu.</th><th scope=col>Max.</th><th scope=col>sd</th><th scope=col>sd_err_of_mean</th></tr>\n",
       "</thead>\n",
       "<tbody>\n",
       "\t<tr><th scope=row>mean amplicon size</th><td>165</td><td>165</td><td>165</td><td>165</td><td>165</td><td>165</td><td>0</td><td>0</td></tr>\n",
       "</tbody>\n",
       "</table>\n"
      ],
      "text/latex": [
       "A matrix: 1 × 8 of type dbl\n",
       "\\begin{tabular}{r|llllllll}\n",
       "  & Min. & 1st Qu. & Median & Mean & 3rd Qu. & Max. & sd & sd\\_err\\_of\\_mean\\\\\n",
       "\\hline\n",
       "\tmean amplicon size & 165 & 165 & 165 & 165 & 165 & 165 & 0 & 0\\\\\n",
       "\\end{tabular}\n"
      ],
      "text/markdown": [
       "\n",
       "A matrix: 1 × 8 of type dbl\n",
       "\n",
       "| <!--/--> | Min. | 1st Qu. | Median | Mean | 3rd Qu. | Max. | sd | sd_err_of_mean |\n",
       "|---|---|---|---|---|---|---|---|---|\n",
       "| mean amplicon size | 165 | 165 | 165 | 165 | 165 | 165 | 0 | 0 |\n",
       "\n"
      ],
      "text/plain": [
       "                   Min. 1st Qu. Median Mean 3rd Qu. Max. sd sd_err_of_mean\n",
       "mean amplicon size 165  165     165    165  165     165  0  0             "
      ]
     },
     "metadata": {},
     "output_type": "display_data"
    },
    {
     "data": {
      "text/html": [
       "<table>\n",
       "<caption>A matrix: 1 × 8 of type dbl</caption>\n",
       "<thead>\n",
       "\t<tr><th></th><th scope=col>Min.</th><th scope=col>1st Qu.</th><th scope=col>Median</th><th scope=col>Mean</th><th scope=col>3rd Qu.</th><th scope=col>Max.</th><th scope=col>sd</th><th scope=col>sd_err_of_mean</th></tr>\n",
       "</thead>\n",
       "<tbody>\n",
       "\t<tr><th scope=row>degeneracy</th><td>128</td><td>128</td><td>128</td><td>128</td><td>128</td><td>128</td><td>0</td><td>0</td></tr>\n",
       "</tbody>\n",
       "</table>\n"
      ],
      "text/latex": [
       "A matrix: 1 × 8 of type dbl\n",
       "\\begin{tabular}{r|llllllll}\n",
       "  & Min. & 1st Qu. & Median & Mean & 3rd Qu. & Max. & sd & sd\\_err\\_of\\_mean\\\\\n",
       "\\hline\n",
       "\tdegeneracy & 128 & 128 & 128 & 128 & 128 & 128 & 0 & 0\\\\\n",
       "\\end{tabular}\n"
      ],
      "text/markdown": [
       "\n",
       "A matrix: 1 × 8 of type dbl\n",
       "\n",
       "| <!--/--> | Min. | 1st Qu. | Median | Mean | 3rd Qu. | Max. | sd | sd_err_of_mean |\n",
       "|---|---|---|---|---|---|---|---|---|\n",
       "| degeneracy | 128 | 128 | 128 | 128 | 128 | 128 | 0 | 0 |\n",
       "\n"
      ],
      "text/plain": [
       "           Min. 1st Qu. Median Mean 3rd Qu. Max. sd sd_err_of_mean\n",
       "degeneracy 128  128     128    128  128     128  0  0             "
      ]
     },
     "metadata": {},
     "output_type": "display_data"
    },
    {
     "data": {
      "text/html": [
       "<table>\n",
       "<caption>A matrix: 1 × 8 of type dbl</caption>\n",
       "<thead>\n",
       "\t<tr><th></th><th scope=col>Min.</th><th scope=col>1st Qu.</th><th scope=col>Median</th><th scope=col>Mean</th><th scope=col>3rd Qu.</th><th scope=col>Max.</th><th scope=col>sd</th><th scope=col>sd_err_of_mean</th></tr>\n",
       "</thead>\n",
       "<tbody>\n",
       "\t<tr><th scope=row>degeneracy (3-prime)</th><td>2</td><td>2.5</td><td>3</td><td>3</td><td>3.5</td><td>4</td><td>0.707</td><td>0.289</td></tr>\n",
       "</tbody>\n",
       "</table>\n"
      ],
      "text/latex": [
       "A matrix: 1 × 8 of type dbl\n",
       "\\begin{tabular}{r|llllllll}\n",
       "  & Min. & 1st Qu. & Median & Mean & 3rd Qu. & Max. & sd & sd\\_err\\_of\\_mean\\\\\n",
       "\\hline\n",
       "\tdegeneracy (3-prime) & 2 & 2.5 & 3 & 3 & 3.5 & 4 & 0.707 & 0.289\\\\\n",
       "\\end{tabular}\n"
      ],
      "text/markdown": [
       "\n",
       "A matrix: 1 × 8 of type dbl\n",
       "\n",
       "| <!--/--> | Min. | 1st Qu. | Median | Mean | 3rd Qu. | Max. | sd | sd_err_of_mean |\n",
       "|---|---|---|---|---|---|---|---|---|\n",
       "| degeneracy (3-prime) | 2 | 2.5 | 3 | 3 | 3.5 | 4 | 0.707 | 0.289 |\n",
       "\n"
      ],
      "text/plain": [
       "                     Min. 1st Qu. Median Mean 3rd Qu. Max. sd    sd_err_of_mean\n",
       "degeneracy (3-prime) 2    2.5     3      3    3.5     4    0.707 0.289         "
      ]
     },
     "metadata": {},
     "output_type": "display_data"
    }
   ],
   "source": [
    "# primer quality\n",
    "primer_info %>% filter(primer_type == 'PRIMER_LEFT') %>% .$amplicon_size_avg %>% summary_x('mean amplicon size')\n",
    "primer_info %>% .$degeneracy %>% summary_x('degeneracy')\n",
    "primer_info %>% .$degeneracy_3prime %>% summary_x('degeneracy (3-prime)')"
   ]
  },
  {
   "cell_type": "code",
   "execution_count": 55,
   "metadata": {
    "execution": {
     "iopub.execute_input": "2021-04-24T05:28:01.610370Z",
     "iopub.status.busy": "2021-04-24T05:28:01.608084Z",
     "iopub.status.idle": "2021-04-24T05:28:01.674816Z"
    }
   },
   "outputs": [
    {
     "data": {
      "text/html": [
       "<table>\n",
       "<caption>A data.frame: 2 × 24</caption>\n",
       "<thead>\n",
       "\t<tr><th scope=col>gene_type</th><th scope=col>cluster_id</th><th scope=col>primer_set</th><th scope=col>amplicon_size_consensus</th><th scope=col>amplicon_size_avg</th><th scope=col>amplicon_size_sd</th><th scope=col>primer_id</th><th scope=col>primer_type</th><th scope=col>sequence</th><th scope=col>length</th><th scope=col>⋯</th><th scope=col>Tm_avg</th><th scope=col>Tm_sd</th><th scope=col>GC_avg</th><th scope=col>GC_sd</th><th scope=col>hairpin_avg</th><th scope=col>hairpin_sd</th><th scope=col>homodimer_avg</th><th scope=col>homodimer_sd</th><th scope=col>pident</th><th scope=col>sscinames</th></tr>\n",
       "\t<tr><th scope=col>&lt;chr&gt;</th><th scope=col>&lt;int&gt;</th><th scope=col>&lt;int&gt;</th><th scope=col>&lt;int&gt;</th><th scope=col>&lt;dbl&gt;</th><th scope=col>&lt;dbl&gt;</th><th scope=col>&lt;fct&gt;</th><th scope=col>&lt;fct&gt;</th><th scope=col>&lt;fct&gt;</th><th scope=col>&lt;int&gt;</th><th scope=col>⋯</th><th scope=col>&lt;dbl&gt;</th><th scope=col>&lt;dbl&gt;</th><th scope=col>&lt;dbl&gt;</th><th scope=col>&lt;dbl&gt;</th><th scope=col>&lt;dbl&gt;</th><th scope=col>&lt;dbl&gt;</th><th scope=col>&lt;dbl&gt;</th><th scope=col>&lt;dbl&gt;</th><th scope=col>&lt;dbl&gt;</th><th scope=col>&lt;fct&gt;</th></tr>\n",
       "</thead>\n",
       "<tbody>\n",
       "\t<tr><td>cds</td><td>8</td><td>478</td><td>165</td><td>165</td><td>0</td><td>478f</td><td>PRIMER_LEFT </td><td>ATYAAGWGYCGYACNAARGG</td><td>20</td><td>⋯</td><td>57.34402</td><td>2.984923</td><td>47.5</td><td>5.590170</td><td>12.32349</td><td>18.38053</td><td>-5.195385</td><td>18.64899</td><td>90.846</td><td>Prevotellaceae bacterium MN60</td></tr>\n",
       "\t<tr><td>cds</td><td>8</td><td>478</td><td>165</td><td>165</td><td>0</td><td>478r</td><td>PRIMER_RIGHT</td><td>NACRTTRCGGAAYTCYTGRT</td><td>20</td><td>⋯</td><td>57.13081</td><td>2.800376</td><td>45.0</td><td>6.123724</td><td> 4.17719</td><td>11.05181</td><td> 2.801095</td><td>21.40866</td><td>90.846</td><td>Prevotellaceae bacterium MN60</td></tr>\n",
       "</tbody>\n",
       "</table>\n"
      ],
      "text/latex": [
       "A data.frame: 2 × 24\n",
       "\\begin{tabular}{lllllllllllllllllllll}\n",
       " gene\\_type & cluster\\_id & primer\\_set & amplicon\\_size\\_consensus & amplicon\\_size\\_avg & amplicon\\_size\\_sd & primer\\_id & primer\\_type & sequence & length & ⋯ & Tm\\_avg & Tm\\_sd & GC\\_avg & GC\\_sd & hairpin\\_avg & hairpin\\_sd & homodimer\\_avg & homodimer\\_sd & pident & sscinames\\\\\n",
       " <chr> & <int> & <int> & <int> & <dbl> & <dbl> & <fct> & <fct> & <fct> & <int> & ⋯ & <dbl> & <dbl> & <dbl> & <dbl> & <dbl> & <dbl> & <dbl> & <dbl> & <dbl> & <fct>\\\\\n",
       "\\hline\n",
       "\t cds & 8 & 478 & 165 & 165 & 0 & 478f & PRIMER\\_LEFT  & ATYAAGWGYCGYACNAARGG & 20 & ⋯ & 57.34402 & 2.984923 & 47.5 & 5.590170 & 12.32349 & 18.38053 & -5.195385 & 18.64899 & 90.846 & Prevotellaceae bacterium MN60\\\\\n",
       "\t cds & 8 & 478 & 165 & 165 & 0 & 478r & PRIMER\\_RIGHT & NACRTTRCGGAAYTCYTGRT & 20 & ⋯ & 57.13081 & 2.800376 & 45.0 & 6.123724 &  4.17719 & 11.05181 &  2.801095 & 21.40866 & 90.846 & Prevotellaceae bacterium MN60\\\\\n",
       "\\end{tabular}\n"
      ],
      "text/markdown": [
       "\n",
       "A data.frame: 2 × 24\n",
       "\n",
       "| gene_type &lt;chr&gt; | cluster_id &lt;int&gt; | primer_set &lt;int&gt; | amplicon_size_consensus &lt;int&gt; | amplicon_size_avg &lt;dbl&gt; | amplicon_size_sd &lt;dbl&gt; | primer_id &lt;fct&gt; | primer_type &lt;fct&gt; | sequence &lt;fct&gt; | length &lt;int&gt; | ⋯ ⋯ | Tm_avg &lt;dbl&gt; | Tm_sd &lt;dbl&gt; | GC_avg &lt;dbl&gt; | GC_sd &lt;dbl&gt; | hairpin_avg &lt;dbl&gt; | hairpin_sd &lt;dbl&gt; | homodimer_avg &lt;dbl&gt; | homodimer_sd &lt;dbl&gt; | pident &lt;dbl&gt; | sscinames &lt;fct&gt; |\n",
       "|---|---|---|---|---|---|---|---|---|---|---|---|---|---|---|---|---|---|---|---|---|\n",
       "| cds | 8 | 478 | 165 | 165 | 0 | 478f | PRIMER_LEFT  | ATYAAGWGYCGYACNAARGG | 20 | ⋯ | 57.34402 | 2.984923 | 47.5 | 5.590170 | 12.32349 | 18.38053 | -5.195385 | 18.64899 | 90.846 | Prevotellaceae bacterium MN60 |\n",
       "| cds | 8 | 478 | 165 | 165 | 0 | 478r | PRIMER_RIGHT | NACRTTRCGGAAYTCYTGRT | 20 | ⋯ | 57.13081 | 2.800376 | 45.0 | 6.123724 |  4.17719 | 11.05181 |  2.801095 | 21.40866 | 90.846 | Prevotellaceae bacterium MN60 |\n",
       "\n"
      ],
      "text/plain": [
       "  gene_type cluster_id primer_set amplicon_size_consensus amplicon_size_avg\n",
       "1 cds       8          478        165                     165              \n",
       "2 cds       8          478        165                     165              \n",
       "  amplicon_size_sd primer_id primer_type  sequence             length ⋯\n",
       "1 0                478f      PRIMER_LEFT  ATYAAGWGYCGYACNAARGG 20     ⋯\n",
       "2 0                478r      PRIMER_RIGHT NACRTTRCGGAAYTCYTGRT 20     ⋯\n",
       "  Tm_avg   Tm_sd    GC_avg GC_sd    hairpin_avg hairpin_sd homodimer_avg\n",
       "1 57.34402 2.984923 47.5   5.590170 12.32349    18.38053   -5.195385    \n",
       "2 57.13081 2.800376 45.0   6.123724  4.17719    11.05181    2.801095    \n",
       "  homodimer_sd pident sscinames                    \n",
       "1 18.64899     90.846 Prevotellaceae bacterium MN60\n",
       "2 21.40866     90.846 Prevotellaceae bacterium MN60"
      ]
     },
     "metadata": {},
     "output_type": "display_data"
    }
   ],
   "source": [
    "# adding non-target pident info\n",
    "tmp1 = gene_nontarget %>%\n",
    "    filter(pident_rank == 1) %>%\n",
    "    distinct(cluster_id, pident, sscinames) %>%\n",
    "    mutate(gene_type = 'cds')\n",
    "\n",
    "primer_info_j = primer_info %>%\n",
    "    inner_join(tmp1, c('gene_type', 'cluster_id'))\n",
    "primer_info_j"
   ]
  },
  {
   "cell_type": "code",
   "execution_count": 56,
   "metadata": {
    "execution": {
     "iopub.execute_input": "2021-04-24T05:28:12.255658Z",
     "iopub.status.busy": "2021-04-24T05:28:12.253393Z",
     "iopub.status.idle": "2021-04-24T05:28:12.332334Z"
    }
   },
   "outputs": [
    {
     "data": {
      "text/html": [
       "<table>\n",
       "<caption>A tibble: 2 × 26</caption>\n",
       "<thead>\n",
       "\t<tr><th scope=col>gene_type</th><th scope=col>cluster_id</th><th scope=col>primer_set</th><th scope=col>amplicon_size_consensus</th><th scope=col>amplicon_size_avg</th><th scope=col>amplicon_size_sd</th><th scope=col>primer_id</th><th scope=col>primer_type</th><th scope=col>sequence</th><th scope=col>length</th><th scope=col>degeneracy</th><th scope=col>degeneracy_3prime</th><th scope=col>position_start</th><th scope=col>position_end</th><th scope=col>Tm_avg</th><th scope=col>Tm_sd</th><th scope=col>GC_avg</th><th scope=col>GC_sd</th><th scope=col>hairpin_avg</th><th scope=col>hairpin_sd</th><th scope=col>homodimer_avg</th><th scope=col>homodimer_sd</th><th scope=col>pident</th><th scope=col>sscinames</th><th scope=col>max_degeneracy_3prime</th><th scope=col>max_degeneracy</th></tr>\n",
       "\t<tr><th scope=col>&lt;chr&gt;</th><th scope=col>&lt;int&gt;</th><th scope=col>&lt;int&gt;</th><th scope=col>&lt;int&gt;</th><th scope=col>&lt;dbl&gt;</th><th scope=col>&lt;dbl&gt;</th><th scope=col>&lt;fct&gt;</th><th scope=col>&lt;fct&gt;</th><th scope=col>&lt;fct&gt;</th><th scope=col>&lt;int&gt;</th><th scope=col>&lt;int&gt;</th><th scope=col>&lt;int&gt;</th><th scope=col>&lt;int&gt;</th><th scope=col>&lt;int&gt;</th><th scope=col>&lt;dbl&gt;</th><th scope=col>&lt;dbl&gt;</th><th scope=col>&lt;dbl&gt;</th><th scope=col>&lt;dbl&gt;</th><th scope=col>&lt;dbl&gt;</th><th scope=col>&lt;dbl&gt;</th><th scope=col>&lt;dbl&gt;</th><th scope=col>&lt;dbl&gt;</th><th scope=col>&lt;dbl&gt;</th><th scope=col>&lt;fct&gt;</th><th scope=col>&lt;int&gt;</th><th scope=col>&lt;int&gt;</th></tr>\n",
       "</thead>\n",
       "<tbody>\n",
       "\t<tr><td>cds</td><td>8</td><td>478</td><td>165</td><td>165</td><td>0</td><td>478f</td><td>PRIMER_LEFT </td><td>ATYAAGWGYCGYACNAARGG</td><td>20</td><td>128</td><td>2</td><td>474</td><td>494</td><td>57.34402</td><td>2.984923</td><td>47.5</td><td>5.590170</td><td>12.32349</td><td>18.38053</td><td>-5.195385</td><td>18.64899</td><td>90.846</td><td>Prevotellaceae bacterium MN60</td><td>4</td><td>128</td></tr>\n",
       "\t<tr><td>cds</td><td>8</td><td>478</td><td>165</td><td>165</td><td>0</td><td>478r</td><td>PRIMER_RIGHT</td><td>NACRTTRCGGAAYTCYTGRT</td><td>20</td><td>128</td><td>4</td><td>619</td><td>639</td><td>57.13081</td><td>2.800376</td><td>45.0</td><td>6.123724</td><td> 4.17719</td><td>11.05181</td><td> 2.801095</td><td>21.40866</td><td>90.846</td><td>Prevotellaceae bacterium MN60</td><td>4</td><td>128</td></tr>\n",
       "</tbody>\n",
       "</table>\n"
      ],
      "text/latex": [
       "A tibble: 2 × 26\n",
       "\\begin{tabular}{llllllllllllllllllllllllll}\n",
       " gene\\_type & cluster\\_id & primer\\_set & amplicon\\_size\\_consensus & amplicon\\_size\\_avg & amplicon\\_size\\_sd & primer\\_id & primer\\_type & sequence & length & degeneracy & degeneracy\\_3prime & position\\_start & position\\_end & Tm\\_avg & Tm\\_sd & GC\\_avg & GC\\_sd & hairpin\\_avg & hairpin\\_sd & homodimer\\_avg & homodimer\\_sd & pident & sscinames & max\\_degeneracy\\_3prime & max\\_degeneracy\\\\\n",
       " <chr> & <int> & <int> & <int> & <dbl> & <dbl> & <fct> & <fct> & <fct> & <int> & <int> & <int> & <int> & <int> & <dbl> & <dbl> & <dbl> & <dbl> & <dbl> & <dbl> & <dbl> & <dbl> & <dbl> & <fct> & <int> & <int>\\\\\n",
       "\\hline\n",
       "\t cds & 8 & 478 & 165 & 165 & 0 & 478f & PRIMER\\_LEFT  & ATYAAGWGYCGYACNAARGG & 20 & 128 & 2 & 474 & 494 & 57.34402 & 2.984923 & 47.5 & 5.590170 & 12.32349 & 18.38053 & -5.195385 & 18.64899 & 90.846 & Prevotellaceae bacterium MN60 & 4 & 128\\\\\n",
       "\t cds & 8 & 478 & 165 & 165 & 0 & 478r & PRIMER\\_RIGHT & NACRTTRCGGAAYTCYTGRT & 20 & 128 & 4 & 619 & 639 & 57.13081 & 2.800376 & 45.0 & 6.123724 &  4.17719 & 11.05181 &  2.801095 & 21.40866 & 90.846 & Prevotellaceae bacterium MN60 & 4 & 128\\\\\n",
       "\\end{tabular}\n"
      ],
      "text/markdown": [
       "\n",
       "A tibble: 2 × 26\n",
       "\n",
       "| gene_type &lt;chr&gt; | cluster_id &lt;int&gt; | primer_set &lt;int&gt; | amplicon_size_consensus &lt;int&gt; | amplicon_size_avg &lt;dbl&gt; | amplicon_size_sd &lt;dbl&gt; | primer_id &lt;fct&gt; | primer_type &lt;fct&gt; | sequence &lt;fct&gt; | length &lt;int&gt; | degeneracy &lt;int&gt; | degeneracy_3prime &lt;int&gt; | position_start &lt;int&gt; | position_end &lt;int&gt; | Tm_avg &lt;dbl&gt; | Tm_sd &lt;dbl&gt; | GC_avg &lt;dbl&gt; | GC_sd &lt;dbl&gt; | hairpin_avg &lt;dbl&gt; | hairpin_sd &lt;dbl&gt; | homodimer_avg &lt;dbl&gt; | homodimer_sd &lt;dbl&gt; | pident &lt;dbl&gt; | sscinames &lt;fct&gt; | max_degeneracy_3prime &lt;int&gt; | max_degeneracy &lt;int&gt; |\n",
       "|---|---|---|---|---|---|---|---|---|---|---|---|---|---|---|---|---|---|---|---|---|---|---|---|---|---|\n",
       "| cds | 8 | 478 | 165 | 165 | 0 | 478f | PRIMER_LEFT  | ATYAAGWGYCGYACNAARGG | 20 | 128 | 2 | 474 | 494 | 57.34402 | 2.984923 | 47.5 | 5.590170 | 12.32349 | 18.38053 | -5.195385 | 18.64899 | 90.846 | Prevotellaceae bacterium MN60 | 4 | 128 |\n",
       "| cds | 8 | 478 | 165 | 165 | 0 | 478r | PRIMER_RIGHT | NACRTTRCGGAAYTCYTGRT | 20 | 128 | 4 | 619 | 639 | 57.13081 | 2.800376 | 45.0 | 6.123724 |  4.17719 | 11.05181 |  2.801095 | 21.40866 | 90.846 | Prevotellaceae bacterium MN60 | 4 | 128 |\n",
       "\n"
      ],
      "text/plain": [
       "  gene_type cluster_id primer_set amplicon_size_consensus amplicon_size_avg\n",
       "1 cds       8          478        165                     165              \n",
       "2 cds       8          478        165                     165              \n",
       "  amplicon_size_sd primer_id primer_type  sequence             length\n",
       "1 0                478f      PRIMER_LEFT  ATYAAGWGYCGYACNAARGG 20    \n",
       "2 0                478r      PRIMER_RIGHT NACRTTRCGGAAYTCYTGRT 20    \n",
       "  degeneracy degeneracy_3prime position_start position_end Tm_avg   Tm_sd   \n",
       "1 128        2                 474            494          57.34402 2.984923\n",
       "2 128        4                 619            639          57.13081 2.800376\n",
       "  GC_avg GC_sd    hairpin_avg hairpin_sd homodimer_avg homodimer_sd pident\n",
       "1 47.5   5.590170 12.32349    18.38053   -5.195385     18.64899     90.846\n",
       "2 45.0   6.123724  4.17719    11.05181    2.801095     21.40866     90.846\n",
       "  sscinames                     max_degeneracy_3prime max_degeneracy\n",
       "1 Prevotellaceae bacterium MN60 4                     128           \n",
       "2 Prevotellaceae bacterium MN60 4                     128           "
      ]
     },
     "metadata": {},
     "output_type": "display_data"
    }
   ],
   "source": [
    "# arrange by \"best\" primers\n",
    "primer_info_jf = primer_info_j %>%\n",
    "    group_by(primer_set) %>%\n",
    "    mutate(max_degeneracy_3prime = max(degeneracy_3prime),  # max of [Fwd,Rev]\n",
    "           max_degeneracy = max(degeneracy)) %>%\n",
    "    ungroup() %>%\n",
    "    arrange(pident, max_degeneracy_3prime, max_degeneracy) %>%\n",
    "    head(n=30)\n",
    "\n",
    "df.dims(30,40)\n",
    "primer_info_jf\n",
    "df.dims()"
   ]
  },
  {
   "cell_type": "markdown",
   "metadata": {},
   "source": [
    "#### w/ gene annotations"
   ]
  },
  {
   "cell_type": "code",
   "execution_count": 57,
   "metadata": {
    "execution": {
     "iopub.execute_input": "2021-04-24T05:28:48.534289Z",
     "iopub.status.busy": "2021-04-24T05:28:48.532339Z",
     "iopub.status.idle": "2021-04-24T05:28:48.595269Z"
    }
   },
   "outputs": [
    {
     "data": {
      "text/html": [
       "<table>\n",
       "<caption>A tibble: 4 × 27</caption>\n",
       "<thead>\n",
       "\t<tr><th scope=col>gene_type</th><th scope=col>cluster_id</th><th scope=col>primer_set</th><th scope=col>amplicon_size_consensus</th><th scope=col>amplicon_size_avg</th><th scope=col>amplicon_size_sd</th><th scope=col>primer_id</th><th scope=col>primer_type</th><th scope=col>sequence</th><th scope=col>length</th><th scope=col>degeneracy</th><th scope=col>degeneracy_3prime</th><th scope=col>position_start</th><th scope=col>position_end</th><th scope=col>Tm_avg</th><th scope=col>Tm_sd</th><th scope=col>GC_avg</th><th scope=col>GC_sd</th><th scope=col>hairpin_avg</th><th scope=col>hairpin_sd</th><th scope=col>homodimer_avg</th><th scope=col>homodimer_sd</th><th scope=col>pident</th><th scope=col>sscinames</th><th scope=col>max_degeneracy_3prime</th><th scope=col>max_degeneracy</th><th scope=col>annotation</th></tr>\n",
       "\t<tr><th scope=col>&lt;chr&gt;</th><th scope=col>&lt;int&gt;</th><th scope=col>&lt;int&gt;</th><th scope=col>&lt;int&gt;</th><th scope=col>&lt;dbl&gt;</th><th scope=col>&lt;dbl&gt;</th><th scope=col>&lt;fct&gt;</th><th scope=col>&lt;fct&gt;</th><th scope=col>&lt;fct&gt;</th><th scope=col>&lt;int&gt;</th><th scope=col>&lt;int&gt;</th><th scope=col>&lt;int&gt;</th><th scope=col>&lt;int&gt;</th><th scope=col>&lt;int&gt;</th><th scope=col>&lt;dbl&gt;</th><th scope=col>&lt;dbl&gt;</th><th scope=col>&lt;dbl&gt;</th><th scope=col>&lt;dbl&gt;</th><th scope=col>&lt;dbl&gt;</th><th scope=col>&lt;dbl&gt;</th><th scope=col>&lt;dbl&gt;</th><th scope=col>&lt;dbl&gt;</th><th scope=col>&lt;dbl&gt;</th><th scope=col>&lt;fct&gt;</th><th scope=col>&lt;int&gt;</th><th scope=col>&lt;int&gt;</th><th scope=col>&lt;fct&gt;</th></tr>\n",
       "</thead>\n",
       "<tbody>\n",
       "\t<tr><td>cds</td><td>8</td><td>478</td><td>165</td><td>165</td><td>0</td><td>478f</td><td>PRIMER_LEFT </td><td>ATYAAGWGYCGYACNAARGG</td><td>20</td><td>128</td><td>2</td><td>474</td><td>494</td><td>57.34402</td><td>2.984923</td><td>47.5</td><td>5.590170</td><td>12.32349</td><td>18.38053</td><td>-5.195385</td><td>18.64899</td><td>90.846</td><td>Prevotellaceae bacterium MN60</td><td>4</td><td>128</td><td>Polyribonucleotide nucleotidyltransferase</td></tr>\n",
       "\t<tr><td>cds</td><td>8</td><td>478</td><td>165</td><td>165</td><td>0</td><td>478f</td><td>PRIMER_LEFT </td><td>ATYAAGWGYCGYACNAARGG</td><td>20</td><td>128</td><td>2</td><td>474</td><td>494</td><td>57.34402</td><td>2.984923</td><td>47.5</td><td>5.590170</td><td>12.32349</td><td>18.38053</td><td>-5.195385</td><td>18.64899</td><td>90.846</td><td>Prevotellaceae bacterium MN60</td><td>4</td><td>128</td><td>30S ribosomal protein S1                 </td></tr>\n",
       "\t<tr><td>cds</td><td>8</td><td>478</td><td>165</td><td>165</td><td>0</td><td>478r</td><td>PRIMER_RIGHT</td><td>NACRTTRCGGAAYTCYTGRT</td><td>20</td><td>128</td><td>4</td><td>619</td><td>639</td><td>57.13081</td><td>2.800376</td><td>45.0</td><td>6.123724</td><td> 4.17719</td><td>11.05181</td><td> 2.801095</td><td>21.40866</td><td>90.846</td><td>Prevotellaceae bacterium MN60</td><td>4</td><td>128</td><td>Polyribonucleotide nucleotidyltransferase</td></tr>\n",
       "\t<tr><td>cds</td><td>8</td><td>478</td><td>165</td><td>165</td><td>0</td><td>478r</td><td>PRIMER_RIGHT</td><td>NACRTTRCGGAAYTCYTGRT</td><td>20</td><td>128</td><td>4</td><td>619</td><td>639</td><td>57.13081</td><td>2.800376</td><td>45.0</td><td>6.123724</td><td> 4.17719</td><td>11.05181</td><td> 2.801095</td><td>21.40866</td><td>90.846</td><td>Prevotellaceae bacterium MN60</td><td>4</td><td>128</td><td>30S ribosomal protein S1                 </td></tr>\n",
       "</tbody>\n",
       "</table>\n"
      ],
      "text/latex": [
       "A tibble: 4 × 27\n",
       "\\begin{tabular}{lllllllllllllllllllllllllll}\n",
       " gene\\_type & cluster\\_id & primer\\_set & amplicon\\_size\\_consensus & amplicon\\_size\\_avg & amplicon\\_size\\_sd & primer\\_id & primer\\_type & sequence & length & degeneracy & degeneracy\\_3prime & position\\_start & position\\_end & Tm\\_avg & Tm\\_sd & GC\\_avg & GC\\_sd & hairpin\\_avg & hairpin\\_sd & homodimer\\_avg & homodimer\\_sd & pident & sscinames & max\\_degeneracy\\_3prime & max\\_degeneracy & annotation\\\\\n",
       " <chr> & <int> & <int> & <int> & <dbl> & <dbl> & <fct> & <fct> & <fct> & <int> & <int> & <int> & <int> & <int> & <dbl> & <dbl> & <dbl> & <dbl> & <dbl> & <dbl> & <dbl> & <dbl> & <dbl> & <fct> & <int> & <int> & <fct>\\\\\n",
       "\\hline\n",
       "\t cds & 8 & 478 & 165 & 165 & 0 & 478f & PRIMER\\_LEFT  & ATYAAGWGYCGYACNAARGG & 20 & 128 & 2 & 474 & 494 & 57.34402 & 2.984923 & 47.5 & 5.590170 & 12.32349 & 18.38053 & -5.195385 & 18.64899 & 90.846 & Prevotellaceae bacterium MN60 & 4 & 128 & Polyribonucleotide nucleotidyltransferase\\\\\n",
       "\t cds & 8 & 478 & 165 & 165 & 0 & 478f & PRIMER\\_LEFT  & ATYAAGWGYCGYACNAARGG & 20 & 128 & 2 & 474 & 494 & 57.34402 & 2.984923 & 47.5 & 5.590170 & 12.32349 & 18.38053 & -5.195385 & 18.64899 & 90.846 & Prevotellaceae bacterium MN60 & 4 & 128 & 30S ribosomal protein S1                 \\\\\n",
       "\t cds & 8 & 478 & 165 & 165 & 0 & 478r & PRIMER\\_RIGHT & NACRTTRCGGAAYTCYTGRT & 20 & 128 & 4 & 619 & 639 & 57.13081 & 2.800376 & 45.0 & 6.123724 &  4.17719 & 11.05181 &  2.801095 & 21.40866 & 90.846 & Prevotellaceae bacterium MN60 & 4 & 128 & Polyribonucleotide nucleotidyltransferase\\\\\n",
       "\t cds & 8 & 478 & 165 & 165 & 0 & 478r & PRIMER\\_RIGHT & NACRTTRCGGAAYTCYTGRT & 20 & 128 & 4 & 619 & 639 & 57.13081 & 2.800376 & 45.0 & 6.123724 &  4.17719 & 11.05181 &  2.801095 & 21.40866 & 90.846 & Prevotellaceae bacterium MN60 & 4 & 128 & 30S ribosomal protein S1                 \\\\\n",
       "\\end{tabular}\n"
      ],
      "text/markdown": [
       "\n",
       "A tibble: 4 × 27\n",
       "\n",
       "| gene_type &lt;chr&gt; | cluster_id &lt;int&gt; | primer_set &lt;int&gt; | amplicon_size_consensus &lt;int&gt; | amplicon_size_avg &lt;dbl&gt; | amplicon_size_sd &lt;dbl&gt; | primer_id &lt;fct&gt; | primer_type &lt;fct&gt; | sequence &lt;fct&gt; | length &lt;int&gt; | degeneracy &lt;int&gt; | degeneracy_3prime &lt;int&gt; | position_start &lt;int&gt; | position_end &lt;int&gt; | Tm_avg &lt;dbl&gt; | Tm_sd &lt;dbl&gt; | GC_avg &lt;dbl&gt; | GC_sd &lt;dbl&gt; | hairpin_avg &lt;dbl&gt; | hairpin_sd &lt;dbl&gt; | homodimer_avg &lt;dbl&gt; | homodimer_sd &lt;dbl&gt; | pident &lt;dbl&gt; | sscinames &lt;fct&gt; | max_degeneracy_3prime &lt;int&gt; | max_degeneracy &lt;int&gt; | annotation &lt;fct&gt; |\n",
       "|---|---|---|---|---|---|---|---|---|---|---|---|---|---|---|---|---|---|---|---|---|---|---|---|---|---|---|\n",
       "| cds | 8 | 478 | 165 | 165 | 0 | 478f | PRIMER_LEFT  | ATYAAGWGYCGYACNAARGG | 20 | 128 | 2 | 474 | 494 | 57.34402 | 2.984923 | 47.5 | 5.590170 | 12.32349 | 18.38053 | -5.195385 | 18.64899 | 90.846 | Prevotellaceae bacterium MN60 | 4 | 128 | Polyribonucleotide nucleotidyltransferase |\n",
       "| cds | 8 | 478 | 165 | 165 | 0 | 478f | PRIMER_LEFT  | ATYAAGWGYCGYACNAARGG | 20 | 128 | 2 | 474 | 494 | 57.34402 | 2.984923 | 47.5 | 5.590170 | 12.32349 | 18.38053 | -5.195385 | 18.64899 | 90.846 | Prevotellaceae bacterium MN60 | 4 | 128 | 30S ribosomal protein S1                  |\n",
       "| cds | 8 | 478 | 165 | 165 | 0 | 478r | PRIMER_RIGHT | NACRTTRCGGAAYTCYTGRT | 20 | 128 | 4 | 619 | 639 | 57.13081 | 2.800376 | 45.0 | 6.123724 |  4.17719 | 11.05181 |  2.801095 | 21.40866 | 90.846 | Prevotellaceae bacterium MN60 | 4 | 128 | Polyribonucleotide nucleotidyltransferase |\n",
       "| cds | 8 | 478 | 165 | 165 | 0 | 478r | PRIMER_RIGHT | NACRTTRCGGAAYTCYTGRT | 20 | 128 | 4 | 619 | 639 | 57.13081 | 2.800376 | 45.0 | 6.123724 |  4.17719 | 11.05181 |  2.801095 | 21.40866 | 90.846 | Prevotellaceae bacterium MN60 | 4 | 128 | 30S ribosomal protein S1                  |\n",
       "\n"
      ],
      "text/plain": [
       "  gene_type cluster_id primer_set amplicon_size_consensus amplicon_size_avg\n",
       "1 cds       8          478        165                     165              \n",
       "2 cds       8          478        165                     165              \n",
       "3 cds       8          478        165                     165              \n",
       "4 cds       8          478        165                     165              \n",
       "  amplicon_size_sd primer_id primer_type  sequence             length\n",
       "1 0                478f      PRIMER_LEFT  ATYAAGWGYCGYACNAARGG 20    \n",
       "2 0                478f      PRIMER_LEFT  ATYAAGWGYCGYACNAARGG 20    \n",
       "3 0                478r      PRIMER_RIGHT NACRTTRCGGAAYTCYTGRT 20    \n",
       "4 0                478r      PRIMER_RIGHT NACRTTRCGGAAYTCYTGRT 20    \n",
       "  degeneracy degeneracy_3prime position_start position_end Tm_avg   Tm_sd   \n",
       "1 128        2                 474            494          57.34402 2.984923\n",
       "2 128        2                 474            494          57.34402 2.984923\n",
       "3 128        4                 619            639          57.13081 2.800376\n",
       "4 128        4                 619            639          57.13081 2.800376\n",
       "  GC_avg GC_sd    hairpin_avg hairpin_sd homodimer_avg homodimer_sd pident\n",
       "1 47.5   5.590170 12.32349    18.38053   -5.195385     18.64899     90.846\n",
       "2 47.5   5.590170 12.32349    18.38053   -5.195385     18.64899     90.846\n",
       "3 45.0   6.123724  4.17719    11.05181    2.801095     21.40866     90.846\n",
       "4 45.0   6.123724  4.17719    11.05181    2.801095     21.40866     90.846\n",
       "  sscinames                     max_degeneracy_3prime max_degeneracy\n",
       "1 Prevotellaceae bacterium MN60 4                     128           \n",
       "2 Prevotellaceae bacterium MN60 4                     128           \n",
       "3 Prevotellaceae bacterium MN60 4                     128           \n",
       "4 Prevotellaceae bacterium MN60 4                     128           \n",
       "  annotation                               \n",
       "1 Polyribonucleotide nucleotidyltransferase\n",
       "2 30S ribosomal protein S1                 \n",
       "3 Polyribonucleotide nucleotidyltransferase\n",
       "4 30S ribosomal protein S1                 "
      ]
     },
     "metadata": {},
     "output_type": "display_data"
    }
   ],
   "source": [
    "# joining\n",
    "primer_info_jfj = primer_info_jf %>%\n",
    "    left_join(gene_annot %>% distinct(gene_type, cluster_id, annotation),\n",
    "              c('gene_type', 'cluster_id'))\n",
    "\n",
    "df.dims(30,50)\n",
    "primer_info_jfj\n",
    "df.dims()"
   ]
  },
  {
   "cell_type": "markdown",
   "metadata": {},
   "source": [
    "#### Writing table"
   ]
  },
  {
   "cell_type": "code",
   "execution_count": 58,
   "metadata": {
    "execution": {
     "iopub.execute_input": "2021-04-24T05:29:13.627742Z",
     "iopub.status.busy": "2021-04-24T05:29:13.623949Z",
     "iopub.status.idle": "2021-04-24T05:29:13.671244Z"
    }
   },
   "outputs": [
    {
     "name": "stdout",
     "output_type": "stream",
     "text": [
      "File written: /ebio/abt3_projects/software/dev/ll_pipelines/llprimer/experiments/HMP_most-wanted/v0.3//Prevotella/best_primers.tsv \n"
     ]
    }
   ],
   "source": [
    "F = file.path(work_dir, 'best_primers.tsv')\n",
    "write_table(primer_info_jfj, F)"
   ]
  },
  {
   "cell_type": "markdown",
   "metadata": {},
   "source": [
    "# sessionInfo"
   ]
  },
  {
   "cell_type": "code",
   "execution_count": 59,
   "metadata": {
    "execution": {
     "iopub.execute_input": "2021-04-24T05:29:24.334593Z",
     "iopub.status.busy": "2021-04-24T05:29:24.331186Z",
     "iopub.status.idle": "2021-04-24T05:29:24.489346Z"
    }
   },
   "outputs": [
    {
     "name": "stdout",
     "output_type": "stream",
     "text": [
      "LLG\n",
      "===\n",
      "\n",
      "Ley Lab Genome analysis pipeline (LLG)\n",
      "\n",
      "* Version: 0.2.4\n",
      "* Authors:\n",
      "  * Nick Youngblut <nyoungb2@gmail.com>\n",
      "* Maintainers:\n",
      "  * Nick Youngblut <nyoungb2@gmail.com>\n",
      "\n",
      "--- conda envs ---\n",
      "==> /ebio/abt3_projects/software/dev/ll_pipelines/llg//bin/envs/gtdbtk.yaml <==\n",
      "channels:\n",
      "- conda-forge\n",
      "- bioconda\n",
      "dependencies:\n",
      "- pigz\n",
      "- conda-forge::networkx\n",
      "- bioconda::gtdbtk\n",
      "\n",
      "==> /ebio/abt3_projects/software/dev/ll_pipelines/llg//bin/envs/checkm.yaml <==\n",
      "channels:\n",
      "- bioconda\n",
      "dependencies:\n",
      "- python=2.7\n",
      "- pigz\n",
      "- bioconda::prodigal\n",
      "- bioconda::pplacer\n",
      "- bioconda::checkm-genome\n",
      "\n",
      "==> /ebio/abt3_projects/software/dev/ll_pipelines/llg//bin/envs/quast.yaml <==\n",
      "channels:\n",
      "- conda-forge\n",
      "- bioconda\n",
      "dependencies:\n",
      "- bioconda::seqkit\n",
      "- bioconda::quast>=5.0.0\n",
      "\n",
      "==> /ebio/abt3_projects/software/dev/ll_pipelines/llg//bin/envs/sourmash.yaml <==\n",
      "channels:\n",
      "- conda-forge\n",
      "- bioconda\n",
      "dependencies:\n",
      "- bioconda::sourmash=2.0.0a4\n",
      "\n",
      "==> /ebio/abt3_projects/software/dev/ll_pipelines/llg//bin/envs/fastqc.yaml <==\n",
      "channels:\n",
      "- conda-forge\n",
      "- bioconda\n",
      "dependencies:\n",
      "- bioconda::seqtk\n",
      "- bioconda::fastqc=0.11.7\n",
      "\n",
      "==> /ebio/abt3_projects/software/dev/ll_pipelines/llg//bin/envs/multiqc.yaml <==\n",
      "channels:\n",
      "- conda-forge\n",
      "- bioconda\n",
      "dependencies:\n",
      "- bioconda::multiqc=1.4\n",
      "\n",
      "==> /ebio/abt3_projects/software/dev/ll_pipelines/llg//bin/envs/hadley.yaml <==\n",
      "channels:\n",
      "- conda-forge\n",
      "- bioconda\n",
      "dependencies:\n",
      "- conda-forge::r-ape\n",
      "- conda-forge::r-dplyr\n",
      "- conda-forge::r-tidyr\n",
      "- conda-forge::r-ggplot2\n",
      "\n",
      "==> /ebio/abt3_projects/software/dev/ll_pipelines/llg//bin/envs/bbmap.yaml <==\n",
      "channels:\n",
      "- conda-forge\n",
      "- bioconda\n",
      "dependencies:\n",
      "- pigz\n",
      "- bioconda::bbmap=37.78\n",
      "\n",
      "==> /ebio/abt3_projects/software/dev/ll_pipelines/llg//bin/envs/ani.yaml <==\n",
      "channels:\n",
      "- conda-forge\n",
      "- bioconda\n",
      "dependencies:\n",
      "- pigz\n",
      "- bioconda::dashing\n",
      "- bioconda::fastani\n",
      "==> /ebio/abt3_projects/software/dev/ll_pipelines/llg//bin/envs/prokka.yaml <==\n",
      "channels:\n",
      "- conda-forge\n",
      "- bioconda\n",
      "dependencies:\n",
      "- bioconda::prokka\n",
      "\n",
      "==> /ebio/abt3_projects/software/dev/ll_pipelines/llg//bin/envs/prodigal.yaml <==\n",
      "channels:\n",
      "- conda-forge\n",
      "- bioconda\n",
      "dependencies:\n",
      "- bioconda::prodigal\n",
      "- pip:\n",
      "  - biopython-convert\n",
      "\n",
      "==> /ebio/abt3_projects/software/dev/ll_pipelines/llg//bin/envs/eggnog-mapper.yaml <==\n",
      "channels:\n",
      "- conda-forge\n",
      "- bioconda\n",
      "dependencies:\n",
      "- pigz\n",
      "- bioconda::eggnog-mapper\n",
      "\n",
      "==> /ebio/abt3_projects/software/dev/ll_pipelines/llg//bin/envs/phylophlan.yaml <==\n",
      "channels:\n",
      "- conda-forge\n",
      "- bioconda\n",
      "dependencies:\n",
      "- pigz\n",
      "- bioconda::phylophlan\n",
      "\n",
      "==> /ebio/abt3_projects/software/dev/ll_pipelines/llg//bin/envs/drep.yaml <==\n",
      "channels:\n",
      "- conda-forge\n",
      "- bioconda\n",
      "dependencies:\n",
      "- pigz\n",
      "- bioconda::mash\n",
      "- bioconda::checkm-genome\n",
      "- bioconda::fastani\n",
      "- bioconda::drep\n",
      "==> /ebio/abt3_projects/software/dev/ll_pipelines/llg//bin/envs/antismash.yaml <==\n",
      "channels:\n",
      "- conda-forge\n",
      "- bioconda\n",
      "dependencies:\n",
      "- pigz\n",
      "- biopython=1.77\n",
      "- bioconda::blast=2.9\n",
      "- bioconda::antismash>=5.1.2\n",
      "\n",
      "==> /ebio/abt3_projects/software/dev/ll_pipelines/llg//bin/envs/deepbgc.yaml <==\n",
      "channels:\n",
      "- conda-forge\n",
      "- bioconda\n",
      "dependencies:\n",
      "- pigz\n",
      "- bioconda::deepbgc\n",
      "\n",
      "==> /ebio/abt3_projects/software/dev/ll_pipelines/llg//bin/envs/abricate.yaml <==\n",
      "channels:\n",
      "- conda-forge\n",
      "- bioconda\n",
      "dependencies:\n",
      "- bioconda::abricate\n",
      "\n",
      "==> /ebio/abt3_projects/software/dev/ll_pipelines/llg//bin/envs/rRNA.yaml <==\n",
      "channels:\n",
      "- qiime2/label/r2020.2\n",
      "- conda-forge\n",
      "- bioconda\n",
      "- defaults\n",
      "dependencies:\n",
      "- barrnap\n",
      "- _libgcc_mutex=0.1\n",
      "- _openmp_mutex=4.5\n",
      "- _r-mutex=1.0.1\n",
      "- alsa-lib=1.1.5\n",
      "- arb-bio-tools=6.0.6\n",
      "- attrs=19.3.0\n",
      "- backcall=0.1.0\n",
      "- bibtexparser=1.1.0\n",
      "- binutils_impl_linux-64=2.33.1\n",
      "- binutils_linux-64=2.33.1\n",
      "- bioconductor-biobase=2.42.0\n",
      "- bioconductor-biocgenerics=0.28.0\n",
      "- bioconductor-biocparallel=1.16.6\n",
      "- bioconductor-biostrings=2.50.2\n",
      "- bioconductor-dada2=1.10.0\n",
      "- bioconductor-delayedarray=0.8.0\n",
      "- bioconductor-genomeinfodb=1.18.1\n",
      "- bioconductor-genomeinfodbdata=1.2.1\n",
      "- bioconductor-genomicalignments=1.18.1\n",
      "- bioconductor-genomicranges=1.34.0\n",
      "- bioconductor-iranges=2.16.0\n",
      "- bioconductor-rsamtools=1.34.0\n",
      "- bioconductor-s4vectors=0.20.1\n",
      "- bioconductor-shortread=1.40.0\n",
      "- bioconductor-summarizedexperiment=1.12.0\n",
      "- bioconductor-xvector=0.22.0\n",
      "- bioconductor-zlibbioc=1.28.0\n",
      "- biom-format=2.1.8\n",
      "- blas=2.14\n",
      "- blast=2.9.0\n",
      "- bleach=3.1.1\n",
      "- bokeh=1.4.0\n",
      "- boost=1.68.0\n",
      "- boost-cpp=1.68.0\n",
      "- bwidget=1.9.14\n",
      "- bzip2=1.0.8\n",
      "- ca-certificates=2019.11.28\n",
      "- cachecontrol=0.12.5\n",
      "- cairo=1.16.0\n",
      "- certifi=2019.11.28\n",
      "- cffi=1.13.2\n",
      "- chardet=3.0.4\n",
      "- click=7.0\n",
      "- cryptography=2.8\n",
      "- curl=7.68.0\n",
      "- cutadapt=2.8\n",
      "- cycler=0.10.0\n",
      "- cython=0.29.15\n",
      "- dbus=1.13.6\n",
      "- deblur=1.1.0\n",
      "- decorator=4.4.1\n",
      "- defusedxml=0.6.0\n",
      "- dendropy=4.4.0\n",
      "- dnaio=0.4.1\n",
      "- emperor=1.0.0\n",
      "- entrypoints=0.3\n",
      "- expat=2.2.9\n",
      "- fastcluster=1.1.26\n",
      "- fasttree=2.1.10\n",
      "- fontconfig=2.13.1\n",
      "- freetype=2.10.0\n",
      "- future=0.18.2\n",
      "- gcc_impl_linux-64=7.3.0\n",
      "- gcc_linux-64=7.3.0\n",
      "- gettext=0.19.8.1\n",
      "- gfortran_impl_linux-64=7.3.0\n",
      "- gfortran_linux-64=7.3.0\n",
      "- giflib=5.2.1\n",
      "- glib=2.58.3\n",
      "- gmp=6.2.0\n",
      "- gneiss=0.4.6\n",
      "- gnutls=3.6.5\n",
      "- graphite2=1.3.13\n",
      "- gsl=2.5\n",
      "- gst-plugins-base=1.14.5\n",
      "- gstreamer=1.14.5\n",
      "- gxx_impl_linux-64=7.3.0\n",
      "- gxx_linux-64=7.3.0\n",
      "- h5py=2.10.0\n",
      "- harfbuzz=2.4.0\n",
      "- hdf5=1.10.5\n",
      "- hdmedians=0.13\n",
      "- hmmer=3.1b2\n",
      "- icu=58.2\n",
      "- idna=2.9\n",
      "- ijson=2.6.1\n",
      "- importlib_metadata=1.5.0\n",
      "- ipykernel=5.1.4\n",
      "- ipython=7.12.0\n",
      "- ipython_genutils=0.2.0\n",
      "- ipywidgets=7.5.1\n",
      "- iqtree=1.6.12\n",
      "- jedi=0.16.0\n",
      "- jinja2=2.11.1\n",
      "- joblib=0.14.1\n",
      "- jpeg=9c\n",
      "- jsonschema=3.2.0\n",
      "- jupyter_client=6.0.0\n",
      "- jupyter_core=4.6.3\n",
      "- kiwisolver=1.1.0\n",
      "- krb5=1.16.4\n",
      "- lcms2=2.9\n",
      "- ld_impl_linux-64=2.33.1\n",
      "- libarbdb=6.0.6\n",
      "- libblas=3.8.0\n",
      "- libcblas=3.8.0\n",
      "- libcurl=7.68.0\n",
      "- libedit=3.1.20170329\n",
      "- libffi=3.2.1\n",
      "- libgcc=7.2.0\n",
      "- libgcc-ng=9.2.0\n",
      "- libgfortran-ng=7.3.0\n",
      "- libgomp=9.2.0\n",
      "- libiconv=1.15\n",
      "- liblapack=3.8.0\n",
      "- liblapacke=3.8.0\n",
      "- libopenblas=0.3.7\n",
      "- libpng=1.6.37\n",
      "- libsodium=1.0.17\n",
      "- libssh2=1.8.2\n",
      "- libstdcxx-ng=9.2.0\n",
      "- libtiff=4.1.0\n",
      "- libuuid=2.32.1\n",
      "- libxcb=1.13\n",
      "- libxml2=2.9.9\n",
      "- lockfile=0.12.2\n",
      "- lz4-c=1.8.3\n",
      "- mafft=7.310\n",
      "- make=4.3\n",
      "- markupsafe=1.1.1\n",
      "- matplotlib=3.1.1\n",
      "- matplotlib-base=3.1.1\n",
      "- mistune=0.8.4\n",
      "- more-itertools=8.2.0\n",
      "- msgpack-python=1.0.0\n",
      "- natsort=7.0.1\n",
      "- nbconvert=5.6.1\n",
      "- nbformat=5.0.4\n",
      "- ncurses=6.1\n",
      "- nettle=3.4.1\n",
      "- networkx=2.4\n",
      "- nose=1.3.7\n",
      "- notebook=6.0.3\n",
      "- numpy=1.18.1\n",
      "- olefile=0.46\n",
      "- openjdk=11.0.1\n",
      "- openssl=1.1.1d\n",
      "- packaging=20.1\n",
      "- pandas=0.25.3\n",
      "- pandoc=2.9.2\n",
      "- pandocfilters=1.4.2\n",
      "- pango=1.40.14\n",
      "- parso=0.6.1\n",
      "- patsy=0.5.1\n",
      "- pcre=8.44\n",
      "- perl=5.26.2\n",
      "- perl-archive-tar=2.32\n",
      "- perl-carp=1.38\n",
      "- perl-common-sense=3.74\n",
      "- perl-compress-raw-bzip2=2.087\n",
      "- perl-compress-raw-zlib=2.087\n",
      "- perl-exporter=5.72\n",
      "- perl-exporter-tiny=1.002001\n",
      "- perl-extutils-makemaker=7.36\n",
      "- perl-io-compress=2.087\n",
      "- perl-io-zlib=1.10\n",
      "- perl-json=4.02\n",
      "- perl-json-xs=2.34\n",
      "- perl-list-moreutils=0.428\n",
      "- perl-list-moreutils-xs=0.428\n",
      "- perl-pathtools=3.75\n",
      "- perl-scalar-list-utils=1.52\n",
      "- perl-types-serialiser=1.0\n",
      "- perl-xsloader=0.24\n",
      "- pexpect=4.8.0\n",
      "- pickleshare=0.7.5\n",
      "- pigz=2.3.4\n",
      "- pillow=7.0.0\n",
      "- pip=20.0.2\n",
      "- pixman=0.38.0\n",
      "- pluggy=0.12.0\n",
      "- prometheus_client=0.7.1\n",
      "- prompt_toolkit=3.0.3\n",
      "- psutil=5.7.0\n",
      "- pthread-stubs=0.4\n",
      "- ptyprocess=0.6.0\n",
      "- py=1.8.1\n",
      "- pycparser=2.19\n",
      "- pygments=2.5.2\n",
      "- pyopenssl=19.1.0\n",
      "- pyparsing=2.4.6\n",
      "- pyqt=5.9.2\n",
      "- pyrsistent=0.15.7\n",
      "- pysocks=1.7.1\n",
      "- pytest=5.3.5\n",
      "- python=3.6.7\n",
      "- python-dateutil=2.8.1\n",
      "- pytz=2019.3\n",
      "- pyyaml=5.3\n",
      "- pyzmq=19.0.0\n",
      "- q2-alignment=2020.2.0\n",
      "- q2-composition=2020.2.0\n",
      "- q2-cutadapt=2020.2.0\n",
      "- q2-dada2=2020.2.0\n",
      "- q2-deblur=2020.2.0\n",
      "- q2-demux=2020.2.0\n",
      "- q2-diversity=2020.2.0\n",
      "- q2-emperor=2020.2.0\n",
      "- q2-feature-classifier=2020.2.0\n",
      "- q2-feature-table=2020.2.0\n",
      "- q2-fragment-insertion=2020.2.0\n",
      "- q2-gneiss=2020.2.0\n",
      "- q2-longitudinal=2020.2.0\n",
      "- q2-metadata=2020.2.0\n",
      "- q2-phylogeny=2020.2.0\n",
      "- q2-quality-control=2020.2.0\n",
      "- q2-quality-filter=2020.2.0\n",
      "- q2-sample-classifier=2020.2.0\n",
      "- q2-taxa=2020.2.0\n",
      "- q2-types=2020.2.0\n",
      "- q2-vsearch=2020.2.0\n",
      "- q2cli=2020.2.0\n",
      "- q2templates=2020.2.0\n",
      "- qiime2=2020.2.0\n",
      "- qt=5.9.7\n",
      "- r-assertthat=0.2.1\n",
      "- r-backports=1.1.5\n",
      "- r-base=3.5.1\n",
      "- r-bh=1.72.0_3\n",
      "- r-bitops=1.0_6\n",
      "- r-cli=2.0.2\n",
      "- r-cluster=2.1.0\n",
      "- r-colorspace=1.4_1\n",
      "- r-crayon=1.3.4\n",
      "- r-data.table=1.12.6\n",
      "- r-digest=0.6.25\n",
      "- r-ellipsis=0.3.0\n",
      "- r-fansi=0.4.1\n",
      "- r-farver=2.0.3\n",
      "- r-formatr=1.7\n",
      "- r-futile.logger=1.4.3\n",
      "- r-futile.options=1.0.1\n",
      "- r-ggplot2=3.2.1\n",
      "- r-glue=1.3.1\n",
      "- r-gtable=0.3.0\n",
      "- r-hwriter=1.3.2\n",
      "- r-labeling=0.3\n",
      "- r-lambda.r=1.2.4\n",
      "- r-lattice=0.20_40\n",
      "- r-latticeextra=0.6_28\n",
      "- r-lazyeval=0.2.2\n",
      "- r-lifecycle=0.1.0\n",
      "- r-magrittr=1.5\n",
      "- r-mass=7.3_51.5\n",
      "- r-matrix=1.2_18\n",
      "- r-matrixstats=0.55.0\n",
      "- r-mgcv=1.8_31\n",
      "- r-munsell=0.5.0\n",
      "- r-nlme=3.1_144\n",
      "- r-permute=0.9_5\n",
      "- r-pillar=1.4.3\n",
      "- r-pkgconfig=2.0.3\n",
      "- r-plyr=1.8.5\n",
      "- r-r6=2.4.1\n",
      "- r-rcolorbrewer=1.1_2\n",
      "- r-rcpp=1.0.3\n",
      "- r-rcppparallel=4.4.4\n",
      "- r-rcurl=1.98_1.1\n",
      "- r-reshape2=1.4.3\n",
      "- r-rlang=0.4.4\n",
      "- r-scales=1.1.0\n",
      "- r-snow=0.4_3\n",
      "- r-stringi=1.4.3\n",
      "- r-stringr=1.4.0\n",
      "- r-tibble=2.1.3\n",
      "- r-utf8=1.1.4\n",
      "- r-vctrs=0.2.3\n",
      "- r-vegan=2.5_6\n",
      "- r-viridislite=0.3.0\n",
      "- r-withr=2.1.2\n",
      "- r-zeallot=0.1.0\n",
      "- raxml=8.2.12\n",
      "- readline=8.0\n",
      "- requests=2.23.0\n",
      "- scikit-bio=0.5.5\n",
      "- scikit-learn=0.22.1\n",
      "- scipy=1.4.1\n",
      "- seaborn=0.10.0\n",
      "- send2trash=1.5.0\n",
      "- sepp=4.3.10\n",
      "- setuptools=45.2.0\n",
      "- sina=1.6.0\n",
      "- sip=4.19.8\n",
      "- six=1.14.0\n",
      "- sortmerna=2.0\n",
      "- sqlite=3.30.1\n",
      "- statsmodels=0.11.1\n",
      "- tbb=2019.9\n",
      "- terminado=0.8.3\n",
      "- testpath=0.4.4\n",
      "- tk=8.6.10\n",
      "- tktable=2.10\n",
      "- tornado=6.0.3\n",
      "- traitlets=4.3.3\n",
      "- tzlocal=2.0.0\n",
      "- unifrac=0.10.0\n",
      "- urllib3=1.25.7\n",
      "- vsearch=2.7.0\n",
      "- wcwidth=0.1.8\n",
      "- webencodings=0.5.1\n",
      "- wheel=0.34.2\n",
      "- widgetsnbextension=3.5.1\n",
      "- xopen=0.8.4\n",
      "- xorg-fixesproto=5.0\n",
      "- xorg-inputproto=2.3.2\n",
      "- xorg-kbproto=1.0.7\n",
      "- xorg-libice=1.0.10\n",
      "- xorg-libsm=1.2.3\n",
      "- xorg-libx11=1.6.9\n",
      "- xorg-libxau=1.0.9\n",
      "- xorg-libxdmcp=1.1.3\n",
      "- xorg-libxext=1.3.4\n",
      "- xorg-libxfixes=5.0.3\n",
      "- xorg-libxi=1.7.10\n",
      "- xorg-libxrender=0.9.10\n",
      "- xorg-libxtst=1.2.3\n",
      "- xorg-recordproto=1.14.2\n",
      "- xorg-renderproto=0.11.1\n",
      "- xorg-xextproto=7.3.0\n",
      "- xorg-xproto=7.0.31\n",
      "- xz=5.2.4\n",
      "- yaml=0.2.2\n",
      "- zeromq=4.3.2\n",
      "- zipp=3.0.0\n",
      "- zlib=1.2.11\n",
      "- zstd=1.4.4\n",
      "==> /ebio/abt3_projects/software/dev/ll_pipelines/llg//bin/envs/traitar.yaml <==\n",
      "channels:\n",
      "- conda-forge\n",
      "- bioconda\n",
      "dependencies:\n",
      "- scipy\n",
      "- pandas\n",
      "- numpy\n",
      "- matplotlib\n",
      "- pigz\n",
      "- bioconda::hmmer\n",
      "- pip:\n",
      "  - traitar3>=0.1.1\n",
      "\n",
      "==> /ebio/abt3_projects/software/dev/ll_pipelines/llg//bin/envs/cctyper.yaml <==\n",
      "channels:\n",
      "- conda-forge\n",
      "- bioconda\n",
      "- russel88\n",
      "dependencies:\n",
      "- pigz\n",
      "- cctyper\n",
      "\n",
      "==> /ebio/abt3_projects/software/dev/ll_pipelines/llg//bin/envs/comparem.yaml <==\n",
      "channels:\n",
      "- conda-forge\n",
      "- bioconda\n",
      "dependencies:\n",
      "- pigz\n",
      "- bioconda::comparem\n",
      "\n",
      "==> /ebio/abt3_projects/software/dev/ll_pipelines/llg//bin/envs/bigscape.yaml <==\n",
      "channels:\n",
      "- conda-forge\n",
      "- bioconda\n",
      "dependencies:\n",
      "- pigz\n",
      "- python=3.6\n",
      "- hmmer\n",
      "- biopython\n",
      "- fasttree\n",
      "- numpy\n",
      "- scipy\n",
      "- networkx\n",
      "- scikit-learn=0.19.1\n",
      "\n",
      "==> /ebio/abt3_projects/software/dev/ll_pipelines/llg//bin/envs/rgi.yaml <==\n",
      "name: rgi\n",
      "channels:\n",
      "  - bioconda\n",
      "  - conda-forge\n",
      "  - defaults\n",
      "dependencies:\n",
      "  - _libgcc_mutex=0.1=conda_forge\n",
      "  - _openmp_mutex=4.5=1_llvm\n",
      "  - bamtools=2.5.1=he860b03_5\n",
      "  - bedtools=2.29.2=hc088bd4_0\n",
      "  - biopython=1.72=py36h14c3975_1000\n",
      "  - blast=2.9.0=pl526h3066fca_4\n",
      "  - bowtie2=2.4.1=py36h7f0b59b_2\n",
      "  - bwa=0.7.17=hed695b0_7\n",
      "  - bzip2=1.0.8=h516909a_2\n",
      "  - ca-certificates=2020.4.5.2=hecda079_0\n",
      "  - certifi=2020.4.5.2=py36h9f0ad1d_0\n",
      "  - curl=7.69.1=h33f0ec9_0\n",
      "  - cycler=0.10.0=py_2\n",
      "  - diamond=0.8.36=h8b12597_4\n",
      "  - entrez-direct=13.3=pl526h375a9b1_0\n",
      "  - expat=2.2.9=he1b5a44_2\n",
      "  - filetype=1.0.7=pyh9f0ad1d_0\n",
      "  - freetype=2.10.2=he06d7ca_0\n",
      "  - icu=64.2=he1b5a44_1\n",
      "  - kiwisolver=1.2.0=py36hdb11119_0\n",
      "  - krb5=1.17.1=h2fd8d38_0\n",
      "  - ld_impl_linux-64=2.34=h53a641e_5\n",
      "  - libblas=3.8.0=16_openblas\n",
      "  - libcblas=3.8.0=16_openblas\n",
      "  - libcurl=7.69.1=hf7181ac_0\n",
      "  - libdeflate=1.0=h14c3975_1\n",
      "  - libedit=3.1.20191231=h46ee950_0\n",
      "  - libffi=3.2.1=he1b5a44_1007\n",
      "  - libgcc-ng=9.2.0=h24d8f2e_2\n",
      "  - libgfortran-ng=7.5.0\n",
      "  - liblapack=3.8.0=16_openblas\n",
      "  - libopenblas=0.3.9=h5ec1e0e_0\n",
      "  - libpng=1.6.37=hed695b0_1\n",
      "  - libssh2=1.9.0=hab1572f_2\n",
      "  - libstdcxx-ng=9.2.0=hdf63c60_2\n",
      "  - llvm-openmp=10.0.0=hc9558a2_0\n",
      "  - matplotlib-base=3.2.1=py36hb8e4980_0\n",
      "  - ncurses=6.1=hf484d3e_1002\n",
      "  - numpy=1.18.5=py36h7314795_0\n",
      "  - oligoarrayaux=3.8=hc9558a2_0\n",
      "  - openssl=1.1.1g=h516909a_0\n",
      "  - pandas=1.0.4=py36h830a2c2_0\n",
      "  - patsy=0.5.1=py_0\n",
      "  - pcre=8.44=he1b5a44_0\n",
      "  - perl=5.26.2=h516909a_1006\n",
      "  - perl-app-cpanminus=1.7044=pl526_1\n",
      "  - perl-archive-tar=2.32=pl526_0\n",
      "  - perl-base=2.23=pl526_1\n",
      "  - perl-business-isbn=3.004=pl526_0\n",
      "  - perl-business-isbn-data=20140910.003=pl526_0\n",
      "  - perl-carp=1.38=pl526_3\n",
      "  - perl-common-sense=3.74=pl526_2\n",
      "  - perl-compress-raw-bzip2=2.087=pl526he1b5a44_0\n",
      "  - perl-compress-raw-zlib=2.087=pl526hc9558a2_0\n",
      "  - perl-constant=1.33=pl526_1\n",
      "  - perl-data-dumper=2.173=pl526_0\n",
      "  - perl-digest-hmac=1.03=pl526_3\n",
      "  - perl-digest-md5=2.55=pl526_0\n",
      "  - perl-encode=2.88=pl526_1\n",
      "  - perl-encode-locale=1.05=pl526_6\n",
      "  - perl-exporter=5.72=pl526_1\n",
      "  - perl-exporter-tiny=1.002001=pl526_0\n",
      "  - perl-extutils-makemaker=7.36=pl526_1\n",
      "  - perl-file-listing=6.04=pl526_1\n",
      "  - perl-file-path=2.16=pl526_0\n",
      "  - perl-file-temp=0.2304=pl526_2\n",
      "  - perl-html-parser=3.72=pl526h6bb024c_5\n",
      "  - perl-html-tagset=3.20=pl526_3\n",
      "  - perl-html-tree=5.07=pl526_1\n",
      "  - perl-http-cookies=6.04=pl526_0\n",
      "  - perl-http-daemon=6.01=pl526_1\n",
      "  - perl-http-date=6.02=pl526_3\n",
      "  - perl-http-message=6.18=pl526_0\n",
      "  - perl-http-negotiate=6.01=pl526_3\n",
      "  - perl-io-compress=2.087=pl526he1b5a44_0\n",
      "  - perl-io-html=1.001=pl526_2\n",
      "  - perl-io-socket-ssl=2.066=pl526_0\n",
      "  - perl-io-zlib=1.10=pl526_2\n",
      "  - perl-json=4.02=pl526_0\n",
      "  - perl-json-xs=2.34=pl526h6bb024c_3\n",
      "  - perl-libwww-perl=6.39=pl526_0\n",
      "  - perl-list-moreutils=0.428=pl526_1\n",
      "  - perl-list-moreutils-xs=0.428=pl526_0\n",
      "  - perl-lwp-mediatypes=6.04=pl526_0\n",
      "  - perl-lwp-protocol-https=6.07=pl526_4\n",
      "  - perl-mime-base64=3.15=pl526_1\n",
      "  - perl-mozilla-ca=20180117=pl526_1\n",
      "  - perl-net-http=6.19=pl526_0\n",
      "  - perl-net-ssleay=1.88=pl526h90d6eec_0\n",
      "  - perl-ntlm=1.09=pl526_4\n",
      "  - perl-parent=0.236=pl526_1\n",
      "  - perl-pathtools=3.75=pl526h14c3975_1\n",
      "  - perl-scalar-list-utils=1.52=pl526h516909a_0\n",
      "  - perl-socket=2.027=pl526_1\n",
      "  - perl-storable=3.15=pl526h14c3975_0\n",
      "  - perl-test-requiresinternet=0.05=pl526_0\n",
      "  - perl-time-local=1.28=pl526_1\n",
      "  - perl-try-tiny=0.30=pl526_1\n",
      "  - perl-types-serialiser=1.0=pl526_2\n",
      "  - perl-uri=1.76=pl526_0\n",
      "  - perl-www-robotrules=6.02=pl526_3\n",
      "  - perl-xml-namespacesupport=1.12=pl526_0\n",
      "  - perl-xml-parser=2.44=pl526h4e0c4b3_7\n",
      "  - perl-xml-sax=1.02=pl526_0\n",
      "  - perl-xml-sax-base=1.09=pl526_0\n",
      "  - perl-xml-sax-expat=0.51=pl526_3\n",
      "  - perl-xml-simple=2.25=pl526_1\n",
      "  - perl-xsloader=0.24=pl526_0\n",
      "  - pip=20.1.1=py_1\n",
      "  - prodigal=2.6.3=h516909a_2\n",
      "  - pyahocorasick=1.4.0=py36h8c4c3a4_1\n",
      "  - pyfaidx=0.5.8=py_1\n",
      "  - pyparsing=2.4.7=pyh9f0ad1d_0\n",
      "  - python=3.6.10=h8356626_1011_cpython\n",
      "  - python-dateutil=2.8.1=py_0\n",
      "  - python_abi=3.6=1_cp36m\n",
      "  - pytz=2020.1=pyh9f0ad1d_0\n",
      "  - readline=8.0=hf8c457e_0\n",
      "  - rgi=5.1.0=py_1\n",
      "  - samtools=1.9=h8571acd_11\n",
      "  - scipy=1.4.1=py36h2d22cac_3\n",
      "  - seaborn=0.10.1=py_0\n",
      "  - setuptools=47.1.1=py36h9f0ad1d_0\n",
      "  - six=1.15.0=pyh9f0ad1d_0\n",
      "  - sqlite=3.30.1=hcee41ef_0\n",
      "  - statsmodels=0.11.1=py36h8c4c3a4_1\n",
      "  - tbb=2020.1=hc9558a2_0\n",
      "  - tk=8.6.10=hed695b0_0\n",
      "  - tornado=6.0.4=py36h8c4c3a4_1\n",
      "  - wheel=0.34.2=py_1\n",
      "  - xz=5.2.5=h516909a_0\n",
      "  - zlib=1.2.11=h516909a_1006\n",
      "prefix: /home/users/ldenies/apps/miniconda3/envs/rgi\n",
      "\n",
      "\n",
      "==> /ebio/abt3_projects/software/dev/ll_pipelines/llg//bin/envs/pathofact_hmm.yaml <==\n",
      "channels:\n",
      "  - bioconda\n",
      "  - conda-forge\n",
      "  - defaults\n",
      "dependencies:\n",
      "  - _libgcc_mutex=0.1=conda_forge\n",
      "  - _openmp_mutex=4.5=0_gnu\n",
      "  - hmmer=3.2.1=he1b5a44_2\n",
      "  - libgcc-ng=9.2.0=h24d8f2e_2\n",
      "  - libgomp=9.2.0=h24d8f2e_2\n",
      "  - libstdcxx-ng=9.2.0=hdf63c60_2\n",
      "\n",
      "==> /ebio/abt3_projects/software/dev/ll_pipelines/llg//bin/envs/pathofact_biopython.yaml <==\n",
      "channels:\n",
      "  - conda-forge\n",
      "  - bioconda\n",
      "  - defaults\n",
      "dependencies:\n",
      "  - _libgcc_mutex=0.1=main\n",
      "  - biopython=1.74=py36h516909a_0\n",
      "  - ca-certificates=2019.6.16=hecc5488_0\n",
      "  - certifi=2019.6.16=py36_1\n",
      "  - cycler=0.10.0=py_1\n",
      "  - dbus=1.13.6=he372182_0\n",
      "  - expat=2.2.5=he1b5a44_1003\n",
      "  - fontconfig=2.13.1=he4413a7_1000\n",
      "  - freetype=2.10.0=he983fc9_0\n",
      "  - gettext=0.19.8.1=hc5be6a0_1002\n",
      "  - glib=2.58.3=h6f030ca_1002\n",
      "  - gst-plugins-base=1.14.5=h0935bb2_0\n",
      "  - gstreamer=1.14.5=h36ae1b5_0\n",
      "  - icu=58.2=hf484d3e_1000\n",
      "  - joblib=0.13.2=py_0\n",
      "  - jpeg=9c=h14c3975_1001\n",
      "  - kiwisolver=1.1.0=py36hc9558a2_0\n",
      "  - libblas=3.8.0=11_openblas\n",
      "  - libcblas=3.8.0=11_openblas\n",
      "  - libedit=3.1.20181209=hc058e9b_0\n",
      "  - libffi=3.2.1=hd88cf55_4\n",
      "  - libgcc-ng=9.1.0=hdf63c60_0\n",
      "  - libgfortran-ng=7.3.0=hdf63c60_0\n",
      "  - libiconv=1.15=h516909a_1005\n",
      "  - liblapack=3.8.0=11_openblas\n",
      "  - libopenblas=0.3.6=h6e990d7_6\n",
      "  - libpng=1.6.37=hed695b0_0\n",
      "  - libstdcxx-ng=9.1.0=hdf63c60_0\n",
      "  - libuuid=2.32.1=h14c3975_1000\n",
      "  - libxcb=1.13=h14c3975_1002\n",
      "  - libxml2=2.9.9=h13577e0_2\n",
      "  - matplotlib=3.1.0=py36h5429711_0\n",
      "  - ncurses=6.1=he6710b0_1\n",
      "  - numpy=1.17.0=py36h95a1406_0\n",
      "  - openssl=1.1.1c=h516909a_0\n",
      "  - pandas=0.25.0=py36hb3f55d8_0\n",
      "  - patsy=0.5.1=py_0\n",
      "  - pcre=8.41=hf484d3e_1003\n",
      "  - pip=19.1.1=py36_0\n",
      "  - pthread-stubs=0.4=h14c3975_1001\n",
      "  - pyparsing=2.4.2=py_0\n",
      "  - pyqt=5.9.2=py36hcca6a23_2\n",
      "  - python=3.6.9=h265db76_0\n",
      "  - python-dateutil=2.8.0=py_0\n",
      "  - pytz=2019.2=py_0\n",
      "  - qt=5.9.7=h52cfd70_2\n",
      "  - readline=7.0=h7b6447c_5\n",
      "  - scikit-learn=0.21.3=py36hcdab131_0\n",
      "  - scipy=1.3.0=py36h921218d_1\n",
      "  - seaborn=0.9.0=py_0\n",
      "  - setuptools=41.0.1=py36_0\n",
      "  - sip=4.19.8=py36hf484d3e_1000\n",
      "  - six=1.12.0=py36_1000\n",
      "  - sqlite=3.29.0=h7b6447c_0\n",
      "  - statsmodels=0.10.1=py36hc1659b7_0\n",
      "  - tk=8.6.8=hbc83047_0\n",
      "  - tornado=6.0.3=py36h516909a_0\n",
      "  - wheel=0.33.4=py36_0\n",
      "  - xorg-libxau=1.0.9=h14c3975_0\n",
      "  - xorg-libxdmcp=1.1.3=h516909a_0\n",
      "  - xz=5.2.4=h14c3975_4\n",
      "  - zlib=1.2.11=h7b6447c_3\n",
      "\n",
      "==> /ebio/abt3_projects/software/dev/ll_pipelines/llg//bin/envs/platon.yaml <==\n",
      "channels:\n",
      "- conda-forge\n",
      "- bioconda\n",
      "dependencies:\n",
      "- pigz\n",
      "- bioconda::platon\n",
      "\n",
      "==> /ebio/abt3_projects/software/dev/ll_pipelines/llg//bin/envs/plasflow.yaml <==\n",
      "channels:\n",
      "  # for PlasFlow\n",
      "  - smaegol\n",
      "  # rest\n",
      "  - bioconda\n",
      "  - conda-forge\n",
      "  - defaults\n",
      "dependencies:\n",
      "  - seqkit\n",
      "  - _libgcc_mutex=0.1=conda_forge\n",
      "  - _openmp_mutex=4.5=1_llvm\n",
      "  - _r-mutex=1.0.1=anacondar_1\n",
      "  - backports=1.0=py_2\n",
      "  - backports.weakref=1.0rc1=py35_1\n",
      "  - bioconductor-biocgenerics=0.22.0=r3.3.2_0\n",
      "  - bioconductor-biostrings=2.42.1=r3.3.2_0\n",
      "  - bioconductor-iranges=2.8.2=r3.3.2_0\n",
      "  - bioconductor-s4vectors=0.12.2=r3.3.2_0\n",
      "  - bioconductor-xvector=0.14.1=r3.3.2_0\n",
      "  - bioconductor-zlibbioc=1.20.0=r3.3.2_1\n",
      "  - biopython=1.68=py35_0\n",
      "  - blas=2.16=openblas\n",
      "  - bleach=1.5.0=py35_0\n",
      "  - bzip2=1.0.8=h516909a_2\n",
      "  - ca-certificates=2020.4.5.1=hecc5488_0\n",
      "  - cairo=1.14.6=4\n",
      "  - certifi=2018.8.24=py35_1001\n",
      "  - curl=7.52.1=0\n",
      "  - fontconfig=2.12.1=6\n",
      "  - freetype=2.7=1\n",
      "  - gettext=0.19.8.1=hc5be6a0_1002\n",
      "  - glib=2.51.4=0\n",
      "  - graphite2=1.3.13=he1b5a44_1001\n",
      "  - gsl=2.6=h294904e_0\n",
      "  - harfbuzz=1.4.3=0\n",
      "  - html5lib=0.9999999=py35_0\n",
      "  - icu=58.2=hf484d3e_1000\n",
      "  - jpeg=9c=h14c3975_1001\n",
      "  - libblas=3.8.0=16_openblas\n",
      "  - libcblas=3.8.0=16_openblas\n",
      "  - libffi=3.2.1=he1b5a44_1007\n",
      "  - libgcc=7.2.0=h69d50b8_2\n",
      "  - libgcc-ng=9.2.0=h24d8f2e_2\n",
      "  - libgfortran-ng=7.3.0=hdf63c60_5\n",
      "  - libiconv=1.15=h516909a_1006\n",
      "  - liblapack=3.8.0=16_openblas\n",
      "  - liblapacke=3.8.0=16_openblas\n",
      "  - libopenblas=0.3.9=h5ec1e0e_0\n",
      "  - libpng=1.6.28=1\n",
      "  - libstdcxx-ng=9.2.0=hdf63c60_2\n",
      "  - libtiff=4.0.7=0\n",
      "  - libxml2=2.9.5=0\n",
      "  - llvm-openmp=10.0.0=hc9558a2_0\n",
      "  - markdown=3.2.1=py_0\n",
      "  - mmtf-python=1.0.2=py35_0\n",
      "  - mock=2.0.0=py35_0\n",
      "  - msgpack-python=0.5.6=py35h2d50403_3\n",
      "  - ncurses=5.9=10\n",
      "  - numpy=1.15.2=py35h99e49ec_0\n",
      "  - numpy-base=1.15.2=py35h2f8d375_0\n",
      "  - olefile=0.46=py_0\n",
      "  - openssl=1.0.2u=h516909a_0\n",
      "  - pandas=0.23.4=py35hf8a1672_0\n",
      "  - pango=1.40.4=0\n",
      "  - pbr=5.4.2=py_0\n",
      "  - pcre=8.44=he1b5a44_0\n",
      "  - pillow=4.3.0=py35_0\n",
      "  - pip=20.0.2=py_2\n",
      "  - pixman=0.34.0=h14c3975_1003\n",
      "  - protobuf=3.4.0=py35_0\n",
      "  - python=3.5.4=0\n",
      "  - python-dateutil=2.8.1=py_0\n",
      "  - pytz=2019.3=py_0\n",
      "  - r-base=3.3.2=5\n",
      "  - readline=6.2=0\n",
      "  - reportlab=3.4.0=py35_0\n",
      "  - rpy2=2.7.8=py35r3.3.2_1\n",
      "  - scikit-learn=0.20.0=py35h22eb022_1\n",
      "  - scipy=1.1.0=py35he2b7bc3_1\n",
      "  - setuptools=40.4.3=py35_0\n",
      "  - six=1.14.0=py_1\n",
      "  - sqlite=3.13.0=1\n",
      "  - tensorflow=1.3.0=py35_0\n",
      "  - tk=8.5.19=2\n",
      "  - webencodings=0.5.1=py_1\n",
      "  - werkzeug=1.0.1=pyh9f0ad1d_0\n",
      "  - wheel=0.34.2=py_1\n",
      "  - xz=5.2.5=h516909a_0\n",
      "  - zlib=1.2.8=3\n",
      "  # PlasFlow: should be installed from smaegol, NOT from pip\n",
      "  - plasflow=1.1.0"
     ]
    }
   ],
   "source": [
    "pipelineInfo('/ebio/abt3_projects/software/dev/ll_pipelines/llg/')"
   ]
  },
  {
   "cell_type": "code",
   "execution_count": 60,
   "metadata": {
    "execution": {
     "iopub.execute_input": "2021-04-24T05:29:24.499855Z",
     "iopub.status.busy": "2021-04-24T05:29:24.495760Z",
     "iopub.status.idle": "2021-04-24T05:29:24.598461Z"
    }
   },
   "outputs": [
    {
     "name": "stdout",
     "output_type": "stream",
     "text": [
      "LLPRIMER\n",
      "========\n",
      "\n",
      "Ley Lab Primer generation pipeline (LLPRIMER)\n",
      "\n",
      "* Version: 0.3.0\n",
      "* Authors:\n",
      "  * Nick Youngblut <nyoungb2@gmail.com>\n",
      "* Maintainers:\n",
      "  * Nick Youngblut <nyoungb2@gmail.com>\n",
      "\n",
      "--- conda envs ---\n",
      "==> /ebio/abt3_projects/software/dev/ll_pipelines/llprimer//bin/envs/pdp.yaml <==\n",
      "channels:\n",
      "- conda-forge\n",
      "- bioconda\n",
      "dependencies:\n",
      "- python=3.7\n",
      "- intervaltree\n",
      "- prodigal\n",
      "- blast\n",
      "- bedtools\n",
      "- mafft\n",
      "- mummer=3.23\n",
      "- emboss\n",
      "- primer3=1.1.4\n",
      "- biopython<1.78\n",
      "- pybedtools\n",
      "- joblib\n",
      "- tqdm\n",
      "- openpyxl\n",
      "\n",
      "==> /ebio/abt3_projects/software/dev/ll_pipelines/llprimer//bin/envs/genes.yaml <==\n",
      "channels:\n",
      "- bioconda\n",
      "dependencies:\n",
      "- pigz\n",
      "- python=3\n",
      "- numpy\n",
      "- pyfaidx\n",
      "- bioconda::seqkit\n",
      "- bioconda::fasta-splitter\n",
      "- bioconda::vsearch\n",
      "- bioconda::mmseqs2\n",
      "==> /ebio/abt3_projects/software/dev/ll_pipelines/llprimer//bin/envs/aln.yaml <==\n",
      "channels:\n",
      "- bioconda\n",
      "- conda-forge\n",
      "dependencies:\n",
      "- pigz\n",
      "- bioconda::revtrans\n",
      "- bioconda::kalign3\n",
      "- bioconda::mafft\n",
      "\n",
      "==> /ebio/abt3_projects/software/dev/ll_pipelines/llprimer//bin/envs/blast.yaml <==\n",
      "channels:\n",
      "- bioconda\n",
      "- conda-forge\n",
      "dependencies:\n",
      "- pigz\n",
      "- bioconda::seqkit\n",
      "- bioconda::biopython<1.78\n",
      "- bioconda::blast>=2.10.1\n",
      "\n",
      "==> /ebio/abt3_projects/software/dev/ll_pipelines/llprimer//bin/envs/primer3.yaml <==\n",
      "channels:\n",
      "- bioconda\n",
      "- conda-forge\n",
      "dependencies:\n",
      "- pigz\n",
      "- bioconda::biopython<1.78\n",
      "- bioconda::primer3-py\n",
      "==> /ebio/abt3_projects/software/dev/ll_pipelines/llprimer//bin/envs/prokka.yaml <==\n",
      "channels:\n",
      "- bioconda\n",
      "dependencies:\n",
      "- pigz\n",
      "- bioconda::prokka"
     ]
    }
   ],
   "source": [
    "pipelineInfo('/ebio/abt3_projects/software/dev/ll_pipelines/llprimer/')"
   ]
  },
  {
   "cell_type": "code",
   "execution_count": 61,
   "metadata": {
    "execution": {
     "iopub.execute_input": "2021-04-24T05:29:24.634495Z",
     "iopub.status.busy": "2021-04-24T05:29:24.631683Z",
     "iopub.status.idle": "2021-04-24T05:29:25.717314Z"
    }
   },
   "outputs": [
    {
     "data": {
      "text/plain": [
       "R version 3.6.3 (2020-02-29)\n",
       "Platform: x86_64-conda_cos6-linux-gnu (64-bit)\n",
       "Running under: Ubuntu 18.04.5 LTS\n",
       "\n",
       "Matrix products: default\n",
       "BLAS/LAPACK: /ebio/abt3_projects/Georg_animal_feces/envs/tidyverse/lib/libopenblasp-r0.3.9.so\n",
       "\n",
       "locale:\n",
       " [1] LC_CTYPE=en_US.UTF-8       LC_NUMERIC=C              \n",
       " [3] LC_TIME=en_US.UTF-8        LC_COLLATE=en_US.UTF-8    \n",
       " [5] LC_MONETARY=en_US.UTF-8    LC_MESSAGES=en_US.UTF-8   \n",
       " [7] LC_PAPER=en_US.UTF-8       LC_NAME=C                 \n",
       " [9] LC_ADDRESS=C               LC_TELEPHONE=C            \n",
       "[11] LC_MEASUREMENT=en_US.UTF-8 LC_IDENTIFICATION=C       \n",
       "\n",
       "attached base packages:\n",
       "[1] stats     graphics  grDevices utils     datasets  methods   base     \n",
       "\n",
       "other attached packages:\n",
       "[1] LeyLabRMisc_0.1.6 ggplot2_3.3.1     tidytable_0.5.1   data.table_1.12.8\n",
       "[5] tidyr_1.1.0       dplyr_1.0.0      \n",
       "\n",
       "loaded via a namespace (and not attached):\n",
       " [1] Rcpp_1.0.4.6     magrittr_1.5     munsell_0.5.0    tidyselect_1.1.0\n",
       " [5] uuid_0.1-4       colorspace_1.4-1 R6_2.4.1         rlang_0.4.6     \n",
       " [9] tools_3.6.3      grid_3.6.3       gtable_0.3.0     withr_2.2.0     \n",
       "[13] htmltools_0.4.0  ellipsis_0.3.1   digest_0.6.25    tibble_3.0.1    \n",
       "[17] lifecycle_0.2.0  crayon_1.3.4     IRdisplay_0.7.0  purrr_0.3.4     \n",
       "[21] repr_1.1.0       base64enc_0.1-3  vctrs_0.3.1      IRkernel_1.1    \n",
       "[25] glue_1.4.1       evaluate_0.14    stringi_1.4.6    pbdZMQ_0.3-3    \n",
       "[29] compiler_3.6.3   pillar_1.4.4     scales_1.1.1     generics_0.0.2  \n",
       "[33] jsonlite_1.6.1   pkgconfig_2.0.3 "
      ]
     },
     "metadata": {},
     "output_type": "display_data"
    }
   ],
   "source": [
    "sessionInfo()"
   ]
  }
 ],
 "metadata": {
  "kernelspec": {
   "display_name": "R [conda env:Georg_animal_feces-tidyverse]",
   "language": "R",
   "name": "conda-env-Georg_animal_feces-tidyverse-r"
  },
  "language_info": {
   "codemirror_mode": "r",
   "file_extension": ".r",
   "mimetype": "text/x-r-source",
   "name": "R",
   "pygments_lexer": "r",
   "version": "3.6.3"
  },
  "toc-autonumbering": true
 },
 "nbformat": 4,
 "nbformat_minor": 4
}
