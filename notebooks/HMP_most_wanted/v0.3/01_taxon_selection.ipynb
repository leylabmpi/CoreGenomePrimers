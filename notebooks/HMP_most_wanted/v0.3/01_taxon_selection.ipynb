{
 "cells": [
  {
   "cell_type": "markdown",
   "metadata": {},
   "source": [
    "# Goal\n",
    "\n",
    "* Design clade-specific primers for HMP most-wanted clades"
   ]
  },
  {
   "cell_type": "markdown",
   "metadata": {},
   "source": [
    "# Var"
   ]
  },
  {
   "cell_type": "code",
   "execution_count": 1,
   "metadata": {
    "execution": {
     "iopub.execute_input": "2021-04-29T12:24:51.209624Z",
     "iopub.status.busy": "2021-04-29T12:24:51.204772Z",
     "iopub.status.idle": "2021-04-29T12:24:51.818537Z"
    }
   },
   "outputs": [],
   "source": [
    "work_dir = '/ebio/abt3_projects/software/dev/ll_pipelines/llprimer/experiments/HMP_most-wanted/'\n",
    "most_wanted_file = file.path(work_dir, 'most_wanted.tsv')"
   ]
  },
  {
   "cell_type": "markdown",
   "metadata": {},
   "source": [
    "# Init"
   ]
  },
  {
   "cell_type": "code",
   "execution_count": 2,
   "metadata": {
    "execution": {
     "iopub.execute_input": "2021-04-29T12:24:51.858097Z",
     "iopub.status.busy": "2021-04-29T12:24:51.821034Z",
     "iopub.status.idle": "2021-04-29T12:24:54.635644Z"
    }
   },
   "outputs": [
    {
     "name": "stderr",
     "output_type": "stream",
     "text": [
      "\n",
      "Attaching package: ‘dplyr’\n",
      "\n",
      "\n",
      "The following objects are masked from ‘package:stats’:\n",
      "\n",
      "    filter, lag\n",
      "\n",
      "\n",
      "The following objects are masked from ‘package:base’:\n",
      "\n",
      "    intersect, setdiff, setequal, union\n",
      "\n",
      "\n"
     ]
    }
   ],
   "source": [
    "library(dplyr)\n",
    "library(tidyr)\n",
    "library(ggplot2)\n",
    "library(LeyLabRMisc)"
   ]
  },
  {
   "cell_type": "code",
   "execution_count": 3,
   "metadata": {
    "execution": {
     "iopub.execute_input": "2021-04-29T12:24:54.643452Z",
     "iopub.status.busy": "2021-04-29T12:24:54.640187Z",
     "iopub.status.idle": "2021-04-29T12:24:54.708319Z"
    }
   },
   "outputs": [],
   "source": [
    "df.dims()"
   ]
  },
  {
   "cell_type": "markdown",
   "metadata": {},
   "source": [
    "# Selecting clades"
   ]
  },
  {
   "cell_type": "code",
   "execution_count": 4,
   "metadata": {
    "execution": {
     "iopub.execute_input": "2021-04-29T12:24:54.709936Z",
     "iopub.status.busy": "2021-04-29T12:24:54.709206Z",
     "iopub.status.idle": "2021-04-29T12:24:55.214341Z"
    }
   },
   "outputs": [
    {
     "name": "stderr",
     "output_type": "stream",
     "text": [
      "Warning message:\n",
      "“Expected 7 pieces. Additional pieces discarded in 46 rows [21, 26, 28, 80, 102, 122, 129, 131, 137, 140, 142, 149, 157, 164, 166, 180, 181, 189, 200, 216, ...].”\n",
      "Warning message:\n",
      "“Expected 7 pieces. Missing pieces filled with `NA` in 16 rows [3, 8, 9, 12, 13, 23, 31, 35, 60, 61, 78, 85, 87, 88, 98, 106].”\n"
     ]
    },
    {
     "data": {
      "text/html": [
       "<table>\n",
       "<caption>A data.frame: 457 × 110</caption>\n",
       "<thead>\n",
       "\t<tr><th scope=col>otuID</th><th scope=col>priorityGroup</th><th scope=col>variableRegion</th><th scope=col>count454</th><th scope=col>consensusLength</th><th scope=col>Root</th><th scope=col>Domain</th><th scope=col>Phylum</th><th scope=col>Class</th><th scope=col>Order</th><th scope=col>⋯</th><th scope=col>X454_RelativeAbundanceAnterior.nares</th><th scope=col>X454_RelativeAbundanceL_Antecubital.fossa</th><th scope=col>X454_RelativeAbundanceL_Retroauricular.crease</th><th scope=col>X454_RelativeAbundanceR_Antecubital.fossa</th><th scope=col>X454_RelativeAbundanceR_Retroauricular.crease</th><th scope=col>X454_RelativeAbundanceMid.vagina</th><th scope=col>X454_RelativeAbundancePosterior.fornix</th><th scope=col>X454_RelativeAbundanceVaginal.introitus</th><th scope=col>X454_RelativeAbundancepositive</th><th scope=col>X454_RelativeAbundancewater</th></tr>\n",
       "\t<tr><th scope=col>&lt;fct&gt;</th><th scope=col>&lt;fct&gt;</th><th scope=col>&lt;fct&gt;</th><th scope=col>&lt;int&gt;</th><th scope=col>&lt;int&gt;</th><th scope=col>&lt;chr&gt;</th><th scope=col>&lt;chr&gt;</th><th scope=col>&lt;chr&gt;</th><th scope=col>&lt;chr&gt;</th><th scope=col>&lt;chr&gt;</th><th scope=col>⋯</th><th scope=col>&lt;dbl&gt;</th><th scope=col>&lt;dbl&gt;</th><th scope=col>&lt;dbl&gt;</th><th scope=col>&lt;dbl&gt;</th><th scope=col>&lt;dbl&gt;</th><th scope=col>&lt;dbl&gt;</th><th scope=col>&lt;dbl&gt;</th><th scope=col>&lt;dbl&gt;</th><th scope=col>&lt;dbl&gt;</th><th scope=col>&lt;dbl&gt;</th></tr>\n",
       "</thead>\n",
       "<tbody>\n",
       "\t<tr><td>otu_24_V3V5</td><td>HIGH PRIORITY/MOST WANTED</td><td>V3V5</td><td>215572</td><td>510</td><td>Root</td><td>Bacteria</td><td>Bacteroidetes</td><td>Flavobacteria</td><td>Flavobacteriales</td><td>⋯</td><td>0.000592</td><td>0.01418459</td><td>0.000537</td><td>0.003863433</td><td>0.000431</td><td>7.09e-06</td><td>7.05e-07</td><td>2.3e-05</td><td>3.91e-06</td><td>0</td></tr>\n",
       "\t<tr><td>otu_29_V1V3</td><td>HIGH PRIORITY/MOST WANTED</td><td>V1V3</td><td>139649</td><td>490</td><td>Root</td><td>Bacteria</td><td>Bacteroidetes</td><td>Bacteroidia  </td><td>Bacteroidales   </td><td>⋯</td><td>0.000442</td><td>0.00035400</td><td>0.000127</td><td>0.000532000</td><td>0.000105</td><td>1.68e-05</td><td>0.00e+00</td><td>6.4e-06</td><td>2.57e-06</td><td>0</td></tr>\n",
       "\t<tr><td>⋮</td><td>⋮</td><td>⋮</td><td>⋮</td><td>⋮</td><td>⋮</td><td>⋮</td><td>⋮</td><td>⋮</td><td>⋮</td><td>⋱</td><td>⋮</td><td>⋮</td><td>⋮</td><td>⋮</td><td>⋮</td><td>⋮</td><td>⋮</td><td>⋮</td><td>⋮</td><td>⋮</td></tr>\n",
       "\t<tr><td>otu_1373_V1V3</td><td>MEDIUM PRIORITY</td><td>V1V3</td><td>164</td><td>483</td><td>Root</td><td>Bacteria</td><td>Bacteroidetes</td><td>Bacteroidia</td><td>Bacteroidales</td><td>⋯</td><td>0</td><td>0.00e+00</td><td>0</td><td>3.6e-06</td><td>0</td><td>0</td><td>0</td><td>0</td><td>0</td><td>0</td></tr>\n",
       "\t<tr><td>otu_1209_V3V5</td><td>MEDIUM PRIORITY</td><td>V3V5</td><td>114</td><td>432</td><td>Root</td><td>Bacteria</td><td>Bacteroidetes</td><td>Bacteroidia</td><td>Bacteroidales</td><td>⋯</td><td>0</td><td>1.65e-05</td><td>0</td><td>2.0e-06</td><td>0</td><td>0</td><td>0</td><td>0</td><td>0</td><td>0</td></tr>\n",
       "</tbody>\n",
       "</table>\n"
      ],
      "text/latex": [
       "A data.frame: 457 × 110\n",
       "\\begin{tabular}{lllllllllllllllllllll}\n",
       " otuID & priorityGroup & variableRegion & count454 & consensusLength & Root & Domain & Phylum & Class & Order & ⋯ & X454\\_RelativeAbundanceAnterior.nares & X454\\_RelativeAbundanceL\\_Antecubital.fossa & X454\\_RelativeAbundanceL\\_Retroauricular.crease & X454\\_RelativeAbundanceR\\_Antecubital.fossa & X454\\_RelativeAbundanceR\\_Retroauricular.crease & X454\\_RelativeAbundanceMid.vagina & X454\\_RelativeAbundancePosterior.fornix & X454\\_RelativeAbundanceVaginal.introitus & X454\\_RelativeAbundancepositive & X454\\_RelativeAbundancewater\\\\\n",
       " <fct> & <fct> & <fct> & <int> & <int> & <chr> & <chr> & <chr> & <chr> & <chr> & ⋯ & <dbl> & <dbl> & <dbl> & <dbl> & <dbl> & <dbl> & <dbl> & <dbl> & <dbl> & <dbl>\\\\\n",
       "\\hline\n",
       "\t otu\\_24\\_V3V5 & HIGH PRIORITY/MOST WANTED & V3V5 & 215572 & 510 & Root & Bacteria & Bacteroidetes & Flavobacteria & Flavobacteriales & ⋯ & 0.000592 & 0.01418459 & 0.000537 & 0.003863433 & 0.000431 & 7.09e-06 & 7.05e-07 & 2.3e-05 & 3.91e-06 & 0\\\\\n",
       "\t otu\\_29\\_V1V3 & HIGH PRIORITY/MOST WANTED & V1V3 & 139649 & 490 & Root & Bacteria & Bacteroidetes & Bacteroidia   & Bacteroidales    & ⋯ & 0.000442 & 0.00035400 & 0.000127 & 0.000532000 & 0.000105 & 1.68e-05 & 0.00e+00 & 6.4e-06 & 2.57e-06 & 0\\\\\n",
       "\t ⋮ & ⋮ & ⋮ & ⋮ & ⋮ & ⋮ & ⋮ & ⋮ & ⋮ & ⋮ & ⋱ & ⋮ & ⋮ & ⋮ & ⋮ & ⋮ & ⋮ & ⋮ & ⋮ & ⋮ & ⋮\\\\\n",
       "\t otu\\_1373\\_V1V3 & MEDIUM PRIORITY & V1V3 & 164 & 483 & Root & Bacteria & Bacteroidetes & Bacteroidia & Bacteroidales & ⋯ & 0 & 0.00e+00 & 0 & 3.6e-06 & 0 & 0 & 0 & 0 & 0 & 0\\\\\n",
       "\t otu\\_1209\\_V3V5 & MEDIUM PRIORITY & V3V5 & 114 & 432 & Root & Bacteria & Bacteroidetes & Bacteroidia & Bacteroidales & ⋯ & 0 & 1.65e-05 & 0 & 2.0e-06 & 0 & 0 & 0 & 0 & 0 & 0\\\\\n",
       "\\end{tabular}\n"
      ],
      "text/markdown": [
       "\n",
       "A data.frame: 457 × 110\n",
       "\n",
       "| otuID &lt;fct&gt; | priorityGroup &lt;fct&gt; | variableRegion &lt;fct&gt; | count454 &lt;int&gt; | consensusLength &lt;int&gt; | Root &lt;chr&gt; | Domain &lt;chr&gt; | Phylum &lt;chr&gt; | Class &lt;chr&gt; | Order &lt;chr&gt; | ⋯ ⋯ | X454_RelativeAbundanceAnterior.nares &lt;dbl&gt; | X454_RelativeAbundanceL_Antecubital.fossa &lt;dbl&gt; | X454_RelativeAbundanceL_Retroauricular.crease &lt;dbl&gt; | X454_RelativeAbundanceR_Antecubital.fossa &lt;dbl&gt; | X454_RelativeAbundanceR_Retroauricular.crease &lt;dbl&gt; | X454_RelativeAbundanceMid.vagina &lt;dbl&gt; | X454_RelativeAbundancePosterior.fornix &lt;dbl&gt; | X454_RelativeAbundanceVaginal.introitus &lt;dbl&gt; | X454_RelativeAbundancepositive &lt;dbl&gt; | X454_RelativeAbundancewater &lt;dbl&gt; |\n",
       "|---|---|---|---|---|---|---|---|---|---|---|---|---|---|---|---|---|---|---|---|---|\n",
       "| otu_24_V3V5 | HIGH PRIORITY/MOST WANTED | V3V5 | 215572 | 510 | Root | Bacteria | Bacteroidetes | Flavobacteria | Flavobacteriales | ⋯ | 0.000592 | 0.01418459 | 0.000537 | 0.003863433 | 0.000431 | 7.09e-06 | 7.05e-07 | 2.3e-05 | 3.91e-06 | 0 |\n",
       "| otu_29_V1V3 | HIGH PRIORITY/MOST WANTED | V1V3 | 139649 | 490 | Root | Bacteria | Bacteroidetes | Bacteroidia   | Bacteroidales    | ⋯ | 0.000442 | 0.00035400 | 0.000127 | 0.000532000 | 0.000105 | 1.68e-05 | 0.00e+00 | 6.4e-06 | 2.57e-06 | 0 |\n",
       "| ⋮ | ⋮ | ⋮ | ⋮ | ⋮ | ⋮ | ⋮ | ⋮ | ⋮ | ⋮ | ⋱ | ⋮ | ⋮ | ⋮ | ⋮ | ⋮ | ⋮ | ⋮ | ⋮ | ⋮ | ⋮ |\n",
       "| otu_1373_V1V3 | MEDIUM PRIORITY | V1V3 | 164 | 483 | Root | Bacteria | Bacteroidetes | Bacteroidia | Bacteroidales | ⋯ | 0 | 0.00e+00 | 0 | 3.6e-06 | 0 | 0 | 0 | 0 | 0 | 0 |\n",
       "| otu_1209_V3V5 | MEDIUM PRIORITY | V3V5 | 114 | 432 | Root | Bacteria | Bacteroidetes | Bacteroidia | Bacteroidales | ⋯ | 0 | 1.65e-05 | 0 | 2.0e-06 | 0 | 0 | 0 | 0 | 0 | 0 |\n",
       "\n"
      ],
      "text/plain": [
       "    otuID         priorityGroup             variableRegion count454\n",
       "1   otu_24_V3V5   HIGH PRIORITY/MOST WANTED V3V5           215572  \n",
       "2   otu_29_V1V3   HIGH PRIORITY/MOST WANTED V1V3           139649  \n",
       "⋮   ⋮             ⋮                         ⋮              ⋮       \n",
       "456 otu_1373_V1V3 MEDIUM PRIORITY           V1V3           164     \n",
       "457 otu_1209_V3V5 MEDIUM PRIORITY           V3V5           114     \n",
       "    consensusLength Root Domain   Phylum        Class         Order           \n",
       "1   510             Root Bacteria Bacteroidetes Flavobacteria Flavobacteriales\n",
       "2   490             Root Bacteria Bacteroidetes Bacteroidia   Bacteroidales   \n",
       "⋮   ⋮               ⋮    ⋮        ⋮             ⋮             ⋮               \n",
       "456 483             Root Bacteria Bacteroidetes Bacteroidia   Bacteroidales   \n",
       "457 432             Root Bacteria Bacteroidetes Bacteroidia   Bacteroidales   \n",
       "    ⋯ X454_RelativeAbundanceAnterior.nares\n",
       "1   ⋯ 0.000592                            \n",
       "2   ⋯ 0.000442                            \n",
       "⋮   ⋱ ⋮                                   \n",
       "456 ⋯ 0                                   \n",
       "457 ⋯ 0                                   \n",
       "    X454_RelativeAbundanceL_Antecubital.fossa\n",
       "1   0.01418459                               \n",
       "2   0.00035400                               \n",
       "⋮   ⋮                                        \n",
       "456 0.00e+00                                 \n",
       "457 1.65e-05                                 \n",
       "    X454_RelativeAbundanceL_Retroauricular.crease\n",
       "1   0.000537                                     \n",
       "2   0.000127                                     \n",
       "⋮   ⋮                                            \n",
       "456 0                                            \n",
       "457 0                                            \n",
       "    X454_RelativeAbundanceR_Antecubital.fossa\n",
       "1   0.003863433                              \n",
       "2   0.000532000                              \n",
       "⋮   ⋮                                        \n",
       "456 3.6e-06                                  \n",
       "457 2.0e-06                                  \n",
       "    X454_RelativeAbundanceR_Retroauricular.crease\n",
       "1   0.000431                                     \n",
       "2   0.000105                                     \n",
       "⋮   ⋮                                            \n",
       "456 0                                            \n",
       "457 0                                            \n",
       "    X454_RelativeAbundanceMid.vagina X454_RelativeAbundancePosterior.fornix\n",
       "1   7.09e-06                         7.05e-07                              \n",
       "2   1.68e-05                         0.00e+00                              \n",
       "⋮   ⋮                                ⋮                                     \n",
       "456 0                                0                                     \n",
       "457 0                                0                                     \n",
       "    X454_RelativeAbundanceVaginal.introitus X454_RelativeAbundancepositive\n",
       "1   2.3e-05                                 3.91e-06                      \n",
       "2   6.4e-06                                 2.57e-06                      \n",
       "⋮   ⋮                                       ⋮                             \n",
       "456 0                                       0                             \n",
       "457 0                                       0                             \n",
       "    X454_RelativeAbundancewater\n",
       "1   0                          \n",
       "2   0                          \n",
       "⋮   ⋮                          \n",
       "456 0                          \n",
       "457 0                          "
      ]
     },
     "metadata": {},
     "output_type": "display_data"
    }
   ],
   "source": [
    "# most wanted data\n",
    "mw = read.delim(most_wanted_file, sep='\\t') %>%\n",
    "    select(-consensusSequence) %>%\n",
    "    mutate(rdpSummary = gsub('\\\\([0-9]+\\\\)', '', rdpSummary)) %>%\n",
    "    separate(rdpSummary, \n",
    "             c('Root', 'Domain', 'Phylum', 'Class', 'Order', 'Family', 'Genus'),\n",
    "             sep=';')\n",
    "mw"
   ]
  },
  {
   "cell_type": "code",
   "execution_count": 10,
   "metadata": {
    "execution": {
     "iopub.execute_input": "2021-01-12T12:43:58.161754Z",
     "iopub.status.busy": "2021-01-12T12:43:58.159576Z",
     "iopub.status.idle": "2021-01-12T12:43:58.300438Z",
     "shell.execute_reply": "2021-01-12T12:43:58.298266Z"
    }
   },
   "outputs": [
    {
     "data": {
      "text/html": [
       "<table>\n",
       "<caption>A tibble: 17 × 4</caption>\n",
       "<thead>\n",
       "\t<tr><th scope=col>Phylum</th><th scope=col>Class</th><th scope=col>Order</th><th scope=col>n</th></tr>\n",
       "\t<tr><th scope=col>&lt;chr&gt;</th><th scope=col>&lt;chr&gt;</th><th scope=col>&lt;chr&gt;</th><th scope=col>&lt;int&gt;</th></tr>\n",
       "</thead>\n",
       "<tbody>\n",
       "\t<tr><td>Firmicutes    </td><td>Clostridia           </td><td>Clostridiales     </td><td>52</td></tr>\n",
       "\t<tr><td>Bacteroidetes </td><td>Bacteroidia          </td><td>Bacteroidales     </td><td>21</td></tr>\n",
       "\t<tr><td>Bacteroidetes </td><td>Flavobacteria        </td><td>Flavobacteriales  </td><td> 7</td></tr>\n",
       "\t<tr><td>Actinobacteria</td><td>Actinobacteria       </td><td>Actinobacteridae  </td><td> 4</td></tr>\n",
       "\t<tr><td>Firmicutes    </td><td>Bacilli              </td><td>Bacillales        </td><td> 3</td></tr>\n",
       "\t<tr><td>Fusobacteria  </td><td>Fusobacteria         </td><td>Fusobacteriales   </td><td> 3</td></tr>\n",
       "\t<tr><td>Proteobacteria</td><td>Betaproteobacteria   </td><td>Neisseriales      </td><td> 2</td></tr>\n",
       "\t<tr><td>Spirochaetes  </td><td>Spirochaetes         </td><td>Spirochaetales    </td><td> 2</td></tr>\n",
       "\t<tr><td>Bacteroidetes </td><td>Sphingobacteria      </td><td>Sphingobacteriales</td><td> 1</td></tr>\n",
       "\t<tr><td>Firmicutes    </td><td>Erysipelotrichi      </td><td>Erysipelotrichales</td><td> 1</td></tr>\n",
       "\t<tr><td>Lentisphaerae </td><td>Lentisphaeria        </td><td>Lentisphaerales   </td><td> 1</td></tr>\n",
       "\t<tr><td>Proteobacteria</td><td>Alphaproteobacteria  </td><td>Rhodospirillales  </td><td> 1</td></tr>\n",
       "\t<tr><td>Proteobacteria</td><td>Alphaproteobacteria  </td><td>Sphingomonadales  </td><td> 1</td></tr>\n",
       "\t<tr><td>Proteobacteria</td><td>Betaproteobacteria   </td><td>Burkholderiales   </td><td> 1</td></tr>\n",
       "\t<tr><td>Proteobacteria</td><td>Epsilonproteobacteria</td><td>Nautiliales       </td><td> 1</td></tr>\n",
       "\t<tr><td>Synergistetes </td><td>Synergistia          </td><td>Synergistales     </td><td> 1</td></tr>\n",
       "\t<tr><td>Tenericutes   </td><td>Mollicutes           </td><td>Haloplasmatales   </td><td> 1</td></tr>\n",
       "</tbody>\n",
       "</table>\n"
      ],
      "text/latex": [
       "A tibble: 17 × 4\n",
       "\\begin{tabular}{llll}\n",
       " Phylum & Class & Order & n\\\\\n",
       " <chr> & <chr> & <chr> & <int>\\\\\n",
       "\\hline\n",
       "\t Firmicutes     & Clostridia            & Clostridiales      & 52\\\\\n",
       "\t Bacteroidetes  & Bacteroidia           & Bacteroidales      & 21\\\\\n",
       "\t Bacteroidetes  & Flavobacteria         & Flavobacteriales   &  7\\\\\n",
       "\t Actinobacteria & Actinobacteria        & Actinobacteridae   &  4\\\\\n",
       "\t Firmicutes     & Bacilli               & Bacillales         &  3\\\\\n",
       "\t Fusobacteria   & Fusobacteria          & Fusobacteriales    &  3\\\\\n",
       "\t Proteobacteria & Betaproteobacteria    & Neisseriales       &  2\\\\\n",
       "\t Spirochaetes   & Spirochaetes          & Spirochaetales     &  2\\\\\n",
       "\t Bacteroidetes  & Sphingobacteria       & Sphingobacteriales &  1\\\\\n",
       "\t Firmicutes     & Erysipelotrichi       & Erysipelotrichales &  1\\\\\n",
       "\t Lentisphaerae  & Lentisphaeria         & Lentisphaerales    &  1\\\\\n",
       "\t Proteobacteria & Alphaproteobacteria   & Rhodospirillales   &  1\\\\\n",
       "\t Proteobacteria & Alphaproteobacteria   & Sphingomonadales   &  1\\\\\n",
       "\t Proteobacteria & Betaproteobacteria    & Burkholderiales    &  1\\\\\n",
       "\t Proteobacteria & Epsilonproteobacteria & Nautiliales        &  1\\\\\n",
       "\t Synergistetes  & Synergistia           & Synergistales      &  1\\\\\n",
       "\t Tenericutes    & Mollicutes            & Haloplasmatales    &  1\\\\\n",
       "\\end{tabular}\n"
      ],
      "text/markdown": [
       "\n",
       "A tibble: 17 × 4\n",
       "\n",
       "| Phylum &lt;chr&gt; | Class &lt;chr&gt; | Order &lt;chr&gt; | n &lt;int&gt; |\n",
       "|---|---|---|---|\n",
       "| Firmicutes     | Clostridia            | Clostridiales      | 52 |\n",
       "| Bacteroidetes  | Bacteroidia           | Bacteroidales      | 21 |\n",
       "| Bacteroidetes  | Flavobacteria         | Flavobacteriales   |  7 |\n",
       "| Actinobacteria | Actinobacteria        | Actinobacteridae   |  4 |\n",
       "| Firmicutes     | Bacilli               | Bacillales         |  3 |\n",
       "| Fusobacteria   | Fusobacteria          | Fusobacteriales    |  3 |\n",
       "| Proteobacteria | Betaproteobacteria    | Neisseriales       |  2 |\n",
       "| Spirochaetes   | Spirochaetes          | Spirochaetales     |  2 |\n",
       "| Bacteroidetes  | Sphingobacteria       | Sphingobacteriales |  1 |\n",
       "| Firmicutes     | Erysipelotrichi       | Erysipelotrichales |  1 |\n",
       "| Lentisphaerae  | Lentisphaeria         | Lentisphaerales    |  1 |\n",
       "| Proteobacteria | Alphaproteobacteria   | Rhodospirillales   |  1 |\n",
       "| Proteobacteria | Alphaproteobacteria   | Sphingomonadales   |  1 |\n",
       "| Proteobacteria | Betaproteobacteria    | Burkholderiales    |  1 |\n",
       "| Proteobacteria | Epsilonproteobacteria | Nautiliales        |  1 |\n",
       "| Synergistetes  | Synergistia           | Synergistales      |  1 |\n",
       "| Tenericutes    | Mollicutes            | Haloplasmatales    |  1 |\n",
       "\n"
      ],
      "text/plain": [
       "   Phylum         Class                 Order              n \n",
       "1  Firmicutes     Clostridia            Clostridiales      52\n",
       "2  Bacteroidetes  Bacteroidia           Bacteroidales      21\n",
       "3  Bacteroidetes  Flavobacteria         Flavobacteriales    7\n",
       "4  Actinobacteria Actinobacteria        Actinobacteridae    4\n",
       "5  Firmicutes     Bacilli               Bacillales          3\n",
       "6  Fusobacteria   Fusobacteria          Fusobacteriales     3\n",
       "7  Proteobacteria Betaproteobacteria    Neisseriales        2\n",
       "8  Spirochaetes   Spirochaetes          Spirochaetales      2\n",
       "9  Bacteroidetes  Sphingobacteria       Sphingobacteriales  1\n",
       "10 Firmicutes     Erysipelotrichi       Erysipelotrichales  1\n",
       "11 Lentisphaerae  Lentisphaeria         Lentisphaerales     1\n",
       "12 Proteobacteria Alphaproteobacteria   Rhodospirillales    1\n",
       "13 Proteobacteria Alphaproteobacteria   Sphingomonadales    1\n",
       "14 Proteobacteria Betaproteobacteria    Burkholderiales     1\n",
       "15 Proteobacteria Epsilonproteobacteria Nautiliales         1\n",
       "16 Synergistetes  Synergistia           Synergistales       1\n",
       "17 Tenericutes    Mollicutes            Haloplasmatales     1"
      ]
     },
     "metadata": {},
     "output_type": "display_data"
    }
   ],
   "source": [
    "df.dims(20)\n",
    "mw %>%\n",
    "    filter(!is.na(Order),\n",
    "           !is.na(Family),\n",
    "           !is.na(Genus)) %>%\n",
    "    filter(priorityGroup == 'HIGH PRIORITY/MOST WANTED') %>%\n",
    "    group_by(Phylum, Class, Order) %>%\n",
    "    summarize(n = n(), .groups='drop') %>%\n",
    "    arrange(-n)\n",
    "df.dims()"
   ]
  },
  {
   "cell_type": "code",
   "execution_count": 11,
   "metadata": {
    "execution": {
     "iopub.execute_input": "2021-01-12T12:43:58.307142Z",
     "iopub.status.busy": "2021-01-12T12:43:58.304761Z",
     "iopub.status.idle": "2021-01-12T12:43:58.506688Z",
     "shell.execute_reply": "2021-01-12T12:43:58.504476Z"
    }
   },
   "outputs": [
    {
     "data": {
      "text/html": [
       "<table>\n",
       "<caption>A tibble: 55 × 6</caption>\n",
       "<thead>\n",
       "\t<tr><th scope=col>Phylum</th><th scope=col>Class</th><th scope=col>Order</th><th scope=col>Family</th><th scope=col>Genus</th><th scope=col>n</th></tr>\n",
       "\t<tr><th scope=col>&lt;chr&gt;</th><th scope=col>&lt;chr&gt;</th><th scope=col>&lt;chr&gt;</th><th scope=col>&lt;chr&gt;</th><th scope=col>&lt;chr&gt;</th><th scope=col>&lt;int&gt;</th></tr>\n",
       "</thead>\n",
       "<tbody>\n",
       "\t<tr><td>Firmicutes    </td><td>Clostridia           </td><td>Clostridiales     </td><td>Ruminococcaceae    </td><td>Oscillibacter        </td><td>11</td></tr>\n",
       "\t<tr><td>Bacteroidetes </td><td>Bacteroidia          </td><td>Bacteroidales     </td><td>Prevotellaceae     </td><td>Prevotella           </td><td> 9</td></tr>\n",
       "\t<tr><td>Firmicutes    </td><td>Clostridia           </td><td>Clostridiales     </td><td>Ruminococcaceae    </td><td>Anaerotruncus        </td><td> 7</td></tr>\n",
       "\t<tr><td>Bacteroidetes </td><td>Bacteroidia          </td><td>Bacteroidales     </td><td>Porphyromonadaceae </td><td>Butyricimonas        </td><td> 4</td></tr>\n",
       "\t<tr><td>Firmicutes    </td><td>Clostridia           </td><td>Clostridiales     </td><td>Ruminococcaceae    </td><td>Butyricicoccus       </td><td> 4</td></tr>\n",
       "\t<tr><td>Firmicutes    </td><td>Clostridia           </td><td>Clostridiales     </td><td>Ruminococcaceae    </td><td>Acetivibrio          </td><td> 3</td></tr>\n",
       "\t<tr><td>Fusobacteria  </td><td>Fusobacteria         </td><td>Fusobacteriales   </td><td>Leptotrichiaceae   </td><td>Leptotrichia         </td><td> 3</td></tr>\n",
       "\t<tr><td>Actinobacteria</td><td>Actinobacteria       </td><td>Actinobacteridae  </td><td>Actinomycetales    </td><td>Actinomycineae       </td><td> 2</td></tr>\n",
       "\t<tr><td>Bacteroidetes </td><td>Bacteroidia          </td><td>Bacteroidales     </td><td>Porphyromonadaceae </td><td>Porphyromonas        </td><td> 2</td></tr>\n",
       "\t<tr><td>Bacteroidetes </td><td>Bacteroidia          </td><td>Bacteroidales     </td><td>Porphyromonadaceae </td><td>Tannerella           </td><td> 2</td></tr>\n",
       "\t<tr><td>Bacteroidetes </td><td>Flavobacteria        </td><td>Flavobacteriales  </td><td>Flavobacteriaceae  </td><td>Kaistella            </td><td> 2</td></tr>\n",
       "\t<tr><td>Bacteroidetes </td><td>Flavobacteria        </td><td>Flavobacteriales  </td><td>Flavobacteriaceae  </td><td>Weeksella            </td><td> 2</td></tr>\n",
       "\t<tr><td>Firmicutes    </td><td>Bacilli              </td><td>Bacillales        </td><td>Bacillaceae        </td><td>Tumebacillus         </td><td> 2</td></tr>\n",
       "\t<tr><td>Firmicutes    </td><td>Clostridia           </td><td>Clostridiales     </td><td>Gracilibacteraceae </td><td>Gracilibacter        </td><td> 2</td></tr>\n",
       "\t<tr><td>Firmicutes    </td><td>Clostridia           </td><td>Clostridiales     </td><td>Incertae Sedis XII </td><td>Acidaminobacter      </td><td> 2</td></tr>\n",
       "\t<tr><td>Firmicutes    </td><td>Clostridia           </td><td>Clostridiales     </td><td>Incertae Sedis XIII</td><td>Anaerovorax          </td><td> 2</td></tr>\n",
       "\t<tr><td>Firmicutes    </td><td>Clostridia           </td><td>Clostridiales     </td><td>Lachnospiraceae    </td><td>Anaerosporobacter    </td><td> 2</td></tr>\n",
       "\t<tr><td>Firmicutes    </td><td>Clostridia           </td><td>Clostridiales     </td><td>Lachnospiraceae    </td><td>Coprococcus          </td><td> 2</td></tr>\n",
       "\t<tr><td>Firmicutes    </td><td>Clostridia           </td><td>Clostridiales     </td><td>Lachnospiraceae    </td><td>Oribacterium         </td><td> 2</td></tr>\n",
       "\t<tr><td>Proteobacteria</td><td>Betaproteobacteria   </td><td>Neisseriales      </td><td>Neisseriaceae      </td><td>Simonsiella          </td><td> 2</td></tr>\n",
       "\t<tr><td>Spirochaetes  </td><td>Spirochaetes         </td><td>Spirochaetales    </td><td>Spirochaetaceae    </td><td>Treponema            </td><td> 2</td></tr>\n",
       "\t<tr><td>Actinobacteria</td><td>Actinobacteria       </td><td>Actinobacteridae  </td><td>Actinomycetales    </td><td>Micrococcineae       </td><td> 1</td></tr>\n",
       "\t<tr><td>Actinobacteria</td><td>Actinobacteria       </td><td>Actinobacteridae  </td><td>Actinomycetales    </td><td>Propionibacterineae  </td><td> 1</td></tr>\n",
       "\t<tr><td>Bacteroidetes </td><td>Bacteroidia          </td><td>Bacteroidales     </td><td>Porphyromonadaceae </td><td>Barnesiella          </td><td> 1</td></tr>\n",
       "\t<tr><td>Bacteroidetes </td><td>Bacteroidia          </td><td>Bacteroidales     </td><td>Porphyromonadaceae </td><td>Proteiniphilum       </td><td> 1</td></tr>\n",
       "\t<tr><td>Bacteroidetes </td><td>Bacteroidia          </td><td>Bacteroidales     </td><td>Prevotellaceae     </td><td>Hallella             </td><td> 1</td></tr>\n",
       "\t<tr><td>Bacteroidetes </td><td>Bacteroidia          </td><td>Bacteroidales     </td><td>Prevotellaceae     </td><td>Xylanibacter         </td><td> 1</td></tr>\n",
       "\t<tr><td>Bacteroidetes </td><td>Flavobacteria        </td><td>Flavobacteriales  </td><td>Cryomorphaceae     </td><td>Fluviicola           </td><td> 1</td></tr>\n",
       "\t<tr><td>Bacteroidetes </td><td>Flavobacteria        </td><td>Flavobacteriales  </td><td>Cryomorphaceae     </td><td>Owenweeksia          </td><td> 1</td></tr>\n",
       "\t<tr><td>Bacteroidetes </td><td>Flavobacteria        </td><td>Flavobacteriales  </td><td>Flavobacteriaceae  </td><td>Elizabethkingia      </td><td> 1</td></tr>\n",
       "\t<tr><td>Bacteroidetes </td><td>Sphingobacteria      </td><td>Sphingobacteriales</td><td>Sphingobacteriaceae</td><td>Parapedobacter       </td><td> 1</td></tr>\n",
       "\t<tr><td>Firmicutes    </td><td>Bacilli              </td><td>Bacillales        </td><td>Bacillaceae        </td><td>Cerasibacillus       </td><td> 1</td></tr>\n",
       "\t<tr><td>Firmicutes    </td><td>Clostridia           </td><td>Clostridiales     </td><td>Gracilibacteraceae </td><td>Lutispora            </td><td> 1</td></tr>\n",
       "\t<tr><td>Firmicutes    </td><td>Clostridia           </td><td>Clostridiales     </td><td>Incertae Sedis XI  </td><td>Finegoldia           </td><td> 1</td></tr>\n",
       "\t<tr><td>Firmicutes    </td><td>Clostridia           </td><td>Clostridiales     </td><td>Incertae Sedis XI  </td><td>Peptoniphilus        </td><td> 1</td></tr>\n",
       "\t<tr><td>Firmicutes    </td><td>Clostridia           </td><td>Clostridiales     </td><td>Incertae Sedis XI  </td><td>Tissierella          </td><td> 1</td></tr>\n",
       "\t<tr><td>Firmicutes    </td><td>Clostridia           </td><td>Clostridiales     </td><td>Incertae Sedis XIV </td><td>Howardella           </td><td> 1</td></tr>\n",
       "\t<tr><td>Firmicutes    </td><td>Clostridia           </td><td>Clostridiales     </td><td>Lachnospiraceae    </td><td>Robinsoniella        </td><td> 1</td></tr>\n",
       "\t<tr><td>Firmicutes    </td><td>Clostridia           </td><td>Clostridiales     </td><td>Lachnospiraceae    </td><td>Roseburia            </td><td> 1</td></tr>\n",
       "\t<tr><td>Firmicutes    </td><td>Clostridia           </td><td>Clostridiales     </td><td>Peptococcaceae     </td><td>Peptococcaceae 1     </td><td> 1</td></tr>\n",
       "\t<tr><td>Firmicutes    </td><td>Clostridia           </td><td>Clostridiales     </td><td>Ruminococcaceae    </td><td>Acetanaerobacterium  </td><td> 1</td></tr>\n",
       "\t<tr><td>Firmicutes    </td><td>Clostridia           </td><td>Clostridiales     </td><td>Ruminococcaceae    </td><td>Ethanoligenens       </td><td> 1</td></tr>\n",
       "\t<tr><td>Firmicutes    </td><td>Clostridia           </td><td>Clostridiales     </td><td>Ruminococcaceae    </td><td>Lactonifactor        </td><td> 1</td></tr>\n",
       "\t<tr><td>Firmicutes    </td><td>Clostridia           </td><td>Clostridiales     </td><td>Ruminococcaceae    </td><td>Sporobacter          </td><td> 1</td></tr>\n",
       "\t<tr><td>Firmicutes    </td><td>Clostridia           </td><td>Clostridiales     </td><td>Veillonellaceae    </td><td>Anaerovibrio         </td><td> 1</td></tr>\n",
       "\t<tr><td>Firmicutes    </td><td>Clostridia           </td><td>Clostridiales     </td><td>Veillonellaceae    </td><td>Centipeda            </td><td> 1</td></tr>\n",
       "\t<tr><td>Firmicutes    </td><td>Clostridia           </td><td>Clostridiales     </td><td>Veillonellaceae    </td><td>Phascolarctobacterium</td><td> 1</td></tr>\n",
       "\t<tr><td>Firmicutes    </td><td>Erysipelotrichi      </td><td>Erysipelotrichales</td><td>Erysipelotrichaceae</td><td>Coprobacillus        </td><td> 1</td></tr>\n",
       "\t<tr><td>Lentisphaerae </td><td>Lentisphaeria        </td><td>Lentisphaerales   </td><td>Lentisphaeraceae   </td><td>Lentisphaera         </td><td> 1</td></tr>\n",
       "\t<tr><td>Proteobacteria</td><td>Alphaproteobacteria  </td><td>Rhodospirillales  </td><td>Rhodospirillaceae  </td><td>Telmatospirillum     </td><td> 1</td></tr>\n",
       "\t<tr><td>Proteobacteria</td><td>Alphaproteobacteria  </td><td>Sphingomonadales  </td><td>Sphingomonadaceae  </td><td>Sandaracinobacter    </td><td> 1</td></tr>\n",
       "\t<tr><td>Proteobacteria</td><td>Betaproteobacteria   </td><td>Burkholderiales   </td><td>Comamonadaceae     </td><td>Pelomonas            </td><td> 1</td></tr>\n",
       "\t<tr><td>Proteobacteria</td><td>Epsilonproteobacteria</td><td>Nautiliales       </td><td>Nautiliaceae       </td><td>Thioreductor         </td><td> 1</td></tr>\n",
       "\t<tr><td>Synergistetes </td><td>Synergistia          </td><td>Synergistales     </td><td>Synergistaceae     </td><td>Thermovirga          </td><td> 1</td></tr>\n",
       "\t<tr><td>Tenericutes   </td><td>Mollicutes           </td><td>Haloplasmatales   </td><td>Haloplasmataceae   </td><td>Haloplasma           </td><td> 1</td></tr>\n",
       "</tbody>\n",
       "</table>\n"
      ],
      "text/latex": [
       "A tibble: 55 × 6\n",
       "\\begin{tabular}{llllll}\n",
       " Phylum & Class & Order & Family & Genus & n\\\\\n",
       " <chr> & <chr> & <chr> & <chr> & <chr> & <int>\\\\\n",
       "\\hline\n",
       "\t Firmicutes     & Clostridia            & Clostridiales      & Ruminococcaceae     & Oscillibacter         & 11\\\\\n",
       "\t Bacteroidetes  & Bacteroidia           & Bacteroidales      & Prevotellaceae      & Prevotella            &  9\\\\\n",
       "\t Firmicutes     & Clostridia            & Clostridiales      & Ruminococcaceae     & Anaerotruncus         &  7\\\\\n",
       "\t Bacteroidetes  & Bacteroidia           & Bacteroidales      & Porphyromonadaceae  & Butyricimonas         &  4\\\\\n",
       "\t Firmicutes     & Clostridia            & Clostridiales      & Ruminococcaceae     & Butyricicoccus        &  4\\\\\n",
       "\t Firmicutes     & Clostridia            & Clostridiales      & Ruminococcaceae     & Acetivibrio           &  3\\\\\n",
       "\t Fusobacteria   & Fusobacteria          & Fusobacteriales    & Leptotrichiaceae    & Leptotrichia          &  3\\\\\n",
       "\t Actinobacteria & Actinobacteria        & Actinobacteridae   & Actinomycetales     & Actinomycineae        &  2\\\\\n",
       "\t Bacteroidetes  & Bacteroidia           & Bacteroidales      & Porphyromonadaceae  & Porphyromonas         &  2\\\\\n",
       "\t Bacteroidetes  & Bacteroidia           & Bacteroidales      & Porphyromonadaceae  & Tannerella            &  2\\\\\n",
       "\t Bacteroidetes  & Flavobacteria         & Flavobacteriales   & Flavobacteriaceae   & Kaistella             &  2\\\\\n",
       "\t Bacteroidetes  & Flavobacteria         & Flavobacteriales   & Flavobacteriaceae   & Weeksella             &  2\\\\\n",
       "\t Firmicutes     & Bacilli               & Bacillales         & Bacillaceae         & Tumebacillus          &  2\\\\\n",
       "\t Firmicutes     & Clostridia            & Clostridiales      & Gracilibacteraceae  & Gracilibacter         &  2\\\\\n",
       "\t Firmicutes     & Clostridia            & Clostridiales      & Incertae Sedis XII  & Acidaminobacter       &  2\\\\\n",
       "\t Firmicutes     & Clostridia            & Clostridiales      & Incertae Sedis XIII & Anaerovorax           &  2\\\\\n",
       "\t Firmicutes     & Clostridia            & Clostridiales      & Lachnospiraceae     & Anaerosporobacter     &  2\\\\\n",
       "\t Firmicutes     & Clostridia            & Clostridiales      & Lachnospiraceae     & Coprococcus           &  2\\\\\n",
       "\t Firmicutes     & Clostridia            & Clostridiales      & Lachnospiraceae     & Oribacterium          &  2\\\\\n",
       "\t Proteobacteria & Betaproteobacteria    & Neisseriales       & Neisseriaceae       & Simonsiella           &  2\\\\\n",
       "\t Spirochaetes   & Spirochaetes          & Spirochaetales     & Spirochaetaceae     & Treponema             &  2\\\\\n",
       "\t Actinobacteria & Actinobacteria        & Actinobacteridae   & Actinomycetales     & Micrococcineae        &  1\\\\\n",
       "\t Actinobacteria & Actinobacteria        & Actinobacteridae   & Actinomycetales     & Propionibacterineae   &  1\\\\\n",
       "\t Bacteroidetes  & Bacteroidia           & Bacteroidales      & Porphyromonadaceae  & Barnesiella           &  1\\\\\n",
       "\t Bacteroidetes  & Bacteroidia           & Bacteroidales      & Porphyromonadaceae  & Proteiniphilum        &  1\\\\\n",
       "\t Bacteroidetes  & Bacteroidia           & Bacteroidales      & Prevotellaceae      & Hallella              &  1\\\\\n",
       "\t Bacteroidetes  & Bacteroidia           & Bacteroidales      & Prevotellaceae      & Xylanibacter          &  1\\\\\n",
       "\t Bacteroidetes  & Flavobacteria         & Flavobacteriales   & Cryomorphaceae      & Fluviicola            &  1\\\\\n",
       "\t Bacteroidetes  & Flavobacteria         & Flavobacteriales   & Cryomorphaceae      & Owenweeksia           &  1\\\\\n",
       "\t Bacteroidetes  & Flavobacteria         & Flavobacteriales   & Flavobacteriaceae   & Elizabethkingia       &  1\\\\\n",
       "\t Bacteroidetes  & Sphingobacteria       & Sphingobacteriales & Sphingobacteriaceae & Parapedobacter        &  1\\\\\n",
       "\t Firmicutes     & Bacilli               & Bacillales         & Bacillaceae         & Cerasibacillus        &  1\\\\\n",
       "\t Firmicutes     & Clostridia            & Clostridiales      & Gracilibacteraceae  & Lutispora             &  1\\\\\n",
       "\t Firmicutes     & Clostridia            & Clostridiales      & Incertae Sedis XI   & Finegoldia            &  1\\\\\n",
       "\t Firmicutes     & Clostridia            & Clostridiales      & Incertae Sedis XI   & Peptoniphilus         &  1\\\\\n",
       "\t Firmicutes     & Clostridia            & Clostridiales      & Incertae Sedis XI   & Tissierella           &  1\\\\\n",
       "\t Firmicutes     & Clostridia            & Clostridiales      & Incertae Sedis XIV  & Howardella            &  1\\\\\n",
       "\t Firmicutes     & Clostridia            & Clostridiales      & Lachnospiraceae     & Robinsoniella         &  1\\\\\n",
       "\t Firmicutes     & Clostridia            & Clostridiales      & Lachnospiraceae     & Roseburia             &  1\\\\\n",
       "\t Firmicutes     & Clostridia            & Clostridiales      & Peptococcaceae      & Peptococcaceae 1      &  1\\\\\n",
       "\t Firmicutes     & Clostridia            & Clostridiales      & Ruminococcaceae     & Acetanaerobacterium   &  1\\\\\n",
       "\t Firmicutes     & Clostridia            & Clostridiales      & Ruminococcaceae     & Ethanoligenens        &  1\\\\\n",
       "\t Firmicutes     & Clostridia            & Clostridiales      & Ruminococcaceae     & Lactonifactor         &  1\\\\\n",
       "\t Firmicutes     & Clostridia            & Clostridiales      & Ruminococcaceae     & Sporobacter           &  1\\\\\n",
       "\t Firmicutes     & Clostridia            & Clostridiales      & Veillonellaceae     & Anaerovibrio          &  1\\\\\n",
       "\t Firmicutes     & Clostridia            & Clostridiales      & Veillonellaceae     & Centipeda             &  1\\\\\n",
       "\t Firmicutes     & Clostridia            & Clostridiales      & Veillonellaceae     & Phascolarctobacterium &  1\\\\\n",
       "\t Firmicutes     & Erysipelotrichi       & Erysipelotrichales & Erysipelotrichaceae & Coprobacillus         &  1\\\\\n",
       "\t Lentisphaerae  & Lentisphaeria         & Lentisphaerales    & Lentisphaeraceae    & Lentisphaera          &  1\\\\\n",
       "\t Proteobacteria & Alphaproteobacteria   & Rhodospirillales   & Rhodospirillaceae   & Telmatospirillum      &  1\\\\\n",
       "\t Proteobacteria & Alphaproteobacteria   & Sphingomonadales   & Sphingomonadaceae   & Sandaracinobacter     &  1\\\\\n",
       "\t Proteobacteria & Betaproteobacteria    & Burkholderiales    & Comamonadaceae      & Pelomonas             &  1\\\\\n",
       "\t Proteobacteria & Epsilonproteobacteria & Nautiliales        & Nautiliaceae        & Thioreductor          &  1\\\\\n",
       "\t Synergistetes  & Synergistia           & Synergistales      & Synergistaceae      & Thermovirga           &  1\\\\\n",
       "\t Tenericutes    & Mollicutes            & Haloplasmatales    & Haloplasmataceae    & Haloplasma            &  1\\\\\n",
       "\\end{tabular}\n"
      ],
      "text/markdown": [
       "\n",
       "A tibble: 55 × 6\n",
       "\n",
       "| Phylum &lt;chr&gt; | Class &lt;chr&gt; | Order &lt;chr&gt; | Family &lt;chr&gt; | Genus &lt;chr&gt; | n &lt;int&gt; |\n",
       "|---|---|---|---|---|---|\n",
       "| Firmicutes     | Clostridia            | Clostridiales      | Ruminococcaceae     | Oscillibacter         | 11 |\n",
       "| Bacteroidetes  | Bacteroidia           | Bacteroidales      | Prevotellaceae      | Prevotella            |  9 |\n",
       "| Firmicutes     | Clostridia            | Clostridiales      | Ruminococcaceae     | Anaerotruncus         |  7 |\n",
       "| Bacteroidetes  | Bacteroidia           | Bacteroidales      | Porphyromonadaceae  | Butyricimonas         |  4 |\n",
       "| Firmicutes     | Clostridia            | Clostridiales      | Ruminococcaceae     | Butyricicoccus        |  4 |\n",
       "| Firmicutes     | Clostridia            | Clostridiales      | Ruminococcaceae     | Acetivibrio           |  3 |\n",
       "| Fusobacteria   | Fusobacteria          | Fusobacteriales    | Leptotrichiaceae    | Leptotrichia          |  3 |\n",
       "| Actinobacteria | Actinobacteria        | Actinobacteridae   | Actinomycetales     | Actinomycineae        |  2 |\n",
       "| Bacteroidetes  | Bacteroidia           | Bacteroidales      | Porphyromonadaceae  | Porphyromonas         |  2 |\n",
       "| Bacteroidetes  | Bacteroidia           | Bacteroidales      | Porphyromonadaceae  | Tannerella            |  2 |\n",
       "| Bacteroidetes  | Flavobacteria         | Flavobacteriales   | Flavobacteriaceae   | Kaistella             |  2 |\n",
       "| Bacteroidetes  | Flavobacteria         | Flavobacteriales   | Flavobacteriaceae   | Weeksella             |  2 |\n",
       "| Firmicutes     | Bacilli               | Bacillales         | Bacillaceae         | Tumebacillus          |  2 |\n",
       "| Firmicutes     | Clostridia            | Clostridiales      | Gracilibacteraceae  | Gracilibacter         |  2 |\n",
       "| Firmicutes     | Clostridia            | Clostridiales      | Incertae Sedis XII  | Acidaminobacter       |  2 |\n",
       "| Firmicutes     | Clostridia            | Clostridiales      | Incertae Sedis XIII | Anaerovorax           |  2 |\n",
       "| Firmicutes     | Clostridia            | Clostridiales      | Lachnospiraceae     | Anaerosporobacter     |  2 |\n",
       "| Firmicutes     | Clostridia            | Clostridiales      | Lachnospiraceae     | Coprococcus           |  2 |\n",
       "| Firmicutes     | Clostridia            | Clostridiales      | Lachnospiraceae     | Oribacterium          |  2 |\n",
       "| Proteobacteria | Betaproteobacteria    | Neisseriales       | Neisseriaceae       | Simonsiella           |  2 |\n",
       "| Spirochaetes   | Spirochaetes          | Spirochaetales     | Spirochaetaceae     | Treponema             |  2 |\n",
       "| Actinobacteria | Actinobacteria        | Actinobacteridae   | Actinomycetales     | Micrococcineae        |  1 |\n",
       "| Actinobacteria | Actinobacteria        | Actinobacteridae   | Actinomycetales     | Propionibacterineae   |  1 |\n",
       "| Bacteroidetes  | Bacteroidia           | Bacteroidales      | Porphyromonadaceae  | Barnesiella           |  1 |\n",
       "| Bacteroidetes  | Bacteroidia           | Bacteroidales      | Porphyromonadaceae  | Proteiniphilum        |  1 |\n",
       "| Bacteroidetes  | Bacteroidia           | Bacteroidales      | Prevotellaceae      | Hallella              |  1 |\n",
       "| Bacteroidetes  | Bacteroidia           | Bacteroidales      | Prevotellaceae      | Xylanibacter          |  1 |\n",
       "| Bacteroidetes  | Flavobacteria         | Flavobacteriales   | Cryomorphaceae      | Fluviicola            |  1 |\n",
       "| Bacteroidetes  | Flavobacteria         | Flavobacteriales   | Cryomorphaceae      | Owenweeksia           |  1 |\n",
       "| Bacteroidetes  | Flavobacteria         | Flavobacteriales   | Flavobacteriaceae   | Elizabethkingia       |  1 |\n",
       "| Bacteroidetes  | Sphingobacteria       | Sphingobacteriales | Sphingobacteriaceae | Parapedobacter        |  1 |\n",
       "| Firmicutes     | Bacilli               | Bacillales         | Bacillaceae         | Cerasibacillus        |  1 |\n",
       "| Firmicutes     | Clostridia            | Clostridiales      | Gracilibacteraceae  | Lutispora             |  1 |\n",
       "| Firmicutes     | Clostridia            | Clostridiales      | Incertae Sedis XI   | Finegoldia            |  1 |\n",
       "| Firmicutes     | Clostridia            | Clostridiales      | Incertae Sedis XI   | Peptoniphilus         |  1 |\n",
       "| Firmicutes     | Clostridia            | Clostridiales      | Incertae Sedis XI   | Tissierella           |  1 |\n",
       "| Firmicutes     | Clostridia            | Clostridiales      | Incertae Sedis XIV  | Howardella            |  1 |\n",
       "| Firmicutes     | Clostridia            | Clostridiales      | Lachnospiraceae     | Robinsoniella         |  1 |\n",
       "| Firmicutes     | Clostridia            | Clostridiales      | Lachnospiraceae     | Roseburia             |  1 |\n",
       "| Firmicutes     | Clostridia            | Clostridiales      | Peptococcaceae      | Peptococcaceae 1      |  1 |\n",
       "| Firmicutes     | Clostridia            | Clostridiales      | Ruminococcaceae     | Acetanaerobacterium   |  1 |\n",
       "| Firmicutes     | Clostridia            | Clostridiales      | Ruminococcaceae     | Ethanoligenens        |  1 |\n",
       "| Firmicutes     | Clostridia            | Clostridiales      | Ruminococcaceae     | Lactonifactor         |  1 |\n",
       "| Firmicutes     | Clostridia            | Clostridiales      | Ruminococcaceae     | Sporobacter           |  1 |\n",
       "| Firmicutes     | Clostridia            | Clostridiales      | Veillonellaceae     | Anaerovibrio          |  1 |\n",
       "| Firmicutes     | Clostridia            | Clostridiales      | Veillonellaceae     | Centipeda             |  1 |\n",
       "| Firmicutes     | Clostridia            | Clostridiales      | Veillonellaceae     | Phascolarctobacterium |  1 |\n",
       "| Firmicutes     | Erysipelotrichi       | Erysipelotrichales | Erysipelotrichaceae | Coprobacillus         |  1 |\n",
       "| Lentisphaerae  | Lentisphaeria         | Lentisphaerales    | Lentisphaeraceae    | Lentisphaera          |  1 |\n",
       "| Proteobacteria | Alphaproteobacteria   | Rhodospirillales   | Rhodospirillaceae   | Telmatospirillum      |  1 |\n",
       "| Proteobacteria | Alphaproteobacteria   | Sphingomonadales   | Sphingomonadaceae   | Sandaracinobacter     |  1 |\n",
       "| Proteobacteria | Betaproteobacteria    | Burkholderiales    | Comamonadaceae      | Pelomonas             |  1 |\n",
       "| Proteobacteria | Epsilonproteobacteria | Nautiliales        | Nautiliaceae        | Thioreductor          |  1 |\n",
       "| Synergistetes  | Synergistia           | Synergistales      | Synergistaceae      | Thermovirga           |  1 |\n",
       "| Tenericutes    | Mollicutes            | Haloplasmatales    | Haloplasmataceae    | Haloplasma            |  1 |\n",
       "\n"
      ],
      "text/plain": [
       "   Phylum         Class                 Order              Family             \n",
       "1  Firmicutes     Clostridia            Clostridiales      Ruminococcaceae    \n",
       "2  Bacteroidetes  Bacteroidia           Bacteroidales      Prevotellaceae     \n",
       "3  Firmicutes     Clostridia            Clostridiales      Ruminococcaceae    \n",
       "4  Bacteroidetes  Bacteroidia           Bacteroidales      Porphyromonadaceae \n",
       "5  Firmicutes     Clostridia            Clostridiales      Ruminococcaceae    \n",
       "6  Firmicutes     Clostridia            Clostridiales      Ruminococcaceae    \n",
       "7  Fusobacteria   Fusobacteria          Fusobacteriales    Leptotrichiaceae   \n",
       "8  Actinobacteria Actinobacteria        Actinobacteridae   Actinomycetales    \n",
       "9  Bacteroidetes  Bacteroidia           Bacteroidales      Porphyromonadaceae \n",
       "10 Bacteroidetes  Bacteroidia           Bacteroidales      Porphyromonadaceae \n",
       "11 Bacteroidetes  Flavobacteria         Flavobacteriales   Flavobacteriaceae  \n",
       "12 Bacteroidetes  Flavobacteria         Flavobacteriales   Flavobacteriaceae  \n",
       "13 Firmicutes     Bacilli               Bacillales         Bacillaceae        \n",
       "14 Firmicutes     Clostridia            Clostridiales      Gracilibacteraceae \n",
       "15 Firmicutes     Clostridia            Clostridiales      Incertae Sedis XII \n",
       "16 Firmicutes     Clostridia            Clostridiales      Incertae Sedis XIII\n",
       "17 Firmicutes     Clostridia            Clostridiales      Lachnospiraceae    \n",
       "18 Firmicutes     Clostridia            Clostridiales      Lachnospiraceae    \n",
       "19 Firmicutes     Clostridia            Clostridiales      Lachnospiraceae    \n",
       "20 Proteobacteria Betaproteobacteria    Neisseriales       Neisseriaceae      \n",
       "21 Spirochaetes   Spirochaetes          Spirochaetales     Spirochaetaceae    \n",
       "22 Actinobacteria Actinobacteria        Actinobacteridae   Actinomycetales    \n",
       "23 Actinobacteria Actinobacteria        Actinobacteridae   Actinomycetales    \n",
       "24 Bacteroidetes  Bacteroidia           Bacteroidales      Porphyromonadaceae \n",
       "25 Bacteroidetes  Bacteroidia           Bacteroidales      Porphyromonadaceae \n",
       "26 Bacteroidetes  Bacteroidia           Bacteroidales      Prevotellaceae     \n",
       "27 Bacteroidetes  Bacteroidia           Bacteroidales      Prevotellaceae     \n",
       "28 Bacteroidetes  Flavobacteria         Flavobacteriales   Cryomorphaceae     \n",
       "29 Bacteroidetes  Flavobacteria         Flavobacteriales   Cryomorphaceae     \n",
       "30 Bacteroidetes  Flavobacteria         Flavobacteriales   Flavobacteriaceae  \n",
       "31 Bacteroidetes  Sphingobacteria       Sphingobacteriales Sphingobacteriaceae\n",
       "32 Firmicutes     Bacilli               Bacillales         Bacillaceae        \n",
       "33 Firmicutes     Clostridia            Clostridiales      Gracilibacteraceae \n",
       "34 Firmicutes     Clostridia            Clostridiales      Incertae Sedis XI  \n",
       "35 Firmicutes     Clostridia            Clostridiales      Incertae Sedis XI  \n",
       "36 Firmicutes     Clostridia            Clostridiales      Incertae Sedis XI  \n",
       "37 Firmicutes     Clostridia            Clostridiales      Incertae Sedis XIV \n",
       "38 Firmicutes     Clostridia            Clostridiales      Lachnospiraceae    \n",
       "39 Firmicutes     Clostridia            Clostridiales      Lachnospiraceae    \n",
       "40 Firmicutes     Clostridia            Clostridiales      Peptococcaceae     \n",
       "41 Firmicutes     Clostridia            Clostridiales      Ruminococcaceae    \n",
       "42 Firmicutes     Clostridia            Clostridiales      Ruminococcaceae    \n",
       "43 Firmicutes     Clostridia            Clostridiales      Ruminococcaceae    \n",
       "44 Firmicutes     Clostridia            Clostridiales      Ruminococcaceae    \n",
       "45 Firmicutes     Clostridia            Clostridiales      Veillonellaceae    \n",
       "46 Firmicutes     Clostridia            Clostridiales      Veillonellaceae    \n",
       "47 Firmicutes     Clostridia            Clostridiales      Veillonellaceae    \n",
       "48 Firmicutes     Erysipelotrichi       Erysipelotrichales Erysipelotrichaceae\n",
       "49 Lentisphaerae  Lentisphaeria         Lentisphaerales    Lentisphaeraceae   \n",
       "50 Proteobacteria Alphaproteobacteria   Rhodospirillales   Rhodospirillaceae  \n",
       "51 Proteobacteria Alphaproteobacteria   Sphingomonadales   Sphingomonadaceae  \n",
       "52 Proteobacteria Betaproteobacteria    Burkholderiales    Comamonadaceae     \n",
       "53 Proteobacteria Epsilonproteobacteria Nautiliales        Nautiliaceae       \n",
       "54 Synergistetes  Synergistia           Synergistales      Synergistaceae     \n",
       "55 Tenericutes    Mollicutes            Haloplasmatales    Haloplasmataceae   \n",
       "   Genus                 n \n",
       "1  Oscillibacter         11\n",
       "2  Prevotella             9\n",
       "3  Anaerotruncus          7\n",
       "4  Butyricimonas          4\n",
       "5  Butyricicoccus         4\n",
       "6  Acetivibrio            3\n",
       "7  Leptotrichia           3\n",
       "8  Actinomycineae         2\n",
       "9  Porphyromonas          2\n",
       "10 Tannerella             2\n",
       "11 Kaistella              2\n",
       "12 Weeksella              2\n",
       "13 Tumebacillus           2\n",
       "14 Gracilibacter          2\n",
       "15 Acidaminobacter        2\n",
       "16 Anaerovorax            2\n",
       "17 Anaerosporobacter      2\n",
       "18 Coprococcus            2\n",
       "19 Oribacterium           2\n",
       "20 Simonsiella            2\n",
       "21 Treponema              2\n",
       "22 Micrococcineae         1\n",
       "23 Propionibacterineae    1\n",
       "24 Barnesiella            1\n",
       "25 Proteiniphilum         1\n",
       "26 Hallella               1\n",
       "27 Xylanibacter           1\n",
       "28 Fluviicola             1\n",
       "29 Owenweeksia            1\n",
       "30 Elizabethkingia        1\n",
       "31 Parapedobacter         1\n",
       "32 Cerasibacillus         1\n",
       "33 Lutispora              1\n",
       "34 Finegoldia             1\n",
       "35 Peptoniphilus          1\n",
       "36 Tissierella            1\n",
       "37 Howardella             1\n",
       "38 Robinsoniella          1\n",
       "39 Roseburia              1\n",
       "40 Peptococcaceae 1       1\n",
       "41 Acetanaerobacterium    1\n",
       "42 Ethanoligenens         1\n",
       "43 Lactonifactor          1\n",
       "44 Sporobacter            1\n",
       "45 Anaerovibrio           1\n",
       "46 Centipeda              1\n",
       "47 Phascolarctobacterium  1\n",
       "48 Coprobacillus          1\n",
       "49 Lentisphaera           1\n",
       "50 Telmatospirillum       1\n",
       "51 Sandaracinobacter      1\n",
       "52 Pelomonas              1\n",
       "53 Thioreductor           1\n",
       "54 Thermovirga            1\n",
       "55 Haloplasma             1"
      ]
     },
     "metadata": {},
     "output_type": "display_data"
    }
   ],
   "source": [
    "df.dims(60)\n",
    "mw %>%\n",
    "    filter(!is.na(Order),\n",
    "           !is.na(Family),\n",
    "           !is.na(Genus)) %>%\n",
    "    filter(priorityGroup == 'HIGH PRIORITY/MOST WANTED') %>%\n",
    "    group_by(Phylum, Class, Order, Family, Genus) %>%\n",
    "    summarize(n = n(), .groups='drop') %>%\n",
    "    arrange(-n)\n",
    "df.dims()"
   ]
  },
  {
   "cell_type": "markdown",
   "metadata": {},
   "source": [
    "# sessionInfo "
   ]
  },
  {
   "cell_type": "code",
   "execution_count": 32,
   "metadata": {
    "execution": {
     "iopub.execute_input": "2021-01-12T13:18:24.549736Z",
     "iopub.status.busy": "2021-01-12T13:18:24.547497Z",
     "iopub.status.idle": "2021-01-12T13:18:24.622298Z",
     "shell.execute_reply": "2021-01-12T13:18:24.621423Z"
    }
   },
   "outputs": [
    {
     "data": {
      "text/plain": [
       "R version 3.6.3 (2020-02-29)\n",
       "Platform: x86_64-conda_cos6-linux-gnu (64-bit)\n",
       "Running under: Ubuntu 18.04.5 LTS\n",
       "\n",
       "Matrix products: default\n",
       "BLAS/LAPACK: /ebio/abt3_projects/Georg_animal_feces/envs/tidyverse/lib/libopenblasp-r0.3.9.so\n",
       "\n",
       "locale:\n",
       " [1] LC_CTYPE=C.UTF-8    LC_NUMERIC=C        LC_TIME=C          \n",
       " [4] LC_COLLATE=C        LC_MONETARY=C       LC_MESSAGES=C      \n",
       " [7] LC_PAPER=C          LC_NAME=C           LC_ADDRESS=C       \n",
       "[10] LC_TELEPHONE=C      LC_MEASUREMENT=C    LC_IDENTIFICATION=C\n",
       "\n",
       "attached base packages:\n",
       "[1] stats     graphics  grDevices utils     datasets  methods   base     \n",
       "\n",
       "other attached packages:\n",
       "[1] LeyLabRMisc_0.1.6 ggplot2_3.3.1     tidyr_1.1.0       dplyr_1.0.0      \n",
       "\n",
       "loaded via a namespace (and not attached):\n",
       " [1] Rcpp_1.0.4.6     magrittr_1.5     munsell_0.5.0    tidyselect_1.1.0\n",
       " [5] uuid_0.1-4       colorspace_1.4-1 R6_2.4.1         rlang_0.4.6     \n",
       " [9] fansi_0.4.1      tools_3.6.3      grid_3.6.3       gtable_0.3.0    \n",
       "[13] cli_2.0.2        withr_2.2.0      htmltools_0.4.0  ellipsis_0.3.1  \n",
       "[17] assertthat_0.2.1 digest_0.6.25    tibble_3.0.1     lifecycle_0.2.0 \n",
       "[21] crayon_1.3.4     IRdisplay_0.7.0  purrr_0.3.4      repr_1.1.0      \n",
       "[25] base64enc_0.1-3  vctrs_0.3.1      IRkernel_1.1     glue_1.4.1      \n",
       "[29] evaluate_0.14    stringi_1.4.6    pbdZMQ_0.3-3     compiler_3.6.3  \n",
       "[33] pillar_1.4.4     scales_1.1.1     generics_0.0.2   jsonlite_1.6.1  \n",
       "[37] pkgconfig_2.0.3 "
      ]
     },
     "metadata": {},
     "output_type": "display_data"
    }
   ],
   "source": [
    "sessionInfo()"
   ]
  },
  {
   "cell_type": "code",
   "execution_count": null,
   "metadata": {},
   "outputs": [],
   "source": []
  },
  {
   "cell_type": "markdown",
   "metadata": {},
   "source": [
    "# --OLD--"
   ]
  },
  {
   "cell_type": "markdown",
   "metadata": {},
   "source": [
    "***"
   ]
  },
  {
   "cell_type": "markdown",
   "metadata": {},
   "source": [
    "# Genome download"
   ]
  },
  {
   "cell_type": "markdown",
   "metadata": {},
   "source": [
    "## Oscillibacter"
   ]
  },
  {
   "cell_type": "markdown",
   "metadata": {},
   "source": [
    "```\n",
    "OUTDIR=/ebio/abt3_projects/software/dev/ll_pipelines/llprimer/experiments/HMP_most-wanted/Oscillibacter/\n",
    "mkdir -p $OUTDIR\n",
    "ncbi-genome-download -p 12 -s genbank -F fasta --genera Oscillibacter -o $OUTDIR bacteria\n",
    "```"
   ]
  },
  {
   "cell_type": "markdown",
   "metadata": {},
   "source": [
    "## Prevotella: Skip for now\t"
   ]
  },
  {
   "cell_type": "markdown",
   "metadata": {},
   "source": [
    "```\n",
    "OUTDIR=/ebio/abt3_projects/software/dev/ll_pipelines/llprimer/experiments/HMP_most-wanted/Prevotella/\n",
    "mkdir -p $OUTDIR\n",
    "ncbi-genome-download -p 12 -s genbank -F fasta --genera Prevotella -o $OUTDIR bacteria\n",
    "```"
   ]
  },
  {
   "cell_type": "markdown",
   "metadata": {},
   "source": [
    "## Anaerotruncus\t"
   ]
  },
  {
   "cell_type": "markdown",
   "metadata": {},
   "source": [
    "```\n",
    "OUTDIR=/ebio/abt3_projects/software/dev/ll_pipelines/llprimer/experiments/HMP_most-wanted/Anaerotruncus/\n",
    "mkdir -p $OUTDIR\n",
    "ncbi-genome-download -p 12 -s genbank -F fasta --genera Anaerotruncus -o $OUTDIR bacteria\n",
    "```"
   ]
  },
  {
   "cell_type": "markdown",
   "metadata": {},
   "source": [
    "## Butyricimonas"
   ]
  },
  {
   "cell_type": "markdown",
   "metadata": {},
   "source": [
    "```\n",
    "OUTDIR=/ebio/abt3_projects/software/dev/ll_pipelines/llprimer/experiments/HMP_most-wanted/Butyricimonas/\n",
    "mkdir -p $OUTDIR\n",
    "ncbi-genome-download -p 12 -s genbank -F fasta --genera Butyricimonas -o $OUTDIR bacteria\n",
    "```"
   ]
  },
  {
   "cell_type": "markdown",
   "metadata": {},
   "source": [
    "## Butyricicoccus"
   ]
  },
  {
   "cell_type": "markdown",
   "metadata": {},
   "source": [
    "```\n",
    "OUTDIR=/ebio/abt3_projects/software/dev/ll_pipelines/llprimer/experiments/HMP_most-wanted/Butyricicoccus/\n",
    "mkdir -p $OUTDIR\n",
    "ncbi-genome-download -p 12 -s genbank -F fasta --genera Butyricicoccus -o $OUTDIR bacteria\n",
    "```"
   ]
  },
  {
   "cell_type": "markdown",
   "metadata": {},
   "source": [
    "## Acetivibrio"
   ]
  },
  {
   "cell_type": "markdown",
   "metadata": {},
   "source": [
    "```\n",
    "OUTDIR=/ebio/abt3_projects/software/dev/ll_pipelines/llprimer/experiments/HMP_most-wanted/Acetivibrio/\n",
    "mkdir -p $OUTDIR\n",
    "ncbi-genome-download -p 12 -s genbank -F fasta --genera Acetivibrio -o $OUTDIR bacteria\n",
    "```\n",
    "\n",
    "* **PASS: only 2 genomes**"
   ]
  },
  {
   "cell_type": "markdown",
   "metadata": {},
   "source": [
    "## Leptotrichia"
   ]
  },
  {
   "cell_type": "markdown",
   "metadata": {},
   "source": [
    "```\n",
    "OUTDIR=/ebio/abt3_projects/software/dev/ll_pipelines/llprimer/experiments/HMP_most-wanted/Leptotrichia/\n",
    "mkdir -p $OUTDIR\n",
    "ncbi-genome-download -p 12 -s genbank -F fasta --genera Leptotrichia -o $OUTDIR bacteria\n",
    "```\n"
   ]
  },
  {
   "cell_type": "markdown",
   "metadata": {},
   "source": [
    "# Genome quality"
   ]
  },
  {
   "cell_type": "markdown",
   "metadata": {},
   "source": [
    "## Oscillibacter"
   ]
  },
  {
   "cell_type": "code",
   "execution_count": 14,
   "metadata": {
    "execution": {
     "iopub.execute_input": "2021-01-12T12:44:13.997567Z",
     "iopub.status.busy": "2021-01-12T12:44:13.995942Z",
     "iopub.status.idle": "2021-01-12T12:44:14.030165Z",
     "shell.execute_reply": "2021-01-12T12:44:14.028155Z"
    }
   },
   "outputs": [],
   "source": [
    "clade = 'Oscillibacter'\n",
    "taxid = 459786\n",
    "work_dir_tmp = file.path(work_dir, clade, 'genbank')"
   ]
  },
  {
   "cell_type": "code",
   "execution_count": 13,
   "metadata": {
    "execution": {
     "iopub.execute_input": "2021-01-12T12:44:07.119222Z",
     "iopub.status.busy": "2021-01-12T12:44:07.117291Z",
     "iopub.status.idle": "2021-01-12T12:44:07.261592Z",
     "shell.execute_reply": "2021-01-12T12:44:07.259672Z"
    }
   },
   "outputs": [
    {
     "data": {
      "text/html": [
       "<table>\n",
       "<caption>A data.frame: 39 × 4</caption>\n",
       "<thead>\n",
       "\t<tr><th scope=col>Name</th><th scope=col>Fasta</th><th scope=col>Domain</th><th scope=col>Taxid</th></tr>\n",
       "\t<tr><th scope=col>&lt;chr&gt;</th><th scope=col>&lt;chr&gt;</th><th scope=col>&lt;fct&gt;</th><th scope=col>&lt;dbl&gt;</th></tr>\n",
       "</thead>\n",
       "<tbody>\n",
       "\t<tr><td>GCA_000283575.1_ASM28357v1_genomic</td><td>/ebio/abt3_projects/software/dev/ll_pipelines/llprimer/experiments/HMP_most-wanted/Oscillibacter/genbank/bacteria/GCA_000283575.1/GCA_000283575.1_ASM28357v1_genomic.fna.gz</td><td>Bacteria</td><td>459786</td></tr>\n",
       "\t<tr><td>GCA_000307265.1_ASM30726v1_genomic</td><td>/ebio/abt3_projects/software/dev/ll_pipelines/llprimer/experiments/HMP_most-wanted/Oscillibacter/genbank/bacteria/GCA_000307265.1/GCA_000307265.1_ASM30726v1_genomic.fna.gz</td><td>Bacteria</td><td>459786</td></tr>\n",
       "\t<tr><td>⋮</td><td>⋮</td><td>⋮</td><td>⋮</td></tr>\n",
       "\t<tr><td>GCA_015052085.1_ASM1505208v1_genomic                           </td><td>/ebio/abt3_projects/software/dev/ll_pipelines/llprimer/experiments/HMP_most-wanted/Oscillibacter/genbank/bacteria/GCA_015052085.1/GCA_015052085.1_ASM1505208v1_genomic.fna.gz                           </td><td>Bacteria</td><td>459786</td></tr>\n",
       "\t<tr><td>GCA_900115635.1_IMG-taxon_2623620509_annotated_assembly_genomic</td><td>/ebio/abt3_projects/software/dev/ll_pipelines/llprimer/experiments/HMP_most-wanted/Oscillibacter/genbank/bacteria/GCA_900115635.1/GCA_900115635.1_IMG-taxon_2623620509_annotated_assembly_genomic.fna.gz</td><td>Bacteria</td><td>459786</td></tr>\n",
       "</tbody>\n",
       "</table>\n"
      ],
      "text/latex": [
       "A data.frame: 39 × 4\n",
       "\\begin{tabular}{llll}\n",
       " Name & Fasta & Domain & Taxid\\\\\n",
       " <chr> & <chr> & <fct> & <dbl>\\\\\n",
       "\\hline\n",
       "\t GCA\\_000283575.1\\_ASM28357v1\\_genomic & /ebio/abt3\\_projects/software/dev/ll\\_pipelines/llprimer/experiments/HMP\\_most-wanted/Oscillibacter/genbank/bacteria/GCA\\_000283575.1/GCA\\_000283575.1\\_ASM28357v1\\_genomic.fna.gz & Bacteria & 459786\\\\\n",
       "\t GCA\\_000307265.1\\_ASM30726v1\\_genomic & /ebio/abt3\\_projects/software/dev/ll\\_pipelines/llprimer/experiments/HMP\\_most-wanted/Oscillibacter/genbank/bacteria/GCA\\_000307265.1/GCA\\_000307265.1\\_ASM30726v1\\_genomic.fna.gz & Bacteria & 459786\\\\\n",
       "\t ⋮ & ⋮ & ⋮ & ⋮\\\\\n",
       "\t GCA\\_015052085.1\\_ASM1505208v1\\_genomic                            & /ebio/abt3\\_projects/software/dev/ll\\_pipelines/llprimer/experiments/HMP\\_most-wanted/Oscillibacter/genbank/bacteria/GCA\\_015052085.1/GCA\\_015052085.1\\_ASM1505208v1\\_genomic.fna.gz                            & Bacteria & 459786\\\\\n",
       "\t GCA\\_900115635.1\\_IMG-taxon\\_2623620509\\_annotated\\_assembly\\_genomic & /ebio/abt3\\_projects/software/dev/ll\\_pipelines/llprimer/experiments/HMP\\_most-wanted/Oscillibacter/genbank/bacteria/GCA\\_900115635.1/GCA\\_900115635.1\\_IMG-taxon\\_2623620509\\_annotated\\_assembly\\_genomic.fna.gz & Bacteria & 459786\\\\\n",
       "\\end{tabular}\n"
      ],
      "text/markdown": [
       "\n",
       "A data.frame: 39 × 4\n",
       "\n",
       "| Name &lt;chr&gt; | Fasta &lt;chr&gt; | Domain &lt;fct&gt; | Taxid &lt;dbl&gt; |\n",
       "|---|---|---|---|\n",
       "| GCA_000283575.1_ASM28357v1_genomic | /ebio/abt3_projects/software/dev/ll_pipelines/llprimer/experiments/HMP_most-wanted/Oscillibacter/genbank/bacteria/GCA_000283575.1/GCA_000283575.1_ASM28357v1_genomic.fna.gz | Bacteria | 459786 |\n",
       "| GCA_000307265.1_ASM30726v1_genomic | /ebio/abt3_projects/software/dev/ll_pipelines/llprimer/experiments/HMP_most-wanted/Oscillibacter/genbank/bacteria/GCA_000307265.1/GCA_000307265.1_ASM30726v1_genomic.fna.gz | Bacteria | 459786 |\n",
       "| ⋮ | ⋮ | ⋮ | ⋮ |\n",
       "| GCA_015052085.1_ASM1505208v1_genomic                            | /ebio/abt3_projects/software/dev/ll_pipelines/llprimer/experiments/HMP_most-wanted/Oscillibacter/genbank/bacteria/GCA_015052085.1/GCA_015052085.1_ASM1505208v1_genomic.fna.gz                            | Bacteria | 459786 |\n",
       "| GCA_900115635.1_IMG-taxon_2623620509_annotated_assembly_genomic | /ebio/abt3_projects/software/dev/ll_pipelines/llprimer/experiments/HMP_most-wanted/Oscillibacter/genbank/bacteria/GCA_900115635.1/GCA_900115635.1_IMG-taxon_2623620509_annotated_assembly_genomic.fna.gz | Bacteria | 459786 |\n",
       "\n"
      ],
      "text/plain": [
       "   Name                                                           \n",
       "1  GCA_000283575.1_ASM28357v1_genomic                             \n",
       "2  GCA_000307265.1_ASM30726v1_genomic                             \n",
       "⋮  ⋮                                                              \n",
       "38 GCA_015052085.1_ASM1505208v1_genomic                           \n",
       "39 GCA_900115635.1_IMG-taxon_2623620509_annotated_assembly_genomic\n",
       "   Fasta                                                                                                                                                                                                   \n",
       "1  /ebio/abt3_projects/software/dev/ll_pipelines/llprimer/experiments/HMP_most-wanted/Oscillibacter/genbank/bacteria/GCA_000283575.1/GCA_000283575.1_ASM28357v1_genomic.fna.gz                             \n",
       "2  /ebio/abt3_projects/software/dev/ll_pipelines/llprimer/experiments/HMP_most-wanted/Oscillibacter/genbank/bacteria/GCA_000307265.1/GCA_000307265.1_ASM30726v1_genomic.fna.gz                             \n",
       "⋮  ⋮                                                                                                                                                                                                       \n",
       "38 /ebio/abt3_projects/software/dev/ll_pipelines/llprimer/experiments/HMP_most-wanted/Oscillibacter/genbank/bacteria/GCA_015052085.1/GCA_015052085.1_ASM1505208v1_genomic.fna.gz                           \n",
       "39 /ebio/abt3_projects/software/dev/ll_pipelines/llprimer/experiments/HMP_most-wanted/Oscillibacter/genbank/bacteria/GCA_900115635.1/GCA_900115635.1_IMG-taxon_2623620509_annotated_assembly_genomic.fna.gz\n",
       "   Domain   Taxid \n",
       "1  Bacteria 459786\n",
       "2  Bacteria 459786\n",
       "⋮  ⋮        ⋮     \n",
       "38 Bacteria 459786\n",
       "39 Bacteria 459786"
      ]
     },
     "metadata": {},
     "output_type": "display_data"
    },
    {
     "name": "stdout",
     "output_type": "stream",
     "text": [
      "File written: /ebio/abt3_projects/software/dev/ll_pipelines/llprimer/experiments/HMP_most-wanted//Oscillibacter/genbank/samples.txt \n"
     ]
    }
   ],
   "source": [
    "files = list_files(work_dir_tmp, '.fna.gz')\n",
    "samps = data.frame(Name = files %>% as.character %>% basename,\n",
    "                   Fasta = files,\n",
    "                   Domain = 'Bacteria',\n",
    "                   Taxid = taxid) %>%\n",
    "    mutate(Name = gsub('\\\\.fna\\\\.gz$', '', Name),\n",
    "           Fasta = gsub('/+', '/', Fasta))\n",
    "samps\n",
    "\n",
    "# writing file\n",
    "outfile = file.path(work_dir_tmp, 'samples.txt')\n",
    "write_table(samps, outfile)"
   ]
  },
  {
   "cell_type": "markdown",
   "metadata": {},
   "source": [
    "### LLG"
   ]
  },
  {
   "cell_type": "code",
   "execution_count": 39,
   "metadata": {},
   "outputs": [
    {
     "name": "stdout",
     "output_type": "stream",
     "text": [
      "# table with genome --> fasta_file information\n",
      "samples_file: /ebio/abt3_projects/software/dev/ll_pipelines/llprimer/experiments/HMP_most-wanted//Oscillibacter/genbank/samples.txt\n",
      "\n",
      "# output location\n",
      "output_dir: /ebio/abt3_projects/software/dev/ll_pipelines/llprimer/experiments/HMP_most-wanted//Oscillibacter/LLG_output/\n",
      "\n",
      "# temporary file directory (your username will be added automatically)\n",
      "tmp_dir: /ebio/abt3_scratch/\n",
      "\n",
      "# batch processing of genomes for certain steps\n",
      "## increase to better parallelize\n",
      "batches: 2 \n",
      "\n",
      "# Domain of genomes ('Archaea' or 'Bacteria)\n",
      "## Use \"Skip\" if provided as a \"Domain\" column in the genome table\n",
      "Domain: Skip\n",
      "\n",
      "# software parameters\n",
      "# Use \"Skip\" to skip any of these steps. If no params for rule, use \"\"\n",
      "# dRep MAGs are not further analyzed, but you can de-rep & then use the de-rep genome table as input.\n",
      "params:\n",
      "  ionice: -c 3\n",
      "  # assembly assessment\n",
      "  seqkit: \"\"\n",
      "  quast: Skip #\"\"\n",
      "  multiqc_on_quast: \"\" \n",
      "  checkm: Skip #\"\"\n",
      "  # de-replication (requires checkm)\n",
      "  drep: Skip #-comp 90 -con 5 -sa 0.999\n",
      "  # taxonomy\n",
      "  sourmash:\n",
      "    compute: Skip #--scaled 10000 -k 31\n",
      "    gather: -k 31\n",
      "  gtdbtk:\n",
      "    classify_wf: --min_perc_aa 10\n",
      "  # genome pairwise ANI  \n",
      "  fastani: Skip #--fragLen 3000 --minFraction 0.2 -k 16\n",
      "  dashing: Skip #-k 31 --full-tsv\n",
      "  comparem_aai: Skip #--evalue 0.001\n",
      "  # gene annotation\n",
      "  gene_call:\n",
      "    prokka: Skip #\"\" \n",
      "    multiqc_on_prokka: \"\"\n",
      "    prodigal: Skip #\"\"\n",
      "  eggnog_mapper: \"\"\n",
      "  eggnog_mapper_annot: \"\"\n",
      "  # rRNA (16S alignment & phylogeny)\n",
      "  barrnap: Skip #--lencutoff 0.8\n",
      "  vsearch_per_genome_drep: --id 0.95    # Skip to prevent drep of 16S copies within each genome\n",
      "  qiime2_fasttree: \"\"\n",
      "  qiime2_iqtree: --p-alrt 1000 --p-abayes --p-lbp 1000  --p-substitution-model 'GTR+I+G'\n",
      "  # genome phylogeny\n",
      "  phylophlan_config: Skip #--map_dna diamond --db_aa diamond --map_aa diamond --msa mafft --trim trimal --tree1 fasttree --tree2 raxml\n",
      "  phylophlan: --diversity high --min_num_markers 50 --accurate\n",
      "  # phenotype\n",
      "  traitar: Skip #\"\"\n",
      "  # biosynthetic gene clusters (BGCs)\n",
      "  antismash: Skip #--cb-knownclusters --cb-subclusters --asf  \n",
      "  DeepBGC: Skip #--score 0.5 --classifier-score 0.5 --prodigal-meta-mode\n",
      "  # antimicrobial resistance (AMR)\n",
      "  abricate: Skip #--minid 75 --mincov 80\n",
      "  # CRISPRs\n",
      "  cctyper: Skip #--prodigal meta\n",
      "  \n",
      "# databases\n",
      "databases:\n",
      "  checkM_data: /ebio/abt3_projects/databases_no-backup/checkM/\n",
      "  sourmash: /ebio/abt3_projects/databases_no-backup/sourmash/genbank-k31.sbt.json\n",
      "  sourmash_lca: /ebio/abt3_projects/databases_no-backup/sourmash/genbank-k31.lca.json.gz\n",
      "  gtdbtk: /ebio/abt3_projects/databases_no-backup/GTDB/release95/gtdbtk/db_info.md\n",
      "  phylophlan: /ebio/abt3_projects/databases_no-backup/phylophlan/PhyloPhlan/phylophlan.faa.bz2\n",
      "  eggnog: /ebio/abt3_projects/databases_no-backup/Eggnog/v2/eggnog.db\n",
      "  eggnog_diamond: /ebio/abt3_projects/databases_no-backup/Eggnog/v2/eggnog_proteins.dmnd\n",
      "  antismash: /ebio/abt3_projects/databases_no-backup/antismash/v5/\n",
      "  deepbgc: /ebio/abt3_projects/databases_no-backup/DeepBGC/\n",
      "  traitar: /ebio/abt3_projects/databases_no-backup/pfam/traitar/\n",
      "  abricate:\n",
      "    ncbi: /ebio/abt3_projects/databases_no-backup/abricate/ncbi/sequences\n",
      "    card: /ebio/abt3_projects/databases_no-backup/abricate/card/sequences\n",
      "    resfinder: /ebio/abt3_projects/databases_no-backup/abricate/resfinder/sequences\n",
      "    argannot: /ebio/abt3_projects/databases_no-backup/abricate/argannot/sequences\n",
      "    bacmet2: /ebio/abt3_projects/databases_no-backup/abricate/bacmet2/sequences\n",
      "    vfdb: /ebio/abt3_projects/databases_no-backup/abricate/vfdb/sequences\n",
      "    megares: /ebio/abt3_projects/databases_no-backup/abricate/megares/sequences\n",
      "    plasmidfinder: /ebio/abt3_projects/databases_no-backup/abricate/plasmidfinder/sequences\n",
      "\n",
      "# snakemake pipeline\n",
      "pipeline:\n",
      "  snakemake_folder: ./\n",
      "  script_folder: ./bin/scripts/\n",
      "  use_shared_mem: True\n",
      "  name: LLG"
     ]
    }
   ],
   "source": [
    "work_dir_tmp = file.path(work_dir, clade)\n",
    "cat_file(file.path(work_dir_tmp, 'config_llg.yaml'))"
   ]
  },
  {
   "cell_type": "markdown",
   "metadata": {},
   "source": [
    "#### Run\n",
    "\n",
    "```\n",
    "(snakemake) @ rick:/ebio/abt3_projects/software/dev/ll_pipelines/llprimer/experiments/HMP_most-wanted/Oscillibacter/llg\n",
    "$ screen -L -S llg-osc ./snakemake_sge.sh ../config_llg.yaml 20 -F\n",
    "```"
   ]
  },
  {
   "cell_type": "markdown",
   "metadata": {},
   "source": [
    "#### Samples table of high-quality genomes"
   ]
  },
  {
   "cell_type": "code",
   "execution_count": 17,
   "metadata": {
    "execution": {
     "iopub.execute_input": "2021-01-12T12:45:28.368480Z",
     "iopub.status.busy": "2021-01-12T12:45:28.366695Z",
     "iopub.status.idle": "2021-01-12T12:45:28.453060Z",
     "shell.execute_reply": "2021-01-12T12:45:28.450989Z"
    }
   },
   "outputs": [
    {
     "data": {
      "text/html": [
       "<table>\n",
       "<caption>A data.frame: 39 × 33</caption>\n",
       "<thead>\n",
       "\t<tr><th scope=col>Bin.Id</th><th scope=col>Marker.lineage</th><th scope=col>X..genomes</th><th scope=col>X..markers</th><th scope=col>X..marker.sets</th><th scope=col>Completeness</th><th scope=col>Contamination</th><th scope=col>Strain.heterogeneity</th><th scope=col>Genome.size..bp.</th><th scope=col>X..ambiguous.bases</th><th scope=col>⋯</th><th scope=col>X0</th><th scope=col>X1</th><th scope=col>X2</th><th scope=col>X3</th><th scope=col>X4</th><th scope=col>X5.</th><th scope=col>assembly.Id</th><th scope=col>assembler.Id</th><th scope=col>taxon.Id</th><th scope=col>File</th></tr>\n",
       "\t<tr><th scope=col>&lt;fct&gt;</th><th scope=col>&lt;fct&gt;</th><th scope=col>&lt;int&gt;</th><th scope=col>&lt;int&gt;</th><th scope=col>&lt;int&gt;</th><th scope=col>&lt;dbl&gt;</th><th scope=col>&lt;dbl&gt;</th><th scope=col>&lt;dbl&gt;</th><th scope=col>&lt;int&gt;</th><th scope=col>&lt;int&gt;</th><th scope=col>⋯</th><th scope=col>&lt;int&gt;</th><th scope=col>&lt;int&gt;</th><th scope=col>&lt;int&gt;</th><th scope=col>&lt;int&gt;</th><th scope=col>&lt;int&gt;</th><th scope=col>&lt;int&gt;</th><th scope=col>&lt;fct&gt;</th><th scope=col>&lt;fct&gt;</th><th scope=col>&lt;lgl&gt;</th><th scope=col>&lt;fct&gt;</th></tr>\n",
       "</thead>\n",
       "<tbody>\n",
       "\t<tr><td>GCA_000283575.1_ASM28357v1_genomic      </td><td>o__Clostridiales (UID1212)</td><td>172</td><td>263</td><td>149</td><td>98.99</td><td>1.01</td><td>0</td><td>4470622</td><td>    0</td><td>⋯</td><td>2</td><td>259</td><td>2</td><td>0</td><td>0</td><td>0</td><td>|ebio|abt3_projects|software|dev|ll_pipelines|llprimer|experiments|HMP_most-wanted|Oscillibacter|LLG_output|checkM|1|checkm|markers_qa_summary.tsv.1</td><td>markers_qa_summary.tsv.1</td><td>NA</td><td>/ebio/abt3_projects/software/dev/ll_pipelines/llprimer/experiments/HMP_most-wanted/Oscillibacter/LLG_output/checkM/1/checkm/markers_qa_summary.tsv.1</td></tr>\n",
       "\t<tr><td>GCA_000403435.2_Osci_bact_1-3_V1_genomic</td><td>o__Clostridiales (UID1212)</td><td>172</td><td>263</td><td>149</td><td>99.33</td><td>1.45</td><td>0</td><td>4467686</td><td>37481</td><td>⋯</td><td>1</td><td>259</td><td>3</td><td>0</td><td>0</td><td>0</td><td>|ebio|abt3_projects|software|dev|ll_pipelines|llprimer|experiments|HMP_most-wanted|Oscillibacter|LLG_output|checkM|1|checkm|markers_qa_summary.tsv.2</td><td>markers_qa_summary.tsv.2</td><td>NA</td><td>/ebio/abt3_projects/software/dev/ll_pipelines/llprimer/experiments/HMP_most-wanted/Oscillibacter/LLG_output/checkM/1/checkm/markers_qa_summary.tsv.2</td></tr>\n",
       "\t<tr><td>⋮</td><td>⋮</td><td>⋮</td><td>⋮</td><td>⋮</td><td>⋮</td><td>⋮</td><td>⋮</td><td>⋮</td><td>⋮</td><td>⋱</td><td>⋮</td><td>⋮</td><td>⋮</td><td>⋮</td><td>⋮</td><td>⋮</td><td>⋮</td><td>⋮</td><td>⋮</td><td>⋮</td></tr>\n",
       "\t<tr><td>GCA_014799915.1_ASM1479991v1_genomic</td><td>o__Clostridiales (UID1212)</td><td>172</td><td>263</td><td>149</td><td>87.74</td><td> 2.35</td><td>50.00</td><td>2875254</td><td>19077</td><td>⋯</td><td>50</td><td>209</td><td> 4</td><td>0</td><td>0</td><td>0</td><td>|ebio|abt3_projects|software|dev|ll_pipelines|llprimer|experiments|HMP_most-wanted|Oscillibacter|LLG_output|checkM|2|checkm|markers_qa_summary.tsv.18</td><td>markers_qa_summary.tsv.18</td><td>NA</td><td>/ebio/abt3_projects/software/dev/ll_pipelines/llprimer/experiments/HMP_most-wanted/Oscillibacter/LLG_output/checkM/2/checkm/markers_qa_summary.tsv.18</td></tr>\n",
       "\t<tr><td>GCA_015052085.1_ASM1505208v1_genomic</td><td>o__Clostridiales (UID1212)</td><td>172</td><td>263</td><td>149</td><td>89.56</td><td>11.63</td><td>82.61</td><td>2465477</td><td>    0</td><td>⋯</td><td>45</td><td>195</td><td>23</td><td>0</td><td>0</td><td>0</td><td>|ebio|abt3_projects|software|dev|ll_pipelines|llprimer|experiments|HMP_most-wanted|Oscillibacter|LLG_output|checkM|2|checkm|markers_qa_summary.tsv.19</td><td>markers_qa_summary.tsv.19</td><td>NA</td><td>/ebio/abt3_projects/software/dev/ll_pipelines/llprimer/experiments/HMP_most-wanted/Oscillibacter/LLG_output/checkM/2/checkm/markers_qa_summary.tsv.19</td></tr>\n",
       "</tbody>\n",
       "</table>\n"
      ],
      "text/latex": [
       "A data.frame: 39 × 33\n",
       "\\begin{tabular}{lllllllllllllllllllll}\n",
       " Bin.Id & Marker.lineage & X..genomes & X..markers & X..marker.sets & Completeness & Contamination & Strain.heterogeneity & Genome.size..bp. & X..ambiguous.bases & ⋯ & X0 & X1 & X2 & X3 & X4 & X5. & assembly.Id & assembler.Id & taxon.Id & File\\\\\n",
       " <fct> & <fct> & <int> & <int> & <int> & <dbl> & <dbl> & <dbl> & <int> & <int> & ⋯ & <int> & <int> & <int> & <int> & <int> & <int> & <fct> & <fct> & <lgl> & <fct>\\\\\n",
       "\\hline\n",
       "\t GCA\\_000283575.1\\_ASM28357v1\\_genomic       & o\\_\\_Clostridiales (UID1212) & 172 & 263 & 149 & 98.99 & 1.01 & 0 & 4470622 &     0 & ⋯ & 2 & 259 & 2 & 0 & 0 & 0 & \\textbar{}ebio\\textbar{}abt3\\_projects\\textbar{}software\\textbar{}dev\\textbar{}ll\\_pipelines\\textbar{}llprimer\\textbar{}experiments\\textbar{}HMP\\_most-wanted\\textbar{}Oscillibacter\\textbar{}LLG\\_output\\textbar{}checkM\\textbar{}1\\textbar{}checkm\\textbar{}markers\\_qa\\_summary.tsv.1 & markers\\_qa\\_summary.tsv.1 & NA & /ebio/abt3\\_projects/software/dev/ll\\_pipelines/llprimer/experiments/HMP\\_most-wanted/Oscillibacter/LLG\\_output/checkM/1/checkm/markers\\_qa\\_summary.tsv.1\\\\\n",
       "\t GCA\\_000403435.2\\_Osci\\_bact\\_1-3\\_V1\\_genomic & o\\_\\_Clostridiales (UID1212) & 172 & 263 & 149 & 99.33 & 1.45 & 0 & 4467686 & 37481 & ⋯ & 1 & 259 & 3 & 0 & 0 & 0 & \\textbar{}ebio\\textbar{}abt3\\_projects\\textbar{}software\\textbar{}dev\\textbar{}ll\\_pipelines\\textbar{}llprimer\\textbar{}experiments\\textbar{}HMP\\_most-wanted\\textbar{}Oscillibacter\\textbar{}LLG\\_output\\textbar{}checkM\\textbar{}1\\textbar{}checkm\\textbar{}markers\\_qa\\_summary.tsv.2 & markers\\_qa\\_summary.tsv.2 & NA & /ebio/abt3\\_projects/software/dev/ll\\_pipelines/llprimer/experiments/HMP\\_most-wanted/Oscillibacter/LLG\\_output/checkM/1/checkm/markers\\_qa\\_summary.tsv.2\\\\\n",
       "\t ⋮ & ⋮ & ⋮ & ⋮ & ⋮ & ⋮ & ⋮ & ⋮ & ⋮ & ⋮ & ⋱ & ⋮ & ⋮ & ⋮ & ⋮ & ⋮ & ⋮ & ⋮ & ⋮ & ⋮ & ⋮\\\\\n",
       "\t GCA\\_014799915.1\\_ASM1479991v1\\_genomic & o\\_\\_Clostridiales (UID1212) & 172 & 263 & 149 & 87.74 &  2.35 & 50.00 & 2875254 & 19077 & ⋯ & 50 & 209 &  4 & 0 & 0 & 0 & \\textbar{}ebio\\textbar{}abt3\\_projects\\textbar{}software\\textbar{}dev\\textbar{}ll\\_pipelines\\textbar{}llprimer\\textbar{}experiments\\textbar{}HMP\\_most-wanted\\textbar{}Oscillibacter\\textbar{}LLG\\_output\\textbar{}checkM\\textbar{}2\\textbar{}checkm\\textbar{}markers\\_qa\\_summary.tsv.18 & markers\\_qa\\_summary.tsv.18 & NA & /ebio/abt3\\_projects/software/dev/ll\\_pipelines/llprimer/experiments/HMP\\_most-wanted/Oscillibacter/LLG\\_output/checkM/2/checkm/markers\\_qa\\_summary.tsv.18\\\\\n",
       "\t GCA\\_015052085.1\\_ASM1505208v1\\_genomic & o\\_\\_Clostridiales (UID1212) & 172 & 263 & 149 & 89.56 & 11.63 & 82.61 & 2465477 &     0 & ⋯ & 45 & 195 & 23 & 0 & 0 & 0 & \\textbar{}ebio\\textbar{}abt3\\_projects\\textbar{}software\\textbar{}dev\\textbar{}ll\\_pipelines\\textbar{}llprimer\\textbar{}experiments\\textbar{}HMP\\_most-wanted\\textbar{}Oscillibacter\\textbar{}LLG\\_output\\textbar{}checkM\\textbar{}2\\textbar{}checkm\\textbar{}markers\\_qa\\_summary.tsv.19 & markers\\_qa\\_summary.tsv.19 & NA & /ebio/abt3\\_projects/software/dev/ll\\_pipelines/llprimer/experiments/HMP\\_most-wanted/Oscillibacter/LLG\\_output/checkM/2/checkm/markers\\_qa\\_summary.tsv.19\\\\\n",
       "\\end{tabular}\n"
      ],
      "text/markdown": [
       "\n",
       "A data.frame: 39 × 33\n",
       "\n",
       "| Bin.Id &lt;fct&gt; | Marker.lineage &lt;fct&gt; | X..genomes &lt;int&gt; | X..markers &lt;int&gt; | X..marker.sets &lt;int&gt; | Completeness &lt;dbl&gt; | Contamination &lt;dbl&gt; | Strain.heterogeneity &lt;dbl&gt; | Genome.size..bp. &lt;int&gt; | X..ambiguous.bases &lt;int&gt; | ⋯ ⋯ | X0 &lt;int&gt; | X1 &lt;int&gt; | X2 &lt;int&gt; | X3 &lt;int&gt; | X4 &lt;int&gt; | X5. &lt;int&gt; | assembly.Id &lt;fct&gt; | assembler.Id &lt;fct&gt; | taxon.Id &lt;lgl&gt; | File &lt;fct&gt; |\n",
       "|---|---|---|---|---|---|---|---|---|---|---|---|---|---|---|---|---|---|---|---|---|\n",
       "| GCA_000283575.1_ASM28357v1_genomic       | o__Clostridiales (UID1212) | 172 | 263 | 149 | 98.99 | 1.01 | 0 | 4470622 |     0 | ⋯ | 2 | 259 | 2 | 0 | 0 | 0 | |ebio|abt3_projects|software|dev|ll_pipelines|llprimer|experiments|HMP_most-wanted|Oscillibacter|LLG_output|checkM|1|checkm|markers_qa_summary.tsv.1 | markers_qa_summary.tsv.1 | NA | /ebio/abt3_projects/software/dev/ll_pipelines/llprimer/experiments/HMP_most-wanted/Oscillibacter/LLG_output/checkM/1/checkm/markers_qa_summary.tsv.1 |\n",
       "| GCA_000403435.2_Osci_bact_1-3_V1_genomic | o__Clostridiales (UID1212) | 172 | 263 | 149 | 99.33 | 1.45 | 0 | 4467686 | 37481 | ⋯ | 1 | 259 | 3 | 0 | 0 | 0 | |ebio|abt3_projects|software|dev|ll_pipelines|llprimer|experiments|HMP_most-wanted|Oscillibacter|LLG_output|checkM|1|checkm|markers_qa_summary.tsv.2 | markers_qa_summary.tsv.2 | NA | /ebio/abt3_projects/software/dev/ll_pipelines/llprimer/experiments/HMP_most-wanted/Oscillibacter/LLG_output/checkM/1/checkm/markers_qa_summary.tsv.2 |\n",
       "| ⋮ | ⋮ | ⋮ | ⋮ | ⋮ | ⋮ | ⋮ | ⋮ | ⋮ | ⋮ | ⋱ | ⋮ | ⋮ | ⋮ | ⋮ | ⋮ | ⋮ | ⋮ | ⋮ | ⋮ | ⋮ |\n",
       "| GCA_014799915.1_ASM1479991v1_genomic | o__Clostridiales (UID1212) | 172 | 263 | 149 | 87.74 |  2.35 | 50.00 | 2875254 | 19077 | ⋯ | 50 | 209 |  4 | 0 | 0 | 0 | |ebio|abt3_projects|software|dev|ll_pipelines|llprimer|experiments|HMP_most-wanted|Oscillibacter|LLG_output|checkM|2|checkm|markers_qa_summary.tsv.18 | markers_qa_summary.tsv.18 | NA | /ebio/abt3_projects/software/dev/ll_pipelines/llprimer/experiments/HMP_most-wanted/Oscillibacter/LLG_output/checkM/2/checkm/markers_qa_summary.tsv.18 |\n",
       "| GCA_015052085.1_ASM1505208v1_genomic | o__Clostridiales (UID1212) | 172 | 263 | 149 | 89.56 | 11.63 | 82.61 | 2465477 |     0 | ⋯ | 45 | 195 | 23 | 0 | 0 | 0 | |ebio|abt3_projects|software|dev|ll_pipelines|llprimer|experiments|HMP_most-wanted|Oscillibacter|LLG_output|checkM|2|checkm|markers_qa_summary.tsv.19 | markers_qa_summary.tsv.19 | NA | /ebio/abt3_projects/software/dev/ll_pipelines/llprimer/experiments/HMP_most-wanted/Oscillibacter/LLG_output/checkM/2/checkm/markers_qa_summary.tsv.19 |\n",
       "\n"
      ],
      "text/plain": [
       "   Bin.Id                                   Marker.lineage            \n",
       "1  GCA_000283575.1_ASM28357v1_genomic       o__Clostridiales (UID1212)\n",
       "2  GCA_000403435.2_Osci_bact_1-3_V1_genomic o__Clostridiales (UID1212)\n",
       "⋮  ⋮                                        ⋮                         \n",
       "38 GCA_014799915.1_ASM1479991v1_genomic     o__Clostridiales (UID1212)\n",
       "39 GCA_015052085.1_ASM1505208v1_genomic     o__Clostridiales (UID1212)\n",
       "   X..genomes X..markers X..marker.sets Completeness Contamination\n",
       "1  172        263        149            98.99        1.01         \n",
       "2  172        263        149            99.33        1.45         \n",
       "⋮  ⋮          ⋮          ⋮              ⋮            ⋮            \n",
       "38 172        263        149            87.74         2.35        \n",
       "39 172        263        149            89.56        11.63        \n",
       "   Strain.heterogeneity Genome.size..bp. X..ambiguous.bases ⋯ X0 X1  X2 X3 X4\n",
       "1  0                    4470622              0              ⋯ 2  259 2  0  0 \n",
       "2  0                    4467686          37481              ⋯ 1  259 3  0  0 \n",
       "⋮  ⋮                    ⋮                ⋮                  ⋱ ⋮  ⋮   ⋮  ⋮  ⋮ \n",
       "38 50.00                2875254          19077              ⋯ 50 209  4 0  0 \n",
       "39 82.61                2465477              0              ⋯ 45 195 23 0  0 \n",
       "   X5.\n",
       "1  0  \n",
       "2  0  \n",
       "⋮  ⋮  \n",
       "38 0  \n",
       "39 0  \n",
       "   assembly.Id                                                                                                                                          \n",
       "1  |ebio|abt3_projects|software|dev|ll_pipelines|llprimer|experiments|HMP_most-wanted|Oscillibacter|LLG_output|checkM|1|checkm|markers_qa_summary.tsv.1 \n",
       "2  |ebio|abt3_projects|software|dev|ll_pipelines|llprimer|experiments|HMP_most-wanted|Oscillibacter|LLG_output|checkM|1|checkm|markers_qa_summary.tsv.2 \n",
       "⋮  ⋮                                                                                                                                                    \n",
       "38 |ebio|abt3_projects|software|dev|ll_pipelines|llprimer|experiments|HMP_most-wanted|Oscillibacter|LLG_output|checkM|2|checkm|markers_qa_summary.tsv.18\n",
       "39 |ebio|abt3_projects|software|dev|ll_pipelines|llprimer|experiments|HMP_most-wanted|Oscillibacter|LLG_output|checkM|2|checkm|markers_qa_summary.tsv.19\n",
       "   assembler.Id              taxon.Id\n",
       "1  markers_qa_summary.tsv.1  NA      \n",
       "2  markers_qa_summary.tsv.2  NA      \n",
       "⋮  ⋮                         ⋮       \n",
       "38 markers_qa_summary.tsv.18 NA      \n",
       "39 markers_qa_summary.tsv.19 NA      \n",
       "   File                                                                                                                                                 \n",
       "1  /ebio/abt3_projects/software/dev/ll_pipelines/llprimer/experiments/HMP_most-wanted/Oscillibacter/LLG_output/checkM/1/checkm/markers_qa_summary.tsv.1 \n",
       "2  /ebio/abt3_projects/software/dev/ll_pipelines/llprimer/experiments/HMP_most-wanted/Oscillibacter/LLG_output/checkM/1/checkm/markers_qa_summary.tsv.2 \n",
       "⋮  ⋮                                                                                                                                                    \n",
       "38 /ebio/abt3_projects/software/dev/ll_pipelines/llprimer/experiments/HMP_most-wanted/Oscillibacter/LLG_output/checkM/2/checkm/markers_qa_summary.tsv.18\n",
       "39 /ebio/abt3_projects/software/dev/ll_pipelines/llprimer/experiments/HMP_most-wanted/Oscillibacter/LLG_output/checkM/2/checkm/markers_qa_summary.tsv.19"
      ]
     },
     "metadata": {},
     "output_type": "display_data"
    }
   ],
   "source": [
    "# checkM summary\n",
    "checkm = file.path(dirname(work_dir_tmp), 'LLG_output', 'checkM', 'checkm_qa_summary.tsv') %>%\n",
    "    read.delim(sep='\\t') \n",
    "checkm"
   ]
  },
  {
   "cell_type": "code",
   "execution_count": 19,
   "metadata": {
    "execution": {
     "iopub.execute_input": "2021-01-12T12:45:55.112427Z",
     "iopub.status.busy": "2021-01-12T12:45:55.110318Z",
     "iopub.status.idle": "2021-01-12T12:45:55.231490Z",
     "shell.execute_reply": "2021-01-12T12:45:55.228868Z"
    }
   },
   "outputs": [
    {
     "data": {
      "text/html": [
       "<table>\n",
       "<caption>A data.frame: 39 × 4</caption>\n",
       "<thead>\n",
       "\t<tr><th scope=col>genome</th><th scope=col>completeness</th><th scope=col>contamination</th><th scope=col>Bin.Id</th></tr>\n",
       "\t<tr><th scope=col>&lt;fct&gt;</th><th scope=col>&lt;dbl&gt;</th><th scope=col>&lt;dbl&gt;</th><th scope=col>&lt;chr&gt;</th></tr>\n",
       "</thead>\n",
       "<tbody>\n",
       "\t<tr><td>/ebio/abt3_scratch/nyoungblut/LLG_62325884640/genomes/GCA_000283575.1_ASM28357v1_genomic.fna      </td><td>98.99</td><td>1.01</td><td>GCA_000283575.1_ASM28357v1_genomic      </td></tr>\n",
       "\t<tr><td>/ebio/abt3_scratch/nyoungblut/LLG_62325884640/genomes/GCA_000403435.2_Osci_bact_1-3_V1_genomic.fna</td><td>99.33</td><td>1.45</td><td>GCA_000403435.2_Osci_bact_1-3_V1_genomic</td></tr>\n",
       "\t<tr><td>⋮</td><td>⋮</td><td>⋮</td><td>⋮</td></tr>\n",
       "\t<tr><td>/ebio/abt3_scratch/nyoungblut/LLG_62325884640/genomes/GCA_014799915.1_ASM1479991v1_genomic.fna</td><td>87.74</td><td> 2.35</td><td>GCA_014799915.1_ASM1479991v1_genomic</td></tr>\n",
       "\t<tr><td>/ebio/abt3_scratch/nyoungblut/LLG_62325884640/genomes/GCA_015052085.1_ASM1505208v1_genomic.fna</td><td>89.56</td><td>11.63</td><td>GCA_015052085.1_ASM1505208v1_genomic</td></tr>\n",
       "</tbody>\n",
       "</table>\n"
      ],
      "text/latex": [
       "A data.frame: 39 × 4\n",
       "\\begin{tabular}{llll}\n",
       " genome & completeness & contamination & Bin.Id\\\\\n",
       " <fct> & <dbl> & <dbl> & <chr>\\\\\n",
       "\\hline\n",
       "\t /ebio/abt3\\_scratch/nyoungblut/LLG\\_62325884640/genomes/GCA\\_000283575.1\\_ASM28357v1\\_genomic.fna       & 98.99 & 1.01 & GCA\\_000283575.1\\_ASM28357v1\\_genomic      \\\\\n",
       "\t /ebio/abt3\\_scratch/nyoungblut/LLG\\_62325884640/genomes/GCA\\_000403435.2\\_Osci\\_bact\\_1-3\\_V1\\_genomic.fna & 99.33 & 1.45 & GCA\\_000403435.2\\_Osci\\_bact\\_1-3\\_V1\\_genomic\\\\\n",
       "\t ⋮ & ⋮ & ⋮ & ⋮\\\\\n",
       "\t /ebio/abt3\\_scratch/nyoungblut/LLG\\_62325884640/genomes/GCA\\_014799915.1\\_ASM1479991v1\\_genomic.fna & 87.74 &  2.35 & GCA\\_014799915.1\\_ASM1479991v1\\_genomic\\\\\n",
       "\t /ebio/abt3\\_scratch/nyoungblut/LLG\\_62325884640/genomes/GCA\\_015052085.1\\_ASM1505208v1\\_genomic.fna & 89.56 & 11.63 & GCA\\_015052085.1\\_ASM1505208v1\\_genomic\\\\\n",
       "\\end{tabular}\n"
      ],
      "text/markdown": [
       "\n",
       "A data.frame: 39 × 4\n",
       "\n",
       "| genome &lt;fct&gt; | completeness &lt;dbl&gt; | contamination &lt;dbl&gt; | Bin.Id &lt;chr&gt; |\n",
       "|---|---|---|---|\n",
       "| /ebio/abt3_scratch/nyoungblut/LLG_62325884640/genomes/GCA_000283575.1_ASM28357v1_genomic.fna       | 98.99 | 1.01 | GCA_000283575.1_ASM28357v1_genomic       |\n",
       "| /ebio/abt3_scratch/nyoungblut/LLG_62325884640/genomes/GCA_000403435.2_Osci_bact_1-3_V1_genomic.fna | 99.33 | 1.45 | GCA_000403435.2_Osci_bact_1-3_V1_genomic |\n",
       "| ⋮ | ⋮ | ⋮ | ⋮ |\n",
       "| /ebio/abt3_scratch/nyoungblut/LLG_62325884640/genomes/GCA_014799915.1_ASM1479991v1_genomic.fna | 87.74 |  2.35 | GCA_014799915.1_ASM1479991v1_genomic |\n",
       "| /ebio/abt3_scratch/nyoungblut/LLG_62325884640/genomes/GCA_015052085.1_ASM1505208v1_genomic.fna | 89.56 | 11.63 | GCA_015052085.1_ASM1505208v1_genomic |\n",
       "\n"
      ],
      "text/plain": [
       "   genome                                                                                            \n",
       "1  /ebio/abt3_scratch/nyoungblut/LLG_62325884640/genomes/GCA_000283575.1_ASM28357v1_genomic.fna      \n",
       "2  /ebio/abt3_scratch/nyoungblut/LLG_62325884640/genomes/GCA_000403435.2_Osci_bact_1-3_V1_genomic.fna\n",
       "⋮  ⋮                                                                                                 \n",
       "38 /ebio/abt3_scratch/nyoungblut/LLG_62325884640/genomes/GCA_014799915.1_ASM1479991v1_genomic.fna    \n",
       "39 /ebio/abt3_scratch/nyoungblut/LLG_62325884640/genomes/GCA_015052085.1_ASM1505208v1_genomic.fna    \n",
       "   completeness contamination Bin.Id                                  \n",
       "1  98.99        1.01          GCA_000283575.1_ASM28357v1_genomic      \n",
       "2  99.33        1.45          GCA_000403435.2_Osci_bact_1-3_V1_genomic\n",
       "⋮  ⋮            ⋮             ⋮                                       \n",
       "38 87.74         2.35         GCA_014799915.1_ASM1479991v1_genomic    \n",
       "39 89.56        11.63         GCA_015052085.1_ASM1505208v1_genomic    "
      ]
     },
     "metadata": {},
     "output_type": "display_data"
    }
   ],
   "source": [
    "# dRep summary\n",
    "drep = file.path(dirname(work_dir_tmp), 'LLG_output', 'drep', 'checkm_markers_qa_summary.tsv') %>%\n",
    "    read.delim(sep='\\t') %>%\n",
    "    mutate(Bin.Id = gsub('.+/', '', genome),\n",
    "           Bin.Id = gsub('\\\\.fna$', '', Bin.Id))\n",
    "drep"
   ]
  },
  {
   "cell_type": "code",
   "execution_count": 20,
   "metadata": {
    "execution": {
     "iopub.execute_input": "2021-01-12T12:46:09.398074Z",
     "iopub.status.busy": "2021-01-12T12:46:09.395552Z",
     "iopub.status.idle": "2021-01-12T12:46:09.469287Z",
     "shell.execute_reply": "2021-01-12T12:46:09.465863Z"
    }
   },
   "outputs": [
    {
     "data": {
      "text/html": [
       "<table>\n",
       "<caption>A data.frame: 16 × 2</caption>\n",
       "<thead>\n",
       "\t<tr><th scope=col>Name</th><th scope=col>Fasta</th></tr>\n",
       "\t<tr><th scope=col>&lt;fct&gt;</th><th scope=col>&lt;fct&gt;</th></tr>\n",
       "</thead>\n",
       "<tbody>\n",
       "\t<tr><td>GCA_000765235.1_ASM76523v1_genomic </td><td>/ebio/abt3_projects/software/dev/ll_pipelines/llprimer/experiments/HMP_most-wanted/Oscillibacter/LLG_output/drep/drep/dereplicated_genomes/GCA_000765235.1_ASM76523v1_genomic.fna </td></tr>\n",
       "\t<tr><td>GCA_003525445.1_ASM352544v1_genomic</td><td>/ebio/abt3_projects/software/dev/ll_pipelines/llprimer/experiments/HMP_most-wanted/Oscillibacter/LLG_output/drep/drep/dereplicated_genomes/GCA_003525445.1_ASM352544v1_genomic.fna</td></tr>\n",
       "\t<tr><td>⋮</td><td>⋮</td></tr>\n",
       "\t<tr><td>GCA_001916835.1_ASM191683v1_genomic </td><td>/ebio/abt3_projects/software/dev/ll_pipelines/llprimer/experiments/HMP_most-wanted/Oscillibacter/LLG_output/drep/drep/dereplicated_genomes/GCA_001916835.1_ASM191683v1_genomic.fna </td></tr>\n",
       "\t<tr><td>GCA_014799925.1_ASM1479992v1_genomic</td><td>/ebio/abt3_projects/software/dev/ll_pipelines/llprimer/experiments/HMP_most-wanted/Oscillibacter/LLG_output/drep/drep/dereplicated_genomes/GCA_014799925.1_ASM1479992v1_genomic.fna</td></tr>\n",
       "</tbody>\n",
       "</table>\n"
      ],
      "text/latex": [
       "A data.frame: 16 × 2\n",
       "\\begin{tabular}{ll}\n",
       " Name & Fasta\\\\\n",
       " <fct> & <fct>\\\\\n",
       "\\hline\n",
       "\t GCA\\_000765235.1\\_ASM76523v1\\_genomic  & /ebio/abt3\\_projects/software/dev/ll\\_pipelines/llprimer/experiments/HMP\\_most-wanted/Oscillibacter/LLG\\_output/drep/drep/dereplicated\\_genomes/GCA\\_000765235.1\\_ASM76523v1\\_genomic.fna \\\\\n",
       "\t GCA\\_003525445.1\\_ASM352544v1\\_genomic & /ebio/abt3\\_projects/software/dev/ll\\_pipelines/llprimer/experiments/HMP\\_most-wanted/Oscillibacter/LLG\\_output/drep/drep/dereplicated\\_genomes/GCA\\_003525445.1\\_ASM352544v1\\_genomic.fna\\\\\n",
       "\t ⋮ & ⋮\\\\\n",
       "\t GCA\\_001916835.1\\_ASM191683v1\\_genomic  & /ebio/abt3\\_projects/software/dev/ll\\_pipelines/llprimer/experiments/HMP\\_most-wanted/Oscillibacter/LLG\\_output/drep/drep/dereplicated\\_genomes/GCA\\_001916835.1\\_ASM191683v1\\_genomic.fna \\\\\n",
       "\t GCA\\_014799925.1\\_ASM1479992v1\\_genomic & /ebio/abt3\\_projects/software/dev/ll\\_pipelines/llprimer/experiments/HMP\\_most-wanted/Oscillibacter/LLG\\_output/drep/drep/dereplicated\\_genomes/GCA\\_014799925.1\\_ASM1479992v1\\_genomic.fna\\\\\n",
       "\\end{tabular}\n"
      ],
      "text/markdown": [
       "\n",
       "A data.frame: 16 × 2\n",
       "\n",
       "| Name &lt;fct&gt; | Fasta &lt;fct&gt; |\n",
       "|---|---|\n",
       "| GCA_000765235.1_ASM76523v1_genomic  | /ebio/abt3_projects/software/dev/ll_pipelines/llprimer/experiments/HMP_most-wanted/Oscillibacter/LLG_output/drep/drep/dereplicated_genomes/GCA_000765235.1_ASM76523v1_genomic.fna  |\n",
       "| GCA_003525445.1_ASM352544v1_genomic | /ebio/abt3_projects/software/dev/ll_pipelines/llprimer/experiments/HMP_most-wanted/Oscillibacter/LLG_output/drep/drep/dereplicated_genomes/GCA_003525445.1_ASM352544v1_genomic.fna |\n",
       "| ⋮ | ⋮ |\n",
       "| GCA_001916835.1_ASM191683v1_genomic  | /ebio/abt3_projects/software/dev/ll_pipelines/llprimer/experiments/HMP_most-wanted/Oscillibacter/LLG_output/drep/drep/dereplicated_genomes/GCA_001916835.1_ASM191683v1_genomic.fna  |\n",
       "| GCA_014799925.1_ASM1479992v1_genomic | /ebio/abt3_projects/software/dev/ll_pipelines/llprimer/experiments/HMP_most-wanted/Oscillibacter/LLG_output/drep/drep/dereplicated_genomes/GCA_014799925.1_ASM1479992v1_genomic.fna |\n",
       "\n"
      ],
      "text/plain": [
       "   Name                                \n",
       "1  GCA_000765235.1_ASM76523v1_genomic  \n",
       "2  GCA_003525445.1_ASM352544v1_genomic \n",
       "⋮  ⋮                                   \n",
       "15 GCA_001916835.1_ASM191683v1_genomic \n",
       "16 GCA_014799925.1_ASM1479992v1_genomic\n",
       "   Fasta                                                                                                                                                                              \n",
       "1  /ebio/abt3_projects/software/dev/ll_pipelines/llprimer/experiments/HMP_most-wanted/Oscillibacter/LLG_output/drep/drep/dereplicated_genomes/GCA_000765235.1_ASM76523v1_genomic.fna  \n",
       "2  /ebio/abt3_projects/software/dev/ll_pipelines/llprimer/experiments/HMP_most-wanted/Oscillibacter/LLG_output/drep/drep/dereplicated_genomes/GCA_003525445.1_ASM352544v1_genomic.fna \n",
       "⋮  ⋮                                                                                                                                                                                  \n",
       "15 /ebio/abt3_projects/software/dev/ll_pipelines/llprimer/experiments/HMP_most-wanted/Oscillibacter/LLG_output/drep/drep/dereplicated_genomes/GCA_001916835.1_ASM191683v1_genomic.fna \n",
       "16 /ebio/abt3_projects/software/dev/ll_pipelines/llprimer/experiments/HMP_most-wanted/Oscillibacter/LLG_output/drep/drep/dereplicated_genomes/GCA_014799925.1_ASM1479992v1_genomic.fna"
      ]
     },
     "metadata": {},
     "output_type": "display_data"
    }
   ],
   "source": [
    "# de-replicated genomes\n",
    "drep_gen = file.path(dirname(work_dir_tmp), 'LLG_output', 'drep', 'dereplicated_genomes.tsv') %>%\n",
    "    read.delim(sep='\\t')\n",
    "drep_gen"
   ]
  },
  {
   "cell_type": "code",
   "execution_count": 22,
   "metadata": {
    "execution": {
     "iopub.execute_input": "2021-01-12T12:46:40.554099Z",
     "iopub.status.busy": "2021-01-12T12:46:40.552082Z",
     "iopub.status.idle": "2021-01-12T12:46:40.730266Z",
     "shell.execute_reply": "2021-01-12T12:46:40.728088Z"
    }
   },
   "outputs": [
    {
     "data": {
      "text/html": [
       "<table>\n",
       "<caption>A data.frame: 39 × 22</caption>\n",
       "<thead>\n",
       "\t<tr><th scope=col>user_genome</th><th scope=col>Domain</th><th scope=col>Phylum</th><th scope=col>Class</th><th scope=col>Order</th><th scope=col>Family</th><th scope=col>Genus</th><th scope=col>Species</th><th scope=col>fastani_reference</th><th scope=col>fastani_reference_radius</th><th scope=col>⋯</th><th scope=col>fastani_af</th><th scope=col>closest_placement_reference</th><th scope=col>closest_placement_radius</th><th scope=col>closest_placement_taxonomy</th><th scope=col>closest_placement_ani</th><th scope=col>closest_placement_af</th><th scope=col>msa_percent</th><th scope=col>translation_table</th><th scope=col>red_value</th><th scope=col>warnings</th></tr>\n",
       "\t<tr><th scope=col>&lt;fct&gt;</th><th scope=col>&lt;chr&gt;</th><th scope=col>&lt;chr&gt;</th><th scope=col>&lt;chr&gt;</th><th scope=col>&lt;chr&gt;</th><th scope=col>&lt;chr&gt;</th><th scope=col>&lt;chr&gt;</th><th scope=col>&lt;chr&gt;</th><th scope=col>&lt;fct&gt;</th><th scope=col>&lt;fct&gt;</th><th scope=col>⋯</th><th scope=col>&lt;fct&gt;</th><th scope=col>&lt;fct&gt;</th><th scope=col>&lt;fct&gt;</th><th scope=col>&lt;fct&gt;</th><th scope=col>&lt;fct&gt;</th><th scope=col>&lt;fct&gt;</th><th scope=col>&lt;dbl&gt;</th><th scope=col>&lt;int&gt;</th><th scope=col>&lt;fct&gt;</th><th scope=col>&lt;fct&gt;</th></tr>\n",
       "</thead>\n",
       "<tbody>\n",
       "\t<tr><td>GCA_000283575.1_ASM28357v1_genomic      </td><td>d__Bacteria</td><td>p__Firmicutes_A</td><td>c__Clostridia</td><td>o__Oscillospirales</td><td>f__Oscillospiraceae</td><td>g__Oscillibacter</td><td>s__Oscillibacter valericigenes</td><td>GCF_000283575.1</td><td>95.0</td><td>⋯</td><td>1.0 </td><td>GCF_000283575.1</td><td>95.0</td><td>d__Bacteria;p__Firmicutes_A;c__Clostridia;o__Oscillospirales;f__Oscillospiraceae;g__Oscillibacter;s__Oscillibacter valericigenes</td><td>100.0</td><td>1.0 </td><td>95.38</td><td>11</td><td>N/A</td><td>N/A</td></tr>\n",
       "\t<tr><td>GCA_000403435.2_Osci_bact_1-3_V1_genomic</td><td>d__Bacteria</td><td>p__Firmicutes_A</td><td>c__Clostridia</td><td>o__Oscillospirales</td><td>f__Oscillospiraceae</td><td>g__Oscillibacter</td><td>s__Oscillibacter sp000403435  </td><td>GCF_000403435.2</td><td>95.0</td><td>⋯</td><td>0.99</td><td>GCF_000403435.2</td><td>95.0</td><td>d__Bacteria;p__Firmicutes_A;c__Clostridia;o__Oscillospirales;f__Oscillospiraceae;g__Oscillibacter;s__Oscillibacter sp000403435  </td><td>99.99</td><td>0.99</td><td>95.67</td><td>11</td><td>N/A</td><td>N/A</td></tr>\n",
       "\t<tr><td>⋮</td><td>⋮</td><td>⋮</td><td>⋮</td><td>⋮</td><td>⋮</td><td>⋮</td><td>⋮</td><td>⋮</td><td>⋮</td><td>⋱</td><td>⋮</td><td>⋮</td><td>⋮</td><td>⋮</td><td>⋮</td><td>⋮</td><td>⋮</td><td>⋮</td><td>⋮</td><td>⋮</td></tr>\n",
       "\t<tr><td>GCA_014799915.1_ASM1479991v1_genomic</td><td>d__Bacteria</td><td>p__Firmicutes_A</td><td>c__Clostridia</td><td>o__Oscillospirales</td><td>f__Oscillospiraceae</td><td>g__             </td><td>s__                       </td><td>N/A            </td><td>N/A </td><td>⋯</td><td>N/A </td><td>N/A            </td><td>N/A </td><td>N/A                                                                                                                         </td><td>N/A  </td><td>N/A </td><td>79.35</td><td>11</td><td>0.9173648727242681</td><td>N/A</td></tr>\n",
       "\t<tr><td>GCA_015052085.1_ASM1505208v1_genomic</td><td>d__Bacteria</td><td>p__Firmicutes_A</td><td>c__Clostridia</td><td>o__Oscillospirales</td><td>f__Oscillospiraceae</td><td>g__Oscillibacter</td><td>s__Oscillibacter welbionis</td><td>GCF_005121165.1</td><td>95.0</td><td>⋯</td><td>0.88</td><td>GCF_005121165.1</td><td>95.0</td><td>d__Bacteria;p__Firmicutes_A;c__Clostridia;o__Oscillospirales;f__Oscillospiraceae;g__Oscillibacter;s__Oscillibacter welbionis</td><td>98.68</td><td>0.88</td><td>76.73</td><td>11</td><td>N/A               </td><td>N/A</td></tr>\n",
       "</tbody>\n",
       "</table>\n"
      ],
      "text/latex": [
       "A data.frame: 39 × 22\n",
       "\\begin{tabular}{lllllllllllllllllllll}\n",
       " user\\_genome & Domain & Phylum & Class & Order & Family & Genus & Species & fastani\\_reference & fastani\\_reference\\_radius & ⋯ & fastani\\_af & closest\\_placement\\_reference & closest\\_placement\\_radius & closest\\_placement\\_taxonomy & closest\\_placement\\_ani & closest\\_placement\\_af & msa\\_percent & translation\\_table & red\\_value & warnings\\\\\n",
       " <fct> & <chr> & <chr> & <chr> & <chr> & <chr> & <chr> & <chr> & <fct> & <fct> & ⋯ & <fct> & <fct> & <fct> & <fct> & <fct> & <fct> & <dbl> & <int> & <fct> & <fct>\\\\\n",
       "\\hline\n",
       "\t GCA\\_000283575.1\\_ASM28357v1\\_genomic       & d\\_\\_Bacteria & p\\_\\_Firmicutes\\_A & c\\_\\_Clostridia & o\\_\\_Oscillospirales & f\\_\\_Oscillospiraceae & g\\_\\_Oscillibacter & s\\_\\_Oscillibacter valericigenes & GCF\\_000283575.1 & 95.0 & ⋯ & 1.0  & GCF\\_000283575.1 & 95.0 & d\\_\\_Bacteria;p\\_\\_Firmicutes\\_A;c\\_\\_Clostridia;o\\_\\_Oscillospirales;f\\_\\_Oscillospiraceae;g\\_\\_Oscillibacter;s\\_\\_Oscillibacter valericigenes & 100.0 & 1.0  & 95.38 & 11 & N/A & N/A\\\\\n",
       "\t GCA\\_000403435.2\\_Osci\\_bact\\_1-3\\_V1\\_genomic & d\\_\\_Bacteria & p\\_\\_Firmicutes\\_A & c\\_\\_Clostridia & o\\_\\_Oscillospirales & f\\_\\_Oscillospiraceae & g\\_\\_Oscillibacter & s\\_\\_Oscillibacter sp000403435   & GCF\\_000403435.2 & 95.0 & ⋯ & 0.99 & GCF\\_000403435.2 & 95.0 & d\\_\\_Bacteria;p\\_\\_Firmicutes\\_A;c\\_\\_Clostridia;o\\_\\_Oscillospirales;f\\_\\_Oscillospiraceae;g\\_\\_Oscillibacter;s\\_\\_Oscillibacter sp000403435   & 99.99 & 0.99 & 95.67 & 11 & N/A & N/A\\\\\n",
       "\t ⋮ & ⋮ & ⋮ & ⋮ & ⋮ & ⋮ & ⋮ & ⋮ & ⋮ & ⋮ & ⋱ & ⋮ & ⋮ & ⋮ & ⋮ & ⋮ & ⋮ & ⋮ & ⋮ & ⋮ & ⋮\\\\\n",
       "\t GCA\\_014799915.1\\_ASM1479991v1\\_genomic & d\\_\\_Bacteria & p\\_\\_Firmicutes\\_A & c\\_\\_Clostridia & o\\_\\_Oscillospirales & f\\_\\_Oscillospiraceae & g\\_\\_              & s\\_\\_                        & N/A             & N/A  & ⋯ & N/A  & N/A             & N/A  & N/A                                                                                                                          & N/A   & N/A  & 79.35 & 11 & 0.9173648727242681 & N/A\\\\\n",
       "\t GCA\\_015052085.1\\_ASM1505208v1\\_genomic & d\\_\\_Bacteria & p\\_\\_Firmicutes\\_A & c\\_\\_Clostridia & o\\_\\_Oscillospirales & f\\_\\_Oscillospiraceae & g\\_\\_Oscillibacter & s\\_\\_Oscillibacter welbionis & GCF\\_005121165.1 & 95.0 & ⋯ & 0.88 & GCF\\_005121165.1 & 95.0 & d\\_\\_Bacteria;p\\_\\_Firmicutes\\_A;c\\_\\_Clostridia;o\\_\\_Oscillospirales;f\\_\\_Oscillospiraceae;g\\_\\_Oscillibacter;s\\_\\_Oscillibacter welbionis & 98.68 & 0.88 & 76.73 & 11 & N/A                & N/A\\\\\n",
       "\\end{tabular}\n"
      ],
      "text/markdown": [
       "\n",
       "A data.frame: 39 × 22\n",
       "\n",
       "| user_genome &lt;fct&gt; | Domain &lt;chr&gt; | Phylum &lt;chr&gt; | Class &lt;chr&gt; | Order &lt;chr&gt; | Family &lt;chr&gt; | Genus &lt;chr&gt; | Species &lt;chr&gt; | fastani_reference &lt;fct&gt; | fastani_reference_radius &lt;fct&gt; | ⋯ ⋯ | fastani_af &lt;fct&gt; | closest_placement_reference &lt;fct&gt; | closest_placement_radius &lt;fct&gt; | closest_placement_taxonomy &lt;fct&gt; | closest_placement_ani &lt;fct&gt; | closest_placement_af &lt;fct&gt; | msa_percent &lt;dbl&gt; | translation_table &lt;int&gt; | red_value &lt;fct&gt; | warnings &lt;fct&gt; |\n",
       "|---|---|---|---|---|---|---|---|---|---|---|---|---|---|---|---|---|---|---|---|---|\n",
       "| GCA_000283575.1_ASM28357v1_genomic       | d__Bacteria | p__Firmicutes_A | c__Clostridia | o__Oscillospirales | f__Oscillospiraceae | g__Oscillibacter | s__Oscillibacter valericigenes | GCF_000283575.1 | 95.0 | ⋯ | 1.0  | GCF_000283575.1 | 95.0 | d__Bacteria;p__Firmicutes_A;c__Clostridia;o__Oscillospirales;f__Oscillospiraceae;g__Oscillibacter;s__Oscillibacter valericigenes | 100.0 | 1.0  | 95.38 | 11 | N/A | N/A |\n",
       "| GCA_000403435.2_Osci_bact_1-3_V1_genomic | d__Bacteria | p__Firmicutes_A | c__Clostridia | o__Oscillospirales | f__Oscillospiraceae | g__Oscillibacter | s__Oscillibacter sp000403435   | GCF_000403435.2 | 95.0 | ⋯ | 0.99 | GCF_000403435.2 | 95.0 | d__Bacteria;p__Firmicutes_A;c__Clostridia;o__Oscillospirales;f__Oscillospiraceae;g__Oscillibacter;s__Oscillibacter sp000403435   | 99.99 | 0.99 | 95.67 | 11 | N/A | N/A |\n",
       "| ⋮ | ⋮ | ⋮ | ⋮ | ⋮ | ⋮ | ⋮ | ⋮ | ⋮ | ⋮ | ⋱ | ⋮ | ⋮ | ⋮ | ⋮ | ⋮ | ⋮ | ⋮ | ⋮ | ⋮ | ⋮ |\n",
       "| GCA_014799915.1_ASM1479991v1_genomic | d__Bacteria | p__Firmicutes_A | c__Clostridia | o__Oscillospirales | f__Oscillospiraceae | g__              | s__                        | N/A             | N/A  | ⋯ | N/A  | N/A             | N/A  | N/A                                                                                                                          | N/A   | N/A  | 79.35 | 11 | 0.9173648727242681 | N/A |\n",
       "| GCA_015052085.1_ASM1505208v1_genomic | d__Bacteria | p__Firmicutes_A | c__Clostridia | o__Oscillospirales | f__Oscillospiraceae | g__Oscillibacter | s__Oscillibacter welbionis | GCF_005121165.1 | 95.0 | ⋯ | 0.88 | GCF_005121165.1 | 95.0 | d__Bacteria;p__Firmicutes_A;c__Clostridia;o__Oscillospirales;f__Oscillospiraceae;g__Oscillibacter;s__Oscillibacter welbionis | 98.68 | 0.88 | 76.73 | 11 | N/A                | N/A |\n",
       "\n"
      ],
      "text/plain": [
       "   user_genome                              Domain      Phylum         \n",
       "1  GCA_000283575.1_ASM28357v1_genomic       d__Bacteria p__Firmicutes_A\n",
       "2  GCA_000403435.2_Osci_bact_1-3_V1_genomic d__Bacteria p__Firmicutes_A\n",
       "⋮  ⋮                                        ⋮           ⋮              \n",
       "38 GCA_014799915.1_ASM1479991v1_genomic     d__Bacteria p__Firmicutes_A\n",
       "39 GCA_015052085.1_ASM1505208v1_genomic     d__Bacteria p__Firmicutes_A\n",
       "   Class         Order              Family              Genus           \n",
       "1  c__Clostridia o__Oscillospirales f__Oscillospiraceae g__Oscillibacter\n",
       "2  c__Clostridia o__Oscillospirales f__Oscillospiraceae g__Oscillibacter\n",
       "⋮  ⋮             ⋮                  ⋮                   ⋮               \n",
       "38 c__Clostridia o__Oscillospirales f__Oscillospiraceae g__             \n",
       "39 c__Clostridia o__Oscillospirales f__Oscillospiraceae g__Oscillibacter\n",
       "   Species                        fastani_reference fastani_reference_radius ⋯\n",
       "1  s__Oscillibacter valericigenes GCF_000283575.1   95.0                     ⋯\n",
       "2  s__Oscillibacter sp000403435   GCF_000403435.2   95.0                     ⋯\n",
       "⋮  ⋮                              ⋮                 ⋮                        ⋱\n",
       "38 s__                            N/A               N/A                      ⋯\n",
       "39 s__Oscillibacter welbionis     GCF_005121165.1   95.0                     ⋯\n",
       "   fastani_af closest_placement_reference closest_placement_radius\n",
       "1  1.0        GCF_000283575.1             95.0                    \n",
       "2  0.99       GCF_000403435.2             95.0                    \n",
       "⋮  ⋮          ⋮                           ⋮                       \n",
       "38 N/A        N/A                         N/A                     \n",
       "39 0.88       GCF_005121165.1             95.0                    \n",
       "   closest_placement_taxonomy                                                                                                      \n",
       "1  d__Bacteria;p__Firmicutes_A;c__Clostridia;o__Oscillospirales;f__Oscillospiraceae;g__Oscillibacter;s__Oscillibacter valericigenes\n",
       "2  d__Bacteria;p__Firmicutes_A;c__Clostridia;o__Oscillospirales;f__Oscillospiraceae;g__Oscillibacter;s__Oscillibacter sp000403435  \n",
       "⋮  ⋮                                                                                                                               \n",
       "38 N/A                                                                                                                             \n",
       "39 d__Bacteria;p__Firmicutes_A;c__Clostridia;o__Oscillospirales;f__Oscillospiraceae;g__Oscillibacter;s__Oscillibacter welbionis    \n",
       "   closest_placement_ani closest_placement_af msa_percent translation_table\n",
       "1  100.0                 1.0                  95.38       11               \n",
       "2  99.99                 0.99                 95.67       11               \n",
       "⋮  ⋮                     ⋮                    ⋮           ⋮                \n",
       "38 N/A                   N/A                  79.35       11               \n",
       "39 98.68                 0.88                 76.73       11               \n",
       "   red_value          warnings\n",
       "1  N/A                N/A     \n",
       "2  N/A                N/A     \n",
       "⋮  ⋮                  ⋮       \n",
       "38 0.9173648727242681 N/A     \n",
       "39 N/A                N/A     "
      ]
     },
     "metadata": {},
     "output_type": "display_data"
    }
   ],
   "source": [
    "# GTDBTk summary\n",
    "tax = file.path(dirname(work_dir_tmp), 'LLG_output', 'gtdbtk', 'gtdbtk_bac_summary.tsv') %>%\n",
    "    read.delim(, sep='\\t') %>%\n",
    "    separate(classification, \n",
    "             c('Domain', 'Phylum', 'Class', 'Order', 'Family', 'Genus', 'Species'),\n",
    "             sep=';') %>%\n",
    "    select(-note, -classification_method, -pplacer_taxonomy,\n",
    "           -other_related_references.genome_id.species_name.radius.ANI.AF.)\n",
    "tax"
   ]
  },
  {
   "cell_type": "code",
   "execution_count": 23,
   "metadata": {
    "execution": {
     "iopub.execute_input": "2021-01-12T12:46:51.660868Z",
     "iopub.status.busy": "2021-01-12T12:46:51.656143Z",
     "iopub.status.idle": "2021-01-12T12:46:51.744814Z",
     "shell.execute_reply": "2021-01-12T12:46:51.741354Z"
    }
   },
   "outputs": [
    {
     "name": "stdout",
     "output_type": "stream",
     "text": [
      "-- drep --\n",
      "intersect(x,y): 16 \n",
      "setdiff(x,y): 0 \n",
      "setdiff(y,x): 23 \n",
      "union(x,y): 39 \n",
      "-- checkm --\n",
      "intersect(x,y): 39 \n",
      "setdiff(x,y): 0 \n",
      "setdiff(y,x): 0 \n",
      "union(x,y): 39 \n",
      "-- gtdbtk --\n",
      "intersect(x,y): 39 \n",
      "setdiff(x,y): 0 \n",
      "setdiff(y,x): 0 \n",
      "union(x,y): 39 \n"
     ]
    }
   ],
   "source": [
    "# checking overlap\n",
    "cat('-- drep --\\n')\n",
    "overlap(basename(as.character(drep_gen$Fasta)), \n",
    "        basename(as.character(drep$genome)))\n",
    "cat('-- checkm --\\n')\n",
    "overlap(drep$Bin.Id, checkm$Bin.Id)\n",
    "cat('-- gtdbtk --\\n')\n",
    "overlap(drep$Bin.Id, tax$user_genome)"
   ]
  },
  {
   "cell_type": "code",
   "execution_count": 24,
   "metadata": {
    "execution": {
     "iopub.execute_input": "2021-01-12T12:47:07.798076Z",
     "iopub.status.busy": "2021-01-12T12:47:07.796724Z",
     "iopub.status.idle": "2021-01-12T12:47:08.037124Z",
     "shell.execute_reply": "2021-01-12T12:47:08.034853Z"
    }
   },
   "outputs": [
    {
     "data": {
      "text/html": [
       "<table>\n",
       "<caption>A data.frame: 16 × 60</caption>\n",
       "<thead>\n",
       "\t<tr><th scope=col>genome</th><th scope=col>completeness</th><th scope=col>contamination</th><th scope=col>Bin.Id</th><th scope=col>Marker.lineage</th><th scope=col>X..genomes</th><th scope=col>X..markers</th><th scope=col>X..marker.sets</th><th scope=col>Completeness</th><th scope=col>Contamination</th><th scope=col>⋯</th><th scope=col>fastani_af</th><th scope=col>closest_placement_reference</th><th scope=col>closest_placement_radius</th><th scope=col>closest_placement_taxonomy</th><th scope=col>closest_placement_ani</th><th scope=col>closest_placement_af</th><th scope=col>msa_percent</th><th scope=col>translation_table</th><th scope=col>red_value</th><th scope=col>warnings</th></tr>\n",
       "\t<tr><th scope=col>&lt;fct&gt;</th><th scope=col>&lt;dbl&gt;</th><th scope=col>&lt;dbl&gt;</th><th scope=col>&lt;chr&gt;</th><th scope=col>&lt;fct&gt;</th><th scope=col>&lt;int&gt;</th><th scope=col>&lt;int&gt;</th><th scope=col>&lt;int&gt;</th><th scope=col>&lt;dbl&gt;</th><th scope=col>&lt;dbl&gt;</th><th scope=col>⋯</th><th scope=col>&lt;fct&gt;</th><th scope=col>&lt;fct&gt;</th><th scope=col>&lt;fct&gt;</th><th scope=col>&lt;fct&gt;</th><th scope=col>&lt;fct&gt;</th><th scope=col>&lt;fct&gt;</th><th scope=col>&lt;dbl&gt;</th><th scope=col>&lt;int&gt;</th><th scope=col>&lt;fct&gt;</th><th scope=col>&lt;fct&gt;</th></tr>\n",
       "</thead>\n",
       "<tbody>\n",
       "\t<tr><td>/ebio/abt3_scratch/nyoungblut/LLG_62325884640/genomes/GCA_000283575.1_ASM28357v1_genomic.fna      </td><td>98.99</td><td>1.01</td><td>GCA_000283575.1_ASM28357v1_genomic      </td><td>o__Clostridiales (UID1212)</td><td>172</td><td>263</td><td>149</td><td>98.99</td><td>1.01</td><td>⋯</td><td>1.0 </td><td>GCF_000283575.1</td><td>95.0</td><td>d__Bacteria;p__Firmicutes_A;c__Clostridia;o__Oscillospirales;f__Oscillospiraceae;g__Oscillibacter;s__Oscillibacter valericigenes</td><td>100.0</td><td>1.0 </td><td>95.38</td><td>11</td><td>N/A</td><td>N/A</td></tr>\n",
       "\t<tr><td>/ebio/abt3_scratch/nyoungblut/LLG_62325884640/genomes/GCA_000403435.2_Osci_bact_1-3_V1_genomic.fna</td><td>99.33</td><td>1.45</td><td>GCA_000403435.2_Osci_bact_1-3_V1_genomic</td><td>o__Clostridiales (UID1212)</td><td>172</td><td>263</td><td>149</td><td>99.33</td><td>1.45</td><td>⋯</td><td>0.99</td><td>GCF_000403435.2</td><td>95.0</td><td>d__Bacteria;p__Firmicutes_A;c__Clostridia;o__Oscillospirales;f__Oscillospiraceae;g__Oscillibacter;s__Oscillibacter sp000403435  </td><td>99.99</td><td>0.99</td><td>95.67</td><td>11</td><td>N/A</td><td>N/A</td></tr>\n",
       "\t<tr><td>⋮</td><td>⋮</td><td>⋮</td><td>⋮</td><td>⋮</td><td>⋮</td><td>⋮</td><td>⋮</td><td>⋮</td><td>⋮</td><td>⋱</td><td>⋮</td><td>⋮</td><td>⋮</td><td>⋮</td><td>⋮</td><td>⋮</td><td>⋮</td><td>⋮</td><td>⋮</td><td>⋮</td></tr>\n",
       "\t<tr><td>/ebio/abt3_scratch/nyoungblut/LLG_62325884640/genomes/GCA_003497655.1_ASM349765v1_genomic.fna</td><td>91.14</td><td>0.00</td><td>GCA_003497655.1_ASM349765v1_genomic</td><td>o__Clostridiales (UID1212)</td><td>172</td><td>263</td><td>149</td><td>91.14</td><td>0.00</td><td>⋯</td><td>0.82</td><td>GCF_000765235.1</td><td>95.0</td><td>d__Bacteria;p__Firmicutes_A;c__Clostridia;o__Oscillospirales;f__Oscillospiraceae;g__ER4;s__ER4 sp000765235                    </td><td>96.71</td><td>0.82</td><td>91.90</td><td>11</td><td>N/A               </td><td>N/A</td></tr>\n",
       "\t<tr><td>/ebio/abt3_scratch/nyoungblut/LLG_62325884640/genomes/GCA_009774015.1_ASM977401v1_genomic.fna</td><td>91.03</td><td>3.68</td><td>GCA_009774015.1_ASM977401v1_genomic</td><td>o__Clostridiales (UID1212)</td><td>172</td><td>263</td><td>149</td><td>91.03</td><td>3.68</td><td>⋯</td><td>N/A </td><td>GCF_000403435.2</td><td>95.0</td><td>d__Bacteria;p__Firmicutes_A;c__Clostridia;o__Oscillospirales;f__Oscillospiraceae;g__Oscillibacter;s__Oscillibacter sp000403435</td><td>82.6 </td><td>0.59</td><td>83.51</td><td>11</td><td>0.9623815263719147</td><td>N/A</td></tr>\n",
       "</tbody>\n",
       "</table>\n"
      ],
      "text/latex": [
       "A data.frame: 16 × 60\n",
       "\\begin{tabular}{lllllllllllllllllllll}\n",
       " genome & completeness & contamination & Bin.Id & Marker.lineage & X..genomes & X..markers & X..marker.sets & Completeness & Contamination & ⋯ & fastani\\_af & closest\\_placement\\_reference & closest\\_placement\\_radius & closest\\_placement\\_taxonomy & closest\\_placement\\_ani & closest\\_placement\\_af & msa\\_percent & translation\\_table & red\\_value & warnings\\\\\n",
       " <fct> & <dbl> & <dbl> & <chr> & <fct> & <int> & <int> & <int> & <dbl> & <dbl> & ⋯ & <fct> & <fct> & <fct> & <fct> & <fct> & <fct> & <dbl> & <int> & <fct> & <fct>\\\\\n",
       "\\hline\n",
       "\t /ebio/abt3\\_scratch/nyoungblut/LLG\\_62325884640/genomes/GCA\\_000283575.1\\_ASM28357v1\\_genomic.fna       & 98.99 & 1.01 & GCA\\_000283575.1\\_ASM28357v1\\_genomic       & o\\_\\_Clostridiales (UID1212) & 172 & 263 & 149 & 98.99 & 1.01 & ⋯ & 1.0  & GCF\\_000283575.1 & 95.0 & d\\_\\_Bacteria;p\\_\\_Firmicutes\\_A;c\\_\\_Clostridia;o\\_\\_Oscillospirales;f\\_\\_Oscillospiraceae;g\\_\\_Oscillibacter;s\\_\\_Oscillibacter valericigenes & 100.0 & 1.0  & 95.38 & 11 & N/A & N/A\\\\\n",
       "\t /ebio/abt3\\_scratch/nyoungblut/LLG\\_62325884640/genomes/GCA\\_000403435.2\\_Osci\\_bact\\_1-3\\_V1\\_genomic.fna & 99.33 & 1.45 & GCA\\_000403435.2\\_Osci\\_bact\\_1-3\\_V1\\_genomic & o\\_\\_Clostridiales (UID1212) & 172 & 263 & 149 & 99.33 & 1.45 & ⋯ & 0.99 & GCF\\_000403435.2 & 95.0 & d\\_\\_Bacteria;p\\_\\_Firmicutes\\_A;c\\_\\_Clostridia;o\\_\\_Oscillospirales;f\\_\\_Oscillospiraceae;g\\_\\_Oscillibacter;s\\_\\_Oscillibacter sp000403435   & 99.99 & 0.99 & 95.67 & 11 & N/A & N/A\\\\\n",
       "\t ⋮ & ⋮ & ⋮ & ⋮ & ⋮ & ⋮ & ⋮ & ⋮ & ⋮ & ⋮ & ⋱ & ⋮ & ⋮ & ⋮ & ⋮ & ⋮ & ⋮ & ⋮ & ⋮ & ⋮ & ⋮\\\\\n",
       "\t /ebio/abt3\\_scratch/nyoungblut/LLG\\_62325884640/genomes/GCA\\_003497655.1\\_ASM349765v1\\_genomic.fna & 91.14 & 0.00 & GCA\\_003497655.1\\_ASM349765v1\\_genomic & o\\_\\_Clostridiales (UID1212) & 172 & 263 & 149 & 91.14 & 0.00 & ⋯ & 0.82 & GCF\\_000765235.1 & 95.0 & d\\_\\_Bacteria;p\\_\\_Firmicutes\\_A;c\\_\\_Clostridia;o\\_\\_Oscillospirales;f\\_\\_Oscillospiraceae;g\\_\\_ER4;s\\_\\_ER4 sp000765235                     & 96.71 & 0.82 & 91.90 & 11 & N/A                & N/A\\\\\n",
       "\t /ebio/abt3\\_scratch/nyoungblut/LLG\\_62325884640/genomes/GCA\\_009774015.1\\_ASM977401v1\\_genomic.fna & 91.03 & 3.68 & GCA\\_009774015.1\\_ASM977401v1\\_genomic & o\\_\\_Clostridiales (UID1212) & 172 & 263 & 149 & 91.03 & 3.68 & ⋯ & N/A  & GCF\\_000403435.2 & 95.0 & d\\_\\_Bacteria;p\\_\\_Firmicutes\\_A;c\\_\\_Clostridia;o\\_\\_Oscillospirales;f\\_\\_Oscillospiraceae;g\\_\\_Oscillibacter;s\\_\\_Oscillibacter sp000403435 & 82.6  & 0.59 & 83.51 & 11 & 0.9623815263719147 & N/A\\\\\n",
       "\\end{tabular}\n"
      ],
      "text/markdown": [
       "\n",
       "A data.frame: 16 × 60\n",
       "\n",
       "| genome &lt;fct&gt; | completeness &lt;dbl&gt; | contamination &lt;dbl&gt; | Bin.Id &lt;chr&gt; | Marker.lineage &lt;fct&gt; | X..genomes &lt;int&gt; | X..markers &lt;int&gt; | X..marker.sets &lt;int&gt; | Completeness &lt;dbl&gt; | Contamination &lt;dbl&gt; | ⋯ ⋯ | fastani_af &lt;fct&gt; | closest_placement_reference &lt;fct&gt; | closest_placement_radius &lt;fct&gt; | closest_placement_taxonomy &lt;fct&gt; | closest_placement_ani &lt;fct&gt; | closest_placement_af &lt;fct&gt; | msa_percent &lt;dbl&gt; | translation_table &lt;int&gt; | red_value &lt;fct&gt; | warnings &lt;fct&gt; |\n",
       "|---|---|---|---|---|---|---|---|---|---|---|---|---|---|---|---|---|---|---|---|---|\n",
       "| /ebio/abt3_scratch/nyoungblut/LLG_62325884640/genomes/GCA_000283575.1_ASM28357v1_genomic.fna       | 98.99 | 1.01 | GCA_000283575.1_ASM28357v1_genomic       | o__Clostridiales (UID1212) | 172 | 263 | 149 | 98.99 | 1.01 | ⋯ | 1.0  | GCF_000283575.1 | 95.0 | d__Bacteria;p__Firmicutes_A;c__Clostridia;o__Oscillospirales;f__Oscillospiraceae;g__Oscillibacter;s__Oscillibacter valericigenes | 100.0 | 1.0  | 95.38 | 11 | N/A | N/A |\n",
       "| /ebio/abt3_scratch/nyoungblut/LLG_62325884640/genomes/GCA_000403435.2_Osci_bact_1-3_V1_genomic.fna | 99.33 | 1.45 | GCA_000403435.2_Osci_bact_1-3_V1_genomic | o__Clostridiales (UID1212) | 172 | 263 | 149 | 99.33 | 1.45 | ⋯ | 0.99 | GCF_000403435.2 | 95.0 | d__Bacteria;p__Firmicutes_A;c__Clostridia;o__Oscillospirales;f__Oscillospiraceae;g__Oscillibacter;s__Oscillibacter sp000403435   | 99.99 | 0.99 | 95.67 | 11 | N/A | N/A |\n",
       "| ⋮ | ⋮ | ⋮ | ⋮ | ⋮ | ⋮ | ⋮ | ⋮ | ⋮ | ⋮ | ⋱ | ⋮ | ⋮ | ⋮ | ⋮ | ⋮ | ⋮ | ⋮ | ⋮ | ⋮ | ⋮ |\n",
       "| /ebio/abt3_scratch/nyoungblut/LLG_62325884640/genomes/GCA_003497655.1_ASM349765v1_genomic.fna | 91.14 | 0.00 | GCA_003497655.1_ASM349765v1_genomic | o__Clostridiales (UID1212) | 172 | 263 | 149 | 91.14 | 0.00 | ⋯ | 0.82 | GCF_000765235.1 | 95.0 | d__Bacteria;p__Firmicutes_A;c__Clostridia;o__Oscillospirales;f__Oscillospiraceae;g__ER4;s__ER4 sp000765235                     | 96.71 | 0.82 | 91.90 | 11 | N/A                | N/A |\n",
       "| /ebio/abt3_scratch/nyoungblut/LLG_62325884640/genomes/GCA_009774015.1_ASM977401v1_genomic.fna | 91.03 | 3.68 | GCA_009774015.1_ASM977401v1_genomic | o__Clostridiales (UID1212) | 172 | 263 | 149 | 91.03 | 3.68 | ⋯ | N/A  | GCF_000403435.2 | 95.0 | d__Bacteria;p__Firmicutes_A;c__Clostridia;o__Oscillospirales;f__Oscillospiraceae;g__Oscillibacter;s__Oscillibacter sp000403435 | 82.6  | 0.59 | 83.51 | 11 | 0.9623815263719147 | N/A |\n",
       "\n"
      ],
      "text/plain": [
       "   genome                                                                                            \n",
       "1  /ebio/abt3_scratch/nyoungblut/LLG_62325884640/genomes/GCA_000283575.1_ASM28357v1_genomic.fna      \n",
       "2  /ebio/abt3_scratch/nyoungblut/LLG_62325884640/genomes/GCA_000403435.2_Osci_bact_1-3_V1_genomic.fna\n",
       "⋮  ⋮                                                                                                 \n",
       "15 /ebio/abt3_scratch/nyoungblut/LLG_62325884640/genomes/GCA_003497655.1_ASM349765v1_genomic.fna     \n",
       "16 /ebio/abt3_scratch/nyoungblut/LLG_62325884640/genomes/GCA_009774015.1_ASM977401v1_genomic.fna     \n",
       "   completeness contamination Bin.Id                                  \n",
       "1  98.99        1.01          GCA_000283575.1_ASM28357v1_genomic      \n",
       "2  99.33        1.45          GCA_000403435.2_Osci_bact_1-3_V1_genomic\n",
       "⋮  ⋮            ⋮             ⋮                                       \n",
       "15 91.14        0.00          GCA_003497655.1_ASM349765v1_genomic     \n",
       "16 91.03        3.68          GCA_009774015.1_ASM977401v1_genomic     \n",
       "   Marker.lineage             X..genomes X..markers X..marker.sets Completeness\n",
       "1  o__Clostridiales (UID1212) 172        263        149            98.99       \n",
       "2  o__Clostridiales (UID1212) 172        263        149            99.33       \n",
       "⋮  ⋮                          ⋮          ⋮          ⋮              ⋮           \n",
       "15 o__Clostridiales (UID1212) 172        263        149            91.14       \n",
       "16 o__Clostridiales (UID1212) 172        263        149            91.03       \n",
       "   Contamination ⋯ fastani_af closest_placement_reference\n",
       "1  1.01          ⋯ 1.0        GCF_000283575.1            \n",
       "2  1.45          ⋯ 0.99       GCF_000403435.2            \n",
       "⋮  ⋮             ⋱ ⋮          ⋮                          \n",
       "15 0.00          ⋯ 0.82       GCF_000765235.1            \n",
       "16 3.68          ⋯ N/A        GCF_000403435.2            \n",
       "   closest_placement_radius\n",
       "1  95.0                    \n",
       "2  95.0                    \n",
       "⋮  ⋮                       \n",
       "15 95.0                    \n",
       "16 95.0                    \n",
       "   closest_placement_taxonomy                                                                                                      \n",
       "1  d__Bacteria;p__Firmicutes_A;c__Clostridia;o__Oscillospirales;f__Oscillospiraceae;g__Oscillibacter;s__Oscillibacter valericigenes\n",
       "2  d__Bacteria;p__Firmicutes_A;c__Clostridia;o__Oscillospirales;f__Oscillospiraceae;g__Oscillibacter;s__Oscillibacter sp000403435  \n",
       "⋮  ⋮                                                                                                                               \n",
       "15 d__Bacteria;p__Firmicutes_A;c__Clostridia;o__Oscillospirales;f__Oscillospiraceae;g__ER4;s__ER4 sp000765235                      \n",
       "16 d__Bacteria;p__Firmicutes_A;c__Clostridia;o__Oscillospirales;f__Oscillospiraceae;g__Oscillibacter;s__Oscillibacter sp000403435  \n",
       "   closest_placement_ani closest_placement_af msa_percent translation_table\n",
       "1  100.0                 1.0                  95.38       11               \n",
       "2  99.99                 0.99                 95.67       11               \n",
       "⋮  ⋮                     ⋮                    ⋮           ⋮                \n",
       "15 96.71                 0.82                 91.90       11               \n",
       "16 82.6                  0.59                 83.51       11               \n",
       "   red_value          warnings\n",
       "1  N/A                N/A     \n",
       "2  N/A                N/A     \n",
       "⋮  ⋮                  ⋮       \n",
       "15 N/A                N/A     \n",
       "16 0.9623815263719147 N/A     "
      ]
     },
     "metadata": {},
     "output_type": "display_data"
    }
   ],
   "source": [
    "# joining based on Bin.Id\n",
    "drep = drep %>%\n",
    "    inner_join(checkm, c('Bin.Id')) %>%\n",
    "    mutate(GEN = genome %>% as.character %>% basename) %>%\n",
    "    inner_join(drep_gen %>% mutate(GEN = Fasta %>% as.character %>% basename),\n",
    "               by=c('GEN')) %>%\n",
    "    inner_join(tax, c('Bin.Id'='user_genome')) #%>%\n",
    "drep"
   ]
  },
  {
   "cell_type": "code",
   "execution_count": 25,
   "metadata": {
    "execution": {
     "iopub.execute_input": "2021-01-12T12:47:29.942162Z",
     "iopub.status.busy": "2021-01-12T12:47:29.939767Z",
     "iopub.status.idle": "2021-01-12T12:47:30.221962Z",
     "shell.execute_reply": "2021-01-12T12:47:30.219168Z"
    }
   },
   "outputs": [
    {
     "data": {
      "text/html": [
       "<table>\n",
       "<caption>A data.frame: 14 × 60</caption>\n",
       "<thead>\n",
       "\t<tr><th scope=col>genome</th><th scope=col>completeness</th><th scope=col>contamination</th><th scope=col>Bin.Id</th><th scope=col>Marker.lineage</th><th scope=col>X..genomes</th><th scope=col>X..markers</th><th scope=col>X..marker.sets</th><th scope=col>Completeness</th><th scope=col>Contamination</th><th scope=col>⋯</th><th scope=col>fastani_af</th><th scope=col>closest_placement_reference</th><th scope=col>closest_placement_radius</th><th scope=col>closest_placement_taxonomy</th><th scope=col>closest_placement_ani</th><th scope=col>closest_placement_af</th><th scope=col>msa_percent</th><th scope=col>translation_table</th><th scope=col>red_value</th><th scope=col>warnings</th></tr>\n",
       "\t<tr><th scope=col>&lt;fct&gt;</th><th scope=col>&lt;dbl&gt;</th><th scope=col>&lt;dbl&gt;</th><th scope=col>&lt;chr&gt;</th><th scope=col>&lt;fct&gt;</th><th scope=col>&lt;int&gt;</th><th scope=col>&lt;int&gt;</th><th scope=col>&lt;int&gt;</th><th scope=col>&lt;dbl&gt;</th><th scope=col>&lt;dbl&gt;</th><th scope=col>⋯</th><th scope=col>&lt;fct&gt;</th><th scope=col>&lt;fct&gt;</th><th scope=col>&lt;fct&gt;</th><th scope=col>&lt;fct&gt;</th><th scope=col>&lt;fct&gt;</th><th scope=col>&lt;fct&gt;</th><th scope=col>&lt;dbl&gt;</th><th scope=col>&lt;int&gt;</th><th scope=col>&lt;fct&gt;</th><th scope=col>&lt;fct&gt;</th></tr>\n",
       "</thead>\n",
       "<tbody>\n",
       "\t<tr><td>/ebio/abt3_scratch/nyoungblut/LLG_62325884640/genomes/GCA_000283575.1_ASM28357v1_genomic.fna      </td><td>98.99</td><td>1.01</td><td>GCA_000283575.1_ASM28357v1_genomic      </td><td>o__Clostridiales (UID1212)</td><td>172</td><td>263</td><td>149</td><td>98.99</td><td>1.01</td><td>⋯</td><td>1.0 </td><td>GCF_000283575.1</td><td>95.0</td><td>d__Bacteria;p__Firmicutes_A;c__Clostridia;o__Oscillospirales;f__Oscillospiraceae;g__Oscillibacter;s__Oscillibacter valericigenes</td><td>100.0</td><td>1.0 </td><td>95.38</td><td>11</td><td>N/A</td><td>N/A</td></tr>\n",
       "\t<tr><td>/ebio/abt3_scratch/nyoungblut/LLG_62325884640/genomes/GCA_000403435.2_Osci_bact_1-3_V1_genomic.fna</td><td>99.33</td><td>1.45</td><td>GCA_000403435.2_Osci_bact_1-3_V1_genomic</td><td>o__Clostridiales (UID1212)</td><td>172</td><td>263</td><td>149</td><td>99.33</td><td>1.45</td><td>⋯</td><td>0.99</td><td>GCF_000403435.2</td><td>95.0</td><td>d__Bacteria;p__Firmicutes_A;c__Clostridia;o__Oscillospirales;f__Oscillospiraceae;g__Oscillibacter;s__Oscillibacter sp000403435  </td><td>99.99</td><td>0.99</td><td>95.67</td><td>11</td><td>N/A</td><td>N/A</td></tr>\n",
       "\t<tr><td>⋮</td><td>⋮</td><td>⋮</td><td>⋮</td><td>⋮</td><td>⋮</td><td>⋮</td><td>⋮</td><td>⋮</td><td>⋮</td><td>⋱</td><td>⋮</td><td>⋮</td><td>⋮</td><td>⋮</td><td>⋮</td><td>⋮</td><td>⋮</td><td>⋮</td><td>⋮</td><td>⋮</td></tr>\n",
       "\t<tr><td>/ebio/abt3_scratch/nyoungblut/LLG_62325884640/genomes/GCA_003497655.1_ASM349765v1_genomic.fna</td><td>91.14</td><td>0.00</td><td>GCA_003497655.1_ASM349765v1_genomic</td><td>o__Clostridiales (UID1212)</td><td>172</td><td>263</td><td>149</td><td>91.14</td><td>0.00</td><td>⋯</td><td>0.82</td><td>GCF_000765235.1</td><td>95.0</td><td>d__Bacteria;p__Firmicutes_A;c__Clostridia;o__Oscillospirales;f__Oscillospiraceae;g__ER4;s__ER4 sp000765235                    </td><td>96.71</td><td>0.82</td><td>91.90</td><td>11</td><td>N/A               </td><td>N/A</td></tr>\n",
       "\t<tr><td>/ebio/abt3_scratch/nyoungblut/LLG_62325884640/genomes/GCA_009774015.1_ASM977401v1_genomic.fna</td><td>91.03</td><td>3.68</td><td>GCA_009774015.1_ASM977401v1_genomic</td><td>o__Clostridiales (UID1212)</td><td>172</td><td>263</td><td>149</td><td>91.03</td><td>3.68</td><td>⋯</td><td>N/A </td><td>GCF_000403435.2</td><td>95.0</td><td>d__Bacteria;p__Firmicutes_A;c__Clostridia;o__Oscillospirales;f__Oscillospiraceae;g__Oscillibacter;s__Oscillibacter sp000403435</td><td>82.6 </td><td>0.59</td><td>83.51</td><td>11</td><td>0.9623815263719147</td><td>N/A</td></tr>\n",
       "</tbody>\n",
       "</table>\n"
      ],
      "text/latex": [
       "A data.frame: 14 × 60\n",
       "\\begin{tabular}{lllllllllllllllllllll}\n",
       " genome & completeness & contamination & Bin.Id & Marker.lineage & X..genomes & X..markers & X..marker.sets & Completeness & Contamination & ⋯ & fastani\\_af & closest\\_placement\\_reference & closest\\_placement\\_radius & closest\\_placement\\_taxonomy & closest\\_placement\\_ani & closest\\_placement\\_af & msa\\_percent & translation\\_table & red\\_value & warnings\\\\\n",
       " <fct> & <dbl> & <dbl> & <chr> & <fct> & <int> & <int> & <int> & <dbl> & <dbl> & ⋯ & <fct> & <fct> & <fct> & <fct> & <fct> & <fct> & <dbl> & <int> & <fct> & <fct>\\\\\n",
       "\\hline\n",
       "\t /ebio/abt3\\_scratch/nyoungblut/LLG\\_62325884640/genomes/GCA\\_000283575.1\\_ASM28357v1\\_genomic.fna       & 98.99 & 1.01 & GCA\\_000283575.1\\_ASM28357v1\\_genomic       & o\\_\\_Clostridiales (UID1212) & 172 & 263 & 149 & 98.99 & 1.01 & ⋯ & 1.0  & GCF\\_000283575.1 & 95.0 & d\\_\\_Bacteria;p\\_\\_Firmicutes\\_A;c\\_\\_Clostridia;o\\_\\_Oscillospirales;f\\_\\_Oscillospiraceae;g\\_\\_Oscillibacter;s\\_\\_Oscillibacter valericigenes & 100.0 & 1.0  & 95.38 & 11 & N/A & N/A\\\\\n",
       "\t /ebio/abt3\\_scratch/nyoungblut/LLG\\_62325884640/genomes/GCA\\_000403435.2\\_Osci\\_bact\\_1-3\\_V1\\_genomic.fna & 99.33 & 1.45 & GCA\\_000403435.2\\_Osci\\_bact\\_1-3\\_V1\\_genomic & o\\_\\_Clostridiales (UID1212) & 172 & 263 & 149 & 99.33 & 1.45 & ⋯ & 0.99 & GCF\\_000403435.2 & 95.0 & d\\_\\_Bacteria;p\\_\\_Firmicutes\\_A;c\\_\\_Clostridia;o\\_\\_Oscillospirales;f\\_\\_Oscillospiraceae;g\\_\\_Oscillibacter;s\\_\\_Oscillibacter sp000403435   & 99.99 & 0.99 & 95.67 & 11 & N/A & N/A\\\\\n",
       "\t ⋮ & ⋮ & ⋮ & ⋮ & ⋮ & ⋮ & ⋮ & ⋮ & ⋮ & ⋮ & ⋱ & ⋮ & ⋮ & ⋮ & ⋮ & ⋮ & ⋮ & ⋮ & ⋮ & ⋮ & ⋮\\\\\n",
       "\t /ebio/abt3\\_scratch/nyoungblut/LLG\\_62325884640/genomes/GCA\\_003497655.1\\_ASM349765v1\\_genomic.fna & 91.14 & 0.00 & GCA\\_003497655.1\\_ASM349765v1\\_genomic & o\\_\\_Clostridiales (UID1212) & 172 & 263 & 149 & 91.14 & 0.00 & ⋯ & 0.82 & GCF\\_000765235.1 & 95.0 & d\\_\\_Bacteria;p\\_\\_Firmicutes\\_A;c\\_\\_Clostridia;o\\_\\_Oscillospirales;f\\_\\_Oscillospiraceae;g\\_\\_ER4;s\\_\\_ER4 sp000765235                     & 96.71 & 0.82 & 91.90 & 11 & N/A                & N/A\\\\\n",
       "\t /ebio/abt3\\_scratch/nyoungblut/LLG\\_62325884640/genomes/GCA\\_009774015.1\\_ASM977401v1\\_genomic.fna & 91.03 & 3.68 & GCA\\_009774015.1\\_ASM977401v1\\_genomic & o\\_\\_Clostridiales (UID1212) & 172 & 263 & 149 & 91.03 & 3.68 & ⋯ & N/A  & GCF\\_000403435.2 & 95.0 & d\\_\\_Bacteria;p\\_\\_Firmicutes\\_A;c\\_\\_Clostridia;o\\_\\_Oscillospirales;f\\_\\_Oscillospiraceae;g\\_\\_Oscillibacter;s\\_\\_Oscillibacter sp000403435 & 82.6  & 0.59 & 83.51 & 11 & 0.9623815263719147 & N/A\\\\\n",
       "\\end{tabular}\n"
      ],
      "text/markdown": [
       "\n",
       "A data.frame: 14 × 60\n",
       "\n",
       "| genome &lt;fct&gt; | completeness &lt;dbl&gt; | contamination &lt;dbl&gt; | Bin.Id &lt;chr&gt; | Marker.lineage &lt;fct&gt; | X..genomes &lt;int&gt; | X..markers &lt;int&gt; | X..marker.sets &lt;int&gt; | Completeness &lt;dbl&gt; | Contamination &lt;dbl&gt; | ⋯ ⋯ | fastani_af &lt;fct&gt; | closest_placement_reference &lt;fct&gt; | closest_placement_radius &lt;fct&gt; | closest_placement_taxonomy &lt;fct&gt; | closest_placement_ani &lt;fct&gt; | closest_placement_af &lt;fct&gt; | msa_percent &lt;dbl&gt; | translation_table &lt;int&gt; | red_value &lt;fct&gt; | warnings &lt;fct&gt; |\n",
       "|---|---|---|---|---|---|---|---|---|---|---|---|---|---|---|---|---|---|---|---|---|\n",
       "| /ebio/abt3_scratch/nyoungblut/LLG_62325884640/genomes/GCA_000283575.1_ASM28357v1_genomic.fna       | 98.99 | 1.01 | GCA_000283575.1_ASM28357v1_genomic       | o__Clostridiales (UID1212) | 172 | 263 | 149 | 98.99 | 1.01 | ⋯ | 1.0  | GCF_000283575.1 | 95.0 | d__Bacteria;p__Firmicutes_A;c__Clostridia;o__Oscillospirales;f__Oscillospiraceae;g__Oscillibacter;s__Oscillibacter valericigenes | 100.0 | 1.0  | 95.38 | 11 | N/A | N/A |\n",
       "| /ebio/abt3_scratch/nyoungblut/LLG_62325884640/genomes/GCA_000403435.2_Osci_bact_1-3_V1_genomic.fna | 99.33 | 1.45 | GCA_000403435.2_Osci_bact_1-3_V1_genomic | o__Clostridiales (UID1212) | 172 | 263 | 149 | 99.33 | 1.45 | ⋯ | 0.99 | GCF_000403435.2 | 95.0 | d__Bacteria;p__Firmicutes_A;c__Clostridia;o__Oscillospirales;f__Oscillospiraceae;g__Oscillibacter;s__Oscillibacter sp000403435   | 99.99 | 0.99 | 95.67 | 11 | N/A | N/A |\n",
       "| ⋮ | ⋮ | ⋮ | ⋮ | ⋮ | ⋮ | ⋮ | ⋮ | ⋮ | ⋮ | ⋱ | ⋮ | ⋮ | ⋮ | ⋮ | ⋮ | ⋮ | ⋮ | ⋮ | ⋮ | ⋮ |\n",
       "| /ebio/abt3_scratch/nyoungblut/LLG_62325884640/genomes/GCA_003497655.1_ASM349765v1_genomic.fna | 91.14 | 0.00 | GCA_003497655.1_ASM349765v1_genomic | o__Clostridiales (UID1212) | 172 | 263 | 149 | 91.14 | 0.00 | ⋯ | 0.82 | GCF_000765235.1 | 95.0 | d__Bacteria;p__Firmicutes_A;c__Clostridia;o__Oscillospirales;f__Oscillospiraceae;g__ER4;s__ER4 sp000765235                     | 96.71 | 0.82 | 91.90 | 11 | N/A                | N/A |\n",
       "| /ebio/abt3_scratch/nyoungblut/LLG_62325884640/genomes/GCA_009774015.1_ASM977401v1_genomic.fna | 91.03 | 3.68 | GCA_009774015.1_ASM977401v1_genomic | o__Clostridiales (UID1212) | 172 | 263 | 149 | 91.03 | 3.68 | ⋯ | N/A  | GCF_000403435.2 | 95.0 | d__Bacteria;p__Firmicutes_A;c__Clostridia;o__Oscillospirales;f__Oscillospiraceae;g__Oscillibacter;s__Oscillibacter sp000403435 | 82.6  | 0.59 | 83.51 | 11 | 0.9623815263719147 | N/A |\n",
       "\n"
      ],
      "text/plain": [
       "   genome                                                                                            \n",
       "1  /ebio/abt3_scratch/nyoungblut/LLG_62325884640/genomes/GCA_000283575.1_ASM28357v1_genomic.fna      \n",
       "2  /ebio/abt3_scratch/nyoungblut/LLG_62325884640/genomes/GCA_000403435.2_Osci_bact_1-3_V1_genomic.fna\n",
       "⋮  ⋮                                                                                                 \n",
       "13 /ebio/abt3_scratch/nyoungblut/LLG_62325884640/genomes/GCA_003497655.1_ASM349765v1_genomic.fna     \n",
       "14 /ebio/abt3_scratch/nyoungblut/LLG_62325884640/genomes/GCA_009774015.1_ASM977401v1_genomic.fna     \n",
       "   completeness contamination Bin.Id                                  \n",
       "1  98.99        1.01          GCA_000283575.1_ASM28357v1_genomic      \n",
       "2  99.33        1.45          GCA_000403435.2_Osci_bact_1-3_V1_genomic\n",
       "⋮  ⋮            ⋮             ⋮                                       \n",
       "13 91.14        0.00          GCA_003497655.1_ASM349765v1_genomic     \n",
       "14 91.03        3.68          GCA_009774015.1_ASM977401v1_genomic     \n",
       "   Marker.lineage             X..genomes X..markers X..marker.sets Completeness\n",
       "1  o__Clostridiales (UID1212) 172        263        149            98.99       \n",
       "2  o__Clostridiales (UID1212) 172        263        149            99.33       \n",
       "⋮  ⋮                          ⋮          ⋮          ⋮              ⋮           \n",
       "13 o__Clostridiales (UID1212) 172        263        149            91.14       \n",
       "14 o__Clostridiales (UID1212) 172        263        149            91.03       \n",
       "   Contamination ⋯ fastani_af closest_placement_reference\n",
       "1  1.01          ⋯ 1.0        GCF_000283575.1            \n",
       "2  1.45          ⋯ 0.99       GCF_000403435.2            \n",
       "⋮  ⋮             ⋱ ⋮          ⋮                          \n",
       "13 0.00          ⋯ 0.82       GCF_000765235.1            \n",
       "14 3.68          ⋯ N/A        GCF_000403435.2            \n",
       "   closest_placement_radius\n",
       "1  95.0                    \n",
       "2  95.0                    \n",
       "⋮  ⋮                       \n",
       "13 95.0                    \n",
       "14 95.0                    \n",
       "   closest_placement_taxonomy                                                                                                      \n",
       "1  d__Bacteria;p__Firmicutes_A;c__Clostridia;o__Oscillospirales;f__Oscillospiraceae;g__Oscillibacter;s__Oscillibacter valericigenes\n",
       "2  d__Bacteria;p__Firmicutes_A;c__Clostridia;o__Oscillospirales;f__Oscillospiraceae;g__Oscillibacter;s__Oscillibacter sp000403435  \n",
       "⋮  ⋮                                                                                                                               \n",
       "13 d__Bacteria;p__Firmicutes_A;c__Clostridia;o__Oscillospirales;f__Oscillospiraceae;g__ER4;s__ER4 sp000765235                      \n",
       "14 d__Bacteria;p__Firmicutes_A;c__Clostridia;o__Oscillospirales;f__Oscillospiraceae;g__Oscillibacter;s__Oscillibacter sp000403435  \n",
       "   closest_placement_ani closest_placement_af msa_percent translation_table\n",
       "1  100.0                 1.0                  95.38       11               \n",
       "2  99.99                 0.99                 95.67       11               \n",
       "⋮  ⋮                     ⋮                    ⋮           ⋮                \n",
       "13 96.71                 0.82                 91.90       11               \n",
       "14 82.6                  0.59                 83.51       11               \n",
       "   red_value          warnings\n",
       "1  N/A                N/A     \n",
       "2  N/A                N/A     \n",
       "⋮  ⋮                  ⋮       \n",
       "13 N/A                N/A     \n",
       "14 0.9623815263719147 N/A     "
      ]
     },
     "metadata": {},
     "output_type": "display_data"
    }
   ],
   "source": [
    "# filtering by quality\n",
    "hq_genomes = drep %>%\n",
    "    filter(completeness >= 90,\n",
    "           contamination < 5,\n",
    "           Strain.heterogeneity < 50)\n",
    "hq_genomes"
   ]
  },
  {
   "cell_type": "code",
   "execution_count": 26,
   "metadata": {
    "execution": {
     "iopub.execute_input": "2021-01-12T13:01:11.992136Z",
     "iopub.status.busy": "2021-01-12T13:01:11.988274Z",
     "iopub.status.idle": "2021-01-12T13:01:12.096223Z",
     "shell.execute_reply": "2021-01-12T13:01:12.093611Z"
    }
   },
   "outputs": [
    {
     "data": {
      "text/html": [
       "<table>\n",
       "<caption>A tibble: 4 × 3</caption>\n",
       "<thead>\n",
       "\t<tr><th scope=col>Family</th><th scope=col>Genus</th><th scope=col>n_genomes</th></tr>\n",
       "\t<tr><th scope=col>&lt;chr&gt;</th><th scope=col>&lt;chr&gt;</th><th scope=col>&lt;int&gt;</th></tr>\n",
       "</thead>\n",
       "<tbody>\n",
       "\t<tr><td>f__Oscillospiraceae</td><td>g__             </td><td>1</td></tr>\n",
       "\t<tr><td>f__Oscillospiraceae</td><td>g__CAG-83       </td><td>1</td></tr>\n",
       "\t<tr><td>f__Oscillospiraceae</td><td>g__ER4          </td><td>3</td></tr>\n",
       "\t<tr><td>f__Oscillospiraceae</td><td>g__Oscillibacter</td><td>9</td></tr>\n",
       "</tbody>\n",
       "</table>\n"
      ],
      "text/latex": [
       "A tibble: 4 × 3\n",
       "\\begin{tabular}{lll}\n",
       " Family & Genus & n\\_genomes\\\\\n",
       " <chr> & <chr> & <int>\\\\\n",
       "\\hline\n",
       "\t f\\_\\_Oscillospiraceae & g\\_\\_              & 1\\\\\n",
       "\t f\\_\\_Oscillospiraceae & g\\_\\_CAG-83        & 1\\\\\n",
       "\t f\\_\\_Oscillospiraceae & g\\_\\_ER4           & 3\\\\\n",
       "\t f\\_\\_Oscillospiraceae & g\\_\\_Oscillibacter & 9\\\\\n",
       "\\end{tabular}\n"
      ],
      "text/markdown": [
       "\n",
       "A tibble: 4 × 3\n",
       "\n",
       "| Family &lt;chr&gt; | Genus &lt;chr&gt; | n_genomes &lt;int&gt; |\n",
       "|---|---|---|\n",
       "| f__Oscillospiraceae | g__              | 1 |\n",
       "| f__Oscillospiraceae | g__CAG-83        | 1 |\n",
       "| f__Oscillospiraceae | g__ER4           | 3 |\n",
       "| f__Oscillospiraceae | g__Oscillibacter | 9 |\n",
       "\n"
      ],
      "text/plain": [
       "  Family              Genus            n_genomes\n",
       "1 f__Oscillospiraceae g__              1        \n",
       "2 f__Oscillospiraceae g__CAG-83        1        \n",
       "3 f__Oscillospiraceae g__ER4           3        \n",
       "4 f__Oscillospiraceae g__Oscillibacter 9        "
      ]
     },
     "metadata": {},
     "output_type": "display_data"
    }
   ],
   "source": [
    "# summarizing the taxonomy\n",
    "df.dims(20)\n",
    "hq_genomes %>%\n",
    "    group_by(Family, Genus) %>%\n",
    "    summarize(n_genomes = n(), .groups='drop')\n",
    "df.dims()"
   ]
  },
  {
   "cell_type": "code",
   "execution_count": 31,
   "metadata": {
    "execution": {
     "iopub.execute_input": "2021-01-12T13:04:01.088136Z",
     "iopub.status.busy": "2021-01-12T13:04:01.085926Z",
     "iopub.status.idle": "2021-01-12T13:04:01.176900Z",
     "shell.execute_reply": "2021-01-12T13:04:01.174775Z"
    }
   },
   "outputs": [
    {
     "name": "stdout",
     "output_type": "stream",
     "text": [
      "File written: /ebio/abt3_projects/software/dev/ll_pipelines/llprimer/experiments/HMP_most-wanted//Oscillibacter/genbank/samples_genomes_hq.txt \n"
     ]
    }
   ],
   "source": [
    "# writing samples table for LLPRIMER\n",
    "outfile = file.path(work_dir_tmp, 'samples_genomes_hq.txt')\n",
    "hq_genomes %>%\n",
    "    select(Bin.Id, Fasta) %>%\n",
    "    rename('Taxon' = Bin.Id) %>%\n",
    "    mutate(Taxon = gsub('_chromosome.+', '', Taxon),\n",
    "           Taxon = gsub('_bin_.+', '', Taxon),\n",
    "           Taxon = gsub('_genomic', '', Taxon),\n",
    "           Taxon = gsub('_annotated_assembly', '', Taxon),\n",
    "           Taxid = taxid) %>%\n",
    "    write_table(outfile)"
   ]
  },
  {
   "cell_type": "markdown",
   "metadata": {},
   "source": [
    "## Anaerotruncus"
   ]
  },
  {
   "cell_type": "code",
   "execution_count": 42,
   "metadata": {},
   "outputs": [],
   "source": [
    "clade = 'Anaerotruncus'\n",
    "taxid = 244127"
   ]
  },
  {
   "cell_type": "code",
   "execution_count": 43,
   "metadata": {},
   "outputs": [
    {
     "data": {
      "text/html": [
       "<table>\n",
       "<caption>A data.frame: 31 × 4</caption>\n",
       "<thead>\n",
       "\t<tr><th scope=col>Name</th><th scope=col>Fasta</th><th scope=col>Domain</th><th scope=col>Taxid</th></tr>\n",
       "\t<tr><th scope=col>&lt;chr&gt;</th><th scope=col>&lt;chr&gt;</th><th scope=col>&lt;fct&gt;</th><th scope=col>&lt;dbl&gt;</th></tr>\n",
       "</thead>\n",
       "<tbody>\n",
       "\t<tr><td>GCA_000154565.1_ASM15456v1_genomic     </td><td>/ebio/abt3_projects/software/dev/ll_pipelines/llprimer/experiments/HMP_most-wanted/Anaerotruncus/genbank/bacteria/GCA_000154565.1/GCA_000154565.1_ASM15456v1_genomic.fna.gz     </td><td>Bacteria</td><td>244127</td></tr>\n",
       "\t<tr><td>GCA_000403395.2_Anae_bact_G3_V1_genomic</td><td>/ebio/abt3_projects/software/dev/ll_pipelines/llprimer/experiments/HMP_most-wanted/Anaerotruncus/genbank/bacteria/GCA_000403395.2/GCA_000403395.2_Anae_bact_G3_V1_genomic.fna.gz</td><td>Bacteria</td><td>244127</td></tr>\n",
       "\t<tr><td>⋮</td><td>⋮</td><td>⋮</td><td>⋮</td></tr>\n",
       "\t<tr><td>GCA_902363605.1_MGYG-HGUT-00131_genomic   </td><td>/ebio/abt3_projects/software/dev/ll_pipelines/llprimer/experiments/HMP_most-wanted/Anaerotruncus/genbank/bacteria/GCA_902363605.1/GCA_902363605.1_MGYG-HGUT-00131_genomic.fna.gz   </td><td>Bacteria</td><td>244127</td></tr>\n",
       "\t<tr><td>GCA_904384175.1_Chicken_20_mag_154_genomic</td><td>/ebio/abt3_projects/software/dev/ll_pipelines/llprimer/experiments/HMP_most-wanted/Anaerotruncus/genbank/bacteria/GCA_904384175.1/GCA_904384175.1_Chicken_20_mag_154_genomic.fna.gz</td><td>Bacteria</td><td>244127</td></tr>\n",
       "</tbody>\n",
       "</table>\n"
      ],
      "text/latex": [
       "A data.frame: 31 × 4\n",
       "\\begin{tabular}{llll}\n",
       " Name & Fasta & Domain & Taxid\\\\\n",
       " <chr> & <chr> & <fct> & <dbl>\\\\\n",
       "\\hline\n",
       "\t GCA\\_000154565.1\\_ASM15456v1\\_genomic      & /ebio/abt3\\_projects/software/dev/ll\\_pipelines/llprimer/experiments/HMP\\_most-wanted/Anaerotruncus/genbank/bacteria/GCA\\_000154565.1/GCA\\_000154565.1\\_ASM15456v1\\_genomic.fna.gz      & Bacteria & 244127\\\\\n",
       "\t GCA\\_000403395.2\\_Anae\\_bact\\_G3\\_V1\\_genomic & /ebio/abt3\\_projects/software/dev/ll\\_pipelines/llprimer/experiments/HMP\\_most-wanted/Anaerotruncus/genbank/bacteria/GCA\\_000403395.2/GCA\\_000403395.2\\_Anae\\_bact\\_G3\\_V1\\_genomic.fna.gz & Bacteria & 244127\\\\\n",
       "\t ⋮ & ⋮ & ⋮ & ⋮\\\\\n",
       "\t GCA\\_902363605.1\\_MGYG-HGUT-00131\\_genomic    & /ebio/abt3\\_projects/software/dev/ll\\_pipelines/llprimer/experiments/HMP\\_most-wanted/Anaerotruncus/genbank/bacteria/GCA\\_902363605.1/GCA\\_902363605.1\\_MGYG-HGUT-00131\\_genomic.fna.gz    & Bacteria & 244127\\\\\n",
       "\t GCA\\_904384175.1\\_Chicken\\_20\\_mag\\_154\\_genomic & /ebio/abt3\\_projects/software/dev/ll\\_pipelines/llprimer/experiments/HMP\\_most-wanted/Anaerotruncus/genbank/bacteria/GCA\\_904384175.1/GCA\\_904384175.1\\_Chicken\\_20\\_mag\\_154\\_genomic.fna.gz & Bacteria & 244127\\\\\n",
       "\\end{tabular}\n"
      ],
      "text/markdown": [
       "\n",
       "A data.frame: 31 × 4\n",
       "\n",
       "| Name &lt;chr&gt; | Fasta &lt;chr&gt; | Domain &lt;fct&gt; | Taxid &lt;dbl&gt; |\n",
       "|---|---|---|---|\n",
       "| GCA_000154565.1_ASM15456v1_genomic      | /ebio/abt3_projects/software/dev/ll_pipelines/llprimer/experiments/HMP_most-wanted/Anaerotruncus/genbank/bacteria/GCA_000154565.1/GCA_000154565.1_ASM15456v1_genomic.fna.gz      | Bacteria | 244127 |\n",
       "| GCA_000403395.2_Anae_bact_G3_V1_genomic | /ebio/abt3_projects/software/dev/ll_pipelines/llprimer/experiments/HMP_most-wanted/Anaerotruncus/genbank/bacteria/GCA_000403395.2/GCA_000403395.2_Anae_bact_G3_V1_genomic.fna.gz | Bacteria | 244127 |\n",
       "| ⋮ | ⋮ | ⋮ | ⋮ |\n",
       "| GCA_902363605.1_MGYG-HGUT-00131_genomic    | /ebio/abt3_projects/software/dev/ll_pipelines/llprimer/experiments/HMP_most-wanted/Anaerotruncus/genbank/bacteria/GCA_902363605.1/GCA_902363605.1_MGYG-HGUT-00131_genomic.fna.gz    | Bacteria | 244127 |\n",
       "| GCA_904384175.1_Chicken_20_mag_154_genomic | /ebio/abt3_projects/software/dev/ll_pipelines/llprimer/experiments/HMP_most-wanted/Anaerotruncus/genbank/bacteria/GCA_904384175.1/GCA_904384175.1_Chicken_20_mag_154_genomic.fna.gz | Bacteria | 244127 |\n",
       "\n"
      ],
      "text/plain": [
       "   Name                                      \n",
       "1  GCA_000154565.1_ASM15456v1_genomic        \n",
       "2  GCA_000403395.2_Anae_bact_G3_V1_genomic   \n",
       "⋮  ⋮                                         \n",
       "30 GCA_902363605.1_MGYG-HGUT-00131_genomic   \n",
       "31 GCA_904384175.1_Chicken_20_mag_154_genomic\n",
       "   Fasta                                                                                                                                                                              \n",
       "1  /ebio/abt3_projects/software/dev/ll_pipelines/llprimer/experiments/HMP_most-wanted/Anaerotruncus/genbank/bacteria/GCA_000154565.1/GCA_000154565.1_ASM15456v1_genomic.fna.gz        \n",
       "2  /ebio/abt3_projects/software/dev/ll_pipelines/llprimer/experiments/HMP_most-wanted/Anaerotruncus/genbank/bacteria/GCA_000403395.2/GCA_000403395.2_Anae_bact_G3_V1_genomic.fna.gz   \n",
       "⋮  ⋮                                                                                                                                                                                  \n",
       "30 /ebio/abt3_projects/software/dev/ll_pipelines/llprimer/experiments/HMP_most-wanted/Anaerotruncus/genbank/bacteria/GCA_902363605.1/GCA_902363605.1_MGYG-HGUT-00131_genomic.fna.gz   \n",
       "31 /ebio/abt3_projects/software/dev/ll_pipelines/llprimer/experiments/HMP_most-wanted/Anaerotruncus/genbank/bacteria/GCA_904384175.1/GCA_904384175.1_Chicken_20_mag_154_genomic.fna.gz\n",
       "   Domain   Taxid \n",
       "1  Bacteria 244127\n",
       "2  Bacteria 244127\n",
       "⋮  ⋮        ⋮     \n",
       "30 Bacteria 244127\n",
       "31 Bacteria 244127"
      ]
     },
     "metadata": {},
     "output_type": "display_data"
    },
    {
     "name": "stdout",
     "output_type": "stream",
     "text": [
      "File written: /ebio/abt3_projects/software/dev/ll_pipelines/llprimer/experiments/HMP_most-wanted//Anaerotruncus/genbank/samples.txt \n"
     ]
    }
   ],
   "source": [
    "work_dir_tmp = file.path(work_dir, clade, 'genbank')\n",
    "files = list_files(work_dir_tmp, '.fna.gz')\n",
    "samps = data.frame(Name = files %>% as.character %>% basename,\n",
    "                   Fasta = files,\n",
    "                   Domain = 'Bacteria',\n",
    "                   Taxid = taxid) %>%\n",
    "    mutate(Name = gsub('\\\\.fna\\\\.gz$', '', Name),\n",
    "           Fasta = gsub('/+', '/', Fasta))\n",
    "samps\n",
    "\n",
    "# writing file\n",
    "outfile = file.path(work_dir_tmp, 'samples.txt')\n",
    "write_table(samps, outfile)"
   ]
  },
  {
   "cell_type": "markdown",
   "metadata": {},
   "source": [
    "### LLG"
   ]
  },
  {
   "cell_type": "code",
   "execution_count": 44,
   "metadata": {},
   "outputs": [
    {
     "name": "stdout",
     "output_type": "stream",
     "text": [
      "# table with genome --> fasta_file information\n",
      "samples_file: /ebio/abt3_projects/software/dev/ll_pipelines/llprimer/experiments/HMP_most-wanted/Anaerotruncus/genbank/samples.txt\n",
      "\n",
      "# output location\n",
      "output_dir: /ebio/abt3_projects/software/dev/ll_pipelines/llprimer/experiments/HMP_most-wanted/Anaerotruncus/LLG_output/\n",
      "\n",
      "# temporary file directory (your username will be added automatically)\n",
      "tmp_dir: /ebio/abt3_scratch/\n",
      "\n",
      "# batch processing of genomes for certain steps\n",
      "## increase to better parallelize\n",
      "batches: 2 \n",
      "\n",
      "# Domain of genomes ('Archaea' or 'Bacteria)\n",
      "## Use \"Skip\" if provided as a \"Domain\" column in the genome table\n",
      "Domain: Skip\n",
      "\n",
      "# software parameters\n",
      "# Use \"Skip\" to skip any of these steps. If no params for rule, use \"\"\n",
      "# dRep MAGs are not further analyzed, but you can de-rep & then use the de-rep genome table as input.\n",
      "params:\n",
      "  ionice: -c 3\n",
      "  # assembly assessment\n",
      "  seqkit: \"\"\n",
      "  quast: Skip #\"\"\n",
      "  multiqc_on_quast: \"\" \n",
      "  checkm: \"\"\n",
      "  # de-replication (requires checkm)\n",
      "  drep: -comp 90 -con 5 -sa 0.999\n",
      "  # taxonomy\n",
      "  sourmash:\n",
      "    compute: Skip #--scaled 10000 -k 31\n",
      "    gather: -k 31\n",
      "  gtdbtk:\n",
      "    classify_wf: --min_perc_aa 10\n",
      "  # genome pairwise ANI  \n",
      "  fastani: Skip #--fragLen 3000 --minFraction 0.2 -k 16\n",
      "  dashing: Skip #-k 31 --full-tsv\n",
      "  comparem_aai: Skip #--evalue 0.001\n",
      "  # gene annotation\n",
      "  gene_call:\n",
      "    prokka: Skip #\"\" \n",
      "    multiqc_on_prokka: \"\"\n",
      "    prodigal: Skip #\"\"\n",
      "  eggnog_mapper: \"\"\n",
      "  eggnog_mapper_annot: \"\"\n",
      "  # rRNA (16S alignment & phylogeny)\n",
      "  barrnap: Skip #--lencutoff 0.8\n",
      "  vsearch_per_genome_drep: --id 0.95    # Skip to prevent drep of 16S copies within each genome\n",
      "  qiime2_fasttree: \"\"\n",
      "  qiime2_iqtree: --p-alrt 1000 --p-abayes --p-lbp 1000  --p-substitution-model 'GTR+I+G'\n",
      "  # genome phylogeny\n",
      "  phylophlan_config: Skip #--map_dna diamond --db_aa diamond --map_aa diamond --msa mafft --trim trimal --tree1 fasttree --tree2 raxml\n",
      "  phylophlan: --diversity high --min_num_markers 50 --accurate\n",
      "  # phenotype\n",
      "  traitar: Skip #\"\"\n",
      "  # biosynthetic gene clusters (BGCs)\n",
      "  antismash: Skip #--cb-knownclusters --cb-subclusters --asf  \n",
      "  DeepBGC: Skip #--score 0.5 --classifier-score 0.5 --prodigal-meta-mode\n",
      "  # antimicrobial resistance (AMR)\n",
      "  abricate: Skip #--minid 75 --mincov 80\n",
      "  # CRISPRs\n",
      "  cctyper: Skip #--prodigal meta\n",
      "  \n",
      "# databases\n",
      "databases:\n",
      "  checkM_data: /ebio/abt3_projects/databases_no-backup/checkM/\n",
      "  sourmash: /ebio/abt3_projects/databases_no-backup/sourmash/genbank-k31.sbt.json\n",
      "  sourmash_lca: /ebio/abt3_projects/databases_no-backup/sourmash/genbank-k31.lca.json.gz\n",
      "  gtdbtk: /ebio/abt3_projects/databases_no-backup/GTDB/release95/gtdbtk/db_info.md\n",
      "  phylophlan: /ebio/abt3_projects/databases_no-backup/phylophlan/PhyloPhlan/phylophlan.faa.bz2\n",
      "  eggnog: /ebio/abt3_projects/databases_no-backup/Eggnog/v2/eggnog.db\n",
      "  eggnog_diamond: /ebio/abt3_projects/databases_no-backup/Eggnog/v2/eggnog_proteins.dmnd\n",
      "  antismash: /ebio/abt3_projects/databases_no-backup/antismash/v5/\n",
      "  deepbgc: /ebio/abt3_projects/databases_no-backup/DeepBGC/\n",
      "  traitar: /ebio/abt3_projects/databases_no-backup/pfam/traitar/\n",
      "  abricate:\n",
      "    ncbi: /ebio/abt3_projects/databases_no-backup/abricate/ncbi/sequences\n",
      "    card: /ebio/abt3_projects/databases_no-backup/abricate/card/sequences\n",
      "    resfinder: /ebio/abt3_projects/databases_no-backup/abricate/resfinder/sequences\n",
      "    argannot: /ebio/abt3_projects/databases_no-backup/abricate/argannot/sequences\n",
      "    bacmet2: /ebio/abt3_projects/databases_no-backup/abricate/bacmet2/sequences\n",
      "    vfdb: /ebio/abt3_projects/databases_no-backup/abricate/vfdb/sequences\n",
      "    megares: /ebio/abt3_projects/databases_no-backup/abricate/megares/sequences\n",
      "    plasmidfinder: /ebio/abt3_projects/databases_no-backup/abricate/plasmidfinder/sequences\n",
      "\n",
      "# snakemake pipeline\n",
      "pipeline:\n",
      "  snakemake_folder: ./\n",
      "  script_folder: ./bin/scripts/\n",
      "  use_shared_mem: True\n",
      "  name: LLG"
     ]
    }
   ],
   "source": [
    "work_dir_tmp = file.path(work_dir, clade)\n",
    "cat_file(file.path(work_dir_tmp, 'config_llg.yaml'))"
   ]
  },
  {
   "cell_type": "markdown",
   "metadata": {},
   "source": [
    "#### Run\n",
    "\n",
    "```\n",
    "(snakemake) @ rick:/ebio/abt3_projects/software/dev/ll_pipelines/llprimer/experiments/HMP_most-wanted/Anaerotruncus/llg\n",
    "$ screen -L -S llg-anaero ./snakemake_sge.sh ../config_llg.yaml 20 -F\n",
    "```"
   ]
  },
  {
   "cell_type": "markdown",
   "metadata": {},
   "source": [
    "#### Samples table of high-quality genomes"
   ]
  },
  {
   "cell_type": "markdown",
   "metadata": {},
   "source": [
    "# --WAITING--"
   ]
  },
  {
   "cell_type": "code",
   "execution_count": null,
   "metadata": {},
   "outputs": [],
   "source": []
  },
  {
   "cell_type": "code",
   "execution_count": null,
   "metadata": {},
   "outputs": [],
   "source": []
  }
 ],
 "metadata": {
  "kernelspec": {
   "display_name": "R [conda env:Georg_animal_feces-tidyverse]",
   "language": "R",
   "name": "conda-env-Georg_animal_feces-tidyverse-r"
  },
  "language_info": {
   "codemirror_mode": "r",
   "file_extension": ".r",
   "mimetype": "text/x-r-source",
   "name": "R",
   "pygments_lexer": "r",
   "version": "3.6.3"
  },
  "toc-autonumbering": true
 },
 "nbformat": 4,
 "nbformat_minor": 4
}
