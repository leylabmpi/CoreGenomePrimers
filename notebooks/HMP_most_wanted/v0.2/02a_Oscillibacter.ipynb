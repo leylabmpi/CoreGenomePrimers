{
 "cells": [
  {
   "cell_type": "markdown",
   "metadata": {},
   "source": [
    "# Goal\n",
    "\n",
    "* Primer design for clade of interest"
   ]
  },
  {
   "cell_type": "markdown",
   "metadata": {},
   "source": [
    "# Var"
   ]
  },
  {
   "cell_type": "code",
   "execution_count": 5,
   "metadata": {
    "execution": {
     "iopub.execute_input": "2021-01-14T07:54:46.455949Z",
     "iopub.status.busy": "2021-01-14T07:54:46.454180Z",
     "iopub.status.idle": "2021-01-14T07:54:46.471977Z"
    }
   },
   "outputs": [],
   "source": [
    "base_dir = '/ebio/abt3_projects/software/dev/ll_pipelines/llprimer/experiments/HMP_most-wanted/'\n",
    "clade = 'Oscillibacter'\n",
    "taxid = 459786"
   ]
  },
  {
   "cell_type": "markdown",
   "metadata": {},
   "source": [
    "# Init"
   ]
  },
  {
   "cell_type": "code",
   "execution_count": 6,
   "metadata": {
    "execution": {
     "iopub.execute_input": "2021-01-14T07:54:46.709912Z",
     "iopub.status.busy": "2021-01-14T07:54:46.707669Z",
     "iopub.status.idle": "2021-01-14T07:54:46.731394Z"
    }
   },
   "outputs": [],
   "source": [
    "library(dplyr)\n",
    "library(tidyr)\n",
    "library(ggplot2)\n",
    "library(LeyLabRMisc)"
   ]
  },
  {
   "cell_type": "code",
   "execution_count": 4,
   "metadata": {
    "execution": {
     "iopub.execute_input": "2021-01-14T07:54:45.551387Z",
     "iopub.status.busy": "2021-01-14T07:54:45.549923Z",
     "iopub.status.idle": "2021-01-14T07:54:45.570435Z"
    }
   },
   "outputs": [
    {
     "name": "stdout",
     "output_type": "stream",
     "text": [
      "Directory already exists: /ebio/abt3_projects/software/dev/ll_pipelines/llprimer/experiments/HMP_most-wanted//Oscillibacter \n"
     ]
    }
   ],
   "source": [
    "df.dims()\n",
    "work_dir = file.path(base_dir, clade)\n",
    "make_dir(work_dir)"
   ]
  },
  {
   "cell_type": "markdown",
   "metadata": {},
   "source": [
    "# Genome download\n",
    "\n",
    "* Downloading genomes from NCBI"
   ]
  },
  {
   "cell_type": "markdown",
   "metadata": {
    "execution": {
     "iopub.execute_input": "2021-01-12T13:07:32.874718Z",
     "iopub.status.busy": "2021-01-12T13:07:32.867938Z",
     "iopub.status.idle": "2021-01-12T13:07:32.985785Z",
     "shell.execute_reply": "2021-01-12T13:07:32.983225Z"
    }
   },
   "source": [
    "```\n",
    "OUTDIR=/ebio/abt3_projects/software/dev/ll_pipelines/llprimer/experiments/HMP_most-wanted/Oscillibacter/\n",
    "mkdir -p $OUTDIR\n",
    "ncbi-genome-download -p 12 -s genbank -F fasta --genera Oscillibacter -o $OUTDIR bacteria\n",
    "```"
   ]
  },
  {
   "cell_type": "markdown",
   "metadata": {},
   "source": [
    "# Genome quality\n",
    "\n",
    "* Filtering genomes by quality"
   ]
  },
  {
   "cell_type": "code",
   "execution_count": 9,
   "metadata": {
    "execution": {
     "iopub.execute_input": "2021-01-12T13:12:34.124344Z",
     "iopub.status.busy": "2021-01-12T13:12:34.121967Z",
     "iopub.status.idle": "2021-01-12T13:12:34.175842Z",
     "shell.execute_reply": "2021-01-12T13:12:34.174599Z"
    }
   },
   "outputs": [
    {
     "data": {
      "text/html": [
       "<table>\n",
       "<caption>A data.frame: 39 × 4</caption>\n",
       "<thead>\n",
       "\t<tr><th scope=col>Name</th><th scope=col>Fasta</th><th scope=col>Domain</th><th scope=col>Taxid</th></tr>\n",
       "\t<tr><th scope=col>&lt;chr&gt;</th><th scope=col>&lt;chr&gt;</th><th scope=col>&lt;fct&gt;</th><th scope=col>&lt;dbl&gt;</th></tr>\n",
       "</thead>\n",
       "<tbody>\n",
       "\t<tr><td>GCA_000283575.1_ASM28357v1_genomic</td><td>/ebio/abt3_projects/software/dev/ll_pipelines/llprimer/experiments/HMP_most-wanted/Oscillibacter/genbank/bacteria/GCA_000283575.1/GCA_000283575.1_ASM28357v1_genomic.fna.gz</td><td>Bacteria</td><td>459786</td></tr>\n",
       "\t<tr><td>GCA_000307265.1_ASM30726v1_genomic</td><td>/ebio/abt3_projects/software/dev/ll_pipelines/llprimer/experiments/HMP_most-wanted/Oscillibacter/genbank/bacteria/GCA_000307265.1/GCA_000307265.1_ASM30726v1_genomic.fna.gz</td><td>Bacteria</td><td>459786</td></tr>\n",
       "\t<tr><td>⋮</td><td>⋮</td><td>⋮</td><td>⋮</td></tr>\n",
       "\t<tr><td>GCA_015052085.1_ASM1505208v1_genomic                           </td><td>/ebio/abt3_projects/software/dev/ll_pipelines/llprimer/experiments/HMP_most-wanted/Oscillibacter/genbank/bacteria/GCA_015052085.1/GCA_015052085.1_ASM1505208v1_genomic.fna.gz                           </td><td>Bacteria</td><td>459786</td></tr>\n",
       "\t<tr><td>GCA_900115635.1_IMG-taxon_2623620509_annotated_assembly_genomic</td><td>/ebio/abt3_projects/software/dev/ll_pipelines/llprimer/experiments/HMP_most-wanted/Oscillibacter/genbank/bacteria/GCA_900115635.1/GCA_900115635.1_IMG-taxon_2623620509_annotated_assembly_genomic.fna.gz</td><td>Bacteria</td><td>459786</td></tr>\n",
       "</tbody>\n",
       "</table>\n"
      ],
      "text/latex": [
       "A data.frame: 39 × 4\n",
       "\\begin{tabular}{llll}\n",
       " Name & Fasta & Domain & Taxid\\\\\n",
       " <chr> & <chr> & <fct> & <dbl>\\\\\n",
       "\\hline\n",
       "\t GCA\\_000283575.1\\_ASM28357v1\\_genomic & /ebio/abt3\\_projects/software/dev/ll\\_pipelines/llprimer/experiments/HMP\\_most-wanted/Oscillibacter/genbank/bacteria/GCA\\_000283575.1/GCA\\_000283575.1\\_ASM28357v1\\_genomic.fna.gz & Bacteria & 459786\\\\\n",
       "\t GCA\\_000307265.1\\_ASM30726v1\\_genomic & /ebio/abt3\\_projects/software/dev/ll\\_pipelines/llprimer/experiments/HMP\\_most-wanted/Oscillibacter/genbank/bacteria/GCA\\_000307265.1/GCA\\_000307265.1\\_ASM30726v1\\_genomic.fna.gz & Bacteria & 459786\\\\\n",
       "\t ⋮ & ⋮ & ⋮ & ⋮\\\\\n",
       "\t GCA\\_015052085.1\\_ASM1505208v1\\_genomic                            & /ebio/abt3\\_projects/software/dev/ll\\_pipelines/llprimer/experiments/HMP\\_most-wanted/Oscillibacter/genbank/bacteria/GCA\\_015052085.1/GCA\\_015052085.1\\_ASM1505208v1\\_genomic.fna.gz                            & Bacteria & 459786\\\\\n",
       "\t GCA\\_900115635.1\\_IMG-taxon\\_2623620509\\_annotated\\_assembly\\_genomic & /ebio/abt3\\_projects/software/dev/ll\\_pipelines/llprimer/experiments/HMP\\_most-wanted/Oscillibacter/genbank/bacteria/GCA\\_900115635.1/GCA\\_900115635.1\\_IMG-taxon\\_2623620509\\_annotated\\_assembly\\_genomic.fna.gz & Bacteria & 459786\\\\\n",
       "\\end{tabular}\n"
      ],
      "text/markdown": [
       "\n",
       "A data.frame: 39 × 4\n",
       "\n",
       "| Name &lt;chr&gt; | Fasta &lt;chr&gt; | Domain &lt;fct&gt; | Taxid &lt;dbl&gt; |\n",
       "|---|---|---|---|\n",
       "| GCA_000283575.1_ASM28357v1_genomic | /ebio/abt3_projects/software/dev/ll_pipelines/llprimer/experiments/HMP_most-wanted/Oscillibacter/genbank/bacteria/GCA_000283575.1/GCA_000283575.1_ASM28357v1_genomic.fna.gz | Bacteria | 459786 |\n",
       "| GCA_000307265.1_ASM30726v1_genomic | /ebio/abt3_projects/software/dev/ll_pipelines/llprimer/experiments/HMP_most-wanted/Oscillibacter/genbank/bacteria/GCA_000307265.1/GCA_000307265.1_ASM30726v1_genomic.fna.gz | Bacteria | 459786 |\n",
       "| ⋮ | ⋮ | ⋮ | ⋮ |\n",
       "| GCA_015052085.1_ASM1505208v1_genomic                            | /ebio/abt3_projects/software/dev/ll_pipelines/llprimer/experiments/HMP_most-wanted/Oscillibacter/genbank/bacteria/GCA_015052085.1/GCA_015052085.1_ASM1505208v1_genomic.fna.gz                            | Bacteria | 459786 |\n",
       "| GCA_900115635.1_IMG-taxon_2623620509_annotated_assembly_genomic | /ebio/abt3_projects/software/dev/ll_pipelines/llprimer/experiments/HMP_most-wanted/Oscillibacter/genbank/bacteria/GCA_900115635.1/GCA_900115635.1_IMG-taxon_2623620509_annotated_assembly_genomic.fna.gz | Bacteria | 459786 |\n",
       "\n"
      ],
      "text/plain": [
       "   Name                                                           \n",
       "1  GCA_000283575.1_ASM28357v1_genomic                             \n",
       "2  GCA_000307265.1_ASM30726v1_genomic                             \n",
       "⋮  ⋮                                                              \n",
       "38 GCA_015052085.1_ASM1505208v1_genomic                           \n",
       "39 GCA_900115635.1_IMG-taxon_2623620509_annotated_assembly_genomic\n",
       "   Fasta                                                                                                                                                                                                   \n",
       "1  /ebio/abt3_projects/software/dev/ll_pipelines/llprimer/experiments/HMP_most-wanted/Oscillibacter/genbank/bacteria/GCA_000283575.1/GCA_000283575.1_ASM28357v1_genomic.fna.gz                             \n",
       "2  /ebio/abt3_projects/software/dev/ll_pipelines/llprimer/experiments/HMP_most-wanted/Oscillibacter/genbank/bacteria/GCA_000307265.1/GCA_000307265.1_ASM30726v1_genomic.fna.gz                             \n",
       "⋮  ⋮                                                                                                                                                                                                       \n",
       "38 /ebio/abt3_projects/software/dev/ll_pipelines/llprimer/experiments/HMP_most-wanted/Oscillibacter/genbank/bacteria/GCA_015052085.1/GCA_015052085.1_ASM1505208v1_genomic.fna.gz                           \n",
       "39 /ebio/abt3_projects/software/dev/ll_pipelines/llprimer/experiments/HMP_most-wanted/Oscillibacter/genbank/bacteria/GCA_900115635.1/GCA_900115635.1_IMG-taxon_2623620509_annotated_assembly_genomic.fna.gz\n",
       "   Domain   Taxid \n",
       "1  Bacteria 459786\n",
       "2  Bacteria 459786\n",
       "⋮  ⋮        ⋮     \n",
       "38 Bacteria 459786\n",
       "39 Bacteria 459786"
      ]
     },
     "metadata": {},
     "output_type": "display_data"
    },
    {
     "name": "stdout",
     "output_type": "stream",
     "text": [
      "File written: /ebio/abt3_projects/software/dev/ll_pipelines/llprimer/experiments/HMP_most-wanted//Oscillibacter/genbank/samples.txt \n"
     ]
    }
   ],
   "source": [
    "D = file.path(base_dir, clade, 'genbank')\n",
    "files = list_files(D, '.fna.gz')\n",
    "samps = data.frame(Name = files %>% as.character %>% basename,\n",
    "                   Fasta = files,\n",
    "                   Domain = 'Bacteria',\n",
    "                   Taxid = taxid) %>%\n",
    "    mutate(Name = gsub('\\\\.fna\\\\.gz$', '', Name),\n",
    "           Fasta = gsub('/+', '/', Fasta))\n",
    "samps\n",
    "\n",
    "# writing file\n",
    "outfile = file.path(D, 'samples.txt')\n",
    "write_table(samps, outfile)"
   ]
  },
  {
   "cell_type": "markdown",
   "metadata": {},
   "source": [
    "### LLG"
   ]
  },
  {
   "cell_type": "markdown",
   "metadata": {},
   "source": [
    "#### Config"
   ]
  },
  {
   "cell_type": "code",
   "execution_count": 13,
   "metadata": {
    "execution": {
     "iopub.execute_input": "2021-01-12T13:13:44.273804Z",
     "iopub.status.busy": "2021-01-12T13:13:44.271085Z",
     "iopub.status.idle": "2021-01-12T13:13:44.304312Z",
     "shell.execute_reply": "2021-01-12T13:13:44.302275Z"
    }
   },
   "outputs": [
    {
     "name": "stdout",
     "output_type": "stream",
     "text": [
      "# table with genome --> fasta_file information\n",
      "samples_file: /ebio/abt3_projects/software/dev/ll_pipelines/llprimer/experiments/HMP_most-wanted/Oscillibacter/genbank/samples.txt\n",
      "\n",
      "# output location\n",
      "output_dir: /ebio/abt3_projects/software/dev/ll_pipelines/llprimer/experiments/HMP_most-wanted/Oscillibacter/LLG_output/\n",
      "\n",
      "# temporary file directory (your username will be added automatically)\n",
      "tmp_dir: /ebio/abt3_scratch/\n",
      "\n",
      "# batch processing of genomes for certain steps\n",
      "## increase to better parallelize\n",
      "batches: 2 \n",
      "\n",
      "# Domain of genomes ('Archaea' or 'Bacteria)\n",
      "## Use \"Skip\" if provided as a \"Domain\" column in the genome table\n",
      "Domain: Skip\n",
      "\n",
      "# software parameters\n",
      "# Use \"Skip\" to skip any of these steps. If no params for rule, use \"\"\n",
      "# dRep MAGs are not further analyzed, but you can de-rep & then use the de-rep genome table as input.\n",
      "params:\n",
      "  ionice: -c 3\n",
      "  # assembly assessment\n",
      "  seqkit: \"\"\n",
      "  quast: Skip #\"\"\n",
      "  multiqc_on_quast: \"\" \n",
      "  checkm: \"\"\n",
      "  # de-replication (requires checkm)\n",
      "  drep: -comp 90 -con 5 -sa 0.999\n",
      "  # taxonomy\n",
      "  sourmash:\n",
      "    compute: Skip #--scaled 10000 -k 31\n",
      "    gather: -k 31\n",
      "  gtdbtk:\n",
      "    classify_wf: --min_perc_aa 10\n",
      "  # genome pairwise ANI  \n",
      "  fastani: Skip #--fragLen 3000 --minFraction 0.2 -k 16\n",
      "  dashing: Skip #-k 31 --full-tsv\n",
      "  comparem_aai: Skip #--evalue 0.001\n",
      "  # gene annotation\n",
      "  gene_call:\n",
      "    prokka: Skip #\"\" \n",
      "    multiqc_on_prokka: \"\"\n",
      "    prodigal: Skip #\"\"\n",
      "  eggnog_mapper: \"\"\n",
      "  eggnog_mapper_annot: \"\"\n",
      "  # rRNA (16S alignment & phylogeny)\n",
      "  barrnap: Skip #--lencutoff 0.8\n",
      "  vsearch_per_genome_drep: --id 0.95    # Skip to prevent drep of 16S copies within each genome\n",
      "  qiime2_fasttree: \"\"\n",
      "  qiime2_iqtree: --p-alrt 1000 --p-abayes --p-lbp 1000  --p-substitution-model 'GTR+I+G'\n",
      "  # genome phylogeny\n",
      "  phylophlan_config: Skip #--map_dna diamond --db_aa diamond --map_aa diamond --msa mafft --trim trimal --tree1 fasttree --tree2 raxml\n",
      "  phylophlan: --diversity high --min_num_markers 50 --accurate\n",
      "  # phenotype\n",
      "  traitar: Skip #\"\"\n",
      "  # biosynthetic gene clusters (BGCs)\n",
      "  antismash: Skip #--cb-knownclusters --cb-subclusters --asf  \n",
      "  DeepBGC: Skip #--score 0.5 --classifier-score 0.5 --prodigal-meta-mode\n",
      "  # antimicrobial resistance (AMR)\n",
      "  abricate: Skip #--minid 75 --mincov 80\n",
      "  # CRISPRs\n",
      "  cctyper: Skip #--prodigal meta\n",
      "  \n",
      "# databases\n",
      "databases:\n",
      "  checkM_data: /ebio/abt3_projects/databases_no-backup/checkM/\n",
      "  sourmash: /ebio/abt3_projects/databases_no-backup/sourmash/genbank-k31.sbt.json\n",
      "  sourmash_lca: /ebio/abt3_projects/databases_no-backup/sourmash/genbank-k31.lca.json.gz\n",
      "  gtdbtk: /ebio/abt3_projects/databases_no-backup/GTDB/release95/gtdbtk/db_info.md\n",
      "  phylophlan: /ebio/abt3_projects/databases_no-backup/phylophlan/PhyloPhlan/phylophlan.faa.bz2\n",
      "  eggnog: /ebio/abt3_projects/databases_no-backup/Eggnog/v2/eggnog.db\n",
      "  eggnog_diamond: /ebio/abt3_projects/databases_no-backup/Eggnog/v2/eggnog_proteins.dmnd\n",
      "  antismash: /ebio/abt3_projects/databases_no-backup/antismash/v5/\n",
      "  deepbgc: /ebio/abt3_projects/databases_no-backup/DeepBGC/\n",
      "  traitar: /ebio/abt3_projects/databases_no-backup/pfam/traitar/\n",
      "  abricate:\n",
      "    ncbi: /ebio/abt3_projects/databases_no-backup/abricate/ncbi/sequences\n",
      "    card: /ebio/abt3_projects/databases_no-backup/abricate/card/sequences\n",
      "    resfinder: /ebio/abt3_projects/databases_no-backup/abricate/resfinder/sequences\n",
      "    argannot: /ebio/abt3_projects/databases_no-backup/abricate/argannot/sequences\n",
      "    bacmet2: /ebio/abt3_projects/databases_no-backup/abricate/bacmet2/sequences\n",
      "    vfdb: /ebio/abt3_projects/databases_no-backup/abricate/vfdb/sequences\n",
      "    megares: /ebio/abt3_projects/databases_no-backup/abricate/megares/sequences\n",
      "    plasmidfinder: /ebio/abt3_projects/databases_no-backup/abricate/plasmidfinder/sequences\n",
      "\n",
      "# snakemake pipeline\n",
      "pipeline:\n",
      "  snakemake_folder: ./\n",
      "  script_folder: ./bin/scripts/\n",
      "  use_shared_mem: True\n",
      "  name: LLG"
     ]
    }
   ],
   "source": [
    "cat_file(file.path(work_dir, 'config_llg.yaml'))"
   ]
  },
  {
   "cell_type": "markdown",
   "metadata": {
    "execution": {
     "iopub.execute_input": "2021-01-12T13:14:50.416604Z",
     "iopub.status.busy": "2021-01-12T13:14:50.414179Z",
     "iopub.status.idle": "2021-01-12T13:14:50.431925Z",
     "shell.execute_reply": "2021-01-12T13:14:50.430260Z"
    }
   },
   "source": [
    "#### Run\n",
    "\n",
    "```\n",
    "(snakemake) @ rick:/ebio/abt3_projects/software/dev/ll_pipelines/llg\n",
    "$ screen -L -S llg-osc ./snakemake_sge.sh /ebio/abt3_projects/software/dev/ll_pipelines/llprimer/experiments/HMP_most-wanted/Oscillibacter/config_llg.yaml 20 -F\n",
    "```"
   ]
  },
  {
   "cell_type": "markdown",
   "metadata": {
    "execution": {
     "iopub.execute_input": "2021-01-12T13:14:10.995042Z",
     "iopub.status.busy": "2021-01-12T13:14:10.992773Z",
     "iopub.status.idle": "2021-01-12T13:14:11.009275Z",
     "shell.execute_reply": "2021-01-12T13:14:11.008255Z"
    }
   },
   "source": [
    "### Samples table of high-quality genomes"
   ]
  },
  {
   "cell_type": "code",
   "execution_count": 18,
   "metadata": {
    "execution": {
     "iopub.execute_input": "2021-01-12T13:15:13.414505Z",
     "iopub.status.busy": "2021-01-12T13:15:13.411919Z",
     "iopub.status.idle": "2021-01-12T13:15:13.476907Z",
     "shell.execute_reply": "2021-01-12T13:15:13.474424Z"
    }
   },
   "outputs": [
    {
     "data": {
      "text/html": [
       "<table>\n",
       "<caption>A data.frame: 39 × 33</caption>\n",
       "<thead>\n",
       "\t<tr><th scope=col>Bin.Id</th><th scope=col>Marker.lineage</th><th scope=col>X..genomes</th><th scope=col>X..markers</th><th scope=col>X..marker.sets</th><th scope=col>Completeness</th><th scope=col>Contamination</th><th scope=col>Strain.heterogeneity</th><th scope=col>Genome.size..bp.</th><th scope=col>X..ambiguous.bases</th><th scope=col>⋯</th><th scope=col>X0</th><th scope=col>X1</th><th scope=col>X2</th><th scope=col>X3</th><th scope=col>X4</th><th scope=col>X5.</th><th scope=col>assembly.Id</th><th scope=col>assembler.Id</th><th scope=col>taxon.Id</th><th scope=col>File</th></tr>\n",
       "\t<tr><th scope=col>&lt;fct&gt;</th><th scope=col>&lt;fct&gt;</th><th scope=col>&lt;int&gt;</th><th scope=col>&lt;int&gt;</th><th scope=col>&lt;int&gt;</th><th scope=col>&lt;dbl&gt;</th><th scope=col>&lt;dbl&gt;</th><th scope=col>&lt;dbl&gt;</th><th scope=col>&lt;int&gt;</th><th scope=col>&lt;int&gt;</th><th scope=col>⋯</th><th scope=col>&lt;int&gt;</th><th scope=col>&lt;int&gt;</th><th scope=col>&lt;int&gt;</th><th scope=col>&lt;int&gt;</th><th scope=col>&lt;int&gt;</th><th scope=col>&lt;int&gt;</th><th scope=col>&lt;fct&gt;</th><th scope=col>&lt;fct&gt;</th><th scope=col>&lt;lgl&gt;</th><th scope=col>&lt;fct&gt;</th></tr>\n",
       "</thead>\n",
       "<tbody>\n",
       "\t<tr><td>GCA_000283575.1_ASM28357v1_genomic      </td><td>o__Clostridiales (UID1212)</td><td>172</td><td>263</td><td>149</td><td>98.99</td><td>1.01</td><td>0</td><td>4470622</td><td>    0</td><td>⋯</td><td>2</td><td>259</td><td>2</td><td>0</td><td>0</td><td>0</td><td>|ebio|abt3_projects|software|dev|ll_pipelines|llprimer|experiments|HMP_most-wanted|Oscillibacter|LLG_output|checkM|1|checkm|markers_qa_summary.tsv.1</td><td>markers_qa_summary.tsv.1</td><td>NA</td><td>/ebio/abt3_projects/software/dev/ll_pipelines/llprimer/experiments/HMP_most-wanted/Oscillibacter/LLG_output/checkM/1/checkm/markers_qa_summary.tsv.1</td></tr>\n",
       "\t<tr><td>GCA_000403435.2_Osci_bact_1-3_V1_genomic</td><td>o__Clostridiales (UID1212)</td><td>172</td><td>263</td><td>149</td><td>99.33</td><td>1.45</td><td>0</td><td>4467686</td><td>37481</td><td>⋯</td><td>1</td><td>259</td><td>3</td><td>0</td><td>0</td><td>0</td><td>|ebio|abt3_projects|software|dev|ll_pipelines|llprimer|experiments|HMP_most-wanted|Oscillibacter|LLG_output|checkM|1|checkm|markers_qa_summary.tsv.2</td><td>markers_qa_summary.tsv.2</td><td>NA</td><td>/ebio/abt3_projects/software/dev/ll_pipelines/llprimer/experiments/HMP_most-wanted/Oscillibacter/LLG_output/checkM/1/checkm/markers_qa_summary.tsv.2</td></tr>\n",
       "\t<tr><td>⋮</td><td>⋮</td><td>⋮</td><td>⋮</td><td>⋮</td><td>⋮</td><td>⋮</td><td>⋮</td><td>⋮</td><td>⋮</td><td>⋱</td><td>⋮</td><td>⋮</td><td>⋮</td><td>⋮</td><td>⋮</td><td>⋮</td><td>⋮</td><td>⋮</td><td>⋮</td><td>⋮</td></tr>\n",
       "\t<tr><td>GCA_014799915.1_ASM1479991v1_genomic</td><td>o__Clostridiales (UID1212)</td><td>172</td><td>263</td><td>149</td><td>87.74</td><td> 2.35</td><td>50.00</td><td>2875254</td><td>19077</td><td>⋯</td><td>50</td><td>209</td><td> 4</td><td>0</td><td>0</td><td>0</td><td>|ebio|abt3_projects|software|dev|ll_pipelines|llprimer|experiments|HMP_most-wanted|Oscillibacter|LLG_output|checkM|2|checkm|markers_qa_summary.tsv.18</td><td>markers_qa_summary.tsv.18</td><td>NA</td><td>/ebio/abt3_projects/software/dev/ll_pipelines/llprimer/experiments/HMP_most-wanted/Oscillibacter/LLG_output/checkM/2/checkm/markers_qa_summary.tsv.18</td></tr>\n",
       "\t<tr><td>GCA_015052085.1_ASM1505208v1_genomic</td><td>o__Clostridiales (UID1212)</td><td>172</td><td>263</td><td>149</td><td>89.56</td><td>11.63</td><td>82.61</td><td>2465477</td><td>    0</td><td>⋯</td><td>45</td><td>195</td><td>23</td><td>0</td><td>0</td><td>0</td><td>|ebio|abt3_projects|software|dev|ll_pipelines|llprimer|experiments|HMP_most-wanted|Oscillibacter|LLG_output|checkM|2|checkm|markers_qa_summary.tsv.19</td><td>markers_qa_summary.tsv.19</td><td>NA</td><td>/ebio/abt3_projects/software/dev/ll_pipelines/llprimer/experiments/HMP_most-wanted/Oscillibacter/LLG_output/checkM/2/checkm/markers_qa_summary.tsv.19</td></tr>\n",
       "</tbody>\n",
       "</table>\n"
      ],
      "text/latex": [
       "A data.frame: 39 × 33\n",
       "\\begin{tabular}{lllllllllllllllllllll}\n",
       " Bin.Id & Marker.lineage & X..genomes & X..markers & X..marker.sets & Completeness & Contamination & Strain.heterogeneity & Genome.size..bp. & X..ambiguous.bases & ⋯ & X0 & X1 & X2 & X3 & X4 & X5. & assembly.Id & assembler.Id & taxon.Id & File\\\\\n",
       " <fct> & <fct> & <int> & <int> & <int> & <dbl> & <dbl> & <dbl> & <int> & <int> & ⋯ & <int> & <int> & <int> & <int> & <int> & <int> & <fct> & <fct> & <lgl> & <fct>\\\\\n",
       "\\hline\n",
       "\t GCA\\_000283575.1\\_ASM28357v1\\_genomic       & o\\_\\_Clostridiales (UID1212) & 172 & 263 & 149 & 98.99 & 1.01 & 0 & 4470622 &     0 & ⋯ & 2 & 259 & 2 & 0 & 0 & 0 & \\textbar{}ebio\\textbar{}abt3\\_projects\\textbar{}software\\textbar{}dev\\textbar{}ll\\_pipelines\\textbar{}llprimer\\textbar{}experiments\\textbar{}HMP\\_most-wanted\\textbar{}Oscillibacter\\textbar{}LLG\\_output\\textbar{}checkM\\textbar{}1\\textbar{}checkm\\textbar{}markers\\_qa\\_summary.tsv.1 & markers\\_qa\\_summary.tsv.1 & NA & /ebio/abt3\\_projects/software/dev/ll\\_pipelines/llprimer/experiments/HMP\\_most-wanted/Oscillibacter/LLG\\_output/checkM/1/checkm/markers\\_qa\\_summary.tsv.1\\\\\n",
       "\t GCA\\_000403435.2\\_Osci\\_bact\\_1-3\\_V1\\_genomic & o\\_\\_Clostridiales (UID1212) & 172 & 263 & 149 & 99.33 & 1.45 & 0 & 4467686 & 37481 & ⋯ & 1 & 259 & 3 & 0 & 0 & 0 & \\textbar{}ebio\\textbar{}abt3\\_projects\\textbar{}software\\textbar{}dev\\textbar{}ll\\_pipelines\\textbar{}llprimer\\textbar{}experiments\\textbar{}HMP\\_most-wanted\\textbar{}Oscillibacter\\textbar{}LLG\\_output\\textbar{}checkM\\textbar{}1\\textbar{}checkm\\textbar{}markers\\_qa\\_summary.tsv.2 & markers\\_qa\\_summary.tsv.2 & NA & /ebio/abt3\\_projects/software/dev/ll\\_pipelines/llprimer/experiments/HMP\\_most-wanted/Oscillibacter/LLG\\_output/checkM/1/checkm/markers\\_qa\\_summary.tsv.2\\\\\n",
       "\t ⋮ & ⋮ & ⋮ & ⋮ & ⋮ & ⋮ & ⋮ & ⋮ & ⋮ & ⋮ & ⋱ & ⋮ & ⋮ & ⋮ & ⋮ & ⋮ & ⋮ & ⋮ & ⋮ & ⋮ & ⋮\\\\\n",
       "\t GCA\\_014799915.1\\_ASM1479991v1\\_genomic & o\\_\\_Clostridiales (UID1212) & 172 & 263 & 149 & 87.74 &  2.35 & 50.00 & 2875254 & 19077 & ⋯ & 50 & 209 &  4 & 0 & 0 & 0 & \\textbar{}ebio\\textbar{}abt3\\_projects\\textbar{}software\\textbar{}dev\\textbar{}ll\\_pipelines\\textbar{}llprimer\\textbar{}experiments\\textbar{}HMP\\_most-wanted\\textbar{}Oscillibacter\\textbar{}LLG\\_output\\textbar{}checkM\\textbar{}2\\textbar{}checkm\\textbar{}markers\\_qa\\_summary.tsv.18 & markers\\_qa\\_summary.tsv.18 & NA & /ebio/abt3\\_projects/software/dev/ll\\_pipelines/llprimer/experiments/HMP\\_most-wanted/Oscillibacter/LLG\\_output/checkM/2/checkm/markers\\_qa\\_summary.tsv.18\\\\\n",
       "\t GCA\\_015052085.1\\_ASM1505208v1\\_genomic & o\\_\\_Clostridiales (UID1212) & 172 & 263 & 149 & 89.56 & 11.63 & 82.61 & 2465477 &     0 & ⋯ & 45 & 195 & 23 & 0 & 0 & 0 & \\textbar{}ebio\\textbar{}abt3\\_projects\\textbar{}software\\textbar{}dev\\textbar{}ll\\_pipelines\\textbar{}llprimer\\textbar{}experiments\\textbar{}HMP\\_most-wanted\\textbar{}Oscillibacter\\textbar{}LLG\\_output\\textbar{}checkM\\textbar{}2\\textbar{}checkm\\textbar{}markers\\_qa\\_summary.tsv.19 & markers\\_qa\\_summary.tsv.19 & NA & /ebio/abt3\\_projects/software/dev/ll\\_pipelines/llprimer/experiments/HMP\\_most-wanted/Oscillibacter/LLG\\_output/checkM/2/checkm/markers\\_qa\\_summary.tsv.19\\\\\n",
       "\\end{tabular}\n"
      ],
      "text/markdown": [
       "\n",
       "A data.frame: 39 × 33\n",
       "\n",
       "| Bin.Id &lt;fct&gt; | Marker.lineage &lt;fct&gt; | X..genomes &lt;int&gt; | X..markers &lt;int&gt; | X..marker.sets &lt;int&gt; | Completeness &lt;dbl&gt; | Contamination &lt;dbl&gt; | Strain.heterogeneity &lt;dbl&gt; | Genome.size..bp. &lt;int&gt; | X..ambiguous.bases &lt;int&gt; | ⋯ ⋯ | X0 &lt;int&gt; | X1 &lt;int&gt; | X2 &lt;int&gt; | X3 &lt;int&gt; | X4 &lt;int&gt; | X5. &lt;int&gt; | assembly.Id &lt;fct&gt; | assembler.Id &lt;fct&gt; | taxon.Id &lt;lgl&gt; | File &lt;fct&gt; |\n",
       "|---|---|---|---|---|---|---|---|---|---|---|---|---|---|---|---|---|---|---|---|---|\n",
       "| GCA_000283575.1_ASM28357v1_genomic       | o__Clostridiales (UID1212) | 172 | 263 | 149 | 98.99 | 1.01 | 0 | 4470622 |     0 | ⋯ | 2 | 259 | 2 | 0 | 0 | 0 | |ebio|abt3_projects|software|dev|ll_pipelines|llprimer|experiments|HMP_most-wanted|Oscillibacter|LLG_output|checkM|1|checkm|markers_qa_summary.tsv.1 | markers_qa_summary.tsv.1 | NA | /ebio/abt3_projects/software/dev/ll_pipelines/llprimer/experiments/HMP_most-wanted/Oscillibacter/LLG_output/checkM/1/checkm/markers_qa_summary.tsv.1 |\n",
       "| GCA_000403435.2_Osci_bact_1-3_V1_genomic | o__Clostridiales (UID1212) | 172 | 263 | 149 | 99.33 | 1.45 | 0 | 4467686 | 37481 | ⋯ | 1 | 259 | 3 | 0 | 0 | 0 | |ebio|abt3_projects|software|dev|ll_pipelines|llprimer|experiments|HMP_most-wanted|Oscillibacter|LLG_output|checkM|1|checkm|markers_qa_summary.tsv.2 | markers_qa_summary.tsv.2 | NA | /ebio/abt3_projects/software/dev/ll_pipelines/llprimer/experiments/HMP_most-wanted/Oscillibacter/LLG_output/checkM/1/checkm/markers_qa_summary.tsv.2 |\n",
       "| ⋮ | ⋮ | ⋮ | ⋮ | ⋮ | ⋮ | ⋮ | ⋮ | ⋮ | ⋮ | ⋱ | ⋮ | ⋮ | ⋮ | ⋮ | ⋮ | ⋮ | ⋮ | ⋮ | ⋮ | ⋮ |\n",
       "| GCA_014799915.1_ASM1479991v1_genomic | o__Clostridiales (UID1212) | 172 | 263 | 149 | 87.74 |  2.35 | 50.00 | 2875254 | 19077 | ⋯ | 50 | 209 |  4 | 0 | 0 | 0 | |ebio|abt3_projects|software|dev|ll_pipelines|llprimer|experiments|HMP_most-wanted|Oscillibacter|LLG_output|checkM|2|checkm|markers_qa_summary.tsv.18 | markers_qa_summary.tsv.18 | NA | /ebio/abt3_projects/software/dev/ll_pipelines/llprimer/experiments/HMP_most-wanted/Oscillibacter/LLG_output/checkM/2/checkm/markers_qa_summary.tsv.18 |\n",
       "| GCA_015052085.1_ASM1505208v1_genomic | o__Clostridiales (UID1212) | 172 | 263 | 149 | 89.56 | 11.63 | 82.61 | 2465477 |     0 | ⋯ | 45 | 195 | 23 | 0 | 0 | 0 | |ebio|abt3_projects|software|dev|ll_pipelines|llprimer|experiments|HMP_most-wanted|Oscillibacter|LLG_output|checkM|2|checkm|markers_qa_summary.tsv.19 | markers_qa_summary.tsv.19 | NA | /ebio/abt3_projects/software/dev/ll_pipelines/llprimer/experiments/HMP_most-wanted/Oscillibacter/LLG_output/checkM/2/checkm/markers_qa_summary.tsv.19 |\n",
       "\n"
      ],
      "text/plain": [
       "   Bin.Id                                   Marker.lineage            \n",
       "1  GCA_000283575.1_ASM28357v1_genomic       o__Clostridiales (UID1212)\n",
       "2  GCA_000403435.2_Osci_bact_1-3_V1_genomic o__Clostridiales (UID1212)\n",
       "⋮  ⋮                                        ⋮                         \n",
       "38 GCA_014799915.1_ASM1479991v1_genomic     o__Clostridiales (UID1212)\n",
       "39 GCA_015052085.1_ASM1505208v1_genomic     o__Clostridiales (UID1212)\n",
       "   X..genomes X..markers X..marker.sets Completeness Contamination\n",
       "1  172        263        149            98.99        1.01         \n",
       "2  172        263        149            99.33        1.45         \n",
       "⋮  ⋮          ⋮          ⋮              ⋮            ⋮            \n",
       "38 172        263        149            87.74         2.35        \n",
       "39 172        263        149            89.56        11.63        \n",
       "   Strain.heterogeneity Genome.size..bp. X..ambiguous.bases ⋯ X0 X1  X2 X3 X4\n",
       "1  0                    4470622              0              ⋯ 2  259 2  0  0 \n",
       "2  0                    4467686          37481              ⋯ 1  259 3  0  0 \n",
       "⋮  ⋮                    ⋮                ⋮                  ⋱ ⋮  ⋮   ⋮  ⋮  ⋮ \n",
       "38 50.00                2875254          19077              ⋯ 50 209  4 0  0 \n",
       "39 82.61                2465477              0              ⋯ 45 195 23 0  0 \n",
       "   X5.\n",
       "1  0  \n",
       "2  0  \n",
       "⋮  ⋮  \n",
       "38 0  \n",
       "39 0  \n",
       "   assembly.Id                                                                                                                                          \n",
       "1  |ebio|abt3_projects|software|dev|ll_pipelines|llprimer|experiments|HMP_most-wanted|Oscillibacter|LLG_output|checkM|1|checkm|markers_qa_summary.tsv.1 \n",
       "2  |ebio|abt3_projects|software|dev|ll_pipelines|llprimer|experiments|HMP_most-wanted|Oscillibacter|LLG_output|checkM|1|checkm|markers_qa_summary.tsv.2 \n",
       "⋮  ⋮                                                                                                                                                    \n",
       "38 |ebio|abt3_projects|software|dev|ll_pipelines|llprimer|experiments|HMP_most-wanted|Oscillibacter|LLG_output|checkM|2|checkm|markers_qa_summary.tsv.18\n",
       "39 |ebio|abt3_projects|software|dev|ll_pipelines|llprimer|experiments|HMP_most-wanted|Oscillibacter|LLG_output|checkM|2|checkm|markers_qa_summary.tsv.19\n",
       "   assembler.Id              taxon.Id\n",
       "1  markers_qa_summary.tsv.1  NA      \n",
       "2  markers_qa_summary.tsv.2  NA      \n",
       "⋮  ⋮                         ⋮       \n",
       "38 markers_qa_summary.tsv.18 NA      \n",
       "39 markers_qa_summary.tsv.19 NA      \n",
       "   File                                                                                                                                                 \n",
       "1  /ebio/abt3_projects/software/dev/ll_pipelines/llprimer/experiments/HMP_most-wanted/Oscillibacter/LLG_output/checkM/1/checkm/markers_qa_summary.tsv.1 \n",
       "2  /ebio/abt3_projects/software/dev/ll_pipelines/llprimer/experiments/HMP_most-wanted/Oscillibacter/LLG_output/checkM/1/checkm/markers_qa_summary.tsv.2 \n",
       "⋮  ⋮                                                                                                                                                    \n",
       "38 /ebio/abt3_projects/software/dev/ll_pipelines/llprimer/experiments/HMP_most-wanted/Oscillibacter/LLG_output/checkM/2/checkm/markers_qa_summary.tsv.18\n",
       "39 /ebio/abt3_projects/software/dev/ll_pipelines/llprimer/experiments/HMP_most-wanted/Oscillibacter/LLG_output/checkM/2/checkm/markers_qa_summary.tsv.19"
      ]
     },
     "metadata": {},
     "output_type": "display_data"
    }
   ],
   "source": [
    "# checkM summary\n",
    "checkm = file.path(work_dir, 'LLG_output', 'checkM', 'checkm_qa_summary.tsv') %>%\n",
    "    read.delim(sep='\\t') \n",
    "checkm"
   ]
  },
  {
   "cell_type": "code",
   "execution_count": 19,
   "metadata": {
    "execution": {
     "iopub.execute_input": "2021-01-12T13:15:20.576328Z",
     "iopub.status.busy": "2021-01-12T13:15:20.574158Z",
     "iopub.status.idle": "2021-01-12T13:15:20.618848Z",
     "shell.execute_reply": "2021-01-12T13:15:20.611500Z"
    }
   },
   "outputs": [
    {
     "data": {
      "text/html": [
       "<table>\n",
       "<caption>A data.frame: 39 × 4</caption>\n",
       "<thead>\n",
       "\t<tr><th scope=col>genome</th><th scope=col>completeness</th><th scope=col>contamination</th><th scope=col>Bin.Id</th></tr>\n",
       "\t<tr><th scope=col>&lt;fct&gt;</th><th scope=col>&lt;dbl&gt;</th><th scope=col>&lt;dbl&gt;</th><th scope=col>&lt;chr&gt;</th></tr>\n",
       "</thead>\n",
       "<tbody>\n",
       "\t<tr><td>/ebio/abt3_scratch/nyoungblut/LLG_62325884640/genomes/GCA_000283575.1_ASM28357v1_genomic.fna      </td><td>98.99</td><td>1.01</td><td>GCA_000283575.1_ASM28357v1_genomic      </td></tr>\n",
       "\t<tr><td>/ebio/abt3_scratch/nyoungblut/LLG_62325884640/genomes/GCA_000403435.2_Osci_bact_1-3_V1_genomic.fna</td><td>99.33</td><td>1.45</td><td>GCA_000403435.2_Osci_bact_1-3_V1_genomic</td></tr>\n",
       "\t<tr><td>⋮</td><td>⋮</td><td>⋮</td><td>⋮</td></tr>\n",
       "\t<tr><td>/ebio/abt3_scratch/nyoungblut/LLG_62325884640/genomes/GCA_014799915.1_ASM1479991v1_genomic.fna</td><td>87.74</td><td> 2.35</td><td>GCA_014799915.1_ASM1479991v1_genomic</td></tr>\n",
       "\t<tr><td>/ebio/abt3_scratch/nyoungblut/LLG_62325884640/genomes/GCA_015052085.1_ASM1505208v1_genomic.fna</td><td>89.56</td><td>11.63</td><td>GCA_015052085.1_ASM1505208v1_genomic</td></tr>\n",
       "</tbody>\n",
       "</table>\n"
      ],
      "text/latex": [
       "A data.frame: 39 × 4\n",
       "\\begin{tabular}{llll}\n",
       " genome & completeness & contamination & Bin.Id\\\\\n",
       " <fct> & <dbl> & <dbl> & <chr>\\\\\n",
       "\\hline\n",
       "\t /ebio/abt3\\_scratch/nyoungblut/LLG\\_62325884640/genomes/GCA\\_000283575.1\\_ASM28357v1\\_genomic.fna       & 98.99 & 1.01 & GCA\\_000283575.1\\_ASM28357v1\\_genomic      \\\\\n",
       "\t /ebio/abt3\\_scratch/nyoungblut/LLG\\_62325884640/genomes/GCA\\_000403435.2\\_Osci\\_bact\\_1-3\\_V1\\_genomic.fna & 99.33 & 1.45 & GCA\\_000403435.2\\_Osci\\_bact\\_1-3\\_V1\\_genomic\\\\\n",
       "\t ⋮ & ⋮ & ⋮ & ⋮\\\\\n",
       "\t /ebio/abt3\\_scratch/nyoungblut/LLG\\_62325884640/genomes/GCA\\_014799915.1\\_ASM1479991v1\\_genomic.fna & 87.74 &  2.35 & GCA\\_014799915.1\\_ASM1479991v1\\_genomic\\\\\n",
       "\t /ebio/abt3\\_scratch/nyoungblut/LLG\\_62325884640/genomes/GCA\\_015052085.1\\_ASM1505208v1\\_genomic.fna & 89.56 & 11.63 & GCA\\_015052085.1\\_ASM1505208v1\\_genomic\\\\\n",
       "\\end{tabular}\n"
      ],
      "text/markdown": [
       "\n",
       "A data.frame: 39 × 4\n",
       "\n",
       "| genome &lt;fct&gt; | completeness &lt;dbl&gt; | contamination &lt;dbl&gt; | Bin.Id &lt;chr&gt; |\n",
       "|---|---|---|---|\n",
       "| /ebio/abt3_scratch/nyoungblut/LLG_62325884640/genomes/GCA_000283575.1_ASM28357v1_genomic.fna       | 98.99 | 1.01 | GCA_000283575.1_ASM28357v1_genomic       |\n",
       "| /ebio/abt3_scratch/nyoungblut/LLG_62325884640/genomes/GCA_000403435.2_Osci_bact_1-3_V1_genomic.fna | 99.33 | 1.45 | GCA_000403435.2_Osci_bact_1-3_V1_genomic |\n",
       "| ⋮ | ⋮ | ⋮ | ⋮ |\n",
       "| /ebio/abt3_scratch/nyoungblut/LLG_62325884640/genomes/GCA_014799915.1_ASM1479991v1_genomic.fna | 87.74 |  2.35 | GCA_014799915.1_ASM1479991v1_genomic |\n",
       "| /ebio/abt3_scratch/nyoungblut/LLG_62325884640/genomes/GCA_015052085.1_ASM1505208v1_genomic.fna | 89.56 | 11.63 | GCA_015052085.1_ASM1505208v1_genomic |\n",
       "\n"
      ],
      "text/plain": [
       "   genome                                                                                            \n",
       "1  /ebio/abt3_scratch/nyoungblut/LLG_62325884640/genomes/GCA_000283575.1_ASM28357v1_genomic.fna      \n",
       "2  /ebio/abt3_scratch/nyoungblut/LLG_62325884640/genomes/GCA_000403435.2_Osci_bact_1-3_V1_genomic.fna\n",
       "⋮  ⋮                                                                                                 \n",
       "38 /ebio/abt3_scratch/nyoungblut/LLG_62325884640/genomes/GCA_014799915.1_ASM1479991v1_genomic.fna    \n",
       "39 /ebio/abt3_scratch/nyoungblut/LLG_62325884640/genomes/GCA_015052085.1_ASM1505208v1_genomic.fna    \n",
       "   completeness contamination Bin.Id                                  \n",
       "1  98.99        1.01          GCA_000283575.1_ASM28357v1_genomic      \n",
       "2  99.33        1.45          GCA_000403435.2_Osci_bact_1-3_V1_genomic\n",
       "⋮  ⋮            ⋮             ⋮                                       \n",
       "38 87.74         2.35         GCA_014799915.1_ASM1479991v1_genomic    \n",
       "39 89.56        11.63         GCA_015052085.1_ASM1505208v1_genomic    "
      ]
     },
     "metadata": {},
     "output_type": "display_data"
    }
   ],
   "source": [
    "# dRep summary\n",
    "drep = file.path(work_dir, 'LLG_output', 'drep', 'checkm_markers_qa_summary.tsv') %>%\n",
    "    read.delim(sep='\\t') %>%\n",
    "    mutate(Bin.Id = gsub('.+/', '', genome),\n",
    "           Bin.Id = gsub('\\\\.fna$', '', Bin.Id))\n",
    "drep"
   ]
  },
  {
   "cell_type": "code",
   "execution_count": 20,
   "metadata": {
    "execution": {
     "iopub.execute_input": "2021-01-12T13:15:30.384476Z",
     "iopub.status.busy": "2021-01-12T13:15:30.382758Z",
     "iopub.status.idle": "2021-01-12T13:15:30.416833Z",
     "shell.execute_reply": "2021-01-12T13:15:30.415451Z"
    }
   },
   "outputs": [
    {
     "data": {
      "text/html": [
       "<table>\n",
       "<caption>A data.frame: 16 × 2</caption>\n",
       "<thead>\n",
       "\t<tr><th scope=col>Name</th><th scope=col>Fasta</th></tr>\n",
       "\t<tr><th scope=col>&lt;fct&gt;</th><th scope=col>&lt;fct&gt;</th></tr>\n",
       "</thead>\n",
       "<tbody>\n",
       "\t<tr><td>GCA_000765235.1_ASM76523v1_genomic </td><td>/ebio/abt3_projects/software/dev/ll_pipelines/llprimer/experiments/HMP_most-wanted/Oscillibacter/LLG_output/drep/drep/dereplicated_genomes/GCA_000765235.1_ASM76523v1_genomic.fna </td></tr>\n",
       "\t<tr><td>GCA_003525445.1_ASM352544v1_genomic</td><td>/ebio/abt3_projects/software/dev/ll_pipelines/llprimer/experiments/HMP_most-wanted/Oscillibacter/LLG_output/drep/drep/dereplicated_genomes/GCA_003525445.1_ASM352544v1_genomic.fna</td></tr>\n",
       "\t<tr><td>⋮</td><td>⋮</td></tr>\n",
       "\t<tr><td>GCA_001916835.1_ASM191683v1_genomic </td><td>/ebio/abt3_projects/software/dev/ll_pipelines/llprimer/experiments/HMP_most-wanted/Oscillibacter/LLG_output/drep/drep/dereplicated_genomes/GCA_001916835.1_ASM191683v1_genomic.fna </td></tr>\n",
       "\t<tr><td>GCA_014799925.1_ASM1479992v1_genomic</td><td>/ebio/abt3_projects/software/dev/ll_pipelines/llprimer/experiments/HMP_most-wanted/Oscillibacter/LLG_output/drep/drep/dereplicated_genomes/GCA_014799925.1_ASM1479992v1_genomic.fna</td></tr>\n",
       "</tbody>\n",
       "</table>\n"
      ],
      "text/latex": [
       "A data.frame: 16 × 2\n",
       "\\begin{tabular}{ll}\n",
       " Name & Fasta\\\\\n",
       " <fct> & <fct>\\\\\n",
       "\\hline\n",
       "\t GCA\\_000765235.1\\_ASM76523v1\\_genomic  & /ebio/abt3\\_projects/software/dev/ll\\_pipelines/llprimer/experiments/HMP\\_most-wanted/Oscillibacter/LLG\\_output/drep/drep/dereplicated\\_genomes/GCA\\_000765235.1\\_ASM76523v1\\_genomic.fna \\\\\n",
       "\t GCA\\_003525445.1\\_ASM352544v1\\_genomic & /ebio/abt3\\_projects/software/dev/ll\\_pipelines/llprimer/experiments/HMP\\_most-wanted/Oscillibacter/LLG\\_output/drep/drep/dereplicated\\_genomes/GCA\\_003525445.1\\_ASM352544v1\\_genomic.fna\\\\\n",
       "\t ⋮ & ⋮\\\\\n",
       "\t GCA\\_001916835.1\\_ASM191683v1\\_genomic  & /ebio/abt3\\_projects/software/dev/ll\\_pipelines/llprimer/experiments/HMP\\_most-wanted/Oscillibacter/LLG\\_output/drep/drep/dereplicated\\_genomes/GCA\\_001916835.1\\_ASM191683v1\\_genomic.fna \\\\\n",
       "\t GCA\\_014799925.1\\_ASM1479992v1\\_genomic & /ebio/abt3\\_projects/software/dev/ll\\_pipelines/llprimer/experiments/HMP\\_most-wanted/Oscillibacter/LLG\\_output/drep/drep/dereplicated\\_genomes/GCA\\_014799925.1\\_ASM1479992v1\\_genomic.fna\\\\\n",
       "\\end{tabular}\n"
      ],
      "text/markdown": [
       "\n",
       "A data.frame: 16 × 2\n",
       "\n",
       "| Name &lt;fct&gt; | Fasta &lt;fct&gt; |\n",
       "|---|---|\n",
       "| GCA_000765235.1_ASM76523v1_genomic  | /ebio/abt3_projects/software/dev/ll_pipelines/llprimer/experiments/HMP_most-wanted/Oscillibacter/LLG_output/drep/drep/dereplicated_genomes/GCA_000765235.1_ASM76523v1_genomic.fna  |\n",
       "| GCA_003525445.1_ASM352544v1_genomic | /ebio/abt3_projects/software/dev/ll_pipelines/llprimer/experiments/HMP_most-wanted/Oscillibacter/LLG_output/drep/drep/dereplicated_genomes/GCA_003525445.1_ASM352544v1_genomic.fna |\n",
       "| ⋮ | ⋮ |\n",
       "| GCA_001916835.1_ASM191683v1_genomic  | /ebio/abt3_projects/software/dev/ll_pipelines/llprimer/experiments/HMP_most-wanted/Oscillibacter/LLG_output/drep/drep/dereplicated_genomes/GCA_001916835.1_ASM191683v1_genomic.fna  |\n",
       "| GCA_014799925.1_ASM1479992v1_genomic | /ebio/abt3_projects/software/dev/ll_pipelines/llprimer/experiments/HMP_most-wanted/Oscillibacter/LLG_output/drep/drep/dereplicated_genomes/GCA_014799925.1_ASM1479992v1_genomic.fna |\n",
       "\n"
      ],
      "text/plain": [
       "   Name                                \n",
       "1  GCA_000765235.1_ASM76523v1_genomic  \n",
       "2  GCA_003525445.1_ASM352544v1_genomic \n",
       "⋮  ⋮                                   \n",
       "15 GCA_001916835.1_ASM191683v1_genomic \n",
       "16 GCA_014799925.1_ASM1479992v1_genomic\n",
       "   Fasta                                                                                                                                                                              \n",
       "1  /ebio/abt3_projects/software/dev/ll_pipelines/llprimer/experiments/HMP_most-wanted/Oscillibacter/LLG_output/drep/drep/dereplicated_genomes/GCA_000765235.1_ASM76523v1_genomic.fna  \n",
       "2  /ebio/abt3_projects/software/dev/ll_pipelines/llprimer/experiments/HMP_most-wanted/Oscillibacter/LLG_output/drep/drep/dereplicated_genomes/GCA_003525445.1_ASM352544v1_genomic.fna \n",
       "⋮  ⋮                                                                                                                                                                                  \n",
       "15 /ebio/abt3_projects/software/dev/ll_pipelines/llprimer/experiments/HMP_most-wanted/Oscillibacter/LLG_output/drep/drep/dereplicated_genomes/GCA_001916835.1_ASM191683v1_genomic.fna \n",
       "16 /ebio/abt3_projects/software/dev/ll_pipelines/llprimer/experiments/HMP_most-wanted/Oscillibacter/LLG_output/drep/drep/dereplicated_genomes/GCA_014799925.1_ASM1479992v1_genomic.fna"
      ]
     },
     "metadata": {},
     "output_type": "display_data"
    }
   ],
   "source": [
    "# de-replicated genomes\n",
    "drep_gen = file.path(work_dir, 'LLG_output', 'drep', 'dereplicated_genomes.tsv') %>%\n",
    "    read.delim(sep='\\t')\n",
    "drep_gen"
   ]
  },
  {
   "cell_type": "code",
   "execution_count": 21,
   "metadata": {
    "execution": {
     "iopub.execute_input": "2021-01-12T13:15:39.688311Z",
     "iopub.status.busy": "2021-01-12T13:15:39.686178Z",
     "iopub.status.idle": "2021-01-12T13:15:39.783115Z",
     "shell.execute_reply": "2021-01-12T13:15:39.781696Z"
    }
   },
   "outputs": [
    {
     "data": {
      "text/html": [
       "<table>\n",
       "<caption>A data.frame: 39 × 22</caption>\n",
       "<thead>\n",
       "\t<tr><th scope=col>user_genome</th><th scope=col>Domain</th><th scope=col>Phylum</th><th scope=col>Class</th><th scope=col>Order</th><th scope=col>Family</th><th scope=col>Genus</th><th scope=col>Species</th><th scope=col>fastani_reference</th><th scope=col>fastani_reference_radius</th><th scope=col>⋯</th><th scope=col>fastani_af</th><th scope=col>closest_placement_reference</th><th scope=col>closest_placement_radius</th><th scope=col>closest_placement_taxonomy</th><th scope=col>closest_placement_ani</th><th scope=col>closest_placement_af</th><th scope=col>msa_percent</th><th scope=col>translation_table</th><th scope=col>red_value</th><th scope=col>warnings</th></tr>\n",
       "\t<tr><th scope=col>&lt;fct&gt;</th><th scope=col>&lt;chr&gt;</th><th scope=col>&lt;chr&gt;</th><th scope=col>&lt;chr&gt;</th><th scope=col>&lt;chr&gt;</th><th scope=col>&lt;chr&gt;</th><th scope=col>&lt;chr&gt;</th><th scope=col>&lt;chr&gt;</th><th scope=col>&lt;fct&gt;</th><th scope=col>&lt;fct&gt;</th><th scope=col>⋯</th><th scope=col>&lt;fct&gt;</th><th scope=col>&lt;fct&gt;</th><th scope=col>&lt;fct&gt;</th><th scope=col>&lt;fct&gt;</th><th scope=col>&lt;fct&gt;</th><th scope=col>&lt;fct&gt;</th><th scope=col>&lt;dbl&gt;</th><th scope=col>&lt;int&gt;</th><th scope=col>&lt;fct&gt;</th><th scope=col>&lt;fct&gt;</th></tr>\n",
       "</thead>\n",
       "<tbody>\n",
       "\t<tr><td>GCA_000283575.1_ASM28357v1_genomic      </td><td>d__Bacteria</td><td>p__Firmicutes_A</td><td>c__Clostridia</td><td>o__Oscillospirales</td><td>f__Oscillospiraceae</td><td>g__Oscillibacter</td><td>s__Oscillibacter valericigenes</td><td>GCF_000283575.1</td><td>95.0</td><td>⋯</td><td>1.0 </td><td>GCF_000283575.1</td><td>95.0</td><td>d__Bacteria;p__Firmicutes_A;c__Clostridia;o__Oscillospirales;f__Oscillospiraceae;g__Oscillibacter;s__Oscillibacter valericigenes</td><td>100.0</td><td>1.0 </td><td>95.38</td><td>11</td><td>N/A</td><td>N/A</td></tr>\n",
       "\t<tr><td>GCA_000403435.2_Osci_bact_1-3_V1_genomic</td><td>d__Bacteria</td><td>p__Firmicutes_A</td><td>c__Clostridia</td><td>o__Oscillospirales</td><td>f__Oscillospiraceae</td><td>g__Oscillibacter</td><td>s__Oscillibacter sp000403435  </td><td>GCF_000403435.2</td><td>95.0</td><td>⋯</td><td>0.99</td><td>GCF_000403435.2</td><td>95.0</td><td>d__Bacteria;p__Firmicutes_A;c__Clostridia;o__Oscillospirales;f__Oscillospiraceae;g__Oscillibacter;s__Oscillibacter sp000403435  </td><td>99.99</td><td>0.99</td><td>95.67</td><td>11</td><td>N/A</td><td>N/A</td></tr>\n",
       "\t<tr><td>⋮</td><td>⋮</td><td>⋮</td><td>⋮</td><td>⋮</td><td>⋮</td><td>⋮</td><td>⋮</td><td>⋮</td><td>⋮</td><td>⋱</td><td>⋮</td><td>⋮</td><td>⋮</td><td>⋮</td><td>⋮</td><td>⋮</td><td>⋮</td><td>⋮</td><td>⋮</td><td>⋮</td></tr>\n",
       "\t<tr><td>GCA_014799915.1_ASM1479991v1_genomic</td><td>d__Bacteria</td><td>p__Firmicutes_A</td><td>c__Clostridia</td><td>o__Oscillospirales</td><td>f__Oscillospiraceae</td><td>g__             </td><td>s__                       </td><td>N/A            </td><td>N/A </td><td>⋯</td><td>N/A </td><td>N/A            </td><td>N/A </td><td>N/A                                                                                                                         </td><td>N/A  </td><td>N/A </td><td>79.35</td><td>11</td><td>0.9173648727242681</td><td>N/A</td></tr>\n",
       "\t<tr><td>GCA_015052085.1_ASM1505208v1_genomic</td><td>d__Bacteria</td><td>p__Firmicutes_A</td><td>c__Clostridia</td><td>o__Oscillospirales</td><td>f__Oscillospiraceae</td><td>g__Oscillibacter</td><td>s__Oscillibacter welbionis</td><td>GCF_005121165.1</td><td>95.0</td><td>⋯</td><td>0.88</td><td>GCF_005121165.1</td><td>95.0</td><td>d__Bacteria;p__Firmicutes_A;c__Clostridia;o__Oscillospirales;f__Oscillospiraceae;g__Oscillibacter;s__Oscillibacter welbionis</td><td>98.68</td><td>0.88</td><td>76.73</td><td>11</td><td>N/A               </td><td>N/A</td></tr>\n",
       "</tbody>\n",
       "</table>\n"
      ],
      "text/latex": [
       "A data.frame: 39 × 22\n",
       "\\begin{tabular}{lllllllllllllllllllll}\n",
       " user\\_genome & Domain & Phylum & Class & Order & Family & Genus & Species & fastani\\_reference & fastani\\_reference\\_radius & ⋯ & fastani\\_af & closest\\_placement\\_reference & closest\\_placement\\_radius & closest\\_placement\\_taxonomy & closest\\_placement\\_ani & closest\\_placement\\_af & msa\\_percent & translation\\_table & red\\_value & warnings\\\\\n",
       " <fct> & <chr> & <chr> & <chr> & <chr> & <chr> & <chr> & <chr> & <fct> & <fct> & ⋯ & <fct> & <fct> & <fct> & <fct> & <fct> & <fct> & <dbl> & <int> & <fct> & <fct>\\\\\n",
       "\\hline\n",
       "\t GCA\\_000283575.1\\_ASM28357v1\\_genomic       & d\\_\\_Bacteria & p\\_\\_Firmicutes\\_A & c\\_\\_Clostridia & o\\_\\_Oscillospirales & f\\_\\_Oscillospiraceae & g\\_\\_Oscillibacter & s\\_\\_Oscillibacter valericigenes & GCF\\_000283575.1 & 95.0 & ⋯ & 1.0  & GCF\\_000283575.1 & 95.0 & d\\_\\_Bacteria;p\\_\\_Firmicutes\\_A;c\\_\\_Clostridia;o\\_\\_Oscillospirales;f\\_\\_Oscillospiraceae;g\\_\\_Oscillibacter;s\\_\\_Oscillibacter valericigenes & 100.0 & 1.0  & 95.38 & 11 & N/A & N/A\\\\\n",
       "\t GCA\\_000403435.2\\_Osci\\_bact\\_1-3\\_V1\\_genomic & d\\_\\_Bacteria & p\\_\\_Firmicutes\\_A & c\\_\\_Clostridia & o\\_\\_Oscillospirales & f\\_\\_Oscillospiraceae & g\\_\\_Oscillibacter & s\\_\\_Oscillibacter sp000403435   & GCF\\_000403435.2 & 95.0 & ⋯ & 0.99 & GCF\\_000403435.2 & 95.0 & d\\_\\_Bacteria;p\\_\\_Firmicutes\\_A;c\\_\\_Clostridia;o\\_\\_Oscillospirales;f\\_\\_Oscillospiraceae;g\\_\\_Oscillibacter;s\\_\\_Oscillibacter sp000403435   & 99.99 & 0.99 & 95.67 & 11 & N/A & N/A\\\\\n",
       "\t ⋮ & ⋮ & ⋮ & ⋮ & ⋮ & ⋮ & ⋮ & ⋮ & ⋮ & ⋮ & ⋱ & ⋮ & ⋮ & ⋮ & ⋮ & ⋮ & ⋮ & ⋮ & ⋮ & ⋮ & ⋮\\\\\n",
       "\t GCA\\_014799915.1\\_ASM1479991v1\\_genomic & d\\_\\_Bacteria & p\\_\\_Firmicutes\\_A & c\\_\\_Clostridia & o\\_\\_Oscillospirales & f\\_\\_Oscillospiraceae & g\\_\\_              & s\\_\\_                        & N/A             & N/A  & ⋯ & N/A  & N/A             & N/A  & N/A                                                                                                                          & N/A   & N/A  & 79.35 & 11 & 0.9173648727242681 & N/A\\\\\n",
       "\t GCA\\_015052085.1\\_ASM1505208v1\\_genomic & d\\_\\_Bacteria & p\\_\\_Firmicutes\\_A & c\\_\\_Clostridia & o\\_\\_Oscillospirales & f\\_\\_Oscillospiraceae & g\\_\\_Oscillibacter & s\\_\\_Oscillibacter welbionis & GCF\\_005121165.1 & 95.0 & ⋯ & 0.88 & GCF\\_005121165.1 & 95.0 & d\\_\\_Bacteria;p\\_\\_Firmicutes\\_A;c\\_\\_Clostridia;o\\_\\_Oscillospirales;f\\_\\_Oscillospiraceae;g\\_\\_Oscillibacter;s\\_\\_Oscillibacter welbionis & 98.68 & 0.88 & 76.73 & 11 & N/A                & N/A\\\\\n",
       "\\end{tabular}\n"
      ],
      "text/markdown": [
       "\n",
       "A data.frame: 39 × 22\n",
       "\n",
       "| user_genome &lt;fct&gt; | Domain &lt;chr&gt; | Phylum &lt;chr&gt; | Class &lt;chr&gt; | Order &lt;chr&gt; | Family &lt;chr&gt; | Genus &lt;chr&gt; | Species &lt;chr&gt; | fastani_reference &lt;fct&gt; | fastani_reference_radius &lt;fct&gt; | ⋯ ⋯ | fastani_af &lt;fct&gt; | closest_placement_reference &lt;fct&gt; | closest_placement_radius &lt;fct&gt; | closest_placement_taxonomy &lt;fct&gt; | closest_placement_ani &lt;fct&gt; | closest_placement_af &lt;fct&gt; | msa_percent &lt;dbl&gt; | translation_table &lt;int&gt; | red_value &lt;fct&gt; | warnings &lt;fct&gt; |\n",
       "|---|---|---|---|---|---|---|---|---|---|---|---|---|---|---|---|---|---|---|---|---|\n",
       "| GCA_000283575.1_ASM28357v1_genomic       | d__Bacteria | p__Firmicutes_A | c__Clostridia | o__Oscillospirales | f__Oscillospiraceae | g__Oscillibacter | s__Oscillibacter valericigenes | GCF_000283575.1 | 95.0 | ⋯ | 1.0  | GCF_000283575.1 | 95.0 | d__Bacteria;p__Firmicutes_A;c__Clostridia;o__Oscillospirales;f__Oscillospiraceae;g__Oscillibacter;s__Oscillibacter valericigenes | 100.0 | 1.0  | 95.38 | 11 | N/A | N/A |\n",
       "| GCA_000403435.2_Osci_bact_1-3_V1_genomic | d__Bacteria | p__Firmicutes_A | c__Clostridia | o__Oscillospirales | f__Oscillospiraceae | g__Oscillibacter | s__Oscillibacter sp000403435   | GCF_000403435.2 | 95.0 | ⋯ | 0.99 | GCF_000403435.2 | 95.0 | d__Bacteria;p__Firmicutes_A;c__Clostridia;o__Oscillospirales;f__Oscillospiraceae;g__Oscillibacter;s__Oscillibacter sp000403435   | 99.99 | 0.99 | 95.67 | 11 | N/A | N/A |\n",
       "| ⋮ | ⋮ | ⋮ | ⋮ | ⋮ | ⋮ | ⋮ | ⋮ | ⋮ | ⋮ | ⋱ | ⋮ | ⋮ | ⋮ | ⋮ | ⋮ | ⋮ | ⋮ | ⋮ | ⋮ | ⋮ |\n",
       "| GCA_014799915.1_ASM1479991v1_genomic | d__Bacteria | p__Firmicutes_A | c__Clostridia | o__Oscillospirales | f__Oscillospiraceae | g__              | s__                        | N/A             | N/A  | ⋯ | N/A  | N/A             | N/A  | N/A                                                                                                                          | N/A   | N/A  | 79.35 | 11 | 0.9173648727242681 | N/A |\n",
       "| GCA_015052085.1_ASM1505208v1_genomic | d__Bacteria | p__Firmicutes_A | c__Clostridia | o__Oscillospirales | f__Oscillospiraceae | g__Oscillibacter | s__Oscillibacter welbionis | GCF_005121165.1 | 95.0 | ⋯ | 0.88 | GCF_005121165.1 | 95.0 | d__Bacteria;p__Firmicutes_A;c__Clostridia;o__Oscillospirales;f__Oscillospiraceae;g__Oscillibacter;s__Oscillibacter welbionis | 98.68 | 0.88 | 76.73 | 11 | N/A                | N/A |\n",
       "\n"
      ],
      "text/plain": [
       "   user_genome                              Domain      Phylum         \n",
       "1  GCA_000283575.1_ASM28357v1_genomic       d__Bacteria p__Firmicutes_A\n",
       "2  GCA_000403435.2_Osci_bact_1-3_V1_genomic d__Bacteria p__Firmicutes_A\n",
       "⋮  ⋮                                        ⋮           ⋮              \n",
       "38 GCA_014799915.1_ASM1479991v1_genomic     d__Bacteria p__Firmicutes_A\n",
       "39 GCA_015052085.1_ASM1505208v1_genomic     d__Bacteria p__Firmicutes_A\n",
       "   Class         Order              Family              Genus           \n",
       "1  c__Clostridia o__Oscillospirales f__Oscillospiraceae g__Oscillibacter\n",
       "2  c__Clostridia o__Oscillospirales f__Oscillospiraceae g__Oscillibacter\n",
       "⋮  ⋮             ⋮                  ⋮                   ⋮               \n",
       "38 c__Clostridia o__Oscillospirales f__Oscillospiraceae g__             \n",
       "39 c__Clostridia o__Oscillospirales f__Oscillospiraceae g__Oscillibacter\n",
       "   Species                        fastani_reference fastani_reference_radius ⋯\n",
       "1  s__Oscillibacter valericigenes GCF_000283575.1   95.0                     ⋯\n",
       "2  s__Oscillibacter sp000403435   GCF_000403435.2   95.0                     ⋯\n",
       "⋮  ⋮                              ⋮                 ⋮                        ⋱\n",
       "38 s__                            N/A               N/A                      ⋯\n",
       "39 s__Oscillibacter welbionis     GCF_005121165.1   95.0                     ⋯\n",
       "   fastani_af closest_placement_reference closest_placement_radius\n",
       "1  1.0        GCF_000283575.1             95.0                    \n",
       "2  0.99       GCF_000403435.2             95.0                    \n",
       "⋮  ⋮          ⋮                           ⋮                       \n",
       "38 N/A        N/A                         N/A                     \n",
       "39 0.88       GCF_005121165.1             95.0                    \n",
       "   closest_placement_taxonomy                                                                                                      \n",
       "1  d__Bacteria;p__Firmicutes_A;c__Clostridia;o__Oscillospirales;f__Oscillospiraceae;g__Oscillibacter;s__Oscillibacter valericigenes\n",
       "2  d__Bacteria;p__Firmicutes_A;c__Clostridia;o__Oscillospirales;f__Oscillospiraceae;g__Oscillibacter;s__Oscillibacter sp000403435  \n",
       "⋮  ⋮                                                                                                                               \n",
       "38 N/A                                                                                                                             \n",
       "39 d__Bacteria;p__Firmicutes_A;c__Clostridia;o__Oscillospirales;f__Oscillospiraceae;g__Oscillibacter;s__Oscillibacter welbionis    \n",
       "   closest_placement_ani closest_placement_af msa_percent translation_table\n",
       "1  100.0                 1.0                  95.38       11               \n",
       "2  99.99                 0.99                 95.67       11               \n",
       "⋮  ⋮                     ⋮                    ⋮           ⋮                \n",
       "38 N/A                   N/A                  79.35       11               \n",
       "39 98.68                 0.88                 76.73       11               \n",
       "   red_value          warnings\n",
       "1  N/A                N/A     \n",
       "2  N/A                N/A     \n",
       "⋮  ⋮                  ⋮       \n",
       "38 0.9173648727242681 N/A     \n",
       "39 N/A                N/A     "
      ]
     },
     "metadata": {},
     "output_type": "display_data"
    }
   ],
   "source": [
    "# GTDBTk summary\n",
    "tax = file.path(work_dir, 'LLG_output', 'gtdbtk', 'gtdbtk_bac_summary.tsv') %>%\n",
    "    read.delim(, sep='\\t') %>%\n",
    "    separate(classification, \n",
    "             c('Domain', 'Phylum', 'Class', 'Order', 'Family', 'Genus', 'Species'),\n",
    "             sep=';') %>%\n",
    "    select(-note, -classification_method, -pplacer_taxonomy,\n",
    "           -other_related_references.genome_id.species_name.radius.ANI.AF.)\n",
    "tax"
   ]
  },
  {
   "cell_type": "code",
   "execution_count": 22,
   "metadata": {
    "execution": {
     "iopub.execute_input": "2021-01-12T13:15:44.157472Z",
     "iopub.status.busy": "2021-01-12T13:15:44.155166Z",
     "iopub.status.idle": "2021-01-12T13:15:44.192494Z",
     "shell.execute_reply": "2021-01-12T13:15:44.191119Z"
    }
   },
   "outputs": [
    {
     "name": "stdout",
     "output_type": "stream",
     "text": [
      "-- drep --\n",
      "intersect(x,y): 16 \n",
      "setdiff(x,y): 0 \n",
      "setdiff(y,x): 23 \n",
      "union(x,y): 39 \n",
      "-- checkm --\n",
      "intersect(x,y): 39 \n",
      "setdiff(x,y): 0 \n",
      "setdiff(y,x): 0 \n",
      "union(x,y): 39 \n",
      "-- gtdbtk --\n",
      "intersect(x,y): 39 \n",
      "setdiff(x,y): 0 \n",
      "setdiff(y,x): 0 \n",
      "union(x,y): 39 \n"
     ]
    }
   ],
   "source": [
    "# checking overlap\n",
    "cat('-- drep --\\n')\n",
    "overlap(basename(as.character(drep_gen$Fasta)), \n",
    "        basename(as.character(drep$genome)))\n",
    "cat('-- checkm --\\n')\n",
    "overlap(drep$Bin.Id, checkm$Bin.Id)\n",
    "cat('-- gtdbtk --\\n')\n",
    "overlap(drep$Bin.Id, tax$user_genome)"
   ]
  },
  {
   "cell_type": "code",
   "execution_count": 23,
   "metadata": {
    "execution": {
     "iopub.execute_input": "2021-01-12T13:15:51.635180Z",
     "iopub.status.busy": "2021-01-12T13:15:51.632825Z",
     "iopub.status.idle": "2021-01-12T13:15:51.727243Z",
     "shell.execute_reply": "2021-01-12T13:15:51.726428Z"
    }
   },
   "outputs": [
    {
     "data": {
      "text/html": [
       "<table>\n",
       "<caption>A data.frame: 16 × 60</caption>\n",
       "<thead>\n",
       "\t<tr><th scope=col>genome</th><th scope=col>completeness</th><th scope=col>contamination</th><th scope=col>Bin.Id</th><th scope=col>Marker.lineage</th><th scope=col>X..genomes</th><th scope=col>X..markers</th><th scope=col>X..marker.sets</th><th scope=col>Completeness</th><th scope=col>Contamination</th><th scope=col>⋯</th><th scope=col>fastani_af</th><th scope=col>closest_placement_reference</th><th scope=col>closest_placement_radius</th><th scope=col>closest_placement_taxonomy</th><th scope=col>closest_placement_ani</th><th scope=col>closest_placement_af</th><th scope=col>msa_percent</th><th scope=col>translation_table</th><th scope=col>red_value</th><th scope=col>warnings</th></tr>\n",
       "\t<tr><th scope=col>&lt;fct&gt;</th><th scope=col>&lt;dbl&gt;</th><th scope=col>&lt;dbl&gt;</th><th scope=col>&lt;chr&gt;</th><th scope=col>&lt;fct&gt;</th><th scope=col>&lt;int&gt;</th><th scope=col>&lt;int&gt;</th><th scope=col>&lt;int&gt;</th><th scope=col>&lt;dbl&gt;</th><th scope=col>&lt;dbl&gt;</th><th scope=col>⋯</th><th scope=col>&lt;fct&gt;</th><th scope=col>&lt;fct&gt;</th><th scope=col>&lt;fct&gt;</th><th scope=col>&lt;fct&gt;</th><th scope=col>&lt;fct&gt;</th><th scope=col>&lt;fct&gt;</th><th scope=col>&lt;dbl&gt;</th><th scope=col>&lt;int&gt;</th><th scope=col>&lt;fct&gt;</th><th scope=col>&lt;fct&gt;</th></tr>\n",
       "</thead>\n",
       "<tbody>\n",
       "\t<tr><td>/ebio/abt3_scratch/nyoungblut/LLG_62325884640/genomes/GCA_000283575.1_ASM28357v1_genomic.fna      </td><td>98.99</td><td>1.01</td><td>GCA_000283575.1_ASM28357v1_genomic      </td><td>o__Clostridiales (UID1212)</td><td>172</td><td>263</td><td>149</td><td>98.99</td><td>1.01</td><td>⋯</td><td>1.0 </td><td>GCF_000283575.1</td><td>95.0</td><td>d__Bacteria;p__Firmicutes_A;c__Clostridia;o__Oscillospirales;f__Oscillospiraceae;g__Oscillibacter;s__Oscillibacter valericigenes</td><td>100.0</td><td>1.0 </td><td>95.38</td><td>11</td><td>N/A</td><td>N/A</td></tr>\n",
       "\t<tr><td>/ebio/abt3_scratch/nyoungblut/LLG_62325884640/genomes/GCA_000403435.2_Osci_bact_1-3_V1_genomic.fna</td><td>99.33</td><td>1.45</td><td>GCA_000403435.2_Osci_bact_1-3_V1_genomic</td><td>o__Clostridiales (UID1212)</td><td>172</td><td>263</td><td>149</td><td>99.33</td><td>1.45</td><td>⋯</td><td>0.99</td><td>GCF_000403435.2</td><td>95.0</td><td>d__Bacteria;p__Firmicutes_A;c__Clostridia;o__Oscillospirales;f__Oscillospiraceae;g__Oscillibacter;s__Oscillibacter sp000403435  </td><td>99.99</td><td>0.99</td><td>95.67</td><td>11</td><td>N/A</td><td>N/A</td></tr>\n",
       "\t<tr><td>⋮</td><td>⋮</td><td>⋮</td><td>⋮</td><td>⋮</td><td>⋮</td><td>⋮</td><td>⋮</td><td>⋮</td><td>⋮</td><td>⋱</td><td>⋮</td><td>⋮</td><td>⋮</td><td>⋮</td><td>⋮</td><td>⋮</td><td>⋮</td><td>⋮</td><td>⋮</td><td>⋮</td></tr>\n",
       "\t<tr><td>/ebio/abt3_scratch/nyoungblut/LLG_62325884640/genomes/GCA_003497655.1_ASM349765v1_genomic.fna</td><td>91.14</td><td>0.00</td><td>GCA_003497655.1_ASM349765v1_genomic</td><td>o__Clostridiales (UID1212)</td><td>172</td><td>263</td><td>149</td><td>91.14</td><td>0.00</td><td>⋯</td><td>0.82</td><td>GCF_000765235.1</td><td>95.0</td><td>d__Bacteria;p__Firmicutes_A;c__Clostridia;o__Oscillospirales;f__Oscillospiraceae;g__ER4;s__ER4 sp000765235                    </td><td>96.71</td><td>0.82</td><td>91.90</td><td>11</td><td>N/A               </td><td>N/A</td></tr>\n",
       "\t<tr><td>/ebio/abt3_scratch/nyoungblut/LLG_62325884640/genomes/GCA_009774015.1_ASM977401v1_genomic.fna</td><td>91.03</td><td>3.68</td><td>GCA_009774015.1_ASM977401v1_genomic</td><td>o__Clostridiales (UID1212)</td><td>172</td><td>263</td><td>149</td><td>91.03</td><td>3.68</td><td>⋯</td><td>N/A </td><td>GCF_000403435.2</td><td>95.0</td><td>d__Bacteria;p__Firmicutes_A;c__Clostridia;o__Oscillospirales;f__Oscillospiraceae;g__Oscillibacter;s__Oscillibacter sp000403435</td><td>82.6 </td><td>0.59</td><td>83.51</td><td>11</td><td>0.9623815263719147</td><td>N/A</td></tr>\n",
       "</tbody>\n",
       "</table>\n"
      ],
      "text/latex": [
       "A data.frame: 16 × 60\n",
       "\\begin{tabular}{lllllllllllllllllllll}\n",
       " genome & completeness & contamination & Bin.Id & Marker.lineage & X..genomes & X..markers & X..marker.sets & Completeness & Contamination & ⋯ & fastani\\_af & closest\\_placement\\_reference & closest\\_placement\\_radius & closest\\_placement\\_taxonomy & closest\\_placement\\_ani & closest\\_placement\\_af & msa\\_percent & translation\\_table & red\\_value & warnings\\\\\n",
       " <fct> & <dbl> & <dbl> & <chr> & <fct> & <int> & <int> & <int> & <dbl> & <dbl> & ⋯ & <fct> & <fct> & <fct> & <fct> & <fct> & <fct> & <dbl> & <int> & <fct> & <fct>\\\\\n",
       "\\hline\n",
       "\t /ebio/abt3\\_scratch/nyoungblut/LLG\\_62325884640/genomes/GCA\\_000283575.1\\_ASM28357v1\\_genomic.fna       & 98.99 & 1.01 & GCA\\_000283575.1\\_ASM28357v1\\_genomic       & o\\_\\_Clostridiales (UID1212) & 172 & 263 & 149 & 98.99 & 1.01 & ⋯ & 1.0  & GCF\\_000283575.1 & 95.0 & d\\_\\_Bacteria;p\\_\\_Firmicutes\\_A;c\\_\\_Clostridia;o\\_\\_Oscillospirales;f\\_\\_Oscillospiraceae;g\\_\\_Oscillibacter;s\\_\\_Oscillibacter valericigenes & 100.0 & 1.0  & 95.38 & 11 & N/A & N/A\\\\\n",
       "\t /ebio/abt3\\_scratch/nyoungblut/LLG\\_62325884640/genomes/GCA\\_000403435.2\\_Osci\\_bact\\_1-3\\_V1\\_genomic.fna & 99.33 & 1.45 & GCA\\_000403435.2\\_Osci\\_bact\\_1-3\\_V1\\_genomic & o\\_\\_Clostridiales (UID1212) & 172 & 263 & 149 & 99.33 & 1.45 & ⋯ & 0.99 & GCF\\_000403435.2 & 95.0 & d\\_\\_Bacteria;p\\_\\_Firmicutes\\_A;c\\_\\_Clostridia;o\\_\\_Oscillospirales;f\\_\\_Oscillospiraceae;g\\_\\_Oscillibacter;s\\_\\_Oscillibacter sp000403435   & 99.99 & 0.99 & 95.67 & 11 & N/A & N/A\\\\\n",
       "\t ⋮ & ⋮ & ⋮ & ⋮ & ⋮ & ⋮ & ⋮ & ⋮ & ⋮ & ⋮ & ⋱ & ⋮ & ⋮ & ⋮ & ⋮ & ⋮ & ⋮ & ⋮ & ⋮ & ⋮ & ⋮\\\\\n",
       "\t /ebio/abt3\\_scratch/nyoungblut/LLG\\_62325884640/genomes/GCA\\_003497655.1\\_ASM349765v1\\_genomic.fna & 91.14 & 0.00 & GCA\\_003497655.1\\_ASM349765v1\\_genomic & o\\_\\_Clostridiales (UID1212) & 172 & 263 & 149 & 91.14 & 0.00 & ⋯ & 0.82 & GCF\\_000765235.1 & 95.0 & d\\_\\_Bacteria;p\\_\\_Firmicutes\\_A;c\\_\\_Clostridia;o\\_\\_Oscillospirales;f\\_\\_Oscillospiraceae;g\\_\\_ER4;s\\_\\_ER4 sp000765235                     & 96.71 & 0.82 & 91.90 & 11 & N/A                & N/A\\\\\n",
       "\t /ebio/abt3\\_scratch/nyoungblut/LLG\\_62325884640/genomes/GCA\\_009774015.1\\_ASM977401v1\\_genomic.fna & 91.03 & 3.68 & GCA\\_009774015.1\\_ASM977401v1\\_genomic & o\\_\\_Clostridiales (UID1212) & 172 & 263 & 149 & 91.03 & 3.68 & ⋯ & N/A  & GCF\\_000403435.2 & 95.0 & d\\_\\_Bacteria;p\\_\\_Firmicutes\\_A;c\\_\\_Clostridia;o\\_\\_Oscillospirales;f\\_\\_Oscillospiraceae;g\\_\\_Oscillibacter;s\\_\\_Oscillibacter sp000403435 & 82.6  & 0.59 & 83.51 & 11 & 0.9623815263719147 & N/A\\\\\n",
       "\\end{tabular}\n"
      ],
      "text/markdown": [
       "\n",
       "A data.frame: 16 × 60\n",
       "\n",
       "| genome &lt;fct&gt; | completeness &lt;dbl&gt; | contamination &lt;dbl&gt; | Bin.Id &lt;chr&gt; | Marker.lineage &lt;fct&gt; | X..genomes &lt;int&gt; | X..markers &lt;int&gt; | X..marker.sets &lt;int&gt; | Completeness &lt;dbl&gt; | Contamination &lt;dbl&gt; | ⋯ ⋯ | fastani_af &lt;fct&gt; | closest_placement_reference &lt;fct&gt; | closest_placement_radius &lt;fct&gt; | closest_placement_taxonomy &lt;fct&gt; | closest_placement_ani &lt;fct&gt; | closest_placement_af &lt;fct&gt; | msa_percent &lt;dbl&gt; | translation_table &lt;int&gt; | red_value &lt;fct&gt; | warnings &lt;fct&gt; |\n",
       "|---|---|---|---|---|---|---|---|---|---|---|---|---|---|---|---|---|---|---|---|---|\n",
       "| /ebio/abt3_scratch/nyoungblut/LLG_62325884640/genomes/GCA_000283575.1_ASM28357v1_genomic.fna       | 98.99 | 1.01 | GCA_000283575.1_ASM28357v1_genomic       | o__Clostridiales (UID1212) | 172 | 263 | 149 | 98.99 | 1.01 | ⋯ | 1.0  | GCF_000283575.1 | 95.0 | d__Bacteria;p__Firmicutes_A;c__Clostridia;o__Oscillospirales;f__Oscillospiraceae;g__Oscillibacter;s__Oscillibacter valericigenes | 100.0 | 1.0  | 95.38 | 11 | N/A | N/A |\n",
       "| /ebio/abt3_scratch/nyoungblut/LLG_62325884640/genomes/GCA_000403435.2_Osci_bact_1-3_V1_genomic.fna | 99.33 | 1.45 | GCA_000403435.2_Osci_bact_1-3_V1_genomic | o__Clostridiales (UID1212) | 172 | 263 | 149 | 99.33 | 1.45 | ⋯ | 0.99 | GCF_000403435.2 | 95.0 | d__Bacteria;p__Firmicutes_A;c__Clostridia;o__Oscillospirales;f__Oscillospiraceae;g__Oscillibacter;s__Oscillibacter sp000403435   | 99.99 | 0.99 | 95.67 | 11 | N/A | N/A |\n",
       "| ⋮ | ⋮ | ⋮ | ⋮ | ⋮ | ⋮ | ⋮ | ⋮ | ⋮ | ⋮ | ⋱ | ⋮ | ⋮ | ⋮ | ⋮ | ⋮ | ⋮ | ⋮ | ⋮ | ⋮ | ⋮ |\n",
       "| /ebio/abt3_scratch/nyoungblut/LLG_62325884640/genomes/GCA_003497655.1_ASM349765v1_genomic.fna | 91.14 | 0.00 | GCA_003497655.1_ASM349765v1_genomic | o__Clostridiales (UID1212) | 172 | 263 | 149 | 91.14 | 0.00 | ⋯ | 0.82 | GCF_000765235.1 | 95.0 | d__Bacteria;p__Firmicutes_A;c__Clostridia;o__Oscillospirales;f__Oscillospiraceae;g__ER4;s__ER4 sp000765235                     | 96.71 | 0.82 | 91.90 | 11 | N/A                | N/A |\n",
       "| /ebio/abt3_scratch/nyoungblut/LLG_62325884640/genomes/GCA_009774015.1_ASM977401v1_genomic.fna | 91.03 | 3.68 | GCA_009774015.1_ASM977401v1_genomic | o__Clostridiales (UID1212) | 172 | 263 | 149 | 91.03 | 3.68 | ⋯ | N/A  | GCF_000403435.2 | 95.0 | d__Bacteria;p__Firmicutes_A;c__Clostridia;o__Oscillospirales;f__Oscillospiraceae;g__Oscillibacter;s__Oscillibacter sp000403435 | 82.6  | 0.59 | 83.51 | 11 | 0.9623815263719147 | N/A |\n",
       "\n"
      ],
      "text/plain": [
       "   genome                                                                                            \n",
       "1  /ebio/abt3_scratch/nyoungblut/LLG_62325884640/genomes/GCA_000283575.1_ASM28357v1_genomic.fna      \n",
       "2  /ebio/abt3_scratch/nyoungblut/LLG_62325884640/genomes/GCA_000403435.2_Osci_bact_1-3_V1_genomic.fna\n",
       "⋮  ⋮                                                                                                 \n",
       "15 /ebio/abt3_scratch/nyoungblut/LLG_62325884640/genomes/GCA_003497655.1_ASM349765v1_genomic.fna     \n",
       "16 /ebio/abt3_scratch/nyoungblut/LLG_62325884640/genomes/GCA_009774015.1_ASM977401v1_genomic.fna     \n",
       "   completeness contamination Bin.Id                                  \n",
       "1  98.99        1.01          GCA_000283575.1_ASM28357v1_genomic      \n",
       "2  99.33        1.45          GCA_000403435.2_Osci_bact_1-3_V1_genomic\n",
       "⋮  ⋮            ⋮             ⋮                                       \n",
       "15 91.14        0.00          GCA_003497655.1_ASM349765v1_genomic     \n",
       "16 91.03        3.68          GCA_009774015.1_ASM977401v1_genomic     \n",
       "   Marker.lineage             X..genomes X..markers X..marker.sets Completeness\n",
       "1  o__Clostridiales (UID1212) 172        263        149            98.99       \n",
       "2  o__Clostridiales (UID1212) 172        263        149            99.33       \n",
       "⋮  ⋮                          ⋮          ⋮          ⋮              ⋮           \n",
       "15 o__Clostridiales (UID1212) 172        263        149            91.14       \n",
       "16 o__Clostridiales (UID1212) 172        263        149            91.03       \n",
       "   Contamination ⋯ fastani_af closest_placement_reference\n",
       "1  1.01          ⋯ 1.0        GCF_000283575.1            \n",
       "2  1.45          ⋯ 0.99       GCF_000403435.2            \n",
       "⋮  ⋮             ⋱ ⋮          ⋮                          \n",
       "15 0.00          ⋯ 0.82       GCF_000765235.1            \n",
       "16 3.68          ⋯ N/A        GCF_000403435.2            \n",
       "   closest_placement_radius\n",
       "1  95.0                    \n",
       "2  95.0                    \n",
       "⋮  ⋮                       \n",
       "15 95.0                    \n",
       "16 95.0                    \n",
       "   closest_placement_taxonomy                                                                                                      \n",
       "1  d__Bacteria;p__Firmicutes_A;c__Clostridia;o__Oscillospirales;f__Oscillospiraceae;g__Oscillibacter;s__Oscillibacter valericigenes\n",
       "2  d__Bacteria;p__Firmicutes_A;c__Clostridia;o__Oscillospirales;f__Oscillospiraceae;g__Oscillibacter;s__Oscillibacter sp000403435  \n",
       "⋮  ⋮                                                                                                                               \n",
       "15 d__Bacteria;p__Firmicutes_A;c__Clostridia;o__Oscillospirales;f__Oscillospiraceae;g__ER4;s__ER4 sp000765235                      \n",
       "16 d__Bacteria;p__Firmicutes_A;c__Clostridia;o__Oscillospirales;f__Oscillospiraceae;g__Oscillibacter;s__Oscillibacter sp000403435  \n",
       "   closest_placement_ani closest_placement_af msa_percent translation_table\n",
       "1  100.0                 1.0                  95.38       11               \n",
       "2  99.99                 0.99                 95.67       11               \n",
       "⋮  ⋮                     ⋮                    ⋮           ⋮                \n",
       "15 96.71                 0.82                 91.90       11               \n",
       "16 82.6                  0.59                 83.51       11               \n",
       "   red_value          warnings\n",
       "1  N/A                N/A     \n",
       "2  N/A                N/A     \n",
       "⋮  ⋮                  ⋮       \n",
       "15 N/A                N/A     \n",
       "16 0.9623815263719147 N/A     "
      ]
     },
     "metadata": {},
     "output_type": "display_data"
    }
   ],
   "source": [
    "# joining based on Bin.Id\n",
    "drep = drep %>%\n",
    "    inner_join(checkm, c('Bin.Id')) %>%\n",
    "    mutate(GEN = genome %>% as.character %>% basename) %>%\n",
    "    inner_join(drep_gen %>% mutate(GEN = Fasta %>% as.character %>% basename),\n",
    "               by=c('GEN')) %>%\n",
    "    inner_join(tax, c('Bin.Id'='user_genome')) #%>%\n",
    "drep"
   ]
  },
  {
   "cell_type": "code",
   "execution_count": 24,
   "metadata": {
    "execution": {
     "iopub.execute_input": "2021-01-12T13:15:55.730143Z",
     "iopub.status.busy": "2021-01-12T13:15:55.728026Z",
     "iopub.status.idle": "2021-01-12T13:15:55.790547Z",
     "shell.execute_reply": "2021-01-12T13:15:55.789011Z"
    }
   },
   "outputs": [
    {
     "data": {
      "text/html": [
       "<table>\n",
       "<caption>A data.frame: 14 × 60</caption>\n",
       "<thead>\n",
       "\t<tr><th scope=col>genome</th><th scope=col>completeness</th><th scope=col>contamination</th><th scope=col>Bin.Id</th><th scope=col>Marker.lineage</th><th scope=col>X..genomes</th><th scope=col>X..markers</th><th scope=col>X..marker.sets</th><th scope=col>Completeness</th><th scope=col>Contamination</th><th scope=col>⋯</th><th scope=col>fastani_af</th><th scope=col>closest_placement_reference</th><th scope=col>closest_placement_radius</th><th scope=col>closest_placement_taxonomy</th><th scope=col>closest_placement_ani</th><th scope=col>closest_placement_af</th><th scope=col>msa_percent</th><th scope=col>translation_table</th><th scope=col>red_value</th><th scope=col>warnings</th></tr>\n",
       "\t<tr><th scope=col>&lt;fct&gt;</th><th scope=col>&lt;dbl&gt;</th><th scope=col>&lt;dbl&gt;</th><th scope=col>&lt;chr&gt;</th><th scope=col>&lt;fct&gt;</th><th scope=col>&lt;int&gt;</th><th scope=col>&lt;int&gt;</th><th scope=col>&lt;int&gt;</th><th scope=col>&lt;dbl&gt;</th><th scope=col>&lt;dbl&gt;</th><th scope=col>⋯</th><th scope=col>&lt;fct&gt;</th><th scope=col>&lt;fct&gt;</th><th scope=col>&lt;fct&gt;</th><th scope=col>&lt;fct&gt;</th><th scope=col>&lt;fct&gt;</th><th scope=col>&lt;fct&gt;</th><th scope=col>&lt;dbl&gt;</th><th scope=col>&lt;int&gt;</th><th scope=col>&lt;fct&gt;</th><th scope=col>&lt;fct&gt;</th></tr>\n",
       "</thead>\n",
       "<tbody>\n",
       "\t<tr><td>/ebio/abt3_scratch/nyoungblut/LLG_62325884640/genomes/GCA_000283575.1_ASM28357v1_genomic.fna      </td><td>98.99</td><td>1.01</td><td>GCA_000283575.1_ASM28357v1_genomic      </td><td>o__Clostridiales (UID1212)</td><td>172</td><td>263</td><td>149</td><td>98.99</td><td>1.01</td><td>⋯</td><td>1.0 </td><td>GCF_000283575.1</td><td>95.0</td><td>d__Bacteria;p__Firmicutes_A;c__Clostridia;o__Oscillospirales;f__Oscillospiraceae;g__Oscillibacter;s__Oscillibacter valericigenes</td><td>100.0</td><td>1.0 </td><td>95.38</td><td>11</td><td>N/A</td><td>N/A</td></tr>\n",
       "\t<tr><td>/ebio/abt3_scratch/nyoungblut/LLG_62325884640/genomes/GCA_000403435.2_Osci_bact_1-3_V1_genomic.fna</td><td>99.33</td><td>1.45</td><td>GCA_000403435.2_Osci_bact_1-3_V1_genomic</td><td>o__Clostridiales (UID1212)</td><td>172</td><td>263</td><td>149</td><td>99.33</td><td>1.45</td><td>⋯</td><td>0.99</td><td>GCF_000403435.2</td><td>95.0</td><td>d__Bacteria;p__Firmicutes_A;c__Clostridia;o__Oscillospirales;f__Oscillospiraceae;g__Oscillibacter;s__Oscillibacter sp000403435  </td><td>99.99</td><td>0.99</td><td>95.67</td><td>11</td><td>N/A</td><td>N/A</td></tr>\n",
       "\t<tr><td>⋮</td><td>⋮</td><td>⋮</td><td>⋮</td><td>⋮</td><td>⋮</td><td>⋮</td><td>⋮</td><td>⋮</td><td>⋮</td><td>⋱</td><td>⋮</td><td>⋮</td><td>⋮</td><td>⋮</td><td>⋮</td><td>⋮</td><td>⋮</td><td>⋮</td><td>⋮</td><td>⋮</td></tr>\n",
       "\t<tr><td>/ebio/abt3_scratch/nyoungblut/LLG_62325884640/genomes/GCA_003497655.1_ASM349765v1_genomic.fna</td><td>91.14</td><td>0.00</td><td>GCA_003497655.1_ASM349765v1_genomic</td><td>o__Clostridiales (UID1212)</td><td>172</td><td>263</td><td>149</td><td>91.14</td><td>0.00</td><td>⋯</td><td>0.82</td><td>GCF_000765235.1</td><td>95.0</td><td>d__Bacteria;p__Firmicutes_A;c__Clostridia;o__Oscillospirales;f__Oscillospiraceae;g__ER4;s__ER4 sp000765235                    </td><td>96.71</td><td>0.82</td><td>91.90</td><td>11</td><td>N/A               </td><td>N/A</td></tr>\n",
       "\t<tr><td>/ebio/abt3_scratch/nyoungblut/LLG_62325884640/genomes/GCA_009774015.1_ASM977401v1_genomic.fna</td><td>91.03</td><td>3.68</td><td>GCA_009774015.1_ASM977401v1_genomic</td><td>o__Clostridiales (UID1212)</td><td>172</td><td>263</td><td>149</td><td>91.03</td><td>3.68</td><td>⋯</td><td>N/A </td><td>GCF_000403435.2</td><td>95.0</td><td>d__Bacteria;p__Firmicutes_A;c__Clostridia;o__Oscillospirales;f__Oscillospiraceae;g__Oscillibacter;s__Oscillibacter sp000403435</td><td>82.6 </td><td>0.59</td><td>83.51</td><td>11</td><td>0.9623815263719147</td><td>N/A</td></tr>\n",
       "</tbody>\n",
       "</table>\n"
      ],
      "text/latex": [
       "A data.frame: 14 × 60\n",
       "\\begin{tabular}{lllllllllllllllllllll}\n",
       " genome & completeness & contamination & Bin.Id & Marker.lineage & X..genomes & X..markers & X..marker.sets & Completeness & Contamination & ⋯ & fastani\\_af & closest\\_placement\\_reference & closest\\_placement\\_radius & closest\\_placement\\_taxonomy & closest\\_placement\\_ani & closest\\_placement\\_af & msa\\_percent & translation\\_table & red\\_value & warnings\\\\\n",
       " <fct> & <dbl> & <dbl> & <chr> & <fct> & <int> & <int> & <int> & <dbl> & <dbl> & ⋯ & <fct> & <fct> & <fct> & <fct> & <fct> & <fct> & <dbl> & <int> & <fct> & <fct>\\\\\n",
       "\\hline\n",
       "\t /ebio/abt3\\_scratch/nyoungblut/LLG\\_62325884640/genomes/GCA\\_000283575.1\\_ASM28357v1\\_genomic.fna       & 98.99 & 1.01 & GCA\\_000283575.1\\_ASM28357v1\\_genomic       & o\\_\\_Clostridiales (UID1212) & 172 & 263 & 149 & 98.99 & 1.01 & ⋯ & 1.0  & GCF\\_000283575.1 & 95.0 & d\\_\\_Bacteria;p\\_\\_Firmicutes\\_A;c\\_\\_Clostridia;o\\_\\_Oscillospirales;f\\_\\_Oscillospiraceae;g\\_\\_Oscillibacter;s\\_\\_Oscillibacter valericigenes & 100.0 & 1.0  & 95.38 & 11 & N/A & N/A\\\\\n",
       "\t /ebio/abt3\\_scratch/nyoungblut/LLG\\_62325884640/genomes/GCA\\_000403435.2\\_Osci\\_bact\\_1-3\\_V1\\_genomic.fna & 99.33 & 1.45 & GCA\\_000403435.2\\_Osci\\_bact\\_1-3\\_V1\\_genomic & o\\_\\_Clostridiales (UID1212) & 172 & 263 & 149 & 99.33 & 1.45 & ⋯ & 0.99 & GCF\\_000403435.2 & 95.0 & d\\_\\_Bacteria;p\\_\\_Firmicutes\\_A;c\\_\\_Clostridia;o\\_\\_Oscillospirales;f\\_\\_Oscillospiraceae;g\\_\\_Oscillibacter;s\\_\\_Oscillibacter sp000403435   & 99.99 & 0.99 & 95.67 & 11 & N/A & N/A\\\\\n",
       "\t ⋮ & ⋮ & ⋮ & ⋮ & ⋮ & ⋮ & ⋮ & ⋮ & ⋮ & ⋮ & ⋱ & ⋮ & ⋮ & ⋮ & ⋮ & ⋮ & ⋮ & ⋮ & ⋮ & ⋮ & ⋮\\\\\n",
       "\t /ebio/abt3\\_scratch/nyoungblut/LLG\\_62325884640/genomes/GCA\\_003497655.1\\_ASM349765v1\\_genomic.fna & 91.14 & 0.00 & GCA\\_003497655.1\\_ASM349765v1\\_genomic & o\\_\\_Clostridiales (UID1212) & 172 & 263 & 149 & 91.14 & 0.00 & ⋯ & 0.82 & GCF\\_000765235.1 & 95.0 & d\\_\\_Bacteria;p\\_\\_Firmicutes\\_A;c\\_\\_Clostridia;o\\_\\_Oscillospirales;f\\_\\_Oscillospiraceae;g\\_\\_ER4;s\\_\\_ER4 sp000765235                     & 96.71 & 0.82 & 91.90 & 11 & N/A                & N/A\\\\\n",
       "\t /ebio/abt3\\_scratch/nyoungblut/LLG\\_62325884640/genomes/GCA\\_009774015.1\\_ASM977401v1\\_genomic.fna & 91.03 & 3.68 & GCA\\_009774015.1\\_ASM977401v1\\_genomic & o\\_\\_Clostridiales (UID1212) & 172 & 263 & 149 & 91.03 & 3.68 & ⋯ & N/A  & GCF\\_000403435.2 & 95.0 & d\\_\\_Bacteria;p\\_\\_Firmicutes\\_A;c\\_\\_Clostridia;o\\_\\_Oscillospirales;f\\_\\_Oscillospiraceae;g\\_\\_Oscillibacter;s\\_\\_Oscillibacter sp000403435 & 82.6  & 0.59 & 83.51 & 11 & 0.9623815263719147 & N/A\\\\\n",
       "\\end{tabular}\n"
      ],
      "text/markdown": [
       "\n",
       "A data.frame: 14 × 60\n",
       "\n",
       "| genome &lt;fct&gt; | completeness &lt;dbl&gt; | contamination &lt;dbl&gt; | Bin.Id &lt;chr&gt; | Marker.lineage &lt;fct&gt; | X..genomes &lt;int&gt; | X..markers &lt;int&gt; | X..marker.sets &lt;int&gt; | Completeness &lt;dbl&gt; | Contamination &lt;dbl&gt; | ⋯ ⋯ | fastani_af &lt;fct&gt; | closest_placement_reference &lt;fct&gt; | closest_placement_radius &lt;fct&gt; | closest_placement_taxonomy &lt;fct&gt; | closest_placement_ani &lt;fct&gt; | closest_placement_af &lt;fct&gt; | msa_percent &lt;dbl&gt; | translation_table &lt;int&gt; | red_value &lt;fct&gt; | warnings &lt;fct&gt; |\n",
       "|---|---|---|---|---|---|---|---|---|---|---|---|---|---|---|---|---|---|---|---|---|\n",
       "| /ebio/abt3_scratch/nyoungblut/LLG_62325884640/genomes/GCA_000283575.1_ASM28357v1_genomic.fna       | 98.99 | 1.01 | GCA_000283575.1_ASM28357v1_genomic       | o__Clostridiales (UID1212) | 172 | 263 | 149 | 98.99 | 1.01 | ⋯ | 1.0  | GCF_000283575.1 | 95.0 | d__Bacteria;p__Firmicutes_A;c__Clostridia;o__Oscillospirales;f__Oscillospiraceae;g__Oscillibacter;s__Oscillibacter valericigenes | 100.0 | 1.0  | 95.38 | 11 | N/A | N/A |\n",
       "| /ebio/abt3_scratch/nyoungblut/LLG_62325884640/genomes/GCA_000403435.2_Osci_bact_1-3_V1_genomic.fna | 99.33 | 1.45 | GCA_000403435.2_Osci_bact_1-3_V1_genomic | o__Clostridiales (UID1212) | 172 | 263 | 149 | 99.33 | 1.45 | ⋯ | 0.99 | GCF_000403435.2 | 95.0 | d__Bacteria;p__Firmicutes_A;c__Clostridia;o__Oscillospirales;f__Oscillospiraceae;g__Oscillibacter;s__Oscillibacter sp000403435   | 99.99 | 0.99 | 95.67 | 11 | N/A | N/A |\n",
       "| ⋮ | ⋮ | ⋮ | ⋮ | ⋮ | ⋮ | ⋮ | ⋮ | ⋮ | ⋮ | ⋱ | ⋮ | ⋮ | ⋮ | ⋮ | ⋮ | ⋮ | ⋮ | ⋮ | ⋮ | ⋮ |\n",
       "| /ebio/abt3_scratch/nyoungblut/LLG_62325884640/genomes/GCA_003497655.1_ASM349765v1_genomic.fna | 91.14 | 0.00 | GCA_003497655.1_ASM349765v1_genomic | o__Clostridiales (UID1212) | 172 | 263 | 149 | 91.14 | 0.00 | ⋯ | 0.82 | GCF_000765235.1 | 95.0 | d__Bacteria;p__Firmicutes_A;c__Clostridia;o__Oscillospirales;f__Oscillospiraceae;g__ER4;s__ER4 sp000765235                     | 96.71 | 0.82 | 91.90 | 11 | N/A                | N/A |\n",
       "| /ebio/abt3_scratch/nyoungblut/LLG_62325884640/genomes/GCA_009774015.1_ASM977401v1_genomic.fna | 91.03 | 3.68 | GCA_009774015.1_ASM977401v1_genomic | o__Clostridiales (UID1212) | 172 | 263 | 149 | 91.03 | 3.68 | ⋯ | N/A  | GCF_000403435.2 | 95.0 | d__Bacteria;p__Firmicutes_A;c__Clostridia;o__Oscillospirales;f__Oscillospiraceae;g__Oscillibacter;s__Oscillibacter sp000403435 | 82.6  | 0.59 | 83.51 | 11 | 0.9623815263719147 | N/A |\n",
       "\n"
      ],
      "text/plain": [
       "   genome                                                                                            \n",
       "1  /ebio/abt3_scratch/nyoungblut/LLG_62325884640/genomes/GCA_000283575.1_ASM28357v1_genomic.fna      \n",
       "2  /ebio/abt3_scratch/nyoungblut/LLG_62325884640/genomes/GCA_000403435.2_Osci_bact_1-3_V1_genomic.fna\n",
       "⋮  ⋮                                                                                                 \n",
       "13 /ebio/abt3_scratch/nyoungblut/LLG_62325884640/genomes/GCA_003497655.1_ASM349765v1_genomic.fna     \n",
       "14 /ebio/abt3_scratch/nyoungblut/LLG_62325884640/genomes/GCA_009774015.1_ASM977401v1_genomic.fna     \n",
       "   completeness contamination Bin.Id                                  \n",
       "1  98.99        1.01          GCA_000283575.1_ASM28357v1_genomic      \n",
       "2  99.33        1.45          GCA_000403435.2_Osci_bact_1-3_V1_genomic\n",
       "⋮  ⋮            ⋮             ⋮                                       \n",
       "13 91.14        0.00          GCA_003497655.1_ASM349765v1_genomic     \n",
       "14 91.03        3.68          GCA_009774015.1_ASM977401v1_genomic     \n",
       "   Marker.lineage             X..genomes X..markers X..marker.sets Completeness\n",
       "1  o__Clostridiales (UID1212) 172        263        149            98.99       \n",
       "2  o__Clostridiales (UID1212) 172        263        149            99.33       \n",
       "⋮  ⋮                          ⋮          ⋮          ⋮              ⋮           \n",
       "13 o__Clostridiales (UID1212) 172        263        149            91.14       \n",
       "14 o__Clostridiales (UID1212) 172        263        149            91.03       \n",
       "   Contamination ⋯ fastani_af closest_placement_reference\n",
       "1  1.01          ⋯ 1.0        GCF_000283575.1            \n",
       "2  1.45          ⋯ 0.99       GCF_000403435.2            \n",
       "⋮  ⋮             ⋱ ⋮          ⋮                          \n",
       "13 0.00          ⋯ 0.82       GCF_000765235.1            \n",
       "14 3.68          ⋯ N/A        GCF_000403435.2            \n",
       "   closest_placement_radius\n",
       "1  95.0                    \n",
       "2  95.0                    \n",
       "⋮  ⋮                       \n",
       "13 95.0                    \n",
       "14 95.0                    \n",
       "   closest_placement_taxonomy                                                                                                      \n",
       "1  d__Bacteria;p__Firmicutes_A;c__Clostridia;o__Oscillospirales;f__Oscillospiraceae;g__Oscillibacter;s__Oscillibacter valericigenes\n",
       "2  d__Bacteria;p__Firmicutes_A;c__Clostridia;o__Oscillospirales;f__Oscillospiraceae;g__Oscillibacter;s__Oscillibacter sp000403435  \n",
       "⋮  ⋮                                                                                                                               \n",
       "13 d__Bacteria;p__Firmicutes_A;c__Clostridia;o__Oscillospirales;f__Oscillospiraceae;g__ER4;s__ER4 sp000765235                      \n",
       "14 d__Bacteria;p__Firmicutes_A;c__Clostridia;o__Oscillospirales;f__Oscillospiraceae;g__Oscillibacter;s__Oscillibacter sp000403435  \n",
       "   closest_placement_ani closest_placement_af msa_percent translation_table\n",
       "1  100.0                 1.0                  95.38       11               \n",
       "2  99.99                 0.99                 95.67       11               \n",
       "⋮  ⋮                     ⋮                    ⋮           ⋮                \n",
       "13 96.71                 0.82                 91.90       11               \n",
       "14 82.6                  0.59                 83.51       11               \n",
       "   red_value          warnings\n",
       "1  N/A                N/A     \n",
       "2  N/A                N/A     \n",
       "⋮  ⋮                  ⋮       \n",
       "13 N/A                N/A     \n",
       "14 0.9623815263719147 N/A     "
      ]
     },
     "metadata": {},
     "output_type": "display_data"
    }
   ],
   "source": [
    "# filtering by quality\n",
    "hq_genomes = drep %>%\n",
    "    filter(completeness >= 90,\n",
    "           contamination < 5,\n",
    "           Strain.heterogeneity < 50)\n",
    "hq_genomes"
   ]
  },
  {
   "cell_type": "code",
   "execution_count": 25,
   "metadata": {
    "execution": {
     "iopub.execute_input": "2021-01-12T13:15:59.844535Z",
     "iopub.status.busy": "2021-01-12T13:15:59.842206Z",
     "iopub.status.idle": "2021-01-12T13:15:59.885586Z",
     "shell.execute_reply": "2021-01-12T13:15:59.884177Z"
    }
   },
   "outputs": [
    {
     "data": {
      "text/html": [
       "<table>\n",
       "<caption>A tibble: 4 × 3</caption>\n",
       "<thead>\n",
       "\t<tr><th scope=col>Family</th><th scope=col>Genus</th><th scope=col>n_genomes</th></tr>\n",
       "\t<tr><th scope=col>&lt;chr&gt;</th><th scope=col>&lt;chr&gt;</th><th scope=col>&lt;int&gt;</th></tr>\n",
       "</thead>\n",
       "<tbody>\n",
       "\t<tr><td>f__Oscillospiraceae</td><td>g__             </td><td>1</td></tr>\n",
       "\t<tr><td>f__Oscillospiraceae</td><td>g__CAG-83       </td><td>1</td></tr>\n",
       "\t<tr><td>f__Oscillospiraceae</td><td>g__ER4          </td><td>3</td></tr>\n",
       "\t<tr><td>f__Oscillospiraceae</td><td>g__Oscillibacter</td><td>9</td></tr>\n",
       "</tbody>\n",
       "</table>\n"
      ],
      "text/latex": [
       "A tibble: 4 × 3\n",
       "\\begin{tabular}{lll}\n",
       " Family & Genus & n\\_genomes\\\\\n",
       " <chr> & <chr> & <int>\\\\\n",
       "\\hline\n",
       "\t f\\_\\_Oscillospiraceae & g\\_\\_              & 1\\\\\n",
       "\t f\\_\\_Oscillospiraceae & g\\_\\_CAG-83        & 1\\\\\n",
       "\t f\\_\\_Oscillospiraceae & g\\_\\_ER4           & 3\\\\\n",
       "\t f\\_\\_Oscillospiraceae & g\\_\\_Oscillibacter & 9\\\\\n",
       "\\end{tabular}\n"
      ],
      "text/markdown": [
       "\n",
       "A tibble: 4 × 3\n",
       "\n",
       "| Family &lt;chr&gt; | Genus &lt;chr&gt; | n_genomes &lt;int&gt; |\n",
       "|---|---|---|\n",
       "| f__Oscillospiraceae | g__              | 1 |\n",
       "| f__Oscillospiraceae | g__CAG-83        | 1 |\n",
       "| f__Oscillospiraceae | g__ER4           | 3 |\n",
       "| f__Oscillospiraceae | g__Oscillibacter | 9 |\n",
       "\n"
      ],
      "text/plain": [
       "  Family              Genus            n_genomes\n",
       "1 f__Oscillospiraceae g__              1        \n",
       "2 f__Oscillospiraceae g__CAG-83        1        \n",
       "3 f__Oscillospiraceae g__ER4           3        \n",
       "4 f__Oscillospiraceae g__Oscillibacter 9        "
      ]
     },
     "metadata": {},
     "output_type": "display_data"
    }
   ],
   "source": [
    "# summarizing the taxonomy\n",
    "df.dims(20)\n",
    "hq_genomes %>%\n",
    "    group_by(Family, Genus) %>%\n",
    "    summarize(n_genomes = n(), .groups='drop')\n",
    "df.dims()"
   ]
  },
  {
   "cell_type": "code",
   "execution_count": 26,
   "metadata": {
    "execution": {
     "iopub.execute_input": "2021-01-12T13:16:06.942510Z",
     "iopub.status.busy": "2021-01-12T13:16:06.940260Z",
     "iopub.status.idle": "2021-01-12T13:16:06.979685Z",
     "shell.execute_reply": "2021-01-12T13:16:06.978211Z"
    }
   },
   "outputs": [
    {
     "name": "stdout",
     "output_type": "stream",
     "text": [
      "File written: /ebio/abt3_projects/software/dev/ll_pipelines/llprimer/experiments/HMP_most-wanted//Oscillibacter/samples_genomes_hq.txt \n"
     ]
    }
   ],
   "source": [
    "# writing samples table for LLPRIMER\n",
    "outfile = file.path(work_dir, 'samples_genomes_hq.txt')\n",
    "hq_genomes %>%\n",
    "    select(Bin.Id, Fasta) %>%\n",
    "    rename('Taxon' = Bin.Id) %>%\n",
    "    mutate(Taxon = gsub('_chromosome.+', '', Taxon),\n",
    "           Taxon = gsub('_bin_.+', '', Taxon),\n",
    "           Taxon = gsub('_genomic', '', Taxon),\n",
    "           Taxon = gsub('_annotated_assembly', '', Taxon),\n",
    "           Taxid = taxid) %>%\n",
    "    write_table(outfile)"
   ]
  },
  {
   "cell_type": "markdown",
   "metadata": {},
   "source": [
    "# Primer design"
   ]
  },
  {
   "cell_type": "markdown",
   "metadata": {},
   "source": [
    "### Config"
   ]
  },
  {
   "cell_type": "code",
   "execution_count": 37,
   "metadata": {
    "execution": {
     "iopub.execute_input": "2021-01-14T18:52:24.669458Z",
     "iopub.status.busy": "2021-01-14T18:52:24.667653Z",
     "iopub.status.idle": "2021-01-14T18:52:24.728204Z"
    }
   },
   "outputs": [
    {
     "name": "stdout",
     "output_type": "stream",
     "text": [
      "#-- I/O --#\n",
      "samples_file: /ebio/abt3_projects/software/dev/ll_pipelines/llprimer/experiments/HMP_most-wanted/Oscillibacter/samples_genomes_hq.txt\n",
      "\n",
      "# output location\n",
      "output_dir: /ebio/abt3_projects/software/dev/ll_pipelines/llprimer/experiments/HMP_most-wanted/Oscillibacter/primers/\n",
      "\n",
      "# temporary file directory (your username will be added automatically)\n",
      "tmp_dir: /ebio/abt3_scratch/\n",
      "\n",
      "#-- software parameters --#\n",
      "# See the README for a description\n",
      "params:\n",
      "  ionice: -c 3\n",
      "  cgp:\n",
      "    prodigal: \"\"    \n",
      "    mmseqs:\n",
      "      method: cluster    # or linclust (faster)\n",
      "      run: --min-seq-id 0.8 -c 0.8\n",
      "    core_genes: --frac 1 --max-clusters 500\n",
      "    blastx: -evalue 1e-10 -max_target_seqs 3\n",
      "    blastx_nontarget: -evalue 1e-5 -max_target_seqs 30\n",
      "    align:\n",
      "      method: linsi\n",
      "      params: --auto --maxiterate 1000\n",
      "    primer3:\n",
      "      number: --num-primers 500\n",
      "      size: --opt-size 20 --min-size 18 --max-size 24\n",
      "      product: --opt-prod-size 150 --min-prod-size 100 --max-prod-size 200\n",
      "      Tm: --opt-tm 62 --min-tm 55 --max-tm 70 --max-tm-diff 1\n",
      "      PCR: --oligo-DNA 50 --salt-monovalent 50 --salt-divalent 1.5 --dNTPs 0.2\n",
      "      GC: --opt-gc 50 --min-gc 25 --max-gc 75\n",
      "      degeneracy: --max-degeneracy 128 --max-degeneracy-3prime 1 --window-3prime 5\n",
      "      internal_oligo: --make-oligo 0 --int-opt-size 20 --int-opt-tm 60\n",
      "    blastn: -max_target_seqs 500 -perc_identity 90\n",
      "    blast_filter: --perc-len 80 --min-amplicon-len 30 --max-amplicon-len 2000    \n",
      "\n",
      "#-- database --#\n",
      "databases:\n",
      "  blast:\n",
      "    nucl: /ebio/abt3_projects/databases_no-backup/NCBI_blastdb/nt\n",
      "    prot: /ebio/abt3_projects/databases_no-backup/NCBI_blastdb/nr\n",
      "    gene_names: /ebio/abt3_projects/databases_no-backup/NCBI_nr_geneIDs/2021-01/nr_accession-geneNames.pkl\n",
      "  taxonomy:\n",
      "    names: /ebio/abt3_projects/databases_no-backup/NCBI_taxonomy/2020-12-23/names.dmp\n",
      "    nodes: /ebio/abt3_projects/databases_no-backup/NCBI_taxonomy/2020-12-23/nodes.dmp\n",
      "\n",
      "#-- snakemake pipeline --#\n",
      "pipeline:\n",
      "  snakemake_folder: ./\n",
      "  script_folder: bin/scripts/\n",
      "  name: LLPRIMER"
     ]
    }
   ],
   "source": [
    "F = file.path(work_dir, 'primers', 'config.yaml')\n",
    "cat_file(F)"
   ]
  },
  {
   "cell_type": "markdown",
   "metadata": {},
   "source": [
    "### Run"
   ]
  },
  {
   "cell_type": "markdown",
   "metadata": {},
   "source": [
    "```\n",
    "(snakemake) @ rick:/ebio/abt3_projects/software/dev/ll_pipelines/llprimer\n",
    "$ screen -L -S llprimer-Osc ./snakemake_sge.sh experiments/HMP_most-wanted/Oscillibacter/primers/config.yaml 50 --notemp -F\n",
    "```"
   ]
  },
  {
   "cell_type": "markdown",
   "metadata": {},
   "source": [
    "## Summary"
   ]
  },
  {
   "cell_type": "markdown",
   "metadata": {},
   "source": [
    "### Primers"
   ]
  },
  {
   "cell_type": "code",
   "execution_count": 15,
   "metadata": {
    "execution": {
     "iopub.execute_input": "2021-01-14T18:41:14.532889Z",
     "iopub.status.busy": "2021-01-14T18:41:14.531051Z",
     "iopub.status.idle": "2021-01-14T18:41:14.577838Z"
    }
   },
   "outputs": [
    {
     "name": "stdout",
     "output_type": "stream",
     "text": [
      "No. of unique primers: 9 \n"
     ]
    },
    {
     "data": {
      "text/html": [
       "<table>\n",
       "<caption>A data.frame: 18 × 21</caption>\n",
       "<thead>\n",
       "\t<tr><th scope=col>cluster_id</th><th scope=col>primer_set</th><th scope=col>amplicon_size_consensus</th><th scope=col>amplicon_size_avg</th><th scope=col>amplicon_size_sd</th><th scope=col>primer_id</th><th scope=col>primer_type</th><th scope=col>sequence</th><th scope=col>length</th><th scope=col>degeneracy</th><th scope=col>⋯</th><th scope=col>position_start</th><th scope=col>position_end</th><th scope=col>Tm_avg</th><th scope=col>Tm_sd</th><th scope=col>GC_avg</th><th scope=col>GC_sd</th><th scope=col>hairpin_avg</th><th scope=col>hairpin_sd</th><th scope=col>homodimer_avg</th><th scope=col>homodimer_sd</th></tr>\n",
       "\t<tr><th scope=col>&lt;int&gt;</th><th scope=col>&lt;int&gt;</th><th scope=col>&lt;int&gt;</th><th scope=col>&lt;dbl&gt;</th><th scope=col>&lt;dbl&gt;</th><th scope=col>&lt;fct&gt;</th><th scope=col>&lt;fct&gt;</th><th scope=col>&lt;fct&gt;</th><th scope=col>&lt;int&gt;</th><th scope=col>&lt;int&gt;</th><th scope=col>⋯</th><th scope=col>&lt;int&gt;</th><th scope=col>&lt;int&gt;</th><th scope=col>&lt;dbl&gt;</th><th scope=col>&lt;dbl&gt;</th><th scope=col>&lt;dbl&gt;</th><th scope=col>&lt;dbl&gt;</th><th scope=col>&lt;dbl&gt;</th><th scope=col>&lt;dbl&gt;</th><th scope=col>&lt;dbl&gt;</th><th scope=col>&lt;dbl&gt;</th></tr>\n",
       "</thead>\n",
       "<tbody>\n",
       "\t<tr><td>20</td><td>6</td><td>200</td><td>200</td><td>0</td><td>6f</td><td>PRIMER_LEFT </td><td>GGYGCCAARGARATYAAGTG</td><td>20</td><td>16</td><td>⋯</td><td> 42</td><td> 62</td><td>57.85193</td><td>2.173835</td><td>50.00000</td><td>5.000000</td><td> 0.00000</td><td> 0.00000</td><td> -1.047273</td><td>28.68951</td></tr>\n",
       "\t<tr><td>20</td><td>6</td><td>200</td><td>200</td><td>0</td><td>6r</td><td>PRIMER_RIGHT</td><td>TCRTCRAAVCGGACATAGGT</td><td>20</td><td>12</td><td>⋯</td><td>222</td><td>242</td><td>58.63174</td><td>1.853255</td><td>48.33333</td><td>4.249183</td><td>29.63751</td><td>21.23943</td><td>-10.153331</td><td>19.60310</td></tr>\n",
       "\t<tr><td>⋮</td><td>⋮</td><td>⋮</td><td>⋮</td><td>⋮</td><td>⋮</td><td>⋮</td><td>⋮</td><td>⋮</td><td>⋮</td><td>⋱</td><td>⋮</td><td>⋮</td><td>⋮</td><td>⋮</td><td>⋮</td><td>⋮</td><td>⋮</td><td>⋮</td><td>⋮</td><td>⋮</td></tr>\n",
       "\t<tr><td>36</td><td>472</td><td>158</td><td>158</td><td>0</td><td>472f</td><td>PRIMER_LEFT </td><td>GBTGGAACCCYAARATGGC </td><td>19</td><td>12</td><td>⋯</td><td> 73</td><td> 92</td><td>58.54693</td><td>2.003485</td><td>56.14035</td><td>4.472824</td><td>35.24887</td><td>25.37298</td><td>-35.758653</td><td>16.38444</td></tr>\n",
       "\t<tr><td>36</td><td>472</td><td>158</td><td>158</td><td>0</td><td>472r</td><td>PRIMER_RIGHT</td><td>CTTCTTSGTDCCVACGAACA</td><td>20</td><td>18</td><td>⋯</td><td>211</td><td>231</td><td>58.88266</td><td>1.695892</td><td>50.00000</td><td>3.333333</td><td>40.93949</td><td>22.72916</td><td>  8.310367</td><td> 9.29436</td></tr>\n",
       "</tbody>\n",
       "</table>\n"
      ],
      "text/latex": [
       "A data.frame: 18 × 21\n",
       "\\begin{tabular}{lllllllllllllllllllll}\n",
       " cluster\\_id & primer\\_set & amplicon\\_size\\_consensus & amplicon\\_size\\_avg & amplicon\\_size\\_sd & primer\\_id & primer\\_type & sequence & length & degeneracy & ⋯ & position\\_start & position\\_end & Tm\\_avg & Tm\\_sd & GC\\_avg & GC\\_sd & hairpin\\_avg & hairpin\\_sd & homodimer\\_avg & homodimer\\_sd\\\\\n",
       " <int> & <int> & <int> & <dbl> & <dbl> & <fct> & <fct> & <fct> & <int> & <int> & ⋯ & <int> & <int> & <dbl> & <dbl> & <dbl> & <dbl> & <dbl> & <dbl> & <dbl> & <dbl>\\\\\n",
       "\\hline\n",
       "\t 20 & 6 & 200 & 200 & 0 & 6f & PRIMER\\_LEFT  & GGYGCCAARGARATYAAGTG & 20 & 16 & ⋯ &  42 &  62 & 57.85193 & 2.173835 & 50.00000 & 5.000000 &  0.00000 &  0.00000 &  -1.047273 & 28.68951\\\\\n",
       "\t 20 & 6 & 200 & 200 & 0 & 6r & PRIMER\\_RIGHT & TCRTCRAAVCGGACATAGGT & 20 & 12 & ⋯ & 222 & 242 & 58.63174 & 1.853255 & 48.33333 & 4.249183 & 29.63751 & 21.23943 & -10.153331 & 19.60310\\\\\n",
       "\t ⋮ & ⋮ & ⋮ & ⋮ & ⋮ & ⋮ & ⋮ & ⋮ & ⋮ & ⋮ & ⋱ & ⋮ & ⋮ & ⋮ & ⋮ & ⋮ & ⋮ & ⋮ & ⋮ & ⋮ & ⋮\\\\\n",
       "\t 36 & 472 & 158 & 158 & 0 & 472f & PRIMER\\_LEFT  & GBTGGAACCCYAARATGGC  & 19 & 12 & ⋯ &  73 &  92 & 58.54693 & 2.003485 & 56.14035 & 4.472824 & 35.24887 & 25.37298 & -35.758653 & 16.38444\\\\\n",
       "\t 36 & 472 & 158 & 158 & 0 & 472r & PRIMER\\_RIGHT & CTTCTTSGTDCCVACGAACA & 20 & 18 & ⋯ & 211 & 231 & 58.88266 & 1.695892 & 50.00000 & 3.333333 & 40.93949 & 22.72916 &   8.310367 &  9.29436\\\\\n",
       "\\end{tabular}\n"
      ],
      "text/markdown": [
       "\n",
       "A data.frame: 18 × 21\n",
       "\n",
       "| cluster_id &lt;int&gt; | primer_set &lt;int&gt; | amplicon_size_consensus &lt;int&gt; | amplicon_size_avg &lt;dbl&gt; | amplicon_size_sd &lt;dbl&gt; | primer_id &lt;fct&gt; | primer_type &lt;fct&gt; | sequence &lt;fct&gt; | length &lt;int&gt; | degeneracy &lt;int&gt; | ⋯ ⋯ | position_start &lt;int&gt; | position_end &lt;int&gt; | Tm_avg &lt;dbl&gt; | Tm_sd &lt;dbl&gt; | GC_avg &lt;dbl&gt; | GC_sd &lt;dbl&gt; | hairpin_avg &lt;dbl&gt; | hairpin_sd &lt;dbl&gt; | homodimer_avg &lt;dbl&gt; | homodimer_sd &lt;dbl&gt; |\n",
       "|---|---|---|---|---|---|---|---|---|---|---|---|---|---|---|---|---|---|---|---|---|\n",
       "| 20 | 6 | 200 | 200 | 0 | 6f | PRIMER_LEFT  | GGYGCCAARGARATYAAGTG | 20 | 16 | ⋯ |  42 |  62 | 57.85193 | 2.173835 | 50.00000 | 5.000000 |  0.00000 |  0.00000 |  -1.047273 | 28.68951 |\n",
       "| 20 | 6 | 200 | 200 | 0 | 6r | PRIMER_RIGHT | TCRTCRAAVCGGACATAGGT | 20 | 12 | ⋯ | 222 | 242 | 58.63174 | 1.853255 | 48.33333 | 4.249183 | 29.63751 | 21.23943 | -10.153331 | 19.60310 |\n",
       "| ⋮ | ⋮ | ⋮ | ⋮ | ⋮ | ⋮ | ⋮ | ⋮ | ⋮ | ⋮ | ⋱ | ⋮ | ⋮ | ⋮ | ⋮ | ⋮ | ⋮ | ⋮ | ⋮ | ⋮ | ⋮ |\n",
       "| 36 | 472 | 158 | 158 | 0 | 472f | PRIMER_LEFT  | GBTGGAACCCYAARATGGC  | 19 | 12 | ⋯ |  73 |  92 | 58.54693 | 2.003485 | 56.14035 | 4.472824 | 35.24887 | 25.37298 | -35.758653 | 16.38444 |\n",
       "| 36 | 472 | 158 | 158 | 0 | 472r | PRIMER_RIGHT | CTTCTTSGTDCCVACGAACA | 20 | 18 | ⋯ | 211 | 231 | 58.88266 | 1.695892 | 50.00000 | 3.333333 | 40.93949 | 22.72916 |   8.310367 |  9.29436 |\n",
       "\n"
      ],
      "text/plain": [
       "   cluster_id primer_set amplicon_size_consensus amplicon_size_avg\n",
       "1  20         6          200                     200              \n",
       "2  20         6          200                     200              \n",
       "⋮  ⋮          ⋮          ⋮                       ⋮                \n",
       "17 36         472        158                     158              \n",
       "18 36         472        158                     158              \n",
       "   amplicon_size_sd primer_id primer_type  sequence             length\n",
       "1  0                6f        PRIMER_LEFT  GGYGCCAARGARATYAAGTG 20    \n",
       "2  0                6r        PRIMER_RIGHT TCRTCRAAVCGGACATAGGT 20    \n",
       "⋮  ⋮                ⋮         ⋮            ⋮                    ⋮     \n",
       "17 0                472f      PRIMER_LEFT  GBTGGAACCCYAARATGGC  19    \n",
       "18 0                472r      PRIMER_RIGHT CTTCTTSGTDCCVACGAACA 20    \n",
       "   degeneracy ⋯ position_start position_end Tm_avg   Tm_sd    GC_avg   GC_sd   \n",
       "1  16         ⋯  42             62          57.85193 2.173835 50.00000 5.000000\n",
       "2  12         ⋯ 222            242          58.63174 1.853255 48.33333 4.249183\n",
       "⋮  ⋮          ⋱ ⋮              ⋮            ⋮        ⋮        ⋮        ⋮       \n",
       "17 12         ⋯  73             92          58.54693 2.003485 56.14035 4.472824\n",
       "18 18         ⋯ 211            231          58.88266 1.695892 50.00000 3.333333\n",
       "   hairpin_avg hairpin_sd homodimer_avg homodimer_sd\n",
       "1   0.00000     0.00000    -1.047273    28.68951    \n",
       "2  29.63751    21.23943   -10.153331    19.60310    \n",
       "⋮  ⋮           ⋮          ⋮             ⋮           \n",
       "17 35.24887    25.37298   -35.758653    16.38444    \n",
       "18 40.93949    22.72916     8.310367     9.29436    "
      ]
     },
     "metadata": {},
     "output_type": "display_data"
    }
   ],
   "source": [
    "primer_info = read.delim(file.path(work_dir, 'primers', 'cgp', 'primers_final_info.tsv'), sep='\\t')\n",
    "primer_info %>% unique_n('primers', primer_set)\n",
    "primer_info"
   ]
  },
  {
   "cell_type": "markdown",
   "metadata": {},
   "source": [
    "### Gene cluster annotations"
   ]
  },
  {
   "cell_type": "code",
   "execution_count": 27,
   "metadata": {
    "execution": {
     "iopub.execute_input": "2021-01-14T18:45:47.883641Z",
     "iopub.status.busy": "2021-01-14T18:45:47.881570Z",
     "iopub.status.idle": "2021-01-14T18:45:47.967881Z"
    }
   },
   "outputs": [
    {
     "data": {
      "text/html": [
       "<table>\n",
       "<caption>A data.frame: 9 × 19</caption>\n",
       "<thead>\n",
       "\t<tr><th scope=col>cluster_id</th><th scope=col>query</th><th scope=col>subject</th><th scope=col>subject_name</th><th scope=col>pident</th><th scope=col>length</th><th scope=col>mismatch</th><th scope=col>qstart</th><th scope=col>qend</th><th scope=col>sstart</th><th scope=col>send</th><th scope=col>evalue</th><th scope=col>slen</th><th scope=col>qlen</th><th scope=col>sscinames</th><th scope=col>staxids</th><th scope=col>pident_rank</th><th scope=col>gene_name</th><th scope=col>gene_taxonomy</th></tr>\n",
       "\t<tr><th scope=col>&lt;dbl&gt;</th><th scope=col>&lt;fct&gt;</th><th scope=col>&lt;fct&gt;</th><th scope=col>&lt;fct&gt;</th><th scope=col>&lt;dbl&gt;</th><th scope=col>&lt;int&gt;</th><th scope=col>&lt;int&gt;</th><th scope=col>&lt;int&gt;</th><th scope=col>&lt;int&gt;</th><th scope=col>&lt;int&gt;</th><th scope=col>&lt;int&gt;</th><th scope=col>&lt;dbl&gt;</th><th scope=col>&lt;int&gt;</th><th scope=col>&lt;int&gt;</th><th scope=col>&lt;fct&gt;</th><th scope=col>&lt;fct&gt;</th><th scope=col>&lt;int&gt;</th><th scope=col>&lt;chr&gt;</th><th scope=col>&lt;chr&gt;</th></tr>\n",
       "</thead>\n",
       "<tbody>\n",
       "\t<tr><td>20</td><td>888b0c0302684d39b00941d56aa58710</td><td>WP_040663505.1</td><td>50S ribosomal protein L14 [Oscillibacter ruminantium]</td><td>100.00</td><td>122</td><td>0</td><td>1</td><td>366</td><td>1</td><td>122</td><td>4.23e-81</td><td>122</td><td>369</td><td>Oscillibacter ruminantium GH1;Oscillibacter ruminantium</td><td>1007096;1263547</td><td>3</td><td>50S ribosomal protein L14</td><td>Oscillibacter ruminantium</td></tr>\n",
       "\t<tr><td>20</td><td>888b0c0302684d39b00941d56aa58710</td><td>WP_187014712.1</td><td>50S ribosomal protein L14 [Dysosmobacter sp. BX15]   </td><td> 99.18</td><td>122</td><td>1</td><td>1</td><td>366</td><td>1</td><td>122</td><td>2.03e-80</td><td>122</td><td>369</td><td>Oscillibacter sp. 57_20;Dysosmobacter sp. BX15         </td><td>1897011;2763042</td><td>1</td><td>50S ribosomal protein L14</td><td>Dysosmobacter sp. BX15   </td></tr>\n",
       "\t<tr><td>⋮</td><td>⋮</td><td>⋮</td><td>⋮</td><td>⋮</td><td>⋮</td><td>⋮</td><td>⋮</td><td>⋮</td><td>⋮</td><td>⋮</td><td>⋮</td><td>⋮</td><td>⋮</td><td>⋮</td><td>⋮</td><td>⋮</td><td>⋮</td><td>⋮</td></tr>\n",
       "\t<tr><td>36</td><td>72fb21e0be894548a80af498875e107b</td><td>WP_040661538.1</td><td>30S ribosomal protein S2 [Oscillibacter ruminantium]</td><td>99.142</td><td>233</td><td> 2</td><td>1</td><td>699</td><td>1</td><td>233</td><td>3.85e-173</td><td>244</td><td>759</td><td>Oscillibacter ruminantium GH1;Oscillibacter ruminantium</td><td>1007096;1263547</td><td>1</td><td>30S ribosomal protein S2</td><td>Oscillibacter ruminantium</td></tr>\n",
       "\t<tr><td>36</td><td>72fb21e0be894548a80af498875e107b</td><td>WP_187028606.1</td><td>30S ribosomal protein S2 [Dysosmobacter sp. NSJ-60] </td><td>93.562</td><td>233</td><td>15</td><td>1</td><td>699</td><td>1</td><td>233</td><td>1.25e-163</td><td>241</td><td>759</td><td>Dysosmobacter sp. NSJ-60                               </td><td>2763041        </td><td>2</td><td>30S ribosomal protein S2</td><td>Dysosmobacter sp. NSJ-60 </td></tr>\n",
       "</tbody>\n",
       "</table>\n"
      ],
      "text/latex": [
       "A data.frame: 9 × 19\n",
       "\\begin{tabular}{lllllllllllllllllll}\n",
       " cluster\\_id & query & subject & subject\\_name & pident & length & mismatch & qstart & qend & sstart & send & evalue & slen & qlen & sscinames & staxids & pident\\_rank & gene\\_name & gene\\_taxonomy\\\\\n",
       " <dbl> & <fct> & <fct> & <fct> & <dbl> & <int> & <int> & <int> & <int> & <int> & <int> & <dbl> & <int> & <int> & <fct> & <fct> & <int> & <chr> & <chr>\\\\\n",
       "\\hline\n",
       "\t 20 & 888b0c0302684d39b00941d56aa58710 & WP\\_040663505.1 & 50S ribosomal protein L14 {[}Oscillibacter ruminantium{]} & 100.00 & 122 & 0 & 1 & 366 & 1 & 122 & 4.23e-81 & 122 & 369 & Oscillibacter ruminantium GH1;Oscillibacter ruminantium & 1007096;1263547 & 3 & 50S ribosomal protein L14 & Oscillibacter ruminantium\\\\\n",
       "\t 20 & 888b0c0302684d39b00941d56aa58710 & WP\\_187014712.1 & 50S ribosomal protein L14 {[}Dysosmobacter sp. BX15{]}    &  99.18 & 122 & 1 & 1 & 366 & 1 & 122 & 2.03e-80 & 122 & 369 & Oscillibacter sp. 57\\_20;Dysosmobacter sp. BX15          & 1897011;2763042 & 1 & 50S ribosomal protein L14 & Dysosmobacter sp. BX15   \\\\\n",
       "\t ⋮ & ⋮ & ⋮ & ⋮ & ⋮ & ⋮ & ⋮ & ⋮ & ⋮ & ⋮ & ⋮ & ⋮ & ⋮ & ⋮ & ⋮ & ⋮ & ⋮ & ⋮ & ⋮\\\\\n",
       "\t 36 & 72fb21e0be894548a80af498875e107b & WP\\_040661538.1 & 30S ribosomal protein S2 {[}Oscillibacter ruminantium{]} & 99.142 & 233 &  2 & 1 & 699 & 1 & 233 & 3.85e-173 & 244 & 759 & Oscillibacter ruminantium GH1;Oscillibacter ruminantium & 1007096;1263547 & 1 & 30S ribosomal protein S2 & Oscillibacter ruminantium\\\\\n",
       "\t 36 & 72fb21e0be894548a80af498875e107b & WP\\_187028606.1 & 30S ribosomal protein S2 {[}Dysosmobacter sp. NSJ-60{]}  & 93.562 & 233 & 15 & 1 & 699 & 1 & 233 & 1.25e-163 & 241 & 759 & Dysosmobacter sp. NSJ-60                                & 2763041         & 2 & 30S ribosomal protein S2 & Dysosmobacter sp. NSJ-60 \\\\\n",
       "\\end{tabular}\n"
      ],
      "text/markdown": [
       "\n",
       "A data.frame: 9 × 19\n",
       "\n",
       "| cluster_id &lt;dbl&gt; | query &lt;fct&gt; | subject &lt;fct&gt; | subject_name &lt;fct&gt; | pident &lt;dbl&gt; | length &lt;int&gt; | mismatch &lt;int&gt; | qstart &lt;int&gt; | qend &lt;int&gt; | sstart &lt;int&gt; | send &lt;int&gt; | evalue &lt;dbl&gt; | slen &lt;int&gt; | qlen &lt;int&gt; | sscinames &lt;fct&gt; | staxids &lt;fct&gt; | pident_rank &lt;int&gt; | gene_name &lt;chr&gt; | gene_taxonomy &lt;chr&gt; |\n",
       "|---|---|---|---|---|---|---|---|---|---|---|---|---|---|---|---|---|---|---|\n",
       "| 20 | 888b0c0302684d39b00941d56aa58710 | WP_040663505.1 | 50S ribosomal protein L14 [Oscillibacter ruminantium] | 100.00 | 122 | 0 | 1 | 366 | 1 | 122 | 4.23e-81 | 122 | 369 | Oscillibacter ruminantium GH1;Oscillibacter ruminantium | 1007096;1263547 | 3 | 50S ribosomal protein L14 | Oscillibacter ruminantium |\n",
       "| 20 | 888b0c0302684d39b00941d56aa58710 | WP_187014712.1 | 50S ribosomal protein L14 [Dysosmobacter sp. BX15]    |  99.18 | 122 | 1 | 1 | 366 | 1 | 122 | 2.03e-80 | 122 | 369 | Oscillibacter sp. 57_20;Dysosmobacter sp. BX15          | 1897011;2763042 | 1 | 50S ribosomal protein L14 | Dysosmobacter sp. BX15    |\n",
       "| ⋮ | ⋮ | ⋮ | ⋮ | ⋮ | ⋮ | ⋮ | ⋮ | ⋮ | ⋮ | ⋮ | ⋮ | ⋮ | ⋮ | ⋮ | ⋮ | ⋮ | ⋮ | ⋮ |\n",
       "| 36 | 72fb21e0be894548a80af498875e107b | WP_040661538.1 | 30S ribosomal protein S2 [Oscillibacter ruminantium] | 99.142 | 233 |  2 | 1 | 699 | 1 | 233 | 3.85e-173 | 244 | 759 | Oscillibacter ruminantium GH1;Oscillibacter ruminantium | 1007096;1263547 | 1 | 30S ribosomal protein S2 | Oscillibacter ruminantium |\n",
       "| 36 | 72fb21e0be894548a80af498875e107b | WP_187028606.1 | 30S ribosomal protein S2 [Dysosmobacter sp. NSJ-60]  | 93.562 | 233 | 15 | 1 | 699 | 1 | 233 | 1.25e-163 | 241 | 759 | Dysosmobacter sp. NSJ-60                                | 2763041         | 2 | 30S ribosomal protein S2 | Dysosmobacter sp. NSJ-60  |\n",
       "\n"
      ],
      "text/plain": [
       "  cluster_id query                            subject       \n",
       "1 20         888b0c0302684d39b00941d56aa58710 WP_040663505.1\n",
       "2 20         888b0c0302684d39b00941d56aa58710 WP_187014712.1\n",
       "⋮ ⋮          ⋮                                ⋮             \n",
       "8 36         72fb21e0be894548a80af498875e107b WP_040661538.1\n",
       "9 36         72fb21e0be894548a80af498875e107b WP_187028606.1\n",
       "  subject_name                                          pident length mismatch\n",
       "1 50S ribosomal protein L14 [Oscillibacter ruminantium] 100.00 122    0       \n",
       "2 50S ribosomal protein L14 [Dysosmobacter sp. BX15]     99.18 122    1       \n",
       "⋮ ⋮                                                     ⋮      ⋮      ⋮       \n",
       "8 30S ribosomal protein S2 [Oscillibacter ruminantium]  99.142 233     2      \n",
       "9 30S ribosomal protein S2 [Dysosmobacter sp. NSJ-60]   93.562 233    15      \n",
       "  qstart qend sstart send evalue    slen qlen\n",
       "1 1      366  1      122  4.23e-81  122  369 \n",
       "2 1      366  1      122  2.03e-80  122  369 \n",
       "⋮ ⋮      ⋮    ⋮      ⋮    ⋮         ⋮    ⋮   \n",
       "8 1      699  1      233  3.85e-173 244  759 \n",
       "9 1      699  1      233  1.25e-163 241  759 \n",
       "  sscinames                                               staxids        \n",
       "1 Oscillibacter ruminantium GH1;Oscillibacter ruminantium 1007096;1263547\n",
       "2 Oscillibacter sp. 57_20;Dysosmobacter sp. BX15          1897011;2763042\n",
       "⋮ ⋮                                                       ⋮              \n",
       "8 Oscillibacter ruminantium GH1;Oscillibacter ruminantium 1007096;1263547\n",
       "9 Dysosmobacter sp. NSJ-60                                2763041        \n",
       "  pident_rank gene_name                 gene_taxonomy            \n",
       "1 3           50S ribosomal protein L14 Oscillibacter ruminantium\n",
       "2 1           50S ribosomal protein L14 Dysosmobacter sp. BX15   \n",
       "⋮ ⋮           ⋮                         ⋮                        \n",
       "8 1           30S ribosomal protein S2  Oscillibacter ruminantium\n",
       "9 2           30S ribosomal protein S2  Dysosmobacter sp. NSJ-60 "
      ]
     },
     "metadata": {},
     "output_type": "display_data"
    }
   ],
   "source": [
    "gene_annot = read.delim(file.path(work_dir, 'primers', 'cgp', 'core_clusters_blastx.tsv'), \n",
    "                        sep='\\t') %>%\n",
    "    mutate(cluster_id = gsub('cluster_', '', cluster_id) %>% as.Num) %>%\n",
    "    semi_join(primer_info, c('cluster_id')) %>%\n",
    "    mutate(gene_name = gsub(' \\\\[.+', '', subject_name),\n",
    "           gene_taxonomy = gsub('.+\\\\[', '', subject_name),\n",
    "           gene_taxonomy = gsub('\\\\]', '', gene_taxonomy))\n",
    "gene_annot"
   ]
  },
  {
   "cell_type": "code",
   "execution_count": 29,
   "metadata": {
    "execution": {
     "iopub.execute_input": "2021-01-14T18:46:22.777605Z",
     "iopub.status.busy": "2021-01-14T18:46:22.775752Z",
     "iopub.status.idle": "2021-01-14T18:46:22.802942Z"
    }
   },
   "outputs": [
    {
     "data": {
      "text/html": [
       "<table>\n",
       "<caption>A data.frame: 3 × 2</caption>\n",
       "<thead>\n",
       "\t<tr><th scope=col>cluster_id</th><th scope=col>gene_name</th></tr>\n",
       "\t<tr><th scope=col>&lt;dbl&gt;</th><th scope=col>&lt;chr&gt;</th></tr>\n",
       "</thead>\n",
       "<tbody>\n",
       "\t<tr><td>20</td><td>50S ribosomal protein L14</td></tr>\n",
       "\t<tr><td>23</td><td>50S ribosomal protein L20</td></tr>\n",
       "\t<tr><td>36</td><td>30S ribosomal protein S2 </td></tr>\n",
       "</tbody>\n",
       "</table>\n"
      ],
      "text/latex": [
       "A data.frame: 3 × 2\n",
       "\\begin{tabular}{ll}\n",
       " cluster\\_id & gene\\_name\\\\\n",
       " <dbl> & <chr>\\\\\n",
       "\\hline\n",
       "\t 20 & 50S ribosomal protein L14\\\\\n",
       "\t 23 & 50S ribosomal protein L20\\\\\n",
       "\t 36 & 30S ribosomal protein S2 \\\\\n",
       "\\end{tabular}\n"
      ],
      "text/markdown": [
       "\n",
       "A data.frame: 3 × 2\n",
       "\n",
       "| cluster_id &lt;dbl&gt; | gene_name &lt;chr&gt; |\n",
       "|---|---|\n",
       "| 20 | 50S ribosomal protein L14 |\n",
       "| 23 | 50S ribosomal protein L20 |\n",
       "| 36 | 30S ribosomal protein S2  |\n",
       "\n"
      ],
      "text/plain": [
       "  cluster_id gene_name                \n",
       "1 20         50S ribosomal protein L14\n",
       "2 23         50S ribosomal protein L20\n",
       "3 36         30S ribosomal protein S2 "
      ]
     },
     "metadata": {},
     "output_type": "display_data"
    }
   ],
   "source": [
    "df.dims(50)\n",
    "gene_annot %>%\n",
    "    distinct(cluster_id, gene_name) \n",
    "df.dims()"
   ]
  },
  {
   "cell_type": "code",
   "execution_count": 30,
   "metadata": {
    "execution": {
     "iopub.execute_input": "2021-01-14T18:46:31.469559Z",
     "iopub.status.busy": "2021-01-14T18:46:31.468634Z",
     "iopub.status.idle": "2021-01-14T18:46:31.504912Z"
    }
   },
   "outputs": [
    {
     "data": {
      "text/html": [
       "<table>\n",
       "<caption>A data.frame: 9 × 2</caption>\n",
       "<thead>\n",
       "\t<tr><th scope=col>cluster_id</th><th scope=col>gene_taxonomy</th></tr>\n",
       "\t<tr><th scope=col>&lt;dbl&gt;</th><th scope=col>&lt;chr&gt;</th></tr>\n",
       "</thead>\n",
       "<tbody>\n",
       "\t<tr><td>20</td><td>Oscillibacter ruminantium  </td></tr>\n",
       "\t<tr><td>20</td><td>Dysosmobacter sp. BX15     </td></tr>\n",
       "\t<tr><td>20</td><td>Oscillibacter valericigenes</td></tr>\n",
       "\t<tr><td>23</td><td>Oscillibacter sp. 1-3      </td></tr>\n",
       "\t<tr><td>23</td><td>Oscillibacter sp.          </td></tr>\n",
       "\t<tr><td>23</td><td>Oscillibacter sp. CAG:155  </td></tr>\n",
       "\t<tr><td>36</td><td>Oscillibacter valericigenes</td></tr>\n",
       "\t<tr><td>36</td><td>Oscillibacter ruminantium  </td></tr>\n",
       "\t<tr><td>36</td><td>Dysosmobacter sp. NSJ-60   </td></tr>\n",
       "</tbody>\n",
       "</table>\n"
      ],
      "text/latex": [
       "A data.frame: 9 × 2\n",
       "\\begin{tabular}{ll}\n",
       " cluster\\_id & gene\\_taxonomy\\\\\n",
       " <dbl> & <chr>\\\\\n",
       "\\hline\n",
       "\t 20 & Oscillibacter ruminantium  \\\\\n",
       "\t 20 & Dysosmobacter sp. BX15     \\\\\n",
       "\t 20 & Oscillibacter valericigenes\\\\\n",
       "\t 23 & Oscillibacter sp. 1-3      \\\\\n",
       "\t 23 & Oscillibacter sp.          \\\\\n",
       "\t 23 & Oscillibacter sp. CAG:155  \\\\\n",
       "\t 36 & Oscillibacter valericigenes\\\\\n",
       "\t 36 & Oscillibacter ruminantium  \\\\\n",
       "\t 36 & Dysosmobacter sp. NSJ-60   \\\\\n",
       "\\end{tabular}\n"
      ],
      "text/markdown": [
       "\n",
       "A data.frame: 9 × 2\n",
       "\n",
       "| cluster_id &lt;dbl&gt; | gene_taxonomy &lt;chr&gt; |\n",
       "|---|---|\n",
       "| 20 | Oscillibacter ruminantium   |\n",
       "| 20 | Dysosmobacter sp. BX15      |\n",
       "| 20 | Oscillibacter valericigenes |\n",
       "| 23 | Oscillibacter sp. 1-3       |\n",
       "| 23 | Oscillibacter sp.           |\n",
       "| 23 | Oscillibacter sp. CAG:155   |\n",
       "| 36 | Oscillibacter valericigenes |\n",
       "| 36 | Oscillibacter ruminantium   |\n",
       "| 36 | Dysosmobacter sp. NSJ-60    |\n",
       "\n"
      ],
      "text/plain": [
       "  cluster_id gene_taxonomy              \n",
       "1 20         Oscillibacter ruminantium  \n",
       "2 20         Dysosmobacter sp. BX15     \n",
       "3 20         Oscillibacter valericigenes\n",
       "4 23         Oscillibacter sp. 1-3      \n",
       "5 23         Oscillibacter sp.          \n",
       "6 23         Oscillibacter sp. CAG:155  \n",
       "7 36         Oscillibacter valericigenes\n",
       "8 36         Oscillibacter ruminantium  \n",
       "9 36         Dysosmobacter sp. NSJ-60   "
      ]
     },
     "metadata": {},
     "output_type": "display_data"
    }
   ],
   "source": [
    "df.dims(50)\n",
    "gene_annot %>%\n",
    "    distinct(cluster_id, gene_taxonomy) \n",
    "df.dims()"
   ]
  },
  {
   "cell_type": "markdown",
   "metadata": {},
   "source": [
    "### Gene clusters: clostest related"
   ]
  },
  {
   "cell_type": "code",
   "execution_count": 31,
   "metadata": {
    "execution": {
     "iopub.execute_input": "2021-01-14T18:47:34.470965Z",
     "iopub.status.busy": "2021-01-14T18:47:34.469144Z",
     "iopub.status.idle": "2021-01-14T18:47:34.569391Z"
    }
   },
   "outputs": [
    {
     "data": {
      "text/html": [
       "<table>\n",
       "<caption>A data.frame: 90 × 19</caption>\n",
       "<thead>\n",
       "\t<tr><th scope=col>cluster_id</th><th scope=col>query</th><th scope=col>subject</th><th scope=col>subject_name</th><th scope=col>pident</th><th scope=col>length</th><th scope=col>mismatch</th><th scope=col>qstart</th><th scope=col>qend</th><th scope=col>sstart</th><th scope=col>send</th><th scope=col>evalue</th><th scope=col>slen</th><th scope=col>qlen</th><th scope=col>sscinames</th><th scope=col>staxids</th><th scope=col>pident_rank</th><th scope=col>gene_name</th><th scope=col>gene_taxonomy</th></tr>\n",
       "\t<tr><th scope=col>&lt;dbl&gt;</th><th scope=col>&lt;fct&gt;</th><th scope=col>&lt;fct&gt;</th><th scope=col>&lt;fct&gt;</th><th scope=col>&lt;dbl&gt;</th><th scope=col>&lt;int&gt;</th><th scope=col>&lt;int&gt;</th><th scope=col>&lt;int&gt;</th><th scope=col>&lt;int&gt;</th><th scope=col>&lt;int&gt;</th><th scope=col>&lt;int&gt;</th><th scope=col>&lt;dbl&gt;</th><th scope=col>&lt;int&gt;</th><th scope=col>&lt;int&gt;</th><th scope=col>&lt;fct&gt;</th><th scope=col>&lt;fct&gt;</th><th scope=col>&lt;int&gt;</th><th scope=col>&lt;chr&gt;</th><th scope=col>&lt;chr&gt;</th></tr>\n",
       "</thead>\n",
       "<tbody>\n",
       "\t<tr><td>20</td><td>888b0c0302684d39b00941d56aa58710</td><td>WP_187014712.1</td><td>50S ribosomal protein L14 [Dysosmobacter sp. BX15]  </td><td>99.180</td><td>122</td><td>1</td><td>1</td><td>366</td><td>1</td><td>122</td><td>2.03e-80</td><td>122</td><td>369</td><td>Dysosmobacter sp. BX15  </td><td>2763042</td><td>1</td><td>50S ribosomal protein L14</td><td>Dysosmobacter sp. BX15  </td></tr>\n",
       "\t<tr><td>20</td><td>888b0c0302684d39b00941d56aa58710</td><td>WP_187028153.1</td><td>50S ribosomal protein L14 [Dysosmobacter sp. NSJ-60]</td><td>95.082</td><td>122</td><td>6</td><td>1</td><td>366</td><td>1</td><td>122</td><td>1.23e-77</td><td>122</td><td>369</td><td>Dysosmobacter sp. NSJ-60</td><td>2763041</td><td>3</td><td>50S ribosomal protein L14</td><td>Dysosmobacter sp. NSJ-60</td></tr>\n",
       "\t<tr><td>⋮</td><td>⋮</td><td>⋮</td><td>⋮</td><td>⋮</td><td>⋮</td><td>⋮</td><td>⋮</td><td>⋮</td><td>⋮</td><td>⋮</td><td>⋮</td><td>⋮</td><td>⋮</td><td>⋮</td><td>⋮</td><td>⋮</td><td>⋮</td><td>⋮</td></tr>\n",
       "\t<tr><td>36</td><td>72fb21e0be894548a80af498875e107b</td><td>WP_050618278.1</td><td>30S ribosomal protein S2 [Intestinimonas massiliensis]</td><td>84.581</td><td>227</td><td>35</td><td>13</td><td>693</td><td>2</td><td>228</td><td>1.92e-144</td><td>247</td><td>759</td><td>Intestinimonas massiliensis                         </td><td>1673721       </td><td>29</td><td>30S ribosomal protein S2</td><td>Intestinimonas massiliensis</td></tr>\n",
       "\t<tr><td>36</td><td>72fb21e0be894548a80af498875e107b</td><td>CUQ23443.1    </td><td>30S ribosomal protein S2 [Flavonifractor plautii]     </td><td>84.581</td><td>227</td><td>35</td><td>13</td><td>693</td><td>2</td><td>228</td><td>2.37e-144</td><td>247</td><td>759</td><td>Flavonifractor plautii;uncultured Flavonifractor sp.</td><td>292800;1193534</td><td>29</td><td>30S ribosomal protein S2</td><td>Flavonifractor plautii     </td></tr>\n",
       "</tbody>\n",
       "</table>\n"
      ],
      "text/latex": [
       "A data.frame: 90 × 19\n",
       "\\begin{tabular}{lllllllllllllllllll}\n",
       " cluster\\_id & query & subject & subject\\_name & pident & length & mismatch & qstart & qend & sstart & send & evalue & slen & qlen & sscinames & staxids & pident\\_rank & gene\\_name & gene\\_taxonomy\\\\\n",
       " <dbl> & <fct> & <fct> & <fct> & <dbl> & <int> & <int> & <int> & <int> & <int> & <int> & <dbl> & <int> & <int> & <fct> & <fct> & <int> & <chr> & <chr>\\\\\n",
       "\\hline\n",
       "\t 20 & 888b0c0302684d39b00941d56aa58710 & WP\\_187014712.1 & 50S ribosomal protein L14 {[}Dysosmobacter sp. BX15{]}   & 99.180 & 122 & 1 & 1 & 366 & 1 & 122 & 2.03e-80 & 122 & 369 & Dysosmobacter sp. BX15   & 2763042 & 1 & 50S ribosomal protein L14 & Dysosmobacter sp. BX15  \\\\\n",
       "\t 20 & 888b0c0302684d39b00941d56aa58710 & WP\\_187028153.1 & 50S ribosomal protein L14 {[}Dysosmobacter sp. NSJ-60{]} & 95.082 & 122 & 6 & 1 & 366 & 1 & 122 & 1.23e-77 & 122 & 369 & Dysosmobacter sp. NSJ-60 & 2763041 & 3 & 50S ribosomal protein L14 & Dysosmobacter sp. NSJ-60\\\\\n",
       "\t ⋮ & ⋮ & ⋮ & ⋮ & ⋮ & ⋮ & ⋮ & ⋮ & ⋮ & ⋮ & ⋮ & ⋮ & ⋮ & ⋮ & ⋮ & ⋮ & ⋮ & ⋮ & ⋮\\\\\n",
       "\t 36 & 72fb21e0be894548a80af498875e107b & WP\\_050618278.1 & 30S ribosomal protein S2 {[}Intestinimonas massiliensis{]} & 84.581 & 227 & 35 & 13 & 693 & 2 & 228 & 1.92e-144 & 247 & 759 & Intestinimonas massiliensis                          & 1673721        & 29 & 30S ribosomal protein S2 & Intestinimonas massiliensis\\\\\n",
       "\t 36 & 72fb21e0be894548a80af498875e107b & CUQ23443.1     & 30S ribosomal protein S2 {[}Flavonifractor plautii{]}      & 84.581 & 227 & 35 & 13 & 693 & 2 & 228 & 2.37e-144 & 247 & 759 & Flavonifractor plautii;uncultured Flavonifractor sp. & 292800;1193534 & 29 & 30S ribosomal protein S2 & Flavonifractor plautii     \\\\\n",
       "\\end{tabular}\n"
      ],
      "text/markdown": [
       "\n",
       "A data.frame: 90 × 19\n",
       "\n",
       "| cluster_id &lt;dbl&gt; | query &lt;fct&gt; | subject &lt;fct&gt; | subject_name &lt;fct&gt; | pident &lt;dbl&gt; | length &lt;int&gt; | mismatch &lt;int&gt; | qstart &lt;int&gt; | qend &lt;int&gt; | sstart &lt;int&gt; | send &lt;int&gt; | evalue &lt;dbl&gt; | slen &lt;int&gt; | qlen &lt;int&gt; | sscinames &lt;fct&gt; | staxids &lt;fct&gt; | pident_rank &lt;int&gt; | gene_name &lt;chr&gt; | gene_taxonomy &lt;chr&gt; |\n",
       "|---|---|---|---|---|---|---|---|---|---|---|---|---|---|---|---|---|---|---|\n",
       "| 20 | 888b0c0302684d39b00941d56aa58710 | WP_187014712.1 | 50S ribosomal protein L14 [Dysosmobacter sp. BX15]   | 99.180 | 122 | 1 | 1 | 366 | 1 | 122 | 2.03e-80 | 122 | 369 | Dysosmobacter sp. BX15   | 2763042 | 1 | 50S ribosomal protein L14 | Dysosmobacter sp. BX15   |\n",
       "| 20 | 888b0c0302684d39b00941d56aa58710 | WP_187028153.1 | 50S ribosomal protein L14 [Dysosmobacter sp. NSJ-60] | 95.082 | 122 | 6 | 1 | 366 | 1 | 122 | 1.23e-77 | 122 | 369 | Dysosmobacter sp. NSJ-60 | 2763041 | 3 | 50S ribosomal protein L14 | Dysosmobacter sp. NSJ-60 |\n",
       "| ⋮ | ⋮ | ⋮ | ⋮ | ⋮ | ⋮ | ⋮ | ⋮ | ⋮ | ⋮ | ⋮ | ⋮ | ⋮ | ⋮ | ⋮ | ⋮ | ⋮ | ⋮ | ⋮ |\n",
       "| 36 | 72fb21e0be894548a80af498875e107b | WP_050618278.1 | 30S ribosomal protein S2 [Intestinimonas massiliensis] | 84.581 | 227 | 35 | 13 | 693 | 2 | 228 | 1.92e-144 | 247 | 759 | Intestinimonas massiliensis                          | 1673721        | 29 | 30S ribosomal protein S2 | Intestinimonas massiliensis |\n",
       "| 36 | 72fb21e0be894548a80af498875e107b | CUQ23443.1     | 30S ribosomal protein S2 [Flavonifractor plautii]      | 84.581 | 227 | 35 | 13 | 693 | 2 | 228 | 2.37e-144 | 247 | 759 | Flavonifractor plautii;uncultured Flavonifractor sp. | 292800;1193534 | 29 | 30S ribosomal protein S2 | Flavonifractor plautii      |\n",
       "\n"
      ],
      "text/plain": [
       "   cluster_id query                            subject       \n",
       "1  20         888b0c0302684d39b00941d56aa58710 WP_187014712.1\n",
       "2  20         888b0c0302684d39b00941d56aa58710 WP_187028153.1\n",
       "⋮  ⋮          ⋮                                ⋮             \n",
       "89 36         72fb21e0be894548a80af498875e107b WP_050618278.1\n",
       "90 36         72fb21e0be894548a80af498875e107b CUQ23443.1    \n",
       "   subject_name                                           pident length\n",
       "1  50S ribosomal protein L14 [Dysosmobacter sp. BX15]     99.180 122   \n",
       "2  50S ribosomal protein L14 [Dysosmobacter sp. NSJ-60]   95.082 122   \n",
       "⋮  ⋮                                                      ⋮      ⋮     \n",
       "89 30S ribosomal protein S2 [Intestinimonas massiliensis] 84.581 227   \n",
       "90 30S ribosomal protein S2 [Flavonifractor plautii]      84.581 227   \n",
       "   mismatch qstart qend sstart send evalue    slen qlen\n",
       "1  1        1      366  1      122  2.03e-80  122  369 \n",
       "2  6        1      366  1      122  1.23e-77  122  369 \n",
       "⋮  ⋮        ⋮      ⋮    ⋮      ⋮    ⋮         ⋮    ⋮   \n",
       "89 35       13     693  2      228  1.92e-144 247  759 \n",
       "90 35       13     693  2      228  2.37e-144 247  759 \n",
       "   sscinames                                            staxids       \n",
       "1  Dysosmobacter sp. BX15                               2763042       \n",
       "2  Dysosmobacter sp. NSJ-60                             2763041       \n",
       "⋮  ⋮                                                    ⋮             \n",
       "89 Intestinimonas massiliensis                          1673721       \n",
       "90 Flavonifractor plautii;uncultured Flavonifractor sp. 292800;1193534\n",
       "   pident_rank gene_name                 gene_taxonomy              \n",
       "1  1           50S ribosomal protein L14 Dysosmobacter sp. BX15     \n",
       "2  3           50S ribosomal protein L14 Dysosmobacter sp. NSJ-60   \n",
       "⋮  ⋮           ⋮                         ⋮                          \n",
       "89 29          30S ribosomal protein S2  Intestinimonas massiliensis\n",
       "90 29          30S ribosomal protein S2  Flavonifractor plautii     "
      ]
     },
     "metadata": {},
     "output_type": "display_data"
    }
   ],
   "source": [
    "gene_annot = read.delim(file.path(work_dir, 'primers', 'cgp', 'core_clusters_blastx_nontarget.tsv'), \n",
    "                        sep='\\t') %>%\n",
    "    mutate(cluster_id = gsub('cluster_', '', cluster_id) %>% as.Num) %>%\n",
    "    semi_join(primer_info, c('cluster_id')) %>%\n",
    "    mutate(gene_name = gsub(' \\\\[.+', '', subject_name),\n",
    "           gene_taxonomy = gsub('.+\\\\[', '', subject_name),\n",
    "           gene_taxonomy = gsub('\\\\]', '', gene_taxonomy))\n",
    "gene_annot"
   ]
  },
  {
   "cell_type": "code",
   "execution_count": 36,
   "metadata": {
    "execution": {
     "iopub.execute_input": "2021-01-14T18:50:10.280862Z",
     "iopub.status.busy": "2021-01-14T18:50:10.279858Z",
     "iopub.status.idle": "2021-01-14T18:50:10.314051Z"
    }
   },
   "outputs": [
    {
     "data": {
      "text/html": [
       "<table>\n",
       "<caption>A data.frame: 11 × 4</caption>\n",
       "<thead>\n",
       "\t<tr><th scope=col>cluster_id</th><th scope=col>pident</th><th scope=col>gene_name</th><th scope=col>gene_taxonomy</th></tr>\n",
       "\t<tr><th scope=col>&lt;dbl&gt;</th><th scope=col>&lt;dbl&gt;</th><th scope=col>&lt;chr&gt;</th><th scope=col>&lt;chr&gt;</th></tr>\n",
       "</thead>\n",
       "<tbody>\n",
       "\t<tr><td>20</td><td>99.180</td><td>50S ribosomal protein L14              </td><td>Dysosmobacter sp. BX15   </td></tr>\n",
       "\t<tr><td>20</td><td>95.082</td><td>50S ribosomal protein L14              </td><td>Dysosmobacter sp. NSJ-60 </td></tr>\n",
       "\t<tr><td>20</td><td>95.902</td><td>50S ribosomal protein L14              </td><td>Ruminococcaceae bacterium</td></tr>\n",
       "\t<tr><td>20</td><td>95.082</td><td>50S ribosomal protein L14              </td><td>Ruminococcaceae bacterium</td></tr>\n",
       "\t<tr><td>23</td><td>91.379</td><td>MULTISPECIES: 50S ribosomal protein L20</td><td>Oscillospiraceae         </td></tr>\n",
       "\t<tr><td>23</td><td>90.517</td><td>50S ribosomal protein L20              </td><td>Clostridiales bacterium  </td></tr>\n",
       "\t<tr><td>23</td><td>89.655</td><td>50S ribosomal protein L20              </td><td>Ruminococcaceae bacterium</td></tr>\n",
       "\t<tr><td>23</td><td>89.655</td><td>50S ribosomal protein L20              </td><td>Dysosmobacter sp. BX15   </td></tr>\n",
       "\t<tr><td>36</td><td>93.562</td><td>30S ribosomal protein S2               </td><td>Dysosmobacter sp. NSJ-60 </td></tr>\n",
       "\t<tr><td>36</td><td>93.103</td><td>MULTISPECIES: 30S ribosomal protein S2 </td><td>Oscillospiraceae         </td></tr>\n",
       "\t<tr><td>36</td><td>92.275</td><td>30S ribosomal protein S2               </td><td>Ruminococcaceae bacterium</td></tr>\n",
       "</tbody>\n",
       "</table>\n"
      ],
      "text/latex": [
       "A data.frame: 11 × 4\n",
       "\\begin{tabular}{llll}\n",
       " cluster\\_id & pident & gene\\_name & gene\\_taxonomy\\\\\n",
       " <dbl> & <dbl> & <chr> & <chr>\\\\\n",
       "\\hline\n",
       "\t 20 & 99.180 & 50S ribosomal protein L14               & Dysosmobacter sp. BX15   \\\\\n",
       "\t 20 & 95.082 & 50S ribosomal protein L14               & Dysosmobacter sp. NSJ-60 \\\\\n",
       "\t 20 & 95.902 & 50S ribosomal protein L14               & Ruminococcaceae bacterium\\\\\n",
       "\t 20 & 95.082 & 50S ribosomal protein L14               & Ruminococcaceae bacterium\\\\\n",
       "\t 23 & 91.379 & MULTISPECIES: 50S ribosomal protein L20 & Oscillospiraceae         \\\\\n",
       "\t 23 & 90.517 & 50S ribosomal protein L20               & Clostridiales bacterium  \\\\\n",
       "\t 23 & 89.655 & 50S ribosomal protein L20               & Ruminococcaceae bacterium\\\\\n",
       "\t 23 & 89.655 & 50S ribosomal protein L20               & Dysosmobacter sp. BX15   \\\\\n",
       "\t 36 & 93.562 & 30S ribosomal protein S2                & Dysosmobacter sp. NSJ-60 \\\\\n",
       "\t 36 & 93.103 & MULTISPECIES: 30S ribosomal protein S2  & Oscillospiraceae         \\\\\n",
       "\t 36 & 92.275 & 30S ribosomal protein S2                & Ruminococcaceae bacterium\\\\\n",
       "\\end{tabular}\n"
      ],
      "text/markdown": [
       "\n",
       "A data.frame: 11 × 4\n",
       "\n",
       "| cluster_id &lt;dbl&gt; | pident &lt;dbl&gt; | gene_name &lt;chr&gt; | gene_taxonomy &lt;chr&gt; |\n",
       "|---|---|---|---|\n",
       "| 20 | 99.180 | 50S ribosomal protein L14               | Dysosmobacter sp. BX15    |\n",
       "| 20 | 95.082 | 50S ribosomal protein L14               | Dysosmobacter sp. NSJ-60  |\n",
       "| 20 | 95.902 | 50S ribosomal protein L14               | Ruminococcaceae bacterium |\n",
       "| 20 | 95.082 | 50S ribosomal protein L14               | Ruminococcaceae bacterium |\n",
       "| 23 | 91.379 | MULTISPECIES: 50S ribosomal protein L20 | Oscillospiraceae          |\n",
       "| 23 | 90.517 | 50S ribosomal protein L20               | Clostridiales bacterium   |\n",
       "| 23 | 89.655 | 50S ribosomal protein L20               | Ruminococcaceae bacterium |\n",
       "| 23 | 89.655 | 50S ribosomal protein L20               | Dysosmobacter sp. BX15    |\n",
       "| 36 | 93.562 | 30S ribosomal protein S2                | Dysosmobacter sp. NSJ-60  |\n",
       "| 36 | 93.103 | MULTISPECIES: 30S ribosomal protein S2  | Oscillospiraceae          |\n",
       "| 36 | 92.275 | 30S ribosomal protein S2                | Ruminococcaceae bacterium |\n",
       "\n"
      ],
      "text/plain": [
       "   cluster_id pident gene_name                              \n",
       "1  20         99.180 50S ribosomal protein L14              \n",
       "2  20         95.082 50S ribosomal protein L14              \n",
       "3  20         95.902 50S ribosomal protein L14              \n",
       "4  20         95.082 50S ribosomal protein L14              \n",
       "5  23         91.379 MULTISPECIES: 50S ribosomal protein L20\n",
       "6  23         90.517 50S ribosomal protein L20              \n",
       "7  23         89.655 50S ribosomal protein L20              \n",
       "8  23         89.655 50S ribosomal protein L20              \n",
       "9  36         93.562 30S ribosomal protein S2               \n",
       "10 36         93.103 MULTISPECIES: 30S ribosomal protein S2 \n",
       "11 36         92.275 30S ribosomal protein S2               \n",
       "   gene_taxonomy            \n",
       "1  Dysosmobacter sp. BX15   \n",
       "2  Dysosmobacter sp. NSJ-60 \n",
       "3  Ruminococcaceae bacterium\n",
       "4  Ruminococcaceae bacterium\n",
       "5  Oscillospiraceae         \n",
       "6  Clostridiales bacterium  \n",
       "7  Ruminococcaceae bacterium\n",
       "8  Dysosmobacter sp. BX15   \n",
       "9  Dysosmobacter sp. NSJ-60 \n",
       "10 Oscillospiraceae         \n",
       "11 Ruminococcaceae bacterium"
      ]
     },
     "metadata": {},
     "output_type": "display_data"
    }
   ],
   "source": [
    "df.dims(50)\n",
    "gene_annot %>%\n",
    "    filter(pident > 80,\n",
    "           pident_rank <= 3) %>%\n",
    "    select(cluster_id, gene_name, gene_taxonomy, pident)\n",
    "    \n",
    "df.dims()"
   ]
  },
  {
   "cell_type": "code",
   "execution_count": 32,
   "metadata": {
    "execution": {
     "iopub.execute_input": "2021-01-14T18:47:50.000750Z",
     "iopub.status.busy": "2021-01-14T18:47:49.998983Z",
     "iopub.status.idle": "2021-01-14T18:47:50.079324Z"
    }
   },
   "outputs": [
    {
     "data": {
      "text/html": [
       "<table>\n",
       "<caption>A data.frame: 8 × 2</caption>\n",
       "<thead>\n",
       "\t<tr><th scope=col>cluster_id</th><th scope=col>gene_name</th></tr>\n",
       "\t<tr><th scope=col>&lt;dbl&gt;</th><th scope=col>&lt;chr&gt;</th></tr>\n",
       "</thead>\n",
       "<tbody>\n",
       "\t<tr><td>20</td><td>50S ribosomal protein L14              </td></tr>\n",
       "\t<tr><td>20</td><td>MULTISPECIES: 50S ribosomal protein L14</td></tr>\n",
       "\t<tr><td>23</td><td>MULTISPECIES: 50S ribosomal protein L20</td></tr>\n",
       "\t<tr><td>23</td><td>50S ribosomal protein L20              </td></tr>\n",
       "\t<tr><td>23</td><td>None                                   </td></tr>\n",
       "\t<tr><td>36</td><td>30S ribosomal protein S2               </td></tr>\n",
       "\t<tr><td>36</td><td>MULTISPECIES: 30S ribosomal protein S2 </td></tr>\n",
       "\t<tr><td>36</td><td>None                                   </td></tr>\n",
       "</tbody>\n",
       "</table>\n"
      ],
      "text/latex": [
       "A data.frame: 8 × 2\n",
       "\\begin{tabular}{ll}\n",
       " cluster\\_id & gene\\_name\\\\\n",
       " <dbl> & <chr>\\\\\n",
       "\\hline\n",
       "\t 20 & 50S ribosomal protein L14              \\\\\n",
       "\t 20 & MULTISPECIES: 50S ribosomal protein L14\\\\\n",
       "\t 23 & MULTISPECIES: 50S ribosomal protein L20\\\\\n",
       "\t 23 & 50S ribosomal protein L20              \\\\\n",
       "\t 23 & None                                   \\\\\n",
       "\t 36 & 30S ribosomal protein S2               \\\\\n",
       "\t 36 & MULTISPECIES: 30S ribosomal protein S2 \\\\\n",
       "\t 36 & None                                   \\\\\n",
       "\\end{tabular}\n"
      ],
      "text/markdown": [
       "\n",
       "A data.frame: 8 × 2\n",
       "\n",
       "| cluster_id &lt;dbl&gt; | gene_name &lt;chr&gt; |\n",
       "|---|---|\n",
       "| 20 | 50S ribosomal protein L14               |\n",
       "| 20 | MULTISPECIES: 50S ribosomal protein L14 |\n",
       "| 23 | MULTISPECIES: 50S ribosomal protein L20 |\n",
       "| 23 | 50S ribosomal protein L20               |\n",
       "| 23 | None                                    |\n",
       "| 36 | 30S ribosomal protein S2                |\n",
       "| 36 | MULTISPECIES: 30S ribosomal protein S2  |\n",
       "| 36 | None                                    |\n",
       "\n"
      ],
      "text/plain": [
       "  cluster_id gene_name                              \n",
       "1 20         50S ribosomal protein L14              \n",
       "2 20         MULTISPECIES: 50S ribosomal protein L14\n",
       "3 23         MULTISPECIES: 50S ribosomal protein L20\n",
       "4 23         50S ribosomal protein L20              \n",
       "5 23         None                                   \n",
       "6 36         30S ribosomal protein S2               \n",
       "7 36         MULTISPECIES: 30S ribosomal protein S2 \n",
       "8 36         None                                   "
      ]
     },
     "metadata": {},
     "output_type": "display_data"
    }
   ],
   "source": [
    "df.dims(50)\n",
    "gene_annot %>%\n",
    "    distinct(cluster_id, gene_name) \n",
    "df.dims()"
   ]
  },
  {
   "cell_type": "markdown",
   "metadata": {},
   "source": [
    "# sessionInfo"
   ]
  },
  {
   "cell_type": "code",
   "execution_count": 28,
   "metadata": {
    "execution": {
     "iopub.execute_input": "2021-01-12T13:17:11.899393Z",
     "iopub.status.busy": "2021-01-12T13:17:11.897289Z",
     "iopub.status.idle": "2021-01-12T13:17:12.152780Z",
     "shell.execute_reply": "2021-01-12T13:17:12.151166Z"
    }
   },
   "outputs": [
    {
     "name": "stdout",
     "output_type": "stream",
     "text": [
      "LLG\n",
      "===\n",
      "\n",
      "Ley Lab Genome analysis pipeline (LLG)\n",
      "\n",
      "* Version: 0.1.9\n",
      "* Authors:\n",
      "  * Nick Youngblut <nyoungb2@gmail.com>\n",
      "* Maintainers:\n",
      "  * Nick Youngblut <nyoungb2@gmail.com>\n",
      "\n",
      "--- conda envs ---\n",
      "==> /ebio/abt3_projects/software/dev/ll_pipelines/llg//bin/envs/gtdbtk.yaml <==\n",
      "channels:\n",
      "- conda-forge\n",
      "- bioconda\n",
      "dependencies:\n",
      "- pigz\n",
      "- bioconda::gtdbtk\n",
      "\n",
      "==> /ebio/abt3_projects/software/dev/ll_pipelines/llg//bin/envs/checkm.yaml <==\n",
      "channels:\n",
      "- bioconda\n",
      "dependencies:\n",
      "- python=2.7\n",
      "- pigz\n",
      "- bioconda::prodigal\n",
      "- bioconda::pplacer\n",
      "- bioconda::checkm-genome\n",
      "\n",
      "==> /ebio/abt3_projects/software/dev/ll_pipelines/llg//bin/envs/quast.yaml <==\n",
      "channels:\n",
      "- conda-forge\n",
      "- bioconda\n",
      "dependencies:\n",
      "- bioconda::seqkit\n",
      "- bioconda::quast>=5.0.0\n",
      "\n",
      "==> /ebio/abt3_projects/software/dev/ll_pipelines/llg//bin/envs/sourmash.yaml <==\n",
      "channels:\n",
      "- conda-forge\n",
      "- bioconda\n",
      "dependencies:\n",
      "- bioconda::sourmash=2.0.0a4\n",
      "\n",
      "==> /ebio/abt3_projects/software/dev/ll_pipelines/llg//bin/envs/fastqc.yaml <==\n",
      "channels:\n",
      "- conda-forge\n",
      "- bioconda\n",
      "dependencies:\n",
      "- bioconda::seqtk\n",
      "- bioconda::fastqc=0.11.7\n",
      "\n",
      "==> /ebio/abt3_projects/software/dev/ll_pipelines/llg//bin/envs/multiqc.yaml <==\n",
      "channels:\n",
      "- conda-forge\n",
      "- bioconda\n",
      "dependencies:\n",
      "- bioconda::multiqc=1.4\n",
      "\n",
      "==> /ebio/abt3_projects/software/dev/ll_pipelines/llg//bin/envs/hadley.yaml <==\n",
      "channels:\n",
      "- conda-forge\n",
      "- bioconda\n",
      "dependencies:\n",
      "- conda-forge::r-ape\n",
      "- conda-forge::r-dplyr\n",
      "- conda-forge::r-tidyr\n",
      "- conda-forge::r-ggplot2\n",
      "\n",
      "==> /ebio/abt3_projects/software/dev/ll_pipelines/llg//bin/envs/bbmap.yaml <==\n",
      "channels:\n",
      "- conda-forge\n",
      "- bioconda\n",
      "dependencies:\n",
      "- pigz\n",
      "- bioconda::bbmap=37.78\n",
      "\n",
      "==> /ebio/abt3_projects/software/dev/ll_pipelines/llg//bin/envs/ani.yaml <==\n",
      "channels:\n",
      "- conda-forge\n",
      "- bioconda\n",
      "dependencies:\n",
      "- pigz\n",
      "- bioconda::dashing\n",
      "- bioconda::fastani\n",
      "==> /ebio/abt3_projects/software/dev/ll_pipelines/llg//bin/envs/prokka.yaml <==\n",
      "channels:\n",
      "- conda-forge\n",
      "- bioconda\n",
      "dependencies:\n",
      "- bioconda::prokka\n",
      "\n",
      "==> /ebio/abt3_projects/software/dev/ll_pipelines/llg//bin/envs/prodigal.yaml <==\n",
      "channels:\n",
      "- conda-forge\n",
      "- bioconda\n",
      "dependencies:\n",
      "- bioconda::prodigal\n",
      "- pip:\n",
      "  - biopython-convert\n",
      "\n",
      "==> /ebio/abt3_projects/software/dev/ll_pipelines/llg//bin/envs/eggnog-mapper.yaml <==\n",
      "channels:\n",
      "- conda-forge\n",
      "- bioconda\n",
      "dependencies:\n",
      "- pigz\n",
      "- bioconda::eggnog-mapper\n",
      "\n",
      "==> /ebio/abt3_projects/software/dev/ll_pipelines/llg//bin/envs/phylophlan.yaml <==\n",
      "channels:\n",
      "- conda-forge\n",
      "- bioconda\n",
      "dependencies:\n",
      "- pigz\n",
      "- bioconda::phylophlan\n",
      "\n",
      "==> /ebio/abt3_projects/software/dev/ll_pipelines/llg//bin/envs/drep.yaml <==\n",
      "channels:\n",
      "- conda-forge\n",
      "- bioconda\n",
      "dependencies:\n",
      "- pigz\n",
      "- bioconda::mash\n",
      "- bioconda::checkm-genome\n",
      "- bioconda::drep\n",
      "==> /ebio/abt3_projects/software/dev/ll_pipelines/llg//bin/envs/antismash.yaml <==\n",
      "channels:\n",
      "- conda-forge\n",
      "- bioconda\n",
      "dependencies:\n",
      "- pigz\n",
      "- biopython=1.76\n",
      "- bioconda::antismash>=5.1.2\n",
      "\n",
      "==> /ebio/abt3_projects/software/dev/ll_pipelines/llg//bin/envs/deepbgc.yaml <==\n",
      "channels:\n",
      "- conda-forge\n",
      "- bioconda\n",
      "dependencies:\n",
      "- pigz\n",
      "- conda-forge::biopython=1.76\n",
      "- bioconda::deepbgc=0.1.18\n",
      "\n",
      "==> /ebio/abt3_projects/software/dev/ll_pipelines/llg//bin/envs/abricate.yaml <==\n",
      "channels:\n",
      "- conda-forge\n",
      "- bioconda\n",
      "dependencies:\n",
      "- bioconda::abricate\n",
      "\n",
      "==> /ebio/abt3_projects/software/dev/ll_pipelines/llg//bin/envs/rRNA.yaml <==\n",
      "channels:\n",
      "- qiime2/label/r2020.2\n",
      "- conda-forge\n",
      "- bioconda\n",
      "- defaults\n",
      "dependencies:\n",
      "- barrnap\n",
      "- _libgcc_mutex=0.1\n",
      "- _openmp_mutex=4.5\n",
      "- _r-mutex=1.0.1\n",
      "- alsa-lib=1.1.5\n",
      "- arb-bio-tools=6.0.6\n",
      "- attrs=19.3.0\n",
      "- backcall=0.1.0\n",
      "- bibtexparser=1.1.0\n",
      "- binutils_impl_linux-64=2.33.1\n",
      "- binutils_linux-64=2.33.1\n",
      "- bioconductor-biobase=2.42.0\n",
      "- bioconductor-biocgenerics=0.28.0\n",
      "- bioconductor-biocparallel=1.16.6\n",
      "- bioconductor-biostrings=2.50.2\n",
      "- bioconductor-dada2=1.10.0\n",
      "- bioconductor-delayedarray=0.8.0\n",
      "- bioconductor-genomeinfodb=1.18.1\n",
      "- bioconductor-genomeinfodbdata=1.2.1\n",
      "- bioconductor-genomicalignments=1.18.1\n",
      "- bioconductor-genomicranges=1.34.0\n",
      "- bioconductor-iranges=2.16.0\n",
      "- bioconductor-rsamtools=1.34.0\n",
      "- bioconductor-s4vectors=0.20.1\n",
      "- bioconductor-shortread=1.40.0\n",
      "- bioconductor-summarizedexperiment=1.12.0\n",
      "- bioconductor-xvector=0.22.0\n",
      "- bioconductor-zlibbioc=1.28.0\n",
      "- biom-format=2.1.8\n",
      "- blas=2.14\n",
      "- blast=2.9.0\n",
      "- bleach=3.1.1\n",
      "- bokeh=1.4.0\n",
      "- boost=1.68.0\n",
      "- boost-cpp=1.68.0\n",
      "- bwidget=1.9.14\n",
      "- bzip2=1.0.8\n",
      "- ca-certificates=2019.11.28\n",
      "- cachecontrol=0.12.5\n",
      "- cairo=1.16.0\n",
      "- certifi=2019.11.28\n",
      "- cffi=1.13.2\n",
      "- chardet=3.0.4\n",
      "- click=7.0\n",
      "- cryptography=2.8\n",
      "- curl=7.68.0\n",
      "- cutadapt=2.8\n",
      "- cycler=0.10.0\n",
      "- cython=0.29.15\n",
      "- dbus=1.13.6\n",
      "- deblur=1.1.0\n",
      "- decorator=4.4.1\n",
      "- defusedxml=0.6.0\n",
      "- dendropy=4.4.0\n",
      "- dnaio=0.4.1\n",
      "- emperor=1.0.0\n",
      "- entrypoints=0.3\n",
      "- expat=2.2.9\n",
      "- fastcluster=1.1.26\n",
      "- fasttree=2.1.10\n",
      "- fontconfig=2.13.1\n",
      "- freetype=2.10.0\n",
      "- future=0.18.2\n",
      "- gcc_impl_linux-64=7.3.0\n",
      "- gcc_linux-64=7.3.0\n",
      "- gettext=0.19.8.1\n",
      "- gfortran_impl_linux-64=7.3.0\n",
      "- gfortran_linux-64=7.3.0\n",
      "- giflib=5.2.1\n",
      "- glib=2.58.3\n",
      "- gmp=6.2.0\n",
      "- gneiss=0.4.6\n",
      "- gnutls=3.6.5\n",
      "- graphite2=1.3.13\n",
      "- gsl=2.5\n",
      "- gst-plugins-base=1.14.5\n",
      "- gstreamer=1.14.5\n",
      "- gxx_impl_linux-64=7.3.0\n",
      "- gxx_linux-64=7.3.0\n",
      "- h5py=2.10.0\n",
      "- harfbuzz=2.4.0\n",
      "- hdf5=1.10.5\n",
      "- hdmedians=0.13\n",
      "- hmmer=3.1b2\n",
      "- icu=58.2\n",
      "- idna=2.9\n",
      "- ijson=2.6.1\n",
      "- importlib_metadata=1.5.0\n",
      "- ipykernel=5.1.4\n",
      "- ipython=7.12.0\n",
      "- ipython_genutils=0.2.0\n",
      "- ipywidgets=7.5.1\n",
      "- iqtree=1.6.12\n",
      "- jedi=0.16.0\n",
      "- jinja2=2.11.1\n",
      "- joblib=0.14.1\n",
      "- jpeg=9c\n",
      "- jsonschema=3.2.0\n",
      "- jupyter_client=6.0.0\n",
      "- jupyter_core=4.6.3\n",
      "- kiwisolver=1.1.0\n",
      "- krb5=1.16.4\n",
      "- lcms2=2.9\n",
      "- ld_impl_linux-64=2.33.1\n",
      "- libarbdb=6.0.6\n",
      "- libblas=3.8.0\n",
      "- libcblas=3.8.0\n",
      "- libcurl=7.68.0\n",
      "- libedit=3.1.20170329\n",
      "- libffi=3.2.1\n",
      "- libgcc=7.2.0\n",
      "- libgcc-ng=9.2.0\n",
      "- libgfortran-ng=7.3.0\n",
      "- libgomp=9.2.0\n",
      "- libiconv=1.15\n",
      "- liblapack=3.8.0\n",
      "- liblapacke=3.8.0\n",
      "- libopenblas=0.3.7\n",
      "- libpng=1.6.37\n",
      "- libsodium=1.0.17\n",
      "- libssh2=1.8.2\n",
      "- libstdcxx-ng=9.2.0\n",
      "- libtiff=4.1.0\n",
      "- libuuid=2.32.1\n",
      "- libxcb=1.13\n",
      "- libxml2=2.9.9\n",
      "- lockfile=0.12.2\n",
      "- lz4-c=1.8.3\n",
      "- mafft=7.310\n",
      "- make=4.3\n",
      "- markupsafe=1.1.1\n",
      "- matplotlib=3.1.1\n",
      "- matplotlib-base=3.1.1\n",
      "- mistune=0.8.4\n",
      "- more-itertools=8.2.0\n",
      "- msgpack-python=1.0.0\n",
      "- natsort=7.0.1\n",
      "- nbconvert=5.6.1\n",
      "- nbformat=5.0.4\n",
      "- ncurses=6.1\n",
      "- nettle=3.4.1\n",
      "- networkx=2.4\n",
      "- nose=1.3.7\n",
      "- notebook=6.0.3\n",
      "- numpy=1.18.1\n",
      "- olefile=0.46\n",
      "- openjdk=11.0.1\n",
      "- openssl=1.1.1d\n",
      "- packaging=20.1\n",
      "- pandas=0.25.3\n",
      "- pandoc=2.9.2\n",
      "- pandocfilters=1.4.2\n",
      "- pango=1.40.14\n",
      "- parso=0.6.1\n",
      "- patsy=0.5.1\n",
      "- pcre=8.44\n",
      "- perl=5.26.2\n",
      "- perl-archive-tar=2.32\n",
      "- perl-carp=1.38\n",
      "- perl-common-sense=3.74\n",
      "- perl-compress-raw-bzip2=2.087\n",
      "- perl-compress-raw-zlib=2.087\n",
      "- perl-exporter=5.72\n",
      "- perl-exporter-tiny=1.002001\n",
      "- perl-extutils-makemaker=7.36\n",
      "- perl-io-compress=2.087\n",
      "- perl-io-zlib=1.10\n",
      "- perl-json=4.02\n",
      "- perl-json-xs=2.34\n",
      "- perl-list-moreutils=0.428\n",
      "- perl-list-moreutils-xs=0.428\n",
      "- perl-pathtools=3.75\n",
      "- perl-scalar-list-utils=1.52\n",
      "- perl-types-serialiser=1.0\n",
      "- perl-xsloader=0.24\n",
      "- pexpect=4.8.0\n",
      "- pickleshare=0.7.5\n",
      "- pigz=2.3.4\n",
      "- pillow=7.0.0\n",
      "- pip=20.0.2\n",
      "- pixman=0.38.0\n",
      "- pluggy=0.12.0\n",
      "- prometheus_client=0.7.1\n",
      "- prompt_toolkit=3.0.3\n",
      "- psutil=5.7.0\n",
      "- pthread-stubs=0.4\n",
      "- ptyprocess=0.6.0\n",
      "- py=1.8.1\n",
      "- pycparser=2.19\n",
      "- pygments=2.5.2\n",
      "- pyopenssl=19.1.0\n",
      "- pyparsing=2.4.6\n",
      "- pyqt=5.9.2\n",
      "- pyrsistent=0.15.7\n",
      "- pysocks=1.7.1\n",
      "- pytest=5.3.5\n",
      "- python=3.6.7\n",
      "- python-dateutil=2.8.1\n",
      "- pytz=2019.3\n",
      "- pyyaml=5.3\n",
      "- pyzmq=19.0.0\n",
      "- q2-alignment=2020.2.0\n",
      "- q2-composition=2020.2.0\n",
      "- q2-cutadapt=2020.2.0\n",
      "- q2-dada2=2020.2.0\n",
      "- q2-deblur=2020.2.0\n",
      "- q2-demux=2020.2.0\n",
      "- q2-diversity=2020.2.0\n",
      "- q2-emperor=2020.2.0\n",
      "- q2-feature-classifier=2020.2.0\n",
      "- q2-feature-table=2020.2.0\n",
      "- q2-fragment-insertion=2020.2.0\n",
      "- q2-gneiss=2020.2.0\n",
      "- q2-longitudinal=2020.2.0\n",
      "- q2-metadata=2020.2.0\n",
      "- q2-phylogeny=2020.2.0\n",
      "- q2-quality-control=2020.2.0\n",
      "- q2-quality-filter=2020.2.0\n",
      "- q2-sample-classifier=2020.2.0\n",
      "- q2-taxa=2020.2.0\n",
      "- q2-types=2020.2.0\n",
      "- q2-vsearch=2020.2.0\n",
      "- q2cli=2020.2.0\n",
      "- q2templates=2020.2.0\n",
      "- qiime2=2020.2.0\n",
      "- qt=5.9.7\n",
      "- r-assertthat=0.2.1\n",
      "- r-backports=1.1.5\n",
      "- r-base=3.5.1\n",
      "- r-bh=1.72.0_3\n",
      "- r-bitops=1.0_6\n",
      "- r-cli=2.0.2\n",
      "- r-cluster=2.1.0\n",
      "- r-colorspace=1.4_1\n",
      "- r-crayon=1.3.4\n",
      "- r-data.table=1.12.6\n",
      "- r-digest=0.6.25\n",
      "- r-ellipsis=0.3.0\n",
      "- r-fansi=0.4.1\n",
      "- r-farver=2.0.3\n",
      "- r-formatr=1.7\n",
      "- r-futile.logger=1.4.3\n",
      "- r-futile.options=1.0.1\n",
      "- r-ggplot2=3.2.1\n",
      "- r-glue=1.3.1\n",
      "- r-gtable=0.3.0\n",
      "- r-hwriter=1.3.2\n",
      "- r-labeling=0.3\n",
      "- r-lambda.r=1.2.4\n",
      "- r-lattice=0.20_40\n",
      "- r-latticeextra=0.6_28\n",
      "- r-lazyeval=0.2.2\n",
      "- r-lifecycle=0.1.0\n",
      "- r-magrittr=1.5\n",
      "- r-mass=7.3_51.5\n",
      "- r-matrix=1.2_18\n",
      "- r-matrixstats=0.55.0\n",
      "- r-mgcv=1.8_31\n",
      "- r-munsell=0.5.0\n",
      "- r-nlme=3.1_144\n",
      "- r-permute=0.9_5\n",
      "- r-pillar=1.4.3\n",
      "- r-pkgconfig=2.0.3\n",
      "- r-plyr=1.8.5\n",
      "- r-r6=2.4.1\n",
      "- r-rcolorbrewer=1.1_2\n",
      "- r-rcpp=1.0.3\n",
      "- r-rcppparallel=4.4.4\n",
      "- r-rcurl=1.98_1.1\n",
      "- r-reshape2=1.4.3\n",
      "- r-rlang=0.4.4\n",
      "- r-scales=1.1.0\n",
      "- r-snow=0.4_3\n",
      "- r-stringi=1.4.3\n",
      "- r-stringr=1.4.0\n",
      "- r-tibble=2.1.3\n",
      "- r-utf8=1.1.4\n",
      "- r-vctrs=0.2.3\n",
      "- r-vegan=2.5_6\n",
      "- r-viridislite=0.3.0\n",
      "- r-withr=2.1.2\n",
      "- r-zeallot=0.1.0\n",
      "- raxml=8.2.12\n",
      "- readline=8.0\n",
      "- requests=2.23.0\n",
      "- scikit-bio=0.5.5\n",
      "- scikit-learn=0.22.1\n",
      "- scipy=1.4.1\n",
      "- seaborn=0.10.0\n",
      "- send2trash=1.5.0\n",
      "- sepp=4.3.10\n",
      "- setuptools=45.2.0\n",
      "- sina=1.6.0\n",
      "- sip=4.19.8\n",
      "- six=1.14.0\n",
      "- sortmerna=2.0\n",
      "- sqlite=3.30.1\n",
      "- statsmodels=0.11.1\n",
      "- tbb=2019.9\n",
      "- terminado=0.8.3\n",
      "- testpath=0.4.4\n",
      "- tk=8.6.10\n",
      "- tktable=2.10\n",
      "- tornado=6.0.3\n",
      "- traitlets=4.3.3\n",
      "- tzlocal=2.0.0\n",
      "- unifrac=0.10.0\n",
      "- urllib3=1.25.7\n",
      "- vsearch=2.7.0\n",
      "- wcwidth=0.1.8\n",
      "- webencodings=0.5.1\n",
      "- wheel=0.34.2\n",
      "- widgetsnbextension=3.5.1\n",
      "- xopen=0.8.4\n",
      "- xorg-fixesproto=5.0\n",
      "- xorg-inputproto=2.3.2\n",
      "- xorg-kbproto=1.0.7\n",
      "- xorg-libice=1.0.10\n",
      "- xorg-libsm=1.2.3\n",
      "- xorg-libx11=1.6.9\n",
      "- xorg-libxau=1.0.9\n",
      "- xorg-libxdmcp=1.1.3\n",
      "- xorg-libxext=1.3.4\n",
      "- xorg-libxfixes=5.0.3\n",
      "- xorg-libxi=1.7.10\n",
      "- xorg-libxrender=0.9.10\n",
      "- xorg-libxtst=1.2.3\n",
      "- xorg-recordproto=1.14.2\n",
      "- xorg-renderproto=0.11.1\n",
      "- xorg-xextproto=7.3.0\n",
      "- xorg-xproto=7.0.31\n",
      "- xz=5.2.4\n",
      "- yaml=0.2.2\n",
      "- zeromq=4.3.2\n",
      "- zipp=3.0.0\n",
      "- zlib=1.2.11\n",
      "- zstd=1.4.4\n",
      "==> /ebio/abt3_projects/software/dev/ll_pipelines/llg//bin/envs/traitar.yaml <==\n",
      "channels:\n",
      "- conda-forge\n",
      "- bioconda\n",
      "dependencies:\n",
      "- scipy\n",
      "- pandas\n",
      "- numpy\n",
      "- matplotlib\n",
      "- pigz\n",
      "- bioconda::hmmer\n",
      "- pip:\n",
      "  - traitar3>=0.1.1\n",
      "\n",
      "==> /ebio/abt3_projects/software/dev/ll_pipelines/llg//bin/envs/cctyper.yaml <==\n",
      "channels:\n",
      "- conda-forge\n",
      "- bioconda\n",
      "- russel88\n",
      "dependencies:\n",
      "- pigz\n",
      "- cctyper\n",
      "\n",
      "==> /ebio/abt3_projects/software/dev/ll_pipelines/llg//bin/envs/comparem.yaml <==\n",
      "channels:\n",
      "- conda-forge\n",
      "- bioconda\n",
      "dependencies:\n",
      "- pigz\n",
      "- bioconda::comparem"
     ]
    }
   ],
   "source": [
    "pipelineInfo('/ebio/abt3_projects/software/dev/ll_pipelines/llg/')"
   ]
  },
  {
   "cell_type": "code",
   "execution_count": 29,
   "metadata": {
    "execution": {
     "iopub.execute_input": "2021-01-12T13:17:23.715978Z",
     "iopub.status.busy": "2021-01-12T13:17:23.713468Z",
     "iopub.status.idle": "2021-01-12T13:17:23.779973Z",
     "shell.execute_reply": "2021-01-12T13:17:23.779102Z"
    }
   },
   "outputs": [
    {
     "name": "stdout",
     "output_type": "stream",
     "text": [
      "LLPRIMER\n",
      "========\n",
      "\n",
      "Ley Lab Primer generation pipeline (LLPRIMER)\n",
      "\n",
      "* Version: 0.2.2\n",
      "* Authors:\n",
      "  * Nick Youngblut <nyoungb2@gmail.com>\n",
      "* Maintainers:\n",
      "  * Nick Youngblut <nyoungb2@gmail.com>\n",
      "\n",
      "--- conda envs ---\n",
      "==> /ebio/abt3_projects/software/dev/ll_pipelines/llprimer//bin/envs/pdp.yaml <==\n",
      "channels:\n",
      "- conda-forge\n",
      "- bioconda\n",
      "dependencies:\n",
      "- python=3.7\n",
      "- intervaltree\n",
      "- prodigal\n",
      "- blast\n",
      "- bedtools\n",
      "- mafft\n",
      "- mummer=3.23\n",
      "- emboss\n",
      "- primer3=1.1.4\n",
      "- biopython<1.78\n",
      "- pybedtools\n",
      "- joblib\n",
      "- tqdm\n",
      "- openpyxl\n",
      "\n",
      "==> /ebio/abt3_projects/software/dev/ll_pipelines/llprimer//bin/envs/genes.yaml <==\n",
      "channels:\n",
      "- bioconda\n",
      "dependencies:\n",
      "- pigz\n",
      "- python=3\n",
      "- numpy\n",
      "- pyfaidx\n",
      "- bioconda::seqkit\n",
      "- bioconda::fasta-splitter\n",
      "- bioconda::vsearch\n",
      "- bioconda::prodigal\n",
      "- bioconda::mmseqs2\n",
      "==> /ebio/abt3_projects/software/dev/ll_pipelines/llprimer//bin/envs/aln.yaml <==\n",
      "channels:\n",
      "- bioconda\n",
      "- conda-forge\n",
      "dependencies:\n",
      "- pigz\n",
      "- bioconda::kalign3\n",
      "- bioconda::mafft\n",
      "\n",
      "==> /ebio/abt3_projects/software/dev/ll_pipelines/llprimer//bin/envs/blast.yaml <==\n",
      "channels:\n",
      "- bioconda\n",
      "- conda-forge\n",
      "dependencies:\n",
      "- pigz\n",
      "- bioconda::seqkit\n",
      "- bioconda::biopython<1.78\n",
      "- bioconda::blast>=2.10.1\n",
      "\n",
      "==> /ebio/abt3_projects/software/dev/ll_pipelines/llprimer//bin/envs/taxids.yaml <==\n",
      "channels:\n",
      "- conda-forge\n",
      "- bioconda\n",
      "dependencies:\n",
      "- intervaltree\n",
      "- taxonkit\n",
      "\n",
      "==> /ebio/abt3_projects/software/dev/ll_pipelines/llprimer//bin/envs/primer3.yaml <==\n",
      "channels:\n",
      "- bioconda\n",
      "- conda-forge\n",
      "dependencies:\n",
      "- pigz\n",
      "- bioconda::biopython<1.78\n",
      "- bioconda::primer3-py"
     ]
    }
   ],
   "source": [
    "pipelineInfo('/ebio/abt3_projects/software/dev/ll_pipelines/llprimer/')"
   ]
  },
  {
   "cell_type": "code",
   "execution_count": 30,
   "metadata": {
    "execution": {
     "iopub.execute_input": "2021-01-12T13:17:26.874191Z",
     "iopub.status.busy": "2021-01-12T13:17:26.872318Z",
     "iopub.status.idle": "2021-01-12T13:17:26.910866Z",
     "shell.execute_reply": "2021-01-12T13:17:26.909151Z"
    }
   },
   "outputs": [
    {
     "data": {
      "text/plain": [
       "R version 3.6.3 (2020-02-29)\n",
       "Platform: x86_64-conda_cos6-linux-gnu (64-bit)\n",
       "Running under: Ubuntu 18.04.5 LTS\n",
       "\n",
       "Matrix products: default\n",
       "BLAS/LAPACK: /ebio/abt3_projects/Georg_animal_feces/envs/tidyverse/lib/libopenblasp-r0.3.9.so\n",
       "\n",
       "locale:\n",
       " [1] LC_CTYPE=C.UTF-8    LC_NUMERIC=C        LC_TIME=C          \n",
       " [4] LC_COLLATE=C        LC_MONETARY=C       LC_MESSAGES=C      \n",
       " [7] LC_PAPER=C          LC_NAME=C           LC_ADDRESS=C       \n",
       "[10] LC_TELEPHONE=C      LC_MEASUREMENT=C    LC_IDENTIFICATION=C\n",
       "\n",
       "attached base packages:\n",
       "[1] stats     graphics  grDevices utils     datasets  methods   base     \n",
       "\n",
       "other attached packages:\n",
       "[1] LeyLabRMisc_0.1.6 ggplot2_3.3.1     tidyr_1.1.0       dplyr_1.0.0      \n",
       "\n",
       "loaded via a namespace (and not attached):\n",
       " [1] Rcpp_1.0.4.6     magrittr_1.5     munsell_0.5.0    tidyselect_1.1.0\n",
       " [5] uuid_0.1-4       colorspace_1.4-1 R6_2.4.1         rlang_0.4.6     \n",
       " [9] tools_3.6.3      grid_3.6.3       gtable_0.3.0     withr_2.2.0     \n",
       "[13] htmltools_0.4.0  ellipsis_0.3.1   digest_0.6.25    tibble_3.0.1    \n",
       "[17] lifecycle_0.2.0  crayon_1.3.4     IRdisplay_0.7.0  purrr_0.3.4     \n",
       "[21] repr_1.1.0       base64enc_0.1-3  vctrs_0.3.1      IRkernel_1.1    \n",
       "[25] glue_1.4.1       evaluate_0.14    stringi_1.4.6    pbdZMQ_0.3-3    \n",
       "[29] compiler_3.6.3   pillar_1.4.4     scales_1.1.1     generics_0.0.2  \n",
       "[33] jsonlite_1.6.1   pkgconfig_2.0.3 "
      ]
     },
     "metadata": {},
     "output_type": "display_data"
    }
   ],
   "source": [
    "sessionInfo()"
   ]
  },
  {
   "cell_type": "code",
   "execution_count": null,
   "metadata": {},
   "outputs": [],
   "source": []
  }
 ],
 "metadata": {
  "kernelspec": {
   "display_name": "R [conda env:Georg_animal_feces-tidyverse]",
   "language": "R",
   "name": "conda-env-Georg_animal_feces-tidyverse-r"
  },
  "language_info": {
   "codemirror_mode": "r",
   "file_extension": ".r",
   "mimetype": "text/x-r-source",
   "name": "R",
   "pygments_lexer": "r",
   "version": "3.6.3"
  },
  "toc-autonumbering": true
 },
 "nbformat": 4,
 "nbformat_minor": 4
}
