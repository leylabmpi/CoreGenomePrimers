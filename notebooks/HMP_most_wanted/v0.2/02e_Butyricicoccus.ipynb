{
 "cells": [
  {
   "cell_type": "markdown",
   "metadata": {},
   "source": [
    "# Goal\n",
    "\n",
    "* Primer design for clade of interest"
   ]
  },
  {
   "cell_type": "markdown",
   "metadata": {},
   "source": [
    "# Var"
   ]
  },
  {
   "cell_type": "code",
   "execution_count": 1,
   "metadata": {
    "execution": {
     "iopub.execute_input": "2021-01-17T07:46:51.744937Z",
     "iopub.status.busy": "2021-01-17T07:46:51.741418Z",
     "iopub.status.idle": "2021-01-17T07:46:51.785675Z"
    }
   },
   "outputs": [],
   "source": [
    "base_dir = '/ebio/abt3_projects/software/dev/ll_pipelines/llprimer/experiments/HMP_most-wanted/'\n",
    "clade = 'Butyricicoccus'\n",
    "taxid = 580596 "
   ]
  },
  {
   "cell_type": "markdown",
   "metadata": {},
   "source": [
    "# Init"
   ]
  },
  {
   "cell_type": "code",
   "execution_count": 4,
   "metadata": {
    "execution": {
     "iopub.execute_input": "2021-01-17T07:46:54.550937Z",
     "iopub.status.busy": "2021-01-17T07:46:54.548783Z",
     "iopub.status.idle": "2021-01-17T07:46:54.571085Z"
    }
   },
   "outputs": [],
   "source": [
    "library(dplyr)\n",
    "library(tidyr)\n",
    "library(ggplot2)\n",
    "library(LeyLabRMisc)"
   ]
  },
  {
   "cell_type": "code",
   "execution_count": 3,
   "metadata": {
    "execution": {
     "iopub.execute_input": "2021-01-17T07:46:53.469777Z",
     "iopub.status.busy": "2021-01-17T07:46:53.467859Z",
     "iopub.status.idle": "2021-01-17T07:46:53.498836Z"
    }
   },
   "outputs": [
    {
     "name": "stdout",
     "output_type": "stream",
     "text": [
      "Directory already exists: /ebio/abt3_projects/software/dev/ll_pipelines/llprimer/experiments/HMP_most-wanted//Butyricicoccus \n"
     ]
    }
   ],
   "source": [
    "df.dims()\n",
    "work_dir = file.path(base_dir, clade)\n",
    "make_dir(work_dir)"
   ]
  },
  {
   "cell_type": "markdown",
   "metadata": {},
   "source": [
    "# Genome download\n",
    "\n",
    "* Downloading genomes from NCBI"
   ]
  },
  {
   "cell_type": "markdown",
   "metadata": {
    "execution": {
     "iopub.execute_input": "2021-01-12T13:07:32.874718Z",
     "iopub.status.busy": "2021-01-12T13:07:32.867938Z",
     "iopub.status.idle": "2021-01-12T13:07:32.985785Z",
     "shell.execute_reply": "2021-01-12T13:07:32.983225Z"
    }
   },
   "source": [
    "```\n",
    "OUTDIR=/ebio/abt3_projects/software/dev/ll_pipelines/llprimer/experiments/HMP_most-wanted/Butyricicoccus/\n",
    "mkdir -p $OUTDIR\n",
    "ncbi-genome-download -p 12 -s genbank -F fasta --genera Butyricicoccus -o $OUTDIR bacteria\n",
    "```"
   ]
  },
  {
   "cell_type": "markdown",
   "metadata": {},
   "source": [
    "# Genome quality\n",
    "\n",
    "* Filtering genomes by quality"
   ]
  },
  {
   "cell_type": "code",
   "execution_count": 5,
   "metadata": {
    "execution": {
     "iopub.execute_input": "2021-01-17T07:47:28.989009Z",
     "iopub.status.busy": "2021-01-17T07:47:28.987055Z",
     "iopub.status.idle": "2021-01-17T07:47:29.105911Z"
    }
   },
   "outputs": [
    {
     "data": {
      "text/html": [
       "<table>\n",
       "<caption>A data.frame: 36 × 4</caption>\n",
       "<thead>\n",
       "\t<tr><th scope=col>Name</th><th scope=col>Fasta</th><th scope=col>Domain</th><th scope=col>Taxid</th></tr>\n",
       "\t<tr><th scope=col>&lt;chr&gt;</th><th scope=col>&lt;chr&gt;</th><th scope=col>&lt;fct&gt;</th><th scope=col>&lt;dbl&gt;</th></tr>\n",
       "</thead>\n",
       "<tbody>\n",
       "\t<tr><td>GCA_000398925.1_Buty_pull_1_20_V1_genomic</td><td>/ebio/abt3_projects/software/dev/ll_pipelines/llprimer/experiments/HMP_most-wanted/Butyricicoccus/genbank/bacteria/GCA_000398925.1/GCA_000398925.1_Buty_pull_1_20_V1_genomic.fna.gz</td><td>Bacteria</td><td>580596</td></tr>\n",
       "\t<tr><td>GCA_001643385.1_ASM164338v1_genomic      </td><td>/ebio/abt3_projects/software/dev/ll_pipelines/llprimer/experiments/HMP_most-wanted/Butyricicoccus/genbank/bacteria/GCA_001643385.1/GCA_001643385.1_ASM164338v1_genomic.fna.gz      </td><td>Bacteria</td><td>580596</td></tr>\n",
       "\t<tr><td>⋮</td><td>⋮</td><td>⋮</td><td>⋮</td></tr>\n",
       "\t<tr><td>GCA_900167005.1_IMG-taxon_2585428076_annotated_assembly_genomic</td><td>/ebio/abt3_projects/software/dev/ll_pipelines/llprimer/experiments/HMP_most-wanted/Butyricicoccus/genbank/bacteria/GCA_900167005.1/GCA_900167005.1_IMG-taxon_2585428076_annotated_assembly_genomic.fna.gz</td><td>Bacteria</td><td>580596</td></tr>\n",
       "\t<tr><td>GCA_902374965.1_MGYG-HGUT-01434_genomic                        </td><td>/ebio/abt3_projects/software/dev/ll_pipelines/llprimer/experiments/HMP_most-wanted/Butyricicoccus/genbank/bacteria/GCA_902374965.1/GCA_902374965.1_MGYG-HGUT-01434_genomic.fna.gz                        </td><td>Bacteria</td><td>580596</td></tr>\n",
       "</tbody>\n",
       "</table>\n"
      ],
      "text/latex": [
       "A data.frame: 36 × 4\n",
       "\\begin{tabular}{llll}\n",
       " Name & Fasta & Domain & Taxid\\\\\n",
       " <chr> & <chr> & <fct> & <dbl>\\\\\n",
       "\\hline\n",
       "\t GCA\\_000398925.1\\_Buty\\_pull\\_1\\_20\\_V1\\_genomic & /ebio/abt3\\_projects/software/dev/ll\\_pipelines/llprimer/experiments/HMP\\_most-wanted/Butyricicoccus/genbank/bacteria/GCA\\_000398925.1/GCA\\_000398925.1\\_Buty\\_pull\\_1\\_20\\_V1\\_genomic.fna.gz & Bacteria & 580596\\\\\n",
       "\t GCA\\_001643385.1\\_ASM164338v1\\_genomic       & /ebio/abt3\\_projects/software/dev/ll\\_pipelines/llprimer/experiments/HMP\\_most-wanted/Butyricicoccus/genbank/bacteria/GCA\\_001643385.1/GCA\\_001643385.1\\_ASM164338v1\\_genomic.fna.gz       & Bacteria & 580596\\\\\n",
       "\t ⋮ & ⋮ & ⋮ & ⋮\\\\\n",
       "\t GCA\\_900167005.1\\_IMG-taxon\\_2585428076\\_annotated\\_assembly\\_genomic & /ebio/abt3\\_projects/software/dev/ll\\_pipelines/llprimer/experiments/HMP\\_most-wanted/Butyricicoccus/genbank/bacteria/GCA\\_900167005.1/GCA\\_900167005.1\\_IMG-taxon\\_2585428076\\_annotated\\_assembly\\_genomic.fna.gz & Bacteria & 580596\\\\\n",
       "\t GCA\\_902374965.1\\_MGYG-HGUT-01434\\_genomic                         & /ebio/abt3\\_projects/software/dev/ll\\_pipelines/llprimer/experiments/HMP\\_most-wanted/Butyricicoccus/genbank/bacteria/GCA\\_902374965.1/GCA\\_902374965.1\\_MGYG-HGUT-01434\\_genomic.fna.gz                         & Bacteria & 580596\\\\\n",
       "\\end{tabular}\n"
      ],
      "text/markdown": [
       "\n",
       "A data.frame: 36 × 4\n",
       "\n",
       "| Name &lt;chr&gt; | Fasta &lt;chr&gt; | Domain &lt;fct&gt; | Taxid &lt;dbl&gt; |\n",
       "|---|---|---|---|\n",
       "| GCA_000398925.1_Buty_pull_1_20_V1_genomic | /ebio/abt3_projects/software/dev/ll_pipelines/llprimer/experiments/HMP_most-wanted/Butyricicoccus/genbank/bacteria/GCA_000398925.1/GCA_000398925.1_Buty_pull_1_20_V1_genomic.fna.gz | Bacteria | 580596 |\n",
       "| GCA_001643385.1_ASM164338v1_genomic       | /ebio/abt3_projects/software/dev/ll_pipelines/llprimer/experiments/HMP_most-wanted/Butyricicoccus/genbank/bacteria/GCA_001643385.1/GCA_001643385.1_ASM164338v1_genomic.fna.gz       | Bacteria | 580596 |\n",
       "| ⋮ | ⋮ | ⋮ | ⋮ |\n",
       "| GCA_900167005.1_IMG-taxon_2585428076_annotated_assembly_genomic | /ebio/abt3_projects/software/dev/ll_pipelines/llprimer/experiments/HMP_most-wanted/Butyricicoccus/genbank/bacteria/GCA_900167005.1/GCA_900167005.1_IMG-taxon_2585428076_annotated_assembly_genomic.fna.gz | Bacteria | 580596 |\n",
       "| GCA_902374965.1_MGYG-HGUT-01434_genomic                         | /ebio/abt3_projects/software/dev/ll_pipelines/llprimer/experiments/HMP_most-wanted/Butyricicoccus/genbank/bacteria/GCA_902374965.1/GCA_902374965.1_MGYG-HGUT-01434_genomic.fna.gz                         | Bacteria | 580596 |\n",
       "\n"
      ],
      "text/plain": [
       "   Name                                                           \n",
       "1  GCA_000398925.1_Buty_pull_1_20_V1_genomic                      \n",
       "2  GCA_001643385.1_ASM164338v1_genomic                            \n",
       "⋮  ⋮                                                              \n",
       "35 GCA_900167005.1_IMG-taxon_2585428076_annotated_assembly_genomic\n",
       "36 GCA_902374965.1_MGYG-HGUT-01434_genomic                        \n",
       "   Fasta                                                                                                                                                                                                    \n",
       "1  /ebio/abt3_projects/software/dev/ll_pipelines/llprimer/experiments/HMP_most-wanted/Butyricicoccus/genbank/bacteria/GCA_000398925.1/GCA_000398925.1_Buty_pull_1_20_V1_genomic.fna.gz                      \n",
       "2  /ebio/abt3_projects/software/dev/ll_pipelines/llprimer/experiments/HMP_most-wanted/Butyricicoccus/genbank/bacteria/GCA_001643385.1/GCA_001643385.1_ASM164338v1_genomic.fna.gz                            \n",
       "⋮  ⋮                                                                                                                                                                                                        \n",
       "35 /ebio/abt3_projects/software/dev/ll_pipelines/llprimer/experiments/HMP_most-wanted/Butyricicoccus/genbank/bacteria/GCA_900167005.1/GCA_900167005.1_IMG-taxon_2585428076_annotated_assembly_genomic.fna.gz\n",
       "36 /ebio/abt3_projects/software/dev/ll_pipelines/llprimer/experiments/HMP_most-wanted/Butyricicoccus/genbank/bacteria/GCA_902374965.1/GCA_902374965.1_MGYG-HGUT-01434_genomic.fna.gz                        \n",
       "   Domain   Taxid \n",
       "1  Bacteria 580596\n",
       "2  Bacteria 580596\n",
       "⋮  ⋮        ⋮     \n",
       "35 Bacteria 580596\n",
       "36 Bacteria 580596"
      ]
     },
     "metadata": {},
     "output_type": "display_data"
    },
    {
     "name": "stdout",
     "output_type": "stream",
     "text": [
      "File written: /ebio/abt3_projects/software/dev/ll_pipelines/llprimer/experiments/HMP_most-wanted//Butyricicoccus/genbank/samples.txt \n"
     ]
    }
   ],
   "source": [
    "D = file.path(base_dir, clade, 'genbank')\n",
    "files = list_files(D, '.fna.gz')\n",
    "samps = data.frame(Name = files %>% as.character %>% basename,\n",
    "                   Fasta = files,\n",
    "                   Domain = 'Bacteria',\n",
    "                   Taxid = taxid) %>%\n",
    "    mutate(Name = gsub('\\\\.fna\\\\.gz$', '', Name),\n",
    "           Fasta = gsub('/+', '/', Fasta))\n",
    "samps\n",
    "\n",
    "# writing file\n",
    "outfile = file.path(D, 'samples.txt')\n",
    "write_table(samps, outfile)"
   ]
  },
  {
   "cell_type": "markdown",
   "metadata": {},
   "source": [
    "### LLG"
   ]
  },
  {
   "cell_type": "markdown",
   "metadata": {},
   "source": [
    "#### Config"
   ]
  },
  {
   "cell_type": "code",
   "execution_count": 6,
   "metadata": {
    "execution": {
     "iopub.execute_input": "2021-01-17T07:48:06.149771Z",
     "iopub.status.busy": "2021-01-17T07:48:06.147656Z",
     "iopub.status.idle": "2021-01-17T07:48:06.176868Z"
    }
   },
   "outputs": [
    {
     "name": "stdout",
     "output_type": "stream",
     "text": [
      "# table with genome --> fasta_file information\n",
      "samples_file: /ebio/abt3_projects/software/dev/ll_pipelines/llprimer/experiments/HMP_most-wanted/Butyricicoccus/genbank/samples.txt\n",
      "\n",
      "# output location\n",
      "output_dir: /ebio/abt3_projects/software/dev/ll_pipelines/llprimer/experiments/HMP_most-wanted/Butyricicoccus/LLG_output/\n",
      "\n",
      "# temporary file directory (your username will be added automatically)\n",
      "tmp_dir: /ebio/abt3_scratch/\n",
      "\n",
      "# batch processing of genomes for certain steps\n",
      "## increase to better parallelize\n",
      "batches: 2 \n",
      "\n",
      "# Domain of genomes ('Archaea' or 'Bacteria)\n",
      "## Use \"Skip\" if provided as a \"Domain\" column in the genome table\n",
      "Domain: Skip\n",
      "\n",
      "# software parameters\n",
      "# Use \"Skip\" to skip any of these steps. If no params for rule, use \"\"\n",
      "# dRep MAGs are not further analyzed, but you can de-rep & then use the de-rep genome table as input.\n",
      "params:\n",
      "  ionice: -c 3\n",
      "  # assembly assessment\n",
      "  seqkit: \"\"\n",
      "  quast: Skip #\"\"\n",
      "  multiqc_on_quast: \"\" \n",
      "  checkm: \"\"\n",
      "  # de-replication (requires checkm)\n",
      "  drep: -comp 90 -con 5 -sa 0.999\n",
      "  # taxonomy\n",
      "  sourmash:\n",
      "    compute: Skip #--scaled 10000 -k 31\n",
      "    gather: -k 31\n",
      "  gtdbtk:\n",
      "    classify_wf: --min_perc_aa 10\n",
      "  # genome pairwise ANI  \n",
      "  fastani: Skip #--fragLen 3000 --minFraction 0.2 -k 16\n",
      "  dashing: Skip #-k 31 --full-tsv\n",
      "  comparem_aai: Skip #--evalue 0.001\n",
      "  # gene annotation\n",
      "  gene_call:\n",
      "    prokka: Skip #\"\" \n",
      "    multiqc_on_prokka: \"\"\n",
      "    prodigal: Skip #\"\"\n",
      "  eggnog_mapper: \"\"\n",
      "  eggnog_mapper_annot: \"\"\n",
      "  # rRNA (16S alignment & phylogeny)\n",
      "  barrnap: Skip #--lencutoff 0.8\n",
      "  vsearch_per_genome_drep: --id 0.95    # Skip to prevent drep of 16S copies within each genome\n",
      "  qiime2_fasttree: \"\"\n",
      "  qiime2_iqtree: --p-alrt 1000 --p-abayes --p-lbp 1000  --p-substitution-model 'GTR+I+G'\n",
      "  # genome phylogeny\n",
      "  phylophlan_config: Skip #--map_dna diamond --db_aa diamond --map_aa diamond --msa mafft --trim trimal --tree1 fasttree --tree2 raxml\n",
      "  phylophlan: --diversity high --min_num_markers 50 --accurate\n",
      "  # phenotype\n",
      "  traitar: Skip #\"\"\n",
      "  # biosynthetic gene clusters (BGCs)\n",
      "  antismash: Skip #--cb-knownclusters --cb-subclusters --asf  \n",
      "  DeepBGC: Skip #--score 0.5 --classifier-score 0.5 --prodigal-meta-mode\n",
      "  # antimicrobial resistance (AMR)\n",
      "  abricate: Skip #--minid 75 --mincov 80\n",
      "  # CRISPRs\n",
      "  cctyper: Skip #--prodigal meta\n",
      "  \n",
      "# databases\n",
      "databases:\n",
      "  checkM_data: /ebio/abt3_projects/databases_no-backup/checkM/\n",
      "  sourmash: /ebio/abt3_projects/databases_no-backup/sourmash/genbank-k31.sbt.json\n",
      "  sourmash_lca: /ebio/abt3_projects/databases_no-backup/sourmash/genbank-k31.lca.json.gz\n",
      "  gtdbtk: /ebio/abt3_projects/databases_no-backup/GTDB/release95/gtdbtk/db_info.md\n",
      "  phylophlan: /ebio/abt3_projects/databases_no-backup/phylophlan/PhyloPhlan/phylophlan.faa.bz2\n",
      "  eggnog: /ebio/abt3_projects/databases_no-backup/Eggnog/v2/eggnog.db\n",
      "  eggnog_diamond: /ebio/abt3_projects/databases_no-backup/Eggnog/v2/eggnog_proteins.dmnd\n",
      "  antismash: /ebio/abt3_projects/databases_no-backup/antismash/v5/\n",
      "  deepbgc: /ebio/abt3_projects/databases_no-backup/DeepBGC/\n",
      "  traitar: /ebio/abt3_projects/databases_no-backup/pfam/traitar/\n",
      "  abricate:\n",
      "    ncbi: /ebio/abt3_projects/databases_no-backup/abricate/ncbi/sequences\n",
      "    card: /ebio/abt3_projects/databases_no-backup/abricate/card/sequences\n",
      "    resfinder: /ebio/abt3_projects/databases_no-backup/abricate/resfinder/sequences\n",
      "    argannot: /ebio/abt3_projects/databases_no-backup/abricate/argannot/sequences\n",
      "    bacmet2: /ebio/abt3_projects/databases_no-backup/abricate/bacmet2/sequences\n",
      "    vfdb: /ebio/abt3_projects/databases_no-backup/abricate/vfdb/sequences\n",
      "    megares: /ebio/abt3_projects/databases_no-backup/abricate/megares/sequences\n",
      "    plasmidfinder: /ebio/abt3_projects/databases_no-backup/abricate/plasmidfinder/sequences\n",
      "\n",
      "# snakemake pipeline\n",
      "pipeline:\n",
      "  snakemake_folder: ./\n",
      "  script_folder: ./bin/scripts/\n",
      "  use_shared_mem: True\n",
      "  name: LLG"
     ]
    }
   ],
   "source": [
    "cat_file(file.path(work_dir, 'config_llg.yaml'))"
   ]
  },
  {
   "cell_type": "markdown",
   "metadata": {
    "execution": {
     "iopub.execute_input": "2021-01-12T13:14:50.416604Z",
     "iopub.status.busy": "2021-01-12T13:14:50.414179Z",
     "iopub.status.idle": "2021-01-12T13:14:50.431925Z",
     "shell.execute_reply": "2021-01-12T13:14:50.430260Z"
    }
   },
   "source": [
    "#### Run\n",
    "\n",
    "```\n",
    "(snakemake) @ rick:/ebio/abt3_projects/software/dev/ll_pipelines/llg\n",
    "$ screen -L -S llg ./snakemake_sge.sh /ebio/abt3_projects/software/dev/ll_pipelines/llprimer/experiments/HMP_most-wanted/Butyricicoccus/config_llg.yaml 20 -F\n",
    "```"
   ]
  },
  {
   "cell_type": "markdown",
   "metadata": {
    "execution": {
     "iopub.execute_input": "2021-01-12T13:14:10.995042Z",
     "iopub.status.busy": "2021-01-12T13:14:10.992773Z",
     "iopub.status.idle": "2021-01-12T13:14:11.009275Z",
     "shell.execute_reply": "2021-01-12T13:14:11.008255Z"
    }
   },
   "source": [
    "### Samples table of high-quality genomes"
   ]
  },
  {
   "cell_type": "code",
   "execution_count": 7,
   "metadata": {
    "execution": {
     "iopub.execute_input": "2021-01-17T10:04:34.187465Z",
     "iopub.status.busy": "2021-01-17T10:04:34.185339Z",
     "iopub.status.idle": "2021-01-17T10:04:34.240599Z"
    }
   },
   "outputs": [
    {
     "data": {
      "text/html": [
       "<table>\n",
       "<caption>A data.frame: 36 × 33</caption>\n",
       "<thead>\n",
       "\t<tr><th scope=col>Bin.Id</th><th scope=col>Marker.lineage</th><th scope=col>X..genomes</th><th scope=col>X..markers</th><th scope=col>X..marker.sets</th><th scope=col>Completeness</th><th scope=col>Contamination</th><th scope=col>Strain.heterogeneity</th><th scope=col>Genome.size..bp.</th><th scope=col>X..ambiguous.bases</th><th scope=col>⋯</th><th scope=col>X0</th><th scope=col>X1</th><th scope=col>X2</th><th scope=col>X3</th><th scope=col>X4</th><th scope=col>X5.</th><th scope=col>assembly.Id</th><th scope=col>assembler.Id</th><th scope=col>taxon.Id</th><th scope=col>File</th></tr>\n",
       "\t<tr><th scope=col>&lt;fct&gt;</th><th scope=col>&lt;fct&gt;</th><th scope=col>&lt;int&gt;</th><th scope=col>&lt;int&gt;</th><th scope=col>&lt;int&gt;</th><th scope=col>&lt;dbl&gt;</th><th scope=col>&lt;dbl&gt;</th><th scope=col>&lt;dbl&gt;</th><th scope=col>&lt;int&gt;</th><th scope=col>&lt;int&gt;</th><th scope=col>⋯</th><th scope=col>&lt;int&gt;</th><th scope=col>&lt;int&gt;</th><th scope=col>&lt;int&gt;</th><th scope=col>&lt;int&gt;</th><th scope=col>&lt;int&gt;</th><th scope=col>&lt;int&gt;</th><th scope=col>&lt;fct&gt;</th><th scope=col>&lt;fct&gt;</th><th scope=col>&lt;lgl&gt;</th><th scope=col>&lt;fct&gt;</th></tr>\n",
       "</thead>\n",
       "<tbody>\n",
       "\t<tr><td>GCA_000398925.1_Buty_pull_1_20_V1_genomic</td><td>o__Clostridiales (UID1212)</td><td>172</td><td>263</td><td>149</td><td>98.66</td><td>0</td><td>0</td><td>3325721</td><td>26204</td><td>⋯</td><td> 2</td><td>261</td><td>0</td><td>0</td><td>0</td><td>0</td><td>|ebio|abt3_projects|software|dev|ll_pipelines|llprimer|experiments|HMP_most-wanted|Butyricicoccus|LLG_output|checkM|1|checkm|markers_qa_summary.tsv.1</td><td>markers_qa_summary.tsv.1</td><td>NA</td><td>/ebio/abt3_projects/software/dev/ll_pipelines/llprimer/experiments/HMP_most-wanted/Butyricicoccus/LLG_output/checkM/1/checkm/markers_qa_summary.tsv.1</td></tr>\n",
       "\t<tr><td>GCA_001643435.1_ASM164343v1_genomic      </td><td>o__Clostridiales (UID1212)</td><td>172</td><td>263</td><td>149</td><td>67.11</td><td>0</td><td>0</td><td>1452273</td><td> 1058</td><td>⋯</td><td>78</td><td>185</td><td>0</td><td>0</td><td>0</td><td>0</td><td>|ebio|abt3_projects|software|dev|ll_pipelines|llprimer|experiments|HMP_most-wanted|Butyricicoccus|LLG_output|checkM|1|checkm|markers_qa_summary.tsv.2</td><td>markers_qa_summary.tsv.2</td><td>NA</td><td>/ebio/abt3_projects/software/dev/ll_pipelines/llprimer/experiments/HMP_most-wanted/Butyricicoccus/LLG_output/checkM/1/checkm/markers_qa_summary.tsv.2</td></tr>\n",
       "\t<tr><td>⋮</td><td>⋮</td><td>⋮</td><td>⋮</td><td>⋮</td><td>⋮</td><td>⋮</td><td>⋮</td><td>⋮</td><td>⋮</td><td>⋱</td><td>⋮</td><td>⋮</td><td>⋮</td><td>⋮</td><td>⋮</td><td>⋮</td><td>⋮</td><td>⋮</td><td>⋮</td><td>⋮</td></tr>\n",
       "\t<tr><td>GCA_900143195.1_501571.5_genomic       </td><td>o__Clostridiales (UID1212)</td><td>172</td><td>263</td><td>149</td><td>98.66</td><td>0</td><td>0</td><td>3284487</td><td> 5872</td><td>⋯</td><td>2</td><td>261</td><td>0</td><td>0</td><td>0</td><td>0</td><td>|ebio|abt3_projects|software|dev|ll_pipelines|llprimer|experiments|HMP_most-wanted|Butyricicoccus|LLG_output|checkM|2|checkm|markers_qa_summary.tsv.17</td><td>markers_qa_summary.tsv.17</td><td>NA</td><td>/ebio/abt3_projects/software/dev/ll_pipelines/llprimer/experiments/HMP_most-wanted/Butyricicoccus/LLG_output/checkM/2/checkm/markers_qa_summary.tsv.17</td></tr>\n",
       "\t<tr><td>GCA_902374965.1_MGYG-HGUT-01434_genomic</td><td>o__Clostridiales (UID1212)</td><td>172</td><td>263</td><td>149</td><td>98.66</td><td>0</td><td>0</td><td>3325721</td><td>26204</td><td>⋯</td><td>2</td><td>261</td><td>0</td><td>0</td><td>0</td><td>0</td><td>|ebio|abt3_projects|software|dev|ll_pipelines|llprimer|experiments|HMP_most-wanted|Butyricicoccus|LLG_output|checkM|2|checkm|markers_qa_summary.tsv.18</td><td>markers_qa_summary.tsv.18</td><td>NA</td><td>/ebio/abt3_projects/software/dev/ll_pipelines/llprimer/experiments/HMP_most-wanted/Butyricicoccus/LLG_output/checkM/2/checkm/markers_qa_summary.tsv.18</td></tr>\n",
       "</tbody>\n",
       "</table>\n"
      ],
      "text/latex": [
       "A data.frame: 36 × 33\n",
       "\\begin{tabular}{lllllllllllllllllllll}\n",
       " Bin.Id & Marker.lineage & X..genomes & X..markers & X..marker.sets & Completeness & Contamination & Strain.heterogeneity & Genome.size..bp. & X..ambiguous.bases & ⋯ & X0 & X1 & X2 & X3 & X4 & X5. & assembly.Id & assembler.Id & taxon.Id & File\\\\\n",
       " <fct> & <fct> & <int> & <int> & <int> & <dbl> & <dbl> & <dbl> & <int> & <int> & ⋯ & <int> & <int> & <int> & <int> & <int> & <int> & <fct> & <fct> & <lgl> & <fct>\\\\\n",
       "\\hline\n",
       "\t GCA\\_000398925.1\\_Buty\\_pull\\_1\\_20\\_V1\\_genomic & o\\_\\_Clostridiales (UID1212) & 172 & 263 & 149 & 98.66 & 0 & 0 & 3325721 & 26204 & ⋯ &  2 & 261 & 0 & 0 & 0 & 0 & \\textbar{}ebio\\textbar{}abt3\\_projects\\textbar{}software\\textbar{}dev\\textbar{}ll\\_pipelines\\textbar{}llprimer\\textbar{}experiments\\textbar{}HMP\\_most-wanted\\textbar{}Butyricicoccus\\textbar{}LLG\\_output\\textbar{}checkM\\textbar{}1\\textbar{}checkm\\textbar{}markers\\_qa\\_summary.tsv.1 & markers\\_qa\\_summary.tsv.1 & NA & /ebio/abt3\\_projects/software/dev/ll\\_pipelines/llprimer/experiments/HMP\\_most-wanted/Butyricicoccus/LLG\\_output/checkM/1/checkm/markers\\_qa\\_summary.tsv.1\\\\\n",
       "\t GCA\\_001643435.1\\_ASM164343v1\\_genomic       & o\\_\\_Clostridiales (UID1212) & 172 & 263 & 149 & 67.11 & 0 & 0 & 1452273 &  1058 & ⋯ & 78 & 185 & 0 & 0 & 0 & 0 & \\textbar{}ebio\\textbar{}abt3\\_projects\\textbar{}software\\textbar{}dev\\textbar{}ll\\_pipelines\\textbar{}llprimer\\textbar{}experiments\\textbar{}HMP\\_most-wanted\\textbar{}Butyricicoccus\\textbar{}LLG\\_output\\textbar{}checkM\\textbar{}1\\textbar{}checkm\\textbar{}markers\\_qa\\_summary.tsv.2 & markers\\_qa\\_summary.tsv.2 & NA & /ebio/abt3\\_projects/software/dev/ll\\_pipelines/llprimer/experiments/HMP\\_most-wanted/Butyricicoccus/LLG\\_output/checkM/1/checkm/markers\\_qa\\_summary.tsv.2\\\\\n",
       "\t ⋮ & ⋮ & ⋮ & ⋮ & ⋮ & ⋮ & ⋮ & ⋮ & ⋮ & ⋮ & ⋱ & ⋮ & ⋮ & ⋮ & ⋮ & ⋮ & ⋮ & ⋮ & ⋮ & ⋮ & ⋮\\\\\n",
       "\t GCA\\_900143195.1\\_501571.5\\_genomic        & o\\_\\_Clostridiales (UID1212) & 172 & 263 & 149 & 98.66 & 0 & 0 & 3284487 &  5872 & ⋯ & 2 & 261 & 0 & 0 & 0 & 0 & \\textbar{}ebio\\textbar{}abt3\\_projects\\textbar{}software\\textbar{}dev\\textbar{}ll\\_pipelines\\textbar{}llprimer\\textbar{}experiments\\textbar{}HMP\\_most-wanted\\textbar{}Butyricicoccus\\textbar{}LLG\\_output\\textbar{}checkM\\textbar{}2\\textbar{}checkm\\textbar{}markers\\_qa\\_summary.tsv.17 & markers\\_qa\\_summary.tsv.17 & NA & /ebio/abt3\\_projects/software/dev/ll\\_pipelines/llprimer/experiments/HMP\\_most-wanted/Butyricicoccus/LLG\\_output/checkM/2/checkm/markers\\_qa\\_summary.tsv.17\\\\\n",
       "\t GCA\\_902374965.1\\_MGYG-HGUT-01434\\_genomic & o\\_\\_Clostridiales (UID1212) & 172 & 263 & 149 & 98.66 & 0 & 0 & 3325721 & 26204 & ⋯ & 2 & 261 & 0 & 0 & 0 & 0 & \\textbar{}ebio\\textbar{}abt3\\_projects\\textbar{}software\\textbar{}dev\\textbar{}ll\\_pipelines\\textbar{}llprimer\\textbar{}experiments\\textbar{}HMP\\_most-wanted\\textbar{}Butyricicoccus\\textbar{}LLG\\_output\\textbar{}checkM\\textbar{}2\\textbar{}checkm\\textbar{}markers\\_qa\\_summary.tsv.18 & markers\\_qa\\_summary.tsv.18 & NA & /ebio/abt3\\_projects/software/dev/ll\\_pipelines/llprimer/experiments/HMP\\_most-wanted/Butyricicoccus/LLG\\_output/checkM/2/checkm/markers\\_qa\\_summary.tsv.18\\\\\n",
       "\\end{tabular}\n"
      ],
      "text/markdown": [
       "\n",
       "A data.frame: 36 × 33\n",
       "\n",
       "| Bin.Id &lt;fct&gt; | Marker.lineage &lt;fct&gt; | X..genomes &lt;int&gt; | X..markers &lt;int&gt; | X..marker.sets &lt;int&gt; | Completeness &lt;dbl&gt; | Contamination &lt;dbl&gt; | Strain.heterogeneity &lt;dbl&gt; | Genome.size..bp. &lt;int&gt; | X..ambiguous.bases &lt;int&gt; | ⋯ ⋯ | X0 &lt;int&gt; | X1 &lt;int&gt; | X2 &lt;int&gt; | X3 &lt;int&gt; | X4 &lt;int&gt; | X5. &lt;int&gt; | assembly.Id &lt;fct&gt; | assembler.Id &lt;fct&gt; | taxon.Id &lt;lgl&gt; | File &lt;fct&gt; |\n",
       "|---|---|---|---|---|---|---|---|---|---|---|---|---|---|---|---|---|---|---|---|---|\n",
       "| GCA_000398925.1_Buty_pull_1_20_V1_genomic | o__Clostridiales (UID1212) | 172 | 263 | 149 | 98.66 | 0 | 0 | 3325721 | 26204 | ⋯ |  2 | 261 | 0 | 0 | 0 | 0 | |ebio|abt3_projects|software|dev|ll_pipelines|llprimer|experiments|HMP_most-wanted|Butyricicoccus|LLG_output|checkM|1|checkm|markers_qa_summary.tsv.1 | markers_qa_summary.tsv.1 | NA | /ebio/abt3_projects/software/dev/ll_pipelines/llprimer/experiments/HMP_most-wanted/Butyricicoccus/LLG_output/checkM/1/checkm/markers_qa_summary.tsv.1 |\n",
       "| GCA_001643435.1_ASM164343v1_genomic       | o__Clostridiales (UID1212) | 172 | 263 | 149 | 67.11 | 0 | 0 | 1452273 |  1058 | ⋯ | 78 | 185 | 0 | 0 | 0 | 0 | |ebio|abt3_projects|software|dev|ll_pipelines|llprimer|experiments|HMP_most-wanted|Butyricicoccus|LLG_output|checkM|1|checkm|markers_qa_summary.tsv.2 | markers_qa_summary.tsv.2 | NA | /ebio/abt3_projects/software/dev/ll_pipelines/llprimer/experiments/HMP_most-wanted/Butyricicoccus/LLG_output/checkM/1/checkm/markers_qa_summary.tsv.2 |\n",
       "| ⋮ | ⋮ | ⋮ | ⋮ | ⋮ | ⋮ | ⋮ | ⋮ | ⋮ | ⋮ | ⋱ | ⋮ | ⋮ | ⋮ | ⋮ | ⋮ | ⋮ | ⋮ | ⋮ | ⋮ | ⋮ |\n",
       "| GCA_900143195.1_501571.5_genomic        | o__Clostridiales (UID1212) | 172 | 263 | 149 | 98.66 | 0 | 0 | 3284487 |  5872 | ⋯ | 2 | 261 | 0 | 0 | 0 | 0 | |ebio|abt3_projects|software|dev|ll_pipelines|llprimer|experiments|HMP_most-wanted|Butyricicoccus|LLG_output|checkM|2|checkm|markers_qa_summary.tsv.17 | markers_qa_summary.tsv.17 | NA | /ebio/abt3_projects/software/dev/ll_pipelines/llprimer/experiments/HMP_most-wanted/Butyricicoccus/LLG_output/checkM/2/checkm/markers_qa_summary.tsv.17 |\n",
       "| GCA_902374965.1_MGYG-HGUT-01434_genomic | o__Clostridiales (UID1212) | 172 | 263 | 149 | 98.66 | 0 | 0 | 3325721 | 26204 | ⋯ | 2 | 261 | 0 | 0 | 0 | 0 | |ebio|abt3_projects|software|dev|ll_pipelines|llprimer|experiments|HMP_most-wanted|Butyricicoccus|LLG_output|checkM|2|checkm|markers_qa_summary.tsv.18 | markers_qa_summary.tsv.18 | NA | /ebio/abt3_projects/software/dev/ll_pipelines/llprimer/experiments/HMP_most-wanted/Butyricicoccus/LLG_output/checkM/2/checkm/markers_qa_summary.tsv.18 |\n",
       "\n"
      ],
      "text/plain": [
       "   Bin.Id                                    Marker.lineage            \n",
       "1  GCA_000398925.1_Buty_pull_1_20_V1_genomic o__Clostridiales (UID1212)\n",
       "2  GCA_001643435.1_ASM164343v1_genomic       o__Clostridiales (UID1212)\n",
       "⋮  ⋮                                         ⋮                         \n",
       "35 GCA_900143195.1_501571.5_genomic          o__Clostridiales (UID1212)\n",
       "36 GCA_902374965.1_MGYG-HGUT-01434_genomic   o__Clostridiales (UID1212)\n",
       "   X..genomes X..markers X..marker.sets Completeness Contamination\n",
       "1  172        263        149            98.66        0            \n",
       "2  172        263        149            67.11        0            \n",
       "⋮  ⋮          ⋮          ⋮              ⋮            ⋮            \n",
       "35 172        263        149            98.66        0            \n",
       "36 172        263        149            98.66        0            \n",
       "   Strain.heterogeneity Genome.size..bp. X..ambiguous.bases ⋯ X0 X1  X2 X3 X4\n",
       "1  0                    3325721          26204              ⋯  2 261 0  0  0 \n",
       "2  0                    1452273           1058              ⋯ 78 185 0  0  0 \n",
       "⋮  ⋮                    ⋮                ⋮                  ⋱ ⋮  ⋮   ⋮  ⋮  ⋮ \n",
       "35 0                    3284487           5872              ⋯ 2  261 0  0  0 \n",
       "36 0                    3325721          26204              ⋯ 2  261 0  0  0 \n",
       "   X5.\n",
       "1  0  \n",
       "2  0  \n",
       "⋮  ⋮  \n",
       "35 0  \n",
       "36 0  \n",
       "   assembly.Id                                                                                                                                           \n",
       "1  |ebio|abt3_projects|software|dev|ll_pipelines|llprimer|experiments|HMP_most-wanted|Butyricicoccus|LLG_output|checkM|1|checkm|markers_qa_summary.tsv.1 \n",
       "2  |ebio|abt3_projects|software|dev|ll_pipelines|llprimer|experiments|HMP_most-wanted|Butyricicoccus|LLG_output|checkM|1|checkm|markers_qa_summary.tsv.2 \n",
       "⋮  ⋮                                                                                                                                                     \n",
       "35 |ebio|abt3_projects|software|dev|ll_pipelines|llprimer|experiments|HMP_most-wanted|Butyricicoccus|LLG_output|checkM|2|checkm|markers_qa_summary.tsv.17\n",
       "36 |ebio|abt3_projects|software|dev|ll_pipelines|llprimer|experiments|HMP_most-wanted|Butyricicoccus|LLG_output|checkM|2|checkm|markers_qa_summary.tsv.18\n",
       "   assembler.Id              taxon.Id\n",
       "1  markers_qa_summary.tsv.1  NA      \n",
       "2  markers_qa_summary.tsv.2  NA      \n",
       "⋮  ⋮                         ⋮       \n",
       "35 markers_qa_summary.tsv.17 NA      \n",
       "36 markers_qa_summary.tsv.18 NA      \n",
       "   File                                                                                                                                                  \n",
       "1  /ebio/abt3_projects/software/dev/ll_pipelines/llprimer/experiments/HMP_most-wanted/Butyricicoccus/LLG_output/checkM/1/checkm/markers_qa_summary.tsv.1 \n",
       "2  /ebio/abt3_projects/software/dev/ll_pipelines/llprimer/experiments/HMP_most-wanted/Butyricicoccus/LLG_output/checkM/1/checkm/markers_qa_summary.tsv.2 \n",
       "⋮  ⋮                                                                                                                                                     \n",
       "35 /ebio/abt3_projects/software/dev/ll_pipelines/llprimer/experiments/HMP_most-wanted/Butyricicoccus/LLG_output/checkM/2/checkm/markers_qa_summary.tsv.17\n",
       "36 /ebio/abt3_projects/software/dev/ll_pipelines/llprimer/experiments/HMP_most-wanted/Butyricicoccus/LLG_output/checkM/2/checkm/markers_qa_summary.tsv.18"
      ]
     },
     "metadata": {},
     "output_type": "display_data"
    }
   ],
   "source": [
    "# checkM summary\n",
    "checkm = file.path(work_dir, 'LLG_output', 'checkM', 'checkm_qa_summary.tsv') %>%\n",
    "    read.delim(sep='\\t') \n",
    "checkm"
   ]
  },
  {
   "cell_type": "code",
   "execution_count": 8,
   "metadata": {
    "execution": {
     "iopub.execute_input": "2021-01-17T10:04:39.297619Z",
     "iopub.status.busy": "2021-01-17T10:04:39.295394Z",
     "iopub.status.idle": "2021-01-17T10:04:39.347675Z"
    }
   },
   "outputs": [
    {
     "data": {
      "text/html": [
       "<table>\n",
       "<caption>A data.frame: 36 × 4</caption>\n",
       "<thead>\n",
       "\t<tr><th scope=col>genome</th><th scope=col>completeness</th><th scope=col>contamination</th><th scope=col>Bin.Id</th></tr>\n",
       "\t<tr><th scope=col>&lt;fct&gt;</th><th scope=col>&lt;dbl&gt;</th><th scope=col>&lt;dbl&gt;</th><th scope=col>&lt;chr&gt;</th></tr>\n",
       "</thead>\n",
       "<tbody>\n",
       "\t<tr><td>/ebio/abt3_scratch/nyoungblut/LLG_62325884640/genomes/GCA_000398925.1_Buty_pull_1_20_V1_genomic.fna</td><td>98.66</td><td>0</td><td>GCA_000398925.1_Buty_pull_1_20_V1_genomic</td></tr>\n",
       "\t<tr><td>/ebio/abt3_scratch/nyoungblut/LLG_62325884640/genomes/GCA_001643435.1_ASM164343v1_genomic.fna      </td><td>67.11</td><td>0</td><td>GCA_001643435.1_ASM164343v1_genomic      </td></tr>\n",
       "\t<tr><td>⋮</td><td>⋮</td><td>⋮</td><td>⋮</td></tr>\n",
       "\t<tr><td>/ebio/abt3_scratch/nyoungblut/LLG_62325884640/genomes/GCA_900143195.1_501571.5_genomic.fna       </td><td>98.66</td><td>0</td><td>GCA_900143195.1_501571.5_genomic       </td></tr>\n",
       "\t<tr><td>/ebio/abt3_scratch/nyoungblut/LLG_62325884640/genomes/GCA_902374965.1_MGYG-HGUT-01434_genomic.fna</td><td>98.66</td><td>0</td><td>GCA_902374965.1_MGYG-HGUT-01434_genomic</td></tr>\n",
       "</tbody>\n",
       "</table>\n"
      ],
      "text/latex": [
       "A data.frame: 36 × 4\n",
       "\\begin{tabular}{llll}\n",
       " genome & completeness & contamination & Bin.Id\\\\\n",
       " <fct> & <dbl> & <dbl> & <chr>\\\\\n",
       "\\hline\n",
       "\t /ebio/abt3\\_scratch/nyoungblut/LLG\\_62325884640/genomes/GCA\\_000398925.1\\_Buty\\_pull\\_1\\_20\\_V1\\_genomic.fna & 98.66 & 0 & GCA\\_000398925.1\\_Buty\\_pull\\_1\\_20\\_V1\\_genomic\\\\\n",
       "\t /ebio/abt3\\_scratch/nyoungblut/LLG\\_62325884640/genomes/GCA\\_001643435.1\\_ASM164343v1\\_genomic.fna       & 67.11 & 0 & GCA\\_001643435.1\\_ASM164343v1\\_genomic      \\\\\n",
       "\t ⋮ & ⋮ & ⋮ & ⋮\\\\\n",
       "\t /ebio/abt3\\_scratch/nyoungblut/LLG\\_62325884640/genomes/GCA\\_900143195.1\\_501571.5\\_genomic.fna        & 98.66 & 0 & GCA\\_900143195.1\\_501571.5\\_genomic       \\\\\n",
       "\t /ebio/abt3\\_scratch/nyoungblut/LLG\\_62325884640/genomes/GCA\\_902374965.1\\_MGYG-HGUT-01434\\_genomic.fna & 98.66 & 0 & GCA\\_902374965.1\\_MGYG-HGUT-01434\\_genomic\\\\\n",
       "\\end{tabular}\n"
      ],
      "text/markdown": [
       "\n",
       "A data.frame: 36 × 4\n",
       "\n",
       "| genome &lt;fct&gt; | completeness &lt;dbl&gt; | contamination &lt;dbl&gt; | Bin.Id &lt;chr&gt; |\n",
       "|---|---|---|---|\n",
       "| /ebio/abt3_scratch/nyoungblut/LLG_62325884640/genomes/GCA_000398925.1_Buty_pull_1_20_V1_genomic.fna | 98.66 | 0 | GCA_000398925.1_Buty_pull_1_20_V1_genomic |\n",
       "| /ebio/abt3_scratch/nyoungblut/LLG_62325884640/genomes/GCA_001643435.1_ASM164343v1_genomic.fna       | 67.11 | 0 | GCA_001643435.1_ASM164343v1_genomic       |\n",
       "| ⋮ | ⋮ | ⋮ | ⋮ |\n",
       "| /ebio/abt3_scratch/nyoungblut/LLG_62325884640/genomes/GCA_900143195.1_501571.5_genomic.fna        | 98.66 | 0 | GCA_900143195.1_501571.5_genomic        |\n",
       "| /ebio/abt3_scratch/nyoungblut/LLG_62325884640/genomes/GCA_902374965.1_MGYG-HGUT-01434_genomic.fna | 98.66 | 0 | GCA_902374965.1_MGYG-HGUT-01434_genomic |\n",
       "\n"
      ],
      "text/plain": [
       "   genome                                                                                             \n",
       "1  /ebio/abt3_scratch/nyoungblut/LLG_62325884640/genomes/GCA_000398925.1_Buty_pull_1_20_V1_genomic.fna\n",
       "2  /ebio/abt3_scratch/nyoungblut/LLG_62325884640/genomes/GCA_001643435.1_ASM164343v1_genomic.fna      \n",
       "⋮  ⋮                                                                                                  \n",
       "35 /ebio/abt3_scratch/nyoungblut/LLG_62325884640/genomes/GCA_900143195.1_501571.5_genomic.fna         \n",
       "36 /ebio/abt3_scratch/nyoungblut/LLG_62325884640/genomes/GCA_902374965.1_MGYG-HGUT-01434_genomic.fna  \n",
       "   completeness contamination Bin.Id                                   \n",
       "1  98.66        0             GCA_000398925.1_Buty_pull_1_20_V1_genomic\n",
       "2  67.11        0             GCA_001643435.1_ASM164343v1_genomic      \n",
       "⋮  ⋮            ⋮             ⋮                                        \n",
       "35 98.66        0             GCA_900143195.1_501571.5_genomic         \n",
       "36 98.66        0             GCA_902374965.1_MGYG-HGUT-01434_genomic  "
      ]
     },
     "metadata": {},
     "output_type": "display_data"
    }
   ],
   "source": [
    "# dRep summary\n",
    "drep = file.path(work_dir, 'LLG_output', 'drep', 'checkm_markers_qa_summary.tsv') %>%\n",
    "    read.delim(sep='\\t') %>%\n",
    "    mutate(Bin.Id = gsub('.+/', '', genome),\n",
    "           Bin.Id = gsub('\\\\.fna$', '', Bin.Id))\n",
    "drep"
   ]
  },
  {
   "cell_type": "code",
   "execution_count": 9,
   "metadata": {
    "execution": {
     "iopub.execute_input": "2021-01-17T10:04:42.962745Z",
     "iopub.status.busy": "2021-01-17T10:04:42.960489Z",
     "iopub.status.idle": "2021-01-17T10:04:42.992375Z"
    }
   },
   "outputs": [
    {
     "data": {
      "text/html": [
       "<table>\n",
       "<caption>A data.frame: 26 × 2</caption>\n",
       "<thead>\n",
       "\t<tr><th scope=col>Name</th><th scope=col>Fasta</th></tr>\n",
       "\t<tr><th scope=col>&lt;fct&gt;</th><th scope=col>&lt;fct&gt;</th></tr>\n",
       "</thead>\n",
       "<tbody>\n",
       "\t<tr><td>GCA_002157465.1_ASM215746v1_genomic </td><td>/ebio/abt3_projects/software/dev/ll_pipelines/llprimer/experiments/HMP_most-wanted/Butyricicoccus/LLG_output/drep/drep/dereplicated_genomes/GCA_002157465.1_ASM215746v1_genomic.fna </td></tr>\n",
       "\t<tr><td>GCA_016297755.1_ASM1629775v1_genomic</td><td>/ebio/abt3_projects/software/dev/ll_pipelines/llprimer/experiments/HMP_most-wanted/Butyricicoccus/LLG_output/drep/drep/dereplicated_genomes/GCA_016297755.1_ASM1629775v1_genomic.fna</td></tr>\n",
       "\t<tr><td>⋮</td><td>⋮</td></tr>\n",
       "\t<tr><td>GCA_003202935.1_ASM320293v1_genomic</td><td>/ebio/abt3_projects/software/dev/ll_pipelines/llprimer/experiments/HMP_most-wanted/Butyricicoccus/LLG_output/drep/drep/dereplicated_genomes/GCA_003202935.1_ASM320293v1_genomic.fna</td></tr>\n",
       "\t<tr><td>GCA_009881305.1_ASM988130v1_genomic</td><td>/ebio/abt3_projects/software/dev/ll_pipelines/llprimer/experiments/HMP_most-wanted/Butyricicoccus/LLG_output/drep/drep/dereplicated_genomes/GCA_009881305.1_ASM988130v1_genomic.fna</td></tr>\n",
       "</tbody>\n",
       "</table>\n"
      ],
      "text/latex": [
       "A data.frame: 26 × 2\n",
       "\\begin{tabular}{ll}\n",
       " Name & Fasta\\\\\n",
       " <fct> & <fct>\\\\\n",
       "\\hline\n",
       "\t GCA\\_002157465.1\\_ASM215746v1\\_genomic  & /ebio/abt3\\_projects/software/dev/ll\\_pipelines/llprimer/experiments/HMP\\_most-wanted/Butyricicoccus/LLG\\_output/drep/drep/dereplicated\\_genomes/GCA\\_002157465.1\\_ASM215746v1\\_genomic.fna \\\\\n",
       "\t GCA\\_016297755.1\\_ASM1629775v1\\_genomic & /ebio/abt3\\_projects/software/dev/ll\\_pipelines/llprimer/experiments/HMP\\_most-wanted/Butyricicoccus/LLG\\_output/drep/drep/dereplicated\\_genomes/GCA\\_016297755.1\\_ASM1629775v1\\_genomic.fna\\\\\n",
       "\t ⋮ & ⋮\\\\\n",
       "\t GCA\\_003202935.1\\_ASM320293v1\\_genomic & /ebio/abt3\\_projects/software/dev/ll\\_pipelines/llprimer/experiments/HMP\\_most-wanted/Butyricicoccus/LLG\\_output/drep/drep/dereplicated\\_genomes/GCA\\_003202935.1\\_ASM320293v1\\_genomic.fna\\\\\n",
       "\t GCA\\_009881305.1\\_ASM988130v1\\_genomic & /ebio/abt3\\_projects/software/dev/ll\\_pipelines/llprimer/experiments/HMP\\_most-wanted/Butyricicoccus/LLG\\_output/drep/drep/dereplicated\\_genomes/GCA\\_009881305.1\\_ASM988130v1\\_genomic.fna\\\\\n",
       "\\end{tabular}\n"
      ],
      "text/markdown": [
       "\n",
       "A data.frame: 26 × 2\n",
       "\n",
       "| Name &lt;fct&gt; | Fasta &lt;fct&gt; |\n",
       "|---|---|\n",
       "| GCA_002157465.1_ASM215746v1_genomic  | /ebio/abt3_projects/software/dev/ll_pipelines/llprimer/experiments/HMP_most-wanted/Butyricicoccus/LLG_output/drep/drep/dereplicated_genomes/GCA_002157465.1_ASM215746v1_genomic.fna  |\n",
       "| GCA_016297755.1_ASM1629775v1_genomic | /ebio/abt3_projects/software/dev/ll_pipelines/llprimer/experiments/HMP_most-wanted/Butyricicoccus/LLG_output/drep/drep/dereplicated_genomes/GCA_016297755.1_ASM1629775v1_genomic.fna |\n",
       "| ⋮ | ⋮ |\n",
       "| GCA_003202935.1_ASM320293v1_genomic | /ebio/abt3_projects/software/dev/ll_pipelines/llprimer/experiments/HMP_most-wanted/Butyricicoccus/LLG_output/drep/drep/dereplicated_genomes/GCA_003202935.1_ASM320293v1_genomic.fna |\n",
       "| GCA_009881305.1_ASM988130v1_genomic | /ebio/abt3_projects/software/dev/ll_pipelines/llprimer/experiments/HMP_most-wanted/Butyricicoccus/LLG_output/drep/drep/dereplicated_genomes/GCA_009881305.1_ASM988130v1_genomic.fna |\n",
       "\n"
      ],
      "text/plain": [
       "   Name                                \n",
       "1  GCA_002157465.1_ASM215746v1_genomic \n",
       "2  GCA_016297755.1_ASM1629775v1_genomic\n",
       "⋮  ⋮                                   \n",
       "25 GCA_003202935.1_ASM320293v1_genomic \n",
       "26 GCA_009881305.1_ASM988130v1_genomic \n",
       "   Fasta                                                                                                                                                                               \n",
       "1  /ebio/abt3_projects/software/dev/ll_pipelines/llprimer/experiments/HMP_most-wanted/Butyricicoccus/LLG_output/drep/drep/dereplicated_genomes/GCA_002157465.1_ASM215746v1_genomic.fna \n",
       "2  /ebio/abt3_projects/software/dev/ll_pipelines/llprimer/experiments/HMP_most-wanted/Butyricicoccus/LLG_output/drep/drep/dereplicated_genomes/GCA_016297755.1_ASM1629775v1_genomic.fna\n",
       "⋮  ⋮                                                                                                                                                                                   \n",
       "25 /ebio/abt3_projects/software/dev/ll_pipelines/llprimer/experiments/HMP_most-wanted/Butyricicoccus/LLG_output/drep/drep/dereplicated_genomes/GCA_003202935.1_ASM320293v1_genomic.fna \n",
       "26 /ebio/abt3_projects/software/dev/ll_pipelines/llprimer/experiments/HMP_most-wanted/Butyricicoccus/LLG_output/drep/drep/dereplicated_genomes/GCA_009881305.1_ASM988130v1_genomic.fna "
      ]
     },
     "metadata": {},
     "output_type": "display_data"
    }
   ],
   "source": [
    "# de-replicated genomes\n",
    "drep_gen = file.path(work_dir, 'LLG_output', 'drep', 'dereplicated_genomes.tsv') %>%\n",
    "    read.delim(sep='\\t')\n",
    "drep_gen"
   ]
  },
  {
   "cell_type": "code",
   "execution_count": 10,
   "metadata": {
    "execution": {
     "iopub.execute_input": "2021-01-17T10:04:44.544438Z",
     "iopub.status.busy": "2021-01-17T10:04:44.542373Z",
     "iopub.status.idle": "2021-01-17T10:04:44.754081Z"
    }
   },
   "outputs": [
    {
     "data": {
      "text/html": [
       "<table>\n",
       "<caption>A data.frame: 36 × 22</caption>\n",
       "<thead>\n",
       "\t<tr><th scope=col>user_genome</th><th scope=col>Domain</th><th scope=col>Phylum</th><th scope=col>Class</th><th scope=col>Order</th><th scope=col>Family</th><th scope=col>Genus</th><th scope=col>Species</th><th scope=col>fastani_reference</th><th scope=col>fastani_reference_radius</th><th scope=col>⋯</th><th scope=col>fastani_af</th><th scope=col>closest_placement_reference</th><th scope=col>closest_placement_radius</th><th scope=col>closest_placement_taxonomy</th><th scope=col>closest_placement_ani</th><th scope=col>closest_placement_af</th><th scope=col>msa_percent</th><th scope=col>translation_table</th><th scope=col>red_value</th><th scope=col>warnings</th></tr>\n",
       "\t<tr><th scope=col>&lt;fct&gt;</th><th scope=col>&lt;chr&gt;</th><th scope=col>&lt;chr&gt;</th><th scope=col>&lt;chr&gt;</th><th scope=col>&lt;chr&gt;</th><th scope=col>&lt;chr&gt;</th><th scope=col>&lt;chr&gt;</th><th scope=col>&lt;chr&gt;</th><th scope=col>&lt;fct&gt;</th><th scope=col>&lt;fct&gt;</th><th scope=col>⋯</th><th scope=col>&lt;fct&gt;</th><th scope=col>&lt;fct&gt;</th><th scope=col>&lt;fct&gt;</th><th scope=col>&lt;fct&gt;</th><th scope=col>&lt;fct&gt;</th><th scope=col>&lt;fct&gt;</th><th scope=col>&lt;dbl&gt;</th><th scope=col>&lt;int&gt;</th><th scope=col>&lt;fct&gt;</th><th scope=col>&lt;fct&gt;</th></tr>\n",
       "</thead>\n",
       "<tbody>\n",
       "\t<tr><td>GCA_000398925.1_Buty_pull_1_20_V1_genomic</td><td>d__Bacteria</td><td>p__Firmicutes_A</td><td>c__Clostridia</td><td>o__Oscillospirales</td><td>f__Butyricicoccaceae</td><td>g__Butyricicoccus</td><td>s__Butyricicoccus pullicaecorum   </td><td>GCF_900167005.1</td><td>95.0</td><td>⋯</td><td>1.0</td><td>GCF_900167005.1</td><td>95.0</td><td>d__Bacteria;p__Firmicutes_A;c__Clostridia;o__Oscillospirales;f__Butyricicoccaceae;g__Butyricicoccus;s__Butyricicoccus pullicaecorum  </td><td>99.99</td><td>1.0</td><td>97.26</td><td>11</td><td>N/A</td><td>N/A</td></tr>\n",
       "\t<tr><td>GCA_001643435.1_ASM164343v1_genomic      </td><td>d__Bacteria</td><td>p__Firmicutes_A</td><td>c__Clostridia</td><td>o__Oscillospirales</td><td>f__Butyricicoccaceae</td><td>g__Agathobaculum </td><td>s__Agathobaculum butyriciproducens</td><td>GCF_003096535.1</td><td>95.0</td><td>⋯</td><td>0.9</td><td>GCF_003096535.1</td><td>95.0</td><td>d__Bacteria;p__Firmicutes_A;c__Clostridia;o__Oscillospirales;f__Butyricicoccaceae;g__Agathobaculum;s__Agathobaculum butyriciproducens</td><td>97.16</td><td>0.9</td><td>69.94</td><td>11</td><td>N/A</td><td>N/A</td></tr>\n",
       "\t<tr><td>⋮</td><td>⋮</td><td>⋮</td><td>⋮</td><td>⋮</td><td>⋮</td><td>⋮</td><td>⋮</td><td>⋮</td><td>⋮</td><td>⋱</td><td>⋮</td><td>⋮</td><td>⋮</td><td>⋮</td><td>⋮</td><td>⋮</td><td>⋮</td><td>⋮</td><td>⋮</td><td>⋮</td></tr>\n",
       "\t<tr><td>GCA_900143195.1_501571.5_genomic       </td><td>d__Bacteria</td><td>p__Firmicutes_A</td><td>c__Clostridia</td><td>o__Oscillospirales</td><td>f__Butyricicoccaceae</td><td>g__Butyricicoccus</td><td>s__Butyricicoccus pullicaecorum</td><td>GCF_900167005.1</td><td>95.0</td><td>⋯</td><td>0.99</td><td>GCF_900167005.1</td><td>95.0</td><td>d__Bacteria;p__Firmicutes_A;c__Clostridia;o__Oscillospirales;f__Butyricicoccaceae;g__Butyricicoccus;s__Butyricicoccus pullicaecorum</td><td>99.97</td><td>0.99</td><td>97.14</td><td>11</td><td>N/A</td><td>N/A</td></tr>\n",
       "\t<tr><td>GCA_902374965.1_MGYG-HGUT-01434_genomic</td><td>d__Bacteria</td><td>p__Firmicutes_A</td><td>c__Clostridia</td><td>o__Oscillospirales</td><td>f__Butyricicoccaceae</td><td>g__Butyricicoccus</td><td>s__Butyricicoccus pullicaecorum</td><td>GCF_900167005.1</td><td>95.0</td><td>⋯</td><td>1.0 </td><td>GCF_900167005.1</td><td>95.0</td><td>d__Bacteria;p__Firmicutes_A;c__Clostridia;o__Oscillospirales;f__Butyricicoccaceae;g__Butyricicoccus;s__Butyricicoccus pullicaecorum</td><td>99.99</td><td>1.0 </td><td>97.26</td><td>11</td><td>N/A</td><td>N/A</td></tr>\n",
       "</tbody>\n",
       "</table>\n"
      ],
      "text/latex": [
       "A data.frame: 36 × 22\n",
       "\\begin{tabular}{lllllllllllllllllllll}\n",
       " user\\_genome & Domain & Phylum & Class & Order & Family & Genus & Species & fastani\\_reference & fastani\\_reference\\_radius & ⋯ & fastani\\_af & closest\\_placement\\_reference & closest\\_placement\\_radius & closest\\_placement\\_taxonomy & closest\\_placement\\_ani & closest\\_placement\\_af & msa\\_percent & translation\\_table & red\\_value & warnings\\\\\n",
       " <fct> & <chr> & <chr> & <chr> & <chr> & <chr> & <chr> & <chr> & <fct> & <fct> & ⋯ & <fct> & <fct> & <fct> & <fct> & <fct> & <fct> & <dbl> & <int> & <fct> & <fct>\\\\\n",
       "\\hline\n",
       "\t GCA\\_000398925.1\\_Buty\\_pull\\_1\\_20\\_V1\\_genomic & d\\_\\_Bacteria & p\\_\\_Firmicutes\\_A & c\\_\\_Clostridia & o\\_\\_Oscillospirales & f\\_\\_Butyricicoccaceae & g\\_\\_Butyricicoccus & s\\_\\_Butyricicoccus pullicaecorum    & GCF\\_900167005.1 & 95.0 & ⋯ & 1.0 & GCF\\_900167005.1 & 95.0 & d\\_\\_Bacteria;p\\_\\_Firmicutes\\_A;c\\_\\_Clostridia;o\\_\\_Oscillospirales;f\\_\\_Butyricicoccaceae;g\\_\\_Butyricicoccus;s\\_\\_Butyricicoccus pullicaecorum   & 99.99 & 1.0 & 97.26 & 11 & N/A & N/A\\\\\n",
       "\t GCA\\_001643435.1\\_ASM164343v1\\_genomic       & d\\_\\_Bacteria & p\\_\\_Firmicutes\\_A & c\\_\\_Clostridia & o\\_\\_Oscillospirales & f\\_\\_Butyricicoccaceae & g\\_\\_Agathobaculum  & s\\_\\_Agathobaculum butyriciproducens & GCF\\_003096535.1 & 95.0 & ⋯ & 0.9 & GCF\\_003096535.1 & 95.0 & d\\_\\_Bacteria;p\\_\\_Firmicutes\\_A;c\\_\\_Clostridia;o\\_\\_Oscillospirales;f\\_\\_Butyricicoccaceae;g\\_\\_Agathobaculum;s\\_\\_Agathobaculum butyriciproducens & 97.16 & 0.9 & 69.94 & 11 & N/A & N/A\\\\\n",
       "\t ⋮ & ⋮ & ⋮ & ⋮ & ⋮ & ⋮ & ⋮ & ⋮ & ⋮ & ⋮ & ⋱ & ⋮ & ⋮ & ⋮ & ⋮ & ⋮ & ⋮ & ⋮ & ⋮ & ⋮ & ⋮\\\\\n",
       "\t GCA\\_900143195.1\\_501571.5\\_genomic        & d\\_\\_Bacteria & p\\_\\_Firmicutes\\_A & c\\_\\_Clostridia & o\\_\\_Oscillospirales & f\\_\\_Butyricicoccaceae & g\\_\\_Butyricicoccus & s\\_\\_Butyricicoccus pullicaecorum & GCF\\_900167005.1 & 95.0 & ⋯ & 0.99 & GCF\\_900167005.1 & 95.0 & d\\_\\_Bacteria;p\\_\\_Firmicutes\\_A;c\\_\\_Clostridia;o\\_\\_Oscillospirales;f\\_\\_Butyricicoccaceae;g\\_\\_Butyricicoccus;s\\_\\_Butyricicoccus pullicaecorum & 99.97 & 0.99 & 97.14 & 11 & N/A & N/A\\\\\n",
       "\t GCA\\_902374965.1\\_MGYG-HGUT-01434\\_genomic & d\\_\\_Bacteria & p\\_\\_Firmicutes\\_A & c\\_\\_Clostridia & o\\_\\_Oscillospirales & f\\_\\_Butyricicoccaceae & g\\_\\_Butyricicoccus & s\\_\\_Butyricicoccus pullicaecorum & GCF\\_900167005.1 & 95.0 & ⋯ & 1.0  & GCF\\_900167005.1 & 95.0 & d\\_\\_Bacteria;p\\_\\_Firmicutes\\_A;c\\_\\_Clostridia;o\\_\\_Oscillospirales;f\\_\\_Butyricicoccaceae;g\\_\\_Butyricicoccus;s\\_\\_Butyricicoccus pullicaecorum & 99.99 & 1.0  & 97.26 & 11 & N/A & N/A\\\\\n",
       "\\end{tabular}\n"
      ],
      "text/markdown": [
       "\n",
       "A data.frame: 36 × 22\n",
       "\n",
       "| user_genome &lt;fct&gt; | Domain &lt;chr&gt; | Phylum &lt;chr&gt; | Class &lt;chr&gt; | Order &lt;chr&gt; | Family &lt;chr&gt; | Genus &lt;chr&gt; | Species &lt;chr&gt; | fastani_reference &lt;fct&gt; | fastani_reference_radius &lt;fct&gt; | ⋯ ⋯ | fastani_af &lt;fct&gt; | closest_placement_reference &lt;fct&gt; | closest_placement_radius &lt;fct&gt; | closest_placement_taxonomy &lt;fct&gt; | closest_placement_ani &lt;fct&gt; | closest_placement_af &lt;fct&gt; | msa_percent &lt;dbl&gt; | translation_table &lt;int&gt; | red_value &lt;fct&gt; | warnings &lt;fct&gt; |\n",
       "|---|---|---|---|---|---|---|---|---|---|---|---|---|---|---|---|---|---|---|---|---|\n",
       "| GCA_000398925.1_Buty_pull_1_20_V1_genomic | d__Bacteria | p__Firmicutes_A | c__Clostridia | o__Oscillospirales | f__Butyricicoccaceae | g__Butyricicoccus | s__Butyricicoccus pullicaecorum    | GCF_900167005.1 | 95.0 | ⋯ | 1.0 | GCF_900167005.1 | 95.0 | d__Bacteria;p__Firmicutes_A;c__Clostridia;o__Oscillospirales;f__Butyricicoccaceae;g__Butyricicoccus;s__Butyricicoccus pullicaecorum   | 99.99 | 1.0 | 97.26 | 11 | N/A | N/A |\n",
       "| GCA_001643435.1_ASM164343v1_genomic       | d__Bacteria | p__Firmicutes_A | c__Clostridia | o__Oscillospirales | f__Butyricicoccaceae | g__Agathobaculum  | s__Agathobaculum butyriciproducens | GCF_003096535.1 | 95.0 | ⋯ | 0.9 | GCF_003096535.1 | 95.0 | d__Bacteria;p__Firmicutes_A;c__Clostridia;o__Oscillospirales;f__Butyricicoccaceae;g__Agathobaculum;s__Agathobaculum butyriciproducens | 97.16 | 0.9 | 69.94 | 11 | N/A | N/A |\n",
       "| ⋮ | ⋮ | ⋮ | ⋮ | ⋮ | ⋮ | ⋮ | ⋮ | ⋮ | ⋮ | ⋱ | ⋮ | ⋮ | ⋮ | ⋮ | ⋮ | ⋮ | ⋮ | ⋮ | ⋮ | ⋮ |\n",
       "| GCA_900143195.1_501571.5_genomic        | d__Bacteria | p__Firmicutes_A | c__Clostridia | o__Oscillospirales | f__Butyricicoccaceae | g__Butyricicoccus | s__Butyricicoccus pullicaecorum | GCF_900167005.1 | 95.0 | ⋯ | 0.99 | GCF_900167005.1 | 95.0 | d__Bacteria;p__Firmicutes_A;c__Clostridia;o__Oscillospirales;f__Butyricicoccaceae;g__Butyricicoccus;s__Butyricicoccus pullicaecorum | 99.97 | 0.99 | 97.14 | 11 | N/A | N/A |\n",
       "| GCA_902374965.1_MGYG-HGUT-01434_genomic | d__Bacteria | p__Firmicutes_A | c__Clostridia | o__Oscillospirales | f__Butyricicoccaceae | g__Butyricicoccus | s__Butyricicoccus pullicaecorum | GCF_900167005.1 | 95.0 | ⋯ | 1.0  | GCF_900167005.1 | 95.0 | d__Bacteria;p__Firmicutes_A;c__Clostridia;o__Oscillospirales;f__Butyricicoccaceae;g__Butyricicoccus;s__Butyricicoccus pullicaecorum | 99.99 | 1.0  | 97.26 | 11 | N/A | N/A |\n",
       "\n"
      ],
      "text/plain": [
       "   user_genome                               Domain      Phylum         \n",
       "1  GCA_000398925.1_Buty_pull_1_20_V1_genomic d__Bacteria p__Firmicutes_A\n",
       "2  GCA_001643435.1_ASM164343v1_genomic       d__Bacteria p__Firmicutes_A\n",
       "⋮  ⋮                                         ⋮           ⋮              \n",
       "35 GCA_900143195.1_501571.5_genomic          d__Bacteria p__Firmicutes_A\n",
       "36 GCA_902374965.1_MGYG-HGUT-01434_genomic   d__Bacteria p__Firmicutes_A\n",
       "   Class         Order              Family               Genus            \n",
       "1  c__Clostridia o__Oscillospirales f__Butyricicoccaceae g__Butyricicoccus\n",
       "2  c__Clostridia o__Oscillospirales f__Butyricicoccaceae g__Agathobaculum \n",
       "⋮  ⋮             ⋮                  ⋮                    ⋮                \n",
       "35 c__Clostridia o__Oscillospirales f__Butyricicoccaceae g__Butyricicoccus\n",
       "36 c__Clostridia o__Oscillospirales f__Butyricicoccaceae g__Butyricicoccus\n",
       "   Species                            fastani_reference\n",
       "1  s__Butyricicoccus pullicaecorum    GCF_900167005.1  \n",
       "2  s__Agathobaculum butyriciproducens GCF_003096535.1  \n",
       "⋮  ⋮                                  ⋮                \n",
       "35 s__Butyricicoccus pullicaecorum    GCF_900167005.1  \n",
       "36 s__Butyricicoccus pullicaecorum    GCF_900167005.1  \n",
       "   fastani_reference_radius ⋯ fastani_af closest_placement_reference\n",
       "1  95.0                     ⋯ 1.0        GCF_900167005.1            \n",
       "2  95.0                     ⋯ 0.9        GCF_003096535.1            \n",
       "⋮  ⋮                        ⋱ ⋮          ⋮                          \n",
       "35 95.0                     ⋯ 0.99       GCF_900167005.1            \n",
       "36 95.0                     ⋯ 1.0        GCF_900167005.1            \n",
       "   closest_placement_radius\n",
       "1  95.0                    \n",
       "2  95.0                    \n",
       "⋮  ⋮                       \n",
       "35 95.0                    \n",
       "36 95.0                    \n",
       "   closest_placement_taxonomy                                                                                                           \n",
       "1  d__Bacteria;p__Firmicutes_A;c__Clostridia;o__Oscillospirales;f__Butyricicoccaceae;g__Butyricicoccus;s__Butyricicoccus pullicaecorum  \n",
       "2  d__Bacteria;p__Firmicutes_A;c__Clostridia;o__Oscillospirales;f__Butyricicoccaceae;g__Agathobaculum;s__Agathobaculum butyriciproducens\n",
       "⋮  ⋮                                                                                                                                    \n",
       "35 d__Bacteria;p__Firmicutes_A;c__Clostridia;o__Oscillospirales;f__Butyricicoccaceae;g__Butyricicoccus;s__Butyricicoccus pullicaecorum  \n",
       "36 d__Bacteria;p__Firmicutes_A;c__Clostridia;o__Oscillospirales;f__Butyricicoccaceae;g__Butyricicoccus;s__Butyricicoccus pullicaecorum  \n",
       "   closest_placement_ani closest_placement_af msa_percent translation_table\n",
       "1  99.99                 1.0                  97.26       11               \n",
       "2  97.16                 0.9                  69.94       11               \n",
       "⋮  ⋮                     ⋮                    ⋮           ⋮                \n",
       "35 99.97                 0.99                 97.14       11               \n",
       "36 99.99                 1.0                  97.26       11               \n",
       "   red_value warnings\n",
       "1  N/A       N/A     \n",
       "2  N/A       N/A     \n",
       "⋮  ⋮         ⋮       \n",
       "35 N/A       N/A     \n",
       "36 N/A       N/A     "
      ]
     },
     "metadata": {},
     "output_type": "display_data"
    }
   ],
   "source": [
    "# GTDBTk summary\n",
    "tax = file.path(work_dir, 'LLG_output', 'gtdbtk', 'gtdbtk_bac_summary.tsv') %>%\n",
    "    read.delim(, sep='\\t') %>%\n",
    "    separate(classification, \n",
    "             c('Domain', 'Phylum', 'Class', 'Order', 'Family', 'Genus', 'Species'),\n",
    "             sep=';') %>%\n",
    "    select(-note, -classification_method, -pplacer_taxonomy,\n",
    "           -other_related_references.genome_id.species_name.radius.ANI.AF.)\n",
    "tax"
   ]
  },
  {
   "cell_type": "code",
   "execution_count": 11,
   "metadata": {
    "execution": {
     "iopub.execute_input": "2021-01-17T10:04:45.951754Z",
     "iopub.status.busy": "2021-01-17T10:04:45.949492Z",
     "iopub.status.idle": "2021-01-17T10:04:45.984363Z"
    }
   },
   "outputs": [
    {
     "name": "stdout",
     "output_type": "stream",
     "text": [
      "-- drep --\n",
      "intersect(x,y): 26 \n",
      "setdiff(x,y): 0 \n",
      "setdiff(y,x): 10 \n",
      "union(x,y): 36 \n",
      "-- checkm --\n",
      "intersect(x,y): 36 \n",
      "setdiff(x,y): 0 \n",
      "setdiff(y,x): 0 \n",
      "union(x,y): 36 \n",
      "-- gtdbtk --\n",
      "intersect(x,y): 36 \n",
      "setdiff(x,y): 0 \n",
      "setdiff(y,x): 0 \n",
      "union(x,y): 36 \n"
     ]
    }
   ],
   "source": [
    "# checking overlap\n",
    "cat('-- drep --\\n')\n",
    "overlap(basename(as.character(drep_gen$Fasta)), \n",
    "        basename(as.character(drep$genome)))\n",
    "cat('-- checkm --\\n')\n",
    "overlap(drep$Bin.Id, checkm$Bin.Id)\n",
    "cat('-- gtdbtk --\\n')\n",
    "overlap(drep$Bin.Id, tax$user_genome)"
   ]
  },
  {
   "cell_type": "code",
   "execution_count": 12,
   "metadata": {
    "execution": {
     "iopub.execute_input": "2021-01-17T10:04:47.622481Z",
     "iopub.status.busy": "2021-01-17T10:04:47.620428Z",
     "iopub.status.idle": "2021-01-17T10:04:47.737863Z"
    }
   },
   "outputs": [
    {
     "data": {
      "text/html": [
       "<table>\n",
       "<caption>A data.frame: 26 × 60</caption>\n",
       "<thead>\n",
       "\t<tr><th scope=col>genome</th><th scope=col>completeness</th><th scope=col>contamination</th><th scope=col>Bin.Id</th><th scope=col>Marker.lineage</th><th scope=col>X..genomes</th><th scope=col>X..markers</th><th scope=col>X..marker.sets</th><th scope=col>Completeness</th><th scope=col>Contamination</th><th scope=col>⋯</th><th scope=col>fastani_af</th><th scope=col>closest_placement_reference</th><th scope=col>closest_placement_radius</th><th scope=col>closest_placement_taxonomy</th><th scope=col>closest_placement_ani</th><th scope=col>closest_placement_af</th><th scope=col>msa_percent</th><th scope=col>translation_table</th><th scope=col>red_value</th><th scope=col>warnings</th></tr>\n",
       "\t<tr><th scope=col>&lt;fct&gt;</th><th scope=col>&lt;dbl&gt;</th><th scope=col>&lt;dbl&gt;</th><th scope=col>&lt;chr&gt;</th><th scope=col>&lt;fct&gt;</th><th scope=col>&lt;int&gt;</th><th scope=col>&lt;int&gt;</th><th scope=col>&lt;int&gt;</th><th scope=col>&lt;dbl&gt;</th><th scope=col>&lt;dbl&gt;</th><th scope=col>⋯</th><th scope=col>&lt;fct&gt;</th><th scope=col>&lt;fct&gt;</th><th scope=col>&lt;fct&gt;</th><th scope=col>&lt;fct&gt;</th><th scope=col>&lt;fct&gt;</th><th scope=col>&lt;fct&gt;</th><th scope=col>&lt;dbl&gt;</th><th scope=col>&lt;int&gt;</th><th scope=col>&lt;fct&gt;</th><th scope=col>&lt;fct&gt;</th></tr>\n",
       "</thead>\n",
       "<tbody>\n",
       "\t<tr><td>/ebio/abt3_scratch/nyoungblut/LLG_62325884640/genomes/GCA_000398925.1_Buty_pull_1_20_V1_genomic.fna</td><td>98.66</td><td>0.00</td><td>GCA_000398925.1_Buty_pull_1_20_V1_genomic</td><td>o__Clostridiales (UID1212)</td><td>172</td><td>263</td><td>149</td><td>98.66</td><td>0.00</td><td>⋯</td><td>1.0 </td><td>GCF_900167005.1</td><td>95.0</td><td>d__Bacteria;p__Firmicutes_A;c__Clostridia;o__Oscillospirales;f__Butyricicoccaceae;g__Butyricicoccus;s__Butyricicoccus pullicaecorum</td><td>99.99</td><td>1.0 </td><td>97.26</td><td>11</td><td>N/A</td><td>N/A</td></tr>\n",
       "\t<tr><td>/ebio/abt3_scratch/nyoungblut/LLG_62325884640/genomes/GCA_002157465.1_ASM215746v1_genomic.fna      </td><td>98.66</td><td>2.68</td><td>GCA_002157465.1_ASM215746v1_genomic      </td><td>o__Clostridiales (UID1212)</td><td>172</td><td>263</td><td>149</td><td>98.66</td><td>2.68</td><td>⋯</td><td>0.99</td><td>GCF_002157465.1</td><td>95.0</td><td>d__Bacteria;p__Firmicutes_A;c__Clostridia;o__Oscillospirales;f__Butyricicoccaceae;g__Butyricicoccus_A;s__Butyricicoccus_A porcorum </td><td>100.0</td><td>0.99</td><td>96.27</td><td>11</td><td>N/A</td><td>N/A</td></tr>\n",
       "\t<tr><td>⋮</td><td>⋮</td><td>⋮</td><td>⋮</td><td>⋮</td><td>⋮</td><td>⋮</td><td>⋮</td><td>⋮</td><td>⋮</td><td>⋱</td><td>⋮</td><td>⋮</td><td>⋮</td><td>⋮</td><td>⋮</td><td>⋮</td><td>⋮</td><td>⋮</td><td>⋮</td><td>⋮</td></tr>\n",
       "\t<tr><td>/ebio/abt3_scratch/nyoungblut/LLG_62325884640/genomes/GCA_014648015.1_ASM1464801v1_genomic.fna</td><td>99.33</td><td>0.67</td><td>GCA_014648015.1_ASM1464801v1_genomic</td><td>o__Clostridiales (UID1212)</td><td>172</td><td>263</td><td>149</td><td>99.33</td><td>0.67</td><td>⋯</td><td>0.83</td><td>GCF_003096535.1</td><td>95.0</td><td>d__Bacteria;p__Firmicutes_A;c__Clostridia;o__Oscillospirales;f__Butyricicoccaceae;g__Agathobaculum;s__Agathobaculum butyriciproducens</td><td>95.65</td><td>0.83</td><td>97.10</td><td>11</td><td>N/A</td><td>N/A</td></tr>\n",
       "\t<tr><td>/ebio/abt3_scratch/nyoungblut/LLG_62325884640/genomes/GCA_016293105.1_ASM1629310v1_genomic.fna</td><td>92.88</td><td>0.67</td><td>GCA_016293105.1_ASM1629310v1_genomic</td><td>o__Clostridiales (UID1212)</td><td>172</td><td>263</td><td>149</td><td>92.88</td><td>0.67</td><td>⋯</td><td>0.82</td><td>GCA_002395695.1</td><td>95.0</td><td>d__Bacteria;p__Firmicutes_A;c__Clostridia;o__Oscillospirales;f__Butyricicoccaceae;g__Butyricicoccus_A;s__Butyricicoccus_A sp002395695</td><td>98.29</td><td>0.82</td><td>75.63</td><td>11</td><td>N/A</td><td>N/A</td></tr>\n",
       "</tbody>\n",
       "</table>\n"
      ],
      "text/latex": [
       "A data.frame: 26 × 60\n",
       "\\begin{tabular}{lllllllllllllllllllll}\n",
       " genome & completeness & contamination & Bin.Id & Marker.lineage & X..genomes & X..markers & X..marker.sets & Completeness & Contamination & ⋯ & fastani\\_af & closest\\_placement\\_reference & closest\\_placement\\_radius & closest\\_placement\\_taxonomy & closest\\_placement\\_ani & closest\\_placement\\_af & msa\\_percent & translation\\_table & red\\_value & warnings\\\\\n",
       " <fct> & <dbl> & <dbl> & <chr> & <fct> & <int> & <int> & <int> & <dbl> & <dbl> & ⋯ & <fct> & <fct> & <fct> & <fct> & <fct> & <fct> & <dbl> & <int> & <fct> & <fct>\\\\\n",
       "\\hline\n",
       "\t /ebio/abt3\\_scratch/nyoungblut/LLG\\_62325884640/genomes/GCA\\_000398925.1\\_Buty\\_pull\\_1\\_20\\_V1\\_genomic.fna & 98.66 & 0.00 & GCA\\_000398925.1\\_Buty\\_pull\\_1\\_20\\_V1\\_genomic & o\\_\\_Clostridiales (UID1212) & 172 & 263 & 149 & 98.66 & 0.00 & ⋯ & 1.0  & GCF\\_900167005.1 & 95.0 & d\\_\\_Bacteria;p\\_\\_Firmicutes\\_A;c\\_\\_Clostridia;o\\_\\_Oscillospirales;f\\_\\_Butyricicoccaceae;g\\_\\_Butyricicoccus;s\\_\\_Butyricicoccus pullicaecorum & 99.99 & 1.0  & 97.26 & 11 & N/A & N/A\\\\\n",
       "\t /ebio/abt3\\_scratch/nyoungblut/LLG\\_62325884640/genomes/GCA\\_002157465.1\\_ASM215746v1\\_genomic.fna       & 98.66 & 2.68 & GCA\\_002157465.1\\_ASM215746v1\\_genomic       & o\\_\\_Clostridiales (UID1212) & 172 & 263 & 149 & 98.66 & 2.68 & ⋯ & 0.99 & GCF\\_002157465.1 & 95.0 & d\\_\\_Bacteria;p\\_\\_Firmicutes\\_A;c\\_\\_Clostridia;o\\_\\_Oscillospirales;f\\_\\_Butyricicoccaceae;g\\_\\_Butyricicoccus\\_A;s\\_\\_Butyricicoccus\\_A porcorum  & 100.0 & 0.99 & 96.27 & 11 & N/A & N/A\\\\\n",
       "\t ⋮ & ⋮ & ⋮ & ⋮ & ⋮ & ⋮ & ⋮ & ⋮ & ⋮ & ⋮ & ⋱ & ⋮ & ⋮ & ⋮ & ⋮ & ⋮ & ⋮ & ⋮ & ⋮ & ⋮ & ⋮\\\\\n",
       "\t /ebio/abt3\\_scratch/nyoungblut/LLG\\_62325884640/genomes/GCA\\_014648015.1\\_ASM1464801v1\\_genomic.fna & 99.33 & 0.67 & GCA\\_014648015.1\\_ASM1464801v1\\_genomic & o\\_\\_Clostridiales (UID1212) & 172 & 263 & 149 & 99.33 & 0.67 & ⋯ & 0.83 & GCF\\_003096535.1 & 95.0 & d\\_\\_Bacteria;p\\_\\_Firmicutes\\_A;c\\_\\_Clostridia;o\\_\\_Oscillospirales;f\\_\\_Butyricicoccaceae;g\\_\\_Agathobaculum;s\\_\\_Agathobaculum butyriciproducens & 95.65 & 0.83 & 97.10 & 11 & N/A & N/A\\\\\n",
       "\t /ebio/abt3\\_scratch/nyoungblut/LLG\\_62325884640/genomes/GCA\\_016293105.1\\_ASM1629310v1\\_genomic.fna & 92.88 & 0.67 & GCA\\_016293105.1\\_ASM1629310v1\\_genomic & o\\_\\_Clostridiales (UID1212) & 172 & 263 & 149 & 92.88 & 0.67 & ⋯ & 0.82 & GCA\\_002395695.1 & 95.0 & d\\_\\_Bacteria;p\\_\\_Firmicutes\\_A;c\\_\\_Clostridia;o\\_\\_Oscillospirales;f\\_\\_Butyricicoccaceae;g\\_\\_Butyricicoccus\\_A;s\\_\\_Butyricicoccus\\_A sp002395695 & 98.29 & 0.82 & 75.63 & 11 & N/A & N/A\\\\\n",
       "\\end{tabular}\n"
      ],
      "text/markdown": [
       "\n",
       "A data.frame: 26 × 60\n",
       "\n",
       "| genome &lt;fct&gt; | completeness &lt;dbl&gt; | contamination &lt;dbl&gt; | Bin.Id &lt;chr&gt; | Marker.lineage &lt;fct&gt; | X..genomes &lt;int&gt; | X..markers &lt;int&gt; | X..marker.sets &lt;int&gt; | Completeness &lt;dbl&gt; | Contamination &lt;dbl&gt; | ⋯ ⋯ | fastani_af &lt;fct&gt; | closest_placement_reference &lt;fct&gt; | closest_placement_radius &lt;fct&gt; | closest_placement_taxonomy &lt;fct&gt; | closest_placement_ani &lt;fct&gt; | closest_placement_af &lt;fct&gt; | msa_percent &lt;dbl&gt; | translation_table &lt;int&gt; | red_value &lt;fct&gt; | warnings &lt;fct&gt; |\n",
       "|---|---|---|---|---|---|---|---|---|---|---|---|---|---|---|---|---|---|---|---|---|\n",
       "| /ebio/abt3_scratch/nyoungblut/LLG_62325884640/genomes/GCA_000398925.1_Buty_pull_1_20_V1_genomic.fna | 98.66 | 0.00 | GCA_000398925.1_Buty_pull_1_20_V1_genomic | o__Clostridiales (UID1212) | 172 | 263 | 149 | 98.66 | 0.00 | ⋯ | 1.0  | GCF_900167005.1 | 95.0 | d__Bacteria;p__Firmicutes_A;c__Clostridia;o__Oscillospirales;f__Butyricicoccaceae;g__Butyricicoccus;s__Butyricicoccus pullicaecorum | 99.99 | 1.0  | 97.26 | 11 | N/A | N/A |\n",
       "| /ebio/abt3_scratch/nyoungblut/LLG_62325884640/genomes/GCA_002157465.1_ASM215746v1_genomic.fna       | 98.66 | 2.68 | GCA_002157465.1_ASM215746v1_genomic       | o__Clostridiales (UID1212) | 172 | 263 | 149 | 98.66 | 2.68 | ⋯ | 0.99 | GCF_002157465.1 | 95.0 | d__Bacteria;p__Firmicutes_A;c__Clostridia;o__Oscillospirales;f__Butyricicoccaceae;g__Butyricicoccus_A;s__Butyricicoccus_A porcorum  | 100.0 | 0.99 | 96.27 | 11 | N/A | N/A |\n",
       "| ⋮ | ⋮ | ⋮ | ⋮ | ⋮ | ⋮ | ⋮ | ⋮ | ⋮ | ⋮ | ⋱ | ⋮ | ⋮ | ⋮ | ⋮ | ⋮ | ⋮ | ⋮ | ⋮ | ⋮ | ⋮ |\n",
       "| /ebio/abt3_scratch/nyoungblut/LLG_62325884640/genomes/GCA_014648015.1_ASM1464801v1_genomic.fna | 99.33 | 0.67 | GCA_014648015.1_ASM1464801v1_genomic | o__Clostridiales (UID1212) | 172 | 263 | 149 | 99.33 | 0.67 | ⋯ | 0.83 | GCF_003096535.1 | 95.0 | d__Bacteria;p__Firmicutes_A;c__Clostridia;o__Oscillospirales;f__Butyricicoccaceae;g__Agathobaculum;s__Agathobaculum butyriciproducens | 95.65 | 0.83 | 97.10 | 11 | N/A | N/A |\n",
       "| /ebio/abt3_scratch/nyoungblut/LLG_62325884640/genomes/GCA_016293105.1_ASM1629310v1_genomic.fna | 92.88 | 0.67 | GCA_016293105.1_ASM1629310v1_genomic | o__Clostridiales (UID1212) | 172 | 263 | 149 | 92.88 | 0.67 | ⋯ | 0.82 | GCA_002395695.1 | 95.0 | d__Bacteria;p__Firmicutes_A;c__Clostridia;o__Oscillospirales;f__Butyricicoccaceae;g__Butyricicoccus_A;s__Butyricicoccus_A sp002395695 | 98.29 | 0.82 | 75.63 | 11 | N/A | N/A |\n",
       "\n"
      ],
      "text/plain": [
       "   genome                                                                                             \n",
       "1  /ebio/abt3_scratch/nyoungblut/LLG_62325884640/genomes/GCA_000398925.1_Buty_pull_1_20_V1_genomic.fna\n",
       "2  /ebio/abt3_scratch/nyoungblut/LLG_62325884640/genomes/GCA_002157465.1_ASM215746v1_genomic.fna      \n",
       "⋮  ⋮                                                                                                  \n",
       "25 /ebio/abt3_scratch/nyoungblut/LLG_62325884640/genomes/GCA_014648015.1_ASM1464801v1_genomic.fna     \n",
       "26 /ebio/abt3_scratch/nyoungblut/LLG_62325884640/genomes/GCA_016293105.1_ASM1629310v1_genomic.fna     \n",
       "   completeness contamination Bin.Id                                   \n",
       "1  98.66        0.00          GCA_000398925.1_Buty_pull_1_20_V1_genomic\n",
       "2  98.66        2.68          GCA_002157465.1_ASM215746v1_genomic      \n",
       "⋮  ⋮            ⋮             ⋮                                        \n",
       "25 99.33        0.67          GCA_014648015.1_ASM1464801v1_genomic     \n",
       "26 92.88        0.67          GCA_016293105.1_ASM1629310v1_genomic     \n",
       "   Marker.lineage             X..genomes X..markers X..marker.sets Completeness\n",
       "1  o__Clostridiales (UID1212) 172        263        149            98.66       \n",
       "2  o__Clostridiales (UID1212) 172        263        149            98.66       \n",
       "⋮  ⋮                          ⋮          ⋮          ⋮              ⋮           \n",
       "25 o__Clostridiales (UID1212) 172        263        149            99.33       \n",
       "26 o__Clostridiales (UID1212) 172        263        149            92.88       \n",
       "   Contamination ⋯ fastani_af closest_placement_reference\n",
       "1  0.00          ⋯ 1.0        GCF_900167005.1            \n",
       "2  2.68          ⋯ 0.99       GCF_002157465.1            \n",
       "⋮  ⋮             ⋱ ⋮          ⋮                          \n",
       "25 0.67          ⋯ 0.83       GCF_003096535.1            \n",
       "26 0.67          ⋯ 0.82       GCA_002395695.1            \n",
       "   closest_placement_radius\n",
       "1  95.0                    \n",
       "2  95.0                    \n",
       "⋮  ⋮                       \n",
       "25 95.0                    \n",
       "26 95.0                    \n",
       "   closest_placement_taxonomy                                                                                                           \n",
       "1  d__Bacteria;p__Firmicutes_A;c__Clostridia;o__Oscillospirales;f__Butyricicoccaceae;g__Butyricicoccus;s__Butyricicoccus pullicaecorum  \n",
       "2  d__Bacteria;p__Firmicutes_A;c__Clostridia;o__Oscillospirales;f__Butyricicoccaceae;g__Butyricicoccus_A;s__Butyricicoccus_A porcorum   \n",
       "⋮  ⋮                                                                                                                                    \n",
       "25 d__Bacteria;p__Firmicutes_A;c__Clostridia;o__Oscillospirales;f__Butyricicoccaceae;g__Agathobaculum;s__Agathobaculum butyriciproducens\n",
       "26 d__Bacteria;p__Firmicutes_A;c__Clostridia;o__Oscillospirales;f__Butyricicoccaceae;g__Butyricicoccus_A;s__Butyricicoccus_A sp002395695\n",
       "   closest_placement_ani closest_placement_af msa_percent translation_table\n",
       "1  99.99                 1.0                  97.26       11               \n",
       "2  100.0                 0.99                 96.27       11               \n",
       "⋮  ⋮                     ⋮                    ⋮           ⋮                \n",
       "25 95.65                 0.83                 97.10       11               \n",
       "26 98.29                 0.82                 75.63       11               \n",
       "   red_value warnings\n",
       "1  N/A       N/A     \n",
       "2  N/A       N/A     \n",
       "⋮  ⋮         ⋮       \n",
       "25 N/A       N/A     \n",
       "26 N/A       N/A     "
      ]
     },
     "metadata": {},
     "output_type": "display_data"
    }
   ],
   "source": [
    "# joining based on Bin.Id\n",
    "drep = drep %>%\n",
    "    inner_join(checkm, c('Bin.Id')) %>%\n",
    "    mutate(GEN = genome %>% as.character %>% basename) %>%\n",
    "    inner_join(drep_gen %>% mutate(GEN = Fasta %>% as.character %>% basename),\n",
    "               by=c('GEN')) %>%\n",
    "    inner_join(tax, c('Bin.Id'='user_genome')) #%>%\n",
    "drep"
   ]
  },
  {
   "cell_type": "code",
   "execution_count": 13,
   "metadata": {
    "execution": {
     "iopub.execute_input": "2021-01-17T10:04:49.518422Z",
     "iopub.status.busy": "2021-01-17T10:04:49.516550Z",
     "iopub.status.idle": "2021-01-17T10:04:49.570635Z"
    }
   },
   "outputs": [
    {
     "data": {
      "text/html": [
       "<table>\n",
       "<caption>A data.frame: 21 × 60</caption>\n",
       "<thead>\n",
       "\t<tr><th scope=col>genome</th><th scope=col>completeness</th><th scope=col>contamination</th><th scope=col>Bin.Id</th><th scope=col>Marker.lineage</th><th scope=col>X..genomes</th><th scope=col>X..markers</th><th scope=col>X..marker.sets</th><th scope=col>Completeness</th><th scope=col>Contamination</th><th scope=col>⋯</th><th scope=col>fastani_af</th><th scope=col>closest_placement_reference</th><th scope=col>closest_placement_radius</th><th scope=col>closest_placement_taxonomy</th><th scope=col>closest_placement_ani</th><th scope=col>closest_placement_af</th><th scope=col>msa_percent</th><th scope=col>translation_table</th><th scope=col>red_value</th><th scope=col>warnings</th></tr>\n",
       "\t<tr><th scope=col>&lt;fct&gt;</th><th scope=col>&lt;dbl&gt;</th><th scope=col>&lt;dbl&gt;</th><th scope=col>&lt;chr&gt;</th><th scope=col>&lt;fct&gt;</th><th scope=col>&lt;int&gt;</th><th scope=col>&lt;int&gt;</th><th scope=col>&lt;int&gt;</th><th scope=col>&lt;dbl&gt;</th><th scope=col>&lt;dbl&gt;</th><th scope=col>⋯</th><th scope=col>&lt;fct&gt;</th><th scope=col>&lt;fct&gt;</th><th scope=col>&lt;fct&gt;</th><th scope=col>&lt;fct&gt;</th><th scope=col>&lt;fct&gt;</th><th scope=col>&lt;fct&gt;</th><th scope=col>&lt;dbl&gt;</th><th scope=col>&lt;int&gt;</th><th scope=col>&lt;fct&gt;</th><th scope=col>&lt;fct&gt;</th></tr>\n",
       "</thead>\n",
       "<tbody>\n",
       "\t<tr><td>/ebio/abt3_scratch/nyoungblut/LLG_62325884640/genomes/GCA_000398925.1_Buty_pull_1_20_V1_genomic.fna</td><td>98.66</td><td>0</td><td>GCA_000398925.1_Buty_pull_1_20_V1_genomic</td><td>o__Clostridiales (UID1212)</td><td>172</td><td>263</td><td>149</td><td>98.66</td><td>0</td><td>⋯</td><td>1.0</td><td>GCF_900167005.1</td><td>95.0</td><td>d__Bacteria;p__Firmicutes_A;c__Clostridia;o__Oscillospirales;f__Butyricicoccaceae;g__Butyricicoccus;s__Butyricicoccus pullicaecorum</td><td>99.99</td><td>1.0</td><td>97.26</td><td>11</td><td>N/A</td><td>N/A</td></tr>\n",
       "\t<tr><td>/ebio/abt3_scratch/nyoungblut/LLG_62325884640/genomes/GCA_002160385.1_ASM216038v1_genomic.fna      </td><td>98.66</td><td>0</td><td>GCA_002160385.1_ASM216038v1_genomic      </td><td>o__Clostridiales (UID1212)</td><td>172</td><td>263</td><td>149</td><td>98.66</td><td>0</td><td>⋯</td><td>0.8</td><td>GCF_900167005.1</td><td>95.0</td><td>d__Bacteria;p__Firmicutes_A;c__Clostridia;o__Oscillospirales;f__Butyricicoccaceae;g__Butyricicoccus;s__Butyricicoccus pullicaecorum</td><td>96.44</td><td>0.8</td><td>97.26</td><td>11</td><td>N/A</td><td>N/A</td></tr>\n",
       "\t<tr><td>⋮</td><td>⋮</td><td>⋮</td><td>⋮</td><td>⋮</td><td>⋮</td><td>⋮</td><td>⋮</td><td>⋮</td><td>⋮</td><td>⋱</td><td>⋮</td><td>⋮</td><td>⋮</td><td>⋮</td><td>⋮</td><td>⋮</td><td>⋮</td><td>⋮</td><td>⋮</td><td>⋮</td></tr>\n",
       "\t<tr><td>/ebio/abt3_scratch/nyoungblut/LLG_62325884640/genomes/GCA_014648015.1_ASM1464801v1_genomic.fna</td><td>99.33</td><td>0.67</td><td>GCA_014648015.1_ASM1464801v1_genomic</td><td>o__Clostridiales (UID1212)</td><td>172</td><td>263</td><td>149</td><td>99.33</td><td>0.67</td><td>⋯</td><td>0.83</td><td>GCF_003096535.1</td><td>95.0</td><td>d__Bacteria;p__Firmicutes_A;c__Clostridia;o__Oscillospirales;f__Butyricicoccaceae;g__Agathobaculum;s__Agathobaculum butyriciproducens</td><td>95.65</td><td>0.83</td><td>97.10</td><td>11</td><td>N/A</td><td>N/A</td></tr>\n",
       "\t<tr><td>/ebio/abt3_scratch/nyoungblut/LLG_62325884640/genomes/GCA_016293105.1_ASM1629310v1_genomic.fna</td><td>92.88</td><td>0.67</td><td>GCA_016293105.1_ASM1629310v1_genomic</td><td>o__Clostridiales (UID1212)</td><td>172</td><td>263</td><td>149</td><td>92.88</td><td>0.67</td><td>⋯</td><td>0.82</td><td>GCA_002395695.1</td><td>95.0</td><td>d__Bacteria;p__Firmicutes_A;c__Clostridia;o__Oscillospirales;f__Butyricicoccaceae;g__Butyricicoccus_A;s__Butyricicoccus_A sp002395695</td><td>98.29</td><td>0.82</td><td>75.63</td><td>11</td><td>N/A</td><td>N/A</td></tr>\n",
       "</tbody>\n",
       "</table>\n"
      ],
      "text/latex": [
       "A data.frame: 21 × 60\n",
       "\\begin{tabular}{lllllllllllllllllllll}\n",
       " genome & completeness & contamination & Bin.Id & Marker.lineage & X..genomes & X..markers & X..marker.sets & Completeness & Contamination & ⋯ & fastani\\_af & closest\\_placement\\_reference & closest\\_placement\\_radius & closest\\_placement\\_taxonomy & closest\\_placement\\_ani & closest\\_placement\\_af & msa\\_percent & translation\\_table & red\\_value & warnings\\\\\n",
       " <fct> & <dbl> & <dbl> & <chr> & <fct> & <int> & <int> & <int> & <dbl> & <dbl> & ⋯ & <fct> & <fct> & <fct> & <fct> & <fct> & <fct> & <dbl> & <int> & <fct> & <fct>\\\\\n",
       "\\hline\n",
       "\t /ebio/abt3\\_scratch/nyoungblut/LLG\\_62325884640/genomes/GCA\\_000398925.1\\_Buty\\_pull\\_1\\_20\\_V1\\_genomic.fna & 98.66 & 0 & GCA\\_000398925.1\\_Buty\\_pull\\_1\\_20\\_V1\\_genomic & o\\_\\_Clostridiales (UID1212) & 172 & 263 & 149 & 98.66 & 0 & ⋯ & 1.0 & GCF\\_900167005.1 & 95.0 & d\\_\\_Bacteria;p\\_\\_Firmicutes\\_A;c\\_\\_Clostridia;o\\_\\_Oscillospirales;f\\_\\_Butyricicoccaceae;g\\_\\_Butyricicoccus;s\\_\\_Butyricicoccus pullicaecorum & 99.99 & 1.0 & 97.26 & 11 & N/A & N/A\\\\\n",
       "\t /ebio/abt3\\_scratch/nyoungblut/LLG\\_62325884640/genomes/GCA\\_002160385.1\\_ASM216038v1\\_genomic.fna       & 98.66 & 0 & GCA\\_002160385.1\\_ASM216038v1\\_genomic       & o\\_\\_Clostridiales (UID1212) & 172 & 263 & 149 & 98.66 & 0 & ⋯ & 0.8 & GCF\\_900167005.1 & 95.0 & d\\_\\_Bacteria;p\\_\\_Firmicutes\\_A;c\\_\\_Clostridia;o\\_\\_Oscillospirales;f\\_\\_Butyricicoccaceae;g\\_\\_Butyricicoccus;s\\_\\_Butyricicoccus pullicaecorum & 96.44 & 0.8 & 97.26 & 11 & N/A & N/A\\\\\n",
       "\t ⋮ & ⋮ & ⋮ & ⋮ & ⋮ & ⋮ & ⋮ & ⋮ & ⋮ & ⋮ & ⋱ & ⋮ & ⋮ & ⋮ & ⋮ & ⋮ & ⋮ & ⋮ & ⋮ & ⋮ & ⋮\\\\\n",
       "\t /ebio/abt3\\_scratch/nyoungblut/LLG\\_62325884640/genomes/GCA\\_014648015.1\\_ASM1464801v1\\_genomic.fna & 99.33 & 0.67 & GCA\\_014648015.1\\_ASM1464801v1\\_genomic & o\\_\\_Clostridiales (UID1212) & 172 & 263 & 149 & 99.33 & 0.67 & ⋯ & 0.83 & GCF\\_003096535.1 & 95.0 & d\\_\\_Bacteria;p\\_\\_Firmicutes\\_A;c\\_\\_Clostridia;o\\_\\_Oscillospirales;f\\_\\_Butyricicoccaceae;g\\_\\_Agathobaculum;s\\_\\_Agathobaculum butyriciproducens & 95.65 & 0.83 & 97.10 & 11 & N/A & N/A\\\\\n",
       "\t /ebio/abt3\\_scratch/nyoungblut/LLG\\_62325884640/genomes/GCA\\_016293105.1\\_ASM1629310v1\\_genomic.fna & 92.88 & 0.67 & GCA\\_016293105.1\\_ASM1629310v1\\_genomic & o\\_\\_Clostridiales (UID1212) & 172 & 263 & 149 & 92.88 & 0.67 & ⋯ & 0.82 & GCA\\_002395695.1 & 95.0 & d\\_\\_Bacteria;p\\_\\_Firmicutes\\_A;c\\_\\_Clostridia;o\\_\\_Oscillospirales;f\\_\\_Butyricicoccaceae;g\\_\\_Butyricicoccus\\_A;s\\_\\_Butyricicoccus\\_A sp002395695 & 98.29 & 0.82 & 75.63 & 11 & N/A & N/A\\\\\n",
       "\\end{tabular}\n"
      ],
      "text/markdown": [
       "\n",
       "A data.frame: 21 × 60\n",
       "\n",
       "| genome &lt;fct&gt; | completeness &lt;dbl&gt; | contamination &lt;dbl&gt; | Bin.Id &lt;chr&gt; | Marker.lineage &lt;fct&gt; | X..genomes &lt;int&gt; | X..markers &lt;int&gt; | X..marker.sets &lt;int&gt; | Completeness &lt;dbl&gt; | Contamination &lt;dbl&gt; | ⋯ ⋯ | fastani_af &lt;fct&gt; | closest_placement_reference &lt;fct&gt; | closest_placement_radius &lt;fct&gt; | closest_placement_taxonomy &lt;fct&gt; | closest_placement_ani &lt;fct&gt; | closest_placement_af &lt;fct&gt; | msa_percent &lt;dbl&gt; | translation_table &lt;int&gt; | red_value &lt;fct&gt; | warnings &lt;fct&gt; |\n",
       "|---|---|---|---|---|---|---|---|---|---|---|---|---|---|---|---|---|---|---|---|---|\n",
       "| /ebio/abt3_scratch/nyoungblut/LLG_62325884640/genomes/GCA_000398925.1_Buty_pull_1_20_V1_genomic.fna | 98.66 | 0 | GCA_000398925.1_Buty_pull_1_20_V1_genomic | o__Clostridiales (UID1212) | 172 | 263 | 149 | 98.66 | 0 | ⋯ | 1.0 | GCF_900167005.1 | 95.0 | d__Bacteria;p__Firmicutes_A;c__Clostridia;o__Oscillospirales;f__Butyricicoccaceae;g__Butyricicoccus;s__Butyricicoccus pullicaecorum | 99.99 | 1.0 | 97.26 | 11 | N/A | N/A |\n",
       "| /ebio/abt3_scratch/nyoungblut/LLG_62325884640/genomes/GCA_002160385.1_ASM216038v1_genomic.fna       | 98.66 | 0 | GCA_002160385.1_ASM216038v1_genomic       | o__Clostridiales (UID1212) | 172 | 263 | 149 | 98.66 | 0 | ⋯ | 0.8 | GCF_900167005.1 | 95.0 | d__Bacteria;p__Firmicutes_A;c__Clostridia;o__Oscillospirales;f__Butyricicoccaceae;g__Butyricicoccus;s__Butyricicoccus pullicaecorum | 96.44 | 0.8 | 97.26 | 11 | N/A | N/A |\n",
       "| ⋮ | ⋮ | ⋮ | ⋮ | ⋮ | ⋮ | ⋮ | ⋮ | ⋮ | ⋮ | ⋱ | ⋮ | ⋮ | ⋮ | ⋮ | ⋮ | ⋮ | ⋮ | ⋮ | ⋮ | ⋮ |\n",
       "| /ebio/abt3_scratch/nyoungblut/LLG_62325884640/genomes/GCA_014648015.1_ASM1464801v1_genomic.fna | 99.33 | 0.67 | GCA_014648015.1_ASM1464801v1_genomic | o__Clostridiales (UID1212) | 172 | 263 | 149 | 99.33 | 0.67 | ⋯ | 0.83 | GCF_003096535.1 | 95.0 | d__Bacteria;p__Firmicutes_A;c__Clostridia;o__Oscillospirales;f__Butyricicoccaceae;g__Agathobaculum;s__Agathobaculum butyriciproducens | 95.65 | 0.83 | 97.10 | 11 | N/A | N/A |\n",
       "| /ebio/abt3_scratch/nyoungblut/LLG_62325884640/genomes/GCA_016293105.1_ASM1629310v1_genomic.fna | 92.88 | 0.67 | GCA_016293105.1_ASM1629310v1_genomic | o__Clostridiales (UID1212) | 172 | 263 | 149 | 92.88 | 0.67 | ⋯ | 0.82 | GCA_002395695.1 | 95.0 | d__Bacteria;p__Firmicutes_A;c__Clostridia;o__Oscillospirales;f__Butyricicoccaceae;g__Butyricicoccus_A;s__Butyricicoccus_A sp002395695 | 98.29 | 0.82 | 75.63 | 11 | N/A | N/A |\n",
       "\n"
      ],
      "text/plain": [
       "   genome                                                                                             \n",
       "1  /ebio/abt3_scratch/nyoungblut/LLG_62325884640/genomes/GCA_000398925.1_Buty_pull_1_20_V1_genomic.fna\n",
       "2  /ebio/abt3_scratch/nyoungblut/LLG_62325884640/genomes/GCA_002160385.1_ASM216038v1_genomic.fna      \n",
       "⋮  ⋮                                                                                                  \n",
       "20 /ebio/abt3_scratch/nyoungblut/LLG_62325884640/genomes/GCA_014648015.1_ASM1464801v1_genomic.fna     \n",
       "21 /ebio/abt3_scratch/nyoungblut/LLG_62325884640/genomes/GCA_016293105.1_ASM1629310v1_genomic.fna     \n",
       "   completeness contamination Bin.Id                                   \n",
       "1  98.66        0             GCA_000398925.1_Buty_pull_1_20_V1_genomic\n",
       "2  98.66        0             GCA_002160385.1_ASM216038v1_genomic      \n",
       "⋮  ⋮            ⋮             ⋮                                        \n",
       "20 99.33        0.67          GCA_014648015.1_ASM1464801v1_genomic     \n",
       "21 92.88        0.67          GCA_016293105.1_ASM1629310v1_genomic     \n",
       "   Marker.lineage             X..genomes X..markers X..marker.sets Completeness\n",
       "1  o__Clostridiales (UID1212) 172        263        149            98.66       \n",
       "2  o__Clostridiales (UID1212) 172        263        149            98.66       \n",
       "⋮  ⋮                          ⋮          ⋮          ⋮              ⋮           \n",
       "20 o__Clostridiales (UID1212) 172        263        149            99.33       \n",
       "21 o__Clostridiales (UID1212) 172        263        149            92.88       \n",
       "   Contamination ⋯ fastani_af closest_placement_reference\n",
       "1  0             ⋯ 1.0        GCF_900167005.1            \n",
       "2  0             ⋯ 0.8        GCF_900167005.1            \n",
       "⋮  ⋮             ⋱ ⋮          ⋮                          \n",
       "20 0.67          ⋯ 0.83       GCF_003096535.1            \n",
       "21 0.67          ⋯ 0.82       GCA_002395695.1            \n",
       "   closest_placement_radius\n",
       "1  95.0                    \n",
       "2  95.0                    \n",
       "⋮  ⋮                       \n",
       "20 95.0                    \n",
       "21 95.0                    \n",
       "   closest_placement_taxonomy                                                                                                           \n",
       "1  d__Bacteria;p__Firmicutes_A;c__Clostridia;o__Oscillospirales;f__Butyricicoccaceae;g__Butyricicoccus;s__Butyricicoccus pullicaecorum  \n",
       "2  d__Bacteria;p__Firmicutes_A;c__Clostridia;o__Oscillospirales;f__Butyricicoccaceae;g__Butyricicoccus;s__Butyricicoccus pullicaecorum  \n",
       "⋮  ⋮                                                                                                                                    \n",
       "20 d__Bacteria;p__Firmicutes_A;c__Clostridia;o__Oscillospirales;f__Butyricicoccaceae;g__Agathobaculum;s__Agathobaculum butyriciproducens\n",
       "21 d__Bacteria;p__Firmicutes_A;c__Clostridia;o__Oscillospirales;f__Butyricicoccaceae;g__Butyricicoccus_A;s__Butyricicoccus_A sp002395695\n",
       "   closest_placement_ani closest_placement_af msa_percent translation_table\n",
       "1  99.99                 1.0                  97.26       11               \n",
       "2  96.44                 0.8                  97.26       11               \n",
       "⋮  ⋮                     ⋮                    ⋮           ⋮                \n",
       "20 95.65                 0.83                 97.10       11               \n",
       "21 98.29                 0.82                 75.63       11               \n",
       "   red_value warnings\n",
       "1  N/A       N/A     \n",
       "2  N/A       N/A     \n",
       "⋮  ⋮         ⋮       \n",
       "20 N/A       N/A     \n",
       "21 N/A       N/A     "
      ]
     },
     "metadata": {},
     "output_type": "display_data"
    }
   ],
   "source": [
    "# filtering by quality\n",
    "hq_genomes = drep %>%\n",
    "    filter(completeness >= 90,\n",
    "           contamination < 5,\n",
    "           Strain.heterogeneity < 50,\n",
    "           X..contigs < 300,\n",
    "           Mean.contig.length..bp. > 10000)\n",
    "hq_genomes"
   ]
  },
  {
   "cell_type": "code",
   "execution_count": 14,
   "metadata": {
    "execution": {
     "iopub.execute_input": "2021-01-17T10:04:54.748333Z",
     "iopub.status.busy": "2021-01-17T10:04:54.746289Z",
     "iopub.status.idle": "2021-01-17T10:04:54.812024Z"
    }
   },
   "outputs": [
    {
     "data": {
      "text/html": [
       "<table>\n",
       "<caption>A matrix: 1 × 8 of type dbl</caption>\n",
       "<thead>\n",
       "\t<tr><th></th><th scope=col>Min.</th><th scope=col>1st Qu.</th><th scope=col>Median</th><th scope=col>Mean</th><th scope=col>3rd Qu.</th><th scope=col>Max.</th><th scope=col>sd</th><th scope=col>sd_err_of_mean</th></tr>\n",
       "</thead>\n",
       "<tbody>\n",
       "\t<tr><th scope=row>completeness</th><td>92.88</td><td>98.66</td><td>99.33</td><td>98.67429</td><td>99.33</td><td>99.92</td><td>2.616</td><td>1.068</td></tr>\n",
       "</tbody>\n",
       "</table>\n"
      ],
      "text/latex": [
       "A matrix: 1 × 8 of type dbl\n",
       "\\begin{tabular}{r|llllllll}\n",
       "  & Min. & 1st Qu. & Median & Mean & 3rd Qu. & Max. & sd & sd\\_err\\_of\\_mean\\\\\n",
       "\\hline\n",
       "\tcompleteness & 92.88 & 98.66 & 99.33 & 98.67429 & 99.33 & 99.92 & 2.616 & 1.068\\\\\n",
       "\\end{tabular}\n"
      ],
      "text/markdown": [
       "\n",
       "A matrix: 1 × 8 of type dbl\n",
       "\n",
       "| <!--/--> | Min. | 1st Qu. | Median | Mean | 3rd Qu. | Max. | sd | sd_err_of_mean |\n",
       "|---|---|---|---|---|---|---|---|---|\n",
       "| completeness | 92.88 | 98.66 | 99.33 | 98.67429 | 99.33 | 99.92 | 2.616 | 1.068 |\n",
       "\n"
      ],
      "text/plain": [
       "             Min.  1st Qu. Median Mean     3rd Qu. Max.  sd    sd_err_of_mean\n",
       "completeness 92.88 98.66   99.33  98.67429 99.33   99.92 2.616 1.068         "
      ]
     },
     "metadata": {},
     "output_type": "display_data"
    },
    {
     "data": {
      "text/html": [
       "<table>\n",
       "<caption>A matrix: 1 × 8 of type dbl</caption>\n",
       "<thead>\n",
       "\t<tr><th></th><th scope=col>Min.</th><th scope=col>1st Qu.</th><th scope=col>Median</th><th scope=col>Mean</th><th scope=col>3rd Qu.</th><th scope=col>Max.</th><th scope=col>sd</th><th scope=col>sd_err_of_mean</th></tr>\n",
       "</thead>\n",
       "<tbody>\n",
       "\t<tr><th scope=row>contamination</th><td>0</td><td>0.67</td><td>0.67</td><td>0.6128571</td><td>0.67</td><td>1.34</td><td>0.424</td><td>0.173</td></tr>\n",
       "</tbody>\n",
       "</table>\n"
      ],
      "text/latex": [
       "A matrix: 1 × 8 of type dbl\n",
       "\\begin{tabular}{r|llllllll}\n",
       "  & Min. & 1st Qu. & Median & Mean & 3rd Qu. & Max. & sd & sd\\_err\\_of\\_mean\\\\\n",
       "\\hline\n",
       "\tcontamination & 0 & 0.67 & 0.67 & 0.6128571 & 0.67 & 1.34 & 0.424 & 0.173\\\\\n",
       "\\end{tabular}\n"
      ],
      "text/markdown": [
       "\n",
       "A matrix: 1 × 8 of type dbl\n",
       "\n",
       "| <!--/--> | Min. | 1st Qu. | Median | Mean | 3rd Qu. | Max. | sd | sd_err_of_mean |\n",
       "|---|---|---|---|---|---|---|---|---|\n",
       "| contamination | 0 | 0.67 | 0.67 | 0.6128571 | 0.67 | 1.34 | 0.424 | 0.173 |\n",
       "\n"
      ],
      "text/plain": [
       "              Min. 1st Qu. Median Mean      3rd Qu. Max. sd    sd_err_of_mean\n",
       "contamination 0    0.67    0.67   0.6128571 0.67    1.34 0.424 0.173         "
      ]
     },
     "metadata": {},
     "output_type": "display_data"
    },
    {
     "data": {
      "text/html": [
       "<table>\n",
       "<caption>A matrix: 1 × 8 of type dbl</caption>\n",
       "<thead>\n",
       "\t<tr><th></th><th scope=col>Min.</th><th scope=col>1st Qu.</th><th scope=col>Median</th><th scope=col>Mean</th><th scope=col>3rd Qu.</th><th scope=col>Max.</th><th scope=col>sd</th><th scope=col>sd_err_of_mean</th></tr>\n",
       "</thead>\n",
       "<tbody>\n",
       "\t<tr><th scope=row>No. of contigs</th><td>4</td><td>55</td><td>71</td><td>70.28571</td><td>82</td><td>143</td><td>44.834</td><td>18.303</td></tr>\n",
       "</tbody>\n",
       "</table>\n"
      ],
      "text/latex": [
       "A matrix: 1 × 8 of type dbl\n",
       "\\begin{tabular}{r|llllllll}\n",
       "  & Min. & 1st Qu. & Median & Mean & 3rd Qu. & Max. & sd & sd\\_err\\_of\\_mean\\\\\n",
       "\\hline\n",
       "\tNo. of contigs & 4 & 55 & 71 & 70.28571 & 82 & 143 & 44.834 & 18.303\\\\\n",
       "\\end{tabular}\n"
      ],
      "text/markdown": [
       "\n",
       "A matrix: 1 × 8 of type dbl\n",
       "\n",
       "| <!--/--> | Min. | 1st Qu. | Median | Mean | 3rd Qu. | Max. | sd | sd_err_of_mean |\n",
       "|---|---|---|---|---|---|---|---|---|\n",
       "| No. of contigs | 4 | 55 | 71 | 70.28571 | 82 | 143 | 44.834 | 18.303 |\n",
       "\n"
      ],
      "text/plain": [
       "               Min. 1st Qu. Median Mean     3rd Qu. Max. sd     sd_err_of_mean\n",
       "No. of contigs 4    55      71     70.28571 82      143  44.834 18.303        "
      ]
     },
     "metadata": {},
     "output_type": "display_data"
    },
    {
     "data": {
      "text/html": [
       "<table>\n",
       "<caption>A matrix: 1 × 8 of type dbl</caption>\n",
       "<thead>\n",
       "\t<tr><th></th><th scope=col>Min.</th><th scope=col>1st Qu.</th><th scope=col>Median</th><th scope=col>Mean</th><th scope=col>3rd Qu.</th><th scope=col>Max.</th><th scope=col>sd</th><th scope=col>sd_err_of_mean</th></tr>\n",
       "</thead>\n",
       "<tbody>\n",
       "\t<tr><th scope=row>N50</th><td>31284</td><td>93692</td><td>110619</td><td>280090.9</td><td>218166</td><td>2682118</td><td>1038941</td><td>424145.8</td></tr>\n",
       "</tbody>\n",
       "</table>\n"
      ],
      "text/latex": [
       "A matrix: 1 × 8 of type dbl\n",
       "\\begin{tabular}{r|llllllll}\n",
       "  & Min. & 1st Qu. & Median & Mean & 3rd Qu. & Max. & sd & sd\\_err\\_of\\_mean\\\\\n",
       "\\hline\n",
       "\tN50 & 31284 & 93692 & 110619 & 280090.9 & 218166 & 2682118 & 1038941 & 424145.8\\\\\n",
       "\\end{tabular}\n"
      ],
      "text/markdown": [
       "\n",
       "A matrix: 1 × 8 of type dbl\n",
       "\n",
       "| <!--/--> | Min. | 1st Qu. | Median | Mean | 3rd Qu. | Max. | sd | sd_err_of_mean |\n",
       "|---|---|---|---|---|---|---|---|---|\n",
       "| N50 | 31284 | 93692 | 110619 | 280090.9 | 218166 | 2682118 | 1038941 | 424145.8 |\n",
       "\n"
      ],
      "text/plain": [
       "    Min.  1st Qu. Median Mean     3rd Qu. Max.    sd      sd_err_of_mean\n",
       "N50 31284 93692   110619 280090.9 218166  2682118 1038941 424145.8      "
      ]
     },
     "metadata": {},
     "output_type": "display_data"
    },
    {
     "data": {
      "text/html": [
       "<table>\n",
       "<caption>A matrix: 1 × 8 of type dbl</caption>\n",
       "<thead>\n",
       "\t<tr><th></th><th scope=col>Min.</th><th scope=col>1st Qu.</th><th scope=col>Median</th><th scope=col>Mean</th><th scope=col>3rd Qu.</th><th scope=col>Max.</th><th scope=col>sd</th><th scope=col>sd_err_of_mean</th></tr>\n",
       "</thead>\n",
       "<tbody>\n",
       "\t<tr><th scope=row>Mean contig length</th><td>18642</td><td>36058</td><td>44722</td><td>84265.19</td><td>53821</td><td>737295</td><td>282444.8</td><td>115307.6</td></tr>\n",
       "</tbody>\n",
       "</table>\n"
      ],
      "text/latex": [
       "A matrix: 1 × 8 of type dbl\n",
       "\\begin{tabular}{r|llllllll}\n",
       "  & Min. & 1st Qu. & Median & Mean & 3rd Qu. & Max. & sd & sd\\_err\\_of\\_mean\\\\\n",
       "\\hline\n",
       "\tMean contig length & 18642 & 36058 & 44722 & 84265.19 & 53821 & 737295 & 282444.8 & 115307.6\\\\\n",
       "\\end{tabular}\n"
      ],
      "text/markdown": [
       "\n",
       "A matrix: 1 × 8 of type dbl\n",
       "\n",
       "| <!--/--> | Min. | 1st Qu. | Median | Mean | 3rd Qu. | Max. | sd | sd_err_of_mean |\n",
       "|---|---|---|---|---|---|---|---|---|\n",
       "| Mean contig length | 18642 | 36058 | 44722 | 84265.19 | 53821 | 737295 | 282444.8 | 115307.6 |\n",
       "\n"
      ],
      "text/plain": [
       "                   Min.  1st Qu. Median Mean     3rd Qu. Max.   sd      \n",
       "Mean contig length 18642 36058   44722  84265.19 53821   737295 282444.8\n",
       "                   sd_err_of_mean\n",
       "Mean contig length 115307.6      "
      ]
     },
     "metadata": {},
     "output_type": "display_data"
    }
   ],
   "source": [
    "# summarizing the genome stats\n",
    "hq_genomes %>% summary_x('completeness', completeness)\n",
    "hq_genomes %>% summary_x('contamination', contamination)\n",
    "hq_genomes %>% summary_x('No. of contigs', X..contigs)\n",
    "hq_genomes %>% summary_x('N50', N50..contigs.)\n",
    "hq_genomes %>% summary_x('Mean contig length', Mean.contig.length..bp.)"
   ]
  },
  {
   "cell_type": "code",
   "execution_count": 15,
   "metadata": {
    "execution": {
     "iopub.execute_input": "2021-01-17T10:05:08.744956Z",
     "iopub.status.busy": "2021-01-17T10:05:08.742737Z",
     "iopub.status.idle": "2021-01-17T10:05:08.783528Z"
    }
   },
   "outputs": [
    {
     "data": {
      "text/html": [
       "<table>\n",
       "<caption>A tibble: 3 × 3</caption>\n",
       "<thead>\n",
       "\t<tr><th scope=col>Family</th><th scope=col>Genus</th><th scope=col>n_genomes</th></tr>\n",
       "\t<tr><th scope=col>&lt;chr&gt;</th><th scope=col>&lt;chr&gt;</th><th scope=col>&lt;int&gt;</th></tr>\n",
       "</thead>\n",
       "<tbody>\n",
       "\t<tr><td>f__Butyricicoccaceae</td><td>g__Agathobaculum   </td><td>17</td></tr>\n",
       "\t<tr><td>f__Butyricicoccaceae</td><td>g__Butyricicoccus  </td><td> 3</td></tr>\n",
       "\t<tr><td>f__Butyricicoccaceae</td><td>g__Butyricicoccus_A</td><td> 1</td></tr>\n",
       "</tbody>\n",
       "</table>\n"
      ],
      "text/latex": [
       "A tibble: 3 × 3\n",
       "\\begin{tabular}{lll}\n",
       " Family & Genus & n\\_genomes\\\\\n",
       " <chr> & <chr> & <int>\\\\\n",
       "\\hline\n",
       "\t f\\_\\_Butyricicoccaceae & g\\_\\_Agathobaculum    & 17\\\\\n",
       "\t f\\_\\_Butyricicoccaceae & g\\_\\_Butyricicoccus   &  3\\\\\n",
       "\t f\\_\\_Butyricicoccaceae & g\\_\\_Butyricicoccus\\_A &  1\\\\\n",
       "\\end{tabular}\n"
      ],
      "text/markdown": [
       "\n",
       "A tibble: 3 × 3\n",
       "\n",
       "| Family &lt;chr&gt; | Genus &lt;chr&gt; | n_genomes &lt;int&gt; |\n",
       "|---|---|---|\n",
       "| f__Butyricicoccaceae | g__Agathobaculum    | 17 |\n",
       "| f__Butyricicoccaceae | g__Butyricicoccus   |  3 |\n",
       "| f__Butyricicoccaceae | g__Butyricicoccus_A |  1 |\n",
       "\n"
      ],
      "text/plain": [
       "  Family               Genus               n_genomes\n",
       "1 f__Butyricicoccaceae g__Agathobaculum    17       \n",
       "2 f__Butyricicoccaceae g__Butyricicoccus    3       \n",
       "3 f__Butyricicoccaceae g__Butyricicoccus_A  1       "
      ]
     },
     "metadata": {},
     "output_type": "display_data"
    }
   ],
   "source": [
    "# summarizing the taxonomy\n",
    "df.dims(20)\n",
    "hq_genomes %>%\n",
    "    group_by(Family, Genus) %>%\n",
    "    summarize(n_genomes = n(), .groups='drop')\n",
    "df.dims()"
   ]
  },
  {
   "cell_type": "code",
   "execution_count": null,
   "metadata": {},
   "outputs": [],
   "source": [
    "# filtering by taxonomy\n",
    "#hq_genomes = hq_genomes %>%\n",
    "#    filter(Genus == 'g__Anaerotruncus')\n",
    "#hq_genomes"
   ]
  },
  {
   "cell_type": "code",
   "execution_count": 16,
   "metadata": {
    "execution": {
     "iopub.execute_input": "2021-01-17T10:05:32.133712Z",
     "iopub.status.busy": "2021-01-17T10:05:32.131675Z",
     "iopub.status.idle": "2021-01-17T10:05:32.162515Z"
    }
   },
   "outputs": [
    {
     "name": "stdout",
     "output_type": "stream",
     "text": [
      "File written: /ebio/abt3_projects/software/dev/ll_pipelines/llprimer/experiments/HMP_most-wanted//Butyricicoccus/samples_genomes_hq.txt \n"
     ]
    }
   ],
   "source": [
    "# writing samples table for LLPRIMER\n",
    "outfile = file.path(work_dir, 'samples_genomes_hq.txt')\n",
    "hq_genomes %>%\n",
    "    select(Bin.Id, Fasta) %>%\n",
    "    rename('Taxon' = Bin.Id) %>%\n",
    "    mutate(Taxon = gsub('_chromosome.+', '', Taxon),\n",
    "           Taxon = gsub('_bin_.+', '', Taxon),\n",
    "           Taxon = gsub('_genomic', '', Taxon),\n",
    "           Taxon = gsub('_annotated_assembly', '', Taxon),\n",
    "           Taxid = taxid) %>%\n",
    "    write_table(outfile)"
   ]
  },
  {
   "cell_type": "markdown",
   "metadata": {},
   "source": [
    "# Primer design"
   ]
  },
  {
   "cell_type": "markdown",
   "metadata": {},
   "source": [
    "# --TODO--"
   ]
  },
  {
   "cell_type": "markdown",
   "metadata": {},
   "source": [
    "### Config"
   ]
  },
  {
   "cell_type": "code",
   "execution_count": null,
   "metadata": {},
   "outputs": [],
   "source": [
    "F = file.path(work_dir, 'primers', 'config.yaml')\n",
    "cat_file(F)"
   ]
  },
  {
   "cell_type": "markdown",
   "metadata": {},
   "source": [
    "### Run"
   ]
  },
  {
   "cell_type": "markdown",
   "metadata": {},
   "source": [
    "```\n",
    "(snakemake) @ rick:/ebio/abt3_projects/software/dev/ll_pipelines/llprimer\n",
    "$ screen -L -S llprimer-aner ./snakemake_sge.sh experiments/HMP_most-wanted/Anaerotruncus/primers/config.yaml 50 --notemp -F\n",
    "```"
   ]
  },
  {
   "cell_type": "markdown",
   "metadata": {},
   "source": [
    "### Summary"
   ]
  },
  {
   "cell_type": "code",
   "execution_count": null,
   "metadata": {},
   "outputs": [],
   "source": [
    "primer_info = read.delim(file.path(work_dir, 'primers', 'cgp', 'primers_final_info.tsv'), sep='\\t')\n",
    "primer_info %>% unique_n('primer sets', primer_set)\n",
    "primer_info"
   ]
  },
  {
   "cell_type": "markdown",
   "metadata": {},
   "source": [
    "### Gene cluster annotations"
   ]
  },
  {
   "cell_type": "code",
   "execution_count": null,
   "metadata": {},
   "outputs": [],
   "source": [
    "gene_annot = read.delim(file.path(work_dir, 'primers', 'cgp', 'core_clusters_blastx.tsv'), \n",
    "                        sep='\\t') %>%\n",
    "    mutate(cluster_id = gsub('cluster_', '', cluster_id) %>% as.Num) %>%\n",
    "    semi_join(primer_info, c('cluster_id')) %>%\n",
    "    mutate(gene_name = gsub(' \\\\[.+', '', subject_name),\n",
    "           gene_taxonomy = gsub('.+\\\\[', '', subject_name),\n",
    "           gene_taxonomy = gsub('\\\\]', '', gene_taxonomy))\n",
    "gene_annot"
   ]
  },
  {
   "cell_type": "code",
   "execution_count": null,
   "metadata": {},
   "outputs": [],
   "source": [
    "df.dims(50)\n",
    "gene_annot %>%\n",
    "    distinct(cluster_id, gene_name) \n",
    "df.dims()"
   ]
  },
  {
   "cell_type": "code",
   "execution_count": null,
   "metadata": {},
   "outputs": [],
   "source": [
    "df.dims(50)\n",
    "gene_annot %>%\n",
    "    distinct(cluster_id, gene_taxonomy) \n",
    "df.dims()"
   ]
  },
  {
   "cell_type": "markdown",
   "metadata": {},
   "source": [
    "### Gene cluster: closest related"
   ]
  },
  {
   "cell_type": "code",
   "execution_count": null,
   "metadata": {},
   "outputs": [],
   "source": [
    "gene_annot = read.delim(file.path(work_dir, 'primers', 'cgp', 'core_clusters_blastx_nontarget.tsv'), \n",
    "                        sep='\\t') %>%\n",
    "    mutate(cluster_id = gsub('cluster_', '', cluster_id) %>% as.Num) %>%\n",
    "    semi_join(primer_info, c('cluster_id')) %>%\n",
    "    mutate(gene_name = gsub(' \\\\[.+', '', subject_name),\n",
    "           gene_taxonomy = gsub('.+\\\\[', '', subject_name),\n",
    "           gene_taxonomy = gsub('\\\\]', '', gene_taxonomy))\n",
    "gene_annot"
   ]
  },
  {
   "cell_type": "code",
   "execution_count": null,
   "metadata": {},
   "outputs": [],
   "source": [
    "df.dims(50)\n",
    "gene_annot %>%\n",
    "    filter(pident > 80,\n",
    "           pident_rank <= 3) %>%\n",
    "    select(cluster_id, gene_name, gene_taxonomy, pident)\n",
    "    \n",
    "df.dims()"
   ]
  },
  {
   "cell_type": "code",
   "execution_count": null,
   "metadata": {},
   "outputs": [],
   "source": [
    "df.dims(50)\n",
    "gene_annot %>%\n",
    "    distinct(cluster_id, gene_name) \n",
    "df.dims()"
   ]
  },
  {
   "cell_type": "markdown",
   "metadata": {},
   "source": [
    "# sessionInfo"
   ]
  },
  {
   "cell_type": "code",
   "execution_count": null,
   "metadata": {},
   "outputs": [],
   "source": [
    "pipelineInfo('/ebio/abt3_projects/software/dev/ll_pipelines/llg/')"
   ]
  },
  {
   "cell_type": "code",
   "execution_count": null,
   "metadata": {},
   "outputs": [],
   "source": [
    "pipelineInfo('/ebio/abt3_projects/software/dev/ll_pipelines/llprimer/')"
   ]
  },
  {
   "cell_type": "code",
   "execution_count": null,
   "metadata": {},
   "outputs": [],
   "source": [
    "sessionInfo()"
   ]
  },
  {
   "cell_type": "code",
   "execution_count": null,
   "metadata": {},
   "outputs": [],
   "source": []
  },
  {
   "cell_type": "code",
   "execution_count": null,
   "metadata": {},
   "outputs": [],
   "source": []
  }
 ],
 "metadata": {
  "kernelspec": {
   "display_name": "R [conda env:Georg_animal_feces-tidyverse]",
   "language": "R",
   "name": "conda-env-Georg_animal_feces-tidyverse-r"
  },
  "language_info": {
   "codemirror_mode": "r",
   "file_extension": ".r",
   "mimetype": "text/x-r-source",
   "name": "R",
   "pygments_lexer": "r",
   "version": "3.6.3"
  }
 },
 "nbformat": 4,
 "nbformat_minor": 4
}
