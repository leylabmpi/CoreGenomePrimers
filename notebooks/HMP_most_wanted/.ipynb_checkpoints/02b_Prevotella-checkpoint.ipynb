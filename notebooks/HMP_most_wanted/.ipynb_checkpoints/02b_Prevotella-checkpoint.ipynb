{
 "cells": [
  {
   "cell_type": "markdown",
   "metadata": {},
   "source": [
    "# Goal\n",
    "\n",
    "* Primer design for clade of interest"
   ]
  },
  {
   "cell_type": "markdown",
   "metadata": {},
   "source": [
    "# Var"
   ]
  },
  {
   "cell_type": "code",
   "execution_count": 55,
   "metadata": {
    "execution": {
     "iopub.execute_input": "2021-01-26T11:10:32.128536Z",
     "iopub.status.busy": "2021-01-26T11:10:32.126599Z",
     "iopub.status.idle": "2021-01-26T11:10:32.147317Z"
    }
   },
   "outputs": [],
   "source": [
    "base_dir = '/ebio/abt3_projects/software/dev/ll_pipelines/llprimer/experiments/HMP_most-wanted/'\n",
    "clade = 'Prevotella'\n",
    "taxid = 838\n",
    "domain = 'Bacteria'"
   ]
  },
  {
   "cell_type": "markdown",
   "metadata": {},
   "source": [
    "# Init"
   ]
  },
  {
   "cell_type": "code",
   "execution_count": 76,
   "metadata": {
    "execution": {
     "iopub.execute_input": "2021-01-26T18:56:09.086576Z",
     "iopub.status.busy": "2021-01-26T18:56:09.084517Z",
     "iopub.status.idle": "2021-01-26T18:56:09.110812Z"
    }
   },
   "outputs": [],
   "source": [
    "library(dplyr)\n",
    "library(tidyr)\n",
    "library(data.table)\n",
    "library(tidytable)\n",
    "library(ggplot2)\n",
    "library(LeyLabRMisc)"
   ]
  },
  {
   "cell_type": "code",
   "execution_count": 57,
   "metadata": {
    "execution": {
     "iopub.execute_input": "2021-01-26T11:10:32.568776Z",
     "iopub.status.busy": "2021-01-26T11:10:32.566434Z",
     "iopub.status.idle": "2021-01-26T11:10:32.584220Z"
    }
   },
   "outputs": [
    {
     "name": "stdout",
     "output_type": "stream",
     "text": [
      "Directory already exists: /ebio/abt3_projects/software/dev/ll_pipelines/llprimer/experiments/HMP_most-wanted//Prevotella \n"
     ]
    }
   ],
   "source": [
    "df.dims()\n",
    "work_dir = file.path(base_dir, clade)\n",
    "make_dir(work_dir)"
   ]
  },
  {
   "cell_type": "markdown",
   "metadata": {},
   "source": [
    "# Genome download\n",
    "\n",
    "* Downloading genomes from NCBI"
   ]
  },
  {
   "cell_type": "markdown",
   "metadata": {
    "execution": {
     "iopub.execute_input": "2021-01-12T13:07:32.874718Z",
     "iopub.status.busy": "2021-01-12T13:07:32.867938Z",
     "iopub.status.idle": "2021-01-12T13:07:32.985785Z",
     "shell.execute_reply": "2021-01-12T13:07:32.983225Z"
    }
   },
   "source": [
    "```\n",
    "OUTDIR=/ebio/abt3_projects/software/dev/ll_pipelines/llprimer/experiments/HMP_most-wanted//Prevotella/\n",
    "mkdir -p $OUTDIR\n",
    "ncbi-genome-download -p 12 -s genbank -F fasta --genera /Prevotella -o $OUTDIR bacteria\n",
    "```"
   ]
  },
  {
   "cell_type": "markdown",
   "metadata": {},
   "source": [
    "# Genome quality\n",
    "\n",
    "* Filtering genomes by quality"
   ]
  },
  {
   "cell_type": "code",
   "execution_count": 58,
   "metadata": {
    "execution": {
     "iopub.execute_input": "2021-01-26T11:10:42.528929Z",
     "iopub.status.busy": "2021-01-26T11:10:42.526860Z",
     "iopub.status.idle": "2021-01-26T11:10:47.286041Z"
    }
   },
   "outputs": [
    {
     "data": {
      "text/html": [
       "<table>\n",
       "<caption>A data.frame: 921 × 4</caption>\n",
       "<thead>\n",
       "\t<tr><th scope=col>Name</th><th scope=col>Fasta</th><th scope=col>Domain</th><th scope=col>Taxid</th></tr>\n",
       "\t<tr><th scope=col>&lt;chr&gt;</th><th scope=col>&lt;chr&gt;</th><th scope=col>&lt;fct&gt;</th><th scope=col>&lt;dbl&gt;</th></tr>\n",
       "</thead>\n",
       "<tbody>\n",
       "\t<tr><td>GCA_000025925.1_ASM2592v1_genomic </td><td>/ebio/abt3_projects/software/dev/ll_pipelines/llprimer/experiments/HMP_most-wanted/Prevotella/genbank/bacteria/GCA_000025925.1/GCA_000025925.1_ASM2592v1_genomic.fna.gz </td><td>Bacteria</td><td>838</td></tr>\n",
       "\t<tr><td>GCA_000142965.1_ASM14296v1_genomic</td><td>/ebio/abt3_projects/software/dev/ll_pipelines/llprimer/experiments/HMP_most-wanted/Prevotella/genbank/bacteria/GCA_000142965.1/GCA_000142965.1_ASM14296v1_genomic.fna.gz</td><td>Bacteria</td><td>838</td></tr>\n",
       "\t<tr><td>⋮</td><td>⋮</td><td>⋮</td><td>⋮</td></tr>\n",
       "\t<tr><td>GCA_902399905.1_UHGG_MGYG-HGUT-03697_genomic            </td><td>/ebio/abt3_projects/software/dev/ll_pipelines/llprimer/experiments/HMP_most-wanted/Prevotella/genbank/bacteria/GCA_902399905.1/GCA_902399905.1_UHGG_MGYG-HGUT-03697_genomic.fna.gz            </td><td>Bacteria</td><td>838</td></tr>\n",
       "\t<tr><td>GCA_902794455.1_Rumen_uncultured_genome_RUG13974_genomic</td><td>/ebio/abt3_projects/software/dev/ll_pipelines/llprimer/experiments/HMP_most-wanted/Prevotella/genbank/bacteria/GCA_902794455.1/GCA_902794455.1_Rumen_uncultured_genome_RUG13974_genomic.fna.gz</td><td>Bacteria</td><td>838</td></tr>\n",
       "</tbody>\n",
       "</table>\n"
      ],
      "text/latex": [
       "A data.frame: 921 × 4\n",
       "\\begin{tabular}{llll}\n",
       " Name & Fasta & Domain & Taxid\\\\\n",
       " <chr> & <chr> & <fct> & <dbl>\\\\\n",
       "\\hline\n",
       "\t GCA\\_000025925.1\\_ASM2592v1\\_genomic  & /ebio/abt3\\_projects/software/dev/ll\\_pipelines/llprimer/experiments/HMP\\_most-wanted/Prevotella/genbank/bacteria/GCA\\_000025925.1/GCA\\_000025925.1\\_ASM2592v1\\_genomic.fna.gz  & Bacteria & 838\\\\\n",
       "\t GCA\\_000142965.1\\_ASM14296v1\\_genomic & /ebio/abt3\\_projects/software/dev/ll\\_pipelines/llprimer/experiments/HMP\\_most-wanted/Prevotella/genbank/bacteria/GCA\\_000142965.1/GCA\\_000142965.1\\_ASM14296v1\\_genomic.fna.gz & Bacteria & 838\\\\\n",
       "\t ⋮ & ⋮ & ⋮ & ⋮\\\\\n",
       "\t GCA\\_902399905.1\\_UHGG\\_MGYG-HGUT-03697\\_genomic             & /ebio/abt3\\_projects/software/dev/ll\\_pipelines/llprimer/experiments/HMP\\_most-wanted/Prevotella/genbank/bacteria/GCA\\_902399905.1/GCA\\_902399905.1\\_UHGG\\_MGYG-HGUT-03697\\_genomic.fna.gz             & Bacteria & 838\\\\\n",
       "\t GCA\\_902794455.1\\_Rumen\\_uncultured\\_genome\\_RUG13974\\_genomic & /ebio/abt3\\_projects/software/dev/ll\\_pipelines/llprimer/experiments/HMP\\_most-wanted/Prevotella/genbank/bacteria/GCA\\_902794455.1/GCA\\_902794455.1\\_Rumen\\_uncultured\\_genome\\_RUG13974\\_genomic.fna.gz & Bacteria & 838\\\\\n",
       "\\end{tabular}\n"
      ],
      "text/markdown": [
       "\n",
       "A data.frame: 921 × 4\n",
       "\n",
       "| Name &lt;chr&gt; | Fasta &lt;chr&gt; | Domain &lt;fct&gt; | Taxid &lt;dbl&gt; |\n",
       "|---|---|---|---|\n",
       "| GCA_000025925.1_ASM2592v1_genomic  | /ebio/abt3_projects/software/dev/ll_pipelines/llprimer/experiments/HMP_most-wanted/Prevotella/genbank/bacteria/GCA_000025925.1/GCA_000025925.1_ASM2592v1_genomic.fna.gz  | Bacteria | 838 |\n",
       "| GCA_000142965.1_ASM14296v1_genomic | /ebio/abt3_projects/software/dev/ll_pipelines/llprimer/experiments/HMP_most-wanted/Prevotella/genbank/bacteria/GCA_000142965.1/GCA_000142965.1_ASM14296v1_genomic.fna.gz | Bacteria | 838 |\n",
       "| ⋮ | ⋮ | ⋮ | ⋮ |\n",
       "| GCA_902399905.1_UHGG_MGYG-HGUT-03697_genomic             | /ebio/abt3_projects/software/dev/ll_pipelines/llprimer/experiments/HMP_most-wanted/Prevotella/genbank/bacteria/GCA_902399905.1/GCA_902399905.1_UHGG_MGYG-HGUT-03697_genomic.fna.gz             | Bacteria | 838 |\n",
       "| GCA_902794455.1_Rumen_uncultured_genome_RUG13974_genomic | /ebio/abt3_projects/software/dev/ll_pipelines/llprimer/experiments/HMP_most-wanted/Prevotella/genbank/bacteria/GCA_902794455.1/GCA_902794455.1_Rumen_uncultured_genome_RUG13974_genomic.fna.gz | Bacteria | 838 |\n",
       "\n"
      ],
      "text/plain": [
       "    Name                                                    \n",
       "1   GCA_000025925.1_ASM2592v1_genomic                       \n",
       "2   GCA_000142965.1_ASM14296v1_genomic                      \n",
       "⋮   ⋮                                                       \n",
       "920 GCA_902399905.1_UHGG_MGYG-HGUT-03697_genomic            \n",
       "921 GCA_902794455.1_Rumen_uncultured_genome_RUG13974_genomic\n",
       "    Fasta                                                                                                                                                                                         \n",
       "1   /ebio/abt3_projects/software/dev/ll_pipelines/llprimer/experiments/HMP_most-wanted/Prevotella/genbank/bacteria/GCA_000025925.1/GCA_000025925.1_ASM2592v1_genomic.fna.gz                       \n",
       "2   /ebio/abt3_projects/software/dev/ll_pipelines/llprimer/experiments/HMP_most-wanted/Prevotella/genbank/bacteria/GCA_000142965.1/GCA_000142965.1_ASM14296v1_genomic.fna.gz                      \n",
       "⋮   ⋮                                                                                                                                                                                             \n",
       "920 /ebio/abt3_projects/software/dev/ll_pipelines/llprimer/experiments/HMP_most-wanted/Prevotella/genbank/bacteria/GCA_902399905.1/GCA_902399905.1_UHGG_MGYG-HGUT-03697_genomic.fna.gz            \n",
       "921 /ebio/abt3_projects/software/dev/ll_pipelines/llprimer/experiments/HMP_most-wanted/Prevotella/genbank/bacteria/GCA_902794455.1/GCA_902794455.1_Rumen_uncultured_genome_RUG13974_genomic.fna.gz\n",
       "    Domain   Taxid\n",
       "1   Bacteria 838  \n",
       "2   Bacteria 838  \n",
       "⋮   ⋮        ⋮    \n",
       "920 Bacteria 838  \n",
       "921 Bacteria 838  "
      ]
     },
     "metadata": {},
     "output_type": "display_data"
    },
    {
     "name": "stdout",
     "output_type": "stream",
     "text": [
      "File written: /ebio/abt3_projects/software/dev/ll_pipelines/llprimer/experiments/HMP_most-wanted//Prevotella/genbank/samples.txt \n"
     ]
    }
   ],
   "source": [
    "D = file.path(base_dir, clade, 'genbank')\n",
    "files = list_files(D, '.fna.gz')\n",
    "samps = data.frame(Name = files %>% as.character %>% basename,\n",
    "                   Fasta = files,\n",
    "                   Domain = domain,\n",
    "                   Taxid = taxid) %>%\n",
    "    mutate(Name = gsub('\\\\.fna\\\\.gz$', '', Name),\n",
    "           Fasta = gsub('/+', '/', Fasta))\n",
    "samps\n",
    "\n",
    "# writing file\n",
    "outfile = file.path(D, 'samples.txt')\n",
    "write_table(samps, outfile)"
   ]
  },
  {
   "cell_type": "markdown",
   "metadata": {},
   "source": [
    "### LLG"
   ]
  },
  {
   "cell_type": "markdown",
   "metadata": {},
   "source": [
    "#### Config"
   ]
  },
  {
   "cell_type": "code",
   "execution_count": 7,
   "metadata": {
    "execution": {
     "iopub.execute_input": "2021-01-21T08:02:31.932327Z",
     "iopub.status.busy": "2021-01-21T08:02:31.928928Z",
     "iopub.status.idle": "2021-01-21T08:02:31.962137Z"
    }
   },
   "outputs": [
    {
     "name": "stdout",
     "output_type": "stream",
     "text": [
      "# table with genome --> fasta_file information\n",
      "samples_file: /ebio/abt3_projects/software/dev/ll_pipelines/llprimer/experiments/HMP_most-wanted/Prevotella/genbank/samples.txt\n",
      "\n",
      "# output location\n",
      "output_dir: /ebio/abt3_projects/software/dev/ll_pipelines/llprimer/experiments/HMP_most-wanted/Prevotella/LLG_output/\n",
      "\n",
      "# temporary file directory (your username will be added automatically)\n",
      "tmp_dir: /ebio/abt3_scratch/\n",
      "\n",
      "# batch processing of genomes for certain steps\n",
      "## increase to better parallelize\n",
      "batches: 2 \n",
      "\n",
      "# Domain of genomes ('Archaea' or 'Bacteria)\n",
      "## Use \"Skip\" if provided as a \"Domain\" column in the genome table\n",
      "Domain: Skip\n",
      "\n",
      "# software parameters\n",
      "# Use \"Skip\" to skip any of these steps. If no params for rule, use \"\"\n",
      "# dRep MAGs are not further analyzed, but you can de-rep & then use the de-rep genome table as input.\n",
      "params:\n",
      "  ionice: -c 3\n",
      "  # assembly assessment\n",
      "  seqkit: \"\"\n",
      "  quast: Skip #\"\"\n",
      "  multiqc_on_quast: \"\" \n",
      "  checkm: \"\"\n",
      "  # de-replication (requires checkm)\n",
      "  drep: -comp 90 -con 5 -sa 0.999\n",
      "  # taxonomy\n",
      "  sourmash:\n",
      "    compute: Skip #--scaled 10000 -k 31\n",
      "    gather: -k 31\n",
      "  gtdbtk:\n",
      "    classify_wf: --min_perc_aa 10\n",
      "  # genome pairwise ANI  \n",
      "  fastani: Skip #--fragLen 3000 --minFraction 0.2 -k 16\n",
      "  dashing: Skip #-k 31 --full-tsv\n",
      "  comparem_aai: Skip #--evalue 0.001\n",
      "  # gene annotation\n",
      "  gene_call:\n",
      "    prokka: Skip #\"\" \n",
      "    multiqc_on_prokka: \"\"\n",
      "    prodigal: Skip #\"\"\n",
      "  eggnog_mapper: \"\"\n",
      "  eggnog_mapper_annot: \"\"\n",
      "  # rRNA (16S alignment & phylogeny)\n",
      "  barrnap: Skip #--lencutoff 0.8\n",
      "  vsearch_per_genome_drep: --id 0.95    # Skip to prevent drep of 16S copies within each genome\n",
      "  qiime2_fasttree: \"\"\n",
      "  qiime2_iqtree: --p-alrt 1000 --p-abayes --p-lbp 1000  --p-substitution-model 'GTR+I+G'\n",
      "  # genome phylogeny\n",
      "  phylophlan_config: Skip #--map_dna diamond --db_aa diamond --map_aa diamond --msa mafft --trim trimal --tree1 fasttree --tree2 raxml\n",
      "  phylophlan: --diversity high --min_num_markers 50 --accurate\n",
      "  # phenotype\n",
      "  traitar: Skip #\"\"\n",
      "  # biosynthetic gene clusters (BGCs)\n",
      "  antismash: Skip #--cb-knownclusters --cb-subclusters --asf  \n",
      "  DeepBGC: Skip #--score 0.5 --classifier-score 0.5 --prodigal-meta-mode\n",
      "  # antimicrobial resistance (AMR)\n",
      "  abricate: Skip #--minid 75 --mincov 80\n",
      "  # CRISPRs\n",
      "  cctyper: Skip #--prodigal meta\n",
      "  \n",
      "# databases\n",
      "databases:\n",
      "  checkM_data: /ebio/abt3_projects/databases_no-backup/checkM/\n",
      "  sourmash: /ebio/abt3_projects/databases_no-backup/sourmash/genbank-k31.sbt.json\n",
      "  sourmash_lca: /ebio/abt3_projects/databases_no-backup/sourmash/genbank-k31.lca.json.gz\n",
      "  gtdbtk: /ebio/abt3_projects/databases_no-backup/GTDB/release95/gtdbtk/db_info.md\n",
      "  phylophlan: /ebio/abt3_projects/databases_no-backup/phylophlan/PhyloPhlan/phylophlan.faa.bz2\n",
      "  eggnog: /ebio/abt3_projects/databases_no-backup/Eggnog/v2/eggnog.db\n",
      "  eggnog_diamond: /ebio/abt3_projects/databases_no-backup/Eggnog/v2/eggnog_proteins.dmnd\n",
      "  antismash: /ebio/abt3_projects/databases_no-backup/antismash/v5/\n",
      "  deepbgc: /ebio/abt3_projects/databases_no-backup/DeepBGC/\n",
      "  traitar: /ebio/abt3_projects/databases_no-backup/pfam/traitar/\n",
      "  abricate:\n",
      "    ncbi: /ebio/abt3_projects/databases_no-backup/abricate/ncbi/sequences\n",
      "    card: /ebio/abt3_projects/databases_no-backup/abricate/card/sequences\n",
      "    resfinder: /ebio/abt3_projects/databases_no-backup/abricate/resfinder/sequences\n",
      "    argannot: /ebio/abt3_projects/databases_no-backup/abricate/argannot/sequences\n",
      "    bacmet2: /ebio/abt3_projects/databases_no-backup/abricate/bacmet2/sequences\n",
      "    vfdb: /ebio/abt3_projects/databases_no-backup/abricate/vfdb/sequences\n",
      "    megares: /ebio/abt3_projects/databases_no-backup/abricate/megares/sequences\n",
      "    plasmidfinder: /ebio/abt3_projects/databases_no-backup/abricate/plasmidfinder/sequences\n",
      "\n",
      "# snakemake pipeline\n",
      "pipeline:\n",
      "  snakemake_folder: ./\n",
      "  script_folder: ./bin/scripts/\n",
      "  use_shared_mem: True\n",
      "  name: LLG"
     ]
    }
   ],
   "source": [
    "cat_file(file.path(work_dir, 'config_llg.yaml'))"
   ]
  },
  {
   "cell_type": "markdown",
   "metadata": {
    "execution": {
     "iopub.execute_input": "2021-01-12T13:14:50.416604Z",
     "iopub.status.busy": "2021-01-12T13:14:50.414179Z",
     "iopub.status.idle": "2021-01-12T13:14:50.431925Z",
     "shell.execute_reply": "2021-01-12T13:14:50.430260Z"
    }
   },
   "source": [
    "#### Run\n",
    "\n",
    "```\n",
    "(snakemake) @ rick:/ebio/abt3_projects/software/dev/ll_pipelines/llg\n",
    "$ screen -L -S llg ./snakemake_sge.sh /ebio/abt3_projects/software/dev/ll_pipelines/llprimer/experiments/HMP_most-wanted/Prevotella/config_llg.yaml 20 -F\n",
    "```"
   ]
  },
  {
   "cell_type": "markdown",
   "metadata": {},
   "source": [
    "### Outlier genomes"
   ]
  },
  {
   "cell_type": "code",
   "execution_count": 109,
   "metadata": {
    "execution": {
     "iopub.execute_input": "2021-01-26T19:03:20.855078Z",
     "iopub.status.busy": "2021-01-26T19:03:20.853037Z",
     "iopub.status.idle": "2021-01-26T19:03:21.026641Z"
    }
   },
   "outputs": [
    {
     "data": {
      "text/html": [
       "<table>\n",
       "<caption>A data.table: 336400 × 4</caption>\n",
       "<thead>\n",
       "\t<tr><th scope=col>genome1</th><th scope=col>genome2</th><th scope=col>dist</th><th scope=col>similarity</th></tr>\n",
       "\t<tr><th scope=col>&lt;chr&gt;</th><th scope=col>&lt;chr&gt;</th><th scope=col>&lt;dbl&gt;</th><th scope=col>&lt;dbl&gt;</th></tr>\n",
       "</thead>\n",
       "<tbody>\n",
       "\t<tr><td>GCA_000613365.1_ASM61336v1_genomic.fna</td><td>GCA_000613365.1_ASM61336v1_genomic.fna</td><td>0</td><td>1</td></tr>\n",
       "\t<tr><td>GCA_000437535.1_MGS629_genomic.fna    </td><td>GCA_000613365.1_ASM61336v1_genomic.fna</td><td>1</td><td>0</td></tr>\n",
       "\t<tr><td>⋮</td><td>⋮</td><td>⋮</td><td>⋮</td></tr>\n",
       "\t<tr><td>GCA_900454835.1_52295_A01_genomic.fna                              </td><td>GCA_900108375.1_IMG-taxon_2596583684_annotated_assembly_genomic.fna</td><td>0.295981</td><td>0.704019</td></tr>\n",
       "\t<tr><td>GCA_900108375.1_IMG-taxon_2596583684_annotated_assembly_genomic.fna</td><td>GCA_900108375.1_IMG-taxon_2596583684_annotated_assembly_genomic.fna</td><td>0.000000</td><td>1.000000</td></tr>\n",
       "</tbody>\n",
       "</table>\n"
      ],
      "text/latex": [
       "A data.table: 336400 × 4\n",
       "\\begin{tabular}{llll}\n",
       " genome1 & genome2 & dist & similarity\\\\\n",
       " <chr> & <chr> & <dbl> & <dbl>\\\\\n",
       "\\hline\n",
       "\t GCA\\_000613365.1\\_ASM61336v1\\_genomic.fna & GCA\\_000613365.1\\_ASM61336v1\\_genomic.fna & 0 & 1\\\\\n",
       "\t GCA\\_000437535.1\\_MGS629\\_genomic.fna     & GCA\\_000613365.1\\_ASM61336v1\\_genomic.fna & 1 & 0\\\\\n",
       "\t ⋮ & ⋮ & ⋮ & ⋮\\\\\n",
       "\t GCA\\_900454835.1\\_52295\\_A01\\_genomic.fna                               & GCA\\_900108375.1\\_IMG-taxon\\_2596583684\\_annotated\\_assembly\\_genomic.fna & 0.295981 & 0.704019\\\\\n",
       "\t GCA\\_900108375.1\\_IMG-taxon\\_2596583684\\_annotated\\_assembly\\_genomic.fna & GCA\\_900108375.1\\_IMG-taxon\\_2596583684\\_annotated\\_assembly\\_genomic.fna & 0.000000 & 1.000000\\\\\n",
       "\\end{tabular}\n"
      ],
      "text/markdown": [
       "\n",
       "A data.table: 336400 × 4\n",
       "\n",
       "| genome1 &lt;chr&gt; | genome2 &lt;chr&gt; | dist &lt;dbl&gt; | similarity &lt;dbl&gt; |\n",
       "|---|---|---|---|\n",
       "| GCA_000613365.1_ASM61336v1_genomic.fna | GCA_000613365.1_ASM61336v1_genomic.fna | 0 | 1 |\n",
       "| GCA_000437535.1_MGS629_genomic.fna     | GCA_000613365.1_ASM61336v1_genomic.fna | 1 | 0 |\n",
       "| ⋮ | ⋮ | ⋮ | ⋮ |\n",
       "| GCA_900454835.1_52295_A01_genomic.fna                               | GCA_900108375.1_IMG-taxon_2596583684_annotated_assembly_genomic.fna | 0.295981 | 0.704019 |\n",
       "| GCA_900108375.1_IMG-taxon_2596583684_annotated_assembly_genomic.fna | GCA_900108375.1_IMG-taxon_2596583684_annotated_assembly_genomic.fna | 0.000000 | 1.000000 |\n",
       "\n"
      ],
      "text/plain": [
       "       genome1                                                            \n",
       "1      GCA_000613365.1_ASM61336v1_genomic.fna                             \n",
       "2      GCA_000437535.1_MGS629_genomic.fna                                 \n",
       "⋮      ⋮                                                                  \n",
       "336399 GCA_900454835.1_52295_A01_genomic.fna                              \n",
       "336400 GCA_900108375.1_IMG-taxon_2596583684_annotated_assembly_genomic.fna\n",
       "       genome2                                                            \n",
       "1      GCA_000613365.1_ASM61336v1_genomic.fna                             \n",
       "2      GCA_000613365.1_ASM61336v1_genomic.fna                             \n",
       "⋮      ⋮                                                                  \n",
       "336399 GCA_900108375.1_IMG-taxon_2596583684_annotated_assembly_genomic.fna\n",
       "336400 GCA_900108375.1_IMG-taxon_2596583684_annotated_assembly_genomic.fna\n",
       "       dist     similarity\n",
       "1      0        1         \n",
       "2      1        0         \n",
       "⋮      ⋮        ⋮         \n",
       "336399 0.295981 0.704019  \n",
       "336400 0.000000 1.000000  "
      ]
     },
     "metadata": {},
     "output_type": "display_data"
    }
   ],
   "source": [
    "mash = file.path(work_dir, 'LLG_output', 'drep', 'drep', 'data_tables', 'Mdb.csv') %>%\n",
    "    Fread(sep=',') \n",
    "mash"
   ]
  },
  {
   "cell_type": "code",
   "execution_count": 110,
   "metadata": {
    "execution": {
     "iopub.execute_input": "2021-01-26T19:03:21.447514Z",
     "iopub.status.busy": "2021-01-26T19:03:21.444892Z",
     "iopub.status.idle": "2021-01-26T19:03:21.612965Z"
    }
   },
   "outputs": [
    {
     "data": {
      "text/html": [
       "<table>\n",
       "<caption>A data.table: 580 × 2</caption>\n",
       "<thead>\n",
       "\t<tr><th scope=col>genome</th><th scope=col>mean_dist</th></tr>\n",
       "\t<tr><th scope=col>&lt;chr&gt;</th><th scope=col>&lt;dbl&gt;</th></tr>\n",
       "</thead>\n",
       "<tbody>\n",
       "\t<tr><td>GCA_000613365.1_ASM61336v1_genomic.fna</td><td>0.4467935</td></tr>\n",
       "\t<tr><td>GCA_000437535.1_MGS629_genomic.fna    </td><td>0.6066792</td></tr>\n",
       "\t<tr><td>⋮</td><td>⋮</td></tr>\n",
       "\t<tr><td>GCA_900454835.1_52295_A01_genomic.fna                              </td><td>0.3697412</td></tr>\n",
       "\t<tr><td>GCA_900108375.1_IMG-taxon_2596583684_annotated_assembly_genomic.fna</td><td>0.4674060</td></tr>\n",
       "</tbody>\n",
       "</table>\n"
      ],
      "text/latex": [
       "A data.table: 580 × 2\n",
       "\\begin{tabular}{ll}\n",
       " genome & mean\\_dist\\\\\n",
       " <chr> & <dbl>\\\\\n",
       "\\hline\n",
       "\t GCA\\_000613365.1\\_ASM61336v1\\_genomic.fna & 0.4467935\\\\\n",
       "\t GCA\\_000437535.1\\_MGS629\\_genomic.fna     & 0.6066792\\\\\n",
       "\t ⋮ & ⋮\\\\\n",
       "\t GCA\\_900454835.1\\_52295\\_A01\\_genomic.fna                               & 0.3697412\\\\\n",
       "\t GCA\\_900108375.1\\_IMG-taxon\\_2596583684\\_annotated\\_assembly\\_genomic.fna & 0.4674060\\\\\n",
       "\\end{tabular}\n"
      ],
      "text/markdown": [
       "\n",
       "A data.table: 580 × 2\n",
       "\n",
       "| genome &lt;chr&gt; | mean_dist &lt;dbl&gt; |\n",
       "|---|---|\n",
       "| GCA_000613365.1_ASM61336v1_genomic.fna | 0.4467935 |\n",
       "| GCA_000437535.1_MGS629_genomic.fna     | 0.6066792 |\n",
       "| ⋮ | ⋮ |\n",
       "| GCA_900454835.1_52295_A01_genomic.fna                               | 0.3697412 |\n",
       "| GCA_900108375.1_IMG-taxon_2596583684_annotated_assembly_genomic.fna | 0.4674060 |\n",
       "\n"
      ],
      "text/plain": [
       "    genome                                                             \n",
       "1   GCA_000613365.1_ASM61336v1_genomic.fna                             \n",
       "2   GCA_000437535.1_MGS629_genomic.fna                                 \n",
       "⋮   ⋮                                                                  \n",
       "579 GCA_900454835.1_52295_A01_genomic.fna                              \n",
       "580 GCA_900108375.1_IMG-taxon_2596583684_annotated_assembly_genomic.fna\n",
       "    mean_dist\n",
       "1   0.4467935\n",
       "2   0.6066792\n",
       "⋮   ⋮        \n",
       "579 0.3697412\n",
       "580 0.4674060"
      ]
     },
     "metadata": {},
     "output_type": "display_data"
    }
   ],
   "source": [
    "tmp1 = mash %>%\n",
    "    summarize.(mean_dist = mean(dist), by=c(genome1)) %>%\n",
    "    rename.('genome' = genome1)\n",
    "tmp2 = mash %>%\n",
    "    summarize.(mean_dist = mean(dist), by=c(genome2)) %>%\n",
    "    rename.('genome' = genome2)\n",
    "mash_s = rbind(tmp1, tmp2) %>%\n",
    "    distinct(genome, mean_dist)\n",
    "tmp1 = tmp2 = NULL\n",
    "mash_s"
   ]
  },
  {
   "cell_type": "code",
   "execution_count": 111,
   "metadata": {
    "execution": {
     "iopub.execute_input": "2021-01-26T19:03:21.892905Z",
     "iopub.status.busy": "2021-01-26T19:03:21.890912Z",
     "iopub.status.idle": "2021-01-26T19:03:21.943399Z"
    }
   },
   "outputs": [
    {
     "data": {
      "text/html": [
       "<table>\n",
       "<caption>A data.table: 20 × 2</caption>\n",
       "<thead>\n",
       "\t<tr><th scope=col>genome</th><th scope=col>mean_dist</th></tr>\n",
       "\t<tr><th scope=col>&lt;chr&gt;</th><th scope=col>&lt;dbl&gt;</th></tr>\n",
       "</thead>\n",
       "<tbody>\n",
       "\t<tr><td>GCA_000431215.1_MGS1031_genomic.fna     </td><td>0.9724018</td></tr>\n",
       "\t<tr><td>GCA_002409785.1_ASM240978v1_genomic.fna </td><td>0.9617474</td></tr>\n",
       "\t<tr><td>GCA_002449845.1_ASM244984v1_genomic.fna </td><td>0.9471815</td></tr>\n",
       "\t<tr><td>GCA_002297545.1_ASM229754v1_genomic.fna </td><td>0.9446638</td></tr>\n",
       "\t<tr><td>GCA_015256945.1_ASM1525694v1_genomic.fna</td><td>0.9425318</td></tr>\n",
       "\t<tr><td>GCA_000438115.1_MGS617_genomic.fna      </td><td>0.9334457</td></tr>\n",
       "\t<tr><td>GCA_000436235.1_MGS873_genomic.fna      </td><td>0.9288424</td></tr>\n",
       "\t<tr><td>GCA_000437495.1_MGS485_genomic.fna      </td><td>0.9251054</td></tr>\n",
       "\t<tr><td>GCA_000431275.1_MGS755_genomic.fna      </td><td>0.9219295</td></tr>\n",
       "\t<tr><td>GCA_015257005.1_ASM1525700v1_genomic.fna</td><td>0.9054708</td></tr>\n",
       "\t<tr><td>GCA_002342585.1_ASM234258v1_genomic.fna </td><td>0.8961440</td></tr>\n",
       "\t<tr><td>GCA_016291935.1_ASM1629193v1_genomic.fna</td><td>0.8904836</td></tr>\n",
       "\t<tr><td>GCA_009775555.1_ASM977555v1_genomic.fna </td><td>0.8870136</td></tr>\n",
       "\t<tr><td>GCA_003640305.1_ASM364030v1_genomic.fna </td><td>0.8813754</td></tr>\n",
       "\t<tr><td>GCA_000436695.1_MGS1185_genomic.fna     </td><td>0.8811605</td></tr>\n",
       "\t<tr><td>GCA_016284895.1_ASM1628489v1_genomic.fna</td><td>0.8771993</td></tr>\n",
       "\t<tr><td>GCA_002480885.1_ASM248088v1_genomic.fna </td><td>0.8769068</td></tr>\n",
       "\t<tr><td>GCA_000373185.1_ASM37318v1_genomic.fna  </td><td>0.8765081</td></tr>\n",
       "\t<tr><td>GCA_002481145.1_ASM248114v1_genomic.fna </td><td>0.8717001</td></tr>\n",
       "\t<tr><td>GCA_015261035.1_ASM1526103v1_genomic.fna</td><td>0.8708858</td></tr>\n",
       "</tbody>\n",
       "</table>\n"
      ],
      "text/latex": [
       "A data.table: 20 × 2\n",
       "\\begin{tabular}{ll}\n",
       " genome & mean\\_dist\\\\\n",
       " <chr> & <dbl>\\\\\n",
       "\\hline\n",
       "\t GCA\\_000431215.1\\_MGS1031\\_genomic.fna      & 0.9724018\\\\\n",
       "\t GCA\\_002409785.1\\_ASM240978v1\\_genomic.fna  & 0.9617474\\\\\n",
       "\t GCA\\_002449845.1\\_ASM244984v1\\_genomic.fna  & 0.9471815\\\\\n",
       "\t GCA\\_002297545.1\\_ASM229754v1\\_genomic.fna  & 0.9446638\\\\\n",
       "\t GCA\\_015256945.1\\_ASM1525694v1\\_genomic.fna & 0.9425318\\\\\n",
       "\t GCA\\_000438115.1\\_MGS617\\_genomic.fna       & 0.9334457\\\\\n",
       "\t GCA\\_000436235.1\\_MGS873\\_genomic.fna       & 0.9288424\\\\\n",
       "\t GCA\\_000437495.1\\_MGS485\\_genomic.fna       & 0.9251054\\\\\n",
       "\t GCA\\_000431275.1\\_MGS755\\_genomic.fna       & 0.9219295\\\\\n",
       "\t GCA\\_015257005.1\\_ASM1525700v1\\_genomic.fna & 0.9054708\\\\\n",
       "\t GCA\\_002342585.1\\_ASM234258v1\\_genomic.fna  & 0.8961440\\\\\n",
       "\t GCA\\_016291935.1\\_ASM1629193v1\\_genomic.fna & 0.8904836\\\\\n",
       "\t GCA\\_009775555.1\\_ASM977555v1\\_genomic.fna  & 0.8870136\\\\\n",
       "\t GCA\\_003640305.1\\_ASM364030v1\\_genomic.fna  & 0.8813754\\\\\n",
       "\t GCA\\_000436695.1\\_MGS1185\\_genomic.fna      & 0.8811605\\\\\n",
       "\t GCA\\_016284895.1\\_ASM1628489v1\\_genomic.fna & 0.8771993\\\\\n",
       "\t GCA\\_002480885.1\\_ASM248088v1\\_genomic.fna  & 0.8769068\\\\\n",
       "\t GCA\\_000373185.1\\_ASM37318v1\\_genomic.fna   & 0.8765081\\\\\n",
       "\t GCA\\_002481145.1\\_ASM248114v1\\_genomic.fna  & 0.8717001\\\\\n",
       "\t GCA\\_015261035.1\\_ASM1526103v1\\_genomic.fna & 0.8708858\\\\\n",
       "\\end{tabular}\n"
      ],
      "text/markdown": [
       "\n",
       "A data.table: 20 × 2\n",
       "\n",
       "| genome &lt;chr&gt; | mean_dist &lt;dbl&gt; |\n",
       "|---|---|\n",
       "| GCA_000431215.1_MGS1031_genomic.fna      | 0.9724018 |\n",
       "| GCA_002409785.1_ASM240978v1_genomic.fna  | 0.9617474 |\n",
       "| GCA_002449845.1_ASM244984v1_genomic.fna  | 0.9471815 |\n",
       "| GCA_002297545.1_ASM229754v1_genomic.fna  | 0.9446638 |\n",
       "| GCA_015256945.1_ASM1525694v1_genomic.fna | 0.9425318 |\n",
       "| GCA_000438115.1_MGS617_genomic.fna       | 0.9334457 |\n",
       "| GCA_000436235.1_MGS873_genomic.fna       | 0.9288424 |\n",
       "| GCA_000437495.1_MGS485_genomic.fna       | 0.9251054 |\n",
       "| GCA_000431275.1_MGS755_genomic.fna       | 0.9219295 |\n",
       "| GCA_015257005.1_ASM1525700v1_genomic.fna | 0.9054708 |\n",
       "| GCA_002342585.1_ASM234258v1_genomic.fna  | 0.8961440 |\n",
       "| GCA_016291935.1_ASM1629193v1_genomic.fna | 0.8904836 |\n",
       "| GCA_009775555.1_ASM977555v1_genomic.fna  | 0.8870136 |\n",
       "| GCA_003640305.1_ASM364030v1_genomic.fna  | 0.8813754 |\n",
       "| GCA_000436695.1_MGS1185_genomic.fna      | 0.8811605 |\n",
       "| GCA_016284895.1_ASM1628489v1_genomic.fna | 0.8771993 |\n",
       "| GCA_002480885.1_ASM248088v1_genomic.fna  | 0.8769068 |\n",
       "| GCA_000373185.1_ASM37318v1_genomic.fna   | 0.8765081 |\n",
       "| GCA_002481145.1_ASM248114v1_genomic.fna  | 0.8717001 |\n",
       "| GCA_015261035.1_ASM1526103v1_genomic.fna | 0.8708858 |\n",
       "\n"
      ],
      "text/plain": [
       "   genome                                   mean_dist\n",
       "1  GCA_000431215.1_MGS1031_genomic.fna      0.9724018\n",
       "2  GCA_002409785.1_ASM240978v1_genomic.fna  0.9617474\n",
       "3  GCA_002449845.1_ASM244984v1_genomic.fna  0.9471815\n",
       "4  GCA_002297545.1_ASM229754v1_genomic.fna  0.9446638\n",
       "5  GCA_015256945.1_ASM1525694v1_genomic.fna 0.9425318\n",
       "6  GCA_000438115.1_MGS617_genomic.fna       0.9334457\n",
       "7  GCA_000436235.1_MGS873_genomic.fna       0.9288424\n",
       "8  GCA_000437495.1_MGS485_genomic.fna       0.9251054\n",
       "9  GCA_000431275.1_MGS755_genomic.fna       0.9219295\n",
       "10 GCA_015257005.1_ASM1525700v1_genomic.fna 0.9054708\n",
       "11 GCA_002342585.1_ASM234258v1_genomic.fna  0.8961440\n",
       "12 GCA_016291935.1_ASM1629193v1_genomic.fna 0.8904836\n",
       "13 GCA_009775555.1_ASM977555v1_genomic.fna  0.8870136\n",
       "14 GCA_003640305.1_ASM364030v1_genomic.fna  0.8813754\n",
       "15 GCA_000436695.1_MGS1185_genomic.fna      0.8811605\n",
       "16 GCA_016284895.1_ASM1628489v1_genomic.fna 0.8771993\n",
       "17 GCA_002480885.1_ASM248088v1_genomic.fna  0.8769068\n",
       "18 GCA_000373185.1_ASM37318v1_genomic.fna   0.8765081\n",
       "19 GCA_002481145.1_ASM248114v1_genomic.fna  0.8717001\n",
       "20 GCA_015261035.1_ASM1526103v1_genomic.fna 0.8708858"
      ]
     },
     "metadata": {},
     "output_type": "display_data"
    }
   ],
   "source": [
    "df.dims(20)\n",
    "mash_s %>%\n",
    "    arrange.(-mean_dist) %>%\n",
    "    slice_head.(20)\n",
    "df.dims()"
   ]
  },
  {
   "cell_type": "code",
   "execution_count": 112,
   "metadata": {
    "execution": {
     "iopub.execute_input": "2021-01-26T19:03:23.258276Z",
     "iopub.status.busy": "2021-01-26T19:03:23.256017Z",
     "iopub.status.idle": "2021-01-26T19:03:23.517946Z"
    }
   },
   "outputs": [
    {
     "data": {
      "image/png": "[encoded data removed]",
      "text/plain": [
       "plot without title"
      ]
     },
     "metadata": {
      "image/png": {
       "height": 250,
       "width": 400
      },
      "text/plain": {
       "height": 250,
       "width": 400
      }
     },
     "output_type": "display_data"
    }
   ],
   "source": [
    "# plotting distribution\n",
    "p = mash_s %>% \n",
    "    ggplot(aes(mean_dist)) +\n",
    "    geom_histogram(bins=50) +\n",
    "    theme_bw()\n",
    "p.dims(4,2.5)\n",
    "plot(p)"
   ]
  },
  {
   "cell_type": "code",
   "execution_count": 113,
   "metadata": {
    "execution": {
     "iopub.execute_input": "2021-01-26T19:04:18.944049Z",
     "iopub.status.busy": "2021-01-26T19:04:18.942083Z",
     "iopub.status.idle": "2021-01-26T19:04:18.977661Z"
    }
   },
   "outputs": [
    {
     "data": {
      "text/html": [
       "197"
      ],
      "text/latex": [
       "197"
      ],
      "text/markdown": [
       "197"
      ],
      "text/plain": [
       "[1] 197"
      ]
     },
     "metadata": {},
     "output_type": "display_data"
    }
   ],
   "source": [
    "to_rm = mash_s %>%\n",
    "    filter.(mean_dist > 0.6) %>%\n",
    "    mutate.(genome = gsub('\\\\.fna$', '', genome)) %>%\n",
    "    pull.(genome)\n",
    "to_rm %>% length"
   ]
  },
  {
   "cell_type": "markdown",
   "metadata": {
    "execution": {
     "iopub.execute_input": "2021-01-12T13:14:10.995042Z",
     "iopub.status.busy": "2021-01-12T13:14:10.992773Z",
     "iopub.status.idle": "2021-01-12T13:14:11.009275Z",
     "shell.execute_reply": "2021-01-12T13:14:11.008255Z"
    }
   },
   "source": [
    "### Samples table of high-quality genomes"
   ]
  },
  {
   "cell_type": "code",
   "execution_count": 114,
   "metadata": {
    "execution": {
     "iopub.execute_input": "2021-01-26T19:04:30.066728Z",
     "iopub.status.busy": "2021-01-26T19:04:30.064644Z",
     "iopub.status.idle": "2021-01-26T19:04:30.185931Z"
    }
   },
   "outputs": [
    {
     "data": {
      "text/html": [
       "<table>\n",
       "<caption>A data.frame: 921 × 33</caption>\n",
       "<thead>\n",
       "\t<tr><th scope=col>Bin.Id</th><th scope=col>Marker.lineage</th><th scope=col>X..genomes</th><th scope=col>X..markers</th><th scope=col>X..marker.sets</th><th scope=col>Completeness</th><th scope=col>Contamination</th><th scope=col>Strain.heterogeneity</th><th scope=col>Genome.size..bp.</th><th scope=col>X..ambiguous.bases</th><th scope=col>⋯</th><th scope=col>X0</th><th scope=col>X1</th><th scope=col>X2</th><th scope=col>X3</th><th scope=col>X4</th><th scope=col>X5.</th><th scope=col>assembly.Id</th><th scope=col>assembler.Id</th><th scope=col>taxon.Id</th><th scope=col>File</th></tr>\n",
       "\t<tr><th scope=col>&lt;fct&gt;</th><th scope=col>&lt;fct&gt;</th><th scope=col>&lt;int&gt;</th><th scope=col>&lt;int&gt;</th><th scope=col>&lt;int&gt;</th><th scope=col>&lt;dbl&gt;</th><th scope=col>&lt;dbl&gt;</th><th scope=col>&lt;dbl&gt;</th><th scope=col>&lt;int&gt;</th><th scope=col>&lt;int&gt;</th><th scope=col>⋯</th><th scope=col>&lt;int&gt;</th><th scope=col>&lt;int&gt;</th><th scope=col>&lt;int&gt;</th><th scope=col>&lt;int&gt;</th><th scope=col>&lt;int&gt;</th><th scope=col>&lt;int&gt;</th><th scope=col>&lt;fct&gt;</th><th scope=col>&lt;fct&gt;</th><th scope=col>&lt;lgl&gt;</th><th scope=col>&lt;fct&gt;</th></tr>\n",
       "</thead>\n",
       "<tbody>\n",
       "\t<tr><td>GCA_000025925.1_ASM2592v1_genomic </td><td>o__Bacteroidales (UID2716)</td><td>92</td><td>486</td><td>270</td><td>99.63</td><td>0.37</td><td>100</td><td>3619559</td><td>0</td><td>⋯</td><td>1</td><td>484</td><td>1</td><td>0</td><td>0</td><td>0</td><td>|ebio|abt3_projects|software|dev|ll_pipelines|llprimer|experiments|HMP_most-wanted|Prevotella|LLG_output|checkM|1|checkm|markers_qa_summary.tsv.1</td><td>markers_qa_summary.tsv.1</td><td>NA</td><td>/ebio/abt3_projects/software/dev/ll_pipelines/llprimer/experiments/HMP_most-wanted/Prevotella/LLG_output/checkM/1/checkm/markers_qa_summary.tsv.1</td></tr>\n",
       "\t<tr><td>GCA_000144405.1_ASM14440v1_genomic</td><td>g__Prevotella (UID2724)   </td><td>55</td><td>567</td><td>296</td><td>99.32</td><td>0.00</td><td>  0</td><td>3168282</td><td>0</td><td>⋯</td><td>2</td><td>565</td><td>0</td><td>0</td><td>0</td><td>0</td><td>|ebio|abt3_projects|software|dev|ll_pipelines|llprimer|experiments|HMP_most-wanted|Prevotella|LLG_output|checkM|1|checkm|markers_qa_summary.tsv.2</td><td>markers_qa_summary.tsv.2</td><td>NA</td><td>/ebio/abt3_projects/software/dev/ll_pipelines/llprimer/experiments/HMP_most-wanted/Prevotella/LLG_output/checkM/1/checkm/markers_qa_summary.tsv.2</td></tr>\n",
       "\t<tr><td>⋮</td><td>⋮</td><td>⋮</td><td>⋮</td><td>⋮</td><td>⋮</td><td>⋮</td><td>⋮</td><td>⋮</td><td>⋮</td><td>⋱</td><td>⋮</td><td>⋮</td><td>⋮</td><td>⋮</td><td>⋮</td><td>⋮</td><td>⋮</td><td>⋮</td><td>⋮</td><td>⋮</td></tr>\n",
       "\t<tr><td>GCA_902386825.1_UHGG_MGYG-HGUT-02412_genomic</td><td>o__Bacteroidales (UID2657)</td><td>160</td><td>492</td><td>269</td><td>97.58</td><td>0.00</td><td> 0.00</td><td>3475353</td><td>3078</td><td>⋯</td><td>7</td><td>485</td><td>0</td><td>0</td><td>0</td><td>0</td><td>|ebio|abt3_projects|software|dev|ll_pipelines|llprimer|experiments|HMP_most-wanted|Prevotella|LLG_output|checkM|2|checkm|markers_qa_summary.tsv.459</td><td>markers_qa_summary.tsv.459</td><td>NA</td><td>/ebio/abt3_projects/software/dev/ll_pipelines/llprimer/experiments/HMP_most-wanted/Prevotella/LLG_output/checkM/2/checkm/markers_qa_summary.tsv.459</td></tr>\n",
       "\t<tr><td>GCA_902399905.1_UHGG_MGYG-HGUT-03697_genomic</td><td>g__Prevotella (UID2724)   </td><td> 55</td><td>567</td><td>296</td><td>98.14</td><td>1.46</td><td>28.57</td><td>3900702</td><td> 818</td><td>⋯</td><td>7</td><td>553</td><td>7</td><td>0</td><td>0</td><td>0</td><td>|ebio|abt3_projects|software|dev|ll_pipelines|llprimer|experiments|HMP_most-wanted|Prevotella|LLG_output|checkM|2|checkm|markers_qa_summary.tsv.460</td><td>markers_qa_summary.tsv.460</td><td>NA</td><td>/ebio/abt3_projects/software/dev/ll_pipelines/llprimer/experiments/HMP_most-wanted/Prevotella/LLG_output/checkM/2/checkm/markers_qa_summary.tsv.460</td></tr>\n",
       "</tbody>\n",
       "</table>\n"
      ],
      "text/latex": [
       "A data.frame: 921 × 33\n",
       "\\begin{tabular}{lllllllllllllllllllll}\n",
       " Bin.Id & Marker.lineage & X..genomes & X..markers & X..marker.sets & Completeness & Contamination & Strain.heterogeneity & Genome.size..bp. & X..ambiguous.bases & ⋯ & X0 & X1 & X2 & X3 & X4 & X5. & assembly.Id & assembler.Id & taxon.Id & File\\\\\n",
       " <fct> & <fct> & <int> & <int> & <int> & <dbl> & <dbl> & <dbl> & <int> & <int> & ⋯ & <int> & <int> & <int> & <int> & <int> & <int> & <fct> & <fct> & <lgl> & <fct>\\\\\n",
       "\\hline\n",
       "\t GCA\\_000025925.1\\_ASM2592v1\\_genomic  & o\\_\\_Bacteroidales (UID2716) & 92 & 486 & 270 & 99.63 & 0.37 & 100 & 3619559 & 0 & ⋯ & 1 & 484 & 1 & 0 & 0 & 0 & \\textbar{}ebio\\textbar{}abt3\\_projects\\textbar{}software\\textbar{}dev\\textbar{}ll\\_pipelines\\textbar{}llprimer\\textbar{}experiments\\textbar{}HMP\\_most-wanted\\textbar{}Prevotella\\textbar{}LLG\\_output\\textbar{}checkM\\textbar{}1\\textbar{}checkm\\textbar{}markers\\_qa\\_summary.tsv.1 & markers\\_qa\\_summary.tsv.1 & NA & /ebio/abt3\\_projects/software/dev/ll\\_pipelines/llprimer/experiments/HMP\\_most-wanted/Prevotella/LLG\\_output/checkM/1/checkm/markers\\_qa\\_summary.tsv.1\\\\\n",
       "\t GCA\\_000144405.1\\_ASM14440v1\\_genomic & g\\_\\_Prevotella (UID2724)    & 55 & 567 & 296 & 99.32 & 0.00 &   0 & 3168282 & 0 & ⋯ & 2 & 565 & 0 & 0 & 0 & 0 & \\textbar{}ebio\\textbar{}abt3\\_projects\\textbar{}software\\textbar{}dev\\textbar{}ll\\_pipelines\\textbar{}llprimer\\textbar{}experiments\\textbar{}HMP\\_most-wanted\\textbar{}Prevotella\\textbar{}LLG\\_output\\textbar{}checkM\\textbar{}1\\textbar{}checkm\\textbar{}markers\\_qa\\_summary.tsv.2 & markers\\_qa\\_summary.tsv.2 & NA & /ebio/abt3\\_projects/software/dev/ll\\_pipelines/llprimer/experiments/HMP\\_most-wanted/Prevotella/LLG\\_output/checkM/1/checkm/markers\\_qa\\_summary.tsv.2\\\\\n",
       "\t ⋮ & ⋮ & ⋮ & ⋮ & ⋮ & ⋮ & ⋮ & ⋮ & ⋮ & ⋮ & ⋱ & ⋮ & ⋮ & ⋮ & ⋮ & ⋮ & ⋮ & ⋮ & ⋮ & ⋮ & ⋮\\\\\n",
       "\t GCA\\_902386825.1\\_UHGG\\_MGYG-HGUT-02412\\_genomic & o\\_\\_Bacteroidales (UID2657) & 160 & 492 & 269 & 97.58 & 0.00 &  0.00 & 3475353 & 3078 & ⋯ & 7 & 485 & 0 & 0 & 0 & 0 & \\textbar{}ebio\\textbar{}abt3\\_projects\\textbar{}software\\textbar{}dev\\textbar{}ll\\_pipelines\\textbar{}llprimer\\textbar{}experiments\\textbar{}HMP\\_most-wanted\\textbar{}Prevotella\\textbar{}LLG\\_output\\textbar{}checkM\\textbar{}2\\textbar{}checkm\\textbar{}markers\\_qa\\_summary.tsv.459 & markers\\_qa\\_summary.tsv.459 & NA & /ebio/abt3\\_projects/software/dev/ll\\_pipelines/llprimer/experiments/HMP\\_most-wanted/Prevotella/LLG\\_output/checkM/2/checkm/markers\\_qa\\_summary.tsv.459\\\\\n",
       "\t GCA\\_902399905.1\\_UHGG\\_MGYG-HGUT-03697\\_genomic & g\\_\\_Prevotella (UID2724)    &  55 & 567 & 296 & 98.14 & 1.46 & 28.57 & 3900702 &  818 & ⋯ & 7 & 553 & 7 & 0 & 0 & 0 & \\textbar{}ebio\\textbar{}abt3\\_projects\\textbar{}software\\textbar{}dev\\textbar{}ll\\_pipelines\\textbar{}llprimer\\textbar{}experiments\\textbar{}HMP\\_most-wanted\\textbar{}Prevotella\\textbar{}LLG\\_output\\textbar{}checkM\\textbar{}2\\textbar{}checkm\\textbar{}markers\\_qa\\_summary.tsv.460 & markers\\_qa\\_summary.tsv.460 & NA & /ebio/abt3\\_projects/software/dev/ll\\_pipelines/llprimer/experiments/HMP\\_most-wanted/Prevotella/LLG\\_output/checkM/2/checkm/markers\\_qa\\_summary.tsv.460\\\\\n",
       "\\end{tabular}\n"
      ],
      "text/markdown": [
       "\n",
       "A data.frame: 921 × 33\n",
       "\n",
       "| Bin.Id &lt;fct&gt; | Marker.lineage &lt;fct&gt; | X..genomes &lt;int&gt; | X..markers &lt;int&gt; | X..marker.sets &lt;int&gt; | Completeness &lt;dbl&gt; | Contamination &lt;dbl&gt; | Strain.heterogeneity &lt;dbl&gt; | Genome.size..bp. &lt;int&gt; | X..ambiguous.bases &lt;int&gt; | ⋯ ⋯ | X0 &lt;int&gt; | X1 &lt;int&gt; | X2 &lt;int&gt; | X3 &lt;int&gt; | X4 &lt;int&gt; | X5. &lt;int&gt; | assembly.Id &lt;fct&gt; | assembler.Id &lt;fct&gt; | taxon.Id &lt;lgl&gt; | File &lt;fct&gt; |\n",
       "|---|---|---|---|---|---|---|---|---|---|---|---|---|---|---|---|---|---|---|---|---|\n",
       "| GCA_000025925.1_ASM2592v1_genomic  | o__Bacteroidales (UID2716) | 92 | 486 | 270 | 99.63 | 0.37 | 100 | 3619559 | 0 | ⋯ | 1 | 484 | 1 | 0 | 0 | 0 | |ebio|abt3_projects|software|dev|ll_pipelines|llprimer|experiments|HMP_most-wanted|Prevotella|LLG_output|checkM|1|checkm|markers_qa_summary.tsv.1 | markers_qa_summary.tsv.1 | NA | /ebio/abt3_projects/software/dev/ll_pipelines/llprimer/experiments/HMP_most-wanted/Prevotella/LLG_output/checkM/1/checkm/markers_qa_summary.tsv.1 |\n",
       "| GCA_000144405.1_ASM14440v1_genomic | g__Prevotella (UID2724)    | 55 | 567 | 296 | 99.32 | 0.00 |   0 | 3168282 | 0 | ⋯ | 2 | 565 | 0 | 0 | 0 | 0 | |ebio|abt3_projects|software|dev|ll_pipelines|llprimer|experiments|HMP_most-wanted|Prevotella|LLG_output|checkM|1|checkm|markers_qa_summary.tsv.2 | markers_qa_summary.tsv.2 | NA | /ebio/abt3_projects/software/dev/ll_pipelines/llprimer/experiments/HMP_most-wanted/Prevotella/LLG_output/checkM/1/checkm/markers_qa_summary.tsv.2 |\n",
       "| ⋮ | ⋮ | ⋮ | ⋮ | ⋮ | ⋮ | ⋮ | ⋮ | ⋮ | ⋮ | ⋱ | ⋮ | ⋮ | ⋮ | ⋮ | ⋮ | ⋮ | ⋮ | ⋮ | ⋮ | ⋮ |\n",
       "| GCA_902386825.1_UHGG_MGYG-HGUT-02412_genomic | o__Bacteroidales (UID2657) | 160 | 492 | 269 | 97.58 | 0.00 |  0.00 | 3475353 | 3078 | ⋯ | 7 | 485 | 0 | 0 | 0 | 0 | |ebio|abt3_projects|software|dev|ll_pipelines|llprimer|experiments|HMP_most-wanted|Prevotella|LLG_output|checkM|2|checkm|markers_qa_summary.tsv.459 | markers_qa_summary.tsv.459 | NA | /ebio/abt3_projects/software/dev/ll_pipelines/llprimer/experiments/HMP_most-wanted/Prevotella/LLG_output/checkM/2/checkm/markers_qa_summary.tsv.459 |\n",
       "| GCA_902399905.1_UHGG_MGYG-HGUT-03697_genomic | g__Prevotella (UID2724)    |  55 | 567 | 296 | 98.14 | 1.46 | 28.57 | 3900702 |  818 | ⋯ | 7 | 553 | 7 | 0 | 0 | 0 | |ebio|abt3_projects|software|dev|ll_pipelines|llprimer|experiments|HMP_most-wanted|Prevotella|LLG_output|checkM|2|checkm|markers_qa_summary.tsv.460 | markers_qa_summary.tsv.460 | NA | /ebio/abt3_projects/software/dev/ll_pipelines/llprimer/experiments/HMP_most-wanted/Prevotella/LLG_output/checkM/2/checkm/markers_qa_summary.tsv.460 |\n",
       "\n"
      ],
      "text/plain": [
       "    Bin.Id                                       Marker.lineage            \n",
       "1   GCA_000025925.1_ASM2592v1_genomic            o__Bacteroidales (UID2716)\n",
       "2   GCA_000144405.1_ASM14440v1_genomic           g__Prevotella (UID2724)   \n",
       "⋮   ⋮                                            ⋮                         \n",
       "920 GCA_902386825.1_UHGG_MGYG-HGUT-02412_genomic o__Bacteroidales (UID2657)\n",
       "921 GCA_902399905.1_UHGG_MGYG-HGUT-03697_genomic g__Prevotella (UID2724)   \n",
       "    X..genomes X..markers X..marker.sets Completeness Contamination\n",
       "1   92         486        270            99.63        0.37         \n",
       "2   55         567        296            99.32        0.00         \n",
       "⋮   ⋮          ⋮          ⋮              ⋮            ⋮            \n",
       "920 160        492        269            97.58        0.00         \n",
       "921  55        567        296            98.14        1.46         \n",
       "    Strain.heterogeneity Genome.size..bp. X..ambiguous.bases ⋯ X0 X1  X2 X3 X4\n",
       "1   100                  3619559          0                  ⋯ 1  484 1  0  0 \n",
       "2     0                  3168282          0                  ⋯ 2  565 0  0  0 \n",
       "⋮   ⋮                    ⋮                ⋮                  ⋱ ⋮  ⋮   ⋮  ⋮  ⋮ \n",
       "920  0.00                3475353          3078               ⋯ 7  485 0  0  0 \n",
       "921 28.57                3900702           818               ⋯ 7  553 7  0  0 \n",
       "    X5.\n",
       "1   0  \n",
       "2   0  \n",
       "⋮   ⋮  \n",
       "920 0  \n",
       "921 0  \n",
       "    assembly.Id                                                                                                                                        \n",
       "1   |ebio|abt3_projects|software|dev|ll_pipelines|llprimer|experiments|HMP_most-wanted|Prevotella|LLG_output|checkM|1|checkm|markers_qa_summary.tsv.1  \n",
       "2   |ebio|abt3_projects|software|dev|ll_pipelines|llprimer|experiments|HMP_most-wanted|Prevotella|LLG_output|checkM|1|checkm|markers_qa_summary.tsv.2  \n",
       "⋮   ⋮                                                                                                                                                  \n",
       "920 |ebio|abt3_projects|software|dev|ll_pipelines|llprimer|experiments|HMP_most-wanted|Prevotella|LLG_output|checkM|2|checkm|markers_qa_summary.tsv.459\n",
       "921 |ebio|abt3_projects|software|dev|ll_pipelines|llprimer|experiments|HMP_most-wanted|Prevotella|LLG_output|checkM|2|checkm|markers_qa_summary.tsv.460\n",
       "    assembler.Id               taxon.Id\n",
       "1   markers_qa_summary.tsv.1   NA      \n",
       "2   markers_qa_summary.tsv.2   NA      \n",
       "⋮   ⋮                          ⋮       \n",
       "920 markers_qa_summary.tsv.459 NA      \n",
       "921 markers_qa_summary.tsv.460 NA      \n",
       "    File                                                                                                                                               \n",
       "1   /ebio/abt3_projects/software/dev/ll_pipelines/llprimer/experiments/HMP_most-wanted/Prevotella/LLG_output/checkM/1/checkm/markers_qa_summary.tsv.1  \n",
       "2   /ebio/abt3_projects/software/dev/ll_pipelines/llprimer/experiments/HMP_most-wanted/Prevotella/LLG_output/checkM/1/checkm/markers_qa_summary.tsv.2  \n",
       "⋮   ⋮                                                                                                                                                  \n",
       "920 /ebio/abt3_projects/software/dev/ll_pipelines/llprimer/experiments/HMP_most-wanted/Prevotella/LLG_output/checkM/2/checkm/markers_qa_summary.tsv.459\n",
       "921 /ebio/abt3_projects/software/dev/ll_pipelines/llprimer/experiments/HMP_most-wanted/Prevotella/LLG_output/checkM/2/checkm/markers_qa_summary.tsv.460"
      ]
     },
     "metadata": {},
     "output_type": "display_data"
    }
   ],
   "source": [
    "# checkM summary\n",
    "checkm = file.path(work_dir, 'LLG_output', 'checkM', 'checkm_qa_summary.tsv') %>%\n",
    "    read.delim(sep='\\t') \n",
    "checkm"
   ]
  },
  {
   "cell_type": "code",
   "execution_count": 115,
   "metadata": {
    "execution": {
     "iopub.execute_input": "2021-01-26T19:04:32.710886Z",
     "iopub.status.busy": "2021-01-26T19:04:32.708736Z",
     "iopub.status.idle": "2021-01-26T19:04:32.754026Z"
    }
   },
   "outputs": [
    {
     "data": {
      "text/html": [
       "<table>\n",
       "<caption>A data.frame: 921 × 4</caption>\n",
       "<thead>\n",
       "\t<tr><th scope=col>genome</th><th scope=col>completeness</th><th scope=col>contamination</th><th scope=col>Bin.Id</th></tr>\n",
       "\t<tr><th scope=col>&lt;fct&gt;</th><th scope=col>&lt;dbl&gt;</th><th scope=col>&lt;dbl&gt;</th><th scope=col>&lt;chr&gt;</th></tr>\n",
       "</thead>\n",
       "<tbody>\n",
       "\t<tr><td>/ebio/abt3_scratch/nyoungblut/LLG_62325884640/genomes/GCA_000025925.1_ASM2592v1_genomic.fna </td><td>99.63</td><td>0.37</td><td>GCA_000025925.1_ASM2592v1_genomic </td></tr>\n",
       "\t<tr><td>/ebio/abt3_scratch/nyoungblut/LLG_62325884640/genomes/GCA_000144405.1_ASM14440v1_genomic.fna</td><td>99.32</td><td>0.00</td><td>GCA_000144405.1_ASM14440v1_genomic</td></tr>\n",
       "\t<tr><td>⋮</td><td>⋮</td><td>⋮</td><td>⋮</td></tr>\n",
       "\t<tr><td>/ebio/abt3_scratch/nyoungblut/LLG_62325884640/genomes/GCA_902386825.1_UHGG_MGYG-HGUT-02412_genomic.fna</td><td>97.58</td><td>0.00</td><td>GCA_902386825.1_UHGG_MGYG-HGUT-02412_genomic</td></tr>\n",
       "\t<tr><td>/ebio/abt3_scratch/nyoungblut/LLG_62325884640/genomes/GCA_902399905.1_UHGG_MGYG-HGUT-03697_genomic.fna</td><td>98.14</td><td>1.46</td><td>GCA_902399905.1_UHGG_MGYG-HGUT-03697_genomic</td></tr>\n",
       "</tbody>\n",
       "</table>\n"
      ],
      "text/latex": [
       "A data.frame: 921 × 4\n",
       "\\begin{tabular}{llll}\n",
       " genome & completeness & contamination & Bin.Id\\\\\n",
       " <fct> & <dbl> & <dbl> & <chr>\\\\\n",
       "\\hline\n",
       "\t /ebio/abt3\\_scratch/nyoungblut/LLG\\_62325884640/genomes/GCA\\_000025925.1\\_ASM2592v1\\_genomic.fna  & 99.63 & 0.37 & GCA\\_000025925.1\\_ASM2592v1\\_genomic \\\\\n",
       "\t /ebio/abt3\\_scratch/nyoungblut/LLG\\_62325884640/genomes/GCA\\_000144405.1\\_ASM14440v1\\_genomic.fna & 99.32 & 0.00 & GCA\\_000144405.1\\_ASM14440v1\\_genomic\\\\\n",
       "\t ⋮ & ⋮ & ⋮ & ⋮\\\\\n",
       "\t /ebio/abt3\\_scratch/nyoungblut/LLG\\_62325884640/genomes/GCA\\_902386825.1\\_UHGG\\_MGYG-HGUT-02412\\_genomic.fna & 97.58 & 0.00 & GCA\\_902386825.1\\_UHGG\\_MGYG-HGUT-02412\\_genomic\\\\\n",
       "\t /ebio/abt3\\_scratch/nyoungblut/LLG\\_62325884640/genomes/GCA\\_902399905.1\\_UHGG\\_MGYG-HGUT-03697\\_genomic.fna & 98.14 & 1.46 & GCA\\_902399905.1\\_UHGG\\_MGYG-HGUT-03697\\_genomic\\\\\n",
       "\\end{tabular}\n"
      ],
      "text/markdown": [
       "\n",
       "A data.frame: 921 × 4\n",
       "\n",
       "| genome &lt;fct&gt; | completeness &lt;dbl&gt; | contamination &lt;dbl&gt; | Bin.Id &lt;chr&gt; |\n",
       "|---|---|---|---|\n",
       "| /ebio/abt3_scratch/nyoungblut/LLG_62325884640/genomes/GCA_000025925.1_ASM2592v1_genomic.fna  | 99.63 | 0.37 | GCA_000025925.1_ASM2592v1_genomic  |\n",
       "| /ebio/abt3_scratch/nyoungblut/LLG_62325884640/genomes/GCA_000144405.1_ASM14440v1_genomic.fna | 99.32 | 0.00 | GCA_000144405.1_ASM14440v1_genomic |\n",
       "| ⋮ | ⋮ | ⋮ | ⋮ |\n",
       "| /ebio/abt3_scratch/nyoungblut/LLG_62325884640/genomes/GCA_902386825.1_UHGG_MGYG-HGUT-02412_genomic.fna | 97.58 | 0.00 | GCA_902386825.1_UHGG_MGYG-HGUT-02412_genomic |\n",
       "| /ebio/abt3_scratch/nyoungblut/LLG_62325884640/genomes/GCA_902399905.1_UHGG_MGYG-HGUT-03697_genomic.fna | 98.14 | 1.46 | GCA_902399905.1_UHGG_MGYG-HGUT-03697_genomic |\n",
       "\n"
      ],
      "text/plain": [
       "    genome                                                                                                \n",
       "1   /ebio/abt3_scratch/nyoungblut/LLG_62325884640/genomes/GCA_000025925.1_ASM2592v1_genomic.fna           \n",
       "2   /ebio/abt3_scratch/nyoungblut/LLG_62325884640/genomes/GCA_000144405.1_ASM14440v1_genomic.fna          \n",
       "⋮   ⋮                                                                                                     \n",
       "920 /ebio/abt3_scratch/nyoungblut/LLG_62325884640/genomes/GCA_902386825.1_UHGG_MGYG-HGUT-02412_genomic.fna\n",
       "921 /ebio/abt3_scratch/nyoungblut/LLG_62325884640/genomes/GCA_902399905.1_UHGG_MGYG-HGUT-03697_genomic.fna\n",
       "    completeness contamination Bin.Id                                      \n",
       "1   99.63        0.37          GCA_000025925.1_ASM2592v1_genomic           \n",
       "2   99.32        0.00          GCA_000144405.1_ASM14440v1_genomic          \n",
       "⋮   ⋮            ⋮             ⋮                                           \n",
       "920 97.58        0.00          GCA_902386825.1_UHGG_MGYG-HGUT-02412_genomic\n",
       "921 98.14        1.46          GCA_902399905.1_UHGG_MGYG-HGUT-03697_genomic"
      ]
     },
     "metadata": {},
     "output_type": "display_data"
    }
   ],
   "source": [
    "# dRep summary\n",
    "drep = file.path(work_dir, 'LLG_output', 'drep', 'checkm_markers_qa_summary.tsv') %>%\n",
    "    read.delim(sep='\\t') %>%\n",
    "    mutate(Bin.Id = gsub('.+/', '', genome),\n",
    "           Bin.Id = gsub('\\\\.fna$', '', Bin.Id))\n",
    "drep"
   ]
  },
  {
   "cell_type": "code",
   "execution_count": 117,
   "metadata": {
    "execution": {
     "iopub.execute_input": "2021-01-26T19:04:47.512702Z",
     "iopub.status.busy": "2021-01-26T19:04:47.510576Z",
     "iopub.status.idle": "2021-01-26T19:04:47.555864Z"
    }
   },
   "outputs": [
    {
     "data": {
      "text/html": [
       "<table>\n",
       "<caption>A data.frame: 268 × 2</caption>\n",
       "<thead>\n",
       "\t<tr><th scope=col>Name</th><th scope=col>Fasta</th></tr>\n",
       "\t<tr><th scope=col>&lt;fct&gt;</th><th scope=col>&lt;fct&gt;</th></tr>\n",
       "</thead>\n",
       "<tbody>\n",
       "\t<tr><td>GCA_900108325.1_IMG-taxon_2654588202_annotated_assembly_genomic</td><td>/ebio/abt3_projects/software/dev/ll_pipelines/llprimer/experiments/HMP_most-wanted/Prevotella/LLG_output/drep/drep/dereplicated_genomes/GCA_900108325.1_IMG-taxon_2654588202_annotated_assembly_genomic.fna</td></tr>\n",
       "\t<tr><td>GCA_900142525.1_IMG-taxon_2654588175_annotated_assembly_genomic</td><td>/ebio/abt3_projects/software/dev/ll_pipelines/llprimer/experiments/HMP_most-wanted/Prevotella/LLG_output/drep/drep/dereplicated_genomes/GCA_900142525.1_IMG-taxon_2654588175_annotated_assembly_genomic.fna</td></tr>\n",
       "\t<tr><td>⋮</td><td>⋮</td></tr>\n",
       "\t<tr><td>GCA_900106785.1_PRJEB16531_genomic</td><td>/ebio/abt3_projects/software/dev/ll_pipelines/llprimer/experiments/HMP_most-wanted/Prevotella/LLG_output/drep/drep/dereplicated_genomes/GCA_900106785.1_PRJEB16531_genomic.fna</td></tr>\n",
       "\t<tr><td>GCA_000163055.2_ASM16305v2_genomic</td><td>/ebio/abt3_projects/software/dev/ll_pipelines/llprimer/experiments/HMP_most-wanted/Prevotella/LLG_output/drep/drep/dereplicated_genomes/GCA_000163055.2_ASM16305v2_genomic.fna</td></tr>\n",
       "</tbody>\n",
       "</table>\n"
      ],
      "text/latex": [
       "A data.frame: 268 × 2\n",
       "\\begin{tabular}{ll}\n",
       " Name & Fasta\\\\\n",
       " <fct> & <fct>\\\\\n",
       "\\hline\n",
       "\t GCA\\_900108325.1\\_IMG-taxon\\_2654588202\\_annotated\\_assembly\\_genomic & /ebio/abt3\\_projects/software/dev/ll\\_pipelines/llprimer/experiments/HMP\\_most-wanted/Prevotella/LLG\\_output/drep/drep/dereplicated\\_genomes/GCA\\_900108325.1\\_IMG-taxon\\_2654588202\\_annotated\\_assembly\\_genomic.fna\\\\\n",
       "\t GCA\\_900142525.1\\_IMG-taxon\\_2654588175\\_annotated\\_assembly\\_genomic & /ebio/abt3\\_projects/software/dev/ll\\_pipelines/llprimer/experiments/HMP\\_most-wanted/Prevotella/LLG\\_output/drep/drep/dereplicated\\_genomes/GCA\\_900142525.1\\_IMG-taxon\\_2654588175\\_annotated\\_assembly\\_genomic.fna\\\\\n",
       "\t ⋮ & ⋮\\\\\n",
       "\t GCA\\_900106785.1\\_PRJEB16531\\_genomic & /ebio/abt3\\_projects/software/dev/ll\\_pipelines/llprimer/experiments/HMP\\_most-wanted/Prevotella/LLG\\_output/drep/drep/dereplicated\\_genomes/GCA\\_900106785.1\\_PRJEB16531\\_genomic.fna\\\\\n",
       "\t GCA\\_000163055.2\\_ASM16305v2\\_genomic & /ebio/abt3\\_projects/software/dev/ll\\_pipelines/llprimer/experiments/HMP\\_most-wanted/Prevotella/LLG\\_output/drep/drep/dereplicated\\_genomes/GCA\\_000163055.2\\_ASM16305v2\\_genomic.fna\\\\\n",
       "\\end{tabular}\n"
      ],
      "text/markdown": [
       "\n",
       "A data.frame: 268 × 2\n",
       "\n",
       "| Name &lt;fct&gt; | Fasta &lt;fct&gt; |\n",
       "|---|---|\n",
       "| GCA_900108325.1_IMG-taxon_2654588202_annotated_assembly_genomic | /ebio/abt3_projects/software/dev/ll_pipelines/llprimer/experiments/HMP_most-wanted/Prevotella/LLG_output/drep/drep/dereplicated_genomes/GCA_900108325.1_IMG-taxon_2654588202_annotated_assembly_genomic.fna |\n",
       "| GCA_900142525.1_IMG-taxon_2654588175_annotated_assembly_genomic | /ebio/abt3_projects/software/dev/ll_pipelines/llprimer/experiments/HMP_most-wanted/Prevotella/LLG_output/drep/drep/dereplicated_genomes/GCA_900142525.1_IMG-taxon_2654588175_annotated_assembly_genomic.fna |\n",
       "| ⋮ | ⋮ |\n",
       "| GCA_900106785.1_PRJEB16531_genomic | /ebio/abt3_projects/software/dev/ll_pipelines/llprimer/experiments/HMP_most-wanted/Prevotella/LLG_output/drep/drep/dereplicated_genomes/GCA_900106785.1_PRJEB16531_genomic.fna |\n",
       "| GCA_000163055.2_ASM16305v2_genomic | /ebio/abt3_projects/software/dev/ll_pipelines/llprimer/experiments/HMP_most-wanted/Prevotella/LLG_output/drep/drep/dereplicated_genomes/GCA_000163055.2_ASM16305v2_genomic.fna |\n",
       "\n"
      ],
      "text/plain": [
       "    Name                                                           \n",
       "1   GCA_900108325.1_IMG-taxon_2654588202_annotated_assembly_genomic\n",
       "2   GCA_900142525.1_IMG-taxon_2654588175_annotated_assembly_genomic\n",
       "⋮   ⋮                                                              \n",
       "267 GCA_900106785.1_PRJEB16531_genomic                             \n",
       "268 GCA_000163055.2_ASM16305v2_genomic                             \n",
       "    Fasta                                                                                                                                                                                                      \n",
       "1   /ebio/abt3_projects/software/dev/ll_pipelines/llprimer/experiments/HMP_most-wanted/Prevotella/LLG_output/drep/drep/dereplicated_genomes/GCA_900108325.1_IMG-taxon_2654588202_annotated_assembly_genomic.fna\n",
       "2   /ebio/abt3_projects/software/dev/ll_pipelines/llprimer/experiments/HMP_most-wanted/Prevotella/LLG_output/drep/drep/dereplicated_genomes/GCA_900142525.1_IMG-taxon_2654588175_annotated_assembly_genomic.fna\n",
       "⋮   ⋮                                                                                                                                                                                                          \n",
       "267 /ebio/abt3_projects/software/dev/ll_pipelines/llprimer/experiments/HMP_most-wanted/Prevotella/LLG_output/drep/drep/dereplicated_genomes/GCA_900106785.1_PRJEB16531_genomic.fna                             \n",
       "268 /ebio/abt3_projects/software/dev/ll_pipelines/llprimer/experiments/HMP_most-wanted/Prevotella/LLG_output/drep/drep/dereplicated_genomes/GCA_000163055.2_ASM16305v2_genomic.fna                             "
      ]
     },
     "metadata": {},
     "output_type": "display_data"
    }
   ],
   "source": [
    "# de-replicated genomes\n",
    "drep_gen = file.path(work_dir, 'LLG_output', 'drep', 'dereplicated_genomes.tsv') %>%\n",
    "    read.delim(sep='\\t') %>%\n",
    "    filter(!Name %in% to_rm)\n",
    "drep_gen"
   ]
  },
  {
   "cell_type": "code",
   "execution_count": 118,
   "metadata": {
    "execution": {
     "iopub.execute_input": "2021-01-26T19:04:49.703521Z",
     "iopub.status.busy": "2021-01-26T19:04:49.702152Z",
     "iopub.status.idle": "2021-01-26T19:04:50.221471Z"
    }
   },
   "outputs": [
    {
     "data": {
      "text/html": [
       "<table>\n",
       "<caption>A data.frame: 921 × 22</caption>\n",
       "<thead>\n",
       "\t<tr><th scope=col>user_genome</th><th scope=col>Domain</th><th scope=col>Phylum</th><th scope=col>Class</th><th scope=col>Order</th><th scope=col>Family</th><th scope=col>Genus</th><th scope=col>Species</th><th scope=col>fastani_reference</th><th scope=col>fastani_reference_radius</th><th scope=col>⋯</th><th scope=col>fastani_af</th><th scope=col>closest_placement_reference</th><th scope=col>closest_placement_radius</th><th scope=col>closest_placement_taxonomy</th><th scope=col>closest_placement_ani</th><th scope=col>closest_placement_af</th><th scope=col>msa_percent</th><th scope=col>translation_table</th><th scope=col>red_value</th><th scope=col>warnings</th></tr>\n",
       "\t<tr><th scope=col>&lt;fct&gt;</th><th scope=col>&lt;chr&gt;</th><th scope=col>&lt;chr&gt;</th><th scope=col>&lt;chr&gt;</th><th scope=col>&lt;chr&gt;</th><th scope=col>&lt;chr&gt;</th><th scope=col>&lt;chr&gt;</th><th scope=col>&lt;chr&gt;</th><th scope=col>&lt;fct&gt;</th><th scope=col>&lt;fct&gt;</th><th scope=col>⋯</th><th scope=col>&lt;fct&gt;</th><th scope=col>&lt;fct&gt;</th><th scope=col>&lt;fct&gt;</th><th scope=col>&lt;fct&gt;</th><th scope=col>&lt;fct&gt;</th><th scope=col>&lt;fct&gt;</th><th scope=col>&lt;dbl&gt;</th><th scope=col>&lt;int&gt;</th><th scope=col>&lt;fct&gt;</th><th scope=col>&lt;fct&gt;</th></tr>\n",
       "</thead>\n",
       "<tbody>\n",
       "\t<tr><td>GCA_000025925.1_ASM2592v1_genomic </td><td>d__Bacteria</td><td>p__Bacteroidota</td><td>c__Bacteroidia</td><td>o__Bacteroidales</td><td>f__Bacteroidaceae</td><td>g__Prevotella</td><td>s__Prevotella ruminicola    </td><td>GCF_000025925.1</td><td>95.0</td><td>⋯</td><td>1.0</td><td>GCF_000025925.1</td><td>95.0</td><td>d__Bacteria;p__Bacteroidota;c__Bacteroidia;o__Bacteroidales;f__Bacteroidaceae;g__Prevotella;s__Prevotella ruminicola    </td><td>100.0</td><td>1.0</td><td>96.11</td><td>11</td><td>N/A</td><td>N/A</td></tr>\n",
       "\t<tr><td>GCA_000144405.1_ASM14440v1_genomic</td><td>d__Bacteria</td><td>p__Bacteroidota</td><td>c__Bacteroidia</td><td>o__Bacteroidales</td><td>f__Bacteroidaceae</td><td>g__Prevotella</td><td>s__Prevotella melaninogenica</td><td>GCF_000144405.1</td><td>95.0</td><td>⋯</td><td>1.0</td><td>GCF_000144405.1</td><td>95.0</td><td>d__Bacteria;p__Bacteroidota;c__Bacteroidia;o__Bacteroidales;f__Bacteroidaceae;g__Prevotella;s__Prevotella melaninogenica</td><td>100.0</td><td>1.0</td><td>96.83</td><td>11</td><td>N/A</td><td>N/A</td></tr>\n",
       "\t<tr><td>⋮</td><td>⋮</td><td>⋮</td><td>⋮</td><td>⋮</td><td>⋮</td><td>⋮</td><td>⋮</td><td>⋮</td><td>⋮</td><td>⋱</td><td>⋮</td><td>⋮</td><td>⋮</td><td>⋮</td><td>⋮</td><td>⋮</td><td>⋮</td><td>⋮</td><td>⋮</td><td>⋮</td></tr>\n",
       "\t<tr><td>GCA_902386825.1_UHGG_MGYG-HGUT-02412_genomic</td><td>d__Bacteria</td><td>p__Bacteroidota</td><td>c__Bacteroidia</td><td>o__Bacteroidales</td><td>f__Bacteroidaceae</td><td>g__Prevotellamassilia</td><td>s__Prevotellamassilia timonensis</td><td>GCF_900106785.1</td><td>95.0</td><td>⋯</td><td>0.99</td><td>GCF_900106785.1</td><td>95.0</td><td>d__Bacteria;p__Bacteroidota;c__Bacteroidia;o__Bacteroidales;f__Bacteroidaceae;g__Prevotellamassilia;s__Prevotellamassilia timonensis</td><td>100.0</td><td>0.99</td><td>96.09</td><td>11</td><td>N/A</td><td>N/A</td></tr>\n",
       "\t<tr><td>GCA_902399905.1_UHGG_MGYG-HGUT-03697_genomic</td><td>d__Bacteria</td><td>p__Bacteroidota</td><td>c__Bacteroidia</td><td>o__Bacteroidales</td><td>f__Bacteroidaceae</td><td>g__Prevotella        </td><td>s__Prevotella copri_A           </td><td>GCF_002224675.1</td><td>95.0</td><td>⋯</td><td>0.75</td><td>GCF_002224675.1</td><td>95.0</td><td>d__Bacteria;p__Bacteroidota;c__Bacteroidia;o__Bacteroidales;f__Bacteroidaceae;g__Prevotella;s__Prevotella copri_A                   </td><td>96.12</td><td>0.75</td><td>96.07</td><td>11</td><td>N/A</td><td>N/A</td></tr>\n",
       "</tbody>\n",
       "</table>\n"
      ],
      "text/latex": [
       "A data.frame: 921 × 22\n",
       "\\begin{tabular}{lllllllllllllllllllll}\n",
       " user\\_genome & Domain & Phylum & Class & Order & Family & Genus & Species & fastani\\_reference & fastani\\_reference\\_radius & ⋯ & fastani\\_af & closest\\_placement\\_reference & closest\\_placement\\_radius & closest\\_placement\\_taxonomy & closest\\_placement\\_ani & closest\\_placement\\_af & msa\\_percent & translation\\_table & red\\_value & warnings\\\\\n",
       " <fct> & <chr> & <chr> & <chr> & <chr> & <chr> & <chr> & <chr> & <fct> & <fct> & ⋯ & <fct> & <fct> & <fct> & <fct> & <fct> & <fct> & <dbl> & <int> & <fct> & <fct>\\\\\n",
       "\\hline\n",
       "\t GCA\\_000025925.1\\_ASM2592v1\\_genomic  & d\\_\\_Bacteria & p\\_\\_Bacteroidota & c\\_\\_Bacteroidia & o\\_\\_Bacteroidales & f\\_\\_Bacteroidaceae & g\\_\\_Prevotella & s\\_\\_Prevotella ruminicola     & GCF\\_000025925.1 & 95.0 & ⋯ & 1.0 & GCF\\_000025925.1 & 95.0 & d\\_\\_Bacteria;p\\_\\_Bacteroidota;c\\_\\_Bacteroidia;o\\_\\_Bacteroidales;f\\_\\_Bacteroidaceae;g\\_\\_Prevotella;s\\_\\_Prevotella ruminicola     & 100.0 & 1.0 & 96.11 & 11 & N/A & N/A\\\\\n",
       "\t GCA\\_000144405.1\\_ASM14440v1\\_genomic & d\\_\\_Bacteria & p\\_\\_Bacteroidota & c\\_\\_Bacteroidia & o\\_\\_Bacteroidales & f\\_\\_Bacteroidaceae & g\\_\\_Prevotella & s\\_\\_Prevotella melaninogenica & GCF\\_000144405.1 & 95.0 & ⋯ & 1.0 & GCF\\_000144405.1 & 95.0 & d\\_\\_Bacteria;p\\_\\_Bacteroidota;c\\_\\_Bacteroidia;o\\_\\_Bacteroidales;f\\_\\_Bacteroidaceae;g\\_\\_Prevotella;s\\_\\_Prevotella melaninogenica & 100.0 & 1.0 & 96.83 & 11 & N/A & N/A\\\\\n",
       "\t ⋮ & ⋮ & ⋮ & ⋮ & ⋮ & ⋮ & ⋮ & ⋮ & ⋮ & ⋮ & ⋱ & ⋮ & ⋮ & ⋮ & ⋮ & ⋮ & ⋮ & ⋮ & ⋮ & ⋮ & ⋮\\\\\n",
       "\t GCA\\_902386825.1\\_UHGG\\_MGYG-HGUT-02412\\_genomic & d\\_\\_Bacteria & p\\_\\_Bacteroidota & c\\_\\_Bacteroidia & o\\_\\_Bacteroidales & f\\_\\_Bacteroidaceae & g\\_\\_Prevotellamassilia & s\\_\\_Prevotellamassilia timonensis & GCF\\_900106785.1 & 95.0 & ⋯ & 0.99 & GCF\\_900106785.1 & 95.0 & d\\_\\_Bacteria;p\\_\\_Bacteroidota;c\\_\\_Bacteroidia;o\\_\\_Bacteroidales;f\\_\\_Bacteroidaceae;g\\_\\_Prevotellamassilia;s\\_\\_Prevotellamassilia timonensis & 100.0 & 0.99 & 96.09 & 11 & N/A & N/A\\\\\n",
       "\t GCA\\_902399905.1\\_UHGG\\_MGYG-HGUT-03697\\_genomic & d\\_\\_Bacteria & p\\_\\_Bacteroidota & c\\_\\_Bacteroidia & o\\_\\_Bacteroidales & f\\_\\_Bacteroidaceae & g\\_\\_Prevotella         & s\\_\\_Prevotella copri\\_A            & GCF\\_002224675.1 & 95.0 & ⋯ & 0.75 & GCF\\_002224675.1 & 95.0 & d\\_\\_Bacteria;p\\_\\_Bacteroidota;c\\_\\_Bacteroidia;o\\_\\_Bacteroidales;f\\_\\_Bacteroidaceae;g\\_\\_Prevotella;s\\_\\_Prevotella copri\\_A                    & 96.12 & 0.75 & 96.07 & 11 & N/A & N/A\\\\\n",
       "\\end{tabular}\n"
      ],
      "text/markdown": [
       "\n",
       "A data.frame: 921 × 22\n",
       "\n",
       "| user_genome &lt;fct&gt; | Domain &lt;chr&gt; | Phylum &lt;chr&gt; | Class &lt;chr&gt; | Order &lt;chr&gt; | Family &lt;chr&gt; | Genus &lt;chr&gt; | Species &lt;chr&gt; | fastani_reference &lt;fct&gt; | fastani_reference_radius &lt;fct&gt; | ⋯ ⋯ | fastani_af &lt;fct&gt; | closest_placement_reference &lt;fct&gt; | closest_placement_radius &lt;fct&gt; | closest_placement_taxonomy &lt;fct&gt; | closest_placement_ani &lt;fct&gt; | closest_placement_af &lt;fct&gt; | msa_percent &lt;dbl&gt; | translation_table &lt;int&gt; | red_value &lt;fct&gt; | warnings &lt;fct&gt; |\n",
       "|---|---|---|---|---|---|---|---|---|---|---|---|---|---|---|---|---|---|---|---|---|\n",
       "| GCA_000025925.1_ASM2592v1_genomic  | d__Bacteria | p__Bacteroidota | c__Bacteroidia | o__Bacteroidales | f__Bacteroidaceae | g__Prevotella | s__Prevotella ruminicola     | GCF_000025925.1 | 95.0 | ⋯ | 1.0 | GCF_000025925.1 | 95.0 | d__Bacteria;p__Bacteroidota;c__Bacteroidia;o__Bacteroidales;f__Bacteroidaceae;g__Prevotella;s__Prevotella ruminicola     | 100.0 | 1.0 | 96.11 | 11 | N/A | N/A |\n",
       "| GCA_000144405.1_ASM14440v1_genomic | d__Bacteria | p__Bacteroidota | c__Bacteroidia | o__Bacteroidales | f__Bacteroidaceae | g__Prevotella | s__Prevotella melaninogenica | GCF_000144405.1 | 95.0 | ⋯ | 1.0 | GCF_000144405.1 | 95.0 | d__Bacteria;p__Bacteroidota;c__Bacteroidia;o__Bacteroidales;f__Bacteroidaceae;g__Prevotella;s__Prevotella melaninogenica | 100.0 | 1.0 | 96.83 | 11 | N/A | N/A |\n",
       "| ⋮ | ⋮ | ⋮ | ⋮ | ⋮ | ⋮ | ⋮ | ⋮ | ⋮ | ⋮ | ⋱ | ⋮ | ⋮ | ⋮ | ⋮ | ⋮ | ⋮ | ⋮ | ⋮ | ⋮ | ⋮ |\n",
       "| GCA_902386825.1_UHGG_MGYG-HGUT-02412_genomic | d__Bacteria | p__Bacteroidota | c__Bacteroidia | o__Bacteroidales | f__Bacteroidaceae | g__Prevotellamassilia | s__Prevotellamassilia timonensis | GCF_900106785.1 | 95.0 | ⋯ | 0.99 | GCF_900106785.1 | 95.0 | d__Bacteria;p__Bacteroidota;c__Bacteroidia;o__Bacteroidales;f__Bacteroidaceae;g__Prevotellamassilia;s__Prevotellamassilia timonensis | 100.0 | 0.99 | 96.09 | 11 | N/A | N/A |\n",
       "| GCA_902399905.1_UHGG_MGYG-HGUT-03697_genomic | d__Bacteria | p__Bacteroidota | c__Bacteroidia | o__Bacteroidales | f__Bacteroidaceae | g__Prevotella         | s__Prevotella copri_A            | GCF_002224675.1 | 95.0 | ⋯ | 0.75 | GCF_002224675.1 | 95.0 | d__Bacteria;p__Bacteroidota;c__Bacteroidia;o__Bacteroidales;f__Bacteroidaceae;g__Prevotella;s__Prevotella copri_A                    | 96.12 | 0.75 | 96.07 | 11 | N/A | N/A |\n",
       "\n"
      ],
      "text/plain": [
       "    user_genome                                  Domain      Phylum         \n",
       "1   GCA_000025925.1_ASM2592v1_genomic            d__Bacteria p__Bacteroidota\n",
       "2   GCA_000144405.1_ASM14440v1_genomic           d__Bacteria p__Bacteroidota\n",
       "⋮   ⋮                                            ⋮           ⋮              \n",
       "920 GCA_902386825.1_UHGG_MGYG-HGUT-02412_genomic d__Bacteria p__Bacteroidota\n",
       "921 GCA_902399905.1_UHGG_MGYG-HGUT-03697_genomic d__Bacteria p__Bacteroidota\n",
       "    Class          Order            Family            Genus                \n",
       "1   c__Bacteroidia o__Bacteroidales f__Bacteroidaceae g__Prevotella        \n",
       "2   c__Bacteroidia o__Bacteroidales f__Bacteroidaceae g__Prevotella        \n",
       "⋮   ⋮              ⋮                ⋮                 ⋮                    \n",
       "920 c__Bacteroidia o__Bacteroidales f__Bacteroidaceae g__Prevotellamassilia\n",
       "921 c__Bacteroidia o__Bacteroidales f__Bacteroidaceae g__Prevotella        \n",
       "    Species                          fastani_reference fastani_reference_radius\n",
       "1   s__Prevotella ruminicola         GCF_000025925.1   95.0                    \n",
       "2   s__Prevotella melaninogenica     GCF_000144405.1   95.0                    \n",
       "⋮   ⋮                                ⋮                 ⋮                       \n",
       "920 s__Prevotellamassilia timonensis GCF_900106785.1   95.0                    \n",
       "921 s__Prevotella copri_A            GCF_002224675.1   95.0                    \n",
       "    ⋯ fastani_af closest_placement_reference closest_placement_radius\n",
       "1   ⋯ 1.0        GCF_000025925.1             95.0                    \n",
       "2   ⋯ 1.0        GCF_000144405.1             95.0                    \n",
       "⋮   ⋱ ⋮          ⋮                           ⋮                       \n",
       "920 ⋯ 0.99       GCF_900106785.1             95.0                    \n",
       "921 ⋯ 0.75       GCF_002224675.1             95.0                    \n",
       "    closest_placement_taxonomy                                                                                                          \n",
       "1   d__Bacteria;p__Bacteroidota;c__Bacteroidia;o__Bacteroidales;f__Bacteroidaceae;g__Prevotella;s__Prevotella ruminicola                \n",
       "2   d__Bacteria;p__Bacteroidota;c__Bacteroidia;o__Bacteroidales;f__Bacteroidaceae;g__Prevotella;s__Prevotella melaninogenica            \n",
       "⋮   ⋮                                                                                                                                   \n",
       "920 d__Bacteria;p__Bacteroidota;c__Bacteroidia;o__Bacteroidales;f__Bacteroidaceae;g__Prevotellamassilia;s__Prevotellamassilia timonensis\n",
       "921 d__Bacteria;p__Bacteroidota;c__Bacteroidia;o__Bacteroidales;f__Bacteroidaceae;g__Prevotella;s__Prevotella copri_A                   \n",
       "    closest_placement_ani closest_placement_af msa_percent translation_table\n",
       "1   100.0                 1.0                  96.11       11               \n",
       "2   100.0                 1.0                  96.83       11               \n",
       "⋮   ⋮                     ⋮                    ⋮           ⋮                \n",
       "920 100.0                 0.99                 96.09       11               \n",
       "921 96.12                 0.75                 96.07       11               \n",
       "    red_value warnings\n",
       "1   N/A       N/A     \n",
       "2   N/A       N/A     \n",
       "⋮   ⋮         ⋮       \n",
       "920 N/A       N/A     \n",
       "921 N/A       N/A     "
      ]
     },
     "metadata": {},
     "output_type": "display_data"
    }
   ],
   "source": [
    "# GTDBTk summary\n",
    "tax = file.path(work_dir, 'LLG_output', 'gtdbtk', 'gtdbtk_bac_summary.tsv') %>%\n",
    "    read.delim(, sep='\\t') %>%\n",
    "    separate(classification, \n",
    "             c('Domain', 'Phylum', 'Class', 'Order', 'Family', 'Genus', 'Species'),\n",
    "             sep=';') %>%\n",
    "    select(-note, -classification_method, -pplacer_taxonomy,\n",
    "           -other_related_references.genome_id.species_name.radius.ANI.AF.)\n",
    "tax"
   ]
  },
  {
   "cell_type": "code",
   "execution_count": 119,
   "metadata": {
    "execution": {
     "iopub.execute_input": "2021-01-26T19:04:51.849992Z",
     "iopub.status.busy": "2021-01-26T19:04:51.847928Z",
     "iopub.status.idle": "2021-01-26T19:04:51.882544Z"
    }
   },
   "outputs": [
    {
     "name": "stdout",
     "output_type": "stream",
     "text": [
      "-- drep --\n",
      "intersect(x,y): 268 \n",
      "setdiff(x,y): 0 \n",
      "setdiff(y,x): 653 \n",
      "union(x,y): 921 \n",
      "-- checkm --\n",
      "intersect(x,y): 921 \n",
      "setdiff(x,y): 0 \n",
      "setdiff(y,x): 0 \n",
      "union(x,y): 921 \n",
      "-- gtdbtk --\n",
      "intersect(x,y): 921 \n",
      "setdiff(x,y): 0 \n",
      "setdiff(y,x): 0 \n",
      "union(x,y): 921 \n"
     ]
    }
   ],
   "source": [
    "# checking overlap\n",
    "cat('-- drep --\\n')\n",
    "overlap(basename(as.character(drep_gen$Fasta)), \n",
    "        basename(as.character(drep$genome)))\n",
    "cat('-- checkm --\\n')\n",
    "overlap(drep$Bin.Id, checkm$Bin.Id)\n",
    "cat('-- gtdbtk --\\n')\n",
    "overlap(drep$Bin.Id, tax$user_genome)"
   ]
  },
  {
   "cell_type": "code",
   "execution_count": 120,
   "metadata": {
    "execution": {
     "iopub.execute_input": "2021-01-26T19:04:53.088675Z",
     "iopub.status.busy": "2021-01-26T19:04:53.086696Z",
     "iopub.status.idle": "2021-01-26T19:04:53.165441Z"
    }
   },
   "outputs": [
    {
     "data": {
      "text/html": [
       "<table>\n",
       "<caption>A data.frame: 268 × 60</caption>\n",
       "<thead>\n",
       "\t<tr><th scope=col>genome</th><th scope=col>completeness</th><th scope=col>contamination</th><th scope=col>Bin.Id</th><th scope=col>Marker.lineage</th><th scope=col>X..genomes</th><th scope=col>X..markers</th><th scope=col>X..marker.sets</th><th scope=col>Completeness</th><th scope=col>Contamination</th><th scope=col>⋯</th><th scope=col>fastani_af</th><th scope=col>closest_placement_reference</th><th scope=col>closest_placement_radius</th><th scope=col>closest_placement_taxonomy</th><th scope=col>closest_placement_ani</th><th scope=col>closest_placement_af</th><th scope=col>msa_percent</th><th scope=col>translation_table</th><th scope=col>red_value</th><th scope=col>warnings</th></tr>\n",
       "\t<tr><th scope=col>&lt;fct&gt;</th><th scope=col>&lt;dbl&gt;</th><th scope=col>&lt;dbl&gt;</th><th scope=col>&lt;chr&gt;</th><th scope=col>&lt;fct&gt;</th><th scope=col>&lt;int&gt;</th><th scope=col>&lt;int&gt;</th><th scope=col>&lt;int&gt;</th><th scope=col>&lt;dbl&gt;</th><th scope=col>&lt;dbl&gt;</th><th scope=col>⋯</th><th scope=col>&lt;fct&gt;</th><th scope=col>&lt;fct&gt;</th><th scope=col>&lt;fct&gt;</th><th scope=col>&lt;fct&gt;</th><th scope=col>&lt;fct&gt;</th><th scope=col>&lt;fct&gt;</th><th scope=col>&lt;dbl&gt;</th><th scope=col>&lt;int&gt;</th><th scope=col>&lt;fct&gt;</th><th scope=col>&lt;fct&gt;</th></tr>\n",
       "</thead>\n",
       "<tbody>\n",
       "\t<tr><td>/ebio/abt3_scratch/nyoungblut/LLG_62325884640/genomes/GCA_000025925.1_ASM2592v1_genomic.fna </td><td>99.63</td><td>0.37</td><td>GCA_000025925.1_ASM2592v1_genomic </td><td>o__Bacteroidales (UID2716)</td><td>92</td><td>486</td><td>270</td><td>99.63</td><td>0.37</td><td>⋯</td><td>1.0</td><td>GCF_000025925.1</td><td>95.0</td><td>d__Bacteria;p__Bacteroidota;c__Bacteroidia;o__Bacteroidales;f__Bacteroidaceae;g__Prevotella;s__Prevotella ruminicola    </td><td>100.0</td><td>1.0</td><td>96.11</td><td>11</td><td>N/A</td><td>N/A</td></tr>\n",
       "\t<tr><td>/ebio/abt3_scratch/nyoungblut/LLG_62325884640/genomes/GCA_000144405.1_ASM14440v1_genomic.fna</td><td>99.32</td><td>0.00</td><td>GCA_000144405.1_ASM14440v1_genomic</td><td>g__Prevotella (UID2724)   </td><td>55</td><td>567</td><td>296</td><td>99.32</td><td>0.00</td><td>⋯</td><td>1.0</td><td>GCF_000144405.1</td><td>95.0</td><td>d__Bacteria;p__Bacteroidota;c__Bacteroidia;o__Bacteroidales;f__Bacteroidaceae;g__Prevotella;s__Prevotella melaninogenica</td><td>100.0</td><td>1.0</td><td>96.83</td><td>11</td><td>N/A</td><td>N/A</td></tr>\n",
       "\t<tr><td>⋮</td><td>⋮</td><td>⋮</td><td>⋮</td><td>⋮</td><td>⋮</td><td>⋮</td><td>⋮</td><td>⋮</td><td>⋮</td><td>⋱</td><td>⋮</td><td>⋮</td><td>⋮</td><td>⋮</td><td>⋮</td><td>⋮</td><td>⋮</td><td>⋮</td><td>⋮</td><td>⋮</td></tr>\n",
       "\t<tr><td>/ebio/abt3_scratch/nyoungblut/LLG_62325884640/genomes/GCA_900607215.1_PRJEB27263_genomic.fna</td><td>98.65</td><td>0.16</td><td>GCA_900607215.1_PRJEB27263_genomic</td><td>g__Prevotella (UID2724)</td><td>55</td><td>567</td><td>296</td><td>98.65</td><td>0.16</td><td>⋯</td><td>1.0</td><td>GCF_900607215.1</td><td>95.0</td><td>d__Bacteria;p__Bacteroidota;c__Bacteroidia;o__Bacteroidales;f__Bacteroidaceae;g__Prevotella;s__Prevotella sp900607215</td><td>100.0</td><td>1.0</td><td>96.09</td><td>11</td><td>N/A</td><td>N/A</td></tr>\n",
       "\t<tr><td>/ebio/abt3_scratch/nyoungblut/LLG_62325884640/genomes/GCA_900637655.1_52295_B01_genomic.fna </td><td>99.32</td><td>0.34</td><td>GCA_900637655.1_52295_B01_genomic </td><td>g__Prevotella (UID2724)</td><td>55</td><td>567</td><td>296</td><td>99.32</td><td>0.34</td><td>⋯</td><td>1.0</td><td>GCF_900637655.1</td><td>95.0</td><td>d__Bacteria;p__Bacteroidota;c__Bacteroidia;o__Bacteroidales;f__Bacteroidaceae;g__Prevotella;s__Prevotella oris       </td><td>100.0</td><td>1.0</td><td>98.00</td><td>11</td><td>N/A</td><td>N/A</td></tr>\n",
       "</tbody>\n",
       "</table>\n"
      ],
      "text/latex": [
       "A data.frame: 268 × 60\n",
       "\\begin{tabular}{lllllllllllllllllllll}\n",
       " genome & completeness & contamination & Bin.Id & Marker.lineage & X..genomes & X..markers & X..marker.sets & Completeness & Contamination & ⋯ & fastani\\_af & closest\\_placement\\_reference & closest\\_placement\\_radius & closest\\_placement\\_taxonomy & closest\\_placement\\_ani & closest\\_placement\\_af & msa\\_percent & translation\\_table & red\\_value & warnings\\\\\n",
       " <fct> & <dbl> & <dbl> & <chr> & <fct> & <int> & <int> & <int> & <dbl> & <dbl> & ⋯ & <fct> & <fct> & <fct> & <fct> & <fct> & <fct> & <dbl> & <int> & <fct> & <fct>\\\\\n",
       "\\hline\n",
       "\t /ebio/abt3\\_scratch/nyoungblut/LLG\\_62325884640/genomes/GCA\\_000025925.1\\_ASM2592v1\\_genomic.fna  & 99.63 & 0.37 & GCA\\_000025925.1\\_ASM2592v1\\_genomic  & o\\_\\_Bacteroidales (UID2716) & 92 & 486 & 270 & 99.63 & 0.37 & ⋯ & 1.0 & GCF\\_000025925.1 & 95.0 & d\\_\\_Bacteria;p\\_\\_Bacteroidota;c\\_\\_Bacteroidia;o\\_\\_Bacteroidales;f\\_\\_Bacteroidaceae;g\\_\\_Prevotella;s\\_\\_Prevotella ruminicola     & 100.0 & 1.0 & 96.11 & 11 & N/A & N/A\\\\\n",
       "\t /ebio/abt3\\_scratch/nyoungblut/LLG\\_62325884640/genomes/GCA\\_000144405.1\\_ASM14440v1\\_genomic.fna & 99.32 & 0.00 & GCA\\_000144405.1\\_ASM14440v1\\_genomic & g\\_\\_Prevotella (UID2724)    & 55 & 567 & 296 & 99.32 & 0.00 & ⋯ & 1.0 & GCF\\_000144405.1 & 95.0 & d\\_\\_Bacteria;p\\_\\_Bacteroidota;c\\_\\_Bacteroidia;o\\_\\_Bacteroidales;f\\_\\_Bacteroidaceae;g\\_\\_Prevotella;s\\_\\_Prevotella melaninogenica & 100.0 & 1.0 & 96.83 & 11 & N/A & N/A\\\\\n",
       "\t ⋮ & ⋮ & ⋮ & ⋮ & ⋮ & ⋮ & ⋮ & ⋮ & ⋮ & ⋮ & ⋱ & ⋮ & ⋮ & ⋮ & ⋮ & ⋮ & ⋮ & ⋮ & ⋮ & ⋮ & ⋮\\\\\n",
       "\t /ebio/abt3\\_scratch/nyoungblut/LLG\\_62325884640/genomes/GCA\\_900607215.1\\_PRJEB27263\\_genomic.fna & 98.65 & 0.16 & GCA\\_900607215.1\\_PRJEB27263\\_genomic & g\\_\\_Prevotella (UID2724) & 55 & 567 & 296 & 98.65 & 0.16 & ⋯ & 1.0 & GCF\\_900607215.1 & 95.0 & d\\_\\_Bacteria;p\\_\\_Bacteroidota;c\\_\\_Bacteroidia;o\\_\\_Bacteroidales;f\\_\\_Bacteroidaceae;g\\_\\_Prevotella;s\\_\\_Prevotella sp900607215 & 100.0 & 1.0 & 96.09 & 11 & N/A & N/A\\\\\n",
       "\t /ebio/abt3\\_scratch/nyoungblut/LLG\\_62325884640/genomes/GCA\\_900637655.1\\_52295\\_B01\\_genomic.fna  & 99.32 & 0.34 & GCA\\_900637655.1\\_52295\\_B01\\_genomic  & g\\_\\_Prevotella (UID2724) & 55 & 567 & 296 & 99.32 & 0.34 & ⋯ & 1.0 & GCF\\_900637655.1 & 95.0 & d\\_\\_Bacteria;p\\_\\_Bacteroidota;c\\_\\_Bacteroidia;o\\_\\_Bacteroidales;f\\_\\_Bacteroidaceae;g\\_\\_Prevotella;s\\_\\_Prevotella oris        & 100.0 & 1.0 & 98.00 & 11 & N/A & N/A\\\\\n",
       "\\end{tabular}\n"
      ],
      "text/markdown": [
       "\n",
       "A data.frame: 268 × 60\n",
       "\n",
       "| genome &lt;fct&gt; | completeness &lt;dbl&gt; | contamination &lt;dbl&gt; | Bin.Id &lt;chr&gt; | Marker.lineage &lt;fct&gt; | X..genomes &lt;int&gt; | X..markers &lt;int&gt; | X..marker.sets &lt;int&gt; | Completeness &lt;dbl&gt; | Contamination &lt;dbl&gt; | ⋯ ⋯ | fastani_af &lt;fct&gt; | closest_placement_reference &lt;fct&gt; | closest_placement_radius &lt;fct&gt; | closest_placement_taxonomy &lt;fct&gt; | closest_placement_ani &lt;fct&gt; | closest_placement_af &lt;fct&gt; | msa_percent &lt;dbl&gt; | translation_table &lt;int&gt; | red_value &lt;fct&gt; | warnings &lt;fct&gt; |\n",
       "|---|---|---|---|---|---|---|---|---|---|---|---|---|---|---|---|---|---|---|---|---|\n",
       "| /ebio/abt3_scratch/nyoungblut/LLG_62325884640/genomes/GCA_000025925.1_ASM2592v1_genomic.fna  | 99.63 | 0.37 | GCA_000025925.1_ASM2592v1_genomic  | o__Bacteroidales (UID2716) | 92 | 486 | 270 | 99.63 | 0.37 | ⋯ | 1.0 | GCF_000025925.1 | 95.0 | d__Bacteria;p__Bacteroidota;c__Bacteroidia;o__Bacteroidales;f__Bacteroidaceae;g__Prevotella;s__Prevotella ruminicola     | 100.0 | 1.0 | 96.11 | 11 | N/A | N/A |\n",
       "| /ebio/abt3_scratch/nyoungblut/LLG_62325884640/genomes/GCA_000144405.1_ASM14440v1_genomic.fna | 99.32 | 0.00 | GCA_000144405.1_ASM14440v1_genomic | g__Prevotella (UID2724)    | 55 | 567 | 296 | 99.32 | 0.00 | ⋯ | 1.0 | GCF_000144405.1 | 95.0 | d__Bacteria;p__Bacteroidota;c__Bacteroidia;o__Bacteroidales;f__Bacteroidaceae;g__Prevotella;s__Prevotella melaninogenica | 100.0 | 1.0 | 96.83 | 11 | N/A | N/A |\n",
       "| ⋮ | ⋮ | ⋮ | ⋮ | ⋮ | ⋮ | ⋮ | ⋮ | ⋮ | ⋮ | ⋱ | ⋮ | ⋮ | ⋮ | ⋮ | ⋮ | ⋮ | ⋮ | ⋮ | ⋮ | ⋮ |\n",
       "| /ebio/abt3_scratch/nyoungblut/LLG_62325884640/genomes/GCA_900607215.1_PRJEB27263_genomic.fna | 98.65 | 0.16 | GCA_900607215.1_PRJEB27263_genomic | g__Prevotella (UID2724) | 55 | 567 | 296 | 98.65 | 0.16 | ⋯ | 1.0 | GCF_900607215.1 | 95.0 | d__Bacteria;p__Bacteroidota;c__Bacteroidia;o__Bacteroidales;f__Bacteroidaceae;g__Prevotella;s__Prevotella sp900607215 | 100.0 | 1.0 | 96.09 | 11 | N/A | N/A |\n",
       "| /ebio/abt3_scratch/nyoungblut/LLG_62325884640/genomes/GCA_900637655.1_52295_B01_genomic.fna  | 99.32 | 0.34 | GCA_900637655.1_52295_B01_genomic  | g__Prevotella (UID2724) | 55 | 567 | 296 | 99.32 | 0.34 | ⋯ | 1.0 | GCF_900637655.1 | 95.0 | d__Bacteria;p__Bacteroidota;c__Bacteroidia;o__Bacteroidales;f__Bacteroidaceae;g__Prevotella;s__Prevotella oris        | 100.0 | 1.0 | 98.00 | 11 | N/A | N/A |\n",
       "\n"
      ],
      "text/plain": [
       "    genome                                                                                      \n",
       "1   /ebio/abt3_scratch/nyoungblut/LLG_62325884640/genomes/GCA_000025925.1_ASM2592v1_genomic.fna \n",
       "2   /ebio/abt3_scratch/nyoungblut/LLG_62325884640/genomes/GCA_000144405.1_ASM14440v1_genomic.fna\n",
       "⋮   ⋮                                                                                           \n",
       "267 /ebio/abt3_scratch/nyoungblut/LLG_62325884640/genomes/GCA_900607215.1_PRJEB27263_genomic.fna\n",
       "268 /ebio/abt3_scratch/nyoungblut/LLG_62325884640/genomes/GCA_900637655.1_52295_B01_genomic.fna \n",
       "    completeness contamination Bin.Id                            \n",
       "1   99.63        0.37          GCA_000025925.1_ASM2592v1_genomic \n",
       "2   99.32        0.00          GCA_000144405.1_ASM14440v1_genomic\n",
       "⋮   ⋮            ⋮             ⋮                                 \n",
       "267 98.65        0.16          GCA_900607215.1_PRJEB27263_genomic\n",
       "268 99.32        0.34          GCA_900637655.1_52295_B01_genomic \n",
       "    Marker.lineage             X..genomes X..markers X..marker.sets\n",
       "1   o__Bacteroidales (UID2716) 92         486        270           \n",
       "2   g__Prevotella (UID2724)    55         567        296           \n",
       "⋮   ⋮                          ⋮          ⋮          ⋮             \n",
       "267 g__Prevotella (UID2724)    55         567        296           \n",
       "268 g__Prevotella (UID2724)    55         567        296           \n",
       "    Completeness Contamination ⋯ fastani_af closest_placement_reference\n",
       "1   99.63        0.37          ⋯ 1.0        GCF_000025925.1            \n",
       "2   99.32        0.00          ⋯ 1.0        GCF_000144405.1            \n",
       "⋮   ⋮            ⋮             ⋱ ⋮          ⋮                          \n",
       "267 98.65        0.16          ⋯ 1.0        GCF_900607215.1            \n",
       "268 99.32        0.34          ⋯ 1.0        GCF_900637655.1            \n",
       "    closest_placement_radius\n",
       "1   95.0                    \n",
       "2   95.0                    \n",
       "⋮   ⋮                       \n",
       "267 95.0                    \n",
       "268 95.0                    \n",
       "    closest_placement_taxonomy                                                                                              \n",
       "1   d__Bacteria;p__Bacteroidota;c__Bacteroidia;o__Bacteroidales;f__Bacteroidaceae;g__Prevotella;s__Prevotella ruminicola    \n",
       "2   d__Bacteria;p__Bacteroidota;c__Bacteroidia;o__Bacteroidales;f__Bacteroidaceae;g__Prevotella;s__Prevotella melaninogenica\n",
       "⋮   ⋮                                                                                                                       \n",
       "267 d__Bacteria;p__Bacteroidota;c__Bacteroidia;o__Bacteroidales;f__Bacteroidaceae;g__Prevotella;s__Prevotella sp900607215   \n",
       "268 d__Bacteria;p__Bacteroidota;c__Bacteroidia;o__Bacteroidales;f__Bacteroidaceae;g__Prevotella;s__Prevotella oris          \n",
       "    closest_placement_ani closest_placement_af msa_percent translation_table\n",
       "1   100.0                 1.0                  96.11       11               \n",
       "2   100.0                 1.0                  96.83       11               \n",
       "⋮   ⋮                     ⋮                    ⋮           ⋮                \n",
       "267 100.0                 1.0                  96.09       11               \n",
       "268 100.0                 1.0                  98.00       11               \n",
       "    red_value warnings\n",
       "1   N/A       N/A     \n",
       "2   N/A       N/A     \n",
       "⋮   ⋮         ⋮       \n",
       "267 N/A       N/A     \n",
       "268 N/A       N/A     "
      ]
     },
     "metadata": {},
     "output_type": "display_data"
    }
   ],
   "source": [
    "# joining based on Bin.Id\n",
    "drep = drep %>%\n",
    "    inner_join(checkm, c('Bin.Id')) %>%\n",
    "    mutate(GEN = genome %>% as.character %>% basename) %>%\n",
    "    inner_join(drep_gen %>% mutate(GEN = Fasta %>% as.character %>% basename),\n",
    "               by=c('GEN')) %>%\n",
    "    inner_join(tax, c('Bin.Id'='user_genome')) #%>%\n",
    "drep"
   ]
  },
  {
   "cell_type": "code",
   "execution_count": 121,
   "metadata": {
    "execution": {
     "iopub.execute_input": "2021-01-26T19:04:56.120461Z",
     "iopub.status.busy": "2021-01-26T19:04:56.118381Z",
     "iopub.status.idle": "2021-01-26T19:04:56.167179Z"
    }
   },
   "outputs": [
    {
     "data": {
      "text/html": [
       "<table>\n",
       "<caption>A data.frame: 89 × 60</caption>\n",
       "<thead>\n",
       "\t<tr><th scope=col>genome</th><th scope=col>completeness</th><th scope=col>contamination</th><th scope=col>Bin.Id</th><th scope=col>Marker.lineage</th><th scope=col>X..genomes</th><th scope=col>X..markers</th><th scope=col>X..marker.sets</th><th scope=col>Completeness</th><th scope=col>Contamination</th><th scope=col>⋯</th><th scope=col>fastani_af</th><th scope=col>closest_placement_reference</th><th scope=col>closest_placement_radius</th><th scope=col>closest_placement_taxonomy</th><th scope=col>closest_placement_ani</th><th scope=col>closest_placement_af</th><th scope=col>msa_percent</th><th scope=col>translation_table</th><th scope=col>red_value</th><th scope=col>warnings</th></tr>\n",
       "\t<tr><th scope=col>&lt;fct&gt;</th><th scope=col>&lt;dbl&gt;</th><th scope=col>&lt;dbl&gt;</th><th scope=col>&lt;chr&gt;</th><th scope=col>&lt;fct&gt;</th><th scope=col>&lt;int&gt;</th><th scope=col>&lt;int&gt;</th><th scope=col>&lt;int&gt;</th><th scope=col>&lt;dbl&gt;</th><th scope=col>&lt;dbl&gt;</th><th scope=col>⋯</th><th scope=col>&lt;fct&gt;</th><th scope=col>&lt;fct&gt;</th><th scope=col>&lt;fct&gt;</th><th scope=col>&lt;fct&gt;</th><th scope=col>&lt;fct&gt;</th><th scope=col>&lt;fct&gt;</th><th scope=col>&lt;dbl&gt;</th><th scope=col>&lt;int&gt;</th><th scope=col>&lt;fct&gt;</th><th scope=col>&lt;fct&gt;</th></tr>\n",
       "</thead>\n",
       "<tbody>\n",
       "\t<tr><td>/ebio/abt3_scratch/nyoungblut/LLG_62325884640/genomes/GCA_000144405.1_ASM14440v1_genomic.fna</td><td>99.32</td><td>0</td><td>GCA_000144405.1_ASM14440v1_genomic</td><td>g__Prevotella (UID2724)</td><td>55</td><td>567</td><td>296</td><td>99.32</td><td>0</td><td>⋯</td><td>1.0 </td><td>GCF_000144405.1</td><td>95.0</td><td>d__Bacteria;p__Bacteroidota;c__Bacteroidia;o__Bacteroidales;f__Bacteroidaceae;g__Prevotella;s__Prevotella melaninogenica</td><td>100.0</td><td>1.0 </td><td>96.83</td><td>11</td><td>N/A</td><td>N/A</td></tr>\n",
       "\t<tr><td>/ebio/abt3_scratch/nyoungblut/LLG_62325884640/genomes/GCA_000162915.1_ASM16291v1_genomic.fna</td><td>99.32</td><td>0</td><td>GCA_000162915.1_ASM16291v1_genomic</td><td>g__Prevotella (UID2724)</td><td>55</td><td>567</td><td>296</td><td>99.32</td><td>0</td><td>⋯</td><td>0.86</td><td>GCF_900637655.1</td><td>95.0</td><td>d__Bacteria;p__Bacteroidota;c__Bacteroidia;o__Bacteroidales;f__Bacteroidaceae;g__Prevotella;s__Prevotella oris          </td><td>97.06</td><td>0.86</td><td>97.20</td><td>11</td><td>N/A</td><td>N/A</td></tr>\n",
       "\t<tr><td>⋮</td><td>⋮</td><td>⋮</td><td>⋮</td><td>⋮</td><td>⋮</td><td>⋮</td><td>⋮</td><td>⋮</td><td>⋮</td><td>⋱</td><td>⋮</td><td>⋮</td><td>⋮</td><td>⋮</td><td>⋮</td><td>⋮</td><td>⋮</td><td>⋮</td><td>⋮</td><td>⋮</td></tr>\n",
       "\t<tr><td>/ebio/abt3_scratch/nyoungblut/LLG_62325884640/genomes/GCA_900454835.1_52295_A01_genomic.fna</td><td>99.21</td><td>0</td><td>GCA_900454835.1_52295_A01_genomic</td><td>g__Prevotella (UID2724)</td><td>55</td><td>567</td><td>296</td><td>99.21</td><td>0</td><td>⋯</td><td>1.0 </td><td>GCF_000613585.1</td><td>95.0</td><td>d__Bacteria;p__Bacteroidota;c__Bacteroidia;o__Bacteroidales;f__Bacteroidaceae;g__Prevotella;s__Prevotella denticola</td><td>99.97</td><td>1.0 </td><td>96.65</td><td>11</td><td>N/A</td><td>N/A</td></tr>\n",
       "\t<tr><td>/ebio/abt3_scratch/nyoungblut/LLG_62325884640/genomes/GCA_900454935.1_57800_C01_genomic.fna</td><td>99.66</td><td>0</td><td>GCA_900454935.1_57800_C01_genomic</td><td>g__Prevotella (UID2724)</td><td>55</td><td>567</td><td>296</td><td>99.66</td><td>0</td><td>⋯</td><td>0.88</td><td>GCF_000220255.1</td><td>95.0</td><td>d__Bacteria;p__Bacteroidota;c__Bacteroidia;o__Bacteroidales;f__Bacteroidaceae;g__Prevotella;s__Prevotella pallens  </td><td>97.92</td><td>0.88</td><td>97.00</td><td>11</td><td>N/A</td><td>N/A</td></tr>\n",
       "</tbody>\n",
       "</table>\n"
      ],
      "text/latex": [
       "A data.frame: 89 × 60\n",
       "\\begin{tabular}{lllllllllllllllllllll}\n",
       " genome & completeness & contamination & Bin.Id & Marker.lineage & X..genomes & X..markers & X..marker.sets & Completeness & Contamination & ⋯ & fastani\\_af & closest\\_placement\\_reference & closest\\_placement\\_radius & closest\\_placement\\_taxonomy & closest\\_placement\\_ani & closest\\_placement\\_af & msa\\_percent & translation\\_table & red\\_value & warnings\\\\\n",
       " <fct> & <dbl> & <dbl> & <chr> & <fct> & <int> & <int> & <int> & <dbl> & <dbl> & ⋯ & <fct> & <fct> & <fct> & <fct> & <fct> & <fct> & <dbl> & <int> & <fct> & <fct>\\\\\n",
       "\\hline\n",
       "\t /ebio/abt3\\_scratch/nyoungblut/LLG\\_62325884640/genomes/GCA\\_000144405.1\\_ASM14440v1\\_genomic.fna & 99.32 & 0 & GCA\\_000144405.1\\_ASM14440v1\\_genomic & g\\_\\_Prevotella (UID2724) & 55 & 567 & 296 & 99.32 & 0 & ⋯ & 1.0  & GCF\\_000144405.1 & 95.0 & d\\_\\_Bacteria;p\\_\\_Bacteroidota;c\\_\\_Bacteroidia;o\\_\\_Bacteroidales;f\\_\\_Bacteroidaceae;g\\_\\_Prevotella;s\\_\\_Prevotella melaninogenica & 100.0 & 1.0  & 96.83 & 11 & N/A & N/A\\\\\n",
       "\t /ebio/abt3\\_scratch/nyoungblut/LLG\\_62325884640/genomes/GCA\\_000162915.1\\_ASM16291v1\\_genomic.fna & 99.32 & 0 & GCA\\_000162915.1\\_ASM16291v1\\_genomic & g\\_\\_Prevotella (UID2724) & 55 & 567 & 296 & 99.32 & 0 & ⋯ & 0.86 & GCF\\_900637655.1 & 95.0 & d\\_\\_Bacteria;p\\_\\_Bacteroidota;c\\_\\_Bacteroidia;o\\_\\_Bacteroidales;f\\_\\_Bacteroidaceae;g\\_\\_Prevotella;s\\_\\_Prevotella oris           & 97.06 & 0.86 & 97.20 & 11 & N/A & N/A\\\\\n",
       "\t ⋮ & ⋮ & ⋮ & ⋮ & ⋮ & ⋮ & ⋮ & ⋮ & ⋮ & ⋮ & ⋱ & ⋮ & ⋮ & ⋮ & ⋮ & ⋮ & ⋮ & ⋮ & ⋮ & ⋮ & ⋮\\\\\n",
       "\t /ebio/abt3\\_scratch/nyoungblut/LLG\\_62325884640/genomes/GCA\\_900454835.1\\_52295\\_A01\\_genomic.fna & 99.21 & 0 & GCA\\_900454835.1\\_52295\\_A01\\_genomic & g\\_\\_Prevotella (UID2724) & 55 & 567 & 296 & 99.21 & 0 & ⋯ & 1.0  & GCF\\_000613585.1 & 95.0 & d\\_\\_Bacteria;p\\_\\_Bacteroidota;c\\_\\_Bacteroidia;o\\_\\_Bacteroidales;f\\_\\_Bacteroidaceae;g\\_\\_Prevotella;s\\_\\_Prevotella denticola & 99.97 & 1.0  & 96.65 & 11 & N/A & N/A\\\\\n",
       "\t /ebio/abt3\\_scratch/nyoungblut/LLG\\_62325884640/genomes/GCA\\_900454935.1\\_57800\\_C01\\_genomic.fna & 99.66 & 0 & GCA\\_900454935.1\\_57800\\_C01\\_genomic & g\\_\\_Prevotella (UID2724) & 55 & 567 & 296 & 99.66 & 0 & ⋯ & 0.88 & GCF\\_000220255.1 & 95.0 & d\\_\\_Bacteria;p\\_\\_Bacteroidota;c\\_\\_Bacteroidia;o\\_\\_Bacteroidales;f\\_\\_Bacteroidaceae;g\\_\\_Prevotella;s\\_\\_Prevotella pallens   & 97.92 & 0.88 & 97.00 & 11 & N/A & N/A\\\\\n",
       "\\end{tabular}\n"
      ],
      "text/markdown": [
       "\n",
       "A data.frame: 89 × 60\n",
       "\n",
       "| genome &lt;fct&gt; | completeness &lt;dbl&gt; | contamination &lt;dbl&gt; | Bin.Id &lt;chr&gt; | Marker.lineage &lt;fct&gt; | X..genomes &lt;int&gt; | X..markers &lt;int&gt; | X..marker.sets &lt;int&gt; | Completeness &lt;dbl&gt; | Contamination &lt;dbl&gt; | ⋯ ⋯ | fastani_af &lt;fct&gt; | closest_placement_reference &lt;fct&gt; | closest_placement_radius &lt;fct&gt; | closest_placement_taxonomy &lt;fct&gt; | closest_placement_ani &lt;fct&gt; | closest_placement_af &lt;fct&gt; | msa_percent &lt;dbl&gt; | translation_table &lt;int&gt; | red_value &lt;fct&gt; | warnings &lt;fct&gt; |\n",
       "|---|---|---|---|---|---|---|---|---|---|---|---|---|---|---|---|---|---|---|---|---|\n",
       "| /ebio/abt3_scratch/nyoungblut/LLG_62325884640/genomes/GCA_000144405.1_ASM14440v1_genomic.fna | 99.32 | 0 | GCA_000144405.1_ASM14440v1_genomic | g__Prevotella (UID2724) | 55 | 567 | 296 | 99.32 | 0 | ⋯ | 1.0  | GCF_000144405.1 | 95.0 | d__Bacteria;p__Bacteroidota;c__Bacteroidia;o__Bacteroidales;f__Bacteroidaceae;g__Prevotella;s__Prevotella melaninogenica | 100.0 | 1.0  | 96.83 | 11 | N/A | N/A |\n",
       "| /ebio/abt3_scratch/nyoungblut/LLG_62325884640/genomes/GCA_000162915.1_ASM16291v1_genomic.fna | 99.32 | 0 | GCA_000162915.1_ASM16291v1_genomic | g__Prevotella (UID2724) | 55 | 567 | 296 | 99.32 | 0 | ⋯ | 0.86 | GCF_900637655.1 | 95.0 | d__Bacteria;p__Bacteroidota;c__Bacteroidia;o__Bacteroidales;f__Bacteroidaceae;g__Prevotella;s__Prevotella oris           | 97.06 | 0.86 | 97.20 | 11 | N/A | N/A |\n",
       "| ⋮ | ⋮ | ⋮ | ⋮ | ⋮ | ⋮ | ⋮ | ⋮ | ⋮ | ⋮ | ⋱ | ⋮ | ⋮ | ⋮ | ⋮ | ⋮ | ⋮ | ⋮ | ⋮ | ⋮ | ⋮ |\n",
       "| /ebio/abt3_scratch/nyoungblut/LLG_62325884640/genomes/GCA_900454835.1_52295_A01_genomic.fna | 99.21 | 0 | GCA_900454835.1_52295_A01_genomic | g__Prevotella (UID2724) | 55 | 567 | 296 | 99.21 | 0 | ⋯ | 1.0  | GCF_000613585.1 | 95.0 | d__Bacteria;p__Bacteroidota;c__Bacteroidia;o__Bacteroidales;f__Bacteroidaceae;g__Prevotella;s__Prevotella denticola | 99.97 | 1.0  | 96.65 | 11 | N/A | N/A |\n",
       "| /ebio/abt3_scratch/nyoungblut/LLG_62325884640/genomes/GCA_900454935.1_57800_C01_genomic.fna | 99.66 | 0 | GCA_900454935.1_57800_C01_genomic | g__Prevotella (UID2724) | 55 | 567 | 296 | 99.66 | 0 | ⋯ | 0.88 | GCF_000220255.1 | 95.0 | d__Bacteria;p__Bacteroidota;c__Bacteroidia;o__Bacteroidales;f__Bacteroidaceae;g__Prevotella;s__Prevotella pallens   | 97.92 | 0.88 | 97.00 | 11 | N/A | N/A |\n",
       "\n"
      ],
      "text/plain": [
       "   genome                                                                                      \n",
       "1  /ebio/abt3_scratch/nyoungblut/LLG_62325884640/genomes/GCA_000144405.1_ASM14440v1_genomic.fna\n",
       "2  /ebio/abt3_scratch/nyoungblut/LLG_62325884640/genomes/GCA_000162915.1_ASM16291v1_genomic.fna\n",
       "⋮  ⋮                                                                                           \n",
       "88 /ebio/abt3_scratch/nyoungblut/LLG_62325884640/genomes/GCA_900454835.1_52295_A01_genomic.fna \n",
       "89 /ebio/abt3_scratch/nyoungblut/LLG_62325884640/genomes/GCA_900454935.1_57800_C01_genomic.fna \n",
       "   completeness contamination Bin.Id                            \n",
       "1  99.32        0             GCA_000144405.1_ASM14440v1_genomic\n",
       "2  99.32        0             GCA_000162915.1_ASM16291v1_genomic\n",
       "⋮  ⋮            ⋮             ⋮                                 \n",
       "88 99.21        0             GCA_900454835.1_52295_A01_genomic \n",
       "89 99.66        0             GCA_900454935.1_57800_C01_genomic \n",
       "   Marker.lineage          X..genomes X..markers X..marker.sets Completeness\n",
       "1  g__Prevotella (UID2724) 55         567        296            99.32       \n",
       "2  g__Prevotella (UID2724) 55         567        296            99.32       \n",
       "⋮  ⋮                       ⋮          ⋮          ⋮              ⋮           \n",
       "88 g__Prevotella (UID2724) 55         567        296            99.21       \n",
       "89 g__Prevotella (UID2724) 55         567        296            99.66       \n",
       "   Contamination ⋯ fastani_af closest_placement_reference\n",
       "1  0             ⋯ 1.0        GCF_000144405.1            \n",
       "2  0             ⋯ 0.86       GCF_900637655.1            \n",
       "⋮  ⋮             ⋱ ⋮          ⋮                          \n",
       "88 0             ⋯ 1.0        GCF_000613585.1            \n",
       "89 0             ⋯ 0.88       GCF_000220255.1            \n",
       "   closest_placement_radius\n",
       "1  95.0                    \n",
       "2  95.0                    \n",
       "⋮  ⋮                       \n",
       "88 95.0                    \n",
       "89 95.0                    \n",
       "   closest_placement_taxonomy                                                                                              \n",
       "1  d__Bacteria;p__Bacteroidota;c__Bacteroidia;o__Bacteroidales;f__Bacteroidaceae;g__Prevotella;s__Prevotella melaninogenica\n",
       "2  d__Bacteria;p__Bacteroidota;c__Bacteroidia;o__Bacteroidales;f__Bacteroidaceae;g__Prevotella;s__Prevotella oris          \n",
       "⋮  ⋮                                                                                                                       \n",
       "88 d__Bacteria;p__Bacteroidota;c__Bacteroidia;o__Bacteroidales;f__Bacteroidaceae;g__Prevotella;s__Prevotella denticola     \n",
       "89 d__Bacteria;p__Bacteroidota;c__Bacteroidia;o__Bacteroidales;f__Bacteroidaceae;g__Prevotella;s__Prevotella pallens       \n",
       "   closest_placement_ani closest_placement_af msa_percent translation_table\n",
       "1  100.0                 1.0                  96.83       11               \n",
       "2  97.06                 0.86                 97.20       11               \n",
       "⋮  ⋮                     ⋮                    ⋮           ⋮                \n",
       "88 99.97                 1.0                  96.65       11               \n",
       "89 97.92                 0.88                 97.00       11               \n",
       "   red_value warnings\n",
       "1  N/A       N/A     \n",
       "2  N/A       N/A     \n",
       "⋮  ⋮         ⋮       \n",
       "88 N/A       N/A     \n",
       "89 N/A       N/A     "
      ]
     },
     "metadata": {},
     "output_type": "display_data"
    }
   ],
   "source": [
    "# filtering by quality\n",
    "hq_genomes = drep %>%\n",
    "    filter(completeness >= 95,\n",
    "           contamination < 5,\n",
    "           Strain.heterogeneity < 50,\n",
    "           X..contigs <= 100,\n",
    "           Mean.contig.length..bp. >= 20000,\n",
    "           N50..contigs. >= 100000,\n",
    "           X..predicted.genes >= 2000,\n",
    "           X..predicted.genes <= 3000)\n",
    "hq_genomes"
   ]
  },
  {
   "cell_type": "code",
   "execution_count": 122,
   "metadata": {
    "execution": {
     "iopub.execute_input": "2021-01-26T19:04:59.749581Z",
     "iopub.status.busy": "2021-01-26T19:04:59.747522Z",
     "iopub.status.idle": "2021-01-26T19:04:59.784284Z"
    }
   },
   "outputs": [
    {
     "data": {
      "text/html": [
       "<table>\n",
       "<caption>A tibble: 2 × 3</caption>\n",
       "<thead>\n",
       "\t<tr><th scope=col>Family</th><th scope=col>Genus</th><th scope=col>n_genomes</th></tr>\n",
       "\t<tr><th scope=col>&lt;chr&gt;</th><th scope=col>&lt;chr&gt;</th><th scope=col>&lt;int&gt;</th></tr>\n",
       "</thead>\n",
       "<tbody>\n",
       "\t<tr><td>f__Bacteroidaceae</td><td>g__Prevotella        </td><td>88</td></tr>\n",
       "\t<tr><td>f__Bacteroidaceae</td><td>g__Prevotellamassilia</td><td> 1</td></tr>\n",
       "</tbody>\n",
       "</table>\n"
      ],
      "text/latex": [
       "A tibble: 2 × 3\n",
       "\\begin{tabular}{lll}\n",
       " Family & Genus & n\\_genomes\\\\\n",
       " <chr> & <chr> & <int>\\\\\n",
       "\\hline\n",
       "\t f\\_\\_Bacteroidaceae & g\\_\\_Prevotella         & 88\\\\\n",
       "\t f\\_\\_Bacteroidaceae & g\\_\\_Prevotellamassilia &  1\\\\\n",
       "\\end{tabular}\n"
      ],
      "text/markdown": [
       "\n",
       "A tibble: 2 × 3\n",
       "\n",
       "| Family &lt;chr&gt; | Genus &lt;chr&gt; | n_genomes &lt;int&gt; |\n",
       "|---|---|---|\n",
       "| f__Bacteroidaceae | g__Prevotella         | 88 |\n",
       "| f__Bacteroidaceae | g__Prevotellamassilia |  1 |\n",
       "\n"
      ],
      "text/plain": [
       "  Family            Genus                 n_genomes\n",
       "1 f__Bacteroidaceae g__Prevotella         88       \n",
       "2 f__Bacteroidaceae g__Prevotellamassilia  1       "
      ]
     },
     "metadata": {},
     "output_type": "display_data"
    }
   ],
   "source": [
    "# summarizing the taxonomy\n",
    "df.dims(20)\n",
    "hq_genomes %>%\n",
    "    group_by(Family, Genus) %>%\n",
    "    summarize(n_genomes = n(), .groups='drop')\n",
    "df.dims()"
   ]
  },
  {
   "cell_type": "code",
   "execution_count": 123,
   "metadata": {
    "execution": {
     "iopub.execute_input": "2021-01-26T19:05:02.747212Z",
     "iopub.status.busy": "2021-01-26T19:05:02.745148Z",
     "iopub.status.idle": "2021-01-26T19:05:02.792297Z"
    }
   },
   "outputs": [
    {
     "data": {
      "text/html": [
       "<table>\n",
       "<caption>A data.frame: 88 × 60</caption>\n",
       "<thead>\n",
       "\t<tr><th scope=col>genome</th><th scope=col>completeness</th><th scope=col>contamination</th><th scope=col>Bin.Id</th><th scope=col>Marker.lineage</th><th scope=col>X..genomes</th><th scope=col>X..markers</th><th scope=col>X..marker.sets</th><th scope=col>Completeness</th><th scope=col>Contamination</th><th scope=col>⋯</th><th scope=col>fastani_af</th><th scope=col>closest_placement_reference</th><th scope=col>closest_placement_radius</th><th scope=col>closest_placement_taxonomy</th><th scope=col>closest_placement_ani</th><th scope=col>closest_placement_af</th><th scope=col>msa_percent</th><th scope=col>translation_table</th><th scope=col>red_value</th><th scope=col>warnings</th></tr>\n",
       "\t<tr><th scope=col>&lt;fct&gt;</th><th scope=col>&lt;dbl&gt;</th><th scope=col>&lt;dbl&gt;</th><th scope=col>&lt;chr&gt;</th><th scope=col>&lt;fct&gt;</th><th scope=col>&lt;int&gt;</th><th scope=col>&lt;int&gt;</th><th scope=col>&lt;int&gt;</th><th scope=col>&lt;dbl&gt;</th><th scope=col>&lt;dbl&gt;</th><th scope=col>⋯</th><th scope=col>&lt;fct&gt;</th><th scope=col>&lt;fct&gt;</th><th scope=col>&lt;fct&gt;</th><th scope=col>&lt;fct&gt;</th><th scope=col>&lt;fct&gt;</th><th scope=col>&lt;fct&gt;</th><th scope=col>&lt;dbl&gt;</th><th scope=col>&lt;int&gt;</th><th scope=col>&lt;fct&gt;</th><th scope=col>&lt;fct&gt;</th></tr>\n",
       "</thead>\n",
       "<tbody>\n",
       "\t<tr><td>/ebio/abt3_scratch/nyoungblut/LLG_62325884640/genomes/GCA_000144405.1_ASM14440v1_genomic.fna</td><td>99.32</td><td>0</td><td>GCA_000144405.1_ASM14440v1_genomic</td><td>g__Prevotella (UID2724)</td><td>55</td><td>567</td><td>296</td><td>99.32</td><td>0</td><td>⋯</td><td>1.0 </td><td>GCF_000144405.1</td><td>95.0</td><td>d__Bacteria;p__Bacteroidota;c__Bacteroidia;o__Bacteroidales;f__Bacteroidaceae;g__Prevotella;s__Prevotella melaninogenica</td><td>100.0</td><td>1.0 </td><td>96.83</td><td>11</td><td>N/A</td><td>N/A</td></tr>\n",
       "\t<tr><td>/ebio/abt3_scratch/nyoungblut/LLG_62325884640/genomes/GCA_000162915.1_ASM16291v1_genomic.fna</td><td>99.32</td><td>0</td><td>GCA_000162915.1_ASM16291v1_genomic</td><td>g__Prevotella (UID2724)</td><td>55</td><td>567</td><td>296</td><td>99.32</td><td>0</td><td>⋯</td><td>0.86</td><td>GCF_900637655.1</td><td>95.0</td><td>d__Bacteria;p__Bacteroidota;c__Bacteroidia;o__Bacteroidales;f__Bacteroidaceae;g__Prevotella;s__Prevotella oris          </td><td>97.06</td><td>0.86</td><td>97.20</td><td>11</td><td>N/A</td><td>N/A</td></tr>\n",
       "\t<tr><td>⋮</td><td>⋮</td><td>⋮</td><td>⋮</td><td>⋮</td><td>⋮</td><td>⋮</td><td>⋮</td><td>⋮</td><td>⋮</td><td>⋱</td><td>⋮</td><td>⋮</td><td>⋮</td><td>⋮</td><td>⋮</td><td>⋮</td><td>⋮</td><td>⋮</td><td>⋮</td><td>⋮</td></tr>\n",
       "\t<tr><td>/ebio/abt3_scratch/nyoungblut/LLG_62325884640/genomes/GCA_900454835.1_52295_A01_genomic.fna</td><td>99.21</td><td>0</td><td>GCA_900454835.1_52295_A01_genomic</td><td>g__Prevotella (UID2724)</td><td>55</td><td>567</td><td>296</td><td>99.21</td><td>0</td><td>⋯</td><td>1.0 </td><td>GCF_000613585.1</td><td>95.0</td><td>d__Bacteria;p__Bacteroidota;c__Bacteroidia;o__Bacteroidales;f__Bacteroidaceae;g__Prevotella;s__Prevotella denticola</td><td>99.97</td><td>1.0 </td><td>96.65</td><td>11</td><td>N/A</td><td>N/A</td></tr>\n",
       "\t<tr><td>/ebio/abt3_scratch/nyoungblut/LLG_62325884640/genomes/GCA_900454935.1_57800_C01_genomic.fna</td><td>99.66</td><td>0</td><td>GCA_900454935.1_57800_C01_genomic</td><td>g__Prevotella (UID2724)</td><td>55</td><td>567</td><td>296</td><td>99.66</td><td>0</td><td>⋯</td><td>0.88</td><td>GCF_000220255.1</td><td>95.0</td><td>d__Bacteria;p__Bacteroidota;c__Bacteroidia;o__Bacteroidales;f__Bacteroidaceae;g__Prevotella;s__Prevotella pallens  </td><td>97.92</td><td>0.88</td><td>97.00</td><td>11</td><td>N/A</td><td>N/A</td></tr>\n",
       "</tbody>\n",
       "</table>\n"
      ],
      "text/latex": [
       "A data.frame: 88 × 60\n",
       "\\begin{tabular}{lllllllllllllllllllll}\n",
       " genome & completeness & contamination & Bin.Id & Marker.lineage & X..genomes & X..markers & X..marker.sets & Completeness & Contamination & ⋯ & fastani\\_af & closest\\_placement\\_reference & closest\\_placement\\_radius & closest\\_placement\\_taxonomy & closest\\_placement\\_ani & closest\\_placement\\_af & msa\\_percent & translation\\_table & red\\_value & warnings\\\\\n",
       " <fct> & <dbl> & <dbl> & <chr> & <fct> & <int> & <int> & <int> & <dbl> & <dbl> & ⋯ & <fct> & <fct> & <fct> & <fct> & <fct> & <fct> & <dbl> & <int> & <fct> & <fct>\\\\\n",
       "\\hline\n",
       "\t /ebio/abt3\\_scratch/nyoungblut/LLG\\_62325884640/genomes/GCA\\_000144405.1\\_ASM14440v1\\_genomic.fna & 99.32 & 0 & GCA\\_000144405.1\\_ASM14440v1\\_genomic & g\\_\\_Prevotella (UID2724) & 55 & 567 & 296 & 99.32 & 0 & ⋯ & 1.0  & GCF\\_000144405.1 & 95.0 & d\\_\\_Bacteria;p\\_\\_Bacteroidota;c\\_\\_Bacteroidia;o\\_\\_Bacteroidales;f\\_\\_Bacteroidaceae;g\\_\\_Prevotella;s\\_\\_Prevotella melaninogenica & 100.0 & 1.0  & 96.83 & 11 & N/A & N/A\\\\\n",
       "\t /ebio/abt3\\_scratch/nyoungblut/LLG\\_62325884640/genomes/GCA\\_000162915.1\\_ASM16291v1\\_genomic.fna & 99.32 & 0 & GCA\\_000162915.1\\_ASM16291v1\\_genomic & g\\_\\_Prevotella (UID2724) & 55 & 567 & 296 & 99.32 & 0 & ⋯ & 0.86 & GCF\\_900637655.1 & 95.0 & d\\_\\_Bacteria;p\\_\\_Bacteroidota;c\\_\\_Bacteroidia;o\\_\\_Bacteroidales;f\\_\\_Bacteroidaceae;g\\_\\_Prevotella;s\\_\\_Prevotella oris           & 97.06 & 0.86 & 97.20 & 11 & N/A & N/A\\\\\n",
       "\t ⋮ & ⋮ & ⋮ & ⋮ & ⋮ & ⋮ & ⋮ & ⋮ & ⋮ & ⋮ & ⋱ & ⋮ & ⋮ & ⋮ & ⋮ & ⋮ & ⋮ & ⋮ & ⋮ & ⋮ & ⋮\\\\\n",
       "\t /ebio/abt3\\_scratch/nyoungblut/LLG\\_62325884640/genomes/GCA\\_900454835.1\\_52295\\_A01\\_genomic.fna & 99.21 & 0 & GCA\\_900454835.1\\_52295\\_A01\\_genomic & g\\_\\_Prevotella (UID2724) & 55 & 567 & 296 & 99.21 & 0 & ⋯ & 1.0  & GCF\\_000613585.1 & 95.0 & d\\_\\_Bacteria;p\\_\\_Bacteroidota;c\\_\\_Bacteroidia;o\\_\\_Bacteroidales;f\\_\\_Bacteroidaceae;g\\_\\_Prevotella;s\\_\\_Prevotella denticola & 99.97 & 1.0  & 96.65 & 11 & N/A & N/A\\\\\n",
       "\t /ebio/abt3\\_scratch/nyoungblut/LLG\\_62325884640/genomes/GCA\\_900454935.1\\_57800\\_C01\\_genomic.fna & 99.66 & 0 & GCA\\_900454935.1\\_57800\\_C01\\_genomic & g\\_\\_Prevotella (UID2724) & 55 & 567 & 296 & 99.66 & 0 & ⋯ & 0.88 & GCF\\_000220255.1 & 95.0 & d\\_\\_Bacteria;p\\_\\_Bacteroidota;c\\_\\_Bacteroidia;o\\_\\_Bacteroidales;f\\_\\_Bacteroidaceae;g\\_\\_Prevotella;s\\_\\_Prevotella pallens   & 97.92 & 0.88 & 97.00 & 11 & N/A & N/A\\\\\n",
       "\\end{tabular}\n"
      ],
      "text/markdown": [
       "\n",
       "A data.frame: 88 × 60\n",
       "\n",
       "| genome &lt;fct&gt; | completeness &lt;dbl&gt; | contamination &lt;dbl&gt; | Bin.Id &lt;chr&gt; | Marker.lineage &lt;fct&gt; | X..genomes &lt;int&gt; | X..markers &lt;int&gt; | X..marker.sets &lt;int&gt; | Completeness &lt;dbl&gt; | Contamination &lt;dbl&gt; | ⋯ ⋯ | fastani_af &lt;fct&gt; | closest_placement_reference &lt;fct&gt; | closest_placement_radius &lt;fct&gt; | closest_placement_taxonomy &lt;fct&gt; | closest_placement_ani &lt;fct&gt; | closest_placement_af &lt;fct&gt; | msa_percent &lt;dbl&gt; | translation_table &lt;int&gt; | red_value &lt;fct&gt; | warnings &lt;fct&gt; |\n",
       "|---|---|---|---|---|---|---|---|---|---|---|---|---|---|---|---|---|---|---|---|---|\n",
       "| /ebio/abt3_scratch/nyoungblut/LLG_62325884640/genomes/GCA_000144405.1_ASM14440v1_genomic.fna | 99.32 | 0 | GCA_000144405.1_ASM14440v1_genomic | g__Prevotella (UID2724) | 55 | 567 | 296 | 99.32 | 0 | ⋯ | 1.0  | GCF_000144405.1 | 95.0 | d__Bacteria;p__Bacteroidota;c__Bacteroidia;o__Bacteroidales;f__Bacteroidaceae;g__Prevotella;s__Prevotella melaninogenica | 100.0 | 1.0  | 96.83 | 11 | N/A | N/A |\n",
       "| /ebio/abt3_scratch/nyoungblut/LLG_62325884640/genomes/GCA_000162915.1_ASM16291v1_genomic.fna | 99.32 | 0 | GCA_000162915.1_ASM16291v1_genomic | g__Prevotella (UID2724) | 55 | 567 | 296 | 99.32 | 0 | ⋯ | 0.86 | GCF_900637655.1 | 95.0 | d__Bacteria;p__Bacteroidota;c__Bacteroidia;o__Bacteroidales;f__Bacteroidaceae;g__Prevotella;s__Prevotella oris           | 97.06 | 0.86 | 97.20 | 11 | N/A | N/A |\n",
       "| ⋮ | ⋮ | ⋮ | ⋮ | ⋮ | ⋮ | ⋮ | ⋮ | ⋮ | ⋮ | ⋱ | ⋮ | ⋮ | ⋮ | ⋮ | ⋮ | ⋮ | ⋮ | ⋮ | ⋮ | ⋮ |\n",
       "| /ebio/abt3_scratch/nyoungblut/LLG_62325884640/genomes/GCA_900454835.1_52295_A01_genomic.fna | 99.21 | 0 | GCA_900454835.1_52295_A01_genomic | g__Prevotella (UID2724) | 55 | 567 | 296 | 99.21 | 0 | ⋯ | 1.0  | GCF_000613585.1 | 95.0 | d__Bacteria;p__Bacteroidota;c__Bacteroidia;o__Bacteroidales;f__Bacteroidaceae;g__Prevotella;s__Prevotella denticola | 99.97 | 1.0  | 96.65 | 11 | N/A | N/A |\n",
       "| /ebio/abt3_scratch/nyoungblut/LLG_62325884640/genomes/GCA_900454935.1_57800_C01_genomic.fna | 99.66 | 0 | GCA_900454935.1_57800_C01_genomic | g__Prevotella (UID2724) | 55 | 567 | 296 | 99.66 | 0 | ⋯ | 0.88 | GCF_000220255.1 | 95.0 | d__Bacteria;p__Bacteroidota;c__Bacteroidia;o__Bacteroidales;f__Bacteroidaceae;g__Prevotella;s__Prevotella pallens   | 97.92 | 0.88 | 97.00 | 11 | N/A | N/A |\n",
       "\n"
      ],
      "text/plain": [
       "   genome                                                                                      \n",
       "1  /ebio/abt3_scratch/nyoungblut/LLG_62325884640/genomes/GCA_000144405.1_ASM14440v1_genomic.fna\n",
       "2  /ebio/abt3_scratch/nyoungblut/LLG_62325884640/genomes/GCA_000162915.1_ASM16291v1_genomic.fna\n",
       "⋮  ⋮                                                                                           \n",
       "87 /ebio/abt3_scratch/nyoungblut/LLG_62325884640/genomes/GCA_900454835.1_52295_A01_genomic.fna \n",
       "88 /ebio/abt3_scratch/nyoungblut/LLG_62325884640/genomes/GCA_900454935.1_57800_C01_genomic.fna \n",
       "   completeness contamination Bin.Id                            \n",
       "1  99.32        0             GCA_000144405.1_ASM14440v1_genomic\n",
       "2  99.32        0             GCA_000162915.1_ASM16291v1_genomic\n",
       "⋮  ⋮            ⋮             ⋮                                 \n",
       "87 99.21        0             GCA_900454835.1_52295_A01_genomic \n",
       "88 99.66        0             GCA_900454935.1_57800_C01_genomic \n",
       "   Marker.lineage          X..genomes X..markers X..marker.sets Completeness\n",
       "1  g__Prevotella (UID2724) 55         567        296            99.32       \n",
       "2  g__Prevotella (UID2724) 55         567        296            99.32       \n",
       "⋮  ⋮                       ⋮          ⋮          ⋮              ⋮           \n",
       "87 g__Prevotella (UID2724) 55         567        296            99.21       \n",
       "88 g__Prevotella (UID2724) 55         567        296            99.66       \n",
       "   Contamination ⋯ fastani_af closest_placement_reference\n",
       "1  0             ⋯ 1.0        GCF_000144405.1            \n",
       "2  0             ⋯ 0.86       GCF_900637655.1            \n",
       "⋮  ⋮             ⋱ ⋮          ⋮                          \n",
       "87 0             ⋯ 1.0        GCF_000613585.1            \n",
       "88 0             ⋯ 0.88       GCF_000220255.1            \n",
       "   closest_placement_radius\n",
       "1  95.0                    \n",
       "2  95.0                    \n",
       "⋮  ⋮                       \n",
       "87 95.0                    \n",
       "88 95.0                    \n",
       "   closest_placement_taxonomy                                                                                              \n",
       "1  d__Bacteria;p__Bacteroidota;c__Bacteroidia;o__Bacteroidales;f__Bacteroidaceae;g__Prevotella;s__Prevotella melaninogenica\n",
       "2  d__Bacteria;p__Bacteroidota;c__Bacteroidia;o__Bacteroidales;f__Bacteroidaceae;g__Prevotella;s__Prevotella oris          \n",
       "⋮  ⋮                                                                                                                       \n",
       "87 d__Bacteria;p__Bacteroidota;c__Bacteroidia;o__Bacteroidales;f__Bacteroidaceae;g__Prevotella;s__Prevotella denticola     \n",
       "88 d__Bacteria;p__Bacteroidota;c__Bacteroidia;o__Bacteroidales;f__Bacteroidaceae;g__Prevotella;s__Prevotella pallens       \n",
       "   closest_placement_ani closest_placement_af msa_percent translation_table\n",
       "1  100.0                 1.0                  96.83       11               \n",
       "2  97.06                 0.86                 97.20       11               \n",
       "⋮  ⋮                     ⋮                    ⋮           ⋮                \n",
       "87 99.97                 1.0                  96.65       11               \n",
       "88 97.92                 0.88                 97.00       11               \n",
       "   red_value warnings\n",
       "1  N/A       N/A     \n",
       "2  N/A       N/A     \n",
       "⋮  ⋮         ⋮       \n",
       "87 N/A       N/A     \n",
       "88 N/A       N/A     "
      ]
     },
     "metadata": {},
     "output_type": "display_data"
    }
   ],
   "source": [
    "# filtering by taxonomy\n",
    "hq_genomes = hq_genomes %>%\n",
    "    filter(Genus == 'g__Prevotella') \n",
    "hq_genomes"
   ]
  },
  {
   "cell_type": "code",
   "execution_count": 124,
   "metadata": {
    "execution": {
     "iopub.execute_input": "2021-01-26T19:05:04.708479Z",
     "iopub.status.busy": "2021-01-26T19:05:04.706366Z",
     "iopub.status.idle": "2021-01-26T19:05:04.753330Z"
    }
   },
   "outputs": [
    {
     "data": {
      "text/html": [
       "<table>\n",
       "<caption>A matrix: 1 × 8 of type dbl</caption>\n",
       "<thead>\n",
       "\t<tr><th></th><th scope=col>Min.</th><th scope=col>1st Qu.</th><th scope=col>Median</th><th scope=col>Mean</th><th scope=col>3rd Qu.</th><th scope=col>Max.</th><th scope=col>sd</th><th scope=col>sd_err_of_mean</th></tr>\n",
       "</thead>\n",
       "<tbody>\n",
       "\t<tr><th scope=row>No. of contigs</th><td>1</td><td>2.75</td><td>25</td><td>32.76136</td><td>56.5</td><td>98</td><td>36.678</td><td>14.974</td></tr>\n",
       "</tbody>\n",
       "</table>\n"
      ],
      "text/latex": [
       "A matrix: 1 × 8 of type dbl\n",
       "\\begin{tabular}{r|llllllll}\n",
       "  & Min. & 1st Qu. & Median & Mean & 3rd Qu. & Max. & sd & sd\\_err\\_of\\_mean\\\\\n",
       "\\hline\n",
       "\tNo. of contigs & 1 & 2.75 & 25 & 32.76136 & 56.5 & 98 & 36.678 & 14.974\\\\\n",
       "\\end{tabular}\n"
      ],
      "text/markdown": [
       "\n",
       "A matrix: 1 × 8 of type dbl\n",
       "\n",
       "| <!--/--> | Min. | 1st Qu. | Median | Mean | 3rd Qu. | Max. | sd | sd_err_of_mean |\n",
       "|---|---|---|---|---|---|---|---|---|\n",
       "| No. of contigs | 1 | 2.75 | 25 | 32.76136 | 56.5 | 98 | 36.678 | 14.974 |\n",
       "\n"
      ],
      "text/plain": [
       "               Min. 1st Qu. Median Mean     3rd Qu. Max. sd     sd_err_of_mean\n",
       "No. of contigs 1    2.75    25     32.76136 56.5    98   36.678 14.974        "
      ]
     },
     "metadata": {},
     "output_type": "display_data"
    },
    {
     "data": {
      "text/html": [
       "<table>\n",
       "<caption>A matrix: 1 × 8 of type dbl</caption>\n",
       "<thead>\n",
       "\t<tr><th></th><th scope=col>Min.</th><th scope=col>1st Qu.</th><th scope=col>Median</th><th scope=col>Mean</th><th scope=col>3rd Qu.</th><th scope=col>Max.</th><th scope=col>sd</th><th scope=col>sd_err_of_mean</th></tr>\n",
       "</thead>\n",
       "<tbody>\n",
       "\t<tr><th scope=row>Mean contig length</th><td>30476</td><td>52746.75</td><td>123497.5</td><td>573892.1</td><td>1118821</td><td>2937589</td><td>1125170</td><td>459348.8</td></tr>\n",
       "</tbody>\n",
       "</table>\n"
      ],
      "text/latex": [
       "A matrix: 1 × 8 of type dbl\n",
       "\\begin{tabular}{r|llllllll}\n",
       "  & Min. & 1st Qu. & Median & Mean & 3rd Qu. & Max. & sd & sd\\_err\\_of\\_mean\\\\\n",
       "\\hline\n",
       "\tMean contig length & 30476 & 52746.75 & 123497.5 & 573892.1 & 1118821 & 2937589 & 1125170 & 459348.8\\\\\n",
       "\\end{tabular}\n"
      ],
      "text/markdown": [
       "\n",
       "A matrix: 1 × 8 of type dbl\n",
       "\n",
       "| <!--/--> | Min. | 1st Qu. | Median | Mean | 3rd Qu. | Max. | sd | sd_err_of_mean |\n",
       "|---|---|---|---|---|---|---|---|---|\n",
       "| Mean contig length | 30476 | 52746.75 | 123497.5 | 573892.1 | 1118821 | 2937589 | 1125170 | 459348.8 |\n",
       "\n"
      ],
      "text/plain": [
       "                   Min.  1st Qu.  Median   Mean     3rd Qu. Max.    sd     \n",
       "Mean contig length 30476 52746.75 123497.5 573892.1 1118821 2937589 1125170\n",
       "                   sd_err_of_mean\n",
       "Mean contig length 459348.8      "
      ]
     },
     "metadata": {},
     "output_type": "display_data"
    },
    {
     "data": {
      "text/html": [
       "<table>\n",
       "<caption>A matrix: 1 × 8 of type dbl</caption>\n",
       "<thead>\n",
       "\t<tr><th></th><th scope=col>Min.</th><th scope=col>1st Qu.</th><th scope=col>Median</th><th scope=col>Mean</th><th scope=col>3rd Qu.</th><th scope=col>Max.</th><th scope=col>sd</th><th scope=col>sd_err_of_mean</th></tr>\n",
       "</thead>\n",
       "<tbody>\n",
       "\t<tr><th scope=row>No. of genes</th><td>2142</td><td>2408.25</td><td>2542</td><td>2557.773</td><td>2698.75</td><td>2974</td><td>278.746</td><td>113.798</td></tr>\n",
       "</tbody>\n",
       "</table>\n"
      ],
      "text/latex": [
       "A matrix: 1 × 8 of type dbl\n",
       "\\begin{tabular}{r|llllllll}\n",
       "  & Min. & 1st Qu. & Median & Mean & 3rd Qu. & Max. & sd & sd\\_err\\_of\\_mean\\\\\n",
       "\\hline\n",
       "\tNo. of genes & 2142 & 2408.25 & 2542 & 2557.773 & 2698.75 & 2974 & 278.746 & 113.798\\\\\n",
       "\\end{tabular}\n"
      ],
      "text/markdown": [
       "\n",
       "A matrix: 1 × 8 of type dbl\n",
       "\n",
       "| <!--/--> | Min. | 1st Qu. | Median | Mean | 3rd Qu. | Max. | sd | sd_err_of_mean |\n",
       "|---|---|---|---|---|---|---|---|---|\n",
       "| No. of genes | 2142 | 2408.25 | 2542 | 2557.773 | 2698.75 | 2974 | 278.746 | 113.798 |\n",
       "\n"
      ],
      "text/plain": [
       "             Min. 1st Qu. Median Mean     3rd Qu. Max. sd      sd_err_of_mean\n",
       "No. of genes 2142 2408.25 2542   2557.773 2698.75 2974 278.746 113.798       "
      ]
     },
     "metadata": {},
     "output_type": "display_data"
    },
    {
     "data": {
      "text/html": [
       "<table>\n",
       "<caption>A matrix: 1 × 8 of type dbl</caption>\n",
       "<thead>\n",
       "\t<tr><th></th><th scope=col>Min.</th><th scope=col>1st Qu.</th><th scope=col>Median</th><th scope=col>Mean</th><th scope=col>3rd Qu.</th><th scope=col>Max.</th><th scope=col>sd</th><th scope=col>sd_err_of_mean</th></tr>\n",
       "</thead>\n",
       "<tbody>\n",
       "\t<tr><th scope=row>N50</th><td>102109</td><td>129410</td><td>275756</td><td>891178.5</td><td>1949812</td><td>2951289</td><td>1165781</td><td>475928</td></tr>\n",
       "</tbody>\n",
       "</table>\n"
      ],
      "text/latex": [
       "A matrix: 1 × 8 of type dbl\n",
       "\\begin{tabular}{r|llllllll}\n",
       "  & Min. & 1st Qu. & Median & Mean & 3rd Qu. & Max. & sd & sd\\_err\\_of\\_mean\\\\\n",
       "\\hline\n",
       "\tN50 & 102109 & 129410 & 275756 & 891178.5 & 1949812 & 2951289 & 1165781 & 475928\\\\\n",
       "\\end{tabular}\n"
      ],
      "text/markdown": [
       "\n",
       "A matrix: 1 × 8 of type dbl\n",
       "\n",
       "| <!--/--> | Min. | 1st Qu. | Median | Mean | 3rd Qu. | Max. | sd | sd_err_of_mean |\n",
       "|---|---|---|---|---|---|---|---|---|\n",
       "| N50 | 102109 | 129410 | 275756 | 891178.5 | 1949812 | 2951289 | 1165781 | 475928 |\n",
       "\n"
      ],
      "text/plain": [
       "    Min.   1st Qu. Median Mean     3rd Qu. Max.    sd      sd_err_of_mean\n",
       "N50 102109 129410  275756 891178.5 1949812 2951289 1165781 475928        "
      ]
     },
     "metadata": {},
     "output_type": "display_data"
    }
   ],
   "source": [
    "# summarizing\n",
    "hq_genomes$X..contigs %>% summary_x('No. of contigs')\n",
    "hq_genomes$Mean.contig.length..bp. %>% summary_x('Mean contig length')\n",
    "hq_genomes$X..predicted.genes %>% summary_x('No. of genes')\n",
    "hq_genomes$N50..contigs. %>% summary_x('N50')"
   ]
  },
  {
   "cell_type": "code",
   "execution_count": 125,
   "metadata": {
    "execution": {
     "iopub.execute_input": "2021-01-26T19:05:06.959243Z",
     "iopub.status.busy": "2021-01-26T19:05:06.957193Z",
     "iopub.status.idle": "2021-01-26T19:05:06.987103Z"
    }
   },
   "outputs": [
    {
     "name": "stdout",
     "output_type": "stream",
     "text": [
      "File written: /ebio/abt3_projects/software/dev/ll_pipelines/llprimer/experiments/HMP_most-wanted//Prevotella/samples_genomes_hq.txt \n"
     ]
    }
   ],
   "source": [
    "# writing samples table for LLPRIMER\n",
    "outfile = file.path(work_dir, 'samples_genomes_hq.txt')\n",
    "hq_genomes %>%\n",
    "    select(Bin.Id, Fasta) %>%\n",
    "    rename('Taxon' = Bin.Id) %>%\n",
    "    mutate(Taxon = gsub('_chromosome.+', '', Taxon),\n",
    "           Taxon = gsub('_bin_.+', '', Taxon),\n",
    "           Taxon = gsub('_genomic', '', Taxon),\n",
    "           Taxon = gsub('_annotated_assembly', '', Taxon),\n",
    "           Taxid = taxid,\n",
    "           Domain = domain) %>%\n",
    "    write_table(outfile)"
   ]
  },
  {
   "cell_type": "markdown",
   "metadata": {},
   "source": [
    "# Primer design"
   ]
  },
  {
   "cell_type": "markdown",
   "metadata": {},
   "source": [
    "### Config"
   ]
  },
  {
   "cell_type": "code",
   "execution_count": 70,
   "metadata": {
    "execution": {
     "iopub.execute_input": "2021-01-26T11:12:01.246761Z",
     "iopub.status.busy": "2021-01-26T11:12:01.244960Z",
     "iopub.status.idle": "2021-01-26T11:12:01.281480Z"
    }
   },
   "outputs": [
    {
     "name": "stdout",
     "output_type": "stream",
     "text": [
      "#-- I/O --#\n",
      "samples_file: /ebio/abt3_projects/software/dev/ll_pipelines/llprimer/experiments/HMP_most-wanted/Prevotella/samples_genomes_hq.txt\n",
      "\n",
      "# output location\n",
      "output_dir: /ebio/abt3_projects/software/dev/ll_pipelines/llprimer/experiments/HMP_most-wanted/Prevotella/primers/\n",
      "\n",
      "# temporary file directory (your username will be added automatically)\n",
      "tmp_dir: /ebio/abt3_scratch/\n",
      "\n",
      "#-- software parameters --#\n",
      "# See the README for a description\n",
      "params:\n",
      "  ionice: -c 3\n",
      "  cgp:\n",
      "    prokka: \"\"\n",
      "    mmseqs:\n",
      "      method: cluster    # or linclust (faster)\n",
      "      run: --min-seq-id 0.75 -c 0.8\n",
      "    vsearch: --id 0.94\n",
      "    core_genes:\n",
      "      cds: --perc-genomes-cds 95 --copies-per-genome-cds 1 --max-clusters-cds 500\n",
      "      rRNA: --perc-genomes-rrna 100 --copies-per-genome-rrna 10 --max-clusters-rrna 30\n",
      "    blast_nontarget:\n",
      "      run_locally: False\n",
      "      cds: -evalue 1e-5 -max_target_seqs 30\n",
      "      rRNA: -evalue 1e-5 -max_target_seqs 30\n",
      "    align:\n",
      "      method: linsi\n",
      "      params: --auto --maxiterate 1000\n",
      "    primer3:\n",
      "      number: --num-primers 500\n",
      "      size: --opt-size 20 --min-size 18 --max-size 24\n",
      "      product: --opt-prod-size 150 --min-prod-size 100 --max-prod-size 250\n",
      "      Tm: --opt-tm 62 --min-tm 55 --max-tm 70 --max-tm-diff 1\n",
      "      PCR: --oligo-DNA 50 --salt-monovalent 50 --salt-divalent 1.5 --dNTPs 0.2\n",
      "      GC: --opt-gc 50 --min-gc 25 --max-gc 75\n",
      "      degeneracy: --max-degeneracy 128 --max-degeneracy-3prime 3 --window-3prime 5\n",
      "      internal_oligo: --make-oligo 0 --int-opt-size 20 --int-opt-tm 60\n",
      "    blastn: -max_target_seqs 500 -perc_identity 90\n",
      "    blast_filter: --perc-len 80 --min-amplicon-len 30 --max-amplicon-len 2000    \n",
      "\n",
      "#-- database --#\n",
      "databases:\n",
      "  blast:\n",
      "    nucl: /ebio/abt3_projects/databases_no-backup/NCBI_blastdb/nt\n",
      "    prot: /ebio/abt3_projects/databases_no-backup/NCBI_blastdb/nr\n",
      "    rRNA:\n",
      "      SSU: /ebio/abt3_projects/databases_no-backup/NCBI_rRNA/2021-01/SSU/16S_ribosomal_RNA\n",
      "      LSU: /ebio/abt3_projects/databases_no-backup/NCBI_rRNA/2021-01/LSU/LSU_prokaryote_rRNA\n",
      "    gene_names: /ebio/abt3_projects/databases_no-backup/NCBI_nr_geneIDs/2021-01/nr_accession-geneNames.pkl\n",
      "  taxonomy:\n",
      "    names: /ebio/abt3_projects/databases_no-backup/NCBI_taxonomy/2020-12-23/names.dmp\n",
      "    nodes: /ebio/abt3_projects/databases_no-backup/NCBI_taxonomy/2020-12-23/nodes.dmp\n",
      "\n",
      "#-- snakemake pipeline --#\n",
      "pipeline:\n",
      "  snakemake_folder: ./\n",
      "  script_folder: bin/scripts/\n",
      "  name: LLPRIMER"
     ]
    }
   ],
   "source": [
    "F = file.path(work_dir, 'primers', 'config.yaml')\n",
    "cat_file(F)"
   ]
  },
  {
   "cell_type": "markdown",
   "metadata": {},
   "source": [
    "### Run"
   ]
  },
  {
   "cell_type": "markdown",
   "metadata": {},
   "source": [
    "```\n",
    "(snakemake) @ rick:/ebio/abt3_projects/software/dev/ll_pipelines/llprimer\n",
    "$ screen -L -S llprimer-Prev ./snakemake_sge.sh /ebio/abt3_projects/software/dev/ll_pipelines/llprimer/experiments/HMP_most-wanted/Prevotella/primers/config.yaml 50 -F\n",
    "```"
   ]
  },
  {
   "cell_type": "markdown",
   "metadata": {},
   "source": [
    "### Summary"
   ]
  },
  {
   "cell_type": "code",
   "execution_count": 126,
   "metadata": {
    "execution": {
     "iopub.execute_input": "2021-01-27T17:17:04.174986Z",
     "iopub.status.busy": "2021-01-27T17:17:04.172558Z",
     "iopub.status.idle": "2021-01-27T17:17:04.243543Z"
    }
   },
   "outputs": [
    {
     "name": "stdout",
     "output_type": "stream",
     "text": [
      "No. of unique primer sets: 6 \n"
     ]
    },
    {
     "data": {
      "text/html": [
       "<table>\n",
       "<caption>A data.frame: 12 × 22</caption>\n",
       "<thead>\n",
       "\t<tr><th scope=col>gene_type</th><th scope=col>cluster_id</th><th scope=col>primer_set</th><th scope=col>amplicon_size_consensus</th><th scope=col>amplicon_size_avg</th><th scope=col>amplicon_size_sd</th><th scope=col>primer_id</th><th scope=col>primer_type</th><th scope=col>sequence</th><th scope=col>length</th><th scope=col>⋯</th><th scope=col>position_start</th><th scope=col>position_end</th><th scope=col>Tm_avg</th><th scope=col>Tm_sd</th><th scope=col>GC_avg</th><th scope=col>GC_sd</th><th scope=col>hairpin_avg</th><th scope=col>hairpin_sd</th><th scope=col>homodimer_avg</th><th scope=col>homodimer_sd</th></tr>\n",
       "\t<tr><th scope=col>&lt;fct&gt;</th><th scope=col>&lt;int&gt;</th><th scope=col>&lt;int&gt;</th><th scope=col>&lt;int&gt;</th><th scope=col>&lt;dbl&gt;</th><th scope=col>&lt;dbl&gt;</th><th scope=col>&lt;fct&gt;</th><th scope=col>&lt;fct&gt;</th><th scope=col>&lt;fct&gt;</th><th scope=col>&lt;int&gt;</th><th scope=col>⋯</th><th scope=col>&lt;int&gt;</th><th scope=col>&lt;int&gt;</th><th scope=col>&lt;dbl&gt;</th><th scope=col>&lt;dbl&gt;</th><th scope=col>&lt;dbl&gt;</th><th scope=col>&lt;dbl&gt;</th><th scope=col>&lt;dbl&gt;</th><th scope=col>&lt;dbl&gt;</th><th scope=col>&lt;dbl&gt;</th><th scope=col>&lt;dbl&gt;</th></tr>\n",
       "</thead>\n",
       "<tbody>\n",
       "\t<tr><td>cds</td><td>47</td><td>604</td><td>101</td><td>101</td><td>0</td><td>604f</td><td>PRIMER_LEFT </td><td>CGYCCMGTYGTRTTYAARGA  </td><td>20</td><td>⋯</td><td> 30</td><td> 50</td><td>58.69430</td><td>2.960413</td><td>50.00000</td><td>6.123724</td><td> 9.186732</td><td>15.96080</td><td>-27.85341</td><td>19.18871</td></tr>\n",
       "\t<tr><td>cds</td><td>47</td><td>604</td><td>101</td><td>101</td><td>0</td><td>604r</td><td>PRIMER_RIGHT</td><td>GGRTARGTYTCDCCTTCRAAYT</td><td>22</td><td>⋯</td><td>109</td><td>131</td><td>58.25797</td><td>2.381736</td><td>44.69697</td><td>5.515235</td><td>34.278771</td><td>21.23054</td><td>-20.38007</td><td>18.57597</td></tr>\n",
       "\t<tr><td>⋮</td><td>⋮</td><td>⋮</td><td>⋮</td><td>⋮</td><td>⋮</td><td>⋮</td><td>⋮</td><td>⋮</td><td>⋮</td><td>⋱</td><td>⋮</td><td>⋮</td><td>⋮</td><td>⋮</td><td>⋮</td><td>⋮</td><td>⋮</td><td>⋮</td><td>⋮</td><td>⋮</td></tr>\n",
       "\t<tr><td>cds</td><td>47</td><td>828</td><td>103</td><td>103</td><td>0</td><td>828f</td><td>PRIMER_LEFT </td><td>AYCGYCCMGTYGTRTTYAAR   </td><td>20</td><td>⋯</td><td> 28</td><td> 48</td><td>58.50129</td><td>3.080248</td><td>47.50000</td><td>6.614378</td><td> 8.746406</td><td>15.15228</td><td>-30.77627</td><td>14.07363</td></tr>\n",
       "\t<tr><td>cds</td><td>47</td><td>828</td><td>103</td><td>103</td><td>0</td><td>828r</td><td>PRIMER_RIGHT</td><td>GGRTARGTYTCDCCTTCRAAYTC</td><td>23</td><td>⋯</td><td>108</td><td>131</td><td>59.28758</td><td>2.245139</td><td>47.10145</td><td>5.275442</td><td>34.126796</td><td>21.17235</td><td>-18.36255</td><td>18.62297</td></tr>\n",
       "</tbody>\n",
       "</table>\n"
      ],
      "text/latex": [
       "A data.frame: 12 × 22\n",
       "\\begin{tabular}{lllllllllllllllllllll}\n",
       " gene\\_type & cluster\\_id & primer\\_set & amplicon\\_size\\_consensus & amplicon\\_size\\_avg & amplicon\\_size\\_sd & primer\\_id & primer\\_type & sequence & length & ⋯ & position\\_start & position\\_end & Tm\\_avg & Tm\\_sd & GC\\_avg & GC\\_sd & hairpin\\_avg & hairpin\\_sd & homodimer\\_avg & homodimer\\_sd\\\\\n",
       " <fct> & <int> & <int> & <int> & <dbl> & <dbl> & <fct> & <fct> & <fct> & <int> & ⋯ & <int> & <int> & <dbl> & <dbl> & <dbl> & <dbl> & <dbl> & <dbl> & <dbl> & <dbl>\\\\\n",
       "\\hline\n",
       "\t cds & 47 & 604 & 101 & 101 & 0 & 604f & PRIMER\\_LEFT  & CGYCCMGTYGTRTTYAARGA   & 20 & ⋯ &  30 &  50 & 58.69430 & 2.960413 & 50.00000 & 6.123724 &  9.186732 & 15.96080 & -27.85341 & 19.18871\\\\\n",
       "\t cds & 47 & 604 & 101 & 101 & 0 & 604r & PRIMER\\_RIGHT & GGRTARGTYTCDCCTTCRAAYT & 22 & ⋯ & 109 & 131 & 58.25797 & 2.381736 & 44.69697 & 5.515235 & 34.278771 & 21.23054 & -20.38007 & 18.57597\\\\\n",
       "\t ⋮ & ⋮ & ⋮ & ⋮ & ⋮ & ⋮ & ⋮ & ⋮ & ⋮ & ⋮ & ⋱ & ⋮ & ⋮ & ⋮ & ⋮ & ⋮ & ⋮ & ⋮ & ⋮ & ⋮ & ⋮\\\\\n",
       "\t cds & 47 & 828 & 103 & 103 & 0 & 828f & PRIMER\\_LEFT  & AYCGYCCMGTYGTRTTYAAR    & 20 & ⋯ &  28 &  48 & 58.50129 & 3.080248 & 47.50000 & 6.614378 &  8.746406 & 15.15228 & -30.77627 & 14.07363\\\\\n",
       "\t cds & 47 & 828 & 103 & 103 & 0 & 828r & PRIMER\\_RIGHT & GGRTARGTYTCDCCTTCRAAYTC & 23 & ⋯ & 108 & 131 & 59.28758 & 2.245139 & 47.10145 & 5.275442 & 34.126796 & 21.17235 & -18.36255 & 18.62297\\\\\n",
       "\\end{tabular}\n"
      ],
      "text/markdown": [
       "\n",
       "A data.frame: 12 × 22\n",
       "\n",
       "| gene_type &lt;fct&gt; | cluster_id &lt;int&gt; | primer_set &lt;int&gt; | amplicon_size_consensus &lt;int&gt; | amplicon_size_avg &lt;dbl&gt; | amplicon_size_sd &lt;dbl&gt; | primer_id &lt;fct&gt; | primer_type &lt;fct&gt; | sequence &lt;fct&gt; | length &lt;int&gt; | ⋯ ⋯ | position_start &lt;int&gt; | position_end &lt;int&gt; | Tm_avg &lt;dbl&gt; | Tm_sd &lt;dbl&gt; | GC_avg &lt;dbl&gt; | GC_sd &lt;dbl&gt; | hairpin_avg &lt;dbl&gt; | hairpin_sd &lt;dbl&gt; | homodimer_avg &lt;dbl&gt; | homodimer_sd &lt;dbl&gt; |\n",
       "|---|---|---|---|---|---|---|---|---|---|---|---|---|---|---|---|---|---|---|---|---|\n",
       "| cds | 47 | 604 | 101 | 101 | 0 | 604f | PRIMER_LEFT  | CGYCCMGTYGTRTTYAARGA   | 20 | ⋯ |  30 |  50 | 58.69430 | 2.960413 | 50.00000 | 6.123724 |  9.186732 | 15.96080 | -27.85341 | 19.18871 |\n",
       "| cds | 47 | 604 | 101 | 101 | 0 | 604r | PRIMER_RIGHT | GGRTARGTYTCDCCTTCRAAYT | 22 | ⋯ | 109 | 131 | 58.25797 | 2.381736 | 44.69697 | 5.515235 | 34.278771 | 21.23054 | -20.38007 | 18.57597 |\n",
       "| ⋮ | ⋮ | ⋮ | ⋮ | ⋮ | ⋮ | ⋮ | ⋮ | ⋮ | ⋮ | ⋱ | ⋮ | ⋮ | ⋮ | ⋮ | ⋮ | ⋮ | ⋮ | ⋮ | ⋮ | ⋮ |\n",
       "| cds | 47 | 828 | 103 | 103 | 0 | 828f | PRIMER_LEFT  | AYCGYCCMGTYGTRTTYAAR    | 20 | ⋯ |  28 |  48 | 58.50129 | 3.080248 | 47.50000 | 6.614378 |  8.746406 | 15.15228 | -30.77627 | 14.07363 |\n",
       "| cds | 47 | 828 | 103 | 103 | 0 | 828r | PRIMER_RIGHT | GGRTARGTYTCDCCTTCRAAYTC | 23 | ⋯ | 108 | 131 | 59.28758 | 2.245139 | 47.10145 | 5.275442 | 34.126796 | 21.17235 | -18.36255 | 18.62297 |\n",
       "\n"
      ],
      "text/plain": [
       "   gene_type cluster_id primer_set amplicon_size_consensus amplicon_size_avg\n",
       "1  cds       47         604        101                     101              \n",
       "2  cds       47         604        101                     101              \n",
       "⋮  ⋮         ⋮          ⋮          ⋮                       ⋮                \n",
       "11 cds       47         828        103                     103              \n",
       "12 cds       47         828        103                     103              \n",
       "   amplicon_size_sd primer_id primer_type  sequence                length ⋯\n",
       "1  0                604f      PRIMER_LEFT  CGYCCMGTYGTRTTYAARGA    20     ⋯\n",
       "2  0                604r      PRIMER_RIGHT GGRTARGTYTCDCCTTCRAAYT  22     ⋯\n",
       "⋮  ⋮                ⋮         ⋮            ⋮                       ⋮      ⋱\n",
       "11 0                828f      PRIMER_LEFT  AYCGYCCMGTYGTRTTYAAR    20     ⋯\n",
       "12 0                828r      PRIMER_RIGHT GGRTARGTYTCDCCTTCRAAYTC 23     ⋯\n",
       "   position_start position_end Tm_avg   Tm_sd    GC_avg   GC_sd    hairpin_avg\n",
       "1   30             50          58.69430 2.960413 50.00000 6.123724  9.186732  \n",
       "2  109            131          58.25797 2.381736 44.69697 5.515235 34.278771  \n",
       "⋮  ⋮              ⋮            ⋮        ⋮        ⋮        ⋮        ⋮          \n",
       "11  28             48          58.50129 3.080248 47.50000 6.614378  8.746406  \n",
       "12 108            131          59.28758 2.245139 47.10145 5.275442 34.126796  \n",
       "   hairpin_sd homodimer_avg homodimer_sd\n",
       "1  15.96080   -27.85341     19.18871    \n",
       "2  21.23054   -20.38007     18.57597    \n",
       "⋮  ⋮          ⋮             ⋮           \n",
       "11 15.15228   -30.77627     14.07363    \n",
       "12 21.17235   -18.36255     18.62297    "
      ]
     },
     "metadata": {},
     "output_type": "display_data"
    }
   ],
   "source": [
    "primer_info = read.delim(file.path(work_dir, 'primers', 'cgp', 'primers_final_info.tsv'), sep='\\t')\n",
    "primer_info %>% unique_n('primer sets', primer_set)\n",
    "primer_info"
   ]
  },
  {
   "cell_type": "markdown",
   "metadata": {},
   "source": [
    "### Gene cluster annotations"
   ]
  },
  {
   "cell_type": "code",
   "execution_count": 132,
   "metadata": {
    "execution": {
     "iopub.execute_input": "2021-01-27T17:19:03.307211Z",
     "iopub.status.busy": "2021-01-27T17:19:03.304647Z",
     "iopub.status.idle": "2021-01-27T17:19:03.373535Z"
    }
   },
   "outputs": [
    {
     "data": {
      "text/html": [
       "<table>\n",
       "<caption>A data.frame: 88 × 13</caption>\n",
       "<thead>\n",
       "\t<tr><th scope=col>gene_type</th><th scope=col>cluster_id</th><th scope=col>seq_uuid</th><th scope=col>seq_orig_name</th><th scope=col>contig_id</th><th scope=col>taxon</th><th scope=col>start</th><th scope=col>end</th><th scope=col>score</th><th scope=col>strand</th><th scope=col>annotation</th><th scope=col>cluster_name</th><th scope=col>clust_id</th></tr>\n",
       "\t<tr><th scope=col>&lt;fct&gt;</th><th scope=col>&lt;int&gt;</th><th scope=col>&lt;fct&gt;</th><th scope=col>&lt;fct&gt;</th><th scope=col>&lt;fct&gt;</th><th scope=col>&lt;fct&gt;</th><th scope=col>&lt;int&gt;</th><th scope=col>&lt;int&gt;</th><th scope=col>&lt;fct&gt;</th><th scope=col>&lt;fct&gt;</th><th scope=col>&lt;fct&gt;</th><th scope=col>&lt;fct&gt;</th><th scope=col>&lt;int&gt;</th></tr>\n",
       "</thead>\n",
       "<tbody>\n",
       "\t<tr><td>cds</td><td>47</td><td>d122751d2f5045f4a7e679e936844455</td><td>JIKNMOCF_02180</td><td>CP002123.1</td><td>GCA_000144405.1_ASM14440v1</td><td>956666</td><td>956917</td><td>.</td><td>+</td><td>50S ribosomal protein L31 type B</td><td>337f9f66dba5471b94e8bb390840e58a</td><td>47</td></tr>\n",
       "\t<tr><td>cds</td><td>47</td><td>f4eae540450645f5ba92cd64b9fdd9e7</td><td>NBHLGDOI_00740</td><td>GG703887.1</td><td>GCA_000162915.1_ASM16291v1</td><td>125057</td><td>125308</td><td>.</td><td>+</td><td>50S ribosomal protein L31 type B</td><td>337f9f66dba5471b94e8bb390840e58a</td><td>47</td></tr>\n",
       "\t<tr><td>⋮</td><td>⋮</td><td>⋮</td><td>⋮</td><td>⋮</td><td>⋮</td><td>⋮</td><td>⋮</td><td>⋮</td><td>⋮</td><td>⋮</td><td>⋮</td><td>⋮</td></tr>\n",
       "\t<tr><td>cds</td><td>47</td><td>c575fe2379e24995b5997b214c92265b</td><td>AFOLKJKN_00204</td><td>UGTM01000002.1</td><td>GCA_900454835.1_52295_A01</td><td> 235158</td><td> 235409</td><td>.</td><td>+</td><td>50S ribosomal protein L31 type B</td><td>337f9f66dba5471b94e8bb390840e58a</td><td>47</td></tr>\n",
       "\t<tr><td>cds</td><td>47</td><td>78a09d0395214bc889e107046b149484</td><td>GDKFNPGA_01939</td><td>UGTP01000001.1</td><td>GCA_900454935.1_57800_C01</td><td>1383755</td><td>1384006</td><td>.</td><td>+</td><td>50S ribosomal protein L31 type B</td><td>337f9f66dba5471b94e8bb390840e58a</td><td>47</td></tr>\n",
       "</tbody>\n",
       "</table>\n"
      ],
      "text/latex": [
       "A data.frame: 88 × 13\n",
       "\\begin{tabular}{lllllllllllll}\n",
       " gene\\_type & cluster\\_id & seq\\_uuid & seq\\_orig\\_name & contig\\_id & taxon & start & end & score & strand & annotation & cluster\\_name & clust\\_id\\\\\n",
       " <fct> & <int> & <fct> & <fct> & <fct> & <fct> & <int> & <int> & <fct> & <fct> & <fct> & <fct> & <int>\\\\\n",
       "\\hline\n",
       "\t cds & 47 & d122751d2f5045f4a7e679e936844455 & JIKNMOCF\\_02180 & CP002123.1 & GCA\\_000144405.1\\_ASM14440v1 & 956666 & 956917 & . & + & 50S ribosomal protein L31 type B & 337f9f66dba5471b94e8bb390840e58a & 47\\\\\n",
       "\t cds & 47 & f4eae540450645f5ba92cd64b9fdd9e7 & NBHLGDOI\\_00740 & GG703887.1 & GCA\\_000162915.1\\_ASM16291v1 & 125057 & 125308 & . & + & 50S ribosomal protein L31 type B & 337f9f66dba5471b94e8bb390840e58a & 47\\\\\n",
       "\t ⋮ & ⋮ & ⋮ & ⋮ & ⋮ & ⋮ & ⋮ & ⋮ & ⋮ & ⋮ & ⋮ & ⋮ & ⋮\\\\\n",
       "\t cds & 47 & c575fe2379e24995b5997b214c92265b & AFOLKJKN\\_00204 & UGTM01000002.1 & GCA\\_900454835.1\\_52295\\_A01 &  235158 &  235409 & . & + & 50S ribosomal protein L31 type B & 337f9f66dba5471b94e8bb390840e58a & 47\\\\\n",
       "\t cds & 47 & 78a09d0395214bc889e107046b149484 & GDKFNPGA\\_01939 & UGTP01000001.1 & GCA\\_900454935.1\\_57800\\_C01 & 1383755 & 1384006 & . & + & 50S ribosomal protein L31 type B & 337f9f66dba5471b94e8bb390840e58a & 47\\\\\n",
       "\\end{tabular}\n"
      ],
      "text/markdown": [
       "\n",
       "A data.frame: 88 × 13\n",
       "\n",
       "| gene_type &lt;fct&gt; | cluster_id &lt;int&gt; | seq_uuid &lt;fct&gt; | seq_orig_name &lt;fct&gt; | contig_id &lt;fct&gt; | taxon &lt;fct&gt; | start &lt;int&gt; | end &lt;int&gt; | score &lt;fct&gt; | strand &lt;fct&gt; | annotation &lt;fct&gt; | cluster_name &lt;fct&gt; | clust_id &lt;int&gt; |\n",
       "|---|---|---|---|---|---|---|---|---|---|---|---|---|\n",
       "| cds | 47 | d122751d2f5045f4a7e679e936844455 | JIKNMOCF_02180 | CP002123.1 | GCA_000144405.1_ASM14440v1 | 956666 | 956917 | . | + | 50S ribosomal protein L31 type B | 337f9f66dba5471b94e8bb390840e58a | 47 |\n",
       "| cds | 47 | f4eae540450645f5ba92cd64b9fdd9e7 | NBHLGDOI_00740 | GG703887.1 | GCA_000162915.1_ASM16291v1 | 125057 | 125308 | . | + | 50S ribosomal protein L31 type B | 337f9f66dba5471b94e8bb390840e58a | 47 |\n",
       "| ⋮ | ⋮ | ⋮ | ⋮ | ⋮ | ⋮ | ⋮ | ⋮ | ⋮ | ⋮ | ⋮ | ⋮ | ⋮ |\n",
       "| cds | 47 | c575fe2379e24995b5997b214c92265b | AFOLKJKN_00204 | UGTM01000002.1 | GCA_900454835.1_52295_A01 |  235158 |  235409 | . | + | 50S ribosomal protein L31 type B | 337f9f66dba5471b94e8bb390840e58a | 47 |\n",
       "| cds | 47 | 78a09d0395214bc889e107046b149484 | GDKFNPGA_01939 | UGTP01000001.1 | GCA_900454935.1_57800_C01 | 1383755 | 1384006 | . | + | 50S ribosomal protein L31 type B | 337f9f66dba5471b94e8bb390840e58a | 47 |\n",
       "\n"
      ],
      "text/plain": [
       "   gene_type cluster_id seq_uuid                         seq_orig_name \n",
       "1  cds       47         d122751d2f5045f4a7e679e936844455 JIKNMOCF_02180\n",
       "2  cds       47         f4eae540450645f5ba92cd64b9fdd9e7 NBHLGDOI_00740\n",
       "⋮  ⋮         ⋮          ⋮                                ⋮             \n",
       "87 cds       47         c575fe2379e24995b5997b214c92265b AFOLKJKN_00204\n",
       "88 cds       47         78a09d0395214bc889e107046b149484 GDKFNPGA_01939\n",
       "   contig_id      taxon                      start   end     score strand\n",
       "1  CP002123.1     GCA_000144405.1_ASM14440v1 956666  956917  .     +     \n",
       "2  GG703887.1     GCA_000162915.1_ASM16291v1 125057  125308  .     +     \n",
       "⋮  ⋮              ⋮                          ⋮       ⋮       ⋮     ⋮     \n",
       "87 UGTM01000002.1 GCA_900454835.1_52295_A01   235158  235409 .     +     \n",
       "88 UGTP01000001.1 GCA_900454935.1_57800_C01  1383755 1384006 .     +     \n",
       "   annotation                       cluster_name                     clust_id\n",
       "1  50S ribosomal protein L31 type B 337f9f66dba5471b94e8bb390840e58a 47      \n",
       "2  50S ribosomal protein L31 type B 337f9f66dba5471b94e8bb390840e58a 47      \n",
       "⋮  ⋮                                ⋮                                ⋮       \n",
       "87 50S ribosomal protein L31 type B 337f9f66dba5471b94e8bb390840e58a 47      \n",
       "88 50S ribosomal protein L31 type B 337f9f66dba5471b94e8bb390840e58a 47      "
      ]
     },
     "metadata": {},
     "output_type": "display_data"
    }
   ],
   "source": [
    "gene_annot = read.delim(file.path(work_dir, 'primers', 'cgp', 'core_clusters_info.tsv'), sep='\\t') %>%\n",
    "    semi_join(primer_info, c('cluster_id')) \n",
    "gene_annot"
   ]
  },
  {
   "cell_type": "code",
   "execution_count": 133,
   "metadata": {
    "execution": {
     "iopub.execute_input": "2021-01-27T17:19:20.645274Z",
     "iopub.status.busy": "2021-01-27T17:19:20.642272Z",
     "iopub.status.idle": "2021-01-27T17:19:20.684497Z"
    }
   },
   "outputs": [
    {
     "data": {
      "text/html": [
       "<table>\n",
       "<caption>A data.frame: 1 × 2</caption>\n",
       "<thead>\n",
       "\t<tr><th scope=col>cluster_id</th><th scope=col>annotation</th></tr>\n",
       "\t<tr><th scope=col>&lt;int&gt;</th><th scope=col>&lt;fct&gt;</th></tr>\n",
       "</thead>\n",
       "<tbody>\n",
       "\t<tr><td>47</td><td>50S ribosomal protein L31 type B</td></tr>\n",
       "</tbody>\n",
       "</table>\n"
      ],
      "text/latex": [
       "A data.frame: 1 × 2\n",
       "\\begin{tabular}{ll}\n",
       " cluster\\_id & annotation\\\\\n",
       " <int> & <fct>\\\\\n",
       "\\hline\n",
       "\t 47 & 50S ribosomal protein L31 type B\\\\\n",
       "\\end{tabular}\n"
      ],
      "text/markdown": [
       "\n",
       "A data.frame: 1 × 2\n",
       "\n",
       "| cluster_id &lt;int&gt; | annotation &lt;fct&gt; |\n",
       "|---|---|\n",
       "| 47 | 50S ribosomal protein L31 type B |\n",
       "\n"
      ],
      "text/plain": [
       "  cluster_id annotation                      \n",
       "1 47         50S ribosomal protein L31 type B"
      ]
     },
     "metadata": {},
     "output_type": "display_data"
    }
   ],
   "source": [
    "df.dims(50)\n",
    "gene_annot %>%\n",
    "    distinct(cluster_id, annotation) \n",
    "df.dims()"
   ]
  },
  {
   "cell_type": "markdown",
   "metadata": {},
   "source": [
    "### Gene cluster: clostest related"
   ]
  },
  {
   "cell_type": "code",
   "execution_count": 135,
   "metadata": {
    "execution": {
     "iopub.execute_input": "2021-01-27T17:19:58.122827Z",
     "iopub.status.busy": "2021-01-27T17:19:58.121134Z",
     "iopub.status.idle": "2021-01-27T17:19:58.273015Z"
    }
   },
   "outputs": [
    {
     "data": {
      "text/html": [
       "<table>\n",
       "<caption>A data.frame: 30 × 17</caption>\n",
       "<thead>\n",
       "\t<tr><th scope=col>cluster_id</th><th scope=col>query</th><th scope=col>subject</th><th scope=col>subject_name</th><th scope=col>pident</th><th scope=col>length</th><th scope=col>mismatch</th><th scope=col>qstart</th><th scope=col>qend</th><th scope=col>sstart</th><th scope=col>send</th><th scope=col>evalue</th><th scope=col>slen</th><th scope=col>qlen</th><th scope=col>sscinames</th><th scope=col>staxids</th><th scope=col>pident_rank</th></tr>\n",
       "\t<tr><th scope=col>&lt;int&gt;</th><th scope=col>&lt;fct&gt;</th><th scope=col>&lt;fct&gt;</th><th scope=col>&lt;fct&gt;</th><th scope=col>&lt;dbl&gt;</th><th scope=col>&lt;int&gt;</th><th scope=col>&lt;int&gt;</th><th scope=col>&lt;int&gt;</th><th scope=col>&lt;int&gt;</th><th scope=col>&lt;int&gt;</th><th scope=col>&lt;int&gt;</th><th scope=col>&lt;dbl&gt;</th><th scope=col>&lt;int&gt;</th><th scope=col>&lt;int&gt;</th><th scope=col>&lt;fct&gt;</th><th scope=col>&lt;fct&gt;</th><th scope=col>&lt;int&gt;</th></tr>\n",
       "</thead>\n",
       "<tbody>\n",
       "\t<tr><td>47</td><td>337f9f66dba5471b94e8bb390840e58a</td><td>SNU04675.1</td><td>None</td><td>91.667</td><td>84</td><td>7</td><td>1</td><td>252</td><td>1</td><td>84</td><td>8.07e-51</td><td>84</td><td>258</td><td>Prevotellaceae bacterium MN60</td><td>1945887</td><td>6</td></tr>\n",
       "\t<tr><td>47</td><td>337f9f66dba5471b94e8bb390840e58a</td><td>TGX83019.1</td><td>None</td><td>96.250</td><td>80</td><td>3</td><td>1</td><td>240</td><td>1</td><td>80</td><td>1.48e-50</td><td>83</td><td>258</td><td>Bacteroidales bacterium      </td><td>2030927</td><td>1</td></tr>\n",
       "\t<tr><td>⋮</td><td>⋮</td><td>⋮</td><td>⋮</td><td>⋮</td><td>⋮</td><td>⋮</td><td>⋮</td><td>⋮</td><td>⋮</td><td>⋮</td><td>⋮</td><td>⋮</td><td>⋮</td><td>⋮</td><td>⋮</td><td>⋮</td></tr>\n",
       "\t<tr><td>47</td><td>337f9f66dba5471b94e8bb390840e58a</td><td>WP_178255657.1</td><td>type B 50S ribosomal protein L31 [Phocaeicola sp. Sa1YUN3]</td><td>85.714</td><td>84</td><td>12</td><td>1</td><td>252</td><td>1</td><td>84</td><td>1.44e-47</td><td>84</td><td>258</td><td>Phocaeicola sp. Sa1YUN3</td><td>2762213</td><td>27</td></tr>\n",
       "\t<tr><td>47</td><td>337f9f66dba5471b94e8bb390840e58a</td><td>MBE6282043.1  </td><td>type B 50S ribosomal protein L31 [Bacteroides sp.]        </td><td>85.714</td><td>84</td><td>12</td><td>1</td><td>252</td><td>1</td><td>84</td><td>1.47e-47</td><td>84</td><td>258</td><td>Bacteroides sp.        </td><td>29523  </td><td>27</td></tr>\n",
       "</tbody>\n",
       "</table>\n"
      ],
      "text/latex": [
       "A data.frame: 30 × 17\n",
       "\\begin{tabular}{lllllllllllllllll}\n",
       " cluster\\_id & query & subject & subject\\_name & pident & length & mismatch & qstart & qend & sstart & send & evalue & slen & qlen & sscinames & staxids & pident\\_rank\\\\\n",
       " <int> & <fct> & <fct> & <fct> & <dbl> & <int> & <int> & <int> & <int> & <int> & <int> & <dbl> & <int> & <int> & <fct> & <fct> & <int>\\\\\n",
       "\\hline\n",
       "\t 47 & 337f9f66dba5471b94e8bb390840e58a & SNU04675.1 & None & 91.667 & 84 & 7 & 1 & 252 & 1 & 84 & 8.07e-51 & 84 & 258 & Prevotellaceae bacterium MN60 & 1945887 & 6\\\\\n",
       "\t 47 & 337f9f66dba5471b94e8bb390840e58a & TGX83019.1 & None & 96.250 & 80 & 3 & 1 & 240 & 1 & 80 & 1.48e-50 & 83 & 258 & Bacteroidales bacterium       & 2030927 & 1\\\\\n",
       "\t ⋮ & ⋮ & ⋮ & ⋮ & ⋮ & ⋮ & ⋮ & ⋮ & ⋮ & ⋮ & ⋮ & ⋮ & ⋮ & ⋮ & ⋮ & ⋮ & ⋮\\\\\n",
       "\t 47 & 337f9f66dba5471b94e8bb390840e58a & WP\\_178255657.1 & type B 50S ribosomal protein L31 {[}Phocaeicola sp. Sa1YUN3{]} & 85.714 & 84 & 12 & 1 & 252 & 1 & 84 & 1.44e-47 & 84 & 258 & Phocaeicola sp. Sa1YUN3 & 2762213 & 27\\\\\n",
       "\t 47 & 337f9f66dba5471b94e8bb390840e58a & MBE6282043.1   & type B 50S ribosomal protein L31 {[}Bacteroides sp.{]}         & 85.714 & 84 & 12 & 1 & 252 & 1 & 84 & 1.47e-47 & 84 & 258 & Bacteroides sp.         & 29523   & 27\\\\\n",
       "\\end{tabular}\n"
      ],
      "text/markdown": [
       "\n",
       "A data.frame: 30 × 17\n",
       "\n",
       "| cluster_id &lt;int&gt; | query &lt;fct&gt; | subject &lt;fct&gt; | subject_name &lt;fct&gt; | pident &lt;dbl&gt; | length &lt;int&gt; | mismatch &lt;int&gt; | qstart &lt;int&gt; | qend &lt;int&gt; | sstart &lt;int&gt; | send &lt;int&gt; | evalue &lt;dbl&gt; | slen &lt;int&gt; | qlen &lt;int&gt; | sscinames &lt;fct&gt; | staxids &lt;fct&gt; | pident_rank &lt;int&gt; |\n",
       "|---|---|---|---|---|---|---|---|---|---|---|---|---|---|---|---|---|\n",
       "| 47 | 337f9f66dba5471b94e8bb390840e58a | SNU04675.1 | None | 91.667 | 84 | 7 | 1 | 252 | 1 | 84 | 8.07e-51 | 84 | 258 | Prevotellaceae bacterium MN60 | 1945887 | 6 |\n",
       "| 47 | 337f9f66dba5471b94e8bb390840e58a | TGX83019.1 | None | 96.250 | 80 | 3 | 1 | 240 | 1 | 80 | 1.48e-50 | 83 | 258 | Bacteroidales bacterium       | 2030927 | 1 |\n",
       "| ⋮ | ⋮ | ⋮ | ⋮ | ⋮ | ⋮ | ⋮ | ⋮ | ⋮ | ⋮ | ⋮ | ⋮ | ⋮ | ⋮ | ⋮ | ⋮ | ⋮ |\n",
       "| 47 | 337f9f66dba5471b94e8bb390840e58a | WP_178255657.1 | type B 50S ribosomal protein L31 [Phocaeicola sp. Sa1YUN3] | 85.714 | 84 | 12 | 1 | 252 | 1 | 84 | 1.44e-47 | 84 | 258 | Phocaeicola sp. Sa1YUN3 | 2762213 | 27 |\n",
       "| 47 | 337f9f66dba5471b94e8bb390840e58a | MBE6282043.1   | type B 50S ribosomal protein L31 [Bacteroides sp.]         | 85.714 | 84 | 12 | 1 | 252 | 1 | 84 | 1.47e-47 | 84 | 258 | Bacteroides sp.         | 29523   | 27 |\n",
       "\n"
      ],
      "text/plain": [
       "   cluster_id query                            subject       \n",
       "1  47         337f9f66dba5471b94e8bb390840e58a SNU04675.1    \n",
       "2  47         337f9f66dba5471b94e8bb390840e58a TGX83019.1    \n",
       "⋮  ⋮          ⋮                                ⋮             \n",
       "29 47         337f9f66dba5471b94e8bb390840e58a WP_178255657.1\n",
       "30 47         337f9f66dba5471b94e8bb390840e58a MBE6282043.1  \n",
       "   subject_name                                               pident length\n",
       "1  None                                                       91.667 84    \n",
       "2  None                                                       96.250 80    \n",
       "⋮  ⋮                                                          ⋮      ⋮     \n",
       "29 type B 50S ribosomal protein L31 [Phocaeicola sp. Sa1YUN3] 85.714 84    \n",
       "30 type B 50S ribosomal protein L31 [Bacteroides sp.]         85.714 84    \n",
       "   mismatch qstart qend sstart send evalue   slen qlen\n",
       "1  7        1      252  1      84   8.07e-51 84   258 \n",
       "2  3        1      240  1      80   1.48e-50 83   258 \n",
       "⋮  ⋮        ⋮      ⋮    ⋮      ⋮    ⋮        ⋮    ⋮   \n",
       "29 12       1      252  1      84   1.44e-47 84   258 \n",
       "30 12       1      252  1      84   1.47e-47 84   258 \n",
       "   sscinames                     staxids pident_rank\n",
       "1  Prevotellaceae bacterium MN60 1945887 6          \n",
       "2  Bacteroidales bacterium       2030927 1          \n",
       "⋮  ⋮                             ⋮       ⋮          \n",
       "29 Phocaeicola sp. Sa1YUN3       2762213 27         \n",
       "30 Bacteroides sp.               29523   27         "
      ]
     },
     "metadata": {},
     "output_type": "display_data"
    }
   ],
   "source": [
    "gene_annot = read.delim(file.path(work_dir, 'primers', 'cgp', 'nontarget', 'cds_blastx.tsv'), sep='\\t') %>%\n",
    "    semi_join(primer_info, c('cluster_id')) \n",
    "gene_annot"
   ]
  },
  {
   "cell_type": "code",
   "execution_count": 137,
   "metadata": {
    "execution": {
     "iopub.execute_input": "2021-01-27T17:20:54.860251Z",
     "iopub.status.busy": "2021-01-27T17:20:54.857866Z",
     "iopub.status.idle": "2021-01-27T17:20:54.906625Z"
    }
   },
   "outputs": [
    {
     "data": {
      "text/html": [
       "<table>\n",
       "<caption>A data.frame: 3 × 3</caption>\n",
       "<thead>\n",
       "\t<tr><th scope=col>cluster_id</th><th scope=col>sscinames</th><th scope=col>pident</th></tr>\n",
       "\t<tr><th scope=col>&lt;int&gt;</th><th scope=col>&lt;fct&gt;</th><th scope=col>&lt;dbl&gt;</th></tr>\n",
       "</thead>\n",
       "<tbody>\n",
       "\t<tr><td>47</td><td>Bacteroidales bacterium               </td><td>96.250</td></tr>\n",
       "\t<tr><td>47</td><td>Prevotellamassilia timonensis         </td><td>95.062</td></tr>\n",
       "\t<tr><td>47</td><td>Prevotellaceae bacterium LKV-178-WT-2A</td><td>93.750</td></tr>\n",
       "</tbody>\n",
       "</table>\n"
      ],
      "text/latex": [
       "A data.frame: 3 × 3\n",
       "\\begin{tabular}{lll}\n",
       " cluster\\_id & sscinames & pident\\\\\n",
       " <int> & <fct> & <dbl>\\\\\n",
       "\\hline\n",
       "\t 47 & Bacteroidales bacterium                & 96.250\\\\\n",
       "\t 47 & Prevotellamassilia timonensis          & 95.062\\\\\n",
       "\t 47 & Prevotellaceae bacterium LKV-178-WT-2A & 93.750\\\\\n",
       "\\end{tabular}\n"
      ],
      "text/markdown": [
       "\n",
       "A data.frame: 3 × 3\n",
       "\n",
       "| cluster_id &lt;int&gt; | sscinames &lt;fct&gt; | pident &lt;dbl&gt; |\n",
       "|---|---|---|\n",
       "| 47 | Bacteroidales bacterium                | 96.250 |\n",
       "| 47 | Prevotellamassilia timonensis          | 95.062 |\n",
       "| 47 | Prevotellaceae bacterium LKV-178-WT-2A | 93.750 |\n",
       "\n"
      ],
      "text/plain": [
       "  cluster_id sscinames                              pident\n",
       "1 47         Bacteroidales bacterium                96.250\n",
       "2 47         Prevotellamassilia timonensis          95.062\n",
       "3 47         Prevotellaceae bacterium LKV-178-WT-2A 93.750"
      ]
     },
     "metadata": {},
     "output_type": "display_data"
    }
   ],
   "source": [
    "df.dims(50)\n",
    "gene_annot %>%\n",
    "    filter(pident > 80,\n",
    "           pident_rank <= 3) %>%\n",
    "    select(cluster_id, sscinames, pident)\n",
    "df.dims()"
   ]
  },
  {
   "cell_type": "markdown",
   "metadata": {},
   "source": [
    "# sessionInfo"
   ]
  },
  {
   "cell_type": "code",
   "execution_count": 138,
   "metadata": {
    "execution": {
     "iopub.execute_input": "2021-01-27T17:21:08.367875Z",
     "iopub.status.busy": "2021-01-27T17:21:08.365706Z",
     "iopub.status.idle": "2021-01-27T17:21:08.668744Z"
    }
   },
   "outputs": [
    {
     "name": "stdout",
     "output_type": "stream",
     "text": [
      "LLG\n",
      "===\n",
      "\n",
      "Ley Lab Genome analysis pipeline (LLG)\n",
      "\n",
      "* Version: 0.1.9\n",
      "* Authors:\n",
      "  * Nick Youngblut <nyoungb2@gmail.com>\n",
      "* Maintainers:\n",
      "  * Nick Youngblut <nyoungb2@gmail.com>\n",
      "\n",
      "--- conda envs ---\n",
      "==> /ebio/abt3_projects/software/dev/ll_pipelines/llg//bin/envs/gtdbtk.yaml <==\n",
      "channels:\n",
      "- conda-forge\n",
      "- bioconda\n",
      "dependencies:\n",
      "- pigz\n",
      "- bioconda::gtdbtk\n",
      "\n",
      "==> /ebio/abt3_projects/software/dev/ll_pipelines/llg//bin/envs/checkm.yaml <==\n",
      "channels:\n",
      "- bioconda\n",
      "dependencies:\n",
      "- python=2.7\n",
      "- pigz\n",
      "- bioconda::prodigal\n",
      "- bioconda::pplacer\n",
      "- bioconda::checkm-genome\n",
      "\n",
      "==> /ebio/abt3_projects/software/dev/ll_pipelines/llg//bin/envs/quast.yaml <==\n",
      "channels:\n",
      "- conda-forge\n",
      "- bioconda\n",
      "dependencies:\n",
      "- bioconda::seqkit\n",
      "- bioconda::quast>=5.0.0\n",
      "\n",
      "==> /ebio/abt3_projects/software/dev/ll_pipelines/llg//bin/envs/sourmash.yaml <==\n",
      "channels:\n",
      "- conda-forge\n",
      "- bioconda\n",
      "dependencies:\n",
      "- bioconda::sourmash=2.0.0a4\n",
      "\n",
      "==> /ebio/abt3_projects/software/dev/ll_pipelines/llg//bin/envs/fastqc.yaml <==\n",
      "channels:\n",
      "- conda-forge\n",
      "- bioconda\n",
      "dependencies:\n",
      "- bioconda::seqtk\n",
      "- bioconda::fastqc=0.11.7\n",
      "\n",
      "==> /ebio/abt3_projects/software/dev/ll_pipelines/llg//bin/envs/multiqc.yaml <==\n",
      "channels:\n",
      "- conda-forge\n",
      "- bioconda\n",
      "dependencies:\n",
      "- bioconda::multiqc=1.4\n",
      "\n",
      "==> /ebio/abt3_projects/software/dev/ll_pipelines/llg//bin/envs/hadley.yaml <==\n",
      "channels:\n",
      "- conda-forge\n",
      "- bioconda\n",
      "dependencies:\n",
      "- conda-forge::r-ape\n",
      "- conda-forge::r-dplyr\n",
      "- conda-forge::r-tidyr\n",
      "- conda-forge::r-ggplot2\n",
      "\n",
      "==> /ebio/abt3_projects/software/dev/ll_pipelines/llg//bin/envs/bbmap.yaml <==\n",
      "channels:\n",
      "- conda-forge\n",
      "- bioconda\n",
      "dependencies:\n",
      "- pigz\n",
      "- bioconda::bbmap=37.78\n",
      "\n",
      "==> /ebio/abt3_projects/software/dev/ll_pipelines/llg//bin/envs/ani.yaml <==\n",
      "channels:\n",
      "- conda-forge\n",
      "- bioconda\n",
      "dependencies:\n",
      "- pigz\n",
      "- bioconda::dashing\n",
      "- bioconda::fastani\n",
      "==> /ebio/abt3_projects/software/dev/ll_pipelines/llg//bin/envs/prokka.yaml <==\n",
      "channels:\n",
      "- conda-forge\n",
      "- bioconda\n",
      "dependencies:\n",
      "- bioconda::prokka\n",
      "\n",
      "==> /ebio/abt3_projects/software/dev/ll_pipelines/llg//bin/envs/prodigal.yaml <==\n",
      "channels:\n",
      "- conda-forge\n",
      "- bioconda\n",
      "dependencies:\n",
      "- bioconda::prodigal\n",
      "- pip:\n",
      "  - biopython-convert\n",
      "\n",
      "==> /ebio/abt3_projects/software/dev/ll_pipelines/llg//bin/envs/eggnog-mapper.yaml <==\n",
      "channels:\n",
      "- conda-forge\n",
      "- bioconda\n",
      "dependencies:\n",
      "- pigz\n",
      "- bioconda::eggnog-mapper\n",
      "\n",
      "==> /ebio/abt3_projects/software/dev/ll_pipelines/llg//bin/envs/phylophlan.yaml <==\n",
      "channels:\n",
      "- conda-forge\n",
      "- bioconda\n",
      "dependencies:\n",
      "- pigz\n",
      "- bioconda::phylophlan\n",
      "\n",
      "==> /ebio/abt3_projects/software/dev/ll_pipelines/llg//bin/envs/drep.yaml <==\n",
      "channels:\n",
      "- conda-forge\n",
      "- bioconda\n",
      "dependencies:\n",
      "- pigz\n",
      "- bioconda::mash\n",
      "- bioconda::checkm-genome\n",
      "- bioconda::drep\n",
      "==> /ebio/abt3_projects/software/dev/ll_pipelines/llg//bin/envs/antismash.yaml <==\n",
      "channels:\n",
      "- conda-forge\n",
      "- bioconda\n",
      "dependencies:\n",
      "- pigz\n",
      "- biopython=1.76\n",
      "- bioconda::antismash>=5.1.2\n",
      "\n",
      "==> /ebio/abt3_projects/software/dev/ll_pipelines/llg//bin/envs/deepbgc.yaml <==\n",
      "channels:\n",
      "- conda-forge\n",
      "- bioconda\n",
      "dependencies:\n",
      "- pigz\n",
      "- conda-forge::biopython=1.76\n",
      "- bioconda::deepbgc=0.1.18\n",
      "\n",
      "==> /ebio/abt3_projects/software/dev/ll_pipelines/llg//bin/envs/abricate.yaml <==\n",
      "channels:\n",
      "- conda-forge\n",
      "- bioconda\n",
      "dependencies:\n",
      "- bioconda::abricate\n",
      "\n",
      "==> /ebio/abt3_projects/software/dev/ll_pipelines/llg//bin/envs/rRNA.yaml <==\n",
      "channels:\n",
      "- qiime2/label/r2020.2\n",
      "- conda-forge\n",
      "- bioconda\n",
      "- defaults\n",
      "dependencies:\n",
      "- barrnap\n",
      "- _libgcc_mutex=0.1\n",
      "- _openmp_mutex=4.5\n",
      "- _r-mutex=1.0.1\n",
      "- alsa-lib=1.1.5\n",
      "- arb-bio-tools=6.0.6\n",
      "- attrs=19.3.0\n",
      "- backcall=0.1.0\n",
      "- bibtexparser=1.1.0\n",
      "- binutils_impl_linux-64=2.33.1\n",
      "- binutils_linux-64=2.33.1\n",
      "- bioconductor-biobase=2.42.0\n",
      "- bioconductor-biocgenerics=0.28.0\n",
      "- bioconductor-biocparallel=1.16.6\n",
      "- bioconductor-biostrings=2.50.2\n",
      "- bioconductor-dada2=1.10.0\n",
      "- bioconductor-delayedarray=0.8.0\n",
      "- bioconductor-genomeinfodb=1.18.1\n",
      "- bioconductor-genomeinfodbdata=1.2.1\n",
      "- bioconductor-genomicalignments=1.18.1\n",
      "- bioconductor-genomicranges=1.34.0\n",
      "- bioconductor-iranges=2.16.0\n",
      "- bioconductor-rsamtools=1.34.0\n",
      "- bioconductor-s4vectors=0.20.1\n",
      "- bioconductor-shortread=1.40.0\n",
      "- bioconductor-summarizedexperiment=1.12.0\n",
      "- bioconductor-xvector=0.22.0\n",
      "- bioconductor-zlibbioc=1.28.0\n",
      "- biom-format=2.1.8\n",
      "- blas=2.14\n",
      "- blast=2.9.0\n",
      "- bleach=3.1.1\n",
      "- bokeh=1.4.0\n",
      "- boost=1.68.0\n",
      "- boost-cpp=1.68.0\n",
      "- bwidget=1.9.14\n",
      "- bzip2=1.0.8\n",
      "- ca-certificates=2019.11.28\n",
      "- cachecontrol=0.12.5\n",
      "- cairo=1.16.0\n",
      "- certifi=2019.11.28\n",
      "- cffi=1.13.2\n",
      "- chardet=3.0.4\n",
      "- click=7.0\n",
      "- cryptography=2.8\n",
      "- curl=7.68.0\n",
      "- cutadapt=2.8\n",
      "- cycler=0.10.0\n",
      "- cython=0.29.15\n",
      "- dbus=1.13.6\n",
      "- deblur=1.1.0\n",
      "- decorator=4.4.1\n",
      "- defusedxml=0.6.0\n",
      "- dendropy=4.4.0\n",
      "- dnaio=0.4.1\n",
      "- emperor=1.0.0\n",
      "- entrypoints=0.3\n",
      "- expat=2.2.9\n",
      "- fastcluster=1.1.26\n",
      "- fasttree=2.1.10\n",
      "- fontconfig=2.13.1\n",
      "- freetype=2.10.0\n",
      "- future=0.18.2\n",
      "- gcc_impl_linux-64=7.3.0\n",
      "- gcc_linux-64=7.3.0\n",
      "- gettext=0.19.8.1\n",
      "- gfortran_impl_linux-64=7.3.0\n",
      "- gfortran_linux-64=7.3.0\n",
      "- giflib=5.2.1\n",
      "- glib=2.58.3\n",
      "- gmp=6.2.0\n",
      "- gneiss=0.4.6\n",
      "- gnutls=3.6.5\n",
      "- graphite2=1.3.13\n",
      "- gsl=2.5\n",
      "- gst-plugins-base=1.14.5\n",
      "- gstreamer=1.14.5\n",
      "- gxx_impl_linux-64=7.3.0\n",
      "- gxx_linux-64=7.3.0\n",
      "- h5py=2.10.0\n",
      "- harfbuzz=2.4.0\n",
      "- hdf5=1.10.5\n",
      "- hdmedians=0.13\n",
      "- hmmer=3.1b2\n",
      "- icu=58.2\n",
      "- idna=2.9\n",
      "- ijson=2.6.1\n",
      "- importlib_metadata=1.5.0\n",
      "- ipykernel=5.1.4\n",
      "- ipython=7.12.0\n",
      "- ipython_genutils=0.2.0\n",
      "- ipywidgets=7.5.1\n",
      "- iqtree=1.6.12\n",
      "- jedi=0.16.0\n",
      "- jinja2=2.11.1\n",
      "- joblib=0.14.1\n",
      "- jpeg=9c\n",
      "- jsonschema=3.2.0\n",
      "- jupyter_client=6.0.0\n",
      "- jupyter_core=4.6.3\n",
      "- kiwisolver=1.1.0\n",
      "- krb5=1.16.4\n",
      "- lcms2=2.9\n",
      "- ld_impl_linux-64=2.33.1\n",
      "- libarbdb=6.0.6\n",
      "- libblas=3.8.0\n",
      "- libcblas=3.8.0\n",
      "- libcurl=7.68.0\n",
      "- libedit=3.1.20170329\n",
      "- libffi=3.2.1\n",
      "- libgcc=7.2.0\n",
      "- libgcc-ng=9.2.0\n",
      "- libgfortran-ng=7.3.0\n",
      "- libgomp=9.2.0\n",
      "- libiconv=1.15\n",
      "- liblapack=3.8.0\n",
      "- liblapacke=3.8.0\n",
      "- libopenblas=0.3.7\n",
      "- libpng=1.6.37\n",
      "- libsodium=1.0.17\n",
      "- libssh2=1.8.2\n",
      "- libstdcxx-ng=9.2.0\n",
      "- libtiff=4.1.0\n",
      "- libuuid=2.32.1\n",
      "- libxcb=1.13\n",
      "- libxml2=2.9.9\n",
      "- lockfile=0.12.2\n",
      "- lz4-c=1.8.3\n",
      "- mafft=7.310\n",
      "- make=4.3\n",
      "- markupsafe=1.1.1\n",
      "- matplotlib=3.1.1\n",
      "- matplotlib-base=3.1.1\n",
      "- mistune=0.8.4\n",
      "- more-itertools=8.2.0\n",
      "- msgpack-python=1.0.0\n",
      "- natsort=7.0.1\n",
      "- nbconvert=5.6.1\n",
      "- nbformat=5.0.4\n",
      "- ncurses=6.1\n",
      "- nettle=3.4.1\n",
      "- networkx=2.4\n",
      "- nose=1.3.7\n",
      "- notebook=6.0.3\n",
      "- numpy=1.18.1\n",
      "- olefile=0.46\n",
      "- openjdk=11.0.1\n",
      "- openssl=1.1.1d\n",
      "- packaging=20.1\n",
      "- pandas=0.25.3\n",
      "- pandoc=2.9.2\n",
      "- pandocfilters=1.4.2\n",
      "- pango=1.40.14\n",
      "- parso=0.6.1\n",
      "- patsy=0.5.1\n",
      "- pcre=8.44\n",
      "- perl=5.26.2\n",
      "- perl-archive-tar=2.32\n",
      "- perl-carp=1.38\n",
      "- perl-common-sense=3.74\n",
      "- perl-compress-raw-bzip2=2.087\n",
      "- perl-compress-raw-zlib=2.087\n",
      "- perl-exporter=5.72\n",
      "- perl-exporter-tiny=1.002001\n",
      "- perl-extutils-makemaker=7.36\n",
      "- perl-io-compress=2.087\n",
      "- perl-io-zlib=1.10\n",
      "- perl-json=4.02\n",
      "- perl-json-xs=2.34\n",
      "- perl-list-moreutils=0.428\n",
      "- perl-list-moreutils-xs=0.428\n",
      "- perl-pathtools=3.75\n",
      "- perl-scalar-list-utils=1.52\n",
      "- perl-types-serialiser=1.0\n",
      "- perl-xsloader=0.24\n",
      "- pexpect=4.8.0\n",
      "- pickleshare=0.7.5\n",
      "- pigz=2.3.4\n",
      "- pillow=7.0.0\n",
      "- pip=20.0.2\n",
      "- pixman=0.38.0\n",
      "- pluggy=0.12.0\n",
      "- prometheus_client=0.7.1\n",
      "- prompt_toolkit=3.0.3\n",
      "- psutil=5.7.0\n",
      "- pthread-stubs=0.4\n",
      "- ptyprocess=0.6.0\n",
      "- py=1.8.1\n",
      "- pycparser=2.19\n",
      "- pygments=2.5.2\n",
      "- pyopenssl=19.1.0\n",
      "- pyparsing=2.4.6\n",
      "- pyqt=5.9.2\n",
      "- pyrsistent=0.15.7\n",
      "- pysocks=1.7.1\n",
      "- pytest=5.3.5\n",
      "- python=3.6.7\n",
      "- python-dateutil=2.8.1\n",
      "- pytz=2019.3\n",
      "- pyyaml=5.3\n",
      "- pyzmq=19.0.0\n",
      "- q2-alignment=2020.2.0\n",
      "- q2-composition=2020.2.0\n",
      "- q2-cutadapt=2020.2.0\n",
      "- q2-dada2=2020.2.0\n",
      "- q2-deblur=2020.2.0\n",
      "- q2-demux=2020.2.0\n",
      "- q2-diversity=2020.2.0\n",
      "- q2-emperor=2020.2.0\n",
      "- q2-feature-classifier=2020.2.0\n",
      "- q2-feature-table=2020.2.0\n",
      "- q2-fragment-insertion=2020.2.0\n",
      "- q2-gneiss=2020.2.0\n",
      "- q2-longitudinal=2020.2.0\n",
      "- q2-metadata=2020.2.0\n",
      "- q2-phylogeny=2020.2.0\n",
      "- q2-quality-control=2020.2.0\n",
      "- q2-quality-filter=2020.2.0\n",
      "- q2-sample-classifier=2020.2.0\n",
      "- q2-taxa=2020.2.0\n",
      "- q2-types=2020.2.0\n",
      "- q2-vsearch=2020.2.0\n",
      "- q2cli=2020.2.0\n",
      "- q2templates=2020.2.0\n",
      "- qiime2=2020.2.0\n",
      "- qt=5.9.7\n",
      "- r-assertthat=0.2.1\n",
      "- r-backports=1.1.5\n",
      "- r-base=3.5.1\n",
      "- r-bh=1.72.0_3\n",
      "- r-bitops=1.0_6\n",
      "- r-cli=2.0.2\n",
      "- r-cluster=2.1.0\n",
      "- r-colorspace=1.4_1\n",
      "- r-crayon=1.3.4\n",
      "- r-data.table=1.12.6\n",
      "- r-digest=0.6.25\n",
      "- r-ellipsis=0.3.0\n",
      "- r-fansi=0.4.1\n",
      "- r-farver=2.0.3\n",
      "- r-formatr=1.7\n",
      "- r-futile.logger=1.4.3\n",
      "- r-futile.options=1.0.1\n",
      "- r-ggplot2=3.2.1\n",
      "- r-glue=1.3.1\n",
      "- r-gtable=0.3.0\n",
      "- r-hwriter=1.3.2\n",
      "- r-labeling=0.3\n",
      "- r-lambda.r=1.2.4\n",
      "- r-lattice=0.20_40\n",
      "- r-latticeextra=0.6_28\n",
      "- r-lazyeval=0.2.2\n",
      "- r-lifecycle=0.1.0\n",
      "- r-magrittr=1.5\n",
      "- r-mass=7.3_51.5\n",
      "- r-matrix=1.2_18\n",
      "- r-matrixstats=0.55.0\n",
      "- r-mgcv=1.8_31\n",
      "- r-munsell=0.5.0\n",
      "- r-nlme=3.1_144\n",
      "- r-permute=0.9_5\n",
      "- r-pillar=1.4.3\n",
      "- r-pkgconfig=2.0.3\n",
      "- r-plyr=1.8.5\n",
      "- r-r6=2.4.1\n",
      "- r-rcolorbrewer=1.1_2\n",
      "- r-rcpp=1.0.3\n",
      "- r-rcppparallel=4.4.4\n",
      "- r-rcurl=1.98_1.1\n",
      "- r-reshape2=1.4.3\n",
      "- r-rlang=0.4.4\n",
      "- r-scales=1.1.0\n",
      "- r-snow=0.4_3\n",
      "- r-stringi=1.4.3\n",
      "- r-stringr=1.4.0\n",
      "- r-tibble=2.1.3\n",
      "- r-utf8=1.1.4\n",
      "- r-vctrs=0.2.3\n",
      "- r-vegan=2.5_6\n",
      "- r-viridislite=0.3.0\n",
      "- r-withr=2.1.2\n",
      "- r-zeallot=0.1.0\n",
      "- raxml=8.2.12\n",
      "- readline=8.0\n",
      "- requests=2.23.0\n",
      "- scikit-bio=0.5.5\n",
      "- scikit-learn=0.22.1\n",
      "- scipy=1.4.1\n",
      "- seaborn=0.10.0\n",
      "- send2trash=1.5.0\n",
      "- sepp=4.3.10\n",
      "- setuptools=45.2.0\n",
      "- sina=1.6.0\n",
      "- sip=4.19.8\n",
      "- six=1.14.0\n",
      "- sortmerna=2.0\n",
      "- sqlite=3.30.1\n",
      "- statsmodels=0.11.1\n",
      "- tbb=2019.9\n",
      "- terminado=0.8.3\n",
      "- testpath=0.4.4\n",
      "- tk=8.6.10\n",
      "- tktable=2.10\n",
      "- tornado=6.0.3\n",
      "- traitlets=4.3.3\n",
      "- tzlocal=2.0.0\n",
      "- unifrac=0.10.0\n",
      "- urllib3=1.25.7\n",
      "- vsearch=2.7.0\n",
      "- wcwidth=0.1.8\n",
      "- webencodings=0.5.1\n",
      "- wheel=0.34.2\n",
      "- widgetsnbextension=3.5.1\n",
      "- xopen=0.8.4\n",
      "- xorg-fixesproto=5.0\n",
      "- xorg-inputproto=2.3.2\n",
      "- xorg-kbproto=1.0.7\n",
      "- xorg-libice=1.0.10\n",
      "- xorg-libsm=1.2.3\n",
      "- xorg-libx11=1.6.9\n",
      "- xorg-libxau=1.0.9\n",
      "- xorg-libxdmcp=1.1.3\n",
      "- xorg-libxext=1.3.4\n",
      "- xorg-libxfixes=5.0.3\n",
      "- xorg-libxi=1.7.10\n",
      "- xorg-libxrender=0.9.10\n",
      "- xorg-libxtst=1.2.3\n",
      "- xorg-recordproto=1.14.2\n",
      "- xorg-renderproto=0.11.1\n",
      "- xorg-xextproto=7.3.0\n",
      "- xorg-xproto=7.0.31\n",
      "- xz=5.2.4\n",
      "- yaml=0.2.2\n",
      "- zeromq=4.3.2\n",
      "- zipp=3.0.0\n",
      "- zlib=1.2.11\n",
      "- zstd=1.4.4\n",
      "==> /ebio/abt3_projects/software/dev/ll_pipelines/llg//bin/envs/traitar.yaml <==\n",
      "channels:\n",
      "- conda-forge\n",
      "- bioconda\n",
      "dependencies:\n",
      "- scipy\n",
      "- pandas\n",
      "- numpy\n",
      "- matplotlib\n",
      "- pigz\n",
      "- bioconda::hmmer\n",
      "- pip:\n",
      "  - traitar3>=0.1.1\n",
      "\n",
      "==> /ebio/abt3_projects/software/dev/ll_pipelines/llg//bin/envs/cctyper.yaml <==\n",
      "channels:\n",
      "- conda-forge\n",
      "- bioconda\n",
      "- russel88\n",
      "dependencies:\n",
      "- pigz\n",
      "- cctyper\n",
      "\n",
      "==> /ebio/abt3_projects/software/dev/ll_pipelines/llg//bin/envs/comparem.yaml <==\n",
      "channels:\n",
      "- conda-forge\n",
      "- bioconda\n",
      "dependencies:\n",
      "- pigz\n",
      "- bioconda::comparem"
     ]
    }
   ],
   "source": [
    "pipelineInfo('/ebio/abt3_projects/software/dev/ll_pipelines/llg/')"
   ]
  },
  {
   "cell_type": "code",
   "execution_count": 139,
   "metadata": {
    "execution": {
     "iopub.execute_input": "2021-01-27T17:21:08.818244Z",
     "iopub.status.busy": "2021-01-27T17:21:08.816499Z",
     "iopub.status.idle": "2021-01-27T17:21:08.884313Z"
    }
   },
   "outputs": [
    {
     "name": "stdout",
     "output_type": "stream",
     "text": [
      "LLPRIMER\n",
      "========\n",
      "\n",
      "Ley Lab Primer generation pipeline (LLPRIMER)\n",
      "\n",
      "* Version: 0.2.3\n",
      "* Authors:\n",
      "  * Nick Youngblut <nyoungb2@gmail.com>\n",
      "* Maintainers:\n",
      "  * Nick Youngblut <nyoungb2@gmail.com>\n",
      "\n",
      "--- conda envs ---\n",
      "==> /ebio/abt3_projects/software/dev/ll_pipelines/llprimer//bin/envs/pdp.yaml <==\n",
      "channels:\n",
      "- conda-forge\n",
      "- bioconda\n",
      "dependencies:\n",
      "- python=3.7\n",
      "- intervaltree\n",
      "- prodigal\n",
      "- blast\n",
      "- bedtools\n",
      "- mafft\n",
      "- mummer=3.23\n",
      "- emboss\n",
      "- primer3=1.1.4\n",
      "- biopython<1.78\n",
      "- pybedtools\n",
      "- joblib\n",
      "- tqdm\n",
      "- openpyxl\n",
      "\n",
      "==> /ebio/abt3_projects/software/dev/ll_pipelines/llprimer//bin/envs/genes.yaml <==\n",
      "channels:\n",
      "- bioconda\n",
      "dependencies:\n",
      "- pigz\n",
      "- python=3\n",
      "- numpy\n",
      "- pyfaidx\n",
      "- bioconda::seqkit\n",
      "- bioconda::fasta-splitter\n",
      "- bioconda::vsearch\n",
      "- bioconda::mmseqs2\n",
      "==> /ebio/abt3_projects/software/dev/ll_pipelines/llprimer//bin/envs/aln.yaml <==\n",
      "channels:\n",
      "- bioconda\n",
      "- conda-forge\n",
      "dependencies:\n",
      "- pigz\n",
      "- bioconda::kalign3\n",
      "- bioconda::mafft\n",
      "\n",
      "==> /ebio/abt3_projects/software/dev/ll_pipelines/llprimer//bin/envs/blast.yaml <==\n",
      "channels:\n",
      "- bioconda\n",
      "- conda-forge\n",
      "dependencies:\n",
      "- pigz\n",
      "- bioconda::seqkit\n",
      "- bioconda::biopython<1.78\n",
      "- bioconda::blast>=2.10.1\n",
      "\n",
      "==> /ebio/abt3_projects/software/dev/ll_pipelines/llprimer//bin/envs/taxids.yaml <==\n",
      "channels:\n",
      "- conda-forge\n",
      "- bioconda\n",
      "dependencies:\n",
      "- intervaltree\n",
      "- taxonkit\n",
      "\n",
      "==> /ebio/abt3_projects/software/dev/ll_pipelines/llprimer//bin/envs/primer3.yaml <==\n",
      "channels:\n",
      "- bioconda\n",
      "- conda-forge\n",
      "dependencies:\n",
      "- pigz\n",
      "- bioconda::biopython<1.78\n",
      "- bioconda::primer3-py\n",
      "==> /ebio/abt3_projects/software/dev/ll_pipelines/llprimer//bin/envs/prokka.yaml <==\n",
      "channels:\n",
      "- bioconda\n",
      "dependencies:\n",
      "- pigz\n",
      "- bioconda::prokka"
     ]
    }
   ],
   "source": [
    "pipelineInfo('/ebio/abt3_projects/software/dev/ll_pipelines/llprimer/')"
   ]
  },
  {
   "cell_type": "code",
   "execution_count": 140,
   "metadata": {
    "execution": {
     "iopub.execute_input": "2021-01-27T17:21:09.136515Z",
     "iopub.status.busy": "2021-01-27T17:21:09.134671Z",
     "iopub.status.idle": "2021-01-27T17:21:09.349713Z"
    }
   },
   "outputs": [
    {
     "data": {
      "text/plain": [
       "R version 3.6.3 (2020-02-29)\n",
       "Platform: x86_64-conda_cos6-linux-gnu (64-bit)\n",
       "Running under: Ubuntu 18.04.5 LTS\n",
       "\n",
       "Matrix products: default\n",
       "BLAS/LAPACK: /ebio/abt3_projects/Georg_animal_feces/envs/tidyverse/lib/libopenblasp-r0.3.9.so\n",
       "\n",
       "locale:\n",
       " [1] LC_CTYPE=en_US.UTF-8       LC_NUMERIC=C              \n",
       " [3] LC_TIME=en_US.UTF-8        LC_COLLATE=en_US.UTF-8    \n",
       " [5] LC_MONETARY=en_US.UTF-8    LC_MESSAGES=en_US.UTF-8   \n",
       " [7] LC_PAPER=en_US.UTF-8       LC_NAME=C                 \n",
       " [9] LC_ADDRESS=C               LC_TELEPHONE=C            \n",
       "[11] LC_MEASUREMENT=en_US.UTF-8 LC_IDENTIFICATION=C       \n",
       "\n",
       "attached base packages:\n",
       "[1] stats     graphics  grDevices utils     datasets  methods   base     \n",
       "\n",
       "other attached packages:\n",
       "[1] tidytable_0.5.1   data.table_1.12.8 LeyLabRMisc_0.1.6 ggplot2_3.3.1    \n",
       "[5] tidyr_1.1.0       dplyr_1.0.0      \n",
       "\n",
       "loaded via a namespace (and not attached):\n",
       " [1] Rcpp_1.0.4.6     pillar_1.4.4     compiler_3.6.3   base64enc_0.1-3 \n",
       " [5] tools_3.6.3      digest_0.6.25    uuid_0.1-4       jsonlite_1.6.1  \n",
       " [9] evaluate_0.14    lifecycle_0.2.0  tibble_3.0.1     gtable_0.3.0    \n",
       "[13] pkgconfig_2.0.3  rlang_0.4.6      cli_2.0.2        IRdisplay_0.7.0 \n",
       "[17] IRkernel_1.1     xfun_0.14        repr_1.1.0       withr_2.2.0     \n",
       "[21] knitr_1.28       generics_0.0.2   vctrs_0.3.1      grid_3.6.3      \n",
       "[25] tidyselect_1.1.0 glue_1.4.1       R6_2.4.1         fansi_0.4.1     \n",
       "[29] pbdZMQ_0.3-3     farver_2.0.3     purrr_0.3.4      magrittr_1.5    \n",
       "[33] scales_1.1.1     ellipsis_0.3.1   htmltools_0.4.0  assertthat_0.2.1\n",
       "[37] colorspace_1.4-1 labeling_0.3     stringi_1.4.6    munsell_0.5.0   \n",
       "[41] crayon_1.3.4    "
      ]
     },
     "metadata": {},
     "output_type": "display_data"
    }
   ],
   "source": [
    "sessionInfo()"
   ]
  },
  {
   "cell_type": "code",
   "execution_count": null,
   "metadata": {},
   "outputs": [],
   "source": []
  },
  {
   "cell_type": "code",
   "execution_count": null,
   "metadata": {},
   "outputs": [],
   "source": []
  }
 ],
 "metadata": {
  "kernelspec": {
   "display_name": "R [conda env:Georg_animal_feces-tidyverse]",
   "language": "R",
   "name": "conda-env-Georg_animal_feces-tidyverse-r"
  },
  "language_info": {
   "codemirror_mode": "r",
   "file_extension": ".r",
   "mimetype": "text/x-r-source",
   "name": "R",
   "pygments_lexer": "r",
   "version": "3.6.3"
  },
  "toc-autonumbering": true
 },
 "nbformat": 4,
 "nbformat_minor": 4
}
