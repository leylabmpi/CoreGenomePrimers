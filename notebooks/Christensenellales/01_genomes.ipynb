{
 "cells": [
  {
   "cell_type": "markdown",
   "metadata": {},
   "source": [
    "# Goal\n",
    "\n",
    "* Generate a collection of MAGs and isolate genomes for the Christensenellales order"
   ]
  },
  {
   "cell_type": "code",
   "execution_count": 42,
   "metadata": {
    "execution": {
     "iopub.execute_input": "2021-02-26T12:19:14.942169Z",
     "iopub.status.busy": "2021-02-26T12:19:14.939928Z",
     "iopub.status.idle": "2021-02-26T12:19:14.966655Z"
    }
   },
   "outputs": [],
   "source": [
    "work_dir = '/ebio/abt3_projects/software/dev/ll_pipelines/llprimer/experiments/christensenellales/genomes/'\n",
    "clade = 'Christensenellales'\n",
    "taxid = 990719  # Christensenellaceae \n",
    "threads = 8"
   ]
  },
  {
   "cell_type": "markdown",
   "metadata": {},
   "source": [
    "# Init"
   ]
  },
  {
   "cell_type": "code",
   "execution_count": 43,
   "metadata": {
    "execution": {
     "iopub.execute_input": "2021-02-26T12:19:15.044919Z",
     "iopub.status.busy": "2021-02-26T12:19:15.042358Z",
     "iopub.status.idle": "2021-02-26T12:19:15.070224Z"
    }
   },
   "outputs": [],
   "source": [
    "library(dplyr)\n",
    "library(tidyr)\n",
    "library(data.table)\n",
    "library(tidytable)\n",
    "library(ggplot2)\n",
    "library(LeyLabRMisc)"
   ]
  },
  {
   "cell_type": "code",
   "execution_count": 44,
   "metadata": {
    "execution": {
     "iopub.execute_input": "2021-02-26T12:19:15.149600Z",
     "iopub.status.busy": "2021-02-26T12:19:15.147214Z",
     "iopub.status.idle": "2021-02-26T12:19:15.161765Z"
    }
   },
   "outputs": [],
   "source": [
    "library(curl)"
   ]
  },
  {
   "cell_type": "code",
   "execution_count": 5,
   "metadata": {
    "execution": {
     "iopub.execute_input": "2021-02-23T13:46:48.166216Z",
     "iopub.status.busy": "2021-02-23T13:46:48.163647Z",
     "iopub.status.idle": "2021-02-23T13:46:48.186797Z"
    }
   },
   "outputs": [
    {
     "name": "stdout",
     "output_type": "stream",
     "text": [
      "Created directory: /ebio/abt3_projects/software/dev/ll_pipelines/llprimer/experiments/christensenellales/genomes/ \n"
     ]
    }
   ],
   "source": [
    "df.dims()\n",
    "setDTthreads(threads)\n",
    "make_dir(work_dir)"
   ]
  },
  {
   "cell_type": "markdown",
   "metadata": {},
   "source": [
    "# Genomes"
   ]
  },
  {
   "cell_type": "markdown",
   "metadata": {},
   "source": [
    "# From Genbank"
   ]
  },
  {
   "cell_type": "markdown",
   "metadata": {},
   "source": [
    "* Used the genomes from the Christensenellaceae primer design"
   ]
  },
  {
   "cell_type": "markdown",
   "metadata": {},
   "source": [
    "## From Colombian metagenome asesmbly"
   ]
  },
  {
   "cell_type": "code",
   "execution_count": 10,
   "metadata": {
    "execution": {
     "iopub.execute_input": "2021-02-23T13:52:27.090246Z",
     "iopub.status.busy": "2021-02-23T13:52:27.087898Z",
     "iopub.status.idle": "2021-02-23T13:52:27.120721Z"
    }
   },
   "outputs": [
    {
     "data": {
      "text/html": [
       "218"
      ],
      "text/latex": [
       "218"
      ],
      "text/markdown": [
       "218"
      ],
      "text/plain": [
       "[1] 218"
      ]
     },
     "metadata": {},
     "output_type": "display_data"
    }
   ],
   "source": [
    "list_files(file.path(work_dir, 'Colombian_MG'), '*.fna') %>% length"
   ]
  },
  {
   "cell_type": "markdown",
   "metadata": {},
   "source": [
    "## From UHGG"
   ]
  },
  {
   "cell_type": "code",
   "execution_count": 18,
   "metadata": {
    "execution": {
     "iopub.execute_input": "2021-02-23T13:56:54.586891Z",
     "iopub.status.busy": "2021-02-23T13:56:54.584051Z",
     "iopub.status.idle": "2021-02-23T13:56:56.265021Z"
    }
   },
   "outputs": [
    {
     "data": {
      "text/html": [
       "<table class=\"dataframe\">\n",
       "<caption>A tidytable: 4323 × 30</caption>\n",
       "<thead>\n",
       "\t<tr><th scope=col>Genome</th><th scope=col>Original_name</th><th scope=col>Study_set</th><th scope=col>Genome_type</th><th scope=col>Length</th><th scope=col>N_contigs</th><th scope=col>N50</th><th scope=col>GC_content</th><th scope=col>Completeness</th><th scope=col>Contamination</th><th scope=col>⋯</th><th scope=col>Country</th><th scope=col>Continent</th><th scope=col>FTP_download</th><th scope=col>Domain</th><th scope=col>Phylum</th><th scope=col>Class</th><th scope=col>Order</th><th scope=col>Family</th><th scope=col>Genus</th><th scope=col>Species</th></tr>\n",
       "\t<tr><th scope=col>&lt;chr&gt;</th><th scope=col>&lt;chr&gt;</th><th scope=col>&lt;chr&gt;</th><th scope=col>&lt;chr&gt;</th><th scope=col>&lt;int&gt;</th><th scope=col>&lt;int&gt;</th><th scope=col>&lt;int&gt;</th><th scope=col>&lt;dbl&gt;</th><th scope=col>&lt;dbl&gt;</th><th scope=col>&lt;dbl&gt;</th><th scope=col>⋯</th><th scope=col>&lt;chr&gt;</th><th scope=col>&lt;chr&gt;</th><th scope=col>&lt;chr&gt;</th><th scope=col>&lt;chr&gt;</th><th scope=col>&lt;chr&gt;</th><th scope=col>&lt;chr&gt;</th><th scope=col>&lt;chr&gt;</th><th scope=col>&lt;chr&gt;</th><th scope=col>&lt;chr&gt;</th><th scope=col>&lt;chr&gt;</th></tr>\n",
       "</thead>\n",
       "<tbody>\n",
       "\t<tr><td>GUT_GENOME000279</td><td>14207_7_64                          </td><td>HBC  </td><td>Isolate</td><td>2615708</td><td> 20</td><td>268821</td><td>56.68</td><td>99.19</td><td>0.81</td><td>⋯</td><td>United Kingdom</td><td>Europe</td><td>ftp://ftp.ebi.ac.uk/pub/databases/metagenomics/mgnify_genomes/human-gut/v1.0/all_genomes/MGYG-HGUT-000/MGYG-HGUT-00073/genomes1/GUT_GENOME000279.gff.gz</td><td>d__Bacteria</td><td>p__Firmicutes_A</td><td>c__Clostridia</td><td>o__Christensenellales</td><td>f__GCA-900066905</td><td>g__GCA-900066905</td><td>s__GCA-900066905 sp900066905</td></tr>\n",
       "\t<tr><td>GUT_GENOME001938</td><td>AsnicarF_2017__MV_FEM2_t1Q14__bin.14</td><td>CIBIO</td><td>MAG    </td><td>2965995</td><td>141</td><td> 30137</td><td>58.20</td><td>99.18</td><td>1.17</td><td>⋯</td><td>Italy         </td><td>Europe</td><td>ftp://ftp.ebi.ac.uk/pub/databases/metagenomics/mgnify_genomes/human-gut/v1.0/all_genomes/MGYG-HGUT-038/MGYG-HGUT-03891/genomes2/GUT_GENOME001938.gff.gz</td><td>d__Bacteria</td><td>p__Firmicutes_A</td><td>c__Clostridia</td><td>o__Christensenellales</td><td>f__CAG-74       </td><td>g__UBA11524     </td><td>s__UBA11524 sp000437595     </td></tr>\n",
       "\t<tr><td>⋮</td><td>⋮</td><td>⋮</td><td>⋮</td><td>⋮</td><td>⋮</td><td>⋮</td><td>⋮</td><td>⋮</td><td>⋮</td><td>⋱</td><td>⋮</td><td>⋮</td><td>⋮</td><td>⋮</td><td>⋮</td><td>⋮</td><td>⋮</td><td>⋮</td><td>⋮</td><td>⋮</td></tr>\n",
       "\t<tr><td>GUT_GENOME286732</td><td>ZellerG_2014__CCMD90311071ST-21-0__bin.32</td><td>CIBIO</td><td>MAG</td><td>1752856</td><td>264</td><td>8460</td><td>49.37</td><td>91.90</td><td>1.88</td><td>⋯</td><td>Germany</td><td>Europe</td><td>ftp://ftp.ebi.ac.uk/pub/databases/metagenomics/mgnify_genomes/human-gut/v1.0/all_genomes/MGYG-HGUT-005/MGYG-HGUT-00530/genomes1/GUT_GENOME286732.gff.gz</td><td>d__Bacteria</td><td>p__Firmicutes_A</td><td>c__Clostridia</td><td>o__Christensenellales</td><td>f__CAG-138</td><td>g__PeH17</td><td>s__PeH17 sp000435055</td></tr>\n",
       "\t<tr><td>GUT_GENOME286757</td><td>ZellerG_2014__CCMD93344354ST-21-0__bin.14</td><td>CIBIO</td><td>MAG</td><td>1369885</td><td>414</td><td>3602</td><td>49.46</td><td>70.82</td><td>2.42</td><td>⋯</td><td>Germany</td><td>Europe</td><td>ftp://ftp.ebi.ac.uk/pub/databases/metagenomics/mgnify_genomes/human-gut/v1.0/all_genomes/MGYG-HGUT-005/MGYG-HGUT-00530/genomes2/GUT_GENOME286757.gff.gz</td><td>d__Bacteria</td><td>p__Firmicutes_A</td><td>c__Clostridia</td><td>o__Christensenellales</td><td>f__CAG-138</td><td>g__PeH17</td><td>s__PeH17 sp000435055</td></tr>\n",
       "</tbody>\n",
       "</table>\n"
      ],
      "text/latex": [
       "A tidytable: 4323 × 30\n",
       "\\begin{tabular}{lllllllllllllllllllll}\n",
       " Genome & Original\\_name & Study\\_set & Genome\\_type & Length & N\\_contigs & N50 & GC\\_content & Completeness & Contamination & ⋯ & Country & Continent & FTP\\_download & Domain & Phylum & Class & Order & Family & Genus & Species\\\\\n",
       " <chr> & <chr> & <chr> & <chr> & <int> & <int> & <int> & <dbl> & <dbl> & <dbl> & ⋯ & <chr> & <chr> & <chr> & <chr> & <chr> & <chr> & <chr> & <chr> & <chr> & <chr>\\\\\n",
       "\\hline\n",
       "\t GUT\\_GENOME000279 & 14207\\_7\\_64                           & HBC   & Isolate & 2615708 &  20 & 268821 & 56.68 & 99.19 & 0.81 & ⋯ & United Kingdom & Europe & ftp://ftp.ebi.ac.uk/pub/databases/metagenomics/mgnify\\_genomes/human-gut/v1.0/all\\_genomes/MGYG-HGUT-000/MGYG-HGUT-00073/genomes1/GUT\\_GENOME000279.gff.gz & d\\_\\_Bacteria & p\\_\\_Firmicutes\\_A & c\\_\\_Clostridia & o\\_\\_Christensenellales & f\\_\\_GCA-900066905 & g\\_\\_GCA-900066905 & s\\_\\_GCA-900066905 sp900066905\\\\\n",
       "\t GUT\\_GENOME001938 & AsnicarF\\_2017\\_\\_MV\\_FEM2\\_t1Q14\\_\\_bin.14 & CIBIO & MAG     & 2965995 & 141 &  30137 & 58.20 & 99.18 & 1.17 & ⋯ & Italy          & Europe & ftp://ftp.ebi.ac.uk/pub/databases/metagenomics/mgnify\\_genomes/human-gut/v1.0/all\\_genomes/MGYG-HGUT-038/MGYG-HGUT-03891/genomes2/GUT\\_GENOME001938.gff.gz & d\\_\\_Bacteria & p\\_\\_Firmicutes\\_A & c\\_\\_Clostridia & o\\_\\_Christensenellales & f\\_\\_CAG-74        & g\\_\\_UBA11524      & s\\_\\_UBA11524 sp000437595     \\\\\n",
       "\t ⋮ & ⋮ & ⋮ & ⋮ & ⋮ & ⋮ & ⋮ & ⋮ & ⋮ & ⋮ & ⋱ & ⋮ & ⋮ & ⋮ & ⋮ & ⋮ & ⋮ & ⋮ & ⋮ & ⋮ & ⋮\\\\\n",
       "\t GUT\\_GENOME286732 & ZellerG\\_2014\\_\\_CCMD90311071ST-21-0\\_\\_bin.32 & CIBIO & MAG & 1752856 & 264 & 8460 & 49.37 & 91.90 & 1.88 & ⋯ & Germany & Europe & ftp://ftp.ebi.ac.uk/pub/databases/metagenomics/mgnify\\_genomes/human-gut/v1.0/all\\_genomes/MGYG-HGUT-005/MGYG-HGUT-00530/genomes1/GUT\\_GENOME286732.gff.gz & d\\_\\_Bacteria & p\\_\\_Firmicutes\\_A & c\\_\\_Clostridia & o\\_\\_Christensenellales & f\\_\\_CAG-138 & g\\_\\_PeH17 & s\\_\\_PeH17 sp000435055\\\\\n",
       "\t GUT\\_GENOME286757 & ZellerG\\_2014\\_\\_CCMD93344354ST-21-0\\_\\_bin.14 & CIBIO & MAG & 1369885 & 414 & 3602 & 49.46 & 70.82 & 2.42 & ⋯ & Germany & Europe & ftp://ftp.ebi.ac.uk/pub/databases/metagenomics/mgnify\\_genomes/human-gut/v1.0/all\\_genomes/MGYG-HGUT-005/MGYG-HGUT-00530/genomes2/GUT\\_GENOME286757.gff.gz & d\\_\\_Bacteria & p\\_\\_Firmicutes\\_A & c\\_\\_Clostridia & o\\_\\_Christensenellales & f\\_\\_CAG-138 & g\\_\\_PeH17 & s\\_\\_PeH17 sp000435055\\\\\n",
       "\\end{tabular}\n"
      ],
      "text/markdown": [
       "\n",
       "A tidytable: 4323 × 30\n",
       "\n",
       "| Genome &lt;chr&gt; | Original_name &lt;chr&gt; | Study_set &lt;chr&gt; | Genome_type &lt;chr&gt; | Length &lt;int&gt; | N_contigs &lt;int&gt; | N50 &lt;int&gt; | GC_content &lt;dbl&gt; | Completeness &lt;dbl&gt; | Contamination &lt;dbl&gt; | ⋯ ⋯ | Country &lt;chr&gt; | Continent &lt;chr&gt; | FTP_download &lt;chr&gt; | Domain &lt;chr&gt; | Phylum &lt;chr&gt; | Class &lt;chr&gt; | Order &lt;chr&gt; | Family &lt;chr&gt; | Genus &lt;chr&gt; | Species &lt;chr&gt; |\n",
       "|---|---|---|---|---|---|---|---|---|---|---|---|---|---|---|---|---|---|---|---|---|\n",
       "| GUT_GENOME000279 | 14207_7_64                           | HBC   | Isolate | 2615708 |  20 | 268821 | 56.68 | 99.19 | 0.81 | ⋯ | United Kingdom | Europe | ftp://ftp.ebi.ac.uk/pub/databases/metagenomics/mgnify_genomes/human-gut/v1.0/all_genomes/MGYG-HGUT-000/MGYG-HGUT-00073/genomes1/GUT_GENOME000279.gff.gz | d__Bacteria | p__Firmicutes_A | c__Clostridia | o__Christensenellales | f__GCA-900066905 | g__GCA-900066905 | s__GCA-900066905 sp900066905 |\n",
       "| GUT_GENOME001938 | AsnicarF_2017__MV_FEM2_t1Q14__bin.14 | CIBIO | MAG     | 2965995 | 141 |  30137 | 58.20 | 99.18 | 1.17 | ⋯ | Italy          | Europe | ftp://ftp.ebi.ac.uk/pub/databases/metagenomics/mgnify_genomes/human-gut/v1.0/all_genomes/MGYG-HGUT-038/MGYG-HGUT-03891/genomes2/GUT_GENOME001938.gff.gz | d__Bacteria | p__Firmicutes_A | c__Clostridia | o__Christensenellales | f__CAG-74        | g__UBA11524      | s__UBA11524 sp000437595      |\n",
       "| ⋮ | ⋮ | ⋮ | ⋮ | ⋮ | ⋮ | ⋮ | ⋮ | ⋮ | ⋮ | ⋱ | ⋮ | ⋮ | ⋮ | ⋮ | ⋮ | ⋮ | ⋮ | ⋮ | ⋮ | ⋮ |\n",
       "| GUT_GENOME286732 | ZellerG_2014__CCMD90311071ST-21-0__bin.32 | CIBIO | MAG | 1752856 | 264 | 8460 | 49.37 | 91.90 | 1.88 | ⋯ | Germany | Europe | ftp://ftp.ebi.ac.uk/pub/databases/metagenomics/mgnify_genomes/human-gut/v1.0/all_genomes/MGYG-HGUT-005/MGYG-HGUT-00530/genomes1/GUT_GENOME286732.gff.gz | d__Bacteria | p__Firmicutes_A | c__Clostridia | o__Christensenellales | f__CAG-138 | g__PeH17 | s__PeH17 sp000435055 |\n",
       "| GUT_GENOME286757 | ZellerG_2014__CCMD93344354ST-21-0__bin.14 | CIBIO | MAG | 1369885 | 414 | 3602 | 49.46 | 70.82 | 2.42 | ⋯ | Germany | Europe | ftp://ftp.ebi.ac.uk/pub/databases/metagenomics/mgnify_genomes/human-gut/v1.0/all_genomes/MGYG-HGUT-005/MGYG-HGUT-00530/genomes2/GUT_GENOME286757.gff.gz | d__Bacteria | p__Firmicutes_A | c__Clostridia | o__Christensenellales | f__CAG-138 | g__PeH17 | s__PeH17 sp000435055 |\n",
       "\n"
      ],
      "text/plain": [
       "     Genome           Original_name                             Study_set\n",
       "1    GUT_GENOME000279 14207_7_64                                HBC      \n",
       "2    GUT_GENOME001938 AsnicarF_2017__MV_FEM2_t1Q14__bin.14      CIBIO    \n",
       "⋮    ⋮                ⋮                                         ⋮        \n",
       "4322 GUT_GENOME286732 ZellerG_2014__CCMD90311071ST-21-0__bin.32 CIBIO    \n",
       "4323 GUT_GENOME286757 ZellerG_2014__CCMD93344354ST-21-0__bin.14 CIBIO    \n",
       "     Genome_type Length  N_contigs N50    GC_content Completeness Contamination\n",
       "1    Isolate     2615708  20       268821 56.68      99.19        0.81         \n",
       "2    MAG         2965995 141        30137 58.20      99.18        1.17         \n",
       "⋮    ⋮           ⋮       ⋮         ⋮      ⋮          ⋮            ⋮            \n",
       "4322 MAG         1752856 264       8460   49.37      91.90        1.88         \n",
       "4323 MAG         1369885 414       3602   49.46      70.82        2.42         \n",
       "     ⋯ Country        Continent\n",
       "1    ⋯ United Kingdom Europe   \n",
       "2    ⋯ Italy          Europe   \n",
       "⋮    ⋱ ⋮              ⋮        \n",
       "4322 ⋯ Germany        Europe   \n",
       "4323 ⋯ Germany        Europe   \n",
       "     FTP_download                                                                                                                                           \n",
       "1    ftp://ftp.ebi.ac.uk/pub/databases/metagenomics/mgnify_genomes/human-gut/v1.0/all_genomes/MGYG-HGUT-000/MGYG-HGUT-00073/genomes1/GUT_GENOME000279.gff.gz\n",
       "2    ftp://ftp.ebi.ac.uk/pub/databases/metagenomics/mgnify_genomes/human-gut/v1.0/all_genomes/MGYG-HGUT-038/MGYG-HGUT-03891/genomes2/GUT_GENOME001938.gff.gz\n",
       "⋮    ⋮                                                                                                                                                      \n",
       "4322 ftp://ftp.ebi.ac.uk/pub/databases/metagenomics/mgnify_genomes/human-gut/v1.0/all_genomes/MGYG-HGUT-005/MGYG-HGUT-00530/genomes1/GUT_GENOME286732.gff.gz\n",
       "4323 ftp://ftp.ebi.ac.uk/pub/databases/metagenomics/mgnify_genomes/human-gut/v1.0/all_genomes/MGYG-HGUT-005/MGYG-HGUT-00530/genomes2/GUT_GENOME286757.gff.gz\n",
       "     Domain      Phylum          Class         Order                \n",
       "1    d__Bacteria p__Firmicutes_A c__Clostridia o__Christensenellales\n",
       "2    d__Bacteria p__Firmicutes_A c__Clostridia o__Christensenellales\n",
       "⋮    ⋮           ⋮               ⋮             ⋮                    \n",
       "4322 d__Bacteria p__Firmicutes_A c__Clostridia o__Christensenellales\n",
       "4323 d__Bacteria p__Firmicutes_A c__Clostridia o__Christensenellales\n",
       "     Family           Genus            Species                     \n",
       "1    f__GCA-900066905 g__GCA-900066905 s__GCA-900066905 sp900066905\n",
       "2    f__CAG-74        g__UBA11524      s__UBA11524 sp000437595     \n",
       "⋮    ⋮                ⋮                ⋮                           \n",
       "4322 f__CAG-138       g__PeH17         s__PeH17 sp000435055        \n",
       "4323 f__CAG-138       g__PeH17         s__PeH17 sp000435055        "
      ]
     },
     "metadata": {},
     "output_type": "display_data"
    }
   ],
   "source": [
    "F = file.path('/ebio/abt3_projects/databases_no-backup/UHGG/2019_09', 'genomes-nr_metadata.tsv')\n",
    "genomes = Fread(F) %>%\n",
    "    filter.(grepl('o__Christensenellales', Lineage)) %>%\n",
    "    separate.(Lineage, taxonomy_levels(), sep=';') \n",
    "genomes"
   ]
  },
  {
   "cell_type": "code",
   "execution_count": 19,
   "metadata": {
    "execution": {
     "iopub.execute_input": "2021-02-23T13:57:04.442624Z",
     "iopub.status.busy": "2021-02-23T13:57:04.440469Z",
     "iopub.status.idle": "2021-02-23T13:57:04.495954Z"
    }
   },
   "outputs": [
    {
     "data": {
      "text/html": [
       "<table class=\"dataframe\">\n",
       "<caption>A tidytable: 384 × 30</caption>\n",
       "<thead>\n",
       "\t<tr><th scope=col>Genome</th><th scope=col>Original_name</th><th scope=col>Study_set</th><th scope=col>Genome_type</th><th scope=col>Length</th><th scope=col>N_contigs</th><th scope=col>N50</th><th scope=col>GC_content</th><th scope=col>Completeness</th><th scope=col>Contamination</th><th scope=col>⋯</th><th scope=col>Country</th><th scope=col>Continent</th><th scope=col>FTP_download</th><th scope=col>Domain</th><th scope=col>Phylum</th><th scope=col>Class</th><th scope=col>Order</th><th scope=col>Family</th><th scope=col>Genus</th><th scope=col>Species</th></tr>\n",
       "\t<tr><th scope=col>&lt;chr&gt;</th><th scope=col>&lt;chr&gt;</th><th scope=col>&lt;chr&gt;</th><th scope=col>&lt;chr&gt;</th><th scope=col>&lt;int&gt;</th><th scope=col>&lt;int&gt;</th><th scope=col>&lt;int&gt;</th><th scope=col>&lt;dbl&gt;</th><th scope=col>&lt;dbl&gt;</th><th scope=col>&lt;dbl&gt;</th><th scope=col>⋯</th><th scope=col>&lt;chr&gt;</th><th scope=col>&lt;chr&gt;</th><th scope=col>&lt;chr&gt;</th><th scope=col>&lt;chr&gt;</th><th scope=col>&lt;chr&gt;</th><th scope=col>&lt;chr&gt;</th><th scope=col>&lt;chr&gt;</th><th scope=col>&lt;chr&gt;</th><th scope=col>&lt;chr&gt;</th><th scope=col>&lt;chr&gt;</th></tr>\n",
       "</thead>\n",
       "<tbody>\n",
       "\t<tr><td>GUT_GENOME001999</td><td>AsnicarF_2017__MV_FEM5_t1Q14__bin.2</td><td>CIBIO</td><td>MAG</td><td>2289322</td><td> 56</td><td>69038</td><td>52.62</td><td>99.19</td><td>0</td><td>⋯</td><td>Italy </td><td>Europe</td><td>ftp://ftp.ebi.ac.uk/pub/databases/metagenomics/mgnify_genomes/human-gut/v1.0/all_genomes/MGYG-HGUT-007/MGYG-HGUT-00730/genomes2/GUT_GENOME001999.gff.gz</td><td>d__Bacteria</td><td>p__Firmicutes_A</td><td>c__Clostridia</td><td>o__Christensenellales</td><td>f__CAG-138</td><td>g__Phil1</td><td>s__Phil1 sp001940855</td></tr>\n",
       "\t<tr><td>GUT_GENOME004317</td><td>BackhedF_2015__SID343_M__bin.4     </td><td>CIBIO</td><td>MAG</td><td>1124002</td><td>335</td><td> 3591</td><td>50.80</td><td>66.07</td><td>0</td><td>⋯</td><td>Sweden</td><td>Europe</td><td>ftp://ftp.ebi.ac.uk/pub/databases/metagenomics/mgnify_genomes/human-gut/v1.0/all_genomes/MGYG-HGUT-026/MGYG-HGUT-02681/genomes1/GUT_GENOME004317.gff.gz</td><td>d__Bacteria</td><td>p__Firmicutes_A</td><td>c__Clostridia</td><td>o__Christensenellales</td><td>f__QAND01 </td><td>g__     </td><td>s__                 </td></tr>\n",
       "\t<tr><td>⋮</td><td>⋮</td><td>⋮</td><td>⋮</td><td>⋮</td><td>⋮</td><td>⋮</td><td>⋮</td><td>⋮</td><td>⋮</td><td>⋱</td><td>⋮</td><td>⋮</td><td>⋮</td><td>⋮</td><td>⋮</td><td>⋮</td><td>⋮</td><td>⋮</td><td>⋮</td><td>⋮</td></tr>\n",
       "\t<tr><td>GUT_GENOME286615</td><td>ZellerG_2014__CCMD86114146ST-21-0__bin.70</td><td>CIBIO</td><td>MAG</td><td>2162369</td><td> 61</td><td>51782</td><td>52.79</td><td>96.77</td><td>0</td><td>⋯</td><td>Germany</td><td>Europe</td><td>ftp://ftp.ebi.ac.uk/pub/databases/metagenomics/mgnify_genomes/human-gut/v1.0/all_genomes/MGYG-HGUT-007/MGYG-HGUT-00730/genomes2/GUT_GENOME286615.gff.gz</td><td>d__Bacteria</td><td>p__Firmicutes_A</td><td>c__Clostridia</td><td>o__Christensenellales</td><td>f__CAG-138</td><td>g__Phil1</td><td>s__Phil1 sp001940855</td></tr>\n",
       "\t<tr><td>GUT_GENOME286691</td><td>ZellerG_2014__CCMD87156761ST-21-0__bin.83</td><td>CIBIO</td><td>MAG</td><td> 923663</td><td>345</td><td> 2702</td><td>49.46</td><td>52.78</td><td>0</td><td>⋯</td><td>Germany</td><td>Europe</td><td>ftp://ftp.ebi.ac.uk/pub/databases/metagenomics/mgnify_genomes/human-gut/v1.0/all_genomes/MGYG-HGUT-005/MGYG-HGUT-00530/genomes2/GUT_GENOME286691.gff.gz</td><td>d__Bacteria</td><td>p__Firmicutes_A</td><td>c__Clostridia</td><td>o__Christensenellales</td><td>f__CAG-138</td><td>g__PeH17</td><td>s__PeH17 sp000435055</td></tr>\n",
       "</tbody>\n",
       "</table>\n"
      ],
      "text/latex": [
       "A tidytable: 384 × 30\n",
       "\\begin{tabular}{lllllllllllllllllllll}\n",
       " Genome & Original\\_name & Study\\_set & Genome\\_type & Length & N\\_contigs & N50 & GC\\_content & Completeness & Contamination & ⋯ & Country & Continent & FTP\\_download & Domain & Phylum & Class & Order & Family & Genus & Species\\\\\n",
       " <chr> & <chr> & <chr> & <chr> & <int> & <int> & <int> & <dbl> & <dbl> & <dbl> & ⋯ & <chr> & <chr> & <chr> & <chr> & <chr> & <chr> & <chr> & <chr> & <chr> & <chr>\\\\\n",
       "\\hline\n",
       "\t GUT\\_GENOME001999 & AsnicarF\\_2017\\_\\_MV\\_FEM5\\_t1Q14\\_\\_bin.2 & CIBIO & MAG & 2289322 &  56 & 69038 & 52.62 & 99.19 & 0 & ⋯ & Italy  & Europe & ftp://ftp.ebi.ac.uk/pub/databases/metagenomics/mgnify\\_genomes/human-gut/v1.0/all\\_genomes/MGYG-HGUT-007/MGYG-HGUT-00730/genomes2/GUT\\_GENOME001999.gff.gz & d\\_\\_Bacteria & p\\_\\_Firmicutes\\_A & c\\_\\_Clostridia & o\\_\\_Christensenellales & f\\_\\_CAG-138 & g\\_\\_Phil1 & s\\_\\_Phil1 sp001940855\\\\\n",
       "\t GUT\\_GENOME004317 & BackhedF\\_2015\\_\\_SID343\\_M\\_\\_bin.4      & CIBIO & MAG & 1124002 & 335 &  3591 & 50.80 & 66.07 & 0 & ⋯ & Sweden & Europe & ftp://ftp.ebi.ac.uk/pub/databases/metagenomics/mgnify\\_genomes/human-gut/v1.0/all\\_genomes/MGYG-HGUT-026/MGYG-HGUT-02681/genomes1/GUT\\_GENOME004317.gff.gz & d\\_\\_Bacteria & p\\_\\_Firmicutes\\_A & c\\_\\_Clostridia & o\\_\\_Christensenellales & f\\_\\_QAND01  & g\\_\\_      & s\\_\\_                 \\\\\n",
       "\t ⋮ & ⋮ & ⋮ & ⋮ & ⋮ & ⋮ & ⋮ & ⋮ & ⋮ & ⋮ & ⋱ & ⋮ & ⋮ & ⋮ & ⋮ & ⋮ & ⋮ & ⋮ & ⋮ & ⋮ & ⋮\\\\\n",
       "\t GUT\\_GENOME286615 & ZellerG\\_2014\\_\\_CCMD86114146ST-21-0\\_\\_bin.70 & CIBIO & MAG & 2162369 &  61 & 51782 & 52.79 & 96.77 & 0 & ⋯ & Germany & Europe & ftp://ftp.ebi.ac.uk/pub/databases/metagenomics/mgnify\\_genomes/human-gut/v1.0/all\\_genomes/MGYG-HGUT-007/MGYG-HGUT-00730/genomes2/GUT\\_GENOME286615.gff.gz & d\\_\\_Bacteria & p\\_\\_Firmicutes\\_A & c\\_\\_Clostridia & o\\_\\_Christensenellales & f\\_\\_CAG-138 & g\\_\\_Phil1 & s\\_\\_Phil1 sp001940855\\\\\n",
       "\t GUT\\_GENOME286691 & ZellerG\\_2014\\_\\_CCMD87156761ST-21-0\\_\\_bin.83 & CIBIO & MAG &  923663 & 345 &  2702 & 49.46 & 52.78 & 0 & ⋯ & Germany & Europe & ftp://ftp.ebi.ac.uk/pub/databases/metagenomics/mgnify\\_genomes/human-gut/v1.0/all\\_genomes/MGYG-HGUT-005/MGYG-HGUT-00530/genomes2/GUT\\_GENOME286691.gff.gz & d\\_\\_Bacteria & p\\_\\_Firmicutes\\_A & c\\_\\_Clostridia & o\\_\\_Christensenellales & f\\_\\_CAG-138 & g\\_\\_PeH17 & s\\_\\_PeH17 sp000435055\\\\\n",
       "\\end{tabular}\n"
      ],
      "text/markdown": [
       "\n",
       "A tidytable: 384 × 30\n",
       "\n",
       "| Genome &lt;chr&gt; | Original_name &lt;chr&gt; | Study_set &lt;chr&gt; | Genome_type &lt;chr&gt; | Length &lt;int&gt; | N_contigs &lt;int&gt; | N50 &lt;int&gt; | GC_content &lt;dbl&gt; | Completeness &lt;dbl&gt; | Contamination &lt;dbl&gt; | ⋯ ⋯ | Country &lt;chr&gt; | Continent &lt;chr&gt; | FTP_download &lt;chr&gt; | Domain &lt;chr&gt; | Phylum &lt;chr&gt; | Class &lt;chr&gt; | Order &lt;chr&gt; | Family &lt;chr&gt; | Genus &lt;chr&gt; | Species &lt;chr&gt; |\n",
       "|---|---|---|---|---|---|---|---|---|---|---|---|---|---|---|---|---|---|---|---|---|\n",
       "| GUT_GENOME001999 | AsnicarF_2017__MV_FEM5_t1Q14__bin.2 | CIBIO | MAG | 2289322 |  56 | 69038 | 52.62 | 99.19 | 0 | ⋯ | Italy  | Europe | ftp://ftp.ebi.ac.uk/pub/databases/metagenomics/mgnify_genomes/human-gut/v1.0/all_genomes/MGYG-HGUT-007/MGYG-HGUT-00730/genomes2/GUT_GENOME001999.gff.gz | d__Bacteria | p__Firmicutes_A | c__Clostridia | o__Christensenellales | f__CAG-138 | g__Phil1 | s__Phil1 sp001940855 |\n",
       "| GUT_GENOME004317 | BackhedF_2015__SID343_M__bin.4      | CIBIO | MAG | 1124002 | 335 |  3591 | 50.80 | 66.07 | 0 | ⋯ | Sweden | Europe | ftp://ftp.ebi.ac.uk/pub/databases/metagenomics/mgnify_genomes/human-gut/v1.0/all_genomes/MGYG-HGUT-026/MGYG-HGUT-02681/genomes1/GUT_GENOME004317.gff.gz | d__Bacteria | p__Firmicutes_A | c__Clostridia | o__Christensenellales | f__QAND01  | g__      | s__                  |\n",
       "| ⋮ | ⋮ | ⋮ | ⋮ | ⋮ | ⋮ | ⋮ | ⋮ | ⋮ | ⋮ | ⋱ | ⋮ | ⋮ | ⋮ | ⋮ | ⋮ | ⋮ | ⋮ | ⋮ | ⋮ | ⋮ |\n",
       "| GUT_GENOME286615 | ZellerG_2014__CCMD86114146ST-21-0__bin.70 | CIBIO | MAG | 2162369 |  61 | 51782 | 52.79 | 96.77 | 0 | ⋯ | Germany | Europe | ftp://ftp.ebi.ac.uk/pub/databases/metagenomics/mgnify_genomes/human-gut/v1.0/all_genomes/MGYG-HGUT-007/MGYG-HGUT-00730/genomes2/GUT_GENOME286615.gff.gz | d__Bacteria | p__Firmicutes_A | c__Clostridia | o__Christensenellales | f__CAG-138 | g__Phil1 | s__Phil1 sp001940855 |\n",
       "| GUT_GENOME286691 | ZellerG_2014__CCMD87156761ST-21-0__bin.83 | CIBIO | MAG |  923663 | 345 |  2702 | 49.46 | 52.78 | 0 | ⋯ | Germany | Europe | ftp://ftp.ebi.ac.uk/pub/databases/metagenomics/mgnify_genomes/human-gut/v1.0/all_genomes/MGYG-HGUT-005/MGYG-HGUT-00530/genomes2/GUT_GENOME286691.gff.gz | d__Bacteria | p__Firmicutes_A | c__Clostridia | o__Christensenellales | f__CAG-138 | g__PeH17 | s__PeH17 sp000435055 |\n",
       "\n"
      ],
      "text/plain": [
       "    Genome           Original_name                             Study_set\n",
       "1   GUT_GENOME001999 AsnicarF_2017__MV_FEM5_t1Q14__bin.2       CIBIO    \n",
       "2   GUT_GENOME004317 BackhedF_2015__SID343_M__bin.4            CIBIO    \n",
       "⋮   ⋮                ⋮                                         ⋮        \n",
       "383 GUT_GENOME286615 ZellerG_2014__CCMD86114146ST-21-0__bin.70 CIBIO    \n",
       "384 GUT_GENOME286691 ZellerG_2014__CCMD87156761ST-21-0__bin.83 CIBIO    \n",
       "    Genome_type Length  N_contigs N50   GC_content Completeness Contamination ⋯\n",
       "1   MAG         2289322  56       69038 52.62      99.19        0             ⋯\n",
       "2   MAG         1124002 335        3591 50.80      66.07        0             ⋯\n",
       "⋮   ⋮           ⋮       ⋮         ⋮     ⋮          ⋮            ⋮             ⋱\n",
       "383 MAG         2162369  61       51782 52.79      96.77        0             ⋯\n",
       "384 MAG          923663 345        2702 49.46      52.78        0             ⋯\n",
       "    Country Continent\n",
       "1   Italy   Europe   \n",
       "2   Sweden  Europe   \n",
       "⋮   ⋮       ⋮        \n",
       "383 Germany Europe   \n",
       "384 Germany Europe   \n",
       "    FTP_download                                                                                                                                           \n",
       "1   ftp://ftp.ebi.ac.uk/pub/databases/metagenomics/mgnify_genomes/human-gut/v1.0/all_genomes/MGYG-HGUT-007/MGYG-HGUT-00730/genomes2/GUT_GENOME001999.gff.gz\n",
       "2   ftp://ftp.ebi.ac.uk/pub/databases/metagenomics/mgnify_genomes/human-gut/v1.0/all_genomes/MGYG-HGUT-026/MGYG-HGUT-02681/genomes1/GUT_GENOME004317.gff.gz\n",
       "⋮   ⋮                                                                                                                                                      \n",
       "383 ftp://ftp.ebi.ac.uk/pub/databases/metagenomics/mgnify_genomes/human-gut/v1.0/all_genomes/MGYG-HGUT-007/MGYG-HGUT-00730/genomes2/GUT_GENOME286615.gff.gz\n",
       "384 ftp://ftp.ebi.ac.uk/pub/databases/metagenomics/mgnify_genomes/human-gut/v1.0/all_genomes/MGYG-HGUT-005/MGYG-HGUT-00530/genomes2/GUT_GENOME286691.gff.gz\n",
       "    Domain      Phylum          Class         Order                 Family    \n",
       "1   d__Bacteria p__Firmicutes_A c__Clostridia o__Christensenellales f__CAG-138\n",
       "2   d__Bacteria p__Firmicutes_A c__Clostridia o__Christensenellales f__QAND01 \n",
       "⋮   ⋮           ⋮               ⋮             ⋮                     ⋮         \n",
       "383 d__Bacteria p__Firmicutes_A c__Clostridia o__Christensenellales f__CAG-138\n",
       "384 d__Bacteria p__Firmicutes_A c__Clostridia o__Christensenellales f__CAG-138\n",
       "    Genus    Species             \n",
       "1   g__Phil1 s__Phil1 sp001940855\n",
       "2   g__      s__                 \n",
       "⋮   ⋮        ⋮                   \n",
       "383 g__Phil1 s__Phil1 sp001940855\n",
       "384 g__PeH17 s__PeH17 sp000435055"
      ]
     },
     "metadata": {},
     "output_type": "display_data"
    }
   ],
   "source": [
    "genomes_f = genomes %>%\n",
    "    filter.(Completeness >= 0.9,\n",
    "            Contamination < 0.05,\n",
    "            N_contigs <= 500) %>%\n",
    "    filter.(Family != 'f__')\n",
    "genomes_f"
   ]
  },
  {
   "cell_type": "code",
   "execution_count": 25,
   "metadata": {
    "execution": {
     "iopub.execute_input": "2021-02-23T13:57:44.939349Z",
     "iopub.status.busy": "2021-02-23T13:57:44.937335Z",
     "iopub.status.idle": "2021-02-23T13:57:45.333443Z"
    }
   },
   "outputs": [
    {
     "data": {
      "image/png": "[encoded data removed]",
      "text/plain": [
       "plot without title"
      ]
     },
     "metadata": {
      "image/png": {
       "height": 320,
       "width": 500
      }
     },
     "output_type": "display_data"
    }
   ],
   "source": [
    "# summarizing taxonomy\n",
    "p = genomes_f %>%\n",
    "    summarize.(n = n.(), .by=c(Family, Genus))  %>%\n",
    "    mutate.(Taxonomy = paste(Family, Genus, sep=';')) %>%\n",
    "    ggplot(aes(Taxonomy, n, fill=Family)) +\n",
    "    geom_bar(stat='identity') +\n",
    "    labs(y='No. of genomes', x='Family;Genus') +\n",
    "    theme_bw() +\n",
    "    coord_flip()\n",
    "p.dims(5,3.2)\n",
    "plot(p)"
   ]
  },
  {
   "cell_type": "code",
   "execution_count": 26,
   "metadata": {
    "execution": {
     "iopub.execute_input": "2021-02-23T13:58:19.710824Z",
     "iopub.status.busy": "2021-02-23T13:58:19.709799Z",
     "iopub.status.idle": "2021-02-23T14:02:47.821001Z"
    }
   },
   "outputs": [
    {
     "name": "stderr",
     "output_type": "stream",
     "text": [
      "Downloading: ftp://ftp.ebi.ac.uk/pub/databases/metagenomics/mgnify_genomes/human-gut/v1.0/all_genomes/MGYG-HGUT-007/MGYG-HGUT-00730/genomes2/GUT_GENOME001999.gff.gz\n",
      "\n",
      "Downloading: ftp://ftp.ebi.ac.uk/pub/databases/metagenomics/mgnify_genomes/human-gut/v1.0/all_genomes/MGYG-HGUT-026/MGYG-HGUT-02681/genomes1/GUT_GENOME004317.gff.gz\n",
      "\n",
      "Downloading: ftp://ftp.ebi.ac.uk/pub/databases/metagenomics/mgnify_genomes/human-gut/v1.0/all_genomes/MGYG-HGUT-042/MGYG-HGUT-04245/genomes2/GUT_GENOME005637.gff.gz\n",
      "\n",
      "Downloading: ftp://ftp.ebi.ac.uk/pub/databases/metagenomics/mgnify_genomes/human-gut/v1.0/all_genomes/MGYG-HGUT-007/MGYG-HGUT-00730/genomes2/GUT_GENOME006149.gff.gz\n",
      "\n",
      "Downloading: ftp://ftp.ebi.ac.uk/pub/databases/metagenomics/mgnify_genomes/human-gut/v1.0/all_genomes/MGYG-HGUT-009/MGYG-HGUT-00939/genomes1/GUT_GENOME006702.gff.gz\n",
      "\n",
      "Downloading: ftp://ftp.ebi.ac.uk/pub/databases/metagenomics/mgnify_genomes/human-gut/v1.0/all_genomes/MGYG-HGUT-040/MGYG-HGUT-04070/genomes1/GUT_GENOME006711.gff.gz\n",
      "\n",
      "Downloading: ftp://ftp.ebi.ac.uk/pub/databases/metagenomics/mgnify_genomes/human-gut/v1.0/all_genomes/MGYG-HGUT-007/MGYG-HGUT-00730/genomes1/GUT_GENOME007481.gff.gz\n",
      "\n",
      "Downloading: ftp://ftp.ebi.ac.uk/pub/databases/metagenomics/mgnify_genomes/human-gut/v1.0/all_genomes/MGYG-HGUT-007/MGYG-HGUT-00730/genomes1/GUT_GENOME009152.gff.gz\n",
      "\n",
      "Downloading: ftp://ftp.ebi.ac.uk/pub/databases/metagenomics/mgnify_genomes/human-gut/v1.0/all_genomes/MGYG-HGUT-007/MGYG-HGUT-00730/genomes1/GUT_GENOME009895.gff.gz\n",
      "\n",
      "Downloading: ftp://ftp.ebi.ac.uk/pub/databases/metagenomics/mgnify_genomes/human-gut/v1.0/all_genomes/MGYG-HGUT-039/MGYG-HGUT-03972/genomes1/GUT_GENOME011026.gff.gz\n",
      "\n",
      "Downloading: ftp://ftp.ebi.ac.uk/pub/databases/metagenomics/mgnify_genomes/human-gut/v1.0/all_genomes/MGYG-HGUT-007/MGYG-HGUT-00730/genomes1/GUT_GENOME011034.gff.gz\n",
      "\n",
      "Downloading: ftp://ftp.ebi.ac.uk/pub/databases/metagenomics/mgnify_genomes/human-gut/v1.0/all_genomes/MGYG-HGUT-007/MGYG-HGUT-00730/genomes1/GUT_GENOME012505.gff.gz\n",
      "\n",
      "Downloading: ftp://ftp.ebi.ac.uk/pub/databases/metagenomics/mgnify_genomes/human-gut/v1.0/all_genomes/MGYG-HGUT-007/MGYG-HGUT-00730/genomes1/GUT_GENOME014750.gff.gz\n",
      "\n",
      "Downloading: ftp://ftp.ebi.ac.uk/pub/databases/metagenomics/mgnify_genomes/human-gut/v1.0/all_genomes/MGYG-HGUT-007/MGYG-HGUT-00730/genomes1/GUT_GENOME015036.gff.gz\n",
      "\n",
      "Downloading: ftp://ftp.ebi.ac.uk/pub/databases/metagenomics/mgnify_genomes/human-gut/v1.0/all_genomes/MGYG-HGUT-007/MGYG-HGUT-00730/genomes1/GUT_GENOME018032.gff.gz\n",
      "\n",
      "Downloading: ftp://ftp.ebi.ac.uk/pub/databases/metagenomics/mgnify_genomes/human-gut/v1.0/all_genomes/MGYG-HGUT-007/MGYG-HGUT-00730/genomes1/GUT_GENOME018884.gff.gz\n",
      "\n",
      "Downloading: ftp://ftp.ebi.ac.uk/pub/databases/metagenomics/mgnify_genomes/human-gut/v1.0/all_genomes/MGYG-HGUT-007/MGYG-HGUT-00730/genomes2/GUT_GENOME018997.gff.gz\n",
      "\n",
      "Downloading: ftp://ftp.ebi.ac.uk/pub/databases/metagenomics/mgnify_genomes/human-gut/v1.0/all_genomes/MGYG-HGUT-007/MGYG-HGUT-00730/genomes2/GUT_GENOME019075.gff.gz\n",
      "\n",
      "Downloading: ftp://ftp.ebi.ac.uk/pub/databases/metagenomics/mgnify_genomes/human-gut/v1.0/all_genomes/MGYG-HGUT-007/MGYG-HGUT-00730/genomes1/GUT_GENOME020800.gff.gz\n",
      "\n",
      "Downloading: ftp://ftp.ebi.ac.uk/pub/databases/metagenomics/mgnify_genomes/human-gut/v1.0/all_genomes/MGYG-HGUT-007/MGYG-HGUT-00730/genomes1/GUT_GENOME021800.gff.gz\n",
      "\n",
      "Downloading: ftp://ftp.ebi.ac.uk/pub/databases/metagenomics/mgnify_genomes/human-gut/v1.0/all_genomes/MGYG-HGUT-007/MGYG-HGUT-00730/genomes1/GUT_GENOME021845.gff.gz\n",
      "\n",
      "Downloading: ftp://ftp.ebi.ac.uk/pub/databases/metagenomics/mgnify_genomes/human-gut/v1.0/all_genomes/MGYG-HGUT-007/MGYG-HGUT-00730/genomes1/GUT_GENOME021934.gff.gz\n",
      "\n",
      "Downloading: ftp://ftp.ebi.ac.uk/pub/databases/metagenomics/mgnify_genomes/human-gut/v1.0/all_genomes/MGYG-HGUT-042/MGYG-HGUT-04245/genomes1/GUT_GENOME022422.gff.gz\n",
      "\n",
      "Downloading: ftp://ftp.ebi.ac.uk/pub/databases/metagenomics/mgnify_genomes/human-gut/v1.0/all_genomes/MGYG-HGUT-008/MGYG-HGUT-00875/genomes1/GUT_GENOME022791.gff.gz\n",
      "\n",
      "Downloading: ftp://ftp.ebi.ac.uk/pub/databases/metagenomics/mgnify_genomes/human-gut/v1.0/all_genomes/MGYG-HGUT-007/MGYG-HGUT-00730/genomes1/GUT_GENOME023175.gff.gz\n",
      "\n",
      "Downloading: ftp://ftp.ebi.ac.uk/pub/databases/metagenomics/mgnify_genomes/human-gut/v1.0/all_genomes/MGYG-HGUT-007/MGYG-HGUT-00730/genomes1/GUT_GENOME023308.gff.gz\n",
      "\n",
      "Downloading: ftp://ftp.ebi.ac.uk/pub/databases/metagenomics/mgnify_genomes/human-gut/v1.0/all_genomes/MGYG-HGUT-007/MGYG-HGUT-00730/genomes1/GUT_GENOME023691.gff.gz\n",
      "\n",
      "Downloading: ftp://ftp.ebi.ac.uk/pub/databases/metagenomics/mgnify_genomes/human-gut/v1.0/all_genomes/MGYG-HGUT-011/MGYG-HGUT-01132/genomes1/GUT_GENOME023750.gff.gz\n",
      "\n",
      "Downloading: ftp://ftp.ebi.ac.uk/pub/databases/metagenomics/mgnify_genomes/human-gut/v1.0/all_genomes/MGYG-HGUT-018/MGYG-HGUT-01889/genomes1/GUT_GENOME023931.gff.gz\n",
      "\n",
      "Downloading: ftp://ftp.ebi.ac.uk/pub/databases/metagenomics/mgnify_genomes/human-gut/v1.0/all_genomes/MGYG-HGUT-007/MGYG-HGUT-00730/genomes1/GUT_GENOME024612.gff.gz\n",
      "\n",
      "Downloading: ftp://ftp.ebi.ac.uk/pub/databases/metagenomics/mgnify_genomes/human-gut/v1.0/all_genomes/MGYG-HGUT-007/MGYG-HGUT-00730/genomes1/GUT_GENOME024865.gff.gz\n",
      "\n",
      "Downloading: ftp://ftp.ebi.ac.uk/pub/databases/metagenomics/mgnify_genomes/human-gut/v1.0/all_genomes/MGYG-HGUT-007/MGYG-HGUT-00730/genomes1/GUT_GENOME025342.gff.gz\n",
      "\n",
      "Downloading: ftp://ftp.ebi.ac.uk/pub/databases/metagenomics/mgnify_genomes/human-gut/v1.0/all_genomes/MGYG-HGUT-040/MGYG-HGUT-04052/genomes1/GUT_GENOME025383.gff.gz\n",
      "\n",
      "Downloading: ftp://ftp.ebi.ac.uk/pub/databases/metagenomics/mgnify_genomes/human-gut/v1.0/all_genomes/MGYG-HGUT-007/MGYG-HGUT-00730/genomes1/GUT_GENOME025390.gff.gz\n",
      "\n",
      "Downloading: ftp://ftp.ebi.ac.uk/pub/databases/metagenomics/mgnify_genomes/human-gut/v1.0/all_genomes/MGYG-HGUT-007/MGYG-HGUT-00730/genomes1/GUT_GENOME025396.gff.gz\n",
      "\n",
      "Downloading: ftp://ftp.ebi.ac.uk/pub/databases/metagenomics/mgnify_genomes/human-gut/v1.0/all_genomes/MGYG-HGUT-007/MGYG-HGUT-00718/genomes1/GUT_GENOME025577.gff.gz\n",
      "\n",
      "Downloading: ftp://ftp.ebi.ac.uk/pub/databases/metagenomics/mgnify_genomes/human-gut/v1.0/all_genomes/MGYG-HGUT-007/MGYG-HGUT-00730/genomes1/GUT_GENOME025672.gff.gz\n",
      "\n",
      "Downloading: ftp://ftp.ebi.ac.uk/pub/databases/metagenomics/mgnify_genomes/human-gut/v1.0/all_genomes/MGYG-HGUT-007/MGYG-HGUT-00730/genomes1/GUT_GENOME025895.gff.gz\n",
      "\n",
      "Downloading: ftp://ftp.ebi.ac.uk/pub/databases/metagenomics/mgnify_genomes/human-gut/v1.0/all_genomes/MGYG-HGUT-007/MGYG-HGUT-00730/genomes1/GUT_GENOME025905.gff.gz\n",
      "\n",
      "Downloading: ftp://ftp.ebi.ac.uk/pub/databases/metagenomics/mgnify_genomes/human-gut/v1.0/all_genomes/MGYG-HGUT-007/MGYG-HGUT-00727/genomes1/GUT_GENOME025984.gff.gz\n",
      "\n",
      "Downloading: ftp://ftp.ebi.ac.uk/pub/databases/metagenomics/mgnify_genomes/human-gut/v1.0/all_genomes/MGYG-HGUT-007/MGYG-HGUT-00730/genomes1/GUT_GENOME026012.gff.gz\n",
      "\n",
      "Downloading: ftp://ftp.ebi.ac.uk/pub/databases/metagenomics/mgnify_genomes/human-gut/v1.0/all_genomes/MGYG-HGUT-007/MGYG-HGUT-00730/genomes1/GUT_GENOME026147.gff.gz\n",
      "\n",
      "Downloading: ftp://ftp.ebi.ac.uk/pub/databases/metagenomics/mgnify_genomes/human-gut/v1.0/all_genomes/MGYG-HGUT-011/MGYG-HGUT-01132/genomes1/GUT_GENOME026613.gff.gz\n",
      "\n",
      "Downloading: ftp://ftp.ebi.ac.uk/pub/databases/metagenomics/mgnify_genomes/human-gut/v1.0/all_genomes/MGYG-HGUT-007/MGYG-HGUT-00730/genomes2/GUT_GENOME026753.gff.gz\n",
      "\n",
      "Downloading: ftp://ftp.ebi.ac.uk/pub/databases/metagenomics/mgnify_genomes/human-gut/v1.0/all_genomes/MGYG-HGUT-011/MGYG-HGUT-01132/genomes1/GUT_GENOME026776.gff.gz\n",
      "\n",
      "Downloading: ftp://ftp.ebi.ac.uk/pub/databases/metagenomics/mgnify_genomes/human-gut/v1.0/all_genomes/MGYG-HGUT-007/MGYG-HGUT-00730/genomes1/GUT_GENOME026838.gff.gz\n",
      "\n",
      "Downloading: ftp://ftp.ebi.ac.uk/pub/databases/metagenomics/mgnify_genomes/human-gut/v1.0/all_genomes/MGYG-HGUT-005/MGYG-HGUT-00530/genomes2/GUT_GENOME031108.gff.gz\n",
      "\n",
      "Downloading: ftp://ftp.ebi.ac.uk/pub/databases/metagenomics/mgnify_genomes/human-gut/v1.0/all_genomes/MGYG-HGUT-038/MGYG-HGUT-03891/genomes2/GUT_GENOME033234.gff.gz\n",
      "\n",
      "Downloading: ftp://ftp.ebi.ac.uk/pub/databases/metagenomics/mgnify_genomes/human-gut/v1.0/all_genomes/MGYG-HGUT-039/MGYG-HGUT-03972/genomes1/GUT_GENOME035464.gff.gz\n",
      "\n",
      "Downloading: ftp://ftp.ebi.ac.uk/pub/databases/metagenomics/mgnify_genomes/human-gut/v1.0/all_genomes/MGYG-HGUT-005/MGYG-HGUT-00530/genomes1/GUT_GENOME038027.gff.gz\n",
      "\n",
      "Downloading: ftp://ftp.ebi.ac.uk/pub/databases/metagenomics/mgnify_genomes/human-gut/v1.0/all_genomes/MGYG-HGUT-032/MGYG-HGUT-03224/genomes1/GUT_GENOME043661.gff.gz\n",
      "\n",
      "Downloading: ftp://ftp.ebi.ac.uk/pub/databases/metagenomics/mgnify_genomes/human-gut/v1.0/all_genomes/MGYG-HGUT-011/MGYG-HGUT-01132/genomes1/GUT_GENOME044199.gff.gz\n",
      "\n",
      "Downloading: ftp://ftp.ebi.ac.uk/pub/databases/metagenomics/mgnify_genomes/human-gut/v1.0/all_genomes/MGYG-HGUT-011/MGYG-HGUT-01132/genomes1/GUT_GENOME044239.gff.gz\n",
      "\n",
      "Downloading: ftp://ftp.ebi.ac.uk/pub/databases/metagenomics/mgnify_genomes/human-gut/v1.0/all_genomes/MGYG-HGUT-042/MGYG-HGUT-04245/genomes2/GUT_GENOME047625.gff.gz\n",
      "\n",
      "Downloading: ftp://ftp.ebi.ac.uk/pub/databases/metagenomics/mgnify_genomes/human-gut/v1.0/all_genomes/MGYG-HGUT-007/MGYG-HGUT-00730/genomes2/GUT_GENOME048317.gff.gz\n",
      "\n",
      "Downloading: ftp://ftp.ebi.ac.uk/pub/databases/metagenomics/mgnify_genomes/human-gut/v1.0/all_genomes/MGYG-HGUT-009/MGYG-HGUT-00939/genomes1/GUT_GENOME048628.gff.gz\n",
      "\n",
      "Downloading: ftp://ftp.ebi.ac.uk/pub/databases/metagenomics/mgnify_genomes/human-gut/v1.0/all_genomes/MGYG-HGUT-007/MGYG-HGUT-00730/genomes1/GUT_GENOME049881.gff.gz\n",
      "\n",
      "Downloading: ftp://ftp.ebi.ac.uk/pub/databases/metagenomics/mgnify_genomes/human-gut/v1.0/all_genomes/MGYG-HGUT-007/MGYG-HGUT-00730/genomes1/GUT_GENOME055430.gff.gz\n",
      "\n",
      "Downloading: ftp://ftp.ebi.ac.uk/pub/databases/metagenomics/mgnify_genomes/human-gut/v1.0/all_genomes/MGYG-HGUT-026/MGYG-HGUT-02681/genomes1/GUT_GENOME055959.gff.gz\n",
      "\n",
      "Downloading: ftp://ftp.ebi.ac.uk/pub/databases/metagenomics/mgnify_genomes/human-gut/v1.0/all_genomes/MGYG-HGUT-007/MGYG-HGUT-00730/genomes1/GUT_GENOME057004.gff.gz\n",
      "\n",
      "Downloading: ftp://ftp.ebi.ac.uk/pub/databases/metagenomics/mgnify_genomes/human-gut/v1.0/all_genomes/MGYG-HGUT-042/MGYG-HGUT-04245/genomes1/GUT_GENOME057303.gff.gz\n",
      "\n",
      "Downloading: ftp://ftp.ebi.ac.uk/pub/databases/metagenomics/mgnify_genomes/human-gut/v1.0/all_genomes/MGYG-HGUT-005/MGYG-HGUT-00530/genomes1/GUT_GENOME057861.gff.gz\n",
      "\n",
      "Downloading: ftp://ftp.ebi.ac.uk/pub/databases/metagenomics/mgnify_genomes/human-gut/v1.0/all_genomes/MGYG-HGUT-042/MGYG-HGUT-04245/genomes1/GUT_GENOME067108.gff.gz\n",
      "\n",
      "Downloading: ftp://ftp.ebi.ac.uk/pub/databases/metagenomics/mgnify_genomes/human-gut/v1.0/all_genomes/MGYG-HGUT-020/MGYG-HGUT-02072/genomes1/GUT_GENOME067315.gff.gz\n",
      "\n",
      "Downloading: ftp://ftp.ebi.ac.uk/pub/databases/metagenomics/mgnify_genomes/human-gut/v1.0/all_genomes/MGYG-HGUT-007/MGYG-HGUT-00730/genomes1/GUT_GENOME067942.gff.gz\n",
      "\n",
      "Downloading: ftp://ftp.ebi.ac.uk/pub/databases/metagenomics/mgnify_genomes/human-gut/v1.0/all_genomes/MGYG-HGUT-042/MGYG-HGUT-04245/genomes1/GUT_GENOME070737.gff.gz\n",
      "\n",
      "Downloading: ftp://ftp.ebi.ac.uk/pub/databases/metagenomics/mgnify_genomes/human-gut/v1.0/all_genomes/MGYG-HGUT-042/MGYG-HGUT-04245/genomes1/GUT_GENOME071621.gff.gz\n",
      "\n",
      "Downloading: ftp://ftp.ebi.ac.uk/pub/databases/metagenomics/mgnify_genomes/human-gut/v1.0/all_genomes/MGYG-HGUT-026/MGYG-HGUT-02681/genomes1/GUT_GENOME072725.gff.gz\n",
      "\n",
      "Downloading: ftp://ftp.ebi.ac.uk/pub/databases/metagenomics/mgnify_genomes/human-gut/v1.0/all_genomes/MGYG-HGUT-007/MGYG-HGUT-00730/genomes1/GUT_GENOME074075.gff.gz\n",
      "\n",
      "Downloading: ftp://ftp.ebi.ac.uk/pub/databases/metagenomics/mgnify_genomes/human-gut/v1.0/all_genomes/MGYG-HGUT-011/MGYG-HGUT-01132/genomes1/GUT_GENOME081213.gff.gz\n",
      "\n",
      "Downloading: ftp://ftp.ebi.ac.uk/pub/databases/metagenomics/mgnify_genomes/human-gut/v1.0/all_genomes/MGYG-HGUT-011/MGYG-HGUT-01103/genomes1/GUT_GENOME081297.gff.gz\n",
      "\n",
      "Downloading: ftp://ftp.ebi.ac.uk/pub/databases/metagenomics/mgnify_genomes/human-gut/v1.0/all_genomes/MGYG-HGUT-007/MGYG-HGUT-00730/genomes1/GUT_GENOME081465.gff.gz\n",
      "\n",
      "Downloading: ftp://ftp.ebi.ac.uk/pub/databases/metagenomics/mgnify_genomes/human-gut/v1.0/all_genomes/MGYG-HGUT-007/MGYG-HGUT-00730/genomes1/GUT_GENOME081799.gff.gz\n",
      "\n",
      "Downloading: ftp://ftp.ebi.ac.uk/pub/databases/metagenomics/mgnify_genomes/human-gut/v1.0/all_genomes/MGYG-HGUT-007/MGYG-HGUT-00730/genomes1/GUT_GENOME083231.gff.gz\n",
      "\n",
      "Downloading: ftp://ftp.ebi.ac.uk/pub/databases/metagenomics/mgnify_genomes/human-gut/v1.0/all_genomes/MGYG-HGUT-007/MGYG-HGUT-00730/genomes1/GUT_GENOME083365.gff.gz\n",
      "\n",
      "Downloading: ftp://ftp.ebi.ac.uk/pub/databases/metagenomics/mgnify_genomes/human-gut/v1.0/all_genomes/MGYG-HGUT-007/MGYG-HGUT-00730/genomes1/GUT_GENOME083987.gff.gz\n",
      "\n",
      "Downloading: ftp://ftp.ebi.ac.uk/pub/databases/metagenomics/mgnify_genomes/human-gut/v1.0/all_genomes/MGYG-HGUT-039/MGYG-HGUT-03967/genomes1/GUT_GENOME084056.gff.gz\n",
      "\n",
      "Downloading: ftp://ftp.ebi.ac.uk/pub/databases/metagenomics/mgnify_genomes/human-gut/v1.0/all_genomes/MGYG-HGUT-007/MGYG-HGUT-00730/genomes1/GUT_GENOME084566.gff.gz\n",
      "\n",
      "Downloading: ftp://ftp.ebi.ac.uk/pub/databases/metagenomics/mgnify_genomes/human-gut/v1.0/all_genomes/MGYG-HGUT-011/MGYG-HGUT-01132/genomes1/GUT_GENOME084610.gff.gz\n",
      "\n",
      "Downloading: ftp://ftp.ebi.ac.uk/pub/databases/metagenomics/mgnify_genomes/human-gut/v1.0/all_genomes/MGYG-HGUT-038/MGYG-HGUT-03891/genomes1/GUT_GENOME086293.gff.gz\n",
      "\n",
      "Downloading: ftp://ftp.ebi.ac.uk/pub/databases/metagenomics/mgnify_genomes/human-gut/v1.0/all_genomes/MGYG-HGUT-039/MGYG-HGUT-03961/genomes1/GUT_GENOME087392.gff.gz\n",
      "\n",
      "Downloading: ftp://ftp.ebi.ac.uk/pub/databases/metagenomics/mgnify_genomes/human-gut/v1.0/all_genomes/MGYG-HGUT-011/MGYG-HGUT-01132/genomes1/GUT_GENOME089788.gff.gz\n",
      "\n",
      "Downloading: ftp://ftp.ebi.ac.uk/pub/databases/metagenomics/mgnify_genomes/human-gut/v1.0/all_genomes/MGYG-HGUT-042/MGYG-HGUT-04245/genomes2/GUT_GENOME091022.gff.gz\n",
      "\n",
      "Downloading: ftp://ftp.ebi.ac.uk/pub/databases/metagenomics/mgnify_genomes/human-gut/v1.0/all_genomes/MGYG-HGUT-007/MGYG-HGUT-00730/genomes1/GUT_GENOME091174.gff.gz\n",
      "\n",
      "Downloading: ftp://ftp.ebi.ac.uk/pub/databases/metagenomics/mgnify_genomes/human-gut/v1.0/all_genomes/MGYG-HGUT-007/MGYG-HGUT-00730/genomes1/GUT_GENOME091251.gff.gz\n",
      "\n",
      "Downloading: ftp://ftp.ebi.ac.uk/pub/databases/metagenomics/mgnify_genomes/human-gut/v1.0/all_genomes/MGYG-HGUT-007/MGYG-HGUT-00718/genomes1/GUT_GENOME091444.gff.gz\n",
      "\n",
      "Downloading: ftp://ftp.ebi.ac.uk/pub/databases/metagenomics/mgnify_genomes/human-gut/v1.0/all_genomes/MGYG-HGUT-007/MGYG-HGUT-00730/genomes1/GUT_GENOME092910.gff.gz\n",
      "\n",
      "Downloading: ftp://ftp.ebi.ac.uk/pub/databases/metagenomics/mgnify_genomes/human-gut/v1.0/all_genomes/MGYG-HGUT-007/MGYG-HGUT-00730/genomes1/GUT_GENOME093203.gff.gz\n",
      "\n",
      "Downloading: ftp://ftp.ebi.ac.uk/pub/databases/metagenomics/mgnify_genomes/human-gut/v1.0/all_genomes/MGYG-HGUT-007/MGYG-HGUT-00730/genomes2/GUT_GENOME093433.gff.gz\n",
      "\n",
      "Downloading: ftp://ftp.ebi.ac.uk/pub/databases/metagenomics/mgnify_genomes/human-gut/v1.0/all_genomes/MGYG-HGUT-007/MGYG-HGUT-00730/genomes1/GUT_GENOME093687.gff.gz\n",
      "\n",
      "Downloading: ftp://ftp.ebi.ac.uk/pub/databases/metagenomics/mgnify_genomes/human-gut/v1.0/all_genomes/MGYG-HGUT-007/MGYG-HGUT-00730/genomes1/GUT_GENOME094110.gff.gz\n",
      "\n",
      "Downloading: ftp://ftp.ebi.ac.uk/pub/databases/metagenomics/mgnify_genomes/human-gut/v1.0/all_genomes/MGYG-HGUT-007/MGYG-HGUT-00730/genomes1/GUT_GENOME095220.gff.gz\n",
      "\n",
      "Downloading: ftp://ftp.ebi.ac.uk/pub/databases/metagenomics/mgnify_genomes/human-gut/v1.0/all_genomes/MGYG-HGUT-007/MGYG-HGUT-00730/genomes1/GUT_GENOME095708.gff.gz\n",
      "\n",
      "Downloading: ftp://ftp.ebi.ac.uk/pub/databases/metagenomics/mgnify_genomes/human-gut/v1.0/all_genomes/MGYG-HGUT-005/MGYG-HGUT-00530/genomes1/GUT_GENOME095807.gff.gz\n",
      "\n",
      "Downloading: ftp://ftp.ebi.ac.uk/pub/databases/metagenomics/mgnify_genomes/human-gut/v1.0/all_genomes/MGYG-HGUT-026/MGYG-HGUT-02681/genomes1/GUT_GENOME098981.gff.gz\n",
      "\n",
      "Downloading: ftp://ftp.ebi.ac.uk/pub/databases/metagenomics/mgnify_genomes/human-gut/v1.0/all_genomes/MGYG-HGUT-007/MGYG-HGUT-00730/genomes1/GUT_GENOME102313.gff.gz\n",
      "\n",
      "Downloading: ftp://ftp.ebi.ac.uk/pub/databases/metagenomics/mgnify_genomes/human-gut/v1.0/all_genomes/MGYG-HGUT-016/MGYG-HGUT-01675/genomes1/GUT_GENOME102728.gff.gz\n",
      "\n",
      "Downloading: ftp://ftp.ebi.ac.uk/pub/databases/metagenomics/mgnify_genomes/human-gut/v1.0/all_genomes/MGYG-HGUT-007/MGYG-HGUT-00730/genomes1/GUT_GENOME102818.gff.gz\n",
      "\n",
      "Downloading: ftp://ftp.ebi.ac.uk/pub/databases/metagenomics/mgnify_genomes/human-gut/v1.0/all_genomes/MGYG-HGUT-011/MGYG-HGUT-01132/genomes1/GUT_GENOME103985.gff.gz\n",
      "\n",
      "Downloading: ftp://ftp.ebi.ac.uk/pub/databases/metagenomics/mgnify_genomes/human-gut/v1.0/all_genomes/MGYG-HGUT-007/MGYG-HGUT-00718/genomes1/GUT_GENOME104483.gff.gz\n",
      "\n",
      "Downloading: ftp://ftp.ebi.ac.uk/pub/databases/metagenomics/mgnify_genomes/human-gut/v1.0/all_genomes/MGYG-HGUT-019/MGYG-HGUT-01932/genomes1/GUT_GENOME104663.gff.gz\n",
      "\n",
      "Downloading: ftp://ftp.ebi.ac.uk/pub/databases/metagenomics/mgnify_genomes/human-gut/v1.0/all_genomes/MGYG-HGUT-045/MGYG-HGUT-04551/genomes1/GUT_GENOME104784.gff.gz\n",
      "\n",
      "Downloading: ftp://ftp.ebi.ac.uk/pub/databases/metagenomics/mgnify_genomes/human-gut/v1.0/all_genomes/MGYG-HGUT-008/MGYG-HGUT-00875/genomes1/GUT_GENOME105230.gff.gz\n",
      "\n",
      "Downloading: ftp://ftp.ebi.ac.uk/pub/databases/metagenomics/mgnify_genomes/human-gut/v1.0/all_genomes/MGYG-HGUT-009/MGYG-HGUT-00939/genomes1/GUT_GENOME105699.gff.gz\n",
      "\n",
      "Downloading: ftp://ftp.ebi.ac.uk/pub/databases/metagenomics/mgnify_genomes/human-gut/v1.0/all_genomes/MGYG-HGUT-007/MGYG-HGUT-00730/genomes1/GUT_GENOME105752.gff.gz\n",
      "\n",
      "Downloading: ftp://ftp.ebi.ac.uk/pub/databases/metagenomics/mgnify_genomes/human-gut/v1.0/all_genomes/MGYG-HGUT-005/MGYG-HGUT-00530/genomes1/GUT_GENOME107619.gff.gz\n",
      "\n",
      "Downloading: ftp://ftp.ebi.ac.uk/pub/databases/metagenomics/mgnify_genomes/human-gut/v1.0/all_genomes/MGYG-HGUT-007/MGYG-HGUT-00730/genomes1/GUT_GENOME107801.gff.gz\n",
      "\n",
      "Downloading: ftp://ftp.ebi.ac.uk/pub/databases/metagenomics/mgnify_genomes/human-gut/v1.0/all_genomes/MGYG-HGUT-005/MGYG-HGUT-00530/genomes1/GUT_GENOME107816.gff.gz\n",
      "\n",
      "Downloading: ftp://ftp.ebi.ac.uk/pub/databases/metagenomics/mgnify_genomes/human-gut/v1.0/all_genomes/MGYG-HGUT-007/MGYG-HGUT-00730/genomes2/GUT_GENOME108244.gff.gz\n",
      "\n",
      "Downloading: ftp://ftp.ebi.ac.uk/pub/databases/metagenomics/mgnify_genomes/human-gut/v1.0/all_genomes/MGYG-HGUT-042/MGYG-HGUT-04245/genomes1/GUT_GENOME108859.gff.gz\n",
      "\n",
      "Downloading: ftp://ftp.ebi.ac.uk/pub/databases/metagenomics/mgnify_genomes/human-gut/v1.0/all_genomes/MGYG-HGUT-042/MGYG-HGUT-04245/genomes1/GUT_GENOME109505.gff.gz\n",
      "\n",
      "Downloading: ftp://ftp.ebi.ac.uk/pub/databases/metagenomics/mgnify_genomes/human-gut/v1.0/all_genomes/MGYG-HGUT-007/MGYG-HGUT-00730/genomes1/GUT_GENOME110114.gff.gz\n",
      "\n",
      "Downloading: ftp://ftp.ebi.ac.uk/pub/databases/metagenomics/mgnify_genomes/human-gut/v1.0/all_genomes/MGYG-HGUT-008/MGYG-HGUT-00875/genomes1/GUT_GENOME110789.gff.gz\n",
      "\n",
      "Downloading: ftp://ftp.ebi.ac.uk/pub/databases/metagenomics/mgnify_genomes/human-gut/v1.0/all_genomes/MGYG-HGUT-007/MGYG-HGUT-00730/genomes1/GUT_GENOME110934.gff.gz\n",
      "\n",
      "Downloading: ftp://ftp.ebi.ac.uk/pub/databases/metagenomics/mgnify_genomes/human-gut/v1.0/all_genomes/MGYG-HGUT-007/MGYG-HGUT-00730/genomes1/GUT_GENOME110954.gff.gz\n",
      "\n",
      "Downloading: ftp://ftp.ebi.ac.uk/pub/databases/metagenomics/mgnify_genomes/human-gut/v1.0/all_genomes/MGYG-HGUT-007/MGYG-HGUT-00730/genomes2/GUT_GENOME111365.gff.gz\n",
      "\n",
      "Downloading: ftp://ftp.ebi.ac.uk/pub/databases/metagenomics/mgnify_genomes/human-gut/v1.0/all_genomes/MGYG-HGUT-007/MGYG-HGUT-00730/genomes1/GUT_GENOME111416.gff.gz\n",
      "\n",
      "Downloading: ftp://ftp.ebi.ac.uk/pub/databases/metagenomics/mgnify_genomes/human-gut/v1.0/all_genomes/MGYG-HGUT-026/MGYG-HGUT-02681/genomes1/GUT_GENOME111491.gff.gz\n",
      "\n",
      "Downloading: ftp://ftp.ebi.ac.uk/pub/databases/metagenomics/mgnify_genomes/human-gut/v1.0/all_genomes/MGYG-HGUT-042/MGYG-HGUT-04245/genomes2/GUT_GENOME111501.gff.gz\n",
      "\n",
      "Downloading: ftp://ftp.ebi.ac.uk/pub/databases/metagenomics/mgnify_genomes/human-gut/v1.0/all_genomes/MGYG-HGUT-007/MGYG-HGUT-00730/genomes1/GUT_GENOME112062.gff.gz\n",
      "\n",
      "Downloading: ftp://ftp.ebi.ac.uk/pub/databases/metagenomics/mgnify_genomes/human-gut/v1.0/all_genomes/MGYG-HGUT-005/MGYG-HGUT-00530/genomes1/GUT_GENOME112317.gff.gz\n",
      "\n",
      "Downloading: ftp://ftp.ebi.ac.uk/pub/databases/metagenomics/mgnify_genomes/human-gut/v1.0/all_genomes/MGYG-HGUT-007/MGYG-HGUT-00730/genomes1/GUT_GENOME112403.gff.gz\n",
      "\n",
      "Downloading: ftp://ftp.ebi.ac.uk/pub/databases/metagenomics/mgnify_genomes/human-gut/v1.0/all_genomes/MGYG-HGUT-007/MGYG-HGUT-00730/genomes2/GUT_GENOME112898.gff.gz\n",
      "\n",
      "Downloading: ftp://ftp.ebi.ac.uk/pub/databases/metagenomics/mgnify_genomes/human-gut/v1.0/all_genomes/MGYG-HGUT-042/MGYG-HGUT-04245/genomes1/GUT_GENOME112935.gff.gz\n",
      "\n",
      "Downloading: ftp://ftp.ebi.ac.uk/pub/databases/metagenomics/mgnify_genomes/human-gut/v1.0/all_genomes/MGYG-HGUT-007/MGYG-HGUT-00730/genomes1/GUT_GENOME113027.gff.gz\n",
      "\n",
      "Downloading: ftp://ftp.ebi.ac.uk/pub/databases/metagenomics/mgnify_genomes/human-gut/v1.0/all_genomes/MGYG-HGUT-042/MGYG-HGUT-04245/genomes1/GUT_GENOME113041.gff.gz\n",
      "\n",
      "Downloading: ftp://ftp.ebi.ac.uk/pub/databases/metagenomics/mgnify_genomes/human-gut/v1.0/all_genomes/MGYG-HGUT-005/MGYG-HGUT-00530/genomes1/GUT_GENOME113243.gff.gz\n",
      "\n",
      "Downloading: ftp://ftp.ebi.ac.uk/pub/databases/metagenomics/mgnify_genomes/human-gut/v1.0/all_genomes/MGYG-HGUT-005/MGYG-HGUT-00530/genomes3/GUT_GENOME113391.gff.gz\n",
      "\n",
      "Downloading: ftp://ftp.ebi.ac.uk/pub/databases/metagenomics/mgnify_genomes/human-gut/v1.0/all_genomes/MGYG-HGUT-007/MGYG-HGUT-00730/genomes1/GUT_GENOME113455.gff.gz\n",
      "\n",
      "Downloading: ftp://ftp.ebi.ac.uk/pub/databases/metagenomics/mgnify_genomes/human-gut/v1.0/all_genomes/MGYG-HGUT-011/MGYG-HGUT-01132/genomes1/GUT_GENOME113652.gff.gz\n",
      "\n",
      "Downloading: ftp://ftp.ebi.ac.uk/pub/databases/metagenomics/mgnify_genomes/human-gut/v1.0/all_genomes/MGYG-HGUT-007/MGYG-HGUT-00730/genomes1/GUT_GENOME113942.gff.gz\n",
      "\n",
      "Downloading: ftp://ftp.ebi.ac.uk/pub/databases/metagenomics/mgnify_genomes/human-gut/v1.0/all_genomes/MGYG-HGUT-011/MGYG-HGUT-01132/genomes1/GUT_GENOME114047.gff.gz\n",
      "\n",
      "Downloading: ftp://ftp.ebi.ac.uk/pub/databases/metagenomics/mgnify_genomes/human-gut/v1.0/all_genomes/MGYG-HGUT-007/MGYG-HGUT-00730/genomes1/GUT_GENOME114314.gff.gz\n",
      "\n",
      "Downloading: ftp://ftp.ebi.ac.uk/pub/databases/metagenomics/mgnify_genomes/human-gut/v1.0/all_genomes/MGYG-HGUT-026/MGYG-HGUT-02681/genomes1/GUT_GENOME114383.gff.gz\n",
      "\n",
      "Downloading: ftp://ftp.ebi.ac.uk/pub/databases/metagenomics/mgnify_genomes/human-gut/v1.0/all_genomes/MGYG-HGUT-042/MGYG-HGUT-04245/genomes2/GUT_GENOME114384.gff.gz\n",
      "\n",
      "Downloading: ftp://ftp.ebi.ac.uk/pub/databases/metagenomics/mgnify_genomes/human-gut/v1.0/all_genomes/MGYG-HGUT-005/MGYG-HGUT-00530/genomes1/GUT_GENOME114438.gff.gz\n",
      "\n",
      "Downloading: ftp://ftp.ebi.ac.uk/pub/databases/metagenomics/mgnify_genomes/human-gut/v1.0/all_genomes/MGYG-HGUT-007/MGYG-HGUT-00730/genomes2/GUT_GENOME114538.gff.gz\n",
      "\n",
      "Downloading: ftp://ftp.ebi.ac.uk/pub/databases/metagenomics/mgnify_genomes/human-gut/v1.0/all_genomes/MGYG-HGUT-007/MGYG-HGUT-00730/genomes1/GUT_GENOME114925.gff.gz\n",
      "\n",
      "Downloading: ftp://ftp.ebi.ac.uk/pub/databases/metagenomics/mgnify_genomes/human-gut/v1.0/all_genomes/MGYG-HGUT-007/MGYG-HGUT-00730/genomes2/GUT_GENOME115405.gff.gz\n",
      "\n",
      "Downloading: ftp://ftp.ebi.ac.uk/pub/databases/metagenomics/mgnify_genomes/human-gut/v1.0/all_genomes/MGYG-HGUT-007/MGYG-HGUT-00730/genomes1/GUT_GENOME115664.gff.gz\n",
      "\n",
      "Downloading: ftp://ftp.ebi.ac.uk/pub/databases/metagenomics/mgnify_genomes/human-gut/v1.0/all_genomes/MGYG-HGUT-007/MGYG-HGUT-00730/genomes1/GUT_GENOME115734.gff.gz\n",
      "\n",
      "Downloading: ftp://ftp.ebi.ac.uk/pub/databases/metagenomics/mgnify_genomes/human-gut/v1.0/all_genomes/MGYG-HGUT-007/MGYG-HGUT-00730/genomes1/GUT_GENOME116268.gff.gz\n",
      "\n",
      "Downloading: ftp://ftp.ebi.ac.uk/pub/databases/metagenomics/mgnify_genomes/human-gut/v1.0/all_genomes/MGYG-HGUT-042/MGYG-HGUT-04245/genomes1/GUT_GENOME116339.gff.gz\n",
      "\n",
      "Downloading: ftp://ftp.ebi.ac.uk/pub/databases/metagenomics/mgnify_genomes/human-gut/v1.0/all_genomes/MGYG-HGUT-007/MGYG-HGUT-00730/genomes2/GUT_GENOME116765.gff.gz\n",
      "\n",
      "Downloading: ftp://ftp.ebi.ac.uk/pub/databases/metagenomics/mgnify_genomes/human-gut/v1.0/all_genomes/MGYG-HGUT-011/MGYG-HGUT-01132/genomes1/GUT_GENOME117240.gff.gz\n",
      "\n",
      "Downloading: ftp://ftp.ebi.ac.uk/pub/databases/metagenomics/mgnify_genomes/human-gut/v1.0/all_genomes/MGYG-HGUT-039/MGYG-HGUT-03961/genomes1/GUT_GENOME117847.gff.gz\n",
      "\n",
      "Downloading: ftp://ftp.ebi.ac.uk/pub/databases/metagenomics/mgnify_genomes/human-gut/v1.0/all_genomes/MGYG-HGUT-007/MGYG-HGUT-00730/genomes1/GUT_GENOME117964.gff.gz\n",
      "\n",
      "Downloading: ftp://ftp.ebi.ac.uk/pub/databases/metagenomics/mgnify_genomes/human-gut/v1.0/all_genomes/MGYG-HGUT-042/MGYG-HGUT-04245/genomes2/GUT_GENOME118007.gff.gz\n",
      "\n",
      "Downloading: ftp://ftp.ebi.ac.uk/pub/databases/metagenomics/mgnify_genomes/human-gut/v1.0/all_genomes/MGYG-HGUT-005/MGYG-HGUT-00530/genomes2/GUT_GENOME118193.gff.gz\n",
      "\n",
      "Downloading: ftp://ftp.ebi.ac.uk/pub/databases/metagenomics/mgnify_genomes/human-gut/v1.0/all_genomes/MGYG-HGUT-042/MGYG-HGUT-04245/genomes1/GUT_GENOME118498.gff.gz\n",
      "\n",
      "Downloading: ftp://ftp.ebi.ac.uk/pub/databases/metagenomics/mgnify_genomes/human-gut/v1.0/all_genomes/MGYG-HGUT-007/MGYG-HGUT-00730/genomes1/GUT_GENOME119315.gff.gz\n",
      "\n",
      "Downloading: ftp://ftp.ebi.ac.uk/pub/databases/metagenomics/mgnify_genomes/human-gut/v1.0/all_genomes/MGYG-HGUT-005/MGYG-HGUT-00530/genomes1/GUT_GENOME120873.gff.gz\n",
      "\n",
      "Downloading: ftp://ftp.ebi.ac.uk/pub/databases/metagenomics/mgnify_genomes/human-gut/v1.0/all_genomes/MGYG-HGUT-007/MGYG-HGUT-00730/genomes1/GUT_GENOME122088.gff.gz\n",
      "\n",
      "Downloading: ftp://ftp.ebi.ac.uk/pub/databases/metagenomics/mgnify_genomes/human-gut/v1.0/all_genomes/MGYG-HGUT-020/MGYG-HGUT-02072/genomes1/GUT_GENOME123861.gff.gz\n",
      "\n",
      "Downloading: ftp://ftp.ebi.ac.uk/pub/databases/metagenomics/mgnify_genomes/human-gut/v1.0/all_genomes/MGYG-HGUT-011/MGYG-HGUT-01132/genomes1/GUT_GENOME123945.gff.gz\n",
      "\n",
      "Downloading: ftp://ftp.ebi.ac.uk/pub/databases/metagenomics/mgnify_genomes/human-gut/v1.0/all_genomes/MGYG-HGUT-007/MGYG-HGUT-00730/genomes2/GUT_GENOME124482.gff.gz\n",
      "\n",
      "Downloading: ftp://ftp.ebi.ac.uk/pub/databases/metagenomics/mgnify_genomes/human-gut/v1.0/all_genomes/MGYG-HGUT-005/MGYG-HGUT-00530/genomes2/GUT_GENOME124704.gff.gz\n",
      "\n",
      "Downloading: ftp://ftp.ebi.ac.uk/pub/databases/metagenomics/mgnify_genomes/human-gut/v1.0/all_genomes/MGYG-HGUT-042/MGYG-HGUT-04245/genomes2/GUT_GENOME124708.gff.gz\n",
      "\n",
      "Downloading: ftp://ftp.ebi.ac.uk/pub/databases/metagenomics/mgnify_genomes/human-gut/v1.0/all_genomes/MGYG-HGUT-038/MGYG-HGUT-03891/genomes2/GUT_GENOME125485.gff.gz\n",
      "\n",
      "Downloading: ftp://ftp.ebi.ac.uk/pub/databases/metagenomics/mgnify_genomes/human-gut/v1.0/all_genomes/MGYG-HGUT-020/MGYG-HGUT-02072/genomes1/GUT_GENOME125851.gff.gz\n",
      "\n",
      "Downloading: ftp://ftp.ebi.ac.uk/pub/databases/metagenomics/mgnify_genomes/human-gut/v1.0/all_genomes/MGYG-HGUT-011/MGYG-HGUT-01132/genomes1/GUT_GENOME126128.gff.gz\n",
      "\n",
      "Downloading: ftp://ftp.ebi.ac.uk/pub/databases/metagenomics/mgnify_genomes/human-gut/v1.0/all_genomes/MGYG-HGUT-009/MGYG-HGUT-00939/genomes1/GUT_GENOME126626.gff.gz\n",
      "\n",
      "Downloading: ftp://ftp.ebi.ac.uk/pub/databases/metagenomics/mgnify_genomes/human-gut/v1.0/all_genomes/MGYG-HGUT-007/MGYG-HGUT-00730/genomes1/GUT_GENOME127157.gff.gz\n",
      "\n",
      "Downloading: ftp://ftp.ebi.ac.uk/pub/databases/metagenomics/mgnify_genomes/human-gut/v1.0/all_genomes/MGYG-HGUT-007/MGYG-HGUT-00730/genomes1/GUT_GENOME127754.gff.gz\n",
      "\n",
      "Downloading: ftp://ftp.ebi.ac.uk/pub/databases/metagenomics/mgnify_genomes/human-gut/v1.0/all_genomes/MGYG-HGUT-007/MGYG-HGUT-00730/genomes1/GUT_GENOME129204.gff.gz\n",
      "\n",
      "Downloading: ftp://ftp.ebi.ac.uk/pub/databases/metagenomics/mgnify_genomes/human-gut/v1.0/all_genomes/MGYG-HGUT-007/MGYG-HGUT-00730/genomes1/GUT_GENOME129433.gff.gz\n",
      "\n",
      "Downloading: ftp://ftp.ebi.ac.uk/pub/databases/metagenomics/mgnify_genomes/human-gut/v1.0/all_genomes/MGYG-HGUT-020/MGYG-HGUT-02072/genomes1/GUT_GENOME129467.gff.gz\n",
      "\n",
      "Downloading: ftp://ftp.ebi.ac.uk/pub/databases/metagenomics/mgnify_genomes/human-gut/v1.0/all_genomes/MGYG-HGUT-007/MGYG-HGUT-00730/genomes1/GUT_GENOME129678.gff.gz\n",
      "\n",
      "Downloading: ftp://ftp.ebi.ac.uk/pub/databases/metagenomics/mgnify_genomes/human-gut/v1.0/all_genomes/MGYG-HGUT-007/MGYG-HGUT-00730/genomes1/GUT_GENOME132602.gff.gz\n",
      "\n",
      "Downloading: ftp://ftp.ebi.ac.uk/pub/databases/metagenomics/mgnify_genomes/human-gut/v1.0/all_genomes/MGYG-HGUT-007/MGYG-HGUT-00730/genomes1/GUT_GENOME133038.gff.gz\n",
      "\n",
      "Downloading: ftp://ftp.ebi.ac.uk/pub/databases/metagenomics/mgnify_genomes/human-gut/v1.0/all_genomes/MGYG-HGUT-005/MGYG-HGUT-00530/genomes2/GUT_GENOME134096.gff.gz\n",
      "\n",
      "Downloading: ftp://ftp.ebi.ac.uk/pub/databases/metagenomics/mgnify_genomes/human-gut/v1.0/all_genomes/MGYG-HGUT-011/MGYG-HGUT-01132/genomes1/GUT_GENOME134119.gff.gz\n",
      "\n",
      "Downloading: ftp://ftp.ebi.ac.uk/pub/databases/metagenomics/mgnify_genomes/human-gut/v1.0/all_genomes/MGYG-HGUT-005/MGYG-HGUT-00530/genomes2/GUT_GENOME134648.gff.gz\n",
      "\n",
      "Downloading: ftp://ftp.ebi.ac.uk/pub/databases/metagenomics/mgnify_genomes/human-gut/v1.0/all_genomes/MGYG-HGUT-007/MGYG-HGUT-00730/genomes1/GUT_GENOME135093.gff.gz\n",
      "\n",
      "Downloading: ftp://ftp.ebi.ac.uk/pub/databases/metagenomics/mgnify_genomes/human-gut/v1.0/all_genomes/MGYG-HGUT-007/MGYG-HGUT-00730/genomes1/GUT_GENOME135179.gff.gz\n",
      "\n",
      "Downloading: ftp://ftp.ebi.ac.uk/pub/databases/metagenomics/mgnify_genomes/human-gut/v1.0/all_genomes/MGYG-HGUT-007/MGYG-HGUT-00730/genomes2/GUT_GENOME135922.gff.gz\n",
      "\n",
      "Downloading: ftp://ftp.ebi.ac.uk/pub/databases/metagenomics/mgnify_genomes/human-gut/v1.0/all_genomes/MGYG-HGUT-007/MGYG-HGUT-00730/genomes1/GUT_GENOME136346.gff.gz\n",
      "\n",
      "Downloading: ftp://ftp.ebi.ac.uk/pub/databases/metagenomics/mgnify_genomes/human-gut/v1.0/all_genomes/MGYG-HGUT-007/MGYG-HGUT-00730/genomes1/GUT_GENOME136676.gff.gz\n",
      "\n",
      "Downloading: ftp://ftp.ebi.ac.uk/pub/databases/metagenomics/mgnify_genomes/human-gut/v1.0/all_genomes/MGYG-HGUT-007/MGYG-HGUT-00730/genomes1/GUT_GENOME138001.gff.gz\n",
      "\n",
      "Downloading: ftp://ftp.ebi.ac.uk/pub/databases/metagenomics/mgnify_genomes/human-gut/v1.0/all_genomes/MGYG-HGUT-007/MGYG-HGUT-00730/genomes1/GUT_GENOME138477.gff.gz\n",
      "\n",
      "Downloading: ftp://ftp.ebi.ac.uk/pub/databases/metagenomics/mgnify_genomes/human-gut/v1.0/all_genomes/MGYG-HGUT-008/MGYG-HGUT-00875/genomes1/GUT_GENOME139071.gff.gz\n",
      "\n",
      "Downloading: ftp://ftp.ebi.ac.uk/pub/databases/metagenomics/mgnify_genomes/human-gut/v1.0/all_genomes/MGYG-HGUT-045/MGYG-HGUT-04551/genomes1/GUT_GENOME139869.gff.gz\n",
      "\n",
      "Downloading: ftp://ftp.ebi.ac.uk/pub/databases/metagenomics/mgnify_genomes/human-gut/v1.0/all_genomes/MGYG-HGUT-007/MGYG-HGUT-00730/genomes2/GUT_GENOME148347.gff.gz\n",
      "\n",
      "Downloading: ftp://ftp.ebi.ac.uk/pub/databases/metagenomics/mgnify_genomes/human-gut/v1.0/all_genomes/MGYG-HGUT-038/MGYG-HGUT-03891/genomes4/GUT_GENOME148387.gff.gz\n",
      "\n",
      "Downloading: ftp://ftp.ebi.ac.uk/pub/databases/metagenomics/mgnify_genomes/human-gut/v1.0/all_genomes/MGYG-HGUT-007/MGYG-HGUT-00730/genomes1/GUT_GENOME149021.gff.gz\n",
      "\n",
      "Downloading: ftp://ftp.ebi.ac.uk/pub/databases/metagenomics/mgnify_genomes/human-gut/v1.0/all_genomes/MGYG-HGUT-011/MGYG-HGUT-01132/genomes1/GUT_GENOME150000.gff.gz\n",
      "\n",
      "Downloading: ftp://ftp.ebi.ac.uk/pub/databases/metagenomics/mgnify_genomes/human-gut/v1.0/all_genomes/MGYG-HGUT-007/MGYG-HGUT-00730/genomes1/GUT_GENOME151676.gff.gz\n",
      "\n",
      "Downloading: ftp://ftp.ebi.ac.uk/pub/databases/metagenomics/mgnify_genomes/human-gut/v1.0/all_genomes/MGYG-HGUT-026/MGYG-HGUT-02629/genomes1/GUT_GENOME155741.gff.gz\n",
      "\n",
      "Downloading: ftp://ftp.ebi.ac.uk/pub/databases/metagenomics/mgnify_genomes/human-gut/v1.0/all_genomes/MGYG-HGUT-026/MGYG-HGUT-02679/genomes1/GUT_GENOME158031.gff.gz\n",
      "\n",
      "Downloading: ftp://ftp.ebi.ac.uk/pub/databases/metagenomics/mgnify_genomes/human-gut/v1.0/all_genomes/MGYG-HGUT-026/MGYG-HGUT-02681/genomes1/GUT_GENOME158142.gff.gz\n",
      "\n",
      "Downloading: ftp://ftp.ebi.ac.uk/pub/databases/metagenomics/mgnify_genomes/human-gut/v1.0/all_genomes/MGYG-HGUT-011/MGYG-HGUT-01132/genomes1/GUT_GENOME158277.gff.gz\n",
      "\n",
      "Downloading: ftp://ftp.ebi.ac.uk/pub/databases/metagenomics/mgnify_genomes/human-gut/v1.0/all_genomes/MGYG-HGUT-007/MGYG-HGUT-00730/genomes1/GUT_GENOME158309.gff.gz\n",
      "\n",
      "Downloading: ftp://ftp.ebi.ac.uk/pub/databases/metagenomics/mgnify_genomes/human-gut/v1.0/all_genomes/MGYG-HGUT-011/MGYG-HGUT-01132/genomes1/GUT_GENOME158323.gff.gz\n",
      "\n",
      "Downloading: ftp://ftp.ebi.ac.uk/pub/databases/metagenomics/mgnify_genomes/human-gut/v1.0/all_genomes/MGYG-HGUT-009/MGYG-HGUT-00939/genomes1/GUT_GENOME158370.gff.gz\n",
      "\n",
      "Downloading: ftp://ftp.ebi.ac.uk/pub/databases/metagenomics/mgnify_genomes/human-gut/v1.0/all_genomes/MGYG-HGUT-009/MGYG-HGUT-00939/genomes1/GUT_GENOME158436.gff.gz\n",
      "\n",
      "Downloading: ftp://ftp.ebi.ac.uk/pub/databases/metagenomics/mgnify_genomes/human-gut/v1.0/all_genomes/MGYG-HGUT-009/MGYG-HGUT-00939/genomes1/GUT_GENOME158456.gff.gz\n",
      "\n",
      "Downloading: ftp://ftp.ebi.ac.uk/pub/databases/metagenomics/mgnify_genomes/human-gut/v1.0/all_genomes/MGYG-HGUT-011/MGYG-HGUT-01132/genomes1/GUT_GENOME158543.gff.gz\n",
      "\n",
      "Downloading: ftp://ftp.ebi.ac.uk/pub/databases/metagenomics/mgnify_genomes/human-gut/v1.0/all_genomes/MGYG-HGUT-011/MGYG-HGUT-01132/genomes1/GUT_GENOME158610.gff.gz\n",
      "\n",
      "Downloading: ftp://ftp.ebi.ac.uk/pub/databases/metagenomics/mgnify_genomes/human-gut/v1.0/all_genomes/MGYG-HGUT-038/MGYG-HGUT-03891/genomes1/GUT_GENOME158947.gff.gz\n",
      "\n",
      "Downloading: ftp://ftp.ebi.ac.uk/pub/databases/metagenomics/mgnify_genomes/human-gut/v1.0/all_genomes/MGYG-HGUT-038/MGYG-HGUT-03891/genomes1/GUT_GENOME159103.gff.gz\n",
      "\n",
      "Downloading: ftp://ftp.ebi.ac.uk/pub/databases/metagenomics/mgnify_genomes/human-gut/v1.0/all_genomes/MGYG-HGUT-042/MGYG-HGUT-04245/genomes1/GUT_GENOME159777.gff.gz\n",
      "\n",
      "Downloading: ftp://ftp.ebi.ac.uk/pub/databases/metagenomics/mgnify_genomes/human-gut/v1.0/all_genomes/MGYG-HGUT-042/MGYG-HGUT-04245/genomes2/GUT_GENOME160252.gff.gz\n",
      "\n",
      "Downloading: ftp://ftp.ebi.ac.uk/pub/databases/metagenomics/mgnify_genomes/human-gut/v1.0/all_genomes/MGYG-HGUT-005/MGYG-HGUT-00530/genomes3/GUT_GENOME162740.gff.gz\n",
      "\n",
      "Downloading: ftp://ftp.ebi.ac.uk/pub/databases/metagenomics/mgnify_genomes/human-gut/v1.0/all_genomes/MGYG-HGUT-007/MGYG-HGUT-00718/genomes1/GUT_GENOME170651.gff.gz\n",
      "\n",
      "Downloading: ftp://ftp.ebi.ac.uk/pub/databases/metagenomics/mgnify_genomes/human-gut/v1.0/all_genomes/MGYG-HGUT-020/MGYG-HGUT-02072/genomes1/GUT_GENOME173659.gff.gz\n",
      "\n",
      "Downloading: ftp://ftp.ebi.ac.uk/pub/databases/metagenomics/mgnify_genomes/human-gut/v1.0/all_genomes/MGYG-HGUT-026/MGYG-HGUT-02679/genomes1/GUT_GENOME175025.gff.gz\n",
      "\n",
      "Downloading: ftp://ftp.ebi.ac.uk/pub/databases/metagenomics/mgnify_genomes/human-gut/v1.0/all_genomes/MGYG-HGUT-007/MGYG-HGUT-00730/genomes2/GUT_GENOME175257.gff.gz\n",
      "\n",
      "Downloading: ftp://ftp.ebi.ac.uk/pub/databases/metagenomics/mgnify_genomes/human-gut/v1.0/all_genomes/MGYG-HGUT-007/MGYG-HGUT-00730/genomes1/GUT_GENOME176010.gff.gz\n",
      "\n",
      "Downloading: ftp://ftp.ebi.ac.uk/pub/databases/metagenomics/mgnify_genomes/human-gut/v1.0/all_genomes/MGYG-HGUT-008/MGYG-HGUT-00875/genomes1/GUT_GENOME179638.gff.gz\n",
      "\n",
      "Downloading: ftp://ftp.ebi.ac.uk/pub/databases/metagenomics/mgnify_genomes/human-gut/v1.0/all_genomes/MGYG-HGUT-016/MGYG-HGUT-01658/genomes1/GUT_GENOME180128.gff.gz\n",
      "\n",
      "Downloading: ftp://ftp.ebi.ac.uk/pub/databases/metagenomics/mgnify_genomes/human-gut/v1.0/all_genomes/MGYG-HGUT-016/MGYG-HGUT-01658/genomes1/GUT_GENOME180773.gff.gz\n",
      "\n",
      "Downloading: ftp://ftp.ebi.ac.uk/pub/databases/metagenomics/mgnify_genomes/human-gut/v1.0/all_genomes/MGYG-HGUT-038/MGYG-HGUT-03891/genomes2/GUT_GENOME186446.gff.gz\n",
      "\n",
      "Downloading: ftp://ftp.ebi.ac.uk/pub/databases/metagenomics/mgnify_genomes/human-gut/v1.0/all_genomes/MGYG-HGUT-038/MGYG-HGUT-03891/genomes2/GUT_GENOME188950.gff.gz\n",
      "\n",
      "Downloading: ftp://ftp.ebi.ac.uk/pub/databases/metagenomics/mgnify_genomes/human-gut/v1.0/all_genomes/MGYG-HGUT-007/MGYG-HGUT-00730/genomes1/GUT_GENOME191092.gff.gz\n",
      "\n",
      "Downloading: ftp://ftp.ebi.ac.uk/pub/databases/metagenomics/mgnify_genomes/human-gut/v1.0/all_genomes/MGYG-HGUT-017/MGYG-HGUT-01747/genomes1/GUT_GENOME191624.gff.gz\n",
      "\n",
      "Downloading: ftp://ftp.ebi.ac.uk/pub/databases/metagenomics/mgnify_genomes/human-gut/v1.0/all_genomes/MGYG-HGUT-007/MGYG-HGUT-00730/genomes1/GUT_GENOME193107.gff.gz\n",
      "\n",
      "Downloading: ftp://ftp.ebi.ac.uk/pub/databases/metagenomics/mgnify_genomes/human-gut/v1.0/all_genomes/MGYG-HGUT-007/MGYG-HGUT-00730/genomes1/GUT_GENOME193901.gff.gz\n",
      "\n",
      "Downloading: ftp://ftp.ebi.ac.uk/pub/databases/metagenomics/mgnify_genomes/human-gut/v1.0/all_genomes/MGYG-HGUT-038/MGYG-HGUT-03891/genomes4/GUT_GENOME196897.gff.gz\n",
      "\n",
      "Downloading: ftp://ftp.ebi.ac.uk/pub/databases/metagenomics/mgnify_genomes/human-gut/v1.0/all_genomes/MGYG-HGUT-042/MGYG-HGUT-04245/genomes1/GUT_GENOME197544.gff.gz\n",
      "\n",
      "Downloading: ftp://ftp.ebi.ac.uk/pub/databases/metagenomics/mgnify_genomes/human-gut/v1.0/all_genomes/MGYG-HGUT-038/MGYG-HGUT-03891/genomes1/GUT_GENOME198224.gff.gz\n",
      "\n",
      "Downloading: ftp://ftp.ebi.ac.uk/pub/databases/metagenomics/mgnify_genomes/human-gut/v1.0/all_genomes/MGYG-HGUT-007/MGYG-HGUT-00730/genomes1/GUT_GENOME198593.gff.gz\n",
      "\n",
      "Downloading: ftp://ftp.ebi.ac.uk/pub/databases/metagenomics/mgnify_genomes/human-gut/v1.0/all_genomes/MGYG-HGUT-007/MGYG-HGUT-00730/genomes1/GUT_GENOME206070.gff.gz\n",
      "\n",
      "Downloading: ftp://ftp.ebi.ac.uk/pub/databases/metagenomics/mgnify_genomes/human-gut/v1.0/all_genomes/MGYG-HGUT-038/MGYG-HGUT-03891/genomes1/GUT_GENOME207134.gff.gz\n",
      "\n",
      "Downloading: ftp://ftp.ebi.ac.uk/pub/databases/metagenomics/mgnify_genomes/human-gut/v1.0/all_genomes/MGYG-HGUT-038/MGYG-HGUT-03891/genomes4/GUT_GENOME207194.gff.gz\n",
      "\n",
      "Downloading: ftp://ftp.ebi.ac.uk/pub/databases/metagenomics/mgnify_genomes/human-gut/v1.0/all_genomes/MGYG-HGUT-038/MGYG-HGUT-03891/genomes1/GUT_GENOME208933.gff.gz\n",
      "\n",
      "Downloading: ftp://ftp.ebi.ac.uk/pub/databases/metagenomics/mgnify_genomes/human-gut/v1.0/all_genomes/MGYG-HGUT-011/MGYG-HGUT-01132/genomes1/GUT_GENOME209311.gff.gz\n",
      "\n",
      "Downloading: ftp://ftp.ebi.ac.uk/pub/databases/metagenomics/mgnify_genomes/human-gut/v1.0/all_genomes/MGYG-HGUT-038/MGYG-HGUT-03891/genomes4/GUT_GENOME209384.gff.gz\n",
      "\n",
      "Downloading: ftp://ftp.ebi.ac.uk/pub/databases/metagenomics/mgnify_genomes/human-gut/v1.0/all_genomes/MGYG-HGUT-038/MGYG-HGUT-03891/genomes1/GUT_GENOME211577.gff.gz\n",
      "\n",
      "Downloading: ftp://ftp.ebi.ac.uk/pub/databases/metagenomics/mgnify_genomes/human-gut/v1.0/all_genomes/MGYG-HGUT-005/MGYG-HGUT-00530/genomes1/GUT_GENOME211643.gff.gz\n",
      "\n",
      "Downloading: ftp://ftp.ebi.ac.uk/pub/databases/metagenomics/mgnify_genomes/human-gut/v1.0/all_genomes/MGYG-HGUT-011/MGYG-HGUT-01132/genomes1/GUT_GENOME211803.gff.gz\n",
      "\n",
      "Downloading: ftp://ftp.ebi.ac.uk/pub/databases/metagenomics/mgnify_genomes/human-gut/v1.0/all_genomes/MGYG-HGUT-039/MGYG-HGUT-03972/genomes1/GUT_GENOME213158.gff.gz\n",
      "\n",
      "Downloading: ftp://ftp.ebi.ac.uk/pub/databases/metagenomics/mgnify_genomes/human-gut/v1.0/all_genomes/MGYG-HGUT-039/MGYG-HGUT-03972/genomes1/GUT_GENOME214515.gff.gz\n",
      "\n",
      "Downloading: ftp://ftp.ebi.ac.uk/pub/databases/metagenomics/mgnify_genomes/human-gut/v1.0/all_genomes/MGYG-HGUT-026/MGYG-HGUT-02681/genomes1/GUT_GENOME214773.gff.gz\n",
      "\n",
      "Downloading: ftp://ftp.ebi.ac.uk/pub/databases/metagenomics/mgnify_genomes/human-gut/v1.0/all_genomes/MGYG-HGUT-026/MGYG-HGUT-02681/genomes1/GUT_GENOME217538.gff.gz\n",
      "\n",
      "Downloading: ftp://ftp.ebi.ac.uk/pub/databases/metagenomics/mgnify_genomes/human-gut/v1.0/all_genomes/MGYG-HGUT-039/MGYG-HGUT-03972/genomes1/GUT_GENOME217857.gff.gz\n",
      "\n",
      "Downloading: ftp://ftp.ebi.ac.uk/pub/databases/metagenomics/mgnify_genomes/human-gut/v1.0/all_genomes/MGYG-HGUT-042/MGYG-HGUT-04245/genomes2/GUT_GENOME217871.gff.gz\n",
      "\n",
      "Downloading: ftp://ftp.ebi.ac.uk/pub/databases/metagenomics/mgnify_genomes/human-gut/v1.0/all_genomes/MGYG-HGUT-039/MGYG-HGUT-03972/genomes1/GUT_GENOME217887.gff.gz\n",
      "\n",
      "Downloading: ftp://ftp.ebi.ac.uk/pub/databases/metagenomics/mgnify_genomes/human-gut/v1.0/all_genomes/MGYG-HGUT-007/MGYG-HGUT-00730/genomes1/GUT_GENOME218690.gff.gz\n",
      "\n",
      "Downloading: ftp://ftp.ebi.ac.uk/pub/databases/metagenomics/mgnify_genomes/human-gut/v1.0/all_genomes/MGYG-HGUT-026/MGYG-HGUT-02681/genomes1/GUT_GENOME219111.gff.gz\n",
      "\n",
      "Downloading: ftp://ftp.ebi.ac.uk/pub/databases/metagenomics/mgnify_genomes/human-gut/v1.0/all_genomes/MGYG-HGUT-032/MGYG-HGUT-03224/genomes1/GUT_GENOME219688.gff.gz\n",
      "\n",
      "Downloading: ftp://ftp.ebi.ac.uk/pub/databases/metagenomics/mgnify_genomes/human-gut/v1.0/all_genomes/MGYG-HGUT-020/MGYG-HGUT-02072/genomes1/GUT_GENOME220052.gff.gz\n",
      "\n",
      "Downloading: ftp://ftp.ebi.ac.uk/pub/databases/metagenomics/mgnify_genomes/human-gut/v1.0/all_genomes/MGYG-HGUT-020/MGYG-HGUT-02072/genomes1/GUT_GENOME220179.gff.gz\n",
      "\n",
      "Downloading: ftp://ftp.ebi.ac.uk/pub/databases/metagenomics/mgnify_genomes/human-gut/v1.0/all_genomes/MGYG-HGUT-007/MGYG-HGUT-00730/genomes1/GUT_GENOME221658.gff.gz\n",
      "\n",
      "Downloading: ftp://ftp.ebi.ac.uk/pub/databases/metagenomics/mgnify_genomes/human-gut/v1.0/all_genomes/MGYG-HGUT-042/MGYG-HGUT-04245/genomes2/GUT_GENOME226773.gff.gz\n",
      "\n",
      "Downloading: ftp://ftp.ebi.ac.uk/pub/databases/metagenomics/mgnify_genomes/human-gut/v1.0/all_genomes/MGYG-HGUT-007/MGYG-HGUT-00730/genomes1/GUT_GENOME229160.gff.gz\n",
      "\n",
      "Downloading: ftp://ftp.ebi.ac.uk/pub/databases/metagenomics/mgnify_genomes/human-gut/v1.0/all_genomes/MGYG-HGUT-007/MGYG-HGUT-00730/genomes1/GUT_GENOME229523.gff.gz\n",
      "\n",
      "Downloading: ftp://ftp.ebi.ac.uk/pub/databases/metagenomics/mgnify_genomes/human-gut/v1.0/all_genomes/MGYG-HGUT-011/MGYG-HGUT-01132/genomes1/GUT_GENOME231159.gff.gz\n",
      "\n",
      "Downloading: ftp://ftp.ebi.ac.uk/pub/databases/metagenomics/mgnify_genomes/human-gut/v1.0/all_genomes/MGYG-HGUT-035/MGYG-HGUT-03558/genomes1/GUT_GENOME237426.gff.gz\n",
      "\n",
      "Downloading: ftp://ftp.ebi.ac.uk/pub/databases/metagenomics/mgnify_genomes/human-gut/v1.0/all_genomes/MGYG-HGUT-007/MGYG-HGUT-00730/genomes1/GUT_GENOME237619.gff.gz\n",
      "\n",
      "Downloading: ftp://ftp.ebi.ac.uk/pub/databases/metagenomics/mgnify_genomes/human-gut/v1.0/all_genomes/MGYG-HGUT-032/MGYG-HGUT-03224/genomes1/GUT_GENOME243616.gff.gz\n",
      "\n",
      "Downloading: ftp://ftp.ebi.ac.uk/pub/databases/metagenomics/mgnify_genomes/human-gut/v1.0/all_genomes/MGYG-HGUT-038/MGYG-HGUT-03875/genomes1/GUT_GENOME243997.gff.gz\n",
      "\n",
      "Downloading: ftp://ftp.ebi.ac.uk/pub/databases/metagenomics/mgnify_genomes/human-gut/v1.0/all_genomes/MGYG-HGUT-007/MGYG-HGUT-00730/genomes1/GUT_GENOME245548.gff.gz\n",
      "\n",
      "Downloading: ftp://ftp.ebi.ac.uk/pub/databases/metagenomics/mgnify_genomes/human-gut/v1.0/all_genomes/MGYG-HGUT-039/MGYG-HGUT-03961/genomes1/GUT_GENOME245676.gff.gz\n",
      "\n",
      "Downloading: ftp://ftp.ebi.ac.uk/pub/databases/metagenomics/mgnify_genomes/human-gut/v1.0/all_genomes/MGYG-HGUT-007/MGYG-HGUT-00730/genomes1/GUT_GENOME246707.gff.gz\n",
      "\n",
      "Downloading: ftp://ftp.ebi.ac.uk/pub/databases/metagenomics/mgnify_genomes/human-gut/v1.0/all_genomes/MGYG-HGUT-019/MGYG-HGUT-01932/genomes1/GUT_GENOME246796.gff.gz\n",
      "\n",
      "Downloading: ftp://ftp.ebi.ac.uk/pub/databases/metagenomics/mgnify_genomes/human-gut/v1.0/all_genomes/MGYG-HGUT-011/MGYG-HGUT-01132/genomes1/GUT_GENOME247127.gff.gz\n",
      "\n",
      "Downloading: ftp://ftp.ebi.ac.uk/pub/databases/metagenomics/mgnify_genomes/human-gut/v1.0/all_genomes/MGYG-HGUT-042/MGYG-HGUT-04245/genomes1/GUT_GENOME247253.gff.gz\n",
      "\n",
      "Downloading: ftp://ftp.ebi.ac.uk/pub/databases/metagenomics/mgnify_genomes/human-gut/v1.0/all_genomes/MGYG-HGUT-007/MGYG-HGUT-00730/genomes1/GUT_GENOME247368.gff.gz\n",
      "\n",
      "Downloading: ftp://ftp.ebi.ac.uk/pub/databases/metagenomics/mgnify_genomes/human-gut/v1.0/all_genomes/MGYG-HGUT-007/MGYG-HGUT-00730/genomes2/GUT_GENOME249008.gff.gz\n",
      "\n",
      "Downloading: ftp://ftp.ebi.ac.uk/pub/databases/metagenomics/mgnify_genomes/human-gut/v1.0/all_genomes/MGYG-HGUT-040/MGYG-HGUT-04034/genomes1/GUT_GENOME251006.gff.gz\n",
      "\n",
      "Downloading: ftp://ftp.ebi.ac.uk/pub/databases/metagenomics/mgnify_genomes/human-gut/v1.0/all_genomes/MGYG-HGUT-011/MGYG-HGUT-01156/genomes1/GUT_GENOME251370.gff.gz\n",
      "\n",
      "Downloading: ftp://ftp.ebi.ac.uk/pub/databases/metagenomics/mgnify_genomes/human-gut/v1.0/all_genomes/MGYG-HGUT-007/MGYG-HGUT-00730/genomes2/GUT_GENOME251395.gff.gz\n",
      "\n",
      "Downloading: ftp://ftp.ebi.ac.uk/pub/databases/metagenomics/mgnify_genomes/human-gut/v1.0/all_genomes/MGYG-HGUT-039/MGYG-HGUT-03945/genomes1/GUT_GENOME251449.gff.gz\n",
      "\n",
      "Downloading: ftp://ftp.ebi.ac.uk/pub/databases/metagenomics/mgnify_genomes/human-gut/v1.0/all_genomes/MGYG-HGUT-007/MGYG-HGUT-00730/genomes1/GUT_GENOME251481.gff.gz\n",
      "\n",
      "Downloading: ftp://ftp.ebi.ac.uk/pub/databases/metagenomics/mgnify_genomes/human-gut/v1.0/all_genomes/MGYG-HGUT-011/MGYG-HGUT-01132/genomes1/GUT_GENOME251502.gff.gz\n",
      "\n",
      "Downloading: ftp://ftp.ebi.ac.uk/pub/databases/metagenomics/mgnify_genomes/human-gut/v1.0/all_genomes/MGYG-HGUT-007/MGYG-HGUT-00730/genomes2/GUT_GENOME251715.gff.gz\n",
      "\n",
      "Downloading: ftp://ftp.ebi.ac.uk/pub/databases/metagenomics/mgnify_genomes/human-gut/v1.0/all_genomes/MGYG-HGUT-007/MGYG-HGUT-00730/genomes1/GUT_GENOME251769.gff.gz\n",
      "\n",
      "Downloading: ftp://ftp.ebi.ac.uk/pub/databases/metagenomics/mgnify_genomes/human-gut/v1.0/all_genomes/MGYG-HGUT-026/MGYG-HGUT-02681/genomes1/GUT_GENOME251866.gff.gz\n",
      "\n",
      "Downloading: ftp://ftp.ebi.ac.uk/pub/databases/metagenomics/mgnify_genomes/human-gut/v1.0/all_genomes/MGYG-HGUT-042/MGYG-HGUT-04245/genomes2/GUT_GENOME251979.gff.gz\n",
      "\n",
      "Downloading: ftp://ftp.ebi.ac.uk/pub/databases/metagenomics/mgnify_genomes/human-gut/v1.0/all_genomes/MGYG-HGUT-007/MGYG-HGUT-00730/genomes1/GUT_GENOME251995.gff.gz\n",
      "\n",
      "Downloading: ftp://ftp.ebi.ac.uk/pub/databases/metagenomics/mgnify_genomes/human-gut/v1.0/all_genomes/MGYG-HGUT-038/MGYG-HGUT-03891/genomes4/GUT_GENOME252229.gff.gz\n",
      "\n",
      "Downloading: ftp://ftp.ebi.ac.uk/pub/databases/metagenomics/mgnify_genomes/human-gut/v1.0/all_genomes/MGYG-HGUT-005/MGYG-HGUT-00530/genomes2/GUT_GENOME252265.gff.gz\n",
      "\n",
      "Downloading: ftp://ftp.ebi.ac.uk/pub/databases/metagenomics/mgnify_genomes/human-gut/v1.0/all_genomes/MGYG-HGUT-007/MGYG-HGUT-00730/genomes1/GUT_GENOME252323.gff.gz\n",
      "\n",
      "Downloading: ftp://ftp.ebi.ac.uk/pub/databases/metagenomics/mgnify_genomes/human-gut/v1.0/all_genomes/MGYG-HGUT-007/MGYG-HGUT-00730/genomes1/GUT_GENOME252447.gff.gz\n",
      "\n",
      "Downloading: ftp://ftp.ebi.ac.uk/pub/databases/metagenomics/mgnify_genomes/human-gut/v1.0/all_genomes/MGYG-HGUT-007/MGYG-HGUT-00730/genomes1/GUT_GENOME252532.gff.gz\n",
      "\n",
      "Downloading: ftp://ftp.ebi.ac.uk/pub/databases/metagenomics/mgnify_genomes/human-gut/v1.0/all_genomes/MGYG-HGUT-038/MGYG-HGUT-03891/genomes3/GUT_GENOME252572.gff.gz\n",
      "\n",
      "Downloading: ftp://ftp.ebi.ac.uk/pub/databases/metagenomics/mgnify_genomes/human-gut/v1.0/all_genomes/MGYG-HGUT-042/MGYG-HGUT-04245/genomes2/GUT_GENOME252763.gff.gz\n",
      "\n",
      "Downloading: ftp://ftp.ebi.ac.uk/pub/databases/metagenomics/mgnify_genomes/human-gut/v1.0/all_genomes/MGYG-HGUT-008/MGYG-HGUT-00875/genomes1/GUT_GENOME253102.gff.gz\n",
      "\n",
      "Downloading: ftp://ftp.ebi.ac.uk/pub/databases/metagenomics/mgnify_genomes/human-gut/v1.0/all_genomes/MGYG-HGUT-011/MGYG-HGUT-01132/genomes1/GUT_GENOME253389.gff.gz\n",
      "\n",
      "Downloading: ftp://ftp.ebi.ac.uk/pub/databases/metagenomics/mgnify_genomes/human-gut/v1.0/all_genomes/MGYG-HGUT-007/MGYG-HGUT-00730/genomes1/GUT_GENOME253599.gff.gz\n",
      "\n",
      "Downloading: ftp://ftp.ebi.ac.uk/pub/databases/metagenomics/mgnify_genomes/human-gut/v1.0/all_genomes/MGYG-HGUT-038/MGYG-HGUT-03891/genomes3/GUT_GENOME253664.gff.gz\n",
      "\n",
      "Downloading: ftp://ftp.ebi.ac.uk/pub/databases/metagenomics/mgnify_genomes/human-gut/v1.0/all_genomes/MGYG-HGUT-007/MGYG-HGUT-00730/genomes1/GUT_GENOME254184.gff.gz\n",
      "\n",
      "Downloading: ftp://ftp.ebi.ac.uk/pub/databases/metagenomics/mgnify_genomes/human-gut/v1.0/all_genomes/MGYG-HGUT-012/MGYG-HGUT-01237/genomes1/GUT_GENOME254327.gff.gz\n",
      "\n",
      "Downloading: ftp://ftp.ebi.ac.uk/pub/databases/metagenomics/mgnify_genomes/human-gut/v1.0/all_genomes/MGYG-HGUT-040/MGYG-HGUT-04034/genomes1/GUT_GENOME254353.gff.gz\n",
      "\n",
      "Downloading: ftp://ftp.ebi.ac.uk/pub/databases/metagenomics/mgnify_genomes/human-gut/v1.0/all_genomes/MGYG-HGUT-007/MGYG-HGUT-00730/genomes1/GUT_GENOME254480.gff.gz\n",
      "\n",
      "Downloading: ftp://ftp.ebi.ac.uk/pub/databases/metagenomics/mgnify_genomes/human-gut/v1.0/all_genomes/MGYG-HGUT-007/MGYG-HGUT-00730/genomes1/GUT_GENOME254551.gff.gz\n",
      "\n",
      "Downloading: ftp://ftp.ebi.ac.uk/pub/databases/metagenomics/mgnify_genomes/human-gut/v1.0/all_genomes/MGYG-HGUT-032/MGYG-HGUT-03224/genomes1/GUT_GENOME254685.gff.gz\n",
      "\n",
      "Downloading: ftp://ftp.ebi.ac.uk/pub/databases/metagenomics/mgnify_genomes/human-gut/v1.0/all_genomes/MGYG-HGUT-007/MGYG-HGUT-00730/genomes1/GUT_GENOME255044.gff.gz\n",
      "\n",
      "Downloading: ftp://ftp.ebi.ac.uk/pub/databases/metagenomics/mgnify_genomes/human-gut/v1.0/all_genomes/MGYG-HGUT-005/MGYG-HGUT-00530/genomes2/GUT_GENOME255058.gff.gz\n",
      "\n",
      "Downloading: ftp://ftp.ebi.ac.uk/pub/databases/metagenomics/mgnify_genomes/human-gut/v1.0/all_genomes/MGYG-HGUT-005/MGYG-HGUT-00530/genomes2/GUT_GENOME255127.gff.gz\n",
      "\n",
      "Downloading: ftp://ftp.ebi.ac.uk/pub/databases/metagenomics/mgnify_genomes/human-gut/v1.0/all_genomes/MGYG-HGUT-007/MGYG-HGUT-00730/genomes1/GUT_GENOME255169.gff.gz\n",
      "\n",
      "Downloading: ftp://ftp.ebi.ac.uk/pub/databases/metagenomics/mgnify_genomes/human-gut/v1.0/all_genomes/MGYG-HGUT-007/MGYG-HGUT-00730/genomes1/GUT_GENOME255357.gff.gz\n",
      "\n",
      "Downloading: ftp://ftp.ebi.ac.uk/pub/databases/metagenomics/mgnify_genomes/human-gut/v1.0/all_genomes/MGYG-HGUT-009/MGYG-HGUT-00939/genomes1/GUT_GENOME255516.gff.gz\n",
      "\n",
      "Downloading: ftp://ftp.ebi.ac.uk/pub/databases/metagenomics/mgnify_genomes/human-gut/v1.0/all_genomes/MGYG-HGUT-011/MGYG-HGUT-01132/genomes1/GUT_GENOME255520.gff.gz\n",
      "\n",
      "Downloading: ftp://ftp.ebi.ac.uk/pub/databases/metagenomics/mgnify_genomes/human-gut/v1.0/all_genomes/MGYG-HGUT-011/MGYG-HGUT-01132/genomes1/GUT_GENOME255625.gff.gz\n",
      "\n",
      "Downloading: ftp://ftp.ebi.ac.uk/pub/databases/metagenomics/mgnify_genomes/human-gut/v1.0/all_genomes/MGYG-HGUT-007/MGYG-HGUT-00730/genomes1/GUT_GENOME255693.gff.gz\n",
      "\n",
      "Downloading: ftp://ftp.ebi.ac.uk/pub/databases/metagenomics/mgnify_genomes/human-gut/v1.0/all_genomes/MGYG-HGUT-007/MGYG-HGUT-00730/genomes1/GUT_GENOME255920.gff.gz\n",
      "\n",
      "Downloading: ftp://ftp.ebi.ac.uk/pub/databases/metagenomics/mgnify_genomes/human-gut/v1.0/all_genomes/MGYG-HGUT-007/MGYG-HGUT-00730/genomes1/GUT_GENOME256026.gff.gz\n",
      "\n",
      "Downloading: ftp://ftp.ebi.ac.uk/pub/databases/metagenomics/mgnify_genomes/human-gut/v1.0/all_genomes/MGYG-HGUT-007/MGYG-HGUT-00730/genomes1/GUT_GENOME256080.gff.gz\n",
      "\n",
      "Downloading: ftp://ftp.ebi.ac.uk/pub/databases/metagenomics/mgnify_genomes/human-gut/v1.0/all_genomes/MGYG-HGUT-020/MGYG-HGUT-02072/genomes1/GUT_GENOME256472.gff.gz\n",
      "\n",
      "Downloading: ftp://ftp.ebi.ac.uk/pub/databases/metagenomics/mgnify_genomes/human-gut/v1.0/all_genomes/MGYG-HGUT-007/MGYG-HGUT-00730/genomes1/GUT_GENOME256501.gff.gz\n",
      "\n",
      "Downloading: ftp://ftp.ebi.ac.uk/pub/databases/metagenomics/mgnify_genomes/human-gut/v1.0/all_genomes/MGYG-HGUT-040/MGYG-HGUT-04052/genomes1/GUT_GENOME256891.gff.gz\n",
      "\n",
      "Downloading: ftp://ftp.ebi.ac.uk/pub/databases/metagenomics/mgnify_genomes/human-gut/v1.0/all_genomes/MGYG-HGUT-039/MGYG-HGUT-03972/genomes1/GUT_GENOME256928.gff.gz\n",
      "\n",
      "Downloading: ftp://ftp.ebi.ac.uk/pub/databases/metagenomics/mgnify_genomes/human-gut/v1.0/all_genomes/MGYG-HGUT-012/MGYG-HGUT-01237/genomes1/GUT_GENOME256935.gff.gz\n",
      "\n",
      "Downloading: ftp://ftp.ebi.ac.uk/pub/databases/metagenomics/mgnify_genomes/human-gut/v1.0/all_genomes/MGYG-HGUT-007/MGYG-HGUT-00730/genomes1/GUT_GENOME257064.gff.gz\n",
      "\n",
      "Downloading: ftp://ftp.ebi.ac.uk/pub/databases/metagenomics/mgnify_genomes/human-gut/v1.0/all_genomes/MGYG-HGUT-007/MGYG-HGUT-00730/genomes1/GUT_GENOME257240.gff.gz\n",
      "\n",
      "Downloading: ftp://ftp.ebi.ac.uk/pub/databases/metagenomics/mgnify_genomes/human-gut/v1.0/all_genomes/MGYG-HGUT-011/MGYG-HGUT-01132/genomes1/GUT_GENOME257346.gff.gz\n",
      "\n",
      "Downloading: ftp://ftp.ebi.ac.uk/pub/databases/metagenomics/mgnify_genomes/human-gut/v1.0/all_genomes/MGYG-HGUT-007/MGYG-HGUT-00730/genomes1/GUT_GENOME257380.gff.gz\n",
      "\n",
      "Downloading: ftp://ftp.ebi.ac.uk/pub/databases/metagenomics/mgnify_genomes/human-gut/v1.0/all_genomes/MGYG-HGUT-007/MGYG-HGUT-00730/genomes1/GUT_GENOME257491.gff.gz\n",
      "\n",
      "Downloading: ftp://ftp.ebi.ac.uk/pub/databases/metagenomics/mgnify_genomes/human-gut/v1.0/all_genomes/MGYG-HGUT-011/MGYG-HGUT-01132/genomes1/GUT_GENOME257687.gff.gz\n",
      "\n",
      "Downloading: ftp://ftp.ebi.ac.uk/pub/databases/metagenomics/mgnify_genomes/human-gut/v1.0/all_genomes/MGYG-HGUT-011/MGYG-HGUT-01132/genomes1/GUT_GENOME257761.gff.gz\n",
      "\n",
      "Downloading: ftp://ftp.ebi.ac.uk/pub/databases/metagenomics/mgnify_genomes/human-gut/v1.0/all_genomes/MGYG-HGUT-007/MGYG-HGUT-00730/genomes1/GUT_GENOME258061.gff.gz\n",
      "\n",
      "Downloading: ftp://ftp.ebi.ac.uk/pub/databases/metagenomics/mgnify_genomes/human-gut/v1.0/all_genomes/MGYG-HGUT-042/MGYG-HGUT-04245/genomes2/GUT_GENOME258296.gff.gz\n",
      "\n",
      "Downloading: ftp://ftp.ebi.ac.uk/pub/databases/metagenomics/mgnify_genomes/human-gut/v1.0/all_genomes/MGYG-HGUT-009/MGYG-HGUT-00939/genomes1/GUT_GENOME258401.gff.gz\n",
      "\n",
      "Downloading: ftp://ftp.ebi.ac.uk/pub/databases/metagenomics/mgnify_genomes/human-gut/v1.0/all_genomes/MGYG-HGUT-011/MGYG-HGUT-01132/genomes1/GUT_GENOME258517.gff.gz\n",
      "\n",
      "Downloading: ftp://ftp.ebi.ac.uk/pub/databases/metagenomics/mgnify_genomes/human-gut/v1.0/all_genomes/MGYG-HGUT-009/MGYG-HGUT-00939/genomes1/GUT_GENOME258570.gff.gz\n",
      "\n",
      "Downloading: ftp://ftp.ebi.ac.uk/pub/databases/metagenomics/mgnify_genomes/human-gut/v1.0/all_genomes/MGYG-HGUT-007/MGYG-HGUT-00730/genomes1/GUT_GENOME258620.gff.gz\n",
      "\n",
      "Downloading: ftp://ftp.ebi.ac.uk/pub/databases/metagenomics/mgnify_genomes/human-gut/v1.0/all_genomes/MGYG-HGUT-041/MGYG-HGUT-04179/genomes1/GUT_GENOME258665.gff.gz\n",
      "\n",
      "Downloading: ftp://ftp.ebi.ac.uk/pub/databases/metagenomics/mgnify_genomes/human-gut/v1.0/all_genomes/MGYG-HGUT-007/MGYG-HGUT-00730/genomes2/GUT_GENOME258671.gff.gz\n",
      "\n",
      "Downloading: ftp://ftp.ebi.ac.uk/pub/databases/metagenomics/mgnify_genomes/human-gut/v1.0/all_genomes/MGYG-HGUT-011/MGYG-HGUT-01132/genomes1/GUT_GENOME258678.gff.gz\n",
      "\n",
      "Downloading: ftp://ftp.ebi.ac.uk/pub/databases/metagenomics/mgnify_genomes/human-gut/v1.0/all_genomes/MGYG-HGUT-042/MGYG-HGUT-04245/genomes1/GUT_GENOME259078.gff.gz\n",
      "\n",
      "Downloading: ftp://ftp.ebi.ac.uk/pub/databases/metagenomics/mgnify_genomes/human-gut/v1.0/all_genomes/MGYG-HGUT-007/MGYG-HGUT-00730/genomes1/GUT_GENOME259116.gff.gz\n",
      "\n",
      "Downloading: ftp://ftp.ebi.ac.uk/pub/databases/metagenomics/mgnify_genomes/human-gut/v1.0/all_genomes/MGYG-HGUT-020/MGYG-HGUT-02072/genomes1/GUT_GENOME259347.gff.gz\n",
      "\n",
      "Downloading: ftp://ftp.ebi.ac.uk/pub/databases/metagenomics/mgnify_genomes/human-gut/v1.0/all_genomes/MGYG-HGUT-007/MGYG-HGUT-00730/genomes1/GUT_GENOME259475.gff.gz\n",
      "\n",
      "Downloading: ftp://ftp.ebi.ac.uk/pub/databases/metagenomics/mgnify_genomes/human-gut/v1.0/all_genomes/MGYG-HGUT-039/MGYG-HGUT-03967/genomes1/GUT_GENOME259485.gff.gz\n",
      "\n",
      "Downloading: ftp://ftp.ebi.ac.uk/pub/databases/metagenomics/mgnify_genomes/human-gut/v1.0/all_genomes/MGYG-HGUT-005/MGYG-HGUT-00530/genomes1/GUT_GENOME259575.gff.gz\n",
      "\n",
      "Downloading: ftp://ftp.ebi.ac.uk/pub/databases/metagenomics/mgnify_genomes/human-gut/v1.0/all_genomes/MGYG-HGUT-007/MGYG-HGUT-00730/genomes1/GUT_GENOME259624.gff.gz\n",
      "\n",
      "Downloading: ftp://ftp.ebi.ac.uk/pub/databases/metagenomics/mgnify_genomes/human-gut/v1.0/all_genomes/MGYG-HGUT-007/MGYG-HGUT-00718/genomes1/GUT_GENOME259815.gff.gz\n",
      "\n",
      "Downloading: ftp://ftp.ebi.ac.uk/pub/databases/metagenomics/mgnify_genomes/human-gut/v1.0/all_genomes/MGYG-HGUT-007/MGYG-HGUT-00730/genomes1/GUT_GENOME259848.gff.gz\n",
      "\n",
      "Downloading: ftp://ftp.ebi.ac.uk/pub/databases/metagenomics/mgnify_genomes/human-gut/v1.0/all_genomes/MGYG-HGUT-011/MGYG-HGUT-01132/genomes1/GUT_GENOME260244.gff.gz\n",
      "\n",
      "Downloading: ftp://ftp.ebi.ac.uk/pub/databases/metagenomics/mgnify_genomes/human-gut/v1.0/all_genomes/MGYG-HGUT-038/MGYG-HGUT-03891/genomes1/GUT_GENOME260260.gff.gz\n",
      "\n",
      "Downloading: ftp://ftp.ebi.ac.uk/pub/databases/metagenomics/mgnify_genomes/human-gut/v1.0/all_genomes/MGYG-HGUT-007/MGYG-HGUT-00730/genomes1/GUT_GENOME260362.gff.gz\n",
      "\n",
      "Downloading: ftp://ftp.ebi.ac.uk/pub/databases/metagenomics/mgnify_genomes/human-gut/v1.0/all_genomes/MGYG-HGUT-039/MGYG-HGUT-03972/genomes1/GUT_GENOME260711.gff.gz\n",
      "\n",
      "Downloading: ftp://ftp.ebi.ac.uk/pub/databases/metagenomics/mgnify_genomes/human-gut/v1.0/all_genomes/MGYG-HGUT-007/MGYG-HGUT-00730/genomes1/GUT_GENOME260852.gff.gz\n",
      "\n",
      "Downloading: ftp://ftp.ebi.ac.uk/pub/databases/metagenomics/mgnify_genomes/human-gut/v1.0/all_genomes/MGYG-HGUT-007/MGYG-HGUT-00730/genomes1/GUT_GENOME260912.gff.gz\n",
      "\n",
      "Downloading: ftp://ftp.ebi.ac.uk/pub/databases/metagenomics/mgnify_genomes/human-gut/v1.0/all_genomes/MGYG-HGUT-032/MGYG-HGUT-03224/genomes1/GUT_GENOME260971.gff.gz\n",
      "\n",
      "Downloading: ftp://ftp.ebi.ac.uk/pub/databases/metagenomics/mgnify_genomes/human-gut/v1.0/all_genomes/MGYG-HGUT-038/MGYG-HGUT-03891/genomes2/GUT_GENOME260994.gff.gz\n",
      "\n",
      "Downloading: ftp://ftp.ebi.ac.uk/pub/databases/metagenomics/mgnify_genomes/human-gut/v1.0/all_genomes/MGYG-HGUT-007/MGYG-HGUT-00730/genomes1/GUT_GENOME261098.gff.gz\n",
      "\n",
      "Downloading: ftp://ftp.ebi.ac.uk/pub/databases/metagenomics/mgnify_genomes/human-gut/v1.0/all_genomes/MGYG-HGUT-011/MGYG-HGUT-01132/genomes1/GUT_GENOME261099.gff.gz\n",
      "\n",
      "Downloading: ftp://ftp.ebi.ac.uk/pub/databases/metagenomics/mgnify_genomes/human-gut/v1.0/all_genomes/MGYG-HGUT-040/MGYG-HGUT-04052/genomes1/GUT_GENOME261125.gff.gz\n",
      "\n",
      "Downloading: ftp://ftp.ebi.ac.uk/pub/databases/metagenomics/mgnify_genomes/human-gut/v1.0/all_genomes/MGYG-HGUT-007/MGYG-HGUT-00730/genomes1/GUT_GENOME261147.gff.gz\n",
      "\n",
      "Downloading: ftp://ftp.ebi.ac.uk/pub/databases/metagenomics/mgnify_genomes/human-gut/v1.0/all_genomes/MGYG-HGUT-007/MGYG-HGUT-00730/genomes1/GUT_GENOME261177.gff.gz\n",
      "\n",
      "Downloading: ftp://ftp.ebi.ac.uk/pub/databases/metagenomics/mgnify_genomes/human-gut/v1.0/all_genomes/MGYG-HGUT-007/MGYG-HGUT-00730/genomes1/GUT_GENOME262360.gff.gz\n",
      "\n",
      "Downloading: ftp://ftp.ebi.ac.uk/pub/databases/metagenomics/mgnify_genomes/human-gut/v1.0/all_genomes/MGYG-HGUT-007/MGYG-HGUT-00730/genomes1/GUT_GENOME263396.gff.gz\n",
      "\n",
      "Downloading: ftp://ftp.ebi.ac.uk/pub/databases/metagenomics/mgnify_genomes/human-gut/v1.0/all_genomes/MGYG-HGUT-005/MGYG-HGUT-00530/genomes2/GUT_GENOME265850.gff.gz\n",
      "\n",
      "Downloading: ftp://ftp.ebi.ac.uk/pub/databases/metagenomics/mgnify_genomes/human-gut/v1.0/all_genomes/MGYG-HGUT-039/MGYG-HGUT-03961/genomes1/GUT_GENOME265851.gff.gz\n",
      "\n",
      "Downloading: ftp://ftp.ebi.ac.uk/pub/databases/metagenomics/mgnify_genomes/human-gut/v1.0/all_genomes/MGYG-HGUT-007/MGYG-HGUT-00730/genomes1/GUT_GENOME266061.gff.gz\n",
      "\n",
      "Downloading: ftp://ftp.ebi.ac.uk/pub/databases/metagenomics/mgnify_genomes/human-gut/v1.0/all_genomes/MGYG-HGUT-007/MGYG-HGUT-00730/genomes1/GUT_GENOME268393.gff.gz\n",
      "\n",
      "Downloading: ftp://ftp.ebi.ac.uk/pub/databases/metagenomics/mgnify_genomes/human-gut/v1.0/all_genomes/MGYG-HGUT-007/MGYG-HGUT-00730/genomes1/GUT_GENOME268512.gff.gz\n",
      "\n",
      "Downloading: ftp://ftp.ebi.ac.uk/pub/databases/metagenomics/mgnify_genomes/human-gut/v1.0/all_genomes/MGYG-HGUT-041/MGYG-HGUT-04179/genomes1/GUT_GENOME269902.gff.gz\n",
      "\n",
      "Downloading: ftp://ftp.ebi.ac.uk/pub/databases/metagenomics/mgnify_genomes/human-gut/v1.0/all_genomes/MGYG-HGUT-007/MGYG-HGUT-00730/genomes1/GUT_GENOME270724.gff.gz\n",
      "\n",
      "Downloading: ftp://ftp.ebi.ac.uk/pub/databases/metagenomics/mgnify_genomes/human-gut/v1.0/all_genomes/MGYG-HGUT-007/MGYG-HGUT-00730/genomes1/GUT_GENOME274044.gff.gz\n",
      "\n",
      "Downloading: ftp://ftp.ebi.ac.uk/pub/databases/metagenomics/mgnify_genomes/human-gut/v1.0/all_genomes/MGYG-HGUT-007/MGYG-HGUT-00730/genomes1/GUT_GENOME274160.gff.gz\n",
      "\n",
      "Downloading: ftp://ftp.ebi.ac.uk/pub/databases/metagenomics/mgnify_genomes/human-gut/v1.0/all_genomes/MGYG-HGUT-007/MGYG-HGUT-00730/genomes1/GUT_GENOME274720.gff.gz\n",
      "\n",
      "Downloading: ftp://ftp.ebi.ac.uk/pub/databases/metagenomics/mgnify_genomes/human-gut/v1.0/all_genomes/MGYG-HGUT-038/MGYG-HGUT-03891/genomes2/GUT_GENOME275434.gff.gz\n",
      "\n",
      "Downloading: ftp://ftp.ebi.ac.uk/pub/databases/metagenomics/mgnify_genomes/human-gut/v1.0/all_genomes/MGYG-HGUT-011/MGYG-HGUT-01132/genomes1/GUT_GENOME275671.gff.gz\n",
      "\n",
      "Downloading: ftp://ftp.ebi.ac.uk/pub/databases/metagenomics/mgnify_genomes/human-gut/v1.0/all_genomes/MGYG-HGUT-007/MGYG-HGUT-00730/genomes1/GUT_GENOME276507.gff.gz\n",
      "\n",
      "Downloading: ftp://ftp.ebi.ac.uk/pub/databases/metagenomics/mgnify_genomes/human-gut/v1.0/all_genomes/MGYG-HGUT-005/MGYG-HGUT-00530/genomes2/GUT_GENOME277111.gff.gz\n",
      "\n",
      "Downloading: ftp://ftp.ebi.ac.uk/pub/databases/metagenomics/mgnify_genomes/human-gut/v1.0/all_genomes/MGYG-HGUT-007/MGYG-HGUT-00730/genomes1/GUT_GENOME277241.gff.gz\n",
      "\n",
      "Downloading: ftp://ftp.ebi.ac.uk/pub/databases/metagenomics/mgnify_genomes/human-gut/v1.0/all_genomes/MGYG-HGUT-011/MGYG-HGUT-01132/genomes1/GUT_GENOME277680.gff.gz\n",
      "\n",
      "Downloading: ftp://ftp.ebi.ac.uk/pub/databases/metagenomics/mgnify_genomes/human-gut/v1.0/all_genomes/MGYG-HGUT-007/MGYG-HGUT-00730/genomes1/GUT_GENOME278880.gff.gz\n",
      "\n",
      "Downloading: ftp://ftp.ebi.ac.uk/pub/databases/metagenomics/mgnify_genomes/human-gut/v1.0/all_genomes/MGYG-HGUT-007/MGYG-HGUT-00730/genomes1/GUT_GENOME279410.gff.gz\n",
      "\n",
      "Downloading: ftp://ftp.ebi.ac.uk/pub/databases/metagenomics/mgnify_genomes/human-gut/v1.0/all_genomes/MGYG-HGUT-007/MGYG-HGUT-00730/genomes1/GUT_GENOME279435.gff.gz\n",
      "\n",
      "Downloading: ftp://ftp.ebi.ac.uk/pub/databases/metagenomics/mgnify_genomes/human-gut/v1.0/all_genomes/MGYG-HGUT-005/MGYG-HGUT-00530/genomes1/GUT_GENOME279772.gff.gz\n",
      "\n",
      "Downloading: ftp://ftp.ebi.ac.uk/pub/databases/metagenomics/mgnify_genomes/human-gut/v1.0/all_genomes/MGYG-HGUT-007/MGYG-HGUT-00730/genomes1/GUT_GENOME280640.gff.gz\n",
      "\n",
      "Downloading: ftp://ftp.ebi.ac.uk/pub/databases/metagenomics/mgnify_genomes/human-gut/v1.0/all_genomes/MGYG-HGUT-007/MGYG-HGUT-00718/genomes1/GUT_GENOME281443.gff.gz\n",
      "\n",
      "Downloading: ftp://ftp.ebi.ac.uk/pub/databases/metagenomics/mgnify_genomes/human-gut/v1.0/all_genomes/MGYG-HGUT-007/MGYG-HGUT-00730/genomes1/GUT_GENOME281451.gff.gz\n",
      "\n",
      "Downloading: ftp://ftp.ebi.ac.uk/pub/databases/metagenomics/mgnify_genomes/human-gut/v1.0/all_genomes/MGYG-HGUT-007/MGYG-HGUT-00730/genomes1/GUT_GENOME281578.gff.gz\n",
      "\n",
      "Downloading: ftp://ftp.ebi.ac.uk/pub/databases/metagenomics/mgnify_genomes/human-gut/v1.0/all_genomes/MGYG-HGUT-007/MGYG-HGUT-00730/genomes1/GUT_GENOME282452.gff.gz\n",
      "\n",
      "Downloading: ftp://ftp.ebi.ac.uk/pub/databases/metagenomics/mgnify_genomes/human-gut/v1.0/all_genomes/MGYG-HGUT-007/MGYG-HGUT-00730/genomes1/GUT_GENOME282719.gff.gz\n",
      "\n",
      "Downloading: ftp://ftp.ebi.ac.uk/pub/databases/metagenomics/mgnify_genomes/human-gut/v1.0/all_genomes/MGYG-HGUT-045/MGYG-HGUT-04551/genomes1/GUT_GENOME282790.gff.gz\n",
      "\n",
      "Downloading: ftp://ftp.ebi.ac.uk/pub/databases/metagenomics/mgnify_genomes/human-gut/v1.0/all_genomes/MGYG-HGUT-026/MGYG-HGUT-02681/genomes1/GUT_GENOME282987.gff.gz\n",
      "\n",
      "Downloading: ftp://ftp.ebi.ac.uk/pub/databases/metagenomics/mgnify_genomes/human-gut/v1.0/all_genomes/MGYG-HGUT-007/MGYG-HGUT-00730/genomes1/GUT_GENOME283318.gff.gz\n",
      "\n",
      "Downloading: ftp://ftp.ebi.ac.uk/pub/databases/metagenomics/mgnify_genomes/human-gut/v1.0/all_genomes/MGYG-HGUT-007/MGYG-HGUT-00730/genomes2/GUT_GENOME283538.gff.gz\n",
      "\n",
      "Downloading: ftp://ftp.ebi.ac.uk/pub/databases/metagenomics/mgnify_genomes/human-gut/v1.0/all_genomes/MGYG-HGUT-007/MGYG-HGUT-00730/genomes1/GUT_GENOME283719.gff.gz\n",
      "\n",
      "Downloading: ftp://ftp.ebi.ac.uk/pub/databases/metagenomics/mgnify_genomes/human-gut/v1.0/all_genomes/MGYG-HGUT-005/MGYG-HGUT-00530/genomes2/GUT_GENOME284294.gff.gz\n",
      "\n",
      "Downloading: ftp://ftp.ebi.ac.uk/pub/databases/metagenomics/mgnify_genomes/human-gut/v1.0/all_genomes/MGYG-HGUT-011/MGYG-HGUT-01132/genomes1/GUT_GENOME285124.gff.gz\n",
      "\n",
      "Downloading: ftp://ftp.ebi.ac.uk/pub/databases/metagenomics/mgnify_genomes/human-gut/v1.0/all_genomes/MGYG-HGUT-007/MGYG-HGUT-00730/genomes1/GUT_GENOME285532.gff.gz\n",
      "\n",
      "Downloading: ftp://ftp.ebi.ac.uk/pub/databases/metagenomics/mgnify_genomes/human-gut/v1.0/all_genomes/MGYG-HGUT-007/MGYG-HGUT-00730/genomes1/GUT_GENOME285613.gff.gz\n",
      "\n",
      "Downloading: ftp://ftp.ebi.ac.uk/pub/databases/metagenomics/mgnify_genomes/human-gut/v1.0/all_genomes/MGYG-HGUT-007/MGYG-HGUT-00730/genomes1/GUT_GENOME285799.gff.gz\n",
      "\n",
      "Downloading: ftp://ftp.ebi.ac.uk/pub/databases/metagenomics/mgnify_genomes/human-gut/v1.0/all_genomes/MGYG-HGUT-007/MGYG-HGUT-00730/genomes1/GUT_GENOME286150.gff.gz\n",
      "\n",
      "Downloading: ftp://ftp.ebi.ac.uk/pub/databases/metagenomics/mgnify_genomes/human-gut/v1.0/all_genomes/MGYG-HGUT-038/MGYG-HGUT-03891/genomes4/GUT_GENOME286223.gff.gz\n",
      "\n",
      "Downloading: ftp://ftp.ebi.ac.uk/pub/databases/metagenomics/mgnify_genomes/human-gut/v1.0/all_genomes/MGYG-HGUT-007/MGYG-HGUT-00730/genomes2/GUT_GENOME286615.gff.gz\n",
      "\n",
      "Downloading: ftp://ftp.ebi.ac.uk/pub/databases/metagenomics/mgnify_genomes/human-gut/v1.0/all_genomes/MGYG-HGUT-005/MGYG-HGUT-00530/genomes2/GUT_GENOME286691.gff.gz\n",
      "\n"
     ]
    },
    {
     "data": {
      "text/html": [
       "384"
      ],
      "text/latex": [
       "384"
      ],
      "text/markdown": [
       "384"
      ],
      "text/plain": [
       "[1] 384"
      ]
     },
     "metadata": {},
     "output_type": "display_data"
    }
   ],
   "source": [
    "# downloading\n",
    "get_file = function(url, base_dir){\n",
    "    outfile = file.path(base_dir,  'UHGG', gsub('.+/', '', url))\n",
    "    message('Downloading: ', url)\n",
    "    curl_download(url, outfile, mode = \"wb\")\n",
    "}\n",
    "\n",
    "ret = genomes_f$FTP_download %>%\n",
    "    lapply(get_file, work_dir)\n",
    "ret %>% length"
   ]
  },
  {
   "cell_type": "markdown",
   "metadata": {},
   "source": [
    "Parsing gff files\n",
    "\n",
    "```\n",
    "(genome) @ rick:/ebio/abt3_projects/software/dev/ll_pipelines/llprimer/experiments/christensenellales/genomes/UHGG\n",
    "$ find . -name \"*.gff.gz\" | xargs -I % /ebio/abt3_projects/databases_no-backup/UHGG/2019_09/prokka_gff2fasta.py %\n",
    "```"
   ]
  },
  {
   "cell_type": "markdown",
   "metadata": {},
   "source": [
    "## TUK MAGs"
   ]
  },
  {
   "cell_type": "code",
   "execution_count": 28,
   "metadata": {
    "execution": {
     "iopub.execute_input": "2021-02-23T14:03:17.063502Z",
     "iopub.status.busy": "2021-02-23T14:03:17.061344Z",
     "iopub.status.idle": "2021-02-23T14:03:17.155148Z"
    }
   },
   "outputs": [
    {
     "data": {
      "text/html": [
       "<table class=\"dataframe\">\n",
       "<caption>A data.table: 12357 × 20</caption>\n",
       "<thead>\n",
       "\t<tr><th scope=col>Name</th><th scope=col>Fasta</th><th scope=col>Domain</th><th scope=col>Phylum</th><th scope=col>Class</th><th scope=col>Order</th><th scope=col>Family</th><th scope=col>Genus</th><th scope=col>Species</th><th scope=col>Completeness</th><th scope=col>Contamination</th><th scope=col>Strain.heterogeneity</th><th scope=col>Genome.size..bp.</th><th scope=col>X..contigs</th><th scope=col>N50..contigs.</th><th scope=col>Mean.contig.length..bp.</th><th scope=col>Longest.contig..bp.</th><th scope=col>GC</th><th scope=col>Coding.density</th><th scope=col>X..predicted.genes</th></tr>\n",
       "\t<tr><th scope=col>&lt;chr&gt;</th><th scope=col>&lt;chr&gt;</th><th scope=col>&lt;chr&gt;</th><th scope=col>&lt;chr&gt;</th><th scope=col>&lt;chr&gt;</th><th scope=col>&lt;chr&gt;</th><th scope=col>&lt;chr&gt;</th><th scope=col>&lt;chr&gt;</th><th scope=col>&lt;chr&gt;</th><th scope=col>&lt;dbl&gt;</th><th scope=col>&lt;dbl&gt;</th><th scope=col>&lt;dbl&gt;</th><th scope=col>&lt;int&gt;</th><th scope=col>&lt;int&gt;</th><th scope=col>&lt;int&gt;</th><th scope=col>&lt;int&gt;</th><th scope=col>&lt;int&gt;</th><th scope=col>&lt;dbl&gt;</th><th scope=col>&lt;dbl&gt;</th><th scope=col>&lt;int&gt;</th></tr>\n",
       "</thead>\n",
       "<tbody>\n",
       "\t<tr><td>1002320__metabat2__HighNoCov.035</td><td>/ebio/abt3_projects/Anxiety_Twins_Metagenomes/data/metagenome/TUK-5projects/LLMGA/v0.12/LLG/rnd1/drep/drep/dereplicated_genomes/1002320__metabat2__HighNoCov.035.fna</td><td>Bacteria</td><td>Bacteroidota</td><td>Bacteroidia</td><td>Bacteroidales</td><td>Rikenellaceae</td><td>Tidjanibacter</td><td>Tidjanibacter inops</td><td> 92.2</td><td>4.61</td><td>7.14</td><td>2261725</td><td>365</td><td>  8314</td><td> 6196</td><td> 65550</td><td>56.9</td><td>86.29</td><td>2235</td></tr>\n",
       "\t<tr><td>1002335__maxbin2__High.035      </td><td>/ebio/abt3_projects/Anxiety_Twins_Metagenomes/data/metagenome/TUK-5projects/LLMGA/v0.12/LLG/rnd1/drep/drep/dereplicated_genomes/1002335__maxbin2__High.035.fna      </td><td>Bacteria</td><td>Bacteroidota</td><td>Bacteroidia</td><td>Bacteroidales</td><td>Rikenellaceae</td><td>Alistipes_A  </td><td>Alistipes_A ihumii </td><td>100.0</td><td>0.00</td><td>0.00</td><td>2620923</td><td> 29</td><td>339045</td><td>90376</td><td>457503</td><td>58.5</td><td>83.91</td><td>2100</td></tr>\n",
       "\t<tr><td>⋮</td><td>⋮</td><td>⋮</td><td>⋮</td><td>⋮</td><td>⋮</td><td>⋮</td><td>⋮</td><td>⋮</td><td>⋮</td><td>⋮</td><td>⋮</td><td>⋮</td><td>⋮</td><td>⋮</td><td>⋮</td><td>⋮</td><td>⋮</td><td>⋮</td><td>⋮</td></tr>\n",
       "\t<tr><td>ERR3451530__metabat2__High.008</td><td>/ebio/abt3_projects/Anxiety_Twins_Metagenomes/data/metagenome/TUK-5projects/LLMGA/v0.12/LLG/rnd1/drep/drep/dereplicated_genomes/ERR3451530__metabat2__High.008.fna</td><td>Bacteria</td><td>Firmicutes_A</td><td>Clostridia</td><td>Oscillospirales</td><td>Oscillospiraceae</td><td>CAG-103</td><td>CAG-103 sp000432375</td><td>88.26</td><td>0.67</td><td>100</td><td>1925297</td><td> 28</td><td>172712</td><td>68760</td><td>283992</td><td>62.2</td><td>89.32</td><td>1782</td></tr>\n",
       "\t<tr><td>ERR3451530__vamb__High.213    </td><td>/ebio/abt3_projects/Anxiety_Twins_Metagenomes/data/metagenome/TUK-5projects/LLMGA/v0.12/LLG/rnd1/drep/drep/dereplicated_genomes/ERR3451530__vamb__High.213.fna    </td><td>Bacteria</td><td>Firmicutes_A</td><td>Clostridia</td><td>Oscillospirales</td><td>Ruminococcaceae </td><td>CAG-115</td><td>CAG-115 sp003531585</td><td>95.97</td><td>0.84</td><td>100</td><td>2811853</td><td>271</td><td> 15050</td><td>10375</td><td> 90239</td><td>52.4</td><td>88.48</td><td>2685</td></tr>\n",
       "</tbody>\n",
       "</table>\n"
      ],
      "text/latex": [
       "A data.table: 12357 × 20\n",
       "\\begin{tabular}{llllllllllllllllllll}\n",
       " Name & Fasta & Domain & Phylum & Class & Order & Family & Genus & Species & Completeness & Contamination & Strain.heterogeneity & Genome.size..bp. & X..contigs & N50..contigs. & Mean.contig.length..bp. & Longest.contig..bp. & GC & Coding.density & X..predicted.genes\\\\\n",
       " <chr> & <chr> & <chr> & <chr> & <chr> & <chr> & <chr> & <chr> & <chr> & <dbl> & <dbl> & <dbl> & <int> & <int> & <int> & <int> & <int> & <dbl> & <dbl> & <int>\\\\\n",
       "\\hline\n",
       "\t 1002320\\_\\_metabat2\\_\\_HighNoCov.035 & /ebio/abt3\\_projects/Anxiety\\_Twins\\_Metagenomes/data/metagenome/TUK-5projects/LLMGA/v0.12/LLG/rnd1/drep/drep/dereplicated\\_genomes/1002320\\_\\_metabat2\\_\\_HighNoCov.035.fna & Bacteria & Bacteroidota & Bacteroidia & Bacteroidales & Rikenellaceae & Tidjanibacter & Tidjanibacter inops &  92.2 & 4.61 & 7.14 & 2261725 & 365 &   8314 &  6196 &  65550 & 56.9 & 86.29 & 2235\\\\\n",
       "\t 1002335\\_\\_maxbin2\\_\\_High.035       & /ebio/abt3\\_projects/Anxiety\\_Twins\\_Metagenomes/data/metagenome/TUK-5projects/LLMGA/v0.12/LLG/rnd1/drep/drep/dereplicated\\_genomes/1002335\\_\\_maxbin2\\_\\_High.035.fna       & Bacteria & Bacteroidota & Bacteroidia & Bacteroidales & Rikenellaceae & Alistipes\\_A   & Alistipes\\_A ihumii  & 100.0 & 0.00 & 0.00 & 2620923 &  29 & 339045 & 90376 & 457503 & 58.5 & 83.91 & 2100\\\\\n",
       "\t ⋮ & ⋮ & ⋮ & ⋮ & ⋮ & ⋮ & ⋮ & ⋮ & ⋮ & ⋮ & ⋮ & ⋮ & ⋮ & ⋮ & ⋮ & ⋮ & ⋮ & ⋮ & ⋮ & ⋮\\\\\n",
       "\t ERR3451530\\_\\_metabat2\\_\\_High.008 & /ebio/abt3\\_projects/Anxiety\\_Twins\\_Metagenomes/data/metagenome/TUK-5projects/LLMGA/v0.12/LLG/rnd1/drep/drep/dereplicated\\_genomes/ERR3451530\\_\\_metabat2\\_\\_High.008.fna & Bacteria & Firmicutes\\_A & Clostridia & Oscillospirales & Oscillospiraceae & CAG-103 & CAG-103 sp000432375 & 88.26 & 0.67 & 100 & 1925297 &  28 & 172712 & 68760 & 283992 & 62.2 & 89.32 & 1782\\\\\n",
       "\t ERR3451530\\_\\_vamb\\_\\_High.213     & /ebio/abt3\\_projects/Anxiety\\_Twins\\_Metagenomes/data/metagenome/TUK-5projects/LLMGA/v0.12/LLG/rnd1/drep/drep/dereplicated\\_genomes/ERR3451530\\_\\_vamb\\_\\_High.213.fna     & Bacteria & Firmicutes\\_A & Clostridia & Oscillospirales & Ruminococcaceae  & CAG-115 & CAG-115 sp003531585 & 95.97 & 0.84 & 100 & 2811853 & 271 &  15050 & 10375 &  90239 & 52.4 & 88.48 & 2685\\\\\n",
       "\\end{tabular}\n"
      ],
      "text/markdown": [
       "\n",
       "A data.table: 12357 × 20\n",
       "\n",
       "| Name &lt;chr&gt; | Fasta &lt;chr&gt; | Domain &lt;chr&gt; | Phylum &lt;chr&gt; | Class &lt;chr&gt; | Order &lt;chr&gt; | Family &lt;chr&gt; | Genus &lt;chr&gt; | Species &lt;chr&gt; | Completeness &lt;dbl&gt; | Contamination &lt;dbl&gt; | Strain.heterogeneity &lt;dbl&gt; | Genome.size..bp. &lt;int&gt; | X..contigs &lt;int&gt; | N50..contigs. &lt;int&gt; | Mean.contig.length..bp. &lt;int&gt; | Longest.contig..bp. &lt;int&gt; | GC &lt;dbl&gt; | Coding.density &lt;dbl&gt; | X..predicted.genes &lt;int&gt; |\n",
       "|---|---|---|---|---|---|---|---|---|---|---|---|---|---|---|---|---|---|---|---|\n",
       "| 1002320__metabat2__HighNoCov.035 | /ebio/abt3_projects/Anxiety_Twins_Metagenomes/data/metagenome/TUK-5projects/LLMGA/v0.12/LLG/rnd1/drep/drep/dereplicated_genomes/1002320__metabat2__HighNoCov.035.fna | Bacteria | Bacteroidota | Bacteroidia | Bacteroidales | Rikenellaceae | Tidjanibacter | Tidjanibacter inops |  92.2 | 4.61 | 7.14 | 2261725 | 365 |   8314 |  6196 |  65550 | 56.9 | 86.29 | 2235 |\n",
       "| 1002335__maxbin2__High.035       | /ebio/abt3_projects/Anxiety_Twins_Metagenomes/data/metagenome/TUK-5projects/LLMGA/v0.12/LLG/rnd1/drep/drep/dereplicated_genomes/1002335__maxbin2__High.035.fna       | Bacteria | Bacteroidota | Bacteroidia | Bacteroidales | Rikenellaceae | Alistipes_A   | Alistipes_A ihumii  | 100.0 | 0.00 | 0.00 | 2620923 |  29 | 339045 | 90376 | 457503 | 58.5 | 83.91 | 2100 |\n",
       "| ⋮ | ⋮ | ⋮ | ⋮ | ⋮ | ⋮ | ⋮ | ⋮ | ⋮ | ⋮ | ⋮ | ⋮ | ⋮ | ⋮ | ⋮ | ⋮ | ⋮ | ⋮ | ⋮ | ⋮ |\n",
       "| ERR3451530__metabat2__High.008 | /ebio/abt3_projects/Anxiety_Twins_Metagenomes/data/metagenome/TUK-5projects/LLMGA/v0.12/LLG/rnd1/drep/drep/dereplicated_genomes/ERR3451530__metabat2__High.008.fna | Bacteria | Firmicutes_A | Clostridia | Oscillospirales | Oscillospiraceae | CAG-103 | CAG-103 sp000432375 | 88.26 | 0.67 | 100 | 1925297 |  28 | 172712 | 68760 | 283992 | 62.2 | 89.32 | 1782 |\n",
       "| ERR3451530__vamb__High.213     | /ebio/abt3_projects/Anxiety_Twins_Metagenomes/data/metagenome/TUK-5projects/LLMGA/v0.12/LLG/rnd1/drep/drep/dereplicated_genomes/ERR3451530__vamb__High.213.fna     | Bacteria | Firmicutes_A | Clostridia | Oscillospirales | Ruminococcaceae  | CAG-115 | CAG-115 sp003531585 | 95.97 | 0.84 | 100 | 2811853 | 271 |  15050 | 10375 |  90239 | 52.4 | 88.48 | 2685 |\n",
       "\n"
      ],
      "text/plain": [
       "      Name                            \n",
       "1     1002320__metabat2__HighNoCov.035\n",
       "2     1002335__maxbin2__High.035      \n",
       "⋮     ⋮                               \n",
       "12356 ERR3451530__metabat2__High.008  \n",
       "12357 ERR3451530__vamb__High.213      \n",
       "      Fasta                                                                                                                                                               \n",
       "1     /ebio/abt3_projects/Anxiety_Twins_Metagenomes/data/metagenome/TUK-5projects/LLMGA/v0.12/LLG/rnd1/drep/drep/dereplicated_genomes/1002320__metabat2__HighNoCov.035.fna\n",
       "2     /ebio/abt3_projects/Anxiety_Twins_Metagenomes/data/metagenome/TUK-5projects/LLMGA/v0.12/LLG/rnd1/drep/drep/dereplicated_genomes/1002335__maxbin2__High.035.fna      \n",
       "⋮     ⋮                                                                                                                                                                   \n",
       "12356 /ebio/abt3_projects/Anxiety_Twins_Metagenomes/data/metagenome/TUK-5projects/LLMGA/v0.12/LLG/rnd1/drep/drep/dereplicated_genomes/ERR3451530__metabat2__High.008.fna  \n",
       "12357 /ebio/abt3_projects/Anxiety_Twins_Metagenomes/data/metagenome/TUK-5projects/LLMGA/v0.12/LLG/rnd1/drep/drep/dereplicated_genomes/ERR3451530__vamb__High.213.fna      \n",
       "      Domain   Phylum       Class       Order           Family          \n",
       "1     Bacteria Bacteroidota Bacteroidia Bacteroidales   Rikenellaceae   \n",
       "2     Bacteria Bacteroidota Bacteroidia Bacteroidales   Rikenellaceae   \n",
       "⋮     ⋮        ⋮            ⋮           ⋮               ⋮               \n",
       "12356 Bacteria Firmicutes_A Clostridia  Oscillospirales Oscillospiraceae\n",
       "12357 Bacteria Firmicutes_A Clostridia  Oscillospirales Ruminococcaceae \n",
       "      Genus         Species             Completeness Contamination\n",
       "1     Tidjanibacter Tidjanibacter inops  92.2        4.61         \n",
       "2     Alistipes_A   Alistipes_A ihumii  100.0        0.00         \n",
       "⋮     ⋮             ⋮                   ⋮            ⋮            \n",
       "12356 CAG-103       CAG-103 sp000432375 88.26        0.67         \n",
       "12357 CAG-115       CAG-115 sp003531585 95.97        0.84         \n",
       "      Strain.heterogeneity Genome.size..bp. X..contigs N50..contigs.\n",
       "1     7.14                 2261725          365          8314       \n",
       "2     0.00                 2620923           29        339045       \n",
       "⋮     ⋮                    ⋮                ⋮          ⋮            \n",
       "12356 100                  1925297           28        172712       \n",
       "12357 100                  2811853          271         15050       \n",
       "      Mean.contig.length..bp. Longest.contig..bp. GC   Coding.density\n",
       "1      6196                    65550              56.9 86.29         \n",
       "2     90376                   457503              58.5 83.91         \n",
       "⋮     ⋮                       ⋮                   ⋮    ⋮             \n",
       "12356 68760                   283992              62.2 89.32         \n",
       "12357 10375                    90239              52.4 88.48         \n",
       "      X..predicted.genes\n",
       "1     2235              \n",
       "2     2100              \n",
       "⋮     ⋮                 \n",
       "12356 1782              \n",
       "12357 2685              "
      ]
     },
     "metadata": {},
     "output_type": "display_data"
    }
   ],
   "source": [
    "F = '/ebio/abt3_projects/Anxiety_Twins_Metagenomes/data/metagenome/TUK-5projects/LLMGA/v0.12/LLG//rnd1/final_MAGs.tsv'\n",
    "TUK = Fread(F)\n",
    "TUK"
   ]
  },
  {
   "cell_type": "code",
   "execution_count": 29,
   "metadata": {
    "execution": {
     "iopub.execute_input": "2021-02-23T14:03:18.507856Z",
     "iopub.status.busy": "2021-02-23T14:03:18.505554Z",
     "iopub.status.idle": "2021-02-23T14:03:18.555015Z"
    }
   },
   "outputs": [
    {
     "data": {
      "text/html": [
       "<table class=\"dataframe\">\n",
       "<caption>A tidytable: 729 × 20</caption>\n",
       "<thead>\n",
       "\t<tr><th scope=col>Name</th><th scope=col>Fasta</th><th scope=col>Domain</th><th scope=col>Phylum</th><th scope=col>Class</th><th scope=col>Order</th><th scope=col>Family</th><th scope=col>Genus</th><th scope=col>Species</th><th scope=col>Completeness</th><th scope=col>Contamination</th><th scope=col>Strain.heterogeneity</th><th scope=col>Genome.size..bp.</th><th scope=col>X..contigs</th><th scope=col>N50..contigs.</th><th scope=col>Mean.contig.length..bp.</th><th scope=col>Longest.contig..bp.</th><th scope=col>GC</th><th scope=col>Coding.density</th><th scope=col>X..predicted.genes</th></tr>\n",
       "\t<tr><th scope=col>&lt;chr&gt;</th><th scope=col>&lt;chr&gt;</th><th scope=col>&lt;chr&gt;</th><th scope=col>&lt;chr&gt;</th><th scope=col>&lt;chr&gt;</th><th scope=col>&lt;chr&gt;</th><th scope=col>&lt;chr&gt;</th><th scope=col>&lt;chr&gt;</th><th scope=col>&lt;chr&gt;</th><th scope=col>&lt;dbl&gt;</th><th scope=col>&lt;dbl&gt;</th><th scope=col>&lt;dbl&gt;</th><th scope=col>&lt;int&gt;</th><th scope=col>&lt;int&gt;</th><th scope=col>&lt;int&gt;</th><th scope=col>&lt;int&gt;</th><th scope=col>&lt;int&gt;</th><th scope=col>&lt;dbl&gt;</th><th scope=col>&lt;dbl&gt;</th><th scope=col>&lt;int&gt;</th></tr>\n",
       "</thead>\n",
       "<tbody>\n",
       "\t<tr><td>1002795__metabat2__High.054</td><td>/ebio/abt3_projects/Anxiety_Twins_Metagenomes/data/metagenome/TUK-5projects/LLMGA/v0.12/LLG/rnd1/drep/drep/dereplicated_genomes/1002795__metabat2__High.054.fna</td><td>Bacteria</td><td>Firmicutes_A</td><td>Clostridia_A</td><td>Christensenellales</td><td>CAG-138</td><td>PeH17</td><td>PeH17 sp000435055</td><td>93.94</td><td>1.34</td><td>0</td><td>2081772</td><td>47</td><td>74861</td><td>44293</td><td>274868</td><td>49.1</td><td>86.23</td><td>1845</td></tr>\n",
       "\t<tr><td>1003355__metabat2__High.078</td><td>/ebio/abt3_projects/Anxiety_Twins_Metagenomes/data/metagenome/TUK-5projects/LLMGA/v0.12/LLG/rnd1/drep/drep/dereplicated_genomes/1003355__metabat2__High.078.fna</td><td>Bacteria</td><td>Firmicutes_A</td><td>Clostridia_A</td><td>Christensenellales</td><td>CAG-138</td><td>PeH17</td><td>PeH17 sp000435055</td><td>92.93</td><td>1.34</td><td>0</td><td>2045922</td><td>29</td><td>98160</td><td>70549</td><td>275567</td><td>49.5</td><td>86.12</td><td>1809</td></tr>\n",
       "\t<tr><td>⋮</td><td>⋮</td><td>⋮</td><td>⋮</td><td>⋮</td><td>⋮</td><td>⋮</td><td>⋮</td><td>⋮</td><td>⋮</td><td>⋮</td><td>⋮</td><td>⋮</td><td>⋮</td><td>⋮</td><td>⋮</td><td>⋮</td><td>⋮</td><td>⋮</td><td>⋮</td></tr>\n",
       "\t<tr><td>ERR3451182__metabat2__High.040</td><td>/ebio/abt3_projects/Anxiety_Twins_Metagenomes/data/metagenome/TUK-5projects/LLMGA/v0.12/LLG/rnd1/drep/drep/dereplicated_genomes/ERR3451182__metabat2__High.040.fna</td><td>Bacteria</td><td>Firmicutes_A</td><td>Clostridia_A</td><td>Christensenellales</td><td>CAG-74 </td><td>UBA11524</td><td>UBA11524 sp000437595</td><td>98.60</td><td>1.17</td><td>  0</td><td>3151119</td><td> 47</td><td>102152</td><td>67045</td><td>524993</td><td>57.7</td><td>87.32</td><td>2684</td></tr>\n",
       "\t<tr><td>ERR3451511__metabat2__High.016</td><td>/ebio/abt3_projects/Anxiety_Twins_Metagenomes/data/metagenome/TUK-5projects/LLMGA/v0.12/LLG/rnd1/drep/drep/dereplicated_genomes/ERR3451511__metabat2__High.016.fna</td><td>Bacteria</td><td>Firmicutes_A</td><td>Clostridia_A</td><td>Christensenellales</td><td>CAG-138</td><td>Phil1   </td><td>Phil1 sp001940855   </td><td>99.19</td><td>0.81</td><td>100</td><td>2112719</td><td>182</td><td> 18021</td><td>11608</td><td> 67673</td><td>52.6</td><td>90.65</td><td>2086</td></tr>\n",
       "</tbody>\n",
       "</table>\n"
      ],
      "text/latex": [
       "A tidytable: 729 × 20\n",
       "\\begin{tabular}{llllllllllllllllllll}\n",
       " Name & Fasta & Domain & Phylum & Class & Order & Family & Genus & Species & Completeness & Contamination & Strain.heterogeneity & Genome.size..bp. & X..contigs & N50..contigs. & Mean.contig.length..bp. & Longest.contig..bp. & GC & Coding.density & X..predicted.genes\\\\\n",
       " <chr> & <chr> & <chr> & <chr> & <chr> & <chr> & <chr> & <chr> & <chr> & <dbl> & <dbl> & <dbl> & <int> & <int> & <int> & <int> & <int> & <dbl> & <dbl> & <int>\\\\\n",
       "\\hline\n",
       "\t 1002795\\_\\_metabat2\\_\\_High.054 & /ebio/abt3\\_projects/Anxiety\\_Twins\\_Metagenomes/data/metagenome/TUK-5projects/LLMGA/v0.12/LLG/rnd1/drep/drep/dereplicated\\_genomes/1002795\\_\\_metabat2\\_\\_High.054.fna & Bacteria & Firmicutes\\_A & Clostridia\\_A & Christensenellales & CAG-138 & PeH17 & PeH17 sp000435055 & 93.94 & 1.34 & 0 & 2081772 & 47 & 74861 & 44293 & 274868 & 49.1 & 86.23 & 1845\\\\\n",
       "\t 1003355\\_\\_metabat2\\_\\_High.078 & /ebio/abt3\\_projects/Anxiety\\_Twins\\_Metagenomes/data/metagenome/TUK-5projects/LLMGA/v0.12/LLG/rnd1/drep/drep/dereplicated\\_genomes/1003355\\_\\_metabat2\\_\\_High.078.fna & Bacteria & Firmicutes\\_A & Clostridia\\_A & Christensenellales & CAG-138 & PeH17 & PeH17 sp000435055 & 92.93 & 1.34 & 0 & 2045922 & 29 & 98160 & 70549 & 275567 & 49.5 & 86.12 & 1809\\\\\n",
       "\t ⋮ & ⋮ & ⋮ & ⋮ & ⋮ & ⋮ & ⋮ & ⋮ & ⋮ & ⋮ & ⋮ & ⋮ & ⋮ & ⋮ & ⋮ & ⋮ & ⋮ & ⋮ & ⋮ & ⋮\\\\\n",
       "\t ERR3451182\\_\\_metabat2\\_\\_High.040 & /ebio/abt3\\_projects/Anxiety\\_Twins\\_Metagenomes/data/metagenome/TUK-5projects/LLMGA/v0.12/LLG/rnd1/drep/drep/dereplicated\\_genomes/ERR3451182\\_\\_metabat2\\_\\_High.040.fna & Bacteria & Firmicutes\\_A & Clostridia\\_A & Christensenellales & CAG-74  & UBA11524 & UBA11524 sp000437595 & 98.60 & 1.17 &   0 & 3151119 &  47 & 102152 & 67045 & 524993 & 57.7 & 87.32 & 2684\\\\\n",
       "\t ERR3451511\\_\\_metabat2\\_\\_High.016 & /ebio/abt3\\_projects/Anxiety\\_Twins\\_Metagenomes/data/metagenome/TUK-5projects/LLMGA/v0.12/LLG/rnd1/drep/drep/dereplicated\\_genomes/ERR3451511\\_\\_metabat2\\_\\_High.016.fna & Bacteria & Firmicutes\\_A & Clostridia\\_A & Christensenellales & CAG-138 & Phil1    & Phil1 sp001940855    & 99.19 & 0.81 & 100 & 2112719 & 182 &  18021 & 11608 &  67673 & 52.6 & 90.65 & 2086\\\\\n",
       "\\end{tabular}\n"
      ],
      "text/markdown": [
       "\n",
       "A tidytable: 729 × 20\n",
       "\n",
       "| Name &lt;chr&gt; | Fasta &lt;chr&gt; | Domain &lt;chr&gt; | Phylum &lt;chr&gt; | Class &lt;chr&gt; | Order &lt;chr&gt; | Family &lt;chr&gt; | Genus &lt;chr&gt; | Species &lt;chr&gt; | Completeness &lt;dbl&gt; | Contamination &lt;dbl&gt; | Strain.heterogeneity &lt;dbl&gt; | Genome.size..bp. &lt;int&gt; | X..contigs &lt;int&gt; | N50..contigs. &lt;int&gt; | Mean.contig.length..bp. &lt;int&gt; | Longest.contig..bp. &lt;int&gt; | GC &lt;dbl&gt; | Coding.density &lt;dbl&gt; | X..predicted.genes &lt;int&gt; |\n",
       "|---|---|---|---|---|---|---|---|---|---|---|---|---|---|---|---|---|---|---|---|\n",
       "| 1002795__metabat2__High.054 | /ebio/abt3_projects/Anxiety_Twins_Metagenomes/data/metagenome/TUK-5projects/LLMGA/v0.12/LLG/rnd1/drep/drep/dereplicated_genomes/1002795__metabat2__High.054.fna | Bacteria | Firmicutes_A | Clostridia_A | Christensenellales | CAG-138 | PeH17 | PeH17 sp000435055 | 93.94 | 1.34 | 0 | 2081772 | 47 | 74861 | 44293 | 274868 | 49.1 | 86.23 | 1845 |\n",
       "| 1003355__metabat2__High.078 | /ebio/abt3_projects/Anxiety_Twins_Metagenomes/data/metagenome/TUK-5projects/LLMGA/v0.12/LLG/rnd1/drep/drep/dereplicated_genomes/1003355__metabat2__High.078.fna | Bacteria | Firmicutes_A | Clostridia_A | Christensenellales | CAG-138 | PeH17 | PeH17 sp000435055 | 92.93 | 1.34 | 0 | 2045922 | 29 | 98160 | 70549 | 275567 | 49.5 | 86.12 | 1809 |\n",
       "| ⋮ | ⋮ | ⋮ | ⋮ | ⋮ | ⋮ | ⋮ | ⋮ | ⋮ | ⋮ | ⋮ | ⋮ | ⋮ | ⋮ | ⋮ | ⋮ | ⋮ | ⋮ | ⋮ | ⋮ |\n",
       "| ERR3451182__metabat2__High.040 | /ebio/abt3_projects/Anxiety_Twins_Metagenomes/data/metagenome/TUK-5projects/LLMGA/v0.12/LLG/rnd1/drep/drep/dereplicated_genomes/ERR3451182__metabat2__High.040.fna | Bacteria | Firmicutes_A | Clostridia_A | Christensenellales | CAG-74  | UBA11524 | UBA11524 sp000437595 | 98.60 | 1.17 |   0 | 3151119 |  47 | 102152 | 67045 | 524993 | 57.7 | 87.32 | 2684 |\n",
       "| ERR3451511__metabat2__High.016 | /ebio/abt3_projects/Anxiety_Twins_Metagenomes/data/metagenome/TUK-5projects/LLMGA/v0.12/LLG/rnd1/drep/drep/dereplicated_genomes/ERR3451511__metabat2__High.016.fna | Bacteria | Firmicutes_A | Clostridia_A | Christensenellales | CAG-138 | Phil1    | Phil1 sp001940855    | 99.19 | 0.81 | 100 | 2112719 | 182 |  18021 | 11608 |  67673 | 52.6 | 90.65 | 2086 |\n",
       "\n"
      ],
      "text/plain": [
       "    Name                          \n",
       "1   1002795__metabat2__High.054   \n",
       "2   1003355__metabat2__High.078   \n",
       "⋮   ⋮                             \n",
       "728 ERR3451182__metabat2__High.040\n",
       "729 ERR3451511__metabat2__High.016\n",
       "    Fasta                                                                                                                                                             \n",
       "1   /ebio/abt3_projects/Anxiety_Twins_Metagenomes/data/metagenome/TUK-5projects/LLMGA/v0.12/LLG/rnd1/drep/drep/dereplicated_genomes/1002795__metabat2__High.054.fna   \n",
       "2   /ebio/abt3_projects/Anxiety_Twins_Metagenomes/data/metagenome/TUK-5projects/LLMGA/v0.12/LLG/rnd1/drep/drep/dereplicated_genomes/1003355__metabat2__High.078.fna   \n",
       "⋮   ⋮                                                                                                                                                                 \n",
       "728 /ebio/abt3_projects/Anxiety_Twins_Metagenomes/data/metagenome/TUK-5projects/LLMGA/v0.12/LLG/rnd1/drep/drep/dereplicated_genomes/ERR3451182__metabat2__High.040.fna\n",
       "729 /ebio/abt3_projects/Anxiety_Twins_Metagenomes/data/metagenome/TUK-5projects/LLMGA/v0.12/LLG/rnd1/drep/drep/dereplicated_genomes/ERR3451511__metabat2__High.016.fna\n",
       "    Domain   Phylum       Class        Order              Family  Genus   \n",
       "1   Bacteria Firmicutes_A Clostridia_A Christensenellales CAG-138 PeH17   \n",
       "2   Bacteria Firmicutes_A Clostridia_A Christensenellales CAG-138 PeH17   \n",
       "⋮   ⋮        ⋮            ⋮            ⋮                  ⋮       ⋮       \n",
       "728 Bacteria Firmicutes_A Clostridia_A Christensenellales CAG-74  UBA11524\n",
       "729 Bacteria Firmicutes_A Clostridia_A Christensenellales CAG-138 Phil1   \n",
       "    Species              Completeness Contamination Strain.heterogeneity\n",
       "1   PeH17 sp000435055    93.94        1.34          0                   \n",
       "2   PeH17 sp000435055    92.93        1.34          0                   \n",
       "⋮   ⋮                    ⋮            ⋮             ⋮                   \n",
       "728 UBA11524 sp000437595 98.60        1.17            0                 \n",
       "729 Phil1 sp001940855    99.19        0.81          100                 \n",
       "    Genome.size..bp. X..contigs N50..contigs. Mean.contig.length..bp.\n",
       "1   2081772          47         74861         44293                  \n",
       "2   2045922          29         98160         70549                  \n",
       "⋮   ⋮                ⋮          ⋮             ⋮                      \n",
       "728 3151119           47        102152        67045                  \n",
       "729 2112719          182         18021        11608                  \n",
       "    Longest.contig..bp. GC   Coding.density X..predicted.genes\n",
       "1   274868              49.1 86.23          1845              \n",
       "2   275567              49.5 86.12          1809              \n",
       "⋮   ⋮                   ⋮    ⋮              ⋮                 \n",
       "728 524993              57.7 87.32          2684              \n",
       "729  67673              52.6 90.65          2086              "
      ]
     },
     "metadata": {},
     "output_type": "display_data"
    }
   ],
   "source": [
    "TUK = TUK %>%\n",
    "    filter.(Order == 'Christensenellales')\n",
    "TUK"
   ]
  },
  {
   "cell_type": "code",
   "execution_count": 31,
   "metadata": {
    "execution": {
     "iopub.execute_input": "2021-02-23T14:04:04.237553Z",
     "iopub.status.busy": "2021-02-23T14:04:04.234259Z",
     "iopub.status.idle": "2021-02-23T14:04:04.294830Z"
    }
   },
   "outputs": [
    {
     "data": {
      "text/html": [
       "<table class=\"dataframe\">\n",
       "<caption>A tidytable: 76 × 20</caption>\n",
       "<thead>\n",
       "\t<tr><th scope=col>Name</th><th scope=col>Fasta</th><th scope=col>Domain</th><th scope=col>Phylum</th><th scope=col>Class</th><th scope=col>Order</th><th scope=col>Family</th><th scope=col>Genus</th><th scope=col>Species</th><th scope=col>Completeness</th><th scope=col>Contamination</th><th scope=col>Strain.heterogeneity</th><th scope=col>Genome.size..bp.</th><th scope=col>X..contigs</th><th scope=col>N50..contigs.</th><th scope=col>Mean.contig.length..bp.</th><th scope=col>Longest.contig..bp.</th><th scope=col>GC</th><th scope=col>Coding.density</th><th scope=col>X..predicted.genes</th></tr>\n",
       "\t<tr><th scope=col>&lt;chr&gt;</th><th scope=col>&lt;chr&gt;</th><th scope=col>&lt;chr&gt;</th><th scope=col>&lt;chr&gt;</th><th scope=col>&lt;chr&gt;</th><th scope=col>&lt;chr&gt;</th><th scope=col>&lt;chr&gt;</th><th scope=col>&lt;chr&gt;</th><th scope=col>&lt;chr&gt;</th><th scope=col>&lt;dbl&gt;</th><th scope=col>&lt;dbl&gt;</th><th scope=col>&lt;dbl&gt;</th><th scope=col>&lt;int&gt;</th><th scope=col>&lt;int&gt;</th><th scope=col>&lt;int&gt;</th><th scope=col>&lt;int&gt;</th><th scope=col>&lt;int&gt;</th><th scope=col>&lt;dbl&gt;</th><th scope=col>&lt;dbl&gt;</th><th scope=col>&lt;int&gt;</th></tr>\n",
       "</thead>\n",
       "<tbody>\n",
       "\t<tr><td>1002469__metabat2__HighNoCov.011</td><td>/ebio/abt3_projects/Anxiety_Twins_Metagenomes/data/metagenome/TUK-5projects/LLMGA/v0.12/LLG/rnd1/drep/drep/dereplicated_genomes/1002469__metabat2__HighNoCov.011.fna</td><td>Bacteria</td><td>Firmicutes_A</td><td>Clostridia_A</td><td>Christensenellales</td><td>CAG-138</td><td>Phil1</td><td>Phil1 sp001940855</td><td>98.39</td><td>0</td><td>0</td><td>2229828</td><td>63</td><td>59908</td><td>35394</td><td>166984</td><td>52.8</td><td>90.20</td><td>2136</td></tr>\n",
       "\t<tr><td>1006002__maxbin2__Low.057       </td><td>/ebio/abt3_projects/Anxiety_Twins_Metagenomes/data/metagenome/TUK-5projects/LLMGA/v0.12/LLG/rnd1/drep/drep/dereplicated_genomes/1006002__maxbin2__Low.057.fna       </td><td>Bacteria</td><td>Firmicutes_A</td><td>Clostridia_A</td><td>Christensenellales</td><td>CAG-138</td><td>Phil1</td><td>Phil1 sp001940855</td><td>99.19</td><td>0</td><td>0</td><td>2183900</td><td>98</td><td>36095</td><td>22284</td><td>109973</td><td>52.6</td><td>89.84</td><td>2113</td></tr>\n",
       "\t<tr><td>⋮</td><td>⋮</td><td>⋮</td><td>⋮</td><td>⋮</td><td>⋮</td><td>⋮</td><td>⋮</td><td>⋮</td><td>⋮</td><td>⋮</td><td>⋮</td><td>⋮</td><td>⋮</td><td>⋮</td><td>⋮</td><td>⋮</td><td>⋮</td><td>⋮</td><td>⋮</td></tr>\n",
       "\t<tr><td>1003478__vamb__Low.002         </td><td>/ebio/abt3_projects/Anxiety_Twins_Metagenomes/data/metagenome/TUK-5projects/LLMGA/v0.12/LLG/rnd1/drep/drep/dereplicated_genomes/1003478__vamb__Low.002.fna         </td><td>Bacteria</td><td>Firmicutes_A</td><td>Clostridia_A</td><td>Christensenellales</td><td>Borkfalkiaceae</td><td>UBA4636</td><td>unclassified     </td><td>63.46</td><td>0.03</td><td>100</td><td>1294155</td><td>397</td><td> 3402</td><td> 3259</td><td> 16255</td><td>45.5</td><td>88.72</td><td>1454</td></tr>\n",
       "\t<tr><td>1006313__metabat2__LowNoCov.067</td><td>/ebio/abt3_projects/Anxiety_Twins_Metagenomes/data/metagenome/TUK-5projects/LLMGA/v0.12/LLG/rnd1/drep/drep/dereplicated_genomes/1006313__metabat2__LowNoCov.067.fna</td><td>Bacteria</td><td>Firmicutes_A</td><td>Clostridia_A</td><td>Christensenellales</td><td>CAG-138       </td><td>Phil1  </td><td>Phil1 sp001940855</td><td>99.19</td><td>0.00</td><td>  0</td><td>1924531</td><td> 61</td><td>47515</td><td>31549</td><td>136878</td><td>53.3</td><td>90.10</td><td>1794</td></tr>\n",
       "</tbody>\n",
       "</table>\n"
      ],
      "text/latex": [
       "A tidytable: 76 × 20\n",
       "\\begin{tabular}{llllllllllllllllllll}\n",
       " Name & Fasta & Domain & Phylum & Class & Order & Family & Genus & Species & Completeness & Contamination & Strain.heterogeneity & Genome.size..bp. & X..contigs & N50..contigs. & Mean.contig.length..bp. & Longest.contig..bp. & GC & Coding.density & X..predicted.genes\\\\\n",
       " <chr> & <chr> & <chr> & <chr> & <chr> & <chr> & <chr> & <chr> & <chr> & <dbl> & <dbl> & <dbl> & <int> & <int> & <int> & <int> & <int> & <dbl> & <dbl> & <int>\\\\\n",
       "\\hline\n",
       "\t 1002469\\_\\_metabat2\\_\\_HighNoCov.011 & /ebio/abt3\\_projects/Anxiety\\_Twins\\_Metagenomes/data/metagenome/TUK-5projects/LLMGA/v0.12/LLG/rnd1/drep/drep/dereplicated\\_genomes/1002469\\_\\_metabat2\\_\\_HighNoCov.011.fna & Bacteria & Firmicutes\\_A & Clostridia\\_A & Christensenellales & CAG-138 & Phil1 & Phil1 sp001940855 & 98.39 & 0 & 0 & 2229828 & 63 & 59908 & 35394 & 166984 & 52.8 & 90.20 & 2136\\\\\n",
       "\t 1006002\\_\\_maxbin2\\_\\_Low.057        & /ebio/abt3\\_projects/Anxiety\\_Twins\\_Metagenomes/data/metagenome/TUK-5projects/LLMGA/v0.12/LLG/rnd1/drep/drep/dereplicated\\_genomes/1006002\\_\\_maxbin2\\_\\_Low.057.fna        & Bacteria & Firmicutes\\_A & Clostridia\\_A & Christensenellales & CAG-138 & Phil1 & Phil1 sp001940855 & 99.19 & 0 & 0 & 2183900 & 98 & 36095 & 22284 & 109973 & 52.6 & 89.84 & 2113\\\\\n",
       "\t ⋮ & ⋮ & ⋮ & ⋮ & ⋮ & ⋮ & ⋮ & ⋮ & ⋮ & ⋮ & ⋮ & ⋮ & ⋮ & ⋮ & ⋮ & ⋮ & ⋮ & ⋮ & ⋮ & ⋮\\\\\n",
       "\t 1003478\\_\\_vamb\\_\\_Low.002          & /ebio/abt3\\_projects/Anxiety\\_Twins\\_Metagenomes/data/metagenome/TUK-5projects/LLMGA/v0.12/LLG/rnd1/drep/drep/dereplicated\\_genomes/1003478\\_\\_vamb\\_\\_Low.002.fna          & Bacteria & Firmicutes\\_A & Clostridia\\_A & Christensenellales & Borkfalkiaceae & UBA4636 & unclassified      & 63.46 & 0.03 & 100 & 1294155 & 397 &  3402 &  3259 &  16255 & 45.5 & 88.72 & 1454\\\\\n",
       "\t 1006313\\_\\_metabat2\\_\\_LowNoCov.067 & /ebio/abt3\\_projects/Anxiety\\_Twins\\_Metagenomes/data/metagenome/TUK-5projects/LLMGA/v0.12/LLG/rnd1/drep/drep/dereplicated\\_genomes/1006313\\_\\_metabat2\\_\\_LowNoCov.067.fna & Bacteria & Firmicutes\\_A & Clostridia\\_A & Christensenellales & CAG-138        & Phil1   & Phil1 sp001940855 & 99.19 & 0.00 &   0 & 1924531 &  61 & 47515 & 31549 & 136878 & 53.3 & 90.10 & 1794\\\\\n",
       "\\end{tabular}\n"
      ],
      "text/markdown": [
       "\n",
       "A tidytable: 76 × 20\n",
       "\n",
       "| Name &lt;chr&gt; | Fasta &lt;chr&gt; | Domain &lt;chr&gt; | Phylum &lt;chr&gt; | Class &lt;chr&gt; | Order &lt;chr&gt; | Family &lt;chr&gt; | Genus &lt;chr&gt; | Species &lt;chr&gt; | Completeness &lt;dbl&gt; | Contamination &lt;dbl&gt; | Strain.heterogeneity &lt;dbl&gt; | Genome.size..bp. &lt;int&gt; | X..contigs &lt;int&gt; | N50..contigs. &lt;int&gt; | Mean.contig.length..bp. &lt;int&gt; | Longest.contig..bp. &lt;int&gt; | GC &lt;dbl&gt; | Coding.density &lt;dbl&gt; | X..predicted.genes &lt;int&gt; |\n",
       "|---|---|---|---|---|---|---|---|---|---|---|---|---|---|---|---|---|---|---|---|\n",
       "| 1002469__metabat2__HighNoCov.011 | /ebio/abt3_projects/Anxiety_Twins_Metagenomes/data/metagenome/TUK-5projects/LLMGA/v0.12/LLG/rnd1/drep/drep/dereplicated_genomes/1002469__metabat2__HighNoCov.011.fna | Bacteria | Firmicutes_A | Clostridia_A | Christensenellales | CAG-138 | Phil1 | Phil1 sp001940855 | 98.39 | 0 | 0 | 2229828 | 63 | 59908 | 35394 | 166984 | 52.8 | 90.20 | 2136 |\n",
       "| 1006002__maxbin2__Low.057        | /ebio/abt3_projects/Anxiety_Twins_Metagenomes/data/metagenome/TUK-5projects/LLMGA/v0.12/LLG/rnd1/drep/drep/dereplicated_genomes/1006002__maxbin2__Low.057.fna        | Bacteria | Firmicutes_A | Clostridia_A | Christensenellales | CAG-138 | Phil1 | Phil1 sp001940855 | 99.19 | 0 | 0 | 2183900 | 98 | 36095 | 22284 | 109973 | 52.6 | 89.84 | 2113 |\n",
       "| ⋮ | ⋮ | ⋮ | ⋮ | ⋮ | ⋮ | ⋮ | ⋮ | ⋮ | ⋮ | ⋮ | ⋮ | ⋮ | ⋮ | ⋮ | ⋮ | ⋮ | ⋮ | ⋮ | ⋮ |\n",
       "| 1003478__vamb__Low.002          | /ebio/abt3_projects/Anxiety_Twins_Metagenomes/data/metagenome/TUK-5projects/LLMGA/v0.12/LLG/rnd1/drep/drep/dereplicated_genomes/1003478__vamb__Low.002.fna          | Bacteria | Firmicutes_A | Clostridia_A | Christensenellales | Borkfalkiaceae | UBA4636 | unclassified      | 63.46 | 0.03 | 100 | 1294155 | 397 |  3402 |  3259 |  16255 | 45.5 | 88.72 | 1454 |\n",
       "| 1006313__metabat2__LowNoCov.067 | /ebio/abt3_projects/Anxiety_Twins_Metagenomes/data/metagenome/TUK-5projects/LLMGA/v0.12/LLG/rnd1/drep/drep/dereplicated_genomes/1006313__metabat2__LowNoCov.067.fna | Bacteria | Firmicutes_A | Clostridia_A | Christensenellales | CAG-138        | Phil1   | Phil1 sp001940855 | 99.19 | 0.00 |   0 | 1924531 |  61 | 47515 | 31549 | 136878 | 53.3 | 90.10 | 1794 |\n",
       "\n"
      ],
      "text/plain": [
       "   Name                            \n",
       "1  1002469__metabat2__HighNoCov.011\n",
       "2  1006002__maxbin2__Low.057       \n",
       "⋮  ⋮                               \n",
       "75 1003478__vamb__Low.002          \n",
       "76 1006313__metabat2__LowNoCov.067 \n",
       "   Fasta                                                                                                                                                               \n",
       "1  /ebio/abt3_projects/Anxiety_Twins_Metagenomes/data/metagenome/TUK-5projects/LLMGA/v0.12/LLG/rnd1/drep/drep/dereplicated_genomes/1002469__metabat2__HighNoCov.011.fna\n",
       "2  /ebio/abt3_projects/Anxiety_Twins_Metagenomes/data/metagenome/TUK-5projects/LLMGA/v0.12/LLG/rnd1/drep/drep/dereplicated_genomes/1006002__maxbin2__Low.057.fna       \n",
       "⋮  ⋮                                                                                                                                                                   \n",
       "75 /ebio/abt3_projects/Anxiety_Twins_Metagenomes/data/metagenome/TUK-5projects/LLMGA/v0.12/LLG/rnd1/drep/drep/dereplicated_genomes/1003478__vamb__Low.002.fna          \n",
       "76 /ebio/abt3_projects/Anxiety_Twins_Metagenomes/data/metagenome/TUK-5projects/LLMGA/v0.12/LLG/rnd1/drep/drep/dereplicated_genomes/1006313__metabat2__LowNoCov.067.fna \n",
       "   Domain   Phylum       Class        Order              Family         Genus  \n",
       "1  Bacteria Firmicutes_A Clostridia_A Christensenellales CAG-138        Phil1  \n",
       "2  Bacteria Firmicutes_A Clostridia_A Christensenellales CAG-138        Phil1  \n",
       "⋮  ⋮        ⋮            ⋮            ⋮                  ⋮              ⋮      \n",
       "75 Bacteria Firmicutes_A Clostridia_A Christensenellales Borkfalkiaceae UBA4636\n",
       "76 Bacteria Firmicutes_A Clostridia_A Christensenellales CAG-138        Phil1  \n",
       "   Species           Completeness Contamination Strain.heterogeneity\n",
       "1  Phil1 sp001940855 98.39        0             0                   \n",
       "2  Phil1 sp001940855 99.19        0             0                   \n",
       "⋮  ⋮                 ⋮            ⋮             ⋮                   \n",
       "75 unclassified      63.46        0.03          100                 \n",
       "76 Phil1 sp001940855 99.19        0.00            0                 \n",
       "   Genome.size..bp. X..contigs N50..contigs. Mean.contig.length..bp.\n",
       "1  2229828          63         59908         35394                  \n",
       "2  2183900          98         36095         22284                  \n",
       "⋮  ⋮                ⋮          ⋮             ⋮                      \n",
       "75 1294155          397         3402          3259                  \n",
       "76 1924531           61        47515         31549                  \n",
       "   Longest.contig..bp. GC   Coding.density X..predicted.genes\n",
       "1  166984              52.8 90.20          2136              \n",
       "2  109973              52.6 89.84          2113              \n",
       "⋮  ⋮                   ⋮    ⋮              ⋮                 \n",
       "75  16255              45.5 88.72          1454              \n",
       "76 136878              53.3 90.10          1794              "
      ]
     },
     "metadata": {},
     "output_type": "display_data"
    }
   ],
   "source": [
    "TUK_f = TUK %>%\n",
    "    filter.(Completeness >= 0.9,\n",
    "            Contamination < 0.05,\n",
    "            X..contigs <= 500) %>%\n",
    "    filter.(Family != 'f__')\n",
    "TUK_f"
   ]
  },
  {
   "cell_type": "code",
   "execution_count": 33,
   "metadata": {
    "execution": {
     "iopub.execute_input": "2021-02-23T14:04:21.909399Z",
     "iopub.status.busy": "2021-02-23T14:04:21.905435Z",
     "iopub.status.idle": "2021-02-23T14:04:21.964595Z"
    }
   },
   "outputs": [
    {
     "data": {
      "text/html": [
       "76"
      ],
      "text/latex": [
       "76"
      ],
      "text/markdown": [
       "76"
      ],
      "text/plain": [
       "[1] 76"
      ]
     },
     "metadata": {},
     "output_type": "display_data"
    }
   ],
   "source": [
    "copy_file = function(F, base_dir){\n",
    "    outfile = file.path(base_dir, basename(F))\n",
    "    stopifnot(F != outfile)\n",
    "    file.copy(F, outfile)\n",
    "}\n",
    "res = TUK_f$Fasta %>%\n",
    "    lapply(copy_file, base_dir=file.path(work_dir, 'TUK'))\n",
    "res %>% length"
   ]
  },
  {
   "cell_type": "markdown",
   "metadata": {},
   "source": [
    "## T1k MAGs"
   ]
  },
  {
   "cell_type": "code",
   "execution_count": 34,
   "metadata": {
    "execution": {
     "iopub.execute_input": "2021-02-23T14:04:25.485113Z",
     "iopub.status.busy": "2021-02-23T14:04:25.481773Z",
     "iopub.status.idle": "2021-02-23T14:04:25.670245Z"
    }
   },
   "outputs": [
    {
     "data": {
      "text/html": [
       "<table class=\"dataframe\">\n",
       "<caption>A data.table: 2522 × 20</caption>\n",
       "<thead>\n",
       "\t<tr><th scope=col>Name</th><th scope=col>Fasta</th><th scope=col>Domain</th><th scope=col>Phylum</th><th scope=col>Class</th><th scope=col>Order</th><th scope=col>Family</th><th scope=col>Genus</th><th scope=col>Species</th><th scope=col>Completeness</th><th scope=col>Contamination</th><th scope=col>Strain.heterogeneity</th><th scope=col>Genome.size..bp.</th><th scope=col>X..contigs</th><th scope=col>N50..contigs.</th><th scope=col>Mean.contig.length..bp.</th><th scope=col>Longest.contig..bp.</th><th scope=col>GC</th><th scope=col>Coding.density</th><th scope=col>X..predicted.genes</th></tr>\n",
       "\t<tr><th scope=col>&lt;chr&gt;</th><th scope=col>&lt;chr&gt;</th><th scope=col>&lt;chr&gt;</th><th scope=col>&lt;chr&gt;</th><th scope=col>&lt;chr&gt;</th><th scope=col>&lt;chr&gt;</th><th scope=col>&lt;chr&gt;</th><th scope=col>&lt;chr&gt;</th><th scope=col>&lt;chr&gt;</th><th scope=col>&lt;dbl&gt;</th><th scope=col>&lt;dbl&gt;</th><th scope=col>&lt;dbl&gt;</th><th scope=col>&lt;int&gt;</th><th scope=col>&lt;int&gt;</th><th scope=col>&lt;int&gt;</th><th scope=col>&lt;int&gt;</th><th scope=col>&lt;int&gt;</th><th scope=col>&lt;dbl&gt;</th><th scope=col>&lt;dbl&gt;</th><th scope=col>&lt;int&gt;</th></tr>\n",
       "</thead>\n",
       "<tbody>\n",
       "\t<tr><td>AM140__metabat2__High.003   </td><td>/ebio/abt3_projects/Anxiety_Twins_Metagenomes/data/metagenome/Tulsa1000/LLMGA_v0.12/HiSeq_R160-163-169/LLG/rnd1/drep/drep/dereplicated_genomes/AM140__metabat2__High.003.fna   </td><td>Bacteria</td><td>Firmicutes_A</td><td>Clostridia   </td><td>Oscillospirales</td><td>Ruminococcaceae</td><td>Ruminococcus_D</td><td>Ruminococcus_D bicirculans</td><td>96.58</td><td>0.00</td><td> 0.0</td><td>2420017</td><td>157</td><td>27447</td><td>15414</td><td>70866</td><td>43.1</td><td>87.97</td><td>2239</td></tr>\n",
       "\t<tr><td>AP416__metabat2__Med.004_sub</td><td>/ebio/abt3_projects/Anxiety_Twins_Metagenomes/data/metagenome/Tulsa1000/LLMGA_v0.12/HiSeq_R160-163-169/LLG/rnd1/drep/drep/dereplicated_genomes/AP416__metabat2__Med.004_sub.fna</td><td>Bacteria</td><td>Firmicutes_C</td><td>Negativicutes</td><td>Veillonellales </td><td>Dialisteraceae </td><td>Dialister     </td><td>Dialister sp900541485     </td><td>63.98</td><td>3.42</td><td>12.5</td><td> 737017</td><td>148</td><td> 6693</td><td> 4979</td><td>33090</td><td>39.6</td><td>91.84</td><td> 807</td></tr>\n",
       "\t<tr><td>⋮</td><td>⋮</td><td>⋮</td><td>⋮</td><td>⋮</td><td>⋮</td><td>⋮</td><td>⋮</td><td>⋮</td><td>⋮</td><td>⋮</td><td>⋮</td><td>⋮</td><td>⋮</td><td>⋮</td><td>⋮</td><td>⋮</td><td>⋮</td><td>⋮</td><td>⋮</td></tr>\n",
       "\t<tr><td>BB280__vamb__Low.145_sub</td><td>/ebio/abt3_projects/Anxiety_Twins_Metagenomes/data/metagenome/Tulsa1000/LLMGA_v0.12/HiSeq_R160-163-169/LLG/rnd1/drep/drep/dereplicated_genomes/BB280__vamb__Low.145_sub.fna</td><td>Bacteria</td><td>Firmicutes  </td><td>Bacilli   </td><td>Erysipelotrichales</td><td>Erysipelotrichaceae</td><td>Holdemanella</td><td>Holdemanella sp002299315</td><td>66.51</td><td>0.41</td><td> 0.00</td><td>1299578</td><td>455</td><td> 3036</td><td> 2856</td><td>10694</td><td>34.2</td><td>91.17</td><td>1639</td></tr>\n",
       "\t<tr><td>BB280__vamb__Med.096    </td><td>/ebio/abt3_projects/Anxiety_Twins_Metagenomes/data/metagenome/Tulsa1000/LLMGA_v0.12/HiSeq_R160-163-169/LLG/rnd1/drep/drep/dereplicated_genomes/BB280__vamb__Med.096.fna    </td><td>Bacteria</td><td>Firmicutes_A</td><td>Clostridia</td><td>Lachnospirales    </td><td>Lachnospiraceae    </td><td>Agathobacter</td><td>Agathobacter faecis     </td><td>99.05</td><td>1.98</td><td>14.29</td><td>2762368</td><td>135</td><td>27606</td><td>20461</td><td>97447</td><td>43.7</td><td>90.78</td><td>2681</td></tr>\n",
       "</tbody>\n",
       "</table>\n"
      ],
      "text/latex": [
       "A data.table: 2522 × 20\n",
       "\\begin{tabular}{llllllllllllllllllll}\n",
       " Name & Fasta & Domain & Phylum & Class & Order & Family & Genus & Species & Completeness & Contamination & Strain.heterogeneity & Genome.size..bp. & X..contigs & N50..contigs. & Mean.contig.length..bp. & Longest.contig..bp. & GC & Coding.density & X..predicted.genes\\\\\n",
       " <chr> & <chr> & <chr> & <chr> & <chr> & <chr> & <chr> & <chr> & <chr> & <dbl> & <dbl> & <dbl> & <int> & <int> & <int> & <int> & <int> & <dbl> & <dbl> & <int>\\\\\n",
       "\\hline\n",
       "\t AM140\\_\\_metabat2\\_\\_High.003    & /ebio/abt3\\_projects/Anxiety\\_Twins\\_Metagenomes/data/metagenome/Tulsa1000/LLMGA\\_v0.12/HiSeq\\_R160-163-169/LLG/rnd1/drep/drep/dereplicated\\_genomes/AM140\\_\\_metabat2\\_\\_High.003.fna    & Bacteria & Firmicutes\\_A & Clostridia    & Oscillospirales & Ruminococcaceae & Ruminococcus\\_D & Ruminococcus\\_D bicirculans & 96.58 & 0.00 &  0.0 & 2420017 & 157 & 27447 & 15414 & 70866 & 43.1 & 87.97 & 2239\\\\\n",
       "\t AP416\\_\\_metabat2\\_\\_Med.004\\_sub & /ebio/abt3\\_projects/Anxiety\\_Twins\\_Metagenomes/data/metagenome/Tulsa1000/LLMGA\\_v0.12/HiSeq\\_R160-163-169/LLG/rnd1/drep/drep/dereplicated\\_genomes/AP416\\_\\_metabat2\\_\\_Med.004\\_sub.fna & Bacteria & Firmicutes\\_C & Negativicutes & Veillonellales  & Dialisteraceae  & Dialister      & Dialister sp900541485      & 63.98 & 3.42 & 12.5 &  737017 & 148 &  6693 &  4979 & 33090 & 39.6 & 91.84 &  807\\\\\n",
       "\t ⋮ & ⋮ & ⋮ & ⋮ & ⋮ & ⋮ & ⋮ & ⋮ & ⋮ & ⋮ & ⋮ & ⋮ & ⋮ & ⋮ & ⋮ & ⋮ & ⋮ & ⋮ & ⋮ & ⋮\\\\\n",
       "\t BB280\\_\\_vamb\\_\\_Low.145\\_sub & /ebio/abt3\\_projects/Anxiety\\_Twins\\_Metagenomes/data/metagenome/Tulsa1000/LLMGA\\_v0.12/HiSeq\\_R160-163-169/LLG/rnd1/drep/drep/dereplicated\\_genomes/BB280\\_\\_vamb\\_\\_Low.145\\_sub.fna & Bacteria & Firmicutes   & Bacilli    & Erysipelotrichales & Erysipelotrichaceae & Holdemanella & Holdemanella sp002299315 & 66.51 & 0.41 &  0.00 & 1299578 & 455 &  3036 &  2856 & 10694 & 34.2 & 91.17 & 1639\\\\\n",
       "\t BB280\\_\\_vamb\\_\\_Med.096     & /ebio/abt3\\_projects/Anxiety\\_Twins\\_Metagenomes/data/metagenome/Tulsa1000/LLMGA\\_v0.12/HiSeq\\_R160-163-169/LLG/rnd1/drep/drep/dereplicated\\_genomes/BB280\\_\\_vamb\\_\\_Med.096.fna     & Bacteria & Firmicutes\\_A & Clostridia & Lachnospirales     & Lachnospiraceae     & Agathobacter & Agathobacter faecis      & 99.05 & 1.98 & 14.29 & 2762368 & 135 & 27606 & 20461 & 97447 & 43.7 & 90.78 & 2681\\\\\n",
       "\\end{tabular}\n"
      ],
      "text/markdown": [
       "\n",
       "A data.table: 2522 × 20\n",
       "\n",
       "| Name &lt;chr&gt; | Fasta &lt;chr&gt; | Domain &lt;chr&gt; | Phylum &lt;chr&gt; | Class &lt;chr&gt; | Order &lt;chr&gt; | Family &lt;chr&gt; | Genus &lt;chr&gt; | Species &lt;chr&gt; | Completeness &lt;dbl&gt; | Contamination &lt;dbl&gt; | Strain.heterogeneity &lt;dbl&gt; | Genome.size..bp. &lt;int&gt; | X..contigs &lt;int&gt; | N50..contigs. &lt;int&gt; | Mean.contig.length..bp. &lt;int&gt; | Longest.contig..bp. &lt;int&gt; | GC &lt;dbl&gt; | Coding.density &lt;dbl&gt; | X..predicted.genes &lt;int&gt; |\n",
       "|---|---|---|---|---|---|---|---|---|---|---|---|---|---|---|---|---|---|---|---|\n",
       "| AM140__metabat2__High.003    | /ebio/abt3_projects/Anxiety_Twins_Metagenomes/data/metagenome/Tulsa1000/LLMGA_v0.12/HiSeq_R160-163-169/LLG/rnd1/drep/drep/dereplicated_genomes/AM140__metabat2__High.003.fna    | Bacteria | Firmicutes_A | Clostridia    | Oscillospirales | Ruminococcaceae | Ruminococcus_D | Ruminococcus_D bicirculans | 96.58 | 0.00 |  0.0 | 2420017 | 157 | 27447 | 15414 | 70866 | 43.1 | 87.97 | 2239 |\n",
       "| AP416__metabat2__Med.004_sub | /ebio/abt3_projects/Anxiety_Twins_Metagenomes/data/metagenome/Tulsa1000/LLMGA_v0.12/HiSeq_R160-163-169/LLG/rnd1/drep/drep/dereplicated_genomes/AP416__metabat2__Med.004_sub.fna | Bacteria | Firmicutes_C | Negativicutes | Veillonellales  | Dialisteraceae  | Dialister      | Dialister sp900541485      | 63.98 | 3.42 | 12.5 |  737017 | 148 |  6693 |  4979 | 33090 | 39.6 | 91.84 |  807 |\n",
       "| ⋮ | ⋮ | ⋮ | ⋮ | ⋮ | ⋮ | ⋮ | ⋮ | ⋮ | ⋮ | ⋮ | ⋮ | ⋮ | ⋮ | ⋮ | ⋮ | ⋮ | ⋮ | ⋮ | ⋮ |\n",
       "| BB280__vamb__Low.145_sub | /ebio/abt3_projects/Anxiety_Twins_Metagenomes/data/metagenome/Tulsa1000/LLMGA_v0.12/HiSeq_R160-163-169/LLG/rnd1/drep/drep/dereplicated_genomes/BB280__vamb__Low.145_sub.fna | Bacteria | Firmicutes   | Bacilli    | Erysipelotrichales | Erysipelotrichaceae | Holdemanella | Holdemanella sp002299315 | 66.51 | 0.41 |  0.00 | 1299578 | 455 |  3036 |  2856 | 10694 | 34.2 | 91.17 | 1639 |\n",
       "| BB280__vamb__Med.096     | /ebio/abt3_projects/Anxiety_Twins_Metagenomes/data/metagenome/Tulsa1000/LLMGA_v0.12/HiSeq_R160-163-169/LLG/rnd1/drep/drep/dereplicated_genomes/BB280__vamb__Med.096.fna     | Bacteria | Firmicutes_A | Clostridia | Lachnospirales     | Lachnospiraceae     | Agathobacter | Agathobacter faecis      | 99.05 | 1.98 | 14.29 | 2762368 | 135 | 27606 | 20461 | 97447 | 43.7 | 90.78 | 2681 |\n",
       "\n"
      ],
      "text/plain": [
       "     Name                        \n",
       "1    AM140__metabat2__High.003   \n",
       "2    AP416__metabat2__Med.004_sub\n",
       "⋮    ⋮                           \n",
       "2521 BB280__vamb__Low.145_sub    \n",
       "2522 BB280__vamb__Med.096        \n",
       "     Fasta                                                                                                                                                                          \n",
       "1    /ebio/abt3_projects/Anxiety_Twins_Metagenomes/data/metagenome/Tulsa1000/LLMGA_v0.12/HiSeq_R160-163-169/LLG/rnd1/drep/drep/dereplicated_genomes/AM140__metabat2__High.003.fna   \n",
       "2    /ebio/abt3_projects/Anxiety_Twins_Metagenomes/data/metagenome/Tulsa1000/LLMGA_v0.12/HiSeq_R160-163-169/LLG/rnd1/drep/drep/dereplicated_genomes/AP416__metabat2__Med.004_sub.fna\n",
       "⋮    ⋮                                                                                                                                                                              \n",
       "2521 /ebio/abt3_projects/Anxiety_Twins_Metagenomes/data/metagenome/Tulsa1000/LLMGA_v0.12/HiSeq_R160-163-169/LLG/rnd1/drep/drep/dereplicated_genomes/BB280__vamb__Low.145_sub.fna    \n",
       "2522 /ebio/abt3_projects/Anxiety_Twins_Metagenomes/data/metagenome/Tulsa1000/LLMGA_v0.12/HiSeq_R160-163-169/LLG/rnd1/drep/drep/dereplicated_genomes/BB280__vamb__Med.096.fna        \n",
       "     Domain   Phylum       Class         Order              Family             \n",
       "1    Bacteria Firmicutes_A Clostridia    Oscillospirales    Ruminococcaceae    \n",
       "2    Bacteria Firmicutes_C Negativicutes Veillonellales     Dialisteraceae     \n",
       "⋮    ⋮        ⋮            ⋮             ⋮                  ⋮                  \n",
       "2521 Bacteria Firmicutes   Bacilli       Erysipelotrichales Erysipelotrichaceae\n",
       "2522 Bacteria Firmicutes_A Clostridia    Lachnospirales     Lachnospiraceae    \n",
       "     Genus          Species                    Completeness Contamination\n",
       "1    Ruminococcus_D Ruminococcus_D bicirculans 96.58        0.00         \n",
       "2    Dialister      Dialister sp900541485      63.98        3.42         \n",
       "⋮    ⋮              ⋮                          ⋮            ⋮            \n",
       "2521 Holdemanella   Holdemanella sp002299315   66.51        0.41         \n",
       "2522 Agathobacter   Agathobacter faecis        99.05        1.98         \n",
       "     Strain.heterogeneity Genome.size..bp. X..contigs N50..contigs.\n",
       "1     0.0                 2420017          157        27447        \n",
       "2    12.5                  737017          148         6693        \n",
       "⋮    ⋮                    ⋮                ⋮          ⋮            \n",
       "2521  0.00                1299578          455         3036        \n",
       "2522 14.29                2762368          135        27606        \n",
       "     Mean.contig.length..bp. Longest.contig..bp. GC   Coding.density\n",
       "1    15414                   70866               43.1 87.97         \n",
       "2     4979                   33090               39.6 91.84         \n",
       "⋮    ⋮                       ⋮                   ⋮    ⋮             \n",
       "2521  2856                   10694               34.2 91.17         \n",
       "2522 20461                   97447               43.7 90.78         \n",
       "     X..predicted.genes\n",
       "1    2239              \n",
       "2     807              \n",
       "⋮    ⋮                 \n",
       "2521 1639              \n",
       "2522 2681              "
      ]
     },
     "metadata": {},
     "output_type": "display_data"
    }
   ],
   "source": [
    "F =  '/ebio/abt3_projects/Anxiety_Twins_Metagenomes/data/metagenome/Tulsa1000/LLMGA_v0.12/HiSeq_R160-163-169/LLG//rnd1/final_MAGs.tsv'\n",
    "T1k = Fread(F)\n",
    "T1k"
   ]
  },
  {
   "cell_type": "code",
   "execution_count": 35,
   "metadata": {
    "execution": {
     "iopub.execute_input": "2021-02-23T14:04:27.563450Z",
     "iopub.status.busy": "2021-02-23T14:04:27.561576Z",
     "iopub.status.idle": "2021-02-23T14:04:27.623681Z"
    }
   },
   "outputs": [
    {
     "data": {
      "text/html": [
       "<table class=\"dataframe\">\n",
       "<caption>A tidytable: 33 × 20</caption>\n",
       "<thead>\n",
       "\t<tr><th scope=col>Name</th><th scope=col>Fasta</th><th scope=col>Domain</th><th scope=col>Phylum</th><th scope=col>Class</th><th scope=col>Order</th><th scope=col>Family</th><th scope=col>Genus</th><th scope=col>Species</th><th scope=col>Completeness</th><th scope=col>Contamination</th><th scope=col>Strain.heterogeneity</th><th scope=col>Genome.size..bp.</th><th scope=col>X..contigs</th><th scope=col>N50..contigs.</th><th scope=col>Mean.contig.length..bp.</th><th scope=col>Longest.contig..bp.</th><th scope=col>GC</th><th scope=col>Coding.density</th><th scope=col>X..predicted.genes</th></tr>\n",
       "\t<tr><th scope=col>&lt;chr&gt;</th><th scope=col>&lt;chr&gt;</th><th scope=col>&lt;chr&gt;</th><th scope=col>&lt;chr&gt;</th><th scope=col>&lt;chr&gt;</th><th scope=col>&lt;chr&gt;</th><th scope=col>&lt;chr&gt;</th><th scope=col>&lt;chr&gt;</th><th scope=col>&lt;chr&gt;</th><th scope=col>&lt;dbl&gt;</th><th scope=col>&lt;dbl&gt;</th><th scope=col>&lt;dbl&gt;</th><th scope=col>&lt;int&gt;</th><th scope=col>&lt;int&gt;</th><th scope=col>&lt;int&gt;</th><th scope=col>&lt;int&gt;</th><th scope=col>&lt;int&gt;</th><th scope=col>&lt;dbl&gt;</th><th scope=col>&lt;dbl&gt;</th><th scope=col>&lt;int&gt;</th></tr>\n",
       "</thead>\n",
       "<tbody>\n",
       "\t<tr><td>AT573__metabat2__HighNoCov.002</td><td>/ebio/abt3_projects/Anxiety_Twins_Metagenomes/data/metagenome/Tulsa1000/LLMGA_v0.12/HiSeq_R160-163-169/LLG/rnd1/drep/drep/dereplicated_genomes/AT573__metabat2__HighNoCov.002.fna</td><td>Bacteria</td><td>Firmicutes_A</td><td>Clostridia_A</td><td>Christensenellales</td><td>CAG-138</td><td>Phil1  </td><td>Phil1 sp001940855  </td><td>99.19</td><td>0.00</td><td>0</td><td>2369272</td><td>65</td><td>66039</td><td>36450</td><td>232224</td><td>52.5</td><td>90.05</td><td>2292</td></tr>\n",
       "\t<tr><td>AX681__metabat2__Med.017      </td><td>/ebio/abt3_projects/Anxiety_Twins_Metagenomes/data/metagenome/Tulsa1000/LLMGA_v0.12/HiSeq_R160-163-169/LLG/rnd1/drep/drep/dereplicated_genomes/AX681__metabat2__Med.017.fna      </td><td>Bacteria</td><td>Firmicutes_A</td><td>Clostridia_A</td><td>Christensenellales</td><td>CAG-314</td><td>CAG-314</td><td>CAG-314 sp000437915</td><td>93.95</td><td>1.61</td><td>0</td><td>1443486</td><td>45</td><td>70685</td><td>32077</td><td>148713</td><td>49.2</td><td>90.72</td><td>1298</td></tr>\n",
       "\t<tr><td>⋮</td><td>⋮</td><td>⋮</td><td>⋮</td><td>⋮</td><td>⋮</td><td>⋮</td><td>⋮</td><td>⋮</td><td>⋮</td><td>⋮</td><td>⋮</td><td>⋮</td><td>⋮</td><td>⋮</td><td>⋮</td><td>⋮</td><td>⋮</td><td>⋮</td><td>⋮</td></tr>\n",
       "\t<tr><td>AT573__maxbin2__Low.011_sub</td><td>/ebio/abt3_projects/Anxiety_Twins_Metagenomes/data/metagenome/Tulsa1000/LLMGA_v0.12/HiSeq_R160-163-169/LLG/rnd1/drep/drep/dereplicated_genomes/AT573__maxbin2__Low.011_sub.fna</td><td>Bacteria</td><td>Firmicutes_A</td><td>Clostridia_A</td><td>Christensenellales</td><td>CAG-917</td><td>CAG-349</td><td>CAG-349 sp003539515</td><td>92.40</td><td>2.10</td><td>0</td><td>1769393</td><td>27</td><td>366008</td><td>65533</td><td>577376</td><td>47.3</td><td>90.06</td><td>1608</td></tr>\n",
       "\t<tr><td>AV958__metabat2__Med.056   </td><td>/ebio/abt3_projects/Anxiety_Twins_Metagenomes/data/metagenome/Tulsa1000/LLMGA_v0.12/HiSeq_R160-163-169/LLG/rnd1/drep/drep/dereplicated_genomes/AV958__metabat2__Med.056.fna   </td><td>Bacteria</td><td>Firmicutes_A</td><td>Clostridia_A</td><td>Christensenellales</td><td>CAG-314</td><td>CAG-314</td><td>CAG-314 sp000437915</td><td>93.95</td><td>0.81</td><td>0</td><td>1588990</td><td>28</td><td>114674</td><td>56749</td><td>246228</td><td>48.4</td><td>90.25</td><td>1415</td></tr>\n",
       "</tbody>\n",
       "</table>\n"
      ],
      "text/latex": [
       "A tidytable: 33 × 20\n",
       "\\begin{tabular}{llllllllllllllllllll}\n",
       " Name & Fasta & Domain & Phylum & Class & Order & Family & Genus & Species & Completeness & Contamination & Strain.heterogeneity & Genome.size..bp. & X..contigs & N50..contigs. & Mean.contig.length..bp. & Longest.contig..bp. & GC & Coding.density & X..predicted.genes\\\\\n",
       " <chr> & <chr> & <chr> & <chr> & <chr> & <chr> & <chr> & <chr> & <chr> & <dbl> & <dbl> & <dbl> & <int> & <int> & <int> & <int> & <int> & <dbl> & <dbl> & <int>\\\\\n",
       "\\hline\n",
       "\t AT573\\_\\_metabat2\\_\\_HighNoCov.002 & /ebio/abt3\\_projects/Anxiety\\_Twins\\_Metagenomes/data/metagenome/Tulsa1000/LLMGA\\_v0.12/HiSeq\\_R160-163-169/LLG/rnd1/drep/drep/dereplicated\\_genomes/AT573\\_\\_metabat2\\_\\_HighNoCov.002.fna & Bacteria & Firmicutes\\_A & Clostridia\\_A & Christensenellales & CAG-138 & Phil1   & Phil1 sp001940855   & 99.19 & 0.00 & 0 & 2369272 & 65 & 66039 & 36450 & 232224 & 52.5 & 90.05 & 2292\\\\\n",
       "\t AX681\\_\\_metabat2\\_\\_Med.017       & /ebio/abt3\\_projects/Anxiety\\_Twins\\_Metagenomes/data/metagenome/Tulsa1000/LLMGA\\_v0.12/HiSeq\\_R160-163-169/LLG/rnd1/drep/drep/dereplicated\\_genomes/AX681\\_\\_metabat2\\_\\_Med.017.fna       & Bacteria & Firmicutes\\_A & Clostridia\\_A & Christensenellales & CAG-314 & CAG-314 & CAG-314 sp000437915 & 93.95 & 1.61 & 0 & 1443486 & 45 & 70685 & 32077 & 148713 & 49.2 & 90.72 & 1298\\\\\n",
       "\t ⋮ & ⋮ & ⋮ & ⋮ & ⋮ & ⋮ & ⋮ & ⋮ & ⋮ & ⋮ & ⋮ & ⋮ & ⋮ & ⋮ & ⋮ & ⋮ & ⋮ & ⋮ & ⋮ & ⋮\\\\\n",
       "\t AT573\\_\\_maxbin2\\_\\_Low.011\\_sub & /ebio/abt3\\_projects/Anxiety\\_Twins\\_Metagenomes/data/metagenome/Tulsa1000/LLMGA\\_v0.12/HiSeq\\_R160-163-169/LLG/rnd1/drep/drep/dereplicated\\_genomes/AT573\\_\\_maxbin2\\_\\_Low.011\\_sub.fna & Bacteria & Firmicutes\\_A & Clostridia\\_A & Christensenellales & CAG-917 & CAG-349 & CAG-349 sp003539515 & 92.40 & 2.10 & 0 & 1769393 & 27 & 366008 & 65533 & 577376 & 47.3 & 90.06 & 1608\\\\\n",
       "\t AV958\\_\\_metabat2\\_\\_Med.056    & /ebio/abt3\\_projects/Anxiety\\_Twins\\_Metagenomes/data/metagenome/Tulsa1000/LLMGA\\_v0.12/HiSeq\\_R160-163-169/LLG/rnd1/drep/drep/dereplicated\\_genomes/AV958\\_\\_metabat2\\_\\_Med.056.fna    & Bacteria & Firmicutes\\_A & Clostridia\\_A & Christensenellales & CAG-314 & CAG-314 & CAG-314 sp000437915 & 93.95 & 0.81 & 0 & 1588990 & 28 & 114674 & 56749 & 246228 & 48.4 & 90.25 & 1415\\\\\n",
       "\\end{tabular}\n"
      ],
      "text/markdown": [
       "\n",
       "A tidytable: 33 × 20\n",
       "\n",
       "| Name &lt;chr&gt; | Fasta &lt;chr&gt; | Domain &lt;chr&gt; | Phylum &lt;chr&gt; | Class &lt;chr&gt; | Order &lt;chr&gt; | Family &lt;chr&gt; | Genus &lt;chr&gt; | Species &lt;chr&gt; | Completeness &lt;dbl&gt; | Contamination &lt;dbl&gt; | Strain.heterogeneity &lt;dbl&gt; | Genome.size..bp. &lt;int&gt; | X..contigs &lt;int&gt; | N50..contigs. &lt;int&gt; | Mean.contig.length..bp. &lt;int&gt; | Longest.contig..bp. &lt;int&gt; | GC &lt;dbl&gt; | Coding.density &lt;dbl&gt; | X..predicted.genes &lt;int&gt; |\n",
       "|---|---|---|---|---|---|---|---|---|---|---|---|---|---|---|---|---|---|---|---|\n",
       "| AT573__metabat2__HighNoCov.002 | /ebio/abt3_projects/Anxiety_Twins_Metagenomes/data/metagenome/Tulsa1000/LLMGA_v0.12/HiSeq_R160-163-169/LLG/rnd1/drep/drep/dereplicated_genomes/AT573__metabat2__HighNoCov.002.fna | Bacteria | Firmicutes_A | Clostridia_A | Christensenellales | CAG-138 | Phil1   | Phil1 sp001940855   | 99.19 | 0.00 | 0 | 2369272 | 65 | 66039 | 36450 | 232224 | 52.5 | 90.05 | 2292 |\n",
       "| AX681__metabat2__Med.017       | /ebio/abt3_projects/Anxiety_Twins_Metagenomes/data/metagenome/Tulsa1000/LLMGA_v0.12/HiSeq_R160-163-169/LLG/rnd1/drep/drep/dereplicated_genomes/AX681__metabat2__Med.017.fna       | Bacteria | Firmicutes_A | Clostridia_A | Christensenellales | CAG-314 | CAG-314 | CAG-314 sp000437915 | 93.95 | 1.61 | 0 | 1443486 | 45 | 70685 | 32077 | 148713 | 49.2 | 90.72 | 1298 |\n",
       "| ⋮ | ⋮ | ⋮ | ⋮ | ⋮ | ⋮ | ⋮ | ⋮ | ⋮ | ⋮ | ⋮ | ⋮ | ⋮ | ⋮ | ⋮ | ⋮ | ⋮ | ⋮ | ⋮ | ⋮ |\n",
       "| AT573__maxbin2__Low.011_sub | /ebio/abt3_projects/Anxiety_Twins_Metagenomes/data/metagenome/Tulsa1000/LLMGA_v0.12/HiSeq_R160-163-169/LLG/rnd1/drep/drep/dereplicated_genomes/AT573__maxbin2__Low.011_sub.fna | Bacteria | Firmicutes_A | Clostridia_A | Christensenellales | CAG-917 | CAG-349 | CAG-349 sp003539515 | 92.40 | 2.10 | 0 | 1769393 | 27 | 366008 | 65533 | 577376 | 47.3 | 90.06 | 1608 |\n",
       "| AV958__metabat2__Med.056    | /ebio/abt3_projects/Anxiety_Twins_Metagenomes/data/metagenome/Tulsa1000/LLMGA_v0.12/HiSeq_R160-163-169/LLG/rnd1/drep/drep/dereplicated_genomes/AV958__metabat2__Med.056.fna    | Bacteria | Firmicutes_A | Clostridia_A | Christensenellales | CAG-314 | CAG-314 | CAG-314 sp000437915 | 93.95 | 0.81 | 0 | 1588990 | 28 | 114674 | 56749 | 246228 | 48.4 | 90.25 | 1415 |\n",
       "\n"
      ],
      "text/plain": [
       "   Name                          \n",
       "1  AT573__metabat2__HighNoCov.002\n",
       "2  AX681__metabat2__Med.017      \n",
       "⋮  ⋮                             \n",
       "32 AT573__maxbin2__Low.011_sub   \n",
       "33 AV958__metabat2__Med.056      \n",
       "   Fasta                                                                                                                                                                            \n",
       "1  /ebio/abt3_projects/Anxiety_Twins_Metagenomes/data/metagenome/Tulsa1000/LLMGA_v0.12/HiSeq_R160-163-169/LLG/rnd1/drep/drep/dereplicated_genomes/AT573__metabat2__HighNoCov.002.fna\n",
       "2  /ebio/abt3_projects/Anxiety_Twins_Metagenomes/data/metagenome/Tulsa1000/LLMGA_v0.12/HiSeq_R160-163-169/LLG/rnd1/drep/drep/dereplicated_genomes/AX681__metabat2__Med.017.fna      \n",
       "⋮  ⋮                                                                                                                                                                                \n",
       "32 /ebio/abt3_projects/Anxiety_Twins_Metagenomes/data/metagenome/Tulsa1000/LLMGA_v0.12/HiSeq_R160-163-169/LLG/rnd1/drep/drep/dereplicated_genomes/AT573__maxbin2__Low.011_sub.fna   \n",
       "33 /ebio/abt3_projects/Anxiety_Twins_Metagenomes/data/metagenome/Tulsa1000/LLMGA_v0.12/HiSeq_R160-163-169/LLG/rnd1/drep/drep/dereplicated_genomes/AV958__metabat2__Med.056.fna      \n",
       "   Domain   Phylum       Class        Order              Family  Genus  \n",
       "1  Bacteria Firmicutes_A Clostridia_A Christensenellales CAG-138 Phil1  \n",
       "2  Bacteria Firmicutes_A Clostridia_A Christensenellales CAG-314 CAG-314\n",
       "⋮  ⋮        ⋮            ⋮            ⋮                  ⋮       ⋮      \n",
       "32 Bacteria Firmicutes_A Clostridia_A Christensenellales CAG-917 CAG-349\n",
       "33 Bacteria Firmicutes_A Clostridia_A Christensenellales CAG-314 CAG-314\n",
       "   Species             Completeness Contamination Strain.heterogeneity\n",
       "1  Phil1 sp001940855   99.19        0.00          0                   \n",
       "2  CAG-314 sp000437915 93.95        1.61          0                   \n",
       "⋮  ⋮                   ⋮            ⋮             ⋮                   \n",
       "32 CAG-349 sp003539515 92.40        2.10          0                   \n",
       "33 CAG-314 sp000437915 93.95        0.81          0                   \n",
       "   Genome.size..bp. X..contigs N50..contigs. Mean.contig.length..bp.\n",
       "1  2369272          65         66039         36450                  \n",
       "2  1443486          45         70685         32077                  \n",
       "⋮  ⋮                ⋮          ⋮             ⋮                      \n",
       "32 1769393          27         366008        65533                  \n",
       "33 1588990          28         114674        56749                  \n",
       "   Longest.contig..bp. GC   Coding.density X..predicted.genes\n",
       "1  232224              52.5 90.05          2292              \n",
       "2  148713              49.2 90.72          1298              \n",
       "⋮  ⋮                   ⋮    ⋮              ⋮                 \n",
       "32 577376              47.3 90.06          1608              \n",
       "33 246228              48.4 90.25          1415              "
      ]
     },
     "metadata": {},
     "output_type": "display_data"
    }
   ],
   "source": [
    "T1k = T1k %>%\n",
    "    filter.(Order == 'Christensenellales')\n",
    "T1k"
   ]
  },
  {
   "cell_type": "code",
   "execution_count": 36,
   "metadata": {
    "execution": {
     "iopub.execute_input": "2021-02-23T14:04:45.925676Z",
     "iopub.status.busy": "2021-02-23T14:04:45.923146Z",
     "iopub.status.idle": "2021-02-23T14:04:45.982046Z"
    }
   },
   "outputs": [
    {
     "data": {
      "text/html": [
       "<table class=\"dataframe\">\n",
       "<caption>A tidytable: 6 × 20</caption>\n",
       "<thead>\n",
       "\t<tr><th scope=col>Name</th><th scope=col>Fasta</th><th scope=col>Domain</th><th scope=col>Phylum</th><th scope=col>Class</th><th scope=col>Order</th><th scope=col>Family</th><th scope=col>Genus</th><th scope=col>Species</th><th scope=col>Completeness</th><th scope=col>Contamination</th><th scope=col>Strain.heterogeneity</th><th scope=col>Genome.size..bp.</th><th scope=col>X..contigs</th><th scope=col>N50..contigs.</th><th scope=col>Mean.contig.length..bp.</th><th scope=col>Longest.contig..bp.</th><th scope=col>GC</th><th scope=col>Coding.density</th><th scope=col>X..predicted.genes</th></tr>\n",
       "\t<tr><th scope=col>&lt;chr&gt;</th><th scope=col>&lt;chr&gt;</th><th scope=col>&lt;chr&gt;</th><th scope=col>&lt;chr&gt;</th><th scope=col>&lt;chr&gt;</th><th scope=col>&lt;chr&gt;</th><th scope=col>&lt;chr&gt;</th><th scope=col>&lt;chr&gt;</th><th scope=col>&lt;chr&gt;</th><th scope=col>&lt;dbl&gt;</th><th scope=col>&lt;dbl&gt;</th><th scope=col>&lt;dbl&gt;</th><th scope=col>&lt;int&gt;</th><th scope=col>&lt;int&gt;</th><th scope=col>&lt;int&gt;</th><th scope=col>&lt;int&gt;</th><th scope=col>&lt;int&gt;</th><th scope=col>&lt;dbl&gt;</th><th scope=col>&lt;dbl&gt;</th><th scope=col>&lt;int&gt;</th></tr>\n",
       "</thead>\n",
       "<tbody>\n",
       "\t<tr><td>AT573__metabat2__HighNoCov.002</td><td>/ebio/abt3_projects/Anxiety_Twins_Metagenomes/data/metagenome/Tulsa1000/LLMGA_v0.12/HiSeq_R160-163-169/LLG/rnd1/drep/drep/dereplicated_genomes/AT573__metabat2__HighNoCov.002.fna</td><td>Bacteria</td><td>Firmicutes_A</td><td>Clostridia_A</td><td>Christensenellales</td><td>CAG-138</td><td>Phil1  </td><td>Phil1 sp001940855  </td><td>99.19</td><td>0</td><td>0</td><td>2369272</td><td>65</td><td>66039</td><td>36450</td><td>232224</td><td>52.5</td><td>90.05</td><td>2292</td></tr>\n",
       "\t<tr><td>AW108__metabat2__HighNoCov.004</td><td>/ebio/abt3_projects/Anxiety_Twins_Metagenomes/data/metagenome/Tulsa1000/LLMGA_v0.12/HiSeq_R160-163-169/LLG/rnd1/drep/drep/dereplicated_genomes/AW108__metabat2__HighNoCov.004.fna</td><td>Bacteria</td><td>Firmicutes_A</td><td>Clostridia_A</td><td>Christensenellales</td><td>CAG-917</td><td>CAG-475</td><td>CAG-475 sp000434435</td><td>83.56</td><td>0</td><td>0</td><td>1563909</td><td>41</td><td>50516</td><td>38144</td><td>148342</td><td>46.8</td><td>87.09</td><td>1298</td></tr>\n",
       "\t<tr><td>⋮</td><td>⋮</td><td>⋮</td><td>⋮</td><td>⋮</td><td>⋮</td><td>⋮</td><td>⋮</td><td>⋮</td><td>⋮</td><td>⋮</td><td>⋮</td><td>⋮</td><td>⋮</td><td>⋮</td><td>⋮</td><td>⋮</td><td>⋮</td><td>⋮</td><td>⋮</td></tr>\n",
       "\t<tr><td>AS988__metabat2__MedNoCov.013 </td><td>/ebio/abt3_projects/Anxiety_Twins_Metagenomes/data/metagenome/Tulsa1000/LLMGA_v0.12/HiSeq_R160-163-169/LLG/rnd1/drep/drep/dereplicated_genomes/AS988__metabat2__MedNoCov.013.fna </td><td>Bacteria</td><td>Firmicutes_A</td><td>Clostridia_A</td><td>Christensenellales</td><td>CAG-314</td><td>CAG-314</td><td>                   </td><td>83.47</td><td>0.03</td><td>0</td><td>1390176</td><td>184</td><td> 11215</td><td> 7555</td><td> 46136</td><td>49.3</td><td>89.24</td><td>1345</td></tr>\n",
       "\t<tr><td>AR644__metabat2__HighNoCov.010</td><td>/ebio/abt3_projects/Anxiety_Twins_Metagenomes/data/metagenome/Tulsa1000/LLMGA_v0.12/HiSeq_R160-163-169/LLG/rnd1/drep/drep/dereplicated_genomes/AR644__metabat2__HighNoCov.010.fna</td><td>Bacteria</td><td>Firmicutes_A</td><td>Clostridia_A</td><td>Christensenellales</td><td>CAG-917</td><td>CAG-475</td><td>CAG-475 sp000434435</td><td>85.46</td><td>0.00</td><td>0</td><td>1569791</td><td> 26</td><td>102156</td><td>60376</td><td>263332</td><td>46.4</td><td>86.72</td><td>1327</td></tr>\n",
       "</tbody>\n",
       "</table>\n"
      ],
      "text/latex": [
       "A tidytable: 6 × 20\n",
       "\\begin{tabular}{llllllllllllllllllll}\n",
       " Name & Fasta & Domain & Phylum & Class & Order & Family & Genus & Species & Completeness & Contamination & Strain.heterogeneity & Genome.size..bp. & X..contigs & N50..contigs. & Mean.contig.length..bp. & Longest.contig..bp. & GC & Coding.density & X..predicted.genes\\\\\n",
       " <chr> & <chr> & <chr> & <chr> & <chr> & <chr> & <chr> & <chr> & <chr> & <dbl> & <dbl> & <dbl> & <int> & <int> & <int> & <int> & <int> & <dbl> & <dbl> & <int>\\\\\n",
       "\\hline\n",
       "\t AT573\\_\\_metabat2\\_\\_HighNoCov.002 & /ebio/abt3\\_projects/Anxiety\\_Twins\\_Metagenomes/data/metagenome/Tulsa1000/LLMGA\\_v0.12/HiSeq\\_R160-163-169/LLG/rnd1/drep/drep/dereplicated\\_genomes/AT573\\_\\_metabat2\\_\\_HighNoCov.002.fna & Bacteria & Firmicutes\\_A & Clostridia\\_A & Christensenellales & CAG-138 & Phil1   & Phil1 sp001940855   & 99.19 & 0 & 0 & 2369272 & 65 & 66039 & 36450 & 232224 & 52.5 & 90.05 & 2292\\\\\n",
       "\t AW108\\_\\_metabat2\\_\\_HighNoCov.004 & /ebio/abt3\\_projects/Anxiety\\_Twins\\_Metagenomes/data/metagenome/Tulsa1000/LLMGA\\_v0.12/HiSeq\\_R160-163-169/LLG/rnd1/drep/drep/dereplicated\\_genomes/AW108\\_\\_metabat2\\_\\_HighNoCov.004.fna & Bacteria & Firmicutes\\_A & Clostridia\\_A & Christensenellales & CAG-917 & CAG-475 & CAG-475 sp000434435 & 83.56 & 0 & 0 & 1563909 & 41 & 50516 & 38144 & 148342 & 46.8 & 87.09 & 1298\\\\\n",
       "\t ⋮ & ⋮ & ⋮ & ⋮ & ⋮ & ⋮ & ⋮ & ⋮ & ⋮ & ⋮ & ⋮ & ⋮ & ⋮ & ⋮ & ⋮ & ⋮ & ⋮ & ⋮ & ⋮ & ⋮\\\\\n",
       "\t AS988\\_\\_metabat2\\_\\_MedNoCov.013  & /ebio/abt3\\_projects/Anxiety\\_Twins\\_Metagenomes/data/metagenome/Tulsa1000/LLMGA\\_v0.12/HiSeq\\_R160-163-169/LLG/rnd1/drep/drep/dereplicated\\_genomes/AS988\\_\\_metabat2\\_\\_MedNoCov.013.fna  & Bacteria & Firmicutes\\_A & Clostridia\\_A & Christensenellales & CAG-314 & CAG-314 &                     & 83.47 & 0.03 & 0 & 1390176 & 184 &  11215 &  7555 &  46136 & 49.3 & 89.24 & 1345\\\\\n",
       "\t AR644\\_\\_metabat2\\_\\_HighNoCov.010 & /ebio/abt3\\_projects/Anxiety\\_Twins\\_Metagenomes/data/metagenome/Tulsa1000/LLMGA\\_v0.12/HiSeq\\_R160-163-169/LLG/rnd1/drep/drep/dereplicated\\_genomes/AR644\\_\\_metabat2\\_\\_HighNoCov.010.fna & Bacteria & Firmicutes\\_A & Clostridia\\_A & Christensenellales & CAG-917 & CAG-475 & CAG-475 sp000434435 & 85.46 & 0.00 & 0 & 1569791 &  26 & 102156 & 60376 & 263332 & 46.4 & 86.72 & 1327\\\\\n",
       "\\end{tabular}\n"
      ],
      "text/markdown": [
       "\n",
       "A tidytable: 6 × 20\n",
       "\n",
       "| Name &lt;chr&gt; | Fasta &lt;chr&gt; | Domain &lt;chr&gt; | Phylum &lt;chr&gt; | Class &lt;chr&gt; | Order &lt;chr&gt; | Family &lt;chr&gt; | Genus &lt;chr&gt; | Species &lt;chr&gt; | Completeness &lt;dbl&gt; | Contamination &lt;dbl&gt; | Strain.heterogeneity &lt;dbl&gt; | Genome.size..bp. &lt;int&gt; | X..contigs &lt;int&gt; | N50..contigs. &lt;int&gt; | Mean.contig.length..bp. &lt;int&gt; | Longest.contig..bp. &lt;int&gt; | GC &lt;dbl&gt; | Coding.density &lt;dbl&gt; | X..predicted.genes &lt;int&gt; |\n",
       "|---|---|---|---|---|---|---|---|---|---|---|---|---|---|---|---|---|---|---|---|\n",
       "| AT573__metabat2__HighNoCov.002 | /ebio/abt3_projects/Anxiety_Twins_Metagenomes/data/metagenome/Tulsa1000/LLMGA_v0.12/HiSeq_R160-163-169/LLG/rnd1/drep/drep/dereplicated_genomes/AT573__metabat2__HighNoCov.002.fna | Bacteria | Firmicutes_A | Clostridia_A | Christensenellales | CAG-138 | Phil1   | Phil1 sp001940855   | 99.19 | 0 | 0 | 2369272 | 65 | 66039 | 36450 | 232224 | 52.5 | 90.05 | 2292 |\n",
       "| AW108__metabat2__HighNoCov.004 | /ebio/abt3_projects/Anxiety_Twins_Metagenomes/data/metagenome/Tulsa1000/LLMGA_v0.12/HiSeq_R160-163-169/LLG/rnd1/drep/drep/dereplicated_genomes/AW108__metabat2__HighNoCov.004.fna | Bacteria | Firmicutes_A | Clostridia_A | Christensenellales | CAG-917 | CAG-475 | CAG-475 sp000434435 | 83.56 | 0 | 0 | 1563909 | 41 | 50516 | 38144 | 148342 | 46.8 | 87.09 | 1298 |\n",
       "| ⋮ | ⋮ | ⋮ | ⋮ | ⋮ | ⋮ | ⋮ | ⋮ | ⋮ | ⋮ | ⋮ | ⋮ | ⋮ | ⋮ | ⋮ | ⋮ | ⋮ | ⋮ | ⋮ | ⋮ |\n",
       "| AS988__metabat2__MedNoCov.013  | /ebio/abt3_projects/Anxiety_Twins_Metagenomes/data/metagenome/Tulsa1000/LLMGA_v0.12/HiSeq_R160-163-169/LLG/rnd1/drep/drep/dereplicated_genomes/AS988__metabat2__MedNoCov.013.fna  | Bacteria | Firmicutes_A | Clostridia_A | Christensenellales | CAG-314 | CAG-314 | <!----> | 83.47 | 0.03 | 0 | 1390176 | 184 |  11215 |  7555 |  46136 | 49.3 | 89.24 | 1345 |\n",
       "| AR644__metabat2__HighNoCov.010 | /ebio/abt3_projects/Anxiety_Twins_Metagenomes/data/metagenome/Tulsa1000/LLMGA_v0.12/HiSeq_R160-163-169/LLG/rnd1/drep/drep/dereplicated_genomes/AR644__metabat2__HighNoCov.010.fna | Bacteria | Firmicutes_A | Clostridia_A | Christensenellales | CAG-917 | CAG-475 | CAG-475 sp000434435 | 85.46 | 0.00 | 0 | 1569791 |  26 | 102156 | 60376 | 263332 | 46.4 | 86.72 | 1327 |\n",
       "\n"
      ],
      "text/plain": [
       "  Name                          \n",
       "1 AT573__metabat2__HighNoCov.002\n",
       "2 AW108__metabat2__HighNoCov.004\n",
       "⋮ ⋮                             \n",
       "5 AS988__metabat2__MedNoCov.013 \n",
       "6 AR644__metabat2__HighNoCov.010\n",
       "  Fasta                                                                                                                                                                            \n",
       "1 /ebio/abt3_projects/Anxiety_Twins_Metagenomes/data/metagenome/Tulsa1000/LLMGA_v0.12/HiSeq_R160-163-169/LLG/rnd1/drep/drep/dereplicated_genomes/AT573__metabat2__HighNoCov.002.fna\n",
       "2 /ebio/abt3_projects/Anxiety_Twins_Metagenomes/data/metagenome/Tulsa1000/LLMGA_v0.12/HiSeq_R160-163-169/LLG/rnd1/drep/drep/dereplicated_genomes/AW108__metabat2__HighNoCov.004.fna\n",
       "⋮ ⋮                                                                                                                                                                                \n",
       "5 /ebio/abt3_projects/Anxiety_Twins_Metagenomes/data/metagenome/Tulsa1000/LLMGA_v0.12/HiSeq_R160-163-169/LLG/rnd1/drep/drep/dereplicated_genomes/AS988__metabat2__MedNoCov.013.fna \n",
       "6 /ebio/abt3_projects/Anxiety_Twins_Metagenomes/data/metagenome/Tulsa1000/LLMGA_v0.12/HiSeq_R160-163-169/LLG/rnd1/drep/drep/dereplicated_genomes/AR644__metabat2__HighNoCov.010.fna\n",
       "  Domain   Phylum       Class        Order              Family  Genus  \n",
       "1 Bacteria Firmicutes_A Clostridia_A Christensenellales CAG-138 Phil1  \n",
       "2 Bacteria Firmicutes_A Clostridia_A Christensenellales CAG-917 CAG-475\n",
       "⋮ ⋮        ⋮            ⋮            ⋮                  ⋮       ⋮      \n",
       "5 Bacteria Firmicutes_A Clostridia_A Christensenellales CAG-314 CAG-314\n",
       "6 Bacteria Firmicutes_A Clostridia_A Christensenellales CAG-917 CAG-475\n",
       "  Species             Completeness Contamination Strain.heterogeneity\n",
       "1 Phil1 sp001940855   99.19        0             0                   \n",
       "2 CAG-475 sp000434435 83.56        0             0                   \n",
       "⋮ ⋮                   ⋮            ⋮             ⋮                   \n",
       "5                     83.47        0.03          0                   \n",
       "6 CAG-475 sp000434435 85.46        0.00          0                   \n",
       "  Genome.size..bp. X..contigs N50..contigs. Mean.contig.length..bp.\n",
       "1 2369272          65         66039         36450                  \n",
       "2 1563909          41         50516         38144                  \n",
       "⋮ ⋮                ⋮          ⋮             ⋮                      \n",
       "5 1390176          184         11215         7555                  \n",
       "6 1569791           26        102156        60376                  \n",
       "  Longest.contig..bp. GC   Coding.density X..predicted.genes\n",
       "1 232224              52.5 90.05          2292              \n",
       "2 148342              46.8 87.09          1298              \n",
       "⋮ ⋮                   ⋮    ⋮              ⋮                 \n",
       "5  46136              49.3 89.24          1345              \n",
       "6 263332              46.4 86.72          1327              "
      ]
     },
     "metadata": {},
     "output_type": "display_data"
    }
   ],
   "source": [
    "T1k_f = T1k %>%\n",
    "    filter.(Completeness >= 0.9,\n",
    "            Contamination < 0.05,\n",
    "            X..contigs <= 500) %>%\n",
    "    filter.(Family != 'f__')\n",
    "T1k_f"
   ]
  },
  {
   "cell_type": "code",
   "execution_count": 38,
   "metadata": {
    "execution": {
     "iopub.execute_input": "2021-02-23T14:05:18.585459Z",
     "iopub.status.busy": "2021-02-23T14:05:18.583135Z",
     "iopub.status.idle": "2021-02-23T14:05:18.643166Z"
    }
   },
   "outputs": [
    {
     "data": {
      "text/html": [
       "6"
      ],
      "text/latex": [
       "6"
      ],
      "text/markdown": [
       "6"
      ],
      "text/plain": [
       "[1] 6"
      ]
     },
     "metadata": {},
     "output_type": "display_data"
    }
   ],
   "source": [
    "# copying files\n",
    "res = T1k_f$Fasta %>%\n",
    "    lapply(copy_file, base_dir=file.path(work_dir, 'T1k'))\n",
    "res %>% length"
   ]
  },
  {
   "cell_type": "markdown",
   "metadata": {},
   "source": [
    "## List of all genomes"
   ]
  },
  {
   "cell_type": "code",
   "execution_count": 59,
   "metadata": {
    "execution": {
     "iopub.execute_input": "2021-02-26T12:25:59.652152Z",
     "iopub.status.busy": "2021-02-26T12:25:59.648421Z",
     "iopub.status.idle": "2021-02-26T12:25:59.807222Z"
    }
   },
   "outputs": [
    {
     "data": {
      "text/html": [
       "<table class=\"dataframe\">\n",
       "<caption>A data.frame: 731 × 4</caption>\n",
       "<thead>\n",
       "\t<tr><th scope=col>Name</th><th scope=col>Fasta</th><th scope=col>Domain</th><th scope=col>Taxid</th></tr>\n",
       "\t<tr><th scope=col>&lt;chr&gt;</th><th scope=col>&lt;chr&gt;</th><th scope=col>&lt;chr&gt;</th><th scope=col>&lt;dbl&gt;</th></tr>\n",
       "</thead>\n",
       "<tbody>\n",
       "\t<tr><td>MI-001-H__metabat2_high_PE.003.fna.gz</td><td>/ebio/abt3_projects/software/dev/ll_pipelines/llprimer/experiments/christensenellales/genomes/Colombian_MG/MI-001-H__metabat2_high_PE.003.fna.gz</td><td>Bacteria</td><td>990719</td></tr>\n",
       "\t<tr><td>MI-002-H__metabat2_high_PE.005.fna.gz</td><td>/ebio/abt3_projects/software/dev/ll_pipelines/llprimer/experiments/christensenellales/genomes/Colombian_MG/MI-002-H__metabat2_high_PE.005.fna.gz</td><td>Bacteria</td><td>990719</td></tr>\n",
       "\t<tr><td>⋮</td><td>⋮</td><td>⋮</td><td>⋮</td></tr>\n",
       "\t<tr><td>GUT_GENOME286615.fna.gz</td><td>/ebio/abt3_projects/software/dev/ll_pipelines/llprimer/experiments/christensenellales/genomes/UHGG/GUT_GENOME286615.fna.gz</td><td>Bacteria</td><td>990719</td></tr>\n",
       "\t<tr><td>GUT_GENOME286691.fna.gz</td><td>/ebio/abt3_projects/software/dev/ll_pipelines/llprimer/experiments/christensenellales/genomes/UHGG/GUT_GENOME286691.fna.gz</td><td>Bacteria</td><td>990719</td></tr>\n",
       "</tbody>\n",
       "</table>\n"
      ],
      "text/latex": [
       "A data.frame: 731 × 4\n",
       "\\begin{tabular}{llll}\n",
       " Name & Fasta & Domain & Taxid\\\\\n",
       " <chr> & <chr> & <chr> & <dbl>\\\\\n",
       "\\hline\n",
       "\t MI-001-H\\_\\_metabat2\\_high\\_PE.003.fna.gz & /ebio/abt3\\_projects/software/dev/ll\\_pipelines/llprimer/experiments/christensenellales/genomes/Colombian\\_MG/MI-001-H\\_\\_metabat2\\_high\\_PE.003.fna.gz & Bacteria & 990719\\\\\n",
       "\t MI-002-H\\_\\_metabat2\\_high\\_PE.005.fna.gz & /ebio/abt3\\_projects/software/dev/ll\\_pipelines/llprimer/experiments/christensenellales/genomes/Colombian\\_MG/MI-002-H\\_\\_metabat2\\_high\\_PE.005.fna.gz & Bacteria & 990719\\\\\n",
       "\t ⋮ & ⋮ & ⋮ & ⋮\\\\\n",
       "\t GUT\\_GENOME286615.fna.gz & /ebio/abt3\\_projects/software/dev/ll\\_pipelines/llprimer/experiments/christensenellales/genomes/UHGG/GUT\\_GENOME286615.fna.gz & Bacteria & 990719\\\\\n",
       "\t GUT\\_GENOME286691.fna.gz & /ebio/abt3\\_projects/software/dev/ll\\_pipelines/llprimer/experiments/christensenellales/genomes/UHGG/GUT\\_GENOME286691.fna.gz & Bacteria & 990719\\\\\n",
       "\\end{tabular}\n"
      ],
      "text/markdown": [
       "\n",
       "A data.frame: 731 × 4\n",
       "\n",
       "| Name &lt;chr&gt; | Fasta &lt;chr&gt; | Domain &lt;chr&gt; | Taxid &lt;dbl&gt; |\n",
       "|---|---|---|---|\n",
       "| MI-001-H__metabat2_high_PE.003.fna.gz | /ebio/abt3_projects/software/dev/ll_pipelines/llprimer/experiments/christensenellales/genomes/Colombian_MG/MI-001-H__metabat2_high_PE.003.fna.gz | Bacteria | 990719 |\n",
       "| MI-002-H__metabat2_high_PE.005.fna.gz | /ebio/abt3_projects/software/dev/ll_pipelines/llprimer/experiments/christensenellales/genomes/Colombian_MG/MI-002-H__metabat2_high_PE.005.fna.gz | Bacteria | 990719 |\n",
       "| ⋮ | ⋮ | ⋮ | ⋮ |\n",
       "| GUT_GENOME286615.fna.gz | /ebio/abt3_projects/software/dev/ll_pipelines/llprimer/experiments/christensenellales/genomes/UHGG/GUT_GENOME286615.fna.gz | Bacteria | 990719 |\n",
       "| GUT_GENOME286691.fna.gz | /ebio/abt3_projects/software/dev/ll_pipelines/llprimer/experiments/christensenellales/genomes/UHGG/GUT_GENOME286691.fna.gz | Bacteria | 990719 |\n",
       "\n"
      ],
      "text/plain": [
       "    Name                                 \n",
       "1   MI-001-H__metabat2_high_PE.003.fna.gz\n",
       "2   MI-002-H__metabat2_high_PE.005.fna.gz\n",
       "⋮   ⋮                                    \n",
       "730 GUT_GENOME286615.fna.gz              \n",
       "731 GUT_GENOME286691.fna.gz              \n",
       "    Fasta                                                                                                                                           \n",
       "1   /ebio/abt3_projects/software/dev/ll_pipelines/llprimer/experiments/christensenellales/genomes/Colombian_MG/MI-001-H__metabat2_high_PE.003.fna.gz\n",
       "2   /ebio/abt3_projects/software/dev/ll_pipelines/llprimer/experiments/christensenellales/genomes/Colombian_MG/MI-002-H__metabat2_high_PE.005.fna.gz\n",
       "⋮   ⋮                                                                                                                                               \n",
       "730 /ebio/abt3_projects/software/dev/ll_pipelines/llprimer/experiments/christensenellales/genomes/UHGG/GUT_GENOME286615.fna.gz                      \n",
       "731 /ebio/abt3_projects/software/dev/ll_pipelines/llprimer/experiments/christensenellales/genomes/UHGG/GUT_GENOME286691.fna.gz                      \n",
       "    Domain   Taxid \n",
       "1   Bacteria 990719\n",
       "2   Bacteria 990719\n",
       "⋮   ⋮        ⋮     \n",
       "730 Bacteria 990719\n",
       "731 Bacteria 990719"
      ]
     },
     "metadata": {},
     "output_type": "display_data"
    }
   ],
   "source": [
    "files = list_files(work_dir, '.fna')\n",
    "samps = data.frame(Name = files %>% as.character %>% basename,\n",
    "                   Fasta = files,\n",
    "                   Domain = 'Bacteria',\n",
    "                   Taxid = taxid) %>%\n",
    "    mutate(Fasta = gsub('/+', '/', Fasta))\n",
    "samps"
   ]
  },
  {
   "cell_type": "code",
   "execution_count": 60,
   "metadata": {
    "execution": {
     "iopub.execute_input": "2021-02-26T12:26:01.740272Z",
     "iopub.status.busy": "2021-02-26T12:26:01.737339Z",
     "iopub.status.idle": "2021-02-26T12:26:01.769190Z"
    }
   },
   "outputs": [
    {
     "name": "stdout",
     "output_type": "stream",
     "text": [
      "File written: /ebio/abt3_projects/software/dev/ll_pipelines/llprimer/experiments/christensenellales/genomes//genomes_raw.txt \n"
     ]
    }
   ],
   "source": [
    "# writing file\n",
    "outfile = file.path(work_dir, 'genomes_raw.txt')\n",
    "write_table(samps, outfile)"
   ]
  },
  {
   "cell_type": "markdown",
   "metadata": {},
   "source": [
    "### WARNING! \n",
    "\n",
    "> The taxid will need to be changed for the primer design.\n",
    "  The proper taxids can be determined by: `GTDB-Tk => ncbi-lineage => names.dmp`"
   ]
  },
  {
   "cell_type": "markdown",
   "metadata": {},
   "source": [
    "# LLG"
   ]
  },
  {
   "cell_type": "markdown",
   "metadata": {},
   "source": [
    "### Config"
   ]
  },
  {
   "cell_type": "code",
   "execution_count": 41,
   "metadata": {
    "execution": {
     "iopub.execute_input": "2021-02-23T14:47:20.533730Z",
     "iopub.status.busy": "2021-02-23T14:47:20.531674Z",
     "iopub.status.idle": "2021-02-23T14:47:20.591174Z"
    }
   },
   "outputs": [
    {
     "name": "stdout",
     "output_type": "stream",
     "text": [
      "# table with genome --> fasta_file information\n",
      "samples_file: /ebio/abt3_projects/software/dev/ll_pipelines/llprimer/experiments/christensenellales/genomes/genomes_raw.txt\n",
      "\n",
      "# output location\n",
      "output_dir: /ebio/abt3_projects/software/dev/ll_pipelines/llprimer/experiments/christensenellales/genomes/\n",
      "\n",
      "# temporary file directory (your username will be added automatically)\n",
      "tmp_dir: /ebio/abt3_scratch/\n",
      "\n",
      "# batch processing of genomes for certain steps\n",
      "## increase to better parallelize\n",
      "batches: 5\n",
      "\n",
      "# Domain of genomes ('Archaea' or 'Bacteria)\n",
      "## Use \"Skip\" if provided as a \"Domain\" column in the genome table\n",
      "Domain: Skip\n",
      "\n",
      "# software parameters\n",
      "# Use \"Skip\" to skip any of these steps. If no params for rule, use \"\"\n",
      "# dRep MAGs are not further analyzed, but you can de-rep & then use the de-rep genome table as input.\n",
      "params:\n",
      "  ionice: -c 3\n",
      "  # assembly assessment\n",
      "  seqkit: \"\"\n",
      "  quast: Skip #\"\"\n",
      "  multiqc_on_quast: \"\" \n",
      "  checkm: \"\"\n",
      "  # de-replication (CheckM recommended)\n",
      "  drep:\n",
      "    algorithm: auto     # will select fastANI if >1000 genomes, else accurate mode\n",
      "    params: -comp 50 -con 5 -sa 0.999\n",
      "  # taxonomy\n",
      "  sourmash:\n",
      "    compute: Skip #--scaled 10000 -k 31\n",
      "    gather: -k 31\n",
      "  gtdbtk:\n",
      "    classify_wf: --min_perc_aa 10\n",
      "  # genome pairwise ANI  \n",
      "  fastani: Skip #--fragLen 3000 --minFraction 0.2 -k 16\n",
      "  dashing: Skip # -k 31 --full-tsv\n",
      "  comparem_aai: Skip # --evalue 0.001\n",
      "  # gene annotation\n",
      "  gene_call:\n",
      "    prokka: Skip #\"\" \n",
      "    multiqc_on_prokka: \"\"\n",
      "    prodigal: Skip #\"\"\n",
      "  eggnog_mapper: Skip #\"\"\n",
      "  eggnog_mapper_annot: \"\"\n",
      "  # rRNA (16S alignment & phylogeny)\n",
      "  barrnap: Skip #--lencutoff 0.8\n",
      "  vsearch_per_genome_drep: --id 0.95    # Skip to prevent drep of 16S copies within each genome\n",
      "  qiime2_fasttree: \"\"\n",
      "  qiime2_iqtree: --p-alrt 1000 --p-abayes --p-lbp 1000  --p-substitution-model 'GTR+I+G'\n",
      "  # genome phylogeny\n",
      "  phylophlan_config: Skip #--map_dna diamond --db_aa diamond --map_aa diamond --msa mafft --trim trimal --tree1 fasttree --tree2 raxml\n",
      "  phylophlan:\n",
      "    accuracy: --auto       # --auto will select --fast if >2000 genomes, otherwise --accurate \n",
      "    other_params: --diversity high --min_num_markers 50 \n",
      "  # phenotype\n",
      "  traitar: Skip #\"\"\n",
      "  # biosynthetic gene clusters (BGCs)\n",
      "  antismash: Skip #--cb-knownclusters --cb-subclusters --asf  \n",
      "  DeepBGC: Skip #--score 0.5 --classifier-score 0.5 --prodigal-meta-mode\n",
      "  # antimicrobial resistance (AMR)\n",
      "  abricate: Skip #--minid 75 --mincov 80\n",
      "  # CRISPRs\n",
      "  cctyper: Skip #--prodigal meta\n",
      "  \n",
      "# databases\n",
      "databases:\n",
      "  checkM_data: /ebio/abt3_projects/databases_no-backup/checkM/\n",
      "  sourmash: /ebio/abt3_projects/databases_no-backup/sourmash/genbank-k31.sbt.json\n",
      "  sourmash_lca: /ebio/abt3_projects/databases_no-backup/sourmash/genbank-k31.lca.json.gz\n",
      "  gtdbtk: /ebio/abt3_projects/databases_no-backup/GTDB/release95/gtdbtk/db_info.md\n",
      "  phylophlan: /ebio/abt3_projects/databases_no-backup/phylophlan/PhyloPhlan/phylophlan.faa.bz2\n",
      "  eggnog: /ebio/abt3_projects/databases_no-backup/Eggnog/v2/eggnog.db\n",
      "  eggnog_diamond: /ebio/abt3_projects/databases_no-backup/Eggnog/v2/eggnog_proteins.dmnd\n",
      "  antismash: /ebio/abt3_projects/databases_no-backup/antismash/v5/\n",
      "  deepbgc: /ebio/abt3_projects/databases_no-backup/DeepBGC/\n",
      "  traitar: /ebio/abt3_projects/databases_no-backup/pfam/traitar/\n",
      "  taxdump:   # used for adding taxids to GTDB-Tk classifications\n",
      "    names: /ebio/abt3_projects/databases_no-backup/GTDB/release95/taxdump/names.dmp\n",
      "    nodes: /ebio/abt3_projects/databases_no-backup/GTDB/release95/taxdump/nodes.dmp\n",
      "  abricate:\n",
      "    ncbi: /ebio/abt3_projects/databases_no-backup/abricate/ncbi/sequences\n",
      "    card: /ebio/abt3_projects/databases_no-backup/abricate/card/sequences\n",
      "    resfinder: /ebio/abt3_projects/databases_no-backup/abricate/resfinder/sequences\n",
      "    argannot: /ebio/abt3_projects/databases_no-backup/abricate/argannot/sequences\n",
      "    bacmet2: /ebio/abt3_projects/databases_no-backup/abricate/bacmet2/sequences\n",
      "    vfdb: /ebio/abt3_projects/databases_no-backup/abricate/vfdb/sequences\n",
      "    megares: /ebio/abt3_projects/databases_no-backup/abricate/megares/sequences\n",
      "    plasmidfinder: /ebio/abt3_projects/databases_no-backup/abricate/plasmidfinder/sequences\n",
      "\n",
      "# snakemake pipeline\n",
      "pipeline:\n",
      "  snakemake_folder: ./\n",
      "  script_folder: ./bin/scripts/\n",
      "  use_shared_mem: True\n",
      "  name: LLG"
     ]
    }
   ],
   "source": [
    "cat_file(file.path(work_dir, 'config_llg.yaml'))"
   ]
  },
  {
   "cell_type": "markdown",
   "metadata": {},
   "source": [
    "### Run"
   ]
  },
  {
   "cell_type": "markdown",
   "metadata": {},
   "source": [
    "```\n",
    "(snakemake) @ rick:/ebio/abt3_projects/software/dev/ll_pipelines/llg\n",
    "$ screen -L -s llg-christ ./snakemake_sge.sh /ebio/abt3_projects/software/dev/ll_pipelines/llprimer/experiments/christensenellales/genomes/config_llg.yaml 30 -F\n",
    "```"
   ]
  },
  {
   "cell_type": "markdown",
   "metadata": {},
   "source": [
    "## Samples table of high quality genomes"
   ]
  },
  {
   "cell_type": "code",
   "execution_count": 123,
   "metadata": {
    "execution": {
     "iopub.execute_input": "2021-02-27T09:52:38.326191Z",
     "iopub.status.busy": "2021-02-27T09:52:38.323791Z",
     "iopub.status.idle": "2021-02-27T09:52:38.399975Z"
    }
   },
   "outputs": [
    {
     "data": {
      "text/html": [
       "<table class=\"dataframe\">\n",
       "<caption>A data.frame: 731 × 33</caption>\n",
       "<thead>\n",
       "\t<tr><th scope=col>Bin.Id</th><th scope=col>Marker.lineage</th><th scope=col>X..genomes</th><th scope=col>X..markers</th><th scope=col>X..marker.sets</th><th scope=col>Completeness</th><th scope=col>Contamination</th><th scope=col>Strain.heterogeneity</th><th scope=col>Genome.size..bp.</th><th scope=col>X..ambiguous.bases</th><th scope=col>⋯</th><th scope=col>X0</th><th scope=col>X1</th><th scope=col>X2</th><th scope=col>X3</th><th scope=col>X4</th><th scope=col>X5.</th><th scope=col>assembly.Id</th><th scope=col>assembler.Id</th><th scope=col>taxon.Id</th><th scope=col>File</th></tr>\n",
       "\t<tr><th scope=col>&lt;chr&gt;</th><th scope=col>&lt;chr&gt;</th><th scope=col>&lt;int&gt;</th><th scope=col>&lt;int&gt;</th><th scope=col>&lt;int&gt;</th><th scope=col>&lt;dbl&gt;</th><th scope=col>&lt;dbl&gt;</th><th scope=col>&lt;dbl&gt;</th><th scope=col>&lt;int&gt;</th><th scope=col>&lt;int&gt;</th><th scope=col>⋯</th><th scope=col>&lt;int&gt;</th><th scope=col>&lt;int&gt;</th><th scope=col>&lt;int&gt;</th><th scope=col>&lt;int&gt;</th><th scope=col>&lt;int&gt;</th><th scope=col>&lt;int&gt;</th><th scope=col>&lt;chr&gt;</th><th scope=col>&lt;chr&gt;</th><th scope=col>&lt;lgl&gt;</th><th scope=col>&lt;chr&gt;</th></tr>\n",
       "</thead>\n",
       "<tbody>\n",
       "\t<tr><td>1002469__metabat2__HighNoCov.011.fna.gz</td><td>c__Clostridia (UID1118)   </td><td>387</td><td>223</td><td>124</td><td>98.39</td><td>0.00</td><td>0</td><td>2229828</td><td>0</td><td>⋯</td><td> 3</td><td>220</td><td>0</td><td>0</td><td>0</td><td>0</td><td>|ebio|abt3_projects|software|dev|ll_pipelines|llprimer|experiments|christensenellales|genomes|LLG_output|checkM|1|checkm|markers_qa_summary.tsv.1</td><td>markers_qa_summary.tsv.1</td><td>NA</td><td>/ebio/abt3_projects/software/dev/ll_pipelines/llprimer/experiments/christensenellales/genomes/LLG_output/checkM/1/checkm/markers_qa_summary.tsv.1</td></tr>\n",
       "\t<tr><td>1002756__metabat2__Low.024.fna.gz      </td><td>o__Clostridiales (UID1120)</td><td>304</td><td>250</td><td>143</td><td>72.41</td><td>0.02</td><td>0</td><td>1268686</td><td>0</td><td>⋯</td><td>53</td><td>196</td><td>1</td><td>0</td><td>0</td><td>0</td><td>|ebio|abt3_projects|software|dev|ll_pipelines|llprimer|experiments|christensenellales|genomes|LLG_output|checkM|1|checkm|markers_qa_summary.tsv.2</td><td>markers_qa_summary.tsv.2</td><td>NA</td><td>/ebio/abt3_projects/software/dev/ll_pipelines/llprimer/experiments/christensenellales/genomes/LLG_output/checkM/1/checkm/markers_qa_summary.tsv.2</td></tr>\n",
       "\t<tr><td>⋮</td><td>⋮</td><td>⋮</td><td>⋮</td><td>⋮</td><td>⋮</td><td>⋮</td><td>⋮</td><td>⋮</td><td>⋮</td><td>⋱</td><td>⋮</td><td>⋮</td><td>⋮</td><td>⋮</td><td>⋮</td><td>⋮</td><td>⋮</td><td>⋮</td><td>⋮</td><td>⋮</td></tr>\n",
       "\t<tr><td>MI-408-H__metabat2_high_PE.004.fna.gz</td><td>c__Clostridia (UID1118)</td><td>387</td><td>223</td><td>124</td><td>96.75</td><td>2.69</td><td>0</td><td>3065865</td><td>0</td><td>⋯</td><td> 6</td><td>213</td><td>4</td><td>0</td><td>0</td><td>0</td><td>|ebio|abt3_projects|software|dev|ll_pipelines|llprimer|experiments|christensenellales|genomes|LLG_output|checkM|10|checkm|markers_qa_summary.tsv.72</td><td>markers_qa_summary.tsv.72</td><td>NA</td><td>/ebio/abt3_projects/software/dev/ll_pipelines/llprimer/experiments/christensenellales/genomes/LLG_output/checkM/10/checkm/markers_qa_summary.tsv.72</td></tr>\n",
       "\t<tr><td>MI-423-H__metabat2_high_PE.025.fna.gz</td><td>c__Clostridia (UID1118)</td><td>387</td><td>223</td><td>124</td><td>79.38</td><td>0.00</td><td>0</td><td>1843857</td><td>0</td><td>⋯</td><td>35</td><td>188</td><td>0</td><td>0</td><td>0</td><td>0</td><td>|ebio|abt3_projects|software|dev|ll_pipelines|llprimer|experiments|christensenellales|genomes|LLG_output|checkM|10|checkm|markers_qa_summary.tsv.73</td><td>markers_qa_summary.tsv.73</td><td>NA</td><td>/ebio/abt3_projects/software/dev/ll_pipelines/llprimer/experiments/christensenellales/genomes/LLG_output/checkM/10/checkm/markers_qa_summary.tsv.73</td></tr>\n",
       "</tbody>\n",
       "</table>\n"
      ],
      "text/latex": [
       "A data.frame: 731 × 33\n",
       "\\begin{tabular}{lllllllllllllllllllll}\n",
       " Bin.Id & Marker.lineage & X..genomes & X..markers & X..marker.sets & Completeness & Contamination & Strain.heterogeneity & Genome.size..bp. & X..ambiguous.bases & ⋯ & X0 & X1 & X2 & X3 & X4 & X5. & assembly.Id & assembler.Id & taxon.Id & File\\\\\n",
       " <chr> & <chr> & <int> & <int> & <int> & <dbl> & <dbl> & <dbl> & <int> & <int> & ⋯ & <int> & <int> & <int> & <int> & <int> & <int> & <chr> & <chr> & <lgl> & <chr>\\\\\n",
       "\\hline\n",
       "\t 1002469\\_\\_metabat2\\_\\_HighNoCov.011.fna.gz & c\\_\\_Clostridia (UID1118)    & 387 & 223 & 124 & 98.39 & 0.00 & 0 & 2229828 & 0 & ⋯ &  3 & 220 & 0 & 0 & 0 & 0 & \\textbar{}ebio\\textbar{}abt3\\_projects\\textbar{}software\\textbar{}dev\\textbar{}ll\\_pipelines\\textbar{}llprimer\\textbar{}experiments\\textbar{}christensenellales\\textbar{}genomes\\textbar{}LLG\\_output\\textbar{}checkM\\textbar{}1\\textbar{}checkm\\textbar{}markers\\_qa\\_summary.tsv.1 & markers\\_qa\\_summary.tsv.1 & NA & /ebio/abt3\\_projects/software/dev/ll\\_pipelines/llprimer/experiments/christensenellales/genomes/LLG\\_output/checkM/1/checkm/markers\\_qa\\_summary.tsv.1\\\\\n",
       "\t 1002756\\_\\_metabat2\\_\\_Low.024.fna.gz       & o\\_\\_Clostridiales (UID1120) & 304 & 250 & 143 & 72.41 & 0.02 & 0 & 1268686 & 0 & ⋯ & 53 & 196 & 1 & 0 & 0 & 0 & \\textbar{}ebio\\textbar{}abt3\\_projects\\textbar{}software\\textbar{}dev\\textbar{}ll\\_pipelines\\textbar{}llprimer\\textbar{}experiments\\textbar{}christensenellales\\textbar{}genomes\\textbar{}LLG\\_output\\textbar{}checkM\\textbar{}1\\textbar{}checkm\\textbar{}markers\\_qa\\_summary.tsv.2 & markers\\_qa\\_summary.tsv.2 & NA & /ebio/abt3\\_projects/software/dev/ll\\_pipelines/llprimer/experiments/christensenellales/genomes/LLG\\_output/checkM/1/checkm/markers\\_qa\\_summary.tsv.2\\\\\n",
       "\t ⋮ & ⋮ & ⋮ & ⋮ & ⋮ & ⋮ & ⋮ & ⋮ & ⋮ & ⋮ & ⋱ & ⋮ & ⋮ & ⋮ & ⋮ & ⋮ & ⋮ & ⋮ & ⋮ & ⋮ & ⋮\\\\\n",
       "\t MI-408-H\\_\\_metabat2\\_high\\_PE.004.fna.gz & c\\_\\_Clostridia (UID1118) & 387 & 223 & 124 & 96.75 & 2.69 & 0 & 3065865 & 0 & ⋯ &  6 & 213 & 4 & 0 & 0 & 0 & \\textbar{}ebio\\textbar{}abt3\\_projects\\textbar{}software\\textbar{}dev\\textbar{}ll\\_pipelines\\textbar{}llprimer\\textbar{}experiments\\textbar{}christensenellales\\textbar{}genomes\\textbar{}LLG\\_output\\textbar{}checkM\\textbar{}10\\textbar{}checkm\\textbar{}markers\\_qa\\_summary.tsv.72 & markers\\_qa\\_summary.tsv.72 & NA & /ebio/abt3\\_projects/software/dev/ll\\_pipelines/llprimer/experiments/christensenellales/genomes/LLG\\_output/checkM/10/checkm/markers\\_qa\\_summary.tsv.72\\\\\n",
       "\t MI-423-H\\_\\_metabat2\\_high\\_PE.025.fna.gz & c\\_\\_Clostridia (UID1118) & 387 & 223 & 124 & 79.38 & 0.00 & 0 & 1843857 & 0 & ⋯ & 35 & 188 & 0 & 0 & 0 & 0 & \\textbar{}ebio\\textbar{}abt3\\_projects\\textbar{}software\\textbar{}dev\\textbar{}ll\\_pipelines\\textbar{}llprimer\\textbar{}experiments\\textbar{}christensenellales\\textbar{}genomes\\textbar{}LLG\\_output\\textbar{}checkM\\textbar{}10\\textbar{}checkm\\textbar{}markers\\_qa\\_summary.tsv.73 & markers\\_qa\\_summary.tsv.73 & NA & /ebio/abt3\\_projects/software/dev/ll\\_pipelines/llprimer/experiments/christensenellales/genomes/LLG\\_output/checkM/10/checkm/markers\\_qa\\_summary.tsv.73\\\\\n",
       "\\end{tabular}\n"
      ],
      "text/markdown": [
       "\n",
       "A data.frame: 731 × 33\n",
       "\n",
       "| Bin.Id &lt;chr&gt; | Marker.lineage &lt;chr&gt; | X..genomes &lt;int&gt; | X..markers &lt;int&gt; | X..marker.sets &lt;int&gt; | Completeness &lt;dbl&gt; | Contamination &lt;dbl&gt; | Strain.heterogeneity &lt;dbl&gt; | Genome.size..bp. &lt;int&gt; | X..ambiguous.bases &lt;int&gt; | ⋯ ⋯ | X0 &lt;int&gt; | X1 &lt;int&gt; | X2 &lt;int&gt; | X3 &lt;int&gt; | X4 &lt;int&gt; | X5. &lt;int&gt; | assembly.Id &lt;chr&gt; | assembler.Id &lt;chr&gt; | taxon.Id &lt;lgl&gt; | File &lt;chr&gt; |\n",
       "|---|---|---|---|---|---|---|---|---|---|---|---|---|---|---|---|---|---|---|---|---|\n",
       "| 1002469__metabat2__HighNoCov.011.fna.gz | c__Clostridia (UID1118)    | 387 | 223 | 124 | 98.39 | 0.00 | 0 | 2229828 | 0 | ⋯ |  3 | 220 | 0 | 0 | 0 | 0 | |ebio|abt3_projects|software|dev|ll_pipelines|llprimer|experiments|christensenellales|genomes|LLG_output|checkM|1|checkm|markers_qa_summary.tsv.1 | markers_qa_summary.tsv.1 | NA | /ebio/abt3_projects/software/dev/ll_pipelines/llprimer/experiments/christensenellales/genomes/LLG_output/checkM/1/checkm/markers_qa_summary.tsv.1 |\n",
       "| 1002756__metabat2__Low.024.fna.gz       | o__Clostridiales (UID1120) | 304 | 250 | 143 | 72.41 | 0.02 | 0 | 1268686 | 0 | ⋯ | 53 | 196 | 1 | 0 | 0 | 0 | |ebio|abt3_projects|software|dev|ll_pipelines|llprimer|experiments|christensenellales|genomes|LLG_output|checkM|1|checkm|markers_qa_summary.tsv.2 | markers_qa_summary.tsv.2 | NA | /ebio/abt3_projects/software/dev/ll_pipelines/llprimer/experiments/christensenellales/genomes/LLG_output/checkM/1/checkm/markers_qa_summary.tsv.2 |\n",
       "| ⋮ | ⋮ | ⋮ | ⋮ | ⋮ | ⋮ | ⋮ | ⋮ | ⋮ | ⋮ | ⋱ | ⋮ | ⋮ | ⋮ | ⋮ | ⋮ | ⋮ | ⋮ | ⋮ | ⋮ | ⋮ |\n",
       "| MI-408-H__metabat2_high_PE.004.fna.gz | c__Clostridia (UID1118) | 387 | 223 | 124 | 96.75 | 2.69 | 0 | 3065865 | 0 | ⋯ |  6 | 213 | 4 | 0 | 0 | 0 | |ebio|abt3_projects|software|dev|ll_pipelines|llprimer|experiments|christensenellales|genomes|LLG_output|checkM|10|checkm|markers_qa_summary.tsv.72 | markers_qa_summary.tsv.72 | NA | /ebio/abt3_projects/software/dev/ll_pipelines/llprimer/experiments/christensenellales/genomes/LLG_output/checkM/10/checkm/markers_qa_summary.tsv.72 |\n",
       "| MI-423-H__metabat2_high_PE.025.fna.gz | c__Clostridia (UID1118) | 387 | 223 | 124 | 79.38 | 0.00 | 0 | 1843857 | 0 | ⋯ | 35 | 188 | 0 | 0 | 0 | 0 | |ebio|abt3_projects|software|dev|ll_pipelines|llprimer|experiments|christensenellales|genomes|LLG_output|checkM|10|checkm|markers_qa_summary.tsv.73 | markers_qa_summary.tsv.73 | NA | /ebio/abt3_projects/software/dev/ll_pipelines/llprimer/experiments/christensenellales/genomes/LLG_output/checkM/10/checkm/markers_qa_summary.tsv.73 |\n",
       "\n"
      ],
      "text/plain": [
       "    Bin.Id                                  Marker.lineage            \n",
       "1   1002469__metabat2__HighNoCov.011.fna.gz c__Clostridia (UID1118)   \n",
       "2   1002756__metabat2__Low.024.fna.gz       o__Clostridiales (UID1120)\n",
       "⋮   ⋮                                       ⋮                         \n",
       "730 MI-408-H__metabat2_high_PE.004.fna.gz   c__Clostridia (UID1118)   \n",
       "731 MI-423-H__metabat2_high_PE.025.fna.gz   c__Clostridia (UID1118)   \n",
       "    X..genomes X..markers X..marker.sets Completeness Contamination\n",
       "1   387        223        124            98.39        0.00         \n",
       "2   304        250        143            72.41        0.02         \n",
       "⋮   ⋮          ⋮          ⋮              ⋮            ⋮            \n",
       "730 387        223        124            96.75        2.69         \n",
       "731 387        223        124            79.38        0.00         \n",
       "    Strain.heterogeneity Genome.size..bp. X..ambiguous.bases ⋯ X0 X1  X2 X3 X4\n",
       "1   0                    2229828          0                  ⋯  3 220 0  0  0 \n",
       "2   0                    1268686          0                  ⋯ 53 196 1  0  0 \n",
       "⋮   ⋮                    ⋮                ⋮                  ⋱ ⋮  ⋮   ⋮  ⋮  ⋮ \n",
       "730 0                    3065865          0                  ⋯  6 213 4  0  0 \n",
       "731 0                    1843857          0                  ⋯ 35 188 0  0  0 \n",
       "    X5.\n",
       "1   0  \n",
       "2   0  \n",
       "⋮   ⋮  \n",
       "730 0  \n",
       "731 0  \n",
       "    assembly.Id                                                                                                                                        \n",
       "1   |ebio|abt3_projects|software|dev|ll_pipelines|llprimer|experiments|christensenellales|genomes|LLG_output|checkM|1|checkm|markers_qa_summary.tsv.1  \n",
       "2   |ebio|abt3_projects|software|dev|ll_pipelines|llprimer|experiments|christensenellales|genomes|LLG_output|checkM|1|checkm|markers_qa_summary.tsv.2  \n",
       "⋮   ⋮                                                                                                                                                  \n",
       "730 |ebio|abt3_projects|software|dev|ll_pipelines|llprimer|experiments|christensenellales|genomes|LLG_output|checkM|10|checkm|markers_qa_summary.tsv.72\n",
       "731 |ebio|abt3_projects|software|dev|ll_pipelines|llprimer|experiments|christensenellales|genomes|LLG_output|checkM|10|checkm|markers_qa_summary.tsv.73\n",
       "    assembler.Id              taxon.Id\n",
       "1   markers_qa_summary.tsv.1  NA      \n",
       "2   markers_qa_summary.tsv.2  NA      \n",
       "⋮   ⋮                         ⋮       \n",
       "730 markers_qa_summary.tsv.72 NA      \n",
       "731 markers_qa_summary.tsv.73 NA      \n",
       "    File                                                                                                                                               \n",
       "1   /ebio/abt3_projects/software/dev/ll_pipelines/llprimer/experiments/christensenellales/genomes/LLG_output/checkM/1/checkm/markers_qa_summary.tsv.1  \n",
       "2   /ebio/abt3_projects/software/dev/ll_pipelines/llprimer/experiments/christensenellales/genomes/LLG_output/checkM/1/checkm/markers_qa_summary.tsv.2  \n",
       "⋮   ⋮                                                                                                                                                  \n",
       "730 /ebio/abt3_projects/software/dev/ll_pipelines/llprimer/experiments/christensenellales/genomes/LLG_output/checkM/10/checkm/markers_qa_summary.tsv.72\n",
       "731 /ebio/abt3_projects/software/dev/ll_pipelines/llprimer/experiments/christensenellales/genomes/LLG_output/checkM/10/checkm/markers_qa_summary.tsv.73"
      ]
     },
     "metadata": {},
     "output_type": "display_data"
    }
   ],
   "source": [
    "# checkM summary\n",
    "checkm = file.path(work_dir, 'LLG_output', 'checkM', 'checkm_qa_summary.tsv') %>%\n",
    "    read.delim(sep='\\t') \n",
    "checkm"
   ]
  },
  {
   "cell_type": "code",
   "execution_count": 124,
   "metadata": {
    "execution": {
     "iopub.execute_input": "2021-02-27T09:52:38.480769Z",
     "iopub.status.busy": "2021-02-27T09:52:38.477998Z",
     "iopub.status.idle": "2021-02-27T09:52:38.525059Z"
    }
   },
   "outputs": [
    {
     "data": {
      "text/html": [
       "<table class=\"dataframe\">\n",
       "<caption>A data.frame: 731 × 4</caption>\n",
       "<thead>\n",
       "\t<tr><th scope=col>genome</th><th scope=col>completeness</th><th scope=col>contamination</th><th scope=col>Bin.Id</th></tr>\n",
       "\t<tr><th scope=col>&lt;chr&gt;</th><th scope=col>&lt;dbl&gt;</th><th scope=col>&lt;dbl&gt;</th><th scope=col>&lt;chr&gt;</th></tr>\n",
       "</thead>\n",
       "<tbody>\n",
       "\t<tr><td>/ebio/abt3_scratch/nyoungblut/LLG_62325884640/genomes/1002469__metabat2__HighNoCov.011.fna.gz.fna</td><td>98.39</td><td>0.00</td><td>1002469__metabat2__HighNoCov.011.fna.gz</td></tr>\n",
       "\t<tr><td>/ebio/abt3_scratch/nyoungblut/LLG_62325884640/genomes/1002756__metabat2__Low.024.fna.gz.fna      </td><td>72.41</td><td>0.02</td><td>1002756__metabat2__Low.024.fna.gz      </td></tr>\n",
       "\t<tr><td>⋮</td><td>⋮</td><td>⋮</td><td>⋮</td></tr>\n",
       "\t<tr><td>/ebio/abt3_scratch/nyoungblut/LLG_62325884640/genomes/MI-408-H__metabat2_high_PE.004.fna.gz.fna</td><td>96.75</td><td>2.69</td><td>MI-408-H__metabat2_high_PE.004.fna.gz</td></tr>\n",
       "\t<tr><td>/ebio/abt3_scratch/nyoungblut/LLG_62325884640/genomes/MI-423-H__metabat2_high_PE.025.fna.gz.fna</td><td>79.38</td><td>0.00</td><td>MI-423-H__metabat2_high_PE.025.fna.gz</td></tr>\n",
       "</tbody>\n",
       "</table>\n"
      ],
      "text/latex": [
       "A data.frame: 731 × 4\n",
       "\\begin{tabular}{llll}\n",
       " genome & completeness & contamination & Bin.Id\\\\\n",
       " <chr> & <dbl> & <dbl> & <chr>\\\\\n",
       "\\hline\n",
       "\t /ebio/abt3\\_scratch/nyoungblut/LLG\\_62325884640/genomes/1002469\\_\\_metabat2\\_\\_HighNoCov.011.fna.gz.fna & 98.39 & 0.00 & 1002469\\_\\_metabat2\\_\\_HighNoCov.011.fna.gz\\\\\n",
       "\t /ebio/abt3\\_scratch/nyoungblut/LLG\\_62325884640/genomes/1002756\\_\\_metabat2\\_\\_Low.024.fna.gz.fna       & 72.41 & 0.02 & 1002756\\_\\_metabat2\\_\\_Low.024.fna.gz      \\\\\n",
       "\t ⋮ & ⋮ & ⋮ & ⋮\\\\\n",
       "\t /ebio/abt3\\_scratch/nyoungblut/LLG\\_62325884640/genomes/MI-408-H\\_\\_metabat2\\_high\\_PE.004.fna.gz.fna & 96.75 & 2.69 & MI-408-H\\_\\_metabat2\\_high\\_PE.004.fna.gz\\\\\n",
       "\t /ebio/abt3\\_scratch/nyoungblut/LLG\\_62325884640/genomes/MI-423-H\\_\\_metabat2\\_high\\_PE.025.fna.gz.fna & 79.38 & 0.00 & MI-423-H\\_\\_metabat2\\_high\\_PE.025.fna.gz\\\\\n",
       "\\end{tabular}\n"
      ],
      "text/markdown": [
       "\n",
       "A data.frame: 731 × 4\n",
       "\n",
       "| genome &lt;chr&gt; | completeness &lt;dbl&gt; | contamination &lt;dbl&gt; | Bin.Id &lt;chr&gt; |\n",
       "|---|---|---|---|\n",
       "| /ebio/abt3_scratch/nyoungblut/LLG_62325884640/genomes/1002469__metabat2__HighNoCov.011.fna.gz.fna | 98.39 | 0.00 | 1002469__metabat2__HighNoCov.011.fna.gz |\n",
       "| /ebio/abt3_scratch/nyoungblut/LLG_62325884640/genomes/1002756__metabat2__Low.024.fna.gz.fna       | 72.41 | 0.02 | 1002756__metabat2__Low.024.fna.gz       |\n",
       "| ⋮ | ⋮ | ⋮ | ⋮ |\n",
       "| /ebio/abt3_scratch/nyoungblut/LLG_62325884640/genomes/MI-408-H__metabat2_high_PE.004.fna.gz.fna | 96.75 | 2.69 | MI-408-H__metabat2_high_PE.004.fna.gz |\n",
       "| /ebio/abt3_scratch/nyoungblut/LLG_62325884640/genomes/MI-423-H__metabat2_high_PE.025.fna.gz.fna | 79.38 | 0.00 | MI-423-H__metabat2_high_PE.025.fna.gz |\n",
       "\n"
      ],
      "text/plain": [
       "    genome                                                                                           \n",
       "1   /ebio/abt3_scratch/nyoungblut/LLG_62325884640/genomes/1002469__metabat2__HighNoCov.011.fna.gz.fna\n",
       "2   /ebio/abt3_scratch/nyoungblut/LLG_62325884640/genomes/1002756__metabat2__Low.024.fna.gz.fna      \n",
       "⋮   ⋮                                                                                                \n",
       "730 /ebio/abt3_scratch/nyoungblut/LLG_62325884640/genomes/MI-408-H__metabat2_high_PE.004.fna.gz.fna  \n",
       "731 /ebio/abt3_scratch/nyoungblut/LLG_62325884640/genomes/MI-423-H__metabat2_high_PE.025.fna.gz.fna  \n",
       "    completeness contamination Bin.Id                                 \n",
       "1   98.39        0.00          1002469__metabat2__HighNoCov.011.fna.gz\n",
       "2   72.41        0.02          1002756__metabat2__Low.024.fna.gz      \n",
       "⋮   ⋮            ⋮             ⋮                                      \n",
       "730 96.75        2.69          MI-408-H__metabat2_high_PE.004.fna.gz  \n",
       "731 79.38        0.00          MI-423-H__metabat2_high_PE.025.fna.gz  "
      ]
     },
     "metadata": {},
     "output_type": "display_data"
    }
   ],
   "source": [
    "# dRep summary\n",
    "drep = file.path(work_dir, 'LLG_output', 'drep', 'checkm_markers_qa_summary.tsv') %>%\n",
    "    read.delim(sep='\\t') %>%\n",
    "    mutate(Bin.Id = gsub('.+/', '', genome),\n",
    "           Bin.Id = gsub('\\\\.fna$', '', Bin.Id))\n",
    "drep"
   ]
  },
  {
   "cell_type": "code",
   "execution_count": 125,
   "metadata": {
    "execution": {
     "iopub.execute_input": "2021-02-27T09:52:38.605097Z",
     "iopub.status.busy": "2021-02-27T09:52:38.602431Z",
     "iopub.status.idle": "2021-02-27T09:52:38.639347Z"
    }
   },
   "outputs": [
    {
     "data": {
      "text/html": [
       "<table class=\"dataframe\">\n",
       "<caption>A data.frame: 665 × 2</caption>\n",
       "<thead>\n",
       "\t<tr><th scope=col>Name</th><th scope=col>Fasta</th></tr>\n",
       "\t<tr><th scope=col>&lt;chr&gt;</th><th scope=col>&lt;chr&gt;</th></tr>\n",
       "</thead>\n",
       "<tbody>\n",
       "\t<tr><td>GCA_012518615.1_ASM1251861v1_genomic.fna</td><td>/ebio/abt3_projects/software/dev/ll_pipelines/llprimer/experiments/christensenellales/genomes/LLG_output/drep/drep/dereplicated_genomes/GCA_012518615.1_ASM1251861v1_genomic.fna.fna</td></tr>\n",
       "\t<tr><td>GCA_012837835.1_ASM1283783v1_genomic.fna</td><td>/ebio/abt3_projects/software/dev/ll_pipelines/llprimer/experiments/christensenellales/genomes/LLG_output/drep/drep/dereplicated_genomes/GCA_012837835.1_ASM1283783v1_genomic.fna.fna</td></tr>\n",
       "\t<tr><td>⋮</td><td>⋮</td></tr>\n",
       "\t<tr><td>AT573__metabat2__High.025.fna.gz </td><td>/ebio/abt3_projects/software/dev/ll_pipelines/llprimer/experiments/christensenellales/genomes/LLG_output/drep/drep/dereplicated_genomes/AT573__metabat2__High.025.fna.gz.fna </td></tr>\n",
       "\t<tr><td>1002756__metabat2__Low.024.fna.gz</td><td>/ebio/abt3_projects/software/dev/ll_pipelines/llprimer/experiments/christensenellales/genomes/LLG_output/drep/drep/dereplicated_genomes/1002756__metabat2__Low.024.fna.gz.fna</td></tr>\n",
       "</tbody>\n",
       "</table>\n"
      ],
      "text/latex": [
       "A data.frame: 665 × 2\n",
       "\\begin{tabular}{ll}\n",
       " Name & Fasta\\\\\n",
       " <chr> & <chr>\\\\\n",
       "\\hline\n",
       "\t GCA\\_012518615.1\\_ASM1251861v1\\_genomic.fna & /ebio/abt3\\_projects/software/dev/ll\\_pipelines/llprimer/experiments/christensenellales/genomes/LLG\\_output/drep/drep/dereplicated\\_genomes/GCA\\_012518615.1\\_ASM1251861v1\\_genomic.fna.fna\\\\\n",
       "\t GCA\\_012837835.1\\_ASM1283783v1\\_genomic.fna & /ebio/abt3\\_projects/software/dev/ll\\_pipelines/llprimer/experiments/christensenellales/genomes/LLG\\_output/drep/drep/dereplicated\\_genomes/GCA\\_012837835.1\\_ASM1283783v1\\_genomic.fna.fna\\\\\n",
       "\t ⋮ & ⋮\\\\\n",
       "\t AT573\\_\\_metabat2\\_\\_High.025.fna.gz  & /ebio/abt3\\_projects/software/dev/ll\\_pipelines/llprimer/experiments/christensenellales/genomes/LLG\\_output/drep/drep/dereplicated\\_genomes/AT573\\_\\_metabat2\\_\\_High.025.fna.gz.fna \\\\\n",
       "\t 1002756\\_\\_metabat2\\_\\_Low.024.fna.gz & /ebio/abt3\\_projects/software/dev/ll\\_pipelines/llprimer/experiments/christensenellales/genomes/LLG\\_output/drep/drep/dereplicated\\_genomes/1002756\\_\\_metabat2\\_\\_Low.024.fna.gz.fna\\\\\n",
       "\\end{tabular}\n"
      ],
      "text/markdown": [
       "\n",
       "A data.frame: 665 × 2\n",
       "\n",
       "| Name &lt;chr&gt; | Fasta &lt;chr&gt; |\n",
       "|---|---|\n",
       "| GCA_012518615.1_ASM1251861v1_genomic.fna | /ebio/abt3_projects/software/dev/ll_pipelines/llprimer/experiments/christensenellales/genomes/LLG_output/drep/drep/dereplicated_genomes/GCA_012518615.1_ASM1251861v1_genomic.fna.fna |\n",
       "| GCA_012837835.1_ASM1283783v1_genomic.fna | /ebio/abt3_projects/software/dev/ll_pipelines/llprimer/experiments/christensenellales/genomes/LLG_output/drep/drep/dereplicated_genomes/GCA_012837835.1_ASM1283783v1_genomic.fna.fna |\n",
       "| ⋮ | ⋮ |\n",
       "| AT573__metabat2__High.025.fna.gz  | /ebio/abt3_projects/software/dev/ll_pipelines/llprimer/experiments/christensenellales/genomes/LLG_output/drep/drep/dereplicated_genomes/AT573__metabat2__High.025.fna.gz.fna  |\n",
       "| 1002756__metabat2__Low.024.fna.gz | /ebio/abt3_projects/software/dev/ll_pipelines/llprimer/experiments/christensenellales/genomes/LLG_output/drep/drep/dereplicated_genomes/1002756__metabat2__Low.024.fna.gz.fna |\n",
       "\n"
      ],
      "text/plain": [
       "    Name                                    \n",
       "1   GCA_012518615.1_ASM1251861v1_genomic.fna\n",
       "2   GCA_012837835.1_ASM1283783v1_genomic.fna\n",
       "⋮   ⋮                                       \n",
       "664 AT573__metabat2__High.025.fna.gz        \n",
       "665 1002756__metabat2__Low.024.fna.gz       \n",
       "    Fasta                                                                                                                                                                               \n",
       "1   /ebio/abt3_projects/software/dev/ll_pipelines/llprimer/experiments/christensenellales/genomes/LLG_output/drep/drep/dereplicated_genomes/GCA_012518615.1_ASM1251861v1_genomic.fna.fna\n",
       "2   /ebio/abt3_projects/software/dev/ll_pipelines/llprimer/experiments/christensenellales/genomes/LLG_output/drep/drep/dereplicated_genomes/GCA_012837835.1_ASM1283783v1_genomic.fna.fna\n",
       "⋮   ⋮                                                                                                                                                                                   \n",
       "664 /ebio/abt3_projects/software/dev/ll_pipelines/llprimer/experiments/christensenellales/genomes/LLG_output/drep/drep/dereplicated_genomes/AT573__metabat2__High.025.fna.gz.fna        \n",
       "665 /ebio/abt3_projects/software/dev/ll_pipelines/llprimer/experiments/christensenellales/genomes/LLG_output/drep/drep/dereplicated_genomes/1002756__metabat2__Low.024.fna.gz.fna       "
      ]
     },
     "metadata": {},
     "output_type": "display_data"
    }
   ],
   "source": [
    "# de-replicated genomes\n",
    "drep_gen = file.path(work_dir, 'LLG_output', 'drep', 'dereplicated_genomes.tsv') %>%\n",
    "    read.delim(sep='\\t')\n",
    "drep_gen"
   ]
  },
  {
   "cell_type": "code",
   "execution_count": 126,
   "metadata": {
    "execution": {
     "iopub.execute_input": "2021-02-27T09:52:38.719709Z",
     "iopub.status.busy": "2021-02-27T09:52:38.717015Z",
     "iopub.status.idle": "2021-02-27T09:52:38.802950Z"
    }
   },
   "outputs": [
    {
     "data": {
      "text/html": [
       "<table class=\"dataframe\">\n",
       "<caption>A data.frame: 731 × 24</caption>\n",
       "<thead>\n",
       "\t<tr><th scope=col>user_genome</th><th scope=col>Domain</th><th scope=col>Phylum</th><th scope=col>Class</th><th scope=col>Order</th><th scope=col>Family</th><th scope=col>Genus</th><th scope=col>Species</th><th scope=col>fastani_reference</th><th scope=col>fastani_reference_radius</th><th scope=col>⋯</th><th scope=col>closest_placement_radius</th><th scope=col>closest_placement_taxonomy</th><th scope=col>closest_placement_ani</th><th scope=col>closest_placement_af</th><th scope=col>msa_percent</th><th scope=col>translation_table</th><th scope=col>red_value</th><th scope=col>warnings</th><th scope=col>taxid</th><th scope=col>taxid_rank</th></tr>\n",
       "\t<tr><th scope=col>&lt;chr&gt;</th><th scope=col>&lt;chr&gt;</th><th scope=col>&lt;chr&gt;</th><th scope=col>&lt;chr&gt;</th><th scope=col>&lt;chr&gt;</th><th scope=col>&lt;chr&gt;</th><th scope=col>&lt;chr&gt;</th><th scope=col>&lt;chr&gt;</th><th scope=col>&lt;chr&gt;</th><th scope=col>&lt;chr&gt;</th><th scope=col>⋯</th><th scope=col>&lt;chr&gt;</th><th scope=col>&lt;chr&gt;</th><th scope=col>&lt;chr&gt;</th><th scope=col>&lt;chr&gt;</th><th scope=col>&lt;dbl&gt;</th><th scope=col>&lt;int&gt;</th><th scope=col>&lt;chr&gt;</th><th scope=col>&lt;chr&gt;</th><th scope=col>&lt;int&gt;</th><th scope=col>&lt;chr&gt;</th></tr>\n",
       "</thead>\n",
       "<tbody>\n",
       "\t<tr><td>1002469__metabat2__HighNoCov.011.fna.gz</td><td>d__Bacteria</td><td>p__Firmicutes_A</td><td>c__Clostridia_A</td><td>o__Christensenellales</td><td>f__CAG-138 </td><td>g__Phil1   </td><td>s__Phil1 sp001940855</td><td>GCA_001940855.1</td><td>95.0</td><td>⋯</td><td>95.0</td><td>d__Bacteria;p__Firmicutes_A;c__Clostridia_A;o__Christensenellales;f__CAG-138;g__Phil1;s__Phil1 sp001940855       </td><td>97.1 </td><td>0.9 </td><td>92.90</td><td>11</td><td>N/A               </td><td>N/A</td><td>153230</td><td>species</td></tr>\n",
       "\t<tr><td>1002756__metabat2__Low.024.fna.gz      </td><td>d__Bacteria</td><td>p__Firmicutes_A</td><td>c__Clostridia_A</td><td>o__Christensenellales</td><td>f__UMGS1908</td><td>g__UMGS1908</td><td>s__                 </td><td>N/A            </td><td>N/A </td><td>⋯</td><td>95.0</td><td>d__Bacteria;p__Firmicutes_A;c__Clostridia_A;o__Christensenellales;f__UMGS1908;g__UMGS1908;s__UMGS1908 sp900556185</td><td>77.88</td><td>0.13</td><td>82.62</td><td>11</td><td>0.8811857065570132</td><td>N/A</td><td>232276</td><td>genus  </td></tr>\n",
       "\t<tr><td>⋮</td><td>⋮</td><td>⋮</td><td>⋮</td><td>⋮</td><td>⋮</td><td>⋮</td><td>⋮</td><td>⋮</td><td>⋮</td><td>⋱</td><td>⋮</td><td>⋮</td><td>⋮</td><td>⋮</td><td>⋮</td><td>⋮</td><td>⋮</td><td>⋮</td><td>⋮</td><td>⋮</td></tr>\n",
       "\t<tr><td>MI-408-H__metabat2_high_PE.004.fna.gz</td><td>d__Bacteria</td><td>p__Firmicutes_A</td><td>c__Clostridia_A</td><td>o__Christensenellales</td><td>f__CAG-74 </td><td>g__SFHK01</td><td>s__SFHK01 sp004556395</td><td>GCA_004556395.1</td><td>95.0</td><td>⋯</td><td>95.0</td><td>d__Bacteria;p__Firmicutes_A;c__Clostridia_A;o__Christensenellales;f__CAG-74;g__SFHK01;s__SFHK01 sp004556395 </td><td>98.47</td><td>0.89</td><td>93.85</td><td>11</td><td>N/A</td><td>N/A</td><td>225050</td><td>species</td></tr>\n",
       "\t<tr><td>MI-423-H__metabat2_high_PE.025.fna.gz</td><td>d__Bacteria</td><td>p__Firmicutes_A</td><td>c__Clostridia_A</td><td>o__Christensenellales</td><td>f__CAG-138</td><td>g__RUG472</td><td>s__RUG472 sp900545265</td><td>GCA_900545265.1</td><td>95.0</td><td>⋯</td><td>95.0</td><td>d__Bacteria;p__Firmicutes_A;c__Clostridia_A;o__Christensenellales;f__CAG-138;g__RUG472;s__RUG472 sp900545265</td><td>98.69</td><td>0.94</td><td>84.07</td><td>11</td><td>N/A</td><td>N/A</td><td>218859</td><td>species</td></tr>\n",
       "</tbody>\n",
       "</table>\n"
      ],
      "text/latex": [
       "A data.frame: 731 × 24\n",
       "\\begin{tabular}{lllllllllllllllllllll}\n",
       " user\\_genome & Domain & Phylum & Class & Order & Family & Genus & Species & fastani\\_reference & fastani\\_reference\\_radius & ⋯ & closest\\_placement\\_radius & closest\\_placement\\_taxonomy & closest\\_placement\\_ani & closest\\_placement\\_af & msa\\_percent & translation\\_table & red\\_value & warnings & taxid & taxid\\_rank\\\\\n",
       " <chr> & <chr> & <chr> & <chr> & <chr> & <chr> & <chr> & <chr> & <chr> & <chr> & ⋯ & <chr> & <chr> & <chr> & <chr> & <dbl> & <int> & <chr> & <chr> & <int> & <chr>\\\\\n",
       "\\hline\n",
       "\t 1002469\\_\\_metabat2\\_\\_HighNoCov.011.fna.gz & d\\_\\_Bacteria & p\\_\\_Firmicutes\\_A & c\\_\\_Clostridia\\_A & o\\_\\_Christensenellales & f\\_\\_CAG-138  & g\\_\\_Phil1    & s\\_\\_Phil1 sp001940855 & GCA\\_001940855.1 & 95.0 & ⋯ & 95.0 & d\\_\\_Bacteria;p\\_\\_Firmicutes\\_A;c\\_\\_Clostridia\\_A;o\\_\\_Christensenellales;f\\_\\_CAG-138;g\\_\\_Phil1;s\\_\\_Phil1 sp001940855        & 97.1  & 0.9  & 92.90 & 11 & N/A                & N/A & 153230 & species\\\\\n",
       "\t 1002756\\_\\_metabat2\\_\\_Low.024.fna.gz       & d\\_\\_Bacteria & p\\_\\_Firmicutes\\_A & c\\_\\_Clostridia\\_A & o\\_\\_Christensenellales & f\\_\\_UMGS1908 & g\\_\\_UMGS1908 & s\\_\\_                  & N/A             & N/A  & ⋯ & 95.0 & d\\_\\_Bacteria;p\\_\\_Firmicutes\\_A;c\\_\\_Clostridia\\_A;o\\_\\_Christensenellales;f\\_\\_UMGS1908;g\\_\\_UMGS1908;s\\_\\_UMGS1908 sp900556185 & 77.88 & 0.13 & 82.62 & 11 & 0.8811857065570132 & N/A & 232276 & genus  \\\\\n",
       "\t ⋮ & ⋮ & ⋮ & ⋮ & ⋮ & ⋮ & ⋮ & ⋮ & ⋮ & ⋮ & ⋱ & ⋮ & ⋮ & ⋮ & ⋮ & ⋮ & ⋮ & ⋮ & ⋮ & ⋮ & ⋮\\\\\n",
       "\t MI-408-H\\_\\_metabat2\\_high\\_PE.004.fna.gz & d\\_\\_Bacteria & p\\_\\_Firmicutes\\_A & c\\_\\_Clostridia\\_A & o\\_\\_Christensenellales & f\\_\\_CAG-74  & g\\_\\_SFHK01 & s\\_\\_SFHK01 sp004556395 & GCA\\_004556395.1 & 95.0 & ⋯ & 95.0 & d\\_\\_Bacteria;p\\_\\_Firmicutes\\_A;c\\_\\_Clostridia\\_A;o\\_\\_Christensenellales;f\\_\\_CAG-74;g\\_\\_SFHK01;s\\_\\_SFHK01 sp004556395  & 98.47 & 0.89 & 93.85 & 11 & N/A & N/A & 225050 & species\\\\\n",
       "\t MI-423-H\\_\\_metabat2\\_high\\_PE.025.fna.gz & d\\_\\_Bacteria & p\\_\\_Firmicutes\\_A & c\\_\\_Clostridia\\_A & o\\_\\_Christensenellales & f\\_\\_CAG-138 & g\\_\\_RUG472 & s\\_\\_RUG472 sp900545265 & GCA\\_900545265.1 & 95.0 & ⋯ & 95.0 & d\\_\\_Bacteria;p\\_\\_Firmicutes\\_A;c\\_\\_Clostridia\\_A;o\\_\\_Christensenellales;f\\_\\_CAG-138;g\\_\\_RUG472;s\\_\\_RUG472 sp900545265 & 98.69 & 0.94 & 84.07 & 11 & N/A & N/A & 218859 & species\\\\\n",
       "\\end{tabular}\n"
      ],
      "text/markdown": [
       "\n",
       "A data.frame: 731 × 24\n",
       "\n",
       "| user_genome &lt;chr&gt; | Domain &lt;chr&gt; | Phylum &lt;chr&gt; | Class &lt;chr&gt; | Order &lt;chr&gt; | Family &lt;chr&gt; | Genus &lt;chr&gt; | Species &lt;chr&gt; | fastani_reference &lt;chr&gt; | fastani_reference_radius &lt;chr&gt; | ⋯ ⋯ | closest_placement_radius &lt;chr&gt; | closest_placement_taxonomy &lt;chr&gt; | closest_placement_ani &lt;chr&gt; | closest_placement_af &lt;chr&gt; | msa_percent &lt;dbl&gt; | translation_table &lt;int&gt; | red_value &lt;chr&gt; | warnings &lt;chr&gt; | taxid &lt;int&gt; | taxid_rank &lt;chr&gt; |\n",
       "|---|---|---|---|---|---|---|---|---|---|---|---|---|---|---|---|---|---|---|---|---|\n",
       "| 1002469__metabat2__HighNoCov.011.fna.gz | d__Bacteria | p__Firmicutes_A | c__Clostridia_A | o__Christensenellales | f__CAG-138  | g__Phil1    | s__Phil1 sp001940855 | GCA_001940855.1 | 95.0 | ⋯ | 95.0 | d__Bacteria;p__Firmicutes_A;c__Clostridia_A;o__Christensenellales;f__CAG-138;g__Phil1;s__Phil1 sp001940855        | 97.1  | 0.9  | 92.90 | 11 | N/A                | N/A | 153230 | species |\n",
       "| 1002756__metabat2__Low.024.fna.gz       | d__Bacteria | p__Firmicutes_A | c__Clostridia_A | o__Christensenellales | f__UMGS1908 | g__UMGS1908 | s__                  | N/A             | N/A  | ⋯ | 95.0 | d__Bacteria;p__Firmicutes_A;c__Clostridia_A;o__Christensenellales;f__UMGS1908;g__UMGS1908;s__UMGS1908 sp900556185 | 77.88 | 0.13 | 82.62 | 11 | 0.8811857065570132 | N/A | 232276 | genus   |\n",
       "| ⋮ | ⋮ | ⋮ | ⋮ | ⋮ | ⋮ | ⋮ | ⋮ | ⋮ | ⋮ | ⋱ | ⋮ | ⋮ | ⋮ | ⋮ | ⋮ | ⋮ | ⋮ | ⋮ | ⋮ | ⋮ |\n",
       "| MI-408-H__metabat2_high_PE.004.fna.gz | d__Bacteria | p__Firmicutes_A | c__Clostridia_A | o__Christensenellales | f__CAG-74  | g__SFHK01 | s__SFHK01 sp004556395 | GCA_004556395.1 | 95.0 | ⋯ | 95.0 | d__Bacteria;p__Firmicutes_A;c__Clostridia_A;o__Christensenellales;f__CAG-74;g__SFHK01;s__SFHK01 sp004556395  | 98.47 | 0.89 | 93.85 | 11 | N/A | N/A | 225050 | species |\n",
       "| MI-423-H__metabat2_high_PE.025.fna.gz | d__Bacteria | p__Firmicutes_A | c__Clostridia_A | o__Christensenellales | f__CAG-138 | g__RUG472 | s__RUG472 sp900545265 | GCA_900545265.1 | 95.0 | ⋯ | 95.0 | d__Bacteria;p__Firmicutes_A;c__Clostridia_A;o__Christensenellales;f__CAG-138;g__RUG472;s__RUG472 sp900545265 | 98.69 | 0.94 | 84.07 | 11 | N/A | N/A | 218859 | species |\n",
       "\n"
      ],
      "text/plain": [
       "    user_genome                             Domain      Phylum         \n",
       "1   1002469__metabat2__HighNoCov.011.fna.gz d__Bacteria p__Firmicutes_A\n",
       "2   1002756__metabat2__Low.024.fna.gz       d__Bacteria p__Firmicutes_A\n",
       "⋮   ⋮                                       ⋮           ⋮              \n",
       "730 MI-408-H__metabat2_high_PE.004.fna.gz   d__Bacteria p__Firmicutes_A\n",
       "731 MI-423-H__metabat2_high_PE.025.fna.gz   d__Bacteria p__Firmicutes_A\n",
       "    Class           Order                 Family      Genus      \n",
       "1   c__Clostridia_A o__Christensenellales f__CAG-138  g__Phil1   \n",
       "2   c__Clostridia_A o__Christensenellales f__UMGS1908 g__UMGS1908\n",
       "⋮   ⋮               ⋮                     ⋮           ⋮          \n",
       "730 c__Clostridia_A o__Christensenellales f__CAG-74   g__SFHK01  \n",
       "731 c__Clostridia_A o__Christensenellales f__CAG-138  g__RUG472  \n",
       "    Species               fastani_reference fastani_reference_radius ⋯\n",
       "1   s__Phil1 sp001940855  GCA_001940855.1   95.0                     ⋯\n",
       "2   s__                   N/A               N/A                      ⋯\n",
       "⋮   ⋮                     ⋮                 ⋮                        ⋱\n",
       "730 s__SFHK01 sp004556395 GCA_004556395.1   95.0                     ⋯\n",
       "731 s__RUG472 sp900545265 GCA_900545265.1   95.0                     ⋯\n",
       "    closest_placement_radius\n",
       "1   95.0                    \n",
       "2   95.0                    \n",
       "⋮   ⋮                       \n",
       "730 95.0                    \n",
       "731 95.0                    \n",
       "    closest_placement_taxonomy                                                                                       \n",
       "1   d__Bacteria;p__Firmicutes_A;c__Clostridia_A;o__Christensenellales;f__CAG-138;g__Phil1;s__Phil1 sp001940855       \n",
       "2   d__Bacteria;p__Firmicutes_A;c__Clostridia_A;o__Christensenellales;f__UMGS1908;g__UMGS1908;s__UMGS1908 sp900556185\n",
       "⋮   ⋮                                                                                                                \n",
       "730 d__Bacteria;p__Firmicutes_A;c__Clostridia_A;o__Christensenellales;f__CAG-74;g__SFHK01;s__SFHK01 sp004556395      \n",
       "731 d__Bacteria;p__Firmicutes_A;c__Clostridia_A;o__Christensenellales;f__CAG-138;g__RUG472;s__RUG472 sp900545265     \n",
       "    closest_placement_ani closest_placement_af msa_percent translation_table\n",
       "1   97.1                  0.9                  92.90       11               \n",
       "2   77.88                 0.13                 82.62       11               \n",
       "⋮   ⋮                     ⋮                    ⋮           ⋮                \n",
       "730 98.47                 0.89                 93.85       11               \n",
       "731 98.69                 0.94                 84.07       11               \n",
       "    red_value          warnings taxid  taxid_rank\n",
       "1   N/A                N/A      153230 species   \n",
       "2   0.8811857065570132 N/A      232276 genus     \n",
       "⋮   ⋮                  ⋮        ⋮      ⋮         \n",
       "730 N/A                N/A      225050 species   \n",
       "731 N/A                N/A      218859 species   "
      ]
     },
     "metadata": {},
     "output_type": "display_data"
    }
   ],
   "source": [
    "# GTDBTk summary\n",
    "tax = file.path(work_dir, 'LLG_output', 'gtdbtk', 'gtdbtk_summary_wTaxid.tsv') %>%\n",
    "    read.delim(, sep='\\t') %>%\n",
    "    separate(classification, \n",
    "             c('Domain', 'Phylum', 'Class', 'Order', 'Family', 'Genus', 'Species'),\n",
    "             sep=';') %>%\n",
    "    select(-note, -classification_method, -pplacer_taxonomy,\n",
    "           -other_related_references.genome_id.species_name.radius.ANI.AF.)\n",
    "tax"
   ]
  },
  {
   "cell_type": "code",
   "execution_count": 127,
   "metadata": {
    "execution": {
     "iopub.execute_input": "2021-02-27T09:52:38.840721Z",
     "iopub.status.busy": "2021-02-27T09:52:38.837873Z",
     "iopub.status.idle": "2021-02-27T09:52:56.605217Z"
    }
   },
   "outputs": [
    {
     "name": "stdout",
     "output_type": "stream",
     "text": [
      "No. of unique taxids: 23 \n"
     ]
    },
    {
     "data": {
      "text/html": [
       "<table class=\"dataframe\">\n",
       "<caption>A tibble: 719 × 9</caption>\n",
       "<thead>\n",
       "\t<tr><th></th><th scope=col>user_genome</th><th scope=col>Domain</th><th scope=col>Phylum</th><th scope=col>Class</th><th scope=col>Order</th><th scope=col>Family</th><th scope=col>Genus</th><th scope=col>Species</th><th scope=col>ncbi_taxid</th></tr>\n",
       "\t<tr><th></th><th scope=col>&lt;chr&gt;</th><th scope=col>&lt;chr&gt;</th><th scope=col>&lt;chr&gt;</th><th scope=col>&lt;chr&gt;</th><th scope=col>&lt;chr&gt;</th><th scope=col>&lt;chr&gt;</th><th scope=col>&lt;chr&gt;</th><th scope=col>&lt;chr&gt;</th><th scope=col>&lt;int&gt;</th></tr>\n",
       "</thead>\n",
       "<tbody>\n",
       "\t<tr><th scope=row>1</th><td>1002379__metabat2__High.033.fna.gz    </td><td>d__Bacteria</td><td>p__Firmicutes_A</td><td>c__Clostridia_A</td><td>o__Christensenellales</td><td>f__CAG-917</td><td>g__CAG-475 </td><td>s__CAG-475 sp000434435 </td><td>1263026</td></tr>\n",
       "\t<tr><th scope=row>2</th><td>1002404__metabat2__LowNoCov.002.fna.gz</td><td>d__Bacteria</td><td>p__Firmicutes_A</td><td>c__Clostridia_A</td><td>o__Christensenellales</td><td>f__CAG-917</td><td>g__UMGS1688</td><td>s__UMGS1688 sp900544575</td><td> 172733</td></tr>\n",
       "\t<tr><th scope=row>⋮</th><td>⋮</td><td>⋮</td><td>⋮</td><td>⋮</td><td>⋮</td><td>⋮</td><td>⋮</td><td>⋮</td><td>⋮</td></tr>\n",
       "\t<tr><th scope=row>718</th><td>MI-448-H__maxbin2_low_prob.001.fna.gz</td><td>d__Bacteria</td><td>p__Firmicutes_A</td><td>c__Clostridia_A</td><td>o__Christensenellales</td><td>f__CAG-138</td><td>g__Phil1 </td><td>s__Phil1 sp001940855 </td><td>1262781</td></tr>\n",
       "\t<tr><th scope=row>719</th><td>MI-451-H__metabat2_low_PE.014.fna.gz </td><td>d__Bacteria</td><td>p__Firmicutes_A</td><td>c__Clostridia_A</td><td>o__Christensenellales</td><td>f__CAG-74 </td><td>g__SFMI01</td><td>s__SFMI01 sp004556155</td><td>1898207</td></tr>\n",
       "</tbody>\n",
       "</table>\n"
      ],
      "text/latex": [
       "A tibble: 719 × 9\n",
       "\\begin{tabular}{r|lllllllll}\n",
       "  & user\\_genome & Domain & Phylum & Class & Order & Family & Genus & Species & ncbi\\_taxid\\\\\n",
       "  & <chr> & <chr> & <chr> & <chr> & <chr> & <chr> & <chr> & <chr> & <int>\\\\\n",
       "\\hline\n",
       "\t1 & 1002379\\_\\_metabat2\\_\\_High.033.fna.gz     & d\\_\\_Bacteria & p\\_\\_Firmicutes\\_A & c\\_\\_Clostridia\\_A & o\\_\\_Christensenellales & f\\_\\_CAG-917 & g\\_\\_CAG-475  & s\\_\\_CAG-475 sp000434435  & 1263026\\\\\n",
       "\t2 & 1002404\\_\\_metabat2\\_\\_LowNoCov.002.fna.gz & d\\_\\_Bacteria & p\\_\\_Firmicutes\\_A & c\\_\\_Clostridia\\_A & o\\_\\_Christensenellales & f\\_\\_CAG-917 & g\\_\\_UMGS1688 & s\\_\\_UMGS1688 sp900544575 &  172733\\\\\n",
       "\t⋮ & ⋮ & ⋮ & ⋮ & ⋮ & ⋮ & ⋮ & ⋮ & ⋮ & ⋮\\\\\n",
       "\t718 & MI-448-H\\_\\_maxbin2\\_low\\_prob.001.fna.gz & d\\_\\_Bacteria & p\\_\\_Firmicutes\\_A & c\\_\\_Clostridia\\_A & o\\_\\_Christensenellales & f\\_\\_CAG-138 & g\\_\\_Phil1  & s\\_\\_Phil1 sp001940855  & 1262781\\\\\n",
       "\t719 & MI-451-H\\_\\_metabat2\\_low\\_PE.014.fna.gz  & d\\_\\_Bacteria & p\\_\\_Firmicutes\\_A & c\\_\\_Clostridia\\_A & o\\_\\_Christensenellales & f\\_\\_CAG-74  & g\\_\\_SFMI01 & s\\_\\_SFMI01 sp004556155 & 1898207\\\\\n",
       "\\end{tabular}\n"
      ],
      "text/markdown": [
       "\n",
       "A tibble: 719 × 9\n",
       "\n",
       "| <!--/--> | user_genome &lt;chr&gt; | Domain &lt;chr&gt; | Phylum &lt;chr&gt; | Class &lt;chr&gt; | Order &lt;chr&gt; | Family &lt;chr&gt; | Genus &lt;chr&gt; | Species &lt;chr&gt; | ncbi_taxid &lt;int&gt; |\n",
       "|---|---|---|---|---|---|---|---|---|---|\n",
       "| 1 | 1002379__metabat2__High.033.fna.gz     | d__Bacteria | p__Firmicutes_A | c__Clostridia_A | o__Christensenellales | f__CAG-917 | g__CAG-475  | s__CAG-475 sp000434435  | 1263026 |\n",
       "| 2 | 1002404__metabat2__LowNoCov.002.fna.gz | d__Bacteria | p__Firmicutes_A | c__Clostridia_A | o__Christensenellales | f__CAG-917 | g__UMGS1688 | s__UMGS1688 sp900544575 |  172733 |\n",
       "| ⋮ | ⋮ | ⋮ | ⋮ | ⋮ | ⋮ | ⋮ | ⋮ | ⋮ | ⋮ |\n",
       "| 718 | MI-448-H__maxbin2_low_prob.001.fna.gz | d__Bacteria | p__Firmicutes_A | c__Clostridia_A | o__Christensenellales | f__CAG-138 | g__Phil1  | s__Phil1 sp001940855  | 1262781 |\n",
       "| 719 | MI-451-H__metabat2_low_PE.014.fna.gz  | d__Bacteria | p__Firmicutes_A | c__Clostridia_A | o__Christensenellales | f__CAG-74  | g__SFMI01 | s__SFMI01 sp004556155 | 1898207 |\n",
       "\n"
      ],
      "text/plain": [
       "    user_genome                            Domain      Phylum         \n",
       "1   1002379__metabat2__High.033.fna.gz     d__Bacteria p__Firmicutes_A\n",
       "2   1002404__metabat2__LowNoCov.002.fna.gz d__Bacteria p__Firmicutes_A\n",
       "⋮   ⋮                                      ⋮           ⋮              \n",
       "718 MI-448-H__maxbin2_low_prob.001.fna.gz  d__Bacteria p__Firmicutes_A\n",
       "719 MI-451-H__metabat2_low_PE.014.fna.gz   d__Bacteria p__Firmicutes_A\n",
       "    Class           Order                 Family     Genus      \n",
       "1   c__Clostridia_A o__Christensenellales f__CAG-917 g__CAG-475 \n",
       "2   c__Clostridia_A o__Christensenellales f__CAG-917 g__UMGS1688\n",
       "⋮   ⋮               ⋮                     ⋮          ⋮          \n",
       "718 c__Clostridia_A o__Christensenellales f__CAG-138 g__Phil1   \n",
       "719 c__Clostridia_A o__Christensenellales f__CAG-74  g__SFMI01  \n",
       "    Species                 ncbi_taxid\n",
       "1   s__CAG-475 sp000434435  1263026   \n",
       "2   s__UMGS1688 sp900544575  172733   \n",
       "⋮   ⋮                       ⋮         \n",
       "718 s__Phil1 sp001940855    1262781   \n",
       "719 s__SFMI01 sp004556155   1898207   "
      ]
     },
     "metadata": {},
     "output_type": "display_data"
    }
   ],
   "source": [
    "# getting NCBI taxid from GTDB metadata\n",
    "D = '/ebio/abt3_projects/databases_no-backup/GTDB/release95/metadata/'\n",
    "F = file.path(D, 'bac120_metadata_r95.tsv')\n",
    "tax = tax %>%\n",
    "    inner_join(read.delim(F, sep='\\t') %>% select(gtdb_taxonomy, ncbi_taxonomy, ncbi_taxid), c('closest_placement_taxonomy'='gtdb_taxonomy')) %>%\n",
    "    group_by(user_genome, Domain, Phylum, Class, Order, Family, Genus, Species) %>%\n",
    "    summarize(ncbi_taxid = first(ncbi_taxid), .groups='drop')\n",
    "tax$ncbi_taxid %>% unique_n('taxids')\n",
    "tax"
   ]
  },
  {
   "cell_type": "code",
   "execution_count": 138,
   "metadata": {
    "execution": {
     "iopub.execute_input": "2021-02-27T10:56:58.545213Z",
     "iopub.status.busy": "2021-02-27T10:56:58.542218Z",
     "iopub.status.idle": "2021-02-27T10:56:58.569669Z"
    }
   },
   "outputs": [
    {
     "data": {
      "text/plain": [
       ".\n",
       " 244328  512298 1262970 1805714 1930013 1930014 2044939 2086585 1262797 1676160 \n",
       "      1       1       1       1       1       1       1       1       2       2 \n",
       "1816678 1851429 1946276   59620 2137878 1263026 1262770 1262775 1946247 1262897 \n",
       "      2       2       2       5       9      11      18      32      45     112 \n",
       "1898207  172733 1262781 \n",
       "    122     130     217 "
      ]
     },
     "metadata": {},
     "output_type": "display_data"
    }
   ],
   "source": [
    "tax$ncbi_taxid %>% table %>% sort"
   ]
  },
  {
   "cell_type": "code",
   "execution_count": 128,
   "metadata": {
    "execution": {
     "iopub.execute_input": "2021-02-27T09:52:56.609347Z",
     "iopub.status.busy": "2021-02-27T09:52:56.607893Z",
     "iopub.status.idle": "2021-02-27T09:52:56.644434Z"
    }
   },
   "outputs": [
    {
     "name": "stdout",
     "output_type": "stream",
     "text": [
      "-- drep --\n",
      "intersect(x,y): 665 \n",
      "setdiff(x,y): 0 \n",
      "setdiff(y,x): 66 \n",
      "union(x,y): 731 \n",
      "-- checkm --\n",
      "intersect(x,y): 731 \n",
      "setdiff(x,y): 0 \n",
      "setdiff(y,x): 0 \n",
      "union(x,y): 731 \n",
      "-- gtdbtk --\n",
      "intersect(x,y): 719 \n",
      "setdiff(x,y): 12 \n",
      "setdiff(y,x): 0 \n",
      "union(x,y): 731 \n"
     ]
    }
   ],
   "source": [
    "# checking overlap\n",
    "cat('-- drep --\\n')\n",
    "overlap(basename(as.character(drep_gen$Fasta)), \n",
    "        basename(as.character(drep$genome)))\n",
    "cat('-- checkm --\\n')\n",
    "overlap(drep$Bin.Id, checkm$Bin.Id)\n",
    "cat('-- gtdbtk --\\n')\n",
    "overlap(drep$Bin.Id, tax$user_genome)"
   ]
  },
  {
   "cell_type": "code",
   "execution_count": 129,
   "metadata": {
    "execution": {
     "iopub.execute_input": "2021-02-27T09:52:56.648844Z",
     "iopub.status.busy": "2021-02-27T09:52:56.646919Z",
     "iopub.status.idle": "2021-02-27T09:52:56.715159Z"
    }
   },
   "outputs": [
    {
     "data": {
      "text/html": [
       "<table class=\"dataframe\">\n",
       "<caption>A data.frame: 653 × 47</caption>\n",
       "<thead>\n",
       "\t<tr><th scope=col>genome</th><th scope=col>completeness</th><th scope=col>contamination</th><th scope=col>Bin.Id</th><th scope=col>Marker.lineage</th><th scope=col>X..genomes</th><th scope=col>X..markers</th><th scope=col>X..marker.sets</th><th scope=col>Completeness</th><th scope=col>Contamination</th><th scope=col>⋯</th><th scope=col>Name</th><th scope=col>Fasta</th><th scope=col>Domain</th><th scope=col>Phylum</th><th scope=col>Class</th><th scope=col>Order</th><th scope=col>Family</th><th scope=col>Genus</th><th scope=col>Species</th><th scope=col>ncbi_taxid</th></tr>\n",
       "\t<tr><th scope=col>&lt;chr&gt;</th><th scope=col>&lt;dbl&gt;</th><th scope=col>&lt;dbl&gt;</th><th scope=col>&lt;chr&gt;</th><th scope=col>&lt;chr&gt;</th><th scope=col>&lt;int&gt;</th><th scope=col>&lt;int&gt;</th><th scope=col>&lt;int&gt;</th><th scope=col>&lt;dbl&gt;</th><th scope=col>&lt;dbl&gt;</th><th scope=col>⋯</th><th scope=col>&lt;chr&gt;</th><th scope=col>&lt;chr&gt;</th><th scope=col>&lt;chr&gt;</th><th scope=col>&lt;chr&gt;</th><th scope=col>&lt;chr&gt;</th><th scope=col>&lt;chr&gt;</th><th scope=col>&lt;chr&gt;</th><th scope=col>&lt;chr&gt;</th><th scope=col>&lt;chr&gt;</th><th scope=col>&lt;int&gt;</th></tr>\n",
       "</thead>\n",
       "<tbody>\n",
       "\t<tr><td>/ebio/abt3_scratch/nyoungblut/LLG_62325884640/genomes/1002756__metabat2__Low.024.fna.gz.fna </td><td>72.41</td><td>0.02</td><td>1002756__metabat2__Low.024.fna.gz </td><td>o__Clostridiales (UID1120)</td><td>304</td><td>250</td><td>143</td><td>72.41</td><td>0.02</td><td>⋯</td><td>1002756__metabat2__Low.024.fna.gz </td><td>/ebio/abt3_projects/software/dev/ll_pipelines/llprimer/experiments/christensenellales/genomes/LLG_output/drep/drep/dereplicated_genomes/1002756__metabat2__Low.024.fna.gz.fna </td><td>d__Bacteria</td><td>p__Firmicutes_A</td><td>c__Clostridia_A</td><td>o__Christensenellales</td><td>f__UMGS1908</td><td>g__UMGS1908</td><td>s__                 </td><td> 172733</td></tr>\n",
       "\t<tr><td>/ebio/abt3_scratch/nyoungblut/LLG_62325884640/genomes/1006216__metabat2__High.023.fna.gz.fna</td><td>94.35</td><td>0.00</td><td>1006216__metabat2__High.023.fna.gz</td><td>c__Clostridia (UID1118)   </td><td>387</td><td>223</td><td>124</td><td>94.35</td><td>0.00</td><td>⋯</td><td>1006216__metabat2__High.023.fna.gz</td><td>/ebio/abt3_projects/software/dev/ll_pipelines/llprimer/experiments/christensenellales/genomes/LLG_output/drep/drep/dereplicated_genomes/1006216__metabat2__High.023.fna.gz.fna</td><td>d__Bacteria</td><td>p__Firmicutes_A</td><td>c__Clostridia_A</td><td>o__Christensenellales</td><td>f__CAG-138 </td><td>g__Phil1   </td><td>s__Phil1 sp001940855</td><td>1262781</td></tr>\n",
       "\t<tr><td>⋮</td><td>⋮</td><td>⋮</td><td>⋮</td><td>⋮</td><td>⋮</td><td>⋮</td><td>⋮</td><td>⋮</td><td>⋮</td><td>⋱</td><td>⋮</td><td>⋮</td><td>⋮</td><td>⋮</td><td>⋮</td><td>⋮</td><td>⋮</td><td>⋮</td><td>⋮</td><td>⋮</td></tr>\n",
       "\t<tr><td>/ebio/abt3_scratch/nyoungblut/LLG_62325884640/genomes/MI-408-H__metabat2_high_PE.004.fna.gz.fna</td><td>96.75</td><td>2.69</td><td>MI-408-H__metabat2_high_PE.004.fna.gz</td><td>c__Clostridia (UID1118)</td><td>387</td><td>223</td><td>124</td><td>96.75</td><td>2.69</td><td>⋯</td><td>MI-408-H__metabat2_high_PE.004.fna.gz</td><td>/ebio/abt3_projects/software/dev/ll_pipelines/llprimer/experiments/christensenellales/genomes/LLG_output/drep/drep/dereplicated_genomes/MI-408-H__metabat2_high_PE.004.fna.gz.fna</td><td>d__Bacteria</td><td>p__Firmicutes_A</td><td>c__Clostridia_A</td><td>o__Christensenellales</td><td>f__CAG-74 </td><td>g__SFHK01</td><td>s__SFHK01 sp004556395</td><td>1898207</td></tr>\n",
       "\t<tr><td>/ebio/abt3_scratch/nyoungblut/LLG_62325884640/genomes/MI-423-H__metabat2_high_PE.025.fna.gz.fna</td><td>79.38</td><td>0.00</td><td>MI-423-H__metabat2_high_PE.025.fna.gz</td><td>c__Clostridia (UID1118)</td><td>387</td><td>223</td><td>124</td><td>79.38</td><td>0.00</td><td>⋯</td><td>MI-423-H__metabat2_high_PE.025.fna.gz</td><td>/ebio/abt3_projects/software/dev/ll_pipelines/llprimer/experiments/christensenellales/genomes/LLG_output/drep/drep/dereplicated_genomes/MI-423-H__metabat2_high_PE.025.fna.gz.fna</td><td>d__Bacteria</td><td>p__Firmicutes_A</td><td>c__Clostridia_A</td><td>o__Christensenellales</td><td>f__CAG-138</td><td>g__RUG472</td><td>s__RUG472 sp900545265</td><td> 172733</td></tr>\n",
       "</tbody>\n",
       "</table>\n"
      ],
      "text/latex": [
       "A data.frame: 653 × 47\n",
       "\\begin{tabular}{lllllllllllllllllllll}\n",
       " genome & completeness & contamination & Bin.Id & Marker.lineage & X..genomes & X..markers & X..marker.sets & Completeness & Contamination & ⋯ & Name & Fasta & Domain & Phylum & Class & Order & Family & Genus & Species & ncbi\\_taxid\\\\\n",
       " <chr> & <dbl> & <dbl> & <chr> & <chr> & <int> & <int> & <int> & <dbl> & <dbl> & ⋯ & <chr> & <chr> & <chr> & <chr> & <chr> & <chr> & <chr> & <chr> & <chr> & <int>\\\\\n",
       "\\hline\n",
       "\t /ebio/abt3\\_scratch/nyoungblut/LLG\\_62325884640/genomes/1002756\\_\\_metabat2\\_\\_Low.024.fna.gz.fna  & 72.41 & 0.02 & 1002756\\_\\_metabat2\\_\\_Low.024.fna.gz  & o\\_\\_Clostridiales (UID1120) & 304 & 250 & 143 & 72.41 & 0.02 & ⋯ & 1002756\\_\\_metabat2\\_\\_Low.024.fna.gz  & /ebio/abt3\\_projects/software/dev/ll\\_pipelines/llprimer/experiments/christensenellales/genomes/LLG\\_output/drep/drep/dereplicated\\_genomes/1002756\\_\\_metabat2\\_\\_Low.024.fna.gz.fna  & d\\_\\_Bacteria & p\\_\\_Firmicutes\\_A & c\\_\\_Clostridia\\_A & o\\_\\_Christensenellales & f\\_\\_UMGS1908 & g\\_\\_UMGS1908 & s\\_\\_                  &  172733\\\\\n",
       "\t /ebio/abt3\\_scratch/nyoungblut/LLG\\_62325884640/genomes/1006216\\_\\_metabat2\\_\\_High.023.fna.gz.fna & 94.35 & 0.00 & 1006216\\_\\_metabat2\\_\\_High.023.fna.gz & c\\_\\_Clostridia (UID1118)    & 387 & 223 & 124 & 94.35 & 0.00 & ⋯ & 1006216\\_\\_metabat2\\_\\_High.023.fna.gz & /ebio/abt3\\_projects/software/dev/ll\\_pipelines/llprimer/experiments/christensenellales/genomes/LLG\\_output/drep/drep/dereplicated\\_genomes/1006216\\_\\_metabat2\\_\\_High.023.fna.gz.fna & d\\_\\_Bacteria & p\\_\\_Firmicutes\\_A & c\\_\\_Clostridia\\_A & o\\_\\_Christensenellales & f\\_\\_CAG-138  & g\\_\\_Phil1    & s\\_\\_Phil1 sp001940855 & 1262781\\\\\n",
       "\t ⋮ & ⋮ & ⋮ & ⋮ & ⋮ & ⋮ & ⋮ & ⋮ & ⋮ & ⋮ & ⋱ & ⋮ & ⋮ & ⋮ & ⋮ & ⋮ & ⋮ & ⋮ & ⋮ & ⋮ & ⋮\\\\\n",
       "\t /ebio/abt3\\_scratch/nyoungblut/LLG\\_62325884640/genomes/MI-408-H\\_\\_metabat2\\_high\\_PE.004.fna.gz.fna & 96.75 & 2.69 & MI-408-H\\_\\_metabat2\\_high\\_PE.004.fna.gz & c\\_\\_Clostridia (UID1118) & 387 & 223 & 124 & 96.75 & 2.69 & ⋯ & MI-408-H\\_\\_metabat2\\_high\\_PE.004.fna.gz & /ebio/abt3\\_projects/software/dev/ll\\_pipelines/llprimer/experiments/christensenellales/genomes/LLG\\_output/drep/drep/dereplicated\\_genomes/MI-408-H\\_\\_metabat2\\_high\\_PE.004.fna.gz.fna & d\\_\\_Bacteria & p\\_\\_Firmicutes\\_A & c\\_\\_Clostridia\\_A & o\\_\\_Christensenellales & f\\_\\_CAG-74  & g\\_\\_SFHK01 & s\\_\\_SFHK01 sp004556395 & 1898207\\\\\n",
       "\t /ebio/abt3\\_scratch/nyoungblut/LLG\\_62325884640/genomes/MI-423-H\\_\\_metabat2\\_high\\_PE.025.fna.gz.fna & 79.38 & 0.00 & MI-423-H\\_\\_metabat2\\_high\\_PE.025.fna.gz & c\\_\\_Clostridia (UID1118) & 387 & 223 & 124 & 79.38 & 0.00 & ⋯ & MI-423-H\\_\\_metabat2\\_high\\_PE.025.fna.gz & /ebio/abt3\\_projects/software/dev/ll\\_pipelines/llprimer/experiments/christensenellales/genomes/LLG\\_output/drep/drep/dereplicated\\_genomes/MI-423-H\\_\\_metabat2\\_high\\_PE.025.fna.gz.fna & d\\_\\_Bacteria & p\\_\\_Firmicutes\\_A & c\\_\\_Clostridia\\_A & o\\_\\_Christensenellales & f\\_\\_CAG-138 & g\\_\\_RUG472 & s\\_\\_RUG472 sp900545265 &  172733\\\\\n",
       "\\end{tabular}\n"
      ],
      "text/markdown": [
       "\n",
       "A data.frame: 653 × 47\n",
       "\n",
       "| genome &lt;chr&gt; | completeness &lt;dbl&gt; | contamination &lt;dbl&gt; | Bin.Id &lt;chr&gt; | Marker.lineage &lt;chr&gt; | X..genomes &lt;int&gt; | X..markers &lt;int&gt; | X..marker.sets &lt;int&gt; | Completeness &lt;dbl&gt; | Contamination &lt;dbl&gt; | ⋯ ⋯ | Name &lt;chr&gt; | Fasta &lt;chr&gt; | Domain &lt;chr&gt; | Phylum &lt;chr&gt; | Class &lt;chr&gt; | Order &lt;chr&gt; | Family &lt;chr&gt; | Genus &lt;chr&gt; | Species &lt;chr&gt; | ncbi_taxid &lt;int&gt; |\n",
       "|---|---|---|---|---|---|---|---|---|---|---|---|---|---|---|---|---|---|---|---|---|\n",
       "| /ebio/abt3_scratch/nyoungblut/LLG_62325884640/genomes/1002756__metabat2__Low.024.fna.gz.fna  | 72.41 | 0.02 | 1002756__metabat2__Low.024.fna.gz  | o__Clostridiales (UID1120) | 304 | 250 | 143 | 72.41 | 0.02 | ⋯ | 1002756__metabat2__Low.024.fna.gz  | /ebio/abt3_projects/software/dev/ll_pipelines/llprimer/experiments/christensenellales/genomes/LLG_output/drep/drep/dereplicated_genomes/1002756__metabat2__Low.024.fna.gz.fna  | d__Bacteria | p__Firmicutes_A | c__Clostridia_A | o__Christensenellales | f__UMGS1908 | g__UMGS1908 | s__                  |  172733 |\n",
       "| /ebio/abt3_scratch/nyoungblut/LLG_62325884640/genomes/1006216__metabat2__High.023.fna.gz.fna | 94.35 | 0.00 | 1006216__metabat2__High.023.fna.gz | c__Clostridia (UID1118)    | 387 | 223 | 124 | 94.35 | 0.00 | ⋯ | 1006216__metabat2__High.023.fna.gz | /ebio/abt3_projects/software/dev/ll_pipelines/llprimer/experiments/christensenellales/genomes/LLG_output/drep/drep/dereplicated_genomes/1006216__metabat2__High.023.fna.gz.fna | d__Bacteria | p__Firmicutes_A | c__Clostridia_A | o__Christensenellales | f__CAG-138  | g__Phil1    | s__Phil1 sp001940855 | 1262781 |\n",
       "| ⋮ | ⋮ | ⋮ | ⋮ | ⋮ | ⋮ | ⋮ | ⋮ | ⋮ | ⋮ | ⋱ | ⋮ | ⋮ | ⋮ | ⋮ | ⋮ | ⋮ | ⋮ | ⋮ | ⋮ | ⋮ |\n",
       "| /ebio/abt3_scratch/nyoungblut/LLG_62325884640/genomes/MI-408-H__metabat2_high_PE.004.fna.gz.fna | 96.75 | 2.69 | MI-408-H__metabat2_high_PE.004.fna.gz | c__Clostridia (UID1118) | 387 | 223 | 124 | 96.75 | 2.69 | ⋯ | MI-408-H__metabat2_high_PE.004.fna.gz | /ebio/abt3_projects/software/dev/ll_pipelines/llprimer/experiments/christensenellales/genomes/LLG_output/drep/drep/dereplicated_genomes/MI-408-H__metabat2_high_PE.004.fna.gz.fna | d__Bacteria | p__Firmicutes_A | c__Clostridia_A | o__Christensenellales | f__CAG-74  | g__SFHK01 | s__SFHK01 sp004556395 | 1898207 |\n",
       "| /ebio/abt3_scratch/nyoungblut/LLG_62325884640/genomes/MI-423-H__metabat2_high_PE.025.fna.gz.fna | 79.38 | 0.00 | MI-423-H__metabat2_high_PE.025.fna.gz | c__Clostridia (UID1118) | 387 | 223 | 124 | 79.38 | 0.00 | ⋯ | MI-423-H__metabat2_high_PE.025.fna.gz | /ebio/abt3_projects/software/dev/ll_pipelines/llprimer/experiments/christensenellales/genomes/LLG_output/drep/drep/dereplicated_genomes/MI-423-H__metabat2_high_PE.025.fna.gz.fna | d__Bacteria | p__Firmicutes_A | c__Clostridia_A | o__Christensenellales | f__CAG-138 | g__RUG472 | s__RUG472 sp900545265 |  172733 |\n",
       "\n"
      ],
      "text/plain": [
       "    genome                                                                                         \n",
       "1   /ebio/abt3_scratch/nyoungblut/LLG_62325884640/genomes/1002756__metabat2__Low.024.fna.gz.fna    \n",
       "2   /ebio/abt3_scratch/nyoungblut/LLG_62325884640/genomes/1006216__metabat2__High.023.fna.gz.fna   \n",
       "⋮   ⋮                                                                                              \n",
       "652 /ebio/abt3_scratch/nyoungblut/LLG_62325884640/genomes/MI-408-H__metabat2_high_PE.004.fna.gz.fna\n",
       "653 /ebio/abt3_scratch/nyoungblut/LLG_62325884640/genomes/MI-423-H__metabat2_high_PE.025.fna.gz.fna\n",
       "    completeness contamination Bin.Id                               \n",
       "1   72.41        0.02          1002756__metabat2__Low.024.fna.gz    \n",
       "2   94.35        0.00          1006216__metabat2__High.023.fna.gz   \n",
       "⋮   ⋮            ⋮             ⋮                                    \n",
       "652 96.75        2.69          MI-408-H__metabat2_high_PE.004.fna.gz\n",
       "653 79.38        0.00          MI-423-H__metabat2_high_PE.025.fna.gz\n",
       "    Marker.lineage             X..genomes X..markers X..marker.sets\n",
       "1   o__Clostridiales (UID1120) 304        250        143           \n",
       "2   c__Clostridia (UID1118)    387        223        124           \n",
       "⋮   ⋮                          ⋮          ⋮          ⋮             \n",
       "652 c__Clostridia (UID1118)    387        223        124           \n",
       "653 c__Clostridia (UID1118)    387        223        124           \n",
       "    Completeness Contamination ⋯ Name                                 \n",
       "1   72.41        0.02          ⋯ 1002756__metabat2__Low.024.fna.gz    \n",
       "2   94.35        0.00          ⋯ 1006216__metabat2__High.023.fna.gz   \n",
       "⋮   ⋮            ⋮             ⋱ ⋮                                    \n",
       "652 96.75        2.69          ⋯ MI-408-H__metabat2_high_PE.004.fna.gz\n",
       "653 79.38        0.00          ⋯ MI-423-H__metabat2_high_PE.025.fna.gz\n",
       "    Fasta                                                                                                                                                                            \n",
       "1   /ebio/abt3_projects/software/dev/ll_pipelines/llprimer/experiments/christensenellales/genomes/LLG_output/drep/drep/dereplicated_genomes/1002756__metabat2__Low.024.fna.gz.fna    \n",
       "2   /ebio/abt3_projects/software/dev/ll_pipelines/llprimer/experiments/christensenellales/genomes/LLG_output/drep/drep/dereplicated_genomes/1006216__metabat2__High.023.fna.gz.fna   \n",
       "⋮   ⋮                                                                                                                                                                                \n",
       "652 /ebio/abt3_projects/software/dev/ll_pipelines/llprimer/experiments/christensenellales/genomes/LLG_output/drep/drep/dereplicated_genomes/MI-408-H__metabat2_high_PE.004.fna.gz.fna\n",
       "653 /ebio/abt3_projects/software/dev/ll_pipelines/llprimer/experiments/christensenellales/genomes/LLG_output/drep/drep/dereplicated_genomes/MI-423-H__metabat2_high_PE.025.fna.gz.fna\n",
       "    Domain      Phylum          Class           Order                \n",
       "1   d__Bacteria p__Firmicutes_A c__Clostridia_A o__Christensenellales\n",
       "2   d__Bacteria p__Firmicutes_A c__Clostridia_A o__Christensenellales\n",
       "⋮   ⋮           ⋮               ⋮               ⋮                    \n",
       "652 d__Bacteria p__Firmicutes_A c__Clostridia_A o__Christensenellales\n",
       "653 d__Bacteria p__Firmicutes_A c__Clostridia_A o__Christensenellales\n",
       "    Family      Genus       Species               ncbi_taxid\n",
       "1   f__UMGS1908 g__UMGS1908 s__                    172733   \n",
       "2   f__CAG-138  g__Phil1    s__Phil1 sp001940855  1262781   \n",
       "⋮   ⋮           ⋮           ⋮                     ⋮         \n",
       "652 f__CAG-74   g__SFHK01   s__SFHK01 sp004556395 1898207   \n",
       "653 f__CAG-138  g__RUG472   s__RUG472 sp900545265  172733   "
      ]
     },
     "metadata": {},
     "output_type": "display_data"
    }
   ],
   "source": [
    "# joining based on Bin.Id\n",
    "drep = drep %>%\n",
    "    inner_join(checkm, c('Bin.Id')) %>%\n",
    "    mutate(GEN = genome %>% as.character %>% basename) %>%\n",
    "    inner_join(drep_gen %>% mutate(GEN = Fasta %>% as.character %>% basename),\n",
    "               by=c('GEN')) %>%\n",
    "    inner_join(tax, c('Bin.Id'='user_genome')) #%>%\n",
    "drep"
   ]
  },
  {
   "cell_type": "code",
   "execution_count": 130,
   "metadata": {
    "execution": {
     "iopub.execute_input": "2021-02-27T09:52:56.719695Z",
     "iopub.status.busy": "2021-02-27T09:52:56.717975Z",
     "iopub.status.idle": "2021-02-27T09:52:56.761857Z"
    }
   },
   "outputs": [
    {
     "data": {
      "text/html": [
       "<table class=\"dataframe\">\n",
       "<caption>A tibble: 13 × 3</caption>\n",
       "<thead>\n",
       "\t<tr><th></th><th scope=col>Order</th><th scope=col>Family</th><th scope=col>n_genomes</th></tr>\n",
       "\t<tr><th></th><th scope=col>&lt;chr&gt;</th><th scope=col>&lt;chr&gt;</th><th scope=col>&lt;int&gt;</th></tr>\n",
       "</thead>\n",
       "<tbody>\n",
       "\t<tr><th scope=row>1</th><td>o__Christensenellales</td><td>f__Borkfalkiaceae     </td><td>  6</td></tr>\n",
       "\t<tr><th scope=row>2</th><td>o__Christensenellales</td><td>f__CAG-138            </td><td>348</td></tr>\n",
       "\t<tr><th scope=row>3</th><td>o__Christensenellales</td><td>f__CAG-314            </td><td>  3</td></tr>\n",
       "\t<tr><th scope=row>4</th><td>o__Christensenellales</td><td>f__CAG-552            </td><td>  4</td></tr>\n",
       "\t<tr><th scope=row>5</th><td>o__Christensenellales</td><td>f__CAG-74             </td><td>230</td></tr>\n",
       "\t<tr><th scope=row>6</th><td>o__Christensenellales</td><td>f__CAG-917            </td><td> 18</td></tr>\n",
       "\t<tr><th scope=row>7</th><td>o__Christensenellales</td><td>f__Christensenellaceae</td><td>  9</td></tr>\n",
       "\t<tr><th scope=row>8</th><td>o__Christensenellales</td><td>f__GCA-900066905      </td><td>  1</td></tr>\n",
       "\t<tr><th scope=row>9</th><td>o__Christensenellales</td><td>f__MARSEILLE-P3954    </td><td>  1</td></tr>\n",
       "\t<tr><th scope=row>10</th><td>o__Christensenellales</td><td>f__QALW01             </td><td> 15</td></tr>\n",
       "\t<tr><th scope=row>11</th><td>o__Christensenellales</td><td>f__QAND01             </td><td> 16</td></tr>\n",
       "\t<tr><th scope=row>12</th><td>o__Christensenellales</td><td>f__SZUA-584           </td><td>  1</td></tr>\n",
       "\t<tr><th scope=row>13</th><td>o__Christensenellales</td><td>f__UMGS1908           </td><td>  1</td></tr>\n",
       "</tbody>\n",
       "</table>\n"
      ],
      "text/latex": [
       "A tibble: 13 × 3\n",
       "\\begin{tabular}{r|lll}\n",
       "  & Order & Family & n\\_genomes\\\\\n",
       "  & <chr> & <chr> & <int>\\\\\n",
       "\\hline\n",
       "\t1 & o\\_\\_Christensenellales & f\\_\\_Borkfalkiaceae      &   6\\\\\n",
       "\t2 & o\\_\\_Christensenellales & f\\_\\_CAG-138             & 348\\\\\n",
       "\t3 & o\\_\\_Christensenellales & f\\_\\_CAG-314             &   3\\\\\n",
       "\t4 & o\\_\\_Christensenellales & f\\_\\_CAG-552             &   4\\\\\n",
       "\t5 & o\\_\\_Christensenellales & f\\_\\_CAG-74              & 230\\\\\n",
       "\t6 & o\\_\\_Christensenellales & f\\_\\_CAG-917             &  18\\\\\n",
       "\t7 & o\\_\\_Christensenellales & f\\_\\_Christensenellaceae &   9\\\\\n",
       "\t8 & o\\_\\_Christensenellales & f\\_\\_GCA-900066905       &   1\\\\\n",
       "\t9 & o\\_\\_Christensenellales & f\\_\\_MARSEILLE-P3954     &   1\\\\\n",
       "\t10 & o\\_\\_Christensenellales & f\\_\\_QALW01              &  15\\\\\n",
       "\t11 & o\\_\\_Christensenellales & f\\_\\_QAND01              &  16\\\\\n",
       "\t12 & o\\_\\_Christensenellales & f\\_\\_SZUA-584            &   1\\\\\n",
       "\t13 & o\\_\\_Christensenellales & f\\_\\_UMGS1908            &   1\\\\\n",
       "\\end{tabular}\n"
      ],
      "text/markdown": [
       "\n",
       "A tibble: 13 × 3\n",
       "\n",
       "| <!--/--> | Order &lt;chr&gt; | Family &lt;chr&gt; | n_genomes &lt;int&gt; |\n",
       "|---|---|---|---|\n",
       "| 1 | o__Christensenellales | f__Borkfalkiaceae      |   6 |\n",
       "| 2 | o__Christensenellales | f__CAG-138             | 348 |\n",
       "| 3 | o__Christensenellales | f__CAG-314             |   3 |\n",
       "| 4 | o__Christensenellales | f__CAG-552             |   4 |\n",
       "| 5 | o__Christensenellales | f__CAG-74              | 230 |\n",
       "| 6 | o__Christensenellales | f__CAG-917             |  18 |\n",
       "| 7 | o__Christensenellales | f__Christensenellaceae |   9 |\n",
       "| 8 | o__Christensenellales | f__GCA-900066905       |   1 |\n",
       "| 9 | o__Christensenellales | f__MARSEILLE-P3954     |   1 |\n",
       "| 10 | o__Christensenellales | f__QALW01              |  15 |\n",
       "| 11 | o__Christensenellales | f__QAND01              |  16 |\n",
       "| 12 | o__Christensenellales | f__SZUA-584            |   1 |\n",
       "| 13 | o__Christensenellales | f__UMGS1908            |   1 |\n",
       "\n"
      ],
      "text/plain": [
       "   Order                 Family                 n_genomes\n",
       "1  o__Christensenellales f__Borkfalkiaceae        6      \n",
       "2  o__Christensenellales f__CAG-138             348      \n",
       "3  o__Christensenellales f__CAG-314               3      \n",
       "4  o__Christensenellales f__CAG-552               4      \n",
       "5  o__Christensenellales f__CAG-74              230      \n",
       "6  o__Christensenellales f__CAG-917              18      \n",
       "7  o__Christensenellales f__Christensenellaceae   9      \n",
       "8  o__Christensenellales f__GCA-900066905         1      \n",
       "9  o__Christensenellales f__MARSEILLE-P3954       1      \n",
       "10 o__Christensenellales f__QALW01               15      \n",
       "11 o__Christensenellales f__QAND01               16      \n",
       "12 o__Christensenellales f__SZUA-584              1      \n",
       "13 o__Christensenellales f__UMGS1908              1      "
      ]
     },
     "metadata": {},
     "output_type": "display_data"
    }
   ],
   "source": [
    "# summarizing the taxonomy\n",
    "df.dims(20)\n",
    "drep %>%\n",
    "    group_by(Order, Family) %>%\n",
    "    summarize(n_genomes = n(), .groups='drop')\n",
    "df.dims()"
   ]
  },
  {
   "cell_type": "code",
   "execution_count": 131,
   "metadata": {
    "execution": {
     "iopub.execute_input": "2021-02-27T09:52:56.767201Z",
     "iopub.status.busy": "2021-02-27T09:52:56.764281Z",
     "iopub.status.idle": "2021-02-27T09:52:56.814865Z"
    }
   },
   "outputs": [
    {
     "data": {
      "text/html": [
       "<table class=\"dataframe\">\n",
       "<caption>A data.frame: 265 × 47</caption>\n",
       "<thead>\n",
       "\t<tr><th scope=col>genome</th><th scope=col>completeness</th><th scope=col>contamination</th><th scope=col>Bin.Id</th><th scope=col>Marker.lineage</th><th scope=col>X..genomes</th><th scope=col>X..markers</th><th scope=col>X..marker.sets</th><th scope=col>Completeness</th><th scope=col>Contamination</th><th scope=col>⋯</th><th scope=col>Name</th><th scope=col>Fasta</th><th scope=col>Domain</th><th scope=col>Phylum</th><th scope=col>Class</th><th scope=col>Order</th><th scope=col>Family</th><th scope=col>Genus</th><th scope=col>Species</th><th scope=col>ncbi_taxid</th></tr>\n",
       "\t<tr><th scope=col>&lt;chr&gt;</th><th scope=col>&lt;dbl&gt;</th><th scope=col>&lt;dbl&gt;</th><th scope=col>&lt;chr&gt;</th><th scope=col>&lt;chr&gt;</th><th scope=col>&lt;int&gt;</th><th scope=col>&lt;int&gt;</th><th scope=col>&lt;int&gt;</th><th scope=col>&lt;dbl&gt;</th><th scope=col>&lt;dbl&gt;</th><th scope=col>⋯</th><th scope=col>&lt;chr&gt;</th><th scope=col>&lt;chr&gt;</th><th scope=col>&lt;chr&gt;</th><th scope=col>&lt;chr&gt;</th><th scope=col>&lt;chr&gt;</th><th scope=col>&lt;chr&gt;</th><th scope=col>&lt;chr&gt;</th><th scope=col>&lt;chr&gt;</th><th scope=col>&lt;chr&gt;</th><th scope=col>&lt;int&gt;</th></tr>\n",
       "</thead>\n",
       "<tbody>\n",
       "\t<tr><td>/ebio/abt3_scratch/nyoungblut/LLG_62325884640/genomes/1006216__metabat2__High.023.fna.gz.fna   </td><td>94.35</td><td>0</td><td>1006216__metabat2__High.023.fna.gz   </td><td>c__Clostridia (UID1118)</td><td>387</td><td>223</td><td>124</td><td>94.35</td><td>0</td><td>⋯</td><td>1006216__metabat2__High.023.fna.gz   </td><td>/ebio/abt3_projects/software/dev/ll_pipelines/llprimer/experiments/christensenellales/genomes/LLG_output/drep/drep/dereplicated_genomes/1006216__metabat2__High.023.fna.gz.fna   </td><td>d__Bacteria</td><td>p__Firmicutes_A</td><td>c__Clostridia_A</td><td>o__Christensenellales</td><td>f__CAG-138</td><td>g__Phil1</td><td>s__Phil1 sp001940855</td><td>1262781</td></tr>\n",
       "\t<tr><td>/ebio/abt3_scratch/nyoungblut/LLG_62325884640/genomes/ERR3450721__metabat2__High.043.fna.gz.fna</td><td>96.77</td><td>0</td><td>ERR3450721__metabat2__High.043.fna.gz</td><td>c__Clostridia (UID1118)</td><td>387</td><td>223</td><td>124</td><td>96.77</td><td>0</td><td>⋯</td><td>ERR3450721__metabat2__High.043.fna.gz</td><td>/ebio/abt3_projects/software/dev/ll_pipelines/llprimer/experiments/christensenellales/genomes/LLG_output/drep/drep/dereplicated_genomes/ERR3450721__metabat2__High.043.fna.gz.fna</td><td>d__Bacteria</td><td>p__Firmicutes_A</td><td>c__Clostridia_A</td><td>o__Christensenellales</td><td>f__CAG-138</td><td>g__Phil1</td><td>s__Phil1 sp001940855</td><td>1262781</td></tr>\n",
       "\t<tr><td>⋮</td><td>⋮</td><td>⋮</td><td>⋮</td><td>⋮</td><td>⋮</td><td>⋮</td><td>⋮</td><td>⋮</td><td>⋮</td><td>⋱</td><td>⋮</td><td>⋮</td><td>⋮</td><td>⋮</td><td>⋮</td><td>⋮</td><td>⋮</td><td>⋮</td><td>⋮</td><td>⋮</td></tr>\n",
       "\t<tr><td>/ebio/abt3_scratch/nyoungblut/LLG_62325884640/genomes/MI-326-H__metabat2_low_PE.034.fna.gz.fna </td><td>99.19</td><td>1.01</td><td>MI-326-H__metabat2_low_PE.034.fna.gz </td><td>c__Clostridia (UID1118)</td><td>387</td><td>223</td><td>124</td><td>99.19</td><td>1.01</td><td>⋯</td><td>MI-326-H__metabat2_low_PE.034.fna.gz </td><td>/ebio/abt3_projects/software/dev/ll_pipelines/llprimer/experiments/christensenellales/genomes/LLG_output/drep/drep/dereplicated_genomes/MI-326-H__metabat2_low_PE.034.fna.gz.fna </td><td>d__Bacteria</td><td>p__Firmicutes_A</td><td>c__Clostridia_A</td><td>o__Christensenellales</td><td>f__CAG-74</td><td>g__UBA11524</td><td>s__UBA11524 sp000437595</td><td>1262897</td></tr>\n",
       "\t<tr><td>/ebio/abt3_scratch/nyoungblut/LLG_62325884640/genomes/MI-408-H__metabat2_high_PE.004.fna.gz.fna</td><td>96.75</td><td>2.69</td><td>MI-408-H__metabat2_high_PE.004.fna.gz</td><td>c__Clostridia (UID1118)</td><td>387</td><td>223</td><td>124</td><td>96.75</td><td>2.69</td><td>⋯</td><td>MI-408-H__metabat2_high_PE.004.fna.gz</td><td>/ebio/abt3_projects/software/dev/ll_pipelines/llprimer/experiments/christensenellales/genomes/LLG_output/drep/drep/dereplicated_genomes/MI-408-H__metabat2_high_PE.004.fna.gz.fna</td><td>d__Bacteria</td><td>p__Firmicutes_A</td><td>c__Clostridia_A</td><td>o__Christensenellales</td><td>f__CAG-74</td><td>g__SFHK01  </td><td>s__SFHK01 sp004556395  </td><td>1898207</td></tr>\n",
       "</tbody>\n",
       "</table>\n"
      ],
      "text/latex": [
       "A data.frame: 265 × 47\n",
       "\\begin{tabular}{lllllllllllllllllllll}\n",
       " genome & completeness & contamination & Bin.Id & Marker.lineage & X..genomes & X..markers & X..marker.sets & Completeness & Contamination & ⋯ & Name & Fasta & Domain & Phylum & Class & Order & Family & Genus & Species & ncbi\\_taxid\\\\\n",
       " <chr> & <dbl> & <dbl> & <chr> & <chr> & <int> & <int> & <int> & <dbl> & <dbl> & ⋯ & <chr> & <chr> & <chr> & <chr> & <chr> & <chr> & <chr> & <chr> & <chr> & <int>\\\\\n",
       "\\hline\n",
       "\t /ebio/abt3\\_scratch/nyoungblut/LLG\\_62325884640/genomes/1006216\\_\\_metabat2\\_\\_High.023.fna.gz.fna    & 94.35 & 0 & 1006216\\_\\_metabat2\\_\\_High.023.fna.gz    & c\\_\\_Clostridia (UID1118) & 387 & 223 & 124 & 94.35 & 0 & ⋯ & 1006216\\_\\_metabat2\\_\\_High.023.fna.gz    & /ebio/abt3\\_projects/software/dev/ll\\_pipelines/llprimer/experiments/christensenellales/genomes/LLG\\_output/drep/drep/dereplicated\\_genomes/1006216\\_\\_metabat2\\_\\_High.023.fna.gz.fna    & d\\_\\_Bacteria & p\\_\\_Firmicutes\\_A & c\\_\\_Clostridia\\_A & o\\_\\_Christensenellales & f\\_\\_CAG-138 & g\\_\\_Phil1 & s\\_\\_Phil1 sp001940855 & 1262781\\\\\n",
       "\t /ebio/abt3\\_scratch/nyoungblut/LLG\\_62325884640/genomes/ERR3450721\\_\\_metabat2\\_\\_High.043.fna.gz.fna & 96.77 & 0 & ERR3450721\\_\\_metabat2\\_\\_High.043.fna.gz & c\\_\\_Clostridia (UID1118) & 387 & 223 & 124 & 96.77 & 0 & ⋯ & ERR3450721\\_\\_metabat2\\_\\_High.043.fna.gz & /ebio/abt3\\_projects/software/dev/ll\\_pipelines/llprimer/experiments/christensenellales/genomes/LLG\\_output/drep/drep/dereplicated\\_genomes/ERR3450721\\_\\_metabat2\\_\\_High.043.fna.gz.fna & d\\_\\_Bacteria & p\\_\\_Firmicutes\\_A & c\\_\\_Clostridia\\_A & o\\_\\_Christensenellales & f\\_\\_CAG-138 & g\\_\\_Phil1 & s\\_\\_Phil1 sp001940855 & 1262781\\\\\n",
       "\t ⋮ & ⋮ & ⋮ & ⋮ & ⋮ & ⋮ & ⋮ & ⋮ & ⋮ & ⋮ & ⋱ & ⋮ & ⋮ & ⋮ & ⋮ & ⋮ & ⋮ & ⋮ & ⋮ & ⋮ & ⋮\\\\\n",
       "\t /ebio/abt3\\_scratch/nyoungblut/LLG\\_62325884640/genomes/MI-326-H\\_\\_metabat2\\_low\\_PE.034.fna.gz.fna  & 99.19 & 1.01 & MI-326-H\\_\\_metabat2\\_low\\_PE.034.fna.gz  & c\\_\\_Clostridia (UID1118) & 387 & 223 & 124 & 99.19 & 1.01 & ⋯ & MI-326-H\\_\\_metabat2\\_low\\_PE.034.fna.gz  & /ebio/abt3\\_projects/software/dev/ll\\_pipelines/llprimer/experiments/christensenellales/genomes/LLG\\_output/drep/drep/dereplicated\\_genomes/MI-326-H\\_\\_metabat2\\_low\\_PE.034.fna.gz.fna  & d\\_\\_Bacteria & p\\_\\_Firmicutes\\_A & c\\_\\_Clostridia\\_A & o\\_\\_Christensenellales & f\\_\\_CAG-74 & g\\_\\_UBA11524 & s\\_\\_UBA11524 sp000437595 & 1262897\\\\\n",
       "\t /ebio/abt3\\_scratch/nyoungblut/LLG\\_62325884640/genomes/MI-408-H\\_\\_metabat2\\_high\\_PE.004.fna.gz.fna & 96.75 & 2.69 & MI-408-H\\_\\_metabat2\\_high\\_PE.004.fna.gz & c\\_\\_Clostridia (UID1118) & 387 & 223 & 124 & 96.75 & 2.69 & ⋯ & MI-408-H\\_\\_metabat2\\_high\\_PE.004.fna.gz & /ebio/abt3\\_projects/software/dev/ll\\_pipelines/llprimer/experiments/christensenellales/genomes/LLG\\_output/drep/drep/dereplicated\\_genomes/MI-408-H\\_\\_metabat2\\_high\\_PE.004.fna.gz.fna & d\\_\\_Bacteria & p\\_\\_Firmicutes\\_A & c\\_\\_Clostridia\\_A & o\\_\\_Christensenellales & f\\_\\_CAG-74 & g\\_\\_SFHK01   & s\\_\\_SFHK01 sp004556395   & 1898207\\\\\n",
       "\\end{tabular}\n"
      ],
      "text/markdown": [
       "\n",
       "A data.frame: 265 × 47\n",
       "\n",
       "| genome &lt;chr&gt; | completeness &lt;dbl&gt; | contamination &lt;dbl&gt; | Bin.Id &lt;chr&gt; | Marker.lineage &lt;chr&gt; | X..genomes &lt;int&gt; | X..markers &lt;int&gt; | X..marker.sets &lt;int&gt; | Completeness &lt;dbl&gt; | Contamination &lt;dbl&gt; | ⋯ ⋯ | Name &lt;chr&gt; | Fasta &lt;chr&gt; | Domain &lt;chr&gt; | Phylum &lt;chr&gt; | Class &lt;chr&gt; | Order &lt;chr&gt; | Family &lt;chr&gt; | Genus &lt;chr&gt; | Species &lt;chr&gt; | ncbi_taxid &lt;int&gt; |\n",
       "|---|---|---|---|---|---|---|---|---|---|---|---|---|---|---|---|---|---|---|---|---|\n",
       "| /ebio/abt3_scratch/nyoungblut/LLG_62325884640/genomes/1006216__metabat2__High.023.fna.gz.fna    | 94.35 | 0 | 1006216__metabat2__High.023.fna.gz    | c__Clostridia (UID1118) | 387 | 223 | 124 | 94.35 | 0 | ⋯ | 1006216__metabat2__High.023.fna.gz    | /ebio/abt3_projects/software/dev/ll_pipelines/llprimer/experiments/christensenellales/genomes/LLG_output/drep/drep/dereplicated_genomes/1006216__metabat2__High.023.fna.gz.fna    | d__Bacteria | p__Firmicutes_A | c__Clostridia_A | o__Christensenellales | f__CAG-138 | g__Phil1 | s__Phil1 sp001940855 | 1262781 |\n",
       "| /ebio/abt3_scratch/nyoungblut/LLG_62325884640/genomes/ERR3450721__metabat2__High.043.fna.gz.fna | 96.77 | 0 | ERR3450721__metabat2__High.043.fna.gz | c__Clostridia (UID1118) | 387 | 223 | 124 | 96.77 | 0 | ⋯ | ERR3450721__metabat2__High.043.fna.gz | /ebio/abt3_projects/software/dev/ll_pipelines/llprimer/experiments/christensenellales/genomes/LLG_output/drep/drep/dereplicated_genomes/ERR3450721__metabat2__High.043.fna.gz.fna | d__Bacteria | p__Firmicutes_A | c__Clostridia_A | o__Christensenellales | f__CAG-138 | g__Phil1 | s__Phil1 sp001940855 | 1262781 |\n",
       "| ⋮ | ⋮ | ⋮ | ⋮ | ⋮ | ⋮ | ⋮ | ⋮ | ⋮ | ⋮ | ⋱ | ⋮ | ⋮ | ⋮ | ⋮ | ⋮ | ⋮ | ⋮ | ⋮ | ⋮ | ⋮ |\n",
       "| /ebio/abt3_scratch/nyoungblut/LLG_62325884640/genomes/MI-326-H__metabat2_low_PE.034.fna.gz.fna  | 99.19 | 1.01 | MI-326-H__metabat2_low_PE.034.fna.gz  | c__Clostridia (UID1118) | 387 | 223 | 124 | 99.19 | 1.01 | ⋯ | MI-326-H__metabat2_low_PE.034.fna.gz  | /ebio/abt3_projects/software/dev/ll_pipelines/llprimer/experiments/christensenellales/genomes/LLG_output/drep/drep/dereplicated_genomes/MI-326-H__metabat2_low_PE.034.fna.gz.fna  | d__Bacteria | p__Firmicutes_A | c__Clostridia_A | o__Christensenellales | f__CAG-74 | g__UBA11524 | s__UBA11524 sp000437595 | 1262897 |\n",
       "| /ebio/abt3_scratch/nyoungblut/LLG_62325884640/genomes/MI-408-H__metabat2_high_PE.004.fna.gz.fna | 96.75 | 2.69 | MI-408-H__metabat2_high_PE.004.fna.gz | c__Clostridia (UID1118) | 387 | 223 | 124 | 96.75 | 2.69 | ⋯ | MI-408-H__metabat2_high_PE.004.fna.gz | /ebio/abt3_projects/software/dev/ll_pipelines/llprimer/experiments/christensenellales/genomes/LLG_output/drep/drep/dereplicated_genomes/MI-408-H__metabat2_high_PE.004.fna.gz.fna | d__Bacteria | p__Firmicutes_A | c__Clostridia_A | o__Christensenellales | f__CAG-74 | g__SFHK01   | s__SFHK01 sp004556395   | 1898207 |\n",
       "\n"
      ],
      "text/plain": [
       "    genome                                                                                         \n",
       "1   /ebio/abt3_scratch/nyoungblut/LLG_62325884640/genomes/1006216__metabat2__High.023.fna.gz.fna   \n",
       "2   /ebio/abt3_scratch/nyoungblut/LLG_62325884640/genomes/ERR3450721__metabat2__High.043.fna.gz.fna\n",
       "⋮   ⋮                                                                                              \n",
       "264 /ebio/abt3_scratch/nyoungblut/LLG_62325884640/genomes/MI-326-H__metabat2_low_PE.034.fna.gz.fna \n",
       "265 /ebio/abt3_scratch/nyoungblut/LLG_62325884640/genomes/MI-408-H__metabat2_high_PE.004.fna.gz.fna\n",
       "    completeness contamination Bin.Id                               \n",
       "1   94.35        0             1006216__metabat2__High.023.fna.gz   \n",
       "2   96.77        0             ERR3450721__metabat2__High.043.fna.gz\n",
       "⋮   ⋮            ⋮             ⋮                                    \n",
       "264 99.19        1.01          MI-326-H__metabat2_low_PE.034.fna.gz \n",
       "265 96.75        2.69          MI-408-H__metabat2_high_PE.004.fna.gz\n",
       "    Marker.lineage          X..genomes X..markers X..marker.sets Completeness\n",
       "1   c__Clostridia (UID1118) 387        223        124            94.35       \n",
       "2   c__Clostridia (UID1118) 387        223        124            96.77       \n",
       "⋮   ⋮                       ⋮          ⋮          ⋮              ⋮           \n",
       "264 c__Clostridia (UID1118) 387        223        124            99.19       \n",
       "265 c__Clostridia (UID1118) 387        223        124            96.75       \n",
       "    Contamination ⋯ Name                                 \n",
       "1   0             ⋯ 1006216__metabat2__High.023.fna.gz   \n",
       "2   0             ⋯ ERR3450721__metabat2__High.043.fna.gz\n",
       "⋮   ⋮             ⋱ ⋮                                    \n",
       "264 1.01          ⋯ MI-326-H__metabat2_low_PE.034.fna.gz \n",
       "265 2.69          ⋯ MI-408-H__metabat2_high_PE.004.fna.gz\n",
       "    Fasta                                                                                                                                                                            \n",
       "1   /ebio/abt3_projects/software/dev/ll_pipelines/llprimer/experiments/christensenellales/genomes/LLG_output/drep/drep/dereplicated_genomes/1006216__metabat2__High.023.fna.gz.fna   \n",
       "2   /ebio/abt3_projects/software/dev/ll_pipelines/llprimer/experiments/christensenellales/genomes/LLG_output/drep/drep/dereplicated_genomes/ERR3450721__metabat2__High.043.fna.gz.fna\n",
       "⋮   ⋮                                                                                                                                                                                \n",
       "264 /ebio/abt3_projects/software/dev/ll_pipelines/llprimer/experiments/christensenellales/genomes/LLG_output/drep/drep/dereplicated_genomes/MI-326-H__metabat2_low_PE.034.fna.gz.fna \n",
       "265 /ebio/abt3_projects/software/dev/ll_pipelines/llprimer/experiments/christensenellales/genomes/LLG_output/drep/drep/dereplicated_genomes/MI-408-H__metabat2_high_PE.004.fna.gz.fna\n",
       "    Domain      Phylum          Class           Order                \n",
       "1   d__Bacteria p__Firmicutes_A c__Clostridia_A o__Christensenellales\n",
       "2   d__Bacteria p__Firmicutes_A c__Clostridia_A o__Christensenellales\n",
       "⋮   ⋮           ⋮               ⋮               ⋮                    \n",
       "264 d__Bacteria p__Firmicutes_A c__Clostridia_A o__Christensenellales\n",
       "265 d__Bacteria p__Firmicutes_A c__Clostridia_A o__Christensenellales\n",
       "    Family     Genus       Species                 ncbi_taxid\n",
       "1   f__CAG-138 g__Phil1    s__Phil1 sp001940855    1262781   \n",
       "2   f__CAG-138 g__Phil1    s__Phil1 sp001940855    1262781   \n",
       "⋮   ⋮          ⋮           ⋮                       ⋮         \n",
       "264 f__CAG-74  g__UBA11524 s__UBA11524 sp000437595 1262897   \n",
       "265 f__CAG-74  g__SFHK01   s__SFHK01 sp004556395   1898207   "
      ]
     },
     "metadata": {},
     "output_type": "display_data"
    }
   ],
   "source": [
    "# filtering by quality\n",
    "hq_genomes = drep %>%\n",
    "    filter(completeness >= 90,\n",
    "           contamination < 5,\n",
    "           Strain.heterogeneity < 50,\n",
    "           N50..contigs. >= 20000)\n",
    "hq_genomes"
   ]
  },
  {
   "cell_type": "code",
   "execution_count": 132,
   "metadata": {
    "execution": {
     "iopub.execute_input": "2021-02-27T09:52:56.818995Z",
     "iopub.status.busy": "2021-02-27T09:52:56.817504Z",
     "iopub.status.idle": "2021-02-27T09:52:56.857209Z"
    }
   },
   "outputs": [
    {
     "data": {
      "text/html": [
       "<table class=\"dataframe\">\n",
       "<caption>A tibble: 8 × 3</caption>\n",
       "<thead>\n",
       "\t<tr><th></th><th scope=col>Order</th><th scope=col>Family</th><th scope=col>n_genomes</th></tr>\n",
       "\t<tr><th></th><th scope=col>&lt;chr&gt;</th><th scope=col>&lt;chr&gt;</th><th scope=col>&lt;int&gt;</th></tr>\n",
       "</thead>\n",
       "<tbody>\n",
       "\t<tr><th scope=row>1</th><td>o__Christensenellales</td><td>f__Borkfalkiaceae     </td><td>  3</td></tr>\n",
       "\t<tr><th scope=row>2</th><td>o__Christensenellales</td><td>f__CAG-138            </td><td>190</td></tr>\n",
       "\t<tr><th scope=row>3</th><td>o__Christensenellales</td><td>f__CAG-74             </td><td> 61</td></tr>\n",
       "\t<tr><th scope=row>4</th><td>o__Christensenellales</td><td>f__Christensenellaceae</td><td>  4</td></tr>\n",
       "\t<tr><th scope=row>5</th><td>o__Christensenellales</td><td>f__GCA-900066905      </td><td>  1</td></tr>\n",
       "\t<tr><th scope=row>6</th><td>o__Christensenellales</td><td>f__MARSEILLE-P3954    </td><td>  1</td></tr>\n",
       "\t<tr><th scope=row>7</th><td>o__Christensenellales</td><td>f__QALW01             </td><td>  2</td></tr>\n",
       "\t<tr><th scope=row>8</th><td>o__Christensenellales</td><td>f__QAND01             </td><td>  3</td></tr>\n",
       "</tbody>\n",
       "</table>\n"
      ],
      "text/latex": [
       "A tibble: 8 × 3\n",
       "\\begin{tabular}{r|lll}\n",
       "  & Order & Family & n\\_genomes\\\\\n",
       "  & <chr> & <chr> & <int>\\\\\n",
       "\\hline\n",
       "\t1 & o\\_\\_Christensenellales & f\\_\\_Borkfalkiaceae      &   3\\\\\n",
       "\t2 & o\\_\\_Christensenellales & f\\_\\_CAG-138             & 190\\\\\n",
       "\t3 & o\\_\\_Christensenellales & f\\_\\_CAG-74              &  61\\\\\n",
       "\t4 & o\\_\\_Christensenellales & f\\_\\_Christensenellaceae &   4\\\\\n",
       "\t5 & o\\_\\_Christensenellales & f\\_\\_GCA-900066905       &   1\\\\\n",
       "\t6 & o\\_\\_Christensenellales & f\\_\\_MARSEILLE-P3954     &   1\\\\\n",
       "\t7 & o\\_\\_Christensenellales & f\\_\\_QALW01              &   2\\\\\n",
       "\t8 & o\\_\\_Christensenellales & f\\_\\_QAND01              &   3\\\\\n",
       "\\end{tabular}\n"
      ],
      "text/markdown": [
       "\n",
       "A tibble: 8 × 3\n",
       "\n",
       "| <!--/--> | Order &lt;chr&gt; | Family &lt;chr&gt; | n_genomes &lt;int&gt; |\n",
       "|---|---|---|---|\n",
       "| 1 | o__Christensenellales | f__Borkfalkiaceae      |   3 |\n",
       "| 2 | o__Christensenellales | f__CAG-138             | 190 |\n",
       "| 3 | o__Christensenellales | f__CAG-74              |  61 |\n",
       "| 4 | o__Christensenellales | f__Christensenellaceae |   4 |\n",
       "| 5 | o__Christensenellales | f__GCA-900066905       |   1 |\n",
       "| 6 | o__Christensenellales | f__MARSEILLE-P3954     |   1 |\n",
       "| 7 | o__Christensenellales | f__QALW01              |   2 |\n",
       "| 8 | o__Christensenellales | f__QAND01              |   3 |\n",
       "\n"
      ],
      "text/plain": [
       "  Order                 Family                 n_genomes\n",
       "1 o__Christensenellales f__Borkfalkiaceae        3      \n",
       "2 o__Christensenellales f__CAG-138             190      \n",
       "3 o__Christensenellales f__CAG-74               61      \n",
       "4 o__Christensenellales f__Christensenellaceae   4      \n",
       "5 o__Christensenellales f__GCA-900066905         1      \n",
       "6 o__Christensenellales f__MARSEILLE-P3954       1      \n",
       "7 o__Christensenellales f__QALW01                2      \n",
       "8 o__Christensenellales f__QAND01                3      "
      ]
     },
     "metadata": {},
     "output_type": "display_data"
    }
   ],
   "source": [
    "# summarizing the taxonomy\n",
    "df.dims(30)\n",
    "hq_genomes %>%\n",
    "    group_by(Order, Family) %>%\n",
    "    summarize(n_genomes = n(), .groups='drop')\n",
    "df.dims()"
   ]
  },
  {
   "cell_type": "code",
   "execution_count": 133,
   "metadata": {
    "execution": {
     "iopub.execute_input": "2021-02-27T09:52:56.861530Z",
     "iopub.status.busy": "2021-02-27T09:52:56.859830Z",
     "iopub.status.idle": "2021-02-27T09:52:56.922207Z"
    }
   },
   "outputs": [
    {
     "data": {
      "text/html": [
       "<table class=\"dataframe\">\n",
       "<caption>A matrix: 1 × 8 of type dbl</caption>\n",
       "<thead>\n",
       "\t<tr><th></th><th scope=col>Min.</th><th scope=col>1st Qu.</th><th scope=col>Median</th><th scope=col>Mean</th><th scope=col>3rd Qu.</th><th scope=col>Max.</th><th scope=col>sd</th><th scope=col>sd_err_of_mean</th></tr>\n",
       "</thead>\n",
       "<tbody>\n",
       "\t<tr><th scope=row>Completeness</th><td>90.25</td><td>96.37</td><td>97.58</td><td>97.10242</td><td>98.6</td><td>99.6</td><td>3.304</td><td>1.349</td></tr>\n",
       "</tbody>\n",
       "</table>\n"
      ],
      "text/latex": [
       "A matrix: 1 × 8 of type dbl\n",
       "\\begin{tabular}{r|llllllll}\n",
       "  & Min. & 1st Qu. & Median & Mean & 3rd Qu. & Max. & sd & sd\\_err\\_of\\_mean\\\\\n",
       "\\hline\n",
       "\tCompleteness & 90.25 & 96.37 & 97.58 & 97.10242 & 98.6 & 99.6 & 3.304 & 1.349\\\\\n",
       "\\end{tabular}\n"
      ],
      "text/markdown": [
       "\n",
       "A matrix: 1 × 8 of type dbl\n",
       "\n",
       "| <!--/--> | Min. | 1st Qu. | Median | Mean | 3rd Qu. | Max. | sd | sd_err_of_mean |\n",
       "|---|---|---|---|---|---|---|---|---|\n",
       "| Completeness | 90.25 | 96.37 | 97.58 | 97.10242 | 98.6 | 99.6 | 3.304 | 1.349 |\n",
       "\n"
      ],
      "text/plain": [
       "             Min.  1st Qu. Median Mean     3rd Qu. Max. sd    sd_err_of_mean\n",
       "Completeness 90.25 96.37   97.58  97.10242 98.6    99.6 3.304 1.349         "
      ]
     },
     "metadata": {},
     "output_type": "display_data"
    },
    {
     "data": {
      "text/html": [
       "<table class=\"dataframe\">\n",
       "<caption>A matrix: 1 × 8 of type dbl</caption>\n",
       "<thead>\n",
       "\t<tr><th></th><th scope=col>Min.</th><th scope=col>1st Qu.</th><th scope=col>Median</th><th scope=col>Mean</th><th scope=col>3rd Qu.</th><th scope=col>Max.</th><th scope=col>sd</th><th scope=col>sd_err_of_mean</th></tr>\n",
       "</thead>\n",
       "<tbody>\n",
       "\t<tr><th scope=row>No. of contigs</th><td>1</td><td>45</td><td>66</td><td>75.53585</td><td>98</td><td>222</td><td>74.891</td><td>30.574</td></tr>\n",
       "</tbody>\n",
       "</table>\n"
      ],
      "text/latex": [
       "A matrix: 1 × 8 of type dbl\n",
       "\\begin{tabular}{r|llllllll}\n",
       "  & Min. & 1st Qu. & Median & Mean & 3rd Qu. & Max. & sd & sd\\_err\\_of\\_mean\\\\\n",
       "\\hline\n",
       "\tNo. of contigs & 1 & 45 & 66 & 75.53585 & 98 & 222 & 74.891 & 30.574\\\\\n",
       "\\end{tabular}\n"
      ],
      "text/markdown": [
       "\n",
       "A matrix: 1 × 8 of type dbl\n",
       "\n",
       "| <!--/--> | Min. | 1st Qu. | Median | Mean | 3rd Qu. | Max. | sd | sd_err_of_mean |\n",
       "|---|---|---|---|---|---|---|---|---|\n",
       "| No. of contigs | 1 | 45 | 66 | 75.53585 | 98 | 222 | 74.891 | 30.574 |\n",
       "\n"
      ],
      "text/plain": [
       "               Min. 1st Qu. Median Mean     3rd Qu. Max. sd     sd_err_of_mean\n",
       "No. of contigs 1    45      66     75.53585 98      222  74.891 30.574        "
      ]
     },
     "metadata": {},
     "output_type": "display_data"
    },
    {
     "data": {
      "text/html": [
       "<table class=\"dataframe\">\n",
       "<caption>A matrix: 1 × 8 of type dbl</caption>\n",
       "<thead>\n",
       "\t<tr><th></th><th scope=col>Min.</th><th scope=col>1st Qu.</th><th scope=col>Median</th><th scope=col>Mean</th><th scope=col>3rd Qu.</th><th scope=col>Max.</th><th scope=col>sd</th><th scope=col>sd_err_of_mean</th></tr>\n",
       "</thead>\n",
       "<tbody>\n",
       "\t<tr><th scope=row>Mean contig length</th><td>12558</td><td>23536</td><td>33875</td><td>72444.58</td><td>48014</td><td>2969292</td><td>1196841</td><td>488608.1</td></tr>\n",
       "</tbody>\n",
       "</table>\n"
      ],
      "text/latex": [
       "A matrix: 1 × 8 of type dbl\n",
       "\\begin{tabular}{r|llllllll}\n",
       "  & Min. & 1st Qu. & Median & Mean & 3rd Qu. & Max. & sd & sd\\_err\\_of\\_mean\\\\\n",
       "\\hline\n",
       "\tMean contig length & 12558 & 23536 & 33875 & 72444.58 & 48014 & 2969292 & 1196841 & 488608.1\\\\\n",
       "\\end{tabular}\n"
      ],
      "text/markdown": [
       "\n",
       "A matrix: 1 × 8 of type dbl\n",
       "\n",
       "| <!--/--> | Min. | 1st Qu. | Median | Mean | 3rd Qu. | Max. | sd | sd_err_of_mean |\n",
       "|---|---|---|---|---|---|---|---|---|\n",
       "| Mean contig length | 12558 | 23536 | 33875 | 72444.58 | 48014 | 2969292 | 1196841 | 488608.1 |\n",
       "\n"
      ],
      "text/plain": [
       "                   Min.  1st Qu. Median Mean     3rd Qu. Max.    sd     \n",
       "Mean contig length 12558 23536   33875  72444.58 48014   2969292 1196841\n",
       "                   sd_err_of_mean\n",
       "Mean contig length 488608.1      "
      ]
     },
     "metadata": {},
     "output_type": "display_data"
    },
    {
     "data": {
      "text/html": [
       "<table class=\"dataframe\">\n",
       "<caption>A matrix: 1 × 8 of type dbl</caption>\n",
       "<thead>\n",
       "\t<tr><th></th><th scope=col>Min.</th><th scope=col>1st Qu.</th><th scope=col>Median</th><th scope=col>Mean</th><th scope=col>3rd Qu.</th><th scope=col>Max.</th><th scope=col>sd</th><th scope=col>sd_err_of_mean</th></tr>\n",
       "</thead>\n",
       "<tbody>\n",
       "\t<tr><th scope=row>No. of genes</th><td>1449</td><td>1894</td><td>2059</td><td>2125.928</td><td>2420</td><td>3023</td><td>529.148</td><td>216.024</td></tr>\n",
       "</tbody>\n",
       "</table>\n"
      ],
      "text/latex": [
       "A matrix: 1 × 8 of type dbl\n",
       "\\begin{tabular}{r|llllllll}\n",
       "  & Min. & 1st Qu. & Median & Mean & 3rd Qu. & Max. & sd & sd\\_err\\_of\\_mean\\\\\n",
       "\\hline\n",
       "\tNo. of genes & 1449 & 1894 & 2059 & 2125.928 & 2420 & 3023 & 529.148 & 216.024\\\\\n",
       "\\end{tabular}\n"
      ],
      "text/markdown": [
       "\n",
       "A matrix: 1 × 8 of type dbl\n",
       "\n",
       "| <!--/--> | Min. | 1st Qu. | Median | Mean | 3rd Qu. | Max. | sd | sd_err_of_mean |\n",
       "|---|---|---|---|---|---|---|---|---|\n",
       "| No. of genes | 1449 | 1894 | 2059 | 2125.928 | 2420 | 3023 | 529.148 | 216.024 |\n",
       "\n"
      ],
      "text/plain": [
       "             Min. 1st Qu. Median Mean     3rd Qu. Max. sd      sd_err_of_mean\n",
       "No. of genes 1449 1894    2059   2125.928 2420    3023 529.148 216.024       "
      ]
     },
     "metadata": {},
     "output_type": "display_data"
    },
    {
     "data": {
      "text/html": [
       "<table class=\"dataframe\">\n",
       "<caption>A matrix: 1 × 8 of type dbl</caption>\n",
       "<thead>\n",
       "\t<tr><th></th><th scope=col>Min.</th><th scope=col>1st Qu.</th><th scope=col>Median</th><th scope=col>Mean</th><th scope=col>3rd Qu.</th><th scope=col>Max.</th><th scope=col>sd</th><th scope=col>sd_err_of_mean</th></tr>\n",
       "</thead>\n",
       "<tbody>\n",
       "\t<tr><th scope=row>N50</th><td>20160</td><td>36095</td><td>55481</td><td>102360</td><td>82483</td><td>2969292</td><td>1188370</td><td>485149.8</td></tr>\n",
       "</tbody>\n",
       "</table>\n"
      ],
      "text/latex": [
       "A matrix: 1 × 8 of type dbl\n",
       "\\begin{tabular}{r|llllllll}\n",
       "  & Min. & 1st Qu. & Median & Mean & 3rd Qu. & Max. & sd & sd\\_err\\_of\\_mean\\\\\n",
       "\\hline\n",
       "\tN50 & 20160 & 36095 & 55481 & 102360 & 82483 & 2969292 & 1188370 & 485149.8\\\\\n",
       "\\end{tabular}\n"
      ],
      "text/markdown": [
       "\n",
       "A matrix: 1 × 8 of type dbl\n",
       "\n",
       "| <!--/--> | Min. | 1st Qu. | Median | Mean | 3rd Qu. | Max. | sd | sd_err_of_mean |\n",
       "|---|---|---|---|---|---|---|---|---|\n",
       "| N50 | 20160 | 36095 | 55481 | 102360 | 82483 | 2969292 | 1188370 | 485149.8 |\n",
       "\n"
      ],
      "text/plain": [
       "    Min.  1st Qu. Median Mean   3rd Qu. Max.    sd      sd_err_of_mean\n",
       "N50 20160 36095   55481  102360 82483   2969292 1188370 485149.8      "
      ]
     },
     "metadata": {},
     "output_type": "display_data"
    }
   ],
   "source": [
    "# summarizing\n",
    "hq_genomes$Completeness %>% summary_x('Completeness')\n",
    "hq_genomes$X..contigs %>% summary_x('No. of contigs')\n",
    "hq_genomes$Mean.contig.length..bp. %>% summary_x('Mean contig length')\n",
    "hq_genomes$X..predicted.genes %>% summary_x('No. of genes')\n",
    "hq_genomes$N50..contigs. %>% summary_x('N50')"
   ]
  },
  {
   "cell_type": "code",
   "execution_count": 134,
   "metadata": {
    "execution": {
     "iopub.execute_input": "2021-02-27T09:52:56.926579Z",
     "iopub.status.busy": "2021-02-27T09:52:56.924945Z",
     "iopub.status.idle": "2021-02-27T09:52:56.956361Z"
    }
   },
   "outputs": [
    {
     "name": "stdout",
     "output_type": "stream",
     "text": [
      "File written: /ebio/abt3_projects/software/dev/ll_pipelines/llprimer/experiments/christensenellales/genomes//LLG_output/samples_genomes_hq.txt \n"
     ]
    }
   ],
   "source": [
    " # writing samples table for LLPRIMER\n",
    "outfile = file.path(work_dir, 'LLG_output', 'samples_genomes_hq.txt')\n",
    "hq_genomes %>%\n",
    "    select(Bin.Id, Fasta, Domain, ncbi_taxid) %>%\n",
    "    rename('Taxon' = Bin.Id,\n",
    "           'Taxid' = ncbi_taxid) %>%\n",
    "    mutate(Taxon = gsub('_chromosome.+', '', Taxon),\n",
    "           Taxon = gsub('_bin_.+', '', Taxon),\n",
    "           Taxon = gsub('_genomic', '', Taxon),\n",
    "           Taxon = gsub('_annotated_assembly', '', Taxon)) %>%\n",
    "    write_table(outfile)"
   ]
  },
  {
   "cell_type": "markdown",
   "metadata": {},
   "source": [
    "# sessionInfo"
   ]
  },
  {
   "cell_type": "code",
   "execution_count": 67,
   "metadata": {
    "execution": {
     "iopub.execute_input": "2021-02-26T12:29:39.974255Z",
     "iopub.status.busy": "2021-02-26T12:29:39.972564Z",
     "iopub.status.idle": "2021-02-26T12:29:41.049449Z"
    }
   },
   "outputs": [
    {
     "data": {
      "text/plain": [
       "R version 4.0.3 (2020-10-10)\n",
       "Platform: x86_64-conda-linux-gnu (64-bit)\n",
       "Running under: Ubuntu 18.04.5 LTS\n",
       "\n",
       "Matrix products: default\n",
       "BLAS/LAPACK: /ebio/abt3_projects/Anxiety_Twins_Metagenomes/envs/tidyverse2/lib/libopenblasp-r0.3.12.so\n",
       "\n",
       "locale:\n",
       " [1] LC_CTYPE=en_US.UTF-8       LC_NUMERIC=C              \n",
       " [3] LC_TIME=en_US.UTF-8        LC_COLLATE=en_US.UTF-8    \n",
       " [5] LC_MONETARY=en_US.UTF-8    LC_MESSAGES=en_US.UTF-8   \n",
       " [7] LC_PAPER=en_US.UTF-8       LC_NAME=C                 \n",
       " [9] LC_ADDRESS=C               LC_TELEPHONE=C            \n",
       "[11] LC_MEASUREMENT=en_US.UTF-8 LC_IDENTIFICATION=C       \n",
       "\n",
       "attached base packages:\n",
       "[1] stats     graphics  grDevices utils     datasets  methods   base     \n",
       "\n",
       "other attached packages:\n",
       "[1] curl_4.3          LeyLabRMisc_0.1.8 ggplot2_3.3.3     tidytable_0.5.8  \n",
       "[5] data.table_1.13.6 tidyr_1.1.2       dplyr_1.0.3      \n",
       "\n",
       "loaded via a namespace (and not attached):\n",
       " [1] magrittr_2.0.1    munsell_0.5.0     tidyselect_1.1.0  uuid_0.1-4       \n",
       " [5] colorspace_2.0-0  R6_2.5.0          rlang_0.4.10      tools_4.0.3      \n",
       " [9] grid_4.0.3        gtable_0.3.0      withr_2.4.1       htmltools_0.5.1.1\n",
       "[13] ellipsis_0.3.1    digest_0.6.27     tibble_3.0.6      lifecycle_0.2.0  \n",
       "[17] crayon_1.4.0      IRdisplay_1.0     farver_2.0.3      purrr_0.3.4      \n",
       "[21] repr_1.1.3        base64enc_0.1-3   vctrs_0.3.6       IRkernel_1.1.1   \n",
       "[25] glue_1.4.2        evaluate_0.14     labeling_0.4.2    pbdZMQ_0.3-4     \n",
       "[29] compiler_4.0.3    pillar_1.4.7      scales_1.1.1      generics_0.1.0   \n",
       "[33] jsonlite_1.7.2    pkgconfig_2.0.3  "
      ]
     },
     "metadata": {},
     "output_type": "display_data"
    }
   ],
   "source": [
    "sessionInfo()"
   ]
  },
  {
   "cell_type": "code",
   "execution_count": null,
   "metadata": {},
   "outputs": [],
   "source": []
  }
 ],
 "metadata": {
  "kernelspec": {
   "display_name": "R [conda env:Anxiety_Twins_Metagenomes-tidyverse2]",
   "language": "R",
   "name": "conda-env-Anxiety_Twins_Metagenomes-tidyverse2-r"
  },
  "language_info": {
   "codemirror_mode": "r",
   "file_extension": ".r",
   "mimetype": "text/x-r-source",
   "name": "R",
   "pygments_lexer": "r",
   "version": "4.0.3"
  }
 },
 "nbformat": 4,
 "nbformat_minor": 4
}
