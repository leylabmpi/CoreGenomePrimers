{
 "cells": [
  {
   "cell_type": "markdown",
   "metadata": {},
   "source": [
    "# Goal\n",
    "\n",
    "* Design primers with llprimer pipeline"
   ]
  },
  {
   "cell_type": "markdown",
   "metadata": {},
   "source": [
    "# Var"
   ]
  },
  {
   "cell_type": "code",
   "execution_count": 44,
   "metadata": {
    "execution": {
     "iopub.execute_input": "2021-02-26T12:07:37.132361Z",
     "iopub.status.busy": "2021-02-26T12:07:37.129625Z",
     "iopub.status.idle": "2021-02-26T12:07:37.151820Z"
    }
   },
   "outputs": [],
   "source": [
    "work_dir = '/ebio/abt3_projects/software/dev/ll_pipelines/llprimer/experiments/christensenellaceae/'\n",
    "genomes_file = '/ebio/abt3_projects/software/dev/ll_pipelines/llprimer/experiments/christensenellaceae/genomes/LLG_output/samples_genomes_hq.txt'\n",
    "\n",
    "threads = 8"
   ]
  },
  {
   "cell_type": "markdown",
   "metadata": {},
   "source": [
    "# Init"
   ]
  },
  {
   "cell_type": "code",
   "execution_count": 45,
   "metadata": {
    "execution": {
     "iopub.execute_input": "2021-02-26T12:07:37.794050Z",
     "iopub.status.busy": "2021-02-26T12:07:37.791272Z",
     "iopub.status.idle": "2021-02-26T12:07:37.827299Z"
    }
   },
   "outputs": [],
   "source": [
    "library(dplyr)\n",
    "library(tidyr)\n",
    "library(data.table)\n",
    "library(tidytable)\n",
    "library(ggplot2)\n",
    "library(LeyLabRMisc)"
   ]
  },
  {
   "cell_type": "code",
   "execution_count": 46,
   "metadata": {
    "execution": {
     "iopub.execute_input": "2021-02-26T12:07:37.889275Z",
     "iopub.status.busy": "2021-02-26T12:07:37.886738Z",
     "iopub.status.idle": "2021-02-26T12:07:37.926751Z"
    }
   },
   "outputs": [
    {
     "name": "stdout",
     "output_type": "stream",
     "text": [
      "Directory already exists: /ebio/abt3_projects/software/dev/ll_pipelines/llprimer/experiments/christensenellaceae/ \n"
     ]
    }
   ],
   "source": [
    "df.dims()\n",
    "setDTthreads(threads)\n",
    "make_dir(work_dir)"
   ]
  },
  {
   "cell_type": "markdown",
   "metadata": {},
   "source": [
    "# Load"
   ]
  },
  {
   "cell_type": "code",
   "execution_count": 47,
   "metadata": {
    "execution": {
     "iopub.execute_input": "2021-02-26T12:07:38.369607Z",
     "iopub.status.busy": "2021-02-26T12:07:38.367638Z",
     "iopub.status.idle": "2021-02-26T12:07:38.435886Z"
    }
   },
   "outputs": [
    {
     "data": {
      "text/html": [
       "<table class=\"dataframe\">\n",
       "<caption>A data.frame: 17 × 4</caption>\n",
       "<thead>\n",
       "\t<tr><th scope=col>Taxon</th><th scope=col>Fasta</th><th scope=col>Domain</th><th scope=col>Taxid</th></tr>\n",
       "\t<tr><th scope=col>&lt;chr&gt;</th><th scope=col>&lt;chr&gt;</th><th scope=col>&lt;chr&gt;</th><th scope=col>&lt;int&gt;</th></tr>\n",
       "</thead>\n",
       "<tbody>\n",
       "\t<tr><td>GCA_014384805.1_ASM1438480v1.fna</td><td>/ebio/abt3_projects/software/dev/ll_pipelines/llprimer/experiments/christensenellaceae/genomes/LLG_output/drep/drep/dereplicated_genomes/GCA_014384805.1_ASM1438480v1_genomic.fna.fna</td><td>d__Bacteria</td><td>990719</td></tr>\n",
       "\t<tr><td>GCA_900087015.1_PRJEB13910.fna  </td><td>/ebio/abt3_projects/software/dev/ll_pipelines/llprimer/experiments/christensenellaceae/genomes/LLG_output/drep/drep/dereplicated_genomes/GCA_900087015.1_PRJEB13910_genomic.fna.fna  </td><td>d__Bacteria</td><td>990719</td></tr>\n",
       "\t<tr><td>⋮</td><td>⋮</td><td>⋮</td><td>⋮</td></tr>\n",
       "\t<tr><td>GCA_900761075.1_SRS042628_64.fna</td><td>/ebio/abt3_projects/software/dev/ll_pipelines/llprimer/experiments/christensenellaceae/genomes/LLG_output/drep/drep/dereplicated_genomes/GCA_900761075.1_SRS042628_64_genomic.fna.fna</td><td>d__Bacteria</td><td>990719</td></tr>\n",
       "\t<tr><td>GUT_GENOME097725.fna            </td><td>/ebio/abt3_projects/software/dev/ll_pipelines/llprimer/experiments/christensenellaceae/genomes/LLG_output/drep/drep/dereplicated_genomes/GUT_GENOME097725.fna.fna                    </td><td>d__Bacteria</td><td>990719</td></tr>\n",
       "</tbody>\n",
       "</table>\n"
      ],
      "text/latex": [
       "A data.frame: 17 × 4\n",
       "\\begin{tabular}{llll}\n",
       " Taxon & Fasta & Domain & Taxid\\\\\n",
       " <chr> & <chr> & <chr> & <int>\\\\\n",
       "\\hline\n",
       "\t GCA\\_014384805.1\\_ASM1438480v1.fna & /ebio/abt3\\_projects/software/dev/ll\\_pipelines/llprimer/experiments/christensenellaceae/genomes/LLG\\_output/drep/drep/dereplicated\\_genomes/GCA\\_014384805.1\\_ASM1438480v1\\_genomic.fna.fna & d\\_\\_Bacteria & 990719\\\\\n",
       "\t GCA\\_900087015.1\\_PRJEB13910.fna   & /ebio/abt3\\_projects/software/dev/ll\\_pipelines/llprimer/experiments/christensenellaceae/genomes/LLG\\_output/drep/drep/dereplicated\\_genomes/GCA\\_900087015.1\\_PRJEB13910\\_genomic.fna.fna   & d\\_\\_Bacteria & 990719\\\\\n",
       "\t ⋮ & ⋮ & ⋮ & ⋮\\\\\n",
       "\t GCA\\_900761075.1\\_SRS042628\\_64.fna & /ebio/abt3\\_projects/software/dev/ll\\_pipelines/llprimer/experiments/christensenellaceae/genomes/LLG\\_output/drep/drep/dereplicated\\_genomes/GCA\\_900761075.1\\_SRS042628\\_64\\_genomic.fna.fna & d\\_\\_Bacteria & 990719\\\\\n",
       "\t GUT\\_GENOME097725.fna             & /ebio/abt3\\_projects/software/dev/ll\\_pipelines/llprimer/experiments/christensenellaceae/genomes/LLG\\_output/drep/drep/dereplicated\\_genomes/GUT\\_GENOME097725.fna.fna                     & d\\_\\_Bacteria & 990719\\\\\n",
       "\\end{tabular}\n"
      ],
      "text/markdown": [
       "\n",
       "A data.frame: 17 × 4\n",
       "\n",
       "| Taxon &lt;chr&gt; | Fasta &lt;chr&gt; | Domain &lt;chr&gt; | Taxid &lt;int&gt; |\n",
       "|---|---|---|---|\n",
       "| GCA_014384805.1_ASM1438480v1.fna | /ebio/abt3_projects/software/dev/ll_pipelines/llprimer/experiments/christensenellaceae/genomes/LLG_output/drep/drep/dereplicated_genomes/GCA_014384805.1_ASM1438480v1_genomic.fna.fna | d__Bacteria | 990719 |\n",
       "| GCA_900087015.1_PRJEB13910.fna   | /ebio/abt3_projects/software/dev/ll_pipelines/llprimer/experiments/christensenellaceae/genomes/LLG_output/drep/drep/dereplicated_genomes/GCA_900087015.1_PRJEB13910_genomic.fna.fna   | d__Bacteria | 990719 |\n",
       "| ⋮ | ⋮ | ⋮ | ⋮ |\n",
       "| GCA_900761075.1_SRS042628_64.fna | /ebio/abt3_projects/software/dev/ll_pipelines/llprimer/experiments/christensenellaceae/genomes/LLG_output/drep/drep/dereplicated_genomes/GCA_900761075.1_SRS042628_64_genomic.fna.fna | d__Bacteria | 990719 |\n",
       "| GUT_GENOME097725.fna             | /ebio/abt3_projects/software/dev/ll_pipelines/llprimer/experiments/christensenellaceae/genomes/LLG_output/drep/drep/dereplicated_genomes/GUT_GENOME097725.fna.fna                     | d__Bacteria | 990719 |\n",
       "\n"
      ],
      "text/plain": [
       "   Taxon                           \n",
       "1  GCA_014384805.1_ASM1438480v1.fna\n",
       "2  GCA_900087015.1_PRJEB13910.fna  \n",
       "⋮  ⋮                               \n",
       "16 GCA_900761075.1_SRS042628_64.fna\n",
       "17 GUT_GENOME097725.fna            \n",
       "   Fasta                                                                                                                                                                                \n",
       "1  /ebio/abt3_projects/software/dev/ll_pipelines/llprimer/experiments/christensenellaceae/genomes/LLG_output/drep/drep/dereplicated_genomes/GCA_014384805.1_ASM1438480v1_genomic.fna.fna\n",
       "2  /ebio/abt3_projects/software/dev/ll_pipelines/llprimer/experiments/christensenellaceae/genomes/LLG_output/drep/drep/dereplicated_genomes/GCA_900087015.1_PRJEB13910_genomic.fna.fna  \n",
       "⋮  ⋮                                                                                                                                                                                    \n",
       "16 /ebio/abt3_projects/software/dev/ll_pipelines/llprimer/experiments/christensenellaceae/genomes/LLG_output/drep/drep/dereplicated_genomes/GCA_900761075.1_SRS042628_64_genomic.fna.fna\n",
       "17 /ebio/abt3_projects/software/dev/ll_pipelines/llprimer/experiments/christensenellaceae/genomes/LLG_output/drep/drep/dereplicated_genomes/GUT_GENOME097725.fna.fna                    \n",
       "   Domain      Taxid \n",
       "1  d__Bacteria 990719\n",
       "2  d__Bacteria 990719\n",
       "⋮  ⋮           ⋮     \n",
       "16 d__Bacteria 990719\n",
       "17 d__Bacteria 990719"
      ]
     },
     "metadata": {},
     "output_type": "display_data"
    }
   ],
   "source": [
    "genomes = read.delim(genomes_file, sep='\\t')\n",
    "genomes"
   ]
  },
  {
   "cell_type": "markdown",
   "metadata": {},
   "source": [
    "# LLPRIMER"
   ]
  },
  {
   "cell_type": "markdown",
   "metadata": {},
   "source": [
    "### Config"
   ]
  },
  {
   "cell_type": "code",
   "execution_count": 11,
   "metadata": {
    "execution": {
     "iopub.execute_input": "2021-02-26T11:50:24.186025Z",
     "iopub.status.busy": "2021-02-26T11:50:24.183854Z",
     "iopub.status.idle": "2021-02-26T11:50:24.210405Z"
    }
   },
   "outputs": [
    {
     "name": "stdout",
     "output_type": "stream",
     "text": [
      "#-- I/O --#\n",
      "samples_file: /ebio/abt3_projects/software/dev/ll_pipelines/llprimer/experiments/christensenellaceae/genomes/LLG_output/samples_genomes_hq.txt\n",
      "\n",
      "# output location\n",
      "output_dir: /ebio/abt3_projects/software/dev/ll_pipelines/llprimer/experiments/christensenellaceae/primers/clst0.8-perc0.8/\n",
      "\n",
      "# temporary file directory (your username will be added automatically)\n",
      "tmp_dir: /ebio/abt3_scratch/\n",
      "\n",
      "#-- software parameters --#\n",
      "# See the README for a description\n",
      "params:\n",
      "  ionice: -c 3\n",
      "  cgp:\n",
      "    prokka: \"\"\n",
      "    mmseqs:\n",
      "      method: cluster    # or linclust (faster)\n",
      "      run: --min-seq-id 0.8 -c 0.8\n",
      "    vsearch: --id 0.94\n",
      "    core_genes:\n",
      "      cds: --perc-genomes-cds 80 --copies-per-genome-cds 1 --max-clusters-cds 500\n",
      "      rRNA: --perc-genomes-rrna 80 --copies-per-genome-rrna 10 --max-clusters-rrna 500\n",
      "    align:\n",
      "      method: linsi\n",
      "      params: --auto --maxiterate 1000\n",
      "    primer3:\n",
      "      number: --num-primers 10000 --consensus-threshold 0.3\n",
      "      size: --opt-size 20 --min-size 18 --max-size 24\n",
      "      product: --opt-prod-size 150 --min-prod-size 100 --max-prod-size 250\n",
      "      Tm: --opt-tm 62 --min-tm 54 --max-tm 70 --max-tm-diff 2\n",
      "      PCR: --oligo-DNA 50 --salt-monovalent 50 --salt-divalent 1.5 --dNTPs 0.2\n",
      "      GC: --opt-gc 50 --min-gc 25 --max-gc 75\n",
      "      degeneracy: --max-degeneracy 128 --max-degeneracy-3prime 12 --window-3prime 5\n",
      "      internal_oligo: --make-oligo 0 --int-opt-size 20 --int-opt-tm 60\n",
      "    blast_nontarget:\n",
      "      run_locally: False\n",
      "      cds: -evalue 1e-5 -max_target_seqs 30\n",
      "      rRNA: -evalue 1e-5 -max_target_seqs 30\n",
      "    blastn: -max_target_seqs 500 -perc_identity 90\n",
      "    blast_filter: --perc-len 80 --min-amplicon-len 30 --max-amplicon-len 2000    \n",
      "\n",
      "#-- database --#\n",
      "databases:\n",
      "  blast:\n",
      "    nucl: /ebio/abt3_projects/databases_no-backup/NCBI_blastdb/nt\n",
      "    prot: /ebio/abt3_projects/databases_no-backup/NCBI_blastdb/nr\n",
      "    rRNA:\n",
      "      SSU: /ebio/abt3_projects/databases_no-backup/NCBI_rRNA/2021-01/SSU/16S_ribosomal_RNA\n",
      "      LSU: /ebio/abt3_projects/databases_no-backup/NCBI_rRNA/2021-01/LSU/LSU_prokaryote_rRNA\n",
      "    gene_names: /ebio/abt3_projects/databases_no-backup/NCBI_nr_geneIDs/2021-01/nr_accession-geneNames.pkl\n",
      "  taxonomy:\n",
      "    names: /ebio/abt3_projects/databases_no-backup/NCBI_taxonomy/2020-12-23/names.dmp\n",
      "    nodes: /ebio/abt3_projects/databases_no-backup/NCBI_taxonomy/2020-12-23/nodes.dmp\n",
      "\n",
      "#-- snakemake pipeline --#\n",
      "pipeline:\n",
      "  snakemake_folder: ./\n",
      "  script_folder: bin/scripts/\n",
      "  name: LLPRIMER"
     ]
    }
   ],
   "source": [
    "F = file.path(work_dir, 'primers', 'clst0.8-perc0.8', 'config.yaml')\n",
    "cat_file(F)"
   ]
  },
  {
   "cell_type": "markdown",
   "metadata": {},
   "source": [
    "### Run"
   ]
  },
  {
   "cell_type": "markdown",
   "metadata": {},
   "source": [
    "```\n",
    "(snakemake) @ rick:/ebio/abt3_projects/software/dev/ll_pipelines/llprimer\n",
    "$ ./snakemake_sge.sh experiments/christensenellaceae/primers/clst0.8-perc0.8/config.yaml 20 -Fqn\n",
    "```"
   ]
  },
  {
   "cell_type": "markdown",
   "metadata": {},
   "source": [
    "# Results"
   ]
  },
  {
   "cell_type": "code",
   "execution_count": 13,
   "metadata": {
    "execution": {
     "iopub.execute_input": "2021-02-26T11:51:39.257042Z",
     "iopub.status.busy": "2021-02-26T11:51:39.254727Z",
     "iopub.status.idle": "2021-02-26T11:51:39.487630Z"
    }
   },
   "outputs": [
    {
     "name": "stdout",
     "output_type": "stream",
     "text": [
      "No. of unique primer sets: 40 \n"
     ]
    },
    {
     "data": {
      "text/html": [
       "<table class=\"dataframe\">\n",
       "<caption>A data.frame: 80 × 22</caption>\n",
       "<thead>\n",
       "\t<tr><th scope=col>gene_type</th><th scope=col>cluster_id</th><th scope=col>primer_set</th><th scope=col>amplicon_size_consensus</th><th scope=col>amplicon_size_avg</th><th scope=col>amplicon_size_sd</th><th scope=col>primer_id</th><th scope=col>primer_type</th><th scope=col>sequence</th><th scope=col>length</th><th scope=col>⋯</th><th scope=col>position_start</th><th scope=col>position_end</th><th scope=col>Tm_avg</th><th scope=col>Tm_sd</th><th scope=col>GC_avg</th><th scope=col>GC_sd</th><th scope=col>hairpin_avg</th><th scope=col>hairpin_sd</th><th scope=col>homodimer_avg</th><th scope=col>homodimer_sd</th></tr>\n",
       "\t<tr><th scope=col>&lt;chr&gt;</th><th scope=col>&lt;int&gt;</th><th scope=col>&lt;int&gt;</th><th scope=col>&lt;int&gt;</th><th scope=col>&lt;dbl&gt;</th><th scope=col>&lt;dbl&gt;</th><th scope=col>&lt;chr&gt;</th><th scope=col>&lt;chr&gt;</th><th scope=col>&lt;chr&gt;</th><th scope=col>&lt;int&gt;</th><th scope=col>⋯</th><th scope=col>&lt;int&gt;</th><th scope=col>&lt;int&gt;</th><th scope=col>&lt;dbl&gt;</th><th scope=col>&lt;dbl&gt;</th><th scope=col>&lt;dbl&gt;</th><th scope=col>&lt;dbl&gt;</th><th scope=col>&lt;dbl&gt;</th><th scope=col>&lt;dbl&gt;</th><th scope=col>&lt;dbl&gt;</th><th scope=col>&lt;dbl&gt;</th></tr>\n",
       "</thead>\n",
       "<tbody>\n",
       "\t<tr><td>cds</td><td>5</td><td>402</td><td>166</td><td>166</td><td>0</td><td>402f</td><td>PRIMER_LEFT </td><td>CBGGCGGYGTNGTNAAGAA </td><td>19</td><td>⋯</td><td>142</td><td>161</td><td>61.55090</td><td>2.635150</td><td>58.77193</td><td>5.189544</td><td>10.20467</td><td>17.76559</td><td> 0.2535095</td><td>26.46468</td></tr>\n",
       "\t<tr><td>cds</td><td>5</td><td>402</td><td>166</td><td>166</td><td>0</td><td>402r</td><td>PRIMER_RIGHT</td><td>GCWACNGGYCCRAARATACG</td><td>20</td><td>⋯</td><td>288</td><td>308</td><td>59.79884</td><td>2.222096</td><td>55.00000</td><td>5.000000</td><td>20.89467</td><td>18.59058</td><td>-1.8372890</td><td>23.07496</td></tr>\n",
       "\t<tr><td>⋮</td><td>⋮</td><td>⋮</td><td>⋮</td><td>⋮</td><td>⋮</td><td>⋮</td><td>⋮</td><td>⋮</td><td>⋮</td><td>⋱</td><td>⋮</td><td>⋮</td><td>⋮</td><td>⋮</td><td>⋮</td><td>⋮</td><td>⋮</td><td>⋮</td><td>⋮</td><td>⋮</td></tr>\n",
       "\t<tr><td>cds</td><td>11</td><td>9962</td><td>132</td><td>132</td><td>0</td><td>9962f</td><td>PRIMER_LEFT </td><td>GACCARATGGCHGTDCAYG</td><td>19</td><td>⋯</td><td>1359</td><td>1378</td><td>58.86172</td><td>2.408386</td><td>56.14035</td><td>5.114870</td><td>39.83293</td><td> 0.5380754</td><td>  2.239179</td><td>11.31561</td></tr>\n",
       "\t<tr><td>cds</td><td>11</td><td>9962</td><td>132</td><td>132</td><td>0</td><td>9962r</td><td>PRIMER_RIGHT</td><td>RACCATRTCCTGYGTMGGS</td><td>19</td><td>⋯</td><td>1472</td><td>1491</td><td>59.16021</td><td>2.727392</td><td>57.89474</td><td>5.263158</td><td>27.49098</td><td>21.3391895</td><td>-11.843880</td><td>21.34608</td></tr>\n",
       "</tbody>\n",
       "</table>\n"
      ],
      "text/latex": [
       "A data.frame: 80 × 22\n",
       "\\begin{tabular}{lllllllllllllllllllll}\n",
       " gene\\_type & cluster\\_id & primer\\_set & amplicon\\_size\\_consensus & amplicon\\_size\\_avg & amplicon\\_size\\_sd & primer\\_id & primer\\_type & sequence & length & ⋯ & position\\_start & position\\_end & Tm\\_avg & Tm\\_sd & GC\\_avg & GC\\_sd & hairpin\\_avg & hairpin\\_sd & homodimer\\_avg & homodimer\\_sd\\\\\n",
       " <chr> & <int> & <int> & <int> & <dbl> & <dbl> & <chr> & <chr> & <chr> & <int> & ⋯ & <int> & <int> & <dbl> & <dbl> & <dbl> & <dbl> & <dbl> & <dbl> & <dbl> & <dbl>\\\\\n",
       "\\hline\n",
       "\t cds & 5 & 402 & 166 & 166 & 0 & 402f & PRIMER\\_LEFT  & CBGGCGGYGTNGTNAAGAA  & 19 & ⋯ & 142 & 161 & 61.55090 & 2.635150 & 58.77193 & 5.189544 & 10.20467 & 17.76559 &  0.2535095 & 26.46468\\\\\n",
       "\t cds & 5 & 402 & 166 & 166 & 0 & 402r & PRIMER\\_RIGHT & GCWACNGGYCCRAARATACG & 20 & ⋯ & 288 & 308 & 59.79884 & 2.222096 & 55.00000 & 5.000000 & 20.89467 & 18.59058 & -1.8372890 & 23.07496\\\\\n",
       "\t ⋮ & ⋮ & ⋮ & ⋮ & ⋮ & ⋮ & ⋮ & ⋮ & ⋮ & ⋮ & ⋱ & ⋮ & ⋮ & ⋮ & ⋮ & ⋮ & ⋮ & ⋮ & ⋮ & ⋮ & ⋮\\\\\n",
       "\t cds & 11 & 9962 & 132 & 132 & 0 & 9962f & PRIMER\\_LEFT  & GACCARATGGCHGTDCAYG & 19 & ⋯ & 1359 & 1378 & 58.86172 & 2.408386 & 56.14035 & 5.114870 & 39.83293 &  0.5380754 &   2.239179 & 11.31561\\\\\n",
       "\t cds & 11 & 9962 & 132 & 132 & 0 & 9962r & PRIMER\\_RIGHT & RACCATRTCCTGYGTMGGS & 19 & ⋯ & 1472 & 1491 & 59.16021 & 2.727392 & 57.89474 & 5.263158 & 27.49098 & 21.3391895 & -11.843880 & 21.34608\\\\\n",
       "\\end{tabular}\n"
      ],
      "text/markdown": [
       "\n",
       "A data.frame: 80 × 22\n",
       "\n",
       "| gene_type &lt;chr&gt; | cluster_id &lt;int&gt; | primer_set &lt;int&gt; | amplicon_size_consensus &lt;int&gt; | amplicon_size_avg &lt;dbl&gt; | amplicon_size_sd &lt;dbl&gt; | primer_id &lt;chr&gt; | primer_type &lt;chr&gt; | sequence &lt;chr&gt; | length &lt;int&gt; | ⋯ ⋯ | position_start &lt;int&gt; | position_end &lt;int&gt; | Tm_avg &lt;dbl&gt; | Tm_sd &lt;dbl&gt; | GC_avg &lt;dbl&gt; | GC_sd &lt;dbl&gt; | hairpin_avg &lt;dbl&gt; | hairpin_sd &lt;dbl&gt; | homodimer_avg &lt;dbl&gt; | homodimer_sd &lt;dbl&gt; |\n",
       "|---|---|---|---|---|---|---|---|---|---|---|---|---|---|---|---|---|---|---|---|---|\n",
       "| cds | 5 | 402 | 166 | 166 | 0 | 402f | PRIMER_LEFT  | CBGGCGGYGTNGTNAAGAA  | 19 | ⋯ | 142 | 161 | 61.55090 | 2.635150 | 58.77193 | 5.189544 | 10.20467 | 17.76559 |  0.2535095 | 26.46468 |\n",
       "| cds | 5 | 402 | 166 | 166 | 0 | 402r | PRIMER_RIGHT | GCWACNGGYCCRAARATACG | 20 | ⋯ | 288 | 308 | 59.79884 | 2.222096 | 55.00000 | 5.000000 | 20.89467 | 18.59058 | -1.8372890 | 23.07496 |\n",
       "| ⋮ | ⋮ | ⋮ | ⋮ | ⋮ | ⋮ | ⋮ | ⋮ | ⋮ | ⋮ | ⋱ | ⋮ | ⋮ | ⋮ | ⋮ | ⋮ | ⋮ | ⋮ | ⋮ | ⋮ | ⋮ |\n",
       "| cds | 11 | 9962 | 132 | 132 | 0 | 9962f | PRIMER_LEFT  | GACCARATGGCHGTDCAYG | 19 | ⋯ | 1359 | 1378 | 58.86172 | 2.408386 | 56.14035 | 5.114870 | 39.83293 |  0.5380754 |   2.239179 | 11.31561 |\n",
       "| cds | 11 | 9962 | 132 | 132 | 0 | 9962r | PRIMER_RIGHT | RACCATRTCCTGYGTMGGS | 19 | ⋯ | 1472 | 1491 | 59.16021 | 2.727392 | 57.89474 | 5.263158 | 27.49098 | 21.3391895 | -11.843880 | 21.34608 |\n",
       "\n"
      ],
      "text/plain": [
       "   gene_type cluster_id primer_set amplicon_size_consensus amplicon_size_avg\n",
       "1  cds       5          402        166                     166              \n",
       "2  cds       5          402        166                     166              \n",
       "⋮  ⋮         ⋮          ⋮          ⋮                       ⋮                \n",
       "79 cds       11         9962       132                     132              \n",
       "80 cds       11         9962       132                     132              \n",
       "   amplicon_size_sd primer_id primer_type  sequence             length ⋯\n",
       "1  0                402f      PRIMER_LEFT  CBGGCGGYGTNGTNAAGAA  19     ⋯\n",
       "2  0                402r      PRIMER_RIGHT GCWACNGGYCCRAARATACG 20     ⋯\n",
       "⋮  ⋮                ⋮         ⋮            ⋮                    ⋮      ⋱\n",
       "79 0                9962f     PRIMER_LEFT  GACCARATGGCHGTDCAYG  19     ⋯\n",
       "80 0                9962r     PRIMER_RIGHT RACCATRTCCTGYGTMGGS  19     ⋯\n",
       "   position_start position_end Tm_avg   Tm_sd    GC_avg   GC_sd    hairpin_avg\n",
       "1  142            161          61.55090 2.635150 58.77193 5.189544 10.20467   \n",
       "2  288            308          59.79884 2.222096 55.00000 5.000000 20.89467   \n",
       "⋮  ⋮              ⋮            ⋮        ⋮        ⋮        ⋮        ⋮          \n",
       "79 1359           1378         58.86172 2.408386 56.14035 5.114870 39.83293   \n",
       "80 1472           1491         59.16021 2.727392 57.89474 5.263158 27.49098   \n",
       "   hairpin_sd homodimer_avg homodimer_sd\n",
       "1  17.76559    0.2535095    26.46468    \n",
       "2  18.59058   -1.8372890    23.07496    \n",
       "⋮  ⋮          ⋮             ⋮           \n",
       "79  0.5380754   2.239179    11.31561    \n",
       "80 21.3391895 -11.843880    21.34608    "
      ]
     },
     "metadata": {},
     "output_type": "display_data"
    }
   ],
   "source": [
    "# primers\n",
    "primer_info = read.delim(file.path(work_dir, 'primers', 'clst0.8-perc0.8', 'cgp', 'primers_final_info.tsv'), sep='\\t')\n",
    "primer_info %>% unique_n('primer sets', primer_set)\n",
    "primer_info"
   ]
  },
  {
   "cell_type": "code",
   "execution_count": 40,
   "metadata": {
    "execution": {
     "iopub.execute_input": "2021-02-26T12:02:19.087365Z",
     "iopub.status.busy": "2021-02-26T12:02:19.084968Z",
     "iopub.status.idle": "2021-02-26T12:02:19.133755Z"
    }
   },
   "outputs": [
    {
     "data": {
      "text/html": [
       "<table class=\"dataframe\">\n",
       "<caption>A data.frame: 43 × 13</caption>\n",
       "<thead>\n",
       "\t<tr><th scope=col>gene_type</th><th scope=col>cluster_id</th><th scope=col>seq_uuid</th><th scope=col>seq_orig_name</th><th scope=col>contig_id</th><th scope=col>taxon</th><th scope=col>start</th><th scope=col>end</th><th scope=col>score</th><th scope=col>strand</th><th scope=col>annotation</th><th scope=col>cluster_name</th><th scope=col>clust_id</th></tr>\n",
       "\t<tr><th scope=col>&lt;chr&gt;</th><th scope=col>&lt;int&gt;</th><th scope=col>&lt;chr&gt;</th><th scope=col>&lt;chr&gt;</th><th scope=col>&lt;chr&gt;</th><th scope=col>&lt;chr&gt;</th><th scope=col>&lt;int&gt;</th><th scope=col>&lt;int&gt;</th><th scope=col>&lt;chr&gt;</th><th scope=col>&lt;chr&gt;</th><th scope=col>&lt;chr&gt;</th><th scope=col>&lt;chr&gt;</th><th scope=col>&lt;int&gt;</th></tr>\n",
       "</thead>\n",
       "<tbody>\n",
       "\t<tr><td>cds</td><td>5</td><td>d68322c8ca364d04828552a0efd486a3</td><td>IDAENNDI_01588</td><td>JACRSS010000003.1</td><td>GCA_014384805.1_ASM1438480v1.fna</td><td>304023</td><td>304391</td><td>.</td><td>-</td><td>50S ribosomal protein L14</td><td>c817bb98130f4bfe85d1460703167e0b</td><td>5</td></tr>\n",
       "\t<tr><td>cds</td><td>5</td><td>e8de575f15c84893ae8b2cc66c718df4</td><td>GAOLNLCB_00828</td><td>FLKP01000002.1   </td><td>GCA_900087015.1_PRJEB13910.fna  </td><td>568960</td><td>569328</td><td>.</td><td>+</td><td>50S ribosomal protein L14</td><td>c817bb98130f4bfe85d1460703167e0b</td><td>5</td></tr>\n",
       "\t<tr><td>⋮</td><td>⋮</td><td>⋮</td><td>⋮</td><td>⋮</td><td>⋮</td><td>⋮</td><td>⋮</td><td>⋮</td><td>⋮</td><td>⋮</td><td>⋮</td><td>⋮</td></tr>\n",
       "\t<tr><td>cds</td><td>11</td><td>b39721f8437543599e39b83a413827ed</td><td>PGOCOPND_00111</td><td>GUT_GENOME127701_4 </td><td>GUT_GENOME127701.fna</td><td>4667</td><td>8263</td><td>.</td><td>-</td><td>DNA-directed RNA polymerase subunit beta'</td><td>be25748cb9f14982b9e9c26951a2bb9f</td><td>11</td></tr>\n",
       "\t<tr><td>cds</td><td>11</td><td>5ece5e1d2dda400e85cf8f25ff63df03</td><td>NGKEMLEB_01211</td><td>GUT_GENOME097725_46</td><td>GUT_GENOME097725.fna</td><td>6033</td><td>9602</td><td>.</td><td>-</td><td>DNA-directed RNA polymerase subunit beta'</td><td>be25748cb9f14982b9e9c26951a2bb9f</td><td>11</td></tr>\n",
       "</tbody>\n",
       "</table>\n"
      ],
      "text/latex": [
       "A data.frame: 43 × 13\n",
       "\\begin{tabular}{lllllllllllll}\n",
       " gene\\_type & cluster\\_id & seq\\_uuid & seq\\_orig\\_name & contig\\_id & taxon & start & end & score & strand & annotation & cluster\\_name & clust\\_id\\\\\n",
       " <chr> & <int> & <chr> & <chr> & <chr> & <chr> & <int> & <int> & <chr> & <chr> & <chr> & <chr> & <int>\\\\\n",
       "\\hline\n",
       "\t cds & 5 & d68322c8ca364d04828552a0efd486a3 & IDAENNDI\\_01588 & JACRSS010000003.1 & GCA\\_014384805.1\\_ASM1438480v1.fna & 304023 & 304391 & . & - & 50S ribosomal protein L14 & c817bb98130f4bfe85d1460703167e0b & 5\\\\\n",
       "\t cds & 5 & e8de575f15c84893ae8b2cc66c718df4 & GAOLNLCB\\_00828 & FLKP01000002.1    & GCA\\_900087015.1\\_PRJEB13910.fna   & 568960 & 569328 & . & + & 50S ribosomal protein L14 & c817bb98130f4bfe85d1460703167e0b & 5\\\\\n",
       "\t ⋮ & ⋮ & ⋮ & ⋮ & ⋮ & ⋮ & ⋮ & ⋮ & ⋮ & ⋮ & ⋮ & ⋮ & ⋮\\\\\n",
       "\t cds & 11 & b39721f8437543599e39b83a413827ed & PGOCOPND\\_00111 & GUT\\_GENOME127701\\_4  & GUT\\_GENOME127701.fna & 4667 & 8263 & . & - & DNA-directed RNA polymerase subunit beta' & be25748cb9f14982b9e9c26951a2bb9f & 11\\\\\n",
       "\t cds & 11 & 5ece5e1d2dda400e85cf8f25ff63df03 & NGKEMLEB\\_01211 & GUT\\_GENOME097725\\_46 & GUT\\_GENOME097725.fna & 6033 & 9602 & . & - & DNA-directed RNA polymerase subunit beta' & be25748cb9f14982b9e9c26951a2bb9f & 11\\\\\n",
       "\\end{tabular}\n"
      ],
      "text/markdown": [
       "\n",
       "A data.frame: 43 × 13\n",
       "\n",
       "| gene_type &lt;chr&gt; | cluster_id &lt;int&gt; | seq_uuid &lt;chr&gt; | seq_orig_name &lt;chr&gt; | contig_id &lt;chr&gt; | taxon &lt;chr&gt; | start &lt;int&gt; | end &lt;int&gt; | score &lt;chr&gt; | strand &lt;chr&gt; | annotation &lt;chr&gt; | cluster_name &lt;chr&gt; | clust_id &lt;int&gt; |\n",
       "|---|---|---|---|---|---|---|---|---|---|---|---|---|\n",
       "| cds | 5 | d68322c8ca364d04828552a0efd486a3 | IDAENNDI_01588 | JACRSS010000003.1 | GCA_014384805.1_ASM1438480v1.fna | 304023 | 304391 | . | - | 50S ribosomal protein L14 | c817bb98130f4bfe85d1460703167e0b | 5 |\n",
       "| cds | 5 | e8de575f15c84893ae8b2cc66c718df4 | GAOLNLCB_00828 | FLKP01000002.1    | GCA_900087015.1_PRJEB13910.fna   | 568960 | 569328 | . | + | 50S ribosomal protein L14 | c817bb98130f4bfe85d1460703167e0b | 5 |\n",
       "| ⋮ | ⋮ | ⋮ | ⋮ | ⋮ | ⋮ | ⋮ | ⋮ | ⋮ | ⋮ | ⋮ | ⋮ | ⋮ |\n",
       "| cds | 11 | b39721f8437543599e39b83a413827ed | PGOCOPND_00111 | GUT_GENOME127701_4  | GUT_GENOME127701.fna | 4667 | 8263 | . | - | DNA-directed RNA polymerase subunit beta' | be25748cb9f14982b9e9c26951a2bb9f | 11 |\n",
       "| cds | 11 | 5ece5e1d2dda400e85cf8f25ff63df03 | NGKEMLEB_01211 | GUT_GENOME097725_46 | GUT_GENOME097725.fna | 6033 | 9602 | . | - | DNA-directed RNA polymerase subunit beta' | be25748cb9f14982b9e9c26951a2bb9f | 11 |\n",
       "\n"
      ],
      "text/plain": [
       "   gene_type cluster_id seq_uuid                         seq_orig_name \n",
       "1  cds       5          d68322c8ca364d04828552a0efd486a3 IDAENNDI_01588\n",
       "2  cds       5          e8de575f15c84893ae8b2cc66c718df4 GAOLNLCB_00828\n",
       "⋮  ⋮         ⋮          ⋮                                ⋮             \n",
       "42 cds       11         b39721f8437543599e39b83a413827ed PGOCOPND_00111\n",
       "43 cds       11         5ece5e1d2dda400e85cf8f25ff63df03 NGKEMLEB_01211\n",
       "   contig_id           taxon                            start  end    score\n",
       "1  JACRSS010000003.1   GCA_014384805.1_ASM1438480v1.fna 304023 304391 .    \n",
       "2  FLKP01000002.1      GCA_900087015.1_PRJEB13910.fna   568960 569328 .    \n",
       "⋮  ⋮                   ⋮                                ⋮      ⋮      ⋮    \n",
       "42 GUT_GENOME127701_4  GUT_GENOME127701.fna             4667   8263   .    \n",
       "43 GUT_GENOME097725_46 GUT_GENOME097725.fna             6033   9602   .    \n",
       "   strand annotation                               \n",
       "1  -      50S ribosomal protein L14                \n",
       "2  +      50S ribosomal protein L14                \n",
       "⋮  ⋮      ⋮                                        \n",
       "42 -      DNA-directed RNA polymerase subunit beta'\n",
       "43 -      DNA-directed RNA polymerase subunit beta'\n",
       "   cluster_name                     clust_id\n",
       "1  c817bb98130f4bfe85d1460703167e0b 5       \n",
       "2  c817bb98130f4bfe85d1460703167e0b 5       \n",
       "⋮  ⋮                                ⋮       \n",
       "42 be25748cb9f14982b9e9c26951a2bb9f 11      \n",
       "43 be25748cb9f14982b9e9c26951a2bb9f 11      "
      ]
     },
     "metadata": {},
     "output_type": "display_data"
    }
   ],
   "source": [
    "# target gene info\n",
    "gene_annot = read.delim(file.path(work_dir, 'primers', 'clst0.8-perc0.8', 'cgp', 'core_clusters_info.tsv'), \n",
    "                        sep='\\t') %>%\n",
    "    semi_join(primer_info, c('cluster_id')) \n",
    "gene_annot"
   ]
  },
  {
   "cell_type": "code",
   "execution_count": 39,
   "metadata": {
    "execution": {
     "iopub.execute_input": "2021-02-26T12:02:16.386311Z",
     "iopub.status.busy": "2021-02-26T12:02:16.383921Z",
     "iopub.status.idle": "2021-02-26T12:02:16.436615Z"
    }
   },
   "outputs": [
    {
     "data": {
      "text/html": [
       "<table class=\"dataframe\">\n",
       "<caption>A data.frame: 90 × 17</caption>\n",
       "<thead>\n",
       "\t<tr><th scope=col>cluster_id</th><th scope=col>query</th><th scope=col>subject</th><th scope=col>subject_name</th><th scope=col>pident</th><th scope=col>length</th><th scope=col>mismatch</th><th scope=col>qstart</th><th scope=col>qend</th><th scope=col>sstart</th><th scope=col>send</th><th scope=col>evalue</th><th scope=col>slen</th><th scope=col>qlen</th><th scope=col>sscinames</th><th scope=col>staxids</th><th scope=col>pident_rank</th></tr>\n",
       "\t<tr><th scope=col>&lt;int&gt;</th><th scope=col>&lt;chr&gt;</th><th scope=col>&lt;chr&gt;</th><th scope=col>&lt;chr&gt;</th><th scope=col>&lt;dbl&gt;</th><th scope=col>&lt;int&gt;</th><th scope=col>&lt;int&gt;</th><th scope=col>&lt;int&gt;</th><th scope=col>&lt;int&gt;</th><th scope=col>&lt;int&gt;</th><th scope=col>&lt;int&gt;</th><th scope=col>&lt;dbl&gt;</th><th scope=col>&lt;int&gt;</th><th scope=col>&lt;int&gt;</th><th scope=col>&lt;chr&gt;</th><th scope=col>&lt;chr&gt;</th><th scope=col>&lt;int&gt;</th></tr>\n",
       "</thead>\n",
       "<tbody>\n",
       "\t<tr><td>5</td><td>c817bb98130f4bfe85d1460703167e0b</td><td>PWM37926.1</td><td>50S ribosomal protein L14 [Clostridiales bacterium]</td><td>90.984</td><td>122</td><td>11</td><td>1</td><td>366</td><td>1</td><td>122</td><td>1.47e-62</td><td>122</td><td>369</td><td>Clostridiales bacterium</td><td>1898207</td><td>1</td></tr>\n",
       "\t<tr><td>5</td><td>c817bb98130f4bfe85d1460703167e0b</td><td>HBU12873.1</td><td>50S ribosomal protein L14 [Clostridiales bacterium]</td><td>86.885</td><td>122</td><td>16</td><td>1</td><td>366</td><td>1</td><td>122</td><td>1.19e-61</td><td>122</td><td>369</td><td>Clostridiales bacterium</td><td>1898207</td><td>2</td></tr>\n",
       "\t<tr><td>⋮</td><td>⋮</td><td>⋮</td><td>⋮</td><td>⋮</td><td>⋮</td><td>⋮</td><td>⋮</td><td>⋮</td><td>⋮</td><td>⋮</td><td>⋮</td><td>⋮</td><td>⋮</td><td>⋮</td><td>⋮</td><td>⋮</td></tr>\n",
       "\t<tr><td>11</td><td>be25748cb9f14982b9e9c26951a2bb9f</td><td>WP_087679536.1</td><td>DNA-directed RNA polymerase subunit beta' [Garciella nitratireducens]</td><td>73.305</td><td>1165</td><td>305</td><td>4</td><td>3498</td><td>3</td><td>1161</td><td>0</td><td>1191</td><td>3765</td><td>Garciella nitratireducens;Garciella nitratireducens DSM 15102</td><td>218205;1121911</td><td>20</td></tr>\n",
       "\t<tr><td>11</td><td>be25748cb9f14982b9e9c26951a2bb9f</td><td>HHU64062.1    </td><td>DNA-directed RNA polymerase subunit beta' [Clostridiales bacterium]  </td><td>73.842</td><td>1166</td><td>302</td><td>1</td><td>3495</td><td>2</td><td>1165</td><td>0</td><td>1179</td><td>3765</td><td>Clostridiales bacterium                                      </td><td>1898207       </td><td>16</td></tr>\n",
       "</tbody>\n",
       "</table>\n"
      ],
      "text/latex": [
       "A data.frame: 90 × 17\n",
       "\\begin{tabular}{lllllllllllllllll}\n",
       " cluster\\_id & query & subject & subject\\_name & pident & length & mismatch & qstart & qend & sstart & send & evalue & slen & qlen & sscinames & staxids & pident\\_rank\\\\\n",
       " <int> & <chr> & <chr> & <chr> & <dbl> & <int> & <int> & <int> & <int> & <int> & <int> & <dbl> & <int> & <int> & <chr> & <chr> & <int>\\\\\n",
       "\\hline\n",
       "\t 5 & c817bb98130f4bfe85d1460703167e0b & PWM37926.1 & 50S ribosomal protein L14 {[}Clostridiales bacterium{]} & 90.984 & 122 & 11 & 1 & 366 & 1 & 122 & 1.47e-62 & 122 & 369 & Clostridiales bacterium & 1898207 & 1\\\\\n",
       "\t 5 & c817bb98130f4bfe85d1460703167e0b & HBU12873.1 & 50S ribosomal protein L14 {[}Clostridiales bacterium{]} & 86.885 & 122 & 16 & 1 & 366 & 1 & 122 & 1.19e-61 & 122 & 369 & Clostridiales bacterium & 1898207 & 2\\\\\n",
       "\t ⋮ & ⋮ & ⋮ & ⋮ & ⋮ & ⋮ & ⋮ & ⋮ & ⋮ & ⋮ & ⋮ & ⋮ & ⋮ & ⋮ & ⋮ & ⋮ & ⋮\\\\\n",
       "\t 11 & be25748cb9f14982b9e9c26951a2bb9f & WP\\_087679536.1 & DNA-directed RNA polymerase subunit beta' {[}Garciella nitratireducens{]} & 73.305 & 1165 & 305 & 4 & 3498 & 3 & 1161 & 0 & 1191 & 3765 & Garciella nitratireducens;Garciella nitratireducens DSM 15102 & 218205;1121911 & 20\\\\\n",
       "\t 11 & be25748cb9f14982b9e9c26951a2bb9f & HHU64062.1     & DNA-directed RNA polymerase subunit beta' {[}Clostridiales bacterium{]}   & 73.842 & 1166 & 302 & 1 & 3495 & 2 & 1165 & 0 & 1179 & 3765 & Clostridiales bacterium                                       & 1898207        & 16\\\\\n",
       "\\end{tabular}\n"
      ],
      "text/markdown": [
       "\n",
       "A data.frame: 90 × 17\n",
       "\n",
       "| cluster_id &lt;int&gt; | query &lt;chr&gt; | subject &lt;chr&gt; | subject_name &lt;chr&gt; | pident &lt;dbl&gt; | length &lt;int&gt; | mismatch &lt;int&gt; | qstart &lt;int&gt; | qend &lt;int&gt; | sstart &lt;int&gt; | send &lt;int&gt; | evalue &lt;dbl&gt; | slen &lt;int&gt; | qlen &lt;int&gt; | sscinames &lt;chr&gt; | staxids &lt;chr&gt; | pident_rank &lt;int&gt; |\n",
       "|---|---|---|---|---|---|---|---|---|---|---|---|---|---|---|---|---|\n",
       "| 5 | c817bb98130f4bfe85d1460703167e0b | PWM37926.1 | 50S ribosomal protein L14 [Clostridiales bacterium] | 90.984 | 122 | 11 | 1 | 366 | 1 | 122 | 1.47e-62 | 122 | 369 | Clostridiales bacterium | 1898207 | 1 |\n",
       "| 5 | c817bb98130f4bfe85d1460703167e0b | HBU12873.1 | 50S ribosomal protein L14 [Clostridiales bacterium] | 86.885 | 122 | 16 | 1 | 366 | 1 | 122 | 1.19e-61 | 122 | 369 | Clostridiales bacterium | 1898207 | 2 |\n",
       "| ⋮ | ⋮ | ⋮ | ⋮ | ⋮ | ⋮ | ⋮ | ⋮ | ⋮ | ⋮ | ⋮ | ⋮ | ⋮ | ⋮ | ⋮ | ⋮ | ⋮ |\n",
       "| 11 | be25748cb9f14982b9e9c26951a2bb9f | WP_087679536.1 | DNA-directed RNA polymerase subunit beta' [Garciella nitratireducens] | 73.305 | 1165 | 305 | 4 | 3498 | 3 | 1161 | 0 | 1191 | 3765 | Garciella nitratireducens;Garciella nitratireducens DSM 15102 | 218205;1121911 | 20 |\n",
       "| 11 | be25748cb9f14982b9e9c26951a2bb9f | HHU64062.1     | DNA-directed RNA polymerase subunit beta' [Clostridiales bacterium]   | 73.842 | 1166 | 302 | 1 | 3495 | 2 | 1165 | 0 | 1179 | 3765 | Clostridiales bacterium                                       | 1898207        | 16 |\n",
       "\n"
      ],
      "text/plain": [
       "   cluster_id query                            subject       \n",
       "1  5          c817bb98130f4bfe85d1460703167e0b PWM37926.1    \n",
       "2  5          c817bb98130f4bfe85d1460703167e0b HBU12873.1    \n",
       "⋮  ⋮          ⋮                                ⋮             \n",
       "89 11         be25748cb9f14982b9e9c26951a2bb9f WP_087679536.1\n",
       "90 11         be25748cb9f14982b9e9c26951a2bb9f HHU64062.1    \n",
       "   subject_name                                                          pident\n",
       "1  50S ribosomal protein L14 [Clostridiales bacterium]                   90.984\n",
       "2  50S ribosomal protein L14 [Clostridiales bacterium]                   86.885\n",
       "⋮  ⋮                                                                     ⋮     \n",
       "89 DNA-directed RNA polymerase subunit beta' [Garciella nitratireducens] 73.305\n",
       "90 DNA-directed RNA polymerase subunit beta' [Clostridiales bacterium]   73.842\n",
       "   length mismatch qstart qend sstart send evalue   slen qlen\n",
       "1  122    11       1      366  1      122  1.47e-62 122  369 \n",
       "2  122    16       1      366  1      122  1.19e-61 122  369 \n",
       "⋮  ⋮      ⋮        ⋮      ⋮    ⋮      ⋮    ⋮        ⋮    ⋮   \n",
       "89 1165   305      4      3498 3      1161 0        1191 3765\n",
       "90 1166   302      1      3495 2      1165 0        1179 3765\n",
       "   sscinames                                                     staxids       \n",
       "1  Clostridiales bacterium                                       1898207       \n",
       "2  Clostridiales bacterium                                       1898207       \n",
       "⋮  ⋮                                                             ⋮             \n",
       "89 Garciella nitratireducens;Garciella nitratireducens DSM 15102 218205;1121911\n",
       "90 Clostridiales bacterium                                       1898207       \n",
       "   pident_rank\n",
       "1  1          \n",
       "2  2          \n",
       "⋮  ⋮          \n",
       "89 20         \n",
       "90 16         "
      ]
     },
     "metadata": {},
     "output_type": "display_data"
    }
   ],
   "source": [
    "# non-target gene annotations\n",
    "gene_nontarget = read.delim(file.path(work_dir, 'primers', 'clst0.8-perc0.8', 'cgp', 'nontarget', 'cds_blastx.tsv'), \n",
    "                        sep='\\t') %>%\n",
    "    semi_join(primer_info, c('cluster_id')) \n",
    "gene_nontarget"
   ]
  },
  {
   "cell_type": "markdown",
   "metadata": {},
   "source": [
    "## Primer quality"
   ]
  },
  {
   "cell_type": "code",
   "execution_count": 24,
   "metadata": {
    "execution": {
     "iopub.execute_input": "2021-02-26T11:55:53.313806Z",
     "iopub.status.busy": "2021-02-26T11:55:53.311443Z",
     "iopub.status.idle": "2021-02-26T11:55:53.333930Z"
    }
   },
   "outputs": [
    {
     "name": "stdout",
     "output_type": "stream",
     "text": [
      "No. of unique primer sets: 40 \n",
      "No. of unique gene clusters: 3 \n"
     ]
    }
   ],
   "source": [
    "# summary\n",
    "primer_info %>% unique_n('primer sets', primer_set)\n",
    "primer_info %>% unique_n('gene clusters', cluster_id)"
   ]
  },
  {
   "cell_type": "code",
   "execution_count": 26,
   "metadata": {
    "execution": {
     "iopub.execute_input": "2021-02-26T11:56:54.006555Z",
     "iopub.status.busy": "2021-02-26T11:56:54.004382Z",
     "iopub.status.idle": "2021-02-26T11:56:54.046349Z"
    }
   },
   "outputs": [
    {
     "data": {
      "text/html": [
       "<table class=\"dataframe\">\n",
       "<caption>A tibble: 3 × 2</caption>\n",
       "<thead>\n",
       "\t<tr><th></th><th scope=col>cluster_id</th><th scope=col>n_primer_sets</th></tr>\n",
       "\t<tr><th></th><th scope=col>&lt;int&gt;</th><th scope=col>&lt;int&gt;</th></tr>\n",
       "</thead>\n",
       "<tbody>\n",
       "\t<tr><th scope=row>1</th><td> 5</td><td> 4</td></tr>\n",
       "\t<tr><th scope=row>2</th><td> 9</td><td> 1</td></tr>\n",
       "\t<tr><th scope=row>3</th><td>11</td><td>35</td></tr>\n",
       "</tbody>\n",
       "</table>\n"
      ],
      "text/latex": [
       "A tibble: 3 × 2\n",
       "\\begin{tabular}{r|ll}\n",
       "  & cluster\\_id & n\\_primer\\_sets\\\\\n",
       "  & <int> & <int>\\\\\n",
       "\\hline\n",
       "\t1 &  5 &  4\\\\\n",
       "\t2 &  9 &  1\\\\\n",
       "\t3 & 11 & 35\\\\\n",
       "\\end{tabular}\n"
      ],
      "text/markdown": [
       "\n",
       "A tibble: 3 × 2\n",
       "\n",
       "| <!--/--> | cluster_id &lt;int&gt; | n_primer_sets &lt;int&gt; |\n",
       "|---|---|---|\n",
       "| 1 |  5 |  4 |\n",
       "| 2 |  9 |  1 |\n",
       "| 3 | 11 | 35 |\n",
       "\n"
      ],
      "text/plain": [
       "  cluster_id n_primer_sets\n",
       "1  5          4           \n",
       "2  9          1           \n",
       "3 11         35           "
      ]
     },
     "metadata": {},
     "output_type": "display_data"
    }
   ],
   "source": [
    "# primers per cluster\n",
    "primer_info %>%\n",
    "    distinct(cluster_id, primer_set) %>%\n",
    "    group_by(cluster_id) %>%\n",
    "    summarize(n_primer_sets = n(), .groups='drop')"
   ]
  },
  {
   "cell_type": "code",
   "execution_count": 30,
   "metadata": {
    "execution": {
     "iopub.execute_input": "2021-02-26T11:58:13.231591Z",
     "iopub.status.busy": "2021-02-26T11:58:13.229217Z",
     "iopub.status.idle": "2021-02-26T11:58:13.250381Z"
    }
   },
   "outputs": [
    {
     "data": {
      "text/html": [
       "<style>\n",
       ".list-inline {list-style: none; margin:0; padding: 0}\n",
       ".list-inline>li {display: inline-block}\n",
       ".list-inline>li:not(:last-child)::after {content: \"\\00b7\"; padding: 0 .5ex}\n",
       "</style>\n",
       "<ol class=list-inline><li>'gene_type'</li><li>'cluster_id'</li><li>'primer_set'</li><li>'amplicon_size_consensus'</li><li>'amplicon_size_avg'</li><li>'amplicon_size_sd'</li><li>'primer_id'</li><li>'primer_type'</li><li>'sequence'</li><li>'length'</li><li>'degeneracy'</li><li>'degeneracy_3prime'</li><li>'position_start'</li><li>'position_end'</li><li>'Tm_avg'</li><li>'Tm_sd'</li><li>'GC_avg'</li><li>'GC_sd'</li><li>'hairpin_avg'</li><li>'hairpin_sd'</li><li>'homodimer_avg'</li><li>'homodimer_sd'</li></ol>\n"
      ],
      "text/latex": [
       "\\begin{enumerate*}\n",
       "\\item 'gene\\_type'\n",
       "\\item 'cluster\\_id'\n",
       "\\item 'primer\\_set'\n",
       "\\item 'amplicon\\_size\\_consensus'\n",
       "\\item 'amplicon\\_size\\_avg'\n",
       "\\item 'amplicon\\_size\\_sd'\n",
       "\\item 'primer\\_id'\n",
       "\\item 'primer\\_type'\n",
       "\\item 'sequence'\n",
       "\\item 'length'\n",
       "\\item 'degeneracy'\n",
       "\\item 'degeneracy\\_3prime'\n",
       "\\item 'position\\_start'\n",
       "\\item 'position\\_end'\n",
       "\\item 'Tm\\_avg'\n",
       "\\item 'Tm\\_sd'\n",
       "\\item 'GC\\_avg'\n",
       "\\item 'GC\\_sd'\n",
       "\\item 'hairpin\\_avg'\n",
       "\\item 'hairpin\\_sd'\n",
       "\\item 'homodimer\\_avg'\n",
       "\\item 'homodimer\\_sd'\n",
       "\\end{enumerate*}\n"
      ],
      "text/markdown": [
       "1. 'gene_type'\n",
       "2. 'cluster_id'\n",
       "3. 'primer_set'\n",
       "4. 'amplicon_size_consensus'\n",
       "5. 'amplicon_size_avg'\n",
       "6. 'amplicon_size_sd'\n",
       "7. 'primer_id'\n",
       "8. 'primer_type'\n",
       "9. 'sequence'\n",
       "10. 'length'\n",
       "11. 'degeneracy'\n",
       "12. 'degeneracy_3prime'\n",
       "13. 'position_start'\n",
       "14. 'position_end'\n",
       "15. 'Tm_avg'\n",
       "16. 'Tm_sd'\n",
       "17. 'GC_avg'\n",
       "18. 'GC_sd'\n",
       "19. 'hairpin_avg'\n",
       "20. 'hairpin_sd'\n",
       "21. 'homodimer_avg'\n",
       "22. 'homodimer_sd'\n",
       "\n",
       "\n"
      ],
      "text/plain": [
       " [1] \"gene_type\"               \"cluster_id\"             \n",
       " [3] \"primer_set\"              \"amplicon_size_consensus\"\n",
       " [5] \"amplicon_size_avg\"       \"amplicon_size_sd\"       \n",
       " [7] \"primer_id\"               \"primer_type\"            \n",
       " [9] \"sequence\"                \"length\"                 \n",
       "[11] \"degeneracy\"              \"degeneracy_3prime\"      \n",
       "[13] \"position_start\"          \"position_end\"           \n",
       "[15] \"Tm_avg\"                  \"Tm_sd\"                  \n",
       "[17] \"GC_avg\"                  \"GC_sd\"                  \n",
       "[19] \"hairpin_avg\"             \"hairpin_sd\"             \n",
       "[21] \"homodimer_avg\"           \"homodimer_sd\"           "
      ]
     },
     "metadata": {},
     "output_type": "display_data"
    }
   ],
   "source": [
    "primer_info %>% colnames"
   ]
  },
  {
   "cell_type": "code",
   "execution_count": 31,
   "metadata": {
    "execution": {
     "iopub.execute_input": "2021-02-26T11:58:53.644324Z",
     "iopub.status.busy": "2021-02-26T11:58:53.641479Z",
     "iopub.status.idle": "2021-02-26T11:58:53.690431Z"
    }
   },
   "outputs": [
    {
     "data": {
      "text/html": [
       "<table class=\"dataframe\">\n",
       "<caption>A matrix: 1 × 8 of type dbl</caption>\n",
       "<thead>\n",
       "\t<tr><th></th><th scope=col>Min.</th><th scope=col>1st Qu.</th><th scope=col>Median</th><th scope=col>Mean</th><th scope=col>3rd Qu.</th><th scope=col>Max.</th><th scope=col>sd</th><th scope=col>sd_err_of_mean</th></tr>\n",
       "</thead>\n",
       "<tbody>\n",
       "\t<tr><th scope=row>mean amplicon size</th><td>100</td><td>129</td><td>137</td><td>150.35</td><td>166</td><td>245</td><td>49.531</td><td>20.221</td></tr>\n",
       "</tbody>\n",
       "</table>\n"
      ],
      "text/latex": [
       "A matrix: 1 × 8 of type dbl\n",
       "\\begin{tabular}{r|llllllll}\n",
       "  & Min. & 1st Qu. & Median & Mean & 3rd Qu. & Max. & sd & sd\\_err\\_of\\_mean\\\\\n",
       "\\hline\n",
       "\tmean amplicon size & 100 & 129 & 137 & 150.35 & 166 & 245 & 49.531 & 20.221\\\\\n",
       "\\end{tabular}\n"
      ],
      "text/markdown": [
       "\n",
       "A matrix: 1 × 8 of type dbl\n",
       "\n",
       "| <!--/--> | Min. | 1st Qu. | Median | Mean | 3rd Qu. | Max. | sd | sd_err_of_mean |\n",
       "|---|---|---|---|---|---|---|---|---|\n",
       "| mean amplicon size | 100 | 129 | 137 | 150.35 | 166 | 245 | 49.531 | 20.221 |\n",
       "\n"
      ],
      "text/plain": [
       "                   Min. 1st Qu. Median Mean   3rd Qu. Max. sd    \n",
       "mean amplicon size 100  129     137    150.35 166     245  49.531\n",
       "                   sd_err_of_mean\n",
       "mean amplicon size 20.221        "
      ]
     },
     "metadata": {},
     "output_type": "display_data"
    },
    {
     "data": {
      "text/html": [
       "<table class=\"dataframe\">\n",
       "<caption>A matrix: 1 × 8 of type dbl</caption>\n",
       "<thead>\n",
       "\t<tr><th></th><th scope=col>Min.</th><th scope=col>1st Qu.</th><th scope=col>Median</th><th scope=col>Mean</th><th scope=col>3rd Qu.</th><th scope=col>Max.</th><th scope=col>sd</th><th scope=col>sd_err_of_mean</th></tr>\n",
       "</thead>\n",
       "<tbody>\n",
       "\t<tr><th scope=row>degeneracy</th><td>16</td><td>36</td><td>64</td><td>62</td><td>96</td><td>128</td><td>40.393</td><td>16.49</td></tr>\n",
       "</tbody>\n",
       "</table>\n"
      ],
      "text/latex": [
       "A matrix: 1 × 8 of type dbl\n",
       "\\begin{tabular}{r|llllllll}\n",
       "  & Min. & 1st Qu. & Median & Mean & 3rd Qu. & Max. & sd & sd\\_err\\_of\\_mean\\\\\n",
       "\\hline\n",
       "\tdegeneracy & 16 & 36 & 64 & 62 & 96 & 128 & 40.393 & 16.49\\\\\n",
       "\\end{tabular}\n"
      ],
      "text/markdown": [
       "\n",
       "A matrix: 1 × 8 of type dbl\n",
       "\n",
       "| <!--/--> | Min. | 1st Qu. | Median | Mean | 3rd Qu. | Max. | sd | sd_err_of_mean |\n",
       "|---|---|---|---|---|---|---|---|---|\n",
       "| degeneracy | 16 | 36 | 64 | 62 | 96 | 128 | 40.393 | 16.49 |\n",
       "\n"
      ],
      "text/plain": [
       "           Min. 1st Qu. Median Mean 3rd Qu. Max. sd     sd_err_of_mean\n",
       "degeneracy 16   36      64     62   96      128  40.393 16.49         "
      ]
     },
     "metadata": {},
     "output_type": "display_data"
    },
    {
     "data": {
      "text/html": [
       "<table class=\"dataframe\">\n",
       "<caption>A matrix: 1 × 8 of type dbl</caption>\n",
       "<thead>\n",
       "\t<tr><th></th><th scope=col>Min.</th><th scope=col>1st Qu.</th><th scope=col>Median</th><th scope=col>Mean</th><th scope=col>3rd Qu.</th><th scope=col>Max.</th><th scope=col>sd</th><th scope=col>sd_err_of_mean</th></tr>\n",
       "</thead>\n",
       "<tbody>\n",
       "\t<tr><th scope=row>degeneracy (3-prime)</th><td>1</td><td>2</td><td>4</td><td>3.75</td><td>6</td><td>12</td><td>3.932</td><td>1.605</td></tr>\n",
       "</tbody>\n",
       "</table>\n"
      ],
      "text/latex": [
       "A matrix: 1 × 8 of type dbl\n",
       "\\begin{tabular}{r|llllllll}\n",
       "  & Min. & 1st Qu. & Median & Mean & 3rd Qu. & Max. & sd & sd\\_err\\_of\\_mean\\\\\n",
       "\\hline\n",
       "\tdegeneracy (3-prime) & 1 & 2 & 4 & 3.75 & 6 & 12 & 3.932 & 1.605\\\\\n",
       "\\end{tabular}\n"
      ],
      "text/markdown": [
       "\n",
       "A matrix: 1 × 8 of type dbl\n",
       "\n",
       "| <!--/--> | Min. | 1st Qu. | Median | Mean | 3rd Qu. | Max. | sd | sd_err_of_mean |\n",
       "|---|---|---|---|---|---|---|---|---|\n",
       "| degeneracy (3-prime) | 1 | 2 | 4 | 3.75 | 6 | 12 | 3.932 | 1.605 |\n",
       "\n"
      ],
      "text/plain": [
       "                     Min. 1st Qu. Median Mean 3rd Qu. Max. sd    sd_err_of_mean\n",
       "degeneracy (3-prime) 1    2       4      3.75 6       12   3.932 1.605         "
      ]
     },
     "metadata": {},
     "output_type": "display_data"
    }
   ],
   "source": [
    "# primer quality\n",
    "primer_info %>% filter(primer_type == 'PRIMER_LEFT') %>% .$amplicon_size_avg %>% summary_x('mean amplicon size')\n",
    "primer_info %>% .$degeneracy %>% summary_x('degeneracy')\n",
    "primer_info %>% .$degeneracy_3prime %>% summary_x('degeneracy (3-prime)')"
   ]
  },
  {
   "cell_type": "code",
   "execution_count": 38,
   "metadata": {
    "execution": {
     "iopub.execute_input": "2021-02-26T12:01:20.676700Z",
     "iopub.status.busy": "2021-02-26T12:01:20.674634Z",
     "iopub.status.idle": "2021-02-26T12:01:20.763700Z"
    }
   },
   "outputs": [
    {
     "data": {
      "text/html": [
       "<table class=\"dataframe\">\n",
       "<caption>A grouped_df: 20 × 24</caption>\n",
       "<thead>\n",
       "\t<tr><th scope=col>gene_type</th><th scope=col>cluster_id</th><th scope=col>primer_set</th><th scope=col>amplicon_size_consensus</th><th scope=col>amplicon_size_avg</th><th scope=col>amplicon_size_sd</th><th scope=col>primer_id</th><th scope=col>primer_type</th><th scope=col>sequence</th><th scope=col>length</th><th scope=col>degeneracy</th><th scope=col>degeneracy_3prime</th><th scope=col>position_start</th><th scope=col>position_end</th><th scope=col>Tm_avg</th><th scope=col>Tm_sd</th><th scope=col>GC_avg</th><th scope=col>GC_sd</th><th scope=col>hairpin_avg</th><th scope=col>hairpin_sd</th><th scope=col>homodimer_avg</th><th scope=col>homodimer_sd</th><th scope=col>max_degeneracy_3prime</th><th scope=col>max_degeneracy</th></tr>\n",
       "\t<tr><th scope=col>&lt;chr&gt;</th><th scope=col>&lt;int&gt;</th><th scope=col>&lt;int&gt;</th><th scope=col>&lt;int&gt;</th><th scope=col>&lt;dbl&gt;</th><th scope=col>&lt;dbl&gt;</th><th scope=col>&lt;chr&gt;</th><th scope=col>&lt;chr&gt;</th><th scope=col>&lt;chr&gt;</th><th scope=col>&lt;int&gt;</th><th scope=col>&lt;int&gt;</th><th scope=col>&lt;int&gt;</th><th scope=col>&lt;int&gt;</th><th scope=col>&lt;int&gt;</th><th scope=col>&lt;dbl&gt;</th><th scope=col>&lt;dbl&gt;</th><th scope=col>&lt;dbl&gt;</th><th scope=col>&lt;dbl&gt;</th><th scope=col>&lt;dbl&gt;</th><th scope=col>&lt;dbl&gt;</th><th scope=col>&lt;dbl&gt;</th><th scope=col>&lt;dbl&gt;</th><th scope=col>&lt;int&gt;</th><th scope=col>&lt;int&gt;</th></tr>\n",
       "</thead>\n",
       "<tbody>\n",
       "\t<tr><td>cds</td><td>11</td><td>1049</td><td>184</td><td>184</td><td>0</td><td>1049f</td><td>PRIMER_LEFT </td><td>AARCGYGTNGAYTATTCCGG </td><td>20</td><td> 32</td><td>1</td><td>1002</td><td>1022</td><td>59.00040</td><td>2.364568</td><td>50.00000</td><td>5.000000</td><td>13.721826</td><td>20.571387</td><td>  2.1324727</td><td>14.52208</td><td>1</td><td> 72</td></tr>\n",
       "\t<tr><td>cds</td><td>11</td><td>1049</td><td>184</td><td>184</td><td>0</td><td>1049r</td><td>PRIMER_RIGHT</td><td>GVCGBACYTTYTCYACCAT  </td><td>19</td><td> 72</td><td>1</td><td>1167</td><td>1186</td><td>57.56800</td><td>2.840075</td><td>51.75439</td><td>5.752139</td><td> 7.238610</td><td>16.235568</td><td>-20.0896822</td><td>17.90398</td><td>1</td><td> 72</td></tr>\n",
       "\t<tr><td>cds</td><td>11</td><td>8754</td><td>185</td><td>185</td><td>0</td><td>8754f</td><td>PRIMER_LEFT </td><td>AARCGYGTNGAYTATTCCGG </td><td>20</td><td> 32</td><td>1</td><td>1002</td><td>1022</td><td>59.00040</td><td>2.364568</td><td>50.00000</td><td>5.000000</td><td>13.721826</td><td>20.571387</td><td>  2.1324727</td><td>14.52208</td><td>1</td><td> 72</td></tr>\n",
       "\t<tr><td>cds</td><td>11</td><td>8754</td><td>185</td><td>185</td><td>0</td><td>8754r</td><td>PRIMER_RIGHT</td><td>GGVCGBACYTTYTCYACCAT </td><td>20</td><td> 72</td><td>1</td><td>1167</td><td>1187</td><td>60.19190</td><td>2.714360</td><td>54.16667</td><td>5.464532</td><td>22.153767</td><td>19.011770</td><td>-21.2695423</td><td>19.77932</td><td>1</td><td> 72</td></tr>\n",
       "\t<tr><td>cds</td><td> 5</td><td> 402</td><td>166</td><td>166</td><td>0</td><td>402f </td><td>PRIMER_LEFT </td><td>CBGGCGGYGTNGTNAAGAA  </td><td>19</td><td> 96</td><td>1</td><td> 142</td><td> 161</td><td>61.55090</td><td>2.635150</td><td>58.77193</td><td>5.189544</td><td>10.204665</td><td>17.765594</td><td>  0.2535095</td><td>26.46468</td><td>1</td><td> 96</td></tr>\n",
       "\t<tr><td>cds</td><td> 5</td><td> 402</td><td>166</td><td>166</td><td>0</td><td>402r </td><td>PRIMER_RIGHT</td><td>GCWACNGGYCCRAARATACG </td><td>20</td><td> 64</td><td>1</td><td> 288</td><td> 308</td><td>59.79884</td><td>2.222096</td><td>55.00000</td><td>5.000000</td><td>20.894667</td><td>18.590578</td><td> -1.8372890</td><td>23.07496</td><td>1</td><td> 96</td></tr>\n",
       "\t<tr><td>cds</td><td> 5</td><td>6199</td><td>164</td><td>164</td><td>0</td><td>6199f</td><td>PRIMER_LEFT </td><td>GGCGGYGTNGTNAAGAARAA </td><td>20</td><td> 64</td><td>2</td><td> 144</td><td> 164</td><td>59.56126</td><td>2.338347</td><td>50.00000</td><td>5.000000</td><td> 9.934120</td><td>17.215286</td><td>-12.4820591</td><td>22.94864</td><td>2</td><td> 64</td></tr>\n",
       "\t<tr><td>cds</td><td> 5</td><td>6199</td><td>164</td><td>164</td><td>0</td><td>6199r</td><td>PRIMER_RIGHT</td><td>GCWACNGGYCCRAARATACG </td><td>20</td><td> 64</td><td>1</td><td> 288</td><td> 308</td><td>59.79884</td><td>2.222096</td><td>55.00000</td><td>5.000000</td><td>20.894667</td><td>18.590578</td><td> -1.8372890</td><td>23.07496</td><td>2</td><td> 64</td></tr>\n",
       "\t<tr><td>cds</td><td> 9</td><td>9711</td><td>195</td><td>195</td><td>0</td><td>9711f</td><td>PRIMER_LEFT </td><td>YGGYGCDACHTAYCAGGT   </td><td>18</td><td> 72</td><td>1</td><td> 242</td><td> 260</td><td>58.49755</td><td>2.755565</td><td>56.48148</td><td>6.071702</td><td>27.525254</td><td>25.320481</td><td> -0.0674942</td><td>14.69490</td><td>2</td><td> 72</td></tr>\n",
       "\t<tr><td>cds</td><td> 9</td><td>9711</td><td>195</td><td>195</td><td>0</td><td>9711r</td><td>PRIMER_RIGHT</td><td>TCNGCCATYYTRTGCATWTC </td><td>20</td><td> 64</td><td>2</td><td> 417</td><td> 437</td><td>56.71061</td><td>2.310079</td><td>45.00000</td><td>5.000000</td><td>12.004334</td><td>17.855780</td><td> -6.8335623</td><td>15.52953</td><td>2</td><td> 72</td></tr>\n",
       "\t<tr><td>cds</td><td>11</td><td>8515</td><td>185</td><td>185</td><td>0</td><td>8515f</td><td>PRIMER_LEFT </td><td>AARCGYGTNGAYTATTCCGG </td><td>20</td><td> 32</td><td>1</td><td>1002</td><td>1022</td><td>59.00040</td><td>2.364568</td><td>50.00000</td><td>5.000000</td><td>13.721826</td><td>20.571387</td><td>  2.1324727</td><td>14.52208</td><td>2</td><td> 72</td></tr>\n",
       "\t<tr><td>cds</td><td>11</td><td>8515</td><td>185</td><td>185</td><td>0</td><td>8515r</td><td>PRIMER_RIGHT</td><td>GGVCGBACYTTYTCYACC   </td><td>18</td><td> 72</td><td>2</td><td>1169</td><td>1187</td><td>57.79101</td><td>2.952980</td><td>60.18519</td><td>6.071702</td><td>22.044650</td><td>18.885440</td><td>-21.9054183</td><td>19.14172</td><td>2</td><td> 72</td></tr>\n",
       "\t<tr><td>cds</td><td>11</td><td>4266</td><td>166</td><td>166</td><td>0</td><td>4266f</td><td>PRIMER_LEFT </td><td>AYTATTCCGGVMGNAGCGT  </td><td>19</td><td> 48</td><td>1</td><td>1012</td><td>1031</td><td>60.04682</td><td>2.612222</td><td>53.50877</td><td>5.189544</td><td>42.054720</td><td>21.202630</td><td> 11.3326900</td><td>14.80884</td><td>3</td><td> 72</td></tr>\n",
       "\t<tr><td>cds</td><td>11</td><td>4266</td><td>166</td><td>166</td><td>0</td><td>4266r</td><td>PRIMER_RIGHT</td><td>TTYTCYACCATVCGYTTBGC </td><td>20</td><td> 72</td><td>3</td><td>1158</td><td>1178</td><td>59.13805</td><td>2.562001</td><td>49.16667</td><td>5.464532</td><td>24.908313</td><td>22.605644</td><td>-12.5892517</td><td>26.12025</td><td>3</td><td> 72</td></tr>\n",
       "\t<tr><td>cds</td><td>11</td><td>7488</td><td>191</td><td>191</td><td>0</td><td>7488f</td><td>PRIMER_LEFT </td><td>CVMTYAAGCTBCATCCBCT  </td><td>19</td><td>108</td><td>3</td><td>1306</td><td>1325</td><td>57.79272</td><td>2.827919</td><td>52.63158</td><td>5.684860</td><td>17.790321</td><td>19.890995</td><td> -6.4336381</td><td>17.73389</td><td>3</td><td>108</td></tr>\n",
       "\t<tr><td>cds</td><td>11</td><td>7488</td><td>191</td><td>191</td><td>0</td><td>7488r</td><td>PRIMER_RIGHT</td><td>NCCDATRACCATRTCCTGYGT</td><td>21</td><td> 96</td><td>2</td><td>1476</td><td>1497</td><td>59.69516</td><td>2.690389</td><td>49.20635</td><td>5.264484</td><td> 2.997683</td><td> 9.942188</td><td>-31.4243489</td><td>20.98860</td><td>3</td><td>108</td></tr>\n",
       "\t<tr><td>cds</td><td> 5</td><td>2967</td><td>166</td><td>166</td><td>0</td><td>2967f</td><td>PRIMER_LEFT </td><td>CBGGCGGYGTNGTNAAGA   </td><td>18</td><td> 96</td><td>4</td><td> 142</td><td> 160</td><td>60.93839</td><td>2.780210</td><td>62.03704</td><td>5.477852</td><td>10.204665</td><td>17.765594</td><td>  0.2535095</td><td>26.46468</td><td>4</td><td> 96</td></tr>\n",
       "\t<tr><td>cds</td><td> 5</td><td>2967</td><td>166</td><td>166</td><td>0</td><td>2967r</td><td>PRIMER_RIGHT</td><td>GCWACNGGYCCRAARATACG </td><td>20</td><td> 64</td><td>1</td><td> 288</td><td> 308</td><td>59.79884</td><td>2.222096</td><td>55.00000</td><td>5.000000</td><td>20.894667</td><td>18.590578</td><td> -1.8372890</td><td>23.07496</td><td>4</td><td> 96</td></tr>\n",
       "\t<tr><td>cds</td><td>11</td><td>1694</td><td>193</td><td>193</td><td>0</td><td>1694f</td><td>PRIMER_LEFT </td><td>AARCGBATGGTRGARAARGT </td><td>20</td><td> 48</td><td>2</td><td>1161</td><td>1181</td><td>57.10333</td><td>2.643756</td><td>43.33333</td><td>5.527708</td><td> 0.000000</td><td> 0.000000</td><td>-19.5817063</td><td>16.18087</td><td>4</td><td> 96</td></tr>\n",
       "\t<tr><td>cds</td><td>11</td><td>1694</td><td>193</td><td>193</td><td>0</td><td>1694r</td><td>PRIMER_RIGHT</td><td>CRAAGTCBGCRTTRTANGC  </td><td>19</td><td> 96</td><td>4</td><td>1335</td><td>1354</td><td>56.75915</td><td>2.745315</td><td>50.87719</td><td>5.818640</td><td>22.073527</td><td>25.100382</td><td> -9.0138045</td><td>18.96921</td><td>4</td><td> 96</td></tr>\n",
       "</tbody>\n",
       "</table>\n"
      ],
      "text/latex": [
       "A grouped\\_df: 20 × 24\n",
       "\\begin{tabular}{llllllllllllllllllllllll}\n",
       " gene\\_type & cluster\\_id & primer\\_set & amplicon\\_size\\_consensus & amplicon\\_size\\_avg & amplicon\\_size\\_sd & primer\\_id & primer\\_type & sequence & length & degeneracy & degeneracy\\_3prime & position\\_start & position\\_end & Tm\\_avg & Tm\\_sd & GC\\_avg & GC\\_sd & hairpin\\_avg & hairpin\\_sd & homodimer\\_avg & homodimer\\_sd & max\\_degeneracy\\_3prime & max\\_degeneracy\\\\\n",
       " <chr> & <int> & <int> & <int> & <dbl> & <dbl> & <chr> & <chr> & <chr> & <int> & <int> & <int> & <int> & <int> & <dbl> & <dbl> & <dbl> & <dbl> & <dbl> & <dbl> & <dbl> & <dbl> & <int> & <int>\\\\\n",
       "\\hline\n",
       "\t cds & 11 & 1049 & 184 & 184 & 0 & 1049f & PRIMER\\_LEFT  & AARCGYGTNGAYTATTCCGG  & 20 &  32 & 1 & 1002 & 1022 & 59.00040 & 2.364568 & 50.00000 & 5.000000 & 13.721826 & 20.571387 &   2.1324727 & 14.52208 & 1 &  72\\\\\n",
       "\t cds & 11 & 1049 & 184 & 184 & 0 & 1049r & PRIMER\\_RIGHT & GVCGBACYTTYTCYACCAT   & 19 &  72 & 1 & 1167 & 1186 & 57.56800 & 2.840075 & 51.75439 & 5.752139 &  7.238610 & 16.235568 & -20.0896822 & 17.90398 & 1 &  72\\\\\n",
       "\t cds & 11 & 8754 & 185 & 185 & 0 & 8754f & PRIMER\\_LEFT  & AARCGYGTNGAYTATTCCGG  & 20 &  32 & 1 & 1002 & 1022 & 59.00040 & 2.364568 & 50.00000 & 5.000000 & 13.721826 & 20.571387 &   2.1324727 & 14.52208 & 1 &  72\\\\\n",
       "\t cds & 11 & 8754 & 185 & 185 & 0 & 8754r & PRIMER\\_RIGHT & GGVCGBACYTTYTCYACCAT  & 20 &  72 & 1 & 1167 & 1187 & 60.19190 & 2.714360 & 54.16667 & 5.464532 & 22.153767 & 19.011770 & -21.2695423 & 19.77932 & 1 &  72\\\\\n",
       "\t cds &  5 &  402 & 166 & 166 & 0 & 402f  & PRIMER\\_LEFT  & CBGGCGGYGTNGTNAAGAA   & 19 &  96 & 1 &  142 &  161 & 61.55090 & 2.635150 & 58.77193 & 5.189544 & 10.204665 & 17.765594 &   0.2535095 & 26.46468 & 1 &  96\\\\\n",
       "\t cds &  5 &  402 & 166 & 166 & 0 & 402r  & PRIMER\\_RIGHT & GCWACNGGYCCRAARATACG  & 20 &  64 & 1 &  288 &  308 & 59.79884 & 2.222096 & 55.00000 & 5.000000 & 20.894667 & 18.590578 &  -1.8372890 & 23.07496 & 1 &  96\\\\\n",
       "\t cds &  5 & 6199 & 164 & 164 & 0 & 6199f & PRIMER\\_LEFT  & GGCGGYGTNGTNAAGAARAA  & 20 &  64 & 2 &  144 &  164 & 59.56126 & 2.338347 & 50.00000 & 5.000000 &  9.934120 & 17.215286 & -12.4820591 & 22.94864 & 2 &  64\\\\\n",
       "\t cds &  5 & 6199 & 164 & 164 & 0 & 6199r & PRIMER\\_RIGHT & GCWACNGGYCCRAARATACG  & 20 &  64 & 1 &  288 &  308 & 59.79884 & 2.222096 & 55.00000 & 5.000000 & 20.894667 & 18.590578 &  -1.8372890 & 23.07496 & 2 &  64\\\\\n",
       "\t cds &  9 & 9711 & 195 & 195 & 0 & 9711f & PRIMER\\_LEFT  & YGGYGCDACHTAYCAGGT    & 18 &  72 & 1 &  242 &  260 & 58.49755 & 2.755565 & 56.48148 & 6.071702 & 27.525254 & 25.320481 &  -0.0674942 & 14.69490 & 2 &  72\\\\\n",
       "\t cds &  9 & 9711 & 195 & 195 & 0 & 9711r & PRIMER\\_RIGHT & TCNGCCATYYTRTGCATWTC  & 20 &  64 & 2 &  417 &  437 & 56.71061 & 2.310079 & 45.00000 & 5.000000 & 12.004334 & 17.855780 &  -6.8335623 & 15.52953 & 2 &  72\\\\\n",
       "\t cds & 11 & 8515 & 185 & 185 & 0 & 8515f & PRIMER\\_LEFT  & AARCGYGTNGAYTATTCCGG  & 20 &  32 & 1 & 1002 & 1022 & 59.00040 & 2.364568 & 50.00000 & 5.000000 & 13.721826 & 20.571387 &   2.1324727 & 14.52208 & 2 &  72\\\\\n",
       "\t cds & 11 & 8515 & 185 & 185 & 0 & 8515r & PRIMER\\_RIGHT & GGVCGBACYTTYTCYACC    & 18 &  72 & 2 & 1169 & 1187 & 57.79101 & 2.952980 & 60.18519 & 6.071702 & 22.044650 & 18.885440 & -21.9054183 & 19.14172 & 2 &  72\\\\\n",
       "\t cds & 11 & 4266 & 166 & 166 & 0 & 4266f & PRIMER\\_LEFT  & AYTATTCCGGVMGNAGCGT   & 19 &  48 & 1 & 1012 & 1031 & 60.04682 & 2.612222 & 53.50877 & 5.189544 & 42.054720 & 21.202630 &  11.3326900 & 14.80884 & 3 &  72\\\\\n",
       "\t cds & 11 & 4266 & 166 & 166 & 0 & 4266r & PRIMER\\_RIGHT & TTYTCYACCATVCGYTTBGC  & 20 &  72 & 3 & 1158 & 1178 & 59.13805 & 2.562001 & 49.16667 & 5.464532 & 24.908313 & 22.605644 & -12.5892517 & 26.12025 & 3 &  72\\\\\n",
       "\t cds & 11 & 7488 & 191 & 191 & 0 & 7488f & PRIMER\\_LEFT  & CVMTYAAGCTBCATCCBCT   & 19 & 108 & 3 & 1306 & 1325 & 57.79272 & 2.827919 & 52.63158 & 5.684860 & 17.790321 & 19.890995 &  -6.4336381 & 17.73389 & 3 & 108\\\\\n",
       "\t cds & 11 & 7488 & 191 & 191 & 0 & 7488r & PRIMER\\_RIGHT & NCCDATRACCATRTCCTGYGT & 21 &  96 & 2 & 1476 & 1497 & 59.69516 & 2.690389 & 49.20635 & 5.264484 &  2.997683 &  9.942188 & -31.4243489 & 20.98860 & 3 & 108\\\\\n",
       "\t cds &  5 & 2967 & 166 & 166 & 0 & 2967f & PRIMER\\_LEFT  & CBGGCGGYGTNGTNAAGA    & 18 &  96 & 4 &  142 &  160 & 60.93839 & 2.780210 & 62.03704 & 5.477852 & 10.204665 & 17.765594 &   0.2535095 & 26.46468 & 4 &  96\\\\\n",
       "\t cds &  5 & 2967 & 166 & 166 & 0 & 2967r & PRIMER\\_RIGHT & GCWACNGGYCCRAARATACG  & 20 &  64 & 1 &  288 &  308 & 59.79884 & 2.222096 & 55.00000 & 5.000000 & 20.894667 & 18.590578 &  -1.8372890 & 23.07496 & 4 &  96\\\\\n",
       "\t cds & 11 & 1694 & 193 & 193 & 0 & 1694f & PRIMER\\_LEFT  & AARCGBATGGTRGARAARGT  & 20 &  48 & 2 & 1161 & 1181 & 57.10333 & 2.643756 & 43.33333 & 5.527708 &  0.000000 &  0.000000 & -19.5817063 & 16.18087 & 4 &  96\\\\\n",
       "\t cds & 11 & 1694 & 193 & 193 & 0 & 1694r & PRIMER\\_RIGHT & CRAAGTCBGCRTTRTANGC   & 19 &  96 & 4 & 1335 & 1354 & 56.75915 & 2.745315 & 50.87719 & 5.818640 & 22.073527 & 25.100382 &  -9.0138045 & 18.96921 & 4 &  96\\\\\n",
       "\\end{tabular}\n"
      ],
      "text/markdown": [
       "\n",
       "A grouped_df: 20 × 24\n",
       "\n",
       "| gene_type &lt;chr&gt; | cluster_id &lt;int&gt; | primer_set &lt;int&gt; | amplicon_size_consensus &lt;int&gt; | amplicon_size_avg &lt;dbl&gt; | amplicon_size_sd &lt;dbl&gt; | primer_id &lt;chr&gt; | primer_type &lt;chr&gt; | sequence &lt;chr&gt; | length &lt;int&gt; | degeneracy &lt;int&gt; | degeneracy_3prime &lt;int&gt; | position_start &lt;int&gt; | position_end &lt;int&gt; | Tm_avg &lt;dbl&gt; | Tm_sd &lt;dbl&gt; | GC_avg &lt;dbl&gt; | GC_sd &lt;dbl&gt; | hairpin_avg &lt;dbl&gt; | hairpin_sd &lt;dbl&gt; | homodimer_avg &lt;dbl&gt; | homodimer_sd &lt;dbl&gt; | max_degeneracy_3prime &lt;int&gt; | max_degeneracy &lt;int&gt; |\n",
       "|---|---|---|---|---|---|---|---|---|---|---|---|---|---|---|---|---|---|---|---|---|---|---|---|\n",
       "| cds | 11 | 1049 | 184 | 184 | 0 | 1049f | PRIMER_LEFT  | AARCGYGTNGAYTATTCCGG  | 20 |  32 | 1 | 1002 | 1022 | 59.00040 | 2.364568 | 50.00000 | 5.000000 | 13.721826 | 20.571387 |   2.1324727 | 14.52208 | 1 |  72 |\n",
       "| cds | 11 | 1049 | 184 | 184 | 0 | 1049r | PRIMER_RIGHT | GVCGBACYTTYTCYACCAT   | 19 |  72 | 1 | 1167 | 1186 | 57.56800 | 2.840075 | 51.75439 | 5.752139 |  7.238610 | 16.235568 | -20.0896822 | 17.90398 | 1 |  72 |\n",
       "| cds | 11 | 8754 | 185 | 185 | 0 | 8754f | PRIMER_LEFT  | AARCGYGTNGAYTATTCCGG  | 20 |  32 | 1 | 1002 | 1022 | 59.00040 | 2.364568 | 50.00000 | 5.000000 | 13.721826 | 20.571387 |   2.1324727 | 14.52208 | 1 |  72 |\n",
       "| cds | 11 | 8754 | 185 | 185 | 0 | 8754r | PRIMER_RIGHT | GGVCGBACYTTYTCYACCAT  | 20 |  72 | 1 | 1167 | 1187 | 60.19190 | 2.714360 | 54.16667 | 5.464532 | 22.153767 | 19.011770 | -21.2695423 | 19.77932 | 1 |  72 |\n",
       "| cds |  5 |  402 | 166 | 166 | 0 | 402f  | PRIMER_LEFT  | CBGGCGGYGTNGTNAAGAA   | 19 |  96 | 1 |  142 |  161 | 61.55090 | 2.635150 | 58.77193 | 5.189544 | 10.204665 | 17.765594 |   0.2535095 | 26.46468 | 1 |  96 |\n",
       "| cds |  5 |  402 | 166 | 166 | 0 | 402r  | PRIMER_RIGHT | GCWACNGGYCCRAARATACG  | 20 |  64 | 1 |  288 |  308 | 59.79884 | 2.222096 | 55.00000 | 5.000000 | 20.894667 | 18.590578 |  -1.8372890 | 23.07496 | 1 |  96 |\n",
       "| cds |  5 | 6199 | 164 | 164 | 0 | 6199f | PRIMER_LEFT  | GGCGGYGTNGTNAAGAARAA  | 20 |  64 | 2 |  144 |  164 | 59.56126 | 2.338347 | 50.00000 | 5.000000 |  9.934120 | 17.215286 | -12.4820591 | 22.94864 | 2 |  64 |\n",
       "| cds |  5 | 6199 | 164 | 164 | 0 | 6199r | PRIMER_RIGHT | GCWACNGGYCCRAARATACG  | 20 |  64 | 1 |  288 |  308 | 59.79884 | 2.222096 | 55.00000 | 5.000000 | 20.894667 | 18.590578 |  -1.8372890 | 23.07496 | 2 |  64 |\n",
       "| cds |  9 | 9711 | 195 | 195 | 0 | 9711f | PRIMER_LEFT  | YGGYGCDACHTAYCAGGT    | 18 |  72 | 1 |  242 |  260 | 58.49755 | 2.755565 | 56.48148 | 6.071702 | 27.525254 | 25.320481 |  -0.0674942 | 14.69490 | 2 |  72 |\n",
       "| cds |  9 | 9711 | 195 | 195 | 0 | 9711r | PRIMER_RIGHT | TCNGCCATYYTRTGCATWTC  | 20 |  64 | 2 |  417 |  437 | 56.71061 | 2.310079 | 45.00000 | 5.000000 | 12.004334 | 17.855780 |  -6.8335623 | 15.52953 | 2 |  72 |\n",
       "| cds | 11 | 8515 | 185 | 185 | 0 | 8515f | PRIMER_LEFT  | AARCGYGTNGAYTATTCCGG  | 20 |  32 | 1 | 1002 | 1022 | 59.00040 | 2.364568 | 50.00000 | 5.000000 | 13.721826 | 20.571387 |   2.1324727 | 14.52208 | 2 |  72 |\n",
       "| cds | 11 | 8515 | 185 | 185 | 0 | 8515r | PRIMER_RIGHT | GGVCGBACYTTYTCYACC    | 18 |  72 | 2 | 1169 | 1187 | 57.79101 | 2.952980 | 60.18519 | 6.071702 | 22.044650 | 18.885440 | -21.9054183 | 19.14172 | 2 |  72 |\n",
       "| cds | 11 | 4266 | 166 | 166 | 0 | 4266f | PRIMER_LEFT  | AYTATTCCGGVMGNAGCGT   | 19 |  48 | 1 | 1012 | 1031 | 60.04682 | 2.612222 | 53.50877 | 5.189544 | 42.054720 | 21.202630 |  11.3326900 | 14.80884 | 3 |  72 |\n",
       "| cds | 11 | 4266 | 166 | 166 | 0 | 4266r | PRIMER_RIGHT | TTYTCYACCATVCGYTTBGC  | 20 |  72 | 3 | 1158 | 1178 | 59.13805 | 2.562001 | 49.16667 | 5.464532 | 24.908313 | 22.605644 | -12.5892517 | 26.12025 | 3 |  72 |\n",
       "| cds | 11 | 7488 | 191 | 191 | 0 | 7488f | PRIMER_LEFT  | CVMTYAAGCTBCATCCBCT   | 19 | 108 | 3 | 1306 | 1325 | 57.79272 | 2.827919 | 52.63158 | 5.684860 | 17.790321 | 19.890995 |  -6.4336381 | 17.73389 | 3 | 108 |\n",
       "| cds | 11 | 7488 | 191 | 191 | 0 | 7488r | PRIMER_RIGHT | NCCDATRACCATRTCCTGYGT | 21 |  96 | 2 | 1476 | 1497 | 59.69516 | 2.690389 | 49.20635 | 5.264484 |  2.997683 |  9.942188 | -31.4243489 | 20.98860 | 3 | 108 |\n",
       "| cds |  5 | 2967 | 166 | 166 | 0 | 2967f | PRIMER_LEFT  | CBGGCGGYGTNGTNAAGA    | 18 |  96 | 4 |  142 |  160 | 60.93839 | 2.780210 | 62.03704 | 5.477852 | 10.204665 | 17.765594 |   0.2535095 | 26.46468 | 4 |  96 |\n",
       "| cds |  5 | 2967 | 166 | 166 | 0 | 2967r | PRIMER_RIGHT | GCWACNGGYCCRAARATACG  | 20 |  64 | 1 |  288 |  308 | 59.79884 | 2.222096 | 55.00000 | 5.000000 | 20.894667 | 18.590578 |  -1.8372890 | 23.07496 | 4 |  96 |\n",
       "| cds | 11 | 1694 | 193 | 193 | 0 | 1694f | PRIMER_LEFT  | AARCGBATGGTRGARAARGT  | 20 |  48 | 2 | 1161 | 1181 | 57.10333 | 2.643756 | 43.33333 | 5.527708 |  0.000000 |  0.000000 | -19.5817063 | 16.18087 | 4 |  96 |\n",
       "| cds | 11 | 1694 | 193 | 193 | 0 | 1694r | PRIMER_RIGHT | CRAAGTCBGCRTTRTANGC   | 19 |  96 | 4 | 1335 | 1354 | 56.75915 | 2.745315 | 50.87719 | 5.818640 | 22.073527 | 25.100382 |  -9.0138045 | 18.96921 | 4 |  96 |\n",
       "\n"
      ],
      "text/plain": [
       "   gene_type cluster_id primer_set amplicon_size_consensus amplicon_size_avg\n",
       "1  cds       11         1049       184                     184              \n",
       "2  cds       11         1049       184                     184              \n",
       "3  cds       11         8754       185                     185              \n",
       "4  cds       11         8754       185                     185              \n",
       "5  cds        5          402       166                     166              \n",
       "6  cds        5          402       166                     166              \n",
       "7  cds        5         6199       164                     164              \n",
       "8  cds        5         6199       164                     164              \n",
       "9  cds        9         9711       195                     195              \n",
       "10 cds        9         9711       195                     195              \n",
       "11 cds       11         8515       185                     185              \n",
       "12 cds       11         8515       185                     185              \n",
       "13 cds       11         4266       166                     166              \n",
       "14 cds       11         4266       166                     166              \n",
       "15 cds       11         7488       191                     191              \n",
       "16 cds       11         7488       191                     191              \n",
       "17 cds        5         2967       166                     166              \n",
       "18 cds        5         2967       166                     166              \n",
       "19 cds       11         1694       193                     193              \n",
       "20 cds       11         1694       193                     193              \n",
       "   amplicon_size_sd primer_id primer_type  sequence              length\n",
       "1  0                1049f     PRIMER_LEFT  AARCGYGTNGAYTATTCCGG  20    \n",
       "2  0                1049r     PRIMER_RIGHT GVCGBACYTTYTCYACCAT   19    \n",
       "3  0                8754f     PRIMER_LEFT  AARCGYGTNGAYTATTCCGG  20    \n",
       "4  0                8754r     PRIMER_RIGHT GGVCGBACYTTYTCYACCAT  20    \n",
       "5  0                402f      PRIMER_LEFT  CBGGCGGYGTNGTNAAGAA   19    \n",
       "6  0                402r      PRIMER_RIGHT GCWACNGGYCCRAARATACG  20    \n",
       "7  0                6199f     PRIMER_LEFT  GGCGGYGTNGTNAAGAARAA  20    \n",
       "8  0                6199r     PRIMER_RIGHT GCWACNGGYCCRAARATACG  20    \n",
       "9  0                9711f     PRIMER_LEFT  YGGYGCDACHTAYCAGGT    18    \n",
       "10 0                9711r     PRIMER_RIGHT TCNGCCATYYTRTGCATWTC  20    \n",
       "11 0                8515f     PRIMER_LEFT  AARCGYGTNGAYTATTCCGG  20    \n",
       "12 0                8515r     PRIMER_RIGHT GGVCGBACYTTYTCYACC    18    \n",
       "13 0                4266f     PRIMER_LEFT  AYTATTCCGGVMGNAGCGT   19    \n",
       "14 0                4266r     PRIMER_RIGHT TTYTCYACCATVCGYTTBGC  20    \n",
       "15 0                7488f     PRIMER_LEFT  CVMTYAAGCTBCATCCBCT   19    \n",
       "16 0                7488r     PRIMER_RIGHT NCCDATRACCATRTCCTGYGT 21    \n",
       "17 0                2967f     PRIMER_LEFT  CBGGCGGYGTNGTNAAGA    18    \n",
       "18 0                2967r     PRIMER_RIGHT GCWACNGGYCCRAARATACG  20    \n",
       "19 0                1694f     PRIMER_LEFT  AARCGBATGGTRGARAARGT  20    \n",
       "20 0                1694r     PRIMER_RIGHT CRAAGTCBGCRTTRTANGC   19    \n",
       "   degeneracy degeneracy_3prime position_start position_end Tm_avg   Tm_sd   \n",
       "1   32        1                 1002           1022         59.00040 2.364568\n",
       "2   72        1                 1167           1186         57.56800 2.840075\n",
       "3   32        1                 1002           1022         59.00040 2.364568\n",
       "4   72        1                 1167           1187         60.19190 2.714360\n",
       "5   96        1                  142            161         61.55090 2.635150\n",
       "6   64        1                  288            308         59.79884 2.222096\n",
       "7   64        2                  144            164         59.56126 2.338347\n",
       "8   64        1                  288            308         59.79884 2.222096\n",
       "9   72        1                  242            260         58.49755 2.755565\n",
       "10  64        2                  417            437         56.71061 2.310079\n",
       "11  32        1                 1002           1022         59.00040 2.364568\n",
       "12  72        2                 1169           1187         57.79101 2.952980\n",
       "13  48        1                 1012           1031         60.04682 2.612222\n",
       "14  72        3                 1158           1178         59.13805 2.562001\n",
       "15 108        3                 1306           1325         57.79272 2.827919\n",
       "16  96        2                 1476           1497         59.69516 2.690389\n",
       "17  96        4                  142            160         60.93839 2.780210\n",
       "18  64        1                  288            308         59.79884 2.222096\n",
       "19  48        2                 1161           1181         57.10333 2.643756\n",
       "20  96        4                 1335           1354         56.75915 2.745315\n",
       "   GC_avg   GC_sd    hairpin_avg hairpin_sd homodimer_avg homodimer_sd\n",
       "1  50.00000 5.000000 13.721826   20.571387    2.1324727   14.52208    \n",
       "2  51.75439 5.752139  7.238610   16.235568  -20.0896822   17.90398    \n",
       "3  50.00000 5.000000 13.721826   20.571387    2.1324727   14.52208    \n",
       "4  54.16667 5.464532 22.153767   19.011770  -21.2695423   19.77932    \n",
       "5  58.77193 5.189544 10.204665   17.765594    0.2535095   26.46468    \n",
       "6  55.00000 5.000000 20.894667   18.590578   -1.8372890   23.07496    \n",
       "7  50.00000 5.000000  9.934120   17.215286  -12.4820591   22.94864    \n",
       "8  55.00000 5.000000 20.894667   18.590578   -1.8372890   23.07496    \n",
       "9  56.48148 6.071702 27.525254   25.320481   -0.0674942   14.69490    \n",
       "10 45.00000 5.000000 12.004334   17.855780   -6.8335623   15.52953    \n",
       "11 50.00000 5.000000 13.721826   20.571387    2.1324727   14.52208    \n",
       "12 60.18519 6.071702 22.044650   18.885440  -21.9054183   19.14172    \n",
       "13 53.50877 5.189544 42.054720   21.202630   11.3326900   14.80884    \n",
       "14 49.16667 5.464532 24.908313   22.605644  -12.5892517   26.12025    \n",
       "15 52.63158 5.684860 17.790321   19.890995   -6.4336381   17.73389    \n",
       "16 49.20635 5.264484  2.997683    9.942188  -31.4243489   20.98860    \n",
       "17 62.03704 5.477852 10.204665   17.765594    0.2535095   26.46468    \n",
       "18 55.00000 5.000000 20.894667   18.590578   -1.8372890   23.07496    \n",
       "19 43.33333 5.527708  0.000000    0.000000  -19.5817063   16.18087    \n",
       "20 50.87719 5.818640 22.073527   25.100382   -9.0138045   18.96921    \n",
       "   max_degeneracy_3prime max_degeneracy\n",
       "1  1                      72           \n",
       "2  1                      72           \n",
       "3  1                      72           \n",
       "4  1                      72           \n",
       "5  1                      96           \n",
       "6  1                      96           \n",
       "7  2                      64           \n",
       "8  2                      64           \n",
       "9  2                      72           \n",
       "10 2                      72           \n",
       "11 2                      72           \n",
       "12 2                      72           \n",
       "13 3                      72           \n",
       "14 3                      72           \n",
       "15 3                     108           \n",
       "16 3                     108           \n",
       "17 4                      96           \n",
       "18 4                      96           \n",
       "19 4                      96           \n",
       "20 4                      96           "
      ]
     },
     "metadata": {},
     "output_type": "display_data"
    }
   ],
   "source": [
    "# arrange\n",
    "df.dims(20,40)\n",
    "primer_info %>%\n",
    "    group_by(primer_set) %>%\n",
    "    mutate(max_degeneracy_3prime = max(degeneracy_3prime),\n",
    "           max_degeneracy = max(degeneracy)) %>%\n",
    "    arrange(max_degeneracy_3prime, max_degeneracy) %>%\n",
    "    head(n=20)\n",
    "df.dims()"
   ]
  },
  {
   "cell_type": "markdown",
   "metadata": {},
   "source": [
    "### Gene cluster annotations"
   ]
  },
  {
   "cell_type": "code",
   "execution_count": 42,
   "metadata": {
    "execution": {
     "iopub.execute_input": "2021-02-26T12:06:02.495675Z",
     "iopub.status.busy": "2021-02-26T12:06:02.480831Z",
     "iopub.status.idle": "2021-02-26T12:06:02.518436Z"
    }
   },
   "outputs": [
    {
     "data": {
      "text/html": [
       "<table class=\"dataframe\">\n",
       "<caption>A data.frame: 3 × 2</caption>\n",
       "<thead>\n",
       "\t<tr><th scope=col>cluster_id</th><th scope=col>annotation</th></tr>\n",
       "\t<tr><th scope=col>&lt;int&gt;</th><th scope=col>&lt;chr&gt;</th></tr>\n",
       "</thead>\n",
       "<tbody>\n",
       "\t<tr><td> 5</td><td>50S ribosomal protein L14                </td></tr>\n",
       "\t<tr><td> 9</td><td>30S ribosomal protein S7                 </td></tr>\n",
       "\t<tr><td>11</td><td>DNA-directed RNA polymerase subunit beta'</td></tr>\n",
       "</tbody>\n",
       "</table>\n"
      ],
      "text/latex": [
       "A data.frame: 3 × 2\n",
       "\\begin{tabular}{ll}\n",
       " cluster\\_id & annotation\\\\\n",
       " <int> & <chr>\\\\\n",
       "\\hline\n",
       "\t  5 & 50S ribosomal protein L14                \\\\\n",
       "\t  9 & 30S ribosomal protein S7                 \\\\\n",
       "\t 11 & DNA-directed RNA polymerase subunit beta'\\\\\n",
       "\\end{tabular}\n"
      ],
      "text/markdown": [
       "\n",
       "A data.frame: 3 × 2\n",
       "\n",
       "| cluster_id &lt;int&gt; | annotation &lt;chr&gt; |\n",
       "|---|---|\n",
       "|  5 | 50S ribosomal protein L14                 |\n",
       "|  9 | 30S ribosomal protein S7                  |\n",
       "| 11 | DNA-directed RNA polymerase subunit beta' |\n",
       "\n"
      ],
      "text/plain": [
       "  cluster_id annotation                               \n",
       "1  5         50S ribosomal protein L14                \n",
       "2  9         30S ribosomal protein S7                 \n",
       "3 11         DNA-directed RNA polymerase subunit beta'"
      ]
     },
     "metadata": {},
     "output_type": "display_data"
    }
   ],
   "source": [
    "gene_annot %>%\n",
    "    distinct(cluster_id, annotation)"
   ]
  },
  {
   "cell_type": "markdown",
   "metadata": {},
   "source": [
    "### Most "
   ]
  },
  {
   "cell_type": "code",
   "execution_count": 21,
   "metadata": {
    "execution": {
     "iopub.execute_input": "2021-02-26T11:54:47.902544Z",
     "iopub.status.busy": "2021-02-26T11:54:47.900247Z",
     "iopub.status.idle": "2021-02-26T11:54:47.948738Z"
    }
   },
   "outputs": [
    {
     "data": {
      "text/html": [
       "<table class=\"dataframe\">\n",
       "<caption>A data.frame: 3 × 17</caption>\n",
       "<thead>\n",
       "\t<tr><th></th><th scope=col>cluster_id</th><th scope=col>query</th><th scope=col>subject</th><th scope=col>subject_name</th><th scope=col>pident</th><th scope=col>length</th><th scope=col>mismatch</th><th scope=col>qstart</th><th scope=col>qend</th><th scope=col>sstart</th><th scope=col>send</th><th scope=col>evalue</th><th scope=col>slen</th><th scope=col>qlen</th><th scope=col>sscinames</th><th scope=col>staxids</th><th scope=col>pident_rank</th></tr>\n",
       "\t<tr><th></th><th scope=col>&lt;int&gt;</th><th scope=col>&lt;chr&gt;</th><th scope=col>&lt;chr&gt;</th><th scope=col>&lt;chr&gt;</th><th scope=col>&lt;dbl&gt;</th><th scope=col>&lt;int&gt;</th><th scope=col>&lt;int&gt;</th><th scope=col>&lt;int&gt;</th><th scope=col>&lt;int&gt;</th><th scope=col>&lt;int&gt;</th><th scope=col>&lt;int&gt;</th><th scope=col>&lt;dbl&gt;</th><th scope=col>&lt;int&gt;</th><th scope=col>&lt;int&gt;</th><th scope=col>&lt;chr&gt;</th><th scope=col>&lt;chr&gt;</th><th scope=col>&lt;int&gt;</th></tr>\n",
       "</thead>\n",
       "<tbody>\n",
       "\t<tr><th scope=row>1</th><td>11</td><td>be25748cb9f14982b9e9c26951a2bb9f</td><td>PWM39277.1    </td><td>DNA-directed RNA polymerase subunit beta' [Clostridiales bacterium]</td><td>82.950</td><td>1173</td><td>199</td><td>4</td><td>3522</td><td>3</td><td>1174</td><td> 0.00e+00</td><td>1197</td><td>3765</td><td>Clostridiales bacterium </td><td>1898207</td><td>1</td></tr>\n",
       "\t<tr><th scope=row>2</th><td> 5</td><td>c817bb98130f4bfe85d1460703167e0b</td><td>PWM37926.1    </td><td>50S ribosomal protein L14 [Clostridiales bacterium]                </td><td>90.984</td><td> 122</td><td> 11</td><td>1</td><td> 366</td><td>1</td><td> 122</td><td> 1.47e-62</td><td> 122</td><td> 369</td><td>Clostridiales bacterium </td><td>1898207</td><td>1</td></tr>\n",
       "\t<tr><th scope=row>3</th><td> 9</td><td>6a192bf234e3490f9fb15bda4d790b5a</td><td>WP_046442671.1</td><td>30S ribosomal protein S7 [Catabacter hongkongensis]                </td><td>94.872</td><td> 156</td><td>  8</td><td>1</td><td> 468</td><td>1</td><td> 156</td><td>2.92e-108</td><td> 156</td><td> 471</td><td>Catabacter hongkongensis</td><td>270498 </td><td>1</td></tr>\n",
       "</tbody>\n",
       "</table>\n"
      ],
      "text/latex": [
       "A data.frame: 3 × 17\n",
       "\\begin{tabular}{r|lllllllllllllllll}\n",
       "  & cluster\\_id & query & subject & subject\\_name & pident & length & mismatch & qstart & qend & sstart & send & evalue & slen & qlen & sscinames & staxids & pident\\_rank\\\\\n",
       "  & <int> & <chr> & <chr> & <chr> & <dbl> & <int> & <int> & <int> & <int> & <int> & <int> & <dbl> & <int> & <int> & <chr> & <chr> & <int>\\\\\n",
       "\\hline\n",
       "\t1 & 11 & be25748cb9f14982b9e9c26951a2bb9f & PWM39277.1     & DNA-directed RNA polymerase subunit beta' {[}Clostridiales bacterium{]} & 82.950 & 1173 & 199 & 4 & 3522 & 3 & 1174 &  0.00e+00 & 1197 & 3765 & Clostridiales bacterium  & 1898207 & 1\\\\\n",
       "\t2 &  5 & c817bb98130f4bfe85d1460703167e0b & PWM37926.1     & 50S ribosomal protein L14 {[}Clostridiales bacterium{]}                 & 90.984 &  122 &  11 & 1 &  366 & 1 &  122 &  1.47e-62 &  122 &  369 & Clostridiales bacterium  & 1898207 & 1\\\\\n",
       "\t3 &  9 & 6a192bf234e3490f9fb15bda4d790b5a & WP\\_046442671.1 & 30S ribosomal protein S7 {[}Catabacter hongkongensis{]}                 & 94.872 &  156 &   8 & 1 &  468 & 1 &  156 & 2.92e-108 &  156 &  471 & Catabacter hongkongensis & 270498  & 1\\\\\n",
       "\\end{tabular}\n"
      ],
      "text/markdown": [
       "\n",
       "A data.frame: 3 × 17\n",
       "\n",
       "| <!--/--> | cluster_id &lt;int&gt; | query &lt;chr&gt; | subject &lt;chr&gt; | subject_name &lt;chr&gt; | pident &lt;dbl&gt; | length &lt;int&gt; | mismatch &lt;int&gt; | qstart &lt;int&gt; | qend &lt;int&gt; | sstart &lt;int&gt; | send &lt;int&gt; | evalue &lt;dbl&gt; | slen &lt;int&gt; | qlen &lt;int&gt; | sscinames &lt;chr&gt; | staxids &lt;chr&gt; | pident_rank &lt;int&gt; |\n",
       "|---|---|---|---|---|---|---|---|---|---|---|---|---|---|---|---|---|---|\n",
       "| 1 | 11 | be25748cb9f14982b9e9c26951a2bb9f | PWM39277.1     | DNA-directed RNA polymerase subunit beta' [Clostridiales bacterium] | 82.950 | 1173 | 199 | 4 | 3522 | 3 | 1174 |  0.00e+00 | 1197 | 3765 | Clostridiales bacterium  | 1898207 | 1 |\n",
       "| 2 |  5 | c817bb98130f4bfe85d1460703167e0b | PWM37926.1     | 50S ribosomal protein L14 [Clostridiales bacterium]                 | 90.984 |  122 |  11 | 1 |  366 | 1 |  122 |  1.47e-62 |  122 |  369 | Clostridiales bacterium  | 1898207 | 1 |\n",
       "| 3 |  9 | 6a192bf234e3490f9fb15bda4d790b5a | WP_046442671.1 | 30S ribosomal protein S7 [Catabacter hongkongensis]                 | 94.872 |  156 |   8 | 1 |  468 | 1 |  156 | 2.92e-108 |  156 |  471 | Catabacter hongkongensis | 270498  | 1 |\n",
       "\n"
      ],
      "text/plain": [
       "  cluster_id query                            subject       \n",
       "1 11         be25748cb9f14982b9e9c26951a2bb9f PWM39277.1    \n",
       "2  5         c817bb98130f4bfe85d1460703167e0b PWM37926.1    \n",
       "3  9         6a192bf234e3490f9fb15bda4d790b5a WP_046442671.1\n",
       "  subject_name                                                        pident\n",
       "1 DNA-directed RNA polymerase subunit beta' [Clostridiales bacterium] 82.950\n",
       "2 50S ribosomal protein L14 [Clostridiales bacterium]                 90.984\n",
       "3 30S ribosomal protein S7 [Catabacter hongkongensis]                 94.872\n",
       "  length mismatch qstart qend sstart send evalue    slen qlen\n",
       "1 1173   199      4      3522 3      1174  0.00e+00 1197 3765\n",
       "2  122    11      1       366 1       122  1.47e-62  122  369\n",
       "3  156     8      1       468 1       156 2.92e-108  156  471\n",
       "  sscinames                staxids pident_rank\n",
       "1 Clostridiales bacterium  1898207 1          \n",
       "2 Clostridiales bacterium  1898207 1          \n",
       "3 Catabacter hongkongensis 270498  1          "
      ]
     },
     "metadata": {},
     "output_type": "display_data"
    }
   ],
   "source": [
    "# most unique clusters\n",
    "df.dims(10)\n",
    "gene_annot %>%\n",
    "    filter(pident_rank == 1) %>%\n",
    "    arrange(pident) %>%\n",
    "    head(n=10)\n",
    "df.dims()"
   ]
  }
 ],
 "metadata": {
  "kernelspec": {
   "display_name": "R [conda env:Anxiety_Twins_Metagenomes-tidyverse2]",
   "language": "R",
   "name": "conda-env-Anxiety_Twins_Metagenomes-tidyverse2-r"
  },
  "language_info": {
   "codemirror_mode": "r",
   "file_extension": ".r",
   "mimetype": "text/x-r-source",
   "name": "R",
   "pygments_lexer": "r",
   "version": "4.0.3"
  }
 },
 "nbformat": 4,
 "nbformat_minor": 4
}
