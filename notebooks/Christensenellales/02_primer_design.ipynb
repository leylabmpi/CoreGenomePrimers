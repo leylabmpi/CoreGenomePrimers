{
 "cells": [
  {
   "cell_type": "markdown",
   "metadata": {},
   "source": [
    "# Goal\n",
    "\n",
    "* Design primers with llprimer pipeline"
   ]
  },
  {
   "cell_type": "markdown",
   "metadata": {},
   "source": [
    "# Var"
   ]
  },
  {
   "cell_type": "code",
   "execution_count": 1,
   "metadata": {
    "execution": {
     "iopub.execute_input": "2021-02-27T09:54:53.486427Z",
     "iopub.status.busy": "2021-02-27T09:54:53.484582Z",
     "iopub.status.idle": "2021-02-27T09:54:53.528102Z"
    }
   },
   "outputs": [],
   "source": [
    "work_dir = '/ebio/abt3_projects/software/dev/ll_pipelines/llprimer/experiments/christensenellales/'\n",
    "genomes_file = '/ebio/abt3_projects/software/dev/ll_pipelines/llprimer/experiments/christensenellales/genomes/LLG_output/samples_genomes_hq.txt'\n",
    "# params\n",
    "threads = 8"
   ]
  },
  {
   "cell_type": "markdown",
   "metadata": {},
   "source": [
    "# Init"
   ]
  },
  {
   "cell_type": "code",
   "execution_count": 2,
   "metadata": {
    "execution": {
     "iopub.execute_input": "2021-02-27T09:54:54.398027Z",
     "iopub.status.busy": "2021-02-27T09:54:54.290548Z",
     "iopub.status.idle": "2021-02-27T09:54:54.948864Z"
    }
   },
   "outputs": [
    {
     "name": "stderr",
     "output_type": "stream",
     "text": [
      "\n",
      "Attaching package: ‘dplyr’\n",
      "\n",
      "\n",
      "The following objects are masked from ‘package:stats’:\n",
      "\n",
      "    filter, lag\n",
      "\n",
      "\n",
      "The following objects are masked from ‘package:base’:\n",
      "\n",
      "    intersect, setdiff, setequal, union\n",
      "\n",
      "\n",
      "\n",
      "Attaching package: ‘data.table’\n",
      "\n",
      "\n",
      "The following objects are masked from ‘package:dplyr’:\n",
      "\n",
      "    between, first, last\n",
      "\n",
      "\n",
      "\n",
      "Attaching package: ‘tidytable’\n",
      "\n",
      "\n",
      "The following object is masked from ‘package:stats’:\n",
      "\n",
      "    dt\n",
      "\n",
      "\n"
     ]
    }
   ],
   "source": [
    "library(dplyr)\n",
    "library(tidyr)\n",
    "library(data.table)\n",
    "library(tidytable)\n",
    "library(ggplot2)\n",
    "library(LeyLabRMisc)"
   ]
  },
  {
   "cell_type": "code",
   "execution_count": 3,
   "metadata": {
    "execution": {
     "iopub.execute_input": "2021-02-27T09:54:54.952889Z",
     "iopub.status.busy": "2021-02-27T09:54:54.950967Z",
     "iopub.status.idle": "2021-02-27T09:54:54.969272Z"
    }
   },
   "outputs": [
    {
     "name": "stdout",
     "output_type": "stream",
     "text": [
      "Directory already exists: /ebio/abt3_projects/software/dev/ll_pipelines/llprimer/experiments/christensenellales/ \n"
     ]
    }
   ],
   "source": [
    "df.dims()\n",
    "setDTthreads(threads)\n",
    "make_dir(work_dir)"
   ]
  },
  {
   "cell_type": "markdown",
   "metadata": {},
   "source": [
    "# Load"
   ]
  },
  {
   "cell_type": "code",
   "execution_count": 4,
   "metadata": {
    "execution": {
     "iopub.execute_input": "2021-02-27T09:54:57.542426Z",
     "iopub.status.busy": "2021-02-27T09:54:57.540113Z",
     "iopub.status.idle": "2021-02-27T09:54:57.582064Z"
    }
   },
   "outputs": [
    {
     "data": {
      "text/html": [
       "<table class=\"dataframe\">\n",
       "<caption>A data.frame: 265 × 4</caption>\n",
       "<thead>\n",
       "\t<tr><th scope=col>Taxon</th><th scope=col>Fasta</th><th scope=col>Domain</th><th scope=col>Taxid</th></tr>\n",
       "\t<tr><th scope=col>&lt;chr&gt;</th><th scope=col>&lt;chr&gt;</th><th scope=col>&lt;chr&gt;</th><th scope=col>&lt;int&gt;</th></tr>\n",
       "</thead>\n",
       "<tbody>\n",
       "\t<tr><td>1006216__metabat2__High.023.fna.gz   </td><td>/ebio/abt3_projects/software/dev/ll_pipelines/llprimer/experiments/christensenellales/genomes/LLG_output/drep/drep/dereplicated_genomes/1006216__metabat2__High.023.fna.gz.fna   </td><td>d__Bacteria</td><td>1262781</td></tr>\n",
       "\t<tr><td>ERR3450721__metabat2__High.043.fna.gz</td><td>/ebio/abt3_projects/software/dev/ll_pipelines/llprimer/experiments/christensenellales/genomes/LLG_output/drep/drep/dereplicated_genomes/ERR3450721__metabat2__High.043.fna.gz.fna</td><td>d__Bacteria</td><td>1262781</td></tr>\n",
       "\t<tr><td>⋮</td><td>⋮</td><td>⋮</td><td>⋮</td></tr>\n",
       "\t<tr><td>MI-326-H__metabat2_low_PE.034.fna.gz </td><td>/ebio/abt3_projects/software/dev/ll_pipelines/llprimer/experiments/christensenellales/genomes/LLG_output/drep/drep/dereplicated_genomes/MI-326-H__metabat2_low_PE.034.fna.gz.fna </td><td>d__Bacteria</td><td>1262897</td></tr>\n",
       "\t<tr><td>MI-408-H__metabat2_high_PE.004.fna.gz</td><td>/ebio/abt3_projects/software/dev/ll_pipelines/llprimer/experiments/christensenellales/genomes/LLG_output/drep/drep/dereplicated_genomes/MI-408-H__metabat2_high_PE.004.fna.gz.fna</td><td>d__Bacteria</td><td>1898207</td></tr>\n",
       "</tbody>\n",
       "</table>\n"
      ],
      "text/latex": [
       "A data.frame: 265 × 4\n",
       "\\begin{tabular}{llll}\n",
       " Taxon & Fasta & Domain & Taxid\\\\\n",
       " <chr> & <chr> & <chr> & <int>\\\\\n",
       "\\hline\n",
       "\t 1006216\\_\\_metabat2\\_\\_High.023.fna.gz    & /ebio/abt3\\_projects/software/dev/ll\\_pipelines/llprimer/experiments/christensenellales/genomes/LLG\\_output/drep/drep/dereplicated\\_genomes/1006216\\_\\_metabat2\\_\\_High.023.fna.gz.fna    & d\\_\\_Bacteria & 1262781\\\\\n",
       "\t ERR3450721\\_\\_metabat2\\_\\_High.043.fna.gz & /ebio/abt3\\_projects/software/dev/ll\\_pipelines/llprimer/experiments/christensenellales/genomes/LLG\\_output/drep/drep/dereplicated\\_genomes/ERR3450721\\_\\_metabat2\\_\\_High.043.fna.gz.fna & d\\_\\_Bacteria & 1262781\\\\\n",
       "\t ⋮ & ⋮ & ⋮ & ⋮\\\\\n",
       "\t MI-326-H\\_\\_metabat2\\_low\\_PE.034.fna.gz  & /ebio/abt3\\_projects/software/dev/ll\\_pipelines/llprimer/experiments/christensenellales/genomes/LLG\\_output/drep/drep/dereplicated\\_genomes/MI-326-H\\_\\_metabat2\\_low\\_PE.034.fna.gz.fna  & d\\_\\_Bacteria & 1262897\\\\\n",
       "\t MI-408-H\\_\\_metabat2\\_high\\_PE.004.fna.gz & /ebio/abt3\\_projects/software/dev/ll\\_pipelines/llprimer/experiments/christensenellales/genomes/LLG\\_output/drep/drep/dereplicated\\_genomes/MI-408-H\\_\\_metabat2\\_high\\_PE.004.fna.gz.fna & d\\_\\_Bacteria & 1898207\\\\\n",
       "\\end{tabular}\n"
      ],
      "text/markdown": [
       "\n",
       "A data.frame: 265 × 4\n",
       "\n",
       "| Taxon &lt;chr&gt; | Fasta &lt;chr&gt; | Domain &lt;chr&gt; | Taxid &lt;int&gt; |\n",
       "|---|---|---|---|\n",
       "| 1006216__metabat2__High.023.fna.gz    | /ebio/abt3_projects/software/dev/ll_pipelines/llprimer/experiments/christensenellales/genomes/LLG_output/drep/drep/dereplicated_genomes/1006216__metabat2__High.023.fna.gz.fna    | d__Bacteria | 1262781 |\n",
       "| ERR3450721__metabat2__High.043.fna.gz | /ebio/abt3_projects/software/dev/ll_pipelines/llprimer/experiments/christensenellales/genomes/LLG_output/drep/drep/dereplicated_genomes/ERR3450721__metabat2__High.043.fna.gz.fna | d__Bacteria | 1262781 |\n",
       "| ⋮ | ⋮ | ⋮ | ⋮ |\n",
       "| MI-326-H__metabat2_low_PE.034.fna.gz  | /ebio/abt3_projects/software/dev/ll_pipelines/llprimer/experiments/christensenellales/genomes/LLG_output/drep/drep/dereplicated_genomes/MI-326-H__metabat2_low_PE.034.fna.gz.fna  | d__Bacteria | 1262897 |\n",
       "| MI-408-H__metabat2_high_PE.004.fna.gz | /ebio/abt3_projects/software/dev/ll_pipelines/llprimer/experiments/christensenellales/genomes/LLG_output/drep/drep/dereplicated_genomes/MI-408-H__metabat2_high_PE.004.fna.gz.fna | d__Bacteria | 1898207 |\n",
       "\n"
      ],
      "text/plain": [
       "    Taxon                                \n",
       "1   1006216__metabat2__High.023.fna.gz   \n",
       "2   ERR3450721__metabat2__High.043.fna.gz\n",
       "⋮   ⋮                                    \n",
       "264 MI-326-H__metabat2_low_PE.034.fna.gz \n",
       "265 MI-408-H__metabat2_high_PE.004.fna.gz\n",
       "    Fasta                                                                                                                                                                            \n",
       "1   /ebio/abt3_projects/software/dev/ll_pipelines/llprimer/experiments/christensenellales/genomes/LLG_output/drep/drep/dereplicated_genomes/1006216__metabat2__High.023.fna.gz.fna   \n",
       "2   /ebio/abt3_projects/software/dev/ll_pipelines/llprimer/experiments/christensenellales/genomes/LLG_output/drep/drep/dereplicated_genomes/ERR3450721__metabat2__High.043.fna.gz.fna\n",
       "⋮   ⋮                                                                                                                                                                                \n",
       "264 /ebio/abt3_projects/software/dev/ll_pipelines/llprimer/experiments/christensenellales/genomes/LLG_output/drep/drep/dereplicated_genomes/MI-326-H__metabat2_low_PE.034.fna.gz.fna \n",
       "265 /ebio/abt3_projects/software/dev/ll_pipelines/llprimer/experiments/christensenellales/genomes/LLG_output/drep/drep/dereplicated_genomes/MI-408-H__metabat2_high_PE.004.fna.gz.fna\n",
       "    Domain      Taxid  \n",
       "1   d__Bacteria 1262781\n",
       "2   d__Bacteria 1262781\n",
       "⋮   ⋮           ⋮      \n",
       "264 d__Bacteria 1262897\n",
       "265 d__Bacteria 1898207"
      ]
     },
     "metadata": {},
     "output_type": "display_data"
    }
   ],
   "source": [
    "genomes = read.delim(genomes_file, sep='\\t')\n",
    "genomes"
   ]
  },
  {
   "cell_type": "markdown",
   "metadata": {},
   "source": [
    "# LLPRIMER"
   ]
  },
  {
   "cell_type": "markdown",
   "metadata": {},
   "source": [
    "### Config"
   ]
  },
  {
   "cell_type": "code",
   "execution_count": 5,
   "metadata": {
    "execution": {
     "iopub.execute_input": "2021-02-27T09:55:01.760145Z",
     "iopub.status.busy": "2021-02-27T09:55:01.757912Z",
     "iopub.status.idle": "2021-02-27T09:55:01.791528Z"
    }
   },
   "outputs": [
    {
     "name": "stdout",
     "output_type": "stream",
     "text": [
      "#-- I/O --#\n",
      "samples_file: /ebio/abt3_projects/software/dev/ll_pipelines/llprimer/experiments/christensenellales/genomes//LLG_output/samples_genomes_hq.txt\n",
      "\n",
      "# output location\n",
      "output_dir: /ebio/abt3_projects/software/dev/ll_pipelines/llprimer/experiments/christensenellales/primers/clst0.8-perc0.8/\n",
      "\n",
      "# temporary file directory (your username will be added automatically)\n",
      "tmp_dir: /ebio/abt3_scratch/\n",
      "\n",
      "#-- software parameters --#\n",
      "# See the README for a description\n",
      "params:\n",
      "  ionice: -c 3\n",
      "  cgp:\n",
      "    prokka: \"\"\n",
      "    mmseqs:\n",
      "      method: cluster    # or linclust (faster)\n",
      "      run: --min-seq-id 0.8 -c 0.8\n",
      "    vsearch: --id 0.94\n",
      "    core_genes:\n",
      "      cds: --perc-genomes-cds 90 --copies-per-genome-cds 1 --max-clusters-cds 500\n",
      "      rRNA: --perc-genomes-rrna 90 --copies-per-genome-rrna 10 --max-clusters-rrna 500\n",
      "    align:\n",
      "      method: linsi\n",
      "      params: --auto --maxiterate 1000\n",
      "    primer3:\n",
      "      consensus: --consensus-threshold 0.34\n",
      "      number: --num-raw-primers 5000 --num-final-primers 20\n",
      "      size: --opt-size 20 --min-size 18 --max-size 24\n",
      "      product: --opt-prod-size 150 --min-prod-size 100 --max-prod-size 250\n",
      "      Tm: --opt-tm 62 --min-tm 54 --max-tm 70 --max-tm-diff 2\n",
      "      PCR: --oligo-DNA 50 --salt-monovalent 50 --salt-divalent 1.5 --dNTPs 0.2\n",
      "      GC: --opt-gc 50 --min-gc 25 --max-gc 75\n",
      "      degeneracy: --max-degeneracy 128 --max-degeneracy-3prime 12 --window-3prime 5\n",
      "      internal_oligo: --make-oligo 0 --int-opt-size 20 --int-opt-tm 60\n",
      "    blast_nontarget:\n",
      "      run_locally: False\n",
      "      cds: -evalue 1e-5 -max_target_seqs 30\n",
      "      rRNA: -evalue 1e-5 -max_target_seqs 30\n",
      "    blastn: -max_target_seqs 500 -perc_identity 90\n",
      "    blast_filter: --perc-len 80 --min-amplicon-len 30 --max-amplicon-len 2000    \n",
      "\n",
      "#-- database --#\n",
      "databases:\n",
      "  blast:\n",
      "    nucl: /ebio/abt3_projects/databases_no-backup/NCBI_blastdb/nt\n",
      "    prot: /ebio/abt3_projects/databases_no-backup/NCBI_blastdb/nr\n",
      "    rRNA:\n",
      "      SSU: /ebio/abt3_projects/databases_no-backup/NCBI_rRNA/2021-01/SSU/16S_ribosomal_RNA\n",
      "      LSU: /ebio/abt3_projects/databases_no-backup/NCBI_rRNA/2021-01/LSU/LSU_prokaryote_rRNA\n",
      "    gene_names: /ebio/abt3_projects/databases_no-backup/NCBI_nr_geneIDs/2021-01/nr_accession-geneNames.pkl\n",
      "  taxonomy:\n",
      "    names: /ebio/abt3_projects/databases_no-backup/NCBI_taxonomy/2020-12-23/names.dmp\n",
      "    nodes: /ebio/abt3_projects/databases_no-backup/NCBI_taxonomy/2020-12-23/nodes.dmp\n",
      "\n",
      "#-- snakemake pipeline --#\n",
      "pipeline:\n",
      "  snakemake_folder: ./\n",
      "  script_folder: bin/scripts/\n",
      "  name: LLPRIMER"
     ]
    }
   ],
   "source": [
    "F = file.path(work_dir, 'primers', 'clst0.8-perc0.9', 'config.yaml')\n",
    "cat_file(F)"
   ]
  },
  {
   "cell_type": "markdown",
   "metadata": {},
   "source": [
    "### Run"
   ]
  },
  {
   "cell_type": "markdown",
   "metadata": {},
   "source": [
    "```\n",
    "(snakemake) @ rick:/ebio/abt3_projects/software/dev/ll_pipelines/llprimer\n",
    "$ screen -L -S llprimer-christ ./snakemake_sge.sh experiments/christensenellales/primers/clst0.8-perc0.9/config.yaml 30 -F\n",
    "```"
   ]
  },
  {
   "cell_type": "markdown",
   "metadata": {},
   "source": [
    "# --WAITING--"
   ]
  },
  {
   "cell_type": "markdown",
   "metadata": {},
   "source": [
    "# Results"
   ]
  },
  {
   "cell_type": "code",
   "execution_count": null,
   "metadata": {},
   "outputs": [],
   "source": [
    "# primers\n",
    "primer_info = read.delim(file.path(work_dir, 'primers', 'clst0.8-perc0.8', 'cgp', 'primers_final_info.tsv'), sep='\\t')\n",
    "primer_info %>% unique_n('primer sets', primer_set)\n",
    "primer_info"
   ]
  },
  {
   "cell_type": "code",
   "execution_count": null,
   "metadata": {},
   "outputs": [],
   "source": [
    "# target gene info\n",
    "gene_annot = read.delim(file.path(work_dir, 'primers', 'clst0.8-perc0.8', 'cgp', 'core_clusters_info.tsv'), \n",
    "                        sep='\\t') %>%\n",
    "    semi_join(primer_info, c('cluster_id')) \n",
    "gene_annot"
   ]
  },
  {
   "cell_type": "code",
   "execution_count": null,
   "metadata": {},
   "outputs": [],
   "source": [
    "# non-target gene annotations\n",
    "gene_nontarget = read.delim(file.path(work_dir, 'primers', 'clst0.8-perc0.8', 'cgp', 'nontarget', 'cds_blastx.tsv'), \n",
    "                        sep='\\t') %>%\n",
    "    semi_join(primer_info, c('cluster_id')) \n",
    "gene_nontarget"
   ]
  },
  {
   "cell_type": "markdown",
   "metadata": {},
   "source": [
    "## Primer quality"
   ]
  },
  {
   "cell_type": "code",
   "execution_count": null,
   "metadata": {},
   "outputs": [],
   "source": [
    "# summary\n",
    "primer_info %>% unique_n('primer sets', primer_set)\n",
    "primer_info %>% unique_n('gene clusters', cluster_id)"
   ]
  },
  {
   "cell_type": "code",
   "execution_count": null,
   "metadata": {},
   "outputs": [],
   "source": [
    "# primers per cluster\n",
    "primer_info %>%\n",
    "    distinct(cluster_id, primer_set) %>%\n",
    "    group_by(cluster_id) %>%\n",
    "    summarize(n_primer_sets = n(), .groups='drop')"
   ]
  },
  {
   "cell_type": "code",
   "execution_count": null,
   "metadata": {},
   "outputs": [],
   "source": [
    "primer_info %>% colnames"
   ]
  },
  {
   "cell_type": "code",
   "execution_count": null,
   "metadata": {},
   "outputs": [],
   "source": [
    "# primer quality\n",
    "primer_info %>% filter(primer_type == 'PRIMER_LEFT') %>% .$amplicon_size_avg %>% summary_x('mean amplicon size')\n",
    "primer_info %>% .$degeneracy %>% summary_x('degeneracy')\n",
    "primer_info %>% .$degeneracy_3prime %>% summary_x('degeneracy (3-prime)')"
   ]
  },
  {
   "cell_type": "code",
   "execution_count": null,
   "metadata": {},
   "outputs": [],
   "source": [
    "# arrange\n",
    "df.dims(30,40)\n",
    "primer_info %>%\n",
    "    group_by(primer_set) %>%\n",
    "    mutate(max_degeneracy_3prime = max(degeneracy_3prime),\n",
    "           max_degeneracy = max(degeneracy)) %>%\n",
    "    arrange(max_degeneracy_3prime, max_degeneracy) %>%\n",
    "    head(n=30)\n",
    "df.dims()"
   ]
  },
  {
   "cell_type": "markdown",
   "metadata": {},
   "source": [
    "### Gene cluster annotations"
   ]
  },
  {
   "cell_type": "code",
   "execution_count": null,
   "metadata": {},
   "outputs": [],
   "source": [
    "gene_annot %>%\n",
    "    distinct(cluster_id, annotation)"
   ]
  },
  {
   "cell_type": "markdown",
   "metadata": {},
   "source": [
    "### Most unique clusters"
   ]
  },
  {
   "cell_type": "code",
   "execution_count": null,
   "metadata": {},
   "outputs": [],
   "source": [
    "# most unique clusters\n",
    "df.dims(10)\n",
    "gene_nontarget %>%\n",
    "    filter(pident_rank == 1) %>%\n",
    "    arrange(pident) %>%\n",
    "    head(n=10)\n",
    "df.dims()"
   ]
  }
 ],
 "metadata": {
  "kernelspec": {
   "display_name": "R [conda env:Anxiety_Twins_Metagenomes-tidyverse2]",
   "language": "R",
   "name": "conda-env-Anxiety_Twins_Metagenomes-tidyverse2-r"
  },
  "language_info": {
   "codemirror_mode": "r",
   "file_extension": ".r",
   "mimetype": "text/x-r-source",
   "name": "R",
   "pygments_lexer": "r",
   "version": "4.0.3"
  },
  "toc-showcode": false
 },
 "nbformat": 4,
 "nbformat_minor": 4
}
