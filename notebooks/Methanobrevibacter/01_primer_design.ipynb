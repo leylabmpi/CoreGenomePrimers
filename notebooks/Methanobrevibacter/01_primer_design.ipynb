{
 "cells": [
  {
   "cell_type": "markdown",
   "metadata": {},
   "source": [
    "# Goal\n",
    "\n",
    "* Designing primers for Methanobrevibacter\n",
    "  * Download genomes\n",
    "  * QC genomes\n",
    "  * Design primers"
   ]
  },
  {
   "cell_type": "markdown",
   "metadata": {},
   "source": [
    "# Var"
   ]
  },
  {
   "cell_type": "code",
   "execution_count": 5,
   "metadata": {
    "execution": {
     "iopub.execute_input": "2021-01-20T07:02:27.889941Z",
     "iopub.status.busy": "2021-01-20T07:02:27.887842Z",
     "iopub.status.idle": "2021-01-20T07:02:27.905497Z"
    }
   },
   "outputs": [],
   "source": [
    "work_dir = '/ebio/abt3_projects/software/dev/ll_pipelines/llprimer/experiments/methanobrevibacter'\n",
    "clade = 'Methanobrevibacter'\n",
    "taxid = 2172"
   ]
  },
  {
   "cell_type": "markdown",
   "metadata": {},
   "source": [
    "# Init"
   ]
  },
  {
   "cell_type": "code",
   "execution_count": 24,
   "metadata": {
    "execution": {
     "iopub.execute_input": "2021-01-20T11:46:16.211246Z",
     "iopub.status.busy": "2021-01-20T11:46:16.208805Z",
     "iopub.status.idle": "2021-01-20T11:46:16.238649Z"
    }
   },
   "outputs": [],
   "source": [
    "library(dplyr)\n",
    "library(tidyr)\n",
    "library(ggplot2)\n",
    "library(LeyLabRMisc)"
   ]
  },
  {
   "cell_type": "code",
   "execution_count": 25,
   "metadata": {
    "execution": {
     "iopub.execute_input": "2021-01-20T11:46:16.333775Z",
     "iopub.status.busy": "2021-01-20T11:46:16.331172Z",
     "iopub.status.idle": "2021-01-20T11:46:16.356694Z"
    }
   },
   "outputs": [
    {
     "name": "stdout",
     "output_type": "stream",
     "text": [
      "Directory already exists: /ebio/abt3_projects/software/dev/ll_pipelines/llprimer/experiments/methanobrevibacter \n"
     ]
    }
   ],
   "source": [
    "df.dims()\n",
    "make_dir(work_dir)"
   ]
  },
  {
   "cell_type": "markdown",
   "metadata": {},
   "source": [
    "# Genome download\n",
    "\n",
    "* Downloading genomes from NCBI"
   ]
  },
  {
   "cell_type": "markdown",
   "metadata": {},
   "source": [
    "```\n",
    "OUTDIR=/ebio/abt3_projects/software/dev/ll_pipelines/llprimer/experiments/methanobrevibacter/\n",
    "mkdir -p $OUTDIR\n",
    "ncbi-genome-download -p 12 -s genbank -F fasta --genera Methanobrevibacter -o $OUTDIR archaea\n",
    "```"
   ]
  },
  {
   "cell_type": "markdown",
   "metadata": {},
   "source": [
    "# Genome quality"
   ]
  },
  {
   "cell_type": "code",
   "execution_count": 10,
   "metadata": {
    "execution": {
     "iopub.execute_input": "2021-01-20T07:05:00.157135Z",
     "iopub.status.busy": "2021-01-20T07:05:00.155084Z",
     "iopub.status.idle": "2021-01-20T07:05:00.372994Z"
    }
   },
   "outputs": [
    {
     "data": {
      "text/html": [
       "<table>\n",
       "<caption>A data.frame: 103 × 4</caption>\n",
       "<thead>\n",
       "\t<tr><th scope=col>Name</th><th scope=col>Fasta</th><th scope=col>Domain</th><th scope=col>Taxid</th></tr>\n",
       "\t<tr><th scope=col>&lt;chr&gt;</th><th scope=col>&lt;chr&gt;</th><th scope=col>&lt;fct&gt;</th><th scope=col>&lt;dbl&gt;</th></tr>\n",
       "</thead>\n",
       "<tbody>\n",
       "\t<tr><td>GCA_000016525.1_ASM1652v1_genomic</td><td>/ebio/abt3_projects/software/dev/ll_pipelines/llprimer/experiments/methanobrevibacter/genbank/archaea/GCA_000016525.1/GCA_000016525.1_ASM1652v1_genomic.fna.gz</td><td>Archaea</td><td>2172</td></tr>\n",
       "\t<tr><td>GCA_000024185.1_ASM2418v1_genomic</td><td>/ebio/abt3_projects/software/dev/ll_pipelines/llprimer/experiments/methanobrevibacter/genbank/archaea/GCA_000024185.1/GCA_000024185.1_ASM2418v1_genomic.fna.gz</td><td>Archaea</td><td>2172</td></tr>\n",
       "\t<tr><td>⋮</td><td>⋮</td><td>⋮</td><td>⋮</td></tr>\n",
       "\t<tr><td>GCA_902384065.1_UHGG_MGYG-HGUT-02162_genomic</td><td>/ebio/abt3_projects/software/dev/ll_pipelines/llprimer/experiments/methanobrevibacter/genbank/archaea/GCA_902384065.1/GCA_902384065.1_UHGG_MGYG-HGUT-02162_genomic.fna.gz</td><td>Archaea</td><td>2172</td></tr>\n",
       "\t<tr><td>GCA_902387325.1_UHGG_MGYG-HGUT-02446_genomic</td><td>/ebio/abt3_projects/software/dev/ll_pipelines/llprimer/experiments/methanobrevibacter/genbank/archaea/GCA_902387325.1/GCA_902387325.1_UHGG_MGYG-HGUT-02446_genomic.fna.gz</td><td>Archaea</td><td>2172</td></tr>\n",
       "</tbody>\n",
       "</table>\n"
      ],
      "text/latex": [
       "A data.frame: 103 × 4\n",
       "\\begin{tabular}{llll}\n",
       " Name & Fasta & Domain & Taxid\\\\\n",
       " <chr> & <chr> & <fct> & <dbl>\\\\\n",
       "\\hline\n",
       "\t GCA\\_000016525.1\\_ASM1652v1\\_genomic & /ebio/abt3\\_projects/software/dev/ll\\_pipelines/llprimer/experiments/methanobrevibacter/genbank/archaea/GCA\\_000016525.1/GCA\\_000016525.1\\_ASM1652v1\\_genomic.fna.gz & Archaea & 2172\\\\\n",
       "\t GCA\\_000024185.1\\_ASM2418v1\\_genomic & /ebio/abt3\\_projects/software/dev/ll\\_pipelines/llprimer/experiments/methanobrevibacter/genbank/archaea/GCA\\_000024185.1/GCA\\_000024185.1\\_ASM2418v1\\_genomic.fna.gz & Archaea & 2172\\\\\n",
       "\t ⋮ & ⋮ & ⋮ & ⋮\\\\\n",
       "\t GCA\\_902384065.1\\_UHGG\\_MGYG-HGUT-02162\\_genomic & /ebio/abt3\\_projects/software/dev/ll\\_pipelines/llprimer/experiments/methanobrevibacter/genbank/archaea/GCA\\_902384065.1/GCA\\_902384065.1\\_UHGG\\_MGYG-HGUT-02162\\_genomic.fna.gz & Archaea & 2172\\\\\n",
       "\t GCA\\_902387325.1\\_UHGG\\_MGYG-HGUT-02446\\_genomic & /ebio/abt3\\_projects/software/dev/ll\\_pipelines/llprimer/experiments/methanobrevibacter/genbank/archaea/GCA\\_902387325.1/GCA\\_902387325.1\\_UHGG\\_MGYG-HGUT-02446\\_genomic.fna.gz & Archaea & 2172\\\\\n",
       "\\end{tabular}\n"
      ],
      "text/markdown": [
       "\n",
       "A data.frame: 103 × 4\n",
       "\n",
       "| Name &lt;chr&gt; | Fasta &lt;chr&gt; | Domain &lt;fct&gt; | Taxid &lt;dbl&gt; |\n",
       "|---|---|---|---|\n",
       "| GCA_000016525.1_ASM1652v1_genomic | /ebio/abt3_projects/software/dev/ll_pipelines/llprimer/experiments/methanobrevibacter/genbank/archaea/GCA_000016525.1/GCA_000016525.1_ASM1652v1_genomic.fna.gz | Archaea | 2172 |\n",
       "| GCA_000024185.1_ASM2418v1_genomic | /ebio/abt3_projects/software/dev/ll_pipelines/llprimer/experiments/methanobrevibacter/genbank/archaea/GCA_000024185.1/GCA_000024185.1_ASM2418v1_genomic.fna.gz | Archaea | 2172 |\n",
       "| ⋮ | ⋮ | ⋮ | ⋮ |\n",
       "| GCA_902384065.1_UHGG_MGYG-HGUT-02162_genomic | /ebio/abt3_projects/software/dev/ll_pipelines/llprimer/experiments/methanobrevibacter/genbank/archaea/GCA_902384065.1/GCA_902384065.1_UHGG_MGYG-HGUT-02162_genomic.fna.gz | Archaea | 2172 |\n",
       "| GCA_902387325.1_UHGG_MGYG-HGUT-02446_genomic | /ebio/abt3_projects/software/dev/ll_pipelines/llprimer/experiments/methanobrevibacter/genbank/archaea/GCA_902387325.1/GCA_902387325.1_UHGG_MGYG-HGUT-02446_genomic.fna.gz | Archaea | 2172 |\n",
       "\n"
      ],
      "text/plain": [
       "    Name                                        \n",
       "1   GCA_000016525.1_ASM1652v1_genomic           \n",
       "2   GCA_000024185.1_ASM2418v1_genomic           \n",
       "⋮   ⋮                                           \n",
       "102 GCA_902384065.1_UHGG_MGYG-HGUT-02162_genomic\n",
       "103 GCA_902387325.1_UHGG_MGYG-HGUT-02446_genomic\n",
       "    Fasta                                                                                                                                                                    \n",
       "1   /ebio/abt3_projects/software/dev/ll_pipelines/llprimer/experiments/methanobrevibacter/genbank/archaea/GCA_000016525.1/GCA_000016525.1_ASM1652v1_genomic.fna.gz           \n",
       "2   /ebio/abt3_projects/software/dev/ll_pipelines/llprimer/experiments/methanobrevibacter/genbank/archaea/GCA_000024185.1/GCA_000024185.1_ASM2418v1_genomic.fna.gz           \n",
       "⋮   ⋮                                                                                                                                                                        \n",
       "102 /ebio/abt3_projects/software/dev/ll_pipelines/llprimer/experiments/methanobrevibacter/genbank/archaea/GCA_902384065.1/GCA_902384065.1_UHGG_MGYG-HGUT-02162_genomic.fna.gz\n",
       "103 /ebio/abt3_projects/software/dev/ll_pipelines/llprimer/experiments/methanobrevibacter/genbank/archaea/GCA_902387325.1/GCA_902387325.1_UHGG_MGYG-HGUT-02446_genomic.fna.gz\n",
       "    Domain  Taxid\n",
       "1   Archaea 2172 \n",
       "2   Archaea 2172 \n",
       "⋮   ⋮       ⋮    \n",
       "102 Archaea 2172 \n",
       "103 Archaea 2172 "
      ]
     },
     "metadata": {},
     "output_type": "display_data"
    },
    {
     "name": "stdout",
     "output_type": "stream",
     "text": [
      "File written: /ebio/abt3_projects/software/dev/ll_pipelines/llprimer/experiments/methanobrevibacter/genomes_raw.txt \n"
     ]
    }
   ],
   "source": [
    "D = file.path(work_dir, 'genbank')\n",
    "files = list_files(D, '.fna.gz')\n",
    "samps = data.frame(Name = files %>% as.character %>% basename,\n",
    "                   Fasta = files,\n",
    "                   Domain = 'Archaea',\n",
    "                   Taxid = taxid) %>%\n",
    "    mutate(Name = gsub('\\\\.fna\\\\.gz$', '', Name),\n",
    "           Fasta = gsub('/+', '/', Fasta))\n",
    "samps\n",
    "\n",
    "# writing file\n",
    "outfile = file.path(work_dir, 'genomes_raw.txt')\n",
    "write_table(samps, outfile)"
   ]
  },
  {
   "cell_type": "markdown",
   "metadata": {},
   "source": [
    "## LLG"
   ]
  },
  {
   "cell_type": "markdown",
   "metadata": {},
   "source": [
    "#### Config"
   ]
  },
  {
   "cell_type": "code",
   "execution_count": 11,
   "metadata": {
    "execution": {
     "iopub.execute_input": "2021-01-20T07:05:27.109975Z",
     "iopub.status.busy": "2021-01-20T07:05:27.107769Z",
     "iopub.status.idle": "2021-01-20T07:05:27.140586Z"
    }
   },
   "outputs": [
    {
     "name": "stdout",
     "output_type": "stream",
     "text": [
      "# table with genome --> fasta_file information\n",
      "samples_file: /ebio/abt3_projects/software/dev/ll_pipelines/llprimer/experiments/methanobrevibacter/genomes_raw.txt\n",
      "\n",
      "# output location\n",
      "output_dir: /ebio/abt3_projects/software/dev/ll_pipelines/llprimer/experiments/methanobrevibacter/LLG_output/\n",
      "\n",
      "# temporary file directory (your username will be added automatically)\n",
      "tmp_dir: /ebio/abt3_scratch/\n",
      "\n",
      "# batch processing of genomes for certain steps\n",
      "## increase to better parallelize\n",
      "batches: 2 \n",
      "\n",
      "# Domain of genomes ('Archaea' or 'Bacteria)\n",
      "## Use \"Skip\" if provided as a \"Domain\" column in the genome table\n",
      "Domain: Skip\n",
      "\n",
      "# software parameters\n",
      "# Use \"Skip\" to skip any of these steps. If no params for rule, use \"\"\n",
      "# dRep MAGs are not further analyzed, but you can de-rep & then use the de-rep genome table as input.\n",
      "params:\n",
      "  ionice: -c 3\n",
      "  # assembly assessment\n",
      "  seqkit: \"\"\n",
      "  quast: Skip #\"\"\n",
      "  multiqc_on_quast: \"\" \n",
      "  checkm: \"\"\n",
      "  # de-replication (requires checkm)\n",
      "  drep: -comp 90 -con 5 -sa 0.999\n",
      "  # taxonomy\n",
      "  sourmash:\n",
      "    compute: Skip #--scaled 10000 -k 31\n",
      "    gather: -k 31\n",
      "  gtdbtk:\n",
      "    classify_wf: --min_perc_aa 10\n",
      "  # genome pairwise ANI  \n",
      "  fastani: Skip #--fragLen 3000 --minFraction 0.2 -k 16\n",
      "  dashing: Skip #-k 31 --full-tsv\n",
      "  comparem_aai: Skip #--evalue 0.001\n",
      "  # gene annotation\n",
      "  gene_call:\n",
      "    prokka: Skip #\"\" \n",
      "    multiqc_on_prokka: \"\"\n",
      "    prodigal: Skip #\"\"\n",
      "  eggnog_mapper: \"\"\n",
      "  eggnog_mapper_annot: \"\"\n",
      "  # rRNA (16S alignment & phylogeny)\n",
      "  barrnap: Skip #--lencutoff 0.8\n",
      "  vsearch_per_genome_drep: --id 0.95    # Skip to prevent drep of 16S copies within each genome\n",
      "  qiime2_fasttree: \"\"\n",
      "  qiime2_iqtree: --p-alrt 1000 --p-abayes --p-lbp 1000  --p-substitution-model 'GTR+I+G'\n",
      "  # genome phylogeny\n",
      "  phylophlan_config: Skip #--map_dna diamond --db_aa diamond --map_aa diamond --msa mafft --trim trimal --tree1 fasttree --tree2 raxml\n",
      "  phylophlan: --diversity high --min_num_markers 50 --accurate\n",
      "  # phenotype\n",
      "  traitar: Skip #\"\"\n",
      "  # biosynthetic gene clusters (BGCs)\n",
      "  antismash: Skip #--cb-knownclusters --cb-subclusters --asf  \n",
      "  DeepBGC: Skip #--score 0.5 --classifier-score 0.5 --prodigal-meta-mode\n",
      "  # antimicrobial resistance (AMR)\n",
      "  abricate: Skip #--minid 75 --mincov 80\n",
      "  # CRISPRs\n",
      "  cctyper: Skip #--prodigal meta\n",
      "  \n",
      "# databases\n",
      "databases:\n",
      "  checkM_data: /ebio/abt3_projects/databases_no-backup/checkM/\n",
      "  sourmash: /ebio/abt3_projects/databases_no-backup/sourmash/genbank-k31.sbt.json\n",
      "  sourmash_lca: /ebio/abt3_projects/databases_no-backup/sourmash/genbank-k31.lca.json.gz\n",
      "  gtdbtk: /ebio/abt3_projects/databases_no-backup/GTDB/release95/gtdbtk/db_info.md\n",
      "  phylophlan: /ebio/abt3_projects/databases_no-backup/phylophlan/PhyloPhlan/phylophlan.faa.bz2\n",
      "  eggnog: /ebio/abt3_projects/databases_no-backup/Eggnog/v2/eggnog.db\n",
      "  eggnog_diamond: /ebio/abt3_projects/databases_no-backup/Eggnog/v2/eggnog_proteins.dmnd\n",
      "  antismash: /ebio/abt3_projects/databases_no-backup/antismash/v5/\n",
      "  deepbgc: /ebio/abt3_projects/databases_no-backup/DeepBGC/\n",
      "  traitar: /ebio/abt3_projects/databases_no-backup/pfam/traitar/\n",
      "  abricate:\n",
      "    ncbi: /ebio/abt3_projects/databases_no-backup/abricate/ncbi/sequences\n",
      "    card: /ebio/abt3_projects/databases_no-backup/abricate/card/sequences\n",
      "    resfinder: /ebio/abt3_projects/databases_no-backup/abricate/resfinder/sequences\n",
      "    argannot: /ebio/abt3_projects/databases_no-backup/abricate/argannot/sequences\n",
      "    bacmet2: /ebio/abt3_projects/databases_no-backup/abricate/bacmet2/sequences\n",
      "    vfdb: /ebio/abt3_projects/databases_no-backup/abricate/vfdb/sequences\n",
      "    megares: /ebio/abt3_projects/databases_no-backup/abricate/megares/sequences\n",
      "    plasmidfinder: /ebio/abt3_projects/databases_no-backup/abricate/plasmidfinder/sequences\n",
      "\n",
      "# snakemake pipeline\n",
      "pipeline:\n",
      "  snakemake_folder: ./\n",
      "  script_folder: ./bin/scripts/\n",
      "  use_shared_mem: True\n",
      "  name: LLG"
     ]
    }
   ],
   "source": [
    "cat_file(file.path(work_dir, 'config_llg.yaml'))"
   ]
  },
  {
   "cell_type": "markdown",
   "metadata": {},
   "source": [
    "#### Run"
   ]
  },
  {
   "cell_type": "markdown",
   "metadata": {},
   "source": [
    "```\n",
    "(snakemake) @ rick:/ebio/abt3_projects/software/dev/ll_pipelines/llg\n",
    "$ screen -L -S llg-thermo ./snakemake_sge.sh /ebio/abt3_projects/software/dev/ll_pipelines/llprimer/experiments/methanobrevibacter/config_llg.yaml 30 -F\n",
    "```"
   ]
  },
  {
   "cell_type": "markdown",
   "metadata": {},
   "source": [
    "### Samples table of high-quality genomes"
   ]
  },
  {
   "cell_type": "code",
   "execution_count": 12,
   "metadata": {
    "execution": {
     "iopub.execute_input": "2021-01-20T07:39:44.190890Z",
     "iopub.status.busy": "2021-01-20T07:39:44.188792Z",
     "iopub.status.idle": "2021-01-20T07:39:44.248938Z"
    }
   },
   "outputs": [
    {
     "data": {
      "text/html": [
       "<table>\n",
       "<caption>A data.frame: 103 × 33</caption>\n",
       "<thead>\n",
       "\t<tr><th scope=col>Bin.Id</th><th scope=col>Marker.lineage</th><th scope=col>X..genomes</th><th scope=col>X..markers</th><th scope=col>X..marker.sets</th><th scope=col>Completeness</th><th scope=col>Contamination</th><th scope=col>Strain.heterogeneity</th><th scope=col>Genome.size..bp.</th><th scope=col>X..ambiguous.bases</th><th scope=col>⋯</th><th scope=col>X0</th><th scope=col>X1</th><th scope=col>X2</th><th scope=col>X3</th><th scope=col>X4</th><th scope=col>X5.</th><th scope=col>assembly.Id</th><th scope=col>assembler.Id</th><th scope=col>taxon.Id</th><th scope=col>File</th></tr>\n",
       "\t<tr><th scope=col>&lt;fct&gt;</th><th scope=col>&lt;fct&gt;</th><th scope=col>&lt;int&gt;</th><th scope=col>&lt;int&gt;</th><th scope=col>&lt;int&gt;</th><th scope=col>&lt;dbl&gt;</th><th scope=col>&lt;dbl&gt;</th><th scope=col>&lt;dbl&gt;</th><th scope=col>&lt;int&gt;</th><th scope=col>&lt;int&gt;</th><th scope=col>⋯</th><th scope=col>&lt;int&gt;</th><th scope=col>&lt;int&gt;</th><th scope=col>&lt;int&gt;</th><th scope=col>&lt;int&gt;</th><th scope=col>&lt;int&gt;</th><th scope=col>&lt;int&gt;</th><th scope=col>&lt;fct&gt;</th><th scope=col>&lt;fct&gt;</th><th scope=col>&lt;lgl&gt;</th><th scope=col>&lt;fct&gt;</th></tr>\n",
       "</thead>\n",
       "<tbody>\n",
       "\t<tr><td>GCA_000016525.1_ASM1652v1_genomic </td><td>p__Euryarchaeota (UID3)</td><td>148</td><td>188</td><td>125</td><td>100</td><td>0</td><td>0</td><td>1853160</td><td>   0</td><td>⋯</td><td>0</td><td>188</td><td>0</td><td>0</td><td>0</td><td>0</td><td>|ebio|abt3_projects|software|dev|ll_pipelines|llprimer|experiments|methanobrevibacter|LLG_output|checkM|1|checkm|markers_qa_summary.tsv.1</td><td>markers_qa_summary.tsv.1</td><td>NA</td><td>/ebio/abt3_projects/software/dev/ll_pipelines/llprimer/experiments/methanobrevibacter/LLG_output/checkM/1/checkm/markers_qa_summary.tsv.1</td></tr>\n",
       "\t<tr><td>GCA_000151225.1_ASM15122v1_genomic</td><td>p__Euryarchaeota (UID3)</td><td>148</td><td>188</td><td>125</td><td>100</td><td>0</td><td>0</td><td>1729275</td><td>1500</td><td>⋯</td><td>0</td><td>188</td><td>0</td><td>0</td><td>0</td><td>0</td><td>|ebio|abt3_projects|software|dev|ll_pipelines|llprimer|experiments|methanobrevibacter|LLG_output|checkM|1|checkm|markers_qa_summary.tsv.2</td><td>markers_qa_summary.tsv.2</td><td>NA</td><td>/ebio/abt3_projects/software/dev/ll_pipelines/llprimer/experiments/methanobrevibacter/LLG_output/checkM/1/checkm/markers_qa_summary.tsv.2</td></tr>\n",
       "\t<tr><td>⋮</td><td>⋮</td><td>⋮</td><td>⋮</td><td>⋮</td><td>⋮</td><td>⋮</td><td>⋮</td><td>⋮</td><td>⋮</td><td>⋱</td><td>⋮</td><td>⋮</td><td>⋮</td><td>⋮</td><td>⋮</td><td>⋮</td><td>⋮</td><td>⋮</td><td>⋮</td><td>⋮</td></tr>\n",
       "\t<tr><td>GCA_901111125.1_PRJEB32190_genomic          </td><td>p__Euryarchaeota (UID3)</td><td>148</td><td>188</td><td>125</td><td>100.0</td><td>0</td><td>0</td><td>1712416</td><td>4</td><td>⋯</td><td>0</td><td>188</td><td>0</td><td>0</td><td>0</td><td>0</td><td>|ebio|abt3_projects|software|dev|ll_pipelines|llprimer|experiments|methanobrevibacter|LLG_output|checkM|2|checkm|markers_qa_summary.tsv.50</td><td>markers_qa_summary.tsv.50</td><td>NA</td><td>/ebio/abt3_projects/software/dev/ll_pipelines/llprimer/experiments/methanobrevibacter/LLG_output/checkM/2/checkm/markers_qa_summary.tsv.50</td></tr>\n",
       "\t<tr><td>GCA_902384065.1_UHGG_MGYG-HGUT-02162_genomic</td><td>p__Euryarchaeota (UID3)</td><td>148</td><td>188</td><td>125</td><td> 96.8</td><td>0</td><td>0</td><td>2083511</td><td>2</td><td>⋯</td><td>7</td><td>181</td><td>0</td><td>0</td><td>0</td><td>0</td><td>|ebio|abt3_projects|software|dev|ll_pipelines|llprimer|experiments|methanobrevibacter|LLG_output|checkM|2|checkm|markers_qa_summary.tsv.51</td><td>markers_qa_summary.tsv.51</td><td>NA</td><td>/ebio/abt3_projects/software/dev/ll_pipelines/llprimer/experiments/methanobrevibacter/LLG_output/checkM/2/checkm/markers_qa_summary.tsv.51</td></tr>\n",
       "</tbody>\n",
       "</table>\n"
      ],
      "text/latex": [
       "A data.frame: 103 × 33\n",
       "\\begin{tabular}{lllllllllllllllllllll}\n",
       " Bin.Id & Marker.lineage & X..genomes & X..markers & X..marker.sets & Completeness & Contamination & Strain.heterogeneity & Genome.size..bp. & X..ambiguous.bases & ⋯ & X0 & X1 & X2 & X3 & X4 & X5. & assembly.Id & assembler.Id & taxon.Id & File\\\\\n",
       " <fct> & <fct> & <int> & <int> & <int> & <dbl> & <dbl> & <dbl> & <int> & <int> & ⋯ & <int> & <int> & <int> & <int> & <int> & <int> & <fct> & <fct> & <lgl> & <fct>\\\\\n",
       "\\hline\n",
       "\t GCA\\_000016525.1\\_ASM1652v1\\_genomic  & p\\_\\_Euryarchaeota (UID3) & 148 & 188 & 125 & 100 & 0 & 0 & 1853160 &    0 & ⋯ & 0 & 188 & 0 & 0 & 0 & 0 & \\textbar{}ebio\\textbar{}abt3\\_projects\\textbar{}software\\textbar{}dev\\textbar{}ll\\_pipelines\\textbar{}llprimer\\textbar{}experiments\\textbar{}methanobrevibacter\\textbar{}LLG\\_output\\textbar{}checkM\\textbar{}1\\textbar{}checkm\\textbar{}markers\\_qa\\_summary.tsv.1 & markers\\_qa\\_summary.tsv.1 & NA & /ebio/abt3\\_projects/software/dev/ll\\_pipelines/llprimer/experiments/methanobrevibacter/LLG\\_output/checkM/1/checkm/markers\\_qa\\_summary.tsv.1\\\\\n",
       "\t GCA\\_000151225.1\\_ASM15122v1\\_genomic & p\\_\\_Euryarchaeota (UID3) & 148 & 188 & 125 & 100 & 0 & 0 & 1729275 & 1500 & ⋯ & 0 & 188 & 0 & 0 & 0 & 0 & \\textbar{}ebio\\textbar{}abt3\\_projects\\textbar{}software\\textbar{}dev\\textbar{}ll\\_pipelines\\textbar{}llprimer\\textbar{}experiments\\textbar{}methanobrevibacter\\textbar{}LLG\\_output\\textbar{}checkM\\textbar{}1\\textbar{}checkm\\textbar{}markers\\_qa\\_summary.tsv.2 & markers\\_qa\\_summary.tsv.2 & NA & /ebio/abt3\\_projects/software/dev/ll\\_pipelines/llprimer/experiments/methanobrevibacter/LLG\\_output/checkM/1/checkm/markers\\_qa\\_summary.tsv.2\\\\\n",
       "\t ⋮ & ⋮ & ⋮ & ⋮ & ⋮ & ⋮ & ⋮ & ⋮ & ⋮ & ⋮ & ⋱ & ⋮ & ⋮ & ⋮ & ⋮ & ⋮ & ⋮ & ⋮ & ⋮ & ⋮ & ⋮\\\\\n",
       "\t GCA\\_901111125.1\\_PRJEB32190\\_genomic           & p\\_\\_Euryarchaeota (UID3) & 148 & 188 & 125 & 100.0 & 0 & 0 & 1712416 & 4 & ⋯ & 0 & 188 & 0 & 0 & 0 & 0 & \\textbar{}ebio\\textbar{}abt3\\_projects\\textbar{}software\\textbar{}dev\\textbar{}ll\\_pipelines\\textbar{}llprimer\\textbar{}experiments\\textbar{}methanobrevibacter\\textbar{}LLG\\_output\\textbar{}checkM\\textbar{}2\\textbar{}checkm\\textbar{}markers\\_qa\\_summary.tsv.50 & markers\\_qa\\_summary.tsv.50 & NA & /ebio/abt3\\_projects/software/dev/ll\\_pipelines/llprimer/experiments/methanobrevibacter/LLG\\_output/checkM/2/checkm/markers\\_qa\\_summary.tsv.50\\\\\n",
       "\t GCA\\_902384065.1\\_UHGG\\_MGYG-HGUT-02162\\_genomic & p\\_\\_Euryarchaeota (UID3) & 148 & 188 & 125 &  96.8 & 0 & 0 & 2083511 & 2 & ⋯ & 7 & 181 & 0 & 0 & 0 & 0 & \\textbar{}ebio\\textbar{}abt3\\_projects\\textbar{}software\\textbar{}dev\\textbar{}ll\\_pipelines\\textbar{}llprimer\\textbar{}experiments\\textbar{}methanobrevibacter\\textbar{}LLG\\_output\\textbar{}checkM\\textbar{}2\\textbar{}checkm\\textbar{}markers\\_qa\\_summary.tsv.51 & markers\\_qa\\_summary.tsv.51 & NA & /ebio/abt3\\_projects/software/dev/ll\\_pipelines/llprimer/experiments/methanobrevibacter/LLG\\_output/checkM/2/checkm/markers\\_qa\\_summary.tsv.51\\\\\n",
       "\\end{tabular}\n"
      ],
      "text/markdown": [
       "\n",
       "A data.frame: 103 × 33\n",
       "\n",
       "| Bin.Id &lt;fct&gt; | Marker.lineage &lt;fct&gt; | X..genomes &lt;int&gt; | X..markers &lt;int&gt; | X..marker.sets &lt;int&gt; | Completeness &lt;dbl&gt; | Contamination &lt;dbl&gt; | Strain.heterogeneity &lt;dbl&gt; | Genome.size..bp. &lt;int&gt; | X..ambiguous.bases &lt;int&gt; | ⋯ ⋯ | X0 &lt;int&gt; | X1 &lt;int&gt; | X2 &lt;int&gt; | X3 &lt;int&gt; | X4 &lt;int&gt; | X5. &lt;int&gt; | assembly.Id &lt;fct&gt; | assembler.Id &lt;fct&gt; | taxon.Id &lt;lgl&gt; | File &lt;fct&gt; |\n",
       "|---|---|---|---|---|---|---|---|---|---|---|---|---|---|---|---|---|---|---|---|---|\n",
       "| GCA_000016525.1_ASM1652v1_genomic  | p__Euryarchaeota (UID3) | 148 | 188 | 125 | 100 | 0 | 0 | 1853160 |    0 | ⋯ | 0 | 188 | 0 | 0 | 0 | 0 | |ebio|abt3_projects|software|dev|ll_pipelines|llprimer|experiments|methanobrevibacter|LLG_output|checkM|1|checkm|markers_qa_summary.tsv.1 | markers_qa_summary.tsv.1 | NA | /ebio/abt3_projects/software/dev/ll_pipelines/llprimer/experiments/methanobrevibacter/LLG_output/checkM/1/checkm/markers_qa_summary.tsv.1 |\n",
       "| GCA_000151225.1_ASM15122v1_genomic | p__Euryarchaeota (UID3) | 148 | 188 | 125 | 100 | 0 | 0 | 1729275 | 1500 | ⋯ | 0 | 188 | 0 | 0 | 0 | 0 | |ebio|abt3_projects|software|dev|ll_pipelines|llprimer|experiments|methanobrevibacter|LLG_output|checkM|1|checkm|markers_qa_summary.tsv.2 | markers_qa_summary.tsv.2 | NA | /ebio/abt3_projects/software/dev/ll_pipelines/llprimer/experiments/methanobrevibacter/LLG_output/checkM/1/checkm/markers_qa_summary.tsv.2 |\n",
       "| ⋮ | ⋮ | ⋮ | ⋮ | ⋮ | ⋮ | ⋮ | ⋮ | ⋮ | ⋮ | ⋱ | ⋮ | ⋮ | ⋮ | ⋮ | ⋮ | ⋮ | ⋮ | ⋮ | ⋮ | ⋮ |\n",
       "| GCA_901111125.1_PRJEB32190_genomic           | p__Euryarchaeota (UID3) | 148 | 188 | 125 | 100.0 | 0 | 0 | 1712416 | 4 | ⋯ | 0 | 188 | 0 | 0 | 0 | 0 | |ebio|abt3_projects|software|dev|ll_pipelines|llprimer|experiments|methanobrevibacter|LLG_output|checkM|2|checkm|markers_qa_summary.tsv.50 | markers_qa_summary.tsv.50 | NA | /ebio/abt3_projects/software/dev/ll_pipelines/llprimer/experiments/methanobrevibacter/LLG_output/checkM/2/checkm/markers_qa_summary.tsv.50 |\n",
       "| GCA_902384065.1_UHGG_MGYG-HGUT-02162_genomic | p__Euryarchaeota (UID3) | 148 | 188 | 125 |  96.8 | 0 | 0 | 2083511 | 2 | ⋯ | 7 | 181 | 0 | 0 | 0 | 0 | |ebio|abt3_projects|software|dev|ll_pipelines|llprimer|experiments|methanobrevibacter|LLG_output|checkM|2|checkm|markers_qa_summary.tsv.51 | markers_qa_summary.tsv.51 | NA | /ebio/abt3_projects/software/dev/ll_pipelines/llprimer/experiments/methanobrevibacter/LLG_output/checkM/2/checkm/markers_qa_summary.tsv.51 |\n",
       "\n"
      ],
      "text/plain": [
       "    Bin.Id                                       Marker.lineage         \n",
       "1   GCA_000016525.1_ASM1652v1_genomic            p__Euryarchaeota (UID3)\n",
       "2   GCA_000151225.1_ASM15122v1_genomic           p__Euryarchaeota (UID3)\n",
       "⋮   ⋮                                            ⋮                      \n",
       "102 GCA_901111125.1_PRJEB32190_genomic           p__Euryarchaeota (UID3)\n",
       "103 GCA_902384065.1_UHGG_MGYG-HGUT-02162_genomic p__Euryarchaeota (UID3)\n",
       "    X..genomes X..markers X..marker.sets Completeness Contamination\n",
       "1   148        188        125            100          0            \n",
       "2   148        188        125            100          0            \n",
       "⋮   ⋮          ⋮          ⋮              ⋮            ⋮            \n",
       "102 148        188        125            100.0        0            \n",
       "103 148        188        125             96.8        0            \n",
       "    Strain.heterogeneity Genome.size..bp. X..ambiguous.bases ⋯ X0 X1  X2 X3 X4\n",
       "1   0                    1853160             0               ⋯ 0  188 0  0  0 \n",
       "2   0                    1729275          1500               ⋯ 0  188 0  0  0 \n",
       "⋮   ⋮                    ⋮                ⋮                  ⋱ ⋮  ⋮   ⋮  ⋮  ⋮ \n",
       "102 0                    1712416          4                  ⋯ 0  188 0  0  0 \n",
       "103 0                    2083511          2                  ⋯ 7  181 0  0  0 \n",
       "    X5.\n",
       "1   0  \n",
       "2   0  \n",
       "⋮   ⋮  \n",
       "102 0  \n",
       "103 0  \n",
       "    assembly.Id                                                                                                                               \n",
       "1   |ebio|abt3_projects|software|dev|ll_pipelines|llprimer|experiments|methanobrevibacter|LLG_output|checkM|1|checkm|markers_qa_summary.tsv.1 \n",
       "2   |ebio|abt3_projects|software|dev|ll_pipelines|llprimer|experiments|methanobrevibacter|LLG_output|checkM|1|checkm|markers_qa_summary.tsv.2 \n",
       "⋮   ⋮                                                                                                                                         \n",
       "102 |ebio|abt3_projects|software|dev|ll_pipelines|llprimer|experiments|methanobrevibacter|LLG_output|checkM|2|checkm|markers_qa_summary.tsv.50\n",
       "103 |ebio|abt3_projects|software|dev|ll_pipelines|llprimer|experiments|methanobrevibacter|LLG_output|checkM|2|checkm|markers_qa_summary.tsv.51\n",
       "    assembler.Id              taxon.Id\n",
       "1   markers_qa_summary.tsv.1  NA      \n",
       "2   markers_qa_summary.tsv.2  NA      \n",
       "⋮   ⋮                         ⋮       \n",
       "102 markers_qa_summary.tsv.50 NA      \n",
       "103 markers_qa_summary.tsv.51 NA      \n",
       "    File                                                                                                                                      \n",
       "1   /ebio/abt3_projects/software/dev/ll_pipelines/llprimer/experiments/methanobrevibacter/LLG_output/checkM/1/checkm/markers_qa_summary.tsv.1 \n",
       "2   /ebio/abt3_projects/software/dev/ll_pipelines/llprimer/experiments/methanobrevibacter/LLG_output/checkM/1/checkm/markers_qa_summary.tsv.2 \n",
       "⋮   ⋮                                                                                                                                         \n",
       "102 /ebio/abt3_projects/software/dev/ll_pipelines/llprimer/experiments/methanobrevibacter/LLG_output/checkM/2/checkm/markers_qa_summary.tsv.50\n",
       "103 /ebio/abt3_projects/software/dev/ll_pipelines/llprimer/experiments/methanobrevibacter/LLG_output/checkM/2/checkm/markers_qa_summary.tsv.51"
      ]
     },
     "metadata": {},
     "output_type": "display_data"
    }
   ],
   "source": [
    "# checkM summary\n",
    "checkm = file.path(work_dir, 'LLG_output', 'checkM', 'checkm_qa_summary.tsv') %>%\n",
    "    read.delim(sep='\\t') \n",
    "checkm"
   ]
  },
  {
   "cell_type": "code",
   "execution_count": 33,
   "metadata": {
    "execution": {
     "iopub.execute_input": "2021-01-20T11:49:48.710228Z",
     "iopub.status.busy": "2021-01-20T11:49:48.707858Z",
     "iopub.status.idle": "2021-01-20T11:49:48.754104Z"
    }
   },
   "outputs": [
    {
     "data": {
      "text/html": [
       "<table>\n",
       "<caption>A data.frame: 103 × 4</caption>\n",
       "<thead>\n",
       "\t<tr><th scope=col>genome</th><th scope=col>completeness</th><th scope=col>contamination</th><th scope=col>Bin.Id</th></tr>\n",
       "\t<tr><th scope=col>&lt;fct&gt;</th><th scope=col>&lt;dbl&gt;</th><th scope=col>&lt;dbl&gt;</th><th scope=col>&lt;chr&gt;</th></tr>\n",
       "</thead>\n",
       "<tbody>\n",
       "\t<tr><td>/ebio/abt3_scratch/nyoungblut/LLG_62325884640/genomes/GCA_000016525.1_ASM1652v1_genomic.fna </td><td>100</td><td>0</td><td>GCA_000016525.1_ASM1652v1_genomic </td></tr>\n",
       "\t<tr><td>/ebio/abt3_scratch/nyoungblut/LLG_62325884640/genomes/GCA_000151225.1_ASM15122v1_genomic.fna</td><td>100</td><td>0</td><td>GCA_000151225.1_ASM15122v1_genomic</td></tr>\n",
       "\t<tr><td>⋮</td><td>⋮</td><td>⋮</td><td>⋮</td></tr>\n",
       "\t<tr><td>/ebio/abt3_scratch/nyoungblut/LLG_62325884640/genomes/GCA_901111125.1_PRJEB32190_genomic.fna          </td><td>100.0</td><td>0</td><td>GCA_901111125.1_PRJEB32190_genomic          </td></tr>\n",
       "\t<tr><td>/ebio/abt3_scratch/nyoungblut/LLG_62325884640/genomes/GCA_902384065.1_UHGG_MGYG-HGUT-02162_genomic.fna</td><td> 96.8</td><td>0</td><td>GCA_902384065.1_UHGG_MGYG-HGUT-02162_genomic</td></tr>\n",
       "</tbody>\n",
       "</table>\n"
      ],
      "text/latex": [
       "A data.frame: 103 × 4\n",
       "\\begin{tabular}{llll}\n",
       " genome & completeness & contamination & Bin.Id\\\\\n",
       " <fct> & <dbl> & <dbl> & <chr>\\\\\n",
       "\\hline\n",
       "\t /ebio/abt3\\_scratch/nyoungblut/LLG\\_62325884640/genomes/GCA\\_000016525.1\\_ASM1652v1\\_genomic.fna  & 100 & 0 & GCA\\_000016525.1\\_ASM1652v1\\_genomic \\\\\n",
       "\t /ebio/abt3\\_scratch/nyoungblut/LLG\\_62325884640/genomes/GCA\\_000151225.1\\_ASM15122v1\\_genomic.fna & 100 & 0 & GCA\\_000151225.1\\_ASM15122v1\\_genomic\\\\\n",
       "\t ⋮ & ⋮ & ⋮ & ⋮\\\\\n",
       "\t /ebio/abt3\\_scratch/nyoungblut/LLG\\_62325884640/genomes/GCA\\_901111125.1\\_PRJEB32190\\_genomic.fna           & 100.0 & 0 & GCA\\_901111125.1\\_PRJEB32190\\_genomic          \\\\\n",
       "\t /ebio/abt3\\_scratch/nyoungblut/LLG\\_62325884640/genomes/GCA\\_902384065.1\\_UHGG\\_MGYG-HGUT-02162\\_genomic.fna &  96.8 & 0 & GCA\\_902384065.1\\_UHGG\\_MGYG-HGUT-02162\\_genomic\\\\\n",
       "\\end{tabular}\n"
      ],
      "text/markdown": [
       "\n",
       "A data.frame: 103 × 4\n",
       "\n",
       "| genome &lt;fct&gt; | completeness &lt;dbl&gt; | contamination &lt;dbl&gt; | Bin.Id &lt;chr&gt; |\n",
       "|---|---|---|---|\n",
       "| /ebio/abt3_scratch/nyoungblut/LLG_62325884640/genomes/GCA_000016525.1_ASM1652v1_genomic.fna  | 100 | 0 | GCA_000016525.1_ASM1652v1_genomic  |\n",
       "| /ebio/abt3_scratch/nyoungblut/LLG_62325884640/genomes/GCA_000151225.1_ASM15122v1_genomic.fna | 100 | 0 | GCA_000151225.1_ASM15122v1_genomic |\n",
       "| ⋮ | ⋮ | ⋮ | ⋮ |\n",
       "| /ebio/abt3_scratch/nyoungblut/LLG_62325884640/genomes/GCA_901111125.1_PRJEB32190_genomic.fna           | 100.0 | 0 | GCA_901111125.1_PRJEB32190_genomic           |\n",
       "| /ebio/abt3_scratch/nyoungblut/LLG_62325884640/genomes/GCA_902384065.1_UHGG_MGYG-HGUT-02162_genomic.fna |  96.8 | 0 | GCA_902384065.1_UHGG_MGYG-HGUT-02162_genomic |\n",
       "\n"
      ],
      "text/plain": [
       "    genome                                                                                                \n",
       "1   /ebio/abt3_scratch/nyoungblut/LLG_62325884640/genomes/GCA_000016525.1_ASM1652v1_genomic.fna           \n",
       "2   /ebio/abt3_scratch/nyoungblut/LLG_62325884640/genomes/GCA_000151225.1_ASM15122v1_genomic.fna          \n",
       "⋮   ⋮                                                                                                     \n",
       "102 /ebio/abt3_scratch/nyoungblut/LLG_62325884640/genomes/GCA_901111125.1_PRJEB32190_genomic.fna          \n",
       "103 /ebio/abt3_scratch/nyoungblut/LLG_62325884640/genomes/GCA_902384065.1_UHGG_MGYG-HGUT-02162_genomic.fna\n",
       "    completeness contamination Bin.Id                                      \n",
       "1   100          0             GCA_000016525.1_ASM1652v1_genomic           \n",
       "2   100          0             GCA_000151225.1_ASM15122v1_genomic          \n",
       "⋮   ⋮            ⋮             ⋮                                           \n",
       "102 100.0        0             GCA_901111125.1_PRJEB32190_genomic          \n",
       "103  96.8        0             GCA_902384065.1_UHGG_MGYG-HGUT-02162_genomic"
      ]
     },
     "metadata": {},
     "output_type": "display_data"
    }
   ],
   "source": [
    "# dRep summary\n",
    "drep = file.path(work_dir, 'LLG_output', 'drep', 'checkm_markers_qa_summary.tsv') %>%\n",
    "    read.delim(sep='\\t') %>%\n",
    "    mutate(Bin.Id = gsub('.+/', '', genome),\n",
    "           Bin.Id = gsub('\\\\.fna$', '', Bin.Id))\n",
    "drep"
   ]
  },
  {
   "cell_type": "code",
   "execution_count": 34,
   "metadata": {
    "execution": {
     "iopub.execute_input": "2021-01-20T11:49:48.932278Z",
     "iopub.status.busy": "2021-01-20T11:49:48.930245Z",
     "iopub.status.idle": "2021-01-20T11:49:48.965052Z"
    }
   },
   "outputs": [
    {
     "data": {
      "text/html": [
       "<table>\n",
       "<caption>A data.frame: 59 × 2</caption>\n",
       "<thead>\n",
       "\t<tr><th scope=col>Name</th><th scope=col>Fasta</th></tr>\n",
       "\t<tr><th scope=col>&lt;fct&gt;</th><th scope=col>&lt;fct&gt;</th></tr>\n",
       "</thead>\n",
       "<tbody>\n",
       "\t<tr><td>GCA_001563245.1_ASM156324v1_genomic                            </td><td>/ebio/abt3_projects/software/dev/ll_pipelines/llprimer/experiments/methanobrevibacter/LLG_output/drep/drep/dereplicated_genomes/GCA_001563245.1_ASM156324v1_genomic.fna                            </td></tr>\n",
       "\t<tr><td>GCA_900114585.1_IMG-taxon_2593339150_annotated_assembly_genomic</td><td>/ebio/abt3_projects/software/dev/ll_pipelines/llprimer/experiments/methanobrevibacter/LLG_output/drep/drep/dereplicated_genomes/GCA_900114585.1_IMG-taxon_2593339150_annotated_assembly_genomic.fna</td></tr>\n",
       "\t<tr><td>⋮</td><td>⋮</td></tr>\n",
       "\t<tr><td>GCA_002813085.1_ASM281308v1_genomic</td><td>/ebio/abt3_projects/software/dev/ll_pipelines/llprimer/experiments/methanobrevibacter/LLG_output/drep/drep/dereplicated_genomes/GCA_002813085.1_ASM281308v1_genomic.fna</td></tr>\n",
       "\t<tr><td>GCA_003111605.1_ASM311160v1_genomic</td><td>/ebio/abt3_projects/software/dev/ll_pipelines/llprimer/experiments/methanobrevibacter/LLG_output/drep/drep/dereplicated_genomes/GCA_003111605.1_ASM311160v1_genomic.fna</td></tr>\n",
       "</tbody>\n",
       "</table>\n"
      ],
      "text/latex": [
       "A data.frame: 59 × 2\n",
       "\\begin{tabular}{ll}\n",
       " Name & Fasta\\\\\n",
       " <fct> & <fct>\\\\\n",
       "\\hline\n",
       "\t GCA\\_001563245.1\\_ASM156324v1\\_genomic                             & /ebio/abt3\\_projects/software/dev/ll\\_pipelines/llprimer/experiments/methanobrevibacter/LLG\\_output/drep/drep/dereplicated\\_genomes/GCA\\_001563245.1\\_ASM156324v1\\_genomic.fna                            \\\\\n",
       "\t GCA\\_900114585.1\\_IMG-taxon\\_2593339150\\_annotated\\_assembly\\_genomic & /ebio/abt3\\_projects/software/dev/ll\\_pipelines/llprimer/experiments/methanobrevibacter/LLG\\_output/drep/drep/dereplicated\\_genomes/GCA\\_900114585.1\\_IMG-taxon\\_2593339150\\_annotated\\_assembly\\_genomic.fna\\\\\n",
       "\t ⋮ & ⋮\\\\\n",
       "\t GCA\\_002813085.1\\_ASM281308v1\\_genomic & /ebio/abt3\\_projects/software/dev/ll\\_pipelines/llprimer/experiments/methanobrevibacter/LLG\\_output/drep/drep/dereplicated\\_genomes/GCA\\_002813085.1\\_ASM281308v1\\_genomic.fna\\\\\n",
       "\t GCA\\_003111605.1\\_ASM311160v1\\_genomic & /ebio/abt3\\_projects/software/dev/ll\\_pipelines/llprimer/experiments/methanobrevibacter/LLG\\_output/drep/drep/dereplicated\\_genomes/GCA\\_003111605.1\\_ASM311160v1\\_genomic.fna\\\\\n",
       "\\end{tabular}\n"
      ],
      "text/markdown": [
       "\n",
       "A data.frame: 59 × 2\n",
       "\n",
       "| Name &lt;fct&gt; | Fasta &lt;fct&gt; |\n",
       "|---|---|\n",
       "| GCA_001563245.1_ASM156324v1_genomic                             | /ebio/abt3_projects/software/dev/ll_pipelines/llprimer/experiments/methanobrevibacter/LLG_output/drep/drep/dereplicated_genomes/GCA_001563245.1_ASM156324v1_genomic.fna                             |\n",
       "| GCA_900114585.1_IMG-taxon_2593339150_annotated_assembly_genomic | /ebio/abt3_projects/software/dev/ll_pipelines/llprimer/experiments/methanobrevibacter/LLG_output/drep/drep/dereplicated_genomes/GCA_900114585.1_IMG-taxon_2593339150_annotated_assembly_genomic.fna |\n",
       "| ⋮ | ⋮ |\n",
       "| GCA_002813085.1_ASM281308v1_genomic | /ebio/abt3_projects/software/dev/ll_pipelines/llprimer/experiments/methanobrevibacter/LLG_output/drep/drep/dereplicated_genomes/GCA_002813085.1_ASM281308v1_genomic.fna |\n",
       "| GCA_003111605.1_ASM311160v1_genomic | /ebio/abt3_projects/software/dev/ll_pipelines/llprimer/experiments/methanobrevibacter/LLG_output/drep/drep/dereplicated_genomes/GCA_003111605.1_ASM311160v1_genomic.fna |\n",
       "\n"
      ],
      "text/plain": [
       "   Name                                                           \n",
       "1  GCA_001563245.1_ASM156324v1_genomic                            \n",
       "2  GCA_900114585.1_IMG-taxon_2593339150_annotated_assembly_genomic\n",
       "⋮  ⋮                                                              \n",
       "58 GCA_002813085.1_ASM281308v1_genomic                            \n",
       "59 GCA_003111605.1_ASM311160v1_genomic                            \n",
       "   Fasta                                                                                                                                                                                              \n",
       "1  /ebio/abt3_projects/software/dev/ll_pipelines/llprimer/experiments/methanobrevibacter/LLG_output/drep/drep/dereplicated_genomes/GCA_001563245.1_ASM156324v1_genomic.fna                            \n",
       "2  /ebio/abt3_projects/software/dev/ll_pipelines/llprimer/experiments/methanobrevibacter/LLG_output/drep/drep/dereplicated_genomes/GCA_900114585.1_IMG-taxon_2593339150_annotated_assembly_genomic.fna\n",
       "⋮  ⋮                                                                                                                                                                                                  \n",
       "58 /ebio/abt3_projects/software/dev/ll_pipelines/llprimer/experiments/methanobrevibacter/LLG_output/drep/drep/dereplicated_genomes/GCA_002813085.1_ASM281308v1_genomic.fna                            \n",
       "59 /ebio/abt3_projects/software/dev/ll_pipelines/llprimer/experiments/methanobrevibacter/LLG_output/drep/drep/dereplicated_genomes/GCA_003111605.1_ASM311160v1_genomic.fna                            "
      ]
     },
     "metadata": {},
     "output_type": "display_data"
    }
   ],
   "source": [
    "# de-replicated genomes\n",
    "drep_gen = file.path(work_dir, 'LLG_output', 'drep', 'dereplicated_genomes.tsv') %>%\n",
    "    read.delim(sep='\\t')\n",
    "drep_gen"
   ]
  },
  {
   "cell_type": "code",
   "execution_count": 35,
   "metadata": {
    "execution": {
     "iopub.execute_input": "2021-01-20T11:49:49.613056Z",
     "iopub.status.busy": "2021-01-20T11:49:49.610714Z",
     "iopub.status.idle": "2021-01-20T11:49:49.666135Z"
    }
   },
   "outputs": [
    {
     "data": {
      "text/html": [
       "<table>\n",
       "<caption>A data.frame: 103 × 22</caption>\n",
       "<thead>\n",
       "\t<tr><th scope=col>user_genome</th><th scope=col>Domain</th><th scope=col>Phylum</th><th scope=col>Class</th><th scope=col>Order</th><th scope=col>Family</th><th scope=col>Genus</th><th scope=col>Species</th><th scope=col>fastani_reference</th><th scope=col>fastani_reference_radius</th><th scope=col>⋯</th><th scope=col>fastani_af</th><th scope=col>closest_placement_reference</th><th scope=col>closest_placement_radius</th><th scope=col>closest_placement_taxonomy</th><th scope=col>closest_placement_ani</th><th scope=col>closest_placement_af</th><th scope=col>msa_percent</th><th scope=col>translation_table</th><th scope=col>red_value</th><th scope=col>warnings</th></tr>\n",
       "\t<tr><th scope=col>&lt;fct&gt;</th><th scope=col>&lt;chr&gt;</th><th scope=col>&lt;chr&gt;</th><th scope=col>&lt;chr&gt;</th><th scope=col>&lt;chr&gt;</th><th scope=col>&lt;chr&gt;</th><th scope=col>&lt;chr&gt;</th><th scope=col>&lt;chr&gt;</th><th scope=col>&lt;fct&gt;</th><th scope=col>&lt;fct&gt;</th><th scope=col>⋯</th><th scope=col>&lt;fct&gt;</th><th scope=col>&lt;fct&gt;</th><th scope=col>&lt;fct&gt;</th><th scope=col>&lt;fct&gt;</th><th scope=col>&lt;fct&gt;</th><th scope=col>&lt;fct&gt;</th><th scope=col>&lt;dbl&gt;</th><th scope=col>&lt;int&gt;</th><th scope=col>&lt;fct&gt;</th><th scope=col>&lt;fct&gt;</th></tr>\n",
       "</thead>\n",
       "<tbody>\n",
       "\t<tr><td>GCA_000016525.1_ASM1652v1_genomic </td><td>d__Archaea</td><td>p__Methanobacteriota</td><td>c__Methanobacteria</td><td>o__Methanobacteriales</td><td>f__Methanobacteriaceae</td><td>g__Methanobrevibacter_A</td><td>s__Methanobrevibacter_A smithii</td><td>GCF_000016525.1</td><td>95.0</td><td>⋯</td><td>1.0 </td><td>GCF_000016525.1</td><td>95.0</td><td>d__Archaea;p__Methanobacteriota;c__Methanobacteria;o__Methanobacteriales;f__Methanobacteriaceae;g__Methanobrevibacter_A;s__Methanobrevibacter_A smithii</td><td>100.0</td><td>1.0 </td><td>98.09</td><td>11</td><td>N/A</td><td>N/A</td></tr>\n",
       "\t<tr><td>GCA_000151225.1_ASM15122v1_genomic</td><td>d__Archaea</td><td>p__Methanobacteriota</td><td>c__Methanobacteria</td><td>o__Methanobacteriales</td><td>f__Methanobacteriaceae</td><td>g__Methanobrevibacter_A</td><td>s__Methanobrevibacter_A smithii</td><td>GCF_000016525.1</td><td>95.0</td><td>⋯</td><td>0.95</td><td>GCF_000016525.1</td><td>95.0</td><td>d__Archaea;p__Methanobacteriota;c__Methanobacteria;o__Methanobacteriales;f__Methanobacteriaceae;g__Methanobrevibacter_A;s__Methanobrevibacter_A smithii</td><td>98.32</td><td>0.95</td><td>98.09</td><td>11</td><td>N/A</td><td>N/A</td></tr>\n",
       "\t<tr><td>⋮</td><td>⋮</td><td>⋮</td><td>⋮</td><td>⋮</td><td>⋮</td><td>⋮</td><td>⋮</td><td>⋮</td><td>⋮</td><td>⋱</td><td>⋮</td><td>⋮</td><td>⋮</td><td>⋮</td><td>⋮</td><td>⋮</td><td>⋮</td><td>⋮</td><td>⋮</td><td>⋮</td></tr>\n",
       "\t<tr><td>GCA_901111125.1_PRJEB32190_genomic          </td><td>d__Archaea</td><td>p__Methanobacteriota</td><td>c__Methanobacteria</td><td>o__Methanobacteriales</td><td>f__Methanobacteriaceae</td><td>g__Methanobrevibacter_A</td><td>s__Methanobrevibacter_A smithii</td><td>GCF_000016525.1</td><td>95.0</td><td>⋯</td><td>0.95</td><td>GCF_000016525.1</td><td>95.0</td><td>d__Archaea;p__Methanobacteriota;c__Methanobacteria;o__Methanobacteriales;f__Methanobacteriaceae;g__Methanobrevibacter_A;s__Methanobrevibacter_A smithii</td><td>98.36</td><td>0.95</td><td>98.09</td><td>11</td><td>N/A</td><td>N/A</td></tr>\n",
       "\t<tr><td>GCA_902384065.1_UHGG_MGYG-HGUT-02162_genomic</td><td>d__Archaea</td><td>p__Methanobacteriota</td><td>c__Methanobacteria</td><td>o__Methanobacteriales</td><td>f__Methanobacteriaceae</td><td>g__Methanobrevibacter_A</td><td>s__Methanobrevibacter_A oralis </td><td>GCF_001639275.1</td><td>95.0</td><td>⋯</td><td>0.97</td><td>GCF_001639275.1</td><td>95.0</td><td>d__Archaea;p__Methanobacteriota;c__Methanobacteria;o__Methanobacteriales;f__Methanobacteriaceae;g__Methanobrevibacter_A;s__Methanobrevibacter_A oralis </td><td>99.85</td><td>0.97</td><td>89.89</td><td>11</td><td>N/A</td><td>N/A</td></tr>\n",
       "</tbody>\n",
       "</table>\n"
      ],
      "text/latex": [
       "A data.frame: 103 × 22\n",
       "\\begin{tabular}{lllllllllllllllllllll}\n",
       " user\\_genome & Domain & Phylum & Class & Order & Family & Genus & Species & fastani\\_reference & fastani\\_reference\\_radius & ⋯ & fastani\\_af & closest\\_placement\\_reference & closest\\_placement\\_radius & closest\\_placement\\_taxonomy & closest\\_placement\\_ani & closest\\_placement\\_af & msa\\_percent & translation\\_table & red\\_value & warnings\\\\\n",
       " <fct> & <chr> & <chr> & <chr> & <chr> & <chr> & <chr> & <chr> & <fct> & <fct> & ⋯ & <fct> & <fct> & <fct> & <fct> & <fct> & <fct> & <dbl> & <int> & <fct> & <fct>\\\\\n",
       "\\hline\n",
       "\t GCA\\_000016525.1\\_ASM1652v1\\_genomic  & d\\_\\_Archaea & p\\_\\_Methanobacteriota & c\\_\\_Methanobacteria & o\\_\\_Methanobacteriales & f\\_\\_Methanobacteriaceae & g\\_\\_Methanobrevibacter\\_A & s\\_\\_Methanobrevibacter\\_A smithii & GCF\\_000016525.1 & 95.0 & ⋯ & 1.0  & GCF\\_000016525.1 & 95.0 & d\\_\\_Archaea;p\\_\\_Methanobacteriota;c\\_\\_Methanobacteria;o\\_\\_Methanobacteriales;f\\_\\_Methanobacteriaceae;g\\_\\_Methanobrevibacter\\_A;s\\_\\_Methanobrevibacter\\_A smithii & 100.0 & 1.0  & 98.09 & 11 & N/A & N/A\\\\\n",
       "\t GCA\\_000151225.1\\_ASM15122v1\\_genomic & d\\_\\_Archaea & p\\_\\_Methanobacteriota & c\\_\\_Methanobacteria & o\\_\\_Methanobacteriales & f\\_\\_Methanobacteriaceae & g\\_\\_Methanobrevibacter\\_A & s\\_\\_Methanobrevibacter\\_A smithii & GCF\\_000016525.1 & 95.0 & ⋯ & 0.95 & GCF\\_000016525.1 & 95.0 & d\\_\\_Archaea;p\\_\\_Methanobacteriota;c\\_\\_Methanobacteria;o\\_\\_Methanobacteriales;f\\_\\_Methanobacteriaceae;g\\_\\_Methanobrevibacter\\_A;s\\_\\_Methanobrevibacter\\_A smithii & 98.32 & 0.95 & 98.09 & 11 & N/A & N/A\\\\\n",
       "\t ⋮ & ⋮ & ⋮ & ⋮ & ⋮ & ⋮ & ⋮ & ⋮ & ⋮ & ⋮ & ⋱ & ⋮ & ⋮ & ⋮ & ⋮ & ⋮ & ⋮ & ⋮ & ⋮ & ⋮ & ⋮\\\\\n",
       "\t GCA\\_901111125.1\\_PRJEB32190\\_genomic           & d\\_\\_Archaea & p\\_\\_Methanobacteriota & c\\_\\_Methanobacteria & o\\_\\_Methanobacteriales & f\\_\\_Methanobacteriaceae & g\\_\\_Methanobrevibacter\\_A & s\\_\\_Methanobrevibacter\\_A smithii & GCF\\_000016525.1 & 95.0 & ⋯ & 0.95 & GCF\\_000016525.1 & 95.0 & d\\_\\_Archaea;p\\_\\_Methanobacteriota;c\\_\\_Methanobacteria;o\\_\\_Methanobacteriales;f\\_\\_Methanobacteriaceae;g\\_\\_Methanobrevibacter\\_A;s\\_\\_Methanobrevibacter\\_A smithii & 98.36 & 0.95 & 98.09 & 11 & N/A & N/A\\\\\n",
       "\t GCA\\_902384065.1\\_UHGG\\_MGYG-HGUT-02162\\_genomic & d\\_\\_Archaea & p\\_\\_Methanobacteriota & c\\_\\_Methanobacteria & o\\_\\_Methanobacteriales & f\\_\\_Methanobacteriaceae & g\\_\\_Methanobrevibacter\\_A & s\\_\\_Methanobrevibacter\\_A oralis  & GCF\\_001639275.1 & 95.0 & ⋯ & 0.97 & GCF\\_001639275.1 & 95.0 & d\\_\\_Archaea;p\\_\\_Methanobacteriota;c\\_\\_Methanobacteria;o\\_\\_Methanobacteriales;f\\_\\_Methanobacteriaceae;g\\_\\_Methanobrevibacter\\_A;s\\_\\_Methanobrevibacter\\_A oralis  & 99.85 & 0.97 & 89.89 & 11 & N/A & N/A\\\\\n",
       "\\end{tabular}\n"
      ],
      "text/markdown": [
       "\n",
       "A data.frame: 103 × 22\n",
       "\n",
       "| user_genome &lt;fct&gt; | Domain &lt;chr&gt; | Phylum &lt;chr&gt; | Class &lt;chr&gt; | Order &lt;chr&gt; | Family &lt;chr&gt; | Genus &lt;chr&gt; | Species &lt;chr&gt; | fastani_reference &lt;fct&gt; | fastani_reference_radius &lt;fct&gt; | ⋯ ⋯ | fastani_af &lt;fct&gt; | closest_placement_reference &lt;fct&gt; | closest_placement_radius &lt;fct&gt; | closest_placement_taxonomy &lt;fct&gt; | closest_placement_ani &lt;fct&gt; | closest_placement_af &lt;fct&gt; | msa_percent &lt;dbl&gt; | translation_table &lt;int&gt; | red_value &lt;fct&gt; | warnings &lt;fct&gt; |\n",
       "|---|---|---|---|---|---|---|---|---|---|---|---|---|---|---|---|---|---|---|---|---|\n",
       "| GCA_000016525.1_ASM1652v1_genomic  | d__Archaea | p__Methanobacteriota | c__Methanobacteria | o__Methanobacteriales | f__Methanobacteriaceae | g__Methanobrevibacter_A | s__Methanobrevibacter_A smithii | GCF_000016525.1 | 95.0 | ⋯ | 1.0  | GCF_000016525.1 | 95.0 | d__Archaea;p__Methanobacteriota;c__Methanobacteria;o__Methanobacteriales;f__Methanobacteriaceae;g__Methanobrevibacter_A;s__Methanobrevibacter_A smithii | 100.0 | 1.0  | 98.09 | 11 | N/A | N/A |\n",
       "| GCA_000151225.1_ASM15122v1_genomic | d__Archaea | p__Methanobacteriota | c__Methanobacteria | o__Methanobacteriales | f__Methanobacteriaceae | g__Methanobrevibacter_A | s__Methanobrevibacter_A smithii | GCF_000016525.1 | 95.0 | ⋯ | 0.95 | GCF_000016525.1 | 95.0 | d__Archaea;p__Methanobacteriota;c__Methanobacteria;o__Methanobacteriales;f__Methanobacteriaceae;g__Methanobrevibacter_A;s__Methanobrevibacter_A smithii | 98.32 | 0.95 | 98.09 | 11 | N/A | N/A |\n",
       "| ⋮ | ⋮ | ⋮ | ⋮ | ⋮ | ⋮ | ⋮ | ⋮ | ⋮ | ⋮ | ⋱ | ⋮ | ⋮ | ⋮ | ⋮ | ⋮ | ⋮ | ⋮ | ⋮ | ⋮ | ⋮ |\n",
       "| GCA_901111125.1_PRJEB32190_genomic           | d__Archaea | p__Methanobacteriota | c__Methanobacteria | o__Methanobacteriales | f__Methanobacteriaceae | g__Methanobrevibacter_A | s__Methanobrevibacter_A smithii | GCF_000016525.1 | 95.0 | ⋯ | 0.95 | GCF_000016525.1 | 95.0 | d__Archaea;p__Methanobacteriota;c__Methanobacteria;o__Methanobacteriales;f__Methanobacteriaceae;g__Methanobrevibacter_A;s__Methanobrevibacter_A smithii | 98.36 | 0.95 | 98.09 | 11 | N/A | N/A |\n",
       "| GCA_902384065.1_UHGG_MGYG-HGUT-02162_genomic | d__Archaea | p__Methanobacteriota | c__Methanobacteria | o__Methanobacteriales | f__Methanobacteriaceae | g__Methanobrevibacter_A | s__Methanobrevibacter_A oralis  | GCF_001639275.1 | 95.0 | ⋯ | 0.97 | GCF_001639275.1 | 95.0 | d__Archaea;p__Methanobacteriota;c__Methanobacteria;o__Methanobacteriales;f__Methanobacteriaceae;g__Methanobrevibacter_A;s__Methanobrevibacter_A oralis  | 99.85 | 0.97 | 89.89 | 11 | N/A | N/A |\n",
       "\n"
      ],
      "text/plain": [
       "    user_genome                                  Domain    \n",
       "1   GCA_000016525.1_ASM1652v1_genomic            d__Archaea\n",
       "2   GCA_000151225.1_ASM15122v1_genomic           d__Archaea\n",
       "⋮   ⋮                                            ⋮         \n",
       "102 GCA_901111125.1_PRJEB32190_genomic           d__Archaea\n",
       "103 GCA_902384065.1_UHGG_MGYG-HGUT-02162_genomic d__Archaea\n",
       "    Phylum               Class              Order                \n",
       "1   p__Methanobacteriota c__Methanobacteria o__Methanobacteriales\n",
       "2   p__Methanobacteriota c__Methanobacteria o__Methanobacteriales\n",
       "⋮   ⋮                    ⋮                  ⋮                    \n",
       "102 p__Methanobacteriota c__Methanobacteria o__Methanobacteriales\n",
       "103 p__Methanobacteriota c__Methanobacteria o__Methanobacteriales\n",
       "    Family                 Genus                  \n",
       "1   f__Methanobacteriaceae g__Methanobrevibacter_A\n",
       "2   f__Methanobacteriaceae g__Methanobrevibacter_A\n",
       "⋮   ⋮                      ⋮                      \n",
       "102 f__Methanobacteriaceae g__Methanobrevibacter_A\n",
       "103 f__Methanobacteriaceae g__Methanobrevibacter_A\n",
       "    Species                         fastani_reference fastani_reference_radius\n",
       "1   s__Methanobrevibacter_A smithii GCF_000016525.1   95.0                    \n",
       "2   s__Methanobrevibacter_A smithii GCF_000016525.1   95.0                    \n",
       "⋮   ⋮                               ⋮                 ⋮                       \n",
       "102 s__Methanobrevibacter_A smithii GCF_000016525.1   95.0                    \n",
       "103 s__Methanobrevibacter_A oralis  GCF_001639275.1   95.0                    \n",
       "    ⋯ fastani_af closest_placement_reference closest_placement_radius\n",
       "1   ⋯ 1.0        GCF_000016525.1             95.0                    \n",
       "2   ⋯ 0.95       GCF_000016525.1             95.0                    \n",
       "⋮   ⋱ ⋮          ⋮                           ⋮                       \n",
       "102 ⋯ 0.95       GCF_000016525.1             95.0                    \n",
       "103 ⋯ 0.97       GCF_001639275.1             95.0                    \n",
       "    closest_placement_taxonomy                                                                                                                             \n",
       "1   d__Archaea;p__Methanobacteriota;c__Methanobacteria;o__Methanobacteriales;f__Methanobacteriaceae;g__Methanobrevibacter_A;s__Methanobrevibacter_A smithii\n",
       "2   d__Archaea;p__Methanobacteriota;c__Methanobacteria;o__Methanobacteriales;f__Methanobacteriaceae;g__Methanobrevibacter_A;s__Methanobrevibacter_A smithii\n",
       "⋮   ⋮                                                                                                                                                      \n",
       "102 d__Archaea;p__Methanobacteriota;c__Methanobacteria;o__Methanobacteriales;f__Methanobacteriaceae;g__Methanobrevibacter_A;s__Methanobrevibacter_A smithii\n",
       "103 d__Archaea;p__Methanobacteriota;c__Methanobacteria;o__Methanobacteriales;f__Methanobacteriaceae;g__Methanobrevibacter_A;s__Methanobrevibacter_A oralis \n",
       "    closest_placement_ani closest_placement_af msa_percent translation_table\n",
       "1   100.0                 1.0                  98.09       11               \n",
       "2   98.32                 0.95                 98.09       11               \n",
       "⋮   ⋮                     ⋮                    ⋮           ⋮                \n",
       "102 98.36                 0.95                 98.09       11               \n",
       "103 99.85                 0.97                 89.89       11               \n",
       "    red_value warnings\n",
       "1   N/A       N/A     \n",
       "2   N/A       N/A     \n",
       "⋮   ⋮         ⋮       \n",
       "102 N/A       N/A     \n",
       "103 N/A       N/A     "
      ]
     },
     "metadata": {},
     "output_type": "display_data"
    }
   ],
   "source": [
    "# GTDBTk summary\n",
    "tax = file.path(work_dir, 'LLG_output', 'gtdbtk', 'gtdbtk_ar_summary.tsv') %>%\n",
    "    read.delim(, sep='\\t') %>%\n",
    "    separate(classification, \n",
    "             c('Domain', 'Phylum', 'Class', 'Order', 'Family', 'Genus', 'Species'),\n",
    "             sep=';') %>%\n",
    "    select(-note, -classification_method, -pplacer_taxonomy,\n",
    "           -other_related_references.genome_id.species_name.radius.ANI.AF.)\n",
    "tax"
   ]
  },
  {
   "cell_type": "code",
   "execution_count": 36,
   "metadata": {
    "execution": {
     "iopub.execute_input": "2021-01-20T11:49:49.827321Z",
     "iopub.status.busy": "2021-01-20T11:49:49.825509Z",
     "iopub.status.idle": "2021-01-20T11:49:49.861964Z"
    }
   },
   "outputs": [
    {
     "name": "stdout",
     "output_type": "stream",
     "text": [
      "-- drep --\n",
      "intersect(x,y): 59 \n",
      "setdiff(x,y): 0 \n",
      "setdiff(y,x): 44 \n",
      "union(x,y): 103 \n",
      "-- checkm --\n",
      "intersect(x,y): 103 \n",
      "setdiff(x,y): 0 \n",
      "setdiff(y,x): 0 \n",
      "union(x,y): 103 \n",
      "-- gtdbtk --\n",
      "intersect(x,y): 103 \n",
      "setdiff(x,y): 0 \n",
      "setdiff(y,x): 0 \n",
      "union(x,y): 103 \n"
     ]
    }
   ],
   "source": [
    "# checking overlap\n",
    "cat('-- drep --\\n')\n",
    "overlap(basename(as.character(drep_gen$Fasta)), \n",
    "        basename(as.character(drep$genome)))\n",
    "cat('-- checkm --\\n')\n",
    "overlap(drep$Bin.Id, checkm$Bin.Id)\n",
    "cat('-- gtdbtk --\\n')\n",
    "overlap(drep$Bin.Id, tax$user_genome)"
   ]
  },
  {
   "cell_type": "code",
   "execution_count": 37,
   "metadata": {
    "execution": {
     "iopub.execute_input": "2021-01-20T11:49:50.365548Z",
     "iopub.status.busy": "2021-01-20T11:49:50.363756Z",
     "iopub.status.idle": "2021-01-20T11:49:50.430203Z"
    }
   },
   "outputs": [
    {
     "data": {
      "text/html": [
       "<table>\n",
       "<caption>A data.frame: 59 × 60</caption>\n",
       "<thead>\n",
       "\t<tr><th scope=col>genome</th><th scope=col>completeness</th><th scope=col>contamination</th><th scope=col>Bin.Id</th><th scope=col>Marker.lineage</th><th scope=col>X..genomes</th><th scope=col>X..markers</th><th scope=col>X..marker.sets</th><th scope=col>Completeness</th><th scope=col>Contamination</th><th scope=col>⋯</th><th scope=col>fastani_af</th><th scope=col>closest_placement_reference</th><th scope=col>closest_placement_radius</th><th scope=col>closest_placement_taxonomy</th><th scope=col>closest_placement_ani</th><th scope=col>closest_placement_af</th><th scope=col>msa_percent</th><th scope=col>translation_table</th><th scope=col>red_value</th><th scope=col>warnings</th></tr>\n",
       "\t<tr><th scope=col>&lt;fct&gt;</th><th scope=col>&lt;dbl&gt;</th><th scope=col>&lt;dbl&gt;</th><th scope=col>&lt;chr&gt;</th><th scope=col>&lt;fct&gt;</th><th scope=col>&lt;int&gt;</th><th scope=col>&lt;int&gt;</th><th scope=col>&lt;int&gt;</th><th scope=col>&lt;dbl&gt;</th><th scope=col>&lt;dbl&gt;</th><th scope=col>⋯</th><th scope=col>&lt;fct&gt;</th><th scope=col>&lt;fct&gt;</th><th scope=col>&lt;fct&gt;</th><th scope=col>&lt;fct&gt;</th><th scope=col>&lt;fct&gt;</th><th scope=col>&lt;fct&gt;</th><th scope=col>&lt;dbl&gt;</th><th scope=col>&lt;int&gt;</th><th scope=col>&lt;fct&gt;</th><th scope=col>&lt;fct&gt;</th></tr>\n",
       "</thead>\n",
       "<tbody>\n",
       "\t<tr><td>/ebio/abt3_scratch/nyoungblut/LLG_62325884640/genomes/GCA_000016525.1_ASM1652v1_genomic.fna </td><td>100</td><td>0</td><td>GCA_000016525.1_ASM1652v1_genomic </td><td>p__Euryarchaeota (UID3)</td><td>148</td><td>188</td><td>125</td><td>100</td><td>0</td><td>⋯</td><td>1.0 </td><td>GCF_000016525.1</td><td>95.0</td><td>d__Archaea;p__Methanobacteriota;c__Methanobacteria;o__Methanobacteriales;f__Methanobacteriaceae;g__Methanobrevibacter_A;s__Methanobrevibacter_A smithii</td><td>100.0</td><td>1.0 </td><td>98.09</td><td>11</td><td>N/A</td><td>N/A</td></tr>\n",
       "\t<tr><td>/ebio/abt3_scratch/nyoungblut/LLG_62325884640/genomes/GCA_000151225.1_ASM15122v1_genomic.fna</td><td>100</td><td>0</td><td>GCA_000151225.1_ASM15122v1_genomic</td><td>p__Euryarchaeota (UID3)</td><td>148</td><td>188</td><td>125</td><td>100</td><td>0</td><td>⋯</td><td>0.95</td><td>GCF_000016525.1</td><td>95.0</td><td>d__Archaea;p__Methanobacteriota;c__Methanobacteria;o__Methanobacteriales;f__Methanobacteriaceae;g__Methanobrevibacter_A;s__Methanobrevibacter_A smithii</td><td>98.32</td><td>0.95</td><td>98.09</td><td>11</td><td>N/A</td><td>N/A</td></tr>\n",
       "\t<tr><td>⋮</td><td>⋮</td><td>⋮</td><td>⋮</td><td>⋮</td><td>⋮</td><td>⋮</td><td>⋮</td><td>⋮</td><td>⋮</td><td>⋱</td><td>⋮</td><td>⋮</td><td>⋮</td><td>⋮</td><td>⋮</td><td>⋮</td><td>⋮</td><td>⋮</td><td>⋮</td><td>⋮</td></tr>\n",
       "\t<tr><td>/ebio/abt3_scratch/nyoungblut/LLG_62325884640/genomes/GCA_900103415.1_IMG-taxon_2593339167_annotated_assembly_genomic.fna</td><td>100</td><td>1.85</td><td>GCA_900103415.1_IMG-taxon_2593339167_annotated_assembly_genomic</td><td>p__Euryarchaeota (UID3)</td><td>148</td><td>188</td><td>125</td><td>100</td><td>1.85</td><td>⋯</td><td>N/A</td><td>N/A            </td><td>N/A </td><td>N/A                                                                                                                                                </td><td>N/A  </td><td>N/A</td><td>94.79</td><td>11</td><td>0.9626524776204902</td><td>N/A</td></tr>\n",
       "\t<tr><td>/ebio/abt3_scratch/nyoungblut/LLG_62325884640/genomes/GCA_900114585.1_IMG-taxon_2593339150_annotated_assembly_genomic.fna</td><td>100</td><td>1.60</td><td>GCA_900114585.1_IMG-taxon_2593339150_annotated_assembly_genomic</td><td>p__Euryarchaeota (UID3)</td><td>148</td><td>188</td><td>125</td><td>100</td><td>1.60</td><td>⋯</td><td>1.0</td><td>GCF_900114585.1</td><td>95.0</td><td>d__Archaea;p__Methanobacteriota;c__Methanobacteria;o__Methanobacteriales;f__Methanobacteriaceae;g__Methanobrevibacter;s__Methanobrevibacter olleyae</td><td>100.0</td><td>1.0</td><td>96.88</td><td>11</td><td>N/A               </td><td>N/A</td></tr>\n",
       "</tbody>\n",
       "</table>\n"
      ],
      "text/latex": [
       "A data.frame: 59 × 60\n",
       "\\begin{tabular}{lllllllllllllllllllll}\n",
       " genome & completeness & contamination & Bin.Id & Marker.lineage & X..genomes & X..markers & X..marker.sets & Completeness & Contamination & ⋯ & fastani\\_af & closest\\_placement\\_reference & closest\\_placement\\_radius & closest\\_placement\\_taxonomy & closest\\_placement\\_ani & closest\\_placement\\_af & msa\\_percent & translation\\_table & red\\_value & warnings\\\\\n",
       " <fct> & <dbl> & <dbl> & <chr> & <fct> & <int> & <int> & <int> & <dbl> & <dbl> & ⋯ & <fct> & <fct> & <fct> & <fct> & <fct> & <fct> & <dbl> & <int> & <fct> & <fct>\\\\\n",
       "\\hline\n",
       "\t /ebio/abt3\\_scratch/nyoungblut/LLG\\_62325884640/genomes/GCA\\_000016525.1\\_ASM1652v1\\_genomic.fna  & 100 & 0 & GCA\\_000016525.1\\_ASM1652v1\\_genomic  & p\\_\\_Euryarchaeota (UID3) & 148 & 188 & 125 & 100 & 0 & ⋯ & 1.0  & GCF\\_000016525.1 & 95.0 & d\\_\\_Archaea;p\\_\\_Methanobacteriota;c\\_\\_Methanobacteria;o\\_\\_Methanobacteriales;f\\_\\_Methanobacteriaceae;g\\_\\_Methanobrevibacter\\_A;s\\_\\_Methanobrevibacter\\_A smithii & 100.0 & 1.0  & 98.09 & 11 & N/A & N/A\\\\\n",
       "\t /ebio/abt3\\_scratch/nyoungblut/LLG\\_62325884640/genomes/GCA\\_000151225.1\\_ASM15122v1\\_genomic.fna & 100 & 0 & GCA\\_000151225.1\\_ASM15122v1\\_genomic & p\\_\\_Euryarchaeota (UID3) & 148 & 188 & 125 & 100 & 0 & ⋯ & 0.95 & GCF\\_000016525.1 & 95.0 & d\\_\\_Archaea;p\\_\\_Methanobacteriota;c\\_\\_Methanobacteria;o\\_\\_Methanobacteriales;f\\_\\_Methanobacteriaceae;g\\_\\_Methanobrevibacter\\_A;s\\_\\_Methanobrevibacter\\_A smithii & 98.32 & 0.95 & 98.09 & 11 & N/A & N/A\\\\\n",
       "\t ⋮ & ⋮ & ⋮ & ⋮ & ⋮ & ⋮ & ⋮ & ⋮ & ⋮ & ⋮ & ⋱ & ⋮ & ⋮ & ⋮ & ⋮ & ⋮ & ⋮ & ⋮ & ⋮ & ⋮ & ⋮\\\\\n",
       "\t /ebio/abt3\\_scratch/nyoungblut/LLG\\_62325884640/genomes/GCA\\_900103415.1\\_IMG-taxon\\_2593339167\\_annotated\\_assembly\\_genomic.fna & 100 & 1.85 & GCA\\_900103415.1\\_IMG-taxon\\_2593339167\\_annotated\\_assembly\\_genomic & p\\_\\_Euryarchaeota (UID3) & 148 & 188 & 125 & 100 & 1.85 & ⋯ & N/A & N/A             & N/A  & N/A                                                                                                                                                 & N/A   & N/A & 94.79 & 11 & 0.9626524776204902 & N/A\\\\\n",
       "\t /ebio/abt3\\_scratch/nyoungblut/LLG\\_62325884640/genomes/GCA\\_900114585.1\\_IMG-taxon\\_2593339150\\_annotated\\_assembly\\_genomic.fna & 100 & 1.60 & GCA\\_900114585.1\\_IMG-taxon\\_2593339150\\_annotated\\_assembly\\_genomic & p\\_\\_Euryarchaeota (UID3) & 148 & 188 & 125 & 100 & 1.60 & ⋯ & 1.0 & GCF\\_900114585.1 & 95.0 & d\\_\\_Archaea;p\\_\\_Methanobacteriota;c\\_\\_Methanobacteria;o\\_\\_Methanobacteriales;f\\_\\_Methanobacteriaceae;g\\_\\_Methanobrevibacter;s\\_\\_Methanobrevibacter olleyae & 100.0 & 1.0 & 96.88 & 11 & N/A                & N/A\\\\\n",
       "\\end{tabular}\n"
      ],
      "text/markdown": [
       "\n",
       "A data.frame: 59 × 60\n",
       "\n",
       "| genome &lt;fct&gt; | completeness &lt;dbl&gt; | contamination &lt;dbl&gt; | Bin.Id &lt;chr&gt; | Marker.lineage &lt;fct&gt; | X..genomes &lt;int&gt; | X..markers &lt;int&gt; | X..marker.sets &lt;int&gt; | Completeness &lt;dbl&gt; | Contamination &lt;dbl&gt; | ⋯ ⋯ | fastani_af &lt;fct&gt; | closest_placement_reference &lt;fct&gt; | closest_placement_radius &lt;fct&gt; | closest_placement_taxonomy &lt;fct&gt; | closest_placement_ani &lt;fct&gt; | closest_placement_af &lt;fct&gt; | msa_percent &lt;dbl&gt; | translation_table &lt;int&gt; | red_value &lt;fct&gt; | warnings &lt;fct&gt; |\n",
       "|---|---|---|---|---|---|---|---|---|---|---|---|---|---|---|---|---|---|---|---|---|\n",
       "| /ebio/abt3_scratch/nyoungblut/LLG_62325884640/genomes/GCA_000016525.1_ASM1652v1_genomic.fna  | 100 | 0 | GCA_000016525.1_ASM1652v1_genomic  | p__Euryarchaeota (UID3) | 148 | 188 | 125 | 100 | 0 | ⋯ | 1.0  | GCF_000016525.1 | 95.0 | d__Archaea;p__Methanobacteriota;c__Methanobacteria;o__Methanobacteriales;f__Methanobacteriaceae;g__Methanobrevibacter_A;s__Methanobrevibacter_A smithii | 100.0 | 1.0  | 98.09 | 11 | N/A | N/A |\n",
       "| /ebio/abt3_scratch/nyoungblut/LLG_62325884640/genomes/GCA_000151225.1_ASM15122v1_genomic.fna | 100 | 0 | GCA_000151225.1_ASM15122v1_genomic | p__Euryarchaeota (UID3) | 148 | 188 | 125 | 100 | 0 | ⋯ | 0.95 | GCF_000016525.1 | 95.0 | d__Archaea;p__Methanobacteriota;c__Methanobacteria;o__Methanobacteriales;f__Methanobacteriaceae;g__Methanobrevibacter_A;s__Methanobrevibacter_A smithii | 98.32 | 0.95 | 98.09 | 11 | N/A | N/A |\n",
       "| ⋮ | ⋮ | ⋮ | ⋮ | ⋮ | ⋮ | ⋮ | ⋮ | ⋮ | ⋮ | ⋱ | ⋮ | ⋮ | ⋮ | ⋮ | ⋮ | ⋮ | ⋮ | ⋮ | ⋮ | ⋮ |\n",
       "| /ebio/abt3_scratch/nyoungblut/LLG_62325884640/genomes/GCA_900103415.1_IMG-taxon_2593339167_annotated_assembly_genomic.fna | 100 | 1.85 | GCA_900103415.1_IMG-taxon_2593339167_annotated_assembly_genomic | p__Euryarchaeota (UID3) | 148 | 188 | 125 | 100 | 1.85 | ⋯ | N/A | N/A             | N/A  | N/A                                                                                                                                                 | N/A   | N/A | 94.79 | 11 | 0.9626524776204902 | N/A |\n",
       "| /ebio/abt3_scratch/nyoungblut/LLG_62325884640/genomes/GCA_900114585.1_IMG-taxon_2593339150_annotated_assembly_genomic.fna | 100 | 1.60 | GCA_900114585.1_IMG-taxon_2593339150_annotated_assembly_genomic | p__Euryarchaeota (UID3) | 148 | 188 | 125 | 100 | 1.60 | ⋯ | 1.0 | GCF_900114585.1 | 95.0 | d__Archaea;p__Methanobacteriota;c__Methanobacteria;o__Methanobacteriales;f__Methanobacteriaceae;g__Methanobrevibacter;s__Methanobrevibacter olleyae | 100.0 | 1.0 | 96.88 | 11 | N/A                | N/A |\n",
       "\n"
      ],
      "text/plain": [
       "   genome                                                                                                                   \n",
       "1  /ebio/abt3_scratch/nyoungblut/LLG_62325884640/genomes/GCA_000016525.1_ASM1652v1_genomic.fna                              \n",
       "2  /ebio/abt3_scratch/nyoungblut/LLG_62325884640/genomes/GCA_000151225.1_ASM15122v1_genomic.fna                             \n",
       "⋮  ⋮                                                                                                                        \n",
       "58 /ebio/abt3_scratch/nyoungblut/LLG_62325884640/genomes/GCA_900103415.1_IMG-taxon_2593339167_annotated_assembly_genomic.fna\n",
       "59 /ebio/abt3_scratch/nyoungblut/LLG_62325884640/genomes/GCA_900114585.1_IMG-taxon_2593339150_annotated_assembly_genomic.fna\n",
       "   completeness contamination\n",
       "1  100          0            \n",
       "2  100          0            \n",
       "⋮  ⋮            ⋮            \n",
       "58 100          1.85         \n",
       "59 100          1.60         \n",
       "   Bin.Id                                                         \n",
       "1  GCA_000016525.1_ASM1652v1_genomic                              \n",
       "2  GCA_000151225.1_ASM15122v1_genomic                             \n",
       "⋮  ⋮                                                              \n",
       "58 GCA_900103415.1_IMG-taxon_2593339167_annotated_assembly_genomic\n",
       "59 GCA_900114585.1_IMG-taxon_2593339150_annotated_assembly_genomic\n",
       "   Marker.lineage          X..genomes X..markers X..marker.sets Completeness\n",
       "1  p__Euryarchaeota (UID3) 148        188        125            100         \n",
       "2  p__Euryarchaeota (UID3) 148        188        125            100         \n",
       "⋮  ⋮                       ⋮          ⋮          ⋮              ⋮           \n",
       "58 p__Euryarchaeota (UID3) 148        188        125            100         \n",
       "59 p__Euryarchaeota (UID3) 148        188        125            100         \n",
       "   Contamination ⋯ fastani_af closest_placement_reference\n",
       "1  0             ⋯ 1.0        GCF_000016525.1            \n",
       "2  0             ⋯ 0.95       GCF_000016525.1            \n",
       "⋮  ⋮             ⋱ ⋮          ⋮                          \n",
       "58 1.85          ⋯ N/A        N/A                        \n",
       "59 1.60          ⋯ 1.0        GCF_900114585.1            \n",
       "   closest_placement_radius\n",
       "1  95.0                    \n",
       "2  95.0                    \n",
       "⋮  ⋮                       \n",
       "58 N/A                     \n",
       "59 95.0                    \n",
       "   closest_placement_taxonomy                                                                                                                             \n",
       "1  d__Archaea;p__Methanobacteriota;c__Methanobacteria;o__Methanobacteriales;f__Methanobacteriaceae;g__Methanobrevibacter_A;s__Methanobrevibacter_A smithii\n",
       "2  d__Archaea;p__Methanobacteriota;c__Methanobacteria;o__Methanobacteriales;f__Methanobacteriaceae;g__Methanobrevibacter_A;s__Methanobrevibacter_A smithii\n",
       "⋮  ⋮                                                                                                                                                      \n",
       "58 N/A                                                                                                                                                    \n",
       "59 d__Archaea;p__Methanobacteriota;c__Methanobacteria;o__Methanobacteriales;f__Methanobacteriaceae;g__Methanobrevibacter;s__Methanobrevibacter olleyae    \n",
       "   closest_placement_ani closest_placement_af msa_percent translation_table\n",
       "1  100.0                 1.0                  98.09       11               \n",
       "2  98.32                 0.95                 98.09       11               \n",
       "⋮  ⋮                     ⋮                    ⋮           ⋮                \n",
       "58 N/A                   N/A                  94.79       11               \n",
       "59 100.0                 1.0                  96.88       11               \n",
       "   red_value          warnings\n",
       "1  N/A                N/A     \n",
       "2  N/A                N/A     \n",
       "⋮  ⋮                  ⋮       \n",
       "58 0.9626524776204902 N/A     \n",
       "59 N/A                N/A     "
      ]
     },
     "metadata": {},
     "output_type": "display_data"
    }
   ],
   "source": [
    "# joining based on Bin.Id\n",
    "drep = drep %>%\n",
    "    inner_join(checkm, c('Bin.Id')) %>%\n",
    "    mutate(GEN = genome %>% as.character %>% basename) %>%\n",
    "    inner_join(drep_gen %>% mutate(GEN = Fasta %>% as.character %>% basename),\n",
    "               by=c('GEN')) %>%\n",
    "    inner_join(tax, c('Bin.Id'='user_genome')) #%>%\n",
    "drep"
   ]
  },
  {
   "cell_type": "code",
   "execution_count": 56,
   "metadata": {
    "execution": {
     "iopub.execute_input": "2021-01-20T17:28:02.463922Z",
     "iopub.status.busy": "2021-01-20T17:28:02.462045Z",
     "iopub.status.idle": "2021-01-20T17:28:02.509538Z"
    }
   },
   "outputs": [
    {
     "data": {
      "text/html": [
       "<table>\n",
       "<caption>A data.frame: 28 × 60</caption>\n",
       "<thead>\n",
       "\t<tr><th scope=col>genome</th><th scope=col>completeness</th><th scope=col>contamination</th><th scope=col>Bin.Id</th><th scope=col>Marker.lineage</th><th scope=col>X..genomes</th><th scope=col>X..markers</th><th scope=col>X..marker.sets</th><th scope=col>Completeness</th><th scope=col>Contamination</th><th scope=col>⋯</th><th scope=col>fastani_af</th><th scope=col>closest_placement_reference</th><th scope=col>closest_placement_radius</th><th scope=col>closest_placement_taxonomy</th><th scope=col>closest_placement_ani</th><th scope=col>closest_placement_af</th><th scope=col>msa_percent</th><th scope=col>translation_table</th><th scope=col>red_value</th><th scope=col>warnings</th></tr>\n",
       "\t<tr><th scope=col>&lt;fct&gt;</th><th scope=col>&lt;dbl&gt;</th><th scope=col>&lt;dbl&gt;</th><th scope=col>&lt;chr&gt;</th><th scope=col>&lt;fct&gt;</th><th scope=col>&lt;int&gt;</th><th scope=col>&lt;int&gt;</th><th scope=col>&lt;int&gt;</th><th scope=col>&lt;dbl&gt;</th><th scope=col>&lt;dbl&gt;</th><th scope=col>⋯</th><th scope=col>&lt;fct&gt;</th><th scope=col>&lt;fct&gt;</th><th scope=col>&lt;fct&gt;</th><th scope=col>&lt;fct&gt;</th><th scope=col>&lt;fct&gt;</th><th scope=col>&lt;fct&gt;</th><th scope=col>&lt;dbl&gt;</th><th scope=col>&lt;int&gt;</th><th scope=col>&lt;fct&gt;</th><th scope=col>&lt;fct&gt;</th></tr>\n",
       "</thead>\n",
       "<tbody>\n",
       "\t<tr><td>/ebio/abt3_scratch/nyoungblut/LLG_62325884640/genomes/GCA_000016525.1_ASM1652v1_genomic.fna </td><td>100</td><td>0</td><td>GCA_000016525.1_ASM1652v1_genomic </td><td>p__Euryarchaeota (UID3)</td><td>148</td><td>188</td><td>125</td><td>100</td><td>0</td><td>⋯</td><td>1.0 </td><td>GCF_000016525.1</td><td>95.0</td><td>d__Archaea;p__Methanobacteriota;c__Methanobacteria;o__Methanobacteriales;f__Methanobacteriaceae;g__Methanobrevibacter_A;s__Methanobrevibacter_A smithii</td><td>100.0</td><td>1.0 </td><td>98.09</td><td>11</td><td>N/A</td><td>N/A</td></tr>\n",
       "\t<tr><td>/ebio/abt3_scratch/nyoungblut/LLG_62325884640/genomes/GCA_000151225.1_ASM15122v1_genomic.fna</td><td>100</td><td>0</td><td>GCA_000151225.1_ASM15122v1_genomic</td><td>p__Euryarchaeota (UID3)</td><td>148</td><td>188</td><td>125</td><td>100</td><td>0</td><td>⋯</td><td>0.95</td><td>GCF_000016525.1</td><td>95.0</td><td>d__Archaea;p__Methanobacteriota;c__Methanobacteria;o__Methanobacteriales;f__Methanobacteriaceae;g__Methanobrevibacter_A;s__Methanobrevibacter_A smithii</td><td>98.32</td><td>0.95</td><td>98.09</td><td>11</td><td>N/A</td><td>N/A</td></tr>\n",
       "\t<tr><td>⋮</td><td>⋮</td><td>⋮</td><td>⋮</td><td>⋮</td><td>⋮</td><td>⋮</td><td>⋮</td><td>⋮</td><td>⋮</td><td>⋱</td><td>⋮</td><td>⋮</td><td>⋮</td><td>⋮</td><td>⋮</td><td>⋮</td><td>⋮</td><td>⋮</td><td>⋮</td><td>⋮</td></tr>\n",
       "\t<tr><td>/ebio/abt3_scratch/nyoungblut/LLG_62325884640/genomes/GCA_015062915.1_ASM1506291v1_genomic.fna</td><td>96.8</td><td>0</td><td>GCA_015062915.1_ASM1506291v1_genomic</td><td>p__Euryarchaeota (UID3)</td><td>148</td><td>188</td><td>125</td><td>96.8</td><td>0</td><td>⋯</td><td>N/A</td><td>GCF_003111625.1</td><td>95.0</td><td>d__Archaea;p__Methanobacteriota;c__Methanobacteria;o__Methanobacteriales;f__Methanobacteriaceae;g__Methanobrevibacter_A;s__Methanobrevibacter_A thaueri    </td><td>84.14</td><td>0.68</td><td>96.99</td><td>11</td><td>0.9866057450935961</td><td>Genome not assigned to closest species as it falls outside its pre-defined ANI radius</td></tr>\n",
       "\t<tr><td>/ebio/abt3_scratch/nyoungblut/LLG_62325884640/genomes/GCA_015062935.1_ASM1506293v1_genomic.fna</td><td>97.6</td><td>0</td><td>GCA_015062935.1_ASM1506293v1_genomic</td><td>p__Euryarchaeota (UID3)</td><td>148</td><td>188</td><td>125</td><td>97.6</td><td>0</td><td>⋯</td><td>N/A</td><td>GCA_900314615.1</td><td>95.0</td><td>d__Archaea;p__Methanobacteriota;c__Methanobacteria;o__Methanobacteriales;f__Methanobacteriaceae;g__Methanobrevibacter_A;s__Methanobrevibacter_A sp900314615</td><td>85.62</td><td>0.69</td><td>97.40</td><td>11</td><td>0.9815758924163569</td><td>Genome not assigned to closest species as it falls outside its pre-defined ANI radius</td></tr>\n",
       "</tbody>\n",
       "</table>\n"
      ],
      "text/latex": [
       "A data.frame: 28 × 60\n",
       "\\begin{tabular}{lllllllllllllllllllll}\n",
       " genome & completeness & contamination & Bin.Id & Marker.lineage & X..genomes & X..markers & X..marker.sets & Completeness & Contamination & ⋯ & fastani\\_af & closest\\_placement\\_reference & closest\\_placement\\_radius & closest\\_placement\\_taxonomy & closest\\_placement\\_ani & closest\\_placement\\_af & msa\\_percent & translation\\_table & red\\_value & warnings\\\\\n",
       " <fct> & <dbl> & <dbl> & <chr> & <fct> & <int> & <int> & <int> & <dbl> & <dbl> & ⋯ & <fct> & <fct> & <fct> & <fct> & <fct> & <fct> & <dbl> & <int> & <fct> & <fct>\\\\\n",
       "\\hline\n",
       "\t /ebio/abt3\\_scratch/nyoungblut/LLG\\_62325884640/genomes/GCA\\_000016525.1\\_ASM1652v1\\_genomic.fna  & 100 & 0 & GCA\\_000016525.1\\_ASM1652v1\\_genomic  & p\\_\\_Euryarchaeota (UID3) & 148 & 188 & 125 & 100 & 0 & ⋯ & 1.0  & GCF\\_000016525.1 & 95.0 & d\\_\\_Archaea;p\\_\\_Methanobacteriota;c\\_\\_Methanobacteria;o\\_\\_Methanobacteriales;f\\_\\_Methanobacteriaceae;g\\_\\_Methanobrevibacter\\_A;s\\_\\_Methanobrevibacter\\_A smithii & 100.0 & 1.0  & 98.09 & 11 & N/A & N/A\\\\\n",
       "\t /ebio/abt3\\_scratch/nyoungblut/LLG\\_62325884640/genomes/GCA\\_000151225.1\\_ASM15122v1\\_genomic.fna & 100 & 0 & GCA\\_000151225.1\\_ASM15122v1\\_genomic & p\\_\\_Euryarchaeota (UID3) & 148 & 188 & 125 & 100 & 0 & ⋯ & 0.95 & GCF\\_000016525.1 & 95.0 & d\\_\\_Archaea;p\\_\\_Methanobacteriota;c\\_\\_Methanobacteria;o\\_\\_Methanobacteriales;f\\_\\_Methanobacteriaceae;g\\_\\_Methanobrevibacter\\_A;s\\_\\_Methanobrevibacter\\_A smithii & 98.32 & 0.95 & 98.09 & 11 & N/A & N/A\\\\\n",
       "\t ⋮ & ⋮ & ⋮ & ⋮ & ⋮ & ⋮ & ⋮ & ⋮ & ⋮ & ⋮ & ⋱ & ⋮ & ⋮ & ⋮ & ⋮ & ⋮ & ⋮ & ⋮ & ⋮ & ⋮ & ⋮\\\\\n",
       "\t /ebio/abt3\\_scratch/nyoungblut/LLG\\_62325884640/genomes/GCA\\_015062915.1\\_ASM1506291v1\\_genomic.fna & 96.8 & 0 & GCA\\_015062915.1\\_ASM1506291v1\\_genomic & p\\_\\_Euryarchaeota (UID3) & 148 & 188 & 125 & 96.8 & 0 & ⋯ & N/A & GCF\\_003111625.1 & 95.0 & d\\_\\_Archaea;p\\_\\_Methanobacteriota;c\\_\\_Methanobacteria;o\\_\\_Methanobacteriales;f\\_\\_Methanobacteriaceae;g\\_\\_Methanobrevibacter\\_A;s\\_\\_Methanobrevibacter\\_A thaueri     & 84.14 & 0.68 & 96.99 & 11 & 0.9866057450935961 & Genome not assigned to closest species as it falls outside its pre-defined ANI radius\\\\\n",
       "\t /ebio/abt3\\_scratch/nyoungblut/LLG\\_62325884640/genomes/GCA\\_015062935.1\\_ASM1506293v1\\_genomic.fna & 97.6 & 0 & GCA\\_015062935.1\\_ASM1506293v1\\_genomic & p\\_\\_Euryarchaeota (UID3) & 148 & 188 & 125 & 97.6 & 0 & ⋯ & N/A & GCA\\_900314615.1 & 95.0 & d\\_\\_Archaea;p\\_\\_Methanobacteriota;c\\_\\_Methanobacteria;o\\_\\_Methanobacteriales;f\\_\\_Methanobacteriaceae;g\\_\\_Methanobrevibacter\\_A;s\\_\\_Methanobrevibacter\\_A sp900314615 & 85.62 & 0.69 & 97.40 & 11 & 0.9815758924163569 & Genome not assigned to closest species as it falls outside its pre-defined ANI radius\\\\\n",
       "\\end{tabular}\n"
      ],
      "text/markdown": [
       "\n",
       "A data.frame: 28 × 60\n",
       "\n",
       "| genome &lt;fct&gt; | completeness &lt;dbl&gt; | contamination &lt;dbl&gt; | Bin.Id &lt;chr&gt; | Marker.lineage &lt;fct&gt; | X..genomes &lt;int&gt; | X..markers &lt;int&gt; | X..marker.sets &lt;int&gt; | Completeness &lt;dbl&gt; | Contamination &lt;dbl&gt; | ⋯ ⋯ | fastani_af &lt;fct&gt; | closest_placement_reference &lt;fct&gt; | closest_placement_radius &lt;fct&gt; | closest_placement_taxonomy &lt;fct&gt; | closest_placement_ani &lt;fct&gt; | closest_placement_af &lt;fct&gt; | msa_percent &lt;dbl&gt; | translation_table &lt;int&gt; | red_value &lt;fct&gt; | warnings &lt;fct&gt; |\n",
       "|---|---|---|---|---|---|---|---|---|---|---|---|---|---|---|---|---|---|---|---|---|\n",
       "| /ebio/abt3_scratch/nyoungblut/LLG_62325884640/genomes/GCA_000016525.1_ASM1652v1_genomic.fna  | 100 | 0 | GCA_000016525.1_ASM1652v1_genomic  | p__Euryarchaeota (UID3) | 148 | 188 | 125 | 100 | 0 | ⋯ | 1.0  | GCF_000016525.1 | 95.0 | d__Archaea;p__Methanobacteriota;c__Methanobacteria;o__Methanobacteriales;f__Methanobacteriaceae;g__Methanobrevibacter_A;s__Methanobrevibacter_A smithii | 100.0 | 1.0  | 98.09 | 11 | N/A | N/A |\n",
       "| /ebio/abt3_scratch/nyoungblut/LLG_62325884640/genomes/GCA_000151225.1_ASM15122v1_genomic.fna | 100 | 0 | GCA_000151225.1_ASM15122v1_genomic | p__Euryarchaeota (UID3) | 148 | 188 | 125 | 100 | 0 | ⋯ | 0.95 | GCF_000016525.1 | 95.0 | d__Archaea;p__Methanobacteriota;c__Methanobacteria;o__Methanobacteriales;f__Methanobacteriaceae;g__Methanobrevibacter_A;s__Methanobrevibacter_A smithii | 98.32 | 0.95 | 98.09 | 11 | N/A | N/A |\n",
       "| ⋮ | ⋮ | ⋮ | ⋮ | ⋮ | ⋮ | ⋮ | ⋮ | ⋮ | ⋮ | ⋱ | ⋮ | ⋮ | ⋮ | ⋮ | ⋮ | ⋮ | ⋮ | ⋮ | ⋮ | ⋮ |\n",
       "| /ebio/abt3_scratch/nyoungblut/LLG_62325884640/genomes/GCA_015062915.1_ASM1506291v1_genomic.fna | 96.8 | 0 | GCA_015062915.1_ASM1506291v1_genomic | p__Euryarchaeota (UID3) | 148 | 188 | 125 | 96.8 | 0 | ⋯ | N/A | GCF_003111625.1 | 95.0 | d__Archaea;p__Methanobacteriota;c__Methanobacteria;o__Methanobacteriales;f__Methanobacteriaceae;g__Methanobrevibacter_A;s__Methanobrevibacter_A thaueri     | 84.14 | 0.68 | 96.99 | 11 | 0.9866057450935961 | Genome not assigned to closest species as it falls outside its pre-defined ANI radius |\n",
       "| /ebio/abt3_scratch/nyoungblut/LLG_62325884640/genomes/GCA_015062935.1_ASM1506293v1_genomic.fna | 97.6 | 0 | GCA_015062935.1_ASM1506293v1_genomic | p__Euryarchaeota (UID3) | 148 | 188 | 125 | 97.6 | 0 | ⋯ | N/A | GCA_900314615.1 | 95.0 | d__Archaea;p__Methanobacteriota;c__Methanobacteria;o__Methanobacteriales;f__Methanobacteriaceae;g__Methanobrevibacter_A;s__Methanobrevibacter_A sp900314615 | 85.62 | 0.69 | 97.40 | 11 | 0.9815758924163569 | Genome not assigned to closest species as it falls outside its pre-defined ANI radius |\n",
       "\n"
      ],
      "text/plain": [
       "   genome                                                                                        \n",
       "1  /ebio/abt3_scratch/nyoungblut/LLG_62325884640/genomes/GCA_000016525.1_ASM1652v1_genomic.fna   \n",
       "2  /ebio/abt3_scratch/nyoungblut/LLG_62325884640/genomes/GCA_000151225.1_ASM15122v1_genomic.fna  \n",
       "⋮  ⋮                                                                                             \n",
       "27 /ebio/abt3_scratch/nyoungblut/LLG_62325884640/genomes/GCA_015062915.1_ASM1506291v1_genomic.fna\n",
       "28 /ebio/abt3_scratch/nyoungblut/LLG_62325884640/genomes/GCA_015062935.1_ASM1506293v1_genomic.fna\n",
       "   completeness contamination Bin.Id                              \n",
       "1  100          0             GCA_000016525.1_ASM1652v1_genomic   \n",
       "2  100          0             GCA_000151225.1_ASM15122v1_genomic  \n",
       "⋮  ⋮            ⋮             ⋮                                   \n",
       "27 96.8         0             GCA_015062915.1_ASM1506291v1_genomic\n",
       "28 97.6         0             GCA_015062935.1_ASM1506293v1_genomic\n",
       "   Marker.lineage          X..genomes X..markers X..marker.sets Completeness\n",
       "1  p__Euryarchaeota (UID3) 148        188        125            100         \n",
       "2  p__Euryarchaeota (UID3) 148        188        125            100         \n",
       "⋮  ⋮                       ⋮          ⋮          ⋮              ⋮           \n",
       "27 p__Euryarchaeota (UID3) 148        188        125            96.8        \n",
       "28 p__Euryarchaeota (UID3) 148        188        125            97.6        \n",
       "   Contamination ⋯ fastani_af closest_placement_reference\n",
       "1  0             ⋯ 1.0        GCF_000016525.1            \n",
       "2  0             ⋯ 0.95       GCF_000016525.1            \n",
       "⋮  ⋮             ⋱ ⋮          ⋮                          \n",
       "27 0             ⋯ N/A        GCF_003111625.1            \n",
       "28 0             ⋯ N/A        GCA_900314615.1            \n",
       "   closest_placement_radius\n",
       "1  95.0                    \n",
       "2  95.0                    \n",
       "⋮  ⋮                       \n",
       "27 95.0                    \n",
       "28 95.0                    \n",
       "   closest_placement_taxonomy                                                                                                                                 \n",
       "1  d__Archaea;p__Methanobacteriota;c__Methanobacteria;o__Methanobacteriales;f__Methanobacteriaceae;g__Methanobrevibacter_A;s__Methanobrevibacter_A smithii    \n",
       "2  d__Archaea;p__Methanobacteriota;c__Methanobacteria;o__Methanobacteriales;f__Methanobacteriaceae;g__Methanobrevibacter_A;s__Methanobrevibacter_A smithii    \n",
       "⋮  ⋮                                                                                                                                                          \n",
       "27 d__Archaea;p__Methanobacteriota;c__Methanobacteria;o__Methanobacteriales;f__Methanobacteriaceae;g__Methanobrevibacter_A;s__Methanobrevibacter_A thaueri    \n",
       "28 d__Archaea;p__Methanobacteriota;c__Methanobacteria;o__Methanobacteriales;f__Methanobacteriaceae;g__Methanobrevibacter_A;s__Methanobrevibacter_A sp900314615\n",
       "   closest_placement_ani closest_placement_af msa_percent translation_table\n",
       "1  100.0                 1.0                  98.09       11               \n",
       "2  98.32                 0.95                 98.09       11               \n",
       "⋮  ⋮                     ⋮                    ⋮           ⋮                \n",
       "27 84.14                 0.68                 96.99       11               \n",
       "28 85.62                 0.69                 97.40       11               \n",
       "   red_value         \n",
       "1  N/A               \n",
       "2  N/A               \n",
       "⋮  ⋮                 \n",
       "27 0.9866057450935961\n",
       "28 0.9815758924163569\n",
       "   warnings                                                                             \n",
       "1  N/A                                                                                  \n",
       "2  N/A                                                                                  \n",
       "⋮  ⋮                                                                                    \n",
       "27 Genome not assigned to closest species as it falls outside its pre-defined ANI radius\n",
       "28 Genome not assigned to closest species as it falls outside its pre-defined ANI radius"
      ]
     },
     "metadata": {},
     "output_type": "display_data"
    }
   ],
   "source": [
    "# filtering by quality\n",
    "hq_genomes = drep %>%\n",
    "    filter(completeness >= 90,\n",
    "           contamination < 5,\n",
    "           Strain.heterogeneity < 50,\n",
    "           X..contigs <= 200,\n",
    "           Mean.contig.length..bp. >= 15000,\n",
    "           N50..contigs. >= 50000)\n",
    "hq_genomes"
   ]
  },
  {
   "cell_type": "code",
   "execution_count": 57,
   "metadata": {
    "execution": {
     "iopub.execute_input": "2021-01-20T17:28:09.774124Z",
     "iopub.status.busy": "2021-01-20T17:28:09.772025Z",
     "iopub.status.idle": "2021-01-20T17:28:09.817966Z"
    }
   },
   "outputs": [
    {
     "data": {
      "text/html": [
       "<table>\n",
       "<caption>A tibble: 5 × 3</caption>\n",
       "<thead>\n",
       "\t<tr><th scope=col>Family</th><th scope=col>Genus</th><th scope=col>n_genomes</th></tr>\n",
       "\t<tr><th scope=col>&lt;chr&gt;</th><th scope=col>&lt;chr&gt;</th><th scope=col>&lt;int&gt;</th></tr>\n",
       "</thead>\n",
       "<tbody>\n",
       "\t<tr><td>f__Methanobacteriaceae</td><td>g__Methanobrevibacter  </td><td> 3</td></tr>\n",
       "\t<tr><td>f__Methanobacteriaceae</td><td>g__Methanobrevibacter_A</td><td>19</td></tr>\n",
       "\t<tr><td>f__Methanobacteriaceae</td><td>g__Methanobrevibacter_B</td><td> 3</td></tr>\n",
       "\t<tr><td>f__Methanobacteriaceae</td><td>g__Methanobrevibacter_C</td><td> 2</td></tr>\n",
       "\t<tr><td>f__Methanobacteriaceae</td><td>g__UBA412              </td><td> 1</td></tr>\n",
       "</tbody>\n",
       "</table>\n"
      ],
      "text/latex": [
       "A tibble: 5 × 3\n",
       "\\begin{tabular}{lll}\n",
       " Family & Genus & n\\_genomes\\\\\n",
       " <chr> & <chr> & <int>\\\\\n",
       "\\hline\n",
       "\t f\\_\\_Methanobacteriaceae & g\\_\\_Methanobrevibacter   &  3\\\\\n",
       "\t f\\_\\_Methanobacteriaceae & g\\_\\_Methanobrevibacter\\_A & 19\\\\\n",
       "\t f\\_\\_Methanobacteriaceae & g\\_\\_Methanobrevibacter\\_B &  3\\\\\n",
       "\t f\\_\\_Methanobacteriaceae & g\\_\\_Methanobrevibacter\\_C &  2\\\\\n",
       "\t f\\_\\_Methanobacteriaceae & g\\_\\_UBA412               &  1\\\\\n",
       "\\end{tabular}\n"
      ],
      "text/markdown": [
       "\n",
       "A tibble: 5 × 3\n",
       "\n",
       "| Family &lt;chr&gt; | Genus &lt;chr&gt; | n_genomes &lt;int&gt; |\n",
       "|---|---|---|\n",
       "| f__Methanobacteriaceae | g__Methanobrevibacter   |  3 |\n",
       "| f__Methanobacteriaceae | g__Methanobrevibacter_A | 19 |\n",
       "| f__Methanobacteriaceae | g__Methanobrevibacter_B |  3 |\n",
       "| f__Methanobacteriaceae | g__Methanobrevibacter_C |  2 |\n",
       "| f__Methanobacteriaceae | g__UBA412               |  1 |\n",
       "\n"
      ],
      "text/plain": [
       "  Family                 Genus                   n_genomes\n",
       "1 f__Methanobacteriaceae g__Methanobrevibacter    3       \n",
       "2 f__Methanobacteriaceae g__Methanobrevibacter_A 19       \n",
       "3 f__Methanobacteriaceae g__Methanobrevibacter_B  3       \n",
       "4 f__Methanobacteriaceae g__Methanobrevibacter_C  2       \n",
       "5 f__Methanobacteriaceae g__UBA412                1       "
      ]
     },
     "metadata": {},
     "output_type": "display_data"
    }
   ],
   "source": [
    "# summarizing the taxonomy\n",
    "df.dims(20)\n",
    "hq_genomes %>%\n",
    "    group_by(Family, Genus) %>%\n",
    "    summarize(n_genomes = n(), .groups='drop')\n",
    "df.dims()"
   ]
  },
  {
   "cell_type": "code",
   "execution_count": 58,
   "metadata": {
    "execution": {
     "iopub.execute_input": "2021-01-20T17:28:11.437284Z",
     "iopub.status.busy": "2021-01-20T17:28:11.435218Z",
     "iopub.status.idle": "2021-01-20T17:28:11.487613Z"
    }
   },
   "outputs": [
    {
     "data": {
      "text/html": [
       "<table>\n",
       "<caption>A data.frame: 27 × 60</caption>\n",
       "<thead>\n",
       "\t<tr><th scope=col>genome</th><th scope=col>completeness</th><th scope=col>contamination</th><th scope=col>Bin.Id</th><th scope=col>Marker.lineage</th><th scope=col>X..genomes</th><th scope=col>X..markers</th><th scope=col>X..marker.sets</th><th scope=col>Completeness</th><th scope=col>Contamination</th><th scope=col>⋯</th><th scope=col>fastani_af</th><th scope=col>closest_placement_reference</th><th scope=col>closest_placement_radius</th><th scope=col>closest_placement_taxonomy</th><th scope=col>closest_placement_ani</th><th scope=col>closest_placement_af</th><th scope=col>msa_percent</th><th scope=col>translation_table</th><th scope=col>red_value</th><th scope=col>warnings</th></tr>\n",
       "\t<tr><th scope=col>&lt;fct&gt;</th><th scope=col>&lt;dbl&gt;</th><th scope=col>&lt;dbl&gt;</th><th scope=col>&lt;chr&gt;</th><th scope=col>&lt;fct&gt;</th><th scope=col>&lt;int&gt;</th><th scope=col>&lt;int&gt;</th><th scope=col>&lt;int&gt;</th><th scope=col>&lt;dbl&gt;</th><th scope=col>&lt;dbl&gt;</th><th scope=col>⋯</th><th scope=col>&lt;fct&gt;</th><th scope=col>&lt;fct&gt;</th><th scope=col>&lt;fct&gt;</th><th scope=col>&lt;fct&gt;</th><th scope=col>&lt;fct&gt;</th><th scope=col>&lt;fct&gt;</th><th scope=col>&lt;dbl&gt;</th><th scope=col>&lt;int&gt;</th><th scope=col>&lt;fct&gt;</th><th scope=col>&lt;fct&gt;</th></tr>\n",
       "</thead>\n",
       "<tbody>\n",
       "\t<tr><td>/ebio/abt3_scratch/nyoungblut/LLG_62325884640/genomes/GCA_000016525.1_ASM1652v1_genomic.fna </td><td>100</td><td>0</td><td>GCA_000016525.1_ASM1652v1_genomic </td><td>p__Euryarchaeota (UID3)</td><td>148</td><td>188</td><td>125</td><td>100</td><td>0</td><td>⋯</td><td>1.0 </td><td>GCF_000016525.1</td><td>95.0</td><td>d__Archaea;p__Methanobacteriota;c__Methanobacteria;o__Methanobacteriales;f__Methanobacteriaceae;g__Methanobrevibacter_A;s__Methanobrevibacter_A smithii</td><td>100.0</td><td>1.0 </td><td>98.09</td><td>11</td><td>N/A</td><td>N/A</td></tr>\n",
       "\t<tr><td>/ebio/abt3_scratch/nyoungblut/LLG_62325884640/genomes/GCA_000151225.1_ASM15122v1_genomic.fna</td><td>100</td><td>0</td><td>GCA_000151225.1_ASM15122v1_genomic</td><td>p__Euryarchaeota (UID3)</td><td>148</td><td>188</td><td>125</td><td>100</td><td>0</td><td>⋯</td><td>0.95</td><td>GCF_000016525.1</td><td>95.0</td><td>d__Archaea;p__Methanobacteriota;c__Methanobacteria;o__Methanobacteriales;f__Methanobacteriaceae;g__Methanobrevibacter_A;s__Methanobrevibacter_A smithii</td><td>98.32</td><td>0.95</td><td>98.09</td><td>11</td><td>N/A</td><td>N/A</td></tr>\n",
       "\t<tr><td>⋮</td><td>⋮</td><td>⋮</td><td>⋮</td><td>⋮</td><td>⋮</td><td>⋮</td><td>⋮</td><td>⋮</td><td>⋮</td><td>⋱</td><td>⋮</td><td>⋮</td><td>⋮</td><td>⋮</td><td>⋮</td><td>⋮</td><td>⋮</td><td>⋮</td><td>⋮</td><td>⋮</td></tr>\n",
       "\t<tr><td>/ebio/abt3_scratch/nyoungblut/LLG_62325884640/genomes/GCA_015062915.1_ASM1506291v1_genomic.fna</td><td>96.8</td><td>0</td><td>GCA_015062915.1_ASM1506291v1_genomic</td><td>p__Euryarchaeota (UID3)</td><td>148</td><td>188</td><td>125</td><td>96.8</td><td>0</td><td>⋯</td><td>N/A</td><td>GCF_003111625.1</td><td>95.0</td><td>d__Archaea;p__Methanobacteriota;c__Methanobacteria;o__Methanobacteriales;f__Methanobacteriaceae;g__Methanobrevibacter_A;s__Methanobrevibacter_A thaueri    </td><td>84.14</td><td>0.68</td><td>96.99</td><td>11</td><td>0.9866057450935961</td><td>Genome not assigned to closest species as it falls outside its pre-defined ANI radius</td></tr>\n",
       "\t<tr><td>/ebio/abt3_scratch/nyoungblut/LLG_62325884640/genomes/GCA_015062935.1_ASM1506293v1_genomic.fna</td><td>97.6</td><td>0</td><td>GCA_015062935.1_ASM1506293v1_genomic</td><td>p__Euryarchaeota (UID3)</td><td>148</td><td>188</td><td>125</td><td>97.6</td><td>0</td><td>⋯</td><td>N/A</td><td>GCA_900314615.1</td><td>95.0</td><td>d__Archaea;p__Methanobacteriota;c__Methanobacteria;o__Methanobacteriales;f__Methanobacteriaceae;g__Methanobrevibacter_A;s__Methanobrevibacter_A sp900314615</td><td>85.62</td><td>0.69</td><td>97.40</td><td>11</td><td>0.9815758924163569</td><td>Genome not assigned to closest species as it falls outside its pre-defined ANI radius</td></tr>\n",
       "</tbody>\n",
       "</table>\n"
      ],
      "text/latex": [
       "A data.frame: 27 × 60\n",
       "\\begin{tabular}{lllllllllllllllllllll}\n",
       " genome & completeness & contamination & Bin.Id & Marker.lineage & X..genomes & X..markers & X..marker.sets & Completeness & Contamination & ⋯ & fastani\\_af & closest\\_placement\\_reference & closest\\_placement\\_radius & closest\\_placement\\_taxonomy & closest\\_placement\\_ani & closest\\_placement\\_af & msa\\_percent & translation\\_table & red\\_value & warnings\\\\\n",
       " <fct> & <dbl> & <dbl> & <chr> & <fct> & <int> & <int> & <int> & <dbl> & <dbl> & ⋯ & <fct> & <fct> & <fct> & <fct> & <fct> & <fct> & <dbl> & <int> & <fct> & <fct>\\\\\n",
       "\\hline\n",
       "\t /ebio/abt3\\_scratch/nyoungblut/LLG\\_62325884640/genomes/GCA\\_000016525.1\\_ASM1652v1\\_genomic.fna  & 100 & 0 & GCA\\_000016525.1\\_ASM1652v1\\_genomic  & p\\_\\_Euryarchaeota (UID3) & 148 & 188 & 125 & 100 & 0 & ⋯ & 1.0  & GCF\\_000016525.1 & 95.0 & d\\_\\_Archaea;p\\_\\_Methanobacteriota;c\\_\\_Methanobacteria;o\\_\\_Methanobacteriales;f\\_\\_Methanobacteriaceae;g\\_\\_Methanobrevibacter\\_A;s\\_\\_Methanobrevibacter\\_A smithii & 100.0 & 1.0  & 98.09 & 11 & N/A & N/A\\\\\n",
       "\t /ebio/abt3\\_scratch/nyoungblut/LLG\\_62325884640/genomes/GCA\\_000151225.1\\_ASM15122v1\\_genomic.fna & 100 & 0 & GCA\\_000151225.1\\_ASM15122v1\\_genomic & p\\_\\_Euryarchaeota (UID3) & 148 & 188 & 125 & 100 & 0 & ⋯ & 0.95 & GCF\\_000016525.1 & 95.0 & d\\_\\_Archaea;p\\_\\_Methanobacteriota;c\\_\\_Methanobacteria;o\\_\\_Methanobacteriales;f\\_\\_Methanobacteriaceae;g\\_\\_Methanobrevibacter\\_A;s\\_\\_Methanobrevibacter\\_A smithii & 98.32 & 0.95 & 98.09 & 11 & N/A & N/A\\\\\n",
       "\t ⋮ & ⋮ & ⋮ & ⋮ & ⋮ & ⋮ & ⋮ & ⋮ & ⋮ & ⋮ & ⋱ & ⋮ & ⋮ & ⋮ & ⋮ & ⋮ & ⋮ & ⋮ & ⋮ & ⋮ & ⋮\\\\\n",
       "\t /ebio/abt3\\_scratch/nyoungblut/LLG\\_62325884640/genomes/GCA\\_015062915.1\\_ASM1506291v1\\_genomic.fna & 96.8 & 0 & GCA\\_015062915.1\\_ASM1506291v1\\_genomic & p\\_\\_Euryarchaeota (UID3) & 148 & 188 & 125 & 96.8 & 0 & ⋯ & N/A & GCF\\_003111625.1 & 95.0 & d\\_\\_Archaea;p\\_\\_Methanobacteriota;c\\_\\_Methanobacteria;o\\_\\_Methanobacteriales;f\\_\\_Methanobacteriaceae;g\\_\\_Methanobrevibacter\\_A;s\\_\\_Methanobrevibacter\\_A thaueri     & 84.14 & 0.68 & 96.99 & 11 & 0.9866057450935961 & Genome not assigned to closest species as it falls outside its pre-defined ANI radius\\\\\n",
       "\t /ebio/abt3\\_scratch/nyoungblut/LLG\\_62325884640/genomes/GCA\\_015062935.1\\_ASM1506293v1\\_genomic.fna & 97.6 & 0 & GCA\\_015062935.1\\_ASM1506293v1\\_genomic & p\\_\\_Euryarchaeota (UID3) & 148 & 188 & 125 & 97.6 & 0 & ⋯ & N/A & GCA\\_900314615.1 & 95.0 & d\\_\\_Archaea;p\\_\\_Methanobacteriota;c\\_\\_Methanobacteria;o\\_\\_Methanobacteriales;f\\_\\_Methanobacteriaceae;g\\_\\_Methanobrevibacter\\_A;s\\_\\_Methanobrevibacter\\_A sp900314615 & 85.62 & 0.69 & 97.40 & 11 & 0.9815758924163569 & Genome not assigned to closest species as it falls outside its pre-defined ANI radius\\\\\n",
       "\\end{tabular}\n"
      ],
      "text/markdown": [
       "\n",
       "A data.frame: 27 × 60\n",
       "\n",
       "| genome &lt;fct&gt; | completeness &lt;dbl&gt; | contamination &lt;dbl&gt; | Bin.Id &lt;chr&gt; | Marker.lineage &lt;fct&gt; | X..genomes &lt;int&gt; | X..markers &lt;int&gt; | X..marker.sets &lt;int&gt; | Completeness &lt;dbl&gt; | Contamination &lt;dbl&gt; | ⋯ ⋯ | fastani_af &lt;fct&gt; | closest_placement_reference &lt;fct&gt; | closest_placement_radius &lt;fct&gt; | closest_placement_taxonomy &lt;fct&gt; | closest_placement_ani &lt;fct&gt; | closest_placement_af &lt;fct&gt; | msa_percent &lt;dbl&gt; | translation_table &lt;int&gt; | red_value &lt;fct&gt; | warnings &lt;fct&gt; |\n",
       "|---|---|---|---|---|---|---|---|---|---|---|---|---|---|---|---|---|---|---|---|---|\n",
       "| /ebio/abt3_scratch/nyoungblut/LLG_62325884640/genomes/GCA_000016525.1_ASM1652v1_genomic.fna  | 100 | 0 | GCA_000016525.1_ASM1652v1_genomic  | p__Euryarchaeota (UID3) | 148 | 188 | 125 | 100 | 0 | ⋯ | 1.0  | GCF_000016525.1 | 95.0 | d__Archaea;p__Methanobacteriota;c__Methanobacteria;o__Methanobacteriales;f__Methanobacteriaceae;g__Methanobrevibacter_A;s__Methanobrevibacter_A smithii | 100.0 | 1.0  | 98.09 | 11 | N/A | N/A |\n",
       "| /ebio/abt3_scratch/nyoungblut/LLG_62325884640/genomes/GCA_000151225.1_ASM15122v1_genomic.fna | 100 | 0 | GCA_000151225.1_ASM15122v1_genomic | p__Euryarchaeota (UID3) | 148 | 188 | 125 | 100 | 0 | ⋯ | 0.95 | GCF_000016525.1 | 95.0 | d__Archaea;p__Methanobacteriota;c__Methanobacteria;o__Methanobacteriales;f__Methanobacteriaceae;g__Methanobrevibacter_A;s__Methanobrevibacter_A smithii | 98.32 | 0.95 | 98.09 | 11 | N/A | N/A |\n",
       "| ⋮ | ⋮ | ⋮ | ⋮ | ⋮ | ⋮ | ⋮ | ⋮ | ⋮ | ⋮ | ⋱ | ⋮ | ⋮ | ⋮ | ⋮ | ⋮ | ⋮ | ⋮ | ⋮ | ⋮ | ⋮ |\n",
       "| /ebio/abt3_scratch/nyoungblut/LLG_62325884640/genomes/GCA_015062915.1_ASM1506291v1_genomic.fna | 96.8 | 0 | GCA_015062915.1_ASM1506291v1_genomic | p__Euryarchaeota (UID3) | 148 | 188 | 125 | 96.8 | 0 | ⋯ | N/A | GCF_003111625.1 | 95.0 | d__Archaea;p__Methanobacteriota;c__Methanobacteria;o__Methanobacteriales;f__Methanobacteriaceae;g__Methanobrevibacter_A;s__Methanobrevibacter_A thaueri     | 84.14 | 0.68 | 96.99 | 11 | 0.9866057450935961 | Genome not assigned to closest species as it falls outside its pre-defined ANI radius |\n",
       "| /ebio/abt3_scratch/nyoungblut/LLG_62325884640/genomes/GCA_015062935.1_ASM1506293v1_genomic.fna | 97.6 | 0 | GCA_015062935.1_ASM1506293v1_genomic | p__Euryarchaeota (UID3) | 148 | 188 | 125 | 97.6 | 0 | ⋯ | N/A | GCA_900314615.1 | 95.0 | d__Archaea;p__Methanobacteriota;c__Methanobacteria;o__Methanobacteriales;f__Methanobacteriaceae;g__Methanobrevibacter_A;s__Methanobrevibacter_A sp900314615 | 85.62 | 0.69 | 97.40 | 11 | 0.9815758924163569 | Genome not assigned to closest species as it falls outside its pre-defined ANI radius |\n",
       "\n"
      ],
      "text/plain": [
       "   genome                                                                                        \n",
       "1  /ebio/abt3_scratch/nyoungblut/LLG_62325884640/genomes/GCA_000016525.1_ASM1652v1_genomic.fna   \n",
       "2  /ebio/abt3_scratch/nyoungblut/LLG_62325884640/genomes/GCA_000151225.1_ASM15122v1_genomic.fna  \n",
       "⋮  ⋮                                                                                             \n",
       "26 /ebio/abt3_scratch/nyoungblut/LLG_62325884640/genomes/GCA_015062915.1_ASM1506291v1_genomic.fna\n",
       "27 /ebio/abt3_scratch/nyoungblut/LLG_62325884640/genomes/GCA_015062935.1_ASM1506293v1_genomic.fna\n",
       "   completeness contamination Bin.Id                              \n",
       "1  100          0             GCA_000016525.1_ASM1652v1_genomic   \n",
       "2  100          0             GCA_000151225.1_ASM15122v1_genomic  \n",
       "⋮  ⋮            ⋮             ⋮                                   \n",
       "26 96.8         0             GCA_015062915.1_ASM1506291v1_genomic\n",
       "27 97.6         0             GCA_015062935.1_ASM1506293v1_genomic\n",
       "   Marker.lineage          X..genomes X..markers X..marker.sets Completeness\n",
       "1  p__Euryarchaeota (UID3) 148        188        125            100         \n",
       "2  p__Euryarchaeota (UID3) 148        188        125            100         \n",
       "⋮  ⋮                       ⋮          ⋮          ⋮              ⋮           \n",
       "26 p__Euryarchaeota (UID3) 148        188        125            96.8        \n",
       "27 p__Euryarchaeota (UID3) 148        188        125            97.6        \n",
       "   Contamination ⋯ fastani_af closest_placement_reference\n",
       "1  0             ⋯ 1.0        GCF_000016525.1            \n",
       "2  0             ⋯ 0.95       GCF_000016525.1            \n",
       "⋮  ⋮             ⋱ ⋮          ⋮                          \n",
       "26 0             ⋯ N/A        GCF_003111625.1            \n",
       "27 0             ⋯ N/A        GCA_900314615.1            \n",
       "   closest_placement_radius\n",
       "1  95.0                    \n",
       "2  95.0                    \n",
       "⋮  ⋮                       \n",
       "26 95.0                    \n",
       "27 95.0                    \n",
       "   closest_placement_taxonomy                                                                                                                                 \n",
       "1  d__Archaea;p__Methanobacteriota;c__Methanobacteria;o__Methanobacteriales;f__Methanobacteriaceae;g__Methanobrevibacter_A;s__Methanobrevibacter_A smithii    \n",
       "2  d__Archaea;p__Methanobacteriota;c__Methanobacteria;o__Methanobacteriales;f__Methanobacteriaceae;g__Methanobrevibacter_A;s__Methanobrevibacter_A smithii    \n",
       "⋮  ⋮                                                                                                                                                          \n",
       "26 d__Archaea;p__Methanobacteriota;c__Methanobacteria;o__Methanobacteriales;f__Methanobacteriaceae;g__Methanobrevibacter_A;s__Methanobrevibacter_A thaueri    \n",
       "27 d__Archaea;p__Methanobacteriota;c__Methanobacteria;o__Methanobacteriales;f__Methanobacteriaceae;g__Methanobrevibacter_A;s__Methanobrevibacter_A sp900314615\n",
       "   closest_placement_ani closest_placement_af msa_percent translation_table\n",
       "1  100.0                 1.0                  98.09       11               \n",
       "2  98.32                 0.95                 98.09       11               \n",
       "⋮  ⋮                     ⋮                    ⋮           ⋮                \n",
       "26 84.14                 0.68                 96.99       11               \n",
       "27 85.62                 0.69                 97.40       11               \n",
       "   red_value         \n",
       "1  N/A               \n",
       "2  N/A               \n",
       "⋮  ⋮                 \n",
       "26 0.9866057450935961\n",
       "27 0.9815758924163569\n",
       "   warnings                                                                             \n",
       "1  N/A                                                                                  \n",
       "2  N/A                                                                                  \n",
       "⋮  ⋮                                                                                    \n",
       "26 Genome not assigned to closest species as it falls outside its pre-defined ANI radius\n",
       "27 Genome not assigned to closest species as it falls outside its pre-defined ANI radius"
      ]
     },
     "metadata": {},
     "output_type": "display_data"
    }
   ],
   "source": [
    "# filtering by taxonomy\n",
    "hq_genomes = hq_genomes %>%\n",
    "    filter(grepl('Methanobrevibacter', Genus)) \n",
    "hq_genomes"
   ]
  },
  {
   "cell_type": "code",
   "execution_count": 60,
   "metadata": {
    "execution": {
     "iopub.execute_input": "2021-01-20T17:28:37.941608Z",
     "iopub.status.busy": "2021-01-20T17:28:37.939534Z",
     "iopub.status.idle": "2021-01-20T17:28:37.992904Z"
    }
   },
   "outputs": [
    {
     "data": {
      "text/html": [
       "<table>\n",
       "<caption>A matrix: 1 × 8 of type dbl</caption>\n",
       "<thead>\n",
       "\t<tr><th></th><th scope=col>Min.</th><th scope=col>1st Qu.</th><th scope=col>Median</th><th scope=col>Mean</th><th scope=col>3rd Qu.</th><th scope=col>Max.</th><th scope=col>sd</th><th scope=col>sd_err_of_mean</th></tr>\n",
       "</thead>\n",
       "<tbody>\n",
       "\t<tr><th scope=row>No. of contigs</th><td>1</td><td>6</td><td>35</td><td>32.55556</td><td>45.5</td><td>176</td><td>64.436</td><td>26.306</td></tr>\n",
       "</tbody>\n",
       "</table>\n"
      ],
      "text/latex": [
       "A matrix: 1 × 8 of type dbl\n",
       "\\begin{tabular}{r|llllllll}\n",
       "  & Min. & 1st Qu. & Median & Mean & 3rd Qu. & Max. & sd & sd\\_err\\_of\\_mean\\\\\n",
       "\\hline\n",
       "\tNo. of contigs & 1 & 6 & 35 & 32.55556 & 45.5 & 176 & 64.436 & 26.306\\\\\n",
       "\\end{tabular}\n"
      ],
      "text/markdown": [
       "\n",
       "A matrix: 1 × 8 of type dbl\n",
       "\n",
       "| <!--/--> | Min. | 1st Qu. | Median | Mean | 3rd Qu. | Max. | sd | sd_err_of_mean |\n",
       "|---|---|---|---|---|---|---|---|---|\n",
       "| No. of contigs | 1 | 6 | 35 | 32.55556 | 45.5 | 176 | 64.436 | 26.306 |\n",
       "\n"
      ],
      "text/plain": [
       "               Min. 1st Qu. Median Mean     3rd Qu. Max. sd     sd_err_of_mean\n",
       "No. of contigs 1    6       35     32.55556 45.5    176  64.436 26.306        "
      ]
     },
     "metadata": {},
     "output_type": "display_data"
    },
    {
     "data": {
      "text/html": [
       "<table>\n",
       "<caption>A matrix: 1 × 8 of type dbl</caption>\n",
       "<thead>\n",
       "\t<tr><th></th><th scope=col>Min.</th><th scope=col>1st Qu.</th><th scope=col>Median</th><th scope=col>Mean</th><th scope=col>3rd Qu.</th><th scope=col>Max.</th><th scope=col>sd</th><th scope=col>sd_err_of_mean</th></tr>\n",
       "</thead>\n",
       "<tbody>\n",
       "\t<tr><th scope=row>Mean contig length</th><td>15742</td><td>43325</td><td>61125</td><td>551174.7</td><td>356244.5</td><td>2937203</td><td>1135233</td><td>463456.9</td></tr>\n",
       "</tbody>\n",
       "</table>\n"
      ],
      "text/latex": [
       "A matrix: 1 × 8 of type dbl\n",
       "\\begin{tabular}{r|llllllll}\n",
       "  & Min. & 1st Qu. & Median & Mean & 3rd Qu. & Max. & sd & sd\\_err\\_of\\_mean\\\\\n",
       "\\hline\n",
       "\tMean contig length & 15742 & 43325 & 61125 & 551174.7 & 356244.5 & 2937203 & 1135233 & 463456.9\\\\\n",
       "\\end{tabular}\n"
      ],
      "text/markdown": [
       "\n",
       "A matrix: 1 × 8 of type dbl\n",
       "\n",
       "| <!--/--> | Min. | 1st Qu. | Median | Mean | 3rd Qu. | Max. | sd | sd_err_of_mean |\n",
       "|---|---|---|---|---|---|---|---|---|\n",
       "| Mean contig length | 15742 | 43325 | 61125 | 551174.7 | 356244.5 | 2937203 | 1135233 | 463456.9 |\n",
       "\n"
      ],
      "text/plain": [
       "                   Min.  1st Qu. Median Mean     3rd Qu.  Max.    sd     \n",
       "Mean contig length 15742 43325   61125  551174.7 356244.5 2937203 1135233\n",
       "                   sd_err_of_mean\n",
       "Mean contig length 463456.9      "
      ]
     },
     "metadata": {},
     "output_type": "display_data"
    },
    {
     "data": {
      "text/html": [
       "<table>\n",
       "<caption>A matrix: 1 × 8 of type dbl</caption>\n",
       "<thead>\n",
       "\t<tr><th></th><th scope=col>Min.</th><th scope=col>1st Qu.</th><th scope=col>Median</th><th scope=col>Mean</th><th scope=col>3rd Qu.</th><th scope=col>Max.</th><th scope=col>sd</th><th scope=col>sd_err_of_mean</th></tr>\n",
       "</thead>\n",
       "<tbody>\n",
       "\t<tr><th scope=row>No. of genes</th><td>1585</td><td>1752.5</td><td>1841</td><td>1918.778</td><td>1984</td><td>2888</td><td>459.13</td><td>187.439</td></tr>\n",
       "</tbody>\n",
       "</table>\n"
      ],
      "text/latex": [
       "A matrix: 1 × 8 of type dbl\n",
       "\\begin{tabular}{r|llllllll}\n",
       "  & Min. & 1st Qu. & Median & Mean & 3rd Qu. & Max. & sd & sd\\_err\\_of\\_mean\\\\\n",
       "\\hline\n",
       "\tNo. of genes & 1585 & 1752.5 & 1841 & 1918.778 & 1984 & 2888 & 459.13 & 187.439\\\\\n",
       "\\end{tabular}\n"
      ],
      "text/markdown": [
       "\n",
       "A matrix: 1 × 8 of type dbl\n",
       "\n",
       "| <!--/--> | Min. | 1st Qu. | Median | Mean | 3rd Qu. | Max. | sd | sd_err_of_mean |\n",
       "|---|---|---|---|---|---|---|---|---|\n",
       "| No. of genes | 1585 | 1752.5 | 1841 | 1918.778 | 1984 | 2888 | 459.13 | 187.439 |\n",
       "\n"
      ],
      "text/plain": [
       "             Min. 1st Qu. Median Mean     3rd Qu. Max. sd     sd_err_of_mean\n",
       "No. of genes 1585 1752.5  1841   1918.778 1984    2888 459.13 187.439       "
      ]
     },
     "metadata": {},
     "output_type": "display_data"
    },
    {
     "data": {
      "text/html": [
       "<table>\n",
       "<caption>A matrix: 1 × 8 of type dbl</caption>\n",
       "<thead>\n",
       "\t<tr><th></th><th scope=col>Min.</th><th scope=col>1st Qu.</th><th scope=col>Median</th><th scope=col>Mean</th><th scope=col>3rd Qu.</th><th scope=col>Max.</th><th scope=col>sd</th><th scope=col>sd_err_of_mean</th></tr>\n",
       "</thead>\n",
       "<tbody>\n",
       "\t<tr><th scope=row>N50</th><td>83719</td><td>103966</td><td>127214</td><td>674844.8</td><td>1103877</td><td>2937203</td><td>1106067</td><td>451550.1</td></tr>\n",
       "</tbody>\n",
       "</table>\n"
      ],
      "text/latex": [
       "A matrix: 1 × 8 of type dbl\n",
       "\\begin{tabular}{r|llllllll}\n",
       "  & Min. & 1st Qu. & Median & Mean & 3rd Qu. & Max. & sd & sd\\_err\\_of\\_mean\\\\\n",
       "\\hline\n",
       "\tN50 & 83719 & 103966 & 127214 & 674844.8 & 1103877 & 2937203 & 1106067 & 451550.1\\\\\n",
       "\\end{tabular}\n"
      ],
      "text/markdown": [
       "\n",
       "A matrix: 1 × 8 of type dbl\n",
       "\n",
       "| <!--/--> | Min. | 1st Qu. | Median | Mean | 3rd Qu. | Max. | sd | sd_err_of_mean |\n",
       "|---|---|---|---|---|---|---|---|---|\n",
       "| N50 | 83719 | 103966 | 127214 | 674844.8 | 1103877 | 2937203 | 1106067 | 451550.1 |\n",
       "\n"
      ],
      "text/plain": [
       "    Min.  1st Qu. Median Mean     3rd Qu. Max.    sd      sd_err_of_mean\n",
       "N50 83719 103966  127214 674844.8 1103877 2937203 1106067 451550.1      "
      ]
     },
     "metadata": {},
     "output_type": "display_data"
    }
   ],
   "source": [
    "# summarizing\n",
    "hq_genomes$X..contigs %>% summary_x('No. of contigs')\n",
    "hq_genomes$Mean.contig.length..bp. %>% summary_x('Mean contig length')\n",
    "hq_genomes$X..predicted.genes %>% summary_x('No. of genes')\n",
    "hq_genomes$N50..contigs. %>% summary_x('N50')"
   ]
  },
  {
   "cell_type": "code",
   "execution_count": 61,
   "metadata": {
    "execution": {
     "iopub.execute_input": "2021-01-20T17:28:43.910010Z",
     "iopub.status.busy": "2021-01-20T17:28:43.907860Z",
     "iopub.status.idle": "2021-01-20T17:28:43.941228Z"
    }
   },
   "outputs": [
    {
     "name": "stdout",
     "output_type": "stream",
     "text": [
      "File written: /ebio/abt3_projects/software/dev/ll_pipelines/llprimer/experiments/methanobrevibacter/samples_genomes_hq.txt \n"
     ]
    }
   ],
   "source": [
    "# writing samples table for LLPRIMER\n",
    "outfile = file.path(work_dir, 'samples_genomes_hq.txt')\n",
    "hq_genomes %>%\n",
    "    select(Bin.Id, Fasta) %>%\n",
    "    rename('Taxon' = Bin.Id) %>%\n",
    "    mutate(Taxon = gsub('_chromosome.+', '', Taxon),\n",
    "           Taxon = gsub('_bin_.+', '', Taxon),\n",
    "           Taxon = gsub('_genomic', '', Taxon),\n",
    "           Taxon = gsub('_annotated_assembly', '', Taxon),\n",
    "           Taxid = taxid) %>%\n",
    "    write_table(outfile)"
   ]
  },
  {
   "cell_type": "markdown",
   "metadata": {},
   "source": [
    "# Primer design"
   ]
  },
  {
   "cell_type": "markdown",
   "metadata": {},
   "source": [
    "### Config"
   ]
  },
  {
   "cell_type": "code",
   "execution_count": 23,
   "metadata": {
    "execution": {
     "iopub.execute_input": "2021-01-20T07:41:42.918772Z",
     "iopub.status.busy": "2021-01-20T07:41:42.917080Z",
     "iopub.status.idle": "2021-01-20T07:41:42.948973Z"
    }
   },
   "outputs": [
    {
     "name": "stdout",
     "output_type": "stream",
     "text": [
      "#-- I/O --#\n",
      "samples_file: /ebio/abt3_projects/software/dev/ll_pipelines/llprimer/experiments/methanobrevibacter/samples_genomes_hq.txt\n",
      "\n",
      "# output location\n",
      "output_dir: /ebio/abt3_projects/software/dev/ll_pipelines/llprimer/experiments/methanobrevibacter/primers/\n",
      "\n",
      "# temporary file directory (your username will be added automatically)\n",
      "tmp_dir: /ebio/abt3_scratch/\n",
      "\n",
      "#-- software parameters --#\n",
      "# See the README for a description\n",
      "params:\n",
      "  ionice: -c 3\n",
      "  cgp:\n",
      "    prodigal: \"\"    \n",
      "    mmseqs:\n",
      "      method: cluster    # or linclust (faster)\n",
      "      run: --min-seq-id 0.8 -c 0.8\n",
      "    core_genes: --frac 1 --max-clusters 500\n",
      "    blastx: -evalue 1e-10 -max_target_seqs 3\n",
      "    blastx_nontarget: -evalue 1e-5 -max_target_seqs 30\n",
      "    align:\n",
      "      method: linsi\n",
      "      params: --auto --maxiterate 1000\n",
      "    primer3:\n",
      "      number: --num-primers 500\n",
      "      size: --opt-size 20 --min-size 18 --max-size 24\n",
      "      product: --opt-prod-size 150 --min-prod-size 100 --max-prod-size 200\n",
      "      Tm: --opt-tm 62 --min-tm 55 --max-tm 70 --max-tm-diff 1\n",
      "      PCR: --oligo-DNA 50 --salt-monovalent 50 --salt-divalent 1.5 --dNTPs 0.2\n",
      "      GC: --opt-gc 50 --min-gc 25 --max-gc 75\n",
      "      degeneracy: --max-degeneracy 128 --max-degeneracy-3prime 1 --window-3prime 5\n",
      "      internal_oligo: --make-oligo 0 --int-opt-size 20 --int-opt-tm 60\n",
      "    blastn: -max_target_seqs 500 -perc_identity 90\n",
      "    blast_filter: --perc-len 80 --min-amplicon-len 30 --max-amplicon-len 2000    \n",
      "\n",
      "#-- database --#\n",
      "databases:\n",
      "  blast:\n",
      "    nucl: /ebio/abt3_projects/databases_no-backup/NCBI_blastdb/nt\n",
      "    prot: /ebio/abt3_projects/databases_no-backup/NCBI_blastdb/nr\n",
      "    gene_names: /ebio/abt3_projects/databases_no-backup/NCBI_nr_geneIDs/2021-01/nr_accession-geneNames.pkl\n",
      "  taxonomy:\n",
      "    names: /ebio/abt3_projects/databases_no-backup/NCBI_taxonomy/2020-12-23/names.dmp\n",
      "    nodes: /ebio/abt3_projects/databases_no-backup/NCBI_taxonomy/2020-12-23/nodes.dmp\n",
      "\n",
      "#-- snakemake pipeline --#\n",
      "pipeline:\n",
      "  snakemake_folder: ./\n",
      "  script_folder: bin/scripts/\n",
      "  name: LLPRIMER"
     ]
    }
   ],
   "source": [
    "F = file.path(work_dir, 'primers', 'config.yaml')\n",
    "cat_file(F)"
   ]
  },
  {
   "cell_type": "markdown",
   "metadata": {},
   "source": [
    "### Run"
   ]
  },
  {
   "cell_type": "markdown",
   "metadata": {
    "execution": {
     "iopub.execute_input": "2021-01-19T18:46:20.385110Z",
     "iopub.status.busy": "2021-01-19T18:46:20.382868Z",
     "iopub.status.idle": "2021-01-19T18:46:20.399150Z"
    }
   },
   "source": [
    "```\n",
    "(snakemake) @ rick:/ebio/abt3_projects/software/dev/ll_pipelines/llprimer\n",
    "$ screen -L  -S llprimer-brevi ./snakemake_sge.sh /ebio/abt3_projects/software/dev/ll_pipelines/llprimer/experiments/methanobrevibacter/primers/config.yaml 30 -F\n",
    "```"
   ]
  },
  {
   "cell_type": "markdown",
   "metadata": {},
   "source": [
    "### Summary"
   ]
  },
  {
   "cell_type": "code",
   "execution_count": 62,
   "metadata": {
    "execution": {
     "iopub.execute_input": "2021-01-20T20:09:36.799769Z",
     "iopub.status.busy": "2021-01-20T20:09:36.797545Z",
     "iopub.status.idle": "2021-01-20T20:09:36.890269Z"
    }
   },
   "outputs": [
    {
     "name": "stdout",
     "output_type": "stream",
     "text": [
      "No. of unique primer sets: 5 \n"
     ]
    },
    {
     "data": {
      "text/html": [
       "<table>\n",
       "<caption>A data.frame: 10 × 21</caption>\n",
       "<thead>\n",
       "\t<tr><th scope=col>cluster_id</th><th scope=col>primer_set</th><th scope=col>amplicon_size_consensus</th><th scope=col>amplicon_size_avg</th><th scope=col>amplicon_size_sd</th><th scope=col>primer_id</th><th scope=col>primer_type</th><th scope=col>sequence</th><th scope=col>length</th><th scope=col>degeneracy</th><th scope=col>⋯</th><th scope=col>position_start</th><th scope=col>position_end</th><th scope=col>Tm_avg</th><th scope=col>Tm_sd</th><th scope=col>GC_avg</th><th scope=col>GC_sd</th><th scope=col>hairpin_avg</th><th scope=col>hairpin_sd</th><th scope=col>homodimer_avg</th><th scope=col>homodimer_sd</th></tr>\n",
       "\t<tr><th scope=col>&lt;int&gt;</th><th scope=col>&lt;int&gt;</th><th scope=col>&lt;int&gt;</th><th scope=col>&lt;dbl&gt;</th><th scope=col>&lt;dbl&gt;</th><th scope=col>&lt;fct&gt;</th><th scope=col>&lt;fct&gt;</th><th scope=col>&lt;fct&gt;</th><th scope=col>&lt;int&gt;</th><th scope=col>&lt;int&gt;</th><th scope=col>⋯</th><th scope=col>&lt;int&gt;</th><th scope=col>&lt;int&gt;</th><th scope=col>&lt;dbl&gt;</th><th scope=col>&lt;dbl&gt;</th><th scope=col>&lt;dbl&gt;</th><th scope=col>&lt;dbl&gt;</th><th scope=col>&lt;dbl&gt;</th><th scope=col>&lt;dbl&gt;</th><th scope=col>&lt;dbl&gt;</th><th scope=col>&lt;dbl&gt;</th></tr>\n",
       "</thead>\n",
       "<tbody>\n",
       "\t<tr><td>5</td><td>123</td><td>112</td><td>112</td><td>0</td><td>123f</td><td>PRIMER_LEFT </td><td>CDGGWCCTGGTGCACAAGC </td><td>19</td><td> 6</td><td>⋯</td><td>259</td><td>278</td><td>62.76498</td><td>1.208299</td><td>64.91228</td><td>2.481076</td><td>42.56951</td><td> 0.00000</td><td>20.43330</td><td> 0.9882</td></tr>\n",
       "\t<tr><td>5</td><td>123</td><td>112</td><td>112</td><td>0</td><td>123r</td><td>PRIMER_RIGHT</td><td>CCRCCWGGDCKTCCWGTACC</td><td>20</td><td>48</td><td>⋯</td><td>351</td><td>371</td><td>63.62883</td><td>2.275517</td><td>66.66667</td><td>4.249183</td><td>45.49754</td><td>14.90341</td><td>14.79556</td><td>18.7045</td></tr>\n",
       "\t<tr><td>⋮</td><td>⋮</td><td>⋮</td><td>⋮</td><td>⋮</td><td>⋮</td><td>⋮</td><td>⋮</td><td>⋮</td><td>⋮</td><td>⋱</td><td>⋮</td><td>⋮</td><td>⋮</td><td>⋮</td><td>⋮</td><td>⋮</td><td>⋮</td><td>⋮</td><td>⋮</td><td>⋮</td></tr>\n",
       "\t<tr><td>38</td><td>471</td><td>156</td><td>155.037</td><td>0.1888526</td><td>471f</td><td>PRIMER_LEFT </td><td>GCYGCWCGTATGGTWATTGC</td><td>20</td><td>8</td><td>⋯</td><td>228</td><td>248</td><td>59.45945</td><td>1.2459783</td><td>52.5</td><td>2.5</td><td> 0.00000</td><td>0.000000</td><td>-11.76346</td><td>13.11040</td></tr>\n",
       "\t<tr><td>38</td><td>471</td><td>156</td><td>155.037</td><td>0.1888526</td><td>471r</td><td>PRIMER_RIGHT</td><td>TTACGWGCTCTWGCWCCAGG</td><td>20</td><td>8</td><td>⋯</td><td>364</td><td>384</td><td>60.11770</td><td>0.6980054</td><td>55.0</td><td>0.0</td><td>51.45057</td><td>8.608382</td><td> 11.32991</td><td>11.09863</td></tr>\n",
       "</tbody>\n",
       "</table>\n"
      ],
      "text/latex": [
       "A data.frame: 10 × 21\n",
       "\\begin{tabular}{lllllllllllllllllllll}\n",
       " cluster\\_id & primer\\_set & amplicon\\_size\\_consensus & amplicon\\_size\\_avg & amplicon\\_size\\_sd & primer\\_id & primer\\_type & sequence & length & degeneracy & ⋯ & position\\_start & position\\_end & Tm\\_avg & Tm\\_sd & GC\\_avg & GC\\_sd & hairpin\\_avg & hairpin\\_sd & homodimer\\_avg & homodimer\\_sd\\\\\n",
       " <int> & <int> & <int> & <dbl> & <dbl> & <fct> & <fct> & <fct> & <int> & <int> & ⋯ & <int> & <int> & <dbl> & <dbl> & <dbl> & <dbl> & <dbl> & <dbl> & <dbl> & <dbl>\\\\\n",
       "\\hline\n",
       "\t 5 & 123 & 112 & 112 & 0 & 123f & PRIMER\\_LEFT  & CDGGWCCTGGTGCACAAGC  & 19 &  6 & ⋯ & 259 & 278 & 62.76498 & 1.208299 & 64.91228 & 2.481076 & 42.56951 &  0.00000 & 20.43330 &  0.9882\\\\\n",
       "\t 5 & 123 & 112 & 112 & 0 & 123r & PRIMER\\_RIGHT & CCRCCWGGDCKTCCWGTACC & 20 & 48 & ⋯ & 351 & 371 & 63.62883 & 2.275517 & 66.66667 & 4.249183 & 45.49754 & 14.90341 & 14.79556 & 18.7045\\\\\n",
       "\t ⋮ & ⋮ & ⋮ & ⋮ & ⋮ & ⋮ & ⋮ & ⋮ & ⋮ & ⋮ & ⋱ & ⋮ & ⋮ & ⋮ & ⋮ & ⋮ & ⋮ & ⋮ & ⋮ & ⋮ & ⋮\\\\\n",
       "\t 38 & 471 & 156 & 155.037 & 0.1888526 & 471f & PRIMER\\_LEFT  & GCYGCWCGTATGGTWATTGC & 20 & 8 & ⋯ & 228 & 248 & 59.45945 & 1.2459783 & 52.5 & 2.5 &  0.00000 & 0.000000 & -11.76346 & 13.11040\\\\\n",
       "\t 38 & 471 & 156 & 155.037 & 0.1888526 & 471r & PRIMER\\_RIGHT & TTACGWGCTCTWGCWCCAGG & 20 & 8 & ⋯ & 364 & 384 & 60.11770 & 0.6980054 & 55.0 & 0.0 & 51.45057 & 8.608382 &  11.32991 & 11.09863\\\\\n",
       "\\end{tabular}\n"
      ],
      "text/markdown": [
       "\n",
       "A data.frame: 10 × 21\n",
       "\n",
       "| cluster_id &lt;int&gt; | primer_set &lt;int&gt; | amplicon_size_consensus &lt;int&gt; | amplicon_size_avg &lt;dbl&gt; | amplicon_size_sd &lt;dbl&gt; | primer_id &lt;fct&gt; | primer_type &lt;fct&gt; | sequence &lt;fct&gt; | length &lt;int&gt; | degeneracy &lt;int&gt; | ⋯ ⋯ | position_start &lt;int&gt; | position_end &lt;int&gt; | Tm_avg &lt;dbl&gt; | Tm_sd &lt;dbl&gt; | GC_avg &lt;dbl&gt; | GC_sd &lt;dbl&gt; | hairpin_avg &lt;dbl&gt; | hairpin_sd &lt;dbl&gt; | homodimer_avg &lt;dbl&gt; | homodimer_sd &lt;dbl&gt; |\n",
       "|---|---|---|---|---|---|---|---|---|---|---|---|---|---|---|---|---|---|---|---|---|\n",
       "| 5 | 123 | 112 | 112 | 0 | 123f | PRIMER_LEFT  | CDGGWCCTGGTGCACAAGC  | 19 |  6 | ⋯ | 259 | 278 | 62.76498 | 1.208299 | 64.91228 | 2.481076 | 42.56951 |  0.00000 | 20.43330 |  0.9882 |\n",
       "| 5 | 123 | 112 | 112 | 0 | 123r | PRIMER_RIGHT | CCRCCWGGDCKTCCWGTACC | 20 | 48 | ⋯ | 351 | 371 | 63.62883 | 2.275517 | 66.66667 | 4.249183 | 45.49754 | 14.90341 | 14.79556 | 18.7045 |\n",
       "| ⋮ | ⋮ | ⋮ | ⋮ | ⋮ | ⋮ | ⋮ | ⋮ | ⋮ | ⋮ | ⋱ | ⋮ | ⋮ | ⋮ | ⋮ | ⋮ | ⋮ | ⋮ | ⋮ | ⋮ | ⋮ |\n",
       "| 38 | 471 | 156 | 155.037 | 0.1888526 | 471f | PRIMER_LEFT  | GCYGCWCGTATGGTWATTGC | 20 | 8 | ⋯ | 228 | 248 | 59.45945 | 1.2459783 | 52.5 | 2.5 |  0.00000 | 0.000000 | -11.76346 | 13.11040 |\n",
       "| 38 | 471 | 156 | 155.037 | 0.1888526 | 471r | PRIMER_RIGHT | TTACGWGCTCTWGCWCCAGG | 20 | 8 | ⋯ | 364 | 384 | 60.11770 | 0.6980054 | 55.0 | 0.0 | 51.45057 | 8.608382 |  11.32991 | 11.09863 |\n",
       "\n"
      ],
      "text/plain": [
       "   cluster_id primer_set amplicon_size_consensus amplicon_size_avg\n",
       "1  5          123        112                     112              \n",
       "2  5          123        112                     112              \n",
       "⋮  ⋮          ⋮          ⋮                       ⋮                \n",
       "9  38         471        156                     155.037          \n",
       "10 38         471        156                     155.037          \n",
       "   amplicon_size_sd primer_id primer_type  sequence             length\n",
       "1  0                123f      PRIMER_LEFT  CDGGWCCTGGTGCACAAGC  19    \n",
       "2  0                123r      PRIMER_RIGHT CCRCCWGGDCKTCCWGTACC 20    \n",
       "⋮  ⋮                ⋮         ⋮            ⋮                    ⋮     \n",
       "9  0.1888526        471f      PRIMER_LEFT  GCYGCWCGTATGGTWATTGC 20    \n",
       "10 0.1888526        471r      PRIMER_RIGHT TTACGWGCTCTWGCWCCAGG 20    \n",
       "   degeneracy ⋯ position_start position_end Tm_avg   Tm_sd     GC_avg  \n",
       "1   6         ⋯ 259            278          62.76498 1.208299  64.91228\n",
       "2  48         ⋯ 351            371          63.62883 2.275517  66.66667\n",
       "⋮  ⋮          ⋱ ⋮              ⋮            ⋮        ⋮         ⋮       \n",
       "9  8          ⋯ 228            248          59.45945 1.2459783 52.5    \n",
       "10 8          ⋯ 364            384          60.11770 0.6980054 55.0    \n",
       "   GC_sd    hairpin_avg hairpin_sd homodimer_avg homodimer_sd\n",
       "1  2.481076 42.56951     0.00000   20.43330       0.9882     \n",
       "2  4.249183 45.49754    14.90341   14.79556      18.7045     \n",
       "⋮  ⋮        ⋮           ⋮          ⋮             ⋮           \n",
       "9  2.5       0.00000    0.000000   -11.76346     13.11040    \n",
       "10 0.0      51.45057    8.608382    11.32991     11.09863    "
      ]
     },
     "metadata": {},
     "output_type": "display_data"
    }
   ],
   "source": [
    "primer_info = read.delim(file.path(work_dir, 'primers',  'cgp', 'primers_final_info.tsv'), sep='\\t')\n",
    "primer_info %>% unique_n('primer sets', primer_set)\n",
    "primer_info"
   ]
  },
  {
   "cell_type": "code",
   "execution_count": 63,
   "metadata": {
    "execution": {
     "iopub.execute_input": "2021-01-20T20:09:43.683850Z",
     "iopub.status.busy": "2021-01-20T20:09:43.681531Z",
     "iopub.status.idle": "2021-01-20T20:09:43.748012Z"
    }
   },
   "outputs": [
    {
     "data": {
      "text/html": [
       "<table>\n",
       "<caption>A data.frame: 9 × 19</caption>\n",
       "<thead>\n",
       "\t<tr><th scope=col>cluster_id</th><th scope=col>query</th><th scope=col>subject</th><th scope=col>subject_name</th><th scope=col>pident</th><th scope=col>length</th><th scope=col>mismatch</th><th scope=col>qstart</th><th scope=col>qend</th><th scope=col>sstart</th><th scope=col>send</th><th scope=col>evalue</th><th scope=col>slen</th><th scope=col>qlen</th><th scope=col>sscinames</th><th scope=col>staxids</th><th scope=col>pident_rank</th><th scope=col>gene_name</th><th scope=col>gene_taxonomy</th></tr>\n",
       "\t<tr><th scope=col>&lt;dbl&gt;</th><th scope=col>&lt;fct&gt;</th><th scope=col>&lt;fct&gt;</th><th scope=col>&lt;fct&gt;</th><th scope=col>&lt;dbl&gt;</th><th scope=col>&lt;int&gt;</th><th scope=col>&lt;int&gt;</th><th scope=col>&lt;int&gt;</th><th scope=col>&lt;int&gt;</th><th scope=col>&lt;int&gt;</th><th scope=col>&lt;int&gt;</th><th scope=col>&lt;dbl&gt;</th><th scope=col>&lt;int&gt;</th><th scope=col>&lt;int&gt;</th><th scope=col>&lt;fct&gt;</th><th scope=col>&lt;fct&gt;</th><th scope=col>&lt;int&gt;</th><th scope=col>&lt;chr&gt;</th><th scope=col>&lt;chr&gt;</th></tr>\n",
       "</thead>\n",
       "<tbody>\n",
       "\t<tr><td>5</td><td>f06e9f8c6cc84758802515cc79a96221</td><td>WP_067145940.1</td><td>30S ribosomal protein S11 [Methanobrevibacter olleyae]    </td><td>100.000</td><td>117</td><td>0</td><td>1</td><td>351</td><td>1</td><td>117</td><td>1.32e-53</td><td>130</td><td>393</td><td>Methanobrevibacter olleyae                                      </td><td>294671      </td><td>3</td><td>30S ribosomal protein S11</td><td>Methanobrevibacter olleyae    </td></tr>\n",
       "\t<tr><td>5</td><td>f06e9f8c6cc84758802515cc79a96221</td><td>WP_012955709.1</td><td>30S ribosomal protein S11 [Methanobrevibacter ruminantium]</td><td> 99.145</td><td>117</td><td>1</td><td>1</td><td>351</td><td>1</td><td>117</td><td>3.62e-53</td><td>130</td><td>393</td><td>Methanobrevibacter ruminantium;Methanobrevibacter ruminantium M1</td><td>83816;634498</td><td>1</td><td>30S ribosomal protein S11</td><td>Methanobrevibacter ruminantium</td></tr>\n",
       "\t<tr><td>⋮</td><td>⋮</td><td>⋮</td><td>⋮</td><td>⋮</td><td>⋮</td><td>⋮</td><td>⋮</td><td>⋮</td><td>⋮</td><td>⋮</td><td>⋮</td><td>⋮</td><td>⋮</td><td>⋮</td><td>⋮</td><td>⋮</td><td>⋮</td><td>⋮</td></tr>\n",
       "\t<tr><td>38</td><td>dc805759468048c6ac14c024fd2792f4</td><td>WP_042694541.1</td><td>30S ribosomal protein S9 [Methanobrevibacter oralis] </td><td>96.992</td><td>133</td><td>4</td><td>1</td><td>399</td><td>1</td><td>133</td><td>6.09e-90</td><td>133</td><td>402</td><td>Methanobrevibacter oralis;Methanobrevibacter oralis JMR01</td><td>66851;1415626</td><td>1</td><td>30S ribosomal protein S9</td><td>Methanobrevibacter oralis </td></tr>\n",
       "\t<tr><td>38</td><td>dc805759468048c6ac14c024fd2792f4</td><td>MBE6501453.1  </td><td>30S ribosomal protein S9 [Methanobrevibacter thaueri]</td><td>95.489</td><td>133</td><td>6</td><td>1</td><td>399</td><td>1</td><td>133</td><td>5.18e-89</td><td>133</td><td>402</td><td>Methanobrevibacter thaueri                               </td><td>190975       </td><td>2</td><td>30S ribosomal protein S9</td><td>Methanobrevibacter thaueri</td></tr>\n",
       "</tbody>\n",
       "</table>\n"
      ],
      "text/latex": [
       "A data.frame: 9 × 19\n",
       "\\begin{tabular}{lllllllllllllllllll}\n",
       " cluster\\_id & query & subject & subject\\_name & pident & length & mismatch & qstart & qend & sstart & send & evalue & slen & qlen & sscinames & staxids & pident\\_rank & gene\\_name & gene\\_taxonomy\\\\\n",
       " <dbl> & <fct> & <fct> & <fct> & <dbl> & <int> & <int> & <int> & <int> & <int> & <int> & <dbl> & <int> & <int> & <fct> & <fct> & <int> & <chr> & <chr>\\\\\n",
       "\\hline\n",
       "\t 5 & f06e9f8c6cc84758802515cc79a96221 & WP\\_067145940.1 & 30S ribosomal protein S11 {[}Methanobrevibacter olleyae{]}     & 100.000 & 117 & 0 & 1 & 351 & 1 & 117 & 1.32e-53 & 130 & 393 & Methanobrevibacter olleyae                                       & 294671       & 3 & 30S ribosomal protein S11 & Methanobrevibacter olleyae    \\\\\n",
       "\t 5 & f06e9f8c6cc84758802515cc79a96221 & WP\\_012955709.1 & 30S ribosomal protein S11 {[}Methanobrevibacter ruminantium{]} &  99.145 & 117 & 1 & 1 & 351 & 1 & 117 & 3.62e-53 & 130 & 393 & Methanobrevibacter ruminantium;Methanobrevibacter ruminantium M1 & 83816;634498 & 1 & 30S ribosomal protein S11 & Methanobrevibacter ruminantium\\\\\n",
       "\t ⋮ & ⋮ & ⋮ & ⋮ & ⋮ & ⋮ & ⋮ & ⋮ & ⋮ & ⋮ & ⋮ & ⋮ & ⋮ & ⋮ & ⋮ & ⋮ & ⋮ & ⋮ & ⋮\\\\\n",
       "\t 38 & dc805759468048c6ac14c024fd2792f4 & WP\\_042694541.1 & 30S ribosomal protein S9 {[}Methanobrevibacter oralis{]}  & 96.992 & 133 & 4 & 1 & 399 & 1 & 133 & 6.09e-90 & 133 & 402 & Methanobrevibacter oralis;Methanobrevibacter oralis JMR01 & 66851;1415626 & 1 & 30S ribosomal protein S9 & Methanobrevibacter oralis \\\\\n",
       "\t 38 & dc805759468048c6ac14c024fd2792f4 & MBE6501453.1   & 30S ribosomal protein S9 {[}Methanobrevibacter thaueri{]} & 95.489 & 133 & 6 & 1 & 399 & 1 & 133 & 5.18e-89 & 133 & 402 & Methanobrevibacter thaueri                                & 190975        & 2 & 30S ribosomal protein S9 & Methanobrevibacter thaueri\\\\\n",
       "\\end{tabular}\n"
      ],
      "text/markdown": [
       "\n",
       "A data.frame: 9 × 19\n",
       "\n",
       "| cluster_id &lt;dbl&gt; | query &lt;fct&gt; | subject &lt;fct&gt; | subject_name &lt;fct&gt; | pident &lt;dbl&gt; | length &lt;int&gt; | mismatch &lt;int&gt; | qstart &lt;int&gt; | qend &lt;int&gt; | sstart &lt;int&gt; | send &lt;int&gt; | evalue &lt;dbl&gt; | slen &lt;int&gt; | qlen &lt;int&gt; | sscinames &lt;fct&gt; | staxids &lt;fct&gt; | pident_rank &lt;int&gt; | gene_name &lt;chr&gt; | gene_taxonomy &lt;chr&gt; |\n",
       "|---|---|---|---|---|---|---|---|---|---|---|---|---|---|---|---|---|---|---|\n",
       "| 5 | f06e9f8c6cc84758802515cc79a96221 | WP_067145940.1 | 30S ribosomal protein S11 [Methanobrevibacter olleyae]     | 100.000 | 117 | 0 | 1 | 351 | 1 | 117 | 1.32e-53 | 130 | 393 | Methanobrevibacter olleyae                                       | 294671       | 3 | 30S ribosomal protein S11 | Methanobrevibacter olleyae     |\n",
       "| 5 | f06e9f8c6cc84758802515cc79a96221 | WP_012955709.1 | 30S ribosomal protein S11 [Methanobrevibacter ruminantium] |  99.145 | 117 | 1 | 1 | 351 | 1 | 117 | 3.62e-53 | 130 | 393 | Methanobrevibacter ruminantium;Methanobrevibacter ruminantium M1 | 83816;634498 | 1 | 30S ribosomal protein S11 | Methanobrevibacter ruminantium |\n",
       "| ⋮ | ⋮ | ⋮ | ⋮ | ⋮ | ⋮ | ⋮ | ⋮ | ⋮ | ⋮ | ⋮ | ⋮ | ⋮ | ⋮ | ⋮ | ⋮ | ⋮ | ⋮ | ⋮ |\n",
       "| 38 | dc805759468048c6ac14c024fd2792f4 | WP_042694541.1 | 30S ribosomal protein S9 [Methanobrevibacter oralis]  | 96.992 | 133 | 4 | 1 | 399 | 1 | 133 | 6.09e-90 | 133 | 402 | Methanobrevibacter oralis;Methanobrevibacter oralis JMR01 | 66851;1415626 | 1 | 30S ribosomal protein S9 | Methanobrevibacter oralis  |\n",
       "| 38 | dc805759468048c6ac14c024fd2792f4 | MBE6501453.1   | 30S ribosomal protein S9 [Methanobrevibacter thaueri] | 95.489 | 133 | 6 | 1 | 399 | 1 | 133 | 5.18e-89 | 133 | 402 | Methanobrevibacter thaueri                                | 190975        | 2 | 30S ribosomal protein S9 | Methanobrevibacter thaueri |\n",
       "\n"
      ],
      "text/plain": [
       "  cluster_id query                            subject       \n",
       "1 5          f06e9f8c6cc84758802515cc79a96221 WP_067145940.1\n",
       "2 5          f06e9f8c6cc84758802515cc79a96221 WP_012955709.1\n",
       "⋮ ⋮          ⋮                                ⋮             \n",
       "8 38         dc805759468048c6ac14c024fd2792f4 WP_042694541.1\n",
       "9 38         dc805759468048c6ac14c024fd2792f4 MBE6501453.1  \n",
       "  subject_name                                               pident  length\n",
       "1 30S ribosomal protein S11 [Methanobrevibacter olleyae]     100.000 117   \n",
       "2 30S ribosomal protein S11 [Methanobrevibacter ruminantium]  99.145 117   \n",
       "⋮ ⋮                                                          ⋮       ⋮     \n",
       "8 30S ribosomal protein S9 [Methanobrevibacter oralis]       96.992  133   \n",
       "9 30S ribosomal protein S9 [Methanobrevibacter thaueri]      95.489  133   \n",
       "  mismatch qstart qend sstart send evalue   slen qlen\n",
       "1 0        1      351  1      117  1.32e-53 130  393 \n",
       "2 1        1      351  1      117  3.62e-53 130  393 \n",
       "⋮ ⋮        ⋮      ⋮    ⋮      ⋮    ⋮        ⋮    ⋮   \n",
       "8 4        1      399  1      133  6.09e-90 133  402 \n",
       "9 6        1      399  1      133  5.18e-89 133  402 \n",
       "  sscinames                                                       \n",
       "1 Methanobrevibacter olleyae                                      \n",
       "2 Methanobrevibacter ruminantium;Methanobrevibacter ruminantium M1\n",
       "⋮ ⋮                                                               \n",
       "8 Methanobrevibacter oralis;Methanobrevibacter oralis JMR01       \n",
       "9 Methanobrevibacter thaueri                                      \n",
       "  staxids       pident_rank gene_name                \n",
       "1 294671        3           30S ribosomal protein S11\n",
       "2 83816;634498  1           30S ribosomal protein S11\n",
       "⋮ ⋮             ⋮           ⋮                        \n",
       "8 66851;1415626 1           30S ribosomal protein S9 \n",
       "9 190975        2           30S ribosomal protein S9 \n",
       "  gene_taxonomy                 \n",
       "1 Methanobrevibacter olleyae    \n",
       "2 Methanobrevibacter ruminantium\n",
       "⋮ ⋮                             \n",
       "8 Methanobrevibacter oralis     \n",
       "9 Methanobrevibacter thaueri    "
      ]
     },
     "metadata": {},
     "output_type": "display_data"
    }
   ],
   "source": [
    "gene_annot = read.delim(file.path(work_dir, 'primers', 'cgp', 'core_clusters_blastx.tsv'), \n",
    "                        sep='\\t') %>%\n",
    "    mutate(cluster_id = gsub('cluster_', '', cluster_id) %>% as.Num) %>%\n",
    "    semi_join(primer_info, c('cluster_id')) %>%\n",
    "    mutate(gene_name = gsub(' \\\\[.+', '', subject_name),\n",
    "           gene_taxonomy = gsub('.+\\\\[', '', subject_name),\n",
    "           gene_taxonomy = gsub('\\\\]', '', gene_taxonomy))\n",
    "gene_annot"
   ]
  },
  {
   "cell_type": "code",
   "execution_count": 67,
   "metadata": {
    "execution": {
     "iopub.execute_input": "2021-01-20T20:10:41.605410Z",
     "iopub.status.busy": "2021-01-20T20:10:41.603012Z",
     "iopub.status.idle": "2021-01-20T20:10:41.684939Z"
    }
   },
   "outputs": [
    {
     "data": {
      "text/html": [
       "<table>\n",
       "<caption>A data.frame: 90 × 19</caption>\n",
       "<thead>\n",
       "\t<tr><th scope=col>cluster_id</th><th scope=col>query</th><th scope=col>subject</th><th scope=col>subject_name</th><th scope=col>pident</th><th scope=col>length</th><th scope=col>mismatch</th><th scope=col>qstart</th><th scope=col>qend</th><th scope=col>sstart</th><th scope=col>send</th><th scope=col>evalue</th><th scope=col>slen</th><th scope=col>qlen</th><th scope=col>sscinames</th><th scope=col>staxids</th><th scope=col>pident_rank</th><th scope=col>gene_name</th><th scope=col>gene_taxonomy</th></tr>\n",
       "\t<tr><th scope=col>&lt;dbl&gt;</th><th scope=col>&lt;fct&gt;</th><th scope=col>&lt;fct&gt;</th><th scope=col>&lt;fct&gt;</th><th scope=col>&lt;dbl&gt;</th><th scope=col>&lt;int&gt;</th><th scope=col>&lt;int&gt;</th><th scope=col>&lt;int&gt;</th><th scope=col>&lt;int&gt;</th><th scope=col>&lt;int&gt;</th><th scope=col>&lt;int&gt;</th><th scope=col>&lt;dbl&gt;</th><th scope=col>&lt;int&gt;</th><th scope=col>&lt;int&gt;</th><th scope=col>&lt;fct&gt;</th><th scope=col>&lt;fct&gt;</th><th scope=col>&lt;int&gt;</th><th scope=col>&lt;chr&gt;</th><th scope=col>&lt;chr&gt;</th></tr>\n",
       "</thead>\n",
       "<tbody>\n",
       "\t<tr><td>5</td><td>f06e9f8c6cc84758802515cc79a96221</td><td>NYB26310.1</td><td>30S ribosomal protein S11 [Methanobacteriaceae archaeon]</td><td>88.034</td><td>117</td><td>14</td><td>1</td><td>351</td><td>1</td><td>117</td><td>1.85e-47</td><td>130</td><td>393</td><td>Methanobacterium sp. PtaU1.Bin097;Methanobacteriaceae archaeon</td><td>1811675;2099680</td><td>7</td><td>30S ribosomal protein S11</td><td>Methanobacteriaceae archaeon</td></tr>\n",
       "\t<tr><td>5</td><td>f06e9f8c6cc84758802515cc79a96221</td><td>AXV38297.1</td><td>30S ribosomal protein S11 [Methanobacterium sp. BRmetb2]</td><td>88.889</td><td>117</td><td>13</td><td>1</td><td>351</td><td>1</td><td>117</td><td>2.99e-47</td><td>130</td><td>393</td><td>Methanobacterium sp. BRmetb2                                  </td><td>2025350        </td><td>3</td><td>30S ribosomal protein S11</td><td>Methanobacterium sp. BRmetb2</td></tr>\n",
       "\t<tr><td>⋮</td><td>⋮</td><td>⋮</td><td>⋮</td><td>⋮</td><td>⋮</td><td>⋮</td><td>⋮</td><td>⋮</td><td>⋮</td><td>⋮</td><td>⋮</td><td>⋮</td><td>⋮</td><td>⋮</td><td>⋮</td><td>⋮</td><td>⋮</td><td>⋮</td></tr>\n",
       "\t<tr><td>38</td><td>dc805759468048c6ac14c024fd2792f4</td><td>MBI5459065.1</td><td>30S ribosomal protein S9 [Methanobacterium sp.]        </td><td>78.195</td><td>133</td><td>29</td><td>1</td><td>399</td><td>1</td><td>133</td><td>2.67e-70</td><td>133</td><td>402</td><td>Methanobacterium sp.        </td><td>2164   </td><td>20</td><td>30S ribosomal protein S9</td><td>Methanobacterium sp.        </td></tr>\n",
       "\t<tr><td>38</td><td>dc805759468048c6ac14c024fd2792f4</td><td>NYB52771.1  </td><td>30S ribosomal protein S9 [Methanobacteriaceae archaeon]</td><td>78.195</td><td>133</td><td>29</td><td>1</td><td>399</td><td>1</td><td>133</td><td>4.48e-70</td><td>133</td><td>402</td><td>Methanobacteriaceae archaeon</td><td>2099680</td><td>20</td><td>30S ribosomal protein S9</td><td>Methanobacteriaceae archaeon</td></tr>\n",
       "</tbody>\n",
       "</table>\n"
      ],
      "text/latex": [
       "A data.frame: 90 × 19\n",
       "\\begin{tabular}{lllllllllllllllllll}\n",
       " cluster\\_id & query & subject & subject\\_name & pident & length & mismatch & qstart & qend & sstart & send & evalue & slen & qlen & sscinames & staxids & pident\\_rank & gene\\_name & gene\\_taxonomy\\\\\n",
       " <dbl> & <fct> & <fct> & <fct> & <dbl> & <int> & <int> & <int> & <int> & <int> & <int> & <dbl> & <int> & <int> & <fct> & <fct> & <int> & <chr> & <chr>\\\\\n",
       "\\hline\n",
       "\t 5 & f06e9f8c6cc84758802515cc79a96221 & NYB26310.1 & 30S ribosomal protein S11 {[}Methanobacteriaceae archaeon{]} & 88.034 & 117 & 14 & 1 & 351 & 1 & 117 & 1.85e-47 & 130 & 393 & Methanobacterium sp. PtaU1.Bin097;Methanobacteriaceae archaeon & 1811675;2099680 & 7 & 30S ribosomal protein S11 & Methanobacteriaceae archaeon\\\\\n",
       "\t 5 & f06e9f8c6cc84758802515cc79a96221 & AXV38297.1 & 30S ribosomal protein S11 {[}Methanobacterium sp. BRmetb2{]} & 88.889 & 117 & 13 & 1 & 351 & 1 & 117 & 2.99e-47 & 130 & 393 & Methanobacterium sp. BRmetb2                                   & 2025350         & 3 & 30S ribosomal protein S11 & Methanobacterium sp. BRmetb2\\\\\n",
       "\t ⋮ & ⋮ & ⋮ & ⋮ & ⋮ & ⋮ & ⋮ & ⋮ & ⋮ & ⋮ & ⋮ & ⋮ & ⋮ & ⋮ & ⋮ & ⋮ & ⋮ & ⋮ & ⋮\\\\\n",
       "\t 38 & dc805759468048c6ac14c024fd2792f4 & MBI5459065.1 & 30S ribosomal protein S9 {[}Methanobacterium sp.{]}         & 78.195 & 133 & 29 & 1 & 399 & 1 & 133 & 2.67e-70 & 133 & 402 & Methanobacterium sp.         & 2164    & 20 & 30S ribosomal protein S9 & Methanobacterium sp.        \\\\\n",
       "\t 38 & dc805759468048c6ac14c024fd2792f4 & NYB52771.1   & 30S ribosomal protein S9 {[}Methanobacteriaceae archaeon{]} & 78.195 & 133 & 29 & 1 & 399 & 1 & 133 & 4.48e-70 & 133 & 402 & Methanobacteriaceae archaeon & 2099680 & 20 & 30S ribosomal protein S9 & Methanobacteriaceae archaeon\\\\\n",
       "\\end{tabular}\n"
      ],
      "text/markdown": [
       "\n",
       "A data.frame: 90 × 19\n",
       "\n",
       "| cluster_id &lt;dbl&gt; | query &lt;fct&gt; | subject &lt;fct&gt; | subject_name &lt;fct&gt; | pident &lt;dbl&gt; | length &lt;int&gt; | mismatch &lt;int&gt; | qstart &lt;int&gt; | qend &lt;int&gt; | sstart &lt;int&gt; | send &lt;int&gt; | evalue &lt;dbl&gt; | slen &lt;int&gt; | qlen &lt;int&gt; | sscinames &lt;fct&gt; | staxids &lt;fct&gt; | pident_rank &lt;int&gt; | gene_name &lt;chr&gt; | gene_taxonomy &lt;chr&gt; |\n",
       "|---|---|---|---|---|---|---|---|---|---|---|---|---|---|---|---|---|---|---|\n",
       "| 5 | f06e9f8c6cc84758802515cc79a96221 | NYB26310.1 | 30S ribosomal protein S11 [Methanobacteriaceae archaeon] | 88.034 | 117 | 14 | 1 | 351 | 1 | 117 | 1.85e-47 | 130 | 393 | Methanobacterium sp. PtaU1.Bin097;Methanobacteriaceae archaeon | 1811675;2099680 | 7 | 30S ribosomal protein S11 | Methanobacteriaceae archaeon |\n",
       "| 5 | f06e9f8c6cc84758802515cc79a96221 | AXV38297.1 | 30S ribosomal protein S11 [Methanobacterium sp. BRmetb2] | 88.889 | 117 | 13 | 1 | 351 | 1 | 117 | 2.99e-47 | 130 | 393 | Methanobacterium sp. BRmetb2                                   | 2025350         | 3 | 30S ribosomal protein S11 | Methanobacterium sp. BRmetb2 |\n",
       "| ⋮ | ⋮ | ⋮ | ⋮ | ⋮ | ⋮ | ⋮ | ⋮ | ⋮ | ⋮ | ⋮ | ⋮ | ⋮ | ⋮ | ⋮ | ⋮ | ⋮ | ⋮ | ⋮ |\n",
       "| 38 | dc805759468048c6ac14c024fd2792f4 | MBI5459065.1 | 30S ribosomal protein S9 [Methanobacterium sp.]         | 78.195 | 133 | 29 | 1 | 399 | 1 | 133 | 2.67e-70 | 133 | 402 | Methanobacterium sp.         | 2164    | 20 | 30S ribosomal protein S9 | Methanobacterium sp.         |\n",
       "| 38 | dc805759468048c6ac14c024fd2792f4 | NYB52771.1   | 30S ribosomal protein S9 [Methanobacteriaceae archaeon] | 78.195 | 133 | 29 | 1 | 399 | 1 | 133 | 4.48e-70 | 133 | 402 | Methanobacteriaceae archaeon | 2099680 | 20 | 30S ribosomal protein S9 | Methanobacteriaceae archaeon |\n",
       "\n"
      ],
      "text/plain": [
       "   cluster_id query                            subject     \n",
       "1  5          f06e9f8c6cc84758802515cc79a96221 NYB26310.1  \n",
       "2  5          f06e9f8c6cc84758802515cc79a96221 AXV38297.1  \n",
       "⋮  ⋮          ⋮                                ⋮           \n",
       "89 38         dc805759468048c6ac14c024fd2792f4 MBI5459065.1\n",
       "90 38         dc805759468048c6ac14c024fd2792f4 NYB52771.1  \n",
       "   subject_name                                             pident length\n",
       "1  30S ribosomal protein S11 [Methanobacteriaceae archaeon] 88.034 117   \n",
       "2  30S ribosomal protein S11 [Methanobacterium sp. BRmetb2] 88.889 117   \n",
       "⋮  ⋮                                                        ⋮      ⋮     \n",
       "89 30S ribosomal protein S9 [Methanobacterium sp.]          78.195 133   \n",
       "90 30S ribosomal protein S9 [Methanobacteriaceae archaeon]  78.195 133   \n",
       "   mismatch qstart qend sstart send evalue   slen qlen\n",
       "1  14       1      351  1      117  1.85e-47 130  393 \n",
       "2  13       1      351  1      117  2.99e-47 130  393 \n",
       "⋮  ⋮        ⋮      ⋮    ⋮      ⋮    ⋮        ⋮    ⋮   \n",
       "89 29       1      399  1      133  2.67e-70 133  402 \n",
       "90 29       1      399  1      133  4.48e-70 133  402 \n",
       "   sscinames                                                     \n",
       "1  Methanobacterium sp. PtaU1.Bin097;Methanobacteriaceae archaeon\n",
       "2  Methanobacterium sp. BRmetb2                                  \n",
       "⋮  ⋮                                                             \n",
       "89 Methanobacterium sp.                                          \n",
       "90 Methanobacteriaceae archaeon                                  \n",
       "   staxids         pident_rank gene_name                \n",
       "1  1811675;2099680 7           30S ribosomal protein S11\n",
       "2  2025350         3           30S ribosomal protein S11\n",
       "⋮  ⋮               ⋮           ⋮                        \n",
       "89 2164            20          30S ribosomal protein S9 \n",
       "90 2099680         20          30S ribosomal protein S9 \n",
       "   gene_taxonomy               \n",
       "1  Methanobacteriaceae archaeon\n",
       "2  Methanobacterium sp. BRmetb2\n",
       "⋮  ⋮                           \n",
       "89 Methanobacterium sp.        \n",
       "90 Methanobacteriaceae archaeon"
      ]
     },
     "metadata": {},
     "output_type": "display_data"
    }
   ],
   "source": [
    "# non-target\n",
    "gene_annot = read.delim(file.path(work_dir, 'primers', 'cgp', 'core_clusters_blastx_nontarget.tsv'), \n",
    "                        sep='\\t') %>%\n",
    "    mutate(cluster_id = gsub('cluster_', '', cluster_id) %>% as.Num) %>%\n",
    "    semi_join(primer_info, c('cluster_id')) %>%\n",
    "    mutate(gene_name = gsub(' \\\\[.+', '', subject_name),\n",
    "           gene_taxonomy = gsub('.+\\\\[', '', subject_name),\n",
    "           gene_taxonomy = gsub('\\\\]', '', gene_taxonomy))\n",
    "gene_annot"
   ]
  },
  {
   "cell_type": "code",
   "execution_count": 68,
   "metadata": {
    "execution": {
     "iopub.execute_input": "2021-01-20T20:10:45.341597Z",
     "iopub.status.busy": "2021-01-20T20:10:45.339036Z",
     "iopub.status.idle": "2021-01-20T20:10:45.386116Z"
    }
   },
   "outputs": [
    {
     "data": {
      "text/html": [
       "<table>\n",
       "<caption>A data.frame: 4 × 19</caption>\n",
       "<thead>\n",
       "\t<tr><th></th><th scope=col>cluster_id</th><th scope=col>query</th><th scope=col>subject</th><th scope=col>subject_name</th><th scope=col>pident</th><th scope=col>length</th><th scope=col>mismatch</th><th scope=col>qstart</th><th scope=col>qend</th><th scope=col>sstart</th><th scope=col>send</th><th scope=col>evalue</th><th scope=col>slen</th><th scope=col>qlen</th><th scope=col>sscinames</th><th scope=col>staxids</th><th scope=col>pident_rank</th><th scope=col>gene_name</th><th scope=col>gene_taxonomy</th></tr>\n",
       "\t<tr><th></th><th scope=col>&lt;dbl&gt;</th><th scope=col>&lt;fct&gt;</th><th scope=col>&lt;fct&gt;</th><th scope=col>&lt;fct&gt;</th><th scope=col>&lt;dbl&gt;</th><th scope=col>&lt;int&gt;</th><th scope=col>&lt;int&gt;</th><th scope=col>&lt;int&gt;</th><th scope=col>&lt;int&gt;</th><th scope=col>&lt;int&gt;</th><th scope=col>&lt;int&gt;</th><th scope=col>&lt;dbl&gt;</th><th scope=col>&lt;int&gt;</th><th scope=col>&lt;int&gt;</th><th scope=col>&lt;fct&gt;</th><th scope=col>&lt;fct&gt;</th><th scope=col>&lt;int&gt;</th><th scope=col>&lt;chr&gt;</th><th scope=col>&lt;chr&gt;</th></tr>\n",
       "</thead>\n",
       "<tbody>\n",
       "\t<tr><th scope=row>1</th><td>38</td><td>dc805759468048c6ac14c024fd2792f4</td><td>RAP54649.1</td><td>30S ribosomal protein S9, partial [Methanosphaera sp. rholeuAM130]                  </td><td>81.250</td><td>128</td><td>24</td><td>16</td><td>399</td><td>1</td><td>128</td><td>2.19e-71</td><td>128</td><td>402</td><td>Methanosphaera sp. rholeuAM130</td><td>1945578</td><td>1</td><td>30S ribosomal protein S9, partial                    </td><td>Methanosphaera sp. rholeuAM130</td></tr>\n",
       "\t<tr><th scope=row>2</th><td> 5</td><td>f06e9f8c6cc84758802515cc79a96221</td><td>NYB52767.1</td><td>30S ribosomal protein S11 [Methanobacteriaceae archaeon]                            </td><td>89.381</td><td>113</td><td>12</td><td>13</td><td>351</td><td>7</td><td>119</td><td>9.29e-46</td><td>132</td><td>393</td><td>Methanobacteriaceae archaeon  </td><td>2099680</td><td>1</td><td>30S ribosomal protein S11                            </td><td>Methanobacteriaceae archaeon  </td></tr>\n",
       "\t<tr><th scope=row>3</th><td> 5</td><td>f06e9f8c6cc84758802515cc79a96221</td><td>CDG64903.1</td><td>30S ribosomal protein S11 [Methanobacterium sp. MB1]                                </td><td>89.381</td><td>113</td><td>12</td><td>13</td><td>351</td><td>7</td><td>119</td><td>1.19e-45</td><td>132</td><td>393</td><td>Methanobacterium sp. MB1      </td><td>1379702</td><td>1</td><td>30S ribosomal protein S11                            </td><td>Methanobacterium sp. MB1      </td></tr>\n",
       "\t<tr><th scope=row>4</th><td>34</td><td>53df7896588e4f308614317a72ecfe65</td><td>AXV38276.1</td><td>stress response translation initiation inhibitor YciH [Methanobacterium sp. BRmetb2]</td><td>91.089</td><td>101</td><td> 9</td><td> 7</td><td>309</td><td>2</td><td>102</td><td>9.90e-59</td><td>106</td><td>348</td><td>Methanobacterium sp. BRmetb2  </td><td>2025350</td><td>1</td><td>stress response translation initiation inhibitor YciH</td><td>Methanobacterium sp. BRmetb2  </td></tr>\n",
       "</tbody>\n",
       "</table>\n"
      ],
      "text/latex": [
       "A data.frame: 4 × 19\n",
       "\\begin{tabular}{r|lllllllllllllllllll}\n",
       "  & cluster\\_id & query & subject & subject\\_name & pident & length & mismatch & qstart & qend & sstart & send & evalue & slen & qlen & sscinames & staxids & pident\\_rank & gene\\_name & gene\\_taxonomy\\\\\n",
       "  & <dbl> & <fct> & <fct> & <fct> & <dbl> & <int> & <int> & <int> & <int> & <int> & <int> & <dbl> & <int> & <int> & <fct> & <fct> & <int> & <chr> & <chr>\\\\\n",
       "\\hline\n",
       "\t1 & 38 & dc805759468048c6ac14c024fd2792f4 & RAP54649.1 & 30S ribosomal protein S9, partial {[}Methanosphaera sp. rholeuAM130{]}                   & 81.250 & 128 & 24 & 16 & 399 & 1 & 128 & 2.19e-71 & 128 & 402 & Methanosphaera sp. rholeuAM130 & 1945578 & 1 & 30S ribosomal protein S9, partial                     & Methanosphaera sp. rholeuAM130\\\\\n",
       "\t2 &  5 & f06e9f8c6cc84758802515cc79a96221 & NYB52767.1 & 30S ribosomal protein S11 {[}Methanobacteriaceae archaeon{]}                             & 89.381 & 113 & 12 & 13 & 351 & 7 & 119 & 9.29e-46 & 132 & 393 & Methanobacteriaceae archaeon   & 2099680 & 1 & 30S ribosomal protein S11                             & Methanobacteriaceae archaeon  \\\\\n",
       "\t3 &  5 & f06e9f8c6cc84758802515cc79a96221 & CDG64903.1 & 30S ribosomal protein S11 {[}Methanobacterium sp. MB1{]}                                 & 89.381 & 113 & 12 & 13 & 351 & 7 & 119 & 1.19e-45 & 132 & 393 & Methanobacterium sp. MB1       & 1379702 & 1 & 30S ribosomal protein S11                             & Methanobacterium sp. MB1      \\\\\n",
       "\t4 & 34 & 53df7896588e4f308614317a72ecfe65 & AXV38276.1 & stress response translation initiation inhibitor YciH {[}Methanobacterium sp. BRmetb2{]} & 91.089 & 101 &  9 &  7 & 309 & 2 & 102 & 9.90e-59 & 106 & 348 & Methanobacterium sp. BRmetb2   & 2025350 & 1 & stress response translation initiation inhibitor YciH & Methanobacterium sp. BRmetb2  \\\\\n",
       "\\end{tabular}\n"
      ],
      "text/markdown": [
       "\n",
       "A data.frame: 4 × 19\n",
       "\n",
       "| <!--/--> | cluster_id &lt;dbl&gt; | query &lt;fct&gt; | subject &lt;fct&gt; | subject_name &lt;fct&gt; | pident &lt;dbl&gt; | length &lt;int&gt; | mismatch &lt;int&gt; | qstart &lt;int&gt; | qend &lt;int&gt; | sstart &lt;int&gt; | send &lt;int&gt; | evalue &lt;dbl&gt; | slen &lt;int&gt; | qlen &lt;int&gt; | sscinames &lt;fct&gt; | staxids &lt;fct&gt; | pident_rank &lt;int&gt; | gene_name &lt;chr&gt; | gene_taxonomy &lt;chr&gt; |\n",
       "|---|---|---|---|---|---|---|---|---|---|---|---|---|---|---|---|---|---|---|---|\n",
       "| 1 | 38 | dc805759468048c6ac14c024fd2792f4 | RAP54649.1 | 30S ribosomal protein S9, partial [Methanosphaera sp. rholeuAM130]                   | 81.250 | 128 | 24 | 16 | 399 | 1 | 128 | 2.19e-71 | 128 | 402 | Methanosphaera sp. rholeuAM130 | 1945578 | 1 | 30S ribosomal protein S9, partial                     | Methanosphaera sp. rholeuAM130 |\n",
       "| 2 |  5 | f06e9f8c6cc84758802515cc79a96221 | NYB52767.1 | 30S ribosomal protein S11 [Methanobacteriaceae archaeon]                             | 89.381 | 113 | 12 | 13 | 351 | 7 | 119 | 9.29e-46 | 132 | 393 | Methanobacteriaceae archaeon   | 2099680 | 1 | 30S ribosomal protein S11                             | Methanobacteriaceae archaeon   |\n",
       "| 3 |  5 | f06e9f8c6cc84758802515cc79a96221 | CDG64903.1 | 30S ribosomal protein S11 [Methanobacterium sp. MB1]                                 | 89.381 | 113 | 12 | 13 | 351 | 7 | 119 | 1.19e-45 | 132 | 393 | Methanobacterium sp. MB1       | 1379702 | 1 | 30S ribosomal protein S11                             | Methanobacterium sp. MB1       |\n",
       "| 4 | 34 | 53df7896588e4f308614317a72ecfe65 | AXV38276.1 | stress response translation initiation inhibitor YciH [Methanobacterium sp. BRmetb2] | 91.089 | 101 |  9 |  7 | 309 | 2 | 102 | 9.90e-59 | 106 | 348 | Methanobacterium sp. BRmetb2   | 2025350 | 1 | stress response translation initiation inhibitor YciH | Methanobacterium sp. BRmetb2   |\n",
       "\n"
      ],
      "text/plain": [
       "  cluster_id query                            subject   \n",
       "1 38         dc805759468048c6ac14c024fd2792f4 RAP54649.1\n",
       "2  5         f06e9f8c6cc84758802515cc79a96221 NYB52767.1\n",
       "3  5         f06e9f8c6cc84758802515cc79a96221 CDG64903.1\n",
       "4 34         53df7896588e4f308614317a72ecfe65 AXV38276.1\n",
       "  subject_name                                                                        \n",
       "1 30S ribosomal protein S9, partial [Methanosphaera sp. rholeuAM130]                  \n",
       "2 30S ribosomal protein S11 [Methanobacteriaceae archaeon]                            \n",
       "3 30S ribosomal protein S11 [Methanobacterium sp. MB1]                                \n",
       "4 stress response translation initiation inhibitor YciH [Methanobacterium sp. BRmetb2]\n",
       "  pident length mismatch qstart qend sstart send evalue   slen qlen\n",
       "1 81.250 128    24       16     399  1      128  2.19e-71 128  402 \n",
       "2 89.381 113    12       13     351  7      119  9.29e-46 132  393 \n",
       "3 89.381 113    12       13     351  7      119  1.19e-45 132  393 \n",
       "4 91.089 101     9        7     309  2      102  9.90e-59 106  348 \n",
       "  sscinames                      staxids pident_rank\n",
       "1 Methanosphaera sp. rholeuAM130 1945578 1          \n",
       "2 Methanobacteriaceae archaeon   2099680 1          \n",
       "3 Methanobacterium sp. MB1       1379702 1          \n",
       "4 Methanobacterium sp. BRmetb2   2025350 1          \n",
       "  gene_name                                            \n",
       "1 30S ribosomal protein S9, partial                    \n",
       "2 30S ribosomal protein S11                            \n",
       "3 30S ribosomal protein S11                            \n",
       "4 stress response translation initiation inhibitor YciH\n",
       "  gene_taxonomy                 \n",
       "1 Methanosphaera sp. rholeuAM130\n",
       "2 Methanobacteriaceae archaeon  \n",
       "3 Methanobacterium sp. MB1      \n",
       "4 Methanobacterium sp. BRmetb2  "
      ]
     },
     "metadata": {},
     "output_type": "display_data"
    }
   ],
   "source": [
    "# most unique clusters\n",
    "df.dims(10)\n",
    "gene_annot %>%\n",
    "    filter(pident_rank == 1) %>%\n",
    "    arrange(pident) %>%\n",
    "    head(n=10)\n",
    "df.dims()"
   ]
  },
  {
   "cell_type": "code",
   "execution_count": 69,
   "metadata": {
    "execution": {
     "iopub.execute_input": "2021-01-20T20:10:57.517929Z",
     "iopub.status.busy": "2021-01-20T20:10:57.515650Z",
     "iopub.status.idle": "2021-01-20T20:10:57.585957Z"
    }
   },
   "outputs": [
    {
     "data": {
      "text/html": [
       "<table>\n",
       "<caption>A tibble: 6 × 11</caption>\n",
       "<thead>\n",
       "\t<tr><th scope=col>cluster_id</th><th scope=col>primer_set</th><th scope=col>amplicon_size_avg</th><th scope=col>primer_id</th><th scope=col>sequence</th><th scope=col>length</th><th scope=col>degeneracy</th><th scope=col>position_start</th><th scope=col>position_end</th><th scope=col>Tm_avg</th><th scope=col>Tm_sd</th></tr>\n",
       "\t<tr><th scope=col>&lt;int&gt;</th><th scope=col>&lt;int&gt;</th><th scope=col>&lt;dbl&gt;</th><th scope=col>&lt;fct&gt;</th><th scope=col>&lt;fct&gt;</th><th scope=col>&lt;int&gt;</th><th scope=col>&lt;int&gt;</th><th scope=col>&lt;int&gt;</th><th scope=col>&lt;int&gt;</th><th scope=col>&lt;dbl&gt;</th><th scope=col>&lt;dbl&gt;</th></tr>\n",
       "</thead>\n",
       "<tbody>\n",
       "\t<tr><td>38</td><td>259</td><td>156.037</td><td>259f</td><td>AGCYGCWCGTATGGTWATTGC</td><td>21</td><td>8</td><td>227</td><td>248</td><td>60.88055</td><td>1.2036566</td></tr>\n",
       "\t<tr><td>38</td><td>259</td><td>156.037</td><td>259r</td><td>TTACGWGCTCTWGCWCCAGG </td><td>20</td><td>8</td><td>364</td><td>384</td><td>60.11770</td><td>0.6980054</td></tr>\n",
       "\t<tr><td>38</td><td>283</td><td>161.037</td><td>283f</td><td>GCWGAAGCYGCWCGTATGG  </td><td>19</td><td>8</td><td>222</td><td>241</td><td>60.88961</td><td>1.3018699</td></tr>\n",
       "\t<tr><td>38</td><td>283</td><td>161.037</td><td>283r</td><td>TTACGWGCTCTWGCWCCAGG </td><td>20</td><td>8</td><td>364</td><td>384</td><td>60.11770</td><td>0.6980054</td></tr>\n",
       "\t<tr><td>38</td><td>471</td><td>155.037</td><td>471f</td><td>GCYGCWCGTATGGTWATTGC </td><td>20</td><td>8</td><td>228</td><td>248</td><td>59.45945</td><td>1.2459783</td></tr>\n",
       "\t<tr><td>38</td><td>471</td><td>155.037</td><td>471r</td><td>TTACGWGCTCTWGCWCCAGG </td><td>20</td><td>8</td><td>364</td><td>384</td><td>60.11770</td><td>0.6980054</td></tr>\n",
       "</tbody>\n",
       "</table>\n"
      ],
      "text/latex": [
       "A tibble: 6 × 11\n",
       "\\begin{tabular}{lllllllllll}\n",
       " cluster\\_id & primer\\_set & amplicon\\_size\\_avg & primer\\_id & sequence & length & degeneracy & position\\_start & position\\_end & Tm\\_avg & Tm\\_sd\\\\\n",
       " <int> & <int> & <dbl> & <fct> & <fct> & <int> & <int> & <int> & <int> & <dbl> & <dbl>\\\\\n",
       "\\hline\n",
       "\t 38 & 259 & 156.037 & 259f & AGCYGCWCGTATGGTWATTGC & 21 & 8 & 227 & 248 & 60.88055 & 1.2036566\\\\\n",
       "\t 38 & 259 & 156.037 & 259r & TTACGWGCTCTWGCWCCAGG  & 20 & 8 & 364 & 384 & 60.11770 & 0.6980054\\\\\n",
       "\t 38 & 283 & 161.037 & 283f & GCWGAAGCYGCWCGTATGG   & 19 & 8 & 222 & 241 & 60.88961 & 1.3018699\\\\\n",
       "\t 38 & 283 & 161.037 & 283r & TTACGWGCTCTWGCWCCAGG  & 20 & 8 & 364 & 384 & 60.11770 & 0.6980054\\\\\n",
       "\t 38 & 471 & 155.037 & 471f & GCYGCWCGTATGGTWATTGC  & 20 & 8 & 228 & 248 & 59.45945 & 1.2459783\\\\\n",
       "\t 38 & 471 & 155.037 & 471r & TTACGWGCTCTWGCWCCAGG  & 20 & 8 & 364 & 384 & 60.11770 & 0.6980054\\\\\n",
       "\\end{tabular}\n"
      ],
      "text/markdown": [
       "\n",
       "A tibble: 6 × 11\n",
       "\n",
       "| cluster_id &lt;int&gt; | primer_set &lt;int&gt; | amplicon_size_avg &lt;dbl&gt; | primer_id &lt;fct&gt; | sequence &lt;fct&gt; | length &lt;int&gt; | degeneracy &lt;int&gt; | position_start &lt;int&gt; | position_end &lt;int&gt; | Tm_avg &lt;dbl&gt; | Tm_sd &lt;dbl&gt; |\n",
       "|---|---|---|---|---|---|---|---|---|---|---|\n",
       "| 38 | 259 | 156.037 | 259f | AGCYGCWCGTATGGTWATTGC | 21 | 8 | 227 | 248 | 60.88055 | 1.2036566 |\n",
       "| 38 | 259 | 156.037 | 259r | TTACGWGCTCTWGCWCCAGG  | 20 | 8 | 364 | 384 | 60.11770 | 0.6980054 |\n",
       "| 38 | 283 | 161.037 | 283f | GCWGAAGCYGCWCGTATGG   | 19 | 8 | 222 | 241 | 60.88961 | 1.3018699 |\n",
       "| 38 | 283 | 161.037 | 283r | TTACGWGCTCTWGCWCCAGG  | 20 | 8 | 364 | 384 | 60.11770 | 0.6980054 |\n",
       "| 38 | 471 | 155.037 | 471f | GCYGCWCGTATGGTWATTGC  | 20 | 8 | 228 | 248 | 59.45945 | 1.2459783 |\n",
       "| 38 | 471 | 155.037 | 471r | TTACGWGCTCTWGCWCCAGG  | 20 | 8 | 364 | 384 | 60.11770 | 0.6980054 |\n",
       "\n"
      ],
      "text/plain": [
       "  cluster_id primer_set amplicon_size_avg primer_id sequence             \n",
       "1 38         259        156.037           259f      AGCYGCWCGTATGGTWATTGC\n",
       "2 38         259        156.037           259r      TTACGWGCTCTWGCWCCAGG \n",
       "3 38         283        161.037           283f      GCWGAAGCYGCWCGTATGG  \n",
       "4 38         283        161.037           283r      TTACGWGCTCTWGCWCCAGG \n",
       "5 38         471        155.037           471f      GCYGCWCGTATGGTWATTGC \n",
       "6 38         471        155.037           471r      TTACGWGCTCTWGCWCCAGG \n",
       "  length degeneracy position_start position_end Tm_avg   Tm_sd    \n",
       "1 21     8          227            248          60.88055 1.2036566\n",
       "2 20     8          364            384          60.11770 0.6980054\n",
       "3 19     8          222            241          60.88961 1.3018699\n",
       "4 20     8          364            384          60.11770 0.6980054\n",
       "5 20     8          228            248          59.45945 1.2459783\n",
       "6 20     8          364            384          60.11770 0.6980054"
      ]
     },
     "metadata": {},
     "output_type": "display_data"
    }
   ],
   "source": [
    "df.dims(30, 40)\n",
    "primer_info %>%\n",
    "    filter(cluster_id %in% c(38)) %>%\n",
    "    filter(Tm_sd <= 2) %>%\n",
    "    group_by(primer_set) %>%\n",
    "    mutate(n = n()) %>%\n",
    "    ungroup() %>%\n",
    "    filter(n == 2) %>%\n",
    "    select(cluster_id, primer_set, amplicon_size_avg, primer_id, sequence, length, degeneracy, \n",
    "           position_start, position_end, Tm_avg, Tm_sd)\n",
    "df.dims()"
   ]
  },
  {
   "cell_type": "code",
   "execution_count": 73,
   "metadata": {
    "execution": {
     "iopub.execute_input": "2021-01-21T15:21:04.308900Z",
     "iopub.status.busy": "2021-01-21T15:21:04.306061Z",
     "iopub.status.idle": "2021-01-21T15:21:04.376030Z"
    }
   },
   "outputs": [
    {
     "name": "stdout",
     "output_type": "stream",
     "text": [
      "File written: /ebio/abt3_projects/software/dev/ll_pipelines/llprimer/experiments/methanobrevibacter/Methanobrevibacter_c38-259f-259r.tsv \n"
     ]
    }
   ],
   "source": [
    "# writing out primers\n",
    "outF = file.path(work_dir, 'Methanobrevibacter_c38-259f-259r.tsv')\n",
    "primer_info %>%\n",
    "    filter(cluster_id %in% c(38)) %>%\n",
    "    filter(Tm_sd <= 2) %>%\n",
    "    group_by(primer_set) %>%\n",
    "    mutate(n = n()) %>%\n",
    "    ungroup() %>%\n",
    "    filter(n == 2) %>%\n",
    "    head(n=2) %>%\n",
    "    write_table(outF)"
   ]
  },
  {
   "cell_type": "code",
   "execution_count": 78,
   "metadata": {
    "execution": {
     "iopub.execute_input": "2021-02-17T11:35:33.713955Z",
     "iopub.status.busy": "2021-02-17T11:35:33.711949Z",
     "iopub.status.idle": "2021-02-17T11:35:33.753421Z"
    }
   },
   "outputs": [
    {
     "data": {
      "text/html": [
       "<table>\n",
       "<caption>A data.frame: 3 × 19</caption>\n",
       "<thead>\n",
       "\t<tr><th scope=col>cluster_id</th><th scope=col>query</th><th scope=col>subject</th><th scope=col>subject_name</th><th scope=col>pident</th><th scope=col>length</th><th scope=col>mismatch</th><th scope=col>qstart</th><th scope=col>qend</th><th scope=col>sstart</th><th scope=col>send</th><th scope=col>evalue</th><th scope=col>slen</th><th scope=col>qlen</th><th scope=col>sscinames</th><th scope=col>staxids</th><th scope=col>pident_rank</th><th scope=col>gene_name</th><th scope=col>gene_taxonomy</th></tr>\n",
       "\t<tr><th scope=col>&lt;dbl&gt;</th><th scope=col>&lt;fct&gt;</th><th scope=col>&lt;fct&gt;</th><th scope=col>&lt;fct&gt;</th><th scope=col>&lt;dbl&gt;</th><th scope=col>&lt;int&gt;</th><th scope=col>&lt;int&gt;</th><th scope=col>&lt;int&gt;</th><th scope=col>&lt;int&gt;</th><th scope=col>&lt;int&gt;</th><th scope=col>&lt;int&gt;</th><th scope=col>&lt;dbl&gt;</th><th scope=col>&lt;int&gt;</th><th scope=col>&lt;int&gt;</th><th scope=col>&lt;fct&gt;</th><th scope=col>&lt;fct&gt;</th><th scope=col>&lt;int&gt;</th><th scope=col>&lt;chr&gt;</th><th scope=col>&lt;chr&gt;</th></tr>\n",
       "</thead>\n",
       "<tbody>\n",
       "\t<tr><td>38</td><td>dc805759468048c6ac14c024fd2792f4</td><td>WP_160323333.1</td><td>30S ribosomal protein S9 [Methanothermobacter sp. THM-2]                 </td><td>79.699</td><td>133</td><td>27</td><td>1</td><td>399</td><td>1</td><td>133</td><td>2.07e-74</td><td>133</td><td>402</td><td>Methanothermobacter sp. THM-2                                                                </td><td>2606912               </td><td> 8</td><td>30S ribosomal protein S9              </td><td>Methanothermobacter sp. THM-2   </td></tr>\n",
       "\t<tr><td>38</td><td>dc805759468048c6ac14c024fd2792f4</td><td>WP_013295348.1</td><td>30S ribosomal protein S9 [Methanothermobacter marburgensis]              </td><td>79.699</td><td>133</td><td>27</td><td>1</td><td>399</td><td>1</td><td>133</td><td>2.78e-74</td><td>133</td><td>402</td><td>Methanothermobacter marburgensis str. Marburg;Methanothermobacter marburgensis               </td><td>79929;145263          </td><td> 8</td><td>30S ribosomal protein S9              </td><td>Methanothermobacter marburgensis</td></tr>\n",
       "\t<tr><td>38</td><td>dc805759468048c6ac14c024fd2792f4</td><td>WP_048174846.1</td><td>MULTISPECIES: 30S ribosomal protein S9 [unclassified Methanothermobacter]</td><td>78.947</td><td>133</td><td>28</td><td>1</td><td>399</td><td>1</td><td>133</td><td>4.62e-73</td><td>133</td><td>402</td><td>Methanothermobacter sp. CaT2;Methanothermobacter sp. KEPCO-1;unclassified Methanothermobacter</td><td>866790;2603820;2631116</td><td>16</td><td>MULTISPECIES: 30S ribosomal protein S9</td><td>unclassified Methanothermobacter</td></tr>\n",
       "</tbody>\n",
       "</table>\n"
      ],
      "text/latex": [
       "A data.frame: 3 × 19\n",
       "\\begin{tabular}{lllllllllllllllllll}\n",
       " cluster\\_id & query & subject & subject\\_name & pident & length & mismatch & qstart & qend & sstart & send & evalue & slen & qlen & sscinames & staxids & pident\\_rank & gene\\_name & gene\\_taxonomy\\\\\n",
       " <dbl> & <fct> & <fct> & <fct> & <dbl> & <int> & <int> & <int> & <int> & <int> & <int> & <dbl> & <int> & <int> & <fct> & <fct> & <int> & <chr> & <chr>\\\\\n",
       "\\hline\n",
       "\t 38 & dc805759468048c6ac14c024fd2792f4 & WP\\_160323333.1 & 30S ribosomal protein S9 {[}Methanothermobacter sp. THM-2{]}                  & 79.699 & 133 & 27 & 1 & 399 & 1 & 133 & 2.07e-74 & 133 & 402 & Methanothermobacter sp. THM-2                                                                 & 2606912                &  8 & 30S ribosomal protein S9               & Methanothermobacter sp. THM-2   \\\\\n",
       "\t 38 & dc805759468048c6ac14c024fd2792f4 & WP\\_013295348.1 & 30S ribosomal protein S9 {[}Methanothermobacter marburgensis{]}               & 79.699 & 133 & 27 & 1 & 399 & 1 & 133 & 2.78e-74 & 133 & 402 & Methanothermobacter marburgensis str. Marburg;Methanothermobacter marburgensis                & 79929;145263           &  8 & 30S ribosomal protein S9               & Methanothermobacter marburgensis\\\\\n",
       "\t 38 & dc805759468048c6ac14c024fd2792f4 & WP\\_048174846.1 & MULTISPECIES: 30S ribosomal protein S9 {[}unclassified Methanothermobacter{]} & 78.947 & 133 & 28 & 1 & 399 & 1 & 133 & 4.62e-73 & 133 & 402 & Methanothermobacter sp. CaT2;Methanothermobacter sp. KEPCO-1;unclassified Methanothermobacter & 866790;2603820;2631116 & 16 & MULTISPECIES: 30S ribosomal protein S9 & unclassified Methanothermobacter\\\\\n",
       "\\end{tabular}\n"
      ],
      "text/markdown": [
       "\n",
       "A data.frame: 3 × 19\n",
       "\n",
       "| cluster_id &lt;dbl&gt; | query &lt;fct&gt; | subject &lt;fct&gt; | subject_name &lt;fct&gt; | pident &lt;dbl&gt; | length &lt;int&gt; | mismatch &lt;int&gt; | qstart &lt;int&gt; | qend &lt;int&gt; | sstart &lt;int&gt; | send &lt;int&gt; | evalue &lt;dbl&gt; | slen &lt;int&gt; | qlen &lt;int&gt; | sscinames &lt;fct&gt; | staxids &lt;fct&gt; | pident_rank &lt;int&gt; | gene_name &lt;chr&gt; | gene_taxonomy &lt;chr&gt; |\n",
       "|---|---|---|---|---|---|---|---|---|---|---|---|---|---|---|---|---|---|---|\n",
       "| 38 | dc805759468048c6ac14c024fd2792f4 | WP_160323333.1 | 30S ribosomal protein S9 [Methanothermobacter sp. THM-2]                  | 79.699 | 133 | 27 | 1 | 399 | 1 | 133 | 2.07e-74 | 133 | 402 | Methanothermobacter sp. THM-2                                                                 | 2606912                |  8 | 30S ribosomal protein S9               | Methanothermobacter sp. THM-2    |\n",
       "| 38 | dc805759468048c6ac14c024fd2792f4 | WP_013295348.1 | 30S ribosomal protein S9 [Methanothermobacter marburgensis]               | 79.699 | 133 | 27 | 1 | 399 | 1 | 133 | 2.78e-74 | 133 | 402 | Methanothermobacter marburgensis str. Marburg;Methanothermobacter marburgensis                | 79929;145263           |  8 | 30S ribosomal protein S9               | Methanothermobacter marburgensis |\n",
       "| 38 | dc805759468048c6ac14c024fd2792f4 | WP_048174846.1 | MULTISPECIES: 30S ribosomal protein S9 [unclassified Methanothermobacter] | 78.947 | 133 | 28 | 1 | 399 | 1 | 133 | 4.62e-73 | 133 | 402 | Methanothermobacter sp. CaT2;Methanothermobacter sp. KEPCO-1;unclassified Methanothermobacter | 866790;2603820;2631116 | 16 | MULTISPECIES: 30S ribosomal protein S9 | unclassified Methanothermobacter |\n",
       "\n"
      ],
      "text/plain": [
       "  cluster_id query                            subject       \n",
       "1 38         dc805759468048c6ac14c024fd2792f4 WP_160323333.1\n",
       "2 38         dc805759468048c6ac14c024fd2792f4 WP_013295348.1\n",
       "3 38         dc805759468048c6ac14c024fd2792f4 WP_048174846.1\n",
       "  subject_name                                                             \n",
       "1 30S ribosomal protein S9 [Methanothermobacter sp. THM-2]                 \n",
       "2 30S ribosomal protein S9 [Methanothermobacter marburgensis]              \n",
       "3 MULTISPECIES: 30S ribosomal protein S9 [unclassified Methanothermobacter]\n",
       "  pident length mismatch qstart qend sstart send evalue   slen qlen\n",
       "1 79.699 133    27       1      399  1      133  2.07e-74 133  402 \n",
       "2 79.699 133    27       1      399  1      133  2.78e-74 133  402 \n",
       "3 78.947 133    28       1      399  1      133  4.62e-73 133  402 \n",
       "  sscinames                                                                                    \n",
       "1 Methanothermobacter sp. THM-2                                                                \n",
       "2 Methanothermobacter marburgensis str. Marburg;Methanothermobacter marburgensis               \n",
       "3 Methanothermobacter sp. CaT2;Methanothermobacter sp. KEPCO-1;unclassified Methanothermobacter\n",
       "  staxids                pident_rank gene_name                             \n",
       "1 2606912                 8          30S ribosomal protein S9              \n",
       "2 79929;145263            8          30S ribosomal protein S9              \n",
       "3 866790;2603820;2631116 16          MULTISPECIES: 30S ribosomal protein S9\n",
       "  gene_taxonomy                   \n",
       "1 Methanothermobacter sp. THM-2   \n",
       "2 Methanothermobacter marburgensis\n",
       "3 unclassified Methanothermobacter"
      ]
     },
     "metadata": {},
     "output_type": "display_data"
    }
   ],
   "source": [
    "# all hits to Methanothermobacter\n",
    "df.dims(40)\n",
    "gene_annot %>%\n",
    "    filter(cluster_id == 38) %>%\n",
    "    filter(grepl('Methanothermo', sscinames)) %>%\n",
    "    arrange(-pident)\n",
    "df.dims()"
   ]
  },
  {
   "cell_type": "markdown",
   "metadata": {},
   "source": [
    "# sessionInfo"
   ]
  },
  {
   "cell_type": "code",
   "execution_count": 70,
   "metadata": {
    "execution": {
     "iopub.execute_input": "2021-01-21T07:58:55.730177Z",
     "iopub.status.busy": "2021-01-21T07:58:55.728146Z",
     "iopub.status.idle": "2021-01-21T07:58:56.105463Z"
    }
   },
   "outputs": [
    {
     "data": {
      "text/plain": [
       "R version 3.6.3 (2020-02-29)\n",
       "Platform: x86_64-conda_cos6-linux-gnu (64-bit)\n",
       "Running under: Ubuntu 18.04.5 LTS\n",
       "\n",
       "Matrix products: default\n",
       "BLAS/LAPACK: /ebio/abt3_projects/Georg_animal_feces/envs/tidyverse/lib/libopenblasp-r0.3.9.so\n",
       "\n",
       "locale:\n",
       " [1] LC_CTYPE=en_US.UTF-8       LC_NUMERIC=C              \n",
       " [3] LC_TIME=en_US.UTF-8        LC_COLLATE=en_US.UTF-8    \n",
       " [5] LC_MONETARY=en_US.UTF-8    LC_MESSAGES=en_US.UTF-8   \n",
       " [7] LC_PAPER=en_US.UTF-8       LC_NAME=C                 \n",
       " [9] LC_ADDRESS=C               LC_TELEPHONE=C            \n",
       "[11] LC_MEASUREMENT=en_US.UTF-8 LC_IDENTIFICATION=C       \n",
       "\n",
       "attached base packages:\n",
       "[1] stats     graphics  grDevices utils     datasets  methods   base     \n",
       "\n",
       "other attached packages:\n",
       "[1] LeyLabRMisc_0.1.6 ggplot2_3.3.1     tidyr_1.1.0       dplyr_1.0.0      \n",
       "\n",
       "loaded via a namespace (and not attached):\n",
       " [1] Rcpp_1.0.4.6     magrittr_1.5     munsell_0.5.0    tidyselect_1.1.0\n",
       " [5] uuid_0.1-4       colorspace_1.4-1 R6_2.4.1         rlang_0.4.6     \n",
       " [9] tools_3.6.3      grid_3.6.3       gtable_0.3.0     withr_2.2.0     \n",
       "[13] htmltools_0.4.0  ellipsis_0.3.1   digest_0.6.25    tibble_3.0.1    \n",
       "[17] lifecycle_0.2.0  crayon_1.3.4     IRdisplay_0.7.0  purrr_0.3.4     \n",
       "[21] repr_1.1.0       base64enc_0.1-3  vctrs_0.3.1      IRkernel_1.1    \n",
       "[25] glue_1.4.1       evaluate_0.14    stringi_1.4.6    pbdZMQ_0.3-3    \n",
       "[29] compiler_3.6.3   pillar_1.4.4     scales_1.1.1     generics_0.0.2  \n",
       "[33] jsonlite_1.6.1   pkgconfig_2.0.3 "
      ]
     },
     "metadata": {},
     "output_type": "display_data"
    }
   ],
   "source": [
    "sessionInfo()"
   ]
  },
  {
   "cell_type": "code",
   "execution_count": null,
   "metadata": {},
   "outputs": [],
   "source": []
  }
 ],
 "metadata": {
  "kernelspec": {
   "display_name": "R [conda env:Georg_animal_feces-tidyverse]",
   "language": "R",
   "name": "conda-env-Georg_animal_feces-tidyverse-r"
  },
  "language_info": {
   "codemirror_mode": "r",
   "file_extension": ".r",
   "mimetype": "text/x-r-source",
   "name": "R",
   "pygments_lexer": "r",
   "version": "3.6.3"
  }
 },
 "nbformat": 4,
 "nbformat_minor": 4
}
