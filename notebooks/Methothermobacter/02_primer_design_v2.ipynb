{
 "cells": [
  {
   "cell_type": "markdown",
   "metadata": {},
   "source": [
    "# Goal\n",
    "\n",
    "* Designing primers for Methanothermobacter\n",
    "  * Download genomes\n",
    "  * QC genomes\n",
    "  * Design primers"
   ]
  },
  {
   "cell_type": "markdown",
   "metadata": {},
   "source": [
    "# Var"
   ]
  },
  {
   "cell_type": "code",
   "execution_count": 1,
   "metadata": {
    "execution": {
     "iopub.execute_input": "2021-02-08T13:22:34.665457Z",
     "iopub.status.busy": "2021-02-08T13:22:34.662086Z",
     "iopub.status.idle": "2021-02-08T13:22:34.811570Z"
    }
   },
   "outputs": [],
   "source": [
    "work_dir = '/ebio/abt3_projects/software/dev/ll_pipelines/llprimer/experiments/methanothermobacter/'\n",
    "clade = 'Methanothermobacter'\n",
    "taxid = 145260"
   ]
  },
  {
   "cell_type": "markdown",
   "metadata": {},
   "source": [
    "# Init"
   ]
  },
  {
   "cell_type": "code",
   "execution_count": 2,
   "metadata": {
    "execution": {
     "iopub.execute_input": "2021-02-08T13:22:34.847180Z",
     "iopub.status.busy": "2021-02-08T13:22:34.814059Z",
     "iopub.status.idle": "2021-02-08T13:22:36.849852Z"
    }
   },
   "outputs": [
    {
     "name": "stderr",
     "output_type": "stream",
     "text": [
      "\n",
      "Attaching package: ‘dplyr’\n",
      "\n",
      "\n",
      "The following objects are masked from ‘package:stats’:\n",
      "\n",
      "    filter, lag\n",
      "\n",
      "\n",
      "The following objects are masked from ‘package:base’:\n",
      "\n",
      "    intersect, setdiff, setequal, union\n",
      "\n",
      "\n"
     ]
    }
   ],
   "source": [
    "library(dplyr)\n",
    "library(tidyr)\n",
    "library(ggplot2)\n",
    "library(LeyLabRMisc)"
   ]
  },
  {
   "cell_type": "code",
   "execution_count": 3,
   "metadata": {
    "execution": {
     "iopub.execute_input": "2021-02-08T13:22:36.854753Z",
     "iopub.status.busy": "2021-02-08T13:22:36.852877Z",
     "iopub.status.idle": "2021-02-08T13:22:36.879354Z"
    }
   },
   "outputs": [
    {
     "name": "stdout",
     "output_type": "stream",
     "text": [
      "Directory already exists: /ebio/abt3_projects/software/dev/ll_pipelines/llprimer/experiments/methanothermobacter \n"
     ]
    }
   ],
   "source": [
    "df.dims()\n",
    "make_dir(work_dir)"
   ]
  },
  {
   "cell_type": "markdown",
   "metadata": {},
   "source": [
    "# Genome download\n",
    "\n",
    "* Downloading genomes from NCBI"
   ]
  },
  {
   "cell_type": "markdown",
   "metadata": {},
   "source": [
    "```\n",
    "OUTDIR=/ebio/abt3_projects/software/dev/ll_pipelines/llprimer/experiments/methanothermobacter/\n",
    "mkdir -p $OUTDIR\n",
    "ncbi-genome-download -p 12 -s genbank -F fasta --genera Methanothermobacter -o $OUTDIR archaea\n",
    "```"
   ]
  },
  {
   "cell_type": "markdown",
   "metadata": {},
   "source": [
    "# Genome quality"
   ]
  },
  {
   "cell_type": "code",
   "execution_count": 4,
   "metadata": {
    "execution": {
     "iopub.execute_input": "2021-02-08T13:22:39.873586Z",
     "iopub.status.busy": "2021-02-08T13:22:39.871472Z",
     "iopub.status.idle": "2021-02-08T13:22:40.153726Z"
    }
   },
   "outputs": [
    {
     "data": {
      "text/html": [
       "<table>\n",
       "<caption>A data.frame: 20 × 4</caption>\n",
       "<thead>\n",
       "\t<tr><th scope=col>Name</th><th scope=col>Fasta</th><th scope=col>Domain</th><th scope=col>Taxid</th></tr>\n",
       "\t<tr><th scope=col>&lt;chr&gt;</th><th scope=col>&lt;chr&gt;</th><th scope=col>&lt;fct&gt;</th><th scope=col>&lt;dbl&gt;</th></tr>\n",
       "</thead>\n",
       "<tbody>\n",
       "\t<tr><td>GCA_000008645.1_ASM864v1_genomic  </td><td>/ebio/abt3_projects/software/dev/ll_pipelines/llprimer/experiments/methanothermobacter/genbank/archaea/GCA_000008645.1/GCA_000008645.1_ASM864v1_genomic.fna.gz  </td><td>Archaea</td><td>145260</td></tr>\n",
       "\t<tr><td>GCA_000145295.1_ASM14529v1_genomic</td><td>/ebio/abt3_projects/software/dev/ll_pipelines/llprimer/experiments/methanothermobacter/genbank/archaea/GCA_000145295.1/GCA_000145295.1_ASM14529v1_genomic.fna.gz</td><td>Archaea</td><td>145260</td></tr>\n",
       "\t<tr><td>⋮</td><td>⋮</td><td>⋮</td><td>⋮</td></tr>\n",
       "\t<tr><td>GCA_014889545.1_ASM1488954v1_genomic</td><td>/ebio/abt3_projects/software/dev/ll_pipelines/llprimer/experiments/methanothermobacter/genbank/archaea/GCA_014889545.1/GCA_014889545.1_ASM1488954v1_genomic.fna.gz</td><td>Archaea</td><td>145260</td></tr>\n",
       "\t<tr><td>GCA_900095815.1_SIV6_genomic        </td><td>/ebio/abt3_projects/software/dev/ll_pipelines/llprimer/experiments/methanothermobacter/genbank/archaea/GCA_900095815.1/GCA_900095815.1_SIV6_genomic.fna.gz        </td><td>Archaea</td><td>145260</td></tr>\n",
       "</tbody>\n",
       "</table>\n"
      ],
      "text/latex": [
       "A data.frame: 20 × 4\n",
       "\\begin{tabular}{llll}\n",
       " Name & Fasta & Domain & Taxid\\\\\n",
       " <chr> & <chr> & <fct> & <dbl>\\\\\n",
       "\\hline\n",
       "\t GCA\\_000008645.1\\_ASM864v1\\_genomic   & /ebio/abt3\\_projects/software/dev/ll\\_pipelines/llprimer/experiments/methanothermobacter/genbank/archaea/GCA\\_000008645.1/GCA\\_000008645.1\\_ASM864v1\\_genomic.fna.gz   & Archaea & 145260\\\\\n",
       "\t GCA\\_000145295.1\\_ASM14529v1\\_genomic & /ebio/abt3\\_projects/software/dev/ll\\_pipelines/llprimer/experiments/methanothermobacter/genbank/archaea/GCA\\_000145295.1/GCA\\_000145295.1\\_ASM14529v1\\_genomic.fna.gz & Archaea & 145260\\\\\n",
       "\t ⋮ & ⋮ & ⋮ & ⋮\\\\\n",
       "\t GCA\\_014889545.1\\_ASM1488954v1\\_genomic & /ebio/abt3\\_projects/software/dev/ll\\_pipelines/llprimer/experiments/methanothermobacter/genbank/archaea/GCA\\_014889545.1/GCA\\_014889545.1\\_ASM1488954v1\\_genomic.fna.gz & Archaea & 145260\\\\\n",
       "\t GCA\\_900095815.1\\_SIV6\\_genomic         & /ebio/abt3\\_projects/software/dev/ll\\_pipelines/llprimer/experiments/methanothermobacter/genbank/archaea/GCA\\_900095815.1/GCA\\_900095815.1\\_SIV6\\_genomic.fna.gz         & Archaea & 145260\\\\\n",
       "\\end{tabular}\n"
      ],
      "text/markdown": [
       "\n",
       "A data.frame: 20 × 4\n",
       "\n",
       "| Name &lt;chr&gt; | Fasta &lt;chr&gt; | Domain &lt;fct&gt; | Taxid &lt;dbl&gt; |\n",
       "|---|---|---|---|\n",
       "| GCA_000008645.1_ASM864v1_genomic   | /ebio/abt3_projects/software/dev/ll_pipelines/llprimer/experiments/methanothermobacter/genbank/archaea/GCA_000008645.1/GCA_000008645.1_ASM864v1_genomic.fna.gz   | Archaea | 145260 |\n",
       "| GCA_000145295.1_ASM14529v1_genomic | /ebio/abt3_projects/software/dev/ll_pipelines/llprimer/experiments/methanothermobacter/genbank/archaea/GCA_000145295.1/GCA_000145295.1_ASM14529v1_genomic.fna.gz | Archaea | 145260 |\n",
       "| ⋮ | ⋮ | ⋮ | ⋮ |\n",
       "| GCA_014889545.1_ASM1488954v1_genomic | /ebio/abt3_projects/software/dev/ll_pipelines/llprimer/experiments/methanothermobacter/genbank/archaea/GCA_014889545.1/GCA_014889545.1_ASM1488954v1_genomic.fna.gz | Archaea | 145260 |\n",
       "| GCA_900095815.1_SIV6_genomic         | /ebio/abt3_projects/software/dev/ll_pipelines/llprimer/experiments/methanothermobacter/genbank/archaea/GCA_900095815.1/GCA_900095815.1_SIV6_genomic.fna.gz         | Archaea | 145260 |\n",
       "\n"
      ],
      "text/plain": [
       "   Name                                \n",
       "1  GCA_000008645.1_ASM864v1_genomic    \n",
       "2  GCA_000145295.1_ASM14529v1_genomic  \n",
       "⋮  ⋮                                   \n",
       "19 GCA_014889545.1_ASM1488954v1_genomic\n",
       "20 GCA_900095815.1_SIV6_genomic        \n",
       "   Fasta                                                                                                                                                             \n",
       "1  /ebio/abt3_projects/software/dev/ll_pipelines/llprimer/experiments/methanothermobacter/genbank/archaea/GCA_000008645.1/GCA_000008645.1_ASM864v1_genomic.fna.gz    \n",
       "2  /ebio/abt3_projects/software/dev/ll_pipelines/llprimer/experiments/methanothermobacter/genbank/archaea/GCA_000145295.1/GCA_000145295.1_ASM14529v1_genomic.fna.gz  \n",
       "⋮  ⋮                                                                                                                                                                 \n",
       "19 /ebio/abt3_projects/software/dev/ll_pipelines/llprimer/experiments/methanothermobacter/genbank/archaea/GCA_014889545.1/GCA_014889545.1_ASM1488954v1_genomic.fna.gz\n",
       "20 /ebio/abt3_projects/software/dev/ll_pipelines/llprimer/experiments/methanothermobacter/genbank/archaea/GCA_900095815.1/GCA_900095815.1_SIV6_genomic.fna.gz        \n",
       "   Domain  Taxid \n",
       "1  Archaea 145260\n",
       "2  Archaea 145260\n",
       "⋮  ⋮       ⋮     \n",
       "19 Archaea 145260\n",
       "20 Archaea 145260"
      ]
     },
     "metadata": {},
     "output_type": "display_data"
    },
    {
     "name": "stdout",
     "output_type": "stream",
     "text": [
      "File written: /ebio/abt3_projects/software/dev/ll_pipelines/llprimer/experiments/methanothermobacter/genomes_raw.txt \n"
     ]
    }
   ],
   "source": [
    "D = file.path(work_dir, 'genbank')\n",
    "files = list_files(D, '.fna.gz')\n",
    "samps = data.frame(Name = files %>% as.character %>% basename,\n",
    "                   Fasta = files,\n",
    "                   Domain = 'Archaea',\n",
    "                   Taxid = taxid) %>%\n",
    "    mutate(Name = gsub('\\\\.fna\\\\.gz$', '', Name),\n",
    "           Fasta = gsub('/+', '/', Fasta))\n",
    "samps\n",
    "\n",
    "# writing file\n",
    "outfile = file.path(work_dir, 'genomes_raw.txt')\n",
    "write_table(samps, outfile)"
   ]
  },
  {
   "cell_type": "markdown",
   "metadata": {},
   "source": [
    "## LLG"
   ]
  },
  {
   "cell_type": "markdown",
   "metadata": {},
   "source": [
    "#### Config"
   ]
  },
  {
   "cell_type": "code",
   "execution_count": null,
   "metadata": {},
   "outputs": [],
   "source": [
    "cat_file(file.path(work_dir, 'config_llg.yaml'))"
   ]
  },
  {
   "cell_type": "markdown",
   "metadata": {},
   "source": [
    "#### Run"
   ]
  },
  {
   "cell_type": "markdown",
   "metadata": {},
   "source": [
    "```\n",
    "(snakemake) @ rick:/ebio/abt3_projects/software/dev/ll_pipelines/llg\n",
    "$ screen -L -S llg-thermo ./snakemake_sge.sh /ebio/abt3_projects/software/dev/ll_pipelines/llprimer/experiments/methanothermobacter/config_llg.yaml 30 -F\n",
    "```"
   ]
  },
  {
   "cell_type": "markdown",
   "metadata": {},
   "source": [
    "### Samples table of high-quality genomes"
   ]
  },
  {
   "cell_type": "code",
   "execution_count": 5,
   "metadata": {
    "execution": {
     "iopub.execute_input": "2021-02-08T13:22:52.072898Z",
     "iopub.status.busy": "2021-02-08T13:22:52.070756Z",
     "iopub.status.idle": "2021-02-08T13:22:52.174666Z"
    }
   },
   "outputs": [
    {
     "data": {
      "text/html": [
       "<table>\n",
       "<caption>A data.frame: 20 × 33</caption>\n",
       "<thead>\n",
       "\t<tr><th scope=col>Bin.Id</th><th scope=col>Marker.lineage</th><th scope=col>X..genomes</th><th scope=col>X..markers</th><th scope=col>X..marker.sets</th><th scope=col>Completeness</th><th scope=col>Contamination</th><th scope=col>Strain.heterogeneity</th><th scope=col>Genome.size..bp.</th><th scope=col>X..ambiguous.bases</th><th scope=col>⋯</th><th scope=col>X0</th><th scope=col>X1</th><th scope=col>X2</th><th scope=col>X3</th><th scope=col>X4</th><th scope=col>X5.</th><th scope=col>assembly.Id</th><th scope=col>assembler.Id</th><th scope=col>taxon.Id</th><th scope=col>File</th></tr>\n",
       "\t<tr><th scope=col>&lt;fct&gt;</th><th scope=col>&lt;fct&gt;</th><th scope=col>&lt;int&gt;</th><th scope=col>&lt;int&gt;</th><th scope=col>&lt;int&gt;</th><th scope=col>&lt;dbl&gt;</th><th scope=col>&lt;dbl&gt;</th><th scope=col>&lt;dbl&gt;</th><th scope=col>&lt;int&gt;</th><th scope=col>&lt;int&gt;</th><th scope=col>⋯</th><th scope=col>&lt;int&gt;</th><th scope=col>&lt;int&gt;</th><th scope=col>&lt;int&gt;</th><th scope=col>&lt;int&gt;</th><th scope=col>&lt;int&gt;</th><th scope=col>&lt;int&gt;</th><th scope=col>&lt;fct&gt;</th><th scope=col>&lt;fct&gt;</th><th scope=col>&lt;lgl&gt;</th><th scope=col>&lt;fct&gt;</th></tr>\n",
       "</thead>\n",
       "<tbody>\n",
       "\t<tr><td>GCA_000008645.1_ASM864v1_genomic  </td><td>p__Euryarchaeota (UID3)</td><td>148</td><td>188</td><td>125</td><td>100</td><td>0.31</td><td>16.67</td><td>1751377</td><td>0</td><td>⋯</td><td>0</td><td>184</td><td>3</td><td>1</td><td>0</td><td>0</td><td>|ebio|abt3_projects|software|dev|ll_pipelines|llprimer|experiments|methanothermobacter|LLG_output|checkM|1|checkm|markers_qa_summary.tsv.1</td><td>markers_qa_summary.tsv.1</td><td>NA</td><td>/ebio/abt3_projects/software/dev/ll_pipelines/llprimer/experiments/methanothermobacter/LLG_output/checkM/1/checkm/markers_qa_summary.tsv.1</td></tr>\n",
       "\t<tr><td>GCA_000828575.1_ASM82857v1_genomic</td><td>p__Euryarchaeota (UID3)</td><td>148</td><td>188</td><td>125</td><td>100</td><td>0.00</td><td> 0.00</td><td>1731018</td><td>0</td><td>⋯</td><td>0</td><td>188</td><td>0</td><td>0</td><td>0</td><td>0</td><td>|ebio|abt3_projects|software|dev|ll_pipelines|llprimer|experiments|methanothermobacter|LLG_output|checkM|1|checkm|markers_qa_summary.tsv.2</td><td>markers_qa_summary.tsv.2</td><td>NA</td><td>/ebio/abt3_projects/software/dev/ll_pipelines/llprimer/experiments/methanothermobacter/LLG_output/checkM/1/checkm/markers_qa_summary.tsv.2</td></tr>\n",
       "\t<tr><td>⋮</td><td>⋮</td><td>⋮</td><td>⋮</td><td>⋮</td><td>⋮</td><td>⋮</td><td>⋮</td><td>⋮</td><td>⋮</td><td>⋱</td><td>⋮</td><td>⋮</td><td>⋮</td><td>⋮</td><td>⋮</td><td>⋮</td><td>⋮</td><td>⋮</td><td>⋮</td><td>⋮</td></tr>\n",
       "\t<tr><td>GCA_014361435.1_ASM1436143v1_genomic</td><td>p__Euryarchaeota (UID3)</td><td>148</td><td>188</td><td>125</td><td> 97.6</td><td>2.87</td><td>44.44</td><td>1612916</td><td>30</td><td>⋯</td><td>3</td><td>176</td><td>9</td><td>0</td><td>0</td><td>0</td><td>|ebio|abt3_projects|software|dev|ll_pipelines|llprimer|experiments|methanothermobacter|LLG_output|checkM|2|checkm|markers_qa_summary.tsv.9 </td><td>markers_qa_summary.tsv.9 </td><td>NA</td><td>/ebio/abt3_projects/software/dev/ll_pipelines/llprimer/experiments/methanothermobacter/LLG_output/checkM/2/checkm/markers_qa_summary.tsv.9 </td></tr>\n",
       "\t<tr><td>GCA_900095815.1_SIV6_genomic        </td><td>p__Euryarchaeota (UID3)</td><td>148</td><td>188</td><td>125</td><td>100.0</td><td>0.00</td><td> 0.00</td><td>1686891</td><td> 0</td><td>⋯</td><td>0</td><td>188</td><td>0</td><td>0</td><td>0</td><td>0</td><td>|ebio|abt3_projects|software|dev|ll_pipelines|llprimer|experiments|methanothermobacter|LLG_output|checkM|2|checkm|markers_qa_summary.tsv.10</td><td>markers_qa_summary.tsv.10</td><td>NA</td><td>/ebio/abt3_projects/software/dev/ll_pipelines/llprimer/experiments/methanothermobacter/LLG_output/checkM/2/checkm/markers_qa_summary.tsv.10</td></tr>\n",
       "</tbody>\n",
       "</table>\n"
      ],
      "text/latex": [
       "A data.frame: 20 × 33\n",
       "\\begin{tabular}{lllllllllllllllllllll}\n",
       " Bin.Id & Marker.lineage & X..genomes & X..markers & X..marker.sets & Completeness & Contamination & Strain.heterogeneity & Genome.size..bp. & X..ambiguous.bases & ⋯ & X0 & X1 & X2 & X3 & X4 & X5. & assembly.Id & assembler.Id & taxon.Id & File\\\\\n",
       " <fct> & <fct> & <int> & <int> & <int> & <dbl> & <dbl> & <dbl> & <int> & <int> & ⋯ & <int> & <int> & <int> & <int> & <int> & <int> & <fct> & <fct> & <lgl> & <fct>\\\\\n",
       "\\hline\n",
       "\t GCA\\_000008645.1\\_ASM864v1\\_genomic   & p\\_\\_Euryarchaeota (UID3) & 148 & 188 & 125 & 100 & 0.31 & 16.67 & 1751377 & 0 & ⋯ & 0 & 184 & 3 & 1 & 0 & 0 & \\textbar{}ebio\\textbar{}abt3\\_projects\\textbar{}software\\textbar{}dev\\textbar{}ll\\_pipelines\\textbar{}llprimer\\textbar{}experiments\\textbar{}methanothermobacter\\textbar{}LLG\\_output\\textbar{}checkM\\textbar{}1\\textbar{}checkm\\textbar{}markers\\_qa\\_summary.tsv.1 & markers\\_qa\\_summary.tsv.1 & NA & /ebio/abt3\\_projects/software/dev/ll\\_pipelines/llprimer/experiments/methanothermobacter/LLG\\_output/checkM/1/checkm/markers\\_qa\\_summary.tsv.1\\\\\n",
       "\t GCA\\_000828575.1\\_ASM82857v1\\_genomic & p\\_\\_Euryarchaeota (UID3) & 148 & 188 & 125 & 100 & 0.00 &  0.00 & 1731018 & 0 & ⋯ & 0 & 188 & 0 & 0 & 0 & 0 & \\textbar{}ebio\\textbar{}abt3\\_projects\\textbar{}software\\textbar{}dev\\textbar{}ll\\_pipelines\\textbar{}llprimer\\textbar{}experiments\\textbar{}methanothermobacter\\textbar{}LLG\\_output\\textbar{}checkM\\textbar{}1\\textbar{}checkm\\textbar{}markers\\_qa\\_summary.tsv.2 & markers\\_qa\\_summary.tsv.2 & NA & /ebio/abt3\\_projects/software/dev/ll\\_pipelines/llprimer/experiments/methanothermobacter/LLG\\_output/checkM/1/checkm/markers\\_qa\\_summary.tsv.2\\\\\n",
       "\t ⋮ & ⋮ & ⋮ & ⋮ & ⋮ & ⋮ & ⋮ & ⋮ & ⋮ & ⋮ & ⋱ & ⋮ & ⋮ & ⋮ & ⋮ & ⋮ & ⋮ & ⋮ & ⋮ & ⋮ & ⋮\\\\\n",
       "\t GCA\\_014361435.1\\_ASM1436143v1\\_genomic & p\\_\\_Euryarchaeota (UID3) & 148 & 188 & 125 &  97.6 & 2.87 & 44.44 & 1612916 & 30 & ⋯ & 3 & 176 & 9 & 0 & 0 & 0 & \\textbar{}ebio\\textbar{}abt3\\_projects\\textbar{}software\\textbar{}dev\\textbar{}ll\\_pipelines\\textbar{}llprimer\\textbar{}experiments\\textbar{}methanothermobacter\\textbar{}LLG\\_output\\textbar{}checkM\\textbar{}2\\textbar{}checkm\\textbar{}markers\\_qa\\_summary.tsv.9  & markers\\_qa\\_summary.tsv.9  & NA & /ebio/abt3\\_projects/software/dev/ll\\_pipelines/llprimer/experiments/methanothermobacter/LLG\\_output/checkM/2/checkm/markers\\_qa\\_summary.tsv.9 \\\\\n",
       "\t GCA\\_900095815.1\\_SIV6\\_genomic         & p\\_\\_Euryarchaeota (UID3) & 148 & 188 & 125 & 100.0 & 0.00 &  0.00 & 1686891 &  0 & ⋯ & 0 & 188 & 0 & 0 & 0 & 0 & \\textbar{}ebio\\textbar{}abt3\\_projects\\textbar{}software\\textbar{}dev\\textbar{}ll\\_pipelines\\textbar{}llprimer\\textbar{}experiments\\textbar{}methanothermobacter\\textbar{}LLG\\_output\\textbar{}checkM\\textbar{}2\\textbar{}checkm\\textbar{}markers\\_qa\\_summary.tsv.10 & markers\\_qa\\_summary.tsv.10 & NA & /ebio/abt3\\_projects/software/dev/ll\\_pipelines/llprimer/experiments/methanothermobacter/LLG\\_output/checkM/2/checkm/markers\\_qa\\_summary.tsv.10\\\\\n",
       "\\end{tabular}\n"
      ],
      "text/markdown": [
       "\n",
       "A data.frame: 20 × 33\n",
       "\n",
       "| Bin.Id &lt;fct&gt; | Marker.lineage &lt;fct&gt; | X..genomes &lt;int&gt; | X..markers &lt;int&gt; | X..marker.sets &lt;int&gt; | Completeness &lt;dbl&gt; | Contamination &lt;dbl&gt; | Strain.heterogeneity &lt;dbl&gt; | Genome.size..bp. &lt;int&gt; | X..ambiguous.bases &lt;int&gt; | ⋯ ⋯ | X0 &lt;int&gt; | X1 &lt;int&gt; | X2 &lt;int&gt; | X3 &lt;int&gt; | X4 &lt;int&gt; | X5. &lt;int&gt; | assembly.Id &lt;fct&gt; | assembler.Id &lt;fct&gt; | taxon.Id &lt;lgl&gt; | File &lt;fct&gt; |\n",
       "|---|---|---|---|---|---|---|---|---|---|---|---|---|---|---|---|---|---|---|---|---|\n",
       "| GCA_000008645.1_ASM864v1_genomic   | p__Euryarchaeota (UID3) | 148 | 188 | 125 | 100 | 0.31 | 16.67 | 1751377 | 0 | ⋯ | 0 | 184 | 3 | 1 | 0 | 0 | |ebio|abt3_projects|software|dev|ll_pipelines|llprimer|experiments|methanothermobacter|LLG_output|checkM|1|checkm|markers_qa_summary.tsv.1 | markers_qa_summary.tsv.1 | NA | /ebio/abt3_projects/software/dev/ll_pipelines/llprimer/experiments/methanothermobacter/LLG_output/checkM/1/checkm/markers_qa_summary.tsv.1 |\n",
       "| GCA_000828575.1_ASM82857v1_genomic | p__Euryarchaeota (UID3) | 148 | 188 | 125 | 100 | 0.00 |  0.00 | 1731018 | 0 | ⋯ | 0 | 188 | 0 | 0 | 0 | 0 | |ebio|abt3_projects|software|dev|ll_pipelines|llprimer|experiments|methanothermobacter|LLG_output|checkM|1|checkm|markers_qa_summary.tsv.2 | markers_qa_summary.tsv.2 | NA | /ebio/abt3_projects/software/dev/ll_pipelines/llprimer/experiments/methanothermobacter/LLG_output/checkM/1/checkm/markers_qa_summary.tsv.2 |\n",
       "| ⋮ | ⋮ | ⋮ | ⋮ | ⋮ | ⋮ | ⋮ | ⋮ | ⋮ | ⋮ | ⋱ | ⋮ | ⋮ | ⋮ | ⋮ | ⋮ | ⋮ | ⋮ | ⋮ | ⋮ | ⋮ |\n",
       "| GCA_014361435.1_ASM1436143v1_genomic | p__Euryarchaeota (UID3) | 148 | 188 | 125 |  97.6 | 2.87 | 44.44 | 1612916 | 30 | ⋯ | 3 | 176 | 9 | 0 | 0 | 0 | |ebio|abt3_projects|software|dev|ll_pipelines|llprimer|experiments|methanothermobacter|LLG_output|checkM|2|checkm|markers_qa_summary.tsv.9  | markers_qa_summary.tsv.9  | NA | /ebio/abt3_projects/software/dev/ll_pipelines/llprimer/experiments/methanothermobacter/LLG_output/checkM/2/checkm/markers_qa_summary.tsv.9  |\n",
       "| GCA_900095815.1_SIV6_genomic         | p__Euryarchaeota (UID3) | 148 | 188 | 125 | 100.0 | 0.00 |  0.00 | 1686891 |  0 | ⋯ | 0 | 188 | 0 | 0 | 0 | 0 | |ebio|abt3_projects|software|dev|ll_pipelines|llprimer|experiments|methanothermobacter|LLG_output|checkM|2|checkm|markers_qa_summary.tsv.10 | markers_qa_summary.tsv.10 | NA | /ebio/abt3_projects/software/dev/ll_pipelines/llprimer/experiments/methanothermobacter/LLG_output/checkM/2/checkm/markers_qa_summary.tsv.10 |\n",
       "\n"
      ],
      "text/plain": [
       "   Bin.Id                               Marker.lineage          X..genomes\n",
       "1  GCA_000008645.1_ASM864v1_genomic     p__Euryarchaeota (UID3) 148       \n",
       "2  GCA_000828575.1_ASM82857v1_genomic   p__Euryarchaeota (UID3) 148       \n",
       "⋮  ⋮                                    ⋮                       ⋮         \n",
       "19 GCA_014361435.1_ASM1436143v1_genomic p__Euryarchaeota (UID3) 148       \n",
       "20 GCA_900095815.1_SIV6_genomic         p__Euryarchaeota (UID3) 148       \n",
       "   X..markers X..marker.sets Completeness Contamination Strain.heterogeneity\n",
       "1  188        125            100          0.31          16.67               \n",
       "2  188        125            100          0.00           0.00               \n",
       "⋮  ⋮          ⋮              ⋮            ⋮             ⋮                   \n",
       "19 188        125             97.6        2.87          44.44               \n",
       "20 188        125            100.0        0.00           0.00               \n",
       "   Genome.size..bp. X..ambiguous.bases ⋯ X0 X1  X2 X3 X4 X5.\n",
       "1  1751377          0                  ⋯ 0  184 3  1  0  0  \n",
       "2  1731018          0                  ⋯ 0  188 0  0  0  0  \n",
       "⋮  ⋮                ⋮                  ⋱ ⋮  ⋮   ⋮  ⋮  ⋮  ⋮  \n",
       "19 1612916          30                 ⋯ 3  176 9  0  0  0  \n",
       "20 1686891           0                 ⋯ 0  188 0  0  0  0  \n",
       "   assembly.Id                                                                                                                                \n",
       "1  |ebio|abt3_projects|software|dev|ll_pipelines|llprimer|experiments|methanothermobacter|LLG_output|checkM|1|checkm|markers_qa_summary.tsv.1 \n",
       "2  |ebio|abt3_projects|software|dev|ll_pipelines|llprimer|experiments|methanothermobacter|LLG_output|checkM|1|checkm|markers_qa_summary.tsv.2 \n",
       "⋮  ⋮                                                                                                                                          \n",
       "19 |ebio|abt3_projects|software|dev|ll_pipelines|llprimer|experiments|methanothermobacter|LLG_output|checkM|2|checkm|markers_qa_summary.tsv.9 \n",
       "20 |ebio|abt3_projects|software|dev|ll_pipelines|llprimer|experiments|methanothermobacter|LLG_output|checkM|2|checkm|markers_qa_summary.tsv.10\n",
       "   assembler.Id              taxon.Id\n",
       "1  markers_qa_summary.tsv.1  NA      \n",
       "2  markers_qa_summary.tsv.2  NA      \n",
       "⋮  ⋮                         ⋮       \n",
       "19 markers_qa_summary.tsv.9  NA      \n",
       "20 markers_qa_summary.tsv.10 NA      \n",
       "   File                                                                                                                                       \n",
       "1  /ebio/abt3_projects/software/dev/ll_pipelines/llprimer/experiments/methanothermobacter/LLG_output/checkM/1/checkm/markers_qa_summary.tsv.1 \n",
       "2  /ebio/abt3_projects/software/dev/ll_pipelines/llprimer/experiments/methanothermobacter/LLG_output/checkM/1/checkm/markers_qa_summary.tsv.2 \n",
       "⋮  ⋮                                                                                                                                          \n",
       "19 /ebio/abt3_projects/software/dev/ll_pipelines/llprimer/experiments/methanothermobacter/LLG_output/checkM/2/checkm/markers_qa_summary.tsv.9 \n",
       "20 /ebio/abt3_projects/software/dev/ll_pipelines/llprimer/experiments/methanothermobacter/LLG_output/checkM/2/checkm/markers_qa_summary.tsv.10"
      ]
     },
     "metadata": {},
     "output_type": "display_data"
    }
   ],
   "source": [
    "# checkM summary\n",
    "checkm = file.path(work_dir, 'LLG_output', 'checkM', 'checkm_qa_summary.tsv') %>%\n",
    "    read.delim(sep='\\t') \n",
    "checkm"
   ]
  },
  {
   "cell_type": "code",
   "execution_count": 6,
   "metadata": {
    "execution": {
     "iopub.execute_input": "2021-02-08T13:22:52.441882Z",
     "iopub.status.busy": "2021-02-08T13:22:52.439703Z",
     "iopub.status.idle": "2021-02-08T13:22:52.510040Z"
    }
   },
   "outputs": [
    {
     "data": {
      "text/html": [
       "<table>\n",
       "<caption>A data.frame: 20 × 4</caption>\n",
       "<thead>\n",
       "\t<tr><th scope=col>genome</th><th scope=col>completeness</th><th scope=col>contamination</th><th scope=col>Bin.Id</th></tr>\n",
       "\t<tr><th scope=col>&lt;fct&gt;</th><th scope=col>&lt;dbl&gt;</th><th scope=col>&lt;dbl&gt;</th><th scope=col>&lt;chr&gt;</th></tr>\n",
       "</thead>\n",
       "<tbody>\n",
       "\t<tr><td>/ebio/abt3_scratch/nyoungblut/LLG_62325884640/genomes/GCA_000008645.1_ASM864v1_genomic.fna  </td><td>100</td><td>0.31</td><td>GCA_000008645.1_ASM864v1_genomic  </td></tr>\n",
       "\t<tr><td>/ebio/abt3_scratch/nyoungblut/LLG_62325884640/genomes/GCA_000828575.1_ASM82857v1_genomic.fna</td><td>100</td><td>0.00</td><td>GCA_000828575.1_ASM82857v1_genomic</td></tr>\n",
       "\t<tr><td>⋮</td><td>⋮</td><td>⋮</td><td>⋮</td></tr>\n",
       "\t<tr><td>/ebio/abt3_scratch/nyoungblut/LLG_62325884640/genomes/GCA_014361435.1_ASM1436143v1_genomic.fna</td><td> 97.6</td><td>2.87</td><td>GCA_014361435.1_ASM1436143v1_genomic</td></tr>\n",
       "\t<tr><td>/ebio/abt3_scratch/nyoungblut/LLG_62325884640/genomes/GCA_900095815.1_SIV6_genomic.fna        </td><td>100.0</td><td>0.00</td><td>GCA_900095815.1_SIV6_genomic        </td></tr>\n",
       "</tbody>\n",
       "</table>\n"
      ],
      "text/latex": [
       "A data.frame: 20 × 4\n",
       "\\begin{tabular}{llll}\n",
       " genome & completeness & contamination & Bin.Id\\\\\n",
       " <fct> & <dbl> & <dbl> & <chr>\\\\\n",
       "\\hline\n",
       "\t /ebio/abt3\\_scratch/nyoungblut/LLG\\_62325884640/genomes/GCA\\_000008645.1\\_ASM864v1\\_genomic.fna   & 100 & 0.31 & GCA\\_000008645.1\\_ASM864v1\\_genomic  \\\\\n",
       "\t /ebio/abt3\\_scratch/nyoungblut/LLG\\_62325884640/genomes/GCA\\_000828575.1\\_ASM82857v1\\_genomic.fna & 100 & 0.00 & GCA\\_000828575.1\\_ASM82857v1\\_genomic\\\\\n",
       "\t ⋮ & ⋮ & ⋮ & ⋮\\\\\n",
       "\t /ebio/abt3\\_scratch/nyoungblut/LLG\\_62325884640/genomes/GCA\\_014361435.1\\_ASM1436143v1\\_genomic.fna &  97.6 & 2.87 & GCA\\_014361435.1\\_ASM1436143v1\\_genomic\\\\\n",
       "\t /ebio/abt3\\_scratch/nyoungblut/LLG\\_62325884640/genomes/GCA\\_900095815.1\\_SIV6\\_genomic.fna         & 100.0 & 0.00 & GCA\\_900095815.1\\_SIV6\\_genomic        \\\\\n",
       "\\end{tabular}\n"
      ],
      "text/markdown": [
       "\n",
       "A data.frame: 20 × 4\n",
       "\n",
       "| genome &lt;fct&gt; | completeness &lt;dbl&gt; | contamination &lt;dbl&gt; | Bin.Id &lt;chr&gt; |\n",
       "|---|---|---|---|\n",
       "| /ebio/abt3_scratch/nyoungblut/LLG_62325884640/genomes/GCA_000008645.1_ASM864v1_genomic.fna   | 100 | 0.31 | GCA_000008645.1_ASM864v1_genomic   |\n",
       "| /ebio/abt3_scratch/nyoungblut/LLG_62325884640/genomes/GCA_000828575.1_ASM82857v1_genomic.fna | 100 | 0.00 | GCA_000828575.1_ASM82857v1_genomic |\n",
       "| ⋮ | ⋮ | ⋮ | ⋮ |\n",
       "| /ebio/abt3_scratch/nyoungblut/LLG_62325884640/genomes/GCA_014361435.1_ASM1436143v1_genomic.fna |  97.6 | 2.87 | GCA_014361435.1_ASM1436143v1_genomic |\n",
       "| /ebio/abt3_scratch/nyoungblut/LLG_62325884640/genomes/GCA_900095815.1_SIV6_genomic.fna         | 100.0 | 0.00 | GCA_900095815.1_SIV6_genomic         |\n",
       "\n"
      ],
      "text/plain": [
       "   genome                                                                                        \n",
       "1  /ebio/abt3_scratch/nyoungblut/LLG_62325884640/genomes/GCA_000008645.1_ASM864v1_genomic.fna    \n",
       "2  /ebio/abt3_scratch/nyoungblut/LLG_62325884640/genomes/GCA_000828575.1_ASM82857v1_genomic.fna  \n",
       "⋮  ⋮                                                                                             \n",
       "19 /ebio/abt3_scratch/nyoungblut/LLG_62325884640/genomes/GCA_014361435.1_ASM1436143v1_genomic.fna\n",
       "20 /ebio/abt3_scratch/nyoungblut/LLG_62325884640/genomes/GCA_900095815.1_SIV6_genomic.fna        \n",
       "   completeness contamination Bin.Id                              \n",
       "1  100          0.31          GCA_000008645.1_ASM864v1_genomic    \n",
       "2  100          0.00          GCA_000828575.1_ASM82857v1_genomic  \n",
       "⋮  ⋮            ⋮             ⋮                                   \n",
       "19  97.6        2.87          GCA_014361435.1_ASM1436143v1_genomic\n",
       "20 100.0        0.00          GCA_900095815.1_SIV6_genomic        "
      ]
     },
     "metadata": {},
     "output_type": "display_data"
    }
   ],
   "source": [
    "# dRep summary\n",
    "drep = file.path(work_dir, 'LLG_output', 'drep', 'checkm_markers_qa_summary.tsv') %>%\n",
    "    read.delim(sep='\\t') %>%\n",
    "    mutate(Bin.Id = gsub('.+/', '', genome),\n",
    "           Bin.Id = gsub('\\\\.fna$', '', Bin.Id))\n",
    "drep"
   ]
  },
  {
   "cell_type": "code",
   "execution_count": 7,
   "metadata": {
    "execution": {
     "iopub.execute_input": "2021-02-08T13:22:54.305952Z",
     "iopub.status.busy": "2021-02-08T13:22:54.303543Z",
     "iopub.status.idle": "2021-02-08T13:22:54.342542Z"
    }
   },
   "outputs": [
    {
     "data": {
      "text/html": [
       "<table>\n",
       "<caption>A data.frame: 16 × 2</caption>\n",
       "<thead>\n",
       "\t<tr><th scope=col>Name</th><th scope=col>Fasta</th></tr>\n",
       "\t<tr><th scope=col>&lt;fct&gt;</th><th scope=col>&lt;fct&gt;</th></tr>\n",
       "</thead>\n",
       "<tbody>\n",
       "\t<tr><td>GCA_012521115.1_ASM1252111v1_genomic</td><td>/ebio/abt3_projects/software/dev/ll_pipelines/llprimer/experiments/methanothermobacter/LLG_output/drep/drep/dereplicated_genomes/GCA_012521115.1_ASM1252111v1_genomic.fna</td></tr>\n",
       "\t<tr><td>GCA_900095815.1_SIV6_genomic        </td><td>/ebio/abt3_projects/software/dev/ll_pipelines/llprimer/experiments/methanothermobacter/LLG_output/drep/drep/dereplicated_genomes/GCA_900095815.1_SIV6_genomic.fna        </td></tr>\n",
       "\t<tr><td>⋮</td><td>⋮</td></tr>\n",
       "\t<tr><td>GCA_003264935.1_ASM326493v1_genomic </td><td>/ebio/abt3_projects/software/dev/ll_pipelines/llprimer/experiments/methanothermobacter/LLG_output/drep/drep/dereplicated_genomes/GCA_003264935.1_ASM326493v1_genomic.fna </td></tr>\n",
       "\t<tr><td>GCA_012840175.1_ASM1284017v1_genomic</td><td>/ebio/abt3_projects/software/dev/ll_pipelines/llprimer/experiments/methanothermobacter/LLG_output/drep/drep/dereplicated_genomes/GCA_012840175.1_ASM1284017v1_genomic.fna</td></tr>\n",
       "</tbody>\n",
       "</table>\n"
      ],
      "text/latex": [
       "A data.frame: 16 × 2\n",
       "\\begin{tabular}{ll}\n",
       " Name & Fasta\\\\\n",
       " <fct> & <fct>\\\\\n",
       "\\hline\n",
       "\t GCA\\_012521115.1\\_ASM1252111v1\\_genomic & /ebio/abt3\\_projects/software/dev/ll\\_pipelines/llprimer/experiments/methanothermobacter/LLG\\_output/drep/drep/dereplicated\\_genomes/GCA\\_012521115.1\\_ASM1252111v1\\_genomic.fna\\\\\n",
       "\t GCA\\_900095815.1\\_SIV6\\_genomic         & /ebio/abt3\\_projects/software/dev/ll\\_pipelines/llprimer/experiments/methanothermobacter/LLG\\_output/drep/drep/dereplicated\\_genomes/GCA\\_900095815.1\\_SIV6\\_genomic.fna        \\\\\n",
       "\t ⋮ & ⋮\\\\\n",
       "\t GCA\\_003264935.1\\_ASM326493v1\\_genomic  & /ebio/abt3\\_projects/software/dev/ll\\_pipelines/llprimer/experiments/methanothermobacter/LLG\\_output/drep/drep/dereplicated\\_genomes/GCA\\_003264935.1\\_ASM326493v1\\_genomic.fna \\\\\n",
       "\t GCA\\_012840175.1\\_ASM1284017v1\\_genomic & /ebio/abt3\\_projects/software/dev/ll\\_pipelines/llprimer/experiments/methanothermobacter/LLG\\_output/drep/drep/dereplicated\\_genomes/GCA\\_012840175.1\\_ASM1284017v1\\_genomic.fna\\\\\n",
       "\\end{tabular}\n"
      ],
      "text/markdown": [
       "\n",
       "A data.frame: 16 × 2\n",
       "\n",
       "| Name &lt;fct&gt; | Fasta &lt;fct&gt; |\n",
       "|---|---|\n",
       "| GCA_012521115.1_ASM1252111v1_genomic | /ebio/abt3_projects/software/dev/ll_pipelines/llprimer/experiments/methanothermobacter/LLG_output/drep/drep/dereplicated_genomes/GCA_012521115.1_ASM1252111v1_genomic.fna |\n",
       "| GCA_900095815.1_SIV6_genomic         | /ebio/abt3_projects/software/dev/ll_pipelines/llprimer/experiments/methanothermobacter/LLG_output/drep/drep/dereplicated_genomes/GCA_900095815.1_SIV6_genomic.fna         |\n",
       "| ⋮ | ⋮ |\n",
       "| GCA_003264935.1_ASM326493v1_genomic  | /ebio/abt3_projects/software/dev/ll_pipelines/llprimer/experiments/methanothermobacter/LLG_output/drep/drep/dereplicated_genomes/GCA_003264935.1_ASM326493v1_genomic.fna  |\n",
       "| GCA_012840175.1_ASM1284017v1_genomic | /ebio/abt3_projects/software/dev/ll_pipelines/llprimer/experiments/methanothermobacter/LLG_output/drep/drep/dereplicated_genomes/GCA_012840175.1_ASM1284017v1_genomic.fna |\n",
       "\n"
      ],
      "text/plain": [
       "   Name                                \n",
       "1  GCA_012521115.1_ASM1252111v1_genomic\n",
       "2  GCA_900095815.1_SIV6_genomic        \n",
       "⋮  ⋮                                   \n",
       "15 GCA_003264935.1_ASM326493v1_genomic \n",
       "16 GCA_012840175.1_ASM1284017v1_genomic\n",
       "   Fasta                                                                                                                                                                    \n",
       "1  /ebio/abt3_projects/software/dev/ll_pipelines/llprimer/experiments/methanothermobacter/LLG_output/drep/drep/dereplicated_genomes/GCA_012521115.1_ASM1252111v1_genomic.fna\n",
       "2  /ebio/abt3_projects/software/dev/ll_pipelines/llprimer/experiments/methanothermobacter/LLG_output/drep/drep/dereplicated_genomes/GCA_900095815.1_SIV6_genomic.fna        \n",
       "⋮  ⋮                                                                                                                                                                        \n",
       "15 /ebio/abt3_projects/software/dev/ll_pipelines/llprimer/experiments/methanothermobacter/LLG_output/drep/drep/dereplicated_genomes/GCA_003264935.1_ASM326493v1_genomic.fna \n",
       "16 /ebio/abt3_projects/software/dev/ll_pipelines/llprimer/experiments/methanothermobacter/LLG_output/drep/drep/dereplicated_genomes/GCA_012840175.1_ASM1284017v1_genomic.fna"
      ]
     },
     "metadata": {},
     "output_type": "display_data"
    }
   ],
   "source": [
    "# de-replicated genomes\n",
    "drep_gen = file.path(work_dir, 'LLG_output', 'drep', 'dereplicated_genomes.tsv') %>%\n",
    "    read.delim(sep='\\t')\n",
    "drep_gen"
   ]
  },
  {
   "cell_type": "code",
   "execution_count": 8,
   "metadata": {
    "execution": {
     "iopub.execute_input": "2021-02-08T13:22:57.065648Z",
     "iopub.status.busy": "2021-02-08T13:22:57.063603Z",
     "iopub.status.idle": "2021-02-08T13:22:57.435708Z"
    }
   },
   "outputs": [
    {
     "data": {
      "text/html": [
       "<table>\n",
       "<caption>A data.frame: 20 × 22</caption>\n",
       "<thead>\n",
       "\t<tr><th scope=col>user_genome</th><th scope=col>Domain</th><th scope=col>Phylum</th><th scope=col>Class</th><th scope=col>Order</th><th scope=col>Family</th><th scope=col>Genus</th><th scope=col>Species</th><th scope=col>fastani_reference</th><th scope=col>fastani_reference_radius</th><th scope=col>⋯</th><th scope=col>fastani_af</th><th scope=col>closest_placement_reference</th><th scope=col>closest_placement_radius</th><th scope=col>closest_placement_taxonomy</th><th scope=col>closest_placement_ani</th><th scope=col>closest_placement_af</th><th scope=col>msa_percent</th><th scope=col>translation_table</th><th scope=col>red_value</th><th scope=col>warnings</th></tr>\n",
       "\t<tr><th scope=col>&lt;fct&gt;</th><th scope=col>&lt;chr&gt;</th><th scope=col>&lt;chr&gt;</th><th scope=col>&lt;chr&gt;</th><th scope=col>&lt;chr&gt;</th><th scope=col>&lt;chr&gt;</th><th scope=col>&lt;chr&gt;</th><th scope=col>&lt;chr&gt;</th><th scope=col>&lt;fct&gt;</th><th scope=col>&lt;fct&gt;</th><th scope=col>⋯</th><th scope=col>&lt;fct&gt;</th><th scope=col>&lt;fct&gt;</th><th scope=col>&lt;dbl&gt;</th><th scope=col>&lt;fct&gt;</th><th scope=col>&lt;dbl&gt;</th><th scope=col>&lt;dbl&gt;</th><th scope=col>&lt;dbl&gt;</th><th scope=col>&lt;int&gt;</th><th scope=col>&lt;fct&gt;</th><th scope=col>&lt;fct&gt;</th></tr>\n",
       "</thead>\n",
       "<tbody>\n",
       "\t<tr><td>GCA_000008645.1_ASM864v1_genomic  </td><td>d__Archaea</td><td>p__Methanobacteriota</td><td>c__Methanobacteria</td><td>o__Methanobacteriales</td><td>f__Methanothermobacteraceae</td><td>g__Methanothermobacter</td><td>s__Methanothermobacter thermautotrophicus</td><td>GCF_000008645.1</td><td>95.0</td><td>⋯</td><td>1.0</td><td>GCF_000008645.1</td><td>95</td><td>d__Archaea;p__Methanobacteriota;c__Methanobacteria;o__Methanobacteriales;f__Methanothermobacteraceae;g__Methanothermobacter;s__Methanothermobacter thermautotrophicus</td><td>100</td><td>1</td><td>95.73</td><td>11</td><td>N/A</td><td>N/A</td></tr>\n",
       "\t<tr><td>GCA_000828575.1_ASM82857v1_genomic</td><td>d__Archaea</td><td>p__Methanobacteriota</td><td>c__Methanobacteria</td><td>o__Methanobacteriales</td><td>f__Methanothermobacteraceae</td><td>g__Methanothermobacter</td><td>s__Methanothermobacter sp000828575       </td><td>GCF_000828575.1</td><td>95.0</td><td>⋯</td><td>1.0</td><td>GCF_000828575.1</td><td>95</td><td>d__Archaea;p__Methanobacteriota;c__Methanobacteria;o__Methanobacteriales;f__Methanothermobacteraceae;g__Methanothermobacter;s__Methanothermobacter sp000828575       </td><td>100</td><td>1</td><td>97.19</td><td>11</td><td>N/A</td><td>N/A</td></tr>\n",
       "\t<tr><td>⋮</td><td>⋮</td><td>⋮</td><td>⋮</td><td>⋮</td><td>⋮</td><td>⋮</td><td>⋮</td><td>⋮</td><td>⋮</td><td>⋱</td><td>⋮</td><td>⋮</td><td>⋮</td><td>⋮</td><td>⋮</td><td>⋮</td><td>⋮</td><td>⋮</td><td>⋮</td><td>⋮</td></tr>\n",
       "\t<tr><td>GCA_014361435.1_ASM1436143v1_genomic</td><td>d__Archaea</td><td>p__Methanobacteriota</td><td>c__Methanobacteria</td><td>o__Methanobacteriales</td><td>f__Methanothermobacteraceae</td><td>g__Methanothermobacter</td><td>s__Methanothermobacter thermautotrophicus</td><td>GCF_000008645.1</td><td>95.0</td><td>⋯</td><td>0.97</td><td>GCF_000008645.1</td><td>95</td><td>d__Archaea;p__Methanobacteriota;c__Methanobacteria;o__Methanobacteriales;f__Methanothermobacteraceae;g__Methanothermobacter;s__Methanothermobacter thermautotrophicus</td><td> 97.33</td><td>0.97</td><td>88.56</td><td>11</td><td>N/A</td><td>N/A</td></tr>\n",
       "\t<tr><td>GCA_900095815.1_SIV6_genomic        </td><td>d__Archaea</td><td>p__Methanobacteriota</td><td>c__Methanobacteria</td><td>o__Methanobacteriales</td><td>f__Methanothermobacteraceae</td><td>g__Methanothermobacter</td><td>s__Methanothermobacter wolfeii           </td><td>GCF_900095815.1</td><td>95.0</td><td>⋯</td><td>1.0 </td><td>GCF_900095815.1</td><td>95</td><td>d__Archaea;p__Methanobacteriota;c__Methanobacteria;o__Methanobacteriales;f__Methanothermobacteraceae;g__Methanothermobacter;s__Methanothermobacter wolfeii           </td><td>100.00</td><td>1.00</td><td>96.45</td><td>11</td><td>N/A</td><td>N/A</td></tr>\n",
       "</tbody>\n",
       "</table>\n"
      ],
      "text/latex": [
       "A data.frame: 20 × 22\n",
       "\\begin{tabular}{lllllllllllllllllllll}\n",
       " user\\_genome & Domain & Phylum & Class & Order & Family & Genus & Species & fastani\\_reference & fastani\\_reference\\_radius & ⋯ & fastani\\_af & closest\\_placement\\_reference & closest\\_placement\\_radius & closest\\_placement\\_taxonomy & closest\\_placement\\_ani & closest\\_placement\\_af & msa\\_percent & translation\\_table & red\\_value & warnings\\\\\n",
       " <fct> & <chr> & <chr> & <chr> & <chr> & <chr> & <chr> & <chr> & <fct> & <fct> & ⋯ & <fct> & <fct> & <dbl> & <fct> & <dbl> & <dbl> & <dbl> & <int> & <fct> & <fct>\\\\\n",
       "\\hline\n",
       "\t GCA\\_000008645.1\\_ASM864v1\\_genomic   & d\\_\\_Archaea & p\\_\\_Methanobacteriota & c\\_\\_Methanobacteria & o\\_\\_Methanobacteriales & f\\_\\_Methanothermobacteraceae & g\\_\\_Methanothermobacter & s\\_\\_Methanothermobacter thermautotrophicus & GCF\\_000008645.1 & 95.0 & ⋯ & 1.0 & GCF\\_000008645.1 & 95 & d\\_\\_Archaea;p\\_\\_Methanobacteriota;c\\_\\_Methanobacteria;o\\_\\_Methanobacteriales;f\\_\\_Methanothermobacteraceae;g\\_\\_Methanothermobacter;s\\_\\_Methanothermobacter thermautotrophicus & 100 & 1 & 95.73 & 11 & N/A & N/A\\\\\n",
       "\t GCA\\_000828575.1\\_ASM82857v1\\_genomic & d\\_\\_Archaea & p\\_\\_Methanobacteriota & c\\_\\_Methanobacteria & o\\_\\_Methanobacteriales & f\\_\\_Methanothermobacteraceae & g\\_\\_Methanothermobacter & s\\_\\_Methanothermobacter sp000828575        & GCF\\_000828575.1 & 95.0 & ⋯ & 1.0 & GCF\\_000828575.1 & 95 & d\\_\\_Archaea;p\\_\\_Methanobacteriota;c\\_\\_Methanobacteria;o\\_\\_Methanobacteriales;f\\_\\_Methanothermobacteraceae;g\\_\\_Methanothermobacter;s\\_\\_Methanothermobacter sp000828575        & 100 & 1 & 97.19 & 11 & N/A & N/A\\\\\n",
       "\t ⋮ & ⋮ & ⋮ & ⋮ & ⋮ & ⋮ & ⋮ & ⋮ & ⋮ & ⋮ & ⋱ & ⋮ & ⋮ & ⋮ & ⋮ & ⋮ & ⋮ & ⋮ & ⋮ & ⋮ & ⋮\\\\\n",
       "\t GCA\\_014361435.1\\_ASM1436143v1\\_genomic & d\\_\\_Archaea & p\\_\\_Methanobacteriota & c\\_\\_Methanobacteria & o\\_\\_Methanobacteriales & f\\_\\_Methanothermobacteraceae & g\\_\\_Methanothermobacter & s\\_\\_Methanothermobacter thermautotrophicus & GCF\\_000008645.1 & 95.0 & ⋯ & 0.97 & GCF\\_000008645.1 & 95 & d\\_\\_Archaea;p\\_\\_Methanobacteriota;c\\_\\_Methanobacteria;o\\_\\_Methanobacteriales;f\\_\\_Methanothermobacteraceae;g\\_\\_Methanothermobacter;s\\_\\_Methanothermobacter thermautotrophicus &  97.33 & 0.97 & 88.56 & 11 & N/A & N/A\\\\\n",
       "\t GCA\\_900095815.1\\_SIV6\\_genomic         & d\\_\\_Archaea & p\\_\\_Methanobacteriota & c\\_\\_Methanobacteria & o\\_\\_Methanobacteriales & f\\_\\_Methanothermobacteraceae & g\\_\\_Methanothermobacter & s\\_\\_Methanothermobacter wolfeii            & GCF\\_900095815.1 & 95.0 & ⋯ & 1.0  & GCF\\_900095815.1 & 95 & d\\_\\_Archaea;p\\_\\_Methanobacteriota;c\\_\\_Methanobacteria;o\\_\\_Methanobacteriales;f\\_\\_Methanothermobacteraceae;g\\_\\_Methanothermobacter;s\\_\\_Methanothermobacter wolfeii            & 100.00 & 1.00 & 96.45 & 11 & N/A & N/A\\\\\n",
       "\\end{tabular}\n"
      ],
      "text/markdown": [
       "\n",
       "A data.frame: 20 × 22\n",
       "\n",
       "| user_genome &lt;fct&gt; | Domain &lt;chr&gt; | Phylum &lt;chr&gt; | Class &lt;chr&gt; | Order &lt;chr&gt; | Family &lt;chr&gt; | Genus &lt;chr&gt; | Species &lt;chr&gt; | fastani_reference &lt;fct&gt; | fastani_reference_radius &lt;fct&gt; | ⋯ ⋯ | fastani_af &lt;fct&gt; | closest_placement_reference &lt;fct&gt; | closest_placement_radius &lt;dbl&gt; | closest_placement_taxonomy &lt;fct&gt; | closest_placement_ani &lt;dbl&gt; | closest_placement_af &lt;dbl&gt; | msa_percent &lt;dbl&gt; | translation_table &lt;int&gt; | red_value &lt;fct&gt; | warnings &lt;fct&gt; |\n",
       "|---|---|---|---|---|---|---|---|---|---|---|---|---|---|---|---|---|---|---|---|---|\n",
       "| GCA_000008645.1_ASM864v1_genomic   | d__Archaea | p__Methanobacteriota | c__Methanobacteria | o__Methanobacteriales | f__Methanothermobacteraceae | g__Methanothermobacter | s__Methanothermobacter thermautotrophicus | GCF_000008645.1 | 95.0 | ⋯ | 1.0 | GCF_000008645.1 | 95 | d__Archaea;p__Methanobacteriota;c__Methanobacteria;o__Methanobacteriales;f__Methanothermobacteraceae;g__Methanothermobacter;s__Methanothermobacter thermautotrophicus | 100 | 1 | 95.73 | 11 | N/A | N/A |\n",
       "| GCA_000828575.1_ASM82857v1_genomic | d__Archaea | p__Methanobacteriota | c__Methanobacteria | o__Methanobacteriales | f__Methanothermobacteraceae | g__Methanothermobacter | s__Methanothermobacter sp000828575        | GCF_000828575.1 | 95.0 | ⋯ | 1.0 | GCF_000828575.1 | 95 | d__Archaea;p__Methanobacteriota;c__Methanobacteria;o__Methanobacteriales;f__Methanothermobacteraceae;g__Methanothermobacter;s__Methanothermobacter sp000828575        | 100 | 1 | 97.19 | 11 | N/A | N/A |\n",
       "| ⋮ | ⋮ | ⋮ | ⋮ | ⋮ | ⋮ | ⋮ | ⋮ | ⋮ | ⋮ | ⋱ | ⋮ | ⋮ | ⋮ | ⋮ | ⋮ | ⋮ | ⋮ | ⋮ | ⋮ | ⋮ |\n",
       "| GCA_014361435.1_ASM1436143v1_genomic | d__Archaea | p__Methanobacteriota | c__Methanobacteria | o__Methanobacteriales | f__Methanothermobacteraceae | g__Methanothermobacter | s__Methanothermobacter thermautotrophicus | GCF_000008645.1 | 95.0 | ⋯ | 0.97 | GCF_000008645.1 | 95 | d__Archaea;p__Methanobacteriota;c__Methanobacteria;o__Methanobacteriales;f__Methanothermobacteraceae;g__Methanothermobacter;s__Methanothermobacter thermautotrophicus |  97.33 | 0.97 | 88.56 | 11 | N/A | N/A |\n",
       "| GCA_900095815.1_SIV6_genomic         | d__Archaea | p__Methanobacteriota | c__Methanobacteria | o__Methanobacteriales | f__Methanothermobacteraceae | g__Methanothermobacter | s__Methanothermobacter wolfeii            | GCF_900095815.1 | 95.0 | ⋯ | 1.0  | GCF_900095815.1 | 95 | d__Archaea;p__Methanobacteriota;c__Methanobacteria;o__Methanobacteriales;f__Methanothermobacteraceae;g__Methanothermobacter;s__Methanothermobacter wolfeii            | 100.00 | 1.00 | 96.45 | 11 | N/A | N/A |\n",
       "\n"
      ],
      "text/plain": [
       "   user_genome                          Domain     Phylum              \n",
       "1  GCA_000008645.1_ASM864v1_genomic     d__Archaea p__Methanobacteriota\n",
       "2  GCA_000828575.1_ASM82857v1_genomic   d__Archaea p__Methanobacteriota\n",
       "⋮  ⋮                                    ⋮          ⋮                   \n",
       "19 GCA_014361435.1_ASM1436143v1_genomic d__Archaea p__Methanobacteriota\n",
       "20 GCA_900095815.1_SIV6_genomic         d__Archaea p__Methanobacteriota\n",
       "   Class              Order                 Family                     \n",
       "1  c__Methanobacteria o__Methanobacteriales f__Methanothermobacteraceae\n",
       "2  c__Methanobacteria o__Methanobacteriales f__Methanothermobacteraceae\n",
       "⋮  ⋮                  ⋮                     ⋮                          \n",
       "19 c__Methanobacteria o__Methanobacteriales f__Methanothermobacteraceae\n",
       "20 c__Methanobacteria o__Methanobacteriales f__Methanothermobacteraceae\n",
       "   Genus                  Species                                  \n",
       "1  g__Methanothermobacter s__Methanothermobacter thermautotrophicus\n",
       "2  g__Methanothermobacter s__Methanothermobacter sp000828575       \n",
       "⋮  ⋮                      ⋮                                        \n",
       "19 g__Methanothermobacter s__Methanothermobacter thermautotrophicus\n",
       "20 g__Methanothermobacter s__Methanothermobacter wolfeii           \n",
       "   fastani_reference fastani_reference_radius ⋯ fastani_af\n",
       "1  GCF_000008645.1   95.0                     ⋯ 1.0       \n",
       "2  GCF_000828575.1   95.0                     ⋯ 1.0       \n",
       "⋮  ⋮                 ⋮                        ⋱ ⋮         \n",
       "19 GCF_000008645.1   95.0                     ⋯ 0.97      \n",
       "20 GCF_900095815.1   95.0                     ⋯ 1.0       \n",
       "   closest_placement_reference closest_placement_radius\n",
       "1  GCF_000008645.1             95                      \n",
       "2  GCF_000828575.1             95                      \n",
       "⋮  ⋮                           ⋮                       \n",
       "19 GCF_000008645.1             95                      \n",
       "20 GCF_900095815.1             95                      \n",
       "   closest_placement_taxonomy                                                                                                                                           \n",
       "1  d__Archaea;p__Methanobacteriota;c__Methanobacteria;o__Methanobacteriales;f__Methanothermobacteraceae;g__Methanothermobacter;s__Methanothermobacter thermautotrophicus\n",
       "2  d__Archaea;p__Methanobacteriota;c__Methanobacteria;o__Methanobacteriales;f__Methanothermobacteraceae;g__Methanothermobacter;s__Methanothermobacter sp000828575       \n",
       "⋮  ⋮                                                                                                                                                                    \n",
       "19 d__Archaea;p__Methanobacteriota;c__Methanobacteria;o__Methanobacteriales;f__Methanothermobacteraceae;g__Methanothermobacter;s__Methanothermobacter thermautotrophicus\n",
       "20 d__Archaea;p__Methanobacteriota;c__Methanobacteria;o__Methanobacteriales;f__Methanothermobacteraceae;g__Methanothermobacter;s__Methanothermobacter wolfeii           \n",
       "   closest_placement_ani closest_placement_af msa_percent translation_table\n",
       "1  100                   1                    95.73       11               \n",
       "2  100                   1                    97.19       11               \n",
       "⋮  ⋮                     ⋮                    ⋮           ⋮                \n",
       "19  97.33                0.97                 88.56       11               \n",
       "20 100.00                1.00                 96.45       11               \n",
       "   red_value warnings\n",
       "1  N/A       N/A     \n",
       "2  N/A       N/A     \n",
       "⋮  ⋮         ⋮       \n",
       "19 N/A       N/A     \n",
       "20 N/A       N/A     "
      ]
     },
     "metadata": {},
     "output_type": "display_data"
    }
   ],
   "source": [
    "# GTDBTk summary\n",
    "tax = file.path(work_dir, 'LLG_output', 'gtdbtk', 'gtdbtk_ar_summary.tsv') %>%\n",
    "    read.delim(, sep='\\t') %>%\n",
    "    separate(classification, \n",
    "             c('Domain', 'Phylum', 'Class', 'Order', 'Family', 'Genus', 'Species'),\n",
    "             sep=';') %>%\n",
    "    select(-note, -classification_method, -pplacer_taxonomy,\n",
    "           -other_related_references.genome_id.species_name.radius.ANI.AF.)\n",
    "tax"
   ]
  },
  {
   "cell_type": "code",
   "execution_count": 9,
   "metadata": {
    "execution": {
     "iopub.execute_input": "2021-02-08T13:22:57.441682Z",
     "iopub.status.busy": "2021-02-08T13:22:57.439786Z",
     "iopub.status.idle": "2021-02-08T13:22:57.478093Z"
    }
   },
   "outputs": [
    {
     "name": "stdout",
     "output_type": "stream",
     "text": [
      "-- drep --\n",
      "intersect(x,y): 16 \n",
      "setdiff(x,y): 0 \n",
      "setdiff(y,x): 4 \n",
      "union(x,y): 20 \n",
      "-- checkm --\n",
      "intersect(x,y): 20 \n",
      "setdiff(x,y): 0 \n",
      "setdiff(y,x): 0 \n",
      "union(x,y): 20 \n",
      "-- gtdbtk --\n",
      "intersect(x,y): 20 \n",
      "setdiff(x,y): 0 \n",
      "setdiff(y,x): 0 \n",
      "union(x,y): 20 \n"
     ]
    }
   ],
   "source": [
    "# checking overlap\n",
    "cat('-- drep --\\n')\n",
    "overlap(basename(as.character(drep_gen$Fasta)), \n",
    "        basename(as.character(drep$genome)))\n",
    "cat('-- checkm --\\n')\n",
    "overlap(drep$Bin.Id, checkm$Bin.Id)\n",
    "cat('-- gtdbtk --\\n')\n",
    "overlap(drep$Bin.Id, tax$user_genome)"
   ]
  },
  {
   "cell_type": "code",
   "execution_count": 10,
   "metadata": {
    "execution": {
     "iopub.execute_input": "2021-02-08T13:22:59.034186Z",
     "iopub.status.busy": "2021-02-08T13:22:59.031758Z",
     "iopub.status.idle": "2021-02-08T13:22:59.120179Z"
    }
   },
   "outputs": [
    {
     "data": {
      "text/html": [
       "<table>\n",
       "<caption>A data.frame: 16 × 60</caption>\n",
       "<thead>\n",
       "\t<tr><th scope=col>genome</th><th scope=col>completeness</th><th scope=col>contamination</th><th scope=col>Bin.Id</th><th scope=col>Marker.lineage</th><th scope=col>X..genomes</th><th scope=col>X..markers</th><th scope=col>X..marker.sets</th><th scope=col>Completeness</th><th scope=col>Contamination</th><th scope=col>⋯</th><th scope=col>fastani_af</th><th scope=col>closest_placement_reference</th><th scope=col>closest_placement_radius</th><th scope=col>closest_placement_taxonomy</th><th scope=col>closest_placement_ani</th><th scope=col>closest_placement_af</th><th scope=col>msa_percent</th><th scope=col>translation_table</th><th scope=col>red_value</th><th scope=col>warnings</th></tr>\n",
       "\t<tr><th scope=col>&lt;fct&gt;</th><th scope=col>&lt;dbl&gt;</th><th scope=col>&lt;dbl&gt;</th><th scope=col>&lt;chr&gt;</th><th scope=col>&lt;fct&gt;</th><th scope=col>&lt;int&gt;</th><th scope=col>&lt;int&gt;</th><th scope=col>&lt;int&gt;</th><th scope=col>&lt;dbl&gt;</th><th scope=col>&lt;dbl&gt;</th><th scope=col>⋯</th><th scope=col>&lt;fct&gt;</th><th scope=col>&lt;fct&gt;</th><th scope=col>&lt;dbl&gt;</th><th scope=col>&lt;fct&gt;</th><th scope=col>&lt;dbl&gt;</th><th scope=col>&lt;dbl&gt;</th><th scope=col>&lt;dbl&gt;</th><th scope=col>&lt;int&gt;</th><th scope=col>&lt;fct&gt;</th><th scope=col>&lt;fct&gt;</th></tr>\n",
       "</thead>\n",
       "<tbody>\n",
       "\t<tr><td>/ebio/abt3_scratch/nyoungblut/LLG_62325884640/genomes/GCA_000008645.1_ASM864v1_genomic.fna  </td><td>100</td><td>0.31</td><td>GCA_000008645.1_ASM864v1_genomic  </td><td>p__Euryarchaeota (UID3)</td><td>148</td><td>188</td><td>125</td><td>100</td><td>0.31</td><td>⋯</td><td>1.0</td><td>GCF_000008645.1</td><td>95</td><td>d__Archaea;p__Methanobacteriota;c__Methanobacteria;o__Methanobacteriales;f__Methanothermobacteraceae;g__Methanothermobacter;s__Methanothermobacter thermautotrophicus</td><td>100</td><td>1</td><td>95.73</td><td>11</td><td>N/A</td><td>N/A</td></tr>\n",
       "\t<tr><td>/ebio/abt3_scratch/nyoungblut/LLG_62325884640/genomes/GCA_000828575.1_ASM82857v1_genomic.fna</td><td>100</td><td>0.00</td><td>GCA_000828575.1_ASM82857v1_genomic</td><td>p__Euryarchaeota (UID3)</td><td>148</td><td>188</td><td>125</td><td>100</td><td>0.00</td><td>⋯</td><td>1.0</td><td>GCF_000828575.1</td><td>95</td><td>d__Archaea;p__Methanobacteriota;c__Methanobacteria;o__Methanobacteriales;f__Methanothermobacteraceae;g__Methanothermobacter;s__Methanothermobacter sp000828575       </td><td>100</td><td>1</td><td>97.19</td><td>11</td><td>N/A</td><td>N/A</td></tr>\n",
       "\t<tr><td>⋮</td><td>⋮</td><td>⋮</td><td>⋮</td><td>⋮</td><td>⋮</td><td>⋮</td><td>⋮</td><td>⋮</td><td>⋮</td><td>⋱</td><td>⋮</td><td>⋮</td><td>⋮</td><td>⋮</td><td>⋮</td><td>⋮</td><td>⋮</td><td>⋮</td><td>⋮</td><td>⋮</td></tr>\n",
       "\t<tr><td>/ebio/abt3_scratch/nyoungblut/LLG_62325884640/genomes/GCA_014361435.1_ASM1436143v1_genomic.fna</td><td> 97.6</td><td>2.87</td><td>GCA_014361435.1_ASM1436143v1_genomic</td><td>p__Euryarchaeota (UID3)</td><td>148</td><td>188</td><td>125</td><td> 97.6</td><td>2.87</td><td>⋯</td><td>0.97</td><td>GCF_000008645.1</td><td>95</td><td>d__Archaea;p__Methanobacteriota;c__Methanobacteria;o__Methanobacteriales;f__Methanothermobacteraceae;g__Methanothermobacter;s__Methanothermobacter thermautotrophicus</td><td> 97.33</td><td>0.97</td><td>88.56</td><td>11</td><td>N/A</td><td>N/A</td></tr>\n",
       "\t<tr><td>/ebio/abt3_scratch/nyoungblut/LLG_62325884640/genomes/GCA_900095815.1_SIV6_genomic.fna        </td><td>100.0</td><td>0.00</td><td>GCA_900095815.1_SIV6_genomic        </td><td>p__Euryarchaeota (UID3)</td><td>148</td><td>188</td><td>125</td><td>100.0</td><td>0.00</td><td>⋯</td><td>1.0 </td><td>GCF_900095815.1</td><td>95</td><td>d__Archaea;p__Methanobacteriota;c__Methanobacteria;o__Methanobacteriales;f__Methanothermobacteraceae;g__Methanothermobacter;s__Methanothermobacter wolfeii           </td><td>100.00</td><td>1.00</td><td>96.45</td><td>11</td><td>N/A</td><td>N/A</td></tr>\n",
       "</tbody>\n",
       "</table>\n"
      ],
      "text/latex": [
       "A data.frame: 16 × 60\n",
       "\\begin{tabular}{lllllllllllllllllllll}\n",
       " genome & completeness & contamination & Bin.Id & Marker.lineage & X..genomes & X..markers & X..marker.sets & Completeness & Contamination & ⋯ & fastani\\_af & closest\\_placement\\_reference & closest\\_placement\\_radius & closest\\_placement\\_taxonomy & closest\\_placement\\_ani & closest\\_placement\\_af & msa\\_percent & translation\\_table & red\\_value & warnings\\\\\n",
       " <fct> & <dbl> & <dbl> & <chr> & <fct> & <int> & <int> & <int> & <dbl> & <dbl> & ⋯ & <fct> & <fct> & <dbl> & <fct> & <dbl> & <dbl> & <dbl> & <int> & <fct> & <fct>\\\\\n",
       "\\hline\n",
       "\t /ebio/abt3\\_scratch/nyoungblut/LLG\\_62325884640/genomes/GCA\\_000008645.1\\_ASM864v1\\_genomic.fna   & 100 & 0.31 & GCA\\_000008645.1\\_ASM864v1\\_genomic   & p\\_\\_Euryarchaeota (UID3) & 148 & 188 & 125 & 100 & 0.31 & ⋯ & 1.0 & GCF\\_000008645.1 & 95 & d\\_\\_Archaea;p\\_\\_Methanobacteriota;c\\_\\_Methanobacteria;o\\_\\_Methanobacteriales;f\\_\\_Methanothermobacteraceae;g\\_\\_Methanothermobacter;s\\_\\_Methanothermobacter thermautotrophicus & 100 & 1 & 95.73 & 11 & N/A & N/A\\\\\n",
       "\t /ebio/abt3\\_scratch/nyoungblut/LLG\\_62325884640/genomes/GCA\\_000828575.1\\_ASM82857v1\\_genomic.fna & 100 & 0.00 & GCA\\_000828575.1\\_ASM82857v1\\_genomic & p\\_\\_Euryarchaeota (UID3) & 148 & 188 & 125 & 100 & 0.00 & ⋯ & 1.0 & GCF\\_000828575.1 & 95 & d\\_\\_Archaea;p\\_\\_Methanobacteriota;c\\_\\_Methanobacteria;o\\_\\_Methanobacteriales;f\\_\\_Methanothermobacteraceae;g\\_\\_Methanothermobacter;s\\_\\_Methanothermobacter sp000828575        & 100 & 1 & 97.19 & 11 & N/A & N/A\\\\\n",
       "\t ⋮ & ⋮ & ⋮ & ⋮ & ⋮ & ⋮ & ⋮ & ⋮ & ⋮ & ⋮ & ⋱ & ⋮ & ⋮ & ⋮ & ⋮ & ⋮ & ⋮ & ⋮ & ⋮ & ⋮ & ⋮\\\\\n",
       "\t /ebio/abt3\\_scratch/nyoungblut/LLG\\_62325884640/genomes/GCA\\_014361435.1\\_ASM1436143v1\\_genomic.fna &  97.6 & 2.87 & GCA\\_014361435.1\\_ASM1436143v1\\_genomic & p\\_\\_Euryarchaeota (UID3) & 148 & 188 & 125 &  97.6 & 2.87 & ⋯ & 0.97 & GCF\\_000008645.1 & 95 & d\\_\\_Archaea;p\\_\\_Methanobacteriota;c\\_\\_Methanobacteria;o\\_\\_Methanobacteriales;f\\_\\_Methanothermobacteraceae;g\\_\\_Methanothermobacter;s\\_\\_Methanothermobacter thermautotrophicus &  97.33 & 0.97 & 88.56 & 11 & N/A & N/A\\\\\n",
       "\t /ebio/abt3\\_scratch/nyoungblut/LLG\\_62325884640/genomes/GCA\\_900095815.1\\_SIV6\\_genomic.fna         & 100.0 & 0.00 & GCA\\_900095815.1\\_SIV6\\_genomic         & p\\_\\_Euryarchaeota (UID3) & 148 & 188 & 125 & 100.0 & 0.00 & ⋯ & 1.0  & GCF\\_900095815.1 & 95 & d\\_\\_Archaea;p\\_\\_Methanobacteriota;c\\_\\_Methanobacteria;o\\_\\_Methanobacteriales;f\\_\\_Methanothermobacteraceae;g\\_\\_Methanothermobacter;s\\_\\_Methanothermobacter wolfeii            & 100.00 & 1.00 & 96.45 & 11 & N/A & N/A\\\\\n",
       "\\end{tabular}\n"
      ],
      "text/markdown": [
       "\n",
       "A data.frame: 16 × 60\n",
       "\n",
       "| genome &lt;fct&gt; | completeness &lt;dbl&gt; | contamination &lt;dbl&gt; | Bin.Id &lt;chr&gt; | Marker.lineage &lt;fct&gt; | X..genomes &lt;int&gt; | X..markers &lt;int&gt; | X..marker.sets &lt;int&gt; | Completeness &lt;dbl&gt; | Contamination &lt;dbl&gt; | ⋯ ⋯ | fastani_af &lt;fct&gt; | closest_placement_reference &lt;fct&gt; | closest_placement_radius &lt;dbl&gt; | closest_placement_taxonomy &lt;fct&gt; | closest_placement_ani &lt;dbl&gt; | closest_placement_af &lt;dbl&gt; | msa_percent &lt;dbl&gt; | translation_table &lt;int&gt; | red_value &lt;fct&gt; | warnings &lt;fct&gt; |\n",
       "|---|---|---|---|---|---|---|---|---|---|---|---|---|---|---|---|---|---|---|---|---|\n",
       "| /ebio/abt3_scratch/nyoungblut/LLG_62325884640/genomes/GCA_000008645.1_ASM864v1_genomic.fna   | 100 | 0.31 | GCA_000008645.1_ASM864v1_genomic   | p__Euryarchaeota (UID3) | 148 | 188 | 125 | 100 | 0.31 | ⋯ | 1.0 | GCF_000008645.1 | 95 | d__Archaea;p__Methanobacteriota;c__Methanobacteria;o__Methanobacteriales;f__Methanothermobacteraceae;g__Methanothermobacter;s__Methanothermobacter thermautotrophicus | 100 | 1 | 95.73 | 11 | N/A | N/A |\n",
       "| /ebio/abt3_scratch/nyoungblut/LLG_62325884640/genomes/GCA_000828575.1_ASM82857v1_genomic.fna | 100 | 0.00 | GCA_000828575.1_ASM82857v1_genomic | p__Euryarchaeota (UID3) | 148 | 188 | 125 | 100 | 0.00 | ⋯ | 1.0 | GCF_000828575.1 | 95 | d__Archaea;p__Methanobacteriota;c__Methanobacteria;o__Methanobacteriales;f__Methanothermobacteraceae;g__Methanothermobacter;s__Methanothermobacter sp000828575        | 100 | 1 | 97.19 | 11 | N/A | N/A |\n",
       "| ⋮ | ⋮ | ⋮ | ⋮ | ⋮ | ⋮ | ⋮ | ⋮ | ⋮ | ⋮ | ⋱ | ⋮ | ⋮ | ⋮ | ⋮ | ⋮ | ⋮ | ⋮ | ⋮ | ⋮ | ⋮ |\n",
       "| /ebio/abt3_scratch/nyoungblut/LLG_62325884640/genomes/GCA_014361435.1_ASM1436143v1_genomic.fna |  97.6 | 2.87 | GCA_014361435.1_ASM1436143v1_genomic | p__Euryarchaeota (UID3) | 148 | 188 | 125 |  97.6 | 2.87 | ⋯ | 0.97 | GCF_000008645.1 | 95 | d__Archaea;p__Methanobacteriota;c__Methanobacteria;o__Methanobacteriales;f__Methanothermobacteraceae;g__Methanothermobacter;s__Methanothermobacter thermautotrophicus |  97.33 | 0.97 | 88.56 | 11 | N/A | N/A |\n",
       "| /ebio/abt3_scratch/nyoungblut/LLG_62325884640/genomes/GCA_900095815.1_SIV6_genomic.fna         | 100.0 | 0.00 | GCA_900095815.1_SIV6_genomic         | p__Euryarchaeota (UID3) | 148 | 188 | 125 | 100.0 | 0.00 | ⋯ | 1.0  | GCF_900095815.1 | 95 | d__Archaea;p__Methanobacteriota;c__Methanobacteria;o__Methanobacteriales;f__Methanothermobacteraceae;g__Methanothermobacter;s__Methanothermobacter wolfeii            | 100.00 | 1.00 | 96.45 | 11 | N/A | N/A |\n",
       "\n"
      ],
      "text/plain": [
       "   genome                                                                                        \n",
       "1  /ebio/abt3_scratch/nyoungblut/LLG_62325884640/genomes/GCA_000008645.1_ASM864v1_genomic.fna    \n",
       "2  /ebio/abt3_scratch/nyoungblut/LLG_62325884640/genomes/GCA_000828575.1_ASM82857v1_genomic.fna  \n",
       "⋮  ⋮                                                                                             \n",
       "15 /ebio/abt3_scratch/nyoungblut/LLG_62325884640/genomes/GCA_014361435.1_ASM1436143v1_genomic.fna\n",
       "16 /ebio/abt3_scratch/nyoungblut/LLG_62325884640/genomes/GCA_900095815.1_SIV6_genomic.fna        \n",
       "   completeness contamination Bin.Id                              \n",
       "1  100          0.31          GCA_000008645.1_ASM864v1_genomic    \n",
       "2  100          0.00          GCA_000828575.1_ASM82857v1_genomic  \n",
       "⋮  ⋮            ⋮             ⋮                                   \n",
       "15  97.6        2.87          GCA_014361435.1_ASM1436143v1_genomic\n",
       "16 100.0        0.00          GCA_900095815.1_SIV6_genomic        \n",
       "   Marker.lineage          X..genomes X..markers X..marker.sets Completeness\n",
       "1  p__Euryarchaeota (UID3) 148        188        125            100         \n",
       "2  p__Euryarchaeota (UID3) 148        188        125            100         \n",
       "⋮  ⋮                       ⋮          ⋮          ⋮              ⋮           \n",
       "15 p__Euryarchaeota (UID3) 148        188        125             97.6       \n",
       "16 p__Euryarchaeota (UID3) 148        188        125            100.0       \n",
       "   Contamination ⋯ fastani_af closest_placement_reference\n",
       "1  0.31          ⋯ 1.0        GCF_000008645.1            \n",
       "2  0.00          ⋯ 1.0        GCF_000828575.1            \n",
       "⋮  ⋮             ⋱ ⋮          ⋮                          \n",
       "15 2.87          ⋯ 0.97       GCF_000008645.1            \n",
       "16 0.00          ⋯ 1.0        GCF_900095815.1            \n",
       "   closest_placement_radius\n",
       "1  95                      \n",
       "2  95                      \n",
       "⋮  ⋮                       \n",
       "15 95                      \n",
       "16 95                      \n",
       "   closest_placement_taxonomy                                                                                                                                           \n",
       "1  d__Archaea;p__Methanobacteriota;c__Methanobacteria;o__Methanobacteriales;f__Methanothermobacteraceae;g__Methanothermobacter;s__Methanothermobacter thermautotrophicus\n",
       "2  d__Archaea;p__Methanobacteriota;c__Methanobacteria;o__Methanobacteriales;f__Methanothermobacteraceae;g__Methanothermobacter;s__Methanothermobacter sp000828575       \n",
       "⋮  ⋮                                                                                                                                                                    \n",
       "15 d__Archaea;p__Methanobacteriota;c__Methanobacteria;o__Methanobacteriales;f__Methanothermobacteraceae;g__Methanothermobacter;s__Methanothermobacter thermautotrophicus\n",
       "16 d__Archaea;p__Methanobacteriota;c__Methanobacteria;o__Methanobacteriales;f__Methanothermobacteraceae;g__Methanothermobacter;s__Methanothermobacter wolfeii           \n",
       "   closest_placement_ani closest_placement_af msa_percent translation_table\n",
       "1  100                   1                    95.73       11               \n",
       "2  100                   1                    97.19       11               \n",
       "⋮  ⋮                     ⋮                    ⋮           ⋮                \n",
       "15  97.33                0.97                 88.56       11               \n",
       "16 100.00                1.00                 96.45       11               \n",
       "   red_value warnings\n",
       "1  N/A       N/A     \n",
       "2  N/A       N/A     \n",
       "⋮  ⋮         ⋮       \n",
       "15 N/A       N/A     \n",
       "16 N/A       N/A     "
      ]
     },
     "metadata": {},
     "output_type": "display_data"
    }
   ],
   "source": [
    "# joining based on Bin.Id\n",
    "drep = drep %>%\n",
    "    inner_join(checkm, c('Bin.Id')) %>%\n",
    "    mutate(GEN = genome %>% as.character %>% basename) %>%\n",
    "    inner_join(drep_gen %>% mutate(GEN = Fasta %>% as.character %>% basename),\n",
    "               by=c('GEN')) %>%\n",
    "    inner_join(tax, c('Bin.Id'='user_genome')) #%>%\n",
    "drep"
   ]
  },
  {
   "cell_type": "code",
   "execution_count": 11,
   "metadata": {
    "execution": {
     "iopub.execute_input": "2021-02-08T13:23:02.529335Z",
     "iopub.status.busy": "2021-02-08T13:23:02.527064Z",
     "iopub.status.idle": "2021-02-08T13:23:02.574900Z"
    }
   },
   "outputs": [
    {
     "data": {
      "text/html": [
       "<table>\n",
       "<caption>A data.frame: 16 × 60</caption>\n",
       "<thead>\n",
       "\t<tr><th scope=col>genome</th><th scope=col>completeness</th><th scope=col>contamination</th><th scope=col>Bin.Id</th><th scope=col>Marker.lineage</th><th scope=col>X..genomes</th><th scope=col>X..markers</th><th scope=col>X..marker.sets</th><th scope=col>Completeness</th><th scope=col>Contamination</th><th scope=col>⋯</th><th scope=col>fastani_af</th><th scope=col>closest_placement_reference</th><th scope=col>closest_placement_radius</th><th scope=col>closest_placement_taxonomy</th><th scope=col>closest_placement_ani</th><th scope=col>closest_placement_af</th><th scope=col>msa_percent</th><th scope=col>translation_table</th><th scope=col>red_value</th><th scope=col>warnings</th></tr>\n",
       "\t<tr><th scope=col>&lt;fct&gt;</th><th scope=col>&lt;dbl&gt;</th><th scope=col>&lt;dbl&gt;</th><th scope=col>&lt;chr&gt;</th><th scope=col>&lt;fct&gt;</th><th scope=col>&lt;int&gt;</th><th scope=col>&lt;int&gt;</th><th scope=col>&lt;int&gt;</th><th scope=col>&lt;dbl&gt;</th><th scope=col>&lt;dbl&gt;</th><th scope=col>⋯</th><th scope=col>&lt;fct&gt;</th><th scope=col>&lt;fct&gt;</th><th scope=col>&lt;dbl&gt;</th><th scope=col>&lt;fct&gt;</th><th scope=col>&lt;dbl&gt;</th><th scope=col>&lt;dbl&gt;</th><th scope=col>&lt;dbl&gt;</th><th scope=col>&lt;int&gt;</th><th scope=col>&lt;fct&gt;</th><th scope=col>&lt;fct&gt;</th></tr>\n",
       "</thead>\n",
       "<tbody>\n",
       "\t<tr><td>/ebio/abt3_scratch/nyoungblut/LLG_62325884640/genomes/GCA_000008645.1_ASM864v1_genomic.fna  </td><td>100</td><td>0.31</td><td>GCA_000008645.1_ASM864v1_genomic  </td><td>p__Euryarchaeota (UID3)</td><td>148</td><td>188</td><td>125</td><td>100</td><td>0.31</td><td>⋯</td><td>1.0</td><td>GCF_000008645.1</td><td>95</td><td>d__Archaea;p__Methanobacteriota;c__Methanobacteria;o__Methanobacteriales;f__Methanothermobacteraceae;g__Methanothermobacter;s__Methanothermobacter thermautotrophicus</td><td>100</td><td>1</td><td>95.73</td><td>11</td><td>N/A</td><td>N/A</td></tr>\n",
       "\t<tr><td>/ebio/abt3_scratch/nyoungblut/LLG_62325884640/genomes/GCA_000828575.1_ASM82857v1_genomic.fna</td><td>100</td><td>0.00</td><td>GCA_000828575.1_ASM82857v1_genomic</td><td>p__Euryarchaeota (UID3)</td><td>148</td><td>188</td><td>125</td><td>100</td><td>0.00</td><td>⋯</td><td>1.0</td><td>GCF_000828575.1</td><td>95</td><td>d__Archaea;p__Methanobacteriota;c__Methanobacteria;o__Methanobacteriales;f__Methanothermobacteraceae;g__Methanothermobacter;s__Methanothermobacter sp000828575       </td><td>100</td><td>1</td><td>97.19</td><td>11</td><td>N/A</td><td>N/A</td></tr>\n",
       "\t<tr><td>⋮</td><td>⋮</td><td>⋮</td><td>⋮</td><td>⋮</td><td>⋮</td><td>⋮</td><td>⋮</td><td>⋮</td><td>⋮</td><td>⋱</td><td>⋮</td><td>⋮</td><td>⋮</td><td>⋮</td><td>⋮</td><td>⋮</td><td>⋮</td><td>⋮</td><td>⋮</td><td>⋮</td></tr>\n",
       "\t<tr><td>/ebio/abt3_scratch/nyoungblut/LLG_62325884640/genomes/GCA_014361435.1_ASM1436143v1_genomic.fna</td><td> 97.6</td><td>2.87</td><td>GCA_014361435.1_ASM1436143v1_genomic</td><td>p__Euryarchaeota (UID3)</td><td>148</td><td>188</td><td>125</td><td> 97.6</td><td>2.87</td><td>⋯</td><td>0.97</td><td>GCF_000008645.1</td><td>95</td><td>d__Archaea;p__Methanobacteriota;c__Methanobacteria;o__Methanobacteriales;f__Methanothermobacteraceae;g__Methanothermobacter;s__Methanothermobacter thermautotrophicus</td><td> 97.33</td><td>0.97</td><td>88.56</td><td>11</td><td>N/A</td><td>N/A</td></tr>\n",
       "\t<tr><td>/ebio/abt3_scratch/nyoungblut/LLG_62325884640/genomes/GCA_900095815.1_SIV6_genomic.fna        </td><td>100.0</td><td>0.00</td><td>GCA_900095815.1_SIV6_genomic        </td><td>p__Euryarchaeota (UID3)</td><td>148</td><td>188</td><td>125</td><td>100.0</td><td>0.00</td><td>⋯</td><td>1.0 </td><td>GCF_900095815.1</td><td>95</td><td>d__Archaea;p__Methanobacteriota;c__Methanobacteria;o__Methanobacteriales;f__Methanothermobacteraceae;g__Methanothermobacter;s__Methanothermobacter wolfeii           </td><td>100.00</td><td>1.00</td><td>96.45</td><td>11</td><td>N/A</td><td>N/A</td></tr>\n",
       "</tbody>\n",
       "</table>\n"
      ],
      "text/latex": [
       "A data.frame: 16 × 60\n",
       "\\begin{tabular}{lllllllllllllllllllll}\n",
       " genome & completeness & contamination & Bin.Id & Marker.lineage & X..genomes & X..markers & X..marker.sets & Completeness & Contamination & ⋯ & fastani\\_af & closest\\_placement\\_reference & closest\\_placement\\_radius & closest\\_placement\\_taxonomy & closest\\_placement\\_ani & closest\\_placement\\_af & msa\\_percent & translation\\_table & red\\_value & warnings\\\\\n",
       " <fct> & <dbl> & <dbl> & <chr> & <fct> & <int> & <int> & <int> & <dbl> & <dbl> & ⋯ & <fct> & <fct> & <dbl> & <fct> & <dbl> & <dbl> & <dbl> & <int> & <fct> & <fct>\\\\\n",
       "\\hline\n",
       "\t /ebio/abt3\\_scratch/nyoungblut/LLG\\_62325884640/genomes/GCA\\_000008645.1\\_ASM864v1\\_genomic.fna   & 100 & 0.31 & GCA\\_000008645.1\\_ASM864v1\\_genomic   & p\\_\\_Euryarchaeota (UID3) & 148 & 188 & 125 & 100 & 0.31 & ⋯ & 1.0 & GCF\\_000008645.1 & 95 & d\\_\\_Archaea;p\\_\\_Methanobacteriota;c\\_\\_Methanobacteria;o\\_\\_Methanobacteriales;f\\_\\_Methanothermobacteraceae;g\\_\\_Methanothermobacter;s\\_\\_Methanothermobacter thermautotrophicus & 100 & 1 & 95.73 & 11 & N/A & N/A\\\\\n",
       "\t /ebio/abt3\\_scratch/nyoungblut/LLG\\_62325884640/genomes/GCA\\_000828575.1\\_ASM82857v1\\_genomic.fna & 100 & 0.00 & GCA\\_000828575.1\\_ASM82857v1\\_genomic & p\\_\\_Euryarchaeota (UID3) & 148 & 188 & 125 & 100 & 0.00 & ⋯ & 1.0 & GCF\\_000828575.1 & 95 & d\\_\\_Archaea;p\\_\\_Methanobacteriota;c\\_\\_Methanobacteria;o\\_\\_Methanobacteriales;f\\_\\_Methanothermobacteraceae;g\\_\\_Methanothermobacter;s\\_\\_Methanothermobacter sp000828575        & 100 & 1 & 97.19 & 11 & N/A & N/A\\\\\n",
       "\t ⋮ & ⋮ & ⋮ & ⋮ & ⋮ & ⋮ & ⋮ & ⋮ & ⋮ & ⋮ & ⋱ & ⋮ & ⋮ & ⋮ & ⋮ & ⋮ & ⋮ & ⋮ & ⋮ & ⋮ & ⋮\\\\\n",
       "\t /ebio/abt3\\_scratch/nyoungblut/LLG\\_62325884640/genomes/GCA\\_014361435.1\\_ASM1436143v1\\_genomic.fna &  97.6 & 2.87 & GCA\\_014361435.1\\_ASM1436143v1\\_genomic & p\\_\\_Euryarchaeota (UID3) & 148 & 188 & 125 &  97.6 & 2.87 & ⋯ & 0.97 & GCF\\_000008645.1 & 95 & d\\_\\_Archaea;p\\_\\_Methanobacteriota;c\\_\\_Methanobacteria;o\\_\\_Methanobacteriales;f\\_\\_Methanothermobacteraceae;g\\_\\_Methanothermobacter;s\\_\\_Methanothermobacter thermautotrophicus &  97.33 & 0.97 & 88.56 & 11 & N/A & N/A\\\\\n",
       "\t /ebio/abt3\\_scratch/nyoungblut/LLG\\_62325884640/genomes/GCA\\_900095815.1\\_SIV6\\_genomic.fna         & 100.0 & 0.00 & GCA\\_900095815.1\\_SIV6\\_genomic         & p\\_\\_Euryarchaeota (UID3) & 148 & 188 & 125 & 100.0 & 0.00 & ⋯ & 1.0  & GCF\\_900095815.1 & 95 & d\\_\\_Archaea;p\\_\\_Methanobacteriota;c\\_\\_Methanobacteria;o\\_\\_Methanobacteriales;f\\_\\_Methanothermobacteraceae;g\\_\\_Methanothermobacter;s\\_\\_Methanothermobacter wolfeii            & 100.00 & 1.00 & 96.45 & 11 & N/A & N/A\\\\\n",
       "\\end{tabular}\n"
      ],
      "text/markdown": [
       "\n",
       "A data.frame: 16 × 60\n",
       "\n",
       "| genome &lt;fct&gt; | completeness &lt;dbl&gt; | contamination &lt;dbl&gt; | Bin.Id &lt;chr&gt; | Marker.lineage &lt;fct&gt; | X..genomes &lt;int&gt; | X..markers &lt;int&gt; | X..marker.sets &lt;int&gt; | Completeness &lt;dbl&gt; | Contamination &lt;dbl&gt; | ⋯ ⋯ | fastani_af &lt;fct&gt; | closest_placement_reference &lt;fct&gt; | closest_placement_radius &lt;dbl&gt; | closest_placement_taxonomy &lt;fct&gt; | closest_placement_ani &lt;dbl&gt; | closest_placement_af &lt;dbl&gt; | msa_percent &lt;dbl&gt; | translation_table &lt;int&gt; | red_value &lt;fct&gt; | warnings &lt;fct&gt; |\n",
       "|---|---|---|---|---|---|---|---|---|---|---|---|---|---|---|---|---|---|---|---|---|\n",
       "| /ebio/abt3_scratch/nyoungblut/LLG_62325884640/genomes/GCA_000008645.1_ASM864v1_genomic.fna   | 100 | 0.31 | GCA_000008645.1_ASM864v1_genomic   | p__Euryarchaeota (UID3) | 148 | 188 | 125 | 100 | 0.31 | ⋯ | 1.0 | GCF_000008645.1 | 95 | d__Archaea;p__Methanobacteriota;c__Methanobacteria;o__Methanobacteriales;f__Methanothermobacteraceae;g__Methanothermobacter;s__Methanothermobacter thermautotrophicus | 100 | 1 | 95.73 | 11 | N/A | N/A |\n",
       "| /ebio/abt3_scratch/nyoungblut/LLG_62325884640/genomes/GCA_000828575.1_ASM82857v1_genomic.fna | 100 | 0.00 | GCA_000828575.1_ASM82857v1_genomic | p__Euryarchaeota (UID3) | 148 | 188 | 125 | 100 | 0.00 | ⋯ | 1.0 | GCF_000828575.1 | 95 | d__Archaea;p__Methanobacteriota;c__Methanobacteria;o__Methanobacteriales;f__Methanothermobacteraceae;g__Methanothermobacter;s__Methanothermobacter sp000828575        | 100 | 1 | 97.19 | 11 | N/A | N/A |\n",
       "| ⋮ | ⋮ | ⋮ | ⋮ | ⋮ | ⋮ | ⋮ | ⋮ | ⋮ | ⋮ | ⋱ | ⋮ | ⋮ | ⋮ | ⋮ | ⋮ | ⋮ | ⋮ | ⋮ | ⋮ | ⋮ |\n",
       "| /ebio/abt3_scratch/nyoungblut/LLG_62325884640/genomes/GCA_014361435.1_ASM1436143v1_genomic.fna |  97.6 | 2.87 | GCA_014361435.1_ASM1436143v1_genomic | p__Euryarchaeota (UID3) | 148 | 188 | 125 |  97.6 | 2.87 | ⋯ | 0.97 | GCF_000008645.1 | 95 | d__Archaea;p__Methanobacteriota;c__Methanobacteria;o__Methanobacteriales;f__Methanothermobacteraceae;g__Methanothermobacter;s__Methanothermobacter thermautotrophicus |  97.33 | 0.97 | 88.56 | 11 | N/A | N/A |\n",
       "| /ebio/abt3_scratch/nyoungblut/LLG_62325884640/genomes/GCA_900095815.1_SIV6_genomic.fna         | 100.0 | 0.00 | GCA_900095815.1_SIV6_genomic         | p__Euryarchaeota (UID3) | 148 | 188 | 125 | 100.0 | 0.00 | ⋯ | 1.0  | GCF_900095815.1 | 95 | d__Archaea;p__Methanobacteriota;c__Methanobacteria;o__Methanobacteriales;f__Methanothermobacteraceae;g__Methanothermobacter;s__Methanothermobacter wolfeii            | 100.00 | 1.00 | 96.45 | 11 | N/A | N/A |\n",
       "\n"
      ],
      "text/plain": [
       "   genome                                                                                        \n",
       "1  /ebio/abt3_scratch/nyoungblut/LLG_62325884640/genomes/GCA_000008645.1_ASM864v1_genomic.fna    \n",
       "2  /ebio/abt3_scratch/nyoungblut/LLG_62325884640/genomes/GCA_000828575.1_ASM82857v1_genomic.fna  \n",
       "⋮  ⋮                                                                                             \n",
       "15 /ebio/abt3_scratch/nyoungblut/LLG_62325884640/genomes/GCA_014361435.1_ASM1436143v1_genomic.fna\n",
       "16 /ebio/abt3_scratch/nyoungblut/LLG_62325884640/genomes/GCA_900095815.1_SIV6_genomic.fna        \n",
       "   completeness contamination Bin.Id                              \n",
       "1  100          0.31          GCA_000008645.1_ASM864v1_genomic    \n",
       "2  100          0.00          GCA_000828575.1_ASM82857v1_genomic  \n",
       "⋮  ⋮            ⋮             ⋮                                   \n",
       "15  97.6        2.87          GCA_014361435.1_ASM1436143v1_genomic\n",
       "16 100.0        0.00          GCA_900095815.1_SIV6_genomic        \n",
       "   Marker.lineage          X..genomes X..markers X..marker.sets Completeness\n",
       "1  p__Euryarchaeota (UID3) 148        188        125            100         \n",
       "2  p__Euryarchaeota (UID3) 148        188        125            100         \n",
       "⋮  ⋮                       ⋮          ⋮          ⋮              ⋮           \n",
       "15 p__Euryarchaeota (UID3) 148        188        125             97.6       \n",
       "16 p__Euryarchaeota (UID3) 148        188        125            100.0       \n",
       "   Contamination ⋯ fastani_af closest_placement_reference\n",
       "1  0.31          ⋯ 1.0        GCF_000008645.1            \n",
       "2  0.00          ⋯ 1.0        GCF_000828575.1            \n",
       "⋮  ⋮             ⋱ ⋮          ⋮                          \n",
       "15 2.87          ⋯ 0.97       GCF_000008645.1            \n",
       "16 0.00          ⋯ 1.0        GCF_900095815.1            \n",
       "   closest_placement_radius\n",
       "1  95                      \n",
       "2  95                      \n",
       "⋮  ⋮                       \n",
       "15 95                      \n",
       "16 95                      \n",
       "   closest_placement_taxonomy                                                                                                                                           \n",
       "1  d__Archaea;p__Methanobacteriota;c__Methanobacteria;o__Methanobacteriales;f__Methanothermobacteraceae;g__Methanothermobacter;s__Methanothermobacter thermautotrophicus\n",
       "2  d__Archaea;p__Methanobacteriota;c__Methanobacteria;o__Methanobacteriales;f__Methanothermobacteraceae;g__Methanothermobacter;s__Methanothermobacter sp000828575       \n",
       "⋮  ⋮                                                                                                                                                                    \n",
       "15 d__Archaea;p__Methanobacteriota;c__Methanobacteria;o__Methanobacteriales;f__Methanothermobacteraceae;g__Methanothermobacter;s__Methanothermobacter thermautotrophicus\n",
       "16 d__Archaea;p__Methanobacteriota;c__Methanobacteria;o__Methanobacteriales;f__Methanothermobacteraceae;g__Methanothermobacter;s__Methanothermobacter wolfeii           \n",
       "   closest_placement_ani closest_placement_af msa_percent translation_table\n",
       "1  100                   1                    95.73       11               \n",
       "2  100                   1                    97.19       11               \n",
       "⋮  ⋮                     ⋮                    ⋮           ⋮                \n",
       "15  97.33                0.97                 88.56       11               \n",
       "16 100.00                1.00                 96.45       11               \n",
       "   red_value warnings\n",
       "1  N/A       N/A     \n",
       "2  N/A       N/A     \n",
       "⋮  ⋮         ⋮       \n",
       "15 N/A       N/A     \n",
       "16 N/A       N/A     "
      ]
     },
     "metadata": {},
     "output_type": "display_data"
    }
   ],
   "source": [
    "# filtering by quality\n",
    "hq_genomes = drep %>%\n",
    "    filter(completeness >= 90,\n",
    "           contamination < 5,\n",
    "           Strain.heterogeneity < 50)\n",
    "hq_genomes"
   ]
  },
  {
   "cell_type": "code",
   "execution_count": 12,
   "metadata": {
    "execution": {
     "iopub.execute_input": "2021-02-08T13:23:22.104881Z",
     "iopub.status.busy": "2021-02-08T13:23:22.102978Z",
     "iopub.status.idle": "2021-02-08T13:23:22.130945Z"
    }
   },
   "outputs": [
    {
     "data": {
      "text/html": [
       "<style>\n",
       ".list-inline {list-style: none; margin:0; padding: 0}\n",
       ".list-inline>li {display: inline-block}\n",
       ".list-inline>li:not(:last-child)::after {content: \"\\00b7\"; padding: 0 .5ex}\n",
       "</style>\n",
       "<ol class=list-inline><li>'genome'</li><li>'completeness'</li><li>'contamination'</li><li>'Bin.Id'</li><li>'Marker.lineage'</li><li>'X..genomes'</li><li>'X..markers'</li><li>'X..marker.sets'</li><li>'Completeness'</li><li>'Contamination'</li><li>'Strain.heterogeneity'</li><li>'Genome.size..bp.'</li><li>'X..ambiguous.bases'</li><li>'X..scaffolds'</li><li>'X..contigs'</li><li>'N50..scaffolds.'</li><li>'N50..contigs.'</li><li>'Mean.scaffold.length..bp.'</li><li>'Mean.contig.length..bp.'</li><li>'Longest.scaffold..bp.'</li><li>'Longest.contig..bp.'</li><li>'GC'</li><li>'GC.std..scaffolds...1kbp.'</li><li>'Coding.density'</li><li>'Translation.table'</li><li>'X..predicted.genes'</li><li>'X0'</li><li>'X1'</li><li>'X2'</li><li>'X3'</li><li>'X4'</li><li>'X5.'</li><li>'assembly.Id'</li><li>'assembler.Id'</li><li>'taxon.Id'</li><li>'File'</li><li>'GEN'</li><li>'Name'</li><li>'Fasta'</li><li>'Domain'</li><li>'Phylum'</li><li>'Class'</li><li>'Order'</li><li>'Family'</li><li>'Genus'</li><li>'Species'</li><li>'fastani_reference'</li><li>'fastani_reference_radius'</li><li>'fastani_taxonomy'</li><li>'fastani_ani'</li><li>'fastani_af'</li><li>'closest_placement_reference'</li><li>'closest_placement_radius'</li><li>'closest_placement_taxonomy'</li><li>'closest_placement_ani'</li><li>'closest_placement_af'</li><li>'msa_percent'</li><li>'translation_table'</li><li>'red_value'</li><li>'warnings'</li></ol>\n"
      ],
      "text/latex": [
       "\\begin{enumerate*}\n",
       "\\item 'genome'\n",
       "\\item 'completeness'\n",
       "\\item 'contamination'\n",
       "\\item 'Bin.Id'\n",
       "\\item 'Marker.lineage'\n",
       "\\item 'X..genomes'\n",
       "\\item 'X..markers'\n",
       "\\item 'X..marker.sets'\n",
       "\\item 'Completeness'\n",
       "\\item 'Contamination'\n",
       "\\item 'Strain.heterogeneity'\n",
       "\\item 'Genome.size..bp.'\n",
       "\\item 'X..ambiguous.bases'\n",
       "\\item 'X..scaffolds'\n",
       "\\item 'X..contigs'\n",
       "\\item 'N50..scaffolds.'\n",
       "\\item 'N50..contigs.'\n",
       "\\item 'Mean.scaffold.length..bp.'\n",
       "\\item 'Mean.contig.length..bp.'\n",
       "\\item 'Longest.scaffold..bp.'\n",
       "\\item 'Longest.contig..bp.'\n",
       "\\item 'GC'\n",
       "\\item 'GC.std..scaffolds...1kbp.'\n",
       "\\item 'Coding.density'\n",
       "\\item 'Translation.table'\n",
       "\\item 'X..predicted.genes'\n",
       "\\item 'X0'\n",
       "\\item 'X1'\n",
       "\\item 'X2'\n",
       "\\item 'X3'\n",
       "\\item 'X4'\n",
       "\\item 'X5.'\n",
       "\\item 'assembly.Id'\n",
       "\\item 'assembler.Id'\n",
       "\\item 'taxon.Id'\n",
       "\\item 'File'\n",
       "\\item 'GEN'\n",
       "\\item 'Name'\n",
       "\\item 'Fasta'\n",
       "\\item 'Domain'\n",
       "\\item 'Phylum'\n",
       "\\item 'Class'\n",
       "\\item 'Order'\n",
       "\\item 'Family'\n",
       "\\item 'Genus'\n",
       "\\item 'Species'\n",
       "\\item 'fastani\\_reference'\n",
       "\\item 'fastani\\_reference\\_radius'\n",
       "\\item 'fastani\\_taxonomy'\n",
       "\\item 'fastani\\_ani'\n",
       "\\item 'fastani\\_af'\n",
       "\\item 'closest\\_placement\\_reference'\n",
       "\\item 'closest\\_placement\\_radius'\n",
       "\\item 'closest\\_placement\\_taxonomy'\n",
       "\\item 'closest\\_placement\\_ani'\n",
       "\\item 'closest\\_placement\\_af'\n",
       "\\item 'msa\\_percent'\n",
       "\\item 'translation\\_table'\n",
       "\\item 'red\\_value'\n",
       "\\item 'warnings'\n",
       "\\end{enumerate*}\n"
      ],
      "text/markdown": [
       "1. 'genome'\n",
       "2. 'completeness'\n",
       "3. 'contamination'\n",
       "4. 'Bin.Id'\n",
       "5. 'Marker.lineage'\n",
       "6. 'X..genomes'\n",
       "7. 'X..markers'\n",
       "8. 'X..marker.sets'\n",
       "9. 'Completeness'\n",
       "10. 'Contamination'\n",
       "11. 'Strain.heterogeneity'\n",
       "12. 'Genome.size..bp.'\n",
       "13. 'X..ambiguous.bases'\n",
       "14. 'X..scaffolds'\n",
       "15. 'X..contigs'\n",
       "16. 'N50..scaffolds.'\n",
       "17. 'N50..contigs.'\n",
       "18. 'Mean.scaffold.length..bp.'\n",
       "19. 'Mean.contig.length..bp.'\n",
       "20. 'Longest.scaffold..bp.'\n",
       "21. 'Longest.contig..bp.'\n",
       "22. 'GC'\n",
       "23. 'GC.std..scaffolds...1kbp.'\n",
       "24. 'Coding.density'\n",
       "25. 'Translation.table'\n",
       "26. 'X..predicted.genes'\n",
       "27. 'X0'\n",
       "28. 'X1'\n",
       "29. 'X2'\n",
       "30. 'X3'\n",
       "31. 'X4'\n",
       "32. 'X5.'\n",
       "33. 'assembly.Id'\n",
       "34. 'assembler.Id'\n",
       "35. 'taxon.Id'\n",
       "36. 'File'\n",
       "37. 'GEN'\n",
       "38. 'Name'\n",
       "39. 'Fasta'\n",
       "40. 'Domain'\n",
       "41. 'Phylum'\n",
       "42. 'Class'\n",
       "43. 'Order'\n",
       "44. 'Family'\n",
       "45. 'Genus'\n",
       "46. 'Species'\n",
       "47. 'fastani_reference'\n",
       "48. 'fastani_reference_radius'\n",
       "49. 'fastani_taxonomy'\n",
       "50. 'fastani_ani'\n",
       "51. 'fastani_af'\n",
       "52. 'closest_placement_reference'\n",
       "53. 'closest_placement_radius'\n",
       "54. 'closest_placement_taxonomy'\n",
       "55. 'closest_placement_ani'\n",
       "56. 'closest_placement_af'\n",
       "57. 'msa_percent'\n",
       "58. 'translation_table'\n",
       "59. 'red_value'\n",
       "60. 'warnings'\n",
       "\n",
       "\n"
      ],
      "text/plain": [
       " [1] \"genome\"                      \"completeness\"               \n",
       " [3] \"contamination\"               \"Bin.Id\"                     \n",
       " [5] \"Marker.lineage\"              \"X..genomes\"                 \n",
       " [7] \"X..markers\"                  \"X..marker.sets\"             \n",
       " [9] \"Completeness\"                \"Contamination\"              \n",
       "[11] \"Strain.heterogeneity\"        \"Genome.size..bp.\"           \n",
       "[13] \"X..ambiguous.bases\"          \"X..scaffolds\"               \n",
       "[15] \"X..contigs\"                  \"N50..scaffolds.\"            \n",
       "[17] \"N50..contigs.\"               \"Mean.scaffold.length..bp.\"  \n",
       "[19] \"Mean.contig.length..bp.\"     \"Longest.scaffold..bp.\"      \n",
       "[21] \"Longest.contig..bp.\"         \"GC\"                         \n",
       "[23] \"GC.std..scaffolds...1kbp.\"   \"Coding.density\"             \n",
       "[25] \"Translation.table\"           \"X..predicted.genes\"         \n",
       "[27] \"X0\"                          \"X1\"                         \n",
       "[29] \"X2\"                          \"X3\"                         \n",
       "[31] \"X4\"                          \"X5.\"                        \n",
       "[33] \"assembly.Id\"                 \"assembler.Id\"               \n",
       "[35] \"taxon.Id\"                    \"File\"                       \n",
       "[37] \"GEN\"                         \"Name\"                       \n",
       "[39] \"Fasta\"                       \"Domain\"                     \n",
       "[41] \"Phylum\"                      \"Class\"                      \n",
       "[43] \"Order\"                       \"Family\"                     \n",
       "[45] \"Genus\"                       \"Species\"                    \n",
       "[47] \"fastani_reference\"           \"fastani_reference_radius\"   \n",
       "[49] \"fastani_taxonomy\"            \"fastani_ani\"                \n",
       "[51] \"fastani_af\"                  \"closest_placement_reference\"\n",
       "[53] \"closest_placement_radius\"    \"closest_placement_taxonomy\" \n",
       "[55] \"closest_placement_ani\"       \"closest_placement_af\"       \n",
       "[57] \"msa_percent\"                 \"translation_table\"          \n",
       "[59] \"red_value\"                   \"warnings\"                   "
      ]
     },
     "metadata": {},
     "output_type": "display_data"
    }
   ],
   "source": [
    "hq_genomes %>% colnames"
   ]
  },
  {
   "cell_type": "code",
   "execution_count": 15,
   "metadata": {
    "execution": {
     "iopub.execute_input": "2021-02-08T13:25:14.613074Z",
     "iopub.status.busy": "2021-02-08T13:25:14.610239Z",
     "iopub.status.idle": "2021-02-08T13:25:14.664953Z"
    }
   },
   "outputs": [
    {
     "data": {
      "text/html": [
       "<table>\n",
       "<caption>A matrix: 1 × 8 of type dbl</caption>\n",
       "<thead>\n",
       "\t<tr><th></th><th scope=col>Min.</th><th scope=col>1st Qu.</th><th scope=col>Median</th><th scope=col>Mean</th><th scope=col>3rd Qu.</th><th scope=col>Max.</th><th scope=col>sd</th><th scope=col>sd_err_of_mean</th></tr>\n",
       "</thead>\n",
       "<tbody>\n",
       "\t<tr><th scope=row>genome size</th><td>1423235</td><td>1544220</td><td>1670554</td><td>1633141</td><td>1721110</td><td>1751377</td><td>122128.9</td><td>49858.92</td></tr>\n",
       "</tbody>\n",
       "</table>\n"
      ],
      "text/latex": [
       "A matrix: 1 × 8 of type dbl\n",
       "\\begin{tabular}{r|llllllll}\n",
       "  & Min. & 1st Qu. & Median & Mean & 3rd Qu. & Max. & sd & sd\\_err\\_of\\_mean\\\\\n",
       "\\hline\n",
       "\tgenome size & 1423235 & 1544220 & 1670554 & 1633141 & 1721110 & 1751377 & 122128.9 & 49858.92\\\\\n",
       "\\end{tabular}\n"
      ],
      "text/markdown": [
       "\n",
       "A matrix: 1 × 8 of type dbl\n",
       "\n",
       "| <!--/--> | Min. | 1st Qu. | Median | Mean | 3rd Qu. | Max. | sd | sd_err_of_mean |\n",
       "|---|---|---|---|---|---|---|---|---|\n",
       "| genome size | 1423235 | 1544220 | 1670554 | 1633141 | 1721110 | 1751377 | 122128.9 | 49858.92 |\n",
       "\n"
      ],
      "text/plain": [
       "            Min.    1st Qu. Median  Mean    3rd Qu. Max.    sd      \n",
       "genome size 1423235 1544220 1670554 1633141 1721110 1751377 122128.9\n",
       "            sd_err_of_mean\n",
       "genome size 49858.92      "
      ]
     },
     "metadata": {},
     "output_type": "display_data"
    },
    {
     "data": {
      "text/html": [
       "<table>\n",
       "<caption>A matrix: 1 × 8 of type dbl</caption>\n",
       "<thead>\n",
       "\t<tr><th></th><th scope=col>Min.</th><th scope=col>1st Qu.</th><th scope=col>Median</th><th scope=col>Mean</th><th scope=col>3rd Qu.</th><th scope=col>Max.</th><th scope=col>sd</th><th scope=col>sd_err_of_mean</th></tr>\n",
       "</thead>\n",
       "<tbody>\n",
       "\t<tr><th scope=row>contigs</th><td>1</td><td>1</td><td>2</td><td>49.75</td><td>21.5</td><td>331</td><td>130.382</td><td>53.228</td></tr>\n",
       "</tbody>\n",
       "</table>\n"
      ],
      "text/latex": [
       "A matrix: 1 × 8 of type dbl\n",
       "\\begin{tabular}{r|llllllll}\n",
       "  & Min. & 1st Qu. & Median & Mean & 3rd Qu. & Max. & sd & sd\\_err\\_of\\_mean\\\\\n",
       "\\hline\n",
       "\tcontigs & 1 & 1 & 2 & 49.75 & 21.5 & 331 & 130.382 & 53.228\\\\\n",
       "\\end{tabular}\n"
      ],
      "text/markdown": [
       "\n",
       "A matrix: 1 × 8 of type dbl\n",
       "\n",
       "| <!--/--> | Min. | 1st Qu. | Median | Mean | 3rd Qu. | Max. | sd | sd_err_of_mean |\n",
       "|---|---|---|---|---|---|---|---|---|\n",
       "| contigs | 1 | 1 | 2 | 49.75 | 21.5 | 331 | 130.382 | 53.228 |\n",
       "\n"
      ],
      "text/plain": [
       "        Min. 1st Qu. Median Mean  3rd Qu. Max. sd      sd_err_of_mean\n",
       "contigs 1    1       2      49.75 21.5    331  130.382 53.228        "
      ]
     },
     "metadata": {},
     "output_type": "display_data"
    },
    {
     "data": {
      "text/html": [
       "<table>\n",
       "<caption>A matrix: 1 × 8 of type dbl</caption>\n",
       "<thead>\n",
       "\t<tr><th></th><th scope=col>Min.</th><th scope=col>1st Qu.</th><th scope=col>Median</th><th scope=col>Mean</th><th scope=col>3rd Qu.</th><th scope=col>Max.</th><th scope=col>sd</th><th scope=col>sd_err_of_mean</th></tr>\n",
       "</thead>\n",
       "<tbody>\n",
       "\t<tr><th scope=row>No. of genes</th><td>1571</td><td>1743.25</td><td>1793</td><td>1772</td><td>1841.25</td><td>1889</td><td>109.607</td><td>44.747</td></tr>\n",
       "</tbody>\n",
       "</table>\n"
      ],
      "text/latex": [
       "A matrix: 1 × 8 of type dbl\n",
       "\\begin{tabular}{r|llllllll}\n",
       "  & Min. & 1st Qu. & Median & Mean & 3rd Qu. & Max. & sd & sd\\_err\\_of\\_mean\\\\\n",
       "\\hline\n",
       "\tNo. of genes & 1571 & 1743.25 & 1793 & 1772 & 1841.25 & 1889 & 109.607 & 44.747\\\\\n",
       "\\end{tabular}\n"
      ],
      "text/markdown": [
       "\n",
       "A matrix: 1 × 8 of type dbl\n",
       "\n",
       "| <!--/--> | Min. | 1st Qu. | Median | Mean | 3rd Qu. | Max. | sd | sd_err_of_mean |\n",
       "|---|---|---|---|---|---|---|---|---|\n",
       "| No. of genes | 1571 | 1743.25 | 1793 | 1772 | 1841.25 | 1889 | 109.607 | 44.747 |\n",
       "\n"
      ],
      "text/plain": [
       "             Min. 1st Qu. Median Mean 3rd Qu. Max. sd      sd_err_of_mean\n",
       "No. of genes 1571 1743.25 1793   1772 1841.25 1889 109.607 44.747        "
      ]
     },
     "metadata": {},
     "output_type": "display_data"
    },
    {
     "data": {
      "text/html": [
       "<table>\n",
       "<caption>A matrix: 1 × 8 of type dbl</caption>\n",
       "<thead>\n",
       "\t<tr><th></th><th scope=col>Min.</th><th scope=col>1st Qu.</th><th scope=col>Median</th><th scope=col>Mean</th><th scope=col>3rd Qu.</th><th scope=col>Max.</th><th scope=col>sd</th><th scope=col>sd_err_of_mean</th></tr>\n",
       "</thead>\n",
       "<tbody>\n",
       "\t<tr><th scope=row>coding density</th><td>89.25</td><td>89.4875</td><td>89.965</td><td>89.99062</td><td>90.38</td><td>91.02</td><td>0.634</td><td>0.259</td></tr>\n",
       "</tbody>\n",
       "</table>\n"
      ],
      "text/latex": [
       "A matrix: 1 × 8 of type dbl\n",
       "\\begin{tabular}{r|llllllll}\n",
       "  & Min. & 1st Qu. & Median & Mean & 3rd Qu. & Max. & sd & sd\\_err\\_of\\_mean\\\\\n",
       "\\hline\n",
       "\tcoding density & 89.25 & 89.4875 & 89.965 & 89.99062 & 90.38 & 91.02 & 0.634 & 0.259\\\\\n",
       "\\end{tabular}\n"
      ],
      "text/markdown": [
       "\n",
       "A matrix: 1 × 8 of type dbl\n",
       "\n",
       "| <!--/--> | Min. | 1st Qu. | Median | Mean | 3rd Qu. | Max. | sd | sd_err_of_mean |\n",
       "|---|---|---|---|---|---|---|---|---|\n",
       "| coding density | 89.25 | 89.4875 | 89.965 | 89.99062 | 90.38 | 91.02 | 0.634 | 0.259 |\n",
       "\n"
      ],
      "text/plain": [
       "               Min.  1st Qu. Median Mean     3rd Qu. Max.  sd    sd_err_of_mean\n",
       "coding density 89.25 89.4875 89.965 89.99062 90.38   91.02 0.634 0.259         "
      ]
     },
     "metadata": {},
     "output_type": "display_data"
    }
   ],
   "source": [
    "hq_genomes %>% summary_x('genome size', Genome.size..bp.)\n",
    "hq_genomes %>% summary_x('contigs', X..contigs)\n",
    "hq_genomes %>% summary_x('No. of genes', X..predicted.genes)\n",
    "hq_genomes %>% summary_x('coding density', Coding.density)"
   ]
  },
  {
   "cell_type": "code",
   "execution_count": 16,
   "metadata": {
    "execution": {
     "iopub.execute_input": "2021-02-08T13:25:20.489910Z",
     "iopub.status.busy": "2021-02-08T13:25:20.488135Z",
     "iopub.status.idle": "2021-02-08T13:25:20.532891Z"
    }
   },
   "outputs": [
    {
     "data": {
      "text/html": [
       "<table>\n",
       "<caption>A tibble: 2 × 3</caption>\n",
       "<thead>\n",
       "\t<tr><th scope=col>Family</th><th scope=col>Genus</th><th scope=col>n_genomes</th></tr>\n",
       "\t<tr><th scope=col>&lt;chr&gt;</th><th scope=col>&lt;chr&gt;</th><th scope=col>&lt;int&gt;</th></tr>\n",
       "</thead>\n",
       "<tbody>\n",
       "\t<tr><td>f__Methanothermobacteraceae  </td><td>g__Methanothermobacter  </td><td>13</td></tr>\n",
       "\t<tr><td>f__Methanothermobacteraceae_A</td><td>g__Methanothermobacter_A</td><td> 3</td></tr>\n",
       "</tbody>\n",
       "</table>\n"
      ],
      "text/latex": [
       "A tibble: 2 × 3\n",
       "\\begin{tabular}{lll}\n",
       " Family & Genus & n\\_genomes\\\\\n",
       " <chr> & <chr> & <int>\\\\\n",
       "\\hline\n",
       "\t f\\_\\_Methanothermobacteraceae   & g\\_\\_Methanothermobacter   & 13\\\\\n",
       "\t f\\_\\_Methanothermobacteraceae\\_A & g\\_\\_Methanothermobacter\\_A &  3\\\\\n",
       "\\end{tabular}\n"
      ],
      "text/markdown": [
       "\n",
       "A tibble: 2 × 3\n",
       "\n",
       "| Family &lt;chr&gt; | Genus &lt;chr&gt; | n_genomes &lt;int&gt; |\n",
       "|---|---|---|\n",
       "| f__Methanothermobacteraceae   | g__Methanothermobacter   | 13 |\n",
       "| f__Methanothermobacteraceae_A | g__Methanothermobacter_A |  3 |\n",
       "\n"
      ],
      "text/plain": [
       "  Family                        Genus                    n_genomes\n",
       "1 f__Methanothermobacteraceae   g__Methanothermobacter   13       \n",
       "2 f__Methanothermobacteraceae_A g__Methanothermobacter_A  3       "
      ]
     },
     "metadata": {},
     "output_type": "display_data"
    }
   ],
   "source": [
    "# summarizing the taxonomy\n",
    "df.dims(20)\n",
    "hq_genomes %>%\n",
    "    group_by(Family, Genus) %>%\n",
    "    summarize(n_genomes = n(), .groups='drop')\n",
    "df.dims()"
   ]
  },
  {
   "cell_type": "code",
   "execution_count": 18,
   "metadata": {
    "execution": {
     "iopub.execute_input": "2021-02-08T13:26:15.297022Z",
     "iopub.status.busy": "2021-02-08T13:26:15.294840Z",
     "iopub.status.idle": "2021-02-08T13:26:15.325962Z"
    }
   },
   "outputs": [
    {
     "name": "stdout",
     "output_type": "stream",
     "text": [
      "File written: /ebio/abt3_projects/software/dev/ll_pipelines/llprimer/experiments/methanothermobacter/samples_genomes_hq.txt \n"
     ]
    }
   ],
   "source": [
    "# writing samples table for LLPRIMER\n",
    "outfile = file.path(work_dir, 'samples_genomes_hq.txt')\n",
    "hq_genomes %>%\n",
    "    select(Bin.Id, Fasta) %>%\n",
    "    rename('Taxon' = Bin.Id) %>%\n",
    "    mutate(Taxon = gsub('_chromosome.+', '', Taxon),\n",
    "           Taxon = gsub('_bin_.+', '', Taxon),\n",
    "           Taxon = gsub('_genomic', '', Taxon),\n",
    "           Taxon = gsub('_annotated_assembly', '', Taxon),\n",
    "           Taxid = taxid,\n",
    "           Domain = 'Archaea') %>%\n",
    "    write_table(outfile)"
   ]
  },
  {
   "cell_type": "markdown",
   "metadata": {},
   "source": [
    "# Primer design"
   ]
  },
  {
   "cell_type": "markdown",
   "metadata": {},
   "source": [
    "## cluster cutoff = 0.9"
   ]
  },
  {
   "cell_type": "markdown",
   "metadata": {},
   "source": [
    "### Config"
   ]
  },
  {
   "cell_type": "code",
   "execution_count": 19,
   "metadata": {
    "execution": {
     "iopub.execute_input": "2021-02-08T14:05:15.837822Z",
     "iopub.status.busy": "2021-02-08T14:05:15.836762Z",
     "iopub.status.idle": "2021-02-08T14:05:15.875607Z"
    }
   },
   "outputs": [
    {
     "name": "stdout",
     "output_type": "stream",
     "text": [
      "#-- I/O --#\n",
      "samples_file: /ebio/abt3_projects/software/dev/ll_pipelines/llprimer/experiments/methanothermobacter/samples_genomes_hq.txt \n",
      "\n",
      "# output location\n",
      "output_dir: /ebio/abt3_projects/software/dev/ll_pipelines/llprimer/experiments/methanothermobacter/primers/clust0.9/\n",
      "\n",
      "# temporary file directory (your username will be added automatically)\n",
      "tmp_dir: /ebio/abt3_scratch/\n",
      "\n",
      "#-- software parameters --#\n",
      "# See the README for a description\n",
      "params:\n",
      "  ionice: -c 3\n",
      "  cgp:\n",
      "    prokka: \"\"\n",
      "    mmseqs:\n",
      "      method: cluster    # or linclust (faster)\n",
      "      run: --min-seq-id 0.9 -c 0.8\n",
      "    vsearch: --id 0.94\n",
      "    core_genes:\n",
      "      cds: --perc-genomes-cds 100 --copies-per-genome-cds 1 --max-clusters-cds 500\n",
      "      rRNA: --perc-genomes-rrna 100 --copies-per-genome-rrna 10 --max-clusters-rrna 500\n",
      "    align:\n",
      "      method: linsi\n",
      "      params: --auto --maxiterate 1000\n",
      "    primer3:\n",
      "      number: --num-primers 500\n",
      "      size: --opt-size 20 --min-size 18 --max-size 24\n",
      "      product: --opt-prod-size 150 --min-prod-size 100 --max-prod-size 200\n",
      "      Tm: --opt-tm 62 --min-tm 55 --max-tm 70 --max-tm-diff 1\n",
      "      PCR: --oligo-DNA 50 --salt-monovalent 50 --salt-divalent 1.5 --dNTPs 0.2\n",
      "      GC: --opt-gc 50 --min-gc 25 --max-gc 75\n",
      "      degeneracy: --max-degeneracy 128 --max-degeneracy-3prime 1 --window-3prime 5\n",
      "      internal_oligo: --make-oligo 0 --int-opt-size 20 --int-opt-tm 60\n",
      "    blast_nontarget:\n",
      "      run_locally: False\n",
      "      cds: -evalue 1e-5 -max_target_seqs 30\n",
      "      rRNA: -evalue 1e-5 -max_target_seqs 30\n",
      "    blastn: -max_target_seqs 500 -perc_identity 90\n",
      "    blast_filter: --perc-len 80 --min-amplicon-len 30 --max-amplicon-len 2000    \n",
      "\n",
      "#-- database --#\n",
      "databases:\n",
      "  blast:\n",
      "    nucl: /ebio/abt3_projects/databases_no-backup/NCBI_blastdb/nt\n",
      "    prot: /ebio/abt3_projects/databases_no-backup/NCBI_blastdb/nr\n",
      "    rRNA:\n",
      "      SSU: /ebio/abt3_projects/databases_no-backup/NCBI_rRNA/2021-01/SSU/16S_ribosomal_RNA\n",
      "      LSU: /ebio/abt3_projects/databases_no-backup/NCBI_rRNA/2021-01/LSU/LSU_prokaryote_rRNA\n",
      "    gene_names: /ebio/abt3_projects/databases_no-backup/NCBI_nr_geneIDs/2021-01/nr_accession-geneNames.pkl\n",
      "  taxonomy:\n",
      "    names: /ebio/abt3_projects/databases_no-backup/NCBI_taxonomy/2020-12-23/names.dmp\n",
      "    nodes: /ebio/abt3_projects/databases_no-backup/NCBI_taxonomy/2020-12-23/nodes.dmp\n",
      "\n",
      "#-- snakemake pipeline --#\n",
      "pipeline:\n",
      "  snakemake_folder: ./\n",
      "  script_folder: bin/scripts/\n",
      "  name: LLPRIMER"
     ]
    }
   ],
   "source": [
    "F = file.path(work_dir, 'primers', 'clust0.9', 'config.yaml')\n",
    "cat_file(F)"
   ]
  },
  {
   "cell_type": "markdown",
   "metadata": {},
   "source": [
    "### Run"
   ]
  },
  {
   "cell_type": "markdown",
   "metadata": {},
   "source": [
    "```\n",
    "(snakemake) @ rick:/ebio/abt3_projects/software/dev/ll_pipelines/llprimer\n",
    "$ screen -L  -S llprimer-thermo ./snakemake_sge.sh /ebio/abt3_projects/software/dev/ll_pipelines/llprimer/experiments/methanothermobacter/primers/clust0.9/config.yaml 30 -F\n",
    "```"
   ]
  },
  {
   "cell_type": "markdown",
   "metadata": {},
   "source": [
    "### Summary"
   ]
  },
  {
   "cell_type": "code",
   "execution_count": 32,
   "metadata": {
    "execution": {
     "iopub.execute_input": "2021-02-09T09:36:50.377340Z",
     "iopub.status.busy": "2021-02-09T09:36:50.375517Z",
     "iopub.status.idle": "2021-02-09T09:36:50.441645Z"
    }
   },
   "outputs": [
    {
     "data": {
      "text/html": [
       "<table>\n",
       "<caption>A data.frame: 16 × 22</caption>\n",
       "<thead>\n",
       "\t<tr><th scope=col>gene_type</th><th scope=col>cluster_id</th><th scope=col>primer_set</th><th scope=col>amplicon_size_consensus</th><th scope=col>amplicon_size_avg</th><th scope=col>amplicon_size_sd</th><th scope=col>primer_id</th><th scope=col>primer_type</th><th scope=col>sequence</th><th scope=col>length</th><th scope=col>⋯</th><th scope=col>position_start</th><th scope=col>position_end</th><th scope=col>Tm_avg</th><th scope=col>Tm_sd</th><th scope=col>GC_avg</th><th scope=col>GC_sd</th><th scope=col>hairpin_avg</th><th scope=col>hairpin_sd</th><th scope=col>homodimer_avg</th><th scope=col>homodimer_sd</th></tr>\n",
       "\t<tr><th scope=col>&lt;fct&gt;</th><th scope=col>&lt;int&gt;</th><th scope=col>&lt;int&gt;</th><th scope=col>&lt;int&gt;</th><th scope=col>&lt;dbl&gt;</th><th scope=col>&lt;dbl&gt;</th><th scope=col>&lt;fct&gt;</th><th scope=col>&lt;fct&gt;</th><th scope=col>&lt;fct&gt;</th><th scope=col>&lt;int&gt;</th><th scope=col>⋯</th><th scope=col>&lt;int&gt;</th><th scope=col>&lt;int&gt;</th><th scope=col>&lt;dbl&gt;</th><th scope=col>&lt;dbl&gt;</th><th scope=col>&lt;dbl&gt;</th><th scope=col>&lt;dbl&gt;</th><th scope=col>&lt;dbl&gt;</th><th scope=col>&lt;dbl&gt;</th><th scope=col>&lt;dbl&gt;</th><th scope=col>&lt;dbl&gt;</th></tr>\n",
       "</thead>\n",
       "<tbody>\n",
       "\t<tr><td>cds</td><td>5</td><td>333</td><td>130</td><td>130</td><td>0</td><td>333f</td><td>PRIMER_LEFT </td><td>CTNAARAGRACCGGVATGAC</td><td>20</td><td>⋯</td><td> 36</td><td> 56</td><td>57.12141</td><td>2.005692</td><td>50.83333</td><td>4.930066</td><td> 0.00000</td><td> 0.00000</td><td>  4.884934</td><td> 4.791501</td></tr>\n",
       "\t<tr><td>cds</td><td>5</td><td>333</td><td>130</td><td>130</td><td>0</td><td>333r</td><td>PRIMER_RIGHT</td><td>GDAGCATBAGKATRTCGCCT</td><td>20</td><td>⋯</td><td>146</td><td>166</td><td>57.76496</td><td>2.461643</td><td>50.00000</td><td>4.859127</td><td>30.85192</td><td>16.69434</td><td>-16.710578</td><td>14.804801</td></tr>\n",
       "\t<tr><td>⋮</td><td>⋮</td><td>⋮</td><td>⋮</td><td>⋮</td><td>⋮</td><td>⋮</td><td>⋮</td><td>⋮</td><td>⋮</td><td>⋱</td><td>⋮</td><td>⋮</td><td>⋮</td><td>⋮</td><td>⋮</td><td>⋮</td><td>⋮</td><td>⋮</td><td>⋮</td><td>⋮</td></tr>\n",
       "\t<tr><td>cds</td><td>9</td><td>321</td><td>143</td><td>143</td><td>0</td><td>321f</td><td>PRIMER_LEFT </td><td>CACCMTTCGCTGCMATGGA </td><td>19</td><td>⋯</td><td>154</td><td>173</td><td>61.36825</td><td>1.352074</td><td>57.89474</td><td>3.721615</td><td>23.78751</td><td>24.003296</td><td>18.82438</td><td>12.504622</td></tr>\n",
       "\t<tr><td>cds</td><td>9</td><td>321</td><td>143</td><td>143</td><td>0</td><td>321r</td><td>PRIMER_RIGHT</td><td>YCTTATRGCYGCYTGTGCAC</td><td>20</td><td>⋯</td><td>277</td><td>297</td><td>60.64556</td><td>2.193200</td><td>55.00000</td><td>5.000000</td><td>41.99857</td><td> 3.357727</td><td>12.39512</td><td> 3.385369</td></tr>\n",
       "</tbody>\n",
       "</table>\n"
      ],
      "text/latex": [
       "A data.frame: 16 × 22\n",
       "\\begin{tabular}{lllllllllllllllllllll}\n",
       " gene\\_type & cluster\\_id & primer\\_set & amplicon\\_size\\_consensus & amplicon\\_size\\_avg & amplicon\\_size\\_sd & primer\\_id & primer\\_type & sequence & length & ⋯ & position\\_start & position\\_end & Tm\\_avg & Tm\\_sd & GC\\_avg & GC\\_sd & hairpin\\_avg & hairpin\\_sd & homodimer\\_avg & homodimer\\_sd\\\\\n",
       " <fct> & <int> & <int> & <int> & <dbl> & <dbl> & <fct> & <fct> & <fct> & <int> & ⋯ & <int> & <int> & <dbl> & <dbl> & <dbl> & <dbl> & <dbl> & <dbl> & <dbl> & <dbl>\\\\\n",
       "\\hline\n",
       "\t cds & 5 & 333 & 130 & 130 & 0 & 333f & PRIMER\\_LEFT  & CTNAARAGRACCGGVATGAC & 20 & ⋯ &  36 &  56 & 57.12141 & 2.005692 & 50.83333 & 4.930066 &  0.00000 &  0.00000 &   4.884934 &  4.791501\\\\\n",
       "\t cds & 5 & 333 & 130 & 130 & 0 & 333r & PRIMER\\_RIGHT & GDAGCATBAGKATRTCGCCT & 20 & ⋯ & 146 & 166 & 57.76496 & 2.461643 & 50.00000 & 4.859127 & 30.85192 & 16.69434 & -16.710578 & 14.804801\\\\\n",
       "\t ⋮ & ⋮ & ⋮ & ⋮ & ⋮ & ⋮ & ⋮ & ⋮ & ⋮ & ⋮ & ⋱ & ⋮ & ⋮ & ⋮ & ⋮ & ⋮ & ⋮ & ⋮ & ⋮ & ⋮ & ⋮\\\\\n",
       "\t cds & 9 & 321 & 143 & 143 & 0 & 321f & PRIMER\\_LEFT  & CACCMTTCGCTGCMATGGA  & 19 & ⋯ & 154 & 173 & 61.36825 & 1.352074 & 57.89474 & 3.721615 & 23.78751 & 24.003296 & 18.82438 & 12.504622\\\\\n",
       "\t cds & 9 & 321 & 143 & 143 & 0 & 321r & PRIMER\\_RIGHT & YCTTATRGCYGCYTGTGCAC & 20 & ⋯ & 277 & 297 & 60.64556 & 2.193200 & 55.00000 & 5.000000 & 41.99857 &  3.357727 & 12.39512 &  3.385369\\\\\n",
       "\\end{tabular}\n"
      ],
      "text/markdown": [
       "\n",
       "A data.frame: 16 × 22\n",
       "\n",
       "| gene_type &lt;fct&gt; | cluster_id &lt;int&gt; | primer_set &lt;int&gt; | amplicon_size_consensus &lt;int&gt; | amplicon_size_avg &lt;dbl&gt; | amplicon_size_sd &lt;dbl&gt; | primer_id &lt;fct&gt; | primer_type &lt;fct&gt; | sequence &lt;fct&gt; | length &lt;int&gt; | ⋯ ⋯ | position_start &lt;int&gt; | position_end &lt;int&gt; | Tm_avg &lt;dbl&gt; | Tm_sd &lt;dbl&gt; | GC_avg &lt;dbl&gt; | GC_sd &lt;dbl&gt; | hairpin_avg &lt;dbl&gt; | hairpin_sd &lt;dbl&gt; | homodimer_avg &lt;dbl&gt; | homodimer_sd &lt;dbl&gt; |\n",
       "|---|---|---|---|---|---|---|---|---|---|---|---|---|---|---|---|---|---|---|---|---|\n",
       "| cds | 5 | 333 | 130 | 130 | 0 | 333f | PRIMER_LEFT  | CTNAARAGRACCGGVATGAC | 20 | ⋯ |  36 |  56 | 57.12141 | 2.005692 | 50.83333 | 4.930066 |  0.00000 |  0.00000 |   4.884934 |  4.791501 |\n",
       "| cds | 5 | 333 | 130 | 130 | 0 | 333r | PRIMER_RIGHT | GDAGCATBAGKATRTCGCCT | 20 | ⋯ | 146 | 166 | 57.76496 | 2.461643 | 50.00000 | 4.859127 | 30.85192 | 16.69434 | -16.710578 | 14.804801 |\n",
       "| ⋮ | ⋮ | ⋮ | ⋮ | ⋮ | ⋮ | ⋮ | ⋮ | ⋮ | ⋮ | ⋱ | ⋮ | ⋮ | ⋮ | ⋮ | ⋮ | ⋮ | ⋮ | ⋮ | ⋮ | ⋮ |\n",
       "| cds | 9 | 321 | 143 | 143 | 0 | 321f | PRIMER_LEFT  | CACCMTTCGCTGCMATGGA  | 19 | ⋯ | 154 | 173 | 61.36825 | 1.352074 | 57.89474 | 3.721615 | 23.78751 | 24.003296 | 18.82438 | 12.504622 |\n",
       "| cds | 9 | 321 | 143 | 143 | 0 | 321r | PRIMER_RIGHT | YCTTATRGCYGCYTGTGCAC | 20 | ⋯ | 277 | 297 | 60.64556 | 2.193200 | 55.00000 | 5.000000 | 41.99857 |  3.357727 | 12.39512 |  3.385369 |\n",
       "\n"
      ],
      "text/plain": [
       "   gene_type cluster_id primer_set amplicon_size_consensus amplicon_size_avg\n",
       "1  cds       5          333        130                     130              \n",
       "2  cds       5          333        130                     130              \n",
       "⋮  ⋮         ⋮          ⋮          ⋮                       ⋮                \n",
       "15 cds       9          321        143                     143              \n",
       "16 cds       9          321        143                     143              \n",
       "   amplicon_size_sd primer_id primer_type  sequence             length ⋯\n",
       "1  0                333f      PRIMER_LEFT  CTNAARAGRACCGGVATGAC 20     ⋯\n",
       "2  0                333r      PRIMER_RIGHT GDAGCATBAGKATRTCGCCT 20     ⋯\n",
       "⋮  ⋮                ⋮         ⋮            ⋮                    ⋮      ⋱\n",
       "15 0                321f      PRIMER_LEFT  CACCMTTCGCTGCMATGGA  19     ⋯\n",
       "16 0                321r      PRIMER_RIGHT YCTTATRGCYGCYTGTGCAC 20     ⋯\n",
       "   position_start position_end Tm_avg   Tm_sd    GC_avg   GC_sd    hairpin_avg\n",
       "1   36             56          57.12141 2.005692 50.83333 4.930066  0.00000   \n",
       "2  146            166          57.76496 2.461643 50.00000 4.859127 30.85192   \n",
       "⋮  ⋮              ⋮            ⋮        ⋮        ⋮        ⋮        ⋮          \n",
       "15 154            173          61.36825 1.352074 57.89474 3.721615 23.78751   \n",
       "16 277            297          60.64556 2.193200 55.00000 5.000000 41.99857   \n",
       "   hairpin_sd homodimer_avg homodimer_sd\n",
       "1   0.00000     4.884934     4.791501   \n",
       "2  16.69434   -16.710578    14.804801   \n",
       "⋮  ⋮          ⋮             ⋮           \n",
       "15 24.003296  18.82438      12.504622   \n",
       "16  3.357727  12.39512       3.385369   "
      ]
     },
     "metadata": {},
     "output_type": "display_data"
    }
   ],
   "source": [
    "# table on final primer metadata\n",
    "F = file.path(work_dir, 'primers', 'clust0.9', 'cgp', 'primers_final_info.tsv')\n",
    "info = read.delim(F, sep='\\t')\n",
    "info"
   ]
  },
  {
   "cell_type": "code",
   "execution_count": 36,
   "metadata": {
    "execution": {
     "iopub.execute_input": "2021-02-09T09:37:32.768155Z",
     "iopub.status.busy": "2021-02-09T09:37:32.766009Z",
     "iopub.status.idle": "2021-02-09T09:37:32.801479Z"
    }
   },
   "outputs": [
    {
     "name": "stdout",
     "output_type": "stream",
     "text": [
      "No. of unique Primer sets: 8 \n",
      "No. of unique Gene clusters: 3 \n"
     ]
    },
    {
     "data": {
      "text/html": [
       "<table>\n",
       "<caption>A matrix: 1 × 8 of type dbl</caption>\n",
       "<thead>\n",
       "\t<tr><th></th><th scope=col>Min.</th><th scope=col>1st Qu.</th><th scope=col>Median</th><th scope=col>Mean</th><th scope=col>3rd Qu.</th><th scope=col>Max.</th><th scope=col>sd</th><th scope=col>sd_err_of_mean</th></tr>\n",
       "</thead>\n",
       "<tbody>\n",
       "\t<tr><th scope=row>Primer sets per gene cluster</th><td>2</td><td>2</td><td>2</td><td>2.666667</td><td>3</td><td>4</td><td>0.8</td><td>0.327</td></tr>\n",
       "</tbody>\n",
       "</table>\n"
      ],
      "text/latex": [
       "A matrix: 1 × 8 of type dbl\n",
       "\\begin{tabular}{r|llllllll}\n",
       "  & Min. & 1st Qu. & Median & Mean & 3rd Qu. & Max. & sd & sd\\_err\\_of\\_mean\\\\\n",
       "\\hline\n",
       "\tPrimer sets per gene cluster & 2 & 2 & 2 & 2.666667 & 3 & 4 & 0.8 & 0.327\\\\\n",
       "\\end{tabular}\n"
      ],
      "text/markdown": [
       "\n",
       "A matrix: 1 × 8 of type dbl\n",
       "\n",
       "| <!--/--> | Min. | 1st Qu. | Median | Mean | 3rd Qu. | Max. | sd | sd_err_of_mean |\n",
       "|---|---|---|---|---|---|---|---|---|\n",
       "| Primer sets per gene cluster | 2 | 2 | 2 | 2.666667 | 3 | 4 | 0.8 | 0.327 |\n",
       "\n"
      ],
      "text/plain": [
       "                             Min. 1st Qu. Median Mean     3rd Qu. Max. sd \n",
       "Primer sets per gene cluster 2    2       2      2.666667 3       4    0.8\n",
       "                             sd_err_of_mean\n",
       "Primer sets per gene cluster 0.327         "
      ]
     },
     "metadata": {},
     "output_type": "display_data"
    }
   ],
   "source": [
    "info$primer_set %>% unique_n('Primer sets')\n",
    "info$cluster_id %>% unique_n('Gene clusters')\n",
    "info %>%\n",
    "    group_by(cluster_id) %>%\n",
    "    summarize(n_primer_sets = primer_set %>% unique %>% length,\n",
    "              .groups='drop') %>%\n",
    "    .$n_primer_sets %>% summary_x('Primer sets per gene cluster')"
   ]
  },
  {
   "cell_type": "code",
   "execution_count": 34,
   "metadata": {
    "execution": {
     "iopub.execute_input": "2021-02-09T09:37:12.138687Z",
     "iopub.status.busy": "2021-02-09T09:37:12.136577Z",
     "iopub.status.idle": "2021-02-09T09:37:12.166147Z"
    }
   },
   "outputs": [
    {
     "data": {
      "text/html": [
       "<table>\n",
       "<caption>A tibble: 1 × 2</caption>\n",
       "<thead>\n",
       "\t<tr><th scope=col>gene_type</th><th scope=col>n_primer_sets</th></tr>\n",
       "\t<tr><th scope=col>&lt;fct&gt;</th><th scope=col>&lt;int&gt;</th></tr>\n",
       "</thead>\n",
       "<tbody>\n",
       "\t<tr><td>cds</td><td>8</td></tr>\n",
       "</tbody>\n",
       "</table>\n"
      ],
      "text/latex": [
       "A tibble: 1 × 2\n",
       "\\begin{tabular}{ll}\n",
       " gene\\_type & n\\_primer\\_sets\\\\\n",
       " <fct> & <int>\\\\\n",
       "\\hline\n",
       "\t cds & 8\\\\\n",
       "\\end{tabular}\n"
      ],
      "text/markdown": [
       "\n",
       "A tibble: 1 × 2\n",
       "\n",
       "| gene_type &lt;fct&gt; | n_primer_sets &lt;int&gt; |\n",
       "|---|---|\n",
       "| cds | 8 |\n",
       "\n"
      ],
      "text/plain": [
       "  gene_type n_primer_sets\n",
       "1 cds       8            "
      ]
     },
     "metadata": {},
     "output_type": "display_data"
    }
   ],
   "source": [
    "# primer sets per gene type\n",
    "info %>%\n",
    "    distinct(gene_type, cluster_id, primer_set) %>%\n",
    "    group_by(gene_type) %>%\n",
    "    summarize(n_primer_sets = primer_set %>% unique %>% length,\n",
    "              .groups='drop') "
   ]
  },
  {
   "cell_type": "code",
   "execution_count": 37,
   "metadata": {
    "execution": {
     "iopub.execute_input": "2021-02-09T09:37:42.760681Z",
     "iopub.status.busy": "2021-02-09T09:37:42.758909Z",
     "iopub.status.idle": "2021-02-09T09:37:42.824708Z"
    }
   },
   "outputs": [
    {
     "data": {
      "text/html": [
       "<table>\n",
       "<caption>A data.frame: 10 × 22</caption>\n",
       "<thead>\n",
       "\t<tr><th></th><th scope=col>gene_type</th><th scope=col>cluster_id</th><th scope=col>primer_set</th><th scope=col>amplicon_size_consensus</th><th scope=col>amplicon_size_avg</th><th scope=col>amplicon_size_sd</th><th scope=col>primer_id</th><th scope=col>primer_type</th><th scope=col>sequence</th><th scope=col>length</th><th scope=col>degeneracy</th><th scope=col>degeneracy_3prime</th><th scope=col>position_start</th><th scope=col>position_end</th><th scope=col>Tm_avg</th><th scope=col>Tm_sd</th><th scope=col>GC_avg</th><th scope=col>GC_sd</th><th scope=col>hairpin_avg</th><th scope=col>hairpin_sd</th><th scope=col>homodimer_avg</th><th scope=col>homodimer_sd</th></tr>\n",
       "\t<tr><th></th><th scope=col>&lt;fct&gt;</th><th scope=col>&lt;int&gt;</th><th scope=col>&lt;int&gt;</th><th scope=col>&lt;int&gt;</th><th scope=col>&lt;dbl&gt;</th><th scope=col>&lt;dbl&gt;</th><th scope=col>&lt;fct&gt;</th><th scope=col>&lt;fct&gt;</th><th scope=col>&lt;fct&gt;</th><th scope=col>&lt;int&gt;</th><th scope=col>&lt;int&gt;</th><th scope=col>&lt;int&gt;</th><th scope=col>&lt;int&gt;</th><th scope=col>&lt;int&gt;</th><th scope=col>&lt;dbl&gt;</th><th scope=col>&lt;dbl&gt;</th><th scope=col>&lt;dbl&gt;</th><th scope=col>&lt;dbl&gt;</th><th scope=col>&lt;dbl&gt;</th><th scope=col>&lt;dbl&gt;</th><th scope=col>&lt;dbl&gt;</th><th scope=col>&lt;dbl&gt;</th></tr>\n",
       "</thead>\n",
       "<tbody>\n",
       "\t<tr><th scope=row>1</th><td>cds</td><td>5</td><td>333</td><td>130</td><td>130</td><td>0</td><td>333f</td><td>PRIMER_LEFT </td><td>CTNAARAGRACCGGVATGAC  </td><td>20</td><td>48</td><td>1</td><td> 36</td><td> 56</td><td>57.12141</td><td>2.005692</td><td>50.83333</td><td>4.930066</td><td> 0.00000</td><td> 0.00000</td><td>  4.884934</td><td> 4.791501</td></tr>\n",
       "\t<tr><th scope=row>2</th><td>cds</td><td>5</td><td>333</td><td>130</td><td>130</td><td>0</td><td>333r</td><td>PRIMER_RIGHT</td><td>GDAGCATBAGKATRTCGCCT  </td><td>20</td><td>36</td><td>1</td><td>146</td><td>166</td><td>57.76496</td><td>2.461643</td><td>50.00000</td><td>4.859127</td><td>30.85192</td><td>16.69434</td><td>-16.710578</td><td>14.804801</td></tr>\n",
       "\t<tr><th scope=row>3</th><td>cds</td><td>5</td><td>334</td><td>131</td><td>131</td><td>0</td><td>334f</td><td>PRIMER_LEFT </td><td>CTNAARAGRACCGGVATGAC  </td><td>20</td><td>48</td><td>1</td><td> 36</td><td> 56</td><td>57.12141</td><td>2.005692</td><td>50.83333</td><td>4.930066</td><td> 0.00000</td><td> 0.00000</td><td>  4.884934</td><td> 4.791501</td></tr>\n",
       "\t<tr><th scope=row>4</th><td>cds</td><td>5</td><td>334</td><td>131</td><td>131</td><td>0</td><td>334r</td><td>PRIMER_RIGHT</td><td>AGDAGCATBAGKATRTCGCC  </td><td>20</td><td>36</td><td>1</td><td>147</td><td>167</td><td>57.76496</td><td>2.461643</td><td>50.00000</td><td>4.859127</td><td>20.09595</td><td>18.08273</td><td>-15.538548</td><td>14.168021</td></tr>\n",
       "\t<tr><th scope=row>5</th><td>cds</td><td>6</td><td>213</td><td>190</td><td>190</td><td>0</td><td>213f</td><td>PRIMER_LEFT </td><td>GCCAGGAYTWTTCGCAGCAA  </td><td>20</td><td> 4</td><td>1</td><td>  2</td><td> 22</td><td>61.03726</td><td>1.028183</td><td>52.50000</td><td>2.500000</td><td> 0.00000</td><td> 0.00000</td><td>-22.590589</td><td> 0.000000</td></tr>\n",
       "\t<tr><th scope=row>6</th><td>cds</td><td>6</td><td>213</td><td>190</td><td>190</td><td>0</td><td>213r</td><td>PRIMER_RIGHT</td><td>YCTTATDGCYGAGTTBGGCTGT</td><td>22</td><td>36</td><td>1</td><td>170</td><td>192</td><td>61.90299</td><td>1.866712</td><td>50.00000</td><td>4.417388</td><td>44.21936</td><td>25.45319</td><td>  6.069440</td><td>24.252183</td></tr>\n",
       "\t<tr><th scope=row>7</th><td>cds</td><td>6</td><td>214</td><td>192</td><td>192</td><td>0</td><td>214f</td><td>PRIMER_LEFT </td><td>TTGCCAGGAYTWTTCGCAGC  </td><td>20</td><td> 4</td><td>1</td><td>  0</td><td> 20</td><td>61.03726</td><td>1.028183</td><td>52.50000</td><td>2.500000</td><td> 0.00000</td><td> 0.00000</td><td>-22.590589</td><td> 0.000000</td></tr>\n",
       "\t<tr><th scope=row>8</th><td>cds</td><td>6</td><td>214</td><td>192</td><td>192</td><td>0</td><td>214r</td><td>PRIMER_RIGHT</td><td>YCTTATDGCYGAGTTBGGCTGT</td><td>22</td><td>36</td><td>1</td><td>170</td><td>192</td><td>61.90299</td><td>1.866712</td><td>50.00000</td><td>4.417388</td><td>44.21936</td><td>25.45319</td><td>  6.069440</td><td>24.252183</td></tr>\n",
       "\t<tr><th scope=row>9</th><td>cds</td><td>6</td><td>342</td><td>191</td><td>191</td><td>0</td><td>342f</td><td>PRIMER_LEFT </td><td>GCCAGGAYTWTTCGCAGCAA  </td><td>20</td><td> 4</td><td>1</td><td>  2</td><td> 22</td><td>61.03726</td><td>1.028183</td><td>52.50000</td><td>2.500000</td><td> 0.00000</td><td> 0.00000</td><td>-22.590589</td><td> 0.000000</td></tr>\n",
       "\t<tr><th scope=row>10</th><td>cds</td><td>6</td><td>342</td><td>191</td><td>191</td><td>0</td><td>342r</td><td>PRIMER_RIGHT</td><td>TYCTTATDGCYGAGTTBGGCTG</td><td>22</td><td>36</td><td>1</td><td>171</td><td>193</td><td>61.24301</td><td>1.992234</td><td>50.00000</td><td>4.417388</td><td>44.21936</td><td>25.45319</td><td>  6.946059</td><td>23.189566</td></tr>\n",
       "</tbody>\n",
       "</table>\n"
      ],
      "text/latex": [
       "A data.frame: 10 × 22\n",
       "\\begin{tabular}{r|llllllllllllllllllllll}\n",
       "  & gene\\_type & cluster\\_id & primer\\_set & amplicon\\_size\\_consensus & amplicon\\_size\\_avg & amplicon\\_size\\_sd & primer\\_id & primer\\_type & sequence & length & degeneracy & degeneracy\\_3prime & position\\_start & position\\_end & Tm\\_avg & Tm\\_sd & GC\\_avg & GC\\_sd & hairpin\\_avg & hairpin\\_sd & homodimer\\_avg & homodimer\\_sd\\\\\n",
       "  & <fct> & <int> & <int> & <int> & <dbl> & <dbl> & <fct> & <fct> & <fct> & <int> & <int> & <int> & <int> & <int> & <dbl> & <dbl> & <dbl> & <dbl> & <dbl> & <dbl> & <dbl> & <dbl>\\\\\n",
       "\\hline\n",
       "\t1 & cds & 5 & 333 & 130 & 130 & 0 & 333f & PRIMER\\_LEFT  & CTNAARAGRACCGGVATGAC   & 20 & 48 & 1 &  36 &  56 & 57.12141 & 2.005692 & 50.83333 & 4.930066 &  0.00000 &  0.00000 &   4.884934 &  4.791501\\\\\n",
       "\t2 & cds & 5 & 333 & 130 & 130 & 0 & 333r & PRIMER\\_RIGHT & GDAGCATBAGKATRTCGCCT   & 20 & 36 & 1 & 146 & 166 & 57.76496 & 2.461643 & 50.00000 & 4.859127 & 30.85192 & 16.69434 & -16.710578 & 14.804801\\\\\n",
       "\t3 & cds & 5 & 334 & 131 & 131 & 0 & 334f & PRIMER\\_LEFT  & CTNAARAGRACCGGVATGAC   & 20 & 48 & 1 &  36 &  56 & 57.12141 & 2.005692 & 50.83333 & 4.930066 &  0.00000 &  0.00000 &   4.884934 &  4.791501\\\\\n",
       "\t4 & cds & 5 & 334 & 131 & 131 & 0 & 334r & PRIMER\\_RIGHT & AGDAGCATBAGKATRTCGCC   & 20 & 36 & 1 & 147 & 167 & 57.76496 & 2.461643 & 50.00000 & 4.859127 & 20.09595 & 18.08273 & -15.538548 & 14.168021\\\\\n",
       "\t5 & cds & 6 & 213 & 190 & 190 & 0 & 213f & PRIMER\\_LEFT  & GCCAGGAYTWTTCGCAGCAA   & 20 &  4 & 1 &   2 &  22 & 61.03726 & 1.028183 & 52.50000 & 2.500000 &  0.00000 &  0.00000 & -22.590589 &  0.000000\\\\\n",
       "\t6 & cds & 6 & 213 & 190 & 190 & 0 & 213r & PRIMER\\_RIGHT & YCTTATDGCYGAGTTBGGCTGT & 22 & 36 & 1 & 170 & 192 & 61.90299 & 1.866712 & 50.00000 & 4.417388 & 44.21936 & 25.45319 &   6.069440 & 24.252183\\\\\n",
       "\t7 & cds & 6 & 214 & 192 & 192 & 0 & 214f & PRIMER\\_LEFT  & TTGCCAGGAYTWTTCGCAGC   & 20 &  4 & 1 &   0 &  20 & 61.03726 & 1.028183 & 52.50000 & 2.500000 &  0.00000 &  0.00000 & -22.590589 &  0.000000\\\\\n",
       "\t8 & cds & 6 & 214 & 192 & 192 & 0 & 214r & PRIMER\\_RIGHT & YCTTATDGCYGAGTTBGGCTGT & 22 & 36 & 1 & 170 & 192 & 61.90299 & 1.866712 & 50.00000 & 4.417388 & 44.21936 & 25.45319 &   6.069440 & 24.252183\\\\\n",
       "\t9 & cds & 6 & 342 & 191 & 191 & 0 & 342f & PRIMER\\_LEFT  & GCCAGGAYTWTTCGCAGCAA   & 20 &  4 & 1 &   2 &  22 & 61.03726 & 1.028183 & 52.50000 & 2.500000 &  0.00000 &  0.00000 & -22.590589 &  0.000000\\\\\n",
       "\t10 & cds & 6 & 342 & 191 & 191 & 0 & 342r & PRIMER\\_RIGHT & TYCTTATDGCYGAGTTBGGCTG & 22 & 36 & 1 & 171 & 193 & 61.24301 & 1.992234 & 50.00000 & 4.417388 & 44.21936 & 25.45319 &   6.946059 & 23.189566\\\\\n",
       "\\end{tabular}\n"
      ],
      "text/markdown": [
       "\n",
       "A data.frame: 10 × 22\n",
       "\n",
       "| <!--/--> | gene_type &lt;fct&gt; | cluster_id &lt;int&gt; | primer_set &lt;int&gt; | amplicon_size_consensus &lt;int&gt; | amplicon_size_avg &lt;dbl&gt; | amplicon_size_sd &lt;dbl&gt; | primer_id &lt;fct&gt; | primer_type &lt;fct&gt; | sequence &lt;fct&gt; | length &lt;int&gt; | degeneracy &lt;int&gt; | degeneracy_3prime &lt;int&gt; | position_start &lt;int&gt; | position_end &lt;int&gt; | Tm_avg &lt;dbl&gt; | Tm_sd &lt;dbl&gt; | GC_avg &lt;dbl&gt; | GC_sd &lt;dbl&gt; | hairpin_avg &lt;dbl&gt; | hairpin_sd &lt;dbl&gt; | homodimer_avg &lt;dbl&gt; | homodimer_sd &lt;dbl&gt; |\n",
       "|---|---|---|---|---|---|---|---|---|---|---|---|---|---|---|---|---|---|---|---|---|---|---|\n",
       "| 1 | cds | 5 | 333 | 130 | 130 | 0 | 333f | PRIMER_LEFT  | CTNAARAGRACCGGVATGAC   | 20 | 48 | 1 |  36 |  56 | 57.12141 | 2.005692 | 50.83333 | 4.930066 |  0.00000 |  0.00000 |   4.884934 |  4.791501 |\n",
       "| 2 | cds | 5 | 333 | 130 | 130 | 0 | 333r | PRIMER_RIGHT | GDAGCATBAGKATRTCGCCT   | 20 | 36 | 1 | 146 | 166 | 57.76496 | 2.461643 | 50.00000 | 4.859127 | 30.85192 | 16.69434 | -16.710578 | 14.804801 |\n",
       "| 3 | cds | 5 | 334 | 131 | 131 | 0 | 334f | PRIMER_LEFT  | CTNAARAGRACCGGVATGAC   | 20 | 48 | 1 |  36 |  56 | 57.12141 | 2.005692 | 50.83333 | 4.930066 |  0.00000 |  0.00000 |   4.884934 |  4.791501 |\n",
       "| 4 | cds | 5 | 334 | 131 | 131 | 0 | 334r | PRIMER_RIGHT | AGDAGCATBAGKATRTCGCC   | 20 | 36 | 1 | 147 | 167 | 57.76496 | 2.461643 | 50.00000 | 4.859127 | 20.09595 | 18.08273 | -15.538548 | 14.168021 |\n",
       "| 5 | cds | 6 | 213 | 190 | 190 | 0 | 213f | PRIMER_LEFT  | GCCAGGAYTWTTCGCAGCAA   | 20 |  4 | 1 |   2 |  22 | 61.03726 | 1.028183 | 52.50000 | 2.500000 |  0.00000 |  0.00000 | -22.590589 |  0.000000 |\n",
       "| 6 | cds | 6 | 213 | 190 | 190 | 0 | 213r | PRIMER_RIGHT | YCTTATDGCYGAGTTBGGCTGT | 22 | 36 | 1 | 170 | 192 | 61.90299 | 1.866712 | 50.00000 | 4.417388 | 44.21936 | 25.45319 |   6.069440 | 24.252183 |\n",
       "| 7 | cds | 6 | 214 | 192 | 192 | 0 | 214f | PRIMER_LEFT  | TTGCCAGGAYTWTTCGCAGC   | 20 |  4 | 1 |   0 |  20 | 61.03726 | 1.028183 | 52.50000 | 2.500000 |  0.00000 |  0.00000 | -22.590589 |  0.000000 |\n",
       "| 8 | cds | 6 | 214 | 192 | 192 | 0 | 214r | PRIMER_RIGHT | YCTTATDGCYGAGTTBGGCTGT | 22 | 36 | 1 | 170 | 192 | 61.90299 | 1.866712 | 50.00000 | 4.417388 | 44.21936 | 25.45319 |   6.069440 | 24.252183 |\n",
       "| 9 | cds | 6 | 342 | 191 | 191 | 0 | 342f | PRIMER_LEFT  | GCCAGGAYTWTTCGCAGCAA   | 20 |  4 | 1 |   2 |  22 | 61.03726 | 1.028183 | 52.50000 | 2.500000 |  0.00000 |  0.00000 | -22.590589 |  0.000000 |\n",
       "| 10 | cds | 6 | 342 | 191 | 191 | 0 | 342r | PRIMER_RIGHT | TYCTTATDGCYGAGTTBGGCTG | 22 | 36 | 1 | 171 | 193 | 61.24301 | 1.992234 | 50.00000 | 4.417388 | 44.21936 | 25.45319 |   6.946059 | 23.189566 |\n",
       "\n"
      ],
      "text/plain": [
       "   gene_type cluster_id primer_set amplicon_size_consensus amplicon_size_avg\n",
       "1  cds       5          333        130                     130              \n",
       "2  cds       5          333        130                     130              \n",
       "3  cds       5          334        131                     131              \n",
       "4  cds       5          334        131                     131              \n",
       "5  cds       6          213        190                     190              \n",
       "6  cds       6          213        190                     190              \n",
       "7  cds       6          214        192                     192              \n",
       "8  cds       6          214        192                     192              \n",
       "9  cds       6          342        191                     191              \n",
       "10 cds       6          342        191                     191              \n",
       "   amplicon_size_sd primer_id primer_type  sequence               length\n",
       "1  0                333f      PRIMER_LEFT  CTNAARAGRACCGGVATGAC   20    \n",
       "2  0                333r      PRIMER_RIGHT GDAGCATBAGKATRTCGCCT   20    \n",
       "3  0                334f      PRIMER_LEFT  CTNAARAGRACCGGVATGAC   20    \n",
       "4  0                334r      PRIMER_RIGHT AGDAGCATBAGKATRTCGCC   20    \n",
       "5  0                213f      PRIMER_LEFT  GCCAGGAYTWTTCGCAGCAA   20    \n",
       "6  0                213r      PRIMER_RIGHT YCTTATDGCYGAGTTBGGCTGT 22    \n",
       "7  0                214f      PRIMER_LEFT  TTGCCAGGAYTWTTCGCAGC   20    \n",
       "8  0                214r      PRIMER_RIGHT YCTTATDGCYGAGTTBGGCTGT 22    \n",
       "9  0                342f      PRIMER_LEFT  GCCAGGAYTWTTCGCAGCAA   20    \n",
       "10 0                342r      PRIMER_RIGHT TYCTTATDGCYGAGTTBGGCTG 22    \n",
       "   degeneracy degeneracy_3prime position_start position_end Tm_avg   Tm_sd   \n",
       "1  48         1                  36             56          57.12141 2.005692\n",
       "2  36         1                 146            166          57.76496 2.461643\n",
       "3  48         1                  36             56          57.12141 2.005692\n",
       "4  36         1                 147            167          57.76496 2.461643\n",
       "5   4         1                   2             22          61.03726 1.028183\n",
       "6  36         1                 170            192          61.90299 1.866712\n",
       "7   4         1                   0             20          61.03726 1.028183\n",
       "8  36         1                 170            192          61.90299 1.866712\n",
       "9   4         1                   2             22          61.03726 1.028183\n",
       "10 36         1                 171            193          61.24301 1.992234\n",
       "   GC_avg   GC_sd    hairpin_avg hairpin_sd homodimer_avg homodimer_sd\n",
       "1  50.83333 4.930066  0.00000     0.00000     4.884934     4.791501   \n",
       "2  50.00000 4.859127 30.85192    16.69434   -16.710578    14.804801   \n",
       "3  50.83333 4.930066  0.00000     0.00000     4.884934     4.791501   \n",
       "4  50.00000 4.859127 20.09595    18.08273   -15.538548    14.168021   \n",
       "5  52.50000 2.500000  0.00000     0.00000   -22.590589     0.000000   \n",
       "6  50.00000 4.417388 44.21936    25.45319     6.069440    24.252183   \n",
       "7  52.50000 2.500000  0.00000     0.00000   -22.590589     0.000000   \n",
       "8  50.00000 4.417388 44.21936    25.45319     6.069440    24.252183   \n",
       "9  52.50000 2.500000  0.00000     0.00000   -22.590589     0.000000   \n",
       "10 50.00000 4.417388 44.21936    25.45319     6.946059    23.189566   "
      ]
     },
     "metadata": {},
     "output_type": "display_data"
    }
   ],
   "source": [
    "df.dims(10, 30)\n",
    "info %>%\n",
    "    head(n=10)\n",
    "df.dims()"
   ]
  },
  {
   "cell_type": "code",
   "execution_count": 40,
   "metadata": {
    "execution": {
     "iopub.execute_input": "2021-02-09T09:38:24.301552Z",
     "iopub.status.busy": "2021-02-09T09:38:24.299506Z",
     "iopub.status.idle": "2021-02-09T09:38:24.377123Z"
    }
   },
   "outputs": [
    {
     "data": {
      "text/html": [
       "<table>\n",
       "<caption>A matrix: 1 × 8 of type dbl</caption>\n",
       "<thead>\n",
       "\t<tr><th></th><th scope=col>Min.</th><th scope=col>1st Qu.</th><th scope=col>Median</th><th scope=col>Mean</th><th scope=col>3rd Qu.</th><th scope=col>Max.</th><th scope=col>sd</th><th scope=col>sd_err_of_mean</th></tr>\n",
       "</thead>\n",
       "<tbody>\n",
       "\t<tr><th scope=row>amplicon_size_avg</th><td>130</td><td>139.25</td><td>166.5</td><td>164</td><td>191.25</td><td>193</td><td>25.917</td><td>10.58</td></tr>\n",
       "</tbody>\n",
       "</table>\n"
      ],
      "text/latex": [
       "A matrix: 1 × 8 of type dbl\n",
       "\\begin{tabular}{r|llllllll}\n",
       "  & Min. & 1st Qu. & Median & Mean & 3rd Qu. & Max. & sd & sd\\_err\\_of\\_mean\\\\\n",
       "\\hline\n",
       "\tamplicon\\_size\\_avg & 130 & 139.25 & 166.5 & 164 & 191.25 & 193 & 25.917 & 10.58\\\\\n",
       "\\end{tabular}\n"
      ],
      "text/markdown": [
       "\n",
       "A matrix: 1 × 8 of type dbl\n",
       "\n",
       "| <!--/--> | Min. | 1st Qu. | Median | Mean | 3rd Qu. | Max. | sd | sd_err_of_mean |\n",
       "|---|---|---|---|---|---|---|---|---|\n",
       "| amplicon_size_avg | 130 | 139.25 | 166.5 | 164 | 191.25 | 193 | 25.917 | 10.58 |\n",
       "\n"
      ],
      "text/plain": [
       "                  Min. 1st Qu. Median Mean 3rd Qu. Max. sd     sd_err_of_mean\n",
       "amplicon_size_avg 130  139.25  166.5  164  191.25  193  25.917 10.58         "
      ]
     },
     "metadata": {},
     "output_type": "display_data"
    },
    {
     "data": {
      "text/html": [
       "<table>\n",
       "<caption>A matrix: 1 × 8 of type dbl</caption>\n",
       "<thead>\n",
       "\t<tr><th></th><th scope=col>Min.</th><th scope=col>1st Qu.</th><th scope=col>Median</th><th scope=col>Mean</th><th scope=col>3rd Qu.</th><th scope=col>Max.</th><th scope=col>sd</th><th scope=col>sd_err_of_mean</th></tr>\n",
       "</thead>\n",
       "<tbody>\n",
       "\t<tr><th scope=row>degen</th><td>4</td><td>4</td><td>26</td><td>22.5</td><td>36</td><td>48</td><td>17.46</td><td>7.128</td></tr>\n",
       "</tbody>\n",
       "</table>\n"
      ],
      "text/latex": [
       "A matrix: 1 × 8 of type dbl\n",
       "\\begin{tabular}{r|llllllll}\n",
       "  & Min. & 1st Qu. & Median & Mean & 3rd Qu. & Max. & sd & sd\\_err\\_of\\_mean\\\\\n",
       "\\hline\n",
       "\tdegen & 4 & 4 & 26 & 22.5 & 36 & 48 & 17.46 & 7.128\\\\\n",
       "\\end{tabular}\n"
      ],
      "text/markdown": [
       "\n",
       "A matrix: 1 × 8 of type dbl\n",
       "\n",
       "| <!--/--> | Min. | 1st Qu. | Median | Mean | 3rd Qu. | Max. | sd | sd_err_of_mean |\n",
       "|---|---|---|---|---|---|---|---|---|\n",
       "| degen | 4 | 4 | 26 | 22.5 | 36 | 48 | 17.46 | 7.128 |\n",
       "\n"
      ],
      "text/plain": [
       "      Min. 1st Qu. Median Mean 3rd Qu. Max. sd    sd_err_of_mean\n",
       "degen 4    4       26     22.5 36      48   17.46 7.128         "
      ]
     },
     "metadata": {},
     "output_type": "display_data"
    },
    {
     "data": {
      "text/html": [
       "<table>\n",
       "<caption>A matrix: 1 × 8 of type dbl</caption>\n",
       "<thead>\n",
       "\t<tr><th></th><th scope=col>Min.</th><th scope=col>1st Qu.</th><th scope=col>Median</th><th scope=col>Mean</th><th scope=col>3rd Qu.</th><th scope=col>Max.</th><th scope=col>sd</th><th scope=col>sd_err_of_mean</th></tr>\n",
       "</thead>\n",
       "<tbody>\n",
       "\t<tr><th scope=row>Tm-avg</th><td>57.12141</td><td>59.92541</td><td>61.03726</td><td>60.29585</td><td>61.27432</td><td>61.90299</td><td>1.691</td><td>0.69</td></tr>\n",
       "</tbody>\n",
       "</table>\n"
      ],
      "text/latex": [
       "A matrix: 1 × 8 of type dbl\n",
       "\\begin{tabular}{r|llllllll}\n",
       "  & Min. & 1st Qu. & Median & Mean & 3rd Qu. & Max. & sd & sd\\_err\\_of\\_mean\\\\\n",
       "\\hline\n",
       "\tTm-avg & 57.12141 & 59.92541 & 61.03726 & 60.29585 & 61.27432 & 61.90299 & 1.691 & 0.69\\\\\n",
       "\\end{tabular}\n"
      ],
      "text/markdown": [
       "\n",
       "A matrix: 1 × 8 of type dbl\n",
       "\n",
       "| <!--/--> | Min. | 1st Qu. | Median | Mean | 3rd Qu. | Max. | sd | sd_err_of_mean |\n",
       "|---|---|---|---|---|---|---|---|---|\n",
       "| Tm-avg | 57.12141 | 59.92541 | 61.03726 | 60.29585 | 61.27432 | 61.90299 | 1.691 | 0.69 |\n",
       "\n"
      ],
      "text/plain": [
       "       Min.     1st Qu.  Median   Mean     3rd Qu.  Max.     sd   \n",
       "Tm-avg 57.12141 59.92541 61.03726 60.29585 61.27432 61.90299 1.691\n",
       "       sd_err_of_mean\n",
       "Tm-avg 0.69          "
      ]
     },
     "metadata": {},
     "output_type": "display_data"
    },
    {
     "data": {
      "text/html": [
       "<table>\n",
       "<caption>A matrix: 1 × 8 of type dbl</caption>\n",
       "<thead>\n",
       "\t<tr><th></th><th scope=col>Min.</th><th scope=col>1st Qu.</th><th scope=col>Median</th><th scope=col>Mean</th><th scope=col>3rd Qu.</th><th scope=col>Max.</th><th scope=col>sd</th><th scope=col>sd_err_of_mean</th></tr>\n",
       "</thead>\n",
       "<tbody>\n",
       "\t<tr><th scope=row>Tm-sd</th><td>1.028183</td><td>1.271101</td><td>1.929473</td><td>1.736803</td><td>2.035822</td><td>2.461643</td><td>0.524</td><td>0.214</td></tr>\n",
       "</tbody>\n",
       "</table>\n"
      ],
      "text/latex": [
       "A matrix: 1 × 8 of type dbl\n",
       "\\begin{tabular}{r|llllllll}\n",
       "  & Min. & 1st Qu. & Median & Mean & 3rd Qu. & Max. & sd & sd\\_err\\_of\\_mean\\\\\n",
       "\\hline\n",
       "\tTm-sd & 1.028183 & 1.271101 & 1.929473 & 1.736803 & 2.035822 & 2.461643 & 0.524 & 0.214\\\\\n",
       "\\end{tabular}\n"
      ],
      "text/markdown": [
       "\n",
       "A matrix: 1 × 8 of type dbl\n",
       "\n",
       "| <!--/--> | Min. | 1st Qu. | Median | Mean | 3rd Qu. | Max. | sd | sd_err_of_mean |\n",
       "|---|---|---|---|---|---|---|---|---|\n",
       "| Tm-sd | 1.028183 | 1.271101 | 1.929473 | 1.736803 | 2.035822 | 2.461643 | 0.524 | 0.214 |\n",
       "\n"
      ],
      "text/plain": [
       "      Min.     1st Qu.  Median   Mean     3rd Qu.  Max.     sd   \n",
       "Tm-sd 1.028183 1.271101 1.929473 1.736803 2.035822 2.461643 0.524\n",
       "      sd_err_of_mean\n",
       "Tm-sd 0.214         "
      ]
     },
     "metadata": {},
     "output_type": "display_data"
    },
    {
     "data": {
      "text/html": [
       "<table>\n",
       "<caption>A matrix: 1 × 8 of type dbl</caption>\n",
       "<thead>\n",
       "\t<tr><th></th><th scope=col>Min.</th><th scope=col>1st Qu.</th><th scope=col>Median</th><th scope=col>Mean</th><th scope=col>3rd Qu.</th><th scope=col>Max.</th><th scope=col>sd</th><th scope=col>sd_err_of_mean</th></tr>\n",
       "</thead>\n",
       "<tbody>\n",
       "\t<tr><th scope=row>GC-avg</th><td>50</td><td>50</td><td>51.66667</td><td>52.49726</td><td>53.125</td><td>57.89474</td><td>2.922</td><td>1.193</td></tr>\n",
       "</tbody>\n",
       "</table>\n"
      ],
      "text/latex": [
       "A matrix: 1 × 8 of type dbl\n",
       "\\begin{tabular}{r|llllllll}\n",
       "  & Min. & 1st Qu. & Median & Mean & 3rd Qu. & Max. & sd & sd\\_err\\_of\\_mean\\\\\n",
       "\\hline\n",
       "\tGC-avg & 50 & 50 & 51.66667 & 52.49726 & 53.125 & 57.89474 & 2.922 & 1.193\\\\\n",
       "\\end{tabular}\n"
      ],
      "text/markdown": [
       "\n",
       "A matrix: 1 × 8 of type dbl\n",
       "\n",
       "| <!--/--> | Min. | 1st Qu. | Median | Mean | 3rd Qu. | Max. | sd | sd_err_of_mean |\n",
       "|---|---|---|---|---|---|---|---|---|\n",
       "| GC-avg | 50 | 50 | 51.66667 | 52.49726 | 53.125 | 57.89474 | 2.922 | 1.193 |\n",
       "\n"
      ],
      "text/plain": [
       "       Min. 1st Qu. Median   Mean     3rd Qu. Max.     sd    sd_err_of_mean\n",
       "GC-avg 50   50      51.66667 52.49726 53.125  57.89474 2.922 1.193         "
      ]
     },
     "metadata": {},
     "output_type": "display_data"
    },
    {
     "data": {
      "text/html": [
       "<table>\n",
       "<caption>A matrix: 1 × 8 of type dbl</caption>\n",
       "<thead>\n",
       "\t<tr><th></th><th scope=col>Min.</th><th scope=col>1st Qu.</th><th scope=col>Median</th><th scope=col>Mean</th><th scope=col>3rd Qu.</th><th scope=col>Max.</th><th scope=col>sd</th><th scope=col>sd_err_of_mean</th></tr>\n",
       "</thead>\n",
       "<tbody>\n",
       "\t<tr><th scope=row>GC-sd</th><td>2.5</td><td>3.416211</td><td>4.417388</td><td>4.001331</td><td>4.859127</td><td>5</td><td>0.948</td><td>0.387</td></tr>\n",
       "</tbody>\n",
       "</table>\n"
      ],
      "text/latex": [
       "A matrix: 1 × 8 of type dbl\n",
       "\\begin{tabular}{r|llllllll}\n",
       "  & Min. & 1st Qu. & Median & Mean & 3rd Qu. & Max. & sd & sd\\_err\\_of\\_mean\\\\\n",
       "\\hline\n",
       "\tGC-sd & 2.5 & 3.416211 & 4.417388 & 4.001331 & 4.859127 & 5 & 0.948 & 0.387\\\\\n",
       "\\end{tabular}\n"
      ],
      "text/markdown": [
       "\n",
       "A matrix: 1 × 8 of type dbl\n",
       "\n",
       "| <!--/--> | Min. | 1st Qu. | Median | Mean | 3rd Qu. | Max. | sd | sd_err_of_mean |\n",
       "|---|---|---|---|---|---|---|---|---|\n",
       "| GC-sd | 2.5 | 3.416211 | 4.417388 | 4.001331 | 4.859127 | 5 | 0.948 | 0.387 |\n",
       "\n"
      ],
      "text/plain": [
       "      Min. 1st Qu.  Median   Mean     3rd Qu.  Max. sd    sd_err_of_mean\n",
       "GC-sd 2.5  3.416211 4.417388 4.001331 4.859127 5    0.948 0.387         "
      ]
     },
     "metadata": {},
     "output_type": "display_data"
    }
   ],
   "source": [
    "# general stats\n",
    "info$amplicon_size_avg %>% summary_x('amplicon_size_avg')\n",
    "info$degeneracy %>% summary_x('degen')\n",
    "info$Tm_avg %>% summary_x('Tm-avg')\n",
    "info$Tm_sd %>% summary_x('Tm-sd')\n",
    "info$GC_avg %>% summary_x('GC-avg')\n",
    "info$GC_sd %>% summary_x('GC-sd')"
   ]
  },
  {
   "cell_type": "markdown",
   "metadata": {},
   "source": [
    "#### Best primer sets"
   ]
  },
  {
   "cell_type": "code",
   "execution_count": 74,
   "metadata": {
    "execution": {
     "iopub.execute_input": "2021-02-09T09:44:56.255777Z",
     "iopub.status.busy": "2021-02-09T09:44:56.253582Z",
     "iopub.status.idle": "2021-02-09T09:44:56.332991Z"
    }
   },
   "outputs": [
    {
     "data": {
      "text/html": [
       "<table>\n",
       "<caption>A data.frame: 480 × 17</caption>\n",
       "<thead>\n",
       "\t<tr><th scope=col>cluster_id</th><th scope=col>query</th><th scope=col>subject</th><th scope=col>subject_name</th><th scope=col>pident</th><th scope=col>length</th><th scope=col>mismatch</th><th scope=col>qstart</th><th scope=col>qend</th><th scope=col>sstart</th><th scope=col>send</th><th scope=col>evalue</th><th scope=col>slen</th><th scope=col>qlen</th><th scope=col>sscinames</th><th scope=col>staxids</th><th scope=col>pident_rank</th></tr>\n",
       "\t<tr><th scope=col>&lt;int&gt;</th><th scope=col>&lt;fct&gt;</th><th scope=col>&lt;fct&gt;</th><th scope=col>&lt;fct&gt;</th><th scope=col>&lt;dbl&gt;</th><th scope=col>&lt;int&gt;</th><th scope=col>&lt;int&gt;</th><th scope=col>&lt;int&gt;</th><th scope=col>&lt;int&gt;</th><th scope=col>&lt;int&gt;</th><th scope=col>&lt;int&gt;</th><th scope=col>&lt;dbl&gt;</th><th scope=col>&lt;int&gt;</th><th scope=col>&lt;int&gt;</th><th scope=col>&lt;fct&gt;</th><th scope=col>&lt;fct&gt;</th><th scope=col>&lt;int&gt;</th></tr>\n",
       "</thead>\n",
       "<tbody>\n",
       "\t<tr><td>5</td><td>f570da5737fe43bbbd62003d768ba21e</td><td>WP_040681975.1</td><td>30S ribosomal protein S28e [Methanobrevibacter boviskoreani]</td><td>95.588</td><td>68</td><td>3</td><td>1</td><td>204</td><td>1</td><td>68</td><td>3.04e-38</td><td>76</td><td>207</td><td>Methanobrevibacter boviskoreani JH1;Methanobrevibacter boviskoreani</td><td>1214066;1348249</td><td>1</td></tr>\n",
       "\t<tr><td>5</td><td>f570da5737fe43bbbd62003d768ba21e</td><td>WP_040681975.1</td><td>30S ribosomal protein S28e [Methanobrevibacter boviskoreani]</td><td>95.588</td><td>68</td><td>3</td><td>1</td><td>204</td><td>1</td><td>68</td><td>3.04e-38</td><td>76</td><td>207</td><td>Methanobrevibacter boviskoreani JH1;Methanobrevibacter boviskoreani</td><td>1214066;1348249</td><td>1</td></tr>\n",
       "\t<tr><td>⋮</td><td>⋮</td><td>⋮</td><td>⋮</td><td>⋮</td><td>⋮</td><td>⋮</td><td>⋮</td><td>⋮</td><td>⋮</td><td>⋮</td><td>⋮</td><td>⋮</td><td>⋮</td><td>⋮</td><td>⋮</td><td>⋮</td></tr>\n",
       "\t<tr><td>9</td><td>30c7323605f94b65b547d2f2a4aa6bdb</td><td>AXV38867.1</td><td>30S ribosomal protein S11 [Methanobacterium sp. BAmetb5]</td><td>88.235</td><td>119</td><td>12</td><td>1</td><td>351</td><td>1</td><td>119</td><td>1.31e-21</td><td>132</td><td>393</td><td>Methanobacterium sp. BAmetb5</td><td>2025351</td><td>19</td></tr>\n",
       "\t<tr><td>9</td><td>30c7323605f94b65b547d2f2a4aa6bdb</td><td>AXV38867.1</td><td>30S ribosomal protein S11 [Methanobacterium sp. BAmetb5]</td><td>88.235</td><td>119</td><td>12</td><td>1</td><td>351</td><td>1</td><td>119</td><td>1.31e-21</td><td>132</td><td>393</td><td>Methanobacterium sp. BAmetb5</td><td>2025351</td><td>19</td></tr>\n",
       "</tbody>\n",
       "</table>\n"
      ],
      "text/latex": [
       "A data.frame: 480 × 17\n",
       "\\begin{tabular}{lllllllllllllllll}\n",
       " cluster\\_id & query & subject & subject\\_name & pident & length & mismatch & qstart & qend & sstart & send & evalue & slen & qlen & sscinames & staxids & pident\\_rank\\\\\n",
       " <int> & <fct> & <fct> & <fct> & <dbl> & <int> & <int> & <int> & <int> & <int> & <int> & <dbl> & <int> & <int> & <fct> & <fct> & <int>\\\\\n",
       "\\hline\n",
       "\t 5 & f570da5737fe43bbbd62003d768ba21e & WP\\_040681975.1 & 30S ribosomal protein S28e {[}Methanobrevibacter boviskoreani{]} & 95.588 & 68 & 3 & 1 & 204 & 1 & 68 & 3.04e-38 & 76 & 207 & Methanobrevibacter boviskoreani JH1;Methanobrevibacter boviskoreani & 1214066;1348249 & 1\\\\\n",
       "\t 5 & f570da5737fe43bbbd62003d768ba21e & WP\\_040681975.1 & 30S ribosomal protein S28e {[}Methanobrevibacter boviskoreani{]} & 95.588 & 68 & 3 & 1 & 204 & 1 & 68 & 3.04e-38 & 76 & 207 & Methanobrevibacter boviskoreani JH1;Methanobrevibacter boviskoreani & 1214066;1348249 & 1\\\\\n",
       "\t ⋮ & ⋮ & ⋮ & ⋮ & ⋮ & ⋮ & ⋮ & ⋮ & ⋮ & ⋮ & ⋮ & ⋮ & ⋮ & ⋮ & ⋮ & ⋮ & ⋮\\\\\n",
       "\t 9 & 30c7323605f94b65b547d2f2a4aa6bdb & AXV38867.1 & 30S ribosomal protein S11 {[}Methanobacterium sp. BAmetb5{]} & 88.235 & 119 & 12 & 1 & 351 & 1 & 119 & 1.31e-21 & 132 & 393 & Methanobacterium sp. BAmetb5 & 2025351 & 19\\\\\n",
       "\t 9 & 30c7323605f94b65b547d2f2a4aa6bdb & AXV38867.1 & 30S ribosomal protein S11 {[}Methanobacterium sp. BAmetb5{]} & 88.235 & 119 & 12 & 1 & 351 & 1 & 119 & 1.31e-21 & 132 & 393 & Methanobacterium sp. BAmetb5 & 2025351 & 19\\\\\n",
       "\\end{tabular}\n"
      ],
      "text/markdown": [
       "\n",
       "A data.frame: 480 × 17\n",
       "\n",
       "| cluster_id &lt;int&gt; | query &lt;fct&gt; | subject &lt;fct&gt; | subject_name &lt;fct&gt; | pident &lt;dbl&gt; | length &lt;int&gt; | mismatch &lt;int&gt; | qstart &lt;int&gt; | qend &lt;int&gt; | sstart &lt;int&gt; | send &lt;int&gt; | evalue &lt;dbl&gt; | slen &lt;int&gt; | qlen &lt;int&gt; | sscinames &lt;fct&gt; | staxids &lt;fct&gt; | pident_rank &lt;int&gt; |\n",
       "|---|---|---|---|---|---|---|---|---|---|---|---|---|---|---|---|---|\n",
       "| 5 | f570da5737fe43bbbd62003d768ba21e | WP_040681975.1 | 30S ribosomal protein S28e [Methanobrevibacter boviskoreani] | 95.588 | 68 | 3 | 1 | 204 | 1 | 68 | 3.04e-38 | 76 | 207 | Methanobrevibacter boviskoreani JH1;Methanobrevibacter boviskoreani | 1214066;1348249 | 1 |\n",
       "| 5 | f570da5737fe43bbbd62003d768ba21e | WP_040681975.1 | 30S ribosomal protein S28e [Methanobrevibacter boviskoreani] | 95.588 | 68 | 3 | 1 | 204 | 1 | 68 | 3.04e-38 | 76 | 207 | Methanobrevibacter boviskoreani JH1;Methanobrevibacter boviskoreani | 1214066;1348249 | 1 |\n",
       "| ⋮ | ⋮ | ⋮ | ⋮ | ⋮ | ⋮ | ⋮ | ⋮ | ⋮ | ⋮ | ⋮ | ⋮ | ⋮ | ⋮ | ⋮ | ⋮ | ⋮ |\n",
       "| 9 | 30c7323605f94b65b547d2f2a4aa6bdb | AXV38867.1 | 30S ribosomal protein S11 [Methanobacterium sp. BAmetb5] | 88.235 | 119 | 12 | 1 | 351 | 1 | 119 | 1.31e-21 | 132 | 393 | Methanobacterium sp. BAmetb5 | 2025351 | 19 |\n",
       "| 9 | 30c7323605f94b65b547d2f2a4aa6bdb | AXV38867.1 | 30S ribosomal protein S11 [Methanobacterium sp. BAmetb5] | 88.235 | 119 | 12 | 1 | 351 | 1 | 119 | 1.31e-21 | 132 | 393 | Methanobacterium sp. BAmetb5 | 2025351 | 19 |\n",
       "\n"
      ],
      "text/plain": [
       "    cluster_id query                            subject       \n",
       "1   5          f570da5737fe43bbbd62003d768ba21e WP_040681975.1\n",
       "2   5          f570da5737fe43bbbd62003d768ba21e WP_040681975.1\n",
       "⋮   ⋮          ⋮                                ⋮             \n",
       "479 9          30c7323605f94b65b547d2f2a4aa6bdb AXV38867.1    \n",
       "480 9          30c7323605f94b65b547d2f2a4aa6bdb AXV38867.1    \n",
       "    subject_name                                                 pident length\n",
       "1   30S ribosomal protein S28e [Methanobrevibacter boviskoreani] 95.588 68    \n",
       "2   30S ribosomal protein S28e [Methanobrevibacter boviskoreani] 95.588 68    \n",
       "⋮   ⋮                                                            ⋮      ⋮     \n",
       "479 30S ribosomal protein S11 [Methanobacterium sp. BAmetb5]     88.235 119   \n",
       "480 30S ribosomal protein S11 [Methanobacterium sp. BAmetb5]     88.235 119   \n",
       "    mismatch qstart qend sstart send evalue   slen qlen\n",
       "1   3        1      204  1      68   3.04e-38 76   207 \n",
       "2   3        1      204  1      68   3.04e-38 76   207 \n",
       "⋮   ⋮        ⋮      ⋮    ⋮      ⋮    ⋮        ⋮    ⋮   \n",
       "479 12       1      351  1      119  1.31e-21 132  393 \n",
       "480 12       1      351  1      119  1.31e-21 132  393 \n",
       "    sscinames                                                          \n",
       "1   Methanobrevibacter boviskoreani JH1;Methanobrevibacter boviskoreani\n",
       "2   Methanobrevibacter boviskoreani JH1;Methanobrevibacter boviskoreani\n",
       "⋮   ⋮                                                                  \n",
       "479 Methanobacterium sp. BAmetb5                                       \n",
       "480 Methanobacterium sp. BAmetb5                                       \n",
       "    staxids         pident_rank\n",
       "1   1214066;1348249 1          \n",
       "2   1214066;1348249 1          \n",
       "⋮   ⋮               ⋮          \n",
       "479 2025351         19         \n",
       "480 2025351         19         "
      ]
     },
     "metadata": {},
     "output_type": "display_data"
    }
   ],
   "source": [
    "# blastx on non-targets\n",
    "F = file.path(work_dir, 'primers', 'clust0.9', 'cgp', 'nontarget', 'cds_blastx.tsv')\n",
    "cds_blast = read.delim(F, sep='\\t') %>%\n",
    "    filter(!grepl('Methanothermobacter', sscinames)) %>%\n",
    "    inner_join(info %>% \n",
    "                  filter(gene_type == 'cds') %>%\n",
    "                  select(cluster_id),\n",
    "              c('cluster_id')) %>%\n",
    "    mutate(pident = ifelse(is.na(pident), 0, pident))\n",
    "cds_blast "
   ]
  },
  {
   "cell_type": "code",
   "execution_count": 75,
   "metadata": {
    "execution": {
     "iopub.execute_input": "2021-02-09T09:44:58.554700Z",
     "iopub.status.busy": "2021-02-09T09:44:58.552598Z",
     "iopub.status.idle": "2021-02-09T09:44:58.587270Z"
    }
   },
   "outputs": [
    {
     "data": {
      "text/html": [
       "<table>\n",
       "<caption>A matrix: 1 × 8 of type dbl</caption>\n",
       "<thead>\n",
       "\t<tr><th></th><th scope=col>Min.</th><th scope=col>1st Qu.</th><th scope=col>Median</th><th scope=col>Mean</th><th scope=col>3rd Qu.</th><th scope=col>Max.</th><th scope=col>sd</th><th scope=col>sd_err_of_mean</th></tr>\n",
       "</thead>\n",
       "<tbody>\n",
       "\t<tr><th scope=row>Clostest non-target (seqid)</th><td>95.588</td><td>96.33275</td><td>97.936</td><td>97.68775</td><td>99.291</td><td>99.291</td><td>1.513</td><td>0.618</td></tr>\n",
       "</tbody>\n",
       "</table>\n"
      ],
      "text/latex": [
       "A matrix: 1 × 8 of type dbl\n",
       "\\begin{tabular}{r|llllllll}\n",
       "  & Min. & 1st Qu. & Median & Mean & 3rd Qu. & Max. & sd & sd\\_err\\_of\\_mean\\\\\n",
       "\\hline\n",
       "\tClostest non-target (seqid) & 95.588 & 96.33275 & 97.936 & 97.68775 & 99.291 & 99.291 & 1.513 & 0.618\\\\\n",
       "\\end{tabular}\n"
      ],
      "text/markdown": [
       "\n",
       "A matrix: 1 × 8 of type dbl\n",
       "\n",
       "| <!--/--> | Min. | 1st Qu. | Median | Mean | 3rd Qu. | Max. | sd | sd_err_of_mean |\n",
       "|---|---|---|---|---|---|---|---|---|\n",
       "| Clostest non-target (seqid) | 95.588 | 96.33275 | 97.936 | 97.68775 | 99.291 | 99.291 | 1.513 | 0.618 |\n",
       "\n"
      ],
      "text/plain": [
       "                            Min.   1st Qu.  Median Mean     3rd Qu. Max.  \n",
       "Clostest non-target (seqid) 95.588 96.33275 97.936 97.68775 99.291  99.291\n",
       "                            sd    sd_err_of_mean\n",
       "Clostest non-target (seqid) 1.513 0.618         "
      ]
     },
     "metadata": {},
     "output_type": "display_data"
    }
   ],
   "source": [
    "# clusters with the most distant non-target relatives\n",
    "cds_blast %>%\n",
    "    group_by(cluster_id) %>%\n",
    "    mutate(max_pident = max(pident)) %>% \n",
    "    .$max_pident %>% summary_x('Clostest non-target (seqid)')"
   ]
  },
  {
   "cell_type": "code",
   "execution_count": 77,
   "metadata": {
    "execution": {
     "iopub.execute_input": "2021-02-09T09:45:20.957834Z",
     "iopub.status.busy": "2021-02-09T09:45:20.955595Z",
     "iopub.status.idle": "2021-02-09T09:45:20.990699Z"
    }
   },
   "outputs": [
    {
     "name": "stdout",
     "output_type": "stream",
     "text": [
      "No. of unique clusters: 1 \n"
     ]
    }
   ],
   "source": [
    "# clusters with the most distant non-target relatives\n",
    "cds_blast_f = cds_blast %>%\n",
    "    group_by(cluster_id) %>%\n",
    "    mutate(max_pident = max(pident)) %>%\n",
    "    ungroup() %>%\n",
    "    filter(max_pident < 96)\n",
    "cds_blast_f %>% unique_n('clusters', cluster_id)"
   ]
  },
  {
   "cell_type": "code",
   "execution_count": 86,
   "metadata": {
    "execution": {
     "iopub.execute_input": "2021-02-09T09:46:24.177433Z",
     "iopub.status.busy": "2021-02-09T09:46:24.175260Z",
     "iopub.status.idle": "2021-02-09T09:46:24.272128Z"
    }
   },
   "outputs": [
    {
     "data": {
      "text/html": [
       "<table>\n",
       "<caption>A tibble: 0 × 23</caption>\n",
       "<thead>\n",
       "\t<tr><th scope=col>gene_type</th><th scope=col>cluster_id</th><th scope=col>primer_set</th><th scope=col>amplicon_size_consensus</th><th scope=col>amplicon_size_avg</th><th scope=col>amplicon_size_sd</th><th scope=col>primer_id</th><th scope=col>primer_type</th><th scope=col>sequence</th><th scope=col>length</th><th scope=col>degeneracy</th><th scope=col>degeneracy_3prime</th><th scope=col>position_start</th><th scope=col>position_end</th><th scope=col>Tm_avg</th><th scope=col>Tm_sd</th><th scope=col>GC_avg</th><th scope=col>GC_sd</th><th scope=col>hairpin_avg</th><th scope=col>hairpin_sd</th><th scope=col>homodimer_avg</th><th scope=col>homodimer_sd</th><th scope=col>n</th></tr>\n",
       "\t<tr><th scope=col>&lt;fct&gt;</th><th scope=col>&lt;int&gt;</th><th scope=col>&lt;int&gt;</th><th scope=col>&lt;int&gt;</th><th scope=col>&lt;dbl&gt;</th><th scope=col>&lt;dbl&gt;</th><th scope=col>&lt;fct&gt;</th><th scope=col>&lt;fct&gt;</th><th scope=col>&lt;fct&gt;</th><th scope=col>&lt;int&gt;</th><th scope=col>&lt;int&gt;</th><th scope=col>&lt;int&gt;</th><th scope=col>&lt;int&gt;</th><th scope=col>&lt;int&gt;</th><th scope=col>&lt;dbl&gt;</th><th scope=col>&lt;dbl&gt;</th><th scope=col>&lt;dbl&gt;</th><th scope=col>&lt;dbl&gt;</th><th scope=col>&lt;dbl&gt;</th><th scope=col>&lt;dbl&gt;</th><th scope=col>&lt;dbl&gt;</th><th scope=col>&lt;dbl&gt;</th><th scope=col>&lt;int&gt;</th></tr>\n",
       "</thead>\n",
       "<tbody>\n",
       "</tbody>\n",
       "</table>\n"
      ],
      "text/latex": [
       "A tibble: 0 × 23\n",
       "\\begin{tabular}{lllllllllllllllllllllll}\n",
       " gene\\_type & cluster\\_id & primer\\_set & amplicon\\_size\\_consensus & amplicon\\_size\\_avg & amplicon\\_size\\_sd & primer\\_id & primer\\_type & sequence & length & degeneracy & degeneracy\\_3prime & position\\_start & position\\_end & Tm\\_avg & Tm\\_sd & GC\\_avg & GC\\_sd & hairpin\\_avg & hairpin\\_sd & homodimer\\_avg & homodimer\\_sd & n\\\\\n",
       " <fct> & <int> & <int> & <int> & <dbl> & <dbl> & <fct> & <fct> & <fct> & <int> & <int> & <int> & <int> & <int> & <dbl> & <dbl> & <dbl> & <dbl> & <dbl> & <dbl> & <dbl> & <dbl> & <int>\\\\\n",
       "\\hline\n",
       "\\end{tabular}\n"
      ],
      "text/markdown": [
       "\n",
       "A tibble: 0 × 23\n",
       "\n",
       "| gene_type &lt;fct&gt; | cluster_id &lt;int&gt; | primer_set &lt;int&gt; | amplicon_size_consensus &lt;int&gt; | amplicon_size_avg &lt;dbl&gt; | amplicon_size_sd &lt;dbl&gt; | primer_id &lt;fct&gt; | primer_type &lt;fct&gt; | sequence &lt;fct&gt; | length &lt;int&gt; | degeneracy &lt;int&gt; | degeneracy_3prime &lt;int&gt; | position_start &lt;int&gt; | position_end &lt;int&gt; | Tm_avg &lt;dbl&gt; | Tm_sd &lt;dbl&gt; | GC_avg &lt;dbl&gt; | GC_sd &lt;dbl&gt; | hairpin_avg &lt;dbl&gt; | hairpin_sd &lt;dbl&gt; | homodimer_avg &lt;dbl&gt; | homodimer_sd &lt;dbl&gt; | n &lt;int&gt; |\n",
       "|---|---|---|---|---|---|---|---|---|---|---|---|---|---|---|---|---|---|---|---|---|---|---|\n",
       "\n"
      ],
      "text/plain": [
       "     gene_type cluster_id primer_set amplicon_size_consensus amplicon_size_avg\n",
       "     amplicon_size_sd primer_id primer_type sequence length degeneracy\n",
       "     degeneracy_3prime position_start position_end Tm_avg Tm_sd GC_avg GC_sd\n",
       "     hairpin_avg hairpin_sd homodimer_avg homodimer_sd n"
      ]
     },
     "metadata": {},
     "output_type": "display_data"
    }
   ],
   "source": [
    "# filtering primers\n",
    "info_f = info %>%\n",
    "    filter(gene_type == 'cds') %>%\n",
    "    semi_join(cds_blast_f, c('cluster_id')) %>%\n",
    "    filter(degeneracy <= 32, Tm_sd <= 2) %>%\n",
    "    group_by(gene_type, cluster_id, primer_set) %>%\n",
    "    mutate(n = n()) %>%\n",
    "    ungroup() %>%\n",
    "    filter(n == 2) \n",
    "\n",
    "df.dims(30,30)\n",
    "info_f %>%\n",
    "    arrange(Tm_sd, degeneracy, primer_set) %>%\n",
    "    head(n=30)\n",
    "df.dims()"
   ]
  },
  {
   "cell_type": "markdown",
   "metadata": {},
   "source": [
    "## cluster cutoff = 0.8"
   ]
  },
  {
   "cell_type": "markdown",
   "metadata": {},
   "source": [
    "### Config"
   ]
  },
  {
   "cell_type": "code",
   "execution_count": 90,
   "metadata": {
    "execution": {
     "iopub.execute_input": "2021-02-09T18:30:41.522573Z",
     "iopub.status.busy": "2021-02-09T18:30:41.520244Z",
     "iopub.status.idle": "2021-02-09T18:30:41.564429Z"
    }
   },
   "outputs": [
    {
     "name": "stdout",
     "output_type": "stream",
     "text": [
      "#-- I/O --#\n",
      "samples_file: /ebio/abt3_projects/software/dev/ll_pipelines/llprimer/experiments/methanothermobacter/samples_genomes_hq.txt \n",
      "\n",
      "# output location\n",
      "output_dir: /ebio/abt3_projects/software/dev/ll_pipelines/llprimer/experiments/methanothermobacter/primers/clust0.8/\n",
      "\n",
      "# temporary file directory (your username will be added automatically)\n",
      "tmp_dir: /ebio/abt3_scratch/\n",
      "\n",
      "#-- software parameters --#\n",
      "# See the README for a description\n",
      "params:\n",
      "  ionice: -c 3\n",
      "  cgp:\n",
      "    prokka: \"\"\n",
      "    mmseqs:\n",
      "      method: cluster    # or linclust (faster)\n",
      "      run: --min-seq-id 0.8 -c 0.8\n",
      "    vsearch: --id 0.94\n",
      "    core_genes:\n",
      "      cds: --perc-genomes-cds 100 --copies-per-genome-cds 1 --max-clusters-cds 500\n",
      "      rRNA: --perc-genomes-rrna 100 --copies-per-genome-rrna 10 --max-clusters-rrna 500\n",
      "    align:\n",
      "      method: linsi\n",
      "      params: --auto --maxiterate 1000\n",
      "    primer3:\n",
      "      number: --num-primers 500\n",
      "      size: --opt-size 20 --min-size 18 --max-size 24\n",
      "      product: --opt-prod-size 150 --min-prod-size 100 --max-prod-size 200\n",
      "      Tm: --opt-tm 62 --min-tm 55 --max-tm 70 --max-tm-diff 1\n",
      "      PCR: --oligo-DNA 50 --salt-monovalent 50 --salt-divalent 1.5 --dNTPs 0.2\n",
      "      GC: --opt-gc 50 --min-gc 25 --max-gc 75\n",
      "      degeneracy: --max-degeneracy 128 --max-degeneracy-3prime 1 --window-3prime 5\n",
      "      internal_oligo: --make-oligo 0 --int-opt-size 20 --int-opt-tm 60\n",
      "    blast_nontarget:\n",
      "      run_locally: False\n",
      "      cds: -evalue 1e-5 -max_target_seqs 30\n",
      "      rRNA: -evalue 1e-5 -max_target_seqs 30\n",
      "    blastn: -max_target_seqs 500 -perc_identity 90\n",
      "    blast_filter: --perc-len 80 --min-amplicon-len 30 --max-amplicon-len 2000    \n",
      "\n",
      "#-- database --#\n",
      "databases:\n",
      "  blast:\n",
      "    nucl: /ebio/abt3_projects/databases_no-backup/NCBI_blastdb/nt\n",
      "    prot: /ebio/abt3_projects/databases_no-backup/NCBI_blastdb/nr\n",
      "    rRNA:\n",
      "      SSU: /ebio/abt3_projects/databases_no-backup/NCBI_rRNA/2021-01/SSU/16S_ribosomal_RNA\n",
      "      LSU: /ebio/abt3_projects/databases_no-backup/NCBI_rRNA/2021-01/LSU/LSU_prokaryote_rRNA\n",
      "    gene_names: /ebio/abt3_projects/databases_no-backup/NCBI_nr_geneIDs/2021-01/nr_accession-geneNames.pkl\n",
      "  taxonomy:\n",
      "    names: /ebio/abt3_projects/databases_no-backup/NCBI_taxonomy/2020-12-23/names.dmp\n",
      "    nodes: /ebio/abt3_projects/databases_no-backup/NCBI_taxonomy/2020-12-23/nodes.dmp\n",
      "\n",
      "#-- snakemake pipeline --#\n",
      "pipeline:\n",
      "  snakemake_folder: ./\n",
      "  script_folder: bin/scripts/\n",
      "  name: LLPRIMER"
     ]
    }
   ],
   "source": [
    "F = file.path(work_dir, 'primers', 'clust0.8', 'config.yaml')\n",
    "cat_file(F)"
   ]
  },
  {
   "cell_type": "markdown",
   "metadata": {},
   "source": [
    "### Run"
   ]
  },
  {
   "cell_type": "markdown",
   "metadata": {
    "execution": {
     "iopub.execute_input": "2021-01-19T18:46:20.385110Z",
     "iopub.status.busy": "2021-01-19T18:46:20.382868Z",
     "iopub.status.idle": "2021-01-19T18:46:20.399150Z"
    }
   },
   "source": [
    "```\n",
    "(snakemake) @ rick:/ebio/abt3_projects/software/dev/ll_pipelines/llprimer\n",
    "$ screen -L  -S llprimer-thermo ./snakemake_sge.sh /ebio/abt3_projects/software/dev/ll_pipelines/llprimer/experiments/methanothermobacter/primers/clust0.8/config.yaml 30 -F\n",
    "```"
   ]
  },
  {
   "cell_type": "markdown",
   "metadata": {},
   "source": [
    "### Summary"
   ]
  },
  {
   "cell_type": "code",
   "execution_count": 128,
   "metadata": {
    "execution": {
     "iopub.execute_input": "2021-02-09T19:43:33.770436Z",
     "iopub.status.busy": "2021-02-09T19:43:33.768364Z",
     "iopub.status.idle": "2021-02-09T19:43:33.831887Z"
    }
   },
   "outputs": [
    {
     "data": {
      "text/html": [
       "<table>\n",
       "<caption>A data.frame: 138 × 22</caption>\n",
       "<thead>\n",
       "\t<tr><th scope=col>gene_type</th><th scope=col>cluster_id</th><th scope=col>primer_set</th><th scope=col>amplicon_size_consensus</th><th scope=col>amplicon_size_avg</th><th scope=col>amplicon_size_sd</th><th scope=col>primer_id</th><th scope=col>primer_type</th><th scope=col>sequence</th><th scope=col>length</th><th scope=col>⋯</th><th scope=col>position_start</th><th scope=col>position_end</th><th scope=col>Tm_avg</th><th scope=col>Tm_sd</th><th scope=col>GC_avg</th><th scope=col>GC_sd</th><th scope=col>hairpin_avg</th><th scope=col>hairpin_sd</th><th scope=col>homodimer_avg</th><th scope=col>homodimer_sd</th></tr>\n",
       "\t<tr><th scope=col>&lt;fct&gt;</th><th scope=col>&lt;int&gt;</th><th scope=col>&lt;int&gt;</th><th scope=col>&lt;int&gt;</th><th scope=col>&lt;dbl&gt;</th><th scope=col>&lt;dbl&gt;</th><th scope=col>&lt;fct&gt;</th><th scope=col>&lt;fct&gt;</th><th scope=col>&lt;fct&gt;</th><th scope=col>&lt;int&gt;</th><th scope=col>⋯</th><th scope=col>&lt;int&gt;</th><th scope=col>&lt;int&gt;</th><th scope=col>&lt;dbl&gt;</th><th scope=col>&lt;dbl&gt;</th><th scope=col>&lt;dbl&gt;</th><th scope=col>&lt;dbl&gt;</th><th scope=col>&lt;dbl&gt;</th><th scope=col>&lt;dbl&gt;</th><th scope=col>&lt;dbl&gt;</th><th scope=col>&lt;dbl&gt;</th></tr>\n",
       "</thead>\n",
       "<tbody>\n",
       "\t<tr><td>cds</td><td>3</td><td>213</td><td>190</td><td>190</td><td>0</td><td>213f</td><td>PRIMER_LEFT </td><td>GCCAGGAYTWTTCGCAGCAA  </td><td>20</td><td>⋯</td><td>  2</td><td> 22</td><td>61.03726</td><td>1.028183</td><td>52.5</td><td>2.500000</td><td> 0.00000</td><td> 0.00000</td><td>-22.59059</td><td> 0.00000</td></tr>\n",
       "\t<tr><td>cds</td><td>3</td><td>213</td><td>190</td><td>190</td><td>0</td><td>213r</td><td>PRIMER_RIGHT</td><td>YCTTATDGCYGAGTTBGGCTGT</td><td>22</td><td>⋯</td><td>170</td><td>192</td><td>61.90299</td><td>1.866712</td><td>50.0</td><td>4.417388</td><td>44.21936</td><td>25.45319</td><td>  6.06944</td><td>24.25218</td></tr>\n",
       "\t<tr><td>⋮</td><td>⋮</td><td>⋮</td><td>⋮</td><td>⋮</td><td>⋮</td><td>⋮</td><td>⋮</td><td>⋮</td><td>⋮</td><td>⋱</td><td>⋮</td><td>⋮</td><td>⋮</td><td>⋮</td><td>⋮</td><td>⋮</td><td>⋮</td><td>⋮</td><td>⋮</td><td>⋮</td></tr>\n",
       "\t<tr><td>cds</td><td>125</td><td>408</td><td>109</td><td>109</td><td>0</td><td>408f</td><td>PRIMER_LEFT </td><td>HGGRCCHTGYAARACAGAGA</td><td>20</td><td>⋯</td><td>143</td><td>163</td><td>59.21052</td><td>2.552145</td><td>50.83333</td><td>5.464532</td><td>16.807718</td><td>23.77506</td><td>  0.7344449</td><td>19.06387</td></tr>\n",
       "\t<tr><td>cds</td><td>125</td><td>408</td><td>109</td><td>109</td><td>0</td><td>408r</td><td>PRIMER_RIGHT</td><td>RTGBCCYTGNACCTCTGAAC</td><td>20</td><td>⋯</td><td>232</td><td>252</td><td>59.95410</td><td>2.170267</td><td>55.83333</td><td>4.930066</td><td> 7.937665</td><td>18.16043</td><td>-15.3833549</td><td>20.93216</td></tr>\n",
       "</tbody>\n",
       "</table>\n"
      ],
      "text/latex": [
       "A data.frame: 138 × 22\n",
       "\\begin{tabular}{lllllllllllllllllllll}\n",
       " gene\\_type & cluster\\_id & primer\\_set & amplicon\\_size\\_consensus & amplicon\\_size\\_avg & amplicon\\_size\\_sd & primer\\_id & primer\\_type & sequence & length & ⋯ & position\\_start & position\\_end & Tm\\_avg & Tm\\_sd & GC\\_avg & GC\\_sd & hairpin\\_avg & hairpin\\_sd & homodimer\\_avg & homodimer\\_sd\\\\\n",
       " <fct> & <int> & <int> & <int> & <dbl> & <dbl> & <fct> & <fct> & <fct> & <int> & ⋯ & <int> & <int> & <dbl> & <dbl> & <dbl> & <dbl> & <dbl> & <dbl> & <dbl> & <dbl>\\\\\n",
       "\\hline\n",
       "\t cds & 3 & 213 & 190 & 190 & 0 & 213f & PRIMER\\_LEFT  & GCCAGGAYTWTTCGCAGCAA   & 20 & ⋯ &   2 &  22 & 61.03726 & 1.028183 & 52.5 & 2.500000 &  0.00000 &  0.00000 & -22.59059 &  0.00000\\\\\n",
       "\t cds & 3 & 213 & 190 & 190 & 0 & 213r & PRIMER\\_RIGHT & YCTTATDGCYGAGTTBGGCTGT & 22 & ⋯ & 170 & 192 & 61.90299 & 1.866712 & 50.0 & 4.417388 & 44.21936 & 25.45319 &   6.06944 & 24.25218\\\\\n",
       "\t ⋮ & ⋮ & ⋮ & ⋮ & ⋮ & ⋮ & ⋮ & ⋮ & ⋮ & ⋮ & ⋱ & ⋮ & ⋮ & ⋮ & ⋮ & ⋮ & ⋮ & ⋮ & ⋮ & ⋮ & ⋮\\\\\n",
       "\t cds & 125 & 408 & 109 & 109 & 0 & 408f & PRIMER\\_LEFT  & HGGRCCHTGYAARACAGAGA & 20 & ⋯ & 143 & 163 & 59.21052 & 2.552145 & 50.83333 & 5.464532 & 16.807718 & 23.77506 &   0.7344449 & 19.06387\\\\\n",
       "\t cds & 125 & 408 & 109 & 109 & 0 & 408r & PRIMER\\_RIGHT & RTGBCCYTGNACCTCTGAAC & 20 & ⋯ & 232 & 252 & 59.95410 & 2.170267 & 55.83333 & 4.930066 &  7.937665 & 18.16043 & -15.3833549 & 20.93216\\\\\n",
       "\\end{tabular}\n"
      ],
      "text/markdown": [
       "\n",
       "A data.frame: 138 × 22\n",
       "\n",
       "| gene_type &lt;fct&gt; | cluster_id &lt;int&gt; | primer_set &lt;int&gt; | amplicon_size_consensus &lt;int&gt; | amplicon_size_avg &lt;dbl&gt; | amplicon_size_sd &lt;dbl&gt; | primer_id &lt;fct&gt; | primer_type &lt;fct&gt; | sequence &lt;fct&gt; | length &lt;int&gt; | ⋯ ⋯ | position_start &lt;int&gt; | position_end &lt;int&gt; | Tm_avg &lt;dbl&gt; | Tm_sd &lt;dbl&gt; | GC_avg &lt;dbl&gt; | GC_sd &lt;dbl&gt; | hairpin_avg &lt;dbl&gt; | hairpin_sd &lt;dbl&gt; | homodimer_avg &lt;dbl&gt; | homodimer_sd &lt;dbl&gt; |\n",
       "|---|---|---|---|---|---|---|---|---|---|---|---|---|---|---|---|---|---|---|---|---|\n",
       "| cds | 3 | 213 | 190 | 190 | 0 | 213f | PRIMER_LEFT  | GCCAGGAYTWTTCGCAGCAA   | 20 | ⋯ |   2 |  22 | 61.03726 | 1.028183 | 52.5 | 2.500000 |  0.00000 |  0.00000 | -22.59059 |  0.00000 |\n",
       "| cds | 3 | 213 | 190 | 190 | 0 | 213r | PRIMER_RIGHT | YCTTATDGCYGAGTTBGGCTGT | 22 | ⋯ | 170 | 192 | 61.90299 | 1.866712 | 50.0 | 4.417388 | 44.21936 | 25.45319 |   6.06944 | 24.25218 |\n",
       "| ⋮ | ⋮ | ⋮ | ⋮ | ⋮ | ⋮ | ⋮ | ⋮ | ⋮ | ⋮ | ⋱ | ⋮ | ⋮ | ⋮ | ⋮ | ⋮ | ⋮ | ⋮ | ⋮ | ⋮ | ⋮ |\n",
       "| cds | 125 | 408 | 109 | 109 | 0 | 408f | PRIMER_LEFT  | HGGRCCHTGYAARACAGAGA | 20 | ⋯ | 143 | 163 | 59.21052 | 2.552145 | 50.83333 | 5.464532 | 16.807718 | 23.77506 |   0.7344449 | 19.06387 |\n",
       "| cds | 125 | 408 | 109 | 109 | 0 | 408r | PRIMER_RIGHT | RTGBCCYTGNACCTCTGAAC | 20 | ⋯ | 232 | 252 | 59.95410 | 2.170267 | 55.83333 | 4.930066 |  7.937665 | 18.16043 | -15.3833549 | 20.93216 |\n",
       "\n"
      ],
      "text/plain": [
       "    gene_type cluster_id primer_set amplicon_size_consensus amplicon_size_avg\n",
       "1   cds       3          213        190                     190              \n",
       "2   cds       3          213        190                     190              \n",
       "⋮   ⋮         ⋮          ⋮          ⋮                       ⋮                \n",
       "137 cds       125        408        109                     109              \n",
       "138 cds       125        408        109                     109              \n",
       "    amplicon_size_sd primer_id primer_type  sequence               length ⋯\n",
       "1   0                213f      PRIMER_LEFT  GCCAGGAYTWTTCGCAGCAA   20     ⋯\n",
       "2   0                213r      PRIMER_RIGHT YCTTATDGCYGAGTTBGGCTGT 22     ⋯\n",
       "⋮   ⋮                ⋮         ⋮            ⋮                      ⋮      ⋱\n",
       "137 0                408f      PRIMER_LEFT  HGGRCCHTGYAARACAGAGA   20     ⋯\n",
       "138 0                408r      PRIMER_RIGHT RTGBCCYTGNACCTCTGAAC   20     ⋯\n",
       "    position_start position_end Tm_avg   Tm_sd    GC_avg   GC_sd    hairpin_avg\n",
       "1     2             22          61.03726 1.028183 52.5     2.500000  0.00000   \n",
       "2   170            192          61.90299 1.866712 50.0     4.417388 44.21936   \n",
       "⋮   ⋮              ⋮            ⋮        ⋮        ⋮        ⋮        ⋮          \n",
       "137 143            163          59.21052 2.552145 50.83333 5.464532 16.807718  \n",
       "138 232            252          59.95410 2.170267 55.83333 4.930066  7.937665  \n",
       "    hairpin_sd homodimer_avg homodimer_sd\n",
       "1    0.00000   -22.59059      0.00000    \n",
       "2   25.45319     6.06944     24.25218    \n",
       "⋮   ⋮          ⋮             ⋮           \n",
       "137 23.77506     0.7344449   19.06387    \n",
       "138 18.16043   -15.3833549   20.93216    "
      ]
     },
     "metadata": {},
     "output_type": "display_data"
    }
   ],
   "source": [
    "# table on final primer metadata\n",
    "F = file.path(work_dir, 'primers', 'clust0.8', 'cgp', 'primers_final_info.tsv')\n",
    "info = read.delim(F, sep='\\t')\n",
    "info"
   ]
  },
  {
   "cell_type": "code",
   "execution_count": 129,
   "metadata": {
    "execution": {
     "iopub.execute_input": "2021-02-09T19:43:34.005479Z",
     "iopub.status.busy": "2021-02-09T19:43:34.003231Z",
     "iopub.status.idle": "2021-02-09T19:43:34.063263Z"
    }
   },
   "outputs": [
    {
     "data": {
      "text/html": [
       "<table>\n",
       "<caption>A data.frame: 288 × 13</caption>\n",
       "<thead>\n",
       "\t<tr><th scope=col>gene_type</th><th scope=col>cluster_id</th><th scope=col>seq_uuid</th><th scope=col>seq_orig_name</th><th scope=col>contig_id</th><th scope=col>taxon</th><th scope=col>start</th><th scope=col>end</th><th scope=col>score</th><th scope=col>strand</th><th scope=col>annotation</th><th scope=col>cluster_name</th><th scope=col>clust_id</th></tr>\n",
       "\t<tr><th scope=col>&lt;fct&gt;</th><th scope=col>&lt;int&gt;</th><th scope=col>&lt;fct&gt;</th><th scope=col>&lt;fct&gt;</th><th scope=col>&lt;fct&gt;</th><th scope=col>&lt;fct&gt;</th><th scope=col>&lt;int&gt;</th><th scope=col>&lt;int&gt;</th><th scope=col>&lt;fct&gt;</th><th scope=col>&lt;fct&gt;</th><th scope=col>&lt;fct&gt;</th><th scope=col>&lt;fct&gt;</th><th scope=col>&lt;int&gt;</th></tr>\n",
       "</thead>\n",
       "<tbody>\n",
       "\t<tr><td>cds</td><td>3</td><td>d85616f3d68f4455844f7755aa79b6c9</td><td>HPDPEDLM_01030</td><td>AE000666.1</td><td>GCA_000008645.1_ASM864v1  </td><td>962996</td><td>963421</td><td>.</td><td>+</td><td>30S ribosomal protein S12</td><td>d16595ef8d514d03ac5bbb85608b03a8</td><td>3</td></tr>\n",
       "\t<tr><td>cds</td><td>3</td><td>e3f1768c4cbf472f9badc186476f4384</td><td>NBKGJNCK_00972</td><td>AP011952.1</td><td>GCA_000828575.1_ASM82857v1</td><td>945750</td><td>946175</td><td>.</td><td>+</td><td>30S ribosomal protein S12</td><td>d16595ef8d514d03ac5bbb85608b03a8</td><td>3</td></tr>\n",
       "\t<tr><td>⋮</td><td>⋮</td><td>⋮</td><td>⋮</td><td>⋮</td><td>⋮</td><td>⋮</td><td>⋮</td><td>⋮</td><td>⋮</td><td>⋮</td><td>⋮</td><td>⋮</td></tr>\n",
       "\t<tr><td>cds</td><td>125</td><td>040c562ea89c4d84a09638e52f565ea9</td><td>MOKPFFML_01010</td><td>JACIVR010000031.1</td><td>GCA_014361435.1_ASM1436143v1</td><td>   2157</td><td>   2873</td><td>.</td><td>-</td><td>Tetrahydromethanopterin S-methyltransferase subunit A 1</td><td>b570f8fcf92943edad36db04c6b5605e</td><td>125</td></tr>\n",
       "\t<tr><td>cds</td><td>125</td><td>8029893a987a4bbaabc9d94cbd95122f</td><td>LEKEIHCA_01522</td><td>LT608329.1       </td><td>GCA_900095815.1_SIV6        </td><td>1438914</td><td>1439630</td><td>.</td><td>-</td><td>Tetrahydromethanopterin S-methyltransferase subunit A 1</td><td>b570f8fcf92943edad36db04c6b5605e</td><td>125</td></tr>\n",
       "</tbody>\n",
       "</table>\n"
      ],
      "text/latex": [
       "A data.frame: 288 × 13\n",
       "\\begin{tabular}{lllllllllllll}\n",
       " gene\\_type & cluster\\_id & seq\\_uuid & seq\\_orig\\_name & contig\\_id & taxon & start & end & score & strand & annotation & cluster\\_name & clust\\_id\\\\\n",
       " <fct> & <int> & <fct> & <fct> & <fct> & <fct> & <int> & <int> & <fct> & <fct> & <fct> & <fct> & <int>\\\\\n",
       "\\hline\n",
       "\t cds & 3 & d85616f3d68f4455844f7755aa79b6c9 & HPDPEDLM\\_01030 & AE000666.1 & GCA\\_000008645.1\\_ASM864v1   & 962996 & 963421 & . & + & 30S ribosomal protein S12 & d16595ef8d514d03ac5bbb85608b03a8 & 3\\\\\n",
       "\t cds & 3 & e3f1768c4cbf472f9badc186476f4384 & NBKGJNCK\\_00972 & AP011952.1 & GCA\\_000828575.1\\_ASM82857v1 & 945750 & 946175 & . & + & 30S ribosomal protein S12 & d16595ef8d514d03ac5bbb85608b03a8 & 3\\\\\n",
       "\t ⋮ & ⋮ & ⋮ & ⋮ & ⋮ & ⋮ & ⋮ & ⋮ & ⋮ & ⋮ & ⋮ & ⋮ & ⋮\\\\\n",
       "\t cds & 125 & 040c562ea89c4d84a09638e52f565ea9 & MOKPFFML\\_01010 & JACIVR010000031.1 & GCA\\_014361435.1\\_ASM1436143v1 &    2157 &    2873 & . & - & Tetrahydromethanopterin S-methyltransferase subunit A 1 & b570f8fcf92943edad36db04c6b5605e & 125\\\\\n",
       "\t cds & 125 & 8029893a987a4bbaabc9d94cbd95122f & LEKEIHCA\\_01522 & LT608329.1        & GCA\\_900095815.1\\_SIV6         & 1438914 & 1439630 & . & - & Tetrahydromethanopterin S-methyltransferase subunit A 1 & b570f8fcf92943edad36db04c6b5605e & 125\\\\\n",
       "\\end{tabular}\n"
      ],
      "text/markdown": [
       "\n",
       "A data.frame: 288 × 13\n",
       "\n",
       "| gene_type &lt;fct&gt; | cluster_id &lt;int&gt; | seq_uuid &lt;fct&gt; | seq_orig_name &lt;fct&gt; | contig_id &lt;fct&gt; | taxon &lt;fct&gt; | start &lt;int&gt; | end &lt;int&gt; | score &lt;fct&gt; | strand &lt;fct&gt; | annotation &lt;fct&gt; | cluster_name &lt;fct&gt; | clust_id &lt;int&gt; |\n",
       "|---|---|---|---|---|---|---|---|---|---|---|---|---|\n",
       "| cds | 3 | d85616f3d68f4455844f7755aa79b6c9 | HPDPEDLM_01030 | AE000666.1 | GCA_000008645.1_ASM864v1   | 962996 | 963421 | . | + | 30S ribosomal protein S12 | d16595ef8d514d03ac5bbb85608b03a8 | 3 |\n",
       "| cds | 3 | e3f1768c4cbf472f9badc186476f4384 | NBKGJNCK_00972 | AP011952.1 | GCA_000828575.1_ASM82857v1 | 945750 | 946175 | . | + | 30S ribosomal protein S12 | d16595ef8d514d03ac5bbb85608b03a8 | 3 |\n",
       "| ⋮ | ⋮ | ⋮ | ⋮ | ⋮ | ⋮ | ⋮ | ⋮ | ⋮ | ⋮ | ⋮ | ⋮ | ⋮ |\n",
       "| cds | 125 | 040c562ea89c4d84a09638e52f565ea9 | MOKPFFML_01010 | JACIVR010000031.1 | GCA_014361435.1_ASM1436143v1 |    2157 |    2873 | . | - | Tetrahydromethanopterin S-methyltransferase subunit A 1 | b570f8fcf92943edad36db04c6b5605e | 125 |\n",
       "| cds | 125 | 8029893a987a4bbaabc9d94cbd95122f | LEKEIHCA_01522 | LT608329.1        | GCA_900095815.1_SIV6         | 1438914 | 1439630 | . | - | Tetrahydromethanopterin S-methyltransferase subunit A 1 | b570f8fcf92943edad36db04c6b5605e | 125 |\n",
       "\n"
      ],
      "text/plain": [
       "    gene_type cluster_id seq_uuid                         seq_orig_name \n",
       "1   cds       3          d85616f3d68f4455844f7755aa79b6c9 HPDPEDLM_01030\n",
       "2   cds       3          e3f1768c4cbf472f9badc186476f4384 NBKGJNCK_00972\n",
       "⋮   ⋮         ⋮          ⋮                                ⋮             \n",
       "287 cds       125        040c562ea89c4d84a09638e52f565ea9 MOKPFFML_01010\n",
       "288 cds       125        8029893a987a4bbaabc9d94cbd95122f LEKEIHCA_01522\n",
       "    contig_id         taxon                        start   end     score strand\n",
       "1   AE000666.1        GCA_000008645.1_ASM864v1     962996  963421  .     +     \n",
       "2   AP011952.1        GCA_000828575.1_ASM82857v1   945750  946175  .     +     \n",
       "⋮   ⋮                 ⋮                            ⋮       ⋮       ⋮     ⋮     \n",
       "287 JACIVR010000031.1 GCA_014361435.1_ASM1436143v1    2157    2873 .     -     \n",
       "288 LT608329.1        GCA_900095815.1_SIV6         1438914 1439630 .     -     \n",
       "    annotation                                             \n",
       "1   30S ribosomal protein S12                              \n",
       "2   30S ribosomal protein S12                              \n",
       "⋮   ⋮                                                      \n",
       "287 Tetrahydromethanopterin S-methyltransferase subunit A 1\n",
       "288 Tetrahydromethanopterin S-methyltransferase subunit A 1\n",
       "    cluster_name                     clust_id\n",
       "1   d16595ef8d514d03ac5bbb85608b03a8 3       \n",
       "2   d16595ef8d514d03ac5bbb85608b03a8 3       \n",
       "⋮   ⋮                                ⋮       \n",
       "287 b570f8fcf92943edad36db04c6b5605e 125     \n",
       "288 b570f8fcf92943edad36db04c6b5605e 125     "
      ]
     },
     "metadata": {},
     "output_type": "display_data"
    }
   ],
   "source": [
    "# table on final primer metadata\n",
    "F = file.path(work_dir, 'primers', 'clust0.8', 'cgp', 'core_clusters_info.tsv')\n",
    "clst = read.delim(F, sep='\\t')\n",
    "clst"
   ]
  },
  {
   "cell_type": "code",
   "execution_count": 130,
   "metadata": {
    "execution": {
     "iopub.execute_input": "2021-02-09T19:43:35.314144Z",
     "iopub.status.busy": "2021-02-09T19:43:35.312024Z",
     "iopub.status.idle": "2021-02-09T19:43:35.355448Z"
    }
   },
   "outputs": [
    {
     "name": "stdout",
     "output_type": "stream",
     "text": [
      "No. of unique Primer sets: 66 \n",
      "No. of unique Gene clusters: 18 \n"
     ]
    },
    {
     "data": {
      "text/html": [
       "<table>\n",
       "<caption>A matrix: 1 × 8 of type dbl</caption>\n",
       "<thead>\n",
       "\t<tr><th></th><th scope=col>Min.</th><th scope=col>1st Qu.</th><th scope=col>Median</th><th scope=col>Mean</th><th scope=col>3rd Qu.</th><th scope=col>Max.</th><th scope=col>sd</th><th scope=col>sd_err_of_mean</th></tr>\n",
       "</thead>\n",
       "<tbody>\n",
       "\t<tr><th scope=row>Primer sets per gene cluster</th><td>1</td><td>1</td><td>2</td><td>3.833333</td><td>4</td><td>24</td><td>8.93</td><td>3.645</td></tr>\n",
       "</tbody>\n",
       "</table>\n"
      ],
      "text/latex": [
       "A matrix: 1 × 8 of type dbl\n",
       "\\begin{tabular}{r|llllllll}\n",
       "  & Min. & 1st Qu. & Median & Mean & 3rd Qu. & Max. & sd & sd\\_err\\_of\\_mean\\\\\n",
       "\\hline\n",
       "\tPrimer sets per gene cluster & 1 & 1 & 2 & 3.833333 & 4 & 24 & 8.93 & 3.645\\\\\n",
       "\\end{tabular}\n"
      ],
      "text/markdown": [
       "\n",
       "A matrix: 1 × 8 of type dbl\n",
       "\n",
       "| <!--/--> | Min. | 1st Qu. | Median | Mean | 3rd Qu. | Max. | sd | sd_err_of_mean |\n",
       "|---|---|---|---|---|---|---|---|---|\n",
       "| Primer sets per gene cluster | 1 | 1 | 2 | 3.833333 | 4 | 24 | 8.93 | 3.645 |\n",
       "\n"
      ],
      "text/plain": [
       "                             Min. 1st Qu. Median Mean     3rd Qu. Max. sd  \n",
       "Primer sets per gene cluster 1    1       2      3.833333 4       24   8.93\n",
       "                             sd_err_of_mean\n",
       "Primer sets per gene cluster 3.645         "
      ]
     },
     "metadata": {},
     "output_type": "display_data"
    }
   ],
   "source": [
    "info$primer_set %>% unique_n('Primer sets')\n",
    "info$cluster_id %>% unique_n('Gene clusters')\n",
    "info %>%\n",
    "    group_by(cluster_id) %>%\n",
    "    summarize(n_primer_sets = primer_set %>% unique %>% length,\n",
    "              .groups='drop') %>%\n",
    "    .$n_primer_sets %>% summary_x('Primer sets per gene cluster')"
   ]
  },
  {
   "cell_type": "code",
   "execution_count": 131,
   "metadata": {
    "execution": {
     "iopub.execute_input": "2021-02-09T19:43:35.780859Z",
     "iopub.status.busy": "2021-02-09T19:43:35.778629Z",
     "iopub.status.idle": "2021-02-09T19:43:35.824515Z"
    }
   },
   "outputs": [
    {
     "data": {
      "text/html": [
       "<table>\n",
       "<caption>A tibble: 1 × 2</caption>\n",
       "<thead>\n",
       "\t<tr><th scope=col>gene_type</th><th scope=col>n_primer_sets</th></tr>\n",
       "\t<tr><th scope=col>&lt;fct&gt;</th><th scope=col>&lt;int&gt;</th></tr>\n",
       "</thead>\n",
       "<tbody>\n",
       "\t<tr><td>cds</td><td>66</td></tr>\n",
       "</tbody>\n",
       "</table>\n"
      ],
      "text/latex": [
       "A tibble: 1 × 2\n",
       "\\begin{tabular}{ll}\n",
       " gene\\_type & n\\_primer\\_sets\\\\\n",
       " <fct> & <int>\\\\\n",
       "\\hline\n",
       "\t cds & 66\\\\\n",
       "\\end{tabular}\n"
      ],
      "text/markdown": [
       "\n",
       "A tibble: 1 × 2\n",
       "\n",
       "| gene_type &lt;fct&gt; | n_primer_sets &lt;int&gt; |\n",
       "|---|---|\n",
       "| cds | 66 |\n",
       "\n"
      ],
      "text/plain": [
       "  gene_type n_primer_sets\n",
       "1 cds       66           "
      ]
     },
     "metadata": {},
     "output_type": "display_data"
    }
   ],
   "source": [
    "# primer sets per gene type\n",
    "info %>%\n",
    "    distinct(gene_type, cluster_id, primer_set) %>%\n",
    "    group_by(gene_type) %>%\n",
    "    summarize(n_primer_sets = primer_set %>% unique %>% length,\n",
    "              .groups='drop') "
   ]
  },
  {
   "cell_type": "code",
   "execution_count": 132,
   "metadata": {
    "execution": {
     "iopub.execute_input": "2021-02-09T19:43:36.336927Z",
     "iopub.status.busy": "2021-02-09T19:43:36.334816Z",
     "iopub.status.idle": "2021-02-09T19:43:36.385691Z"
    }
   },
   "outputs": [
    {
     "data": {
      "text/html": [
       "<table>\n",
       "<caption>A data.frame: 10 × 22</caption>\n",
       "<thead>\n",
       "\t<tr><th></th><th scope=col>gene_type</th><th scope=col>cluster_id</th><th scope=col>primer_set</th><th scope=col>amplicon_size_consensus</th><th scope=col>amplicon_size_avg</th><th scope=col>amplicon_size_sd</th><th scope=col>primer_id</th><th scope=col>primer_type</th><th scope=col>sequence</th><th scope=col>length</th><th scope=col>degeneracy</th><th scope=col>degeneracy_3prime</th><th scope=col>position_start</th><th scope=col>position_end</th><th scope=col>Tm_avg</th><th scope=col>Tm_sd</th><th scope=col>GC_avg</th><th scope=col>GC_sd</th><th scope=col>hairpin_avg</th><th scope=col>hairpin_sd</th><th scope=col>homodimer_avg</th><th scope=col>homodimer_sd</th></tr>\n",
       "\t<tr><th></th><th scope=col>&lt;fct&gt;</th><th scope=col>&lt;int&gt;</th><th scope=col>&lt;int&gt;</th><th scope=col>&lt;int&gt;</th><th scope=col>&lt;dbl&gt;</th><th scope=col>&lt;dbl&gt;</th><th scope=col>&lt;fct&gt;</th><th scope=col>&lt;fct&gt;</th><th scope=col>&lt;fct&gt;</th><th scope=col>&lt;int&gt;</th><th scope=col>&lt;int&gt;</th><th scope=col>&lt;int&gt;</th><th scope=col>&lt;int&gt;</th><th scope=col>&lt;int&gt;</th><th scope=col>&lt;dbl&gt;</th><th scope=col>&lt;dbl&gt;</th><th scope=col>&lt;dbl&gt;</th><th scope=col>&lt;dbl&gt;</th><th scope=col>&lt;dbl&gt;</th><th scope=col>&lt;dbl&gt;</th><th scope=col>&lt;dbl&gt;</th><th scope=col>&lt;dbl&gt;</th></tr>\n",
       "</thead>\n",
       "<tbody>\n",
       "\t<tr><th scope=row>1</th><td>cds</td><td>3</td><td>213</td><td>190</td><td>190</td><td>0</td><td>213f</td><td>PRIMER_LEFT </td><td>GCCAGGAYTWTTCGCAGCAA  </td><td>20</td><td> 4</td><td>1</td><td>  2</td><td> 22</td><td>61.03726</td><td>1.028183</td><td>52.50000</td><td>2.500000</td><td> 0.00000</td><td> 0.00000</td><td>-22.590589</td><td> 0.00000</td></tr>\n",
       "\t<tr><th scope=row>2</th><td>cds</td><td>3</td><td>213</td><td>190</td><td>190</td><td>0</td><td>213r</td><td>PRIMER_RIGHT</td><td>YCTTATDGCYGAGTTBGGCTGT</td><td>22</td><td>36</td><td>1</td><td>170</td><td>192</td><td>61.90299</td><td>1.866712</td><td>50.00000</td><td>4.417388</td><td>44.21936</td><td>25.45319</td><td>  6.069440</td><td>24.25218</td></tr>\n",
       "\t<tr><th scope=row>3</th><td>cds</td><td>3</td><td>214</td><td>192</td><td>192</td><td>0</td><td>214f</td><td>PRIMER_LEFT </td><td>TTGCCAGGAYTWTTCGCAGC  </td><td>20</td><td> 4</td><td>1</td><td>  0</td><td> 20</td><td>61.03726</td><td>1.028183</td><td>52.50000</td><td>2.500000</td><td> 0.00000</td><td> 0.00000</td><td>-22.590589</td><td> 0.00000</td></tr>\n",
       "\t<tr><th scope=row>4</th><td>cds</td><td>3</td><td>214</td><td>192</td><td>192</td><td>0</td><td>214r</td><td>PRIMER_RIGHT</td><td>YCTTATDGCYGAGTTBGGCTGT</td><td>22</td><td>36</td><td>1</td><td>170</td><td>192</td><td>61.90299</td><td>1.866712</td><td>50.00000</td><td>4.417388</td><td>44.21936</td><td>25.45319</td><td>  6.069440</td><td>24.25218</td></tr>\n",
       "\t<tr><th scope=row>5</th><td>cds</td><td>3</td><td>342</td><td>191</td><td>191</td><td>0</td><td>342f</td><td>PRIMER_LEFT </td><td>GCCAGGAYTWTTCGCAGCAA  </td><td>20</td><td> 4</td><td>1</td><td>  2</td><td> 22</td><td>61.03726</td><td>1.028183</td><td>52.50000</td><td>2.500000</td><td> 0.00000</td><td> 0.00000</td><td>-22.590589</td><td> 0.00000</td></tr>\n",
       "\t<tr><th scope=row>6</th><td>cds</td><td>3</td><td>342</td><td>191</td><td>191</td><td>0</td><td>342r</td><td>PRIMER_RIGHT</td><td>TYCTTATDGCYGAGTTBGGCTG</td><td>22</td><td>36</td><td>1</td><td>171</td><td>193</td><td>61.24301</td><td>1.992234</td><td>50.00000</td><td>4.417388</td><td>44.21936</td><td>25.45319</td><td>  6.946059</td><td>23.18957</td></tr>\n",
       "\t<tr><th scope=row>7</th><td>cds</td><td>3</td><td>343</td><td>193</td><td>193</td><td>0</td><td>343f</td><td>PRIMER_LEFT </td><td>TTGCCAGGAYTWTTCGCAGC  </td><td>20</td><td> 4</td><td>1</td><td>  0</td><td> 20</td><td>61.03726</td><td>1.028183</td><td>52.50000</td><td>2.500000</td><td> 0.00000</td><td> 0.00000</td><td>-22.590589</td><td> 0.00000</td></tr>\n",
       "\t<tr><th scope=row>8</th><td>cds</td><td>3</td><td>343</td><td>193</td><td>193</td><td>0</td><td>343r</td><td>PRIMER_RIGHT</td><td>TYCTTATDGCYGAGTTBGGCTG</td><td>22</td><td>36</td><td>1</td><td>171</td><td>193</td><td>61.24301</td><td>1.992234</td><td>50.00000</td><td>4.417388</td><td>44.21936</td><td>25.45319</td><td>  6.946059</td><td>23.18957</td></tr>\n",
       "\t<tr><th scope=row>9</th><td>cds</td><td>4</td><td> 36</td><td>114</td><td>114</td><td>0</td><td>36f </td><td>PRIMER_LEFT </td><td>GTRTTYCTDGCARMCCACCA  </td><td>20</td><td>48</td><td>1</td><td>699</td><td>719</td><td>59.47537</td><td>2.613721</td><td>51.66667</td><td>5.527708</td><td>13.25298</td><td>18.84885</td><td>-13.066518</td><td>17.50463</td></tr>\n",
       "\t<tr><th scope=row>10</th><td>cds</td><td>4</td><td> 36</td><td>114</td><td>114</td><td>0</td><td>36r </td><td>PRIMER_RIGHT</td><td>HCCHCCCATBGTGAAGTTGT  </td><td>20</td><td>27</td><td>1</td><td>793</td><td>813</td><td>60.09530</td><td>1.471249</td><td>51.66667</td><td>4.082483</td><td>19.83603</td><td>24.24986</td><td>-26.236222</td><td>29.11761</td></tr>\n",
       "</tbody>\n",
       "</table>\n"
      ],
      "text/latex": [
       "A data.frame: 10 × 22\n",
       "\\begin{tabular}{r|llllllllllllllllllllll}\n",
       "  & gene\\_type & cluster\\_id & primer\\_set & amplicon\\_size\\_consensus & amplicon\\_size\\_avg & amplicon\\_size\\_sd & primer\\_id & primer\\_type & sequence & length & degeneracy & degeneracy\\_3prime & position\\_start & position\\_end & Tm\\_avg & Tm\\_sd & GC\\_avg & GC\\_sd & hairpin\\_avg & hairpin\\_sd & homodimer\\_avg & homodimer\\_sd\\\\\n",
       "  & <fct> & <int> & <int> & <int> & <dbl> & <dbl> & <fct> & <fct> & <fct> & <int> & <int> & <int> & <int> & <int> & <dbl> & <dbl> & <dbl> & <dbl> & <dbl> & <dbl> & <dbl> & <dbl>\\\\\n",
       "\\hline\n",
       "\t1 & cds & 3 & 213 & 190 & 190 & 0 & 213f & PRIMER\\_LEFT  & GCCAGGAYTWTTCGCAGCAA   & 20 &  4 & 1 &   2 &  22 & 61.03726 & 1.028183 & 52.50000 & 2.500000 &  0.00000 &  0.00000 & -22.590589 &  0.00000\\\\\n",
       "\t2 & cds & 3 & 213 & 190 & 190 & 0 & 213r & PRIMER\\_RIGHT & YCTTATDGCYGAGTTBGGCTGT & 22 & 36 & 1 & 170 & 192 & 61.90299 & 1.866712 & 50.00000 & 4.417388 & 44.21936 & 25.45319 &   6.069440 & 24.25218\\\\\n",
       "\t3 & cds & 3 & 214 & 192 & 192 & 0 & 214f & PRIMER\\_LEFT  & TTGCCAGGAYTWTTCGCAGC   & 20 &  4 & 1 &   0 &  20 & 61.03726 & 1.028183 & 52.50000 & 2.500000 &  0.00000 &  0.00000 & -22.590589 &  0.00000\\\\\n",
       "\t4 & cds & 3 & 214 & 192 & 192 & 0 & 214r & PRIMER\\_RIGHT & YCTTATDGCYGAGTTBGGCTGT & 22 & 36 & 1 & 170 & 192 & 61.90299 & 1.866712 & 50.00000 & 4.417388 & 44.21936 & 25.45319 &   6.069440 & 24.25218\\\\\n",
       "\t5 & cds & 3 & 342 & 191 & 191 & 0 & 342f & PRIMER\\_LEFT  & GCCAGGAYTWTTCGCAGCAA   & 20 &  4 & 1 &   2 &  22 & 61.03726 & 1.028183 & 52.50000 & 2.500000 &  0.00000 &  0.00000 & -22.590589 &  0.00000\\\\\n",
       "\t6 & cds & 3 & 342 & 191 & 191 & 0 & 342r & PRIMER\\_RIGHT & TYCTTATDGCYGAGTTBGGCTG & 22 & 36 & 1 & 171 & 193 & 61.24301 & 1.992234 & 50.00000 & 4.417388 & 44.21936 & 25.45319 &   6.946059 & 23.18957\\\\\n",
       "\t7 & cds & 3 & 343 & 193 & 193 & 0 & 343f & PRIMER\\_LEFT  & TTGCCAGGAYTWTTCGCAGC   & 20 &  4 & 1 &   0 &  20 & 61.03726 & 1.028183 & 52.50000 & 2.500000 &  0.00000 &  0.00000 & -22.590589 &  0.00000\\\\\n",
       "\t8 & cds & 3 & 343 & 193 & 193 & 0 & 343r & PRIMER\\_RIGHT & TYCTTATDGCYGAGTTBGGCTG & 22 & 36 & 1 & 171 & 193 & 61.24301 & 1.992234 & 50.00000 & 4.417388 & 44.21936 & 25.45319 &   6.946059 & 23.18957\\\\\n",
       "\t9 & cds & 4 &  36 & 114 & 114 & 0 & 36f  & PRIMER\\_LEFT  & GTRTTYCTDGCARMCCACCA   & 20 & 48 & 1 & 699 & 719 & 59.47537 & 2.613721 & 51.66667 & 5.527708 & 13.25298 & 18.84885 & -13.066518 & 17.50463\\\\\n",
       "\t10 & cds & 4 &  36 & 114 & 114 & 0 & 36r  & PRIMER\\_RIGHT & HCCHCCCATBGTGAAGTTGT   & 20 & 27 & 1 & 793 & 813 & 60.09530 & 1.471249 & 51.66667 & 4.082483 & 19.83603 & 24.24986 & -26.236222 & 29.11761\\\\\n",
       "\\end{tabular}\n"
      ],
      "text/markdown": [
       "\n",
       "A data.frame: 10 × 22\n",
       "\n",
       "| <!--/--> | gene_type &lt;fct&gt; | cluster_id &lt;int&gt; | primer_set &lt;int&gt; | amplicon_size_consensus &lt;int&gt; | amplicon_size_avg &lt;dbl&gt; | amplicon_size_sd &lt;dbl&gt; | primer_id &lt;fct&gt; | primer_type &lt;fct&gt; | sequence &lt;fct&gt; | length &lt;int&gt; | degeneracy &lt;int&gt; | degeneracy_3prime &lt;int&gt; | position_start &lt;int&gt; | position_end &lt;int&gt; | Tm_avg &lt;dbl&gt; | Tm_sd &lt;dbl&gt; | GC_avg &lt;dbl&gt; | GC_sd &lt;dbl&gt; | hairpin_avg &lt;dbl&gt; | hairpin_sd &lt;dbl&gt; | homodimer_avg &lt;dbl&gt; | homodimer_sd &lt;dbl&gt; |\n",
       "|---|---|---|---|---|---|---|---|---|---|---|---|---|---|---|---|---|---|---|---|---|---|---|\n",
       "| 1 | cds | 3 | 213 | 190 | 190 | 0 | 213f | PRIMER_LEFT  | GCCAGGAYTWTTCGCAGCAA   | 20 |  4 | 1 |   2 |  22 | 61.03726 | 1.028183 | 52.50000 | 2.500000 |  0.00000 |  0.00000 | -22.590589 |  0.00000 |\n",
       "| 2 | cds | 3 | 213 | 190 | 190 | 0 | 213r | PRIMER_RIGHT | YCTTATDGCYGAGTTBGGCTGT | 22 | 36 | 1 | 170 | 192 | 61.90299 | 1.866712 | 50.00000 | 4.417388 | 44.21936 | 25.45319 |   6.069440 | 24.25218 |\n",
       "| 3 | cds | 3 | 214 | 192 | 192 | 0 | 214f | PRIMER_LEFT  | TTGCCAGGAYTWTTCGCAGC   | 20 |  4 | 1 |   0 |  20 | 61.03726 | 1.028183 | 52.50000 | 2.500000 |  0.00000 |  0.00000 | -22.590589 |  0.00000 |\n",
       "| 4 | cds | 3 | 214 | 192 | 192 | 0 | 214r | PRIMER_RIGHT | YCTTATDGCYGAGTTBGGCTGT | 22 | 36 | 1 | 170 | 192 | 61.90299 | 1.866712 | 50.00000 | 4.417388 | 44.21936 | 25.45319 |   6.069440 | 24.25218 |\n",
       "| 5 | cds | 3 | 342 | 191 | 191 | 0 | 342f | PRIMER_LEFT  | GCCAGGAYTWTTCGCAGCAA   | 20 |  4 | 1 |   2 |  22 | 61.03726 | 1.028183 | 52.50000 | 2.500000 |  0.00000 |  0.00000 | -22.590589 |  0.00000 |\n",
       "| 6 | cds | 3 | 342 | 191 | 191 | 0 | 342r | PRIMER_RIGHT | TYCTTATDGCYGAGTTBGGCTG | 22 | 36 | 1 | 171 | 193 | 61.24301 | 1.992234 | 50.00000 | 4.417388 | 44.21936 | 25.45319 |   6.946059 | 23.18957 |\n",
       "| 7 | cds | 3 | 343 | 193 | 193 | 0 | 343f | PRIMER_LEFT  | TTGCCAGGAYTWTTCGCAGC   | 20 |  4 | 1 |   0 |  20 | 61.03726 | 1.028183 | 52.50000 | 2.500000 |  0.00000 |  0.00000 | -22.590589 |  0.00000 |\n",
       "| 8 | cds | 3 | 343 | 193 | 193 | 0 | 343r | PRIMER_RIGHT | TYCTTATDGCYGAGTTBGGCTG | 22 | 36 | 1 | 171 | 193 | 61.24301 | 1.992234 | 50.00000 | 4.417388 | 44.21936 | 25.45319 |   6.946059 | 23.18957 |\n",
       "| 9 | cds | 4 |  36 | 114 | 114 | 0 | 36f  | PRIMER_LEFT  | GTRTTYCTDGCARMCCACCA   | 20 | 48 | 1 | 699 | 719 | 59.47537 | 2.613721 | 51.66667 | 5.527708 | 13.25298 | 18.84885 | -13.066518 | 17.50463 |\n",
       "| 10 | cds | 4 |  36 | 114 | 114 | 0 | 36r  | PRIMER_RIGHT | HCCHCCCATBGTGAAGTTGT   | 20 | 27 | 1 | 793 | 813 | 60.09530 | 1.471249 | 51.66667 | 4.082483 | 19.83603 | 24.24986 | -26.236222 | 29.11761 |\n",
       "\n"
      ],
      "text/plain": [
       "   gene_type cluster_id primer_set amplicon_size_consensus amplicon_size_avg\n",
       "1  cds       3          213        190                     190              \n",
       "2  cds       3          213        190                     190              \n",
       "3  cds       3          214        192                     192              \n",
       "4  cds       3          214        192                     192              \n",
       "5  cds       3          342        191                     191              \n",
       "6  cds       3          342        191                     191              \n",
       "7  cds       3          343        193                     193              \n",
       "8  cds       3          343        193                     193              \n",
       "9  cds       4           36        114                     114              \n",
       "10 cds       4           36        114                     114              \n",
       "   amplicon_size_sd primer_id primer_type  sequence               length\n",
       "1  0                213f      PRIMER_LEFT  GCCAGGAYTWTTCGCAGCAA   20    \n",
       "2  0                213r      PRIMER_RIGHT YCTTATDGCYGAGTTBGGCTGT 22    \n",
       "3  0                214f      PRIMER_LEFT  TTGCCAGGAYTWTTCGCAGC   20    \n",
       "4  0                214r      PRIMER_RIGHT YCTTATDGCYGAGTTBGGCTGT 22    \n",
       "5  0                342f      PRIMER_LEFT  GCCAGGAYTWTTCGCAGCAA   20    \n",
       "6  0                342r      PRIMER_RIGHT TYCTTATDGCYGAGTTBGGCTG 22    \n",
       "7  0                343f      PRIMER_LEFT  TTGCCAGGAYTWTTCGCAGC   20    \n",
       "8  0                343r      PRIMER_RIGHT TYCTTATDGCYGAGTTBGGCTG 22    \n",
       "9  0                36f       PRIMER_LEFT  GTRTTYCTDGCARMCCACCA   20    \n",
       "10 0                36r       PRIMER_RIGHT HCCHCCCATBGTGAAGTTGT   20    \n",
       "   degeneracy degeneracy_3prime position_start position_end Tm_avg   Tm_sd   \n",
       "1   4         1                   2             22          61.03726 1.028183\n",
       "2  36         1                 170            192          61.90299 1.866712\n",
       "3   4         1                   0             20          61.03726 1.028183\n",
       "4  36         1                 170            192          61.90299 1.866712\n",
       "5   4         1                   2             22          61.03726 1.028183\n",
       "6  36         1                 171            193          61.24301 1.992234\n",
       "7   4         1                   0             20          61.03726 1.028183\n",
       "8  36         1                 171            193          61.24301 1.992234\n",
       "9  48         1                 699            719          59.47537 2.613721\n",
       "10 27         1                 793            813          60.09530 1.471249\n",
       "   GC_avg   GC_sd    hairpin_avg hairpin_sd homodimer_avg homodimer_sd\n",
       "1  52.50000 2.500000  0.00000     0.00000   -22.590589     0.00000    \n",
       "2  50.00000 4.417388 44.21936    25.45319     6.069440    24.25218    \n",
       "3  52.50000 2.500000  0.00000     0.00000   -22.590589     0.00000    \n",
       "4  50.00000 4.417388 44.21936    25.45319     6.069440    24.25218    \n",
       "5  52.50000 2.500000  0.00000     0.00000   -22.590589     0.00000    \n",
       "6  50.00000 4.417388 44.21936    25.45319     6.946059    23.18957    \n",
       "7  52.50000 2.500000  0.00000     0.00000   -22.590589     0.00000    \n",
       "8  50.00000 4.417388 44.21936    25.45319     6.946059    23.18957    \n",
       "9  51.66667 5.527708 13.25298    18.84885   -13.066518    17.50463    \n",
       "10 51.66667 4.082483 19.83603    24.24986   -26.236222    29.11761    "
      ]
     },
     "metadata": {},
     "output_type": "display_data"
    }
   ],
   "source": [
    "df.dims(10, 30)\n",
    "info %>%\n",
    "    head(n=10)\n",
    "df.dims()"
   ]
  },
  {
   "cell_type": "code",
   "execution_count": 133,
   "metadata": {
    "execution": {
     "iopub.execute_input": "2021-02-09T19:43:37.725427Z",
     "iopub.status.busy": "2021-02-09T19:43:37.713078Z",
     "iopub.status.idle": "2021-02-09T19:43:37.803258Z"
    }
   },
   "outputs": [
    {
     "data": {
      "text/html": [
       "<table>\n",
       "<caption>A matrix: 1 × 8 of type dbl</caption>\n",
       "<thead>\n",
       "\t<tr><th></th><th scope=col>Min.</th><th scope=col>1st Qu.</th><th scope=col>Median</th><th scope=col>Mean</th><th scope=col>3rd Qu.</th><th scope=col>Max.</th><th scope=col>sd</th><th scope=col>sd_err_of_mean</th></tr>\n",
       "</thead>\n",
       "<tbody>\n",
       "\t<tr><th scope=row>amplicon_size_avg</th><td>100</td><td>118</td><td>135</td><td>139.2636</td><td>149</td><td>198</td><td>33.33</td><td>13.607</td></tr>\n",
       "</tbody>\n",
       "</table>\n"
      ],
      "text/latex": [
       "A matrix: 1 × 8 of type dbl\n",
       "\\begin{tabular}{r|llllllll}\n",
       "  & Min. & 1st Qu. & Median & Mean & 3rd Qu. & Max. & sd & sd\\_err\\_of\\_mean\\\\\n",
       "\\hline\n",
       "\tamplicon\\_size\\_avg & 100 & 118 & 135 & 139.2636 & 149 & 198 & 33.33 & 13.607\\\\\n",
       "\\end{tabular}\n"
      ],
      "text/markdown": [
       "\n",
       "A matrix: 1 × 8 of type dbl\n",
       "\n",
       "| <!--/--> | Min. | 1st Qu. | Median | Mean | 3rd Qu. | Max. | sd | sd_err_of_mean |\n",
       "|---|---|---|---|---|---|---|---|---|\n",
       "| amplicon_size_avg | 100 | 118 | 135 | 139.2636 | 149 | 198 | 33.33 | 13.607 |\n",
       "\n"
      ],
      "text/plain": [
       "                  Min. 1st Qu. Median Mean     3rd Qu. Max. sd   \n",
       "amplicon_size_avg 100  118     135    139.2636 149     198  33.33\n",
       "                  sd_err_of_mean\n",
       "amplicon_size_avg 13.607        "
      ]
     },
     "metadata": {},
     "output_type": "display_data"
    },
    {
     "data": {
      "text/html": [
       "<table>\n",
       "<caption>A matrix: 1 × 8 of type dbl</caption>\n",
       "<thead>\n",
       "\t<tr><th></th><th scope=col>Min.</th><th scope=col>1st Qu.</th><th scope=col>Median</th><th scope=col>Mean</th><th scope=col>3rd Qu.</th><th scope=col>Max.</th><th scope=col>sd</th><th scope=col>sd_err_of_mean</th></tr>\n",
       "</thead>\n",
       "<tbody>\n",
       "\t<tr><th scope=row>degen</th><td>4</td><td>24</td><td>42</td><td>41.5942</td><td>48</td><td>128</td><td>42.4</td><td>17.31</td></tr>\n",
       "</tbody>\n",
       "</table>\n"
      ],
      "text/latex": [
       "A matrix: 1 × 8 of type dbl\n",
       "\\begin{tabular}{r|llllllll}\n",
       "  & Min. & 1st Qu. & Median & Mean & 3rd Qu. & Max. & sd & sd\\_err\\_of\\_mean\\\\\n",
       "\\hline\n",
       "\tdegen & 4 & 24 & 42 & 41.5942 & 48 & 128 & 42.4 & 17.31\\\\\n",
       "\\end{tabular}\n"
      ],
      "text/markdown": [
       "\n",
       "A matrix: 1 × 8 of type dbl\n",
       "\n",
       "| <!--/--> | Min. | 1st Qu. | Median | Mean | 3rd Qu. | Max. | sd | sd_err_of_mean |\n",
       "|---|---|---|---|---|---|---|---|---|\n",
       "| degen | 4 | 24 | 42 | 41.5942 | 48 | 128 | 42.4 | 17.31 |\n",
       "\n"
      ],
      "text/plain": [
       "      Min. 1st Qu. Median Mean    3rd Qu. Max. sd   sd_err_of_mean\n",
       "degen 4    24      42     41.5942 48      128  42.4 17.31         "
      ]
     },
     "metadata": {},
     "output_type": "display_data"
    },
    {
     "data": {
      "text/html": [
       "<table>\n",
       "<caption>A matrix: 1 × 8 of type dbl</caption>\n",
       "<thead>\n",
       "\t<tr><th></th><th scope=col>Min.</th><th scope=col>1st Qu.</th><th scope=col>Median</th><th scope=col>Mean</th><th scope=col>3rd Qu.</th><th scope=col>Max.</th><th scope=col>sd</th><th scope=col>sd_err_of_mean</th></tr>\n",
       "</thead>\n",
       "<tbody>\n",
       "\t<tr><th scope=row>Tm-avg</th><td>54.22175</td><td>57.72056</td><td>58.754</td><td>58.73787</td><td>59.71873</td><td>63.95472</td><td>3.147</td><td>1.285</td></tr>\n",
       "</tbody>\n",
       "</table>\n"
      ],
      "text/latex": [
       "A matrix: 1 × 8 of type dbl\n",
       "\\begin{tabular}{r|llllllll}\n",
       "  & Min. & 1st Qu. & Median & Mean & 3rd Qu. & Max. & sd & sd\\_err\\_of\\_mean\\\\\n",
       "\\hline\n",
       "\tTm-avg & 54.22175 & 57.72056 & 58.754 & 58.73787 & 59.71873 & 63.95472 & 3.147 & 1.285\\\\\n",
       "\\end{tabular}\n"
      ],
      "text/markdown": [
       "\n",
       "A matrix: 1 × 8 of type dbl\n",
       "\n",
       "| <!--/--> | Min. | 1st Qu. | Median | Mean | 3rd Qu. | Max. | sd | sd_err_of_mean |\n",
       "|---|---|---|---|---|---|---|---|---|\n",
       "| Tm-avg | 54.22175 | 57.72056 | 58.754 | 58.73787 | 59.71873 | 63.95472 | 3.147 | 1.285 |\n",
       "\n"
      ],
      "text/plain": [
       "       Min.     1st Qu.  Median Mean     3rd Qu.  Max.     sd    sd_err_of_mean\n",
       "Tm-avg 54.22175 57.72056 58.754 58.73787 59.71873 63.95472 3.147 1.285         "
      ]
     },
     "metadata": {},
     "output_type": "display_data"
    },
    {
     "data": {
      "text/html": [
       "<table>\n",
       "<caption>A matrix: 1 × 8 of type dbl</caption>\n",
       "<thead>\n",
       "\t<tr><th></th><th scope=col>Min.</th><th scope=col>1st Qu.</th><th scope=col>Median</th><th scope=col>Mean</th><th scope=col>3rd Qu.</th><th scope=col>Max.</th><th scope=col>sd</th><th scope=col>sd_err_of_mean</th></tr>\n",
       "</thead>\n",
       "<tbody>\n",
       "\t<tr><th scope=row>Tm-sd</th><td>1.028183</td><td>1.663817</td><td>2.191219</td><td>2.108862</td><td>2.488311</td><td>2.982226</td><td>0.674</td><td>0.275</td></tr>\n",
       "</tbody>\n",
       "</table>\n"
      ],
      "text/latex": [
       "A matrix: 1 × 8 of type dbl\n",
       "\\begin{tabular}{r|llllllll}\n",
       "  & Min. & 1st Qu. & Median & Mean & 3rd Qu. & Max. & sd & sd\\_err\\_of\\_mean\\\\\n",
       "\\hline\n",
       "\tTm-sd & 1.028183 & 1.663817 & 2.191219 & 2.108862 & 2.488311 & 2.982226 & 0.674 & 0.275\\\\\n",
       "\\end{tabular}\n"
      ],
      "text/markdown": [
       "\n",
       "A matrix: 1 × 8 of type dbl\n",
       "\n",
       "| <!--/--> | Min. | 1st Qu. | Median | Mean | 3rd Qu. | Max. | sd | sd_err_of_mean |\n",
       "|---|---|---|---|---|---|---|---|---|\n",
       "| Tm-sd | 1.028183 | 1.663817 | 2.191219 | 2.108862 | 2.488311 | 2.982226 | 0.674 | 0.275 |\n",
       "\n"
      ],
      "text/plain": [
       "      Min.     1st Qu.  Median   Mean     3rd Qu.  Max.     sd   \n",
       "Tm-sd 1.028183 1.663817 2.191219 2.108862 2.488311 2.982226 0.674\n",
       "      sd_err_of_mean\n",
       "Tm-sd 0.275         "
      ]
     },
     "metadata": {},
     "output_type": "display_data"
    },
    {
     "data": {
      "text/html": [
       "<table>\n",
       "<caption>A matrix: 1 × 8 of type dbl</caption>\n",
       "<thead>\n",
       "\t<tr><th></th><th scope=col>Min.</th><th scope=col>1st Qu.</th><th scope=col>Median</th><th scope=col>Mean</th><th scope=col>3rd Qu.</th><th scope=col>Max.</th><th scope=col>sd</th><th scope=col>sd_err_of_mean</th></tr>\n",
       "</thead>\n",
       "<tbody>\n",
       "\t<tr><th scope=row>GC-avg</th><td>37.12121</td><td>44.16667</td><td>50</td><td>48.90713</td><td>52.5</td><td>63.33333</td><td>8.746</td><td>3.571</td></tr>\n",
       "</tbody>\n",
       "</table>\n"
      ],
      "text/latex": [
       "A matrix: 1 × 8 of type dbl\n",
       "\\begin{tabular}{r|llllllll}\n",
       "  & Min. & 1st Qu. & Median & Mean & 3rd Qu. & Max. & sd & sd\\_err\\_of\\_mean\\\\\n",
       "\\hline\n",
       "\tGC-avg & 37.12121 & 44.16667 & 50 & 48.90713 & 52.5 & 63.33333 & 8.746 & 3.571\\\\\n",
       "\\end{tabular}\n"
      ],
      "text/markdown": [
       "\n",
       "A matrix: 1 × 8 of type dbl\n",
       "\n",
       "| <!--/--> | Min. | 1st Qu. | Median | Mean | 3rd Qu. | Max. | sd | sd_err_of_mean |\n",
       "|---|---|---|---|---|---|---|---|---|\n",
       "| GC-avg | 37.12121 | 44.16667 | 50 | 48.90713 | 52.5 | 63.33333 | 8.746 | 3.571 |\n",
       "\n"
      ],
      "text/plain": [
       "       Min.     1st Qu.  Median Mean     3rd Qu. Max.     sd    sd_err_of_mean\n",
       "GC-avg 37.12121 44.16667 50     48.90713 52.5    63.33333 8.746 3.571         "
      ]
     },
     "metadata": {},
     "output_type": "display_data"
    },
    {
     "data": {
      "text/html": [
       "<table>\n",
       "<caption>A matrix: 1 × 8 of type dbl</caption>\n",
       "<thead>\n",
       "\t<tr><th></th><th scope=col>Min.</th><th scope=col>1st Qu.</th><th scope=col>Median</th><th scope=col>Mean</th><th scope=col>3rd Qu.</th><th scope=col>Max.</th><th scope=col>sd</th><th scope=col>sd_err_of_mean</th></tr>\n",
       "</thead>\n",
       "<tbody>\n",
       "\t<tr><th scope=row>GC-sd</th><td>2.5</td><td>4.287014</td><td>4.695301</td><td>4.728682</td><td>5.018892</td><td>6.614378</td><td>1.323</td><td>0.54</td></tr>\n",
       "</tbody>\n",
       "</table>\n"
      ],
      "text/latex": [
       "A matrix: 1 × 8 of type dbl\n",
       "\\begin{tabular}{r|llllllll}\n",
       "  & Min. & 1st Qu. & Median & Mean & 3rd Qu. & Max. & sd & sd\\_err\\_of\\_mean\\\\\n",
       "\\hline\n",
       "\tGC-sd & 2.5 & 4.287014 & 4.695301 & 4.728682 & 5.018892 & 6.614378 & 1.323 & 0.54\\\\\n",
       "\\end{tabular}\n"
      ],
      "text/markdown": [
       "\n",
       "A matrix: 1 × 8 of type dbl\n",
       "\n",
       "| <!--/--> | Min. | 1st Qu. | Median | Mean | 3rd Qu. | Max. | sd | sd_err_of_mean |\n",
       "|---|---|---|---|---|---|---|---|---|\n",
       "| GC-sd | 2.5 | 4.287014 | 4.695301 | 4.728682 | 5.018892 | 6.614378 | 1.323 | 0.54 |\n",
       "\n"
      ],
      "text/plain": [
       "      Min. 1st Qu.  Median   Mean     3rd Qu.  Max.     sd    sd_err_of_mean\n",
       "GC-sd 2.5  4.287014 4.695301 4.728682 5.018892 6.614378 1.323 0.54          "
      ]
     },
     "metadata": {},
     "output_type": "display_data"
    }
   ],
   "source": [
    "# general stats\n",
    "info$amplicon_size_avg %>% summary_x('amplicon_size_avg')\n",
    "info$degeneracy %>% summary_x('degen')\n",
    "info$Tm_avg %>% summary_x('Tm-avg')\n",
    "info$Tm_sd %>% summary_x('Tm-sd')\n",
    "info$GC_avg %>% summary_x('GC-avg')\n",
    "info$GC_sd %>% summary_x('GC-sd')"
   ]
  },
  {
   "cell_type": "code",
   "execution_count": 134,
   "metadata": {
    "execution": {
     "iopub.execute_input": "2021-02-09T19:43:39.906900Z",
     "iopub.status.busy": "2021-02-09T19:43:39.904288Z",
     "iopub.status.idle": "2021-02-09T19:43:40.039875Z"
    }
   },
   "outputs": [
    {
     "data": {
      "text/html": [
       "<table>\n",
       "<caption>A data.frame: 4142 × 17</caption>\n",
       "<thead>\n",
       "\t<tr><th scope=col>cluster_id</th><th scope=col>query</th><th scope=col>subject</th><th scope=col>subject_name</th><th scope=col>pident</th><th scope=col>length</th><th scope=col>mismatch</th><th scope=col>qstart</th><th scope=col>qend</th><th scope=col>sstart</th><th scope=col>send</th><th scope=col>evalue</th><th scope=col>slen</th><th scope=col>qlen</th><th scope=col>sscinames</th><th scope=col>staxids</th><th scope=col>pident_rank</th></tr>\n",
       "\t<tr><th scope=col>&lt;int&gt;</th><th scope=col>&lt;fct&gt;</th><th scope=col>&lt;fct&gt;</th><th scope=col>&lt;fct&gt;</th><th scope=col>&lt;dbl&gt;</th><th scope=col>&lt;int&gt;</th><th scope=col>&lt;int&gt;</th><th scope=col>&lt;int&gt;</th><th scope=col>&lt;int&gt;</th><th scope=col>&lt;int&gt;</th><th scope=col>&lt;int&gt;</th><th scope=col>&lt;dbl&gt;</th><th scope=col>&lt;int&gt;</th><th scope=col>&lt;int&gt;</th><th scope=col>&lt;fct&gt;</th><th scope=col>&lt;fct&gt;</th><th scope=col>&lt;int&gt;</th></tr>\n",
       "</thead>\n",
       "<tbody>\n",
       "\t<tr><td>3</td><td>d16595ef8d514d03ac5bbb85608b03a8</td><td>MBC7100273.1</td><td>None</td><td>99.291</td><td>141</td><td>1</td><td>1</td><td>423</td><td>1</td><td>141</td><td>1.02e-94</td><td>141</td><td>426</td><td>Methanobacteriaceae archaeon;Methanobacteriales archaeon</td><td>2099680;2478476</td><td>1</td></tr>\n",
       "\t<tr><td>3</td><td>d16595ef8d514d03ac5bbb85608b03a8</td><td>MBC7100273.1</td><td>None</td><td>99.291</td><td>141</td><td>1</td><td>1</td><td>423</td><td>1</td><td>141</td><td>1.02e-94</td><td>141</td><td>426</td><td>Methanobacteriaceae archaeon;Methanobacteriales archaeon</td><td>2099680;2478476</td><td>1</td></tr>\n",
       "\t<tr><td>⋮</td><td>⋮</td><td>⋮</td><td>⋮</td><td>⋮</td><td>⋮</td><td>⋮</td><td>⋮</td><td>⋮</td><td>⋮</td><td>⋮</td><td>⋮</td><td>⋮</td><td>⋮</td><td>⋮</td><td>⋮</td><td>⋮</td></tr>\n",
       "\t<tr><td>125</td><td>b570f8fcf92943edad36db04c6b5605e</td><td>WP_066973001.1</td><td>tetrahydromethanopterin S-methyltransferase subunit A [Methanobrevibacter filiformis]</td><td>78.027</td><td>223</td><td>47</td><td>7</td><td>669</td><td>3</td><td>225</td><td>2.92e-119</td><td>241</td><td>717</td><td>Methanobrevibacter filiformis</td><td>55758</td><td>30</td></tr>\n",
       "\t<tr><td>125</td><td>b570f8fcf92943edad36db04c6b5605e</td><td>WP_066973001.1</td><td>tetrahydromethanopterin S-methyltransferase subunit A [Methanobrevibacter filiformis]</td><td>78.027</td><td>223</td><td>47</td><td>7</td><td>669</td><td>3</td><td>225</td><td>2.92e-119</td><td>241</td><td>717</td><td>Methanobrevibacter filiformis</td><td>55758</td><td>30</td></tr>\n",
       "</tbody>\n",
       "</table>\n"
      ],
      "text/latex": [
       "A data.frame: 4142 × 17\n",
       "\\begin{tabular}{lllllllllllllllll}\n",
       " cluster\\_id & query & subject & subject\\_name & pident & length & mismatch & qstart & qend & sstart & send & evalue & slen & qlen & sscinames & staxids & pident\\_rank\\\\\n",
       " <int> & <fct> & <fct> & <fct> & <dbl> & <int> & <int> & <int> & <int> & <int> & <int> & <dbl> & <int> & <int> & <fct> & <fct> & <int>\\\\\n",
       "\\hline\n",
       "\t 3 & d16595ef8d514d03ac5bbb85608b03a8 & MBC7100273.1 & None & 99.291 & 141 & 1 & 1 & 423 & 1 & 141 & 1.02e-94 & 141 & 426 & Methanobacteriaceae archaeon;Methanobacteriales archaeon & 2099680;2478476 & 1\\\\\n",
       "\t 3 & d16595ef8d514d03ac5bbb85608b03a8 & MBC7100273.1 & None & 99.291 & 141 & 1 & 1 & 423 & 1 & 141 & 1.02e-94 & 141 & 426 & Methanobacteriaceae archaeon;Methanobacteriales archaeon & 2099680;2478476 & 1\\\\\n",
       "\t ⋮ & ⋮ & ⋮ & ⋮ & ⋮ & ⋮ & ⋮ & ⋮ & ⋮ & ⋮ & ⋮ & ⋮ & ⋮ & ⋮ & ⋮ & ⋮ & ⋮\\\\\n",
       "\t 125 & b570f8fcf92943edad36db04c6b5605e & WP\\_066973001.1 & tetrahydromethanopterin S-methyltransferase subunit A {[}Methanobrevibacter filiformis{]} & 78.027 & 223 & 47 & 7 & 669 & 3 & 225 & 2.92e-119 & 241 & 717 & Methanobrevibacter filiformis & 55758 & 30\\\\\n",
       "\t 125 & b570f8fcf92943edad36db04c6b5605e & WP\\_066973001.1 & tetrahydromethanopterin S-methyltransferase subunit A {[}Methanobrevibacter filiformis{]} & 78.027 & 223 & 47 & 7 & 669 & 3 & 225 & 2.92e-119 & 241 & 717 & Methanobrevibacter filiformis & 55758 & 30\\\\\n",
       "\\end{tabular}\n"
      ],
      "text/markdown": [
       "\n",
       "A data.frame: 4142 × 17\n",
       "\n",
       "| cluster_id &lt;int&gt; | query &lt;fct&gt; | subject &lt;fct&gt; | subject_name &lt;fct&gt; | pident &lt;dbl&gt; | length &lt;int&gt; | mismatch &lt;int&gt; | qstart &lt;int&gt; | qend &lt;int&gt; | sstart &lt;int&gt; | send &lt;int&gt; | evalue &lt;dbl&gt; | slen &lt;int&gt; | qlen &lt;int&gt; | sscinames &lt;fct&gt; | staxids &lt;fct&gt; | pident_rank &lt;int&gt; |\n",
       "|---|---|---|---|---|---|---|---|---|---|---|---|---|---|---|---|---|\n",
       "| 3 | d16595ef8d514d03ac5bbb85608b03a8 | MBC7100273.1 | None | 99.291 | 141 | 1 | 1 | 423 | 1 | 141 | 1.02e-94 | 141 | 426 | Methanobacteriaceae archaeon;Methanobacteriales archaeon | 2099680;2478476 | 1 |\n",
       "| 3 | d16595ef8d514d03ac5bbb85608b03a8 | MBC7100273.1 | None | 99.291 | 141 | 1 | 1 | 423 | 1 | 141 | 1.02e-94 | 141 | 426 | Methanobacteriaceae archaeon;Methanobacteriales archaeon | 2099680;2478476 | 1 |\n",
       "| ⋮ | ⋮ | ⋮ | ⋮ | ⋮ | ⋮ | ⋮ | ⋮ | ⋮ | ⋮ | ⋮ | ⋮ | ⋮ | ⋮ | ⋮ | ⋮ | ⋮ |\n",
       "| 125 | b570f8fcf92943edad36db04c6b5605e | WP_066973001.1 | tetrahydromethanopterin S-methyltransferase subunit A [Methanobrevibacter filiformis] | 78.027 | 223 | 47 | 7 | 669 | 3 | 225 | 2.92e-119 | 241 | 717 | Methanobrevibacter filiformis | 55758 | 30 |\n",
       "| 125 | b570f8fcf92943edad36db04c6b5605e | WP_066973001.1 | tetrahydromethanopterin S-methyltransferase subunit A [Methanobrevibacter filiformis] | 78.027 | 223 | 47 | 7 | 669 | 3 | 225 | 2.92e-119 | 241 | 717 | Methanobrevibacter filiformis | 55758 | 30 |\n",
       "\n"
      ],
      "text/plain": [
       "     cluster_id query                            subject       \n",
       "1    3          d16595ef8d514d03ac5bbb85608b03a8 MBC7100273.1  \n",
       "2    3          d16595ef8d514d03ac5bbb85608b03a8 MBC7100273.1  \n",
       "⋮    ⋮          ⋮                                ⋮             \n",
       "4141 125        b570f8fcf92943edad36db04c6b5605e WP_066973001.1\n",
       "4142 125        b570f8fcf92943edad36db04c6b5605e WP_066973001.1\n",
       "     subject_name                                                                         \n",
       "1    None                                                                                 \n",
       "2    None                                                                                 \n",
       "⋮    ⋮                                                                                    \n",
       "4141 tetrahydromethanopterin S-methyltransferase subunit A [Methanobrevibacter filiformis]\n",
       "4142 tetrahydromethanopterin S-methyltransferase subunit A [Methanobrevibacter filiformis]\n",
       "     pident length mismatch qstart qend sstart send evalue    slen qlen\n",
       "1    99.291 141    1        1      423  1      141  1.02e-94  141  426 \n",
       "2    99.291 141    1        1      423  1      141  1.02e-94  141  426 \n",
       "⋮    ⋮      ⋮      ⋮        ⋮      ⋮    ⋮      ⋮    ⋮         ⋮    ⋮   \n",
       "4141 78.027 223    47       7      669  3      225  2.92e-119 241  717 \n",
       "4142 78.027 223    47       7      669  3      225  2.92e-119 241  717 \n",
       "     sscinames                                                staxids        \n",
       "1    Methanobacteriaceae archaeon;Methanobacteriales archaeon 2099680;2478476\n",
       "2    Methanobacteriaceae archaeon;Methanobacteriales archaeon 2099680;2478476\n",
       "⋮    ⋮                                                        ⋮              \n",
       "4141 Methanobrevibacter filiformis                            55758          \n",
       "4142 Methanobrevibacter filiformis                            55758          \n",
       "     pident_rank\n",
       "1    1          \n",
       "2    1          \n",
       "⋮    ⋮          \n",
       "4141 30         \n",
       "4142 30         "
      ]
     },
     "metadata": {},
     "output_type": "display_data"
    }
   ],
   "source": [
    "# blastx on non-targets\n",
    "F = file.path(work_dir, 'primers', 'clust0.8', 'cgp', 'nontarget', 'cds_blastx.tsv')\n",
    "cds_blast = read.delim(F, sep='\\t') %>%\n",
    "    filter(!grepl('Methanothermobacter', sscinames)) %>%\n",
    "    inner_join(info %>% \n",
    "                  filter(gene_type == 'cds') %>%\n",
    "                  select(cluster_id),\n",
    "              c('cluster_id')) %>%\n",
    "    mutate(pident = ifelse(is.na(pident), 0, pident))\n",
    "cds_blast "
   ]
  },
  {
   "cell_type": "code",
   "execution_count": 135,
   "metadata": {
    "execution": {
     "iopub.execute_input": "2021-02-09T19:43:41.647906Z",
     "iopub.status.busy": "2021-02-09T19:43:41.645597Z",
     "iopub.status.idle": "2021-02-09T19:43:41.705357Z"
    }
   },
   "outputs": [
    {
     "data": {
      "text/html": [
       "<table>\n",
       "<caption>A matrix: 1 × 8 of type dbl</caption>\n",
       "<thead>\n",
       "\t<tr><th></th><th scope=col>Min.</th><th scope=col>1st Qu.</th><th scope=col>Median</th><th scope=col>Mean</th><th scope=col>3rd Qu.</th><th scope=col>Max.</th><th scope=col>sd</th><th scope=col>sd_err_of_mean</th></tr>\n",
       "</thead>\n",
       "<tbody>\n",
       "\t<tr><th scope=row>Clostest non-target (seqid)</th><td>80.909</td><td>83.019</td><td>87.745</td><td>88.44145</td><td>90.476</td><td>100</td><td>6.699</td><td>2.735</td></tr>\n",
       "</tbody>\n",
       "</table>\n"
      ],
      "text/latex": [
       "A matrix: 1 × 8 of type dbl\n",
       "\\begin{tabular}{r|llllllll}\n",
       "  & Min. & 1st Qu. & Median & Mean & 3rd Qu. & Max. & sd & sd\\_err\\_of\\_mean\\\\\n",
       "\\hline\n",
       "\tClostest non-target (seqid) & 80.909 & 83.019 & 87.745 & 88.44145 & 90.476 & 100 & 6.699 & 2.735\\\\\n",
       "\\end{tabular}\n"
      ],
      "text/markdown": [
       "\n",
       "A matrix: 1 × 8 of type dbl\n",
       "\n",
       "| <!--/--> | Min. | 1st Qu. | Median | Mean | 3rd Qu. | Max. | sd | sd_err_of_mean |\n",
       "|---|---|---|---|---|---|---|---|---|\n",
       "| Clostest non-target (seqid) | 80.909 | 83.019 | 87.745 | 88.44145 | 90.476 | 100 | 6.699 | 2.735 |\n",
       "\n"
      ],
      "text/plain": [
       "                            Min.   1st Qu. Median Mean     3rd Qu. Max. sd   \n",
       "Clostest non-target (seqid) 80.909 83.019  87.745 88.44145 90.476  100  6.699\n",
       "                            sd_err_of_mean\n",
       "Clostest non-target (seqid) 2.735         "
      ]
     },
     "metadata": {},
     "output_type": "display_data"
    }
   ],
   "source": [
    "# clusters with the most distant non-target relatives\n",
    "cds_blast %>%\n",
    "    group_by(cluster_id) %>%\n",
    "    mutate(max_pident = max(pident)) %>% \n",
    "    .$max_pident %>% summary_x('Clostest non-target (seqid)')"
   ]
  },
  {
   "cell_type": "code",
   "execution_count": 136,
   "metadata": {
    "execution": {
     "iopub.execute_input": "2021-02-09T19:43:42.516811Z",
     "iopub.status.busy": "2021-02-09T19:43:42.514434Z",
     "iopub.status.idle": "2021-02-09T19:43:42.548291Z"
    }
   },
   "outputs": [
    {
     "name": "stdout",
     "output_type": "stream",
     "text": [
      "No. of unique clusters: 8 \n"
     ]
    }
   ],
   "source": [
    "# clusters with the most distant non-target relatives\n",
    "cds_blast_f = cds_blast %>%\n",
    "    group_by(cluster_id) %>%\n",
    "    mutate(max_pident = max(pident)) %>%\n",
    "    ungroup() %>%\n",
    "    filter(max_pident < 90)\n",
    "cds_blast_f %>% unique_n('clusters', cluster_id)"
   ]
  },
  {
   "cell_type": "code",
   "execution_count": 137,
   "metadata": {
    "execution": {
     "iopub.execute_input": "2021-02-09T19:43:44.843429Z",
     "iopub.status.busy": "2021-02-09T19:43:44.841108Z",
     "iopub.status.idle": "2021-02-09T19:43:44.922949Z"
    }
   },
   "outputs": [
    {
     "data": {
      "text/html": [
       "<table>\n",
       "<caption>A tibble: 6 × 23</caption>\n",
       "<thead>\n",
       "\t<tr><th scope=col>gene_type</th><th scope=col>cluster_id</th><th scope=col>primer_set</th><th scope=col>amplicon_size_consensus</th><th scope=col>amplicon_size_avg</th><th scope=col>amplicon_size_sd</th><th scope=col>primer_id</th><th scope=col>primer_type</th><th scope=col>sequence</th><th scope=col>length</th><th scope=col>⋯</th><th scope=col>position_end</th><th scope=col>Tm_avg</th><th scope=col>Tm_sd</th><th scope=col>GC_avg</th><th scope=col>GC_sd</th><th scope=col>hairpin_avg</th><th scope=col>hairpin_sd</th><th scope=col>homodimer_avg</th><th scope=col>homodimer_sd</th><th scope=col>n</th></tr>\n",
       "\t<tr><th scope=col>&lt;fct&gt;</th><th scope=col>&lt;int&gt;</th><th scope=col>&lt;int&gt;</th><th scope=col>&lt;int&gt;</th><th scope=col>&lt;dbl&gt;</th><th scope=col>&lt;dbl&gt;</th><th scope=col>&lt;fct&gt;</th><th scope=col>&lt;fct&gt;</th><th scope=col>&lt;fct&gt;</th><th scope=col>&lt;int&gt;</th><th scope=col>⋯</th><th scope=col>&lt;int&gt;</th><th scope=col>&lt;dbl&gt;</th><th scope=col>&lt;dbl&gt;</th><th scope=col>&lt;dbl&gt;</th><th scope=col>&lt;dbl&gt;</th><th scope=col>&lt;dbl&gt;</th><th scope=col>&lt;dbl&gt;</th><th scope=col>&lt;dbl&gt;</th><th scope=col>&lt;dbl&gt;</th><th scope=col>&lt;int&gt;</th></tr>\n",
       "</thead>\n",
       "<tbody>\n",
       "\t<tr><td>cds</td><td>43</td><td>379</td><td>143</td><td>143</td><td>0</td><td>379f</td><td>PRIMER_LEFT </td><td>YTGCARGAYGARCACAGCC </td><td>19</td><td>⋯</td><td>340</td><td>60.67547</td><td>1.960398</td><td>57.89474</td><td>5.263158</td><td>30.84537</td><td>18.40668</td><td>-11.62453</td><td>15.38513</td><td>2</td></tr>\n",
       "\t<tr><td>cds</td><td>43</td><td>379</td><td>143</td><td>143</td><td>0</td><td>379r</td><td>PRIMER_RIGHT</td><td>GAYTCGTGTGMTGGYTGTGC</td><td>20</td><td>⋯</td><td>464</td><td>61.63802</td><td>1.898903</td><td>57.50000</td><td>4.330127</td><td> 0.00000</td><td> 0.00000</td><td>-19.28684</td><td>12.79022</td><td>2</td></tr>\n",
       "\t<tr><td>⋮</td><td>⋮</td><td>⋮</td><td>⋮</td><td>⋮</td><td>⋮</td><td>⋮</td><td>⋮</td><td>⋮</td><td>⋮</td><td>⋱</td><td>⋮</td><td>⋮</td><td>⋮</td><td>⋮</td><td>⋮</td><td>⋮</td><td>⋮</td><td>⋮</td><td>⋮</td><td>⋮</td></tr>\n",
       "\t<tr><td>cds</td><td>92</td><td>194</td><td>162</td><td>162</td><td>0</td><td>194f</td><td>PRIMER_LEFT </td><td>ATMARRACMCACTGCAGGGA </td><td>20</td><td>⋯</td><td>218</td><td>59.46321</td><td>1.950136</td><td>50.0000</td><td>5.00000</td><td>31.66945</td><td>25.00642</td><td> 23.65815</td><td>2.913841</td><td>2</td></tr>\n",
       "\t<tr><td>cds</td><td>92</td><td>194</td><td>162</td><td>162</td><td>0</td><td>194r</td><td>PRIMER_RIGHT</td><td>TCCGTGYTCAACYTTYTTCCT</td><td>21</td><td>⋯</td><td>360</td><td>59.45613</td><td>1.528516</td><td>45.2381</td><td>4.12393</td><td> 0.00000</td><td> 0.00000</td><td>-28.69132</td><td>6.035690</td><td>2</td></tr>\n",
       "</tbody>\n",
       "</table>\n"
      ],
      "text/latex": [
       "A tibble: 6 × 23\n",
       "\\begin{tabular}{lllllllllllllllllllll}\n",
       " gene\\_type & cluster\\_id & primer\\_set & amplicon\\_size\\_consensus & amplicon\\_size\\_avg & amplicon\\_size\\_sd & primer\\_id & primer\\_type & sequence & length & ⋯ & position\\_end & Tm\\_avg & Tm\\_sd & GC\\_avg & GC\\_sd & hairpin\\_avg & hairpin\\_sd & homodimer\\_avg & homodimer\\_sd & n\\\\\n",
       " <fct> & <int> & <int> & <int> & <dbl> & <dbl> & <fct> & <fct> & <fct> & <int> & ⋯ & <int> & <dbl> & <dbl> & <dbl> & <dbl> & <dbl> & <dbl> & <dbl> & <dbl> & <int>\\\\\n",
       "\\hline\n",
       "\t cds & 43 & 379 & 143 & 143 & 0 & 379f & PRIMER\\_LEFT  & YTGCARGAYGARCACAGCC  & 19 & ⋯ & 340 & 60.67547 & 1.960398 & 57.89474 & 5.263158 & 30.84537 & 18.40668 & -11.62453 & 15.38513 & 2\\\\\n",
       "\t cds & 43 & 379 & 143 & 143 & 0 & 379r & PRIMER\\_RIGHT & GAYTCGTGTGMTGGYTGTGC & 20 & ⋯ & 464 & 61.63802 & 1.898903 & 57.50000 & 4.330127 &  0.00000 &  0.00000 & -19.28684 & 12.79022 & 2\\\\\n",
       "\t ⋮ & ⋮ & ⋮ & ⋮ & ⋮ & ⋮ & ⋮ & ⋮ & ⋮ & ⋮ & ⋱ & ⋮ & ⋮ & ⋮ & ⋮ & ⋮ & ⋮ & ⋮ & ⋮ & ⋮ & ⋮\\\\\n",
       "\t cds & 92 & 194 & 162 & 162 & 0 & 194f & PRIMER\\_LEFT  & ATMARRACMCACTGCAGGGA  & 20 & ⋯ & 218 & 59.46321 & 1.950136 & 50.0000 & 5.00000 & 31.66945 & 25.00642 &  23.65815 & 2.913841 & 2\\\\\n",
       "\t cds & 92 & 194 & 162 & 162 & 0 & 194r & PRIMER\\_RIGHT & TCCGTGYTCAACYTTYTTCCT & 21 & ⋯ & 360 & 59.45613 & 1.528516 & 45.2381 & 4.12393 &  0.00000 &  0.00000 & -28.69132 & 6.035690 & 2\\\\\n",
       "\\end{tabular}\n"
      ],
      "text/markdown": [
       "\n",
       "A tibble: 6 × 23\n",
       "\n",
       "| gene_type &lt;fct&gt; | cluster_id &lt;int&gt; | primer_set &lt;int&gt; | amplicon_size_consensus &lt;int&gt; | amplicon_size_avg &lt;dbl&gt; | amplicon_size_sd &lt;dbl&gt; | primer_id &lt;fct&gt; | primer_type &lt;fct&gt; | sequence &lt;fct&gt; | length &lt;int&gt; | ⋯ ⋯ | position_end &lt;int&gt; | Tm_avg &lt;dbl&gt; | Tm_sd &lt;dbl&gt; | GC_avg &lt;dbl&gt; | GC_sd &lt;dbl&gt; | hairpin_avg &lt;dbl&gt; | hairpin_sd &lt;dbl&gt; | homodimer_avg &lt;dbl&gt; | homodimer_sd &lt;dbl&gt; | n &lt;int&gt; |\n",
       "|---|---|---|---|---|---|---|---|---|---|---|---|---|---|---|---|---|---|---|---|---|\n",
       "| cds | 43 | 379 | 143 | 143 | 0 | 379f | PRIMER_LEFT  | YTGCARGAYGARCACAGCC  | 19 | ⋯ | 340 | 60.67547 | 1.960398 | 57.89474 | 5.263158 | 30.84537 | 18.40668 | -11.62453 | 15.38513 | 2 |\n",
       "| cds | 43 | 379 | 143 | 143 | 0 | 379r | PRIMER_RIGHT | GAYTCGTGTGMTGGYTGTGC | 20 | ⋯ | 464 | 61.63802 | 1.898903 | 57.50000 | 4.330127 |  0.00000 |  0.00000 | -19.28684 | 12.79022 | 2 |\n",
       "| ⋮ | ⋮ | ⋮ | ⋮ | ⋮ | ⋮ | ⋮ | ⋮ | ⋮ | ⋮ | ⋱ | ⋮ | ⋮ | ⋮ | ⋮ | ⋮ | ⋮ | ⋮ | ⋮ | ⋮ | ⋮ |\n",
       "| cds | 92 | 194 | 162 | 162 | 0 | 194f | PRIMER_LEFT  | ATMARRACMCACTGCAGGGA  | 20 | ⋯ | 218 | 59.46321 | 1.950136 | 50.0000 | 5.00000 | 31.66945 | 25.00642 |  23.65815 | 2.913841 | 2 |\n",
       "| cds | 92 | 194 | 162 | 162 | 0 | 194r | PRIMER_RIGHT | TCCGTGYTCAACYTTYTTCCT | 21 | ⋯ | 360 | 59.45613 | 1.528516 | 45.2381 | 4.12393 |  0.00000 |  0.00000 | -28.69132 | 6.035690 | 2 |\n",
       "\n"
      ],
      "text/plain": [
       "  gene_type cluster_id primer_set amplicon_size_consensus amplicon_size_avg\n",
       "1 cds       43         379        143                     143              \n",
       "2 cds       43         379        143                     143              \n",
       "⋮ ⋮         ⋮          ⋮          ⋮                       ⋮                \n",
       "5 cds       92         194        162                     162              \n",
       "6 cds       92         194        162                     162              \n",
       "  amplicon_size_sd primer_id primer_type  sequence              length ⋯\n",
       "1 0                379f      PRIMER_LEFT  YTGCARGAYGARCACAGCC   19     ⋯\n",
       "2 0                379r      PRIMER_RIGHT GAYTCGTGTGMTGGYTGTGC  20     ⋯\n",
       "⋮ ⋮                ⋮         ⋮            ⋮                     ⋮      ⋱\n",
       "5 0                194f      PRIMER_LEFT  ATMARRACMCACTGCAGGGA  20     ⋯\n",
       "6 0                194r      PRIMER_RIGHT TCCGTGYTCAACYTTYTTCCT 21     ⋯\n",
       "  position_end Tm_avg   Tm_sd    GC_avg   GC_sd    hairpin_avg hairpin_sd\n",
       "1 340          60.67547 1.960398 57.89474 5.263158 30.84537    18.40668  \n",
       "2 464          61.63802 1.898903 57.50000 4.330127  0.00000     0.00000  \n",
       "⋮ ⋮            ⋮        ⋮        ⋮        ⋮        ⋮           ⋮         \n",
       "5 218          59.46321 1.950136 50.0000  5.00000  31.66945    25.00642  \n",
       "6 360          59.45613 1.528516 45.2381  4.12393   0.00000     0.00000  \n",
       "  homodimer_avg homodimer_sd n\n",
       "1 -11.62453     15.38513     2\n",
       "2 -19.28684     12.79022     2\n",
       "⋮ ⋮             ⋮            ⋮\n",
       "5  23.65815     2.913841     2\n",
       "6 -28.69132     6.035690     2"
      ]
     },
     "metadata": {},
     "output_type": "display_data"
    }
   ],
   "source": [
    "# filtering primers\n",
    "info_f = info %>%\n",
    "    filter(gene_type == 'cds') %>%\n",
    "    semi_join(cds_blast_f, c('cluster_id')) %>%\n",
    "    filter(degeneracy <= 16, Tm_sd <= 2) %>%\n",
    "    group_by(gene_type, cluster_id, primer_set) %>%\n",
    "    mutate(n = n()) %>%\n",
    "    ungroup() %>%\n",
    "    filter(n == 2) \n",
    "info_f "
   ]
  },
  {
   "cell_type": "code",
   "execution_count": 141,
   "metadata": {
    "execution": {
     "iopub.execute_input": "2021-02-09T19:44:41.133682Z",
     "iopub.status.busy": "2021-02-09T19:44:41.131540Z",
     "iopub.status.idle": "2021-02-09T19:44:41.198629Z"
    }
   },
   "outputs": [
    {
     "data": {
      "text/html": [
       "<table>\n",
       "<caption>A tibble: 6 × 23</caption>\n",
       "<thead>\n",
       "\t<tr><th scope=col>gene_type</th><th scope=col>cluster_id</th><th scope=col>primer_set</th><th scope=col>amplicon_size_consensus</th><th scope=col>amplicon_size_avg</th><th scope=col>amplicon_size_sd</th><th scope=col>primer_id</th><th scope=col>primer_type</th><th scope=col>sequence</th><th scope=col>length</th><th scope=col>degeneracy</th><th scope=col>degeneracy_3prime</th><th scope=col>position_start</th><th scope=col>position_end</th><th scope=col>Tm_avg</th><th scope=col>Tm_sd</th><th scope=col>GC_avg</th><th scope=col>GC_sd</th><th scope=col>hairpin_avg</th><th scope=col>hairpin_sd</th><th scope=col>homodimer_avg</th><th scope=col>homodimer_sd</th><th scope=col>n</th></tr>\n",
       "\t<tr><th scope=col>&lt;fct&gt;</th><th scope=col>&lt;int&gt;</th><th scope=col>&lt;int&gt;</th><th scope=col>&lt;int&gt;</th><th scope=col>&lt;dbl&gt;</th><th scope=col>&lt;dbl&gt;</th><th scope=col>&lt;fct&gt;</th><th scope=col>&lt;fct&gt;</th><th scope=col>&lt;fct&gt;</th><th scope=col>&lt;int&gt;</th><th scope=col>&lt;int&gt;</th><th scope=col>&lt;int&gt;</th><th scope=col>&lt;int&gt;</th><th scope=col>&lt;int&gt;</th><th scope=col>&lt;dbl&gt;</th><th scope=col>&lt;dbl&gt;</th><th scope=col>&lt;dbl&gt;</th><th scope=col>&lt;dbl&gt;</th><th scope=col>&lt;dbl&gt;</th><th scope=col>&lt;dbl&gt;</th><th scope=col>&lt;dbl&gt;</th><th scope=col>&lt;dbl&gt;</th><th scope=col>&lt;int&gt;</th></tr>\n",
       "</thead>\n",
       "<tbody>\n",
       "\t<tr><td>cds</td><td>43</td><td>379</td><td>143</td><td>143</td><td>0</td><td>379r</td><td>PRIMER_RIGHT</td><td>GAYTCGTGTGMTGGYTGTGC </td><td>20</td><td> 8</td><td>1</td><td>444</td><td>464</td><td>61.63802</td><td>1.898903</td><td>57.50000</td><td>4.330127</td><td> 0.00000</td><td> 0.00000</td><td>-19.28684</td><td>12.790224</td><td>2</td></tr>\n",
       "\t<tr><td>cds</td><td>43</td><td>379</td><td>143</td><td>143</td><td>0</td><td>379f</td><td>PRIMER_LEFT </td><td>YTGCARGAYGARCACAGCC  </td><td>19</td><td>16</td><td>1</td><td>321</td><td>340</td><td>60.67547</td><td>1.960398</td><td>57.89474</td><td>5.263158</td><td>30.84537</td><td>18.40668</td><td>-11.62453</td><td>15.385125</td><td>2</td></tr>\n",
       "\t<tr><td>cds</td><td>92</td><td>174</td><td>161</td><td>161</td><td>0</td><td>174r</td><td>PRIMER_RIGHT</td><td>TCCGTGYTCAACYTTYTTCCT</td><td>21</td><td> 8</td><td>1</td><td>339</td><td>360</td><td>59.45613</td><td>1.528516</td><td>45.23810</td><td>4.123930</td><td> 0.00000</td><td> 0.00000</td><td>-28.69132</td><td> 6.035690</td><td>2</td></tr>\n",
       "\t<tr><td>cds</td><td>92</td><td>194</td><td>162</td><td>162</td><td>0</td><td>194r</td><td>PRIMER_RIGHT</td><td>TCCGTGYTCAACYTTYTTCCT</td><td>21</td><td> 8</td><td>1</td><td>339</td><td>360</td><td>59.45613</td><td>1.528516</td><td>45.23810</td><td>4.123930</td><td> 0.00000</td><td> 0.00000</td><td>-28.69132</td><td> 6.035690</td><td>2</td></tr>\n",
       "\t<tr><td>cds</td><td>92</td><td>174</td><td>161</td><td>161</td><td>0</td><td>174f</td><td>PRIMER_LEFT </td><td>TMARRACMCACTGCAGGGAC </td><td>20</td><td>16</td><td>1</td><td>199</td><td>219</td><td>60.41481</td><td>1.915840</td><td>55.00000</td><td>5.000000</td><td>31.66945</td><td>25.00642</td><td> 23.65815</td><td> 2.913841</td><td>2</td></tr>\n",
       "\t<tr><td>cds</td><td>92</td><td>194</td><td>162</td><td>162</td><td>0</td><td>194f</td><td>PRIMER_LEFT </td><td>ATMARRACMCACTGCAGGGA </td><td>20</td><td>16</td><td>1</td><td>198</td><td>218</td><td>59.46321</td><td>1.950136</td><td>50.00000</td><td>5.000000</td><td>31.66945</td><td>25.00642</td><td> 23.65815</td><td> 2.913841</td><td>2</td></tr>\n",
       "</tbody>\n",
       "</table>\n"
      ],
      "text/latex": [
       "A tibble: 6 × 23\n",
       "\\begin{tabular}{lllllllllllllllllllllll}\n",
       " gene\\_type & cluster\\_id & primer\\_set & amplicon\\_size\\_consensus & amplicon\\_size\\_avg & amplicon\\_size\\_sd & primer\\_id & primer\\_type & sequence & length & degeneracy & degeneracy\\_3prime & position\\_start & position\\_end & Tm\\_avg & Tm\\_sd & GC\\_avg & GC\\_sd & hairpin\\_avg & hairpin\\_sd & homodimer\\_avg & homodimer\\_sd & n\\\\\n",
       " <fct> & <int> & <int> & <int> & <dbl> & <dbl> & <fct> & <fct> & <fct> & <int> & <int> & <int> & <int> & <int> & <dbl> & <dbl> & <dbl> & <dbl> & <dbl> & <dbl> & <dbl> & <dbl> & <int>\\\\\n",
       "\\hline\n",
       "\t cds & 43 & 379 & 143 & 143 & 0 & 379r & PRIMER\\_RIGHT & GAYTCGTGTGMTGGYTGTGC  & 20 &  8 & 1 & 444 & 464 & 61.63802 & 1.898903 & 57.50000 & 4.330127 &  0.00000 &  0.00000 & -19.28684 & 12.790224 & 2\\\\\n",
       "\t cds & 43 & 379 & 143 & 143 & 0 & 379f & PRIMER\\_LEFT  & YTGCARGAYGARCACAGCC   & 19 & 16 & 1 & 321 & 340 & 60.67547 & 1.960398 & 57.89474 & 5.263158 & 30.84537 & 18.40668 & -11.62453 & 15.385125 & 2\\\\\n",
       "\t cds & 92 & 174 & 161 & 161 & 0 & 174r & PRIMER\\_RIGHT & TCCGTGYTCAACYTTYTTCCT & 21 &  8 & 1 & 339 & 360 & 59.45613 & 1.528516 & 45.23810 & 4.123930 &  0.00000 &  0.00000 & -28.69132 &  6.035690 & 2\\\\\n",
       "\t cds & 92 & 194 & 162 & 162 & 0 & 194r & PRIMER\\_RIGHT & TCCGTGYTCAACYTTYTTCCT & 21 &  8 & 1 & 339 & 360 & 59.45613 & 1.528516 & 45.23810 & 4.123930 &  0.00000 &  0.00000 & -28.69132 &  6.035690 & 2\\\\\n",
       "\t cds & 92 & 174 & 161 & 161 & 0 & 174f & PRIMER\\_LEFT  & TMARRACMCACTGCAGGGAC  & 20 & 16 & 1 & 199 & 219 & 60.41481 & 1.915840 & 55.00000 & 5.000000 & 31.66945 & 25.00642 &  23.65815 &  2.913841 & 2\\\\\n",
       "\t cds & 92 & 194 & 162 & 162 & 0 & 194f & PRIMER\\_LEFT  & ATMARRACMCACTGCAGGGA  & 20 & 16 & 1 & 198 & 218 & 59.46321 & 1.950136 & 50.00000 & 5.000000 & 31.66945 & 25.00642 &  23.65815 &  2.913841 & 2\\\\\n",
       "\\end{tabular}\n"
      ],
      "text/markdown": [
       "\n",
       "A tibble: 6 × 23\n",
       "\n",
       "| gene_type &lt;fct&gt; | cluster_id &lt;int&gt; | primer_set &lt;int&gt; | amplicon_size_consensus &lt;int&gt; | amplicon_size_avg &lt;dbl&gt; | amplicon_size_sd &lt;dbl&gt; | primer_id &lt;fct&gt; | primer_type &lt;fct&gt; | sequence &lt;fct&gt; | length &lt;int&gt; | degeneracy &lt;int&gt; | degeneracy_3prime &lt;int&gt; | position_start &lt;int&gt; | position_end &lt;int&gt; | Tm_avg &lt;dbl&gt; | Tm_sd &lt;dbl&gt; | GC_avg &lt;dbl&gt; | GC_sd &lt;dbl&gt; | hairpin_avg &lt;dbl&gt; | hairpin_sd &lt;dbl&gt; | homodimer_avg &lt;dbl&gt; | homodimer_sd &lt;dbl&gt; | n &lt;int&gt; |\n",
       "|---|---|---|---|---|---|---|---|---|---|---|---|---|---|---|---|---|---|---|---|---|---|---|\n",
       "| cds | 43 | 379 | 143 | 143 | 0 | 379r | PRIMER_RIGHT | GAYTCGTGTGMTGGYTGTGC  | 20 |  8 | 1 | 444 | 464 | 61.63802 | 1.898903 | 57.50000 | 4.330127 |  0.00000 |  0.00000 | -19.28684 | 12.790224 | 2 |\n",
       "| cds | 43 | 379 | 143 | 143 | 0 | 379f | PRIMER_LEFT  | YTGCARGAYGARCACAGCC   | 19 | 16 | 1 | 321 | 340 | 60.67547 | 1.960398 | 57.89474 | 5.263158 | 30.84537 | 18.40668 | -11.62453 | 15.385125 | 2 |\n",
       "| cds | 92 | 174 | 161 | 161 | 0 | 174r | PRIMER_RIGHT | TCCGTGYTCAACYTTYTTCCT | 21 |  8 | 1 | 339 | 360 | 59.45613 | 1.528516 | 45.23810 | 4.123930 |  0.00000 |  0.00000 | -28.69132 |  6.035690 | 2 |\n",
       "| cds | 92 | 194 | 162 | 162 | 0 | 194r | PRIMER_RIGHT | TCCGTGYTCAACYTTYTTCCT | 21 |  8 | 1 | 339 | 360 | 59.45613 | 1.528516 | 45.23810 | 4.123930 |  0.00000 |  0.00000 | -28.69132 |  6.035690 | 2 |\n",
       "| cds | 92 | 174 | 161 | 161 | 0 | 174f | PRIMER_LEFT  | TMARRACMCACTGCAGGGAC  | 20 | 16 | 1 | 199 | 219 | 60.41481 | 1.915840 | 55.00000 | 5.000000 | 31.66945 | 25.00642 |  23.65815 |  2.913841 | 2 |\n",
       "| cds | 92 | 194 | 162 | 162 | 0 | 194f | PRIMER_LEFT  | ATMARRACMCACTGCAGGGA  | 20 | 16 | 1 | 198 | 218 | 59.46321 | 1.950136 | 50.00000 | 5.000000 | 31.66945 | 25.00642 |  23.65815 |  2.913841 | 2 |\n",
       "\n"
      ],
      "text/plain": [
       "  gene_type cluster_id primer_set amplicon_size_consensus amplicon_size_avg\n",
       "1 cds       43         379        143                     143              \n",
       "2 cds       43         379        143                     143              \n",
       "3 cds       92         174        161                     161              \n",
       "4 cds       92         194        162                     162              \n",
       "5 cds       92         174        161                     161              \n",
       "6 cds       92         194        162                     162              \n",
       "  amplicon_size_sd primer_id primer_type  sequence              length\n",
       "1 0                379r      PRIMER_RIGHT GAYTCGTGTGMTGGYTGTGC  20    \n",
       "2 0                379f      PRIMER_LEFT  YTGCARGAYGARCACAGCC   19    \n",
       "3 0                174r      PRIMER_RIGHT TCCGTGYTCAACYTTYTTCCT 21    \n",
       "4 0                194r      PRIMER_RIGHT TCCGTGYTCAACYTTYTTCCT 21    \n",
       "5 0                174f      PRIMER_LEFT  TMARRACMCACTGCAGGGAC  20    \n",
       "6 0                194f      PRIMER_LEFT  ATMARRACMCACTGCAGGGA  20    \n",
       "  degeneracy degeneracy_3prime position_start position_end Tm_avg   Tm_sd   \n",
       "1  8         1                 444            464          61.63802 1.898903\n",
       "2 16         1                 321            340          60.67547 1.960398\n",
       "3  8         1                 339            360          59.45613 1.528516\n",
       "4  8         1                 339            360          59.45613 1.528516\n",
       "5 16         1                 199            219          60.41481 1.915840\n",
       "6 16         1                 198            218          59.46321 1.950136\n",
       "  GC_avg   GC_sd    hairpin_avg hairpin_sd homodimer_avg homodimer_sd n\n",
       "1 57.50000 4.330127  0.00000     0.00000   -19.28684     12.790224    2\n",
       "2 57.89474 5.263158 30.84537    18.40668   -11.62453     15.385125    2\n",
       "3 45.23810 4.123930  0.00000     0.00000   -28.69132      6.035690    2\n",
       "4 45.23810 4.123930  0.00000     0.00000   -28.69132      6.035690    2\n",
       "5 55.00000 5.000000 31.66945    25.00642    23.65815      2.913841    2\n",
       "6 50.00000 5.000000 31.66945    25.00642    23.65815      2.913841    2"
      ]
     },
     "metadata": {},
     "output_type": "display_data"
    }
   ],
   "source": [
    "df.dims(30,30)\n",
    "info_f %>%\n",
    "    arrange(cluster_id, Tm_sd, degeneracy, primer_set) %>%\n",
    "    head(n=30)\n",
    "df.dims()"
   ]
  },
  {
   "cell_type": "code",
   "execution_count": 139,
   "metadata": {
    "execution": {
     "iopub.execute_input": "2021-02-09T19:43:47.867205Z",
     "iopub.status.busy": "2021-02-09T19:43:47.864939Z",
     "iopub.status.idle": "2021-02-09T19:43:47.900774Z"
    }
   },
   "outputs": [
    {
     "data": {
      "text/html": [
       "<table>\n",
       "<caption>A data.frame: 2 × 2</caption>\n",
       "<thead>\n",
       "\t<tr><th scope=col>cluster_id</th><th scope=col>annotation</th></tr>\n",
       "\t<tr><th scope=col>&lt;int&gt;</th><th scope=col>&lt;fct&gt;</th></tr>\n",
       "</thead>\n",
       "<tbody>\n",
       "\t<tr><td>43</td><td>Coenzyme F420 hydrogenase subunit gamma</td></tr>\n",
       "\t<tr><td>92</td><td>30S ribosomal protein S19              </td></tr>\n",
       "</tbody>\n",
       "</table>\n"
      ],
      "text/latex": [
       "A data.frame: 2 × 2\n",
       "\\begin{tabular}{ll}\n",
       " cluster\\_id & annotation\\\\\n",
       " <int> & <fct>\\\\\n",
       "\\hline\n",
       "\t 43 & Coenzyme F420 hydrogenase subunit gamma\\\\\n",
       "\t 92 & 30S ribosomal protein S19              \\\\\n",
       "\\end{tabular}\n"
      ],
      "text/markdown": [
       "\n",
       "A data.frame: 2 × 2\n",
       "\n",
       "| cluster_id &lt;int&gt; | annotation &lt;fct&gt; |\n",
       "|---|---|\n",
       "| 43 | Coenzyme F420 hydrogenase subunit gamma |\n",
       "| 92 | 30S ribosomal protein S19               |\n",
       "\n"
      ],
      "text/plain": [
       "  cluster_id annotation                             \n",
       "1 43         Coenzyme F420 hydrogenase subunit gamma\n",
       "2 92         30S ribosomal protein S19              "
      ]
     },
     "metadata": {},
     "output_type": "display_data"
    }
   ],
   "source": [
    "# annotationes of clusters hit\n",
    "df.dims(30)\n",
    "clst %>%\n",
    "    semi_join(info_f, c('gene_type', 'cluster_id')) %>%\n",
    "    distinct(cluster_id, annotation)\n",
    "df.dims()"
   ]
  },
  {
   "cell_type": "code",
   "execution_count": 140,
   "metadata": {
    "execution": {
     "iopub.execute_input": "2021-02-09T19:43:50.068120Z",
     "iopub.status.busy": "2021-02-09T19:43:50.065706Z",
     "iopub.status.idle": "2021-02-09T19:43:50.117271Z"
    }
   },
   "outputs": [
    {
     "data": {
      "text/html": [
       "<table>\n",
       "<caption>A tibble: 3 × 4</caption>\n",
       "<thead>\n",
       "\t<tr><th scope=col>cluster_id</th><th scope=col>subject_name</th><th scope=col>sscinames</th><th scope=col>max_pident</th></tr>\n",
       "\t<tr><th scope=col>&lt;int&gt;</th><th scope=col>&lt;fct&gt;</th><th scope=col>&lt;fct&gt;</th><th scope=col>&lt;dbl&gt;</th></tr>\n",
       "</thead>\n",
       "<tbody>\n",
       "\t<tr><td>43</td><td>coenzyme F420 hydrogenase subunit gamma [Methanobacteriaceae archaeon]</td><td>Methanobacteriaceae archaeon    </td><td>89.956</td></tr>\n",
       "\t<tr><td>92</td><td>30S ribosomal protein S19 [Methanobacterium sp. PtaB.Bin024]          </td><td>Methanobacterium sp. PtaB.Bin024</td><td>86.765</td></tr>\n",
       "\t<tr><td>92</td><td>30S ribosomal protein S19 [Methanobacteriaceae archaeon]              </td><td>Methanobacteriaceae archaeon    </td><td>86.765</td></tr>\n",
       "</tbody>\n",
       "</table>\n"
      ],
      "text/latex": [
       "A tibble: 3 × 4\n",
       "\\begin{tabular}{llll}\n",
       " cluster\\_id & subject\\_name & sscinames & max\\_pident\\\\\n",
       " <int> & <fct> & <fct> & <dbl>\\\\\n",
       "\\hline\n",
       "\t 43 & coenzyme F420 hydrogenase subunit gamma {[}Methanobacteriaceae archaeon{]} & Methanobacteriaceae archaeon     & 89.956\\\\\n",
       "\t 92 & 30S ribosomal protein S19 {[}Methanobacterium sp. PtaB.Bin024{]}           & Methanobacterium sp. PtaB.Bin024 & 86.765\\\\\n",
       "\t 92 & 30S ribosomal protein S19 {[}Methanobacteriaceae archaeon{]}               & Methanobacteriaceae archaeon     & 86.765\\\\\n",
       "\\end{tabular}\n"
      ],
      "text/markdown": [
       "\n",
       "A tibble: 3 × 4\n",
       "\n",
       "| cluster_id &lt;int&gt; | subject_name &lt;fct&gt; | sscinames &lt;fct&gt; | max_pident &lt;dbl&gt; |\n",
       "|---|---|---|---|\n",
       "| 43 | coenzyme F420 hydrogenase subunit gamma [Methanobacteriaceae archaeon] | Methanobacteriaceae archaeon     | 89.956 |\n",
       "| 92 | 30S ribosomal protein S19 [Methanobacterium sp. PtaB.Bin024]           | Methanobacterium sp. PtaB.Bin024 | 86.765 |\n",
       "| 92 | 30S ribosomal protein S19 [Methanobacteriaceae archaeon]               | Methanobacteriaceae archaeon     | 86.765 |\n",
       "\n"
      ],
      "text/plain": [
       "  cluster_id\n",
       "1 43        \n",
       "2 92        \n",
       "3 92        \n",
       "  subject_name                                                          \n",
       "1 coenzyme F420 hydrogenase subunit gamma [Methanobacteriaceae archaeon]\n",
       "2 30S ribosomal protein S19 [Methanobacterium sp. PtaB.Bin024]          \n",
       "3 30S ribosomal protein S19 [Methanobacteriaceae archaeon]              \n",
       "  sscinames                        max_pident\n",
       "1 Methanobacteriaceae archaeon     89.956    \n",
       "2 Methanobacterium sp. PtaB.Bin024 86.765    \n",
       "3 Methanobacteriaceae archaeon     86.765    "
      ]
     },
     "metadata": {},
     "output_type": "display_data"
    }
   ],
   "source": [
    "# closest non-target hits\n",
    "df.dims(30)\n",
    "cds_blast_f %>%\n",
    "    filter(pident == max_pident) %>%\n",
    "    semi_join(info_f, c('cluster_id')) %>%\n",
    "    distinct(cluster_id, subject_name, sscinames, max_pident)\n",
    "df.dims()"
   ]
  },
  {
   "cell_type": "markdown",
   "metadata": {},
   "source": [
    "#### Writing table"
   ]
  },
  {
   "cell_type": "code",
   "execution_count": 143,
   "metadata": {
    "execution": {
     "iopub.execute_input": "2021-02-09T19:47:28.145564Z",
     "iopub.status.busy": "2021-02-09T19:47:28.143106Z",
     "iopub.status.idle": "2021-02-09T19:47:28.188075Z"
    }
   },
   "outputs": [
    {
     "name": "stdout",
     "output_type": "stream",
     "text": [
      "File written: /ebio/abt3_projects/software/dev/ll_pipelines/llprimer/experiments/methanothermobacter/primers/clust0.8/primers_c43-379fr.tsv \n"
     ]
    }
   ],
   "source": [
    "outF = file.path(work_dir, 'primers', 'clust0.8', 'primers_c43-379fr.tsv')\n",
    "info_f %>%\n",
    "    filter(primer_set == '379') %>%\n",
    "    write_table(outF)"
   ]
  },
  {
   "cell_type": "markdown",
   "metadata": {},
   "source": [
    "# sessionInfo"
   ]
  },
  {
   "cell_type": "code",
   "execution_count": 127,
   "metadata": {
    "execution": {
     "iopub.execute_input": "2021-02-09T18:40:07.229952Z",
     "iopub.status.busy": "2021-02-09T18:40:07.227910Z",
     "iopub.status.idle": "2021-02-09T18:40:08.157121Z"
    }
   },
   "outputs": [
    {
     "data": {
      "text/plain": [
       "R version 3.6.3 (2020-02-29)\n",
       "Platform: x86_64-conda_cos6-linux-gnu (64-bit)\n",
       "Running under: Ubuntu 18.04.5 LTS\n",
       "\n",
       "Matrix products: default\n",
       "BLAS/LAPACK: /ebio/abt3_projects/Georg_animal_feces/envs/tidyverse/lib/libopenblasp-r0.3.9.so\n",
       "\n",
       "locale:\n",
       " [1] LC_CTYPE=en_US.UTF-8       LC_NUMERIC=C              \n",
       " [3] LC_TIME=en_US.UTF-8        LC_COLLATE=en_US.UTF-8    \n",
       " [5] LC_MONETARY=en_US.UTF-8    LC_MESSAGES=en_US.UTF-8   \n",
       " [7] LC_PAPER=en_US.UTF-8       LC_NAME=C                 \n",
       " [9] LC_ADDRESS=C               LC_TELEPHONE=C            \n",
       "[11] LC_MEASUREMENT=en_US.UTF-8 LC_IDENTIFICATION=C       \n",
       "\n",
       "attached base packages:\n",
       "[1] stats     graphics  grDevices utils     datasets  methods   base     \n",
       "\n",
       "other attached packages:\n",
       "[1] LeyLabRMisc_0.1.6 ggplot2_3.3.1     tidyr_1.1.0       dplyr_1.0.0      \n",
       "\n",
       "loaded via a namespace (and not attached):\n",
       " [1] Rcpp_1.0.4.6     magrittr_1.5     munsell_0.5.0    tidyselect_1.1.0\n",
       " [5] uuid_0.1-4       colorspace_1.4-1 R6_2.4.1         rlang_0.4.6     \n",
       " [9] tools_3.6.3      grid_3.6.3       gtable_0.3.0     withr_2.2.0     \n",
       "[13] htmltools_0.4.0  ellipsis_0.3.1   digest_0.6.25    tibble_3.0.1    \n",
       "[17] lifecycle_0.2.0  crayon_1.3.4     IRdisplay_0.7.0  purrr_0.3.4     \n",
       "[21] repr_1.1.0       base64enc_0.1-3  vctrs_0.3.1      IRkernel_1.1    \n",
       "[25] glue_1.4.1       evaluate_0.14    stringi_1.4.6    pbdZMQ_0.3-3    \n",
       "[29] compiler_3.6.3   pillar_1.4.4     scales_1.1.1     generics_0.0.2  \n",
       "[33] jsonlite_1.6.1   pkgconfig_2.0.3 "
      ]
     },
     "metadata": {},
     "output_type": "display_data"
    }
   ],
   "source": [
    "sessionInfo()"
   ]
  },
  {
   "cell_type": "code",
   "execution_count": null,
   "metadata": {},
   "outputs": [],
   "source": []
  }
 ],
 "metadata": {
  "kernelspec": {
   "display_name": "R [conda env:Georg_animal_feces-tidyverse]",
   "language": "R",
   "name": "conda-env-Georg_animal_feces-tidyverse-r"
  },
  "language_info": {
   "codemirror_mode": "r",
   "file_extension": ".r",
   "mimetype": "text/x-r-source",
   "name": "R",
   "pygments_lexer": "r",
   "version": "3.6.3"
  }
 },
 "nbformat": 4,
 "nbformat_minor": 4
}
