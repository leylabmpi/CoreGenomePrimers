{
 "cells": [
  {
   "cell_type": "markdown",
   "metadata": {},
   "source": [
    "# Goal\n",
    "\n",
    "* Designing primers for Methanothermobacter\n",
    "  * Download genomes\n",
    "  * QC genomes\n",
    "  * Design primers"
   ]
  },
  {
   "cell_type": "markdown",
   "metadata": {},
   "source": [
    "# Var"
   ]
  },
  {
   "cell_type": "code",
   "execution_count": 79,
   "metadata": {
    "execution": {
     "iopub.execute_input": "2021-02-08T13:18:24.445518Z",
     "iopub.status.busy": "2021-02-08T13:18:24.443369Z",
     "iopub.status.idle": "2021-02-08T13:18:24.463576Z"
    }
   },
   "outputs": [],
   "source": [
    "work_dir = '/ebio/abt3_projects/software/dev/ll_pipelines/llprimer/experiments/methanothermobacter'\n",
    "clade = 'Methanothermobacter'\n",
    "taxid = 145260"
   ]
  },
  {
   "cell_type": "markdown",
   "metadata": {},
   "source": [
    "# Init"
   ]
  },
  {
   "cell_type": "code",
   "execution_count": 80,
   "metadata": {
    "execution": {
     "iopub.execute_input": "2021-02-08T13:18:24.713604Z",
     "iopub.status.busy": "2021-02-08T13:18:24.711537Z",
     "iopub.status.idle": "2021-02-08T13:18:24.738626Z"
    }
   },
   "outputs": [],
   "source": [
    "library(dplyr)\n",
    "library(tidyr)\n",
    "library(ggplot2)\n",
    "library(LeyLabRMisc)"
   ]
  },
  {
   "cell_type": "code",
   "execution_count": 81,
   "metadata": {
    "execution": {
     "iopub.execute_input": "2021-02-08T13:18:24.812978Z",
     "iopub.status.busy": "2021-02-08T13:18:24.811161Z",
     "iopub.status.idle": "2021-02-08T13:18:24.857749Z"
    }
   },
   "outputs": [
    {
     "name": "stdout",
     "output_type": "stream",
     "text": [
      "Directory already exists: /ebio/abt3_projects/software/dev/ll_pipelines/llprimer/experiments/methanothermobacter \n"
     ]
    }
   ],
   "source": [
    "df.dims()\n",
    "make_dir(work_dir)"
   ]
  },
  {
   "cell_type": "markdown",
   "metadata": {},
   "source": [
    "# Genome download\n",
    "\n",
    "* Downloading genomes from NCBI"
   ]
  },
  {
   "cell_type": "markdown",
   "metadata": {},
   "source": [
    "```\n",
    "OUTDIR=/ebio/abt3_projects/software/dev/ll_pipelines/llprimer/experiments/methanothermobacter/\n",
    "mkdir -p $OUTDIR\n",
    "ncbi-genome-download -p 12 -s genbank -F fasta --genera Methanothermobacter -o $OUTDIR archaea\n",
    "```"
   ]
  },
  {
   "cell_type": "markdown",
   "metadata": {},
   "source": [
    "# Genome quality"
   ]
  },
  {
   "cell_type": "code",
   "execution_count": 11,
   "metadata": {
    "execution": {
     "iopub.execute_input": "2021-01-19T14:33:10.932360Z",
     "iopub.status.busy": "2021-01-19T14:33:10.930351Z",
     "iopub.status.idle": "2021-01-19T14:33:10.990343Z"
    }
   },
   "outputs": [
    {
     "data": {
      "text/html": [
       "<table>\n",
       "<caption>A data.frame: 20 × 4</caption>\n",
       "<thead>\n",
       "\t<tr><th scope=col>Name</th><th scope=col>Fasta</th><th scope=col>Domain</th><th scope=col>Taxid</th></tr>\n",
       "\t<tr><th scope=col>&lt;chr&gt;</th><th scope=col>&lt;chr&gt;</th><th scope=col>&lt;fct&gt;</th><th scope=col>&lt;dbl&gt;</th></tr>\n",
       "</thead>\n",
       "<tbody>\n",
       "\t<tr><td>GCA_000008645.1_ASM864v1_genomic  </td><td>/ebio/abt3_projects/software/dev/ll_pipelines/llprimer/experiments/methanothermobacter/genbank/archaea/GCA_000008645.1/GCA_000008645.1_ASM864v1_genomic.fna.gz  </td><td>Bacteria</td><td>145260</td></tr>\n",
       "\t<tr><td>GCA_000145295.1_ASM14529v1_genomic</td><td>/ebio/abt3_projects/software/dev/ll_pipelines/llprimer/experiments/methanothermobacter/genbank/archaea/GCA_000145295.1/GCA_000145295.1_ASM14529v1_genomic.fna.gz</td><td>Bacteria</td><td>145260</td></tr>\n",
       "\t<tr><td>⋮</td><td>⋮</td><td>⋮</td><td>⋮</td></tr>\n",
       "\t<tr><td>GCA_014889545.1_ASM1488954v1_genomic</td><td>/ebio/abt3_projects/software/dev/ll_pipelines/llprimer/experiments/methanothermobacter/genbank/archaea/GCA_014889545.1/GCA_014889545.1_ASM1488954v1_genomic.fna.gz</td><td>Bacteria</td><td>145260</td></tr>\n",
       "\t<tr><td>GCA_900095815.1_SIV6_genomic        </td><td>/ebio/abt3_projects/software/dev/ll_pipelines/llprimer/experiments/methanothermobacter/genbank/archaea/GCA_900095815.1/GCA_900095815.1_SIV6_genomic.fna.gz        </td><td>Bacteria</td><td>145260</td></tr>\n",
       "</tbody>\n",
       "</table>\n"
      ],
      "text/latex": [
       "A data.frame: 20 × 4\n",
       "\\begin{tabular}{llll}\n",
       " Name & Fasta & Domain & Taxid\\\\\n",
       " <chr> & <chr> & <fct> & <dbl>\\\\\n",
       "\\hline\n",
       "\t GCA\\_000008645.1\\_ASM864v1\\_genomic   & /ebio/abt3\\_projects/software/dev/ll\\_pipelines/llprimer/experiments/methanothermobacter/genbank/archaea/GCA\\_000008645.1/GCA\\_000008645.1\\_ASM864v1\\_genomic.fna.gz   & Bacteria & 145260\\\\\n",
       "\t GCA\\_000145295.1\\_ASM14529v1\\_genomic & /ebio/abt3\\_projects/software/dev/ll\\_pipelines/llprimer/experiments/methanothermobacter/genbank/archaea/GCA\\_000145295.1/GCA\\_000145295.1\\_ASM14529v1\\_genomic.fna.gz & Bacteria & 145260\\\\\n",
       "\t ⋮ & ⋮ & ⋮ & ⋮\\\\\n",
       "\t GCA\\_014889545.1\\_ASM1488954v1\\_genomic & /ebio/abt3\\_projects/software/dev/ll\\_pipelines/llprimer/experiments/methanothermobacter/genbank/archaea/GCA\\_014889545.1/GCA\\_014889545.1\\_ASM1488954v1\\_genomic.fna.gz & Bacteria & 145260\\\\\n",
       "\t GCA\\_900095815.1\\_SIV6\\_genomic         & /ebio/abt3\\_projects/software/dev/ll\\_pipelines/llprimer/experiments/methanothermobacter/genbank/archaea/GCA\\_900095815.1/GCA\\_900095815.1\\_SIV6\\_genomic.fna.gz         & Bacteria & 145260\\\\\n",
       "\\end{tabular}\n"
      ],
      "text/markdown": [
       "\n",
       "A data.frame: 20 × 4\n",
       "\n",
       "| Name &lt;chr&gt; | Fasta &lt;chr&gt; | Domain &lt;fct&gt; | Taxid &lt;dbl&gt; |\n",
       "|---|---|---|---|\n",
       "| GCA_000008645.1_ASM864v1_genomic   | /ebio/abt3_projects/software/dev/ll_pipelines/llprimer/experiments/methanothermobacter/genbank/archaea/GCA_000008645.1/GCA_000008645.1_ASM864v1_genomic.fna.gz   | Bacteria | 145260 |\n",
       "| GCA_000145295.1_ASM14529v1_genomic | /ebio/abt3_projects/software/dev/ll_pipelines/llprimer/experiments/methanothermobacter/genbank/archaea/GCA_000145295.1/GCA_000145295.1_ASM14529v1_genomic.fna.gz | Bacteria | 145260 |\n",
       "| ⋮ | ⋮ | ⋮ | ⋮ |\n",
       "| GCA_014889545.1_ASM1488954v1_genomic | /ebio/abt3_projects/software/dev/ll_pipelines/llprimer/experiments/methanothermobacter/genbank/archaea/GCA_014889545.1/GCA_014889545.1_ASM1488954v1_genomic.fna.gz | Bacteria | 145260 |\n",
       "| GCA_900095815.1_SIV6_genomic         | /ebio/abt3_projects/software/dev/ll_pipelines/llprimer/experiments/methanothermobacter/genbank/archaea/GCA_900095815.1/GCA_900095815.1_SIV6_genomic.fna.gz         | Bacteria | 145260 |\n",
       "\n"
      ],
      "text/plain": [
       "   Name                                \n",
       "1  GCA_000008645.1_ASM864v1_genomic    \n",
       "2  GCA_000145295.1_ASM14529v1_genomic  \n",
       "⋮  ⋮                                   \n",
       "19 GCA_014889545.1_ASM1488954v1_genomic\n",
       "20 GCA_900095815.1_SIV6_genomic        \n",
       "   Fasta                                                                                                                                                             \n",
       "1  /ebio/abt3_projects/software/dev/ll_pipelines/llprimer/experiments/methanothermobacter/genbank/archaea/GCA_000008645.1/GCA_000008645.1_ASM864v1_genomic.fna.gz    \n",
       "2  /ebio/abt3_projects/software/dev/ll_pipelines/llprimer/experiments/methanothermobacter/genbank/archaea/GCA_000145295.1/GCA_000145295.1_ASM14529v1_genomic.fna.gz  \n",
       "⋮  ⋮                                                                                                                                                                 \n",
       "19 /ebio/abt3_projects/software/dev/ll_pipelines/llprimer/experiments/methanothermobacter/genbank/archaea/GCA_014889545.1/GCA_014889545.1_ASM1488954v1_genomic.fna.gz\n",
       "20 /ebio/abt3_projects/software/dev/ll_pipelines/llprimer/experiments/methanothermobacter/genbank/archaea/GCA_900095815.1/GCA_900095815.1_SIV6_genomic.fna.gz        \n",
       "   Domain   Taxid \n",
       "1  Bacteria 145260\n",
       "2  Bacteria 145260\n",
       "⋮  ⋮        ⋮     \n",
       "19 Bacteria 145260\n",
       "20 Bacteria 145260"
      ]
     },
     "metadata": {},
     "output_type": "display_data"
    },
    {
     "name": "stdout",
     "output_type": "stream",
     "text": [
      "File written: /ebio/abt3_projects/software/dev/ll_pipelines/llprimer/experiments/methanothermobacter/genomes_raw.txt \n"
     ]
    }
   ],
   "source": [
    "D = file.path(work_dir, 'genbank')\n",
    "files = list_files(D, '.fna.gz')\n",
    "samps = data.frame(Name = files %>% as.character %>% basename,\n",
    "                   Fasta = files,\n",
    "                   Domain = 'Archaea',\n",
    "                   Taxid = taxid) %>%\n",
    "    mutate(Name = gsub('\\\\.fna\\\\.gz$', '', Name),\n",
    "           Fasta = gsub('/+', '/', Fasta))\n",
    "samps\n",
    "\n",
    "# writing file\n",
    "outfile = file.path(work_dir, 'genomes_raw.txt')\n",
    "write_table(samps, outfile)"
   ]
  },
  {
   "cell_type": "markdown",
   "metadata": {},
   "source": [
    "## LLG"
   ]
  },
  {
   "cell_type": "markdown",
   "metadata": {},
   "source": [
    "#### Config"
   ]
  },
  {
   "cell_type": "code",
   "execution_count": 12,
   "metadata": {
    "execution": {
     "iopub.execute_input": "2021-01-19T14:34:33.873912Z",
     "iopub.status.busy": "2021-01-19T14:34:33.871924Z",
     "iopub.status.idle": "2021-01-19T14:34:33.904072Z"
    }
   },
   "outputs": [
    {
     "name": "stdout",
     "output_type": "stream",
     "text": [
      "# table with genome --> fasta_file information\n",
      "samples_file: /ebio/abt3_projects/software/dev/ll_pipelines/llprimer/experiments/methanothermobacter/genomes_raw.txt\n",
      "\n",
      "# output location\n",
      "output_dir: /ebio/abt3_projects/software/dev/ll_pipelines/llprimer/experiments/methanothermobacter/LLG_output/\n",
      "\n",
      "# temporary file directory (your username will be added automatically)\n",
      "tmp_dir: /ebio/abt3_scratch/\n",
      "\n",
      "# batch processing of genomes for certain steps\n",
      "## increase to better parallelize\n",
      "batches: 2 \n",
      "\n",
      "# Domain of genomes ('Archaea' or 'Bacteria)\n",
      "## Use \"Skip\" if provided as a \"Domain\" column in the genome table\n",
      "Domain: Skip\n",
      "\n",
      "# software parameters\n",
      "# Use \"Skip\" to skip any of these steps. If no params for rule, use \"\"\n",
      "# dRep MAGs are not further analyzed, but you can de-rep & then use the de-rep genome table as input.\n",
      "params:\n",
      "  ionice: -c 3\n",
      "  # assembly assessment\n",
      "  seqkit: \"\"\n",
      "  quast: Skip #\"\"\n",
      "  multiqc_on_quast: \"\" \n",
      "  checkm: \"\"\n",
      "  # de-replication (requires checkm)\n",
      "  drep: -comp 90 -con 5 -sa 0.999\n",
      "  # taxonomy\n",
      "  sourmash:\n",
      "    compute: Skip #--scaled 10000 -k 31\n",
      "    gather: -k 31\n",
      "  gtdbtk:\n",
      "    classify_wf: --min_perc_aa 10\n",
      "  # genome pairwise ANI  \n",
      "  fastani: Skip #--fragLen 3000 --minFraction 0.2 -k 16\n",
      "  dashing: Skip #-k 31 --full-tsv\n",
      "  comparem_aai: Skip #--evalue 0.001\n",
      "  # gene annotation\n",
      "  gene_call:\n",
      "    prokka: Skip #\"\" \n",
      "    multiqc_on_prokka: \"\"\n",
      "    prodigal: Skip #\"\"\n",
      "  eggnog_mapper: \"\"\n",
      "  eggnog_mapper_annot: \"\"\n",
      "  # rRNA (16S alignment & phylogeny)\n",
      "  barrnap: Skip #--lencutoff 0.8\n",
      "  vsearch_per_genome_drep: --id 0.95    # Skip to prevent drep of 16S copies within each genome\n",
      "  qiime2_fasttree: \"\"\n",
      "  qiime2_iqtree: --p-alrt 1000 --p-abayes --p-lbp 1000  --p-substitution-model 'GTR+I+G'\n",
      "  # genome phylogeny\n",
      "  phylophlan_config: Skip #--map_dna diamond --db_aa diamond --map_aa diamond --msa mafft --trim trimal --tree1 fasttree --tree2 raxml\n",
      "  phylophlan: --diversity high --min_num_markers 50 --accurate\n",
      "  # phenotype\n",
      "  traitar: Skip #\"\"\n",
      "  # biosynthetic gene clusters (BGCs)\n",
      "  antismash: Skip #--cb-knownclusters --cb-subclusters --asf  \n",
      "  DeepBGC: Skip #--score 0.5 --classifier-score 0.5 --prodigal-meta-mode\n",
      "  # antimicrobial resistance (AMR)\n",
      "  abricate: Skip #--minid 75 --mincov 80\n",
      "  # CRISPRs\n",
      "  cctyper: Skip #--prodigal meta\n",
      "  \n",
      "# databases\n",
      "databases:\n",
      "  checkM_data: /ebio/abt3_projects/databases_no-backup/checkM/\n",
      "  sourmash: /ebio/abt3_projects/databases_no-backup/sourmash/genbank-k31.sbt.json\n",
      "  sourmash_lca: /ebio/abt3_projects/databases_no-backup/sourmash/genbank-k31.lca.json.gz\n",
      "  gtdbtk: /ebio/abt3_projects/databases_no-backup/GTDB/release95/gtdbtk/db_info.md\n",
      "  phylophlan: /ebio/abt3_projects/databases_no-backup/phylophlan/PhyloPhlan/phylophlan.faa.bz2\n",
      "  eggnog: /ebio/abt3_projects/databases_no-backup/Eggnog/v2/eggnog.db\n",
      "  eggnog_diamond: /ebio/abt3_projects/databases_no-backup/Eggnog/v2/eggnog_proteins.dmnd\n",
      "  antismash: /ebio/abt3_projects/databases_no-backup/antismash/v5/\n",
      "  deepbgc: /ebio/abt3_projects/databases_no-backup/DeepBGC/\n",
      "  traitar: /ebio/abt3_projects/databases_no-backup/pfam/traitar/\n",
      "  abricate:\n",
      "    ncbi: /ebio/abt3_projects/databases_no-backup/abricate/ncbi/sequences\n",
      "    card: /ebio/abt3_projects/databases_no-backup/abricate/card/sequences\n",
      "    resfinder: /ebio/abt3_projects/databases_no-backup/abricate/resfinder/sequences\n",
      "    argannot: /ebio/abt3_projects/databases_no-backup/abricate/argannot/sequences\n",
      "    bacmet2: /ebio/abt3_projects/databases_no-backup/abricate/bacmet2/sequences\n",
      "    vfdb: /ebio/abt3_projects/databases_no-backup/abricate/vfdb/sequences\n",
      "    megares: /ebio/abt3_projects/databases_no-backup/abricate/megares/sequences\n",
      "    plasmidfinder: /ebio/abt3_projects/databases_no-backup/abricate/plasmidfinder/sequences\n",
      "\n",
      "# snakemake pipeline\n",
      "pipeline:\n",
      "  snakemake_folder: ./\n",
      "  script_folder: ./bin/scripts/\n",
      "  use_shared_mem: True\n",
      "  name: LLG"
     ]
    }
   ],
   "source": [
    "cat_file(file.path(work_dir, 'config_llg.yaml'))"
   ]
  },
  {
   "cell_type": "markdown",
   "metadata": {},
   "source": [
    "#### Run"
   ]
  },
  {
   "cell_type": "markdown",
   "metadata": {},
   "source": [
    "```\n",
    "(snakemake) @ rick:/ebio/abt3_projects/software/dev/ll_pipelines/llg\n",
    "$ screen -L -S llg-thermo ./snakemake_sge.sh /ebio/abt3_projects/software/dev/ll_pipelines/llprimer/experiments/methanothermobacter/config_llg.yaml 30 -F\n",
    "```"
   ]
  },
  {
   "cell_type": "markdown",
   "metadata": {},
   "source": [
    "### Samples table of high-quality genomes"
   ]
  },
  {
   "cell_type": "code",
   "execution_count": 21,
   "metadata": {
    "execution": {
     "iopub.execute_input": "2021-01-19T15:24:48.980895Z",
     "iopub.status.busy": "2021-01-19T15:24:48.978774Z",
     "iopub.status.idle": "2021-01-19T15:24:49.026468Z"
    }
   },
   "outputs": [
    {
     "data": {
      "text/html": [
       "<table>\n",
       "<caption>A data.frame: 20 × 33</caption>\n",
       "<thead>\n",
       "\t<tr><th scope=col>Bin.Id</th><th scope=col>Marker.lineage</th><th scope=col>X..genomes</th><th scope=col>X..markers</th><th scope=col>X..marker.sets</th><th scope=col>Completeness</th><th scope=col>Contamination</th><th scope=col>Strain.heterogeneity</th><th scope=col>Genome.size..bp.</th><th scope=col>X..ambiguous.bases</th><th scope=col>⋯</th><th scope=col>X0</th><th scope=col>X1</th><th scope=col>X2</th><th scope=col>X3</th><th scope=col>X4</th><th scope=col>X5.</th><th scope=col>assembly.Id</th><th scope=col>assembler.Id</th><th scope=col>taxon.Id</th><th scope=col>File</th></tr>\n",
       "\t<tr><th scope=col>&lt;fct&gt;</th><th scope=col>&lt;fct&gt;</th><th scope=col>&lt;int&gt;</th><th scope=col>&lt;int&gt;</th><th scope=col>&lt;int&gt;</th><th scope=col>&lt;dbl&gt;</th><th scope=col>&lt;dbl&gt;</th><th scope=col>&lt;dbl&gt;</th><th scope=col>&lt;int&gt;</th><th scope=col>&lt;int&gt;</th><th scope=col>⋯</th><th scope=col>&lt;int&gt;</th><th scope=col>&lt;int&gt;</th><th scope=col>&lt;int&gt;</th><th scope=col>&lt;int&gt;</th><th scope=col>&lt;int&gt;</th><th scope=col>&lt;int&gt;</th><th scope=col>&lt;fct&gt;</th><th scope=col>&lt;fct&gt;</th><th scope=col>&lt;lgl&gt;</th><th scope=col>&lt;fct&gt;</th></tr>\n",
       "</thead>\n",
       "<tbody>\n",
       "\t<tr><td>GCA_000008645.1_ASM864v1_genomic  </td><td>p__Euryarchaeota (UID3)</td><td>148</td><td>188</td><td>125</td><td>100</td><td>0.31</td><td>16.67</td><td>1751377</td><td>0</td><td>⋯</td><td>0</td><td>184</td><td>3</td><td>1</td><td>0</td><td>0</td><td>|ebio|abt3_projects|software|dev|ll_pipelines|llprimer|experiments|methanothermobacter|LLG_output|checkM|1|checkm|markers_qa_summary.tsv.1</td><td>markers_qa_summary.tsv.1</td><td>NA</td><td>/ebio/abt3_projects/software/dev/ll_pipelines/llprimer/experiments/methanothermobacter/LLG_output/checkM/1/checkm/markers_qa_summary.tsv.1</td></tr>\n",
       "\t<tr><td>GCA_000828575.1_ASM82857v1_genomic</td><td>p__Euryarchaeota (UID3)</td><td>148</td><td>188</td><td>125</td><td>100</td><td>0.00</td><td> 0.00</td><td>1731018</td><td>0</td><td>⋯</td><td>0</td><td>188</td><td>0</td><td>0</td><td>0</td><td>0</td><td>|ebio|abt3_projects|software|dev|ll_pipelines|llprimer|experiments|methanothermobacter|LLG_output|checkM|1|checkm|markers_qa_summary.tsv.2</td><td>markers_qa_summary.tsv.2</td><td>NA</td><td>/ebio/abt3_projects/software/dev/ll_pipelines/llprimer/experiments/methanothermobacter/LLG_output/checkM/1/checkm/markers_qa_summary.tsv.2</td></tr>\n",
       "\t<tr><td>⋮</td><td>⋮</td><td>⋮</td><td>⋮</td><td>⋮</td><td>⋮</td><td>⋮</td><td>⋮</td><td>⋮</td><td>⋮</td><td>⋱</td><td>⋮</td><td>⋮</td><td>⋮</td><td>⋮</td><td>⋮</td><td>⋮</td><td>⋮</td><td>⋮</td><td>⋮</td><td>⋮</td></tr>\n",
       "\t<tr><td>GCA_014361435.1_ASM1436143v1_genomic</td><td>p__Euryarchaeota (UID3)</td><td>148</td><td>188</td><td>125</td><td> 97.6</td><td>2.87</td><td>44.44</td><td>1612916</td><td>30</td><td>⋯</td><td>3</td><td>176</td><td>9</td><td>0</td><td>0</td><td>0</td><td>|ebio|abt3_projects|software|dev|ll_pipelines|llprimer|experiments|methanothermobacter|LLG_output|checkM|2|checkm|markers_qa_summary.tsv.9 </td><td>markers_qa_summary.tsv.9 </td><td>NA</td><td>/ebio/abt3_projects/software/dev/ll_pipelines/llprimer/experiments/methanothermobacter/LLG_output/checkM/2/checkm/markers_qa_summary.tsv.9 </td></tr>\n",
       "\t<tr><td>GCA_900095815.1_SIV6_genomic        </td><td>p__Euryarchaeota (UID3)</td><td>148</td><td>188</td><td>125</td><td>100.0</td><td>0.00</td><td> 0.00</td><td>1686891</td><td> 0</td><td>⋯</td><td>0</td><td>188</td><td>0</td><td>0</td><td>0</td><td>0</td><td>|ebio|abt3_projects|software|dev|ll_pipelines|llprimer|experiments|methanothermobacter|LLG_output|checkM|2|checkm|markers_qa_summary.tsv.10</td><td>markers_qa_summary.tsv.10</td><td>NA</td><td>/ebio/abt3_projects/software/dev/ll_pipelines/llprimer/experiments/methanothermobacter/LLG_output/checkM/2/checkm/markers_qa_summary.tsv.10</td></tr>\n",
       "</tbody>\n",
       "</table>\n"
      ],
      "text/latex": [
       "A data.frame: 20 × 33\n",
       "\\begin{tabular}{lllllllllllllllllllll}\n",
       " Bin.Id & Marker.lineage & X..genomes & X..markers & X..marker.sets & Completeness & Contamination & Strain.heterogeneity & Genome.size..bp. & X..ambiguous.bases & ⋯ & X0 & X1 & X2 & X3 & X4 & X5. & assembly.Id & assembler.Id & taxon.Id & File\\\\\n",
       " <fct> & <fct> & <int> & <int> & <int> & <dbl> & <dbl> & <dbl> & <int> & <int> & ⋯ & <int> & <int> & <int> & <int> & <int> & <int> & <fct> & <fct> & <lgl> & <fct>\\\\\n",
       "\\hline\n",
       "\t GCA\\_000008645.1\\_ASM864v1\\_genomic   & p\\_\\_Euryarchaeota (UID3) & 148 & 188 & 125 & 100 & 0.31 & 16.67 & 1751377 & 0 & ⋯ & 0 & 184 & 3 & 1 & 0 & 0 & \\textbar{}ebio\\textbar{}abt3\\_projects\\textbar{}software\\textbar{}dev\\textbar{}ll\\_pipelines\\textbar{}llprimer\\textbar{}experiments\\textbar{}methanothermobacter\\textbar{}LLG\\_output\\textbar{}checkM\\textbar{}1\\textbar{}checkm\\textbar{}markers\\_qa\\_summary.tsv.1 & markers\\_qa\\_summary.tsv.1 & NA & /ebio/abt3\\_projects/software/dev/ll\\_pipelines/llprimer/experiments/methanothermobacter/LLG\\_output/checkM/1/checkm/markers\\_qa\\_summary.tsv.1\\\\\n",
       "\t GCA\\_000828575.1\\_ASM82857v1\\_genomic & p\\_\\_Euryarchaeota (UID3) & 148 & 188 & 125 & 100 & 0.00 &  0.00 & 1731018 & 0 & ⋯ & 0 & 188 & 0 & 0 & 0 & 0 & \\textbar{}ebio\\textbar{}abt3\\_projects\\textbar{}software\\textbar{}dev\\textbar{}ll\\_pipelines\\textbar{}llprimer\\textbar{}experiments\\textbar{}methanothermobacter\\textbar{}LLG\\_output\\textbar{}checkM\\textbar{}1\\textbar{}checkm\\textbar{}markers\\_qa\\_summary.tsv.2 & markers\\_qa\\_summary.tsv.2 & NA & /ebio/abt3\\_projects/software/dev/ll\\_pipelines/llprimer/experiments/methanothermobacter/LLG\\_output/checkM/1/checkm/markers\\_qa\\_summary.tsv.2\\\\\n",
       "\t ⋮ & ⋮ & ⋮ & ⋮ & ⋮ & ⋮ & ⋮ & ⋮ & ⋮ & ⋮ & ⋱ & ⋮ & ⋮ & ⋮ & ⋮ & ⋮ & ⋮ & ⋮ & ⋮ & ⋮ & ⋮\\\\\n",
       "\t GCA\\_014361435.1\\_ASM1436143v1\\_genomic & p\\_\\_Euryarchaeota (UID3) & 148 & 188 & 125 &  97.6 & 2.87 & 44.44 & 1612916 & 30 & ⋯ & 3 & 176 & 9 & 0 & 0 & 0 & \\textbar{}ebio\\textbar{}abt3\\_projects\\textbar{}software\\textbar{}dev\\textbar{}ll\\_pipelines\\textbar{}llprimer\\textbar{}experiments\\textbar{}methanothermobacter\\textbar{}LLG\\_output\\textbar{}checkM\\textbar{}2\\textbar{}checkm\\textbar{}markers\\_qa\\_summary.tsv.9  & markers\\_qa\\_summary.tsv.9  & NA & /ebio/abt3\\_projects/software/dev/ll\\_pipelines/llprimer/experiments/methanothermobacter/LLG\\_output/checkM/2/checkm/markers\\_qa\\_summary.tsv.9 \\\\\n",
       "\t GCA\\_900095815.1\\_SIV6\\_genomic         & p\\_\\_Euryarchaeota (UID3) & 148 & 188 & 125 & 100.0 & 0.00 &  0.00 & 1686891 &  0 & ⋯ & 0 & 188 & 0 & 0 & 0 & 0 & \\textbar{}ebio\\textbar{}abt3\\_projects\\textbar{}software\\textbar{}dev\\textbar{}ll\\_pipelines\\textbar{}llprimer\\textbar{}experiments\\textbar{}methanothermobacter\\textbar{}LLG\\_output\\textbar{}checkM\\textbar{}2\\textbar{}checkm\\textbar{}markers\\_qa\\_summary.tsv.10 & markers\\_qa\\_summary.tsv.10 & NA & /ebio/abt3\\_projects/software/dev/ll\\_pipelines/llprimer/experiments/methanothermobacter/LLG\\_output/checkM/2/checkm/markers\\_qa\\_summary.tsv.10\\\\\n",
       "\\end{tabular}\n"
      ],
      "text/markdown": [
       "\n",
       "A data.frame: 20 × 33\n",
       "\n",
       "| Bin.Id &lt;fct&gt; | Marker.lineage &lt;fct&gt; | X..genomes &lt;int&gt; | X..markers &lt;int&gt; | X..marker.sets &lt;int&gt; | Completeness &lt;dbl&gt; | Contamination &lt;dbl&gt; | Strain.heterogeneity &lt;dbl&gt; | Genome.size..bp. &lt;int&gt; | X..ambiguous.bases &lt;int&gt; | ⋯ ⋯ | X0 &lt;int&gt; | X1 &lt;int&gt; | X2 &lt;int&gt; | X3 &lt;int&gt; | X4 &lt;int&gt; | X5. &lt;int&gt; | assembly.Id &lt;fct&gt; | assembler.Id &lt;fct&gt; | taxon.Id &lt;lgl&gt; | File &lt;fct&gt; |\n",
       "|---|---|---|---|---|---|---|---|---|---|---|---|---|---|---|---|---|---|---|---|---|\n",
       "| GCA_000008645.1_ASM864v1_genomic   | p__Euryarchaeota (UID3) | 148 | 188 | 125 | 100 | 0.31 | 16.67 | 1751377 | 0 | ⋯ | 0 | 184 | 3 | 1 | 0 | 0 | |ebio|abt3_projects|software|dev|ll_pipelines|llprimer|experiments|methanothermobacter|LLG_output|checkM|1|checkm|markers_qa_summary.tsv.1 | markers_qa_summary.tsv.1 | NA | /ebio/abt3_projects/software/dev/ll_pipelines/llprimer/experiments/methanothermobacter/LLG_output/checkM/1/checkm/markers_qa_summary.tsv.1 |\n",
       "| GCA_000828575.1_ASM82857v1_genomic | p__Euryarchaeota (UID3) | 148 | 188 | 125 | 100 | 0.00 |  0.00 | 1731018 | 0 | ⋯ | 0 | 188 | 0 | 0 | 0 | 0 | |ebio|abt3_projects|software|dev|ll_pipelines|llprimer|experiments|methanothermobacter|LLG_output|checkM|1|checkm|markers_qa_summary.tsv.2 | markers_qa_summary.tsv.2 | NA | /ebio/abt3_projects/software/dev/ll_pipelines/llprimer/experiments/methanothermobacter/LLG_output/checkM/1/checkm/markers_qa_summary.tsv.2 |\n",
       "| ⋮ | ⋮ | ⋮ | ⋮ | ⋮ | ⋮ | ⋮ | ⋮ | ⋮ | ⋮ | ⋱ | ⋮ | ⋮ | ⋮ | ⋮ | ⋮ | ⋮ | ⋮ | ⋮ | ⋮ | ⋮ |\n",
       "| GCA_014361435.1_ASM1436143v1_genomic | p__Euryarchaeota (UID3) | 148 | 188 | 125 |  97.6 | 2.87 | 44.44 | 1612916 | 30 | ⋯ | 3 | 176 | 9 | 0 | 0 | 0 | |ebio|abt3_projects|software|dev|ll_pipelines|llprimer|experiments|methanothermobacter|LLG_output|checkM|2|checkm|markers_qa_summary.tsv.9  | markers_qa_summary.tsv.9  | NA | /ebio/abt3_projects/software/dev/ll_pipelines/llprimer/experiments/methanothermobacter/LLG_output/checkM/2/checkm/markers_qa_summary.tsv.9  |\n",
       "| GCA_900095815.1_SIV6_genomic         | p__Euryarchaeota (UID3) | 148 | 188 | 125 | 100.0 | 0.00 |  0.00 | 1686891 |  0 | ⋯ | 0 | 188 | 0 | 0 | 0 | 0 | |ebio|abt3_projects|software|dev|ll_pipelines|llprimer|experiments|methanothermobacter|LLG_output|checkM|2|checkm|markers_qa_summary.tsv.10 | markers_qa_summary.tsv.10 | NA | /ebio/abt3_projects/software/dev/ll_pipelines/llprimer/experiments/methanothermobacter/LLG_output/checkM/2/checkm/markers_qa_summary.tsv.10 |\n",
       "\n"
      ],
      "text/plain": [
       "   Bin.Id                               Marker.lineage          X..genomes\n",
       "1  GCA_000008645.1_ASM864v1_genomic     p__Euryarchaeota (UID3) 148       \n",
       "2  GCA_000828575.1_ASM82857v1_genomic   p__Euryarchaeota (UID3) 148       \n",
       "⋮  ⋮                                    ⋮                       ⋮         \n",
       "19 GCA_014361435.1_ASM1436143v1_genomic p__Euryarchaeota (UID3) 148       \n",
       "20 GCA_900095815.1_SIV6_genomic         p__Euryarchaeota (UID3) 148       \n",
       "   X..markers X..marker.sets Completeness Contamination Strain.heterogeneity\n",
       "1  188        125            100          0.31          16.67               \n",
       "2  188        125            100          0.00           0.00               \n",
       "⋮  ⋮          ⋮              ⋮            ⋮             ⋮                   \n",
       "19 188        125             97.6        2.87          44.44               \n",
       "20 188        125            100.0        0.00           0.00               \n",
       "   Genome.size..bp. X..ambiguous.bases ⋯ X0 X1  X2 X3 X4 X5.\n",
       "1  1751377          0                  ⋯ 0  184 3  1  0  0  \n",
       "2  1731018          0                  ⋯ 0  188 0  0  0  0  \n",
       "⋮  ⋮                ⋮                  ⋱ ⋮  ⋮   ⋮  ⋮  ⋮  ⋮  \n",
       "19 1612916          30                 ⋯ 3  176 9  0  0  0  \n",
       "20 1686891           0                 ⋯ 0  188 0  0  0  0  \n",
       "   assembly.Id                                                                                                                                \n",
       "1  |ebio|abt3_projects|software|dev|ll_pipelines|llprimer|experiments|methanothermobacter|LLG_output|checkM|1|checkm|markers_qa_summary.tsv.1 \n",
       "2  |ebio|abt3_projects|software|dev|ll_pipelines|llprimer|experiments|methanothermobacter|LLG_output|checkM|1|checkm|markers_qa_summary.tsv.2 \n",
       "⋮  ⋮                                                                                                                                          \n",
       "19 |ebio|abt3_projects|software|dev|ll_pipelines|llprimer|experiments|methanothermobacter|LLG_output|checkM|2|checkm|markers_qa_summary.tsv.9 \n",
       "20 |ebio|abt3_projects|software|dev|ll_pipelines|llprimer|experiments|methanothermobacter|LLG_output|checkM|2|checkm|markers_qa_summary.tsv.10\n",
       "   assembler.Id              taxon.Id\n",
       "1  markers_qa_summary.tsv.1  NA      \n",
       "2  markers_qa_summary.tsv.2  NA      \n",
       "⋮  ⋮                         ⋮       \n",
       "19 markers_qa_summary.tsv.9  NA      \n",
       "20 markers_qa_summary.tsv.10 NA      \n",
       "   File                                                                                                                                       \n",
       "1  /ebio/abt3_projects/software/dev/ll_pipelines/llprimer/experiments/methanothermobacter/LLG_output/checkM/1/checkm/markers_qa_summary.tsv.1 \n",
       "2  /ebio/abt3_projects/software/dev/ll_pipelines/llprimer/experiments/methanothermobacter/LLG_output/checkM/1/checkm/markers_qa_summary.tsv.2 \n",
       "⋮  ⋮                                                                                                                                          \n",
       "19 /ebio/abt3_projects/software/dev/ll_pipelines/llprimer/experiments/methanothermobacter/LLG_output/checkM/2/checkm/markers_qa_summary.tsv.9 \n",
       "20 /ebio/abt3_projects/software/dev/ll_pipelines/llprimer/experiments/methanothermobacter/LLG_output/checkM/2/checkm/markers_qa_summary.tsv.10"
      ]
     },
     "metadata": {},
     "output_type": "display_data"
    }
   ],
   "source": [
    "# checkM summary\n",
    "checkm = file.path(work_dir, 'LLG_output', 'checkM', 'checkm_qa_summary.tsv') %>%\n",
    "    read.delim(sep='\\t') \n",
    "checkm"
   ]
  },
  {
   "cell_type": "code",
   "execution_count": 22,
   "metadata": {
    "execution": {
     "iopub.execute_input": "2021-01-19T15:24:49.141794Z",
     "iopub.status.busy": "2021-01-19T15:24:49.139766Z",
     "iopub.status.idle": "2021-01-19T15:24:49.180075Z"
    }
   },
   "outputs": [
    {
     "data": {
      "text/html": [
       "<table>\n",
       "<caption>A data.frame: 20 × 4</caption>\n",
       "<thead>\n",
       "\t<tr><th scope=col>genome</th><th scope=col>completeness</th><th scope=col>contamination</th><th scope=col>Bin.Id</th></tr>\n",
       "\t<tr><th scope=col>&lt;fct&gt;</th><th scope=col>&lt;dbl&gt;</th><th scope=col>&lt;dbl&gt;</th><th scope=col>&lt;chr&gt;</th></tr>\n",
       "</thead>\n",
       "<tbody>\n",
       "\t<tr><td>/ebio/abt3_scratch/nyoungblut/LLG_62325884640/genomes/GCA_000008645.1_ASM864v1_genomic.fna  </td><td>100</td><td>0.31</td><td>GCA_000008645.1_ASM864v1_genomic  </td></tr>\n",
       "\t<tr><td>/ebio/abt3_scratch/nyoungblut/LLG_62325884640/genomes/GCA_000828575.1_ASM82857v1_genomic.fna</td><td>100</td><td>0.00</td><td>GCA_000828575.1_ASM82857v1_genomic</td></tr>\n",
       "\t<tr><td>⋮</td><td>⋮</td><td>⋮</td><td>⋮</td></tr>\n",
       "\t<tr><td>/ebio/abt3_scratch/nyoungblut/LLG_62325884640/genomes/GCA_014361435.1_ASM1436143v1_genomic.fna</td><td> 97.6</td><td>2.87</td><td>GCA_014361435.1_ASM1436143v1_genomic</td></tr>\n",
       "\t<tr><td>/ebio/abt3_scratch/nyoungblut/LLG_62325884640/genomes/GCA_900095815.1_SIV6_genomic.fna        </td><td>100.0</td><td>0.00</td><td>GCA_900095815.1_SIV6_genomic        </td></tr>\n",
       "</tbody>\n",
       "</table>\n"
      ],
      "text/latex": [
       "A data.frame: 20 × 4\n",
       "\\begin{tabular}{llll}\n",
       " genome & completeness & contamination & Bin.Id\\\\\n",
       " <fct> & <dbl> & <dbl> & <chr>\\\\\n",
       "\\hline\n",
       "\t /ebio/abt3\\_scratch/nyoungblut/LLG\\_62325884640/genomes/GCA\\_000008645.1\\_ASM864v1\\_genomic.fna   & 100 & 0.31 & GCA\\_000008645.1\\_ASM864v1\\_genomic  \\\\\n",
       "\t /ebio/abt3\\_scratch/nyoungblut/LLG\\_62325884640/genomes/GCA\\_000828575.1\\_ASM82857v1\\_genomic.fna & 100 & 0.00 & GCA\\_000828575.1\\_ASM82857v1\\_genomic\\\\\n",
       "\t ⋮ & ⋮ & ⋮ & ⋮\\\\\n",
       "\t /ebio/abt3\\_scratch/nyoungblut/LLG\\_62325884640/genomes/GCA\\_014361435.1\\_ASM1436143v1\\_genomic.fna &  97.6 & 2.87 & GCA\\_014361435.1\\_ASM1436143v1\\_genomic\\\\\n",
       "\t /ebio/abt3\\_scratch/nyoungblut/LLG\\_62325884640/genomes/GCA\\_900095815.1\\_SIV6\\_genomic.fna         & 100.0 & 0.00 & GCA\\_900095815.1\\_SIV6\\_genomic        \\\\\n",
       "\\end{tabular}\n"
      ],
      "text/markdown": [
       "\n",
       "A data.frame: 20 × 4\n",
       "\n",
       "| genome &lt;fct&gt; | completeness &lt;dbl&gt; | contamination &lt;dbl&gt; | Bin.Id &lt;chr&gt; |\n",
       "|---|---|---|---|\n",
       "| /ebio/abt3_scratch/nyoungblut/LLG_62325884640/genomes/GCA_000008645.1_ASM864v1_genomic.fna   | 100 | 0.31 | GCA_000008645.1_ASM864v1_genomic   |\n",
       "| /ebio/abt3_scratch/nyoungblut/LLG_62325884640/genomes/GCA_000828575.1_ASM82857v1_genomic.fna | 100 | 0.00 | GCA_000828575.1_ASM82857v1_genomic |\n",
       "| ⋮ | ⋮ | ⋮ | ⋮ |\n",
       "| /ebio/abt3_scratch/nyoungblut/LLG_62325884640/genomes/GCA_014361435.1_ASM1436143v1_genomic.fna |  97.6 | 2.87 | GCA_014361435.1_ASM1436143v1_genomic |\n",
       "| /ebio/abt3_scratch/nyoungblut/LLG_62325884640/genomes/GCA_900095815.1_SIV6_genomic.fna         | 100.0 | 0.00 | GCA_900095815.1_SIV6_genomic         |\n",
       "\n"
      ],
      "text/plain": [
       "   genome                                                                                        \n",
       "1  /ebio/abt3_scratch/nyoungblut/LLG_62325884640/genomes/GCA_000008645.1_ASM864v1_genomic.fna    \n",
       "2  /ebio/abt3_scratch/nyoungblut/LLG_62325884640/genomes/GCA_000828575.1_ASM82857v1_genomic.fna  \n",
       "⋮  ⋮                                                                                             \n",
       "19 /ebio/abt3_scratch/nyoungblut/LLG_62325884640/genomes/GCA_014361435.1_ASM1436143v1_genomic.fna\n",
       "20 /ebio/abt3_scratch/nyoungblut/LLG_62325884640/genomes/GCA_900095815.1_SIV6_genomic.fna        \n",
       "   completeness contamination Bin.Id                              \n",
       "1  100          0.31          GCA_000008645.1_ASM864v1_genomic    \n",
       "2  100          0.00          GCA_000828575.1_ASM82857v1_genomic  \n",
       "⋮  ⋮            ⋮             ⋮                                   \n",
       "19  97.6        2.87          GCA_014361435.1_ASM1436143v1_genomic\n",
       "20 100.0        0.00          GCA_900095815.1_SIV6_genomic        "
      ]
     },
     "metadata": {},
     "output_type": "display_data"
    }
   ],
   "source": [
    "# dRep summary\n",
    "drep = file.path(work_dir, 'LLG_output', 'drep', 'checkm_markers_qa_summary.tsv') %>%\n",
    "    read.delim(sep='\\t') %>%\n",
    "    mutate(Bin.Id = gsub('.+/', '', genome),\n",
    "           Bin.Id = gsub('\\\\.fna$', '', Bin.Id))\n",
    "drep"
   ]
  },
  {
   "cell_type": "code",
   "execution_count": 23,
   "metadata": {
    "execution": {
     "iopub.execute_input": "2021-01-19T15:24:49.258707Z",
     "iopub.status.busy": "2021-01-19T15:24:49.256765Z",
     "iopub.status.idle": "2021-01-19T15:24:49.283990Z"
    }
   },
   "outputs": [
    {
     "data": {
      "text/html": [
       "<table>\n",
       "<caption>A data.frame: 16 × 2</caption>\n",
       "<thead>\n",
       "\t<tr><th scope=col>Name</th><th scope=col>Fasta</th></tr>\n",
       "\t<tr><th scope=col>&lt;fct&gt;</th><th scope=col>&lt;fct&gt;</th></tr>\n",
       "</thead>\n",
       "<tbody>\n",
       "\t<tr><td>GCA_012521115.1_ASM1252111v1_genomic</td><td>/ebio/abt3_projects/software/dev/ll_pipelines/llprimer/experiments/methanothermobacter/LLG_output/drep/drep/dereplicated_genomes/GCA_012521115.1_ASM1252111v1_genomic.fna</td></tr>\n",
       "\t<tr><td>GCA_900095815.1_SIV6_genomic        </td><td>/ebio/abt3_projects/software/dev/ll_pipelines/llprimer/experiments/methanothermobacter/LLG_output/drep/drep/dereplicated_genomes/GCA_900095815.1_SIV6_genomic.fna        </td></tr>\n",
       "\t<tr><td>⋮</td><td>⋮</td></tr>\n",
       "\t<tr><td>GCA_003264935.1_ASM326493v1_genomic </td><td>/ebio/abt3_projects/software/dev/ll_pipelines/llprimer/experiments/methanothermobacter/LLG_output/drep/drep/dereplicated_genomes/GCA_003264935.1_ASM326493v1_genomic.fna </td></tr>\n",
       "\t<tr><td>GCA_012840175.1_ASM1284017v1_genomic</td><td>/ebio/abt3_projects/software/dev/ll_pipelines/llprimer/experiments/methanothermobacter/LLG_output/drep/drep/dereplicated_genomes/GCA_012840175.1_ASM1284017v1_genomic.fna</td></tr>\n",
       "</tbody>\n",
       "</table>\n"
      ],
      "text/latex": [
       "A data.frame: 16 × 2\n",
       "\\begin{tabular}{ll}\n",
       " Name & Fasta\\\\\n",
       " <fct> & <fct>\\\\\n",
       "\\hline\n",
       "\t GCA\\_012521115.1\\_ASM1252111v1\\_genomic & /ebio/abt3\\_projects/software/dev/ll\\_pipelines/llprimer/experiments/methanothermobacter/LLG\\_output/drep/drep/dereplicated\\_genomes/GCA\\_012521115.1\\_ASM1252111v1\\_genomic.fna\\\\\n",
       "\t GCA\\_900095815.1\\_SIV6\\_genomic         & /ebio/abt3\\_projects/software/dev/ll\\_pipelines/llprimer/experiments/methanothermobacter/LLG\\_output/drep/drep/dereplicated\\_genomes/GCA\\_900095815.1\\_SIV6\\_genomic.fna        \\\\\n",
       "\t ⋮ & ⋮\\\\\n",
       "\t GCA\\_003264935.1\\_ASM326493v1\\_genomic  & /ebio/abt3\\_projects/software/dev/ll\\_pipelines/llprimer/experiments/methanothermobacter/LLG\\_output/drep/drep/dereplicated\\_genomes/GCA\\_003264935.1\\_ASM326493v1\\_genomic.fna \\\\\n",
       "\t GCA\\_012840175.1\\_ASM1284017v1\\_genomic & /ebio/abt3\\_projects/software/dev/ll\\_pipelines/llprimer/experiments/methanothermobacter/LLG\\_output/drep/drep/dereplicated\\_genomes/GCA\\_012840175.1\\_ASM1284017v1\\_genomic.fna\\\\\n",
       "\\end{tabular}\n"
      ],
      "text/markdown": [
       "\n",
       "A data.frame: 16 × 2\n",
       "\n",
       "| Name &lt;fct&gt; | Fasta &lt;fct&gt; |\n",
       "|---|---|\n",
       "| GCA_012521115.1_ASM1252111v1_genomic | /ebio/abt3_projects/software/dev/ll_pipelines/llprimer/experiments/methanothermobacter/LLG_output/drep/drep/dereplicated_genomes/GCA_012521115.1_ASM1252111v1_genomic.fna |\n",
       "| GCA_900095815.1_SIV6_genomic         | /ebio/abt3_projects/software/dev/ll_pipelines/llprimer/experiments/methanothermobacter/LLG_output/drep/drep/dereplicated_genomes/GCA_900095815.1_SIV6_genomic.fna         |\n",
       "| ⋮ | ⋮ |\n",
       "| GCA_003264935.1_ASM326493v1_genomic  | /ebio/abt3_projects/software/dev/ll_pipelines/llprimer/experiments/methanothermobacter/LLG_output/drep/drep/dereplicated_genomes/GCA_003264935.1_ASM326493v1_genomic.fna  |\n",
       "| GCA_012840175.1_ASM1284017v1_genomic | /ebio/abt3_projects/software/dev/ll_pipelines/llprimer/experiments/methanothermobacter/LLG_output/drep/drep/dereplicated_genomes/GCA_012840175.1_ASM1284017v1_genomic.fna |\n",
       "\n"
      ],
      "text/plain": [
       "   Name                                \n",
       "1  GCA_012521115.1_ASM1252111v1_genomic\n",
       "2  GCA_900095815.1_SIV6_genomic        \n",
       "⋮  ⋮                                   \n",
       "15 GCA_003264935.1_ASM326493v1_genomic \n",
       "16 GCA_012840175.1_ASM1284017v1_genomic\n",
       "   Fasta                                                                                                                                                                    \n",
       "1  /ebio/abt3_projects/software/dev/ll_pipelines/llprimer/experiments/methanothermobacter/LLG_output/drep/drep/dereplicated_genomes/GCA_012521115.1_ASM1252111v1_genomic.fna\n",
       "2  /ebio/abt3_projects/software/dev/ll_pipelines/llprimer/experiments/methanothermobacter/LLG_output/drep/drep/dereplicated_genomes/GCA_900095815.1_SIV6_genomic.fna        \n",
       "⋮  ⋮                                                                                                                                                                        \n",
       "15 /ebio/abt3_projects/software/dev/ll_pipelines/llprimer/experiments/methanothermobacter/LLG_output/drep/drep/dereplicated_genomes/GCA_003264935.1_ASM326493v1_genomic.fna \n",
       "16 /ebio/abt3_projects/software/dev/ll_pipelines/llprimer/experiments/methanothermobacter/LLG_output/drep/drep/dereplicated_genomes/GCA_012840175.1_ASM1284017v1_genomic.fna"
      ]
     },
     "metadata": {},
     "output_type": "display_data"
    }
   ],
   "source": [
    "# de-replicated genomes\n",
    "drep_gen = file.path(work_dir, 'LLG_output', 'drep', 'dereplicated_genomes.tsv') %>%\n",
    "    read.delim(sep='\\t')\n",
    "drep_gen"
   ]
  },
  {
   "cell_type": "code",
   "execution_count": 24,
   "metadata": {
    "execution": {
     "iopub.execute_input": "2021-01-19T15:24:49.382605Z",
     "iopub.status.busy": "2021-01-19T15:24:49.380612Z",
     "iopub.status.idle": "2021-01-19T15:24:49.439577Z"
    }
   },
   "outputs": [
    {
     "data": {
      "text/html": [
       "<table>\n",
       "<caption>A data.frame: 20 × 22</caption>\n",
       "<thead>\n",
       "\t<tr><th scope=col>user_genome</th><th scope=col>Domain</th><th scope=col>Phylum</th><th scope=col>Class</th><th scope=col>Order</th><th scope=col>Family</th><th scope=col>Genus</th><th scope=col>Species</th><th scope=col>fastani_reference</th><th scope=col>fastani_reference_radius</th><th scope=col>⋯</th><th scope=col>fastani_af</th><th scope=col>closest_placement_reference</th><th scope=col>closest_placement_radius</th><th scope=col>closest_placement_taxonomy</th><th scope=col>closest_placement_ani</th><th scope=col>closest_placement_af</th><th scope=col>msa_percent</th><th scope=col>translation_table</th><th scope=col>red_value</th><th scope=col>warnings</th></tr>\n",
       "\t<tr><th scope=col>&lt;fct&gt;</th><th scope=col>&lt;chr&gt;</th><th scope=col>&lt;chr&gt;</th><th scope=col>&lt;chr&gt;</th><th scope=col>&lt;chr&gt;</th><th scope=col>&lt;chr&gt;</th><th scope=col>&lt;chr&gt;</th><th scope=col>&lt;chr&gt;</th><th scope=col>&lt;fct&gt;</th><th scope=col>&lt;fct&gt;</th><th scope=col>⋯</th><th scope=col>&lt;fct&gt;</th><th scope=col>&lt;fct&gt;</th><th scope=col>&lt;dbl&gt;</th><th scope=col>&lt;fct&gt;</th><th scope=col>&lt;dbl&gt;</th><th scope=col>&lt;dbl&gt;</th><th scope=col>&lt;dbl&gt;</th><th scope=col>&lt;int&gt;</th><th scope=col>&lt;fct&gt;</th><th scope=col>&lt;fct&gt;</th></tr>\n",
       "</thead>\n",
       "<tbody>\n",
       "\t<tr><td>GCA_000008645.1_ASM864v1_genomic  </td><td>d__Archaea</td><td>p__Methanobacteriota</td><td>c__Methanobacteria</td><td>o__Methanobacteriales</td><td>f__Methanothermobacteraceae</td><td>g__Methanothermobacter</td><td>s__Methanothermobacter thermautotrophicus</td><td>GCF_000008645.1</td><td>95.0</td><td>⋯</td><td>1.0</td><td>GCF_000008645.1</td><td>95</td><td>d__Archaea;p__Methanobacteriota;c__Methanobacteria;o__Methanobacteriales;f__Methanothermobacteraceae;g__Methanothermobacter;s__Methanothermobacter thermautotrophicus</td><td>100</td><td>1</td><td>95.73</td><td>11</td><td>N/A</td><td>N/A</td></tr>\n",
       "\t<tr><td>GCA_000828575.1_ASM82857v1_genomic</td><td>d__Archaea</td><td>p__Methanobacteriota</td><td>c__Methanobacteria</td><td>o__Methanobacteriales</td><td>f__Methanothermobacteraceae</td><td>g__Methanothermobacter</td><td>s__Methanothermobacter sp000828575       </td><td>GCF_000828575.1</td><td>95.0</td><td>⋯</td><td>1.0</td><td>GCF_000828575.1</td><td>95</td><td>d__Archaea;p__Methanobacteriota;c__Methanobacteria;o__Methanobacteriales;f__Methanothermobacteraceae;g__Methanothermobacter;s__Methanothermobacter sp000828575       </td><td>100</td><td>1</td><td>97.19</td><td>11</td><td>N/A</td><td>N/A</td></tr>\n",
       "\t<tr><td>⋮</td><td>⋮</td><td>⋮</td><td>⋮</td><td>⋮</td><td>⋮</td><td>⋮</td><td>⋮</td><td>⋮</td><td>⋮</td><td>⋱</td><td>⋮</td><td>⋮</td><td>⋮</td><td>⋮</td><td>⋮</td><td>⋮</td><td>⋮</td><td>⋮</td><td>⋮</td><td>⋮</td></tr>\n",
       "\t<tr><td>GCA_014361435.1_ASM1436143v1_genomic</td><td>d__Archaea</td><td>p__Methanobacteriota</td><td>c__Methanobacteria</td><td>o__Methanobacteriales</td><td>f__Methanothermobacteraceae</td><td>g__Methanothermobacter</td><td>s__Methanothermobacter thermautotrophicus</td><td>GCF_000008645.1</td><td>95.0</td><td>⋯</td><td>0.97</td><td>GCF_000008645.1</td><td>95</td><td>d__Archaea;p__Methanobacteriota;c__Methanobacteria;o__Methanobacteriales;f__Methanothermobacteraceae;g__Methanothermobacter;s__Methanothermobacter thermautotrophicus</td><td> 97.33</td><td>0.97</td><td>88.56</td><td>11</td><td>N/A</td><td>N/A</td></tr>\n",
       "\t<tr><td>GCA_900095815.1_SIV6_genomic        </td><td>d__Archaea</td><td>p__Methanobacteriota</td><td>c__Methanobacteria</td><td>o__Methanobacteriales</td><td>f__Methanothermobacteraceae</td><td>g__Methanothermobacter</td><td>s__Methanothermobacter wolfeii           </td><td>GCF_900095815.1</td><td>95.0</td><td>⋯</td><td>1.0 </td><td>GCF_900095815.1</td><td>95</td><td>d__Archaea;p__Methanobacteriota;c__Methanobacteria;o__Methanobacteriales;f__Methanothermobacteraceae;g__Methanothermobacter;s__Methanothermobacter wolfeii           </td><td>100.00</td><td>1.00</td><td>96.45</td><td>11</td><td>N/A</td><td>N/A</td></tr>\n",
       "</tbody>\n",
       "</table>\n"
      ],
      "text/latex": [
       "A data.frame: 20 × 22\n",
       "\\begin{tabular}{lllllllllllllllllllll}\n",
       " user\\_genome & Domain & Phylum & Class & Order & Family & Genus & Species & fastani\\_reference & fastani\\_reference\\_radius & ⋯ & fastani\\_af & closest\\_placement\\_reference & closest\\_placement\\_radius & closest\\_placement\\_taxonomy & closest\\_placement\\_ani & closest\\_placement\\_af & msa\\_percent & translation\\_table & red\\_value & warnings\\\\\n",
       " <fct> & <chr> & <chr> & <chr> & <chr> & <chr> & <chr> & <chr> & <fct> & <fct> & ⋯ & <fct> & <fct> & <dbl> & <fct> & <dbl> & <dbl> & <dbl> & <int> & <fct> & <fct>\\\\\n",
       "\\hline\n",
       "\t GCA\\_000008645.1\\_ASM864v1\\_genomic   & d\\_\\_Archaea & p\\_\\_Methanobacteriota & c\\_\\_Methanobacteria & o\\_\\_Methanobacteriales & f\\_\\_Methanothermobacteraceae & g\\_\\_Methanothermobacter & s\\_\\_Methanothermobacter thermautotrophicus & GCF\\_000008645.1 & 95.0 & ⋯ & 1.0 & GCF\\_000008645.1 & 95 & d\\_\\_Archaea;p\\_\\_Methanobacteriota;c\\_\\_Methanobacteria;o\\_\\_Methanobacteriales;f\\_\\_Methanothermobacteraceae;g\\_\\_Methanothermobacter;s\\_\\_Methanothermobacter thermautotrophicus & 100 & 1 & 95.73 & 11 & N/A & N/A\\\\\n",
       "\t GCA\\_000828575.1\\_ASM82857v1\\_genomic & d\\_\\_Archaea & p\\_\\_Methanobacteriota & c\\_\\_Methanobacteria & o\\_\\_Methanobacteriales & f\\_\\_Methanothermobacteraceae & g\\_\\_Methanothermobacter & s\\_\\_Methanothermobacter sp000828575        & GCF\\_000828575.1 & 95.0 & ⋯ & 1.0 & GCF\\_000828575.1 & 95 & d\\_\\_Archaea;p\\_\\_Methanobacteriota;c\\_\\_Methanobacteria;o\\_\\_Methanobacteriales;f\\_\\_Methanothermobacteraceae;g\\_\\_Methanothermobacter;s\\_\\_Methanothermobacter sp000828575        & 100 & 1 & 97.19 & 11 & N/A & N/A\\\\\n",
       "\t ⋮ & ⋮ & ⋮ & ⋮ & ⋮ & ⋮ & ⋮ & ⋮ & ⋮ & ⋮ & ⋱ & ⋮ & ⋮ & ⋮ & ⋮ & ⋮ & ⋮ & ⋮ & ⋮ & ⋮ & ⋮\\\\\n",
       "\t GCA\\_014361435.1\\_ASM1436143v1\\_genomic & d\\_\\_Archaea & p\\_\\_Methanobacteriota & c\\_\\_Methanobacteria & o\\_\\_Methanobacteriales & f\\_\\_Methanothermobacteraceae & g\\_\\_Methanothermobacter & s\\_\\_Methanothermobacter thermautotrophicus & GCF\\_000008645.1 & 95.0 & ⋯ & 0.97 & GCF\\_000008645.1 & 95 & d\\_\\_Archaea;p\\_\\_Methanobacteriota;c\\_\\_Methanobacteria;o\\_\\_Methanobacteriales;f\\_\\_Methanothermobacteraceae;g\\_\\_Methanothermobacter;s\\_\\_Methanothermobacter thermautotrophicus &  97.33 & 0.97 & 88.56 & 11 & N/A & N/A\\\\\n",
       "\t GCA\\_900095815.1\\_SIV6\\_genomic         & d\\_\\_Archaea & p\\_\\_Methanobacteriota & c\\_\\_Methanobacteria & o\\_\\_Methanobacteriales & f\\_\\_Methanothermobacteraceae & g\\_\\_Methanothermobacter & s\\_\\_Methanothermobacter wolfeii            & GCF\\_900095815.1 & 95.0 & ⋯ & 1.0  & GCF\\_900095815.1 & 95 & d\\_\\_Archaea;p\\_\\_Methanobacteriota;c\\_\\_Methanobacteria;o\\_\\_Methanobacteriales;f\\_\\_Methanothermobacteraceae;g\\_\\_Methanothermobacter;s\\_\\_Methanothermobacter wolfeii            & 100.00 & 1.00 & 96.45 & 11 & N/A & N/A\\\\\n",
       "\\end{tabular}\n"
      ],
      "text/markdown": [
       "\n",
       "A data.frame: 20 × 22\n",
       "\n",
       "| user_genome &lt;fct&gt; | Domain &lt;chr&gt; | Phylum &lt;chr&gt; | Class &lt;chr&gt; | Order &lt;chr&gt; | Family &lt;chr&gt; | Genus &lt;chr&gt; | Species &lt;chr&gt; | fastani_reference &lt;fct&gt; | fastani_reference_radius &lt;fct&gt; | ⋯ ⋯ | fastani_af &lt;fct&gt; | closest_placement_reference &lt;fct&gt; | closest_placement_radius &lt;dbl&gt; | closest_placement_taxonomy &lt;fct&gt; | closest_placement_ani &lt;dbl&gt; | closest_placement_af &lt;dbl&gt; | msa_percent &lt;dbl&gt; | translation_table &lt;int&gt; | red_value &lt;fct&gt; | warnings &lt;fct&gt; |\n",
       "|---|---|---|---|---|---|---|---|---|---|---|---|---|---|---|---|---|---|---|---|---|\n",
       "| GCA_000008645.1_ASM864v1_genomic   | d__Archaea | p__Methanobacteriota | c__Methanobacteria | o__Methanobacteriales | f__Methanothermobacteraceae | g__Methanothermobacter | s__Methanothermobacter thermautotrophicus | GCF_000008645.1 | 95.0 | ⋯ | 1.0 | GCF_000008645.1 | 95 | d__Archaea;p__Methanobacteriota;c__Methanobacteria;o__Methanobacteriales;f__Methanothermobacteraceae;g__Methanothermobacter;s__Methanothermobacter thermautotrophicus | 100 | 1 | 95.73 | 11 | N/A | N/A |\n",
       "| GCA_000828575.1_ASM82857v1_genomic | d__Archaea | p__Methanobacteriota | c__Methanobacteria | o__Methanobacteriales | f__Methanothermobacteraceae | g__Methanothermobacter | s__Methanothermobacter sp000828575        | GCF_000828575.1 | 95.0 | ⋯ | 1.0 | GCF_000828575.1 | 95 | d__Archaea;p__Methanobacteriota;c__Methanobacteria;o__Methanobacteriales;f__Methanothermobacteraceae;g__Methanothermobacter;s__Methanothermobacter sp000828575        | 100 | 1 | 97.19 | 11 | N/A | N/A |\n",
       "| ⋮ | ⋮ | ⋮ | ⋮ | ⋮ | ⋮ | ⋮ | ⋮ | ⋮ | ⋮ | ⋱ | ⋮ | ⋮ | ⋮ | ⋮ | ⋮ | ⋮ | ⋮ | ⋮ | ⋮ | ⋮ |\n",
       "| GCA_014361435.1_ASM1436143v1_genomic | d__Archaea | p__Methanobacteriota | c__Methanobacteria | o__Methanobacteriales | f__Methanothermobacteraceae | g__Methanothermobacter | s__Methanothermobacter thermautotrophicus | GCF_000008645.1 | 95.0 | ⋯ | 0.97 | GCF_000008645.1 | 95 | d__Archaea;p__Methanobacteriota;c__Methanobacteria;o__Methanobacteriales;f__Methanothermobacteraceae;g__Methanothermobacter;s__Methanothermobacter thermautotrophicus |  97.33 | 0.97 | 88.56 | 11 | N/A | N/A |\n",
       "| GCA_900095815.1_SIV6_genomic         | d__Archaea | p__Methanobacteriota | c__Methanobacteria | o__Methanobacteriales | f__Methanothermobacteraceae | g__Methanothermobacter | s__Methanothermobacter wolfeii            | GCF_900095815.1 | 95.0 | ⋯ | 1.0  | GCF_900095815.1 | 95 | d__Archaea;p__Methanobacteriota;c__Methanobacteria;o__Methanobacteriales;f__Methanothermobacteraceae;g__Methanothermobacter;s__Methanothermobacter wolfeii            | 100.00 | 1.00 | 96.45 | 11 | N/A | N/A |\n",
       "\n"
      ],
      "text/plain": [
       "   user_genome                          Domain     Phylum              \n",
       "1  GCA_000008645.1_ASM864v1_genomic     d__Archaea p__Methanobacteriota\n",
       "2  GCA_000828575.1_ASM82857v1_genomic   d__Archaea p__Methanobacteriota\n",
       "⋮  ⋮                                    ⋮          ⋮                   \n",
       "19 GCA_014361435.1_ASM1436143v1_genomic d__Archaea p__Methanobacteriota\n",
       "20 GCA_900095815.1_SIV6_genomic         d__Archaea p__Methanobacteriota\n",
       "   Class              Order                 Family                     \n",
       "1  c__Methanobacteria o__Methanobacteriales f__Methanothermobacteraceae\n",
       "2  c__Methanobacteria o__Methanobacteriales f__Methanothermobacteraceae\n",
       "⋮  ⋮                  ⋮                     ⋮                          \n",
       "19 c__Methanobacteria o__Methanobacteriales f__Methanothermobacteraceae\n",
       "20 c__Methanobacteria o__Methanobacteriales f__Methanothermobacteraceae\n",
       "   Genus                  Species                                  \n",
       "1  g__Methanothermobacter s__Methanothermobacter thermautotrophicus\n",
       "2  g__Methanothermobacter s__Methanothermobacter sp000828575       \n",
       "⋮  ⋮                      ⋮                                        \n",
       "19 g__Methanothermobacter s__Methanothermobacter thermautotrophicus\n",
       "20 g__Methanothermobacter s__Methanothermobacter wolfeii           \n",
       "   fastani_reference fastani_reference_radius ⋯ fastani_af\n",
       "1  GCF_000008645.1   95.0                     ⋯ 1.0       \n",
       "2  GCF_000828575.1   95.0                     ⋯ 1.0       \n",
       "⋮  ⋮                 ⋮                        ⋱ ⋮         \n",
       "19 GCF_000008645.1   95.0                     ⋯ 0.97      \n",
       "20 GCF_900095815.1   95.0                     ⋯ 1.0       \n",
       "   closest_placement_reference closest_placement_radius\n",
       "1  GCF_000008645.1             95                      \n",
       "2  GCF_000828575.1             95                      \n",
       "⋮  ⋮                           ⋮                       \n",
       "19 GCF_000008645.1             95                      \n",
       "20 GCF_900095815.1             95                      \n",
       "   closest_placement_taxonomy                                                                                                                                           \n",
       "1  d__Archaea;p__Methanobacteriota;c__Methanobacteria;o__Methanobacteriales;f__Methanothermobacteraceae;g__Methanothermobacter;s__Methanothermobacter thermautotrophicus\n",
       "2  d__Archaea;p__Methanobacteriota;c__Methanobacteria;o__Methanobacteriales;f__Methanothermobacteraceae;g__Methanothermobacter;s__Methanothermobacter sp000828575       \n",
       "⋮  ⋮                                                                                                                                                                    \n",
       "19 d__Archaea;p__Methanobacteriota;c__Methanobacteria;o__Methanobacteriales;f__Methanothermobacteraceae;g__Methanothermobacter;s__Methanothermobacter thermautotrophicus\n",
       "20 d__Archaea;p__Methanobacteriota;c__Methanobacteria;o__Methanobacteriales;f__Methanothermobacteraceae;g__Methanothermobacter;s__Methanothermobacter wolfeii           \n",
       "   closest_placement_ani closest_placement_af msa_percent translation_table\n",
       "1  100                   1                    95.73       11               \n",
       "2  100                   1                    97.19       11               \n",
       "⋮  ⋮                     ⋮                    ⋮           ⋮                \n",
       "19  97.33                0.97                 88.56       11               \n",
       "20 100.00                1.00                 96.45       11               \n",
       "   red_value warnings\n",
       "1  N/A       N/A     \n",
       "2  N/A       N/A     \n",
       "⋮  ⋮         ⋮       \n",
       "19 N/A       N/A     \n",
       "20 N/A       N/A     "
      ]
     },
     "metadata": {},
     "output_type": "display_data"
    }
   ],
   "source": [
    "# GTDBTk summary\n",
    "tax = file.path(work_dir, 'LLG_output', 'gtdbtk', 'gtdbtk_ar_summary.tsv') %>%\n",
    "    read.delim(, sep='\\t') %>%\n",
    "    separate(classification, \n",
    "             c('Domain', 'Phylum', 'Class', 'Order', 'Family', 'Genus', 'Species'),\n",
    "             sep=';') %>%\n",
    "    select(-note, -classification_method, -pplacer_taxonomy,\n",
    "           -other_related_references.genome_id.species_name.radius.ANI.AF.)\n",
    "tax"
   ]
  },
  {
   "cell_type": "code",
   "execution_count": 25,
   "metadata": {
    "execution": {
     "iopub.execute_input": "2021-01-19T15:24:49.517822Z",
     "iopub.status.busy": "2021-01-19T15:24:49.514024Z",
     "iopub.status.idle": "2021-01-19T15:24:49.546654Z"
    }
   },
   "outputs": [
    {
     "name": "stdout",
     "output_type": "stream",
     "text": [
      "-- drep --\n",
      "intersect(x,y): 16 \n",
      "setdiff(x,y): 0 \n",
      "setdiff(y,x): 4 \n",
      "union(x,y): 20 \n",
      "-- checkm --\n",
      "intersect(x,y): 20 \n",
      "setdiff(x,y): 0 \n",
      "setdiff(y,x): 0 \n",
      "union(x,y): 20 \n",
      "-- gtdbtk --\n",
      "intersect(x,y): 20 \n",
      "setdiff(x,y): 0 \n",
      "setdiff(y,x): 0 \n",
      "union(x,y): 20 \n"
     ]
    }
   ],
   "source": [
    "# checking overlap\n",
    "cat('-- drep --\\n')\n",
    "overlap(basename(as.character(drep_gen$Fasta)), \n",
    "        basename(as.character(drep$genome)))\n",
    "cat('-- checkm --\\n')\n",
    "overlap(drep$Bin.Id, checkm$Bin.Id)\n",
    "cat('-- gtdbtk --\\n')\n",
    "overlap(drep$Bin.Id, tax$user_genome)"
   ]
  },
  {
   "cell_type": "code",
   "execution_count": 26,
   "metadata": {
    "execution": {
     "iopub.execute_input": "2021-01-19T15:24:49.631279Z",
     "iopub.status.busy": "2021-01-19T15:24:49.627550Z",
     "iopub.status.idle": "2021-01-19T15:24:49.705465Z"
    }
   },
   "outputs": [
    {
     "data": {
      "text/html": [
       "<table>\n",
       "<caption>A data.frame: 16 × 60</caption>\n",
       "<thead>\n",
       "\t<tr><th scope=col>genome</th><th scope=col>completeness</th><th scope=col>contamination</th><th scope=col>Bin.Id</th><th scope=col>Marker.lineage</th><th scope=col>X..genomes</th><th scope=col>X..markers</th><th scope=col>X..marker.sets</th><th scope=col>Completeness</th><th scope=col>Contamination</th><th scope=col>⋯</th><th scope=col>fastani_af</th><th scope=col>closest_placement_reference</th><th scope=col>closest_placement_radius</th><th scope=col>closest_placement_taxonomy</th><th scope=col>closest_placement_ani</th><th scope=col>closest_placement_af</th><th scope=col>msa_percent</th><th scope=col>translation_table</th><th scope=col>red_value</th><th scope=col>warnings</th></tr>\n",
       "\t<tr><th scope=col>&lt;fct&gt;</th><th scope=col>&lt;dbl&gt;</th><th scope=col>&lt;dbl&gt;</th><th scope=col>&lt;chr&gt;</th><th scope=col>&lt;fct&gt;</th><th scope=col>&lt;int&gt;</th><th scope=col>&lt;int&gt;</th><th scope=col>&lt;int&gt;</th><th scope=col>&lt;dbl&gt;</th><th scope=col>&lt;dbl&gt;</th><th scope=col>⋯</th><th scope=col>&lt;fct&gt;</th><th scope=col>&lt;fct&gt;</th><th scope=col>&lt;dbl&gt;</th><th scope=col>&lt;fct&gt;</th><th scope=col>&lt;dbl&gt;</th><th scope=col>&lt;dbl&gt;</th><th scope=col>&lt;dbl&gt;</th><th scope=col>&lt;int&gt;</th><th scope=col>&lt;fct&gt;</th><th scope=col>&lt;fct&gt;</th></tr>\n",
       "</thead>\n",
       "<tbody>\n",
       "\t<tr><td>/ebio/abt3_scratch/nyoungblut/LLG_62325884640/genomes/GCA_000008645.1_ASM864v1_genomic.fna  </td><td>100</td><td>0.31</td><td>GCA_000008645.1_ASM864v1_genomic  </td><td>p__Euryarchaeota (UID3)</td><td>148</td><td>188</td><td>125</td><td>100</td><td>0.31</td><td>⋯</td><td>1.0</td><td>GCF_000008645.1</td><td>95</td><td>d__Archaea;p__Methanobacteriota;c__Methanobacteria;o__Methanobacteriales;f__Methanothermobacteraceae;g__Methanothermobacter;s__Methanothermobacter thermautotrophicus</td><td>100</td><td>1</td><td>95.73</td><td>11</td><td>N/A</td><td>N/A</td></tr>\n",
       "\t<tr><td>/ebio/abt3_scratch/nyoungblut/LLG_62325884640/genomes/GCA_000828575.1_ASM82857v1_genomic.fna</td><td>100</td><td>0.00</td><td>GCA_000828575.1_ASM82857v1_genomic</td><td>p__Euryarchaeota (UID3)</td><td>148</td><td>188</td><td>125</td><td>100</td><td>0.00</td><td>⋯</td><td>1.0</td><td>GCF_000828575.1</td><td>95</td><td>d__Archaea;p__Methanobacteriota;c__Methanobacteria;o__Methanobacteriales;f__Methanothermobacteraceae;g__Methanothermobacter;s__Methanothermobacter sp000828575       </td><td>100</td><td>1</td><td>97.19</td><td>11</td><td>N/A</td><td>N/A</td></tr>\n",
       "\t<tr><td>⋮</td><td>⋮</td><td>⋮</td><td>⋮</td><td>⋮</td><td>⋮</td><td>⋮</td><td>⋮</td><td>⋮</td><td>⋮</td><td>⋱</td><td>⋮</td><td>⋮</td><td>⋮</td><td>⋮</td><td>⋮</td><td>⋮</td><td>⋮</td><td>⋮</td><td>⋮</td><td>⋮</td></tr>\n",
       "\t<tr><td>/ebio/abt3_scratch/nyoungblut/LLG_62325884640/genomes/GCA_014361435.1_ASM1436143v1_genomic.fna</td><td> 97.6</td><td>2.87</td><td>GCA_014361435.1_ASM1436143v1_genomic</td><td>p__Euryarchaeota (UID3)</td><td>148</td><td>188</td><td>125</td><td> 97.6</td><td>2.87</td><td>⋯</td><td>0.97</td><td>GCF_000008645.1</td><td>95</td><td>d__Archaea;p__Methanobacteriota;c__Methanobacteria;o__Methanobacteriales;f__Methanothermobacteraceae;g__Methanothermobacter;s__Methanothermobacter thermautotrophicus</td><td> 97.33</td><td>0.97</td><td>88.56</td><td>11</td><td>N/A</td><td>N/A</td></tr>\n",
       "\t<tr><td>/ebio/abt3_scratch/nyoungblut/LLG_62325884640/genomes/GCA_900095815.1_SIV6_genomic.fna        </td><td>100.0</td><td>0.00</td><td>GCA_900095815.1_SIV6_genomic        </td><td>p__Euryarchaeota (UID3)</td><td>148</td><td>188</td><td>125</td><td>100.0</td><td>0.00</td><td>⋯</td><td>1.0 </td><td>GCF_900095815.1</td><td>95</td><td>d__Archaea;p__Methanobacteriota;c__Methanobacteria;o__Methanobacteriales;f__Methanothermobacteraceae;g__Methanothermobacter;s__Methanothermobacter wolfeii           </td><td>100.00</td><td>1.00</td><td>96.45</td><td>11</td><td>N/A</td><td>N/A</td></tr>\n",
       "</tbody>\n",
       "</table>\n"
      ],
      "text/latex": [
       "A data.frame: 16 × 60\n",
       "\\begin{tabular}{lllllllllllllllllllll}\n",
       " genome & completeness & contamination & Bin.Id & Marker.lineage & X..genomes & X..markers & X..marker.sets & Completeness & Contamination & ⋯ & fastani\\_af & closest\\_placement\\_reference & closest\\_placement\\_radius & closest\\_placement\\_taxonomy & closest\\_placement\\_ani & closest\\_placement\\_af & msa\\_percent & translation\\_table & red\\_value & warnings\\\\\n",
       " <fct> & <dbl> & <dbl> & <chr> & <fct> & <int> & <int> & <int> & <dbl> & <dbl> & ⋯ & <fct> & <fct> & <dbl> & <fct> & <dbl> & <dbl> & <dbl> & <int> & <fct> & <fct>\\\\\n",
       "\\hline\n",
       "\t /ebio/abt3\\_scratch/nyoungblut/LLG\\_62325884640/genomes/GCA\\_000008645.1\\_ASM864v1\\_genomic.fna   & 100 & 0.31 & GCA\\_000008645.1\\_ASM864v1\\_genomic   & p\\_\\_Euryarchaeota (UID3) & 148 & 188 & 125 & 100 & 0.31 & ⋯ & 1.0 & GCF\\_000008645.1 & 95 & d\\_\\_Archaea;p\\_\\_Methanobacteriota;c\\_\\_Methanobacteria;o\\_\\_Methanobacteriales;f\\_\\_Methanothermobacteraceae;g\\_\\_Methanothermobacter;s\\_\\_Methanothermobacter thermautotrophicus & 100 & 1 & 95.73 & 11 & N/A & N/A\\\\\n",
       "\t /ebio/abt3\\_scratch/nyoungblut/LLG\\_62325884640/genomes/GCA\\_000828575.1\\_ASM82857v1\\_genomic.fna & 100 & 0.00 & GCA\\_000828575.1\\_ASM82857v1\\_genomic & p\\_\\_Euryarchaeota (UID3) & 148 & 188 & 125 & 100 & 0.00 & ⋯ & 1.0 & GCF\\_000828575.1 & 95 & d\\_\\_Archaea;p\\_\\_Methanobacteriota;c\\_\\_Methanobacteria;o\\_\\_Methanobacteriales;f\\_\\_Methanothermobacteraceae;g\\_\\_Methanothermobacter;s\\_\\_Methanothermobacter sp000828575        & 100 & 1 & 97.19 & 11 & N/A & N/A\\\\\n",
       "\t ⋮ & ⋮ & ⋮ & ⋮ & ⋮ & ⋮ & ⋮ & ⋮ & ⋮ & ⋮ & ⋱ & ⋮ & ⋮ & ⋮ & ⋮ & ⋮ & ⋮ & ⋮ & ⋮ & ⋮ & ⋮\\\\\n",
       "\t /ebio/abt3\\_scratch/nyoungblut/LLG\\_62325884640/genomes/GCA\\_014361435.1\\_ASM1436143v1\\_genomic.fna &  97.6 & 2.87 & GCA\\_014361435.1\\_ASM1436143v1\\_genomic & p\\_\\_Euryarchaeota (UID3) & 148 & 188 & 125 &  97.6 & 2.87 & ⋯ & 0.97 & GCF\\_000008645.1 & 95 & d\\_\\_Archaea;p\\_\\_Methanobacteriota;c\\_\\_Methanobacteria;o\\_\\_Methanobacteriales;f\\_\\_Methanothermobacteraceae;g\\_\\_Methanothermobacter;s\\_\\_Methanothermobacter thermautotrophicus &  97.33 & 0.97 & 88.56 & 11 & N/A & N/A\\\\\n",
       "\t /ebio/abt3\\_scratch/nyoungblut/LLG\\_62325884640/genomes/GCA\\_900095815.1\\_SIV6\\_genomic.fna         & 100.0 & 0.00 & GCA\\_900095815.1\\_SIV6\\_genomic         & p\\_\\_Euryarchaeota (UID3) & 148 & 188 & 125 & 100.0 & 0.00 & ⋯ & 1.0  & GCF\\_900095815.1 & 95 & d\\_\\_Archaea;p\\_\\_Methanobacteriota;c\\_\\_Methanobacteria;o\\_\\_Methanobacteriales;f\\_\\_Methanothermobacteraceae;g\\_\\_Methanothermobacter;s\\_\\_Methanothermobacter wolfeii            & 100.00 & 1.00 & 96.45 & 11 & N/A & N/A\\\\\n",
       "\\end{tabular}\n"
      ],
      "text/markdown": [
       "\n",
       "A data.frame: 16 × 60\n",
       "\n",
       "| genome &lt;fct&gt; | completeness &lt;dbl&gt; | contamination &lt;dbl&gt; | Bin.Id &lt;chr&gt; | Marker.lineage &lt;fct&gt; | X..genomes &lt;int&gt; | X..markers &lt;int&gt; | X..marker.sets &lt;int&gt; | Completeness &lt;dbl&gt; | Contamination &lt;dbl&gt; | ⋯ ⋯ | fastani_af &lt;fct&gt; | closest_placement_reference &lt;fct&gt; | closest_placement_radius &lt;dbl&gt; | closest_placement_taxonomy &lt;fct&gt; | closest_placement_ani &lt;dbl&gt; | closest_placement_af &lt;dbl&gt; | msa_percent &lt;dbl&gt; | translation_table &lt;int&gt; | red_value &lt;fct&gt; | warnings &lt;fct&gt; |\n",
       "|---|---|---|---|---|---|---|---|---|---|---|---|---|---|---|---|---|---|---|---|---|\n",
       "| /ebio/abt3_scratch/nyoungblut/LLG_62325884640/genomes/GCA_000008645.1_ASM864v1_genomic.fna   | 100 | 0.31 | GCA_000008645.1_ASM864v1_genomic   | p__Euryarchaeota (UID3) | 148 | 188 | 125 | 100 | 0.31 | ⋯ | 1.0 | GCF_000008645.1 | 95 | d__Archaea;p__Methanobacteriota;c__Methanobacteria;o__Methanobacteriales;f__Methanothermobacteraceae;g__Methanothermobacter;s__Methanothermobacter thermautotrophicus | 100 | 1 | 95.73 | 11 | N/A | N/A |\n",
       "| /ebio/abt3_scratch/nyoungblut/LLG_62325884640/genomes/GCA_000828575.1_ASM82857v1_genomic.fna | 100 | 0.00 | GCA_000828575.1_ASM82857v1_genomic | p__Euryarchaeota (UID3) | 148 | 188 | 125 | 100 | 0.00 | ⋯ | 1.0 | GCF_000828575.1 | 95 | d__Archaea;p__Methanobacteriota;c__Methanobacteria;o__Methanobacteriales;f__Methanothermobacteraceae;g__Methanothermobacter;s__Methanothermobacter sp000828575        | 100 | 1 | 97.19 | 11 | N/A | N/A |\n",
       "| ⋮ | ⋮ | ⋮ | ⋮ | ⋮ | ⋮ | ⋮ | ⋮ | ⋮ | ⋮ | ⋱ | ⋮ | ⋮ | ⋮ | ⋮ | ⋮ | ⋮ | ⋮ | ⋮ | ⋮ | ⋮ |\n",
       "| /ebio/abt3_scratch/nyoungblut/LLG_62325884640/genomes/GCA_014361435.1_ASM1436143v1_genomic.fna |  97.6 | 2.87 | GCA_014361435.1_ASM1436143v1_genomic | p__Euryarchaeota (UID3) | 148 | 188 | 125 |  97.6 | 2.87 | ⋯ | 0.97 | GCF_000008645.1 | 95 | d__Archaea;p__Methanobacteriota;c__Methanobacteria;o__Methanobacteriales;f__Methanothermobacteraceae;g__Methanothermobacter;s__Methanothermobacter thermautotrophicus |  97.33 | 0.97 | 88.56 | 11 | N/A | N/A |\n",
       "| /ebio/abt3_scratch/nyoungblut/LLG_62325884640/genomes/GCA_900095815.1_SIV6_genomic.fna         | 100.0 | 0.00 | GCA_900095815.1_SIV6_genomic         | p__Euryarchaeota (UID3) | 148 | 188 | 125 | 100.0 | 0.00 | ⋯ | 1.0  | GCF_900095815.1 | 95 | d__Archaea;p__Methanobacteriota;c__Methanobacteria;o__Methanobacteriales;f__Methanothermobacteraceae;g__Methanothermobacter;s__Methanothermobacter wolfeii            | 100.00 | 1.00 | 96.45 | 11 | N/A | N/A |\n",
       "\n"
      ],
      "text/plain": [
       "   genome                                                                                        \n",
       "1  /ebio/abt3_scratch/nyoungblut/LLG_62325884640/genomes/GCA_000008645.1_ASM864v1_genomic.fna    \n",
       "2  /ebio/abt3_scratch/nyoungblut/LLG_62325884640/genomes/GCA_000828575.1_ASM82857v1_genomic.fna  \n",
       "⋮  ⋮                                                                                             \n",
       "15 /ebio/abt3_scratch/nyoungblut/LLG_62325884640/genomes/GCA_014361435.1_ASM1436143v1_genomic.fna\n",
       "16 /ebio/abt3_scratch/nyoungblut/LLG_62325884640/genomes/GCA_900095815.1_SIV6_genomic.fna        \n",
       "   completeness contamination Bin.Id                              \n",
       "1  100          0.31          GCA_000008645.1_ASM864v1_genomic    \n",
       "2  100          0.00          GCA_000828575.1_ASM82857v1_genomic  \n",
       "⋮  ⋮            ⋮             ⋮                                   \n",
       "15  97.6        2.87          GCA_014361435.1_ASM1436143v1_genomic\n",
       "16 100.0        0.00          GCA_900095815.1_SIV6_genomic        \n",
       "   Marker.lineage          X..genomes X..markers X..marker.sets Completeness\n",
       "1  p__Euryarchaeota (UID3) 148        188        125            100         \n",
       "2  p__Euryarchaeota (UID3) 148        188        125            100         \n",
       "⋮  ⋮                       ⋮          ⋮          ⋮              ⋮           \n",
       "15 p__Euryarchaeota (UID3) 148        188        125             97.6       \n",
       "16 p__Euryarchaeota (UID3) 148        188        125            100.0       \n",
       "   Contamination ⋯ fastani_af closest_placement_reference\n",
       "1  0.31          ⋯ 1.0        GCF_000008645.1            \n",
       "2  0.00          ⋯ 1.0        GCF_000828575.1            \n",
       "⋮  ⋮             ⋱ ⋮          ⋮                          \n",
       "15 2.87          ⋯ 0.97       GCF_000008645.1            \n",
       "16 0.00          ⋯ 1.0        GCF_900095815.1            \n",
       "   closest_placement_radius\n",
       "1  95                      \n",
       "2  95                      \n",
       "⋮  ⋮                       \n",
       "15 95                      \n",
       "16 95                      \n",
       "   closest_placement_taxonomy                                                                                                                                           \n",
       "1  d__Archaea;p__Methanobacteriota;c__Methanobacteria;o__Methanobacteriales;f__Methanothermobacteraceae;g__Methanothermobacter;s__Methanothermobacter thermautotrophicus\n",
       "2  d__Archaea;p__Methanobacteriota;c__Methanobacteria;o__Methanobacteriales;f__Methanothermobacteraceae;g__Methanothermobacter;s__Methanothermobacter sp000828575       \n",
       "⋮  ⋮                                                                                                                                                                    \n",
       "15 d__Archaea;p__Methanobacteriota;c__Methanobacteria;o__Methanobacteriales;f__Methanothermobacteraceae;g__Methanothermobacter;s__Methanothermobacter thermautotrophicus\n",
       "16 d__Archaea;p__Methanobacteriota;c__Methanobacteria;o__Methanobacteriales;f__Methanothermobacteraceae;g__Methanothermobacter;s__Methanothermobacter wolfeii           \n",
       "   closest_placement_ani closest_placement_af msa_percent translation_table\n",
       "1  100                   1                    95.73       11               \n",
       "2  100                   1                    97.19       11               \n",
       "⋮  ⋮                     ⋮                    ⋮           ⋮                \n",
       "15  97.33                0.97                 88.56       11               \n",
       "16 100.00                1.00                 96.45       11               \n",
       "   red_value warnings\n",
       "1  N/A       N/A     \n",
       "2  N/A       N/A     \n",
       "⋮  ⋮         ⋮       \n",
       "15 N/A       N/A     \n",
       "16 N/A       N/A     "
      ]
     },
     "metadata": {},
     "output_type": "display_data"
    }
   ],
   "source": [
    "# joining based on Bin.Id\n",
    "drep = drep %>%\n",
    "    inner_join(checkm, c('Bin.Id')) %>%\n",
    "    mutate(GEN = genome %>% as.character %>% basename) %>%\n",
    "    inner_join(drep_gen %>% mutate(GEN = Fasta %>% as.character %>% basename),\n",
    "               by=c('GEN')) %>%\n",
    "    inner_join(tax, c('Bin.Id'='user_genome')) #%>%\n",
    "drep"
   ]
  },
  {
   "cell_type": "code",
   "execution_count": 27,
   "metadata": {
    "execution": {
     "iopub.execute_input": "2021-01-19T15:24:54.282281Z",
     "iopub.status.busy": "2021-01-19T15:24:54.280207Z",
     "iopub.status.idle": "2021-01-19T15:24:54.365752Z"
    }
   },
   "outputs": [
    {
     "data": {
      "text/html": [
       "<table>\n",
       "<caption>A data.frame: 16 × 60</caption>\n",
       "<thead>\n",
       "\t<tr><th scope=col>genome</th><th scope=col>completeness</th><th scope=col>contamination</th><th scope=col>Bin.Id</th><th scope=col>Marker.lineage</th><th scope=col>X..genomes</th><th scope=col>X..markers</th><th scope=col>X..marker.sets</th><th scope=col>Completeness</th><th scope=col>Contamination</th><th scope=col>⋯</th><th scope=col>fastani_af</th><th scope=col>closest_placement_reference</th><th scope=col>closest_placement_radius</th><th scope=col>closest_placement_taxonomy</th><th scope=col>closest_placement_ani</th><th scope=col>closest_placement_af</th><th scope=col>msa_percent</th><th scope=col>translation_table</th><th scope=col>red_value</th><th scope=col>warnings</th></tr>\n",
       "\t<tr><th scope=col>&lt;fct&gt;</th><th scope=col>&lt;dbl&gt;</th><th scope=col>&lt;dbl&gt;</th><th scope=col>&lt;chr&gt;</th><th scope=col>&lt;fct&gt;</th><th scope=col>&lt;int&gt;</th><th scope=col>&lt;int&gt;</th><th scope=col>&lt;int&gt;</th><th scope=col>&lt;dbl&gt;</th><th scope=col>&lt;dbl&gt;</th><th scope=col>⋯</th><th scope=col>&lt;fct&gt;</th><th scope=col>&lt;fct&gt;</th><th scope=col>&lt;dbl&gt;</th><th scope=col>&lt;fct&gt;</th><th scope=col>&lt;dbl&gt;</th><th scope=col>&lt;dbl&gt;</th><th scope=col>&lt;dbl&gt;</th><th scope=col>&lt;int&gt;</th><th scope=col>&lt;fct&gt;</th><th scope=col>&lt;fct&gt;</th></tr>\n",
       "</thead>\n",
       "<tbody>\n",
       "\t<tr><td>/ebio/abt3_scratch/nyoungblut/LLG_62325884640/genomes/GCA_000008645.1_ASM864v1_genomic.fna  </td><td>100</td><td>0.31</td><td>GCA_000008645.1_ASM864v1_genomic  </td><td>p__Euryarchaeota (UID3)</td><td>148</td><td>188</td><td>125</td><td>100</td><td>0.31</td><td>⋯</td><td>1.0</td><td>GCF_000008645.1</td><td>95</td><td>d__Archaea;p__Methanobacteriota;c__Methanobacteria;o__Methanobacteriales;f__Methanothermobacteraceae;g__Methanothermobacter;s__Methanothermobacter thermautotrophicus</td><td>100</td><td>1</td><td>95.73</td><td>11</td><td>N/A</td><td>N/A</td></tr>\n",
       "\t<tr><td>/ebio/abt3_scratch/nyoungblut/LLG_62325884640/genomes/GCA_000828575.1_ASM82857v1_genomic.fna</td><td>100</td><td>0.00</td><td>GCA_000828575.1_ASM82857v1_genomic</td><td>p__Euryarchaeota (UID3)</td><td>148</td><td>188</td><td>125</td><td>100</td><td>0.00</td><td>⋯</td><td>1.0</td><td>GCF_000828575.1</td><td>95</td><td>d__Archaea;p__Methanobacteriota;c__Methanobacteria;o__Methanobacteriales;f__Methanothermobacteraceae;g__Methanothermobacter;s__Methanothermobacter sp000828575       </td><td>100</td><td>1</td><td>97.19</td><td>11</td><td>N/A</td><td>N/A</td></tr>\n",
       "\t<tr><td>⋮</td><td>⋮</td><td>⋮</td><td>⋮</td><td>⋮</td><td>⋮</td><td>⋮</td><td>⋮</td><td>⋮</td><td>⋮</td><td>⋱</td><td>⋮</td><td>⋮</td><td>⋮</td><td>⋮</td><td>⋮</td><td>⋮</td><td>⋮</td><td>⋮</td><td>⋮</td><td>⋮</td></tr>\n",
       "\t<tr><td>/ebio/abt3_scratch/nyoungblut/LLG_62325884640/genomes/GCA_014361435.1_ASM1436143v1_genomic.fna</td><td> 97.6</td><td>2.87</td><td>GCA_014361435.1_ASM1436143v1_genomic</td><td>p__Euryarchaeota (UID3)</td><td>148</td><td>188</td><td>125</td><td> 97.6</td><td>2.87</td><td>⋯</td><td>0.97</td><td>GCF_000008645.1</td><td>95</td><td>d__Archaea;p__Methanobacteriota;c__Methanobacteria;o__Methanobacteriales;f__Methanothermobacteraceae;g__Methanothermobacter;s__Methanothermobacter thermautotrophicus</td><td> 97.33</td><td>0.97</td><td>88.56</td><td>11</td><td>N/A</td><td>N/A</td></tr>\n",
       "\t<tr><td>/ebio/abt3_scratch/nyoungblut/LLG_62325884640/genomes/GCA_900095815.1_SIV6_genomic.fna        </td><td>100.0</td><td>0.00</td><td>GCA_900095815.1_SIV6_genomic        </td><td>p__Euryarchaeota (UID3)</td><td>148</td><td>188</td><td>125</td><td>100.0</td><td>0.00</td><td>⋯</td><td>1.0 </td><td>GCF_900095815.1</td><td>95</td><td>d__Archaea;p__Methanobacteriota;c__Methanobacteria;o__Methanobacteriales;f__Methanothermobacteraceae;g__Methanothermobacter;s__Methanothermobacter wolfeii           </td><td>100.00</td><td>1.00</td><td>96.45</td><td>11</td><td>N/A</td><td>N/A</td></tr>\n",
       "</tbody>\n",
       "</table>\n"
      ],
      "text/latex": [
       "A data.frame: 16 × 60\n",
       "\\begin{tabular}{lllllllllllllllllllll}\n",
       " genome & completeness & contamination & Bin.Id & Marker.lineage & X..genomes & X..markers & X..marker.sets & Completeness & Contamination & ⋯ & fastani\\_af & closest\\_placement\\_reference & closest\\_placement\\_radius & closest\\_placement\\_taxonomy & closest\\_placement\\_ani & closest\\_placement\\_af & msa\\_percent & translation\\_table & red\\_value & warnings\\\\\n",
       " <fct> & <dbl> & <dbl> & <chr> & <fct> & <int> & <int> & <int> & <dbl> & <dbl> & ⋯ & <fct> & <fct> & <dbl> & <fct> & <dbl> & <dbl> & <dbl> & <int> & <fct> & <fct>\\\\\n",
       "\\hline\n",
       "\t /ebio/abt3\\_scratch/nyoungblut/LLG\\_62325884640/genomes/GCA\\_000008645.1\\_ASM864v1\\_genomic.fna   & 100 & 0.31 & GCA\\_000008645.1\\_ASM864v1\\_genomic   & p\\_\\_Euryarchaeota (UID3) & 148 & 188 & 125 & 100 & 0.31 & ⋯ & 1.0 & GCF\\_000008645.1 & 95 & d\\_\\_Archaea;p\\_\\_Methanobacteriota;c\\_\\_Methanobacteria;o\\_\\_Methanobacteriales;f\\_\\_Methanothermobacteraceae;g\\_\\_Methanothermobacter;s\\_\\_Methanothermobacter thermautotrophicus & 100 & 1 & 95.73 & 11 & N/A & N/A\\\\\n",
       "\t /ebio/abt3\\_scratch/nyoungblut/LLG\\_62325884640/genomes/GCA\\_000828575.1\\_ASM82857v1\\_genomic.fna & 100 & 0.00 & GCA\\_000828575.1\\_ASM82857v1\\_genomic & p\\_\\_Euryarchaeota (UID3) & 148 & 188 & 125 & 100 & 0.00 & ⋯ & 1.0 & GCF\\_000828575.1 & 95 & d\\_\\_Archaea;p\\_\\_Methanobacteriota;c\\_\\_Methanobacteria;o\\_\\_Methanobacteriales;f\\_\\_Methanothermobacteraceae;g\\_\\_Methanothermobacter;s\\_\\_Methanothermobacter sp000828575        & 100 & 1 & 97.19 & 11 & N/A & N/A\\\\\n",
       "\t ⋮ & ⋮ & ⋮ & ⋮ & ⋮ & ⋮ & ⋮ & ⋮ & ⋮ & ⋮ & ⋱ & ⋮ & ⋮ & ⋮ & ⋮ & ⋮ & ⋮ & ⋮ & ⋮ & ⋮ & ⋮\\\\\n",
       "\t /ebio/abt3\\_scratch/nyoungblut/LLG\\_62325884640/genomes/GCA\\_014361435.1\\_ASM1436143v1\\_genomic.fna &  97.6 & 2.87 & GCA\\_014361435.1\\_ASM1436143v1\\_genomic & p\\_\\_Euryarchaeota (UID3) & 148 & 188 & 125 &  97.6 & 2.87 & ⋯ & 0.97 & GCF\\_000008645.1 & 95 & d\\_\\_Archaea;p\\_\\_Methanobacteriota;c\\_\\_Methanobacteria;o\\_\\_Methanobacteriales;f\\_\\_Methanothermobacteraceae;g\\_\\_Methanothermobacter;s\\_\\_Methanothermobacter thermautotrophicus &  97.33 & 0.97 & 88.56 & 11 & N/A & N/A\\\\\n",
       "\t /ebio/abt3\\_scratch/nyoungblut/LLG\\_62325884640/genomes/GCA\\_900095815.1\\_SIV6\\_genomic.fna         & 100.0 & 0.00 & GCA\\_900095815.1\\_SIV6\\_genomic         & p\\_\\_Euryarchaeota (UID3) & 148 & 188 & 125 & 100.0 & 0.00 & ⋯ & 1.0  & GCF\\_900095815.1 & 95 & d\\_\\_Archaea;p\\_\\_Methanobacteriota;c\\_\\_Methanobacteria;o\\_\\_Methanobacteriales;f\\_\\_Methanothermobacteraceae;g\\_\\_Methanothermobacter;s\\_\\_Methanothermobacter wolfeii            & 100.00 & 1.00 & 96.45 & 11 & N/A & N/A\\\\\n",
       "\\end{tabular}\n"
      ],
      "text/markdown": [
       "\n",
       "A data.frame: 16 × 60\n",
       "\n",
       "| genome &lt;fct&gt; | completeness &lt;dbl&gt; | contamination &lt;dbl&gt; | Bin.Id &lt;chr&gt; | Marker.lineage &lt;fct&gt; | X..genomes &lt;int&gt; | X..markers &lt;int&gt; | X..marker.sets &lt;int&gt; | Completeness &lt;dbl&gt; | Contamination &lt;dbl&gt; | ⋯ ⋯ | fastani_af &lt;fct&gt; | closest_placement_reference &lt;fct&gt; | closest_placement_radius &lt;dbl&gt; | closest_placement_taxonomy &lt;fct&gt; | closest_placement_ani &lt;dbl&gt; | closest_placement_af &lt;dbl&gt; | msa_percent &lt;dbl&gt; | translation_table &lt;int&gt; | red_value &lt;fct&gt; | warnings &lt;fct&gt; |\n",
       "|---|---|---|---|---|---|---|---|---|---|---|---|---|---|---|---|---|---|---|---|---|\n",
       "| /ebio/abt3_scratch/nyoungblut/LLG_62325884640/genomes/GCA_000008645.1_ASM864v1_genomic.fna   | 100 | 0.31 | GCA_000008645.1_ASM864v1_genomic   | p__Euryarchaeota (UID3) | 148 | 188 | 125 | 100 | 0.31 | ⋯ | 1.0 | GCF_000008645.1 | 95 | d__Archaea;p__Methanobacteriota;c__Methanobacteria;o__Methanobacteriales;f__Methanothermobacteraceae;g__Methanothermobacter;s__Methanothermobacter thermautotrophicus | 100 | 1 | 95.73 | 11 | N/A | N/A |\n",
       "| /ebio/abt3_scratch/nyoungblut/LLG_62325884640/genomes/GCA_000828575.1_ASM82857v1_genomic.fna | 100 | 0.00 | GCA_000828575.1_ASM82857v1_genomic | p__Euryarchaeota (UID3) | 148 | 188 | 125 | 100 | 0.00 | ⋯ | 1.0 | GCF_000828575.1 | 95 | d__Archaea;p__Methanobacteriota;c__Methanobacteria;o__Methanobacteriales;f__Methanothermobacteraceae;g__Methanothermobacter;s__Methanothermobacter sp000828575        | 100 | 1 | 97.19 | 11 | N/A | N/A |\n",
       "| ⋮ | ⋮ | ⋮ | ⋮ | ⋮ | ⋮ | ⋮ | ⋮ | ⋮ | ⋮ | ⋱ | ⋮ | ⋮ | ⋮ | ⋮ | ⋮ | ⋮ | ⋮ | ⋮ | ⋮ | ⋮ |\n",
       "| /ebio/abt3_scratch/nyoungblut/LLG_62325884640/genomes/GCA_014361435.1_ASM1436143v1_genomic.fna |  97.6 | 2.87 | GCA_014361435.1_ASM1436143v1_genomic | p__Euryarchaeota (UID3) | 148 | 188 | 125 |  97.6 | 2.87 | ⋯ | 0.97 | GCF_000008645.1 | 95 | d__Archaea;p__Methanobacteriota;c__Methanobacteria;o__Methanobacteriales;f__Methanothermobacteraceae;g__Methanothermobacter;s__Methanothermobacter thermautotrophicus |  97.33 | 0.97 | 88.56 | 11 | N/A | N/A |\n",
       "| /ebio/abt3_scratch/nyoungblut/LLG_62325884640/genomes/GCA_900095815.1_SIV6_genomic.fna         | 100.0 | 0.00 | GCA_900095815.1_SIV6_genomic         | p__Euryarchaeota (UID3) | 148 | 188 | 125 | 100.0 | 0.00 | ⋯ | 1.0  | GCF_900095815.1 | 95 | d__Archaea;p__Methanobacteriota;c__Methanobacteria;o__Methanobacteriales;f__Methanothermobacteraceae;g__Methanothermobacter;s__Methanothermobacter wolfeii            | 100.00 | 1.00 | 96.45 | 11 | N/A | N/A |\n",
       "\n"
      ],
      "text/plain": [
       "   genome                                                                                        \n",
       "1  /ebio/abt3_scratch/nyoungblut/LLG_62325884640/genomes/GCA_000008645.1_ASM864v1_genomic.fna    \n",
       "2  /ebio/abt3_scratch/nyoungblut/LLG_62325884640/genomes/GCA_000828575.1_ASM82857v1_genomic.fna  \n",
       "⋮  ⋮                                                                                             \n",
       "15 /ebio/abt3_scratch/nyoungblut/LLG_62325884640/genomes/GCA_014361435.1_ASM1436143v1_genomic.fna\n",
       "16 /ebio/abt3_scratch/nyoungblut/LLG_62325884640/genomes/GCA_900095815.1_SIV6_genomic.fna        \n",
       "   completeness contamination Bin.Id                              \n",
       "1  100          0.31          GCA_000008645.1_ASM864v1_genomic    \n",
       "2  100          0.00          GCA_000828575.1_ASM82857v1_genomic  \n",
       "⋮  ⋮            ⋮             ⋮                                   \n",
       "15  97.6        2.87          GCA_014361435.1_ASM1436143v1_genomic\n",
       "16 100.0        0.00          GCA_900095815.1_SIV6_genomic        \n",
       "   Marker.lineage          X..genomes X..markers X..marker.sets Completeness\n",
       "1  p__Euryarchaeota (UID3) 148        188        125            100         \n",
       "2  p__Euryarchaeota (UID3) 148        188        125            100         \n",
       "⋮  ⋮                       ⋮          ⋮          ⋮              ⋮           \n",
       "15 p__Euryarchaeota (UID3) 148        188        125             97.6       \n",
       "16 p__Euryarchaeota (UID3) 148        188        125            100.0       \n",
       "   Contamination ⋯ fastani_af closest_placement_reference\n",
       "1  0.31          ⋯ 1.0        GCF_000008645.1            \n",
       "2  0.00          ⋯ 1.0        GCF_000828575.1            \n",
       "⋮  ⋮             ⋱ ⋮          ⋮                          \n",
       "15 2.87          ⋯ 0.97       GCF_000008645.1            \n",
       "16 0.00          ⋯ 1.0        GCF_900095815.1            \n",
       "   closest_placement_radius\n",
       "1  95                      \n",
       "2  95                      \n",
       "⋮  ⋮                       \n",
       "15 95                      \n",
       "16 95                      \n",
       "   closest_placement_taxonomy                                                                                                                                           \n",
       "1  d__Archaea;p__Methanobacteriota;c__Methanobacteria;o__Methanobacteriales;f__Methanothermobacteraceae;g__Methanothermobacter;s__Methanothermobacter thermautotrophicus\n",
       "2  d__Archaea;p__Methanobacteriota;c__Methanobacteria;o__Methanobacteriales;f__Methanothermobacteraceae;g__Methanothermobacter;s__Methanothermobacter sp000828575       \n",
       "⋮  ⋮                                                                                                                                                                    \n",
       "15 d__Archaea;p__Methanobacteriota;c__Methanobacteria;o__Methanobacteriales;f__Methanothermobacteraceae;g__Methanothermobacter;s__Methanothermobacter thermautotrophicus\n",
       "16 d__Archaea;p__Methanobacteriota;c__Methanobacteria;o__Methanobacteriales;f__Methanothermobacteraceae;g__Methanothermobacter;s__Methanothermobacter wolfeii           \n",
       "   closest_placement_ani closest_placement_af msa_percent translation_table\n",
       "1  100                   1                    95.73       11               \n",
       "2  100                   1                    97.19       11               \n",
       "⋮  ⋮                     ⋮                    ⋮           ⋮                \n",
       "15  97.33                0.97                 88.56       11               \n",
       "16 100.00                1.00                 96.45       11               \n",
       "   red_value warnings\n",
       "1  N/A       N/A     \n",
       "2  N/A       N/A     \n",
       "⋮  ⋮         ⋮       \n",
       "15 N/A       N/A     \n",
       "16 N/A       N/A     "
      ]
     },
     "metadata": {},
     "output_type": "display_data"
    }
   ],
   "source": [
    "# filtering by quality\n",
    "hq_genomes = drep %>%\n",
    "    filter(completeness >= 90,\n",
    "           contamination < 5,\n",
    "           Strain.heterogeneity < 50)\n",
    "hq_genomes"
   ]
  },
  {
   "cell_type": "code",
   "execution_count": 28,
   "metadata": {
    "execution": {
     "iopub.execute_input": "2021-01-19T15:25:02.188677Z",
     "iopub.status.busy": "2021-01-19T15:25:02.186552Z",
     "iopub.status.idle": "2021-01-19T15:25:02.228242Z"
    }
   },
   "outputs": [
    {
     "data": {
      "text/html": [
       "<table>\n",
       "<caption>A tibble: 2 × 3</caption>\n",
       "<thead>\n",
       "\t<tr><th scope=col>Family</th><th scope=col>Genus</th><th scope=col>n_genomes</th></tr>\n",
       "\t<tr><th scope=col>&lt;chr&gt;</th><th scope=col>&lt;chr&gt;</th><th scope=col>&lt;int&gt;</th></tr>\n",
       "</thead>\n",
       "<tbody>\n",
       "\t<tr><td>f__Methanothermobacteraceae  </td><td>g__Methanothermobacter  </td><td>13</td></tr>\n",
       "\t<tr><td>f__Methanothermobacteraceae_A</td><td>g__Methanothermobacter_A</td><td> 3</td></tr>\n",
       "</tbody>\n",
       "</table>\n"
      ],
      "text/latex": [
       "A tibble: 2 × 3\n",
       "\\begin{tabular}{lll}\n",
       " Family & Genus & n\\_genomes\\\\\n",
       " <chr> & <chr> & <int>\\\\\n",
       "\\hline\n",
       "\t f\\_\\_Methanothermobacteraceae   & g\\_\\_Methanothermobacter   & 13\\\\\n",
       "\t f\\_\\_Methanothermobacteraceae\\_A & g\\_\\_Methanothermobacter\\_A &  3\\\\\n",
       "\\end{tabular}\n"
      ],
      "text/markdown": [
       "\n",
       "A tibble: 2 × 3\n",
       "\n",
       "| Family &lt;chr&gt; | Genus &lt;chr&gt; | n_genomes &lt;int&gt; |\n",
       "|---|---|---|\n",
       "| f__Methanothermobacteraceae   | g__Methanothermobacter   | 13 |\n",
       "| f__Methanothermobacteraceae_A | g__Methanothermobacter_A |  3 |\n",
       "\n"
      ],
      "text/plain": [
       "  Family                        Genus                    n_genomes\n",
       "1 f__Methanothermobacteraceae   g__Methanothermobacter   13       \n",
       "2 f__Methanothermobacteraceae_A g__Methanothermobacter_A  3       "
      ]
     },
     "metadata": {},
     "output_type": "display_data"
    }
   ],
   "source": [
    "# summarizing the taxonomy\n",
    "df.dims(20)\n",
    "hq_genomes %>%\n",
    "    group_by(Family, Genus) %>%\n",
    "    summarize(n_genomes = n(), .groups='drop')\n",
    "df.dims()"
   ]
  },
  {
   "cell_type": "code",
   "execution_count": 36,
   "metadata": {
    "execution": {
     "iopub.execute_input": "2021-01-19T18:43:49.335085Z",
     "iopub.status.busy": "2021-01-19T18:43:49.333755Z",
     "iopub.status.idle": "2021-01-19T18:43:49.482403Z"
    }
   },
   "outputs": [
    {
     "name": "stdout",
     "output_type": "stream",
     "text": [
      "File written: /ebio/abt3_projects/software/dev/ll_pipelines/llprimer/experiments/methanothermobacter/samples_genomes_hq.txt \n"
     ]
    }
   ],
   "source": [
    "# writing samples table for LLPRIMER\n",
    "outfile = file.path(work_dir, 'samples_genomes_hq.txt')\n",
    "hq_genomes %>%\n",
    "    select(Bin.Id, Fasta) %>%\n",
    "    rename('Taxon' = Bin.Id) %>%\n",
    "    mutate(Taxon = gsub('_chromosome.+', '', Taxon),\n",
    "           Taxon = gsub('_bin_.+', '', Taxon),\n",
    "           Taxon = gsub('_genomic', '', Taxon),\n",
    "           Taxon = gsub('_annotated_assembly', '', Taxon),\n",
    "           Taxid = taxid) %>%\n",
    "    write_table(outfile)"
   ]
  },
  {
   "cell_type": "markdown",
   "metadata": {},
   "source": [
    "# Primer design"
   ]
  },
  {
   "cell_type": "markdown",
   "metadata": {},
   "source": [
    "## cluster cutoff = 0.9"
   ]
  },
  {
   "cell_type": "markdown",
   "metadata": {},
   "source": [
    "### Config"
   ]
  },
  {
   "cell_type": "code",
   "execution_count": 38,
   "metadata": {
    "execution": {
     "iopub.execute_input": "2021-01-19T18:44:13.493011Z",
     "iopub.status.busy": "2021-01-19T18:44:13.490559Z",
     "iopub.status.idle": "2021-01-19T18:44:13.524815Z"
    }
   },
   "outputs": [
    {
     "name": "stdout",
     "output_type": "stream",
     "text": [
      "#-- I/O --#\n",
      "samples_file: /ebio/abt3_projects/software/dev/ll_pipelines/llprimer/experiments/methanothermobacter/samples_genomes_hq.txt\n",
      "\n",
      "# output location\n",
      "output_dir: /ebio/abt3_projects/software/dev/ll_pipelines/llprimer/experiments/methanothermobacter/primers/clust0.9/\n",
      "\n",
      "# temporary file directory (your username will be added automatically)\n",
      "tmp_dir: /ebio/abt3_scratch/\n",
      "\n",
      "#-- software parameters --#\n",
      "# See the README for a description\n",
      "params:\n",
      "  ionice: -c 3\n",
      "  cgp:\n",
      "    prodigal: \"\"    \n",
      "    mmseqs:\n",
      "      method: cluster    # or linclust (faster)\n",
      "      run: --min-seq-id 0.9 -c 0.8\n",
      "    core_genes: --frac 1 --max-clusters 500\n",
      "    blastx: -evalue 1e-10 -max_target_seqs 3\n",
      "    blastx_nontarget: -evalue 1e-5 -max_target_seqs 30\n",
      "    align:\n",
      "      method: linsi\n",
      "      params: --auto --maxiterate 1000\n",
      "    primer3:\n",
      "      number: --num-primers 500\n",
      "      size: --opt-size 20 --min-size 18 --max-size 24\n",
      "      product: --opt-prod-size 150 --min-prod-size 100 --max-prod-size 200\n",
      "      Tm: --opt-tm 62 --min-tm 55 --max-tm 70 --max-tm-diff 1\n",
      "      PCR: --oligo-DNA 50 --salt-monovalent 50 --salt-divalent 1.5 --dNTPs 0.2\n",
      "      GC: --opt-gc 50 --min-gc 25 --max-gc 75\n",
      "      degeneracy: --max-degeneracy 128 --max-degeneracy-3prime 1 --window-3prime 5\n",
      "      internal_oligo: --make-oligo 0 --int-opt-size 20 --int-opt-tm 60\n",
      "    blastn: -max_target_seqs 500 -perc_identity 90\n",
      "    blast_filter: --perc-len 80 --min-amplicon-len 30 --max-amplicon-len 2000    \n",
      "\n",
      "#-- database --#\n",
      "databases:\n",
      "  blast:\n",
      "    nucl: /ebio/abt3_projects/databases_no-backup/NCBI_blastdb/nt\n",
      "    prot: /ebio/abt3_projects/databases_no-backup/NCBI_blastdb/nr\n",
      "    gene_names: /ebio/abt3_projects/databases_no-backup/NCBI_nr_geneIDs/2021-01/nr_accession-geneNames.pkl\n",
      "  taxonomy:\n",
      "    names: /ebio/abt3_projects/databases_no-backup/NCBI_taxonomy/2020-12-23/names.dmp\n",
      "    nodes: /ebio/abt3_projects/databases_no-backup/NCBI_taxonomy/2020-12-23/nodes.dmp\n",
      "\n",
      "#-- snakemake pipeline --#\n",
      "pipeline:\n",
      "  snakemake_folder: ./\n",
      "  script_folder: bin/scripts/\n",
      "  name: LLPRIMER"
     ]
    }
   ],
   "source": [
    "F = file.path(work_dir, 'primers', 'clust0.9', 'config.yaml')\n",
    "cat_file(F)"
   ]
  },
  {
   "cell_type": "markdown",
   "metadata": {},
   "source": [
    "### Run"
   ]
  },
  {
   "cell_type": "markdown",
   "metadata": {},
   "source": [
    "```\n",
    "(snakemake) @ rick:/ebio/abt3_projects/software/dev/ll_pipelines/llprimer\n",
    "$ screen -L  -S llprimer-thermo ./snakemake_sge.sh /ebio/abt3_projects/software/dev/ll_pipelines/llprimer/experiments/methanothermobacter/primers/clust0.9/config.yaml 30 -F\n",
    "```"
   ]
  },
  {
   "cell_type": "markdown",
   "metadata": {},
   "source": [
    "### Summary"
   ]
  },
  {
   "cell_type": "code",
   "execution_count": 42,
   "metadata": {
    "execution": {
     "iopub.execute_input": "2021-01-19T18:47:39.859853Z",
     "iopub.status.busy": "2021-01-19T18:47:39.857529Z",
     "iopub.status.idle": "2021-01-19T18:47:39.913929Z"
    }
   },
   "outputs": [
    {
     "name": "stdout",
     "output_type": "stream",
     "text": [
      "No. of unique primer sets: 8 \n"
     ]
    },
    {
     "data": {
      "text/html": [
       "<table>\n",
       "<caption>A data.frame: 16 × 21</caption>\n",
       "<thead>\n",
       "\t<tr><th scope=col>cluster_id</th><th scope=col>primer_set</th><th scope=col>amplicon_size_consensus</th><th scope=col>amplicon_size_avg</th><th scope=col>amplicon_size_sd</th><th scope=col>primer_id</th><th scope=col>primer_type</th><th scope=col>sequence</th><th scope=col>length</th><th scope=col>degeneracy</th><th scope=col>⋯</th><th scope=col>position_start</th><th scope=col>position_end</th><th scope=col>Tm_avg</th><th scope=col>Tm_sd</th><th scope=col>GC_avg</th><th scope=col>GC_sd</th><th scope=col>hairpin_avg</th><th scope=col>hairpin_sd</th><th scope=col>homodimer_avg</th><th scope=col>homodimer_sd</th></tr>\n",
       "\t<tr><th scope=col>&lt;int&gt;</th><th scope=col>&lt;int&gt;</th><th scope=col>&lt;int&gt;</th><th scope=col>&lt;dbl&gt;</th><th scope=col>&lt;dbl&gt;</th><th scope=col>&lt;fct&gt;</th><th scope=col>&lt;fct&gt;</th><th scope=col>&lt;fct&gt;</th><th scope=col>&lt;int&gt;</th><th scope=col>&lt;int&gt;</th><th scope=col>⋯</th><th scope=col>&lt;int&gt;</th><th scope=col>&lt;int&gt;</th><th scope=col>&lt;dbl&gt;</th><th scope=col>&lt;dbl&gt;</th><th scope=col>&lt;dbl&gt;</th><th scope=col>&lt;dbl&gt;</th><th scope=col>&lt;dbl&gt;</th><th scope=col>&lt;dbl&gt;</th><th scope=col>&lt;dbl&gt;</th><th scope=col>&lt;dbl&gt;</th></tr>\n",
       "</thead>\n",
       "<tbody>\n",
       "\t<tr><td>8</td><td>400</td><td>147</td><td>147</td><td>0</td><td>400f</td><td>PRIMER_LEFT </td><td>TGTAYACHGACCTYGCAAGC</td><td>20</td><td>12</td><td>⋯</td><td>844</td><td>864</td><td>59.37567</td><td>2.097183</td><td>51.66667</td><td>4.249183</td><td>18.79468</td><td>18.79919</td><td>  6.816132</td><td>16.58762</td></tr>\n",
       "\t<tr><td>8</td><td>400</td><td>147</td><td>147</td><td>0</td><td>400r</td><td>PRIMER_RIGHT</td><td>GGCCYTCKGTDATGTAACCT</td><td>20</td><td>12</td><td>⋯</td><td>971</td><td>991</td><td>58.43315</td><td>1.967470</td><td>51.66667</td><td>4.249183</td><td>27.17770</td><td>19.82780</td><td>-11.327806</td><td>13.77950</td></tr>\n",
       "\t<tr><td>⋮</td><td>⋮</td><td>⋮</td><td>⋮</td><td>⋮</td><td>⋮</td><td>⋮</td><td>⋮</td><td>⋮</td><td>⋮</td><td>⋱</td><td>⋮</td><td>⋮</td><td>⋮</td><td>⋮</td><td>⋮</td><td>⋮</td><td>⋮</td><td>⋮</td><td>⋮</td><td>⋮</td></tr>\n",
       "\t<tr><td>12</td><td>343</td><td>193</td><td>193</td><td>0</td><td>343f</td><td>PRIMER_LEFT </td><td>TTGCCAGGAYTWTTCGCAGC  </td><td>20</td><td> 4</td><td>⋯</td><td>  0</td><td> 20</td><td>61.03726</td><td>1.028183</td><td>52.5</td><td>2.500000</td><td> 0.00000</td><td> 0.00000</td><td>-22.590589</td><td> 0.00000</td></tr>\n",
       "\t<tr><td>12</td><td>343</td><td>193</td><td>193</td><td>0</td><td>343r</td><td>PRIMER_RIGHT</td><td>TYCTTATDGCYGAGTTBGGCTG</td><td>22</td><td>36</td><td>⋯</td><td>171</td><td>193</td><td>61.24301</td><td>1.992234</td><td>50.0</td><td>4.417388</td><td>44.21936</td><td>25.45319</td><td>  6.946059</td><td>23.18957</td></tr>\n",
       "</tbody>\n",
       "</table>\n"
      ],
      "text/latex": [
       "A data.frame: 16 × 21\n",
       "\\begin{tabular}{lllllllllllllllllllll}\n",
       " cluster\\_id & primer\\_set & amplicon\\_size\\_consensus & amplicon\\_size\\_avg & amplicon\\_size\\_sd & primer\\_id & primer\\_type & sequence & length & degeneracy & ⋯ & position\\_start & position\\_end & Tm\\_avg & Tm\\_sd & GC\\_avg & GC\\_sd & hairpin\\_avg & hairpin\\_sd & homodimer\\_avg & homodimer\\_sd\\\\\n",
       " <int> & <int> & <int> & <dbl> & <dbl> & <fct> & <fct> & <fct> & <int> & <int> & ⋯ & <int> & <int> & <dbl> & <dbl> & <dbl> & <dbl> & <dbl> & <dbl> & <dbl> & <dbl>\\\\\n",
       "\\hline\n",
       "\t 8 & 400 & 147 & 147 & 0 & 400f & PRIMER\\_LEFT  & TGTAYACHGACCTYGCAAGC & 20 & 12 & ⋯ & 844 & 864 & 59.37567 & 2.097183 & 51.66667 & 4.249183 & 18.79468 & 18.79919 &   6.816132 & 16.58762\\\\\n",
       "\t 8 & 400 & 147 & 147 & 0 & 400r & PRIMER\\_RIGHT & GGCCYTCKGTDATGTAACCT & 20 & 12 & ⋯ & 971 & 991 & 58.43315 & 1.967470 & 51.66667 & 4.249183 & 27.17770 & 19.82780 & -11.327806 & 13.77950\\\\\n",
       "\t ⋮ & ⋮ & ⋮ & ⋮ & ⋮ & ⋮ & ⋮ & ⋮ & ⋮ & ⋮ & ⋱ & ⋮ & ⋮ & ⋮ & ⋮ & ⋮ & ⋮ & ⋮ & ⋮ & ⋮ & ⋮\\\\\n",
       "\t 12 & 343 & 193 & 193 & 0 & 343f & PRIMER\\_LEFT  & TTGCCAGGAYTWTTCGCAGC   & 20 &  4 & ⋯ &   0 &  20 & 61.03726 & 1.028183 & 52.5 & 2.500000 &  0.00000 &  0.00000 & -22.590589 &  0.00000\\\\\n",
       "\t 12 & 343 & 193 & 193 & 0 & 343r & PRIMER\\_RIGHT & TYCTTATDGCYGAGTTBGGCTG & 22 & 36 & ⋯ & 171 & 193 & 61.24301 & 1.992234 & 50.0 & 4.417388 & 44.21936 & 25.45319 &   6.946059 & 23.18957\\\\\n",
       "\\end{tabular}\n"
      ],
      "text/markdown": [
       "\n",
       "A data.frame: 16 × 21\n",
       "\n",
       "| cluster_id &lt;int&gt; | primer_set &lt;int&gt; | amplicon_size_consensus &lt;int&gt; | amplicon_size_avg &lt;dbl&gt; | amplicon_size_sd &lt;dbl&gt; | primer_id &lt;fct&gt; | primer_type &lt;fct&gt; | sequence &lt;fct&gt; | length &lt;int&gt; | degeneracy &lt;int&gt; | ⋯ ⋯ | position_start &lt;int&gt; | position_end &lt;int&gt; | Tm_avg &lt;dbl&gt; | Tm_sd &lt;dbl&gt; | GC_avg &lt;dbl&gt; | GC_sd &lt;dbl&gt; | hairpin_avg &lt;dbl&gt; | hairpin_sd &lt;dbl&gt; | homodimer_avg &lt;dbl&gt; | homodimer_sd &lt;dbl&gt; |\n",
       "|---|---|---|---|---|---|---|---|---|---|---|---|---|---|---|---|---|---|---|---|---|\n",
       "| 8 | 400 | 147 | 147 | 0 | 400f | PRIMER_LEFT  | TGTAYACHGACCTYGCAAGC | 20 | 12 | ⋯ | 844 | 864 | 59.37567 | 2.097183 | 51.66667 | 4.249183 | 18.79468 | 18.79919 |   6.816132 | 16.58762 |\n",
       "| 8 | 400 | 147 | 147 | 0 | 400r | PRIMER_RIGHT | GGCCYTCKGTDATGTAACCT | 20 | 12 | ⋯ | 971 | 991 | 58.43315 | 1.967470 | 51.66667 | 4.249183 | 27.17770 | 19.82780 | -11.327806 | 13.77950 |\n",
       "| ⋮ | ⋮ | ⋮ | ⋮ | ⋮ | ⋮ | ⋮ | ⋮ | ⋮ | ⋮ | ⋱ | ⋮ | ⋮ | ⋮ | ⋮ | ⋮ | ⋮ | ⋮ | ⋮ | ⋮ | ⋮ |\n",
       "| 12 | 343 | 193 | 193 | 0 | 343f | PRIMER_LEFT  | TTGCCAGGAYTWTTCGCAGC   | 20 |  4 | ⋯ |   0 |  20 | 61.03726 | 1.028183 | 52.5 | 2.500000 |  0.00000 |  0.00000 | -22.590589 |  0.00000 |\n",
       "| 12 | 343 | 193 | 193 | 0 | 343r | PRIMER_RIGHT | TYCTTATDGCYGAGTTBGGCTG | 22 | 36 | ⋯ | 171 | 193 | 61.24301 | 1.992234 | 50.0 | 4.417388 | 44.21936 | 25.45319 |   6.946059 | 23.18957 |\n",
       "\n"
      ],
      "text/plain": [
       "   cluster_id primer_set amplicon_size_consensus amplicon_size_avg\n",
       "1  8          400        147                     147              \n",
       "2  8          400        147                     147              \n",
       "⋮  ⋮          ⋮          ⋮                       ⋮                \n",
       "15 12         343        193                     193              \n",
       "16 12         343        193                     193              \n",
       "   amplicon_size_sd primer_id primer_type  sequence               length\n",
       "1  0                400f      PRIMER_LEFT  TGTAYACHGACCTYGCAAGC   20    \n",
       "2  0                400r      PRIMER_RIGHT GGCCYTCKGTDATGTAACCT   20    \n",
       "⋮  ⋮                ⋮         ⋮            ⋮                      ⋮     \n",
       "15 0                343f      PRIMER_LEFT  TTGCCAGGAYTWTTCGCAGC   20    \n",
       "16 0                343r      PRIMER_RIGHT TYCTTATDGCYGAGTTBGGCTG 22    \n",
       "   degeneracy ⋯ position_start position_end Tm_avg   Tm_sd    GC_avg   GC_sd   \n",
       "1  12         ⋯ 844            864          59.37567 2.097183 51.66667 4.249183\n",
       "2  12         ⋯ 971            991          58.43315 1.967470 51.66667 4.249183\n",
       "⋮  ⋮          ⋱ ⋮              ⋮            ⋮        ⋮        ⋮        ⋮       \n",
       "15  4         ⋯   0             20          61.03726 1.028183 52.5     2.500000\n",
       "16 36         ⋯ 171            193          61.24301 1.992234 50.0     4.417388\n",
       "   hairpin_avg hairpin_sd homodimer_avg homodimer_sd\n",
       "1  18.79468    18.79919     6.816132    16.58762    \n",
       "2  27.17770    19.82780   -11.327806    13.77950    \n",
       "⋮  ⋮           ⋮          ⋮             ⋮           \n",
       "15  0.00000     0.00000   -22.590589     0.00000    \n",
       "16 44.21936    25.45319     6.946059    23.18957    "
      ]
     },
     "metadata": {},
     "output_type": "display_data"
    }
   ],
   "source": [
    "primer_info = read.delim(file.path(work_dir, 'primers', 'clust0.9', 'cgp', 'primers_final_info.tsv'), sep='\\t')\n",
    "primer_info %>% unique_n('primer sets', primer_set)\n",
    "primer_info"
   ]
  },
  {
   "cell_type": "code",
   "execution_count": 43,
   "metadata": {
    "execution": {
     "iopub.execute_input": "2021-01-19T18:47:52.606327Z",
     "iopub.status.busy": "2021-01-19T18:47:52.604213Z",
     "iopub.status.idle": "2021-01-19T18:47:52.670248Z"
    }
   },
   "outputs": [
    {
     "data": {
      "text/html": [
       "<table>\n",
       "<caption>A data.frame: 9 × 19</caption>\n",
       "<thead>\n",
       "\t<tr><th scope=col>cluster_id</th><th scope=col>query</th><th scope=col>subject</th><th scope=col>subject_name</th><th scope=col>pident</th><th scope=col>length</th><th scope=col>mismatch</th><th scope=col>qstart</th><th scope=col>qend</th><th scope=col>sstart</th><th scope=col>send</th><th scope=col>evalue</th><th scope=col>slen</th><th scope=col>qlen</th><th scope=col>sscinames</th><th scope=col>staxids</th><th scope=col>pident_rank</th><th scope=col>gene_name</th><th scope=col>gene_taxonomy</th></tr>\n",
       "\t<tr><th scope=col>&lt;dbl&gt;</th><th scope=col>&lt;fct&gt;</th><th scope=col>&lt;fct&gt;</th><th scope=col>&lt;fct&gt;</th><th scope=col>&lt;dbl&gt;</th><th scope=col>&lt;int&gt;</th><th scope=col>&lt;int&gt;</th><th scope=col>&lt;int&gt;</th><th scope=col>&lt;int&gt;</th><th scope=col>&lt;int&gt;</th><th scope=col>&lt;int&gt;</th><th scope=col>&lt;dbl&gt;</th><th scope=col>&lt;int&gt;</th><th scope=col>&lt;int&gt;</th><th scope=col>&lt;fct&gt;</th><th scope=col>&lt;fct&gt;</th><th scope=col>&lt;int&gt;</th><th scope=col>&lt;chr&gt;</th><th scope=col>&lt;chr&gt;</th></tr>\n",
       "</thead>\n",
       "<tbody>\n",
       "\t<tr><td>8</td><td>b7814232e32442d8a235ae7e4a497c98</td><td>AAB85450.1    </td><td>ATP synthase, subunit B [Methanothermobacter thermautotrophicus str. Delta H]</td><td>100</td><td>463</td><td>0</td><td>1</td><td>1389</td><td>3</td><td>465</td><td>0</td><td>465</td><td>1392</td><td>Methanothermobacter thermautotrophicus str. Delta H                                                                                                                                                                                                                            </td><td>187420                                                 </td><td>2</td><td>ATP synthase, subunit B             </td><td>Methanothermobacter thermautotrophicus str. Delta H</td></tr>\n",
       "\t<tr><td>8</td><td>b7814232e32442d8a235ae7e4a497c98</td><td>WP_013296141.1</td><td>MULTISPECIES: ATP synthase subunit B [Methanothermobacter]                   </td><td>100</td><td>463</td><td>0</td><td>1</td><td>1389</td><td>1</td><td>463</td><td>0</td><td>463</td><td>1392</td><td>Methanothermobacter defluvii;Methanothermobacter marburgensis str. Marburg;Methanothermobacter;Methanothermobacter thermautotrophicus;Methanothermobacter thermautotrophicus str. Delta H;Methanothermobacter sp. CaT2;Methanothermobacter sp.;Methanothermobacter sp. EMTCatA1</td><td>49339;79929;145260;145262;187420;866790;1884223;2017966</td><td>2</td><td>MULTISPECIES: ATP synthase subunit B</td><td>Methanothermobacter                                </td></tr>\n",
       "\t<tr><td>⋮</td><td>⋮</td><td>⋮</td><td>⋮</td><td>⋮</td><td>⋮</td><td>⋮</td><td>⋮</td><td>⋮</td><td>⋮</td><td>⋮</td><td>⋮</td><td>⋮</td><td>⋮</td><td>⋮</td><td>⋮</td><td>⋮</td><td>⋮</td><td>⋮</td></tr>\n",
       "\t<tr><td>12</td><td>621c8390148945ba929b23b45a9ee5b3</td><td>WP_191216127.1</td><td>30S ribosomal protein S12 [Methanothermobacter sp. THM-1]    </td><td>97.872</td><td>141</td><td>3</td><td>1</td><td>423</td><td>1</td><td>141</td><td>6.29e-79</td><td>141</td><td>426</td><td>Methanothermobacter sp. THM-1                                                                                                                                                </td><td>2606911                                   </td><td>2</td><td>30S ribosomal protein S12              </td><td>Methanothermobacter sp. THM-1</td></tr>\n",
       "\t<tr><td>12</td><td>621c8390148945ba929b23b45a9ee5b3</td><td>WP_048175660.1</td><td>MULTISPECIES: 30S ribosomal protein S12 [Methanothermobacter]</td><td>97.163</td><td>141</td><td>4</td><td>1</td><td>423</td><td>1</td><td>141</td><td>4.02e-78</td><td>141</td><td>426</td><td>Methanothermobacter defluvii;Methanothermobacter;Methanothermobacter thermautotrophicus;Methanothermobacter sp. CaT2;Methanothermobacter sp.;Methanothermobacter sp. EMTCatA1</td><td>49339;145260;145262;866790;1884223;2017966</td><td>3</td><td>MULTISPECIES: 30S ribosomal protein S12</td><td>Methanothermobacter          </td></tr>\n",
       "</tbody>\n",
       "</table>\n"
      ],
      "text/latex": [
       "A data.frame: 9 × 19\n",
       "\\begin{tabular}{lllllllllllllllllll}\n",
       " cluster\\_id & query & subject & subject\\_name & pident & length & mismatch & qstart & qend & sstart & send & evalue & slen & qlen & sscinames & staxids & pident\\_rank & gene\\_name & gene\\_taxonomy\\\\\n",
       " <dbl> & <fct> & <fct> & <fct> & <dbl> & <int> & <int> & <int> & <int> & <int> & <int> & <dbl> & <int> & <int> & <fct> & <fct> & <int> & <chr> & <chr>\\\\\n",
       "\\hline\n",
       "\t 8 & b7814232e32442d8a235ae7e4a497c98 & AAB85450.1     & ATP synthase, subunit B {[}Methanothermobacter thermautotrophicus str. Delta H{]} & 100 & 463 & 0 & 1 & 1389 & 3 & 465 & 0 & 465 & 1392 & Methanothermobacter thermautotrophicus str. Delta H                                                                                                                                                                                                                             & 187420                                                  & 2 & ATP synthase, subunit B              & Methanothermobacter thermautotrophicus str. Delta H\\\\\n",
       "\t 8 & b7814232e32442d8a235ae7e4a497c98 & WP\\_013296141.1 & MULTISPECIES: ATP synthase subunit B {[}Methanothermobacter{]}                    & 100 & 463 & 0 & 1 & 1389 & 1 & 463 & 0 & 463 & 1392 & Methanothermobacter defluvii;Methanothermobacter marburgensis str. Marburg;Methanothermobacter;Methanothermobacter thermautotrophicus;Methanothermobacter thermautotrophicus str. Delta H;Methanothermobacter sp. CaT2;Methanothermobacter sp.;Methanothermobacter sp. EMTCatA1 & 49339;79929;145260;145262;187420;866790;1884223;2017966 & 2 & MULTISPECIES: ATP synthase subunit B & Methanothermobacter                                \\\\\n",
       "\t ⋮ & ⋮ & ⋮ & ⋮ & ⋮ & ⋮ & ⋮ & ⋮ & ⋮ & ⋮ & ⋮ & ⋮ & ⋮ & ⋮ & ⋮ & ⋮ & ⋮ & ⋮ & ⋮\\\\\n",
       "\t 12 & 621c8390148945ba929b23b45a9ee5b3 & WP\\_191216127.1 & 30S ribosomal protein S12 {[}Methanothermobacter sp. THM-1{]}     & 97.872 & 141 & 3 & 1 & 423 & 1 & 141 & 6.29e-79 & 141 & 426 & Methanothermobacter sp. THM-1                                                                                                                                                 & 2606911                                    & 2 & 30S ribosomal protein S12               & Methanothermobacter sp. THM-1\\\\\n",
       "\t 12 & 621c8390148945ba929b23b45a9ee5b3 & WP\\_048175660.1 & MULTISPECIES: 30S ribosomal protein S12 {[}Methanothermobacter{]} & 97.163 & 141 & 4 & 1 & 423 & 1 & 141 & 4.02e-78 & 141 & 426 & Methanothermobacter defluvii;Methanothermobacter;Methanothermobacter thermautotrophicus;Methanothermobacter sp. CaT2;Methanothermobacter sp.;Methanothermobacter sp. EMTCatA1 & 49339;145260;145262;866790;1884223;2017966 & 3 & MULTISPECIES: 30S ribosomal protein S12 & Methanothermobacter          \\\\\n",
       "\\end{tabular}\n"
      ],
      "text/markdown": [
       "\n",
       "A data.frame: 9 × 19\n",
       "\n",
       "| cluster_id &lt;dbl&gt; | query &lt;fct&gt; | subject &lt;fct&gt; | subject_name &lt;fct&gt; | pident &lt;dbl&gt; | length &lt;int&gt; | mismatch &lt;int&gt; | qstart &lt;int&gt; | qend &lt;int&gt; | sstart &lt;int&gt; | send &lt;int&gt; | evalue &lt;dbl&gt; | slen &lt;int&gt; | qlen &lt;int&gt; | sscinames &lt;fct&gt; | staxids &lt;fct&gt; | pident_rank &lt;int&gt; | gene_name &lt;chr&gt; | gene_taxonomy &lt;chr&gt; |\n",
       "|---|---|---|---|---|---|---|---|---|---|---|---|---|---|---|---|---|---|---|\n",
       "| 8 | b7814232e32442d8a235ae7e4a497c98 | AAB85450.1     | ATP synthase, subunit B [Methanothermobacter thermautotrophicus str. Delta H] | 100 | 463 | 0 | 1 | 1389 | 3 | 465 | 0 | 465 | 1392 | Methanothermobacter thermautotrophicus str. Delta H                                                                                                                                                                                                                             | 187420                                                  | 2 | ATP synthase, subunit B              | Methanothermobacter thermautotrophicus str. Delta H |\n",
       "| 8 | b7814232e32442d8a235ae7e4a497c98 | WP_013296141.1 | MULTISPECIES: ATP synthase subunit B [Methanothermobacter]                    | 100 | 463 | 0 | 1 | 1389 | 1 | 463 | 0 | 463 | 1392 | Methanothermobacter defluvii;Methanothermobacter marburgensis str. Marburg;Methanothermobacter;Methanothermobacter thermautotrophicus;Methanothermobacter thermautotrophicus str. Delta H;Methanothermobacter sp. CaT2;Methanothermobacter sp.;Methanothermobacter sp. EMTCatA1 | 49339;79929;145260;145262;187420;866790;1884223;2017966 | 2 | MULTISPECIES: ATP synthase subunit B | Methanothermobacter                                 |\n",
       "| ⋮ | ⋮ | ⋮ | ⋮ | ⋮ | ⋮ | ⋮ | ⋮ | ⋮ | ⋮ | ⋮ | ⋮ | ⋮ | ⋮ | ⋮ | ⋮ | ⋮ | ⋮ | ⋮ |\n",
       "| 12 | 621c8390148945ba929b23b45a9ee5b3 | WP_191216127.1 | 30S ribosomal protein S12 [Methanothermobacter sp. THM-1]     | 97.872 | 141 | 3 | 1 | 423 | 1 | 141 | 6.29e-79 | 141 | 426 | Methanothermobacter sp. THM-1                                                                                                                                                 | 2606911                                    | 2 | 30S ribosomal protein S12               | Methanothermobacter sp. THM-1 |\n",
       "| 12 | 621c8390148945ba929b23b45a9ee5b3 | WP_048175660.1 | MULTISPECIES: 30S ribosomal protein S12 [Methanothermobacter] | 97.163 | 141 | 4 | 1 | 423 | 1 | 141 | 4.02e-78 | 141 | 426 | Methanothermobacter defluvii;Methanothermobacter;Methanothermobacter thermautotrophicus;Methanothermobacter sp. CaT2;Methanothermobacter sp.;Methanothermobacter sp. EMTCatA1 | 49339;145260;145262;866790;1884223;2017966 | 3 | MULTISPECIES: 30S ribosomal protein S12 | Methanothermobacter           |\n",
       "\n"
      ],
      "text/plain": [
       "  cluster_id query                            subject       \n",
       "1 8          b7814232e32442d8a235ae7e4a497c98 AAB85450.1    \n",
       "2 8          b7814232e32442d8a235ae7e4a497c98 WP_013296141.1\n",
       "⋮ ⋮          ⋮                                ⋮             \n",
       "8 12         621c8390148945ba929b23b45a9ee5b3 WP_191216127.1\n",
       "9 12         621c8390148945ba929b23b45a9ee5b3 WP_048175660.1\n",
       "  subject_name                                                                 \n",
       "1 ATP synthase, subunit B [Methanothermobacter thermautotrophicus str. Delta H]\n",
       "2 MULTISPECIES: ATP synthase subunit B [Methanothermobacter]                   \n",
       "⋮ ⋮                                                                            \n",
       "8 30S ribosomal protein S12 [Methanothermobacter sp. THM-1]                    \n",
       "9 MULTISPECIES: 30S ribosomal protein S12 [Methanothermobacter]                \n",
       "  pident length mismatch qstart qend sstart send evalue   slen qlen\n",
       "1 100    463    0        1      1389 3      465  0        465  1392\n",
       "2 100    463    0        1      1389 1      463  0        463  1392\n",
       "⋮ ⋮      ⋮      ⋮        ⋮      ⋮    ⋮      ⋮    ⋮        ⋮    ⋮   \n",
       "8 97.872 141    3        1      423  1      141  6.29e-79 141  426 \n",
       "9 97.163 141    4        1      423  1      141  4.02e-78 141  426 \n",
       "  sscinames                                                                                                                                                                                                                                                                      \n",
       "1 Methanothermobacter thermautotrophicus str. Delta H                                                                                                                                                                                                                            \n",
       "2 Methanothermobacter defluvii;Methanothermobacter marburgensis str. Marburg;Methanothermobacter;Methanothermobacter thermautotrophicus;Methanothermobacter thermautotrophicus str. Delta H;Methanothermobacter sp. CaT2;Methanothermobacter sp.;Methanothermobacter sp. EMTCatA1\n",
       "⋮ ⋮                                                                                                                                                                                                                                                                              \n",
       "8 Methanothermobacter sp. THM-1                                                                                                                                                                                                                                                  \n",
       "9 Methanothermobacter defluvii;Methanothermobacter;Methanothermobacter thermautotrophicus;Methanothermobacter sp. CaT2;Methanothermobacter sp.;Methanothermobacter sp. EMTCatA1                                                                                                  \n",
       "  staxids                                                 pident_rank\n",
       "1 187420                                                  2          \n",
       "2 49339;79929;145260;145262;187420;866790;1884223;2017966 2          \n",
       "⋮ ⋮                                                       ⋮          \n",
       "8 2606911                                                 2          \n",
       "9 49339;145260;145262;866790;1884223;2017966              3          \n",
       "  gene_name                              \n",
       "1 ATP synthase, subunit B                \n",
       "2 MULTISPECIES: ATP synthase subunit B   \n",
       "⋮ ⋮                                      \n",
       "8 30S ribosomal protein S12              \n",
       "9 MULTISPECIES: 30S ribosomal protein S12\n",
       "  gene_taxonomy                                      \n",
       "1 Methanothermobacter thermautotrophicus str. Delta H\n",
       "2 Methanothermobacter                                \n",
       "⋮ ⋮                                                  \n",
       "8 Methanothermobacter sp. THM-1                      \n",
       "9 Methanothermobacter                                "
      ]
     },
     "metadata": {},
     "output_type": "display_data"
    }
   ],
   "source": [
    "gene_annot = read.delim(file.path(work_dir, 'primers', 'clust0.9', 'cgp', 'core_clusters_blastx.tsv'), \n",
    "                        sep='\\t') %>%\n",
    "    mutate(cluster_id = gsub('cluster_', '', cluster_id) %>% as.Num) %>%\n",
    "    semi_join(primer_info, c('cluster_id')) %>%\n",
    "    mutate(gene_name = gsub(' \\\\[.+', '', subject_name),\n",
    "           gene_taxonomy = gsub('.+\\\\[', '', subject_name),\n",
    "           gene_taxonomy = gsub('\\\\]', '', gene_taxonomy))\n",
    "gene_annot"
   ]
  },
  {
   "cell_type": "code",
   "execution_count": 45,
   "metadata": {
    "execution": {
     "iopub.execute_input": "2021-01-19T18:48:21.760336Z",
     "iopub.status.busy": "2021-01-19T18:48:21.758284Z",
     "iopub.status.idle": "2021-01-19T18:48:21.827282Z"
    }
   },
   "outputs": [
    {
     "data": {
      "text/html": [
       "<table>\n",
       "<caption>A data.frame: 90 × 19</caption>\n",
       "<thead>\n",
       "\t<tr><th scope=col>cluster_id</th><th scope=col>query</th><th scope=col>subject</th><th scope=col>subject_name</th><th scope=col>pident</th><th scope=col>length</th><th scope=col>mismatch</th><th scope=col>qstart</th><th scope=col>qend</th><th scope=col>sstart</th><th scope=col>send</th><th scope=col>evalue</th><th scope=col>slen</th><th scope=col>qlen</th><th scope=col>sscinames</th><th scope=col>staxids</th><th scope=col>pident_rank</th><th scope=col>gene_name</th><th scope=col>gene_taxonomy</th></tr>\n",
       "\t<tr><th scope=col>&lt;dbl&gt;</th><th scope=col>&lt;fct&gt;</th><th scope=col>&lt;fct&gt;</th><th scope=col>&lt;fct&gt;</th><th scope=col>&lt;dbl&gt;</th><th scope=col>&lt;int&gt;</th><th scope=col>&lt;int&gt;</th><th scope=col>&lt;int&gt;</th><th scope=col>&lt;int&gt;</th><th scope=col>&lt;int&gt;</th><th scope=col>&lt;int&gt;</th><th scope=col>&lt;dbl&gt;</th><th scope=col>&lt;int&gt;</th><th scope=col>&lt;int&gt;</th><th scope=col>&lt;fct&gt;</th><th scope=col>&lt;fct&gt;</th><th scope=col>&lt;int&gt;</th><th scope=col>&lt;chr&gt;</th><th scope=col>&lt;chr&gt;</th></tr>\n",
       "</thead>\n",
       "<tbody>\n",
       "\t<tr><td>8</td><td>b7814232e32442d8a235ae7e4a497c98</td><td>PKL67544.1  </td><td>ATP synthase subunit B [Methanobacteriales archaeon HGW-Methanobacteriales-1]</td><td>93.562</td><td>466</td><td>27</td><td>1</td><td>1389</td><td>1</td><td>466</td><td>0</td><td>466</td><td>1392</td><td>Methanobacteriales archaeon HGW-Methanobacteriales-1    </td><td>2013815        </td><td>1</td><td>ATP synthase subunit B</td><td>Methanobacteriales archaeon HGW-Methanobacteriales-1</td></tr>\n",
       "\t<tr><td>8</td><td>b7814232e32442d8a235ae7e4a497c98</td><td>MBC7100188.1</td><td>None                                                                         </td><td>93.305</td><td>463</td><td>31</td><td>1</td><td>1389</td><td>1</td><td>463</td><td>0</td><td>463</td><td>1392</td><td>Methanobacteriaceae archaeon;Methanobacteriales archaeon</td><td>2099680;2478476</td><td>2</td><td>None                  </td><td>None                                                </td></tr>\n",
       "\t<tr><td>⋮</td><td>⋮</td><td>⋮</td><td>⋮</td><td>⋮</td><td>⋮</td><td>⋮</td><td>⋮</td><td>⋮</td><td>⋮</td><td>⋮</td><td>⋮</td><td>⋮</td><td>⋮</td><td>⋮</td><td>⋮</td><td>⋮</td><td>⋮</td><td>⋮</td></tr>\n",
       "\t<tr><td>12</td><td>621c8390148945ba929b23b45a9ee5b3</td><td>WP_012956606.1</td><td>30S ribosomal protein S12 [Methanobrevibacter ruminantium]</td><td>86.525</td><td>141</td><td>19</td><td>1</td><td>423</td><td>1</td><td>141</td><td>1.71e-70</td><td>141</td><td>426</td><td>Methanobrevibacter ruminantium;Methanobrevibacter ruminantium M1</td><td>83816;634498</td><td>29</td><td>30S ribosomal protein S12</td><td>Methanobrevibacter ruminantium</td></tr>\n",
       "\t<tr><td>12</td><td>621c8390148945ba929b23b45a9ee5b3</td><td>TMS40846.1    </td><td>30S ribosomal protein S12 [Methanobacterium sp.]          </td><td>86.525</td><td>141</td><td>19</td><td>1</td><td>423</td><td>1</td><td>141</td><td>1.73e-70</td><td>141</td><td>426</td><td>Methanobacterium sp.                                            </td><td>2164        </td><td>29</td><td>30S ribosomal protein S12</td><td>Methanobacterium sp.          </td></tr>\n",
       "</tbody>\n",
       "</table>\n"
      ],
      "text/latex": [
       "A data.frame: 90 × 19\n",
       "\\begin{tabular}{lllllllllllllllllll}\n",
       " cluster\\_id & query & subject & subject\\_name & pident & length & mismatch & qstart & qend & sstart & send & evalue & slen & qlen & sscinames & staxids & pident\\_rank & gene\\_name & gene\\_taxonomy\\\\\n",
       " <dbl> & <fct> & <fct> & <fct> & <dbl> & <int> & <int> & <int> & <int> & <int> & <int> & <dbl> & <int> & <int> & <fct> & <fct> & <int> & <chr> & <chr>\\\\\n",
       "\\hline\n",
       "\t 8 & b7814232e32442d8a235ae7e4a497c98 & PKL67544.1   & ATP synthase subunit B {[}Methanobacteriales archaeon HGW-Methanobacteriales-1{]} & 93.562 & 466 & 27 & 1 & 1389 & 1 & 466 & 0 & 466 & 1392 & Methanobacteriales archaeon HGW-Methanobacteriales-1     & 2013815         & 1 & ATP synthase subunit B & Methanobacteriales archaeon HGW-Methanobacteriales-1\\\\\n",
       "\t 8 & b7814232e32442d8a235ae7e4a497c98 & MBC7100188.1 & None                                                                          & 93.305 & 463 & 31 & 1 & 1389 & 1 & 463 & 0 & 463 & 1392 & Methanobacteriaceae archaeon;Methanobacteriales archaeon & 2099680;2478476 & 2 & None                   & None                                                \\\\\n",
       "\t ⋮ & ⋮ & ⋮ & ⋮ & ⋮ & ⋮ & ⋮ & ⋮ & ⋮ & ⋮ & ⋮ & ⋮ & ⋮ & ⋮ & ⋮ & ⋮ & ⋮ & ⋮ & ⋮\\\\\n",
       "\t 12 & 621c8390148945ba929b23b45a9ee5b3 & WP\\_012956606.1 & 30S ribosomal protein S12 {[}Methanobrevibacter ruminantium{]} & 86.525 & 141 & 19 & 1 & 423 & 1 & 141 & 1.71e-70 & 141 & 426 & Methanobrevibacter ruminantium;Methanobrevibacter ruminantium M1 & 83816;634498 & 29 & 30S ribosomal protein S12 & Methanobrevibacter ruminantium\\\\\n",
       "\t 12 & 621c8390148945ba929b23b45a9ee5b3 & TMS40846.1     & 30S ribosomal protein S12 {[}Methanobacterium sp.{]}           & 86.525 & 141 & 19 & 1 & 423 & 1 & 141 & 1.73e-70 & 141 & 426 & Methanobacterium sp.                                             & 2164         & 29 & 30S ribosomal protein S12 & Methanobacterium sp.          \\\\\n",
       "\\end{tabular}\n"
      ],
      "text/markdown": [
       "\n",
       "A data.frame: 90 × 19\n",
       "\n",
       "| cluster_id &lt;dbl&gt; | query &lt;fct&gt; | subject &lt;fct&gt; | subject_name &lt;fct&gt; | pident &lt;dbl&gt; | length &lt;int&gt; | mismatch &lt;int&gt; | qstart &lt;int&gt; | qend &lt;int&gt; | sstart &lt;int&gt; | send &lt;int&gt; | evalue &lt;dbl&gt; | slen &lt;int&gt; | qlen &lt;int&gt; | sscinames &lt;fct&gt; | staxids &lt;fct&gt; | pident_rank &lt;int&gt; | gene_name &lt;chr&gt; | gene_taxonomy &lt;chr&gt; |\n",
       "|---|---|---|---|---|---|---|---|---|---|---|---|---|---|---|---|---|---|---|\n",
       "| 8 | b7814232e32442d8a235ae7e4a497c98 | PKL67544.1   | ATP synthase subunit B [Methanobacteriales archaeon HGW-Methanobacteriales-1] | 93.562 | 466 | 27 | 1 | 1389 | 1 | 466 | 0 | 466 | 1392 | Methanobacteriales archaeon HGW-Methanobacteriales-1     | 2013815         | 1 | ATP synthase subunit B | Methanobacteriales archaeon HGW-Methanobacteriales-1 |\n",
       "| 8 | b7814232e32442d8a235ae7e4a497c98 | MBC7100188.1 | None                                                                          | 93.305 | 463 | 31 | 1 | 1389 | 1 | 463 | 0 | 463 | 1392 | Methanobacteriaceae archaeon;Methanobacteriales archaeon | 2099680;2478476 | 2 | None                   | None                                                 |\n",
       "| ⋮ | ⋮ | ⋮ | ⋮ | ⋮ | ⋮ | ⋮ | ⋮ | ⋮ | ⋮ | ⋮ | ⋮ | ⋮ | ⋮ | ⋮ | ⋮ | ⋮ | ⋮ | ⋮ |\n",
       "| 12 | 621c8390148945ba929b23b45a9ee5b3 | WP_012956606.1 | 30S ribosomal protein S12 [Methanobrevibacter ruminantium] | 86.525 | 141 | 19 | 1 | 423 | 1 | 141 | 1.71e-70 | 141 | 426 | Methanobrevibacter ruminantium;Methanobrevibacter ruminantium M1 | 83816;634498 | 29 | 30S ribosomal protein S12 | Methanobrevibacter ruminantium |\n",
       "| 12 | 621c8390148945ba929b23b45a9ee5b3 | TMS40846.1     | 30S ribosomal protein S12 [Methanobacterium sp.]           | 86.525 | 141 | 19 | 1 | 423 | 1 | 141 | 1.73e-70 | 141 | 426 | Methanobacterium sp.                                             | 2164         | 29 | 30S ribosomal protein S12 | Methanobacterium sp.           |\n",
       "\n"
      ],
      "text/plain": [
       "   cluster_id query                            subject       \n",
       "1  8          b7814232e32442d8a235ae7e4a497c98 PKL67544.1    \n",
       "2  8          b7814232e32442d8a235ae7e4a497c98 MBC7100188.1  \n",
       "⋮  ⋮          ⋮                                ⋮             \n",
       "89 12         621c8390148945ba929b23b45a9ee5b3 WP_012956606.1\n",
       "90 12         621c8390148945ba929b23b45a9ee5b3 TMS40846.1    \n",
       "   subject_name                                                                 \n",
       "1  ATP synthase subunit B [Methanobacteriales archaeon HGW-Methanobacteriales-1]\n",
       "2  None                                                                         \n",
       "⋮  ⋮                                                                            \n",
       "89 30S ribosomal protein S12 [Methanobrevibacter ruminantium]                   \n",
       "90 30S ribosomal protein S12 [Methanobacterium sp.]                             \n",
       "   pident length mismatch qstart qend sstart send evalue   slen qlen\n",
       "1  93.562 466    27       1      1389 1      466  0        466  1392\n",
       "2  93.305 463    31       1      1389 1      463  0        463  1392\n",
       "⋮  ⋮      ⋮      ⋮        ⋮      ⋮    ⋮      ⋮    ⋮        ⋮    ⋮   \n",
       "89 86.525 141    19       1      423  1      141  1.71e-70 141  426 \n",
       "90 86.525 141    19       1      423  1      141  1.73e-70 141  426 \n",
       "   sscinames                                                       \n",
       "1  Methanobacteriales archaeon HGW-Methanobacteriales-1            \n",
       "2  Methanobacteriaceae archaeon;Methanobacteriales archaeon        \n",
       "⋮  ⋮                                                               \n",
       "89 Methanobrevibacter ruminantium;Methanobrevibacter ruminantium M1\n",
       "90 Methanobacterium sp.                                            \n",
       "   staxids         pident_rank gene_name                \n",
       "1  2013815         1           ATP synthase subunit B   \n",
       "2  2099680;2478476 2           None                     \n",
       "⋮  ⋮               ⋮           ⋮                        \n",
       "89 83816;634498    29          30S ribosomal protein S12\n",
       "90 2164            29          30S ribosomal protein S12\n",
       "   gene_taxonomy                                       \n",
       "1  Methanobacteriales archaeon HGW-Methanobacteriales-1\n",
       "2  None                                                \n",
       "⋮  ⋮                                                   \n",
       "89 Methanobrevibacter ruminantium                      \n",
       "90 Methanobacterium sp.                                "
      ]
     },
     "metadata": {},
     "output_type": "display_data"
    }
   ],
   "source": [
    "gene_annot = read.delim(file.path(work_dir, 'primers', 'clust0.9', 'cgp', 'core_clusters_blastx_nontarget.tsv'), \n",
    "                        sep='\\t') %>%\n",
    "    mutate(cluster_id = gsub('cluster_', '', cluster_id) %>% as.Num) %>%\n",
    "    semi_join(primer_info, c('cluster_id')) %>%\n",
    "    mutate(gene_name = gsub(' \\\\[.+', '', subject_name),\n",
    "           gene_taxonomy = gsub('.+\\\\[', '', subject_name),\n",
    "           gene_taxonomy = gsub('\\\\]', '', gene_taxonomy))\n",
    "gene_annot"
   ]
  },
  {
   "cell_type": "markdown",
   "metadata": {},
   "source": [
    "## cluster cutoff = 0.8"
   ]
  },
  {
   "cell_type": "markdown",
   "metadata": {},
   "source": [
    "### Config"
   ]
  },
  {
   "cell_type": "code",
   "execution_count": 41,
   "metadata": {
    "execution": {
     "iopub.execute_input": "2021-01-19T18:46:28.910092Z",
     "iopub.status.busy": "2021-01-19T18:46:28.907987Z",
     "iopub.status.idle": "2021-01-19T18:46:28.950805Z"
    }
   },
   "outputs": [
    {
     "name": "stdout",
     "output_type": "stream",
     "text": [
      "#-- I/O --#\n",
      "samples_file: /ebio/abt3_projects/software/dev/ll_pipelines/llprimer/experiments/methanothermobacter/samples_genomes_hq.txt\n",
      "\n",
      "# output location\n",
      "output_dir: /ebio/abt3_projects/software/dev/ll_pipelines/llprimer/experiments/methanothermobacter/primers/clust0.8/\n",
      "\n",
      "# temporary file directory (your username will be added automatically)\n",
      "tmp_dir: /ebio/abt3_scratch/\n",
      "\n",
      "#-- software parameters --#\n",
      "# See the README for a description\n",
      "params:\n",
      "  ionice: -c 3\n",
      "  cgp:\n",
      "    prodigal: \"\"    \n",
      "    mmseqs:\n",
      "      method: cluster    # or linclust (faster)\n",
      "      run: --min-seq-id 0.8 -c 0.8\n",
      "    core_genes: --frac 1 --max-clusters 500\n",
      "    blastx: -evalue 1e-10 -max_target_seqs 3\n",
      "    blastx_nontarget: -evalue 1e-5 -max_target_seqs 30\n",
      "    align:\n",
      "      method: linsi\n",
      "      params: --auto --maxiterate 1000\n",
      "    primer3:\n",
      "      number: --num-primers 500\n",
      "      size: --opt-size 20 --min-size 18 --max-size 24\n",
      "      product: --opt-prod-size 150 --min-prod-size 100 --max-prod-size 200\n",
      "      Tm: --opt-tm 62 --min-tm 55 --max-tm 70 --max-tm-diff 1\n",
      "      PCR: --oligo-DNA 50 --salt-monovalent 50 --salt-divalent 1.5 --dNTPs 0.2\n",
      "      GC: --opt-gc 50 --min-gc 25 --max-gc 75\n",
      "      degeneracy: --max-degeneracy 128 --max-degeneracy-3prime 1 --window-3prime 5\n",
      "      internal_oligo: --make-oligo 0 --int-opt-size 20 --int-opt-tm 60\n",
      "    blastn: -max_target_seqs 500 -perc_identity 90\n",
      "    blast_filter: --perc-len 80 --min-amplicon-len 30 --max-amplicon-len 2000    \n",
      "\n",
      "#-- database --#\n",
      "databases:\n",
      "  blast:\n",
      "    nucl: /ebio/abt3_projects/databases_no-backup/NCBI_blastdb/nt\n",
      "    prot: /ebio/abt3_projects/databases_no-backup/NCBI_blastdb/nr\n",
      "    gene_names: /ebio/abt3_projects/databases_no-backup/NCBI_nr_geneIDs/2021-01/nr_accession-geneNames.pkl\n",
      "  taxonomy:\n",
      "    names: /ebio/abt3_projects/databases_no-backup/NCBI_taxonomy/2020-12-23/names.dmp\n",
      "    nodes: /ebio/abt3_projects/databases_no-backup/NCBI_taxonomy/2020-12-23/nodes.dmp\n",
      "\n",
      "#-- snakemake pipeline --#\n",
      "pipeline:\n",
      "  snakemake_folder: ./\n",
      "  script_folder: bin/scripts/\n",
      "  name: LLPRIMER"
     ]
    }
   ],
   "source": [
    "F = file.path(work_dir, 'primers', 'clust0.8', 'config.yaml')\n",
    "cat_file(F)"
   ]
  },
  {
   "cell_type": "markdown",
   "metadata": {},
   "source": [
    "### Run"
   ]
  },
  {
   "cell_type": "markdown",
   "metadata": {
    "execution": {
     "iopub.execute_input": "2021-01-19T18:46:20.385110Z",
     "iopub.status.busy": "2021-01-19T18:46:20.382868Z",
     "iopub.status.idle": "2021-01-19T18:46:20.399150Z"
    }
   },
   "source": [
    "```\n",
    "(snakemake) @ rick:/ebio/abt3_projects/software/dev/ll_pipelines/llprimer\n",
    "$ screen -L  -S llprimer-thermo ./snakemake_sge.sh /ebio/abt3_projects/software/dev/ll_pipelines/llprimer/experiments/methanothermobacter/primers/clust0.8/config.yaml 30 -F\n",
    "```"
   ]
  },
  {
   "cell_type": "markdown",
   "metadata": {},
   "source": [
    "### Summary"
   ]
  },
  {
   "cell_type": "code",
   "execution_count": 47,
   "metadata": {
    "execution": {
     "iopub.execute_input": "2021-01-20T06:42:07.825058Z",
     "iopub.status.busy": "2021-01-20T06:42:07.822910Z",
     "iopub.status.idle": "2021-01-20T06:42:07.872103Z"
    }
   },
   "outputs": [
    {
     "name": "stdout",
     "output_type": "stream",
     "text": [
      "No. of unique primer sets: 81 \n"
     ]
    },
    {
     "data": {
      "text/html": [
       "<table>\n",
       "<caption>A data.frame: 172 × 21</caption>\n",
       "<thead>\n",
       "\t<tr><th scope=col>cluster_id</th><th scope=col>primer_set</th><th scope=col>amplicon_size_consensus</th><th scope=col>amplicon_size_avg</th><th scope=col>amplicon_size_sd</th><th scope=col>primer_id</th><th scope=col>primer_type</th><th scope=col>sequence</th><th scope=col>length</th><th scope=col>degeneracy</th><th scope=col>⋯</th><th scope=col>position_start</th><th scope=col>position_end</th><th scope=col>Tm_avg</th><th scope=col>Tm_sd</th><th scope=col>GC_avg</th><th scope=col>GC_sd</th><th scope=col>hairpin_avg</th><th scope=col>hairpin_sd</th><th scope=col>homodimer_avg</th><th scope=col>homodimer_sd</th></tr>\n",
       "\t<tr><th scope=col>&lt;int&gt;</th><th scope=col>&lt;int&gt;</th><th scope=col>&lt;int&gt;</th><th scope=col>&lt;dbl&gt;</th><th scope=col>&lt;dbl&gt;</th><th scope=col>&lt;fct&gt;</th><th scope=col>&lt;fct&gt;</th><th scope=col>&lt;fct&gt;</th><th scope=col>&lt;int&gt;</th><th scope=col>&lt;int&gt;</th><th scope=col>⋯</th><th scope=col>&lt;int&gt;</th><th scope=col>&lt;int&gt;</th><th scope=col>&lt;dbl&gt;</th><th scope=col>&lt;dbl&gt;</th><th scope=col>&lt;dbl&gt;</th><th scope=col>&lt;dbl&gt;</th><th scope=col>&lt;dbl&gt;</th><th scope=col>&lt;dbl&gt;</th><th scope=col>&lt;dbl&gt;</th><th scope=col>&lt;dbl&gt;</th></tr>\n",
       "</thead>\n",
       "<tbody>\n",
       "\t<tr><td>4</td><td>249</td><td>171</td><td>171</td><td>0</td><td>249f</td><td>PRIMER_LEFT </td><td>TGMCAARGCAGAAAGRACAGT</td><td>21</td><td> 8</td><td>⋯</td><td>113</td><td>134</td><td>59.73447</td><td>1.852851</td><td>45.23810</td><td>4.123930</td><td>23.66502</td><td>23.66589</td><td>-21.07523</td><td>18.42182</td></tr>\n",
       "\t<tr><td>4</td><td>249</td><td>171</td><td>171</td><td>0</td><td>249r</td><td>PRIMER_RIGHT</td><td>GTYTTRCTBAGGGGTCTGCA </td><td>20</td><td>12</td><td>⋯</td><td>264</td><td>284</td><td>59.61943</td><td>2.155484</td><td>53.33333</td><td>4.249183</td><td>20.66544</td><td>20.66737</td><td>-25.50694</td><td>13.02455</td></tr>\n",
       "\t<tr><td>⋮</td><td>⋮</td><td>⋮</td><td>⋮</td><td>⋮</td><td>⋮</td><td>⋮</td><td>⋮</td><td>⋮</td><td>⋮</td><td>⋱</td><td>⋮</td><td>⋮</td><td>⋮</td><td>⋮</td><td>⋮</td><td>⋮</td><td>⋮</td><td>⋮</td><td>⋮</td><td>⋮</td></tr>\n",
       "\t<tr><td>138</td><td>156</td><td>141</td><td>138.1875</td><td>0.7261844</td><td>156f</td><td>PRIMER_LEFT </td><td>GAGRRTMTGYCCDGTYGACGC</td><td>21</td><td>96</td><td>⋯</td><td>605</td><td>626</td><td>63.34397</td><td>2.607826</td><td>61.11111</td><td>5.777865</td><td>41.45388</td><td>17.01681</td><td>-0.3463405</td><td>20.56855</td></tr>\n",
       "\t<tr><td>138</td><td>156</td><td>141</td><td>138.1875</td><td>0.7261844</td><td>156r</td><td>PRIMER_RIGHT</td><td>TCYTGGCACCAKCCRCAGTT </td><td>20</td><td> 8</td><td>⋯</td><td>726</td><td>746</td><td>63.95472</td><td>2.193368</td><td>57.50000</td><td>4.330127</td><td>41.81445</td><td>27.59680</td><td>-9.1657602</td><td>19.13659</td></tr>\n",
       "</tbody>\n",
       "</table>\n"
      ],
      "text/latex": [
       "A data.frame: 172 × 21\n",
       "\\begin{tabular}{lllllllllllllllllllll}\n",
       " cluster\\_id & primer\\_set & amplicon\\_size\\_consensus & amplicon\\_size\\_avg & amplicon\\_size\\_sd & primer\\_id & primer\\_type & sequence & length & degeneracy & ⋯ & position\\_start & position\\_end & Tm\\_avg & Tm\\_sd & GC\\_avg & GC\\_sd & hairpin\\_avg & hairpin\\_sd & homodimer\\_avg & homodimer\\_sd\\\\\n",
       " <int> & <int> & <int> & <dbl> & <dbl> & <fct> & <fct> & <fct> & <int> & <int> & ⋯ & <int> & <int> & <dbl> & <dbl> & <dbl> & <dbl> & <dbl> & <dbl> & <dbl> & <dbl>\\\\\n",
       "\\hline\n",
       "\t 4 & 249 & 171 & 171 & 0 & 249f & PRIMER\\_LEFT  & TGMCAARGCAGAAAGRACAGT & 21 &  8 & ⋯ & 113 & 134 & 59.73447 & 1.852851 & 45.23810 & 4.123930 & 23.66502 & 23.66589 & -21.07523 & 18.42182\\\\\n",
       "\t 4 & 249 & 171 & 171 & 0 & 249r & PRIMER\\_RIGHT & GTYTTRCTBAGGGGTCTGCA  & 20 & 12 & ⋯ & 264 & 284 & 59.61943 & 2.155484 & 53.33333 & 4.249183 & 20.66544 & 20.66737 & -25.50694 & 13.02455\\\\\n",
       "\t ⋮ & ⋮ & ⋮ & ⋮ & ⋮ & ⋮ & ⋮ & ⋮ & ⋮ & ⋮ & ⋱ & ⋮ & ⋮ & ⋮ & ⋮ & ⋮ & ⋮ & ⋮ & ⋮ & ⋮ & ⋮\\\\\n",
       "\t 138 & 156 & 141 & 138.1875 & 0.7261844 & 156f & PRIMER\\_LEFT  & GAGRRTMTGYCCDGTYGACGC & 21 & 96 & ⋯ & 605 & 626 & 63.34397 & 2.607826 & 61.11111 & 5.777865 & 41.45388 & 17.01681 & -0.3463405 & 20.56855\\\\\n",
       "\t 138 & 156 & 141 & 138.1875 & 0.7261844 & 156r & PRIMER\\_RIGHT & TCYTGGCACCAKCCRCAGTT  & 20 &  8 & ⋯ & 726 & 746 & 63.95472 & 2.193368 & 57.50000 & 4.330127 & 41.81445 & 27.59680 & -9.1657602 & 19.13659\\\\\n",
       "\\end{tabular}\n"
      ],
      "text/markdown": [
       "\n",
       "A data.frame: 172 × 21\n",
       "\n",
       "| cluster_id &lt;int&gt; | primer_set &lt;int&gt; | amplicon_size_consensus &lt;int&gt; | amplicon_size_avg &lt;dbl&gt; | amplicon_size_sd &lt;dbl&gt; | primer_id &lt;fct&gt; | primer_type &lt;fct&gt; | sequence &lt;fct&gt; | length &lt;int&gt; | degeneracy &lt;int&gt; | ⋯ ⋯ | position_start &lt;int&gt; | position_end &lt;int&gt; | Tm_avg &lt;dbl&gt; | Tm_sd &lt;dbl&gt; | GC_avg &lt;dbl&gt; | GC_sd &lt;dbl&gt; | hairpin_avg &lt;dbl&gt; | hairpin_sd &lt;dbl&gt; | homodimer_avg &lt;dbl&gt; | homodimer_sd &lt;dbl&gt; |\n",
       "|---|---|---|---|---|---|---|---|---|---|---|---|---|---|---|---|---|---|---|---|---|\n",
       "| 4 | 249 | 171 | 171 | 0 | 249f | PRIMER_LEFT  | TGMCAARGCAGAAAGRACAGT | 21 |  8 | ⋯ | 113 | 134 | 59.73447 | 1.852851 | 45.23810 | 4.123930 | 23.66502 | 23.66589 | -21.07523 | 18.42182 |\n",
       "| 4 | 249 | 171 | 171 | 0 | 249r | PRIMER_RIGHT | GTYTTRCTBAGGGGTCTGCA  | 20 | 12 | ⋯ | 264 | 284 | 59.61943 | 2.155484 | 53.33333 | 4.249183 | 20.66544 | 20.66737 | -25.50694 | 13.02455 |\n",
       "| ⋮ | ⋮ | ⋮ | ⋮ | ⋮ | ⋮ | ⋮ | ⋮ | ⋮ | ⋮ | ⋱ | ⋮ | ⋮ | ⋮ | ⋮ | ⋮ | ⋮ | ⋮ | ⋮ | ⋮ | ⋮ |\n",
       "| 138 | 156 | 141 | 138.1875 | 0.7261844 | 156f | PRIMER_LEFT  | GAGRRTMTGYCCDGTYGACGC | 21 | 96 | ⋯ | 605 | 626 | 63.34397 | 2.607826 | 61.11111 | 5.777865 | 41.45388 | 17.01681 | -0.3463405 | 20.56855 |\n",
       "| 138 | 156 | 141 | 138.1875 | 0.7261844 | 156r | PRIMER_RIGHT | TCYTGGCACCAKCCRCAGTT  | 20 |  8 | ⋯ | 726 | 746 | 63.95472 | 2.193368 | 57.50000 | 4.330127 | 41.81445 | 27.59680 | -9.1657602 | 19.13659 |\n",
       "\n"
      ],
      "text/plain": [
       "    cluster_id primer_set amplicon_size_consensus amplicon_size_avg\n",
       "1   4          249        171                     171              \n",
       "2   4          249        171                     171              \n",
       "⋮   ⋮          ⋮          ⋮                       ⋮                \n",
       "171 138        156        141                     138.1875         \n",
       "172 138        156        141                     138.1875         \n",
       "    amplicon_size_sd primer_id primer_type  sequence              length\n",
       "1   0                249f      PRIMER_LEFT  TGMCAARGCAGAAAGRACAGT 21    \n",
       "2   0                249r      PRIMER_RIGHT GTYTTRCTBAGGGGTCTGCA  20    \n",
       "⋮   ⋮                ⋮         ⋮            ⋮                     ⋮     \n",
       "171 0.7261844        156f      PRIMER_LEFT  GAGRRTMTGYCCDGTYGACGC 21    \n",
       "172 0.7261844        156r      PRIMER_RIGHT TCYTGGCACCAKCCRCAGTT  20    \n",
       "    degeneracy ⋯ position_start position_end Tm_avg   Tm_sd    GC_avg  \n",
       "1    8         ⋯ 113            134          59.73447 1.852851 45.23810\n",
       "2   12         ⋯ 264            284          59.61943 2.155484 53.33333\n",
       "⋮   ⋮          ⋱ ⋮              ⋮            ⋮        ⋮        ⋮       \n",
       "171 96         ⋯ 605            626          63.34397 2.607826 61.11111\n",
       "172  8         ⋯ 726            746          63.95472 2.193368 57.50000\n",
       "    GC_sd    hairpin_avg hairpin_sd homodimer_avg homodimer_sd\n",
       "1   4.123930 23.66502    23.66589   -21.07523     18.42182    \n",
       "2   4.249183 20.66544    20.66737   -25.50694     13.02455    \n",
       "⋮   ⋮        ⋮           ⋮          ⋮             ⋮           \n",
       "171 5.777865 41.45388    17.01681   -0.3463405    20.56855    \n",
       "172 4.330127 41.81445    27.59680   -9.1657602    19.13659    "
      ]
     },
     "metadata": {},
     "output_type": "display_data"
    }
   ],
   "source": [
    "primer_info = read.delim(file.path(work_dir, 'primers', 'clust0.8', 'cgp', 'primers_final_info.tsv'), sep='\\t')\n",
    "primer_info %>% unique_n('primer sets', primer_set)\n",
    "primer_info"
   ]
  },
  {
   "cell_type": "code",
   "execution_count": 49,
   "metadata": {
    "execution": {
     "iopub.execute_input": "2021-01-20T06:42:44.187654Z",
     "iopub.status.busy": "2021-01-20T06:42:44.185622Z",
     "iopub.status.idle": "2021-01-20T06:42:44.261701Z"
    }
   },
   "outputs": [
    {
     "data": {
      "text/html": [
       "<table>\n",
       "<caption>A data.frame: 75 × 19</caption>\n",
       "<thead>\n",
       "\t<tr><th scope=col>cluster_id</th><th scope=col>query</th><th scope=col>subject</th><th scope=col>subject_name</th><th scope=col>pident</th><th scope=col>length</th><th scope=col>mismatch</th><th scope=col>qstart</th><th scope=col>qend</th><th scope=col>sstart</th><th scope=col>send</th><th scope=col>evalue</th><th scope=col>slen</th><th scope=col>qlen</th><th scope=col>sscinames</th><th scope=col>staxids</th><th scope=col>pident_rank</th><th scope=col>gene_name</th><th scope=col>gene_taxonomy</th></tr>\n",
       "\t<tr><th scope=col>&lt;dbl&gt;</th><th scope=col>&lt;fct&gt;</th><th scope=col>&lt;fct&gt;</th><th scope=col>&lt;fct&gt;</th><th scope=col>&lt;dbl&gt;</th><th scope=col>&lt;int&gt;</th><th scope=col>&lt;int&gt;</th><th scope=col>&lt;int&gt;</th><th scope=col>&lt;int&gt;</th><th scope=col>&lt;int&gt;</th><th scope=col>&lt;int&gt;</th><th scope=col>&lt;dbl&gt;</th><th scope=col>&lt;int&gt;</th><th scope=col>&lt;int&gt;</th><th scope=col>&lt;fct&gt;</th><th scope=col>&lt;fct&gt;</th><th scope=col>&lt;int&gt;</th><th scope=col>&lt;chr&gt;</th><th scope=col>&lt;chr&gt;</th></tr>\n",
       "</thead>\n",
       "<tbody>\n",
       "\t<tr><td>4</td><td>00f2e6d9f0a7445d854bec355188e716</td><td>SCM56344.1    </td><td>30S ribosomal protein S17P {ECO:0000255|HAMAP-Rule:MF_01345} [Methanothermobacter wolfeii]</td><td>100</td><td>107</td><td>0</td><td>1</td><td>321</td><td>1</td><td>107</td><td>1.40e-55</td><td>107</td><td>324</td><td>Methanothermobacter wolfeii                              </td><td>145261        </td><td>2</td><td>30S ribosomal protein S17P {ECO:0000255|HAMAP-Rule:MF_01345}</td><td>Methanothermobacter wolfeii  </td></tr>\n",
       "\t<tr><td>4</td><td>00f2e6d9f0a7445d854bec355188e716</td><td>WP_074358574.1</td><td>30S ribosomal protein S17 [Methanothermobacter sp. THM-1]                                 </td><td>100</td><td>106</td><td>0</td><td>4</td><td>321</td><td>1</td><td>106</td><td>1.21e-54</td><td>106</td><td>324</td><td>Methanothermobacter wolfeii;Methanothermobacter sp. THM-1</td><td>145261;2606911</td><td>2</td><td>30S ribosomal protein S17                                   </td><td>Methanothermobacter sp. THM-1</td></tr>\n",
       "\t<tr><td>⋮</td><td>⋮</td><td>⋮</td><td>⋮</td><td>⋮</td><td>⋮</td><td>⋮</td><td>⋮</td><td>⋮</td><td>⋮</td><td>⋮</td><td>⋮</td><td>⋮</td><td>⋮</td><td>⋮</td><td>⋮</td><td>⋮</td><td>⋮</td><td>⋮</td></tr>\n",
       "\t<tr><td>138</td><td>586b20f2afb7485f9ac6220c90feb817</td><td>MBC7101338.1</td><td>4Fe-4S binding protein [Methanobacteriales archaeon]</td><td>99.714</td><td>350</td><td>1</td><td>1</td><td>1050</td><td>1</td><td>350</td><td>0</td><td>350</td><td>1053</td><td>Methanobacteriaceae archaeon;Methanobacteriales archaeon</td><td>2099680;2478476</td><td>1</td><td>4Fe-4S binding protein</td><td>Methanobacteriales archaeon</td></tr>\n",
       "\t<tr><td>138</td><td>586b20f2afb7485f9ac6220c90feb817</td><td>HHW17164.1  </td><td>4Fe-4S binding protein [Methanothermobacter sp.]    </td><td>97.429</td><td>350</td><td>9</td><td>1</td><td>1050</td><td>1</td><td>350</td><td>0</td><td>350</td><td>1053</td><td>Methanothermobacter sp.                                 </td><td>1884223        </td><td>2</td><td>4Fe-4S binding protein</td><td>Methanothermobacter sp.    </td></tr>\n",
       "</tbody>\n",
       "</table>\n"
      ],
      "text/latex": [
       "A data.frame: 75 × 19\n",
       "\\begin{tabular}{lllllllllllllllllll}\n",
       " cluster\\_id & query & subject & subject\\_name & pident & length & mismatch & qstart & qend & sstart & send & evalue & slen & qlen & sscinames & staxids & pident\\_rank & gene\\_name & gene\\_taxonomy\\\\\n",
       " <dbl> & <fct> & <fct> & <fct> & <dbl> & <int> & <int> & <int> & <int> & <int> & <int> & <dbl> & <int> & <int> & <fct> & <fct> & <int> & <chr> & <chr>\\\\\n",
       "\\hline\n",
       "\t 4 & 00f2e6d9f0a7445d854bec355188e716 & SCM56344.1     & 30S ribosomal protein S17P \\{ECO:0000255\\textbar{}HAMAP-Rule:MF\\_01345\\} {[}Methanothermobacter wolfeii{]} & 100 & 107 & 0 & 1 & 321 & 1 & 107 & 1.40e-55 & 107 & 324 & Methanothermobacter wolfeii                               & 145261         & 2 & 30S ribosomal protein S17P \\{ECO:0000255\\textbar{}HAMAP-Rule:MF\\_01345\\} & Methanothermobacter wolfeii  \\\\\n",
       "\t 4 & 00f2e6d9f0a7445d854bec355188e716 & WP\\_074358574.1 & 30S ribosomal protein S17 {[}Methanothermobacter sp. THM-1{]}                                  & 100 & 106 & 0 & 4 & 321 & 1 & 106 & 1.21e-54 & 106 & 324 & Methanothermobacter wolfeii;Methanothermobacter sp. THM-1 & 145261;2606911 & 2 & 30S ribosomal protein S17                                    & Methanothermobacter sp. THM-1\\\\\n",
       "\t ⋮ & ⋮ & ⋮ & ⋮ & ⋮ & ⋮ & ⋮ & ⋮ & ⋮ & ⋮ & ⋮ & ⋮ & ⋮ & ⋮ & ⋮ & ⋮ & ⋮ & ⋮ & ⋮\\\\\n",
       "\t 138 & 586b20f2afb7485f9ac6220c90feb817 & MBC7101338.1 & 4Fe-4S binding protein {[}Methanobacteriales archaeon{]} & 99.714 & 350 & 1 & 1 & 1050 & 1 & 350 & 0 & 350 & 1053 & Methanobacteriaceae archaeon;Methanobacteriales archaeon & 2099680;2478476 & 1 & 4Fe-4S binding protein & Methanobacteriales archaeon\\\\\n",
       "\t 138 & 586b20f2afb7485f9ac6220c90feb817 & HHW17164.1   & 4Fe-4S binding protein {[}Methanothermobacter sp.{]}     & 97.429 & 350 & 9 & 1 & 1050 & 1 & 350 & 0 & 350 & 1053 & Methanothermobacter sp.                                  & 1884223         & 2 & 4Fe-4S binding protein & Methanothermobacter sp.    \\\\\n",
       "\\end{tabular}\n"
      ],
      "text/markdown": [
       "\n",
       "A data.frame: 75 × 19\n",
       "\n",
       "| cluster_id &lt;dbl&gt; | query &lt;fct&gt; | subject &lt;fct&gt; | subject_name &lt;fct&gt; | pident &lt;dbl&gt; | length &lt;int&gt; | mismatch &lt;int&gt; | qstart &lt;int&gt; | qend &lt;int&gt; | sstart &lt;int&gt; | send &lt;int&gt; | evalue &lt;dbl&gt; | slen &lt;int&gt; | qlen &lt;int&gt; | sscinames &lt;fct&gt; | staxids &lt;fct&gt; | pident_rank &lt;int&gt; | gene_name &lt;chr&gt; | gene_taxonomy &lt;chr&gt; |\n",
       "|---|---|---|---|---|---|---|---|---|---|---|---|---|---|---|---|---|---|---|\n",
       "| 4 | 00f2e6d9f0a7445d854bec355188e716 | SCM56344.1     | 30S ribosomal protein S17P {ECO:0000255|HAMAP-Rule:MF_01345} [Methanothermobacter wolfeii] | 100 | 107 | 0 | 1 | 321 | 1 | 107 | 1.40e-55 | 107 | 324 | Methanothermobacter wolfeii                               | 145261         | 2 | 30S ribosomal protein S17P {ECO:0000255|HAMAP-Rule:MF_01345} | Methanothermobacter wolfeii   |\n",
       "| 4 | 00f2e6d9f0a7445d854bec355188e716 | WP_074358574.1 | 30S ribosomal protein S17 [Methanothermobacter sp. THM-1]                                  | 100 | 106 | 0 | 4 | 321 | 1 | 106 | 1.21e-54 | 106 | 324 | Methanothermobacter wolfeii;Methanothermobacter sp. THM-1 | 145261;2606911 | 2 | 30S ribosomal protein S17                                    | Methanothermobacter sp. THM-1 |\n",
       "| ⋮ | ⋮ | ⋮ | ⋮ | ⋮ | ⋮ | ⋮ | ⋮ | ⋮ | ⋮ | ⋮ | ⋮ | ⋮ | ⋮ | ⋮ | ⋮ | ⋮ | ⋮ | ⋮ |\n",
       "| 138 | 586b20f2afb7485f9ac6220c90feb817 | MBC7101338.1 | 4Fe-4S binding protein [Methanobacteriales archaeon] | 99.714 | 350 | 1 | 1 | 1050 | 1 | 350 | 0 | 350 | 1053 | Methanobacteriaceae archaeon;Methanobacteriales archaeon | 2099680;2478476 | 1 | 4Fe-4S binding protein | Methanobacteriales archaeon |\n",
       "| 138 | 586b20f2afb7485f9ac6220c90feb817 | HHW17164.1   | 4Fe-4S binding protein [Methanothermobacter sp.]     | 97.429 | 350 | 9 | 1 | 1050 | 1 | 350 | 0 | 350 | 1053 | Methanothermobacter sp.                                  | 1884223         | 2 | 4Fe-4S binding protein | Methanothermobacter sp.     |\n",
       "\n"
      ],
      "text/plain": [
       "   cluster_id query                            subject       \n",
       "1  4          00f2e6d9f0a7445d854bec355188e716 SCM56344.1    \n",
       "2  4          00f2e6d9f0a7445d854bec355188e716 WP_074358574.1\n",
       "⋮  ⋮          ⋮                                ⋮             \n",
       "74 138        586b20f2afb7485f9ac6220c90feb817 MBC7101338.1  \n",
       "75 138        586b20f2afb7485f9ac6220c90feb817 HHW17164.1    \n",
       "   subject_name                                                                              \n",
       "1  30S ribosomal protein S17P {ECO:0000255|HAMAP-Rule:MF_01345} [Methanothermobacter wolfeii]\n",
       "2  30S ribosomal protein S17 [Methanothermobacter sp. THM-1]                                 \n",
       "⋮  ⋮                                                                                         \n",
       "74 4Fe-4S binding protein [Methanobacteriales archaeon]                                      \n",
       "75 4Fe-4S binding protein [Methanothermobacter sp.]                                          \n",
       "   pident length mismatch qstart qend sstart send evalue   slen qlen\n",
       "1  100    107    0        1      321  1      107  1.40e-55 107  324 \n",
       "2  100    106    0        4      321  1      106  1.21e-54 106  324 \n",
       "⋮  ⋮      ⋮      ⋮        ⋮      ⋮    ⋮      ⋮    ⋮        ⋮    ⋮   \n",
       "74 99.714 350    1        1      1050 1      350  0        350  1053\n",
       "75 97.429 350    9        1      1050 1      350  0        350  1053\n",
       "   sscinames                                                 staxids        \n",
       "1  Methanothermobacter wolfeii                               145261         \n",
       "2  Methanothermobacter wolfeii;Methanothermobacter sp. THM-1 145261;2606911 \n",
       "⋮  ⋮                                                         ⋮              \n",
       "74 Methanobacteriaceae archaeon;Methanobacteriales archaeon  2099680;2478476\n",
       "75 Methanothermobacter sp.                                   1884223        \n",
       "   pident_rank gene_name                                                   \n",
       "1  2           30S ribosomal protein S17P {ECO:0000255|HAMAP-Rule:MF_01345}\n",
       "2  2           30S ribosomal protein S17                                   \n",
       "⋮  ⋮           ⋮                                                           \n",
       "74 1           4Fe-4S binding protein                                      \n",
       "75 2           4Fe-4S binding protein                                      \n",
       "   gene_taxonomy                \n",
       "1  Methanothermobacter wolfeii  \n",
       "2  Methanothermobacter sp. THM-1\n",
       "⋮  ⋮                            \n",
       "74 Methanobacteriales archaeon  \n",
       "75 Methanothermobacter sp.      "
      ]
     },
     "metadata": {},
     "output_type": "display_data"
    }
   ],
   "source": [
    "gene_annot = read.delim(file.path(work_dir, 'primers', 'clust0.8', 'cgp', 'core_clusters_blastx.tsv'), \n",
    "                        sep='\\t') %>%\n",
    "    mutate(cluster_id = gsub('cluster_', '', cluster_id) %>% as.Num) %>%\n",
    "    semi_join(primer_info, c('cluster_id')) %>%\n",
    "    mutate(gene_name = gsub(' \\\\[.+', '', subject_name),\n",
    "           gene_taxonomy = gsub('.+\\\\[', '', subject_name),\n",
    "           gene_taxonomy = gsub('\\\\]', '', gene_taxonomy))\n",
    "gene_annot"
   ]
  },
  {
   "cell_type": "code",
   "execution_count": 52,
   "metadata": {
    "execution": {
     "iopub.execute_input": "2021-01-20T06:43:04.580523Z",
     "iopub.status.busy": "2021-01-20T06:43:04.577609Z",
     "iopub.status.idle": "2021-01-20T06:43:04.724267Z"
    }
   },
   "outputs": [
    {
     "data": {
      "text/html": [
       "<table>\n",
       "<caption>A data.frame: 750 × 19</caption>\n",
       "<thead>\n",
       "\t<tr><th scope=col>cluster_id</th><th scope=col>query</th><th scope=col>subject</th><th scope=col>subject_name</th><th scope=col>pident</th><th scope=col>length</th><th scope=col>mismatch</th><th scope=col>qstart</th><th scope=col>qend</th><th scope=col>sstart</th><th scope=col>send</th><th scope=col>evalue</th><th scope=col>slen</th><th scope=col>qlen</th><th scope=col>sscinames</th><th scope=col>staxids</th><th scope=col>pident_rank</th><th scope=col>gene_name</th><th scope=col>gene_taxonomy</th></tr>\n",
       "\t<tr><th scope=col>&lt;dbl&gt;</th><th scope=col>&lt;fct&gt;</th><th scope=col>&lt;fct&gt;</th><th scope=col>&lt;fct&gt;</th><th scope=col>&lt;dbl&gt;</th><th scope=col>&lt;int&gt;</th><th scope=col>&lt;int&gt;</th><th scope=col>&lt;int&gt;</th><th scope=col>&lt;int&gt;</th><th scope=col>&lt;int&gt;</th><th scope=col>&lt;int&gt;</th><th scope=col>&lt;dbl&gt;</th><th scope=col>&lt;int&gt;</th><th scope=col>&lt;int&gt;</th><th scope=col>&lt;fct&gt;</th><th scope=col>&lt;fct&gt;</th><th scope=col>&lt;int&gt;</th><th scope=col>&lt;chr&gt;</th><th scope=col>&lt;chr&gt;</th></tr>\n",
       "</thead>\n",
       "<tbody>\n",
       "\t<tr><td>4</td><td>00f2e6d9f0a7445d854bec355188e716</td><td>AXV38277.1</td><td>30S ribosomal protein S17 [Methanobacterium sp. BRmetb2]</td><td>90.476</td><td>105</td><td>10</td><td>4</td><td>318</td><td>1</td><td>105</td><td>3.29e-48</td><td>106</td><td>324</td><td>Methanobacterium sp. BRmetb2</td><td>2025350</td><td>1</td><td>30S ribosomal protein S17</td><td>Methanobacterium sp. BRmetb2</td></tr>\n",
       "\t<tr><td>4</td><td>00f2e6d9f0a7445d854bec355188e716</td><td>CDG64881.1</td><td>30S ribosomal protein S17 [Methanobacterium sp. MB1]    </td><td>87.619</td><td>105</td><td>13</td><td>4</td><td>318</td><td>1</td><td>105</td><td>3.15e-46</td><td>107</td><td>324</td><td>Methanobacterium sp. MB1    </td><td>1379702</td><td>2</td><td>30S ribosomal protein S17</td><td>Methanobacterium sp. MB1    </td></tr>\n",
       "\t<tr><td>⋮</td><td>⋮</td><td>⋮</td><td>⋮</td><td>⋮</td><td>⋮</td><td>⋮</td><td>⋮</td><td>⋮</td><td>⋮</td><td>⋮</td><td>⋮</td><td>⋮</td><td>⋮</td><td>⋮</td><td>⋮</td><td>⋮</td><td>⋮</td><td>⋮</td></tr>\n",
       "\t<tr><td>138</td><td>586b20f2afb7485f9ac6220c90feb817</td><td>PKL66942.1    </td><td>ferredoxin [Methanobacteriales archaeon HGW-Methanobacteriales-1]</td><td>59.587</td><td>339</td><td>128</td><td>34</td><td>1044</td><td>11</td><td>342</td><td>1.11e-136</td><td>344</td><td>1053</td><td>Methanobacteriales archaeon HGW-Methanobacteriales-1               </td><td>2013815          </td><td>28</td><td>ferredoxin                          </td><td>Methanobacteriales archaeon HGW-Methanobacteriales-1</td></tr>\n",
       "\t<tr><td>138</td><td>586b20f2afb7485f9ac6220c90feb817</td><td>WP_069584504.1</td><td>MULTISPECIES: 4Fe-4S binding protein [Methanobacterium]          </td><td>59.357</td><td>342</td><td>131</td><td>25</td><td>1044</td><td> 9</td><td>344</td><td>4.22e-133</td><td>346</td><td>1053</td><td>Methanobacterium;Methanobacterium bryantii;Methanobacterium sp. A39</td><td>2160;2161;1860100</td><td>29</td><td>MULTISPECIES: 4Fe-4S binding protein</td><td>Methanobacterium                                    </td></tr>\n",
       "</tbody>\n",
       "</table>\n"
      ],
      "text/latex": [
       "A data.frame: 750 × 19\n",
       "\\begin{tabular}{lllllllllllllllllll}\n",
       " cluster\\_id & query & subject & subject\\_name & pident & length & mismatch & qstart & qend & sstart & send & evalue & slen & qlen & sscinames & staxids & pident\\_rank & gene\\_name & gene\\_taxonomy\\\\\n",
       " <dbl> & <fct> & <fct> & <fct> & <dbl> & <int> & <int> & <int> & <int> & <int> & <int> & <dbl> & <int> & <int> & <fct> & <fct> & <int> & <chr> & <chr>\\\\\n",
       "\\hline\n",
       "\t 4 & 00f2e6d9f0a7445d854bec355188e716 & AXV38277.1 & 30S ribosomal protein S17 {[}Methanobacterium sp. BRmetb2{]} & 90.476 & 105 & 10 & 4 & 318 & 1 & 105 & 3.29e-48 & 106 & 324 & Methanobacterium sp. BRmetb2 & 2025350 & 1 & 30S ribosomal protein S17 & Methanobacterium sp. BRmetb2\\\\\n",
       "\t 4 & 00f2e6d9f0a7445d854bec355188e716 & CDG64881.1 & 30S ribosomal protein S17 {[}Methanobacterium sp. MB1{]}     & 87.619 & 105 & 13 & 4 & 318 & 1 & 105 & 3.15e-46 & 107 & 324 & Methanobacterium sp. MB1     & 1379702 & 2 & 30S ribosomal protein S17 & Methanobacterium sp. MB1    \\\\\n",
       "\t ⋮ & ⋮ & ⋮ & ⋮ & ⋮ & ⋮ & ⋮ & ⋮ & ⋮ & ⋮ & ⋮ & ⋮ & ⋮ & ⋮ & ⋮ & ⋮ & ⋮ & ⋮ & ⋮\\\\\n",
       "\t 138 & 586b20f2afb7485f9ac6220c90feb817 & PKL66942.1     & ferredoxin {[}Methanobacteriales archaeon HGW-Methanobacteriales-1{]} & 59.587 & 339 & 128 & 34 & 1044 & 11 & 342 & 1.11e-136 & 344 & 1053 & Methanobacteriales archaeon HGW-Methanobacteriales-1                & 2013815           & 28 & ferredoxin                           & Methanobacteriales archaeon HGW-Methanobacteriales-1\\\\\n",
       "\t 138 & 586b20f2afb7485f9ac6220c90feb817 & WP\\_069584504.1 & MULTISPECIES: 4Fe-4S binding protein {[}Methanobacterium{]}           & 59.357 & 342 & 131 & 25 & 1044 &  9 & 344 & 4.22e-133 & 346 & 1053 & Methanobacterium;Methanobacterium bryantii;Methanobacterium sp. A39 & 2160;2161;1860100 & 29 & MULTISPECIES: 4Fe-4S binding protein & Methanobacterium                                    \\\\\n",
       "\\end{tabular}\n"
      ],
      "text/markdown": [
       "\n",
       "A data.frame: 750 × 19\n",
       "\n",
       "| cluster_id &lt;dbl&gt; | query &lt;fct&gt; | subject &lt;fct&gt; | subject_name &lt;fct&gt; | pident &lt;dbl&gt; | length &lt;int&gt; | mismatch &lt;int&gt; | qstart &lt;int&gt; | qend &lt;int&gt; | sstart &lt;int&gt; | send &lt;int&gt; | evalue &lt;dbl&gt; | slen &lt;int&gt; | qlen &lt;int&gt; | sscinames &lt;fct&gt; | staxids &lt;fct&gt; | pident_rank &lt;int&gt; | gene_name &lt;chr&gt; | gene_taxonomy &lt;chr&gt; |\n",
       "|---|---|---|---|---|---|---|---|---|---|---|---|---|---|---|---|---|---|---|\n",
       "| 4 | 00f2e6d9f0a7445d854bec355188e716 | AXV38277.1 | 30S ribosomal protein S17 [Methanobacterium sp. BRmetb2] | 90.476 | 105 | 10 | 4 | 318 | 1 | 105 | 3.29e-48 | 106 | 324 | Methanobacterium sp. BRmetb2 | 2025350 | 1 | 30S ribosomal protein S17 | Methanobacterium sp. BRmetb2 |\n",
       "| 4 | 00f2e6d9f0a7445d854bec355188e716 | CDG64881.1 | 30S ribosomal protein S17 [Methanobacterium sp. MB1]     | 87.619 | 105 | 13 | 4 | 318 | 1 | 105 | 3.15e-46 | 107 | 324 | Methanobacterium sp. MB1     | 1379702 | 2 | 30S ribosomal protein S17 | Methanobacterium sp. MB1     |\n",
       "| ⋮ | ⋮ | ⋮ | ⋮ | ⋮ | ⋮ | ⋮ | ⋮ | ⋮ | ⋮ | ⋮ | ⋮ | ⋮ | ⋮ | ⋮ | ⋮ | ⋮ | ⋮ | ⋮ |\n",
       "| 138 | 586b20f2afb7485f9ac6220c90feb817 | PKL66942.1     | ferredoxin [Methanobacteriales archaeon HGW-Methanobacteriales-1] | 59.587 | 339 | 128 | 34 | 1044 | 11 | 342 | 1.11e-136 | 344 | 1053 | Methanobacteriales archaeon HGW-Methanobacteriales-1                | 2013815           | 28 | ferredoxin                           | Methanobacteriales archaeon HGW-Methanobacteriales-1 |\n",
       "| 138 | 586b20f2afb7485f9ac6220c90feb817 | WP_069584504.1 | MULTISPECIES: 4Fe-4S binding protein [Methanobacterium]           | 59.357 | 342 | 131 | 25 | 1044 |  9 | 344 | 4.22e-133 | 346 | 1053 | Methanobacterium;Methanobacterium bryantii;Methanobacterium sp. A39 | 2160;2161;1860100 | 29 | MULTISPECIES: 4Fe-4S binding protein | Methanobacterium                                     |\n",
       "\n"
      ],
      "text/plain": [
       "    cluster_id query                            subject       \n",
       "1   4          00f2e6d9f0a7445d854bec355188e716 AXV38277.1    \n",
       "2   4          00f2e6d9f0a7445d854bec355188e716 CDG64881.1    \n",
       "⋮   ⋮          ⋮                                ⋮             \n",
       "749 138        586b20f2afb7485f9ac6220c90feb817 PKL66942.1    \n",
       "750 138        586b20f2afb7485f9ac6220c90feb817 WP_069584504.1\n",
       "    subject_name                                                      pident\n",
       "1   30S ribosomal protein S17 [Methanobacterium sp. BRmetb2]          90.476\n",
       "2   30S ribosomal protein S17 [Methanobacterium sp. MB1]              87.619\n",
       "⋮   ⋮                                                                 ⋮     \n",
       "749 ferredoxin [Methanobacteriales archaeon HGW-Methanobacteriales-1] 59.587\n",
       "750 MULTISPECIES: 4Fe-4S binding protein [Methanobacterium]           59.357\n",
       "    length mismatch qstart qend sstart send evalue    slen qlen\n",
       "1   105    10       4      318  1      105  3.29e-48  106  324 \n",
       "2   105    13       4      318  1      105  3.15e-46  107  324 \n",
       "⋮   ⋮      ⋮        ⋮      ⋮    ⋮      ⋮    ⋮         ⋮    ⋮   \n",
       "749 339    128      34     1044 11     342  1.11e-136 344  1053\n",
       "750 342    131      25     1044  9     344  4.22e-133 346  1053\n",
       "    sscinames                                                          \n",
       "1   Methanobacterium sp. BRmetb2                                       \n",
       "2   Methanobacterium sp. MB1                                           \n",
       "⋮   ⋮                                                                  \n",
       "749 Methanobacteriales archaeon HGW-Methanobacteriales-1               \n",
       "750 Methanobacterium;Methanobacterium bryantii;Methanobacterium sp. A39\n",
       "    staxids           pident_rank gene_name                           \n",
       "1   2025350           1           30S ribosomal protein S17           \n",
       "2   1379702           2           30S ribosomal protein S17           \n",
       "⋮   ⋮                 ⋮           ⋮                                   \n",
       "749 2013815           28          ferredoxin                          \n",
       "750 2160;2161;1860100 29          MULTISPECIES: 4Fe-4S binding protein\n",
       "    gene_taxonomy                                       \n",
       "1   Methanobacterium sp. BRmetb2                        \n",
       "2   Methanobacterium sp. MB1                            \n",
       "⋮   ⋮                                                   \n",
       "749 Methanobacteriales archaeon HGW-Methanobacteriales-1\n",
       "750 Methanobacterium                                    "
      ]
     },
     "metadata": {},
     "output_type": "display_data"
    }
   ],
   "source": [
    "# non-target\n",
    "gene_annot = read.delim(file.path(work_dir, 'primers', 'clust0.8', 'cgp', 'core_clusters_blastx_nontarget.tsv'), \n",
    "                        sep='\\t') %>%\n",
    "    mutate(cluster_id = gsub('cluster_', '', cluster_id) %>% as.Num) %>%\n",
    "    semi_join(primer_info, c('cluster_id')) %>%\n",
    "    mutate(gene_name = gsub(' \\\\[.+', '', subject_name),\n",
    "           gene_taxonomy = gsub('.+\\\\[', '', subject_name),\n",
    "           gene_taxonomy = gsub('\\\\]', '', gene_taxonomy))\n",
    "gene_annot"
   ]
  },
  {
   "cell_type": "code",
   "execution_count": 56,
   "metadata": {
    "execution": {
     "iopub.execute_input": "2021-01-20T06:44:28.907430Z",
     "iopub.status.busy": "2021-01-20T06:44:28.905458Z",
     "iopub.status.idle": "2021-01-20T06:44:28.956450Z"
    }
   },
   "outputs": [
    {
     "data": {
      "text/html": [
       "<table>\n",
       "<caption>A data.frame: 10 × 19</caption>\n",
       "<thead>\n",
       "\t<tr><th></th><th scope=col>cluster_id</th><th scope=col>query</th><th scope=col>subject</th><th scope=col>subject_name</th><th scope=col>pident</th><th scope=col>length</th><th scope=col>mismatch</th><th scope=col>qstart</th><th scope=col>qend</th><th scope=col>sstart</th><th scope=col>send</th><th scope=col>evalue</th><th scope=col>slen</th><th scope=col>qlen</th><th scope=col>sscinames</th><th scope=col>staxids</th><th scope=col>pident_rank</th><th scope=col>gene_name</th><th scope=col>gene_taxonomy</th></tr>\n",
       "\t<tr><th></th><th scope=col>&lt;dbl&gt;</th><th scope=col>&lt;fct&gt;</th><th scope=col>&lt;fct&gt;</th><th scope=col>&lt;fct&gt;</th><th scope=col>&lt;dbl&gt;</th><th scope=col>&lt;int&gt;</th><th scope=col>&lt;int&gt;</th><th scope=col>&lt;int&gt;</th><th scope=col>&lt;int&gt;</th><th scope=col>&lt;int&gt;</th><th scope=col>&lt;int&gt;</th><th scope=col>&lt;dbl&gt;</th><th scope=col>&lt;int&gt;</th><th scope=col>&lt;int&gt;</th><th scope=col>&lt;fct&gt;</th><th scope=col>&lt;fct&gt;</th><th scope=col>&lt;int&gt;</th><th scope=col>&lt;chr&gt;</th><th scope=col>&lt;chr&gt;</th></tr>\n",
       "</thead>\n",
       "<tbody>\n",
       "\t<tr><th scope=row>1</th><td> 79</td><td>d6ab2803147540b392ad2801ff6b0179</td><td>MBC7101283.1</td><td>None                                                                              </td><td>80.909</td><td>220</td><td>42</td><td> 1</td><td> 660</td><td> 1</td><td>220</td><td>1.57e-134</td><td>220</td><td> 663</td><td>Methanobacteriaceae archaeon;Methanobacteriales archaeon</td><td>2099680;2478476</td><td>1</td><td>None                                               </td><td>None                                                </td></tr>\n",
       "\t<tr><th scope=row>2</th><td> 79</td><td>d6ab2803147540b392ad2801ff6b0179</td><td>PKL68928.1  </td><td>RNA ligase partner protein [Methanobacteriales archaeon HGW-Methanobacteriales-1] </td><td>80.909</td><td>220</td><td>42</td><td> 1</td><td> 660</td><td> 1</td><td>220</td><td>1.94e-134</td><td>220</td><td> 663</td><td>Methanobacteriales archaeon HGW-Methanobacteriales-1    </td><td>2013815        </td><td>1</td><td>RNA ligase partner protein                         </td><td>Methanobacteriales archaeon HGW-Methanobacteriales-1</td></tr>\n",
       "\t<tr><th scope=row>3</th><td>135</td><td>b6a70d967b744f34b354c83fe5992ffa</td><td>KUK01467.1  </td><td>Glycerol-1-phosphate dehydrogenase [NAD(P)+] [Methanobacteriaceae archaeon 41_258]</td><td>81.034</td><td>348</td><td>65</td><td> 1</td><td>1041</td><td>18</td><td>365</td><td> 0.00e+00</td><td>365</td><td>1044</td><td>Methanobacteriaceae archaeon 41_258                     </td><td>1635284        </td><td>1</td><td>Glycerol-1-phosphate dehydrogenase                 </td><td>Methanobacteriaceae archaeon 41_258                 </td></tr>\n",
       "\t<tr><th scope=row>4</th><td>135</td><td>b6a70d967b744f34b354c83fe5992ffa</td><td>MBC7089473.1</td><td>NAD(P)-dependent glycerol-1-phosphate dehydrogenase [Methanobacteriaceae archaeon]</td><td>81.034</td><td>348</td><td>65</td><td> 1</td><td>1041</td><td> 1</td><td>348</td><td> 0.00e+00</td><td>348</td><td>1044</td><td>Methanobacteriaceae archaeon                            </td><td>2099680        </td><td>1</td><td>NAD(P)-dependent glycerol-1-phosphate dehydrogenase</td><td>Methanobacteriaceae archaeon                        </td></tr>\n",
       "\t<tr><th scope=row>5</th><td>102</td><td>62a350b243c7432696c3cc9e2ba235d2</td><td>RJS49305.1  </td><td>exosome complex exonuclease Rrp41 [Methanobacterium sp.]                          </td><td>82.589</td><td>224</td><td>39</td><td>49</td><td> 720</td><td>16</td><td>239</td><td>5.89e-133</td><td>239</td><td> 723</td><td>Methanobacterium sp.                                    </td><td>2164           </td><td>1</td><td>exosome complex exonuclease Rrp41                  </td><td>Methanobacterium sp.                                </td></tr>\n",
       "\t<tr><th scope=row>6</th><td> 10</td><td>7468b3de4335494c9d06818d41bb5d06</td><td>HGZ27079.1  </td><td>rubredoxin [Methanobacteriaceae archaeon]                                         </td><td>83.019</td><td> 53</td><td> 9</td><td> 1</td><td> 159</td><td> 1</td><td> 53</td><td> 6.67e-25</td><td> 53</td><td> 162</td><td>Methanobacteriaceae archaeon                            </td><td>2099680        </td><td>1</td><td>rubredoxin                                         </td><td>Methanobacteriaceae archaeon                        </td></tr>\n",
       "\t<tr><th scope=row>7</th><td> 10</td><td>7468b3de4335494c9d06818d41bb5d06</td><td>MBC7101474.1</td><td>None                                                                              </td><td>83.019</td><td> 53</td><td> 9</td><td> 1</td><td> 159</td><td> 1</td><td> 53</td><td> 1.18e-24</td><td> 53</td><td> 162</td><td>Methanobacteriaceae archaeon;Methanobacteriales archaeon</td><td>2099680;2478476</td><td>1</td><td>None                                               </td><td>None                                                </td></tr>\n",
       "\t<tr><th scope=row>8</th><td>128</td><td>59de51d2c6da4240b97c96a62524522f</td><td>OPY25465.1  </td><td>50S ribosomal protein L19e [Methanobacterium sp. PtaU1.Bin242]                    </td><td>85.811</td><td>148</td><td>21</td><td> 1</td><td> 444</td><td> 1</td><td>148</td><td> 7.54e-87</td><td>148</td><td> 447</td><td>Methanobacterium sp. PtaU1.Bin242                       </td><td>1811676        </td><td>1</td><td>50S ribosomal protein L19e                         </td><td>Methanobacterium sp. PtaU1.Bin242                   </td></tr>\n",
       "\t<tr><th scope=row>9</th><td> 45</td><td>62a0ffdf41544e5a9b86e837579339cf</td><td>OPX60279.1  </td><td>30S ribosomal protein S19 [Methanobacterium sp. PtaB.Bin024]                      </td><td>86.765</td><td>136</td><td>18</td><td> 1</td><td> 408</td><td> 1</td><td>136</td><td> 1.19e-72</td><td>136</td><td> 411</td><td>Methanobacterium sp. PtaB.Bin024                        </td><td>1811674        </td><td>1</td><td>30S ribosomal protein S19                          </td><td>Methanobacterium sp. PtaB.Bin024                    </td></tr>\n",
       "\t<tr><th scope=row>10</th><td> 45</td><td>62a0ffdf41544e5a9b86e837579339cf</td><td>NYB52739.1  </td><td>30S ribosomal protein S19 [Methanobacteriaceae archaeon]                          </td><td>86.765</td><td>136</td><td>18</td><td> 1</td><td> 408</td><td> 1</td><td>136</td><td> 3.22e-72</td><td>136</td><td> 411</td><td>Methanobacteriaceae archaeon                            </td><td>2099680        </td><td>1</td><td>30S ribosomal protein S19                          </td><td>Methanobacteriaceae archaeon                        </td></tr>\n",
       "</tbody>\n",
       "</table>\n"
      ],
      "text/latex": [
       "A data.frame: 10 × 19\n",
       "\\begin{tabular}{r|lllllllllllllllllll}\n",
       "  & cluster\\_id & query & subject & subject\\_name & pident & length & mismatch & qstart & qend & sstart & send & evalue & slen & qlen & sscinames & staxids & pident\\_rank & gene\\_name & gene\\_taxonomy\\\\\n",
       "  & <dbl> & <fct> & <fct> & <fct> & <dbl> & <int> & <int> & <int> & <int> & <int> & <int> & <dbl> & <int> & <int> & <fct> & <fct> & <int> & <chr> & <chr>\\\\\n",
       "\\hline\n",
       "\t1 &  79 & d6ab2803147540b392ad2801ff6b0179 & MBC7101283.1 & None                                                                               & 80.909 & 220 & 42 &  1 &  660 &  1 & 220 & 1.57e-134 & 220 &  663 & Methanobacteriaceae archaeon;Methanobacteriales archaeon & 2099680;2478476 & 1 & None                                                & None                                                \\\\\n",
       "\t2 &  79 & d6ab2803147540b392ad2801ff6b0179 & PKL68928.1   & RNA ligase partner protein {[}Methanobacteriales archaeon HGW-Methanobacteriales-1{]}  & 80.909 & 220 & 42 &  1 &  660 &  1 & 220 & 1.94e-134 & 220 &  663 & Methanobacteriales archaeon HGW-Methanobacteriales-1     & 2013815         & 1 & RNA ligase partner protein                          & Methanobacteriales archaeon HGW-Methanobacteriales-1\\\\\n",
       "\t3 & 135 & b6a70d967b744f34b354c83fe5992ffa & KUK01467.1   & Glycerol-1-phosphate dehydrogenase {[}NAD(P)+{]} {[}Methanobacteriaceae archaeon 41\\_258{]} & 81.034 & 348 & 65 &  1 & 1041 & 18 & 365 &  0.00e+00 & 365 & 1044 & Methanobacteriaceae archaeon 41\\_258                      & 1635284         & 1 & Glycerol-1-phosphate dehydrogenase                  & Methanobacteriaceae archaeon 41\\_258                 \\\\\n",
       "\t4 & 135 & b6a70d967b744f34b354c83fe5992ffa & MBC7089473.1 & NAD(P)-dependent glycerol-1-phosphate dehydrogenase {[}Methanobacteriaceae archaeon{]} & 81.034 & 348 & 65 &  1 & 1041 &  1 & 348 &  0.00e+00 & 348 & 1044 & Methanobacteriaceae archaeon                             & 2099680         & 1 & NAD(P)-dependent glycerol-1-phosphate dehydrogenase & Methanobacteriaceae archaeon                        \\\\\n",
       "\t5 & 102 & 62a350b243c7432696c3cc9e2ba235d2 & RJS49305.1   & exosome complex exonuclease Rrp41 {[}Methanobacterium sp.{]}                           & 82.589 & 224 & 39 & 49 &  720 & 16 & 239 & 5.89e-133 & 239 &  723 & Methanobacterium sp.                                     & 2164            & 1 & exosome complex exonuclease Rrp41                   & Methanobacterium sp.                                \\\\\n",
       "\t6 &  10 & 7468b3de4335494c9d06818d41bb5d06 & HGZ27079.1   & rubredoxin {[}Methanobacteriaceae archaeon{]}                                          & 83.019 &  53 &  9 &  1 &  159 &  1 &  53 &  6.67e-25 &  53 &  162 & Methanobacteriaceae archaeon                             & 2099680         & 1 & rubredoxin                                          & Methanobacteriaceae archaeon                        \\\\\n",
       "\t7 &  10 & 7468b3de4335494c9d06818d41bb5d06 & MBC7101474.1 & None                                                                               & 83.019 &  53 &  9 &  1 &  159 &  1 &  53 &  1.18e-24 &  53 &  162 & Methanobacteriaceae archaeon;Methanobacteriales archaeon & 2099680;2478476 & 1 & None                                                & None                                                \\\\\n",
       "\t8 & 128 & 59de51d2c6da4240b97c96a62524522f & OPY25465.1   & 50S ribosomal protein L19e {[}Methanobacterium sp. PtaU1.Bin242{]}                     & 85.811 & 148 & 21 &  1 &  444 &  1 & 148 &  7.54e-87 & 148 &  447 & Methanobacterium sp. PtaU1.Bin242                        & 1811676         & 1 & 50S ribosomal protein L19e                          & Methanobacterium sp. PtaU1.Bin242                   \\\\\n",
       "\t9 &  45 & 62a0ffdf41544e5a9b86e837579339cf & OPX60279.1   & 30S ribosomal protein S19 {[}Methanobacterium sp. PtaB.Bin024{]}                       & 86.765 & 136 & 18 &  1 &  408 &  1 & 136 &  1.19e-72 & 136 &  411 & Methanobacterium sp. PtaB.Bin024                         & 1811674         & 1 & 30S ribosomal protein S19                           & Methanobacterium sp. PtaB.Bin024                    \\\\\n",
       "\t10 &  45 & 62a0ffdf41544e5a9b86e837579339cf & NYB52739.1   & 30S ribosomal protein S19 {[}Methanobacteriaceae archaeon{]}                           & 86.765 & 136 & 18 &  1 &  408 &  1 & 136 &  3.22e-72 & 136 &  411 & Methanobacteriaceae archaeon                             & 2099680         & 1 & 30S ribosomal protein S19                           & Methanobacteriaceae archaeon                        \\\\\n",
       "\\end{tabular}\n"
      ],
      "text/markdown": [
       "\n",
       "A data.frame: 10 × 19\n",
       "\n",
       "| <!--/--> | cluster_id &lt;dbl&gt; | query &lt;fct&gt; | subject &lt;fct&gt; | subject_name &lt;fct&gt; | pident &lt;dbl&gt; | length &lt;int&gt; | mismatch &lt;int&gt; | qstart &lt;int&gt; | qend &lt;int&gt; | sstart &lt;int&gt; | send &lt;int&gt; | evalue &lt;dbl&gt; | slen &lt;int&gt; | qlen &lt;int&gt; | sscinames &lt;fct&gt; | staxids &lt;fct&gt; | pident_rank &lt;int&gt; | gene_name &lt;chr&gt; | gene_taxonomy &lt;chr&gt; |\n",
       "|---|---|---|---|---|---|---|---|---|---|---|---|---|---|---|---|---|---|---|---|\n",
       "| 1 |  79 | d6ab2803147540b392ad2801ff6b0179 | MBC7101283.1 | None                                                                               | 80.909 | 220 | 42 |  1 |  660 |  1 | 220 | 1.57e-134 | 220 |  663 | Methanobacteriaceae archaeon;Methanobacteriales archaeon | 2099680;2478476 | 1 | None                                                | None                                                 |\n",
       "| 2 |  79 | d6ab2803147540b392ad2801ff6b0179 | PKL68928.1   | RNA ligase partner protein [Methanobacteriales archaeon HGW-Methanobacteriales-1]  | 80.909 | 220 | 42 |  1 |  660 |  1 | 220 | 1.94e-134 | 220 |  663 | Methanobacteriales archaeon HGW-Methanobacteriales-1     | 2013815         | 1 | RNA ligase partner protein                          | Methanobacteriales archaeon HGW-Methanobacteriales-1 |\n",
       "| 3 | 135 | b6a70d967b744f34b354c83fe5992ffa | KUK01467.1   | Glycerol-1-phosphate dehydrogenase [NAD(P)+] [Methanobacteriaceae archaeon 41_258] | 81.034 | 348 | 65 |  1 | 1041 | 18 | 365 |  0.00e+00 | 365 | 1044 | Methanobacteriaceae archaeon 41_258                      | 1635284         | 1 | Glycerol-1-phosphate dehydrogenase                  | Methanobacteriaceae archaeon 41_258                  |\n",
       "| 4 | 135 | b6a70d967b744f34b354c83fe5992ffa | MBC7089473.1 | NAD(P)-dependent glycerol-1-phosphate dehydrogenase [Methanobacteriaceae archaeon] | 81.034 | 348 | 65 |  1 | 1041 |  1 | 348 |  0.00e+00 | 348 | 1044 | Methanobacteriaceae archaeon                             | 2099680         | 1 | NAD(P)-dependent glycerol-1-phosphate dehydrogenase | Methanobacteriaceae archaeon                         |\n",
       "| 5 | 102 | 62a350b243c7432696c3cc9e2ba235d2 | RJS49305.1   | exosome complex exonuclease Rrp41 [Methanobacterium sp.]                           | 82.589 | 224 | 39 | 49 |  720 | 16 | 239 | 5.89e-133 | 239 |  723 | Methanobacterium sp.                                     | 2164            | 1 | exosome complex exonuclease Rrp41                   | Methanobacterium sp.                                 |\n",
       "| 6 |  10 | 7468b3de4335494c9d06818d41bb5d06 | HGZ27079.1   | rubredoxin [Methanobacteriaceae archaeon]                                          | 83.019 |  53 |  9 |  1 |  159 |  1 |  53 |  6.67e-25 |  53 |  162 | Methanobacteriaceae archaeon                             | 2099680         | 1 | rubredoxin                                          | Methanobacteriaceae archaeon                         |\n",
       "| 7 |  10 | 7468b3de4335494c9d06818d41bb5d06 | MBC7101474.1 | None                                                                               | 83.019 |  53 |  9 |  1 |  159 |  1 |  53 |  1.18e-24 |  53 |  162 | Methanobacteriaceae archaeon;Methanobacteriales archaeon | 2099680;2478476 | 1 | None                                                | None                                                 |\n",
       "| 8 | 128 | 59de51d2c6da4240b97c96a62524522f | OPY25465.1   | 50S ribosomal protein L19e [Methanobacterium sp. PtaU1.Bin242]                     | 85.811 | 148 | 21 |  1 |  444 |  1 | 148 |  7.54e-87 | 148 |  447 | Methanobacterium sp. PtaU1.Bin242                        | 1811676         | 1 | 50S ribosomal protein L19e                          | Methanobacterium sp. PtaU1.Bin242                    |\n",
       "| 9 |  45 | 62a0ffdf41544e5a9b86e837579339cf | OPX60279.1   | 30S ribosomal protein S19 [Methanobacterium sp. PtaB.Bin024]                       | 86.765 | 136 | 18 |  1 |  408 |  1 | 136 |  1.19e-72 | 136 |  411 | Methanobacterium sp. PtaB.Bin024                         | 1811674         | 1 | 30S ribosomal protein S19                           | Methanobacterium sp. PtaB.Bin024                     |\n",
       "| 10 |  45 | 62a0ffdf41544e5a9b86e837579339cf | NYB52739.1   | 30S ribosomal protein S19 [Methanobacteriaceae archaeon]                           | 86.765 | 136 | 18 |  1 |  408 |  1 | 136 |  3.22e-72 | 136 |  411 | Methanobacteriaceae archaeon                             | 2099680         | 1 | 30S ribosomal protein S19                           | Methanobacteriaceae archaeon                         |\n",
       "\n"
      ],
      "text/plain": [
       "   cluster_id query                            subject     \n",
       "1   79        d6ab2803147540b392ad2801ff6b0179 MBC7101283.1\n",
       "2   79        d6ab2803147540b392ad2801ff6b0179 PKL68928.1  \n",
       "3  135        b6a70d967b744f34b354c83fe5992ffa KUK01467.1  \n",
       "4  135        b6a70d967b744f34b354c83fe5992ffa MBC7089473.1\n",
       "5  102        62a350b243c7432696c3cc9e2ba235d2 RJS49305.1  \n",
       "6   10        7468b3de4335494c9d06818d41bb5d06 HGZ27079.1  \n",
       "7   10        7468b3de4335494c9d06818d41bb5d06 MBC7101474.1\n",
       "8  128        59de51d2c6da4240b97c96a62524522f OPY25465.1  \n",
       "9   45        62a0ffdf41544e5a9b86e837579339cf OPX60279.1  \n",
       "10  45        62a0ffdf41544e5a9b86e837579339cf NYB52739.1  \n",
       "   subject_name                                                                      \n",
       "1  None                                                                              \n",
       "2  RNA ligase partner protein [Methanobacteriales archaeon HGW-Methanobacteriales-1] \n",
       "3  Glycerol-1-phosphate dehydrogenase [NAD(P)+] [Methanobacteriaceae archaeon 41_258]\n",
       "4  NAD(P)-dependent glycerol-1-phosphate dehydrogenase [Methanobacteriaceae archaeon]\n",
       "5  exosome complex exonuclease Rrp41 [Methanobacterium sp.]                          \n",
       "6  rubredoxin [Methanobacteriaceae archaeon]                                         \n",
       "7  None                                                                              \n",
       "8  50S ribosomal protein L19e [Methanobacterium sp. PtaU1.Bin242]                    \n",
       "9  30S ribosomal protein S19 [Methanobacterium sp. PtaB.Bin024]                      \n",
       "10 30S ribosomal protein S19 [Methanobacteriaceae archaeon]                          \n",
       "   pident length mismatch qstart qend sstart send evalue    slen qlen\n",
       "1  80.909 220    42        1      660  1     220  1.57e-134 220   663\n",
       "2  80.909 220    42        1      660  1     220  1.94e-134 220   663\n",
       "3  81.034 348    65        1     1041 18     365   0.00e+00 365  1044\n",
       "4  81.034 348    65        1     1041  1     348   0.00e+00 348  1044\n",
       "5  82.589 224    39       49      720 16     239  5.89e-133 239   723\n",
       "6  83.019  53     9        1      159  1      53   6.67e-25  53   162\n",
       "7  83.019  53     9        1      159  1      53   1.18e-24  53   162\n",
       "8  85.811 148    21        1      444  1     148   7.54e-87 148   447\n",
       "9  86.765 136    18        1      408  1     136   1.19e-72 136   411\n",
       "10 86.765 136    18        1      408  1     136   3.22e-72 136   411\n",
       "   sscinames                                                staxids        \n",
       "1  Methanobacteriaceae archaeon;Methanobacteriales archaeon 2099680;2478476\n",
       "2  Methanobacteriales archaeon HGW-Methanobacteriales-1     2013815        \n",
       "3  Methanobacteriaceae archaeon 41_258                      1635284        \n",
       "4  Methanobacteriaceae archaeon                             2099680        \n",
       "5  Methanobacterium sp.                                     2164           \n",
       "6  Methanobacteriaceae archaeon                             2099680        \n",
       "7  Methanobacteriaceae archaeon;Methanobacteriales archaeon 2099680;2478476\n",
       "8  Methanobacterium sp. PtaU1.Bin242                        1811676        \n",
       "9  Methanobacterium sp. PtaB.Bin024                         1811674        \n",
       "10 Methanobacteriaceae archaeon                             2099680        \n",
       "   pident_rank gene_name                                          \n",
       "1  1           None                                               \n",
       "2  1           RNA ligase partner protein                         \n",
       "3  1           Glycerol-1-phosphate dehydrogenase                 \n",
       "4  1           NAD(P)-dependent glycerol-1-phosphate dehydrogenase\n",
       "5  1           exosome complex exonuclease Rrp41                  \n",
       "6  1           rubredoxin                                         \n",
       "7  1           None                                               \n",
       "8  1           50S ribosomal protein L19e                         \n",
       "9  1           30S ribosomal protein S19                          \n",
       "10 1           30S ribosomal protein S19                          \n",
       "   gene_taxonomy                                       \n",
       "1  None                                                \n",
       "2  Methanobacteriales archaeon HGW-Methanobacteriales-1\n",
       "3  Methanobacteriaceae archaeon 41_258                 \n",
       "4  Methanobacteriaceae archaeon                        \n",
       "5  Methanobacterium sp.                                \n",
       "6  Methanobacteriaceae archaeon                        \n",
       "7  None                                                \n",
       "8  Methanobacterium sp. PtaU1.Bin242                   \n",
       "9  Methanobacterium sp. PtaB.Bin024                    \n",
       "10 Methanobacteriaceae archaeon                        "
      ]
     },
     "metadata": {},
     "output_type": "display_data"
    }
   ],
   "source": [
    "# most unique clusters\n",
    "df.dims(10)\n",
    "gene_annot %>%\n",
    "    filter(pident_rank == 1) %>%\n",
    "    arrange(pident) %>%\n",
    "    head(n=10)\n",
    "df.dims()"
   ]
  },
  {
   "cell_type": "code",
   "execution_count": 74,
   "metadata": {
    "execution": {
     "iopub.execute_input": "2021-01-20T06:52:20.089596Z",
     "iopub.status.busy": "2021-01-20T06:52:20.087333Z",
     "iopub.status.idle": "2021-01-20T06:52:20.152301Z"
    }
   },
   "outputs": [
    {
     "data": {
      "text/html": [
       "<table>\n",
       "<caption>A tibble: 4 × 11</caption>\n",
       "<thead>\n",
       "\t<tr><th scope=col>cluster_id</th><th scope=col>primer_set</th><th scope=col>amplicon_size_avg</th><th scope=col>primer_id</th><th scope=col>sequence</th><th scope=col>length</th><th scope=col>degeneracy</th><th scope=col>position_start</th><th scope=col>position_end</th><th scope=col>Tm_avg</th><th scope=col>Tm_sd</th></tr>\n",
       "\t<tr><th scope=col>&lt;int&gt;</th><th scope=col>&lt;int&gt;</th><th scope=col>&lt;dbl&gt;</th><th scope=col>&lt;fct&gt;</th><th scope=col>&lt;fct&gt;</th><th scope=col>&lt;int&gt;</th><th scope=col>&lt;int&gt;</th><th scope=col>&lt;int&gt;</th><th scope=col>&lt;int&gt;</th><th scope=col>&lt;dbl&gt;</th><th scope=col>&lt;dbl&gt;</th></tr>\n",
       "</thead>\n",
       "<tbody>\n",
       "\t<tr><td>45</td><td>174</td><td>161</td><td>174f</td><td>TMARRACMCACTGCAGGGAC </td><td>20</td><td>16</td><td>199</td><td>219</td><td>60.41481</td><td>1.915840</td></tr>\n",
       "\t<tr><td>45</td><td>174</td><td>161</td><td>174r</td><td>TCCGTGYTCAACYTTYTTCCT</td><td>21</td><td> 8</td><td>339</td><td>360</td><td>59.45613</td><td>1.528516</td></tr>\n",
       "\t<tr><td>45</td><td>194</td><td>162</td><td>194f</td><td>ATMARRACMCACTGCAGGGA </td><td>20</td><td>16</td><td>198</td><td>218</td><td>59.46321</td><td>1.950136</td></tr>\n",
       "\t<tr><td>45</td><td>194</td><td>162</td><td>194r</td><td>TCCGTGYTCAACYTTYTTCCT</td><td>21</td><td> 8</td><td>339</td><td>360</td><td>59.45613</td><td>1.528516</td></tr>\n",
       "</tbody>\n",
       "</table>\n"
      ],
      "text/latex": [
       "A tibble: 4 × 11\n",
       "\\begin{tabular}{lllllllllll}\n",
       " cluster\\_id & primer\\_set & amplicon\\_size\\_avg & primer\\_id & sequence & length & degeneracy & position\\_start & position\\_end & Tm\\_avg & Tm\\_sd\\\\\n",
       " <int> & <int> & <dbl> & <fct> & <fct> & <int> & <int> & <int> & <int> & <dbl> & <dbl>\\\\\n",
       "\\hline\n",
       "\t 45 & 174 & 161 & 174f & TMARRACMCACTGCAGGGAC  & 20 & 16 & 199 & 219 & 60.41481 & 1.915840\\\\\n",
       "\t 45 & 174 & 161 & 174r & TCCGTGYTCAACYTTYTTCCT & 21 &  8 & 339 & 360 & 59.45613 & 1.528516\\\\\n",
       "\t 45 & 194 & 162 & 194f & ATMARRACMCACTGCAGGGA  & 20 & 16 & 198 & 218 & 59.46321 & 1.950136\\\\\n",
       "\t 45 & 194 & 162 & 194r & TCCGTGYTCAACYTTYTTCCT & 21 &  8 & 339 & 360 & 59.45613 & 1.528516\\\\\n",
       "\\end{tabular}\n"
      ],
      "text/markdown": [
       "\n",
       "A tibble: 4 × 11\n",
       "\n",
       "| cluster_id &lt;int&gt; | primer_set &lt;int&gt; | amplicon_size_avg &lt;dbl&gt; | primer_id &lt;fct&gt; | sequence &lt;fct&gt; | length &lt;int&gt; | degeneracy &lt;int&gt; | position_start &lt;int&gt; | position_end &lt;int&gt; | Tm_avg &lt;dbl&gt; | Tm_sd &lt;dbl&gt; |\n",
       "|---|---|---|---|---|---|---|---|---|---|---|\n",
       "| 45 | 174 | 161 | 174f | TMARRACMCACTGCAGGGAC  | 20 | 16 | 199 | 219 | 60.41481 | 1.915840 |\n",
       "| 45 | 174 | 161 | 174r | TCCGTGYTCAACYTTYTTCCT | 21 |  8 | 339 | 360 | 59.45613 | 1.528516 |\n",
       "| 45 | 194 | 162 | 194f | ATMARRACMCACTGCAGGGA  | 20 | 16 | 198 | 218 | 59.46321 | 1.950136 |\n",
       "| 45 | 194 | 162 | 194r | TCCGTGYTCAACYTTYTTCCT | 21 |  8 | 339 | 360 | 59.45613 | 1.528516 |\n",
       "\n"
      ],
      "text/plain": [
       "  cluster_id primer_set amplicon_size_avg primer_id sequence             \n",
       "1 45         174        161               174f      TMARRACMCACTGCAGGGAC \n",
       "2 45         174        161               174r      TCCGTGYTCAACYTTYTTCCT\n",
       "3 45         194        162               194f      ATMARRACMCACTGCAGGGA \n",
       "4 45         194        162               194r      TCCGTGYTCAACYTTYTTCCT\n",
       "  length degeneracy position_start position_end Tm_avg   Tm_sd   \n",
       "1 20     16         199            219          60.41481 1.915840\n",
       "2 21      8         339            360          59.45613 1.528516\n",
       "3 20     16         198            218          59.46321 1.950136\n",
       "4 21      8         339            360          59.45613 1.528516"
      ]
     },
     "metadata": {},
     "output_type": "display_data"
    }
   ],
   "source": [
    "df.dims(30, 40)\n",
    "primer_info %>%\n",
    "    filter(cluster_id %in% c(79, 135, 102, 128, 45)) %>%\n",
    "    filter(Tm_sd <= 2) %>%\n",
    "    group_by(primer_set) %>%\n",
    "    mutate(n = n()) %>%\n",
    "    ungroup() %>%\n",
    "    filter(n == 2) %>%\n",
    "    select(cluster_id, primer_set, amplicon_size_avg, primer_id, sequence, length, degeneracy, \n",
    "           position_start, position_end, Tm_avg, Tm_sd)\n",
    "df.dims()"
   ]
  },
  {
   "cell_type": "code",
   "execution_count": 78,
   "metadata": {
    "execution": {
     "iopub.execute_input": "2021-01-21T15:19:11.032372Z",
     "iopub.status.busy": "2021-01-21T15:19:11.031310Z",
     "iopub.status.idle": "2021-01-21T15:19:11.073518Z"
    }
   },
   "outputs": [
    {
     "name": "stdout",
     "output_type": "stream",
     "text": [
      "File written: /ebio/abt3_projects/software/dev/ll_pipelines/llprimer/experiments/methanothermobacter/Methanothermobacter_c45-174f-174r.tsv \n"
     ]
    }
   ],
   "source": [
    "# writing out primers\n",
    "outF = file.path(work_dir, 'Methanothermobacter_c45-174f-174r.tsv')\n",
    "primer_info %>%\n",
    "    filter(cluster_id %in% c(79, 135, 102, 128, 45)) %>%\n",
    "    filter(Tm_sd <= 2) %>%\n",
    "    group_by(primer_set) %>%\n",
    "    mutate(n = n()) %>%\n",
    "    ungroup() %>%\n",
    "    filter(n == 2) %>%\n",
    "    head(n=2) %>%\n",
    "    write_table(outF)"
   ]
  },
  {
   "cell_type": "markdown",
   "metadata": {},
   "source": [
    "# sessionInfo"
   ]
  },
  {
   "cell_type": "code",
   "execution_count": 75,
   "metadata": {
    "execution": {
     "iopub.execute_input": "2021-01-20T06:58:51.879577Z",
     "iopub.status.busy": "2021-01-20T06:58:51.877484Z",
     "iopub.status.idle": "2021-01-20T06:58:52.297968Z"
    }
   },
   "outputs": [
    {
     "data": {
      "text/plain": [
       "R version 3.6.3 (2020-02-29)\n",
       "Platform: x86_64-conda_cos6-linux-gnu (64-bit)\n",
       "Running under: Ubuntu 18.04.5 LTS\n",
       "\n",
       "Matrix products: default\n",
       "BLAS/LAPACK: /ebio/abt3_projects/Georg_animal_feces/envs/tidyverse/lib/libopenblasp-r0.3.9.so\n",
       "\n",
       "locale:\n",
       " [1] LC_CTYPE=en_US.UTF-8       LC_NUMERIC=C              \n",
       " [3] LC_TIME=en_US.UTF-8        LC_COLLATE=en_US.UTF-8    \n",
       " [5] LC_MONETARY=en_US.UTF-8    LC_MESSAGES=en_US.UTF-8   \n",
       " [7] LC_PAPER=en_US.UTF-8       LC_NAME=C                 \n",
       " [9] LC_ADDRESS=C               LC_TELEPHONE=C            \n",
       "[11] LC_MEASUREMENT=en_US.UTF-8 LC_IDENTIFICATION=C       \n",
       "\n",
       "attached base packages:\n",
       "[1] stats     graphics  grDevices utils     datasets  methods   base     \n",
       "\n",
       "other attached packages:\n",
       "[1] LeyLabRMisc_0.1.6 ggplot2_3.3.1     tidyr_1.1.0       dplyr_1.0.0      \n",
       "\n",
       "loaded via a namespace (and not attached):\n",
       " [1] Rcpp_1.0.4.6     magrittr_1.5     munsell_0.5.0    tidyselect_1.1.0\n",
       " [5] uuid_0.1-4       colorspace_1.4-1 R6_2.4.1         rlang_0.4.6     \n",
       " [9] tools_3.6.3      grid_3.6.3       gtable_0.3.0     withr_2.2.0     \n",
       "[13] htmltools_0.4.0  ellipsis_0.3.1   digest_0.6.25    tibble_3.0.1    \n",
       "[17] lifecycle_0.2.0  crayon_1.3.4     IRdisplay_0.7.0  purrr_0.3.4     \n",
       "[21] repr_1.1.0       base64enc_0.1-3  vctrs_0.3.1      IRkernel_1.1    \n",
       "[25] glue_1.4.1       evaluate_0.14    stringi_1.4.6    pbdZMQ_0.3-3    \n",
       "[29] compiler_3.6.3   pillar_1.4.4     scales_1.1.1     generics_0.0.2  \n",
       "[33] jsonlite_1.6.1   pkgconfig_2.0.3 "
      ]
     },
     "metadata": {},
     "output_type": "display_data"
    }
   ],
   "source": [
    "sessionInfo()"
   ]
  },
  {
   "cell_type": "code",
   "execution_count": null,
   "metadata": {},
   "outputs": [],
   "source": []
  }
 ],
 "metadata": {
  "kernelspec": {
   "display_name": "R [conda env:Georg_animal_feces-tidyverse]",
   "language": "R",
   "name": "conda-env-Georg_animal_feces-tidyverse-r"
  },
  "language_info": {
   "codemirror_mode": "r",
   "file_extension": ".r",
   "mimetype": "text/x-r-source",
   "name": "R",
   "pygments_lexer": "r",
   "version": "3.6.3"
  }
 },
 "nbformat": 4,
 "nbformat_minor": 4
}
