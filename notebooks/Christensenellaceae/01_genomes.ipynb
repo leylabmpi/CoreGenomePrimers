{
 "cells": [
  {
   "cell_type": "markdown",
   "metadata": {},
   "source": [
    "# Goal\n",
    "\n",
    "Create genome collection of Christensenellaceae MAGs and isolate genomes in order to produce Christensenellales-specific primers"
   ]
  },
  {
   "cell_type": "markdown",
   "metadata": {},
   "source": [
    "# Var"
   ]
  },
  {
   "cell_type": "code",
   "execution_count": 125,
   "metadata": {
    "execution": {
     "iopub.execute_input": "2021-03-23T15:24:58.668590Z",
     "iopub.status.busy": "2021-03-23T15:24:58.666480Z",
     "iopub.status.idle": "2021-03-23T15:24:58.689403Z"
    }
   },
   "outputs": [],
   "source": [
    "work_dir = '/ebio/abt3_projects/software/dev/ll_pipelines/llprimer/experiments/christensenellaceae/'\n",
    "clade = 'Christensenellaceae'\n",
    "taxid = 990719  \n",
    "threads = 8"
   ]
  },
  {
   "cell_type": "markdown",
   "metadata": {},
   "source": [
    "# Init"
   ]
  },
  {
   "cell_type": "code",
   "execution_count": 126,
   "metadata": {
    "execution": {
     "iopub.execute_input": "2021-03-23T15:24:58.898390Z",
     "iopub.status.busy": "2021-03-23T15:24:58.895973Z",
     "iopub.status.idle": "2021-03-23T15:24:58.922290Z"
    }
   },
   "outputs": [],
   "source": [
    "library(dplyr)\n",
    "library(tidyr)\n",
    "library(data.table)\n",
    "library(tidytable)\n",
    "library(ggplot2)\n",
    "library(LeyLabRMisc)"
   ]
  },
  {
   "cell_type": "code",
   "execution_count": 127,
   "metadata": {
    "execution": {
     "iopub.execute_input": "2021-03-23T15:24:59.028458Z",
     "iopub.status.busy": "2021-03-23T15:24:59.026054Z",
     "iopub.status.idle": "2021-03-23T15:24:59.089069Z"
    }
   },
   "outputs": [],
   "source": [
    "library(curl)"
   ]
  },
  {
   "cell_type": "code",
   "execution_count": 128,
   "metadata": {
    "execution": {
     "iopub.execute_input": "2021-03-23T15:24:59.157090Z",
     "iopub.status.busy": "2021-03-23T15:24:59.156228Z",
     "iopub.status.idle": "2021-03-23T15:24:59.174839Z"
    }
   },
   "outputs": [
    {
     "name": "stdout",
     "output_type": "stream",
     "text": [
      "Directory already exists: /ebio/abt3_projects/software/dev/ll_pipelines/llprimer/experiments/christensenellaceae/ \n"
     ]
    }
   ],
   "source": [
    "df.dims()\n",
    "setDTthreads(threads)\n",
    "make_dir(work_dir)"
   ]
  },
  {
   "cell_type": "markdown",
   "metadata": {},
   "source": [
    "# Genomes"
   ]
  },
  {
   "cell_type": "markdown",
   "metadata": {},
   "source": [
    "## From genbank"
   ]
  },
  {
   "cell_type": "markdown",
   "metadata": {},
   "source": [
    "```\n",
    "OUTDIR=/ebio/abt3_projects/software/dev/ll_pipelines/llprimer/experiments/christensenellales/genomes/NCBI/Christensenellaceae\n",
    "mkdir -p $OUTDIR\n",
    "ncbi-genome-download -p 12 -s genbank -F fasta -t 990719 -o $OUTDIR bacteria\n",
    "```"
   ]
  },
  {
   "cell_type": "markdown",
   "metadata": {},
   "source": [
    "## From UHGG"
   ]
  },
  {
   "cell_type": "code",
   "execution_count": 32,
   "metadata": {
    "execution": {
     "iopub.execute_input": "2021-02-23T13:02:19.275747Z",
     "iopub.status.busy": "2021-02-23T13:02:19.271041Z",
     "iopub.status.idle": "2021-02-23T13:02:20.806605Z"
    }
   },
   "outputs": [
    {
     "data": {
      "text/html": [
       "<table class=\"dataframe\">\n",
       "<caption>A tidytable: 4323 × 24</caption>\n",
       "<thead>\n",
       "\t<tr><th scope=col>Genome</th><th scope=col>Original_name</th><th scope=col>Study_set</th><th scope=col>Genome_type</th><th scope=col>Length</th><th scope=col>N_contigs</th><th scope=col>N50</th><th scope=col>GC_content</th><th scope=col>Completeness</th><th scope=col>Contamination</th><th scope=col>⋯</th><th scope=col>tRNAs</th><th scope=col>Genome_accession</th><th scope=col>Species_rep</th><th scope=col>MGnify_accession</th><th scope=col>Lineage</th><th scope=col>Sample_accession</th><th scope=col>Study_accession</th><th scope=col>Country</th><th scope=col>Continent</th><th scope=col>FTP_download</th></tr>\n",
       "\t<tr><th scope=col>&lt;chr&gt;</th><th scope=col>&lt;chr&gt;</th><th scope=col>&lt;chr&gt;</th><th scope=col>&lt;chr&gt;</th><th scope=col>&lt;int&gt;</th><th scope=col>&lt;int&gt;</th><th scope=col>&lt;int&gt;</th><th scope=col>&lt;dbl&gt;</th><th scope=col>&lt;dbl&gt;</th><th scope=col>&lt;dbl&gt;</th><th scope=col>⋯</th><th scope=col>&lt;int&gt;</th><th scope=col>&lt;chr&gt;</th><th scope=col>&lt;chr&gt;</th><th scope=col>&lt;chr&gt;</th><th scope=col>&lt;chr&gt;</th><th scope=col>&lt;chr&gt;</th><th scope=col>&lt;chr&gt;</th><th scope=col>&lt;chr&gt;</th><th scope=col>&lt;chr&gt;</th><th scope=col>&lt;chr&gt;</th></tr>\n",
       "</thead>\n",
       "<tbody>\n",
       "\t<tr><td>GUT_GENOME000279</td><td>14207_7_64                          </td><td>HBC  </td><td>Isolate</td><td>2615708</td><td> 20</td><td>268821</td><td>56.68</td><td>99.19</td><td>0.81</td><td>⋯</td><td>20</td><td>NA</td><td>GUT_GENOME000279</td><td>MGYG-HGUT-00073</td><td>d__Bacteria;p__Firmicutes_A;c__Clostridia;o__Christensenellales;f__GCA-900066905;g__GCA-900066905;s__GCA-900066905 sp900066905</td><td>ERS852553 </td><td>ERP012217</td><td>United Kingdom</td><td>Europe</td><td>ftp://ftp.ebi.ac.uk/pub/databases/metagenomics/mgnify_genomes/human-gut/v1.0/all_genomes/MGYG-HGUT-000/MGYG-HGUT-00073/genomes1/GUT_GENOME000279.gff.gz</td></tr>\n",
       "\t<tr><td>GUT_GENOME001938</td><td>AsnicarF_2017__MV_FEM2_t1Q14__bin.14</td><td>CIBIO</td><td>MAG    </td><td>2965995</td><td>141</td><td> 30137</td><td>58.20</td><td>99.18</td><td>1.17</td><td>⋯</td><td>19</td><td>NA</td><td>GUT_GENOME247421</td><td>MGYG-HGUT-03891</td><td>d__Bacteria;p__Firmicutes_A;c__Clostridia;o__Christensenellales;f__CAG-74;g__UBA11524;s__UBA11524 sp000437595                 </td><td>SRS1634658</td><td>SRP082656</td><td>Italy         </td><td>Europe</td><td>ftp://ftp.ebi.ac.uk/pub/databases/metagenomics/mgnify_genomes/human-gut/v1.0/all_genomes/MGYG-HGUT-038/MGYG-HGUT-03891/genomes2/GUT_GENOME001938.gff.gz</td></tr>\n",
       "\t<tr><td>⋮</td><td>⋮</td><td>⋮</td><td>⋮</td><td>⋮</td><td>⋮</td><td>⋮</td><td>⋮</td><td>⋮</td><td>⋮</td><td>⋱</td><td>⋮</td><td>⋮</td><td>⋮</td><td>⋮</td><td>⋮</td><td>⋮</td><td>⋮</td><td>⋮</td><td>⋮</td><td>⋮</td></tr>\n",
       "\t<tr><td>GUT_GENOME286732</td><td>ZellerG_2014__CCMD90311071ST-21-0__bin.32</td><td>CIBIO</td><td>MAG</td><td>1752856</td><td>264</td><td>8460</td><td>49.37</td><td>91.90</td><td>1.88</td><td>⋯</td><td>17</td><td>NA</td><td>GUT_GENOME014725</td><td>MGYG-HGUT-00530</td><td>d__Bacteria;p__Firmicutes_A;c__Clostridia;o__Christensenellales;f__CAG-138;g__PeH17;s__PeH17 sp000435055</td><td>ERS436832</td><td>ERP005534</td><td>Germany</td><td>Europe</td><td>ftp://ftp.ebi.ac.uk/pub/databases/metagenomics/mgnify_genomes/human-gut/v1.0/all_genomes/MGYG-HGUT-005/MGYG-HGUT-00530/genomes1/GUT_GENOME286732.gff.gz</td></tr>\n",
       "\t<tr><td>GUT_GENOME286757</td><td>ZellerG_2014__CCMD93344354ST-21-0__bin.14</td><td>CIBIO</td><td>MAG</td><td>1369885</td><td>414</td><td>3602</td><td>49.46</td><td>70.82</td><td>2.42</td><td>⋯</td><td>10</td><td>NA</td><td>GUT_GENOME014725</td><td>MGYG-HGUT-00530</td><td>d__Bacteria;p__Firmicutes_A;c__Clostridia;o__Christensenellales;f__CAG-138;g__PeH17;s__PeH17 sp000435055</td><td>ERS436826</td><td>ERP005534</td><td>Germany</td><td>Europe</td><td>ftp://ftp.ebi.ac.uk/pub/databases/metagenomics/mgnify_genomes/human-gut/v1.0/all_genomes/MGYG-HGUT-005/MGYG-HGUT-00530/genomes2/GUT_GENOME286757.gff.gz</td></tr>\n",
       "</tbody>\n",
       "</table>\n"
      ],
      "text/latex": [
       "A tidytable: 4323 × 24\n",
       "\\begin{tabular}{lllllllllllllllllllll}\n",
       " Genome & Original\\_name & Study\\_set & Genome\\_type & Length & N\\_contigs & N50 & GC\\_content & Completeness & Contamination & ⋯ & tRNAs & Genome\\_accession & Species\\_rep & MGnify\\_accession & Lineage & Sample\\_accession & Study\\_accession & Country & Continent & FTP\\_download\\\\\n",
       " <chr> & <chr> & <chr> & <chr> & <int> & <int> & <int> & <dbl> & <dbl> & <dbl> & ⋯ & <int> & <chr> & <chr> & <chr> & <chr> & <chr> & <chr> & <chr> & <chr> & <chr>\\\\\n",
       "\\hline\n",
       "\t GUT\\_GENOME000279 & 14207\\_7\\_64                           & HBC   & Isolate & 2615708 &  20 & 268821 & 56.68 & 99.19 & 0.81 & ⋯ & 20 & NA & GUT\\_GENOME000279 & MGYG-HGUT-00073 & d\\_\\_Bacteria;p\\_\\_Firmicutes\\_A;c\\_\\_Clostridia;o\\_\\_Christensenellales;f\\_\\_GCA-900066905;g\\_\\_GCA-900066905;s\\_\\_GCA-900066905 sp900066905 & ERS852553  & ERP012217 & United Kingdom & Europe & ftp://ftp.ebi.ac.uk/pub/databases/metagenomics/mgnify\\_genomes/human-gut/v1.0/all\\_genomes/MGYG-HGUT-000/MGYG-HGUT-00073/genomes1/GUT\\_GENOME000279.gff.gz\\\\\n",
       "\t GUT\\_GENOME001938 & AsnicarF\\_2017\\_\\_MV\\_FEM2\\_t1Q14\\_\\_bin.14 & CIBIO & MAG     & 2965995 & 141 &  30137 & 58.20 & 99.18 & 1.17 & ⋯ & 19 & NA & GUT\\_GENOME247421 & MGYG-HGUT-03891 & d\\_\\_Bacteria;p\\_\\_Firmicutes\\_A;c\\_\\_Clostridia;o\\_\\_Christensenellales;f\\_\\_CAG-74;g\\_\\_UBA11524;s\\_\\_UBA11524 sp000437595                  & SRS1634658 & SRP082656 & Italy          & Europe & ftp://ftp.ebi.ac.uk/pub/databases/metagenomics/mgnify\\_genomes/human-gut/v1.0/all\\_genomes/MGYG-HGUT-038/MGYG-HGUT-03891/genomes2/GUT\\_GENOME001938.gff.gz\\\\\n",
       "\t ⋮ & ⋮ & ⋮ & ⋮ & ⋮ & ⋮ & ⋮ & ⋮ & ⋮ & ⋮ & ⋱ & ⋮ & ⋮ & ⋮ & ⋮ & ⋮ & ⋮ & ⋮ & ⋮ & ⋮ & ⋮\\\\\n",
       "\t GUT\\_GENOME286732 & ZellerG\\_2014\\_\\_CCMD90311071ST-21-0\\_\\_bin.32 & CIBIO & MAG & 1752856 & 264 & 8460 & 49.37 & 91.90 & 1.88 & ⋯ & 17 & NA & GUT\\_GENOME014725 & MGYG-HGUT-00530 & d\\_\\_Bacteria;p\\_\\_Firmicutes\\_A;c\\_\\_Clostridia;o\\_\\_Christensenellales;f\\_\\_CAG-138;g\\_\\_PeH17;s\\_\\_PeH17 sp000435055 & ERS436832 & ERP005534 & Germany & Europe & ftp://ftp.ebi.ac.uk/pub/databases/metagenomics/mgnify\\_genomes/human-gut/v1.0/all\\_genomes/MGYG-HGUT-005/MGYG-HGUT-00530/genomes1/GUT\\_GENOME286732.gff.gz\\\\\n",
       "\t GUT\\_GENOME286757 & ZellerG\\_2014\\_\\_CCMD93344354ST-21-0\\_\\_bin.14 & CIBIO & MAG & 1369885 & 414 & 3602 & 49.46 & 70.82 & 2.42 & ⋯ & 10 & NA & GUT\\_GENOME014725 & MGYG-HGUT-00530 & d\\_\\_Bacteria;p\\_\\_Firmicutes\\_A;c\\_\\_Clostridia;o\\_\\_Christensenellales;f\\_\\_CAG-138;g\\_\\_PeH17;s\\_\\_PeH17 sp000435055 & ERS436826 & ERP005534 & Germany & Europe & ftp://ftp.ebi.ac.uk/pub/databases/metagenomics/mgnify\\_genomes/human-gut/v1.0/all\\_genomes/MGYG-HGUT-005/MGYG-HGUT-00530/genomes2/GUT\\_GENOME286757.gff.gz\\\\\n",
       "\\end{tabular}\n"
      ],
      "text/markdown": [
       "\n",
       "A tidytable: 4323 × 24\n",
       "\n",
       "| Genome &lt;chr&gt; | Original_name &lt;chr&gt; | Study_set &lt;chr&gt; | Genome_type &lt;chr&gt; | Length &lt;int&gt; | N_contigs &lt;int&gt; | N50 &lt;int&gt; | GC_content &lt;dbl&gt; | Completeness &lt;dbl&gt; | Contamination &lt;dbl&gt; | ⋯ ⋯ | tRNAs &lt;int&gt; | Genome_accession &lt;chr&gt; | Species_rep &lt;chr&gt; | MGnify_accession &lt;chr&gt; | Lineage &lt;chr&gt; | Sample_accession &lt;chr&gt; | Study_accession &lt;chr&gt; | Country &lt;chr&gt; | Continent &lt;chr&gt; | FTP_download &lt;chr&gt; |\n",
       "|---|---|---|---|---|---|---|---|---|---|---|---|---|---|---|---|---|---|---|---|---|\n",
       "| GUT_GENOME000279 | 14207_7_64                           | HBC   | Isolate | 2615708 |  20 | 268821 | 56.68 | 99.19 | 0.81 | ⋯ | 20 | NA | GUT_GENOME000279 | MGYG-HGUT-00073 | d__Bacteria;p__Firmicutes_A;c__Clostridia;o__Christensenellales;f__GCA-900066905;g__GCA-900066905;s__GCA-900066905 sp900066905 | ERS852553  | ERP012217 | United Kingdom | Europe | ftp://ftp.ebi.ac.uk/pub/databases/metagenomics/mgnify_genomes/human-gut/v1.0/all_genomes/MGYG-HGUT-000/MGYG-HGUT-00073/genomes1/GUT_GENOME000279.gff.gz |\n",
       "| GUT_GENOME001938 | AsnicarF_2017__MV_FEM2_t1Q14__bin.14 | CIBIO | MAG     | 2965995 | 141 |  30137 | 58.20 | 99.18 | 1.17 | ⋯ | 19 | NA | GUT_GENOME247421 | MGYG-HGUT-03891 | d__Bacteria;p__Firmicutes_A;c__Clostridia;o__Christensenellales;f__CAG-74;g__UBA11524;s__UBA11524 sp000437595                  | SRS1634658 | SRP082656 | Italy          | Europe | ftp://ftp.ebi.ac.uk/pub/databases/metagenomics/mgnify_genomes/human-gut/v1.0/all_genomes/MGYG-HGUT-038/MGYG-HGUT-03891/genomes2/GUT_GENOME001938.gff.gz |\n",
       "| ⋮ | ⋮ | ⋮ | ⋮ | ⋮ | ⋮ | ⋮ | ⋮ | ⋮ | ⋮ | ⋱ | ⋮ | ⋮ | ⋮ | ⋮ | ⋮ | ⋮ | ⋮ | ⋮ | ⋮ | ⋮ |\n",
       "| GUT_GENOME286732 | ZellerG_2014__CCMD90311071ST-21-0__bin.32 | CIBIO | MAG | 1752856 | 264 | 8460 | 49.37 | 91.90 | 1.88 | ⋯ | 17 | NA | GUT_GENOME014725 | MGYG-HGUT-00530 | d__Bacteria;p__Firmicutes_A;c__Clostridia;o__Christensenellales;f__CAG-138;g__PeH17;s__PeH17 sp000435055 | ERS436832 | ERP005534 | Germany | Europe | ftp://ftp.ebi.ac.uk/pub/databases/metagenomics/mgnify_genomes/human-gut/v1.0/all_genomes/MGYG-HGUT-005/MGYG-HGUT-00530/genomes1/GUT_GENOME286732.gff.gz |\n",
       "| GUT_GENOME286757 | ZellerG_2014__CCMD93344354ST-21-0__bin.14 | CIBIO | MAG | 1369885 | 414 | 3602 | 49.46 | 70.82 | 2.42 | ⋯ | 10 | NA | GUT_GENOME014725 | MGYG-HGUT-00530 | d__Bacteria;p__Firmicutes_A;c__Clostridia;o__Christensenellales;f__CAG-138;g__PeH17;s__PeH17 sp000435055 | ERS436826 | ERP005534 | Germany | Europe | ftp://ftp.ebi.ac.uk/pub/databases/metagenomics/mgnify_genomes/human-gut/v1.0/all_genomes/MGYG-HGUT-005/MGYG-HGUT-00530/genomes2/GUT_GENOME286757.gff.gz |\n",
       "\n"
      ],
      "text/plain": [
       "     Genome           Original_name                             Study_set\n",
       "1    GUT_GENOME000279 14207_7_64                                HBC      \n",
       "2    GUT_GENOME001938 AsnicarF_2017__MV_FEM2_t1Q14__bin.14      CIBIO    \n",
       "⋮    ⋮                ⋮                                         ⋮        \n",
       "4322 GUT_GENOME286732 ZellerG_2014__CCMD90311071ST-21-0__bin.32 CIBIO    \n",
       "4323 GUT_GENOME286757 ZellerG_2014__CCMD93344354ST-21-0__bin.14 CIBIO    \n",
       "     Genome_type Length  N_contigs N50    GC_content Completeness Contamination\n",
       "1    Isolate     2615708  20       268821 56.68      99.19        0.81         \n",
       "2    MAG         2965995 141        30137 58.20      99.18        1.17         \n",
       "⋮    ⋮           ⋮       ⋮         ⋮      ⋮          ⋮            ⋮            \n",
       "4322 MAG         1752856 264       8460   49.37      91.90        1.88         \n",
       "4323 MAG         1369885 414       3602   49.46      70.82        2.42         \n",
       "     ⋯ tRNAs Genome_accession Species_rep      MGnify_accession\n",
       "1    ⋯ 20    NA               GUT_GENOME000279 MGYG-HGUT-00073 \n",
       "2    ⋯ 19    NA               GUT_GENOME247421 MGYG-HGUT-03891 \n",
       "⋮    ⋱ ⋮     ⋮                ⋮                ⋮               \n",
       "4322 ⋯ 17    NA               GUT_GENOME014725 MGYG-HGUT-00530 \n",
       "4323 ⋯ 10    NA               GUT_GENOME014725 MGYG-HGUT-00530 \n",
       "     Lineage                                                                                                                       \n",
       "1    d__Bacteria;p__Firmicutes_A;c__Clostridia;o__Christensenellales;f__GCA-900066905;g__GCA-900066905;s__GCA-900066905 sp900066905\n",
       "2    d__Bacteria;p__Firmicutes_A;c__Clostridia;o__Christensenellales;f__CAG-74;g__UBA11524;s__UBA11524 sp000437595                 \n",
       "⋮    ⋮                                                                                                                             \n",
       "4322 d__Bacteria;p__Firmicutes_A;c__Clostridia;o__Christensenellales;f__CAG-138;g__PeH17;s__PeH17 sp000435055                      \n",
       "4323 d__Bacteria;p__Firmicutes_A;c__Clostridia;o__Christensenellales;f__CAG-138;g__PeH17;s__PeH17 sp000435055                      \n",
       "     Sample_accession Study_accession Country        Continent\n",
       "1    ERS852553        ERP012217       United Kingdom Europe   \n",
       "2    SRS1634658       SRP082656       Italy          Europe   \n",
       "⋮    ⋮                ⋮               ⋮              ⋮        \n",
       "4322 ERS436832        ERP005534       Germany        Europe   \n",
       "4323 ERS436826        ERP005534       Germany        Europe   \n",
       "     FTP_download                                                                                                                                           \n",
       "1    ftp://ftp.ebi.ac.uk/pub/databases/metagenomics/mgnify_genomes/human-gut/v1.0/all_genomes/MGYG-HGUT-000/MGYG-HGUT-00073/genomes1/GUT_GENOME000279.gff.gz\n",
       "2    ftp://ftp.ebi.ac.uk/pub/databases/metagenomics/mgnify_genomes/human-gut/v1.0/all_genomes/MGYG-HGUT-038/MGYG-HGUT-03891/genomes2/GUT_GENOME001938.gff.gz\n",
       "⋮    ⋮                                                                                                                                                      \n",
       "4322 ftp://ftp.ebi.ac.uk/pub/databases/metagenomics/mgnify_genomes/human-gut/v1.0/all_genomes/MGYG-HGUT-005/MGYG-HGUT-00530/genomes1/GUT_GENOME286732.gff.gz\n",
       "4323 ftp://ftp.ebi.ac.uk/pub/databases/metagenomics/mgnify_genomes/human-gut/v1.0/all_genomes/MGYG-HGUT-005/MGYG-HGUT-00530/genomes2/GUT_GENOME286757.gff.gz"
      ]
     },
     "metadata": {},
     "output_type": "display_data"
    }
   ],
   "source": [
    "F = file.path('/ebio/abt3_projects/databases_no-backup/UHGG/2019_09', 'genomes-nr_metadata.tsv')\n",
    "genomes = Fread(F) %>%\n",
    "    filter.(grepl('o__Christensenellales', Lineage))\n",
    "genomes"
   ]
  },
  {
   "cell_type": "code",
   "execution_count": 33,
   "metadata": {
    "execution": {
     "iopub.execute_input": "2021-02-23T13:02:20.812254Z",
     "iopub.status.busy": "2021-02-23T13:02:20.807466Z",
     "iopub.status.idle": "2021-02-23T13:02:20.878947Z"
    }
   },
   "outputs": [
    {
     "data": {
      "text/html": [
       "<table class=\"dataframe\">\n",
       "<caption>A tidytable: 49 × 24</caption>\n",
       "<thead>\n",
       "\t<tr><th scope=col>Genome</th><th scope=col>Original_name</th><th scope=col>Study_set</th><th scope=col>Genome_type</th><th scope=col>Length</th><th scope=col>N_contigs</th><th scope=col>N50</th><th scope=col>GC_content</th><th scope=col>Completeness</th><th scope=col>Contamination</th><th scope=col>⋯</th><th scope=col>tRNAs</th><th scope=col>Genome_accession</th><th scope=col>Species_rep</th><th scope=col>MGnify_accession</th><th scope=col>Lineage</th><th scope=col>Sample_accession</th><th scope=col>Study_accession</th><th scope=col>Country</th><th scope=col>Continent</th><th scope=col>FTP_download</th></tr>\n",
       "\t<tr><th scope=col>&lt;chr&gt;</th><th scope=col>&lt;chr&gt;</th><th scope=col>&lt;chr&gt;</th><th scope=col>&lt;chr&gt;</th><th scope=col>&lt;int&gt;</th><th scope=col>&lt;int&gt;</th><th scope=col>&lt;int&gt;</th><th scope=col>&lt;dbl&gt;</th><th scope=col>&lt;dbl&gt;</th><th scope=col>&lt;dbl&gt;</th><th scope=col>⋯</th><th scope=col>&lt;int&gt;</th><th scope=col>&lt;chr&gt;</th><th scope=col>&lt;chr&gt;</th><th scope=col>&lt;chr&gt;</th><th scope=col>&lt;chr&gt;</th><th scope=col>&lt;chr&gt;</th><th scope=col>&lt;chr&gt;</th><th scope=col>&lt;chr&gt;</th><th scope=col>&lt;chr&gt;</th><th scope=col>&lt;chr&gt;</th></tr>\n",
       "</thead>\n",
       "<tbody>\n",
       "\t<tr><td>GUT_GENOME067772</td><td>ERS235577_13</td><td>HGM</td><td>MAG</td><td>1340409</td><td>583</td><td>2515</td><td>47.52</td><td>69.73</td><td>2.05</td><td>⋯</td><td>15</td><td>NA</td><td>GUT_GENOME105882</td><td>MGYG-HGUT-01747</td><td>d__Bacteria;p__Firmicutes_A;c__Clostridia;o__Christensenellales;f__Christensenellaceae;g__;s__</td><td>ERS235577</td><td>ERP002469</td><td>Sweden</td><td>Europe</td><td>ftp://ftp.ebi.ac.uk/pub/databases/metagenomics/mgnify_genomes/human-gut/v1.0/all_genomes/MGYG-HGUT-017/MGYG-HGUT-01747/genomes1/GUT_GENOME067772.gff.gz</td></tr>\n",
       "\t<tr><td>GUT_GENOME076687</td><td>ERS473114_58</td><td>HGM</td><td>MAG</td><td>1168678</td><td>554</td><td>2303</td><td>47.91</td><td>61.17</td><td>0.14</td><td>⋯</td><td> 9</td><td>NA</td><td>GUT_GENOME105882</td><td>MGYG-HGUT-01747</td><td>d__Bacteria;p__Firmicutes_A;c__Clostridia;o__Christensenellales;f__Christensenellaceae;g__;s__</td><td>ERS473114</td><td>ERP005989</td><td>Sweden</td><td>Europe</td><td>ftp://ftp.ebi.ac.uk/pub/databases/metagenomics/mgnify_genomes/human-gut/v1.0/all_genomes/MGYG-HGUT-017/MGYG-HGUT-01747/genomes1/GUT_GENOME076687.gff.gz</td></tr>\n",
       "\t<tr><td>⋮</td><td>⋮</td><td>⋮</td><td>⋮</td><td>⋮</td><td>⋮</td><td>⋮</td><td>⋮</td><td>⋮</td><td>⋮</td><td>⋱</td><td>⋮</td><td>⋮</td><td>⋮</td><td>⋮</td><td>⋮</td><td>⋮</td><td>⋮</td><td>⋮</td><td>⋮</td><td>⋮</td></tr>\n",
       "\t<tr><td>GUT_GENOME256796</td><td>XieH_2016__YSZC12003_37133__bin.84 </td><td>CIBIO</td><td>MAG</td><td>1317940</td><td>315</td><td>4959</td><td>47.31</td><td>71.77</td><td>1.4</td><td>⋯</td><td>16</td><td>NA</td><td>GUT_GENOME105882</td><td>MGYG-HGUT-01747</td><td>d__Bacteria;p__Firmicutes_A;c__Clostridia;o__Christensenellales;f__Christensenellaceae;g__;s__</td><td>ERS746898</td><td>ERP010700</td><td>United Kingdom</td><td>Europe</td><td>ftp://ftp.ebi.ac.uk/pub/databases/metagenomics/mgnify_genomes/human-gut/v1.0/all_genomes/MGYG-HGUT-017/MGYG-HGUT-01747/genomes1/GUT_GENOME256796.gff.gz</td></tr>\n",
       "\t<tr><td>GUT_GENOME260354</td><td>XieH_2016__YSZC12003_37405__bin.112</td><td>CIBIO</td><td>MAG</td><td>2315891</td><td>575</td><td>4680</td><td>50.52</td><td>84.22</td><td>3.5</td><td>⋯</td><td>17</td><td>NA</td><td>GUT_GENOME260354</td><td>MGYG-HGUT-04235</td><td>d__Bacteria;p__Firmicutes_A;c__Clostridia;o__Christensenellales;f__Christensenellaceae;g__;s__</td><td>ERS746923</td><td>ERP010700</td><td>United Kingdom</td><td>Europe</td><td>ftp://ftp.ebi.ac.uk/pub/databases/metagenomics/mgnify_genomes/human-gut/v1.0/all_genomes/MGYG-HGUT-042/MGYG-HGUT-04235/genomes1/GUT_GENOME260354.gff.gz</td></tr>\n",
       "</tbody>\n",
       "</table>\n"
      ],
      "text/latex": [
       "A tidytable: 49 × 24\n",
       "\\begin{tabular}{lllllllllllllllllllll}\n",
       " Genome & Original\\_name & Study\\_set & Genome\\_type & Length & N\\_contigs & N50 & GC\\_content & Completeness & Contamination & ⋯ & tRNAs & Genome\\_accession & Species\\_rep & MGnify\\_accession & Lineage & Sample\\_accession & Study\\_accession & Country & Continent & FTP\\_download\\\\\n",
       " <chr> & <chr> & <chr> & <chr> & <int> & <int> & <int> & <dbl> & <dbl> & <dbl> & ⋯ & <int> & <chr> & <chr> & <chr> & <chr> & <chr> & <chr> & <chr> & <chr> & <chr>\\\\\n",
       "\\hline\n",
       "\t GUT\\_GENOME067772 & ERS235577\\_13 & HGM & MAG & 1340409 & 583 & 2515 & 47.52 & 69.73 & 2.05 & ⋯ & 15 & NA & GUT\\_GENOME105882 & MGYG-HGUT-01747 & d\\_\\_Bacteria;p\\_\\_Firmicutes\\_A;c\\_\\_Clostridia;o\\_\\_Christensenellales;f\\_\\_Christensenellaceae;g\\_\\_;s\\_\\_ & ERS235577 & ERP002469 & Sweden & Europe & ftp://ftp.ebi.ac.uk/pub/databases/metagenomics/mgnify\\_genomes/human-gut/v1.0/all\\_genomes/MGYG-HGUT-017/MGYG-HGUT-01747/genomes1/GUT\\_GENOME067772.gff.gz\\\\\n",
       "\t GUT\\_GENOME076687 & ERS473114\\_58 & HGM & MAG & 1168678 & 554 & 2303 & 47.91 & 61.17 & 0.14 & ⋯ &  9 & NA & GUT\\_GENOME105882 & MGYG-HGUT-01747 & d\\_\\_Bacteria;p\\_\\_Firmicutes\\_A;c\\_\\_Clostridia;o\\_\\_Christensenellales;f\\_\\_Christensenellaceae;g\\_\\_;s\\_\\_ & ERS473114 & ERP005989 & Sweden & Europe & ftp://ftp.ebi.ac.uk/pub/databases/metagenomics/mgnify\\_genomes/human-gut/v1.0/all\\_genomes/MGYG-HGUT-017/MGYG-HGUT-01747/genomes1/GUT\\_GENOME076687.gff.gz\\\\\n",
       "\t ⋮ & ⋮ & ⋮ & ⋮ & ⋮ & ⋮ & ⋮ & ⋮ & ⋮ & ⋮ & ⋱ & ⋮ & ⋮ & ⋮ & ⋮ & ⋮ & ⋮ & ⋮ & ⋮ & ⋮ & ⋮\\\\\n",
       "\t GUT\\_GENOME256796 & XieH\\_2016\\_\\_YSZC12003\\_37133\\_\\_bin.84  & CIBIO & MAG & 1317940 & 315 & 4959 & 47.31 & 71.77 & 1.4 & ⋯ & 16 & NA & GUT\\_GENOME105882 & MGYG-HGUT-01747 & d\\_\\_Bacteria;p\\_\\_Firmicutes\\_A;c\\_\\_Clostridia;o\\_\\_Christensenellales;f\\_\\_Christensenellaceae;g\\_\\_;s\\_\\_ & ERS746898 & ERP010700 & United Kingdom & Europe & ftp://ftp.ebi.ac.uk/pub/databases/metagenomics/mgnify\\_genomes/human-gut/v1.0/all\\_genomes/MGYG-HGUT-017/MGYG-HGUT-01747/genomes1/GUT\\_GENOME256796.gff.gz\\\\\n",
       "\t GUT\\_GENOME260354 & XieH\\_2016\\_\\_YSZC12003\\_37405\\_\\_bin.112 & CIBIO & MAG & 2315891 & 575 & 4680 & 50.52 & 84.22 & 3.5 & ⋯ & 17 & NA & GUT\\_GENOME260354 & MGYG-HGUT-04235 & d\\_\\_Bacteria;p\\_\\_Firmicutes\\_A;c\\_\\_Clostridia;o\\_\\_Christensenellales;f\\_\\_Christensenellaceae;g\\_\\_;s\\_\\_ & ERS746923 & ERP010700 & United Kingdom & Europe & ftp://ftp.ebi.ac.uk/pub/databases/metagenomics/mgnify\\_genomes/human-gut/v1.0/all\\_genomes/MGYG-HGUT-042/MGYG-HGUT-04235/genomes1/GUT\\_GENOME260354.gff.gz\\\\\n",
       "\\end{tabular}\n"
      ],
      "text/markdown": [
       "\n",
       "A tidytable: 49 × 24\n",
       "\n",
       "| Genome &lt;chr&gt; | Original_name &lt;chr&gt; | Study_set &lt;chr&gt; | Genome_type &lt;chr&gt; | Length &lt;int&gt; | N_contigs &lt;int&gt; | N50 &lt;int&gt; | GC_content &lt;dbl&gt; | Completeness &lt;dbl&gt; | Contamination &lt;dbl&gt; | ⋯ ⋯ | tRNAs &lt;int&gt; | Genome_accession &lt;chr&gt; | Species_rep &lt;chr&gt; | MGnify_accession &lt;chr&gt; | Lineage &lt;chr&gt; | Sample_accession &lt;chr&gt; | Study_accession &lt;chr&gt; | Country &lt;chr&gt; | Continent &lt;chr&gt; | FTP_download &lt;chr&gt; |\n",
       "|---|---|---|---|---|---|---|---|---|---|---|---|---|---|---|---|---|---|---|---|---|\n",
       "| GUT_GENOME067772 | ERS235577_13 | HGM | MAG | 1340409 | 583 | 2515 | 47.52 | 69.73 | 2.05 | ⋯ | 15 | NA | GUT_GENOME105882 | MGYG-HGUT-01747 | d__Bacteria;p__Firmicutes_A;c__Clostridia;o__Christensenellales;f__Christensenellaceae;g__;s__ | ERS235577 | ERP002469 | Sweden | Europe | ftp://ftp.ebi.ac.uk/pub/databases/metagenomics/mgnify_genomes/human-gut/v1.0/all_genomes/MGYG-HGUT-017/MGYG-HGUT-01747/genomes1/GUT_GENOME067772.gff.gz |\n",
       "| GUT_GENOME076687 | ERS473114_58 | HGM | MAG | 1168678 | 554 | 2303 | 47.91 | 61.17 | 0.14 | ⋯ |  9 | NA | GUT_GENOME105882 | MGYG-HGUT-01747 | d__Bacteria;p__Firmicutes_A;c__Clostridia;o__Christensenellales;f__Christensenellaceae;g__;s__ | ERS473114 | ERP005989 | Sweden | Europe | ftp://ftp.ebi.ac.uk/pub/databases/metagenomics/mgnify_genomes/human-gut/v1.0/all_genomes/MGYG-HGUT-017/MGYG-HGUT-01747/genomes1/GUT_GENOME076687.gff.gz |\n",
       "| ⋮ | ⋮ | ⋮ | ⋮ | ⋮ | ⋮ | ⋮ | ⋮ | ⋮ | ⋮ | ⋱ | ⋮ | ⋮ | ⋮ | ⋮ | ⋮ | ⋮ | ⋮ | ⋮ | ⋮ | ⋮ |\n",
       "| GUT_GENOME256796 | XieH_2016__YSZC12003_37133__bin.84  | CIBIO | MAG | 1317940 | 315 | 4959 | 47.31 | 71.77 | 1.4 | ⋯ | 16 | NA | GUT_GENOME105882 | MGYG-HGUT-01747 | d__Bacteria;p__Firmicutes_A;c__Clostridia;o__Christensenellales;f__Christensenellaceae;g__;s__ | ERS746898 | ERP010700 | United Kingdom | Europe | ftp://ftp.ebi.ac.uk/pub/databases/metagenomics/mgnify_genomes/human-gut/v1.0/all_genomes/MGYG-HGUT-017/MGYG-HGUT-01747/genomes1/GUT_GENOME256796.gff.gz |\n",
       "| GUT_GENOME260354 | XieH_2016__YSZC12003_37405__bin.112 | CIBIO | MAG | 2315891 | 575 | 4680 | 50.52 | 84.22 | 3.5 | ⋯ | 17 | NA | GUT_GENOME260354 | MGYG-HGUT-04235 | d__Bacteria;p__Firmicutes_A;c__Clostridia;o__Christensenellales;f__Christensenellaceae;g__;s__ | ERS746923 | ERP010700 | United Kingdom | Europe | ftp://ftp.ebi.ac.uk/pub/databases/metagenomics/mgnify_genomes/human-gut/v1.0/all_genomes/MGYG-HGUT-042/MGYG-HGUT-04235/genomes1/GUT_GENOME260354.gff.gz |\n",
       "\n"
      ],
      "text/plain": [
       "   Genome           Original_name                       Study_set Genome_type\n",
       "1  GUT_GENOME067772 ERS235577_13                        HGM       MAG        \n",
       "2  GUT_GENOME076687 ERS473114_58                        HGM       MAG        \n",
       "⋮  ⋮                ⋮                                   ⋮         ⋮          \n",
       "48 GUT_GENOME256796 XieH_2016__YSZC12003_37133__bin.84  CIBIO     MAG        \n",
       "49 GUT_GENOME260354 XieH_2016__YSZC12003_37405__bin.112 CIBIO     MAG        \n",
       "   Length  N_contigs N50  GC_content Completeness Contamination ⋯ tRNAs\n",
       "1  1340409 583       2515 47.52      69.73        2.05          ⋯ 15   \n",
       "2  1168678 554       2303 47.91      61.17        0.14          ⋯  9   \n",
       "⋮  ⋮       ⋮         ⋮    ⋮          ⋮            ⋮             ⋱ ⋮    \n",
       "48 1317940 315       4959 47.31      71.77        1.4           ⋯ 16   \n",
       "49 2315891 575       4680 50.52      84.22        3.5           ⋯ 17   \n",
       "   Genome_accession Species_rep      MGnify_accession\n",
       "1  NA               GUT_GENOME105882 MGYG-HGUT-01747 \n",
       "2  NA               GUT_GENOME105882 MGYG-HGUT-01747 \n",
       "⋮  ⋮                ⋮                ⋮               \n",
       "48 NA               GUT_GENOME105882 MGYG-HGUT-01747 \n",
       "49 NA               GUT_GENOME260354 MGYG-HGUT-04235 \n",
       "   Lineage                                                                                       \n",
       "1  d__Bacteria;p__Firmicutes_A;c__Clostridia;o__Christensenellales;f__Christensenellaceae;g__;s__\n",
       "2  d__Bacteria;p__Firmicutes_A;c__Clostridia;o__Christensenellales;f__Christensenellaceae;g__;s__\n",
       "⋮  ⋮                                                                                             \n",
       "48 d__Bacteria;p__Firmicutes_A;c__Clostridia;o__Christensenellales;f__Christensenellaceae;g__;s__\n",
       "49 d__Bacteria;p__Firmicutes_A;c__Clostridia;o__Christensenellales;f__Christensenellaceae;g__;s__\n",
       "   Sample_accession Study_accession Country        Continent\n",
       "1  ERS235577        ERP002469       Sweden         Europe   \n",
       "2  ERS473114        ERP005989       Sweden         Europe   \n",
       "⋮  ⋮                ⋮               ⋮              ⋮        \n",
       "48 ERS746898        ERP010700       United Kingdom Europe   \n",
       "49 ERS746923        ERP010700       United Kingdom Europe   \n",
       "   FTP_download                                                                                                                                           \n",
       "1  ftp://ftp.ebi.ac.uk/pub/databases/metagenomics/mgnify_genomes/human-gut/v1.0/all_genomes/MGYG-HGUT-017/MGYG-HGUT-01747/genomes1/GUT_GENOME067772.gff.gz\n",
       "2  ftp://ftp.ebi.ac.uk/pub/databases/metagenomics/mgnify_genomes/human-gut/v1.0/all_genomes/MGYG-HGUT-017/MGYG-HGUT-01747/genomes1/GUT_GENOME076687.gff.gz\n",
       "⋮  ⋮                                                                                                                                                      \n",
       "48 ftp://ftp.ebi.ac.uk/pub/databases/metagenomics/mgnify_genomes/human-gut/v1.0/all_genomes/MGYG-HGUT-017/MGYG-HGUT-01747/genomes1/GUT_GENOME256796.gff.gz\n",
       "49 ftp://ftp.ebi.ac.uk/pub/databases/metagenomics/mgnify_genomes/human-gut/v1.0/all_genomes/MGYG-HGUT-042/MGYG-HGUT-04235/genomes1/GUT_GENOME260354.gff.gz"
      ]
     },
     "metadata": {},
     "output_type": "display_data"
    }
   ],
   "source": [
    "genomes_f = genomes %>%\n",
    "    filter.(grepl('f__Christensenellaceae', Lineage))\n",
    "genomes_f "
   ]
  },
  {
   "cell_type": "code",
   "execution_count": 49,
   "metadata": {
    "execution": {
     "iopub.execute_input": "2021-02-23T13:09:03.684968Z",
     "iopub.status.busy": "2021-02-23T13:09:03.680394Z",
     "iopub.status.idle": "2021-02-23T13:09:35.595421Z"
    }
   },
   "outputs": [
    {
     "name": "stderr",
     "output_type": "stream",
     "text": [
      "Downloading: ftp://ftp.ebi.ac.uk/pub/databases/metagenomics/mgnify_genomes/human-gut/v1.0/all_genomes/MGYG-HGUT-017/MGYG-HGUT-01747/genomes1/GUT_GENOME067772.gff.gz\n",
      "\n",
      "Downloading: ftp://ftp.ebi.ac.uk/pub/databases/metagenomics/mgnify_genomes/human-gut/v1.0/all_genomes/MGYG-HGUT-017/MGYG-HGUT-01747/genomes1/GUT_GENOME076687.gff.gz\n",
      "\n",
      "Downloading: ftp://ftp.ebi.ac.uk/pub/databases/metagenomics/mgnify_genomes/human-gut/v1.0/all_genomes/MGYG-HGUT-017/MGYG-HGUT-01747/genomes1/GUT_GENOME076875.gff.gz\n",
      "\n",
      "Downloading: ftp://ftp.ebi.ac.uk/pub/databases/metagenomics/mgnify_genomes/human-gut/v1.0/all_genomes/MGYG-HGUT-017/MGYG-HGUT-01747/genomes1/GUT_GENOME078695.gff.gz\n",
      "\n",
      "Downloading: ftp://ftp.ebi.ac.uk/pub/databases/metagenomics/mgnify_genomes/human-gut/v1.0/all_genomes/MGYG-HGUT-017/MGYG-HGUT-01747/genomes1/GUT_GENOME091014.gff.gz\n",
      "\n",
      "Downloading: ftp://ftp.ebi.ac.uk/pub/databases/metagenomics/mgnify_genomes/human-gut/v1.0/all_genomes/MGYG-HGUT-017/MGYG-HGUT-01747/genomes1/GUT_GENOME091497.gff.gz\n",
      "\n",
      "Downloading: ftp://ftp.ebi.ac.uk/pub/databases/metagenomics/mgnify_genomes/human-gut/v1.0/all_genomes/MGYG-HGUT-017/MGYG-HGUT-01747/genomes1/GUT_GENOME092036.gff.gz\n",
      "\n",
      "Downloading: ftp://ftp.ebi.ac.uk/pub/databases/metagenomics/mgnify_genomes/human-gut/v1.0/all_genomes/MGYG-HGUT-017/MGYG-HGUT-01747/genomes1/GUT_GENOME092709.gff.gz\n",
      "\n",
      "Downloading: ftp://ftp.ebi.ac.uk/pub/databases/metagenomics/mgnify_genomes/human-gut/v1.0/all_genomes/MGYG-HGUT-017/MGYG-HGUT-01747/genomes1/GUT_GENOME092769.gff.gz\n",
      "\n",
      "Downloading: ftp://ftp.ebi.ac.uk/pub/databases/metagenomics/mgnify_genomes/human-gut/v1.0/all_genomes/MGYG-HGUT-017/MGYG-HGUT-01747/genomes1/GUT_GENOME093349.gff.gz\n",
      "\n",
      "Downloading: ftp://ftp.ebi.ac.uk/pub/databases/metagenomics/mgnify_genomes/human-gut/v1.0/all_genomes/MGYG-HGUT-017/MGYG-HGUT-01747/genomes1/GUT_GENOME094667.gff.gz\n",
      "\n",
      "Downloading: ftp://ftp.ebi.ac.uk/pub/databases/metagenomics/mgnify_genomes/human-gut/v1.0/all_genomes/MGYG-HGUT-015/MGYG-HGUT-01550/genomes1/GUT_GENOME096561.gff.gz\n",
      "\n",
      "Downloading: ftp://ftp.ebi.ac.uk/pub/databases/metagenomics/mgnify_genomes/human-gut/v1.0/all_genomes/MGYG-HGUT-015/MGYG-HGUT-01593/genomes1/GUT_GENOME097725.gff.gz\n",
      "\n",
      "Downloading: ftp://ftp.ebi.ac.uk/pub/databases/metagenomics/mgnify_genomes/human-gut/v1.0/all_genomes/MGYG-HGUT-017/MGYG-HGUT-01747/genomes1/GUT_GENOME105882.gff.gz\n",
      "\n",
      "Downloading: ftp://ftp.ebi.ac.uk/pub/databases/metagenomics/mgnify_genomes/human-gut/v1.0/all_genomes/MGYG-HGUT-017/MGYG-HGUT-01747/genomes1/GUT_GENOME106152.gff.gz\n",
      "\n",
      "Downloading: ftp://ftp.ebi.ac.uk/pub/databases/metagenomics/mgnify_genomes/human-gut/v1.0/all_genomes/MGYG-HGUT-017/MGYG-HGUT-01747/genomes1/GUT_GENOME107011.gff.gz\n",
      "\n",
      "Downloading: ftp://ftp.ebi.ac.uk/pub/databases/metagenomics/mgnify_genomes/human-gut/v1.0/all_genomes/MGYG-HGUT-017/MGYG-HGUT-01747/genomes1/GUT_GENOME107393.gff.gz\n",
      "\n",
      "Downloading: ftp://ftp.ebi.ac.uk/pub/databases/metagenomics/mgnify_genomes/human-gut/v1.0/all_genomes/MGYG-HGUT-018/MGYG-HGUT-01822/genomes1/GUT_GENOME111314.gff.gz\n",
      "\n",
      "Downloading: ftp://ftp.ebi.ac.uk/pub/databases/metagenomics/mgnify_genomes/human-gut/v1.0/all_genomes/MGYG-HGUT-017/MGYG-HGUT-01747/genomes1/GUT_GENOME125784.gff.gz\n",
      "\n",
      "Downloading: ftp://ftp.ebi.ac.uk/pub/databases/metagenomics/mgnify_genomes/human-gut/v1.0/all_genomes/MGYG-HGUT-017/MGYG-HGUT-01747/genomes1/GUT_GENOME125867.gff.gz\n",
      "\n",
      "Downloading: ftp://ftp.ebi.ac.uk/pub/databases/metagenomics/mgnify_genomes/human-gut/v1.0/all_genomes/MGYG-HGUT-017/MGYG-HGUT-01747/genomes1/GUT_GENOME125876.gff.gz\n",
      "\n",
      "Downloading: ftp://ftp.ebi.ac.uk/pub/databases/metagenomics/mgnify_genomes/human-gut/v1.0/all_genomes/MGYG-HGUT-020/MGYG-HGUT-02096/genomes1/GUT_GENOME127701.gff.gz\n",
      "\n",
      "Downloading: ftp://ftp.ebi.ac.uk/pub/databases/metagenomics/mgnify_genomes/human-gut/v1.0/all_genomes/MGYG-HGUT-021/MGYG-HGUT-02193/genomes1/GUT_GENOME131740.gff.gz\n",
      "\n",
      "Downloading: ftp://ftp.ebi.ac.uk/pub/databases/metagenomics/mgnify_genomes/human-gut/v1.0/all_genomes/MGYG-HGUT-021/MGYG-HGUT-02193/genomes1/GUT_GENOME137430.gff.gz\n",
      "\n",
      "Downloading: ftp://ftp.ebi.ac.uk/pub/databases/metagenomics/mgnify_genomes/human-gut/v1.0/all_genomes/MGYG-HGUT-024/MGYG-HGUT-02411/genomes1/GUT_GENOME142595.gff.gz\n",
      "\n",
      "Downloading: ftp://ftp.ebi.ac.uk/pub/databases/metagenomics/mgnify_genomes/human-gut/v1.0/all_genomes/MGYG-HGUT-025/MGYG-HGUT-02523/genomes1/GUT_GENOME147109.gff.gz\n",
      "\n",
      "Downloading: ftp://ftp.ebi.ac.uk/pub/databases/metagenomics/mgnify_genomes/human-gut/v1.0/all_genomes/MGYG-HGUT-027/MGYG-HGUT-02701/genomes1/GUT_GENOME158644.gff.gz\n",
      "\n",
      "Downloading: ftp://ftp.ebi.ac.uk/pub/databases/metagenomics/mgnify_genomes/human-gut/v1.0/all_genomes/MGYG-HGUT-017/MGYG-HGUT-01747/genomes1/GUT_GENOME163028.gff.gz\n",
      "\n",
      "Downloading: ftp://ftp.ebi.ac.uk/pub/databases/metagenomics/mgnify_genomes/human-gut/v1.0/all_genomes/MGYG-HGUT-021/MGYG-HGUT-02193/genomes1/GUT_GENOME173449.gff.gz\n",
      "\n",
      "Downloading: ftp://ftp.ebi.ac.uk/pub/databases/metagenomics/mgnify_genomes/human-gut/v1.0/all_genomes/MGYG-HGUT-017/MGYG-HGUT-01747/genomes1/GUT_GENOME185233.gff.gz\n",
      "\n",
      "Downloading: ftp://ftp.ebi.ac.uk/pub/databases/metagenomics/mgnify_genomes/human-gut/v1.0/all_genomes/MGYG-HGUT-017/MGYG-HGUT-01747/genomes1/GUT_GENOME185690.gff.gz\n",
      "\n",
      "Downloading: ftp://ftp.ebi.ac.uk/pub/databases/metagenomics/mgnify_genomes/human-gut/v1.0/all_genomes/MGYG-HGUT-017/MGYG-HGUT-01747/genomes1/GUT_GENOME188736.gff.gz\n",
      "\n",
      "Downloading: ftp://ftp.ebi.ac.uk/pub/databases/metagenomics/mgnify_genomes/human-gut/v1.0/all_genomes/MGYG-HGUT-017/MGYG-HGUT-01747/genomes1/GUT_GENOME189660.gff.gz\n",
      "\n",
      "Downloading: ftp://ftp.ebi.ac.uk/pub/databases/metagenomics/mgnify_genomes/human-gut/v1.0/all_genomes/MGYG-HGUT-017/MGYG-HGUT-01747/genomes1/GUT_GENOME189879.gff.gz\n",
      "\n",
      "Downloading: ftp://ftp.ebi.ac.uk/pub/databases/metagenomics/mgnify_genomes/human-gut/v1.0/all_genomes/MGYG-HGUT-017/MGYG-HGUT-01747/genomes1/GUT_GENOME190234.gff.gz\n",
      "\n",
      "Downloading: ftp://ftp.ebi.ac.uk/pub/databases/metagenomics/mgnify_genomes/human-gut/v1.0/all_genomes/MGYG-HGUT-017/MGYG-HGUT-01747/genomes1/GUT_GENOME190484.gff.gz\n",
      "\n",
      "Downloading: ftp://ftp.ebi.ac.uk/pub/databases/metagenomics/mgnify_genomes/human-gut/v1.0/all_genomes/MGYG-HGUT-017/MGYG-HGUT-01747/genomes1/GUT_GENOME191624.gff.gz\n",
      "\n",
      "Downloading: ftp://ftp.ebi.ac.uk/pub/databases/metagenomics/mgnify_genomes/human-gut/v1.0/all_genomes/MGYG-HGUT-017/MGYG-HGUT-01747/genomes1/GUT_GENOME192586.gff.gz\n",
      "\n",
      "Downloading: ftp://ftp.ebi.ac.uk/pub/databases/metagenomics/mgnify_genomes/human-gut/v1.0/all_genomes/MGYG-HGUT-017/MGYG-HGUT-01747/genomes1/GUT_GENOME194019.gff.gz\n",
      "\n",
      "Downloading: ftp://ftp.ebi.ac.uk/pub/databases/metagenomics/mgnify_genomes/human-gut/v1.0/all_genomes/MGYG-HGUT-017/MGYG-HGUT-01747/genomes1/GUT_GENOME194470.gff.gz\n",
      "\n",
      "Downloading: ftp://ftp.ebi.ac.uk/pub/databases/metagenomics/mgnify_genomes/human-gut/v1.0/all_genomes/MGYG-HGUT-032/MGYG-HGUT-03227/genomes1/GUT_GENOME215504.gff.gz\n",
      "\n",
      "Downloading: ftp://ftp.ebi.ac.uk/pub/databases/metagenomics/mgnify_genomes/human-gut/v1.0/all_genomes/MGYG-HGUT-033/MGYG-HGUT-03304/genomes1/GUT_GENOME222296.gff.gz\n",
      "\n",
      "Downloading: ftp://ftp.ebi.ac.uk/pub/databases/metagenomics/mgnify_genomes/human-gut/v1.0/all_genomes/MGYG-HGUT-017/MGYG-HGUT-01747/genomes1/GUT_GENOME252750.gff.gz\n",
      "\n",
      "Downloading: ftp://ftp.ebi.ac.uk/pub/databases/metagenomics/mgnify_genomes/human-gut/v1.0/all_genomes/MGYG-HGUT-021/MGYG-HGUT-02193/genomes1/GUT_GENOME253521.gff.gz\n",
      "\n",
      "Downloading: ftp://ftp.ebi.ac.uk/pub/databases/metagenomics/mgnify_genomes/human-gut/v1.0/all_genomes/MGYG-HGUT-017/MGYG-HGUT-01747/genomes1/GUT_GENOME253845.gff.gz\n",
      "\n",
      "Downloading: ftp://ftp.ebi.ac.uk/pub/databases/metagenomics/mgnify_genomes/human-gut/v1.0/all_genomes/MGYG-HGUT-017/MGYG-HGUT-01747/genomes1/GUT_GENOME255745.gff.gz\n",
      "\n",
      "Downloading: ftp://ftp.ebi.ac.uk/pub/databases/metagenomics/mgnify_genomes/human-gut/v1.0/all_genomes/MGYG-HGUT-017/MGYG-HGUT-01747/genomes1/GUT_GENOME255791.gff.gz\n",
      "\n",
      "Downloading: ftp://ftp.ebi.ac.uk/pub/databases/metagenomics/mgnify_genomes/human-gut/v1.0/all_genomes/MGYG-HGUT-017/MGYG-HGUT-01747/genomes1/GUT_GENOME256796.gff.gz\n",
      "\n",
      "Downloading: ftp://ftp.ebi.ac.uk/pub/databases/metagenomics/mgnify_genomes/human-gut/v1.0/all_genomes/MGYG-HGUT-042/MGYG-HGUT-04235/genomes1/GUT_GENOME260354.gff.gz\n",
      "\n"
     ]
    },
    {
     "data": {
      "text/html": [
       "49"
      ],
      "text/latex": [
       "49"
      ],
      "text/markdown": [
       "49"
      ],
      "text/plain": [
       "[1] 49"
      ]
     },
     "metadata": {},
     "output_type": "display_data"
    }
   ],
   "source": [
    "# downloading\n",
    "get_file = function(url, base_dir){\n",
    "    outfile = file.path(base_dir, 'genomes', 'UHGG', gsub('.+/', '', url))\n",
    "    message('Downloading: ', url)\n",
    "    curl_download(url, outfile, mode = \"wb\")\n",
    "}\n",
    "\n",
    "ret = genomes_f$FTP_download %>%\n",
    "    lapply(get_file, work_dir)\n",
    "ret %>% length"
   ]
  },
  {
   "cell_type": "markdown",
   "metadata": {},
   "source": [
    "Parsing gff files\n",
    "\n",
    "```\n",
    "(genome) @ rick:/ebio/abt3_projects/software/dev/ll_pipelines/llprimer/experiments/christensenellaceae/genomes/UHGG\n",
    "$ find . -name \"*.gff.gz\" | xargs -I % /ebio/abt3_projects/databases_no-backup/UHGG/2019_09/prokka_gff2fasta.py %\n",
    "```"
   ]
  },
  {
   "cell_type": "markdown",
   "metadata": {},
   "source": [
    "## TUK MAGs"
   ]
  },
  {
   "cell_type": "code",
   "execution_count": 50,
   "metadata": {
    "execution": {
     "iopub.execute_input": "2021-02-23T13:31:18.926971Z",
     "iopub.status.busy": "2021-02-23T13:31:18.922141Z",
     "iopub.status.idle": "2021-02-23T13:31:19.691065Z"
    }
   },
   "outputs": [
    {
     "data": {
      "text/html": [
       "<table class=\"dataframe\">\n",
       "<caption>A data.table: 12357 × 20</caption>\n",
       "<thead>\n",
       "\t<tr><th scope=col>Name</th><th scope=col>Fasta</th><th scope=col>Domain</th><th scope=col>Phylum</th><th scope=col>Class</th><th scope=col>Order</th><th scope=col>Family</th><th scope=col>Genus</th><th scope=col>Species</th><th scope=col>Completeness</th><th scope=col>Contamination</th><th scope=col>Strain.heterogeneity</th><th scope=col>Genome.size..bp.</th><th scope=col>X..contigs</th><th scope=col>N50..contigs.</th><th scope=col>Mean.contig.length..bp.</th><th scope=col>Longest.contig..bp.</th><th scope=col>GC</th><th scope=col>Coding.density</th><th scope=col>X..predicted.genes</th></tr>\n",
       "\t<tr><th scope=col>&lt;chr&gt;</th><th scope=col>&lt;chr&gt;</th><th scope=col>&lt;chr&gt;</th><th scope=col>&lt;chr&gt;</th><th scope=col>&lt;chr&gt;</th><th scope=col>&lt;chr&gt;</th><th scope=col>&lt;chr&gt;</th><th scope=col>&lt;chr&gt;</th><th scope=col>&lt;chr&gt;</th><th scope=col>&lt;dbl&gt;</th><th scope=col>&lt;dbl&gt;</th><th scope=col>&lt;dbl&gt;</th><th scope=col>&lt;int&gt;</th><th scope=col>&lt;int&gt;</th><th scope=col>&lt;int&gt;</th><th scope=col>&lt;int&gt;</th><th scope=col>&lt;int&gt;</th><th scope=col>&lt;dbl&gt;</th><th scope=col>&lt;dbl&gt;</th><th scope=col>&lt;int&gt;</th></tr>\n",
       "</thead>\n",
       "<tbody>\n",
       "\t<tr><td>1002320__metabat2__HighNoCov.035</td><td>/ebio/abt3_projects/Anxiety_Twins_Metagenomes/data/metagenome/TUK-5projects/LLMGA/v0.12/LLG/rnd1/drep/drep/dereplicated_genomes/1002320__metabat2__HighNoCov.035.fna</td><td>Bacteria</td><td>Bacteroidota</td><td>Bacteroidia</td><td>Bacteroidales</td><td>Rikenellaceae</td><td>Tidjanibacter</td><td>Tidjanibacter inops</td><td> 92.2</td><td>4.61</td><td>7.14</td><td>2261725</td><td>365</td><td>  8314</td><td> 6196</td><td> 65550</td><td>56.9</td><td>86.29</td><td>2235</td></tr>\n",
       "\t<tr><td>1002335__maxbin2__High.035      </td><td>/ebio/abt3_projects/Anxiety_Twins_Metagenomes/data/metagenome/TUK-5projects/LLMGA/v0.12/LLG/rnd1/drep/drep/dereplicated_genomes/1002335__maxbin2__High.035.fna      </td><td>Bacteria</td><td>Bacteroidota</td><td>Bacteroidia</td><td>Bacteroidales</td><td>Rikenellaceae</td><td>Alistipes_A  </td><td>Alistipes_A ihumii </td><td>100.0</td><td>0.00</td><td>0.00</td><td>2620923</td><td> 29</td><td>339045</td><td>90376</td><td>457503</td><td>58.5</td><td>83.91</td><td>2100</td></tr>\n",
       "\t<tr><td>⋮</td><td>⋮</td><td>⋮</td><td>⋮</td><td>⋮</td><td>⋮</td><td>⋮</td><td>⋮</td><td>⋮</td><td>⋮</td><td>⋮</td><td>⋮</td><td>⋮</td><td>⋮</td><td>⋮</td><td>⋮</td><td>⋮</td><td>⋮</td><td>⋮</td><td>⋮</td></tr>\n",
       "\t<tr><td>ERR3451530__metabat2__High.008</td><td>/ebio/abt3_projects/Anxiety_Twins_Metagenomes/data/metagenome/TUK-5projects/LLMGA/v0.12/LLG/rnd1/drep/drep/dereplicated_genomes/ERR3451530__metabat2__High.008.fna</td><td>Bacteria</td><td>Firmicutes_A</td><td>Clostridia</td><td>Oscillospirales</td><td>Oscillospiraceae</td><td>CAG-103</td><td>CAG-103 sp000432375</td><td>88.26</td><td>0.67</td><td>100</td><td>1925297</td><td> 28</td><td>172712</td><td>68760</td><td>283992</td><td>62.2</td><td>89.32</td><td>1782</td></tr>\n",
       "\t<tr><td>ERR3451530__vamb__High.213    </td><td>/ebio/abt3_projects/Anxiety_Twins_Metagenomes/data/metagenome/TUK-5projects/LLMGA/v0.12/LLG/rnd1/drep/drep/dereplicated_genomes/ERR3451530__vamb__High.213.fna    </td><td>Bacteria</td><td>Firmicutes_A</td><td>Clostridia</td><td>Oscillospirales</td><td>Ruminococcaceae </td><td>CAG-115</td><td>CAG-115 sp003531585</td><td>95.97</td><td>0.84</td><td>100</td><td>2811853</td><td>271</td><td> 15050</td><td>10375</td><td> 90239</td><td>52.4</td><td>88.48</td><td>2685</td></tr>\n",
       "</tbody>\n",
       "</table>\n"
      ],
      "text/latex": [
       "A data.table: 12357 × 20\n",
       "\\begin{tabular}{llllllllllllllllllll}\n",
       " Name & Fasta & Domain & Phylum & Class & Order & Family & Genus & Species & Completeness & Contamination & Strain.heterogeneity & Genome.size..bp. & X..contigs & N50..contigs. & Mean.contig.length..bp. & Longest.contig..bp. & GC & Coding.density & X..predicted.genes\\\\\n",
       " <chr> & <chr> & <chr> & <chr> & <chr> & <chr> & <chr> & <chr> & <chr> & <dbl> & <dbl> & <dbl> & <int> & <int> & <int> & <int> & <int> & <dbl> & <dbl> & <int>\\\\\n",
       "\\hline\n",
       "\t 1002320\\_\\_metabat2\\_\\_HighNoCov.035 & /ebio/abt3\\_projects/Anxiety\\_Twins\\_Metagenomes/data/metagenome/TUK-5projects/LLMGA/v0.12/LLG/rnd1/drep/drep/dereplicated\\_genomes/1002320\\_\\_metabat2\\_\\_HighNoCov.035.fna & Bacteria & Bacteroidota & Bacteroidia & Bacteroidales & Rikenellaceae & Tidjanibacter & Tidjanibacter inops &  92.2 & 4.61 & 7.14 & 2261725 & 365 &   8314 &  6196 &  65550 & 56.9 & 86.29 & 2235\\\\\n",
       "\t 1002335\\_\\_maxbin2\\_\\_High.035       & /ebio/abt3\\_projects/Anxiety\\_Twins\\_Metagenomes/data/metagenome/TUK-5projects/LLMGA/v0.12/LLG/rnd1/drep/drep/dereplicated\\_genomes/1002335\\_\\_maxbin2\\_\\_High.035.fna       & Bacteria & Bacteroidota & Bacteroidia & Bacteroidales & Rikenellaceae & Alistipes\\_A   & Alistipes\\_A ihumii  & 100.0 & 0.00 & 0.00 & 2620923 &  29 & 339045 & 90376 & 457503 & 58.5 & 83.91 & 2100\\\\\n",
       "\t ⋮ & ⋮ & ⋮ & ⋮ & ⋮ & ⋮ & ⋮ & ⋮ & ⋮ & ⋮ & ⋮ & ⋮ & ⋮ & ⋮ & ⋮ & ⋮ & ⋮ & ⋮ & ⋮ & ⋮\\\\\n",
       "\t ERR3451530\\_\\_metabat2\\_\\_High.008 & /ebio/abt3\\_projects/Anxiety\\_Twins\\_Metagenomes/data/metagenome/TUK-5projects/LLMGA/v0.12/LLG/rnd1/drep/drep/dereplicated\\_genomes/ERR3451530\\_\\_metabat2\\_\\_High.008.fna & Bacteria & Firmicutes\\_A & Clostridia & Oscillospirales & Oscillospiraceae & CAG-103 & CAG-103 sp000432375 & 88.26 & 0.67 & 100 & 1925297 &  28 & 172712 & 68760 & 283992 & 62.2 & 89.32 & 1782\\\\\n",
       "\t ERR3451530\\_\\_vamb\\_\\_High.213     & /ebio/abt3\\_projects/Anxiety\\_Twins\\_Metagenomes/data/metagenome/TUK-5projects/LLMGA/v0.12/LLG/rnd1/drep/drep/dereplicated\\_genomes/ERR3451530\\_\\_vamb\\_\\_High.213.fna     & Bacteria & Firmicutes\\_A & Clostridia & Oscillospirales & Ruminococcaceae  & CAG-115 & CAG-115 sp003531585 & 95.97 & 0.84 & 100 & 2811853 & 271 &  15050 & 10375 &  90239 & 52.4 & 88.48 & 2685\\\\\n",
       "\\end{tabular}\n"
      ],
      "text/markdown": [
       "\n",
       "A data.table: 12357 × 20\n",
       "\n",
       "| Name &lt;chr&gt; | Fasta &lt;chr&gt; | Domain &lt;chr&gt; | Phylum &lt;chr&gt; | Class &lt;chr&gt; | Order &lt;chr&gt; | Family &lt;chr&gt; | Genus &lt;chr&gt; | Species &lt;chr&gt; | Completeness &lt;dbl&gt; | Contamination &lt;dbl&gt; | Strain.heterogeneity &lt;dbl&gt; | Genome.size..bp. &lt;int&gt; | X..contigs &lt;int&gt; | N50..contigs. &lt;int&gt; | Mean.contig.length..bp. &lt;int&gt; | Longest.contig..bp. &lt;int&gt; | GC &lt;dbl&gt; | Coding.density &lt;dbl&gt; | X..predicted.genes &lt;int&gt; |\n",
       "|---|---|---|---|---|---|---|---|---|---|---|---|---|---|---|---|---|---|---|---|\n",
       "| 1002320__metabat2__HighNoCov.035 | /ebio/abt3_projects/Anxiety_Twins_Metagenomes/data/metagenome/TUK-5projects/LLMGA/v0.12/LLG/rnd1/drep/drep/dereplicated_genomes/1002320__metabat2__HighNoCov.035.fna | Bacteria | Bacteroidota | Bacteroidia | Bacteroidales | Rikenellaceae | Tidjanibacter | Tidjanibacter inops |  92.2 | 4.61 | 7.14 | 2261725 | 365 |   8314 |  6196 |  65550 | 56.9 | 86.29 | 2235 |\n",
       "| 1002335__maxbin2__High.035       | /ebio/abt3_projects/Anxiety_Twins_Metagenomes/data/metagenome/TUK-5projects/LLMGA/v0.12/LLG/rnd1/drep/drep/dereplicated_genomes/1002335__maxbin2__High.035.fna       | Bacteria | Bacteroidota | Bacteroidia | Bacteroidales | Rikenellaceae | Alistipes_A   | Alistipes_A ihumii  | 100.0 | 0.00 | 0.00 | 2620923 |  29 | 339045 | 90376 | 457503 | 58.5 | 83.91 | 2100 |\n",
       "| ⋮ | ⋮ | ⋮ | ⋮ | ⋮ | ⋮ | ⋮ | ⋮ | ⋮ | ⋮ | ⋮ | ⋮ | ⋮ | ⋮ | ⋮ | ⋮ | ⋮ | ⋮ | ⋮ | ⋮ |\n",
       "| ERR3451530__metabat2__High.008 | /ebio/abt3_projects/Anxiety_Twins_Metagenomes/data/metagenome/TUK-5projects/LLMGA/v0.12/LLG/rnd1/drep/drep/dereplicated_genomes/ERR3451530__metabat2__High.008.fna | Bacteria | Firmicutes_A | Clostridia | Oscillospirales | Oscillospiraceae | CAG-103 | CAG-103 sp000432375 | 88.26 | 0.67 | 100 | 1925297 |  28 | 172712 | 68760 | 283992 | 62.2 | 89.32 | 1782 |\n",
       "| ERR3451530__vamb__High.213     | /ebio/abt3_projects/Anxiety_Twins_Metagenomes/data/metagenome/TUK-5projects/LLMGA/v0.12/LLG/rnd1/drep/drep/dereplicated_genomes/ERR3451530__vamb__High.213.fna     | Bacteria | Firmicutes_A | Clostridia | Oscillospirales | Ruminococcaceae  | CAG-115 | CAG-115 sp003531585 | 95.97 | 0.84 | 100 | 2811853 | 271 |  15050 | 10375 |  90239 | 52.4 | 88.48 | 2685 |\n",
       "\n"
      ],
      "text/plain": [
       "      Name                            \n",
       "1     1002320__metabat2__HighNoCov.035\n",
       "2     1002335__maxbin2__High.035      \n",
       "⋮     ⋮                               \n",
       "12356 ERR3451530__metabat2__High.008  \n",
       "12357 ERR3451530__vamb__High.213      \n",
       "      Fasta                                                                                                                                                               \n",
       "1     /ebio/abt3_projects/Anxiety_Twins_Metagenomes/data/metagenome/TUK-5projects/LLMGA/v0.12/LLG/rnd1/drep/drep/dereplicated_genomes/1002320__metabat2__HighNoCov.035.fna\n",
       "2     /ebio/abt3_projects/Anxiety_Twins_Metagenomes/data/metagenome/TUK-5projects/LLMGA/v0.12/LLG/rnd1/drep/drep/dereplicated_genomes/1002335__maxbin2__High.035.fna      \n",
       "⋮     ⋮                                                                                                                                                                   \n",
       "12356 /ebio/abt3_projects/Anxiety_Twins_Metagenomes/data/metagenome/TUK-5projects/LLMGA/v0.12/LLG/rnd1/drep/drep/dereplicated_genomes/ERR3451530__metabat2__High.008.fna  \n",
       "12357 /ebio/abt3_projects/Anxiety_Twins_Metagenomes/data/metagenome/TUK-5projects/LLMGA/v0.12/LLG/rnd1/drep/drep/dereplicated_genomes/ERR3451530__vamb__High.213.fna      \n",
       "      Domain   Phylum       Class       Order           Family          \n",
       "1     Bacteria Bacteroidota Bacteroidia Bacteroidales   Rikenellaceae   \n",
       "2     Bacteria Bacteroidota Bacteroidia Bacteroidales   Rikenellaceae   \n",
       "⋮     ⋮        ⋮            ⋮           ⋮               ⋮               \n",
       "12356 Bacteria Firmicutes_A Clostridia  Oscillospirales Oscillospiraceae\n",
       "12357 Bacteria Firmicutes_A Clostridia  Oscillospirales Ruminococcaceae \n",
       "      Genus         Species             Completeness Contamination\n",
       "1     Tidjanibacter Tidjanibacter inops  92.2        4.61         \n",
       "2     Alistipes_A   Alistipes_A ihumii  100.0        0.00         \n",
       "⋮     ⋮             ⋮                   ⋮            ⋮            \n",
       "12356 CAG-103       CAG-103 sp000432375 88.26        0.67         \n",
       "12357 CAG-115       CAG-115 sp003531585 95.97        0.84         \n",
       "      Strain.heterogeneity Genome.size..bp. X..contigs N50..contigs.\n",
       "1     7.14                 2261725          365          8314       \n",
       "2     0.00                 2620923           29        339045       \n",
       "⋮     ⋮                    ⋮                ⋮          ⋮            \n",
       "12356 100                  1925297           28        172712       \n",
       "12357 100                  2811853          271         15050       \n",
       "      Mean.contig.length..bp. Longest.contig..bp. GC   Coding.density\n",
       "1      6196                    65550              56.9 86.29         \n",
       "2     90376                   457503              58.5 83.91         \n",
       "⋮     ⋮                       ⋮                   ⋮    ⋮             \n",
       "12356 68760                   283992              62.2 89.32         \n",
       "12357 10375                    90239              52.4 88.48         \n",
       "      X..predicted.genes\n",
       "1     2235              \n",
       "2     2100              \n",
       "⋮     ⋮                 \n",
       "12356 1782              \n",
       "12357 2685              "
      ]
     },
     "metadata": {},
     "output_type": "display_data"
    }
   ],
   "source": [
    "F = '/ebio/abt3_projects/Anxiety_Twins_Metagenomes/data/metagenome/TUK-5projects/LLMGA/v0.12/LLG/rnd1/final_MAGs.tsv'\n",
    "TUK = Fread(F)\n",
    "TUK"
   ]
  },
  {
   "cell_type": "code",
   "execution_count": 52,
   "metadata": {
    "execution": {
     "iopub.execute_input": "2021-02-23T13:31:50.157810Z",
     "iopub.status.busy": "2021-02-23T13:31:50.153684Z",
     "iopub.status.idle": "2021-02-23T13:31:50.213802Z"
    }
   },
   "outputs": [
    {
     "data": {
      "text/html": [
       "<table class=\"dataframe\">\n",
       "<caption>A tidytable: 5 × 20</caption>\n",
       "<thead>\n",
       "\t<tr><th scope=col>Name</th><th scope=col>Fasta</th><th scope=col>Domain</th><th scope=col>Phylum</th><th scope=col>Class</th><th scope=col>Order</th><th scope=col>Family</th><th scope=col>Genus</th><th scope=col>Species</th><th scope=col>Completeness</th><th scope=col>Contamination</th><th scope=col>Strain.heterogeneity</th><th scope=col>Genome.size..bp.</th><th scope=col>X..contigs</th><th scope=col>N50..contigs.</th><th scope=col>Mean.contig.length..bp.</th><th scope=col>Longest.contig..bp.</th><th scope=col>GC</th><th scope=col>Coding.density</th><th scope=col>X..predicted.genes</th></tr>\n",
       "\t<tr><th scope=col>&lt;chr&gt;</th><th scope=col>&lt;chr&gt;</th><th scope=col>&lt;chr&gt;</th><th scope=col>&lt;chr&gt;</th><th scope=col>&lt;chr&gt;</th><th scope=col>&lt;chr&gt;</th><th scope=col>&lt;chr&gt;</th><th scope=col>&lt;chr&gt;</th><th scope=col>&lt;chr&gt;</th><th scope=col>&lt;dbl&gt;</th><th scope=col>&lt;dbl&gt;</th><th scope=col>&lt;dbl&gt;</th><th scope=col>&lt;int&gt;</th><th scope=col>&lt;int&gt;</th><th scope=col>&lt;int&gt;</th><th scope=col>&lt;int&gt;</th><th scope=col>&lt;int&gt;</th><th scope=col>&lt;dbl&gt;</th><th scope=col>&lt;dbl&gt;</th><th scope=col>&lt;int&gt;</th></tr>\n",
       "</thead>\n",
       "<tbody>\n",
       "\t<tr><td>ERR3451522__vamb__Low.036       </td><td>/ebio/abt3_projects/Anxiety_Twins_Metagenomes/data/metagenome/TUK-5projects/LLMGA/v0.12/LLG/rnd1/drep/drep/dereplicated_genomes/ERR3451522__vamb__Low.036.fna       </td><td>Bacteria</td><td>Firmicutes_A</td><td>Clostridia_A</td><td>Christensenellales</td><td>Christensenellaceae</td><td>QANA01 </td><td>QANA01 sp900554725 </td><td>81.99</td><td>3.38</td><td>11.11</td><td>1445289</td><td>318</td><td>5631</td><td>4544</td><td>21582</td><td>50.7</td><td>89.05</td><td>1626</td></tr>\n",
       "\t<tr><td>1002868__metabat2__HighNoCov.035</td><td>/ebio/abt3_projects/Anxiety_Twins_Metagenomes/data/metagenome/TUK-5projects/LLMGA/v0.12/LLG/rnd1/drep/drep/dereplicated_genomes/1002868__metabat2__HighNoCov.035.fna</td><td>Bacteria</td><td>Firmicutes_A</td><td>Clostridia_A</td><td>Christensenellales</td><td>Christensenellaceae</td><td>UMGS743</td><td>UMGS743 sp900545085</td><td>88.09</td><td>0.70</td><td> 0.00</td><td>1520326</td><td>322</td><td>5894</td><td>4721</td><td>21753</td><td>47.6</td><td>88.80</td><td>1705</td></tr>\n",
       "\t<tr><td>⋮</td><td>⋮</td><td>⋮</td><td>⋮</td><td>⋮</td><td>⋮</td><td>⋮</td><td>⋮</td><td>⋮</td><td>⋮</td><td>⋮</td><td>⋮</td><td>⋮</td><td>⋮</td><td>⋮</td><td>⋮</td><td>⋮</td><td>⋮</td><td>⋮</td><td>⋮</td></tr>\n",
       "\t<tr><td>1003367__vamb__Med.024        </td><td>/ebio/abt3_projects/Anxiety_Twins_Metagenomes/data/metagenome/TUK-5projects/LLMGA/v0.12/LLG/rnd1/drep/drep/dereplicated_genomes/1003367__vamb__Med.024.fna        </td><td>Bacteria</td><td>Firmicutes_A</td><td>Clostridia_A</td><td>Christensenellales</td><td>Christensenellaceae</td><td>UMGS743</td><td>UMGS743 sp900545085</td><td>71.38</td><td>2.04</td><td>0</td><td>1408546</td><td>437</td><td>3519</td><td>3223</td><td>14284</td><td>46.9</td><td>87.81</td><td>1747</td></tr>\n",
       "\t<tr><td>1002853__maxbin2__High.073_sub</td><td>/ebio/abt3_projects/Anxiety_Twins_Metagenomes/data/metagenome/TUK-5projects/LLMGA/v0.12/LLG/rnd1/drep/drep/dereplicated_genomes/1002853__maxbin2__High.073_sub.fna</td><td>Bacteria</td><td>Firmicutes_A</td><td>Clostridia_A</td><td>Christensenellales</td><td>Christensenellaceae</td><td>UMGS743</td><td>UMGS743 sp900545085</td><td>85.63</td><td>1.75</td><td>0</td><td>2094087</td><td>511</td><td>4991</td><td>4098</td><td>22183</td><td>47.2</td><td>87.95</td><td>2468</td></tr>\n",
       "</tbody>\n",
       "</table>\n"
      ],
      "text/latex": [
       "A tidytable: 5 × 20\n",
       "\\begin{tabular}{llllllllllllllllllll}\n",
       " Name & Fasta & Domain & Phylum & Class & Order & Family & Genus & Species & Completeness & Contamination & Strain.heterogeneity & Genome.size..bp. & X..contigs & N50..contigs. & Mean.contig.length..bp. & Longest.contig..bp. & GC & Coding.density & X..predicted.genes\\\\\n",
       " <chr> & <chr> & <chr> & <chr> & <chr> & <chr> & <chr> & <chr> & <chr> & <dbl> & <dbl> & <dbl> & <int> & <int> & <int> & <int> & <int> & <dbl> & <dbl> & <int>\\\\\n",
       "\\hline\n",
       "\t ERR3451522\\_\\_vamb\\_\\_Low.036        & /ebio/abt3\\_projects/Anxiety\\_Twins\\_Metagenomes/data/metagenome/TUK-5projects/LLMGA/v0.12/LLG/rnd1/drep/drep/dereplicated\\_genomes/ERR3451522\\_\\_vamb\\_\\_Low.036.fna        & Bacteria & Firmicutes\\_A & Clostridia\\_A & Christensenellales & Christensenellaceae & QANA01  & QANA01 sp900554725  & 81.99 & 3.38 & 11.11 & 1445289 & 318 & 5631 & 4544 & 21582 & 50.7 & 89.05 & 1626\\\\\n",
       "\t 1002868\\_\\_metabat2\\_\\_HighNoCov.035 & /ebio/abt3\\_projects/Anxiety\\_Twins\\_Metagenomes/data/metagenome/TUK-5projects/LLMGA/v0.12/LLG/rnd1/drep/drep/dereplicated\\_genomes/1002868\\_\\_metabat2\\_\\_HighNoCov.035.fna & Bacteria & Firmicutes\\_A & Clostridia\\_A & Christensenellales & Christensenellaceae & UMGS743 & UMGS743 sp900545085 & 88.09 & 0.70 &  0.00 & 1520326 & 322 & 5894 & 4721 & 21753 & 47.6 & 88.80 & 1705\\\\\n",
       "\t ⋮ & ⋮ & ⋮ & ⋮ & ⋮ & ⋮ & ⋮ & ⋮ & ⋮ & ⋮ & ⋮ & ⋮ & ⋮ & ⋮ & ⋮ & ⋮ & ⋮ & ⋮ & ⋮ & ⋮\\\\\n",
       "\t 1003367\\_\\_vamb\\_\\_Med.024         & /ebio/abt3\\_projects/Anxiety\\_Twins\\_Metagenomes/data/metagenome/TUK-5projects/LLMGA/v0.12/LLG/rnd1/drep/drep/dereplicated\\_genomes/1003367\\_\\_vamb\\_\\_Med.024.fna         & Bacteria & Firmicutes\\_A & Clostridia\\_A & Christensenellales & Christensenellaceae & UMGS743 & UMGS743 sp900545085 & 71.38 & 2.04 & 0 & 1408546 & 437 & 3519 & 3223 & 14284 & 46.9 & 87.81 & 1747\\\\\n",
       "\t 1002853\\_\\_maxbin2\\_\\_High.073\\_sub & /ebio/abt3\\_projects/Anxiety\\_Twins\\_Metagenomes/data/metagenome/TUK-5projects/LLMGA/v0.12/LLG/rnd1/drep/drep/dereplicated\\_genomes/1002853\\_\\_maxbin2\\_\\_High.073\\_sub.fna & Bacteria & Firmicutes\\_A & Clostridia\\_A & Christensenellales & Christensenellaceae & UMGS743 & UMGS743 sp900545085 & 85.63 & 1.75 & 0 & 2094087 & 511 & 4991 & 4098 & 22183 & 47.2 & 87.95 & 2468\\\\\n",
       "\\end{tabular}\n"
      ],
      "text/markdown": [
       "\n",
       "A tidytable: 5 × 20\n",
       "\n",
       "| Name &lt;chr&gt; | Fasta &lt;chr&gt; | Domain &lt;chr&gt; | Phylum &lt;chr&gt; | Class &lt;chr&gt; | Order &lt;chr&gt; | Family &lt;chr&gt; | Genus &lt;chr&gt; | Species &lt;chr&gt; | Completeness &lt;dbl&gt; | Contamination &lt;dbl&gt; | Strain.heterogeneity &lt;dbl&gt; | Genome.size..bp. &lt;int&gt; | X..contigs &lt;int&gt; | N50..contigs. &lt;int&gt; | Mean.contig.length..bp. &lt;int&gt; | Longest.contig..bp. &lt;int&gt; | GC &lt;dbl&gt; | Coding.density &lt;dbl&gt; | X..predicted.genes &lt;int&gt; |\n",
       "|---|---|---|---|---|---|---|---|---|---|---|---|---|---|---|---|---|---|---|---|\n",
       "| ERR3451522__vamb__Low.036        | /ebio/abt3_projects/Anxiety_Twins_Metagenomes/data/metagenome/TUK-5projects/LLMGA/v0.12/LLG/rnd1/drep/drep/dereplicated_genomes/ERR3451522__vamb__Low.036.fna        | Bacteria | Firmicutes_A | Clostridia_A | Christensenellales | Christensenellaceae | QANA01  | QANA01 sp900554725  | 81.99 | 3.38 | 11.11 | 1445289 | 318 | 5631 | 4544 | 21582 | 50.7 | 89.05 | 1626 |\n",
       "| 1002868__metabat2__HighNoCov.035 | /ebio/abt3_projects/Anxiety_Twins_Metagenomes/data/metagenome/TUK-5projects/LLMGA/v0.12/LLG/rnd1/drep/drep/dereplicated_genomes/1002868__metabat2__HighNoCov.035.fna | Bacteria | Firmicutes_A | Clostridia_A | Christensenellales | Christensenellaceae | UMGS743 | UMGS743 sp900545085 | 88.09 | 0.70 |  0.00 | 1520326 | 322 | 5894 | 4721 | 21753 | 47.6 | 88.80 | 1705 |\n",
       "| ⋮ | ⋮ | ⋮ | ⋮ | ⋮ | ⋮ | ⋮ | ⋮ | ⋮ | ⋮ | ⋮ | ⋮ | ⋮ | ⋮ | ⋮ | ⋮ | ⋮ | ⋮ | ⋮ | ⋮ |\n",
       "| 1003367__vamb__Med.024         | /ebio/abt3_projects/Anxiety_Twins_Metagenomes/data/metagenome/TUK-5projects/LLMGA/v0.12/LLG/rnd1/drep/drep/dereplicated_genomes/1003367__vamb__Med.024.fna         | Bacteria | Firmicutes_A | Clostridia_A | Christensenellales | Christensenellaceae | UMGS743 | UMGS743 sp900545085 | 71.38 | 2.04 | 0 | 1408546 | 437 | 3519 | 3223 | 14284 | 46.9 | 87.81 | 1747 |\n",
       "| 1002853__maxbin2__High.073_sub | /ebio/abt3_projects/Anxiety_Twins_Metagenomes/data/metagenome/TUK-5projects/LLMGA/v0.12/LLG/rnd1/drep/drep/dereplicated_genomes/1002853__maxbin2__High.073_sub.fna | Bacteria | Firmicutes_A | Clostridia_A | Christensenellales | Christensenellaceae | UMGS743 | UMGS743 sp900545085 | 85.63 | 1.75 | 0 | 2094087 | 511 | 4991 | 4098 | 22183 | 47.2 | 87.95 | 2468 |\n",
       "\n"
      ],
      "text/plain": [
       "  Name                            \n",
       "1 ERR3451522__vamb__Low.036       \n",
       "2 1002868__metabat2__HighNoCov.035\n",
       "⋮ ⋮                               \n",
       "4 1003367__vamb__Med.024          \n",
       "5 1002853__maxbin2__High.073_sub  \n",
       "  Fasta                                                                                                                                                               \n",
       "1 /ebio/abt3_projects/Anxiety_Twins_Metagenomes/data/metagenome/TUK-5projects/LLMGA/v0.12/LLG/rnd1/drep/drep/dereplicated_genomes/ERR3451522__vamb__Low.036.fna       \n",
       "2 /ebio/abt3_projects/Anxiety_Twins_Metagenomes/data/metagenome/TUK-5projects/LLMGA/v0.12/LLG/rnd1/drep/drep/dereplicated_genomes/1002868__metabat2__HighNoCov.035.fna\n",
       "⋮ ⋮                                                                                                                                                                   \n",
       "4 /ebio/abt3_projects/Anxiety_Twins_Metagenomes/data/metagenome/TUK-5projects/LLMGA/v0.12/LLG/rnd1/drep/drep/dereplicated_genomes/1003367__vamb__Med.024.fna          \n",
       "5 /ebio/abt3_projects/Anxiety_Twins_Metagenomes/data/metagenome/TUK-5projects/LLMGA/v0.12/LLG/rnd1/drep/drep/dereplicated_genomes/1002853__maxbin2__High.073_sub.fna  \n",
       "  Domain   Phylum       Class        Order              Family             \n",
       "1 Bacteria Firmicutes_A Clostridia_A Christensenellales Christensenellaceae\n",
       "2 Bacteria Firmicutes_A Clostridia_A Christensenellales Christensenellaceae\n",
       "⋮ ⋮        ⋮            ⋮            ⋮                  ⋮                  \n",
       "4 Bacteria Firmicutes_A Clostridia_A Christensenellales Christensenellaceae\n",
       "5 Bacteria Firmicutes_A Clostridia_A Christensenellales Christensenellaceae\n",
       "  Genus   Species             Completeness Contamination Strain.heterogeneity\n",
       "1 QANA01  QANA01 sp900554725  81.99        3.38          11.11               \n",
       "2 UMGS743 UMGS743 sp900545085 88.09        0.70           0.00               \n",
       "⋮ ⋮       ⋮                   ⋮            ⋮             ⋮                   \n",
       "4 UMGS743 UMGS743 sp900545085 71.38        2.04          0                   \n",
       "5 UMGS743 UMGS743 sp900545085 85.63        1.75          0                   \n",
       "  Genome.size..bp. X..contigs N50..contigs. Mean.contig.length..bp.\n",
       "1 1445289          318        5631          4544                   \n",
       "2 1520326          322        5894          4721                   \n",
       "⋮ ⋮                ⋮          ⋮             ⋮                      \n",
       "4 1408546          437        3519          3223                   \n",
       "5 2094087          511        4991          4098                   \n",
       "  Longest.contig..bp. GC   Coding.density X..predicted.genes\n",
       "1 21582               50.7 89.05          1626              \n",
       "2 21753               47.6 88.80          1705              \n",
       "⋮ ⋮                   ⋮    ⋮              ⋮                 \n",
       "4 14284               46.9 87.81          1747              \n",
       "5 22183               47.2 87.95          2468              "
      ]
     },
     "metadata": {},
     "output_type": "display_data"
    }
   ],
   "source": [
    "TUK = TUK %>%\n",
    "    filter.(Family == 'Christensenellaceae')\n",
    "TUK"
   ]
  },
  {
   "cell_type": "code",
   "execution_count": 57,
   "metadata": {
    "execution": {
     "iopub.execute_input": "2021-02-23T13:34:12.004675Z",
     "iopub.status.busy": "2021-02-23T13:34:12.000870Z",
     "iopub.status.idle": "2021-02-23T13:34:12.360837Z"
    }
   },
   "outputs": [
    {
     "data": {
      "text/html": [
       "<ol>\n",
       "\t<li>TRUE</li>\n",
       "\t<li>TRUE</li>\n",
       "\t<li>TRUE</li>\n",
       "\t<li>TRUE</li>\n",
       "\t<li>TRUE</li>\n",
       "</ol>\n"
      ],
      "text/latex": [
       "\\begin{enumerate}\n",
       "\\item TRUE\n",
       "\\item TRUE\n",
       "\\item TRUE\n",
       "\\item TRUE\n",
       "\\item TRUE\n",
       "\\end{enumerate}\n"
      ],
      "text/markdown": [
       "1. TRUE\n",
       "2. TRUE\n",
       "3. TRUE\n",
       "4. TRUE\n",
       "5. TRUE\n",
       "\n",
       "\n"
      ],
      "text/plain": [
       "[[1]]\n",
       "[1] TRUE\n",
       "\n",
       "[[2]]\n",
       "[1] TRUE\n",
       "\n",
       "[[3]]\n",
       "[1] TRUE\n",
       "\n",
       "[[4]]\n",
       "[1] TRUE\n",
       "\n",
       "[[5]]\n",
       "[1] TRUE\n"
      ]
     },
     "metadata": {},
     "output_type": "display_data"
    }
   ],
   "source": [
    "copy_file = function(F, base_dir){\n",
    "    outfile = file.path(base_dir, basename(F))\n",
    "    stopifnot(F != outfile)\n",
    "    file.copy(F, outfile)\n",
    "}\n",
    "TUK$Fasta %>%\n",
    "    lapply(copy_file, base_dir=file.path(work_dir, 'TUK'))"
   ]
  },
  {
   "cell_type": "markdown",
   "metadata": {},
   "source": [
    "## List of all genomes"
   ]
  },
  {
   "cell_type": "code",
   "execution_count": 62,
   "metadata": {
    "execution": {
     "iopub.execute_input": "2021-02-23T13:37:47.625359Z",
     "iopub.status.busy": "2021-02-23T13:37:47.622072Z",
     "iopub.status.idle": "2021-02-23T13:37:47.674784Z"
    }
   },
   "outputs": [
    {
     "data": {
      "text/html": [
       "<table class=\"dataframe\">\n",
       "<caption>A data.frame: 101 × 4</caption>\n",
       "<thead>\n",
       "\t<tr><th scope=col>Name</th><th scope=col>Fasta</th><th scope=col>Domain</th><th scope=col>Taxid</th></tr>\n",
       "\t<tr><th scope=col>&lt;chr&gt;</th><th scope=col>&lt;chr&gt;</th><th scope=col>&lt;chr&gt;</th><th scope=col>&lt;dbl&gt;</th></tr>\n",
       "</thead>\n",
       "<tbody>\n",
       "\t<tr><td>GCA_001571425.1_ASM157142v1_genomic.fna</td><td>/ebio/abt3_projects/software/dev/ll_pipelines/llprimer/experiments/christensenellaceae/genomes/NCBI/GCA_001571425.1_ASM157142v1_genomic.fna</td><td>Bacteria</td><td>990719</td></tr>\n",
       "\t<tr><td>GCA_001652705.1_ASM165270v1_genomic.fna</td><td>/ebio/abt3_projects/software/dev/ll_pipelines/llprimer/experiments/christensenellaceae/genomes/NCBI/GCA_001652705.1_ASM165270v1_genomic.fna</td><td>Bacteria</td><td>990719</td></tr>\n",
       "\t<tr><td>⋮</td><td>⋮</td><td>⋮</td><td>⋮</td></tr>\n",
       "\t<tr><td>GUT_GENOME256796.fna</td><td>/ebio/abt3_projects/software/dev/ll_pipelines/llprimer/experiments/christensenellaceae/genomes/UHGG/GUT_GENOME256796.fna</td><td>Bacteria</td><td>990719</td></tr>\n",
       "\t<tr><td>GUT_GENOME260354.fna</td><td>/ebio/abt3_projects/software/dev/ll_pipelines/llprimer/experiments/christensenellaceae/genomes/UHGG/GUT_GENOME260354.fna</td><td>Bacteria</td><td>990719</td></tr>\n",
       "</tbody>\n",
       "</table>\n"
      ],
      "text/latex": [
       "A data.frame: 101 × 4\n",
       "\\begin{tabular}{llll}\n",
       " Name & Fasta & Domain & Taxid\\\\\n",
       " <chr> & <chr> & <chr> & <dbl>\\\\\n",
       "\\hline\n",
       "\t GCA\\_001571425.1\\_ASM157142v1\\_genomic.fna & /ebio/abt3\\_projects/software/dev/ll\\_pipelines/llprimer/experiments/christensenellaceae/genomes/NCBI/GCA\\_001571425.1\\_ASM157142v1\\_genomic.fna & Bacteria & 990719\\\\\n",
       "\t GCA\\_001652705.1\\_ASM165270v1\\_genomic.fna & /ebio/abt3\\_projects/software/dev/ll\\_pipelines/llprimer/experiments/christensenellaceae/genomes/NCBI/GCA\\_001652705.1\\_ASM165270v1\\_genomic.fna & Bacteria & 990719\\\\\n",
       "\t ⋮ & ⋮ & ⋮ & ⋮\\\\\n",
       "\t GUT\\_GENOME256796.fna & /ebio/abt3\\_projects/software/dev/ll\\_pipelines/llprimer/experiments/christensenellaceae/genomes/UHGG/GUT\\_GENOME256796.fna & Bacteria & 990719\\\\\n",
       "\t GUT\\_GENOME260354.fna & /ebio/abt3\\_projects/software/dev/ll\\_pipelines/llprimer/experiments/christensenellaceae/genomes/UHGG/GUT\\_GENOME260354.fna & Bacteria & 990719\\\\\n",
       "\\end{tabular}\n"
      ],
      "text/markdown": [
       "\n",
       "A data.frame: 101 × 4\n",
       "\n",
       "| Name &lt;chr&gt; | Fasta &lt;chr&gt; | Domain &lt;chr&gt; | Taxid &lt;dbl&gt; |\n",
       "|---|---|---|---|\n",
       "| GCA_001571425.1_ASM157142v1_genomic.fna | /ebio/abt3_projects/software/dev/ll_pipelines/llprimer/experiments/christensenellaceae/genomes/NCBI/GCA_001571425.1_ASM157142v1_genomic.fna | Bacteria | 990719 |\n",
       "| GCA_001652705.1_ASM165270v1_genomic.fna | /ebio/abt3_projects/software/dev/ll_pipelines/llprimer/experiments/christensenellaceae/genomes/NCBI/GCA_001652705.1_ASM165270v1_genomic.fna | Bacteria | 990719 |\n",
       "| ⋮ | ⋮ | ⋮ | ⋮ |\n",
       "| GUT_GENOME256796.fna | /ebio/abt3_projects/software/dev/ll_pipelines/llprimer/experiments/christensenellaceae/genomes/UHGG/GUT_GENOME256796.fna | Bacteria | 990719 |\n",
       "| GUT_GENOME260354.fna | /ebio/abt3_projects/software/dev/ll_pipelines/llprimer/experiments/christensenellaceae/genomes/UHGG/GUT_GENOME260354.fna | Bacteria | 990719 |\n",
       "\n"
      ],
      "text/plain": [
       "    Name                                   \n",
       "1   GCA_001571425.1_ASM157142v1_genomic.fna\n",
       "2   GCA_001652705.1_ASM165270v1_genomic.fna\n",
       "⋮   ⋮                                      \n",
       "100 GUT_GENOME256796.fna                   \n",
       "101 GUT_GENOME260354.fna                   \n",
       "    Fasta                                                                                                                                      \n",
       "1   /ebio/abt3_projects/software/dev/ll_pipelines/llprimer/experiments/christensenellaceae/genomes/NCBI/GCA_001571425.1_ASM157142v1_genomic.fna\n",
       "2   /ebio/abt3_projects/software/dev/ll_pipelines/llprimer/experiments/christensenellaceae/genomes/NCBI/GCA_001652705.1_ASM165270v1_genomic.fna\n",
       "⋮   ⋮                                                                                                                                          \n",
       "100 /ebio/abt3_projects/software/dev/ll_pipelines/llprimer/experiments/christensenellaceae/genomes/UHGG/GUT_GENOME256796.fna                   \n",
       "101 /ebio/abt3_projects/software/dev/ll_pipelines/llprimer/experiments/christensenellaceae/genomes/UHGG/GUT_GENOME260354.fna                   \n",
       "    Domain   Taxid \n",
       "1   Bacteria 990719\n",
       "2   Bacteria 990719\n",
       "⋮   ⋮        ⋮     \n",
       "100 Bacteria 990719\n",
       "101 Bacteria 990719"
      ]
     },
     "metadata": {},
     "output_type": "display_data"
    }
   ],
   "source": [
    "files = list_files(file.path(work_dir, 'genomes'), '.fna')\n",
    "samps = data.frame(Name = files %>% as.character %>% basename,\n",
    "                   Fasta = files,\n",
    "                   Domain = 'Bacteria',\n",
    "                   Taxid = taxid) %>%\n",
    "    mutate(Fasta = gsub('/+', '/', Fasta))\n",
    "samps"
   ]
  },
  {
   "cell_type": "code",
   "execution_count": 63,
   "metadata": {
    "execution": {
     "iopub.execute_input": "2021-02-23T13:37:53.985595Z",
     "iopub.status.busy": "2021-02-23T13:37:53.980795Z",
     "iopub.status.idle": "2021-02-23T13:37:54.007187Z"
    }
   },
   "outputs": [
    {
     "name": "stdout",
     "output_type": "stream",
     "text": [
      "File written: /ebio/abt3_projects/software/dev/ll_pipelines/llprimer/experiments/christensenellaceae/genomes//genomes_raw.txt \n"
     ]
    }
   ],
   "source": [
    "# writing file\n",
    "outfile = file.path(work_dir, 'genomes_raw.txt')\n",
    "write_table(samps, outfile)"
   ]
  },
  {
   "cell_type": "markdown",
   "metadata": {},
   "source": [
    "# LLG"
   ]
  },
  {
   "cell_type": "markdown",
   "metadata": {},
   "source": [
    "### Config"
   ]
  },
  {
   "cell_type": "code",
   "execution_count": 68,
   "metadata": {
    "execution": {
     "iopub.execute_input": "2021-02-23T15:22:27.540614Z",
     "iopub.status.busy": "2021-02-23T15:22:27.536120Z",
     "iopub.status.idle": "2021-02-23T15:22:27.583981Z"
    }
   },
   "outputs": [
    {
     "name": "stdout",
     "output_type": "stream",
     "text": [
      "# table with genome --> fasta_file information\n",
      "samples_file: /ebio/abt3_projects/software/dev/ll_pipelines/llprimer/experiments/christensenellaceae/genomes/genomes_raw.txt\n",
      "\n",
      "# output location\n",
      "output_dir: /ebio/abt3_projects/software/dev/ll_pipelines/llprimer/experiments/christensenellaceae/LLG_output/\n",
      "\n",
      "# temporary file directory (your username will be added automatically)\n",
      "tmp_dir: /ebio/abt3_scratch/\n",
      "\n",
      "# batch processing of genomes for certain steps\n",
      "## increase to better parallelize\n",
      "batches: 5\n",
      "\n",
      "# Domain of genomes ('Archaea' or 'Bacteria)\n",
      "## Use \"Skip\" if provided as a \"Domain\" column in the genome table\n",
      "Domain: Skip\n",
      "\n",
      "# software parameters\n",
      "# Use \"Skip\" to skip any of these steps. If no params for rule, use \"\"\n",
      "# dRep MAGs are not further analyzed, but you can de-rep & then use the de-rep genome table as input.\n",
      "params:\n",
      "  ionice: -c 3\n",
      "  # assembly assessment\n",
      "  seqkit: \"\"\n",
      "  quast: Skip #\"\"\n",
      "  multiqc_on_quast: \"\" \n",
      "  checkm: \"\"\n",
      "  # de-replication (CheckM recommended)\n",
      "  drep:\n",
      "    algorithm: auto     # will select fastANI if >1000 genomes, else accurate mode\n",
      "    params: -comp 50 -con 5 -sa 0.999\n",
      "  # taxonomy\n",
      "  sourmash:\n",
      "    compute: Skip #--scaled 10000 -k 31\n",
      "    gather: -k 31\n",
      "  gtdbtk:\n",
      "    classify_wf: --min_perc_aa 10\n",
      "  # genome pairwise ANI  \n",
      "  fastani: Skip #--fragLen 3000 --minFraction 0.2 -k 16\n",
      "  dashing: Skip # -k 31 --full-tsv\n",
      "  comparem_aai: Skip # --evalue 0.001\n",
      "  # gene annotation\n",
      "  gene_call:\n",
      "    prokka: Skip #\"\" \n",
      "    multiqc_on_prokka: \"\"\n",
      "    prodigal: Skip #\"\"\n",
      "  eggnog_mapper: Skip #\"\"\n",
      "  eggnog_mapper_annot: \"\"\n",
      "  # rRNA (16S alignment & phylogeny)\n",
      "  barrnap: Skip #--lencutoff 0.8\n",
      "  vsearch_per_genome_drep: --id 0.95    # Skip to prevent drep of 16S copies within each genome\n",
      "  qiime2_fasttree: \"\"\n",
      "  qiime2_iqtree: --p-alrt 1000 --p-abayes --p-lbp 1000  --p-substitution-model 'GTR+I+G'\n",
      "  # genome phylogeny\n",
      "  phylophlan_config: Skip #--map_dna diamond --db_aa diamond --map_aa diamond --msa mafft --trim trimal --tree1 fasttree --tree2 raxml\n",
      "  phylophlan:\n",
      "    accuracy: --auto       # --auto will select --fast if >2000 genomes, otherwise --accurate \n",
      "    other_params: --diversity high --min_num_markers 50 \n",
      "  # phenotype\n",
      "  traitar: Skip #\"\"\n",
      "  # biosynthetic gene clusters (BGCs)\n",
      "  antismash: Skip #--cb-knownclusters --cb-subclusters --asf  \n",
      "  DeepBGC: Skip #--score 0.5 --classifier-score 0.5 --prodigal-meta-mode\n",
      "  # antimicrobial resistance (AMR)\n",
      "  abricate: Skip #--minid 75 --mincov 80\n",
      "  # CRISPRs\n",
      "  cctyper: Skip #--prodigal meta\n",
      "  \n",
      "# databases\n",
      "databases:\n",
      "  checkM_data: /ebio/abt3_projects/databases_no-backup/checkM/\n",
      "  sourmash: /ebio/abt3_projects/databases_no-backup/sourmash/genbank-k31.sbt.json\n",
      "  sourmash_lca: /ebio/abt3_projects/databases_no-backup/sourmash/genbank-k31.lca.json.gz\n",
      "  gtdbtk: /ebio/abt3_projects/databases_no-backup/GTDB/release95/gtdbtk/db_info.md\n",
      "  phylophlan: /ebio/abt3_projects/databases_no-backup/phylophlan/PhyloPhlan/phylophlan.faa.bz2\n",
      "  eggnog: /ebio/abt3_projects/databases_no-backup/Eggnog/v2/eggnog.db\n",
      "  eggnog_diamond: /ebio/abt3_projects/databases_no-backup/Eggnog/v2/eggnog_proteins.dmnd\n",
      "  antismash: /ebio/abt3_projects/databases_no-backup/antismash/v5/\n",
      "  deepbgc: /ebio/abt3_projects/databases_no-backup/DeepBGC/\n",
      "  traitar: /ebio/abt3_projects/databases_no-backup/pfam/traitar/\n",
      "  taxdump:   # used for adding taxids to GTDB-Tk classifications\n",
      "    names: /ebio/abt3_projects/databases_no-backup/GTDB/release95/taxdump/names.dmp\n",
      "    nodes: /ebio/abt3_projects/databases_no-backup/GTDB/release95/taxdump/nodes.dmp\n",
      "  abricate:\n",
      "    ncbi: /ebio/abt3_projects/databases_no-backup/abricate/ncbi/sequences\n",
      "    card: /ebio/abt3_projects/databases_no-backup/abricate/card/sequences\n",
      "    resfinder: /ebio/abt3_projects/databases_no-backup/abricate/resfinder/sequences\n",
      "    argannot: /ebio/abt3_projects/databases_no-backup/abricate/argannot/sequences\n",
      "    bacmet2: /ebio/abt3_projects/databases_no-backup/abricate/bacmet2/sequences\n",
      "    vfdb: /ebio/abt3_projects/databases_no-backup/abricate/vfdb/sequences\n",
      "    megares: /ebio/abt3_projects/databases_no-backup/abricate/megares/sequences\n",
      "    plasmidfinder: /ebio/abt3_projects/databases_no-backup/abricate/plasmidfinder/sequences\n",
      "\n",
      "# snakemake pipeline\n",
      "pipeline:\n",
      "  snakemake_folder: ./\n",
      "  script_folder: ./bin/scripts/\n",
      "  use_shared_mem: True\n",
      "  name: LLG"
     ]
    }
   ],
   "source": [
    "cat_file(file.path(work_dir, '../config_llg.yaml'))"
   ]
  },
  {
   "cell_type": "markdown",
   "metadata": {},
   "source": [
    "### Run"
   ]
  },
  {
   "cell_type": "markdown",
   "metadata": {},
   "source": [
    "```\n",
    "(snakemake) @ rick:/ebio/abt3_projects/software/dev/ll_pipelines/llg\n",
    "$ screen -L -s llg-christ ./snakemake_sge.sh /ebio/abt3_projects/software/dev/ll_pipelines/llprimer/experiments/christensenellaceae/config_llg.yaml 30 -F\n",
    "```"
   ]
  },
  {
   "cell_type": "markdown",
   "metadata": {},
   "source": [
    "## Samples table of high quality genomes"
   ]
  },
  {
   "cell_type": "code",
   "execution_count": 130,
   "metadata": {
    "execution": {
     "iopub.execute_input": "2021-03-23T15:25:22.008086Z",
     "iopub.status.busy": "2021-03-23T15:25:22.005602Z",
     "iopub.status.idle": "2021-03-23T15:25:22.147203Z"
    }
   },
   "outputs": [
    {
     "data": {
      "text/html": [
       "<table class=\"dataframe\">\n",
       "<caption>A data.frame: 101 × 33</caption>\n",
       "<thead>\n",
       "\t<tr><th scope=col>Bin.Id</th><th scope=col>Marker.lineage</th><th scope=col>X..genomes</th><th scope=col>X..markers</th><th scope=col>X..marker.sets</th><th scope=col>Completeness</th><th scope=col>Contamination</th><th scope=col>Strain.heterogeneity</th><th scope=col>Genome.size..bp.</th><th scope=col>X..ambiguous.bases</th><th scope=col>⋯</th><th scope=col>X0</th><th scope=col>X1</th><th scope=col>X2</th><th scope=col>X3</th><th scope=col>X4</th><th scope=col>X5.</th><th scope=col>assembly.Id</th><th scope=col>assembler.Id</th><th scope=col>taxon.Id</th><th scope=col>File</th></tr>\n",
       "\t<tr><th scope=col>&lt;chr&gt;</th><th scope=col>&lt;chr&gt;</th><th scope=col>&lt;int&gt;</th><th scope=col>&lt;int&gt;</th><th scope=col>&lt;int&gt;</th><th scope=col>&lt;dbl&gt;</th><th scope=col>&lt;dbl&gt;</th><th scope=col>&lt;dbl&gt;</th><th scope=col>&lt;int&gt;</th><th scope=col>&lt;int&gt;</th><th scope=col>⋯</th><th scope=col>&lt;int&gt;</th><th scope=col>&lt;int&gt;</th><th scope=col>&lt;int&gt;</th><th scope=col>&lt;int&gt;</th><th scope=col>&lt;int&gt;</th><th scope=col>&lt;int&gt;</th><th scope=col>&lt;chr&gt;</th><th scope=col>&lt;chr&gt;</th><th scope=col>&lt;lgl&gt;</th><th scope=col>&lt;chr&gt;</th></tr>\n",
       "</thead>\n",
       "<tbody>\n",
       "\t<tr><td>1003528__metabat2__Low.052_sub.fna     </td><td>o__Clostridiales (UID1120)</td><td>304</td><td>250</td><td>143</td><td>74.22</td><td>0.70</td><td>0</td><td>1649188</td><td>   0</td><td>⋯</td><td>66</td><td>183</td><td>1</td><td>0</td><td>0</td><td>0</td><td>|ebio|abt3_projects|software|dev|ll_pipelines|llprimer|experiments|christensenellaceae|genomes|checkM|1|checkm|markers_qa_summary.tsv.1</td><td>markers_qa_summary.tsv.1</td><td>NA</td><td>/ebio/abt3_projects/software/dev/ll_pipelines/llprimer/experiments/christensenellaceae/genomes/checkM/1/checkm/markers_qa_summary.tsv.1</td></tr>\n",
       "\t<tr><td>GCA_001571425.1_ASM157142v1_genomic.fna</td><td>c__Clostridia (UID1118)   </td><td>387</td><td>223</td><td>124</td><td>97.58</td><td>0.81</td><td>0</td><td>2906526</td><td>1400</td><td>⋯</td><td> 3</td><td>219</td><td>1</td><td>0</td><td>0</td><td>0</td><td>|ebio|abt3_projects|software|dev|ll_pipelines|llprimer|experiments|christensenellaceae|genomes|checkM|1|checkm|markers_qa_summary.tsv.2</td><td>markers_qa_summary.tsv.2</td><td>NA</td><td>/ebio/abt3_projects/software/dev/ll_pipelines/llprimer/experiments/christensenellaceae/genomes/checkM/1/checkm/markers_qa_summary.tsv.2</td></tr>\n",
       "\t<tr><td>⋮</td><td>⋮</td><td>⋮</td><td>⋮</td><td>⋮</td><td>⋮</td><td>⋮</td><td>⋮</td><td>⋮</td><td>⋮</td><td>⋱</td><td>⋮</td><td>⋮</td><td>⋮</td><td>⋮</td><td>⋮</td><td>⋮</td><td>⋮</td><td>⋮</td><td>⋮</td><td>⋮</td></tr>\n",
       "\t<tr><td>GUT_GENOME252750.fna</td><td>o__Clostridiales (UID1120)</td><td>304</td><td>250</td><td>143</td><td>53.75</td><td>0.7</td><td>0</td><td> 817347</td><td>0</td><td>⋯</td><td>131</td><td>118</td><td>1</td><td>0</td><td>0</td><td>0</td><td>|ebio|abt3_projects|software|dev|ll_pipelines|llprimer|experiments|christensenellaceae|genomes|checkM|5|checkm|markers_qa_summary.tsv.19</td><td>markers_qa_summary.tsv.19</td><td>NA</td><td>/ebio/abt3_projects/software/dev/ll_pipelines/llprimer/experiments/christensenellaceae/genomes/checkM/5/checkm/markers_qa_summary.tsv.19</td></tr>\n",
       "\t<tr><td>GUT_GENOME256796.fna</td><td>o__Clostridiales (UID1120)</td><td>304</td><td>250</td><td>143</td><td>71.77</td><td>1.4</td><td>0</td><td>1317940</td><td>0</td><td>⋯</td><td> 85</td><td>163</td><td>2</td><td>0</td><td>0</td><td>0</td><td>|ebio|abt3_projects|software|dev|ll_pipelines|llprimer|experiments|christensenellaceae|genomes|checkM|5|checkm|markers_qa_summary.tsv.20</td><td>markers_qa_summary.tsv.20</td><td>NA</td><td>/ebio/abt3_projects/software/dev/ll_pipelines/llprimer/experiments/christensenellaceae/genomes/checkM/5/checkm/markers_qa_summary.tsv.20</td></tr>\n",
       "</tbody>\n",
       "</table>\n"
      ],
      "text/latex": [
       "A data.frame: 101 × 33\n",
       "\\begin{tabular}{lllllllllllllllllllll}\n",
       " Bin.Id & Marker.lineage & X..genomes & X..markers & X..marker.sets & Completeness & Contamination & Strain.heterogeneity & Genome.size..bp. & X..ambiguous.bases & ⋯ & X0 & X1 & X2 & X3 & X4 & X5. & assembly.Id & assembler.Id & taxon.Id & File\\\\\n",
       " <chr> & <chr> & <int> & <int> & <int> & <dbl> & <dbl> & <dbl> & <int> & <int> & ⋯ & <int> & <int> & <int> & <int> & <int> & <int> & <chr> & <chr> & <lgl> & <chr>\\\\\n",
       "\\hline\n",
       "\t 1003528\\_\\_metabat2\\_\\_Low.052\\_sub.fna      & o\\_\\_Clostridiales (UID1120) & 304 & 250 & 143 & 74.22 & 0.70 & 0 & 1649188 &    0 & ⋯ & 66 & 183 & 1 & 0 & 0 & 0 & \\textbar{}ebio\\textbar{}abt3\\_projects\\textbar{}software\\textbar{}dev\\textbar{}ll\\_pipelines\\textbar{}llprimer\\textbar{}experiments\\textbar{}christensenellaceae\\textbar{}genomes\\textbar{}checkM\\textbar{}1\\textbar{}checkm\\textbar{}markers\\_qa\\_summary.tsv.1 & markers\\_qa\\_summary.tsv.1 & NA & /ebio/abt3\\_projects/software/dev/ll\\_pipelines/llprimer/experiments/christensenellaceae/genomes/checkM/1/checkm/markers\\_qa\\_summary.tsv.1\\\\\n",
       "\t GCA\\_001571425.1\\_ASM157142v1\\_genomic.fna & c\\_\\_Clostridia (UID1118)    & 387 & 223 & 124 & 97.58 & 0.81 & 0 & 2906526 & 1400 & ⋯ &  3 & 219 & 1 & 0 & 0 & 0 & \\textbar{}ebio\\textbar{}abt3\\_projects\\textbar{}software\\textbar{}dev\\textbar{}ll\\_pipelines\\textbar{}llprimer\\textbar{}experiments\\textbar{}christensenellaceae\\textbar{}genomes\\textbar{}checkM\\textbar{}1\\textbar{}checkm\\textbar{}markers\\_qa\\_summary.tsv.2 & markers\\_qa\\_summary.tsv.2 & NA & /ebio/abt3\\_projects/software/dev/ll\\_pipelines/llprimer/experiments/christensenellaceae/genomes/checkM/1/checkm/markers\\_qa\\_summary.tsv.2\\\\\n",
       "\t ⋮ & ⋮ & ⋮ & ⋮ & ⋮ & ⋮ & ⋮ & ⋮ & ⋮ & ⋮ & ⋱ & ⋮ & ⋮ & ⋮ & ⋮ & ⋮ & ⋮ & ⋮ & ⋮ & ⋮ & ⋮\\\\\n",
       "\t GUT\\_GENOME252750.fna & o\\_\\_Clostridiales (UID1120) & 304 & 250 & 143 & 53.75 & 0.7 & 0 &  817347 & 0 & ⋯ & 131 & 118 & 1 & 0 & 0 & 0 & \\textbar{}ebio\\textbar{}abt3\\_projects\\textbar{}software\\textbar{}dev\\textbar{}ll\\_pipelines\\textbar{}llprimer\\textbar{}experiments\\textbar{}christensenellaceae\\textbar{}genomes\\textbar{}checkM\\textbar{}5\\textbar{}checkm\\textbar{}markers\\_qa\\_summary.tsv.19 & markers\\_qa\\_summary.tsv.19 & NA & /ebio/abt3\\_projects/software/dev/ll\\_pipelines/llprimer/experiments/christensenellaceae/genomes/checkM/5/checkm/markers\\_qa\\_summary.tsv.19\\\\\n",
       "\t GUT\\_GENOME256796.fna & o\\_\\_Clostridiales (UID1120) & 304 & 250 & 143 & 71.77 & 1.4 & 0 & 1317940 & 0 & ⋯ &  85 & 163 & 2 & 0 & 0 & 0 & \\textbar{}ebio\\textbar{}abt3\\_projects\\textbar{}software\\textbar{}dev\\textbar{}ll\\_pipelines\\textbar{}llprimer\\textbar{}experiments\\textbar{}christensenellaceae\\textbar{}genomes\\textbar{}checkM\\textbar{}5\\textbar{}checkm\\textbar{}markers\\_qa\\_summary.tsv.20 & markers\\_qa\\_summary.tsv.20 & NA & /ebio/abt3\\_projects/software/dev/ll\\_pipelines/llprimer/experiments/christensenellaceae/genomes/checkM/5/checkm/markers\\_qa\\_summary.tsv.20\\\\\n",
       "\\end{tabular}\n"
      ],
      "text/markdown": [
       "\n",
       "A data.frame: 101 × 33\n",
       "\n",
       "| Bin.Id &lt;chr&gt; | Marker.lineage &lt;chr&gt; | X..genomes &lt;int&gt; | X..markers &lt;int&gt; | X..marker.sets &lt;int&gt; | Completeness &lt;dbl&gt; | Contamination &lt;dbl&gt; | Strain.heterogeneity &lt;dbl&gt; | Genome.size..bp. &lt;int&gt; | X..ambiguous.bases &lt;int&gt; | ⋯ ⋯ | X0 &lt;int&gt; | X1 &lt;int&gt; | X2 &lt;int&gt; | X3 &lt;int&gt; | X4 &lt;int&gt; | X5. &lt;int&gt; | assembly.Id &lt;chr&gt; | assembler.Id &lt;chr&gt; | taxon.Id &lt;lgl&gt; | File &lt;chr&gt; |\n",
       "|---|---|---|---|---|---|---|---|---|---|---|---|---|---|---|---|---|---|---|---|---|\n",
       "| 1003528__metabat2__Low.052_sub.fna      | o__Clostridiales (UID1120) | 304 | 250 | 143 | 74.22 | 0.70 | 0 | 1649188 |    0 | ⋯ | 66 | 183 | 1 | 0 | 0 | 0 | |ebio|abt3_projects|software|dev|ll_pipelines|llprimer|experiments|christensenellaceae|genomes|checkM|1|checkm|markers_qa_summary.tsv.1 | markers_qa_summary.tsv.1 | NA | /ebio/abt3_projects/software/dev/ll_pipelines/llprimer/experiments/christensenellaceae/genomes/checkM/1/checkm/markers_qa_summary.tsv.1 |\n",
       "| GCA_001571425.1_ASM157142v1_genomic.fna | c__Clostridia (UID1118)    | 387 | 223 | 124 | 97.58 | 0.81 | 0 | 2906526 | 1400 | ⋯ |  3 | 219 | 1 | 0 | 0 | 0 | |ebio|abt3_projects|software|dev|ll_pipelines|llprimer|experiments|christensenellaceae|genomes|checkM|1|checkm|markers_qa_summary.tsv.2 | markers_qa_summary.tsv.2 | NA | /ebio/abt3_projects/software/dev/ll_pipelines/llprimer/experiments/christensenellaceae/genomes/checkM/1/checkm/markers_qa_summary.tsv.2 |\n",
       "| ⋮ | ⋮ | ⋮ | ⋮ | ⋮ | ⋮ | ⋮ | ⋮ | ⋮ | ⋮ | ⋱ | ⋮ | ⋮ | ⋮ | ⋮ | ⋮ | ⋮ | ⋮ | ⋮ | ⋮ | ⋮ |\n",
       "| GUT_GENOME252750.fna | o__Clostridiales (UID1120) | 304 | 250 | 143 | 53.75 | 0.7 | 0 |  817347 | 0 | ⋯ | 131 | 118 | 1 | 0 | 0 | 0 | |ebio|abt3_projects|software|dev|ll_pipelines|llprimer|experiments|christensenellaceae|genomes|checkM|5|checkm|markers_qa_summary.tsv.19 | markers_qa_summary.tsv.19 | NA | /ebio/abt3_projects/software/dev/ll_pipelines/llprimer/experiments/christensenellaceae/genomes/checkM/5/checkm/markers_qa_summary.tsv.19 |\n",
       "| GUT_GENOME256796.fna | o__Clostridiales (UID1120) | 304 | 250 | 143 | 71.77 | 1.4 | 0 | 1317940 | 0 | ⋯ |  85 | 163 | 2 | 0 | 0 | 0 | |ebio|abt3_projects|software|dev|ll_pipelines|llprimer|experiments|christensenellaceae|genomes|checkM|5|checkm|markers_qa_summary.tsv.20 | markers_qa_summary.tsv.20 | NA | /ebio/abt3_projects/software/dev/ll_pipelines/llprimer/experiments/christensenellaceae/genomes/checkM/5/checkm/markers_qa_summary.tsv.20 |\n",
       "\n"
      ],
      "text/plain": [
       "    Bin.Id                                  Marker.lineage            \n",
       "1   1003528__metabat2__Low.052_sub.fna      o__Clostridiales (UID1120)\n",
       "2   GCA_001571425.1_ASM157142v1_genomic.fna c__Clostridia (UID1118)   \n",
       "⋮   ⋮                                       ⋮                         \n",
       "100 GUT_GENOME252750.fna                    o__Clostridiales (UID1120)\n",
       "101 GUT_GENOME256796.fna                    o__Clostridiales (UID1120)\n",
       "    X..genomes X..markers X..marker.sets Completeness Contamination\n",
       "1   304        250        143            74.22        0.70         \n",
       "2   387        223        124            97.58        0.81         \n",
       "⋮   ⋮          ⋮          ⋮              ⋮            ⋮            \n",
       "100 304        250        143            53.75        0.7          \n",
       "101 304        250        143            71.77        1.4          \n",
       "    Strain.heterogeneity Genome.size..bp. X..ambiguous.bases ⋯ X0  X1  X2 X3 X4\n",
       "1   0                    1649188             0               ⋯ 66  183 1  0  0 \n",
       "2   0                    2906526          1400               ⋯  3  219 1  0  0 \n",
       "⋮   ⋮                    ⋮                ⋮                  ⋱ ⋮   ⋮   ⋮  ⋮  ⋮ \n",
       "100 0                     817347          0                  ⋯ 131 118 1  0  0 \n",
       "101 0                    1317940          0                  ⋯  85 163 2  0  0 \n",
       "    X5.\n",
       "1   0  \n",
       "2   0  \n",
       "⋮   ⋮  \n",
       "100 0  \n",
       "101 0  \n",
       "    assembly.Id                                                                                                                             \n",
       "1   |ebio|abt3_projects|software|dev|ll_pipelines|llprimer|experiments|christensenellaceae|genomes|checkM|1|checkm|markers_qa_summary.tsv.1 \n",
       "2   |ebio|abt3_projects|software|dev|ll_pipelines|llprimer|experiments|christensenellaceae|genomes|checkM|1|checkm|markers_qa_summary.tsv.2 \n",
       "⋮   ⋮                                                                                                                                       \n",
       "100 |ebio|abt3_projects|software|dev|ll_pipelines|llprimer|experiments|christensenellaceae|genomes|checkM|5|checkm|markers_qa_summary.tsv.19\n",
       "101 |ebio|abt3_projects|software|dev|ll_pipelines|llprimer|experiments|christensenellaceae|genomes|checkM|5|checkm|markers_qa_summary.tsv.20\n",
       "    assembler.Id              taxon.Id\n",
       "1   markers_qa_summary.tsv.1  NA      \n",
       "2   markers_qa_summary.tsv.2  NA      \n",
       "⋮   ⋮                         ⋮       \n",
       "100 markers_qa_summary.tsv.19 NA      \n",
       "101 markers_qa_summary.tsv.20 NA      \n",
       "    File                                                                                                                                    \n",
       "1   /ebio/abt3_projects/software/dev/ll_pipelines/llprimer/experiments/christensenellaceae/genomes/checkM/1/checkm/markers_qa_summary.tsv.1 \n",
       "2   /ebio/abt3_projects/software/dev/ll_pipelines/llprimer/experiments/christensenellaceae/genomes/checkM/1/checkm/markers_qa_summary.tsv.2 \n",
       "⋮   ⋮                                                                                                                                       \n",
       "100 /ebio/abt3_projects/software/dev/ll_pipelines/llprimer/experiments/christensenellaceae/genomes/checkM/5/checkm/markers_qa_summary.tsv.19\n",
       "101 /ebio/abt3_projects/software/dev/ll_pipelines/llprimer/experiments/christensenellaceae/genomes/checkM/5/checkm/markers_qa_summary.tsv.20"
      ]
     },
     "metadata": {},
     "output_type": "display_data"
    }
   ],
   "source": [
    "# checkM summary\n",
    "checkm = file.path(work_dir, 'genomes', 'LLG_output', 'checkM', 'checkm_qa_summary.tsv') %>%\n",
    "    read.delim(sep='\\t') \n",
    "checkm"
   ]
  },
  {
   "cell_type": "code",
   "execution_count": 131,
   "metadata": {
    "execution": {
     "iopub.execute_input": "2021-03-23T15:25:28.150110Z",
     "iopub.status.busy": "2021-03-23T15:25:28.147712Z",
     "iopub.status.idle": "2021-03-23T15:25:28.222020Z"
    }
   },
   "outputs": [
    {
     "data": {
      "text/html": [
       "<table class=\"dataframe\">\n",
       "<caption>A data.frame: 101 × 4</caption>\n",
       "<thead>\n",
       "\t<tr><th scope=col>genome</th><th scope=col>completeness</th><th scope=col>contamination</th><th scope=col>Bin.Id</th></tr>\n",
       "\t<tr><th scope=col>&lt;chr&gt;</th><th scope=col>&lt;dbl&gt;</th><th scope=col>&lt;dbl&gt;</th><th scope=col>&lt;chr&gt;</th></tr>\n",
       "</thead>\n",
       "<tbody>\n",
       "\t<tr><td>/ebio/abt3_scratch/nyoungblut/LLG_62325884640/genomes/1003528__metabat2__Low.052_sub.fna.fna     </td><td>74.22</td><td>0.70</td><td>1003528__metabat2__Low.052_sub.fna     </td></tr>\n",
       "\t<tr><td>/ebio/abt3_scratch/nyoungblut/LLG_62325884640/genomes/GCA_001571425.1_ASM157142v1_genomic.fna.fna</td><td>97.58</td><td>0.81</td><td>GCA_001571425.1_ASM157142v1_genomic.fna</td></tr>\n",
       "\t<tr><td>⋮</td><td>⋮</td><td>⋮</td><td>⋮</td></tr>\n",
       "\t<tr><td>/ebio/abt3_scratch/nyoungblut/LLG_62325884640/genomes/GUT_GENOME252750.fna.fna</td><td>53.75</td><td>0.7</td><td>GUT_GENOME252750.fna</td></tr>\n",
       "\t<tr><td>/ebio/abt3_scratch/nyoungblut/LLG_62325884640/genomes/GUT_GENOME256796.fna.fna</td><td>71.77</td><td>1.4</td><td>GUT_GENOME256796.fna</td></tr>\n",
       "</tbody>\n",
       "</table>\n"
      ],
      "text/latex": [
       "A data.frame: 101 × 4\n",
       "\\begin{tabular}{llll}\n",
       " genome & completeness & contamination & Bin.Id\\\\\n",
       " <chr> & <dbl> & <dbl> & <chr>\\\\\n",
       "\\hline\n",
       "\t /ebio/abt3\\_scratch/nyoungblut/LLG\\_62325884640/genomes/1003528\\_\\_metabat2\\_\\_Low.052\\_sub.fna.fna      & 74.22 & 0.70 & 1003528\\_\\_metabat2\\_\\_Low.052\\_sub.fna     \\\\\n",
       "\t /ebio/abt3\\_scratch/nyoungblut/LLG\\_62325884640/genomes/GCA\\_001571425.1\\_ASM157142v1\\_genomic.fna.fna & 97.58 & 0.81 & GCA\\_001571425.1\\_ASM157142v1\\_genomic.fna\\\\\n",
       "\t ⋮ & ⋮ & ⋮ & ⋮\\\\\n",
       "\t /ebio/abt3\\_scratch/nyoungblut/LLG\\_62325884640/genomes/GUT\\_GENOME252750.fna.fna & 53.75 & 0.7 & GUT\\_GENOME252750.fna\\\\\n",
       "\t /ebio/abt3\\_scratch/nyoungblut/LLG\\_62325884640/genomes/GUT\\_GENOME256796.fna.fna & 71.77 & 1.4 & GUT\\_GENOME256796.fna\\\\\n",
       "\\end{tabular}\n"
      ],
      "text/markdown": [
       "\n",
       "A data.frame: 101 × 4\n",
       "\n",
       "| genome &lt;chr&gt; | completeness &lt;dbl&gt; | contamination &lt;dbl&gt; | Bin.Id &lt;chr&gt; |\n",
       "|---|---|---|---|\n",
       "| /ebio/abt3_scratch/nyoungblut/LLG_62325884640/genomes/1003528__metabat2__Low.052_sub.fna.fna      | 74.22 | 0.70 | 1003528__metabat2__Low.052_sub.fna      |\n",
       "| /ebio/abt3_scratch/nyoungblut/LLG_62325884640/genomes/GCA_001571425.1_ASM157142v1_genomic.fna.fna | 97.58 | 0.81 | GCA_001571425.1_ASM157142v1_genomic.fna |\n",
       "| ⋮ | ⋮ | ⋮ | ⋮ |\n",
       "| /ebio/abt3_scratch/nyoungblut/LLG_62325884640/genomes/GUT_GENOME252750.fna.fna | 53.75 | 0.7 | GUT_GENOME252750.fna |\n",
       "| /ebio/abt3_scratch/nyoungblut/LLG_62325884640/genomes/GUT_GENOME256796.fna.fna | 71.77 | 1.4 | GUT_GENOME256796.fna |\n",
       "\n"
      ],
      "text/plain": [
       "    genome                                                                                           \n",
       "1   /ebio/abt3_scratch/nyoungblut/LLG_62325884640/genomes/1003528__metabat2__Low.052_sub.fna.fna     \n",
       "2   /ebio/abt3_scratch/nyoungblut/LLG_62325884640/genomes/GCA_001571425.1_ASM157142v1_genomic.fna.fna\n",
       "⋮   ⋮                                                                                                \n",
       "100 /ebio/abt3_scratch/nyoungblut/LLG_62325884640/genomes/GUT_GENOME252750.fna.fna                   \n",
       "101 /ebio/abt3_scratch/nyoungblut/LLG_62325884640/genomes/GUT_GENOME256796.fna.fna                   \n",
       "    completeness contamination Bin.Id                                 \n",
       "1   74.22        0.70          1003528__metabat2__Low.052_sub.fna     \n",
       "2   97.58        0.81          GCA_001571425.1_ASM157142v1_genomic.fna\n",
       "⋮   ⋮            ⋮             ⋮                                      \n",
       "100 53.75        0.7           GUT_GENOME252750.fna                   \n",
       "101 71.77        1.4           GUT_GENOME256796.fna                   "
      ]
     },
     "metadata": {},
     "output_type": "display_data"
    }
   ],
   "source": [
    "# dRep summary\n",
    "drep = file.path(work_dir, 'genomes', 'LLG_output', 'drep', 'checkm_markers_qa_summary.tsv') %>%\n",
    "    read.delim(sep='\\t') %>%\n",
    "    mutate(Bin.Id = gsub('.+/', '', genome),\n",
    "           Bin.Id = gsub('\\\\.fna$', '', Bin.Id))\n",
    "drep"
   ]
  },
  {
   "cell_type": "code",
   "execution_count": 132,
   "metadata": {
    "execution": {
     "iopub.execute_input": "2021-03-23T15:25:31.366317Z",
     "iopub.status.busy": "2021-03-23T15:25:31.363652Z",
     "iopub.status.idle": "2021-03-23T15:25:31.400485Z"
    }
   },
   "outputs": [
    {
     "data": {
      "text/html": [
       "<table class=\"dataframe\">\n",
       "<caption>A data.frame: 61 × 2</caption>\n",
       "<thead>\n",
       "\t<tr><th scope=col>Name</th><th scope=col>Fasta</th></tr>\n",
       "\t<tr><th scope=col>&lt;chr&gt;</th><th scope=col>&lt;chr&gt;</th></tr>\n",
       "</thead>\n",
       "<tbody>\n",
       "\t<tr><td>GCA_012518615.1_ASM1251861v1_genomic.fna</td><td>/ebio/abt3_projects/software/dev/ll_pipelines/llprimer/experiments/christensenellaceae/genomes/drep/drep/dereplicated_genomes/GCA_012518615.1_ASM1251861v1_genomic.fna.fna           </td></tr>\n",
       "\t<tr><td>GCA_012837835.1_ASM1283783v1_genomic.fna</td><td>/ebio/abt3_projects/software/dev/ll_pipelines/llprimer/experiments/christensenellaceae/genomes/LLG_output/drep/drep/dereplicated_genomes/GCA_012837835.1_ASM1283783v1_genomic.fna.fna</td></tr>\n",
       "\t<tr><td>⋮</td><td>⋮</td></tr>\n",
       "\t<tr><td>GCA_900155415.1_PRJEB13909b_genomic.fna</td><td>/ebio/abt3_projects/software/dev/ll_pipelines/llprimer/experiments/christensenellaceae/genomes/LLG_output/drep/drep/dereplicated_genomes/GCA_900155415.1_PRJEB13909b_genomic.fna.fna</td></tr>\n",
       "\t<tr><td>GUT_GENOME097725.fna                   </td><td>/ebio/abt3_projects/software/dev/ll_pipelines/llprimer/experiments/christensenellaceae/genomes/LLG_output/drep/drep/dereplicated_genomes/GUT_GENOME097725.fna.fna                   </td></tr>\n",
       "</tbody>\n",
       "</table>\n"
      ],
      "text/latex": [
       "A data.frame: 61 × 2\n",
       "\\begin{tabular}{ll}\n",
       " Name & Fasta\\\\\n",
       " <chr> & <chr>\\\\\n",
       "\\hline\n",
       "\t GCA\\_012518615.1\\_ASM1251861v1\\_genomic.fna & /ebio/abt3\\_projects/software/dev/ll\\_pipelines/llprimer/experiments/christensenellaceae/genomes/drep/drep/dereplicated\\_genomes/GCA\\_012518615.1\\_ASM1251861v1\\_genomic.fna.fna           \\\\\n",
       "\t GCA\\_012837835.1\\_ASM1283783v1\\_genomic.fna & /ebio/abt3\\_projects/software/dev/ll\\_pipelines/llprimer/experiments/christensenellaceae/genomes/LLG\\_output/drep/drep/dereplicated\\_genomes/GCA\\_012837835.1\\_ASM1283783v1\\_genomic.fna.fna\\\\\n",
       "\t ⋮ & ⋮\\\\\n",
       "\t GCA\\_900155415.1\\_PRJEB13909b\\_genomic.fna & /ebio/abt3\\_projects/software/dev/ll\\_pipelines/llprimer/experiments/christensenellaceae/genomes/LLG\\_output/drep/drep/dereplicated\\_genomes/GCA\\_900155415.1\\_PRJEB13909b\\_genomic.fna.fna\\\\\n",
       "\t GUT\\_GENOME097725.fna                    & /ebio/abt3\\_projects/software/dev/ll\\_pipelines/llprimer/experiments/christensenellaceae/genomes/LLG\\_output/drep/drep/dereplicated\\_genomes/GUT\\_GENOME097725.fna.fna                   \\\\\n",
       "\\end{tabular}\n"
      ],
      "text/markdown": [
       "\n",
       "A data.frame: 61 × 2\n",
       "\n",
       "| Name &lt;chr&gt; | Fasta &lt;chr&gt; |\n",
       "|---|---|\n",
       "| GCA_012518615.1_ASM1251861v1_genomic.fna | /ebio/abt3_projects/software/dev/ll_pipelines/llprimer/experiments/christensenellaceae/genomes/drep/drep/dereplicated_genomes/GCA_012518615.1_ASM1251861v1_genomic.fna.fna            |\n",
       "| GCA_012837835.1_ASM1283783v1_genomic.fna | /ebio/abt3_projects/software/dev/ll_pipelines/llprimer/experiments/christensenellaceae/genomes/LLG_output/drep/drep/dereplicated_genomes/GCA_012837835.1_ASM1283783v1_genomic.fna.fna |\n",
       "| ⋮ | ⋮ |\n",
       "| GCA_900155415.1_PRJEB13909b_genomic.fna | /ebio/abt3_projects/software/dev/ll_pipelines/llprimer/experiments/christensenellaceae/genomes/LLG_output/drep/drep/dereplicated_genomes/GCA_900155415.1_PRJEB13909b_genomic.fna.fna |\n",
       "| GUT_GENOME097725.fna                    | /ebio/abt3_projects/software/dev/ll_pipelines/llprimer/experiments/christensenellaceae/genomes/LLG_output/drep/drep/dereplicated_genomes/GUT_GENOME097725.fna.fna                    |\n",
       "\n"
      ],
      "text/plain": [
       "   Name                                    \n",
       "1  GCA_012518615.1_ASM1251861v1_genomic.fna\n",
       "2  GCA_012837835.1_ASM1283783v1_genomic.fna\n",
       "⋮  ⋮                                       \n",
       "60 GCA_900155415.1_PRJEB13909b_genomic.fna \n",
       "61 GUT_GENOME097725.fna                    \n",
       "   Fasta                                                                                                                                                                                \n",
       "1  /ebio/abt3_projects/software/dev/ll_pipelines/llprimer/experiments/christensenellaceae/genomes/drep/drep/dereplicated_genomes/GCA_012518615.1_ASM1251861v1_genomic.fna.fna           \n",
       "2  /ebio/abt3_projects/software/dev/ll_pipelines/llprimer/experiments/christensenellaceae/genomes/LLG_output/drep/drep/dereplicated_genomes/GCA_012837835.1_ASM1283783v1_genomic.fna.fna\n",
       "⋮  ⋮                                                                                                                                                                                    \n",
       "60 /ebio/abt3_projects/software/dev/ll_pipelines/llprimer/experiments/christensenellaceae/genomes/LLG_output/drep/drep/dereplicated_genomes/GCA_900155415.1_PRJEB13909b_genomic.fna.fna \n",
       "61 /ebio/abt3_projects/software/dev/ll_pipelines/llprimer/experiments/christensenellaceae/genomes/LLG_output/drep/drep/dereplicated_genomes/GUT_GENOME097725.fna.fna                    "
      ]
     },
     "metadata": {},
     "output_type": "display_data"
    }
   ],
   "source": [
    "# de-replicated genomes\n",
    "drep_gen = file.path(work_dir, 'genomes', 'LLG_output', 'drep', 'dereplicated_genomes.tsv') %>%\n",
    "    read.delim(sep='\\t')\n",
    "drep_gen"
   ]
  },
  {
   "cell_type": "code",
   "execution_count": 133,
   "metadata": {
    "execution": {
     "iopub.execute_input": "2021-03-23T15:25:34.055541Z",
     "iopub.status.busy": "2021-03-23T15:25:34.053132Z",
     "iopub.status.idle": "2021-03-23T15:25:34.163735Z"
    }
   },
   "outputs": [
    {
     "data": {
      "text/html": [
       "<table class=\"dataframe\">\n",
       "<caption>A data.frame: 101 × 24</caption>\n",
       "<thead>\n",
       "\t<tr><th scope=col>user_genome</th><th scope=col>Domain</th><th scope=col>Phylum</th><th scope=col>Class</th><th scope=col>Order</th><th scope=col>Family</th><th scope=col>Genus</th><th scope=col>Species</th><th scope=col>fastani_reference</th><th scope=col>fastani_reference_radius</th><th scope=col>⋯</th><th scope=col>closest_placement_radius</th><th scope=col>closest_placement_taxonomy</th><th scope=col>closest_placement_ani</th><th scope=col>closest_placement_af</th><th scope=col>msa_percent</th><th scope=col>translation_table</th><th scope=col>red_value</th><th scope=col>warnings</th><th scope=col>taxid</th><th scope=col>taxid_rank</th></tr>\n",
       "\t<tr><th scope=col>&lt;chr&gt;</th><th scope=col>&lt;chr&gt;</th><th scope=col>&lt;chr&gt;</th><th scope=col>&lt;chr&gt;</th><th scope=col>&lt;chr&gt;</th><th scope=col>&lt;chr&gt;</th><th scope=col>&lt;chr&gt;</th><th scope=col>&lt;chr&gt;</th><th scope=col>&lt;chr&gt;</th><th scope=col>&lt;chr&gt;</th><th scope=col>⋯</th><th scope=col>&lt;chr&gt;</th><th scope=col>&lt;chr&gt;</th><th scope=col>&lt;chr&gt;</th><th scope=col>&lt;chr&gt;</th><th scope=col>&lt;dbl&gt;</th><th scope=col>&lt;int&gt;</th><th scope=col>&lt;chr&gt;</th><th scope=col>&lt;chr&gt;</th><th scope=col>&lt;int&gt;</th><th scope=col>&lt;chr&gt;</th></tr>\n",
       "</thead>\n",
       "<tbody>\n",
       "\t<tr><td>1003528__metabat2__Low.052_sub.fna     </td><td>d__Bacteria</td><td>p__Firmicutes_A</td><td>c__Clostridia_A</td><td>o__Christensenellales</td><td>f__Christensenellaceae</td><td>g__QAKS01         </td><td>s__                      </td><td>N/A            </td><td>N/A </td><td>⋯</td><td>95.0</td><td>d__Bacteria;p__Firmicutes_A;c__Clostridia_A;o__Christensenellales;f__Christensenellaceae;g__QAKS01;s__QAKS01 sp003343685             </td><td>98.23</td><td>0.51</td><td>65.99</td><td>11</td><td>0.9999039146726262</td><td>N/A</td><td>222105</td><td>genus  </td></tr>\n",
       "\t<tr><td>GCA_001571425.1_ASM157142v1_genomic.fna</td><td>d__Bacteria</td><td>p__Firmicutes_A</td><td>c__Clostridia_A</td><td>o__Christensenellales</td><td>f__Christensenellaceae</td><td>g__Christensenella</td><td>s__Christensenella minuta</td><td>GCF_003628755.1</td><td>95.0</td><td>⋯</td><td>95.0</td><td>d__Bacteria;p__Firmicutes_A;c__Clostridia_A;o__Christensenellales;f__Christensenellaceae;g__Christensenella;s__Christensenella minuta</td><td>99.99</td><td>1.0 </td><td>95.42</td><td>11</td><td>N/A               </td><td>N/A</td><td>160030</td><td>species</td></tr>\n",
       "\t<tr><td>⋮</td><td>⋮</td><td>⋮</td><td>⋮</td><td>⋮</td><td>⋮</td><td>⋮</td><td>⋮</td><td>⋮</td><td>⋮</td><td>⋱</td><td>⋮</td><td>⋮</td><td>⋮</td><td>⋮</td><td>⋮</td><td>⋮</td><td>⋮</td><td>⋮</td><td>⋮</td><td>⋮</td></tr>\n",
       "\t<tr><td>GUT_GENOME252750.fna</td><td>d__Bacteria</td><td>p__Firmicutes_A</td><td>c__Clostridia_A</td><td>o__Christensenellales</td><td>f__Christensenellaceae</td><td>g__UMGS743</td><td>s__UMGS743 sp900545085</td><td>GCA_900545085.1</td><td>95.0</td><td>⋯</td><td>95.0</td><td>d__Bacteria;p__Firmicutes_A;c__Clostridia_A;o__Christensenellales;f__Christensenellaceae;g__UMGS743;s__UMGS743 sp900545085</td><td>97.55</td><td>0.92</td><td>39.33</td><td>11</td><td>N/A</td><td>N/A</td><td>230958</td><td>species</td></tr>\n",
       "\t<tr><td>GUT_GENOME256796.fna</td><td>d__Bacteria</td><td>p__Firmicutes_A</td><td>c__Clostridia_A</td><td>o__Christensenellales</td><td>f__Christensenellaceae</td><td>g__UMGS743</td><td>s__UMGS743 sp900545085</td><td>GCA_900545085.1</td><td>95.0</td><td>⋯</td><td>95.0</td><td>d__Bacteria;p__Firmicutes_A;c__Clostridia_A;o__Christensenellales;f__Christensenellaceae;g__UMGS743;s__UMGS743 sp900545085</td><td>99.39</td><td>0.89</td><td>58.77</td><td>11</td><td>N/A</td><td>N/A</td><td>230958</td><td>species</td></tr>\n",
       "</tbody>\n",
       "</table>\n"
      ],
      "text/latex": [
       "A data.frame: 101 × 24\n",
       "\\begin{tabular}{lllllllllllllllllllll}\n",
       " user\\_genome & Domain & Phylum & Class & Order & Family & Genus & Species & fastani\\_reference & fastani\\_reference\\_radius & ⋯ & closest\\_placement\\_radius & closest\\_placement\\_taxonomy & closest\\_placement\\_ani & closest\\_placement\\_af & msa\\_percent & translation\\_table & red\\_value & warnings & taxid & taxid\\_rank\\\\\n",
       " <chr> & <chr> & <chr> & <chr> & <chr> & <chr> & <chr> & <chr> & <chr> & <chr> & ⋯ & <chr> & <chr> & <chr> & <chr> & <dbl> & <int> & <chr> & <chr> & <int> & <chr>\\\\\n",
       "\\hline\n",
       "\t 1003528\\_\\_metabat2\\_\\_Low.052\\_sub.fna      & d\\_\\_Bacteria & p\\_\\_Firmicutes\\_A & c\\_\\_Clostridia\\_A & o\\_\\_Christensenellales & f\\_\\_Christensenellaceae & g\\_\\_QAKS01          & s\\_\\_                       & N/A             & N/A  & ⋯ & 95.0 & d\\_\\_Bacteria;p\\_\\_Firmicutes\\_A;c\\_\\_Clostridia\\_A;o\\_\\_Christensenellales;f\\_\\_Christensenellaceae;g\\_\\_QAKS01;s\\_\\_QAKS01 sp003343685              & 98.23 & 0.51 & 65.99 & 11 & 0.9999039146726262 & N/A & 222105 & genus  \\\\\n",
       "\t GCA\\_001571425.1\\_ASM157142v1\\_genomic.fna & d\\_\\_Bacteria & p\\_\\_Firmicutes\\_A & c\\_\\_Clostridia\\_A & o\\_\\_Christensenellales & f\\_\\_Christensenellaceae & g\\_\\_Christensenella & s\\_\\_Christensenella minuta & GCF\\_003628755.1 & 95.0 & ⋯ & 95.0 & d\\_\\_Bacteria;p\\_\\_Firmicutes\\_A;c\\_\\_Clostridia\\_A;o\\_\\_Christensenellales;f\\_\\_Christensenellaceae;g\\_\\_Christensenella;s\\_\\_Christensenella minuta & 99.99 & 1.0  & 95.42 & 11 & N/A                & N/A & 160030 & species\\\\\n",
       "\t ⋮ & ⋮ & ⋮ & ⋮ & ⋮ & ⋮ & ⋮ & ⋮ & ⋮ & ⋮ & ⋱ & ⋮ & ⋮ & ⋮ & ⋮ & ⋮ & ⋮ & ⋮ & ⋮ & ⋮ & ⋮\\\\\n",
       "\t GUT\\_GENOME252750.fna & d\\_\\_Bacteria & p\\_\\_Firmicutes\\_A & c\\_\\_Clostridia\\_A & o\\_\\_Christensenellales & f\\_\\_Christensenellaceae & g\\_\\_UMGS743 & s\\_\\_UMGS743 sp900545085 & GCA\\_900545085.1 & 95.0 & ⋯ & 95.0 & d\\_\\_Bacteria;p\\_\\_Firmicutes\\_A;c\\_\\_Clostridia\\_A;o\\_\\_Christensenellales;f\\_\\_Christensenellaceae;g\\_\\_UMGS743;s\\_\\_UMGS743 sp900545085 & 97.55 & 0.92 & 39.33 & 11 & N/A & N/A & 230958 & species\\\\\n",
       "\t GUT\\_GENOME256796.fna & d\\_\\_Bacteria & p\\_\\_Firmicutes\\_A & c\\_\\_Clostridia\\_A & o\\_\\_Christensenellales & f\\_\\_Christensenellaceae & g\\_\\_UMGS743 & s\\_\\_UMGS743 sp900545085 & GCA\\_900545085.1 & 95.0 & ⋯ & 95.0 & d\\_\\_Bacteria;p\\_\\_Firmicutes\\_A;c\\_\\_Clostridia\\_A;o\\_\\_Christensenellales;f\\_\\_Christensenellaceae;g\\_\\_UMGS743;s\\_\\_UMGS743 sp900545085 & 99.39 & 0.89 & 58.77 & 11 & N/A & N/A & 230958 & species\\\\\n",
       "\\end{tabular}\n"
      ],
      "text/markdown": [
       "\n",
       "A data.frame: 101 × 24\n",
       "\n",
       "| user_genome &lt;chr&gt; | Domain &lt;chr&gt; | Phylum &lt;chr&gt; | Class &lt;chr&gt; | Order &lt;chr&gt; | Family &lt;chr&gt; | Genus &lt;chr&gt; | Species &lt;chr&gt; | fastani_reference &lt;chr&gt; | fastani_reference_radius &lt;chr&gt; | ⋯ ⋯ | closest_placement_radius &lt;chr&gt; | closest_placement_taxonomy &lt;chr&gt; | closest_placement_ani &lt;chr&gt; | closest_placement_af &lt;chr&gt; | msa_percent &lt;dbl&gt; | translation_table &lt;int&gt; | red_value &lt;chr&gt; | warnings &lt;chr&gt; | taxid &lt;int&gt; | taxid_rank &lt;chr&gt; |\n",
       "|---|---|---|---|---|---|---|---|---|---|---|---|---|---|---|---|---|---|---|---|---|\n",
       "| 1003528__metabat2__Low.052_sub.fna      | d__Bacteria | p__Firmicutes_A | c__Clostridia_A | o__Christensenellales | f__Christensenellaceae | g__QAKS01          | s__                       | N/A             | N/A  | ⋯ | 95.0 | d__Bacteria;p__Firmicutes_A;c__Clostridia_A;o__Christensenellales;f__Christensenellaceae;g__QAKS01;s__QAKS01 sp003343685              | 98.23 | 0.51 | 65.99 | 11 | 0.9999039146726262 | N/A | 222105 | genus   |\n",
       "| GCA_001571425.1_ASM157142v1_genomic.fna | d__Bacteria | p__Firmicutes_A | c__Clostridia_A | o__Christensenellales | f__Christensenellaceae | g__Christensenella | s__Christensenella minuta | GCF_003628755.1 | 95.0 | ⋯ | 95.0 | d__Bacteria;p__Firmicutes_A;c__Clostridia_A;o__Christensenellales;f__Christensenellaceae;g__Christensenella;s__Christensenella minuta | 99.99 | 1.0  | 95.42 | 11 | N/A                | N/A | 160030 | species |\n",
       "| ⋮ | ⋮ | ⋮ | ⋮ | ⋮ | ⋮ | ⋮ | ⋮ | ⋮ | ⋮ | ⋱ | ⋮ | ⋮ | ⋮ | ⋮ | ⋮ | ⋮ | ⋮ | ⋮ | ⋮ | ⋮ |\n",
       "| GUT_GENOME252750.fna | d__Bacteria | p__Firmicutes_A | c__Clostridia_A | o__Christensenellales | f__Christensenellaceae | g__UMGS743 | s__UMGS743 sp900545085 | GCA_900545085.1 | 95.0 | ⋯ | 95.0 | d__Bacteria;p__Firmicutes_A;c__Clostridia_A;o__Christensenellales;f__Christensenellaceae;g__UMGS743;s__UMGS743 sp900545085 | 97.55 | 0.92 | 39.33 | 11 | N/A | N/A | 230958 | species |\n",
       "| GUT_GENOME256796.fna | d__Bacteria | p__Firmicutes_A | c__Clostridia_A | o__Christensenellales | f__Christensenellaceae | g__UMGS743 | s__UMGS743 sp900545085 | GCA_900545085.1 | 95.0 | ⋯ | 95.0 | d__Bacteria;p__Firmicutes_A;c__Clostridia_A;o__Christensenellales;f__Christensenellaceae;g__UMGS743;s__UMGS743 sp900545085 | 99.39 | 0.89 | 58.77 | 11 | N/A | N/A | 230958 | species |\n",
       "\n"
      ],
      "text/plain": [
       "    user_genome                             Domain      Phylum         \n",
       "1   1003528__metabat2__Low.052_sub.fna      d__Bacteria p__Firmicutes_A\n",
       "2   GCA_001571425.1_ASM157142v1_genomic.fna d__Bacteria p__Firmicutes_A\n",
       "⋮   ⋮                                       ⋮           ⋮              \n",
       "100 GUT_GENOME252750.fna                    d__Bacteria p__Firmicutes_A\n",
       "101 GUT_GENOME256796.fna                    d__Bacteria p__Firmicutes_A\n",
       "    Class           Order                 Family                \n",
       "1   c__Clostridia_A o__Christensenellales f__Christensenellaceae\n",
       "2   c__Clostridia_A o__Christensenellales f__Christensenellaceae\n",
       "⋮   ⋮               ⋮                     ⋮                     \n",
       "100 c__Clostridia_A o__Christensenellales f__Christensenellaceae\n",
       "101 c__Clostridia_A o__Christensenellales f__Christensenellaceae\n",
       "    Genus              Species                   fastani_reference\n",
       "1   g__QAKS01          s__                       N/A              \n",
       "2   g__Christensenella s__Christensenella minuta GCF_003628755.1  \n",
       "⋮   ⋮                  ⋮                         ⋮                \n",
       "100 g__UMGS743         s__UMGS743 sp900545085    GCA_900545085.1  \n",
       "101 g__UMGS743         s__UMGS743 sp900545085    GCA_900545085.1  \n",
       "    fastani_reference_radius ⋯ closest_placement_radius\n",
       "1   N/A                      ⋯ 95.0                    \n",
       "2   95.0                     ⋯ 95.0                    \n",
       "⋮   ⋮                        ⋱ ⋮                       \n",
       "100 95.0                     ⋯ 95.0                    \n",
       "101 95.0                     ⋯ 95.0                    \n",
       "    closest_placement_taxonomy                                                                                                           \n",
       "1   d__Bacteria;p__Firmicutes_A;c__Clostridia_A;o__Christensenellales;f__Christensenellaceae;g__QAKS01;s__QAKS01 sp003343685             \n",
       "2   d__Bacteria;p__Firmicutes_A;c__Clostridia_A;o__Christensenellales;f__Christensenellaceae;g__Christensenella;s__Christensenella minuta\n",
       "⋮   ⋮                                                                                                                                    \n",
       "100 d__Bacteria;p__Firmicutes_A;c__Clostridia_A;o__Christensenellales;f__Christensenellaceae;g__UMGS743;s__UMGS743 sp900545085           \n",
       "101 d__Bacteria;p__Firmicutes_A;c__Clostridia_A;o__Christensenellales;f__Christensenellaceae;g__UMGS743;s__UMGS743 sp900545085           \n",
       "    closest_placement_ani closest_placement_af msa_percent translation_table\n",
       "1   98.23                 0.51                 65.99       11               \n",
       "2   99.99                 1.0                  95.42       11               \n",
       "⋮   ⋮                     ⋮                    ⋮           ⋮                \n",
       "100 97.55                 0.92                 39.33       11               \n",
       "101 99.39                 0.89                 58.77       11               \n",
       "    red_value          warnings taxid  taxid_rank\n",
       "1   0.9999039146726262 N/A      222105 genus     \n",
       "2   N/A                N/A      160030 species   \n",
       "⋮   ⋮                  ⋮        ⋮      ⋮         \n",
       "100 N/A                N/A      230958 species   \n",
       "101 N/A                N/A      230958 species   "
      ]
     },
     "metadata": {},
     "output_type": "display_data"
    }
   ],
   "source": [
    "# GTDBTk summary\n",
    "tax = file.path(work_dir, 'genomes', 'LLG_output', 'gtdbtk', 'gtdbtk_summary_wTaxid.tsv') %>%\n",
    "    read.delim(, sep='\\t') %>%\n",
    "    separate(classification, \n",
    "             c('Domain', 'Phylum', 'Class', 'Order', 'Family', 'Genus', 'Species'),\n",
    "             sep=';') %>%\n",
    "    select(-note, -classification_method, -pplacer_taxonomy,\n",
    "           -other_related_references.genome_id.species_name.radius.ANI.AF.)\n",
    "tax"
   ]
  },
  {
   "cell_type": "code",
   "execution_count": 134,
   "metadata": {
    "execution": {
     "iopub.execute_input": "2021-03-23T15:25:35.887019Z",
     "iopub.status.busy": "2021-03-23T15:25:35.884316Z",
     "iopub.status.idle": "2021-03-23T15:25:35.979686Z"
    }
   },
   "outputs": [
    {
     "name": "stdout",
     "output_type": "stream",
     "text": [
      "-- drep --\n",
      "intersect(x,y): 61 \n",
      "setdiff(x,y): 0 \n",
      "setdiff(y,x): 40 \n",
      "union(x,y): 101 \n",
      "-- checkm --\n",
      "intersect(x,y): 101 \n",
      "setdiff(x,y): 0 \n",
      "setdiff(y,x): 0 \n",
      "union(x,y): 101 \n",
      "-- gtdbtk --\n",
      "intersect(x,y): 101 \n",
      "setdiff(x,y): 0 \n",
      "setdiff(y,x): 0 \n",
      "union(x,y): 101 \n"
     ]
    }
   ],
   "source": [
    "# checking overlap\n",
    "cat('-- drep --\\n')\n",
    "overlap(basename(as.character(drep_gen$Fasta)), \n",
    "        basename(as.character(drep$genome)))\n",
    "cat('-- checkm --\\n')\n",
    "overlap(drep$Bin.Id, checkm$Bin.Id)\n",
    "cat('-- gtdbtk --\\n')\n",
    "overlap(drep$Bin.Id, tax$user_genome)"
   ]
  },
  {
   "cell_type": "code",
   "execution_count": 135,
   "metadata": {
    "execution": {
     "iopub.execute_input": "2021-03-23T15:25:38.568716Z",
     "iopub.status.busy": "2021-03-23T15:25:38.567439Z",
     "iopub.status.idle": "2021-03-23T15:25:38.645327Z"
    }
   },
   "outputs": [
    {
     "data": {
      "text/html": [
       "<table class=\"dataframe\">\n",
       "<caption>A data.frame: 61 × 62</caption>\n",
       "<thead>\n",
       "\t<tr><th scope=col>genome</th><th scope=col>completeness</th><th scope=col>contamination</th><th scope=col>Bin.Id</th><th scope=col>Marker.lineage</th><th scope=col>X..genomes</th><th scope=col>X..markers</th><th scope=col>X..marker.sets</th><th scope=col>Completeness</th><th scope=col>Contamination</th><th scope=col>⋯</th><th scope=col>closest_placement_radius</th><th scope=col>closest_placement_taxonomy</th><th scope=col>closest_placement_ani</th><th scope=col>closest_placement_af</th><th scope=col>msa_percent</th><th scope=col>translation_table</th><th scope=col>red_value</th><th scope=col>warnings</th><th scope=col>taxid</th><th scope=col>taxid_rank</th></tr>\n",
       "\t<tr><th scope=col>&lt;chr&gt;</th><th scope=col>&lt;dbl&gt;</th><th scope=col>&lt;dbl&gt;</th><th scope=col>&lt;chr&gt;</th><th scope=col>&lt;chr&gt;</th><th scope=col>&lt;int&gt;</th><th scope=col>&lt;int&gt;</th><th scope=col>&lt;int&gt;</th><th scope=col>&lt;dbl&gt;</th><th scope=col>&lt;dbl&gt;</th><th scope=col>⋯</th><th scope=col>&lt;chr&gt;</th><th scope=col>&lt;chr&gt;</th><th scope=col>&lt;chr&gt;</th><th scope=col>&lt;chr&gt;</th><th scope=col>&lt;dbl&gt;</th><th scope=col>&lt;int&gt;</th><th scope=col>&lt;chr&gt;</th><th scope=col>&lt;chr&gt;</th><th scope=col>&lt;int&gt;</th><th scope=col>&lt;chr&gt;</th></tr>\n",
       "</thead>\n",
       "<tbody>\n",
       "\t<tr><td>/ebio/abt3_scratch/nyoungblut/LLG_62325884640/genomes/1003528__metabat2__Low.052_sub.fna.fna     </td><td>74.22</td><td>0.7</td><td>1003528__metabat2__Low.052_sub.fna     </td><td>o__Clostridiales (UID1120)</td><td>304</td><td>250</td><td>143</td><td>74.22</td><td>0.7</td><td>⋯</td><td>95.0</td><td>d__Bacteria;p__Firmicutes_A;c__Clostridia_A;o__Christensenellales;f__Christensenellaceae;g__QAKS01;s__QAKS01 sp003343685</td><td>98.23</td><td>0.51</td><td>65.99</td><td>11</td><td>0.9999039146726262</td><td>N/A</td><td>222105</td><td>genus  </td></tr>\n",
       "\t<tr><td>/ebio/abt3_scratch/nyoungblut/LLG_62325884640/genomes/GCA_001940855.1_ASM194085v1_genomic.fna.fna</td><td>98.39</td><td>0.0</td><td>GCA_001940855.1_ASM194085v1_genomic.fna</td><td>c__Clostridia (UID1118)   </td><td>387</td><td>223</td><td>124</td><td>98.39</td><td>0.0</td><td>⋯</td><td>95.0</td><td>d__Bacteria;p__Firmicutes_A;c__Clostridia_A;o__Christensenellales;f__CAG-138;g__Phil1;s__Phil1 sp001940855              </td><td>100.0</td><td>1.0 </td><td>93.63</td><td>11</td><td>N/A               </td><td>N/A</td><td>153230</td><td>species</td></tr>\n",
       "\t<tr><td>⋮</td><td>⋮</td><td>⋮</td><td>⋮</td><td>⋮</td><td>⋮</td><td>⋮</td><td>⋮</td><td>⋮</td><td>⋮</td><td>⋱</td><td>⋮</td><td>⋮</td><td>⋮</td><td>⋮</td><td>⋮</td><td>⋮</td><td>⋮</td><td>⋮</td><td>⋮</td><td>⋮</td></tr>\n",
       "\t<tr><td>/ebio/abt3_scratch/nyoungblut/LLG_62325884640/genomes/GUT_GENOME252750.fna.fna</td><td>53.75</td><td>0.7</td><td>GUT_GENOME252750.fna</td><td>o__Clostridiales (UID1120)</td><td>304</td><td>250</td><td>143</td><td>53.75</td><td>0.7</td><td>⋯</td><td>95.0</td><td>d__Bacteria;p__Firmicutes_A;c__Clostridia_A;o__Christensenellales;f__Christensenellaceae;g__UMGS743;s__UMGS743 sp900545085</td><td>97.55</td><td>0.92</td><td>39.33</td><td>11</td><td>N/A</td><td>N/A</td><td>230958</td><td>species</td></tr>\n",
       "\t<tr><td>/ebio/abt3_scratch/nyoungblut/LLG_62325884640/genomes/GUT_GENOME256796.fna.fna</td><td>71.77</td><td>1.4</td><td>GUT_GENOME256796.fna</td><td>o__Clostridiales (UID1120)</td><td>304</td><td>250</td><td>143</td><td>71.77</td><td>1.4</td><td>⋯</td><td>95.0</td><td>d__Bacteria;p__Firmicutes_A;c__Clostridia_A;o__Christensenellales;f__Christensenellaceae;g__UMGS743;s__UMGS743 sp900545085</td><td>99.39</td><td>0.89</td><td>58.77</td><td>11</td><td>N/A</td><td>N/A</td><td>230958</td><td>species</td></tr>\n",
       "</tbody>\n",
       "</table>\n"
      ],
      "text/latex": [
       "A data.frame: 61 × 62\n",
       "\\begin{tabular}{lllllllllllllllllllll}\n",
       " genome & completeness & contamination & Bin.Id & Marker.lineage & X..genomes & X..markers & X..marker.sets & Completeness & Contamination & ⋯ & closest\\_placement\\_radius & closest\\_placement\\_taxonomy & closest\\_placement\\_ani & closest\\_placement\\_af & msa\\_percent & translation\\_table & red\\_value & warnings & taxid & taxid\\_rank\\\\\n",
       " <chr> & <dbl> & <dbl> & <chr> & <chr> & <int> & <int> & <int> & <dbl> & <dbl> & ⋯ & <chr> & <chr> & <chr> & <chr> & <dbl> & <int> & <chr> & <chr> & <int> & <chr>\\\\\n",
       "\\hline\n",
       "\t /ebio/abt3\\_scratch/nyoungblut/LLG\\_62325884640/genomes/1003528\\_\\_metabat2\\_\\_Low.052\\_sub.fna.fna      & 74.22 & 0.7 & 1003528\\_\\_metabat2\\_\\_Low.052\\_sub.fna      & o\\_\\_Clostridiales (UID1120) & 304 & 250 & 143 & 74.22 & 0.7 & ⋯ & 95.0 & d\\_\\_Bacteria;p\\_\\_Firmicutes\\_A;c\\_\\_Clostridia\\_A;o\\_\\_Christensenellales;f\\_\\_Christensenellaceae;g\\_\\_QAKS01;s\\_\\_QAKS01 sp003343685 & 98.23 & 0.51 & 65.99 & 11 & 0.9999039146726262 & N/A & 222105 & genus  \\\\\n",
       "\t /ebio/abt3\\_scratch/nyoungblut/LLG\\_62325884640/genomes/GCA\\_001940855.1\\_ASM194085v1\\_genomic.fna.fna & 98.39 & 0.0 & GCA\\_001940855.1\\_ASM194085v1\\_genomic.fna & c\\_\\_Clostridia (UID1118)    & 387 & 223 & 124 & 98.39 & 0.0 & ⋯ & 95.0 & d\\_\\_Bacteria;p\\_\\_Firmicutes\\_A;c\\_\\_Clostridia\\_A;o\\_\\_Christensenellales;f\\_\\_CAG-138;g\\_\\_Phil1;s\\_\\_Phil1 sp001940855               & 100.0 & 1.0  & 93.63 & 11 & N/A                & N/A & 153230 & species\\\\\n",
       "\t ⋮ & ⋮ & ⋮ & ⋮ & ⋮ & ⋮ & ⋮ & ⋮ & ⋮ & ⋮ & ⋱ & ⋮ & ⋮ & ⋮ & ⋮ & ⋮ & ⋮ & ⋮ & ⋮ & ⋮ & ⋮\\\\\n",
       "\t /ebio/abt3\\_scratch/nyoungblut/LLG\\_62325884640/genomes/GUT\\_GENOME252750.fna.fna & 53.75 & 0.7 & GUT\\_GENOME252750.fna & o\\_\\_Clostridiales (UID1120) & 304 & 250 & 143 & 53.75 & 0.7 & ⋯ & 95.0 & d\\_\\_Bacteria;p\\_\\_Firmicutes\\_A;c\\_\\_Clostridia\\_A;o\\_\\_Christensenellales;f\\_\\_Christensenellaceae;g\\_\\_UMGS743;s\\_\\_UMGS743 sp900545085 & 97.55 & 0.92 & 39.33 & 11 & N/A & N/A & 230958 & species\\\\\n",
       "\t /ebio/abt3\\_scratch/nyoungblut/LLG\\_62325884640/genomes/GUT\\_GENOME256796.fna.fna & 71.77 & 1.4 & GUT\\_GENOME256796.fna & o\\_\\_Clostridiales (UID1120) & 304 & 250 & 143 & 71.77 & 1.4 & ⋯ & 95.0 & d\\_\\_Bacteria;p\\_\\_Firmicutes\\_A;c\\_\\_Clostridia\\_A;o\\_\\_Christensenellales;f\\_\\_Christensenellaceae;g\\_\\_UMGS743;s\\_\\_UMGS743 sp900545085 & 99.39 & 0.89 & 58.77 & 11 & N/A & N/A & 230958 & species\\\\\n",
       "\\end{tabular}\n"
      ],
      "text/markdown": [
       "\n",
       "A data.frame: 61 × 62\n",
       "\n",
       "| genome &lt;chr&gt; | completeness &lt;dbl&gt; | contamination &lt;dbl&gt; | Bin.Id &lt;chr&gt; | Marker.lineage &lt;chr&gt; | X..genomes &lt;int&gt; | X..markers &lt;int&gt; | X..marker.sets &lt;int&gt; | Completeness &lt;dbl&gt; | Contamination &lt;dbl&gt; | ⋯ ⋯ | closest_placement_radius &lt;chr&gt; | closest_placement_taxonomy &lt;chr&gt; | closest_placement_ani &lt;chr&gt; | closest_placement_af &lt;chr&gt; | msa_percent &lt;dbl&gt; | translation_table &lt;int&gt; | red_value &lt;chr&gt; | warnings &lt;chr&gt; | taxid &lt;int&gt; | taxid_rank &lt;chr&gt; |\n",
       "|---|---|---|---|---|---|---|---|---|---|---|---|---|---|---|---|---|---|---|---|---|\n",
       "| /ebio/abt3_scratch/nyoungblut/LLG_62325884640/genomes/1003528__metabat2__Low.052_sub.fna.fna      | 74.22 | 0.7 | 1003528__metabat2__Low.052_sub.fna      | o__Clostridiales (UID1120) | 304 | 250 | 143 | 74.22 | 0.7 | ⋯ | 95.0 | d__Bacteria;p__Firmicutes_A;c__Clostridia_A;o__Christensenellales;f__Christensenellaceae;g__QAKS01;s__QAKS01 sp003343685 | 98.23 | 0.51 | 65.99 | 11 | 0.9999039146726262 | N/A | 222105 | genus   |\n",
       "| /ebio/abt3_scratch/nyoungblut/LLG_62325884640/genomes/GCA_001940855.1_ASM194085v1_genomic.fna.fna | 98.39 | 0.0 | GCA_001940855.1_ASM194085v1_genomic.fna | c__Clostridia (UID1118)    | 387 | 223 | 124 | 98.39 | 0.0 | ⋯ | 95.0 | d__Bacteria;p__Firmicutes_A;c__Clostridia_A;o__Christensenellales;f__CAG-138;g__Phil1;s__Phil1 sp001940855               | 100.0 | 1.0  | 93.63 | 11 | N/A                | N/A | 153230 | species |\n",
       "| ⋮ | ⋮ | ⋮ | ⋮ | ⋮ | ⋮ | ⋮ | ⋮ | ⋮ | ⋮ | ⋱ | ⋮ | ⋮ | ⋮ | ⋮ | ⋮ | ⋮ | ⋮ | ⋮ | ⋮ | ⋮ |\n",
       "| /ebio/abt3_scratch/nyoungblut/LLG_62325884640/genomes/GUT_GENOME252750.fna.fna | 53.75 | 0.7 | GUT_GENOME252750.fna | o__Clostridiales (UID1120) | 304 | 250 | 143 | 53.75 | 0.7 | ⋯ | 95.0 | d__Bacteria;p__Firmicutes_A;c__Clostridia_A;o__Christensenellales;f__Christensenellaceae;g__UMGS743;s__UMGS743 sp900545085 | 97.55 | 0.92 | 39.33 | 11 | N/A | N/A | 230958 | species |\n",
       "| /ebio/abt3_scratch/nyoungblut/LLG_62325884640/genomes/GUT_GENOME256796.fna.fna | 71.77 | 1.4 | GUT_GENOME256796.fna | o__Clostridiales (UID1120) | 304 | 250 | 143 | 71.77 | 1.4 | ⋯ | 95.0 | d__Bacteria;p__Firmicutes_A;c__Clostridia_A;o__Christensenellales;f__Christensenellaceae;g__UMGS743;s__UMGS743 sp900545085 | 99.39 | 0.89 | 58.77 | 11 | N/A | N/A | 230958 | species |\n",
       "\n"
      ],
      "text/plain": [
       "   genome                                                                                           \n",
       "1  /ebio/abt3_scratch/nyoungblut/LLG_62325884640/genomes/1003528__metabat2__Low.052_sub.fna.fna     \n",
       "2  /ebio/abt3_scratch/nyoungblut/LLG_62325884640/genomes/GCA_001940855.1_ASM194085v1_genomic.fna.fna\n",
       "⋮  ⋮                                                                                                \n",
       "60 /ebio/abt3_scratch/nyoungblut/LLG_62325884640/genomes/GUT_GENOME252750.fna.fna                   \n",
       "61 /ebio/abt3_scratch/nyoungblut/LLG_62325884640/genomes/GUT_GENOME256796.fna.fna                   \n",
       "   completeness contamination Bin.Id                                 \n",
       "1  74.22        0.7           1003528__metabat2__Low.052_sub.fna     \n",
       "2  98.39        0.0           GCA_001940855.1_ASM194085v1_genomic.fna\n",
       "⋮  ⋮            ⋮             ⋮                                      \n",
       "60 53.75        0.7           GUT_GENOME252750.fna                   \n",
       "61 71.77        1.4           GUT_GENOME256796.fna                   \n",
       "   Marker.lineage             X..genomes X..markers X..marker.sets Completeness\n",
       "1  o__Clostridiales (UID1120) 304        250        143            74.22       \n",
       "2  c__Clostridia (UID1118)    387        223        124            98.39       \n",
       "⋮  ⋮                          ⋮          ⋮          ⋮              ⋮           \n",
       "60 o__Clostridiales (UID1120) 304        250        143            53.75       \n",
       "61 o__Clostridiales (UID1120) 304        250        143            71.77       \n",
       "   Contamination ⋯ closest_placement_radius\n",
       "1  0.7           ⋯ 95.0                    \n",
       "2  0.0           ⋯ 95.0                    \n",
       "⋮  ⋮             ⋱ ⋮                       \n",
       "60 0.7           ⋯ 95.0                    \n",
       "61 1.4           ⋯ 95.0                    \n",
       "   closest_placement_taxonomy                                                                                                \n",
       "1  d__Bacteria;p__Firmicutes_A;c__Clostridia_A;o__Christensenellales;f__Christensenellaceae;g__QAKS01;s__QAKS01 sp003343685  \n",
       "2  d__Bacteria;p__Firmicutes_A;c__Clostridia_A;o__Christensenellales;f__CAG-138;g__Phil1;s__Phil1 sp001940855                \n",
       "⋮  ⋮                                                                                                                         \n",
       "60 d__Bacteria;p__Firmicutes_A;c__Clostridia_A;o__Christensenellales;f__Christensenellaceae;g__UMGS743;s__UMGS743 sp900545085\n",
       "61 d__Bacteria;p__Firmicutes_A;c__Clostridia_A;o__Christensenellales;f__Christensenellaceae;g__UMGS743;s__UMGS743 sp900545085\n",
       "   closest_placement_ani closest_placement_af msa_percent translation_table\n",
       "1  98.23                 0.51                 65.99       11               \n",
       "2  100.0                 1.0                  93.63       11               \n",
       "⋮  ⋮                     ⋮                    ⋮           ⋮                \n",
       "60 97.55                 0.92                 39.33       11               \n",
       "61 99.39                 0.89                 58.77       11               \n",
       "   red_value          warnings taxid  taxid_rank\n",
       "1  0.9999039146726262 N/A      222105 genus     \n",
       "2  N/A                N/A      153230 species   \n",
       "⋮  ⋮                  ⋮        ⋮      ⋮         \n",
       "60 N/A                N/A      230958 species   \n",
       "61 N/A                N/A      230958 species   "
      ]
     },
     "metadata": {},
     "output_type": "display_data"
    }
   ],
   "source": [
    "# joining based on Bin.Id\n",
    "drep = drep %>%\n",
    "    inner_join(checkm, c('Bin.Id')) %>%\n",
    "    mutate(GEN = genome %>% as.character %>% basename) %>%\n",
    "    inner_join(drep_gen %>% mutate(GEN = Fasta %>% as.character %>% basename),\n",
    "               by=c('GEN')) %>%\n",
    "    inner_join(tax, c('Bin.Id'='user_genome')) #%>%\n",
    "drep"
   ]
  },
  {
   "cell_type": "code",
   "execution_count": 136,
   "metadata": {
    "execution": {
     "iopub.execute_input": "2021-03-23T15:25:41.006517Z",
     "iopub.status.busy": "2021-03-23T15:25:41.004189Z",
     "iopub.status.idle": "2021-03-23T15:25:41.054174Z"
    }
   },
   "outputs": [
    {
     "data": {
      "text/html": [
       "<table class=\"dataframe\">\n",
       "<caption>A tibble: 20 × 4</caption>\n",
       "<thead>\n",
       "\t<tr><th></th><th scope=col>Order</th><th scope=col>Family</th><th scope=col>Genus</th><th scope=col>n_genomes</th></tr>\n",
       "\t<tr><th></th><th scope=col>&lt;chr&gt;</th><th scope=col>&lt;chr&gt;</th><th scope=col>&lt;chr&gt;</th><th scope=col>&lt;int&gt;</th></tr>\n",
       "</thead>\n",
       "<tbody>\n",
       "\t<tr><th scope=row>1</th><td>o__Christensenellales</td><td>f__                   </td><td>g__                 </td><td> 1</td></tr>\n",
       "\t<tr><th scope=row>2</th><td>o__Christensenellales</td><td>f__CAG-138            </td><td>g__PeH17            </td><td> 2</td></tr>\n",
       "\t<tr><th scope=row>3</th><td>o__Christensenellales</td><td>f__CAG-138            </td><td>g__Phil1            </td><td> 2</td></tr>\n",
       "\t<tr><th scope=row>4</th><td>o__Christensenellales</td><td>f__CAG-138            </td><td>g__SFEL01           </td><td> 1</td></tr>\n",
       "\t<tr><th scope=row>5</th><td>o__Christensenellales</td><td>f__CAG-74             </td><td>g__                 </td><td> 1</td></tr>\n",
       "\t<tr><th scope=row>6</th><td>o__Christensenellales</td><td>f__CAG-74             </td><td>g__DTU024           </td><td> 2</td></tr>\n",
       "\t<tr><th scope=row>7</th><td>o__Christensenellales</td><td>f__CAG-74             </td><td>g__Firm-11          </td><td> 2</td></tr>\n",
       "\t<tr><th scope=row>8</th><td>o__Christensenellales</td><td>f__CAG-74             </td><td>g__SFFH01           </td><td> 1</td></tr>\n",
       "\t<tr><th scope=row>9</th><td>o__Christensenellales</td><td>f__CAG-74             </td><td>g__UBA11524         </td><td>12</td></tr>\n",
       "\t<tr><th scope=row>10</th><td>o__Christensenellales</td><td>f__CAG-917            </td><td>g__CAG-349          </td><td> 1</td></tr>\n",
       "\t<tr><th scope=row>11</th><td>o__Christensenellales</td><td>f__Christensenellaceae</td><td>g__                 </td><td> 4</td></tr>\n",
       "\t<tr><th scope=row>12</th><td>o__Christensenellales</td><td>f__Christensenellaceae</td><td>g__Catabacter       </td><td> 1</td></tr>\n",
       "\t<tr><th scope=row>13</th><td>o__Christensenellales</td><td>f__Christensenellaceae</td><td>g__Christensenella  </td><td> 5</td></tr>\n",
       "\t<tr><th scope=row>14</th><td>o__Christensenellales</td><td>f__Christensenellaceae</td><td>g__Christensenella_A</td><td> 1</td></tr>\n",
       "\t<tr><th scope=row>15</th><td>o__Christensenellales</td><td>f__Christensenellaceae</td><td>g__QAKS01           </td><td> 1</td></tr>\n",
       "\t<tr><th scope=row>16</th><td>o__Christensenellales</td><td>f__Christensenellaceae</td><td>g__QANA01           </td><td> 8</td></tr>\n",
       "\t<tr><th scope=row>17</th><td>o__Christensenellales</td><td>f__Christensenellaceae</td><td>g__UMGS743          </td><td>13</td></tr>\n",
       "\t<tr><th scope=row>18</th><td>o__Christensenellales</td><td>f__GCA-900066905      </td><td>g__GCA-900066905    </td><td> 1</td></tr>\n",
       "\t<tr><th scope=row>19</th><td>o__Christensenellales</td><td>f__MARSEILLE-P3954    </td><td>g__MARSEILLE-P3954  </td><td> 1</td></tr>\n",
       "\t<tr><th scope=row>20</th><td>o__Christensenellales</td><td>f__SZUA-584           </td><td>g__SZUA-584         </td><td> 1</td></tr>\n",
       "</tbody>\n",
       "</table>\n"
      ],
      "text/latex": [
       "A tibble: 20 × 4\n",
       "\\begin{tabular}{r|llll}\n",
       "  & Order & Family & Genus & n\\_genomes\\\\\n",
       "  & <chr> & <chr> & <chr> & <int>\\\\\n",
       "\\hline\n",
       "\t1 & o\\_\\_Christensenellales & f\\_\\_                    & g\\_\\_                  &  1\\\\\n",
       "\t2 & o\\_\\_Christensenellales & f\\_\\_CAG-138             & g\\_\\_PeH17             &  2\\\\\n",
       "\t3 & o\\_\\_Christensenellales & f\\_\\_CAG-138             & g\\_\\_Phil1             &  2\\\\\n",
       "\t4 & o\\_\\_Christensenellales & f\\_\\_CAG-138             & g\\_\\_SFEL01            &  1\\\\\n",
       "\t5 & o\\_\\_Christensenellales & f\\_\\_CAG-74              & g\\_\\_                  &  1\\\\\n",
       "\t6 & o\\_\\_Christensenellales & f\\_\\_CAG-74              & g\\_\\_DTU024            &  2\\\\\n",
       "\t7 & o\\_\\_Christensenellales & f\\_\\_CAG-74              & g\\_\\_Firm-11           &  2\\\\\n",
       "\t8 & o\\_\\_Christensenellales & f\\_\\_CAG-74              & g\\_\\_SFFH01            &  1\\\\\n",
       "\t9 & o\\_\\_Christensenellales & f\\_\\_CAG-74              & g\\_\\_UBA11524          & 12\\\\\n",
       "\t10 & o\\_\\_Christensenellales & f\\_\\_CAG-917             & g\\_\\_CAG-349           &  1\\\\\n",
       "\t11 & o\\_\\_Christensenellales & f\\_\\_Christensenellaceae & g\\_\\_                  &  4\\\\\n",
       "\t12 & o\\_\\_Christensenellales & f\\_\\_Christensenellaceae & g\\_\\_Catabacter        &  1\\\\\n",
       "\t13 & o\\_\\_Christensenellales & f\\_\\_Christensenellaceae & g\\_\\_Christensenella   &  5\\\\\n",
       "\t14 & o\\_\\_Christensenellales & f\\_\\_Christensenellaceae & g\\_\\_Christensenella\\_A &  1\\\\\n",
       "\t15 & o\\_\\_Christensenellales & f\\_\\_Christensenellaceae & g\\_\\_QAKS01            &  1\\\\\n",
       "\t16 & o\\_\\_Christensenellales & f\\_\\_Christensenellaceae & g\\_\\_QANA01            &  8\\\\\n",
       "\t17 & o\\_\\_Christensenellales & f\\_\\_Christensenellaceae & g\\_\\_UMGS743           & 13\\\\\n",
       "\t18 & o\\_\\_Christensenellales & f\\_\\_GCA-900066905       & g\\_\\_GCA-900066905     &  1\\\\\n",
       "\t19 & o\\_\\_Christensenellales & f\\_\\_MARSEILLE-P3954     & g\\_\\_MARSEILLE-P3954   &  1\\\\\n",
       "\t20 & o\\_\\_Christensenellales & f\\_\\_SZUA-584            & g\\_\\_SZUA-584          &  1\\\\\n",
       "\\end{tabular}\n"
      ],
      "text/markdown": [
       "\n",
       "A tibble: 20 × 4\n",
       "\n",
       "| <!--/--> | Order &lt;chr&gt; | Family &lt;chr&gt; | Genus &lt;chr&gt; | n_genomes &lt;int&gt; |\n",
       "|---|---|---|---|---|\n",
       "| 1 | o__Christensenellales | f__                    | g__                  |  1 |\n",
       "| 2 | o__Christensenellales | f__CAG-138             | g__PeH17             |  2 |\n",
       "| 3 | o__Christensenellales | f__CAG-138             | g__Phil1             |  2 |\n",
       "| 4 | o__Christensenellales | f__CAG-138             | g__SFEL01            |  1 |\n",
       "| 5 | o__Christensenellales | f__CAG-74              | g__                  |  1 |\n",
       "| 6 | o__Christensenellales | f__CAG-74              | g__DTU024            |  2 |\n",
       "| 7 | o__Christensenellales | f__CAG-74              | g__Firm-11           |  2 |\n",
       "| 8 | o__Christensenellales | f__CAG-74              | g__SFFH01            |  1 |\n",
       "| 9 | o__Christensenellales | f__CAG-74              | g__UBA11524          | 12 |\n",
       "| 10 | o__Christensenellales | f__CAG-917             | g__CAG-349           |  1 |\n",
       "| 11 | o__Christensenellales | f__Christensenellaceae | g__                  |  4 |\n",
       "| 12 | o__Christensenellales | f__Christensenellaceae | g__Catabacter        |  1 |\n",
       "| 13 | o__Christensenellales | f__Christensenellaceae | g__Christensenella   |  5 |\n",
       "| 14 | o__Christensenellales | f__Christensenellaceae | g__Christensenella_A |  1 |\n",
       "| 15 | o__Christensenellales | f__Christensenellaceae | g__QAKS01            |  1 |\n",
       "| 16 | o__Christensenellales | f__Christensenellaceae | g__QANA01            |  8 |\n",
       "| 17 | o__Christensenellales | f__Christensenellaceae | g__UMGS743           | 13 |\n",
       "| 18 | o__Christensenellales | f__GCA-900066905       | g__GCA-900066905     |  1 |\n",
       "| 19 | o__Christensenellales | f__MARSEILLE-P3954     | g__MARSEILLE-P3954   |  1 |\n",
       "| 20 | o__Christensenellales | f__SZUA-584            | g__SZUA-584          |  1 |\n",
       "\n"
      ],
      "text/plain": [
       "   Order                 Family                 Genus                n_genomes\n",
       "1  o__Christensenellales f__                    g__                   1       \n",
       "2  o__Christensenellales f__CAG-138             g__PeH17              2       \n",
       "3  o__Christensenellales f__CAG-138             g__Phil1              2       \n",
       "4  o__Christensenellales f__CAG-138             g__SFEL01             1       \n",
       "5  o__Christensenellales f__CAG-74              g__                   1       \n",
       "6  o__Christensenellales f__CAG-74              g__DTU024             2       \n",
       "7  o__Christensenellales f__CAG-74              g__Firm-11            2       \n",
       "8  o__Christensenellales f__CAG-74              g__SFFH01             1       \n",
       "9  o__Christensenellales f__CAG-74              g__UBA11524          12       \n",
       "10 o__Christensenellales f__CAG-917             g__CAG-349            1       \n",
       "11 o__Christensenellales f__Christensenellaceae g__                   4       \n",
       "12 o__Christensenellales f__Christensenellaceae g__Catabacter         1       \n",
       "13 o__Christensenellales f__Christensenellaceae g__Christensenella    5       \n",
       "14 o__Christensenellales f__Christensenellaceae g__Christensenella_A  1       \n",
       "15 o__Christensenellales f__Christensenellaceae g__QAKS01             1       \n",
       "16 o__Christensenellales f__Christensenellaceae g__QANA01             8       \n",
       "17 o__Christensenellales f__Christensenellaceae g__UMGS743           13       \n",
       "18 o__Christensenellales f__GCA-900066905       g__GCA-900066905      1       \n",
       "19 o__Christensenellales f__MARSEILLE-P3954     g__MARSEILLE-P3954    1       \n",
       "20 o__Christensenellales f__SZUA-584            g__SZUA-584           1       "
      ]
     },
     "metadata": {},
     "output_type": "display_data"
    }
   ],
   "source": [
    "# summarizing the taxonomy\n",
    "df.dims(20)\n",
    "drep %>%\n",
    "    group_by(Order, Family, Genus) %>%\n",
    "    summarize(n_genomes = n(), .groups='drop')\n",
    "df.dims()"
   ]
  },
  {
   "cell_type": "code",
   "execution_count": 137,
   "metadata": {
    "execution": {
     "iopub.execute_input": "2021-03-23T15:25:41.795682Z",
     "iopub.status.busy": "2021-03-23T15:25:41.793289Z",
     "iopub.status.idle": "2021-03-23T15:25:41.846579Z"
    }
   },
   "outputs": [
    {
     "data": {
      "text/html": [
       "<table class=\"dataframe\">\n",
       "<caption>A data.frame: 32 × 62</caption>\n",
       "<thead>\n",
       "\t<tr><th scope=col>genome</th><th scope=col>completeness</th><th scope=col>contamination</th><th scope=col>Bin.Id</th><th scope=col>Marker.lineage</th><th scope=col>X..genomes</th><th scope=col>X..markers</th><th scope=col>X..marker.sets</th><th scope=col>Completeness</th><th scope=col>Contamination</th><th scope=col>⋯</th><th scope=col>closest_placement_radius</th><th scope=col>closest_placement_taxonomy</th><th scope=col>closest_placement_ani</th><th scope=col>closest_placement_af</th><th scope=col>msa_percent</th><th scope=col>translation_table</th><th scope=col>red_value</th><th scope=col>warnings</th><th scope=col>taxid</th><th scope=col>taxid_rank</th></tr>\n",
       "\t<tr><th scope=col>&lt;chr&gt;</th><th scope=col>&lt;dbl&gt;</th><th scope=col>&lt;dbl&gt;</th><th scope=col>&lt;chr&gt;</th><th scope=col>&lt;chr&gt;</th><th scope=col>&lt;int&gt;</th><th scope=col>&lt;int&gt;</th><th scope=col>&lt;int&gt;</th><th scope=col>&lt;dbl&gt;</th><th scope=col>&lt;dbl&gt;</th><th scope=col>⋯</th><th scope=col>&lt;chr&gt;</th><th scope=col>&lt;chr&gt;</th><th scope=col>&lt;chr&gt;</th><th scope=col>&lt;chr&gt;</th><th scope=col>&lt;dbl&gt;</th><th scope=col>&lt;int&gt;</th><th scope=col>&lt;chr&gt;</th><th scope=col>&lt;chr&gt;</th><th scope=col>&lt;int&gt;</th><th scope=col>&lt;chr&gt;</th></tr>\n",
       "</thead>\n",
       "<tbody>\n",
       "\t<tr><td>/ebio/abt3_scratch/nyoungblut/LLG_62325884640/genomes/GCA_001940855.1_ASM194085v1_genomic.fna.fna </td><td>98.39</td><td>0.00</td><td>GCA_001940855.1_ASM194085v1_genomic.fna </td><td>c__Clostridia (UID1118)   </td><td>387</td><td>223</td><td>124</td><td>98.39</td><td>0.00</td><td>⋯</td><td>95.0</td><td>d__Bacteria;p__Firmicutes_A;c__Clostridia_A;o__Christensenellales;f__CAG-138;g__Phil1;s__Phil1 sp001940855</td><td>100.0</td><td>1.0</td><td>93.63</td><td>11</td><td>N/A               </td><td>N/A</td><td>153230</td><td>species</td></tr>\n",
       "\t<tr><td>/ebio/abt3_scratch/nyoungblut/LLG_62325884640/genomes/GCA_014384805.1_ASM1438480v1_genomic.fna.fna</td><td>97.90</td><td>0.93</td><td>GCA_014384805.1_ASM1438480v1_genomic.fna</td><td>o__Clostridiales (UID1120)</td><td>304</td><td>250</td><td>143</td><td>97.90</td><td>0.93</td><td>⋯</td><td>N/A </td><td>N/A                                                                                                       </td><td>N/A  </td><td>N/A</td><td>93.95</td><td>11</td><td>0.8021254376949831</td><td>N/A</td><td>160028</td><td>family </td></tr>\n",
       "\t<tr><td>⋮</td><td>⋮</td><td>⋮</td><td>⋮</td><td>⋮</td><td>⋮</td><td>⋮</td><td>⋮</td><td>⋮</td><td>⋮</td><td>⋱</td><td>⋮</td><td>⋮</td><td>⋮</td><td>⋮</td><td>⋮</td><td>⋮</td><td>⋮</td><td>⋮</td><td>⋮</td><td>⋮</td></tr>\n",
       "\t<tr><td>/ebio/abt3_scratch/nyoungblut/LLG_62325884640/genomes/GCA_014866795.1_ASM1486679v1_genomic.fna.fna</td><td>97.58</td><td>0.27</td><td>GCA_014866795.1_ASM1486679v1_genomic.fna</td><td>c__Clostridia (UID1118)   </td><td>387</td><td>223</td><td>124</td><td>97.58</td><td>0.27</td><td>⋯</td><td>95.0</td><td>d__Bacteria;p__Firmicutes_A;c__Clostridia_A;o__Christensenellales;f__CAG-74;g__Firm-11;s__Firm-11 sp900540045                     </td><td>97.55</td><td>0.82</td><td>93.25</td><td>11</td><td>N/A</td><td>N/A</td><td>226554</td><td>species</td></tr>\n",
       "\t<tr><td>/ebio/abt3_scratch/nyoungblut/LLG_62325884640/genomes/GUT_GENOME097725.fna.fna                    </td><td>96.50</td><td>1.81</td><td>GUT_GENOME097725.fna                    </td><td>o__Clostridiales (UID1120)</td><td>304</td><td>250</td><td>143</td><td>96.50</td><td>1.81</td><td>⋯</td><td>95.0</td><td>d__Bacteria;p__Firmicutes_A;c__Clostridia_A;o__Christensenellales;f__Christensenellaceae;g__Catabacter;s__Catabacter hongkongensis</td><td>99.06</td><td>0.96</td><td>89.29</td><td>11</td><td>N/A</td><td>N/A</td><td>171084</td><td>species</td></tr>\n",
       "</tbody>\n",
       "</table>\n"
      ],
      "text/latex": [
       "A data.frame: 32 × 62\n",
       "\\begin{tabular}{lllllllllllllllllllll}\n",
       " genome & completeness & contamination & Bin.Id & Marker.lineage & X..genomes & X..markers & X..marker.sets & Completeness & Contamination & ⋯ & closest\\_placement\\_radius & closest\\_placement\\_taxonomy & closest\\_placement\\_ani & closest\\_placement\\_af & msa\\_percent & translation\\_table & red\\_value & warnings & taxid & taxid\\_rank\\\\\n",
       " <chr> & <dbl> & <dbl> & <chr> & <chr> & <int> & <int> & <int> & <dbl> & <dbl> & ⋯ & <chr> & <chr> & <chr> & <chr> & <dbl> & <int> & <chr> & <chr> & <int> & <chr>\\\\\n",
       "\\hline\n",
       "\t /ebio/abt3\\_scratch/nyoungblut/LLG\\_62325884640/genomes/GCA\\_001940855.1\\_ASM194085v1\\_genomic.fna.fna  & 98.39 & 0.00 & GCA\\_001940855.1\\_ASM194085v1\\_genomic.fna  & c\\_\\_Clostridia (UID1118)    & 387 & 223 & 124 & 98.39 & 0.00 & ⋯ & 95.0 & d\\_\\_Bacteria;p\\_\\_Firmicutes\\_A;c\\_\\_Clostridia\\_A;o\\_\\_Christensenellales;f\\_\\_CAG-138;g\\_\\_Phil1;s\\_\\_Phil1 sp001940855 & 100.0 & 1.0 & 93.63 & 11 & N/A                & N/A & 153230 & species\\\\\n",
       "\t /ebio/abt3\\_scratch/nyoungblut/LLG\\_62325884640/genomes/GCA\\_014384805.1\\_ASM1438480v1\\_genomic.fna.fna & 97.90 & 0.93 & GCA\\_014384805.1\\_ASM1438480v1\\_genomic.fna & o\\_\\_Clostridiales (UID1120) & 304 & 250 & 143 & 97.90 & 0.93 & ⋯ & N/A  & N/A                                                                                                        & N/A   & N/A & 93.95 & 11 & 0.8021254376949831 & N/A & 160028 & family \\\\\n",
       "\t ⋮ & ⋮ & ⋮ & ⋮ & ⋮ & ⋮ & ⋮ & ⋮ & ⋮ & ⋮ & ⋱ & ⋮ & ⋮ & ⋮ & ⋮ & ⋮ & ⋮ & ⋮ & ⋮ & ⋮ & ⋮\\\\\n",
       "\t /ebio/abt3\\_scratch/nyoungblut/LLG\\_62325884640/genomes/GCA\\_014866795.1\\_ASM1486679v1\\_genomic.fna.fna & 97.58 & 0.27 & GCA\\_014866795.1\\_ASM1486679v1\\_genomic.fna & c\\_\\_Clostridia (UID1118)    & 387 & 223 & 124 & 97.58 & 0.27 & ⋯ & 95.0 & d\\_\\_Bacteria;p\\_\\_Firmicutes\\_A;c\\_\\_Clostridia\\_A;o\\_\\_Christensenellales;f\\_\\_CAG-74;g\\_\\_Firm-11;s\\_\\_Firm-11 sp900540045                      & 97.55 & 0.82 & 93.25 & 11 & N/A & N/A & 226554 & species\\\\\n",
       "\t /ebio/abt3\\_scratch/nyoungblut/LLG\\_62325884640/genomes/GUT\\_GENOME097725.fna.fna                     & 96.50 & 1.81 & GUT\\_GENOME097725.fna                     & o\\_\\_Clostridiales (UID1120) & 304 & 250 & 143 & 96.50 & 1.81 & ⋯ & 95.0 & d\\_\\_Bacteria;p\\_\\_Firmicutes\\_A;c\\_\\_Clostridia\\_A;o\\_\\_Christensenellales;f\\_\\_Christensenellaceae;g\\_\\_Catabacter;s\\_\\_Catabacter hongkongensis & 99.06 & 0.96 & 89.29 & 11 & N/A & N/A & 171084 & species\\\\\n",
       "\\end{tabular}\n"
      ],
      "text/markdown": [
       "\n",
       "A data.frame: 32 × 62\n",
       "\n",
       "| genome &lt;chr&gt; | completeness &lt;dbl&gt; | contamination &lt;dbl&gt; | Bin.Id &lt;chr&gt; | Marker.lineage &lt;chr&gt; | X..genomes &lt;int&gt; | X..markers &lt;int&gt; | X..marker.sets &lt;int&gt; | Completeness &lt;dbl&gt; | Contamination &lt;dbl&gt; | ⋯ ⋯ | closest_placement_radius &lt;chr&gt; | closest_placement_taxonomy &lt;chr&gt; | closest_placement_ani &lt;chr&gt; | closest_placement_af &lt;chr&gt; | msa_percent &lt;dbl&gt; | translation_table &lt;int&gt; | red_value &lt;chr&gt; | warnings &lt;chr&gt; | taxid &lt;int&gt; | taxid_rank &lt;chr&gt; |\n",
       "|---|---|---|---|---|---|---|---|---|---|---|---|---|---|---|---|---|---|---|---|---|\n",
       "| /ebio/abt3_scratch/nyoungblut/LLG_62325884640/genomes/GCA_001940855.1_ASM194085v1_genomic.fna.fna  | 98.39 | 0.00 | GCA_001940855.1_ASM194085v1_genomic.fna  | c__Clostridia (UID1118)    | 387 | 223 | 124 | 98.39 | 0.00 | ⋯ | 95.0 | d__Bacteria;p__Firmicutes_A;c__Clostridia_A;o__Christensenellales;f__CAG-138;g__Phil1;s__Phil1 sp001940855 | 100.0 | 1.0 | 93.63 | 11 | N/A                | N/A | 153230 | species |\n",
       "| /ebio/abt3_scratch/nyoungblut/LLG_62325884640/genomes/GCA_014384805.1_ASM1438480v1_genomic.fna.fna | 97.90 | 0.93 | GCA_014384805.1_ASM1438480v1_genomic.fna | o__Clostridiales (UID1120) | 304 | 250 | 143 | 97.90 | 0.93 | ⋯ | N/A  | N/A                                                                                                        | N/A   | N/A | 93.95 | 11 | 0.8021254376949831 | N/A | 160028 | family  |\n",
       "| ⋮ | ⋮ | ⋮ | ⋮ | ⋮ | ⋮ | ⋮ | ⋮ | ⋮ | ⋮ | ⋱ | ⋮ | ⋮ | ⋮ | ⋮ | ⋮ | ⋮ | ⋮ | ⋮ | ⋮ | ⋮ |\n",
       "| /ebio/abt3_scratch/nyoungblut/LLG_62325884640/genomes/GCA_014866795.1_ASM1486679v1_genomic.fna.fna | 97.58 | 0.27 | GCA_014866795.1_ASM1486679v1_genomic.fna | c__Clostridia (UID1118)    | 387 | 223 | 124 | 97.58 | 0.27 | ⋯ | 95.0 | d__Bacteria;p__Firmicutes_A;c__Clostridia_A;o__Christensenellales;f__CAG-74;g__Firm-11;s__Firm-11 sp900540045                      | 97.55 | 0.82 | 93.25 | 11 | N/A | N/A | 226554 | species |\n",
       "| /ebio/abt3_scratch/nyoungblut/LLG_62325884640/genomes/GUT_GENOME097725.fna.fna                     | 96.50 | 1.81 | GUT_GENOME097725.fna                     | o__Clostridiales (UID1120) | 304 | 250 | 143 | 96.50 | 1.81 | ⋯ | 95.0 | d__Bacteria;p__Firmicutes_A;c__Clostridia_A;o__Christensenellales;f__Christensenellaceae;g__Catabacter;s__Catabacter hongkongensis | 99.06 | 0.96 | 89.29 | 11 | N/A | N/A | 171084 | species |\n",
       "\n"
      ],
      "text/plain": [
       "   genome                                                                                            \n",
       "1  /ebio/abt3_scratch/nyoungblut/LLG_62325884640/genomes/GCA_001940855.1_ASM194085v1_genomic.fna.fna \n",
       "2  /ebio/abt3_scratch/nyoungblut/LLG_62325884640/genomes/GCA_014384805.1_ASM1438480v1_genomic.fna.fna\n",
       "⋮  ⋮                                                                                                 \n",
       "31 /ebio/abt3_scratch/nyoungblut/LLG_62325884640/genomes/GCA_014866795.1_ASM1486679v1_genomic.fna.fna\n",
       "32 /ebio/abt3_scratch/nyoungblut/LLG_62325884640/genomes/GUT_GENOME097725.fna.fna                    \n",
       "   completeness contamination Bin.Id                                  \n",
       "1  98.39        0.00          GCA_001940855.1_ASM194085v1_genomic.fna \n",
       "2  97.90        0.93          GCA_014384805.1_ASM1438480v1_genomic.fna\n",
       "⋮  ⋮            ⋮             ⋮                                       \n",
       "31 97.58        0.27          GCA_014866795.1_ASM1486679v1_genomic.fna\n",
       "32 96.50        1.81          GUT_GENOME097725.fna                    \n",
       "   Marker.lineage             X..genomes X..markers X..marker.sets Completeness\n",
       "1  c__Clostridia (UID1118)    387        223        124            98.39       \n",
       "2  o__Clostridiales (UID1120) 304        250        143            97.90       \n",
       "⋮  ⋮                          ⋮          ⋮          ⋮              ⋮           \n",
       "31 c__Clostridia (UID1118)    387        223        124            97.58       \n",
       "32 o__Clostridiales (UID1120) 304        250        143            96.50       \n",
       "   Contamination ⋯ closest_placement_radius\n",
       "1  0.00          ⋯ 95.0                    \n",
       "2  0.93          ⋯ N/A                     \n",
       "⋮  ⋮             ⋱ ⋮                       \n",
       "31 0.27          ⋯ 95.0                    \n",
       "32 1.81          ⋯ 95.0                    \n",
       "   closest_placement_taxonomy                                                                                                        \n",
       "1  d__Bacteria;p__Firmicutes_A;c__Clostridia_A;o__Christensenellales;f__CAG-138;g__Phil1;s__Phil1 sp001940855                        \n",
       "2  N/A                                                                                                                               \n",
       "⋮  ⋮                                                                                                                                 \n",
       "31 d__Bacteria;p__Firmicutes_A;c__Clostridia_A;o__Christensenellales;f__CAG-74;g__Firm-11;s__Firm-11 sp900540045                     \n",
       "32 d__Bacteria;p__Firmicutes_A;c__Clostridia_A;o__Christensenellales;f__Christensenellaceae;g__Catabacter;s__Catabacter hongkongensis\n",
       "   closest_placement_ani closest_placement_af msa_percent translation_table\n",
       "1  100.0                 1.0                  93.63       11               \n",
       "2  N/A                   N/A                  93.95       11               \n",
       "⋮  ⋮                     ⋮                    ⋮           ⋮                \n",
       "31 97.55                 0.82                 93.25       11               \n",
       "32 99.06                 0.96                 89.29       11               \n",
       "   red_value          warnings taxid  taxid_rank\n",
       "1  N/A                N/A      153230 species   \n",
       "2  0.8021254376949831 N/A      160028 family    \n",
       "⋮  ⋮                  ⋮        ⋮      ⋮         \n",
       "31 N/A                N/A      226554 species   \n",
       "32 N/A                N/A      171084 species   "
      ]
     },
     "metadata": {},
     "output_type": "display_data"
    }
   ],
   "source": [
    "# filtering by quality\n",
    "hq_genomes = drep %>%\n",
    "    filter(completeness >= 90,\n",
    "           contamination < 5,\n",
    "           Strain.heterogeneity < 50)\n",
    "hq_genomes"
   ]
  },
  {
   "cell_type": "code",
   "execution_count": 138,
   "metadata": {
    "execution": {
     "iopub.execute_input": "2021-03-23T15:25:44.916533Z",
     "iopub.status.busy": "2021-03-23T15:25:44.914172Z",
     "iopub.status.idle": "2021-03-23T15:25:45.016640Z"
    }
   },
   "outputs": [
    {
     "data": {
      "text/html": [
       "<table class=\"dataframe\">\n",
       "<caption>A data.frame: 10 × 62</caption>\n",
       "<thead>\n",
       "\t<tr><th scope=col>genome</th><th scope=col>completeness</th><th scope=col>contamination</th><th scope=col>Bin.Id</th><th scope=col>Marker.lineage</th><th scope=col>X..genomes</th><th scope=col>X..markers</th><th scope=col>X..marker.sets</th><th scope=col>Completeness</th><th scope=col>Contamination</th><th scope=col>⋯</th><th scope=col>closest_placement_radius</th><th scope=col>closest_placement_taxonomy</th><th scope=col>closest_placement_ani</th><th scope=col>closest_placement_af</th><th scope=col>msa_percent</th><th scope=col>translation_table</th><th scope=col>red_value</th><th scope=col>warnings</th><th scope=col>taxid</th><th scope=col>taxid_rank</th></tr>\n",
       "\t<tr><th scope=col>&lt;chr&gt;</th><th scope=col>&lt;dbl&gt;</th><th scope=col>&lt;dbl&gt;</th><th scope=col>&lt;chr&gt;</th><th scope=col>&lt;chr&gt;</th><th scope=col>&lt;int&gt;</th><th scope=col>&lt;int&gt;</th><th scope=col>&lt;int&gt;</th><th scope=col>&lt;dbl&gt;</th><th scope=col>&lt;dbl&gt;</th><th scope=col>⋯</th><th scope=col>&lt;chr&gt;</th><th scope=col>&lt;chr&gt;</th><th scope=col>&lt;chr&gt;</th><th scope=col>&lt;chr&gt;</th><th scope=col>&lt;dbl&gt;</th><th scope=col>&lt;int&gt;</th><th scope=col>&lt;chr&gt;</th><th scope=col>&lt;chr&gt;</th><th scope=col>&lt;int&gt;</th><th scope=col>&lt;chr&gt;</th></tr>\n",
       "</thead>\n",
       "<tbody>\n",
       "\t<tr><td>/ebio/abt3_scratch/nyoungblut/LLG_62325884640/genomes/GCA_014384805.1_ASM1438480v1_genomic.fna.fna</td><td>97.90</td><td>0.93</td><td>GCA_014384805.1_ASM1438480v1_genomic.fna</td><td>o__Clostridiales (UID1120)</td><td>304</td><td>250</td><td>143</td><td>97.90</td><td>0.93</td><td>⋯</td><td>N/A </td><td>N/A                                                                                                                                          </td><td>N/A  </td><td>N/A</td><td>93.95</td><td>11</td><td>0.8021254376949831</td><td>N/A</td><td>160028</td><td>family </td></tr>\n",
       "\t<tr><td>/ebio/abt3_scratch/nyoungblut/LLG_62325884640/genomes/GCA_900087015.1_PRJEB13910_genomic.fna.fna  </td><td>97.98</td><td>0.81</td><td>GCA_900087015.1_PRJEB13910_genomic.fna  </td><td>c__Clostridia (UID1118)   </td><td>387</td><td>223</td><td>124</td><td>97.98</td><td>0.81</td><td>⋯</td><td>95.0</td><td>d__Bacteria;p__Firmicutes_A;c__Clostridia_A;o__Christensenellales;f__Christensenellaceae;g__Christensenella_A;s__Christensenella_A timonensis</td><td>100.0</td><td>1.0</td><td>95.42</td><td>11</td><td>N/A               </td><td>N/A</td><td>218247</td><td>species</td></tr>\n",
       "\t<tr><td>⋮</td><td>⋮</td><td>⋮</td><td>⋮</td><td>⋮</td><td>⋮</td><td>⋮</td><td>⋮</td><td>⋮</td><td>⋮</td><td>⋱</td><td>⋮</td><td>⋮</td><td>⋮</td><td>⋮</td><td>⋮</td><td>⋮</td><td>⋮</td><td>⋮</td><td>⋮</td><td>⋮</td></tr>\n",
       "\t<tr><td>/ebio/abt3_scratch/nyoungblut/LLG_62325884640/genomes/GUT_GENOME127701.fna.fna</td><td>93.84</td><td>1.40</td><td>GUT_GENOME127701.fna</td><td>o__Clostridiales (UID1120)</td><td>304</td><td>250</td><td>143</td><td>93.84</td><td>1.40</td><td>⋯</td><td>N/A </td><td>N/A                                                                                                                               </td><td>N/A  </td><td>N/A </td><td>87.14</td><td>11</td><td>0.804426009146511</td><td>N/A</td><td>160028</td><td>family </td></tr>\n",
       "\t<tr><td>/ebio/abt3_scratch/nyoungblut/LLG_62325884640/genomes/GUT_GENOME097725.fna.fna</td><td>96.50</td><td>1.81</td><td>GUT_GENOME097725.fna</td><td>o__Clostridiales (UID1120)</td><td>304</td><td>250</td><td>143</td><td>96.50</td><td>1.81</td><td>⋯</td><td>95.0</td><td>d__Bacteria;p__Firmicutes_A;c__Clostridia_A;o__Christensenellales;f__Christensenellaceae;g__Catabacter;s__Catabacter hongkongensis</td><td>99.06</td><td>0.96</td><td>89.29</td><td>11</td><td>N/A              </td><td>N/A</td><td>171084</td><td>species</td></tr>\n",
       "</tbody>\n",
       "</table>\n"
      ],
      "text/latex": [
       "A data.frame: 10 × 62\n",
       "\\begin{tabular}{lllllllllllllllllllll}\n",
       " genome & completeness & contamination & Bin.Id & Marker.lineage & X..genomes & X..markers & X..marker.sets & Completeness & Contamination & ⋯ & closest\\_placement\\_radius & closest\\_placement\\_taxonomy & closest\\_placement\\_ani & closest\\_placement\\_af & msa\\_percent & translation\\_table & red\\_value & warnings & taxid & taxid\\_rank\\\\\n",
       " <chr> & <dbl> & <dbl> & <chr> & <chr> & <int> & <int> & <int> & <dbl> & <dbl> & ⋯ & <chr> & <chr> & <chr> & <chr> & <dbl> & <int> & <chr> & <chr> & <int> & <chr>\\\\\n",
       "\\hline\n",
       "\t /ebio/abt3\\_scratch/nyoungblut/LLG\\_62325884640/genomes/GCA\\_014384805.1\\_ASM1438480v1\\_genomic.fna.fna & 97.90 & 0.93 & GCA\\_014384805.1\\_ASM1438480v1\\_genomic.fna & o\\_\\_Clostridiales (UID1120) & 304 & 250 & 143 & 97.90 & 0.93 & ⋯ & N/A  & N/A                                                                                                                                           & N/A   & N/A & 93.95 & 11 & 0.8021254376949831 & N/A & 160028 & family \\\\\n",
       "\t /ebio/abt3\\_scratch/nyoungblut/LLG\\_62325884640/genomes/GCA\\_900087015.1\\_PRJEB13910\\_genomic.fna.fna   & 97.98 & 0.81 & GCA\\_900087015.1\\_PRJEB13910\\_genomic.fna   & c\\_\\_Clostridia (UID1118)    & 387 & 223 & 124 & 97.98 & 0.81 & ⋯ & 95.0 & d\\_\\_Bacteria;p\\_\\_Firmicutes\\_A;c\\_\\_Clostridia\\_A;o\\_\\_Christensenellales;f\\_\\_Christensenellaceae;g\\_\\_Christensenella\\_A;s\\_\\_Christensenella\\_A timonensis & 100.0 & 1.0 & 95.42 & 11 & N/A                & N/A & 218247 & species\\\\\n",
       "\t ⋮ & ⋮ & ⋮ & ⋮ & ⋮ & ⋮ & ⋮ & ⋮ & ⋮ & ⋮ & ⋱ & ⋮ & ⋮ & ⋮ & ⋮ & ⋮ & ⋮ & ⋮ & ⋮ & ⋮ & ⋮\\\\\n",
       "\t /ebio/abt3\\_scratch/nyoungblut/LLG\\_62325884640/genomes/GUT\\_GENOME127701.fna.fna & 93.84 & 1.40 & GUT\\_GENOME127701.fna & o\\_\\_Clostridiales (UID1120) & 304 & 250 & 143 & 93.84 & 1.40 & ⋯ & N/A  & N/A                                                                                                                                & N/A   & N/A  & 87.14 & 11 & 0.804426009146511 & N/A & 160028 & family \\\\\n",
       "\t /ebio/abt3\\_scratch/nyoungblut/LLG\\_62325884640/genomes/GUT\\_GENOME097725.fna.fna & 96.50 & 1.81 & GUT\\_GENOME097725.fna & o\\_\\_Clostridiales (UID1120) & 304 & 250 & 143 & 96.50 & 1.81 & ⋯ & 95.0 & d\\_\\_Bacteria;p\\_\\_Firmicutes\\_A;c\\_\\_Clostridia\\_A;o\\_\\_Christensenellales;f\\_\\_Christensenellaceae;g\\_\\_Catabacter;s\\_\\_Catabacter hongkongensis & 99.06 & 0.96 & 89.29 & 11 & N/A               & N/A & 171084 & species\\\\\n",
       "\\end{tabular}\n"
      ],
      "text/markdown": [
       "\n",
       "A data.frame: 10 × 62\n",
       "\n",
       "| genome &lt;chr&gt; | completeness &lt;dbl&gt; | contamination &lt;dbl&gt; | Bin.Id &lt;chr&gt; | Marker.lineage &lt;chr&gt; | X..genomes &lt;int&gt; | X..markers &lt;int&gt; | X..marker.sets &lt;int&gt; | Completeness &lt;dbl&gt; | Contamination &lt;dbl&gt; | ⋯ ⋯ | closest_placement_radius &lt;chr&gt; | closest_placement_taxonomy &lt;chr&gt; | closest_placement_ani &lt;chr&gt; | closest_placement_af &lt;chr&gt; | msa_percent &lt;dbl&gt; | translation_table &lt;int&gt; | red_value &lt;chr&gt; | warnings &lt;chr&gt; | taxid &lt;int&gt; | taxid_rank &lt;chr&gt; |\n",
       "|---|---|---|---|---|---|---|---|---|---|---|---|---|---|---|---|---|---|---|---|---|\n",
       "| /ebio/abt3_scratch/nyoungblut/LLG_62325884640/genomes/GCA_014384805.1_ASM1438480v1_genomic.fna.fna | 97.90 | 0.93 | GCA_014384805.1_ASM1438480v1_genomic.fna | o__Clostridiales (UID1120) | 304 | 250 | 143 | 97.90 | 0.93 | ⋯ | N/A  | N/A                                                                                                                                           | N/A   | N/A | 93.95 | 11 | 0.8021254376949831 | N/A | 160028 | family  |\n",
       "| /ebio/abt3_scratch/nyoungblut/LLG_62325884640/genomes/GCA_900087015.1_PRJEB13910_genomic.fna.fna   | 97.98 | 0.81 | GCA_900087015.1_PRJEB13910_genomic.fna   | c__Clostridia (UID1118)    | 387 | 223 | 124 | 97.98 | 0.81 | ⋯ | 95.0 | d__Bacteria;p__Firmicutes_A;c__Clostridia_A;o__Christensenellales;f__Christensenellaceae;g__Christensenella_A;s__Christensenella_A timonensis | 100.0 | 1.0 | 95.42 | 11 | N/A                | N/A | 218247 | species |\n",
       "| ⋮ | ⋮ | ⋮ | ⋮ | ⋮ | ⋮ | ⋮ | ⋮ | ⋮ | ⋮ | ⋱ | ⋮ | ⋮ | ⋮ | ⋮ | ⋮ | ⋮ | ⋮ | ⋮ | ⋮ | ⋮ |\n",
       "| /ebio/abt3_scratch/nyoungblut/LLG_62325884640/genomes/GUT_GENOME127701.fna.fna | 93.84 | 1.40 | GUT_GENOME127701.fna | o__Clostridiales (UID1120) | 304 | 250 | 143 | 93.84 | 1.40 | ⋯ | N/A  | N/A                                                                                                                                | N/A   | N/A  | 87.14 | 11 | 0.804426009146511 | N/A | 160028 | family  |\n",
       "| /ebio/abt3_scratch/nyoungblut/LLG_62325884640/genomes/GUT_GENOME097725.fna.fna | 96.50 | 1.81 | GUT_GENOME097725.fna | o__Clostridiales (UID1120) | 304 | 250 | 143 | 96.50 | 1.81 | ⋯ | 95.0 | d__Bacteria;p__Firmicutes_A;c__Clostridia_A;o__Christensenellales;f__Christensenellaceae;g__Catabacter;s__Catabacter hongkongensis | 99.06 | 0.96 | 89.29 | 11 | N/A               | N/A | 171084 | species |\n",
       "\n"
      ],
      "text/plain": [
       "   genome                                                                                            \n",
       "1  /ebio/abt3_scratch/nyoungblut/LLG_62325884640/genomes/GCA_014384805.1_ASM1438480v1_genomic.fna.fna\n",
       "2  /ebio/abt3_scratch/nyoungblut/LLG_62325884640/genomes/GCA_900087015.1_PRJEB13910_genomic.fna.fna  \n",
       "⋮  ⋮                                                                                                 \n",
       "9  /ebio/abt3_scratch/nyoungblut/LLG_62325884640/genomes/GUT_GENOME127701.fna.fna                    \n",
       "10 /ebio/abt3_scratch/nyoungblut/LLG_62325884640/genomes/GUT_GENOME097725.fna.fna                    \n",
       "   completeness contamination Bin.Id                                  \n",
       "1  97.90        0.93          GCA_014384805.1_ASM1438480v1_genomic.fna\n",
       "2  97.98        0.81          GCA_900087015.1_PRJEB13910_genomic.fna  \n",
       "⋮  ⋮            ⋮             ⋮                                       \n",
       "9  93.84        1.40          GUT_GENOME127701.fna                    \n",
       "10 96.50        1.81          GUT_GENOME097725.fna                    \n",
       "   Marker.lineage             X..genomes X..markers X..marker.sets Completeness\n",
       "1  o__Clostridiales (UID1120) 304        250        143            97.90       \n",
       "2  c__Clostridia (UID1118)    387        223        124            97.98       \n",
       "⋮  ⋮                          ⋮          ⋮          ⋮              ⋮           \n",
       "9  o__Clostridiales (UID1120) 304        250        143            93.84       \n",
       "10 o__Clostridiales (UID1120) 304        250        143            96.50       \n",
       "   Contamination ⋯ closest_placement_radius\n",
       "1  0.93          ⋯ N/A                     \n",
       "2  0.81          ⋯ 95.0                    \n",
       "⋮  ⋮             ⋱ ⋮                       \n",
       "9  1.40          ⋯ N/A                     \n",
       "10 1.81          ⋯ 95.0                    \n",
       "   closest_placement_taxonomy                                                                                                                   \n",
       "1  N/A                                                                                                                                          \n",
       "2  d__Bacteria;p__Firmicutes_A;c__Clostridia_A;o__Christensenellales;f__Christensenellaceae;g__Christensenella_A;s__Christensenella_A timonensis\n",
       "⋮  ⋮                                                                                                                                            \n",
       "9  N/A                                                                                                                                          \n",
       "10 d__Bacteria;p__Firmicutes_A;c__Clostridia_A;o__Christensenellales;f__Christensenellaceae;g__Catabacter;s__Catabacter hongkongensis           \n",
       "   closest_placement_ani closest_placement_af msa_percent translation_table\n",
       "1  N/A                   N/A                  93.95       11               \n",
       "2  100.0                 1.0                  95.42       11               \n",
       "⋮  ⋮                     ⋮                    ⋮           ⋮                \n",
       "9  N/A                   N/A                  87.14       11               \n",
       "10 99.06                 0.96                 89.29       11               \n",
       "   red_value          warnings taxid  taxid_rank\n",
       "1  0.8021254376949831 N/A      160028 family    \n",
       "2  N/A                N/A      218247 species   \n",
       "⋮  ⋮                  ⋮        ⋮      ⋮         \n",
       "9  0.804426009146511  N/A      160028 family    \n",
       "10 N/A                N/A      171084 species   "
      ]
     },
     "metadata": {},
     "output_type": "display_data"
    }
   ],
   "source": [
    "# filtering by taxonomy\n",
    "hq_genomes = hq_genomes %>%\n",
    "    filter(Family == 'f__Christensenellaceae') \n",
    "hq_genomes"
   ]
  },
  {
   "cell_type": "code",
   "execution_count": 139,
   "metadata": {
    "execution": {
     "iopub.execute_input": "2021-03-23T15:25:47.674959Z",
     "iopub.status.busy": "2021-03-23T15:25:47.672704Z",
     "iopub.status.idle": "2021-03-23T15:25:47.711171Z"
    }
   },
   "outputs": [
    {
     "data": {
      "text/html": [
       "<table class=\"dataframe\">\n",
       "<caption>A tibble: 8 × 5</caption>\n",
       "<thead>\n",
       "\t<tr><th></th><th scope=col>Order</th><th scope=col>Family</th><th scope=col>Genus</th><th scope=col>Species</th><th scope=col>n_genomes</th></tr>\n",
       "\t<tr><th></th><th scope=col>&lt;chr&gt;</th><th scope=col>&lt;chr&gt;</th><th scope=col>&lt;chr&gt;</th><th scope=col>&lt;chr&gt;</th><th scope=col>&lt;int&gt;</th></tr>\n",
       "</thead>\n",
       "<tbody>\n",
       "\t<tr><th scope=row>1</th><td>o__Christensenellales</td><td>f__Christensenellaceae</td><td>g__                 </td><td>s__                            </td><td>2</td></tr>\n",
       "\t<tr><th scope=row>2</th><td>o__Christensenellales</td><td>f__Christensenellaceae</td><td>g__Catabacter       </td><td>s__Catabacter hongkongensis    </td><td>1</td></tr>\n",
       "\t<tr><th scope=row>3</th><td>o__Christensenellales</td><td>f__Christensenellaceae</td><td>g__Christensenella  </td><td>s__                            </td><td>1</td></tr>\n",
       "\t<tr><th scope=row>4</th><td>o__Christensenellales</td><td>f__Christensenellaceae</td><td>g__Christensenella  </td><td>s__Christensenella massiliensis</td><td>1</td></tr>\n",
       "\t<tr><th scope=row>5</th><td>o__Christensenellales</td><td>f__Christensenellaceae</td><td>g__Christensenella  </td><td>s__Christensenella minuta      </td><td>1</td></tr>\n",
       "\t<tr><th scope=row>6</th><td>o__Christensenellales</td><td>f__Christensenellaceae</td><td>g__Christensenella  </td><td>s__Christensenella sp001678845 </td><td>1</td></tr>\n",
       "\t<tr><th scope=row>7</th><td>o__Christensenellales</td><td>f__Christensenellaceae</td><td>g__Christensenella_A</td><td>s__Christensenella_A timonensis</td><td>1</td></tr>\n",
       "\t<tr><th scope=row>8</th><td>o__Christensenellales</td><td>f__Christensenellaceae</td><td>g__UMGS743          </td><td>s__UMGS743 sp900545085         </td><td>2</td></tr>\n",
       "</tbody>\n",
       "</table>\n"
      ],
      "text/latex": [
       "A tibble: 8 × 5\n",
       "\\begin{tabular}{r|lllll}\n",
       "  & Order & Family & Genus & Species & n\\_genomes\\\\\n",
       "  & <chr> & <chr> & <chr> & <chr> & <int>\\\\\n",
       "\\hline\n",
       "\t1 & o\\_\\_Christensenellales & f\\_\\_Christensenellaceae & g\\_\\_                  & s\\_\\_                             & 2\\\\\n",
       "\t2 & o\\_\\_Christensenellales & f\\_\\_Christensenellaceae & g\\_\\_Catabacter        & s\\_\\_Catabacter hongkongensis     & 1\\\\\n",
       "\t3 & o\\_\\_Christensenellales & f\\_\\_Christensenellaceae & g\\_\\_Christensenella   & s\\_\\_                             & 1\\\\\n",
       "\t4 & o\\_\\_Christensenellales & f\\_\\_Christensenellaceae & g\\_\\_Christensenella   & s\\_\\_Christensenella massiliensis & 1\\\\\n",
       "\t5 & o\\_\\_Christensenellales & f\\_\\_Christensenellaceae & g\\_\\_Christensenella   & s\\_\\_Christensenella minuta       & 1\\\\\n",
       "\t6 & o\\_\\_Christensenellales & f\\_\\_Christensenellaceae & g\\_\\_Christensenella   & s\\_\\_Christensenella sp001678845  & 1\\\\\n",
       "\t7 & o\\_\\_Christensenellales & f\\_\\_Christensenellaceae & g\\_\\_Christensenella\\_A & s\\_\\_Christensenella\\_A timonensis & 1\\\\\n",
       "\t8 & o\\_\\_Christensenellales & f\\_\\_Christensenellaceae & g\\_\\_UMGS743           & s\\_\\_UMGS743 sp900545085          & 2\\\\\n",
       "\\end{tabular}\n"
      ],
      "text/markdown": [
       "\n",
       "A tibble: 8 × 5\n",
       "\n",
       "| <!--/--> | Order &lt;chr&gt; | Family &lt;chr&gt; | Genus &lt;chr&gt; | Species &lt;chr&gt; | n_genomes &lt;int&gt; |\n",
       "|---|---|---|---|---|---|\n",
       "| 1 | o__Christensenellales | f__Christensenellaceae | g__                  | s__                             | 2 |\n",
       "| 2 | o__Christensenellales | f__Christensenellaceae | g__Catabacter        | s__Catabacter hongkongensis     | 1 |\n",
       "| 3 | o__Christensenellales | f__Christensenellaceae | g__Christensenella   | s__                             | 1 |\n",
       "| 4 | o__Christensenellales | f__Christensenellaceae | g__Christensenella   | s__Christensenella massiliensis | 1 |\n",
       "| 5 | o__Christensenellales | f__Christensenellaceae | g__Christensenella   | s__Christensenella minuta       | 1 |\n",
       "| 6 | o__Christensenellales | f__Christensenellaceae | g__Christensenella   | s__Christensenella sp001678845  | 1 |\n",
       "| 7 | o__Christensenellales | f__Christensenellaceae | g__Christensenella_A | s__Christensenella_A timonensis | 1 |\n",
       "| 8 | o__Christensenellales | f__Christensenellaceae | g__UMGS743           | s__UMGS743 sp900545085          | 2 |\n",
       "\n"
      ],
      "text/plain": [
       "  Order                 Family                 Genus               \n",
       "1 o__Christensenellales f__Christensenellaceae g__                 \n",
       "2 o__Christensenellales f__Christensenellaceae g__Catabacter       \n",
       "3 o__Christensenellales f__Christensenellaceae g__Christensenella  \n",
       "4 o__Christensenellales f__Christensenellaceae g__Christensenella  \n",
       "5 o__Christensenellales f__Christensenellaceae g__Christensenella  \n",
       "6 o__Christensenellales f__Christensenellaceae g__Christensenella  \n",
       "7 o__Christensenellales f__Christensenellaceae g__Christensenella_A\n",
       "8 o__Christensenellales f__Christensenellaceae g__UMGS743          \n",
       "  Species                         n_genomes\n",
       "1 s__                             2        \n",
       "2 s__Catabacter hongkongensis     1        \n",
       "3 s__                             1        \n",
       "4 s__Christensenella massiliensis 1        \n",
       "5 s__Christensenella minuta       1        \n",
       "6 s__Christensenella sp001678845  1        \n",
       "7 s__Christensenella_A timonensis 1        \n",
       "8 s__UMGS743 sp900545085          2        "
      ]
     },
     "metadata": {},
     "output_type": "display_data"
    }
   ],
   "source": [
    "# summarizing the taxonomy\n",
    "df.dims(20)\n",
    "hq_genomes %>%\n",
    "    group_by(Order, Family, Genus, Species) %>%\n",
    "    summarize(n_genomes = n(), .groups='drop')\n",
    "df.dims()"
   ]
  },
  {
   "cell_type": "code",
   "execution_count": 140,
   "metadata": {
    "execution": {
     "iopub.execute_input": "2021-03-23T15:25:50.011986Z",
     "iopub.status.busy": "2021-03-23T15:25:50.009627Z",
     "iopub.status.idle": "2021-03-23T15:25:50.070757Z"
    }
   },
   "outputs": [
    {
     "data": {
      "text/html": [
       "<table class=\"dataframe\">\n",
       "<caption>A matrix: 1 × 8 of type dbl</caption>\n",
       "<thead>\n",
       "\t<tr><th></th><th scope=col>Min.</th><th scope=col>1st Qu.</th><th scope=col>Median</th><th scope=col>Mean</th><th scope=col>3rd Qu.</th><th scope=col>Max.</th><th scope=col>sd</th><th scope=col>sd_err_of_mean</th></tr>\n",
       "</thead>\n",
       "<tbody>\n",
       "\t<tr><th scope=row>Completeness</th><td>90.31</td><td>94.9325</td><td>97.94</td><td>96.65</td><td>98.69</td><td>99.19</td><td>3.305</td><td>1.349</td></tr>\n",
       "</tbody>\n",
       "</table>\n"
      ],
      "text/latex": [
       "A matrix: 1 × 8 of type dbl\n",
       "\\begin{tabular}{r|llllllll}\n",
       "  & Min. & 1st Qu. & Median & Mean & 3rd Qu. & Max. & sd & sd\\_err\\_of\\_mean\\\\\n",
       "\\hline\n",
       "\tCompleteness & 90.31 & 94.9325 & 97.94 & 96.65 & 98.69 & 99.19 & 3.305 & 1.349\\\\\n",
       "\\end{tabular}\n"
      ],
      "text/markdown": [
       "\n",
       "A matrix: 1 × 8 of type dbl\n",
       "\n",
       "| <!--/--> | Min. | 1st Qu. | Median | Mean | 3rd Qu. | Max. | sd | sd_err_of_mean |\n",
       "|---|---|---|---|---|---|---|---|---|\n",
       "| Completeness | 90.31 | 94.9325 | 97.94 | 96.65 | 98.69 | 99.19 | 3.305 | 1.349 |\n",
       "\n"
      ],
      "text/plain": [
       "             Min.  1st Qu. Median Mean  3rd Qu. Max.  sd    sd_err_of_mean\n",
       "Completeness 90.31 94.9325 97.94  96.65 98.69   99.19 3.305 1.349         "
      ]
     },
     "metadata": {},
     "output_type": "display_data"
    },
    {
     "data": {
      "text/html": [
       "<table class=\"dataframe\">\n",
       "<caption>A matrix: 1 × 8 of type dbl</caption>\n",
       "<thead>\n",
       "\t<tr><th></th><th scope=col>Min.</th><th scope=col>1st Qu.</th><th scope=col>Median</th><th scope=col>Mean</th><th scope=col>3rd Qu.</th><th scope=col>Max.</th><th scope=col>sd</th><th scope=col>sd_err_of_mean</th></tr>\n",
       "</thead>\n",
       "<tbody>\n",
       "\t<tr><th scope=row>No. of contigs</th><td>1</td><td>4</td><td>25.5</td><td>86.9</td><td>172.75</td><td>285</td><td>113.273</td><td>46.243</td></tr>\n",
       "</tbody>\n",
       "</table>\n"
      ],
      "text/latex": [
       "A matrix: 1 × 8 of type dbl\n",
       "\\begin{tabular}{r|llllllll}\n",
       "  & Min. & 1st Qu. & Median & Mean & 3rd Qu. & Max. & sd & sd\\_err\\_of\\_mean\\\\\n",
       "\\hline\n",
       "\tNo. of contigs & 1 & 4 & 25.5 & 86.9 & 172.75 & 285 & 113.273 & 46.243\\\\\n",
       "\\end{tabular}\n"
      ],
      "text/markdown": [
       "\n",
       "A matrix: 1 × 8 of type dbl\n",
       "\n",
       "| <!--/--> | Min. | 1st Qu. | Median | Mean | 3rd Qu. | Max. | sd | sd_err_of_mean |\n",
       "|---|---|---|---|---|---|---|---|---|\n",
       "| No. of contigs | 1 | 4 | 25.5 | 86.9 | 172.75 | 285 | 113.273 | 46.243 |\n",
       "\n"
      ],
      "text/plain": [
       "               Min. 1st Qu. Median Mean 3rd Qu. Max. sd      sd_err_of_mean\n",
       "No. of contigs 1    4       25.5   86.9 172.75  285  113.273 46.243        "
      ]
     },
     "metadata": {},
     "output_type": "display_data"
    },
    {
     "data": {
      "text/html": [
       "<table class=\"dataframe\">\n",
       "<caption>A matrix: 1 × 8 of type dbl</caption>\n",
       "<thead>\n",
       "\t<tr><th></th><th scope=col>Min.</th><th scope=col>1st Qu.</th><th scope=col>Median</th><th scope=col>Mean</th><th scope=col>3rd Qu.</th><th scope=col>Max.</th><th scope=col>sd</th><th scope=col>sd_err_of_mean</th></tr>\n",
       "</thead>\n",
       "<tbody>\n",
       "\t<tr><th scope=row>Mean contig length</th><td>6782</td><td>13449.75</td><td>142898.5</td><td>740514.5</td><td>1049146</td><td>2969292</td><td>1135658</td><td>463630.4</td></tr>\n",
       "</tbody>\n",
       "</table>\n"
      ],
      "text/latex": [
       "A matrix: 1 × 8 of type dbl\n",
       "\\begin{tabular}{r|llllllll}\n",
       "  & Min. & 1st Qu. & Median & Mean & 3rd Qu. & Max. & sd & sd\\_err\\_of\\_mean\\\\\n",
       "\\hline\n",
       "\tMean contig length & 6782 & 13449.75 & 142898.5 & 740514.5 & 1049146 & 2969292 & 1135658 & 463630.4\\\\\n",
       "\\end{tabular}\n"
      ],
      "text/markdown": [
       "\n",
       "A matrix: 1 × 8 of type dbl\n",
       "\n",
       "| <!--/--> | Min. | 1st Qu. | Median | Mean | 3rd Qu. | Max. | sd | sd_err_of_mean |\n",
       "|---|---|---|---|---|---|---|---|---|\n",
       "| Mean contig length | 6782 | 13449.75 | 142898.5 | 740514.5 | 1049146 | 2969292 | 1135658 | 463630.4 |\n",
       "\n"
      ],
      "text/plain": [
       "                   Min. 1st Qu.  Median   Mean     3rd Qu. Max.    sd     \n",
       "Mean contig length 6782 13449.75 142898.5 740514.5 1049146 2969292 1135658\n",
       "                   sd_err_of_mean\n",
       "Mean contig length 463630.4      "
      ]
     },
     "metadata": {},
     "output_type": "display_data"
    },
    {
     "data": {
      "text/html": [
       "<table class=\"dataframe\">\n",
       "<caption>A matrix: 1 × 8 of type dbl</caption>\n",
       "<thead>\n",
       "\t<tr><th></th><th scope=col>Min.</th><th scope=col>1st Qu.</th><th scope=col>Median</th><th scope=col>Mean</th><th scope=col>3rd Qu.</th><th scope=col>Max.</th><th scope=col>sd</th><th scope=col>sd_err_of_mean</th></tr>\n",
       "</thead>\n",
       "<tbody>\n",
       "\t<tr><th scope=row>No. of genes</th><td>1725</td><td>1929.5</td><td>2433.5</td><td>2347.9</td><td>2761.25</td><td>2870</td><td>450.282</td><td>183.827</td></tr>\n",
       "</tbody>\n",
       "</table>\n"
      ],
      "text/latex": [
       "A matrix: 1 × 8 of type dbl\n",
       "\\begin{tabular}{r|llllllll}\n",
       "  & Min. & 1st Qu. & Median & Mean & 3rd Qu. & Max. & sd & sd\\_err\\_of\\_mean\\\\\n",
       "\\hline\n",
       "\tNo. of genes & 1725 & 1929.5 & 2433.5 & 2347.9 & 2761.25 & 2870 & 450.282 & 183.827\\\\\n",
       "\\end{tabular}\n"
      ],
      "text/markdown": [
       "\n",
       "A matrix: 1 × 8 of type dbl\n",
       "\n",
       "| <!--/--> | Min. | 1st Qu. | Median | Mean | 3rd Qu. | Max. | sd | sd_err_of_mean |\n",
       "|---|---|---|---|---|---|---|---|---|\n",
       "| No. of genes | 1725 | 1929.5 | 2433.5 | 2347.9 | 2761.25 | 2870 | 450.282 | 183.827 |\n",
       "\n"
      ],
      "text/plain": [
       "             Min. 1st Qu. Median Mean   3rd Qu. Max. sd      sd_err_of_mean\n",
       "No. of genes 1725 1929.5  2433.5 2347.9 2761.25 2870 450.282 183.827       "
      ]
     },
     "metadata": {},
     "output_type": "display_data"
    },
    {
     "data": {
      "text/html": [
       "<table class=\"dataframe\">\n",
       "<caption>A matrix: 1 × 8 of type dbl</caption>\n",
       "<thead>\n",
       "\t<tr><th></th><th scope=col>Min.</th><th scope=col>1st Qu.</th><th scope=col>Median</th><th scope=col>Mean</th><th scope=col>3rd Qu.</th><th scope=col>Max.</th><th scope=col>sd</th><th scope=col>sd_err_of_mean</th></tr>\n",
       "</thead>\n",
       "<tbody>\n",
       "\t<tr><th scope=row>N50</th><td>9164</td><td>18118.25</td><td>308570</td><td>888548.6</td><td>1827399</td><td>2969292</td><td>1183129</td><td>483010.4</td></tr>\n",
       "</tbody>\n",
       "</table>\n"
      ],
      "text/latex": [
       "A matrix: 1 × 8 of type dbl\n",
       "\\begin{tabular}{r|llllllll}\n",
       "  & Min. & 1st Qu. & Median & Mean & 3rd Qu. & Max. & sd & sd\\_err\\_of\\_mean\\\\\n",
       "\\hline\n",
       "\tN50 & 9164 & 18118.25 & 308570 & 888548.6 & 1827399 & 2969292 & 1183129 & 483010.4\\\\\n",
       "\\end{tabular}\n"
      ],
      "text/markdown": [
       "\n",
       "A matrix: 1 × 8 of type dbl\n",
       "\n",
       "| <!--/--> | Min. | 1st Qu. | Median | Mean | 3rd Qu. | Max. | sd | sd_err_of_mean |\n",
       "|---|---|---|---|---|---|---|---|---|\n",
       "| N50 | 9164 | 18118.25 | 308570 | 888548.6 | 1827399 | 2969292 | 1183129 | 483010.4 |\n",
       "\n"
      ],
      "text/plain": [
       "    Min. 1st Qu.  Median Mean     3rd Qu. Max.    sd      sd_err_of_mean\n",
       "N50 9164 18118.25 308570 888548.6 1827399 2969292 1183129 483010.4      "
      ]
     },
     "metadata": {},
     "output_type": "display_data"
    }
   ],
   "source": [
    "# summarizing\n",
    "hq_genomes$Completeness %>% summary_x('Completeness')\n",
    "hq_genomes$X..contigs %>% summary_x('No. of contigs')\n",
    "hq_genomes$Mean.contig.length..bp. %>% summary_x('Mean contig length')\n",
    "hq_genomes$X..predicted.genes %>% summary_x('No. of genes')\n",
    "hq_genomes$N50..contigs. %>% summary_x('N50')"
   ]
  },
  {
   "cell_type": "code",
   "execution_count": 143,
   "metadata": {
    "execution": {
     "iopub.execute_input": "2021-03-23T15:26:38.245753Z",
     "iopub.status.busy": "2021-03-23T15:26:38.243400Z",
     "iopub.status.idle": "2021-03-23T15:26:38.282619Z"
    }
   },
   "outputs": [
    {
     "data": {
      "text/html": [
       "<table class=\"dataframe\">\n",
       "<caption>A data.frame: 10 × 3</caption>\n",
       "<thead>\n",
       "\t<tr><th scope=col>genome</th><th scope=col>Genus</th><th scope=col>Species</th></tr>\n",
       "\t<tr><th scope=col>&lt;chr&gt;</th><th scope=col>&lt;chr&gt;</th><th scope=col>&lt;chr&gt;</th></tr>\n",
       "</thead>\n",
       "<tbody>\n",
       "\t<tr><td>/ebio/abt3_scratch/nyoungblut/LLG_62325884640/genomes/GCA_014384805.1_ASM1438480v1_genomic.fna.fna</td><td>g__                 </td><td>s__                            </td></tr>\n",
       "\t<tr><td>/ebio/abt3_scratch/nyoungblut/LLG_62325884640/genomes/GCA_900087015.1_PRJEB13910_genomic.fna.fna  </td><td>g__Christensenella_A</td><td>s__Christensenella_A timonensis</td></tr>\n",
       "\t<tr><td>/ebio/abt3_scratch/nyoungblut/LLG_62325884640/genomes/GUT_GENOME194019.fna.fna                    </td><td>g__UMGS743          </td><td>s__UMGS743 sp900545085         </td></tr>\n",
       "\t<tr><td>/ebio/abt3_scratch/nyoungblut/LLG_62325884640/genomes/GCA_900155415.1_PRJEB13909b_genomic.fna.fna </td><td>g__Christensenella  </td><td>s__Christensenella massiliensis</td></tr>\n",
       "\t<tr><td>/ebio/abt3_scratch/nyoungblut/LLG_62325884640/genomes/GCA_001678845.1_ASM167884v1_genomic.fna.fna </td><td>g__Christensenella  </td><td>s__Christensenella sp001678845 </td></tr>\n",
       "\t<tr><td>/ebio/abt3_scratch/nyoungblut/LLG_62325884640/genomes/GCA_003628755.1_ASM362875v1_genomic.fna.fna </td><td>g__Christensenella  </td><td>s__Christensenella minuta      </td></tr>\n",
       "\t<tr><td>/ebio/abt3_scratch/nyoungblut/LLG_62325884640/genomes/GCA_014287795.1_ASM1428779v1_genomic.fna.fna</td><td>g__Christensenella  </td><td>s__                            </td></tr>\n",
       "\t<tr><td>/ebio/abt3_scratch/nyoungblut/LLG_62325884640/genomes/GUT_GENOME094667.fna.fna                    </td><td>g__UMGS743          </td><td>s__UMGS743 sp900545085         </td></tr>\n",
       "\t<tr><td>/ebio/abt3_scratch/nyoungblut/LLG_62325884640/genomes/GUT_GENOME127701.fna.fna                    </td><td>g__                 </td><td>s__                            </td></tr>\n",
       "\t<tr><td>/ebio/abt3_scratch/nyoungblut/LLG_62325884640/genomes/GUT_GENOME097725.fna.fna                    </td><td>g__Catabacter       </td><td>s__Catabacter hongkongensis    </td></tr>\n",
       "</tbody>\n",
       "</table>\n"
      ],
      "text/latex": [
       "A data.frame: 10 × 3\n",
       "\\begin{tabular}{lll}\n",
       " genome & Genus & Species\\\\\n",
       " <chr> & <chr> & <chr>\\\\\n",
       "\\hline\n",
       "\t /ebio/abt3\\_scratch/nyoungblut/LLG\\_62325884640/genomes/GCA\\_014384805.1\\_ASM1438480v1\\_genomic.fna.fna & g\\_\\_                  & s\\_\\_                            \\\\\n",
       "\t /ebio/abt3\\_scratch/nyoungblut/LLG\\_62325884640/genomes/GCA\\_900087015.1\\_PRJEB13910\\_genomic.fna.fna   & g\\_\\_Christensenella\\_A & s\\_\\_Christensenella\\_A timonensis\\\\\n",
       "\t /ebio/abt3\\_scratch/nyoungblut/LLG\\_62325884640/genomes/GUT\\_GENOME194019.fna.fna                     & g\\_\\_UMGS743           & s\\_\\_UMGS743 sp900545085         \\\\\n",
       "\t /ebio/abt3\\_scratch/nyoungblut/LLG\\_62325884640/genomes/GCA\\_900155415.1\\_PRJEB13909b\\_genomic.fna.fna  & g\\_\\_Christensenella   & s\\_\\_Christensenella massiliensis\\\\\n",
       "\t /ebio/abt3\\_scratch/nyoungblut/LLG\\_62325884640/genomes/GCA\\_001678845.1\\_ASM167884v1\\_genomic.fna.fna  & g\\_\\_Christensenella   & s\\_\\_Christensenella sp001678845 \\\\\n",
       "\t /ebio/abt3\\_scratch/nyoungblut/LLG\\_62325884640/genomes/GCA\\_003628755.1\\_ASM362875v1\\_genomic.fna.fna  & g\\_\\_Christensenella   & s\\_\\_Christensenella minuta      \\\\\n",
       "\t /ebio/abt3\\_scratch/nyoungblut/LLG\\_62325884640/genomes/GCA\\_014287795.1\\_ASM1428779v1\\_genomic.fna.fna & g\\_\\_Christensenella   & s\\_\\_                            \\\\\n",
       "\t /ebio/abt3\\_scratch/nyoungblut/LLG\\_62325884640/genomes/GUT\\_GENOME094667.fna.fna                     & g\\_\\_UMGS743           & s\\_\\_UMGS743 sp900545085         \\\\\n",
       "\t /ebio/abt3\\_scratch/nyoungblut/LLG\\_62325884640/genomes/GUT\\_GENOME127701.fna.fna                     & g\\_\\_                  & s\\_\\_                            \\\\\n",
       "\t /ebio/abt3\\_scratch/nyoungblut/LLG\\_62325884640/genomes/GUT\\_GENOME097725.fna.fna                     & g\\_\\_Catabacter        & s\\_\\_Catabacter hongkongensis    \\\\\n",
       "\\end{tabular}\n"
      ],
      "text/markdown": [
       "\n",
       "A data.frame: 10 × 3\n",
       "\n",
       "| genome &lt;chr&gt; | Genus &lt;chr&gt; | Species &lt;chr&gt; |\n",
       "|---|---|---|\n",
       "| /ebio/abt3_scratch/nyoungblut/LLG_62325884640/genomes/GCA_014384805.1_ASM1438480v1_genomic.fna.fna | g__                  | s__                             |\n",
       "| /ebio/abt3_scratch/nyoungblut/LLG_62325884640/genomes/GCA_900087015.1_PRJEB13910_genomic.fna.fna   | g__Christensenella_A | s__Christensenella_A timonensis |\n",
       "| /ebio/abt3_scratch/nyoungblut/LLG_62325884640/genomes/GUT_GENOME194019.fna.fna                     | g__UMGS743           | s__UMGS743 sp900545085          |\n",
       "| /ebio/abt3_scratch/nyoungblut/LLG_62325884640/genomes/GCA_900155415.1_PRJEB13909b_genomic.fna.fna  | g__Christensenella   | s__Christensenella massiliensis |\n",
       "| /ebio/abt3_scratch/nyoungblut/LLG_62325884640/genomes/GCA_001678845.1_ASM167884v1_genomic.fna.fna  | g__Christensenella   | s__Christensenella sp001678845  |\n",
       "| /ebio/abt3_scratch/nyoungblut/LLG_62325884640/genomes/GCA_003628755.1_ASM362875v1_genomic.fna.fna  | g__Christensenella   | s__Christensenella minuta       |\n",
       "| /ebio/abt3_scratch/nyoungblut/LLG_62325884640/genomes/GCA_014287795.1_ASM1428779v1_genomic.fna.fna | g__Christensenella   | s__                             |\n",
       "| /ebio/abt3_scratch/nyoungblut/LLG_62325884640/genomes/GUT_GENOME094667.fna.fna                     | g__UMGS743           | s__UMGS743 sp900545085          |\n",
       "| /ebio/abt3_scratch/nyoungblut/LLG_62325884640/genomes/GUT_GENOME127701.fna.fna                     | g__                  | s__                             |\n",
       "| /ebio/abt3_scratch/nyoungblut/LLG_62325884640/genomes/GUT_GENOME097725.fna.fna                     | g__Catabacter        | s__Catabacter hongkongensis     |\n",
       "\n"
      ],
      "text/plain": [
       "   genome                                                                                            \n",
       "1  /ebio/abt3_scratch/nyoungblut/LLG_62325884640/genomes/GCA_014384805.1_ASM1438480v1_genomic.fna.fna\n",
       "2  /ebio/abt3_scratch/nyoungblut/LLG_62325884640/genomes/GCA_900087015.1_PRJEB13910_genomic.fna.fna  \n",
       "3  /ebio/abt3_scratch/nyoungblut/LLG_62325884640/genomes/GUT_GENOME194019.fna.fna                    \n",
       "4  /ebio/abt3_scratch/nyoungblut/LLG_62325884640/genomes/GCA_900155415.1_PRJEB13909b_genomic.fna.fna \n",
       "5  /ebio/abt3_scratch/nyoungblut/LLG_62325884640/genomes/GCA_001678845.1_ASM167884v1_genomic.fna.fna \n",
       "6  /ebio/abt3_scratch/nyoungblut/LLG_62325884640/genomes/GCA_003628755.1_ASM362875v1_genomic.fna.fna \n",
       "7  /ebio/abt3_scratch/nyoungblut/LLG_62325884640/genomes/GCA_014287795.1_ASM1428779v1_genomic.fna.fna\n",
       "8  /ebio/abt3_scratch/nyoungblut/LLG_62325884640/genomes/GUT_GENOME094667.fna.fna                    \n",
       "9  /ebio/abt3_scratch/nyoungblut/LLG_62325884640/genomes/GUT_GENOME127701.fna.fna                    \n",
       "10 /ebio/abt3_scratch/nyoungblut/LLG_62325884640/genomes/GUT_GENOME097725.fna.fna                    \n",
       "   Genus                Species                        \n",
       "1  g__                  s__                            \n",
       "2  g__Christensenella_A s__Christensenella_A timonensis\n",
       "3  g__UMGS743           s__UMGS743 sp900545085         \n",
       "4  g__Christensenella   s__Christensenella massiliensis\n",
       "5  g__Christensenella   s__Christensenella sp001678845 \n",
       "6  g__Christensenella   s__Christensenella minuta      \n",
       "7  g__Christensenella   s__                            \n",
       "8  g__UMGS743           s__UMGS743 sp900545085         \n",
       "9  g__                  s__                            \n",
       "10 g__Catabacter        s__Catabacter hongkongensis    "
      ]
     },
     "metadata": {},
     "output_type": "display_data"
    }
   ],
   "source": [
    "# listing taxonomy\n",
    "df.dims(40)\n",
    "hq_genomes %>%\n",
    "    select(genome, Genus, Species)\n",
    "df.dims()"
   ]
  },
  {
   "cell_type": "code",
   "execution_count": 124,
   "metadata": {
    "execution": {
     "iopub.execute_input": "2021-02-23T15:43:49.060045Z",
     "iopub.status.busy": "2021-02-23T15:43:49.055480Z",
     "iopub.status.idle": "2021-02-23T15:43:49.095342Z"
    }
   },
   "outputs": [
    {
     "name": "stdout",
     "output_type": "stream",
     "text": [
      "File written: /ebio/abt3_projects/software/dev/ll_pipelines/llprimer/experiments/christensenellaceae//LLG_output/samples_genomes_hq.txt \n"
     ]
    }
   ],
   "source": [
    " # writing samples table for LLPRIMER\n",
    "outfile = file.path(work_dir, 'LLG_output', 'samples_genomes_hq.txt')\n",
    "hq_genomes %>%\n",
    "    select(Bin.Id, Fasta, Domain) %>%\n",
    "    rename('Taxon' = Bin.Id) %>%\n",
    "    mutate(Taxon = gsub('_chromosome.+', '', Taxon),\n",
    "           Taxon = gsub('_bin_.+', '', Taxon),\n",
    "           Taxon = gsub('_genomic', '', Taxon),\n",
    "           Taxon = gsub('_annotated_assembly', '', Taxon),\n",
    "           Taxid = taxid) %>%\n",
    "    write_table(outfile)"
   ]
  },
  {
   "cell_type": "markdown",
   "metadata": {},
   "source": [
    "# sessionInfo"
   ]
  },
  {
   "cell_type": "code",
   "execution_count": 122,
   "metadata": {
    "execution": {
     "iopub.execute_input": "2021-02-23T15:37:40.621239Z",
     "iopub.status.busy": "2021-02-23T15:37:40.616786Z",
     "iopub.status.idle": "2021-02-23T15:37:40.718157Z"
    }
   },
   "outputs": [
    {
     "data": {
      "text/plain": [
       "R version 4.0.3 (2020-10-10)\n",
       "Platform: x86_64-conda-linux-gnu (64-bit)\n",
       "Running under: Ubuntu 18.04.5 LTS\n",
       "\n",
       "Matrix products: default\n",
       "BLAS/LAPACK: /ebio/abt3_projects/Anxiety_Twins_Metagenomes/envs/tidyverse2/lib/libopenblasp-r0.3.12.so\n",
       "\n",
       "locale:\n",
       " [1] LC_CTYPE=en_US.UTF-8       LC_NUMERIC=C              \n",
       " [3] LC_TIME=en_US.UTF-8        LC_COLLATE=en_US.UTF-8    \n",
       " [5] LC_MONETARY=en_US.UTF-8    LC_MESSAGES=en_US.UTF-8   \n",
       " [7] LC_PAPER=en_US.UTF-8       LC_NAME=C                 \n",
       " [9] LC_ADDRESS=C               LC_TELEPHONE=C            \n",
       "[11] LC_MEASUREMENT=en_US.UTF-8 LC_IDENTIFICATION=C       \n",
       "\n",
       "attached base packages:\n",
       "[1] stats     graphics  grDevices utils     datasets  methods   base     \n",
       "\n",
       "other attached packages:\n",
       "[1] curl_4.3          tidytable_0.5.8   data.table_1.13.6 LeyLabRMisc_0.1.8\n",
       "[5] ggplot2_3.3.3     tidyr_1.1.2       dplyr_1.0.3      \n",
       "\n",
       "loaded via a namespace (and not attached):\n",
       " [1] Rcpp_1.0.6        plyr_1.8.6        pillar_1.4.7      compiler_4.0.3   \n",
       " [5] base64enc_0.1-3   iterators_1.0.13  tools_4.0.3       digest_0.6.27    \n",
       " [9] uuid_0.1-4        jsonlite_1.7.2    evaluate_0.14     lifecycle_0.2.0  \n",
       "[13] tibble_3.0.6      gtable_0.3.0      pkgconfig_2.0.3   rlang_0.4.10     \n",
       "[17] foreach_1.5.1     IRdisplay_1.0     parallel_4.0.3    IRkernel_1.1.1   \n",
       "[21] repr_1.1.3        withr_2.4.1       generics_0.1.0    vctrs_0.3.6      \n",
       "[25] grid_4.0.3        tidyselect_1.1.0  glue_1.4.2        R6_2.5.0         \n",
       "[29] pbdZMQ_0.3-4      purrr_0.3.4       magrittr_2.0.1    scales_1.1.1     \n",
       "[33] codetools_0.2-18  ellipsis_0.3.1    htmltools_0.5.1.1 colorspace_2.0-0 \n",
       "[37] munsell_0.5.0     doParallel_1.0.16 crayon_1.4.0     "
      ]
     },
     "metadata": {},
     "output_type": "display_data"
    }
   ],
   "source": [
    "sessionInfo()"
   ]
  },
  {
   "cell_type": "code",
   "execution_count": null,
   "metadata": {},
   "outputs": [],
   "source": []
  }
 ],
 "metadata": {
  "kernelspec": {
   "display_name": "R [conda env:Anxiety_Twins_Metagenomes-tidyverse2]",
   "language": "R",
   "name": "conda-env-Anxiety_Twins_Metagenomes-tidyverse2-r"
  },
  "language_info": {
   "codemirror_mode": "r",
   "file_extension": ".r",
   "mimetype": "text/x-r-source",
   "name": "R",
   "pygments_lexer": "r",
   "version": "4.0.3"
  }
 },
 "nbformat": 4,
 "nbformat_minor": 4
}
