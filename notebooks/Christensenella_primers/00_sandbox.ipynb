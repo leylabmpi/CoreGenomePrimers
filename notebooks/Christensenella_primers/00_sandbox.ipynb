{
 "cells": [
  {
   "cell_type": "code",
   "execution_count": 2,
   "metadata": {},
   "outputs": [],
   "source": [
    "library(dplyr)\n",
    "library(tidyr)\n",
    "library(ggplot2)\n",
    "library(LeyLabRMisc)"
   ]
  },
  {
   "cell_type": "code",
   "execution_count": 3,
   "metadata": {},
   "outputs": [],
   "source": [
    "df.dims()"
   ]
  },
  {
   "cell_type": "code",
   "execution_count": 15,
   "metadata": {},
   "outputs": [
    {
     "data": {
      "text/html": [
       "<table>\n",
       "<caption>A data.frame: 611 × 17</caption>\n",
       "<thead>\n",
       "\t<tr><th scope=col>V1</th><th scope=col>V2</th><th scope=col>V3</th><th scope=col>V4</th><th scope=col>V5</th><th scope=col>V6</th><th scope=col>V7</th><th scope=col>V8</th><th scope=col>V9</th><th scope=col>V10</th><th scope=col>V11</th><th scope=col>V12</th><th scope=col>V13</th><th scope=col>V14</th><th scope=col>primer_set</th><th scope=col>primer_degen</th><th scope=col>primer_type</th></tr>\n",
       "\t<tr><th scope=col>&lt;fct&gt;</th><th scope=col>&lt;fct&gt;</th><th scope=col>&lt;dbl&gt;</th><th scope=col>&lt;int&gt;</th><th scope=col>&lt;int&gt;</th><th scope=col>&lt;int&gt;</th><th scope=col>&lt;int&gt;</th><th scope=col>&lt;int&gt;</th><th scope=col>&lt;int&gt;</th><th scope=col>&lt;int&gt;</th><th scope=col>&lt;dbl&gt;</th><th scope=col>&lt;dbl&gt;</th><th scope=col>&lt;int&gt;</th><th scope=col>&lt;int&gt;</th><th scope=col>&lt;chr&gt;</th><th scope=col>&lt;chr&gt;</th><th scope=col>&lt;chr&gt;</th></tr>\n",
       "</thead>\n",
       "<tbody>\n",
       "\t<tr><td>10f_0</td><td>LR812083.1    </td><td>100</td><td>19</td><td>0</td><td>0</td><td>5</td><td>23</td><td>39958059</td><td>39958077</td><td>4.6</td><td>38.2</td><td>47178121</td><td>24</td><td>10</td><td>10f</td><td>f</td></tr>\n",
       "\t<tr><td>10f_0</td><td>XM_033770575.1</td><td>100</td><td>19</td><td>0</td><td>0</td><td>1</td><td>19</td><td>    5295</td><td>    5313</td><td>4.6</td><td>38.2</td><td>    5631</td><td>24</td><td>10</td><td>10f</td><td>f</td></tr>\n",
       "\t<tr><td>⋮</td><td>⋮</td><td>⋮</td><td>⋮</td><td>⋮</td><td>⋮</td><td>⋮</td><td>⋮</td><td>⋮</td><td>⋮</td><td>⋮</td><td>⋮</td><td>⋮</td><td>⋮</td><td>⋮</td><td>⋮</td><td>⋮</td></tr>\n",
       "\t<tr><td>8r_1</td><td>CP062039.1</td><td>100</td><td>19</td><td>0</td><td>0</td><td>5</td><td>23</td><td>66344296</td><td>66344314</td><td>4.6</td><td>38.2</td><td>66757347</td><td>24</td><td>8</td><td>8r</td><td>r</td></tr>\n",
       "\t<tr><td>8r_1</td><td>LR884464.1</td><td>100</td><td>19</td><td>0</td><td>0</td><td>3</td><td>21</td><td>16279407</td><td>16279425</td><td>4.6</td><td>38.2</td><td>31400991</td><td>24</td><td>8</td><td>8r</td><td>r</td></tr>\n",
       "</tbody>\n",
       "</table>\n"
      ],
      "text/latex": [
       "A data.frame: 611 × 17\n",
       "\\begin{tabular}{lllllllllllllllll}\n",
       " V1 & V2 & V3 & V4 & V5 & V6 & V7 & V8 & V9 & V10 & V11 & V12 & V13 & V14 & primer\\_set & primer\\_degen & primer\\_type\\\\\n",
       " <fct> & <fct> & <dbl> & <int> & <int> & <int> & <int> & <int> & <int> & <int> & <dbl> & <dbl> & <int> & <int> & <chr> & <chr> & <chr>\\\\\n",
       "\\hline\n",
       "\t 10f\\_0 & LR812083.1     & 100 & 19 & 0 & 0 & 5 & 23 & 39958059 & 39958077 & 4.6 & 38.2 & 47178121 & 24 & 10 & 10f & f\\\\\n",
       "\t 10f\\_0 & XM\\_033770575.1 & 100 & 19 & 0 & 0 & 1 & 19 &     5295 &     5313 & 4.6 & 38.2 &     5631 & 24 & 10 & 10f & f\\\\\n",
       "\t ⋮ & ⋮ & ⋮ & ⋮ & ⋮ & ⋮ & ⋮ & ⋮ & ⋮ & ⋮ & ⋮ & ⋮ & ⋮ & ⋮ & ⋮ & ⋮ & ⋮\\\\\n",
       "\t 8r\\_1 & CP062039.1 & 100 & 19 & 0 & 0 & 5 & 23 & 66344296 & 66344314 & 4.6 & 38.2 & 66757347 & 24 & 8 & 8r & r\\\\\n",
       "\t 8r\\_1 & LR884464.1 & 100 & 19 & 0 & 0 & 3 & 21 & 16279407 & 16279425 & 4.6 & 38.2 & 31400991 & 24 & 8 & 8r & r\\\\\n",
       "\\end{tabular}\n"
      ],
      "text/markdown": [
       "\n",
       "A data.frame: 611 × 17\n",
       "\n",
       "| V1 &lt;fct&gt; | V2 &lt;fct&gt; | V3 &lt;dbl&gt; | V4 &lt;int&gt; | V5 &lt;int&gt; | V6 &lt;int&gt; | V7 &lt;int&gt; | V8 &lt;int&gt; | V9 &lt;int&gt; | V10 &lt;int&gt; | V11 &lt;dbl&gt; | V12 &lt;dbl&gt; | V13 &lt;int&gt; | V14 &lt;int&gt; | primer_set &lt;chr&gt; | primer_degen &lt;chr&gt; | primer_type &lt;chr&gt; |\n",
       "|---|---|---|---|---|---|---|---|---|---|---|---|---|---|---|---|---|\n",
       "| 10f_0 | LR812083.1     | 100 | 19 | 0 | 0 | 5 | 23 | 39958059 | 39958077 | 4.6 | 38.2 | 47178121 | 24 | 10 | 10f | f |\n",
       "| 10f_0 | XM_033770575.1 | 100 | 19 | 0 | 0 | 1 | 19 |     5295 |     5313 | 4.6 | 38.2 |     5631 | 24 | 10 | 10f | f |\n",
       "| ⋮ | ⋮ | ⋮ | ⋮ | ⋮ | ⋮ | ⋮ | ⋮ | ⋮ | ⋮ | ⋮ | ⋮ | ⋮ | ⋮ | ⋮ | ⋮ | ⋮ |\n",
       "| 8r_1 | CP062039.1 | 100 | 19 | 0 | 0 | 5 | 23 | 66344296 | 66344314 | 4.6 | 38.2 | 66757347 | 24 | 8 | 8r | r |\n",
       "| 8r_1 | LR884464.1 | 100 | 19 | 0 | 0 | 3 | 21 | 16279407 | 16279425 | 4.6 | 38.2 | 31400991 | 24 | 8 | 8r | r |\n",
       "\n"
      ],
      "text/plain": [
       "    V1    V2             V3  V4 V5 V6 V7 V8 V9       V10      V11 V12  V13     \n",
       "1   10f_0 LR812083.1     100 19 0  0  5  23 39958059 39958077 4.6 38.2 47178121\n",
       "2   10f_0 XM_033770575.1 100 19 0  0  1  19     5295     5313 4.6 38.2     5631\n",
       "⋮   ⋮     ⋮              ⋮   ⋮  ⋮  ⋮  ⋮  ⋮  ⋮        ⋮        ⋮   ⋮    ⋮       \n",
       "610 8r_1  CP062039.1     100 19 0  0  5  23 66344296 66344314 4.6 38.2 66757347\n",
       "611 8r_1  LR884464.1     100 19 0  0  3  21 16279407 16279425 4.6 38.2 31400991\n",
       "    V14 primer_set primer_degen primer_type\n",
       "1   24  10         10f          f          \n",
       "2   24  10         10f          f          \n",
       "⋮   ⋮   ⋮          ⋮            ⋮          \n",
       "610 24  8          8r           r          \n",
       "611 24  8          8r           r          "
      ]
     },
     "metadata": {},
     "output_type": "display_data"
    }
   ],
   "source": [
    "F = '/ebio/abt3_scratch/nyoungblut/LLPRIMER_101310211274/primers_nontarget_blastn/2/blastn.txt'\n",
    "blast = read.delim(F, sep='\\t', header=FALSE) %>%\n",
    "    filter(V4 / V14 < 0.8) %>%\n",
    "    mutate(primer_set = gsub('[fr]_.+', '', V1),\n",
    "           primer_degen = gsub('_.+', '', V1),\n",
    "           primer_type = gsub('^[0-9]+([rf])_.+', '\\\\1', V1))\n",
    "blast"
   ]
  },
  {
   "cell_type": "code",
   "execution_count": 19,
   "metadata": {},
   "outputs": [
    {
     "name": "stderr",
     "output_type": "stream",
     "text": [
      "Warning message in cbind(parts$left, ellip_h, parts$right, deparse.level = 0L):\n",
      "“number of rows of result is not a multiple of vector length (arg 2)”\n",
      "Warning message in cbind(parts$left, ellip_h, parts$right, deparse.level = 0L):\n",
      "“number of rows of result is not a multiple of vector length (arg 2)”\n",
      "Warning message in cbind(parts$left, ellip_h, parts$right, deparse.level = 0L):\n",
      "“number of rows of result is not a multiple of vector length (arg 2)”\n",
      "Warning message in cbind(parts$left, ellip_h, parts$right, deparse.level = 0L):\n",
      "“number of rows of result is not a multiple of vector length (arg 2)”\n"
     ]
    },
    {
     "data": {
      "text/html": [
       "<table>\n",
       "<caption>A data.frame: 0 × 32</caption>\n",
       "<thead>\n",
       "\t<tr><th scope=col>V1.x</th><th scope=col>V2</th><th scope=col>V3.x</th><th scope=col>V4.x</th><th scope=col>V5.x</th><th scope=col>V6.x</th><th scope=col>V7.x</th><th scope=col>V8.x</th><th scope=col>V9.x</th><th scope=col>V10.x</th><th scope=col>⋯</th><th scope=col>V7.y</th><th scope=col>V8.y</th><th scope=col>V9.y</th><th scope=col>V10.y</th><th scope=col>V11.y</th><th scope=col>V12.y</th><th scope=col>V13.y</th><th scope=col>V14.y</th><th scope=col>primer_degen.y</th><th scope=col>primer_type.y</th></tr>\n",
       "\t<tr><th scope=col>&lt;fct&gt;</th><th scope=col>&lt;fct&gt;</th><th scope=col>&lt;dbl&gt;</th><th scope=col>&lt;int&gt;</th><th scope=col>&lt;int&gt;</th><th scope=col>&lt;int&gt;</th><th scope=col>&lt;int&gt;</th><th scope=col>&lt;int&gt;</th><th scope=col>&lt;int&gt;</th><th scope=col>&lt;int&gt;</th><th scope=col>⋯</th><th scope=col>&lt;int&gt;</th><th scope=col>&lt;int&gt;</th><th scope=col>&lt;int&gt;</th><th scope=col>&lt;int&gt;</th><th scope=col>&lt;dbl&gt;</th><th scope=col>&lt;dbl&gt;</th><th scope=col>&lt;int&gt;</th><th scope=col>&lt;int&gt;</th><th scope=col>&lt;chr&gt;</th><th scope=col>&lt;chr&gt;</th></tr>\n",
       "</thead>\n",
       "<tbody>\n",
       "</tbody>\n",
       "</table>\n"
      ],
      "text/latex": [
       "A data.frame: 0 × 32\n",
       "\\begin{tabular}{lllllllllllllllllllll}\n",
       " V1.x & V2 & V3.x & V4.x & V5.x & V6.x & V7.x & V8.x & V9.x & V10.x & ⋯ & V7.y & V8.y & V9.y & V10.y & V11.y & V12.y & V13.y & V14.y & primer\\_degen.y & primer\\_type.y\\\\\n",
       " <fct> & <fct> & <dbl> & <int> & <int> & <int> & <int> & <int> & <int> & <int> & ⋯ & <int> & <int> & <int> & <int> & <dbl> & <dbl> & <int> & <int> & <chr> & <chr>\\\\\n",
       "\\hline\n",
       "\\end{tabular}\n"
      ],
      "text/markdown": [
       "\n",
       "A data.frame: 0 × 32\n",
       "\n",
       "| V1.x &lt;fct&gt; | V2 &lt;fct&gt; | V3.x &lt;dbl&gt; | V4.x &lt;int&gt; | V5.x &lt;int&gt; | V6.x &lt;int&gt; | V7.x &lt;int&gt; | V8.x &lt;int&gt; | V9.x &lt;int&gt; | V10.x &lt;int&gt; | ⋯ ⋯ | V7.y &lt;int&gt; | V8.y &lt;int&gt; | V9.y &lt;int&gt; | V10.y &lt;int&gt; | V11.y &lt;dbl&gt; | V12.y &lt;dbl&gt; | V13.y &lt;int&gt; | V14.y &lt;int&gt; | primer_degen.y &lt;chr&gt; | primer_type.y &lt;chr&gt; |\n",
       "|---|---|---|---|---|---|---|---|---|---|---|---|---|---|---|---|---|---|---|---|---|\n",
       "\n"
      ],
      "text/plain": [
       "     V1.x V2 V3.x V4.x V5.x V6.x V7.x V8.x V9.x V10.x ⋯ V7.y V8.y V9.y V10.y\n",
       "     V11.y V12.y V13.y V14.y primer_degen.y primer_type.y"
      ]
     },
     "metadata": {},
     "output_type": "display_data"
    }
   ],
   "source": [
    "# subjects that are hit by both fwd & rev primers\n",
    "blast_f = blast %>% filter(primer_type == 'f')\n",
    "blast_r = blast %>% filter(primer_type == 'r')\n",
    "blast_c = blast_f %>%\n",
    "    inner_join(blast_r, c('primer_set', 'V2')) \n",
    "blast_c"
   ]
  },
  {
   "cell_type": "code",
   "execution_count": null,
   "metadata": {},
   "outputs": [],
   "source": []
  }
 ],
 "metadata": {
  "kernelspec": {
   "display_name": "R [conda env:Georg_animal_feces-tidyverse]",
   "language": "R",
   "name": "conda-env-Georg_animal_feces-tidyverse-r"
  },
  "language_info": {
   "codemirror_mode": "r",
   "file_extension": ".r",
   "mimetype": "text/x-r-source",
   "name": "R",
   "pygments_lexer": "r",
   "version": "3.6.3"
  }
 },
 "nbformat": 4,
 "nbformat_minor": 4
}
