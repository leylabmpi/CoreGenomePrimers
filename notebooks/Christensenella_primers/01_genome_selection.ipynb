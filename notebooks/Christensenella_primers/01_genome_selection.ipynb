{
 "cells": [
  {
   "cell_type": "markdown",
   "metadata": {},
   "source": [
    "# Goal\n",
    "\n",
    "* Select genomes for primer design"
   ]
  },
  {
   "cell_type": "markdown",
   "metadata": {},
   "source": [
    "# Var"
   ]
  },
  {
   "cell_type": "code",
   "execution_count": 7,
   "metadata": {},
   "outputs": [],
   "source": [
    "work_dir = '/ebio/abt3_projects/software/dev/ll_pipelines/llprimer/experiments/christensenella/genbank'"
   ]
  },
  {
   "cell_type": "markdown",
   "metadata": {},
   "source": [
    "# Init"
   ]
  },
  {
   "cell_type": "code",
   "execution_count": 8,
   "metadata": {},
   "outputs": [],
   "source": [
    "library(dplyr)\n",
    "library(tidyr)\n",
    "library(ggplot2)\n",
    "library(LeyLabRMisc)"
   ]
  },
  {
   "cell_type": "code",
   "execution_count": 9,
   "metadata": {},
   "outputs": [],
   "source": [
    "df.dims()"
   ]
  },
  {
   "cell_type": "markdown",
   "metadata": {},
   "source": [
    "# genome download"
   ]
  },
  {
   "cell_type": "markdown",
   "metadata": {},
   "source": [
    "```\n",
    "ncbi-genome-download -p 12 -s genbank -F fasta --genus Christensenella -o $WORKDIR bacteria\n",
    "```"
   ]
  },
  {
   "cell_type": "markdown",
   "metadata": {},
   "source": [
    "# genome QC"
   ]
  },
  {
   "cell_type": "markdown",
   "metadata": {},
   "source": [
    "## LLG\n",
    "\n",
    "* LLG pipeline for running:\n",
    "  * checkM\n",
    "  * dRep\n",
    "  * GTDBTk"
   ]
  },
  {
   "cell_type": "markdown",
   "metadata": {},
   "source": [
    "### Config"
   ]
  },
  {
   "cell_type": "code",
   "execution_count": 10,
   "metadata": {},
   "outputs": [
    {
     "name": "stdout",
     "output_type": "stream",
     "text": [
      "# table with genome --> fasta_file information\n",
      "samples_file: /ebio/abt3_projects/software/dev/ll_pipelines/llprimer/experiments/christensenella/genbank/samples_llg.txt\n",
      "\n",
      "# output location\n",
      "output_dir: /ebio/abt3_projects/software/dev/ll_pipelines/llprimer/experiments/christensenella/genbank/\n",
      "\n",
      "# temporary file directory (your username will be added automatically)\n",
      "tmp_dir: /ebio/abt3_scratch/\n",
      "\n",
      "# batch processing of genomes for certain steps\n",
      "## increase to better parallelize\n",
      "batches: 2 \n",
      "\n",
      "# Domain of genomes ('Archaea' or 'Bacteria)\n",
      "## Use \"Skip\" if provided as a \"Domain\" column in the genome table\n",
      "Domain: Skip\n",
      "\n",
      "# software parameters\n",
      "# Use \"Skip\" to skip any of these steps. If no params for rule, use \"\"\n",
      "# dRep MAGs are not further analyzed, but you can de-rep & then use the de-rep genome table as input.\n",
      "params:\n",
      "  ionice: -c 3\n",
      "  # assembly assessment\n",
      "  seqkit: \"\"\n",
      "  quast: Skip #\"\"\n",
      "  multiqc_on_quast: \"\" \n",
      "  checkm: Skip #\"\"\n",
      "  # de-replication (requires checkm)\n",
      "  drep: Skip #-comp 90 -con 5 -sa 0.999\n",
      "  # taxonomy\n",
      "  sourmash:\n",
      "    compute: Skip #--scaled 10000 -k 31\n",
      "    gather: -k 31\n",
      "  gtdbtk:\n",
      "    classify_wf: --min_perc_aa 10\n",
      "  # genome pairwise ANI  \n",
      "  fastani: Skip #--fragLen 3000 --minFraction 0.2 -k 16\n",
      "  dashing: Skip #-k 31 --full-tsv\n",
      "  comparem_aai: Skip #--evalue 0.001\n",
      "  # gene annotation\n",
      "  gene_call:\n",
      "    prokka: Skip #\"\" \n",
      "    multiqc_on_prokka: \"\"\n",
      "    prodigal: Skip #\"\"\n",
      "  eggnog_mapper: \"\"\n",
      "  eggnog_mapper_annot: \"\"\n",
      "  # rRNA (16S alignment & phylogeny)\n",
      "  barrnap: Skip #--lencutoff 0.8\n",
      "  vsearch_per_genome_drep: --id 0.95    # Skip to prevent drep of 16S copies within each genome\n",
      "  qiime2_fasttree: \"\"\n",
      "  qiime2_iqtree: --p-alrt 1000 --p-abayes --p-lbp 1000  --p-substitution-model 'GTR+I+G'\n",
      "  # genome phylogeny\n",
      "  phylophlan_config: Skip #--map_dna diamond --db_aa diamond --map_aa diamond --msa mafft --trim trimal --tree1 fasttree --tree2 raxml\n",
      "  phylophlan: --diversity high --min_num_markers 50 --accurate\n",
      "  # phenotype\n",
      "  traitar: Skip #\"\"\n",
      "  # biosynthetic gene clusters (BGCs)\n",
      "  antismash: Skip #--cb-knownclusters --cb-subclusters --asf  \n",
      "  DeepBGC: Skip #--score 0.5 --classifier-score 0.5 --prodigal-meta-mode\n",
      "  # antimicrobial resistance (AMR)\n",
      "  abricate: Skip #--minid 75 --mincov 80\n",
      "  # CRISPRs\n",
      "  cctyper: Skip #--prodigal meta\n",
      "  \n",
      "# databases\n",
      "databases:\n",
      "  checkM_data: /ebio/abt3_projects/databases_no-backup/checkM/\n",
      "  sourmash: /ebio/abt3_projects/databases_no-backup/sourmash/genbank-k31.sbt.json\n",
      "  sourmash_lca: /ebio/abt3_projects/databases_no-backup/sourmash/genbank-k31.lca.json.gz\n",
      "  gtdbtk: /ebio/abt3_projects/databases_no-backup/GTDB/release95/gtdbtk/db_info.md\n",
      "  phylophlan: /ebio/abt3_projects/databases_no-backup/phylophlan/PhyloPhlan/phylophlan.faa.bz2\n",
      "  eggnog: /ebio/abt3_projects/databases_no-backup/Eggnog/v2/eggnog.db\n",
      "  eggnog_diamond: /ebio/abt3_projects/databases_no-backup/Eggnog/v2/eggnog_proteins.dmnd\n",
      "  antismash: /ebio/abt3_projects/databases_no-backup/antismash/v5/\n",
      "  deepbgc: /ebio/abt3_projects/databases_no-backup/DeepBGC/\n",
      "  traitar: /ebio/abt3_projects/databases_no-backup/pfam/traitar/\n",
      "  abricate:\n",
      "    ncbi: /ebio/abt3_projects/databases_no-backup/abricate/ncbi/sequences\n",
      "    card: /ebio/abt3_projects/databases_no-backup/abricate/card/sequences\n",
      "    resfinder: /ebio/abt3_projects/databases_no-backup/abricate/resfinder/sequences\n",
      "    argannot: /ebio/abt3_projects/databases_no-backup/abricate/argannot/sequences\n",
      "    bacmet2: /ebio/abt3_projects/databases_no-backup/abricate/bacmet2/sequences\n",
      "    vfdb: /ebio/abt3_projects/databases_no-backup/abricate/vfdb/sequences\n",
      "    megares: /ebio/abt3_projects/databases_no-backup/abricate/megares/sequences\n",
      "    plasmidfinder: /ebio/abt3_projects/databases_no-backup/abricate/plasmidfinder/sequences\n",
      "\n",
      "# snakemake pipeline\n",
      "pipeline:\n",
      "  snakemake_folder: ./\n",
      "  script_folder: ./bin/scripts/\n",
      "  use_shared_mem: True\n",
      "  name: LLG"
     ]
    }
   ],
   "source": [
    "cat_file(file.path(work_dir, 'config_llg.yaml'))"
   ]
  },
  {
   "cell_type": "markdown",
   "metadata": {},
   "source": [
    "### Run"
   ]
  },
  {
   "cell_type": "markdown",
   "metadata": {},
   "source": [
    "```\n",
    "./snakemake_sge.sh ebio/abt3_projects/software/dev/ll_pipelines/llprimer/experiments/christensenella/genbank/config_llg.yaml 30 -F\n",
    "```"
   ]
  },
  {
   "cell_type": "markdown",
   "metadata": {},
   "source": [
    "## Selecting genomes"
   ]
  },
  {
   "cell_type": "code",
   "execution_count": 68,
   "metadata": {},
   "outputs": [
    {
     "data": {
      "text/html": [
       "<table>\n",
       "<caption>A data.frame: 44 × 33</caption>\n",
       "<thead>\n",
       "\t<tr><th scope=col>Bin.Id</th><th scope=col>Marker.lineage</th><th scope=col>X..genomes</th><th scope=col>X..markers</th><th scope=col>X..marker.sets</th><th scope=col>Completeness</th><th scope=col>Contamination</th><th scope=col>Strain.heterogeneity</th><th scope=col>Genome.size..bp.</th><th scope=col>X..ambiguous.bases</th><th scope=col>⋯</th><th scope=col>X0</th><th scope=col>X1</th><th scope=col>X2</th><th scope=col>X3</th><th scope=col>X4</th><th scope=col>X5.</th><th scope=col>assembly.Id</th><th scope=col>assembler.Id</th><th scope=col>taxon.Id</th><th scope=col>File</th></tr>\n",
       "\t<tr><th scope=col>&lt;fct&gt;</th><th scope=col>&lt;fct&gt;</th><th scope=col>&lt;int&gt;</th><th scope=col>&lt;int&gt;</th><th scope=col>&lt;int&gt;</th><th scope=col>&lt;dbl&gt;</th><th scope=col>&lt;dbl&gt;</th><th scope=col>&lt;dbl&gt;</th><th scope=col>&lt;int&gt;</th><th scope=col>&lt;int&gt;</th><th scope=col>⋯</th><th scope=col>&lt;int&gt;</th><th scope=col>&lt;int&gt;</th><th scope=col>&lt;int&gt;</th><th scope=col>&lt;int&gt;</th><th scope=col>&lt;int&gt;</th><th scope=col>&lt;int&gt;</th><th scope=col>&lt;fct&gt;</th><th scope=col>&lt;fct&gt;</th><th scope=col>&lt;lgl&gt;</th><th scope=col>&lt;fct&gt;</th></tr>\n",
       "</thead>\n",
       "<tbody>\n",
       "\t<tr><td>CAADUP010000001_1_TPA_asm_Christensenellaceae_bacterium_isolate_HGM11615</td><td>o__Clostridiales (UID1120)</td><td>304</td><td>250</td><td>143</td><td>82.75</td><td>0.70</td><td>0</td><td>1686076</td><td>0</td><td>⋯</td><td>35</td><td>214</td><td>1</td><td>0</td><td>0</td><td>0</td><td>|ebio|abt3_projects|software|dev|ll_pipelines|llprimer|experiments|christensenella|genbank|checkM|1|checkm|markers_qa_summary.tsv.1</td><td>markers_qa_summary.tsv.1</td><td>NA</td><td>/ebio/abt3_projects/software/dev/ll_pipelines/llprimer/experiments/christensenella/genbank/checkM/1/checkm/markers_qa_summary.tsv.1</td></tr>\n",
       "\t<tr><td>CAAFJJ010000001_1_TPA_asm_Christensenellaceae_bacterium_isolate_HGM11614</td><td>o__Clostridiales (UID1120)</td><td>304</td><td>250</td><td>143</td><td>80.38</td><td>1.05</td><td>0</td><td>1855163</td><td>0</td><td>⋯</td><td>42</td><td>205</td><td>3</td><td>0</td><td>0</td><td>0</td><td>|ebio|abt3_projects|software|dev|ll_pipelines|llprimer|experiments|christensenella|genbank|checkM|1|checkm|markers_qa_summary.tsv.2</td><td>markers_qa_summary.tsv.2</td><td>NA</td><td>/ebio/abt3_projects/software/dev/ll_pipelines/llprimer/experiments/christensenella/genbank/checkM/1/checkm/markers_qa_summary.tsv.2</td></tr>\n",
       "\t<tr><td>⋮</td><td>⋮</td><td>⋮</td><td>⋮</td><td>⋮</td><td>⋮</td><td>⋮</td><td>⋮</td><td>⋮</td><td>⋮</td><td>⋱</td><td>⋮</td><td>⋮</td><td>⋮</td><td>⋮</td><td>⋮</td><td>⋮</td><td>⋮</td><td>⋮</td><td>⋮</td><td>⋮</td></tr>\n",
       "\t<tr><td>WGWR01000001_1_Christensenellaceae_bacterium_isolate_COPD122_SB1785_bin_21</td><td>o__Clostridiales (UID1120)</td><td>304</td><td>250</td><td>143</td><td>99.3</td><td>1.17</td><td>0</td><td>2907470</td><td>0</td><td>⋯</td><td>1</td><td>246</td><td>3</td><td>0</td><td>0</td><td>0</td><td>|ebio|abt3_projects|software|dev|ll_pipelines|llprimer|experiments|christensenella|genbank|checkM|2|checkm|markers_qa_summary.tsv.21</td><td>markers_qa_summary.tsv.21</td><td>NA</td><td>/ebio/abt3_projects/software/dev/ll_pipelines/llprimer/experiments/christensenella/genbank/checkM/2/checkm/markers_qa_summary.tsv.21</td></tr>\n",
       "\t<tr><td>WGWS01000001_1_Christensenellaceae_bacterium_isolate_COPD123_SB1786_bin_39</td><td>o__Clostridiales (UID1120)</td><td>304</td><td>250</td><td>143</td><td>98.6</td><td>1.17</td><td>0</td><td>2910731</td><td>0</td><td>⋯</td><td>2</td><td>245</td><td>3</td><td>0</td><td>0</td><td>0</td><td>|ebio|abt3_projects|software|dev|ll_pipelines|llprimer|experiments|christensenella|genbank|checkM|2|checkm|markers_qa_summary.tsv.22</td><td>markers_qa_summary.tsv.22</td><td>NA</td><td>/ebio/abt3_projects/software/dev/ll_pipelines/llprimer/experiments/christensenella/genbank/checkM/2/checkm/markers_qa_summary.tsv.22</td></tr>\n",
       "</tbody>\n",
       "</table>\n"
      ],
      "text/latex": [
       "A data.frame: 44 × 33\n",
       "\\begin{tabular}{lllllllllllllllllllll}\n",
       " Bin.Id & Marker.lineage & X..genomes & X..markers & X..marker.sets & Completeness & Contamination & Strain.heterogeneity & Genome.size..bp. & X..ambiguous.bases & ⋯ & X0 & X1 & X2 & X3 & X4 & X5. & assembly.Id & assembler.Id & taxon.Id & File\\\\\n",
       " <fct> & <fct> & <int> & <int> & <int> & <dbl> & <dbl> & <dbl> & <int> & <int> & ⋯ & <int> & <int> & <int> & <int> & <int> & <int> & <fct> & <fct> & <lgl> & <fct>\\\\\n",
       "\\hline\n",
       "\t CAADUP010000001\\_1\\_TPA\\_asm\\_Christensenellaceae\\_bacterium\\_isolate\\_HGM11615 & o\\_\\_Clostridiales (UID1120) & 304 & 250 & 143 & 82.75 & 0.70 & 0 & 1686076 & 0 & ⋯ & 35 & 214 & 1 & 0 & 0 & 0 & \\textbar{}ebio\\textbar{}abt3\\_projects\\textbar{}software\\textbar{}dev\\textbar{}ll\\_pipelines\\textbar{}llprimer\\textbar{}experiments\\textbar{}christensenella\\textbar{}genbank\\textbar{}checkM\\textbar{}1\\textbar{}checkm\\textbar{}markers\\_qa\\_summary.tsv.1 & markers\\_qa\\_summary.tsv.1 & NA & /ebio/abt3\\_projects/software/dev/ll\\_pipelines/llprimer/experiments/christensenella/genbank/checkM/1/checkm/markers\\_qa\\_summary.tsv.1\\\\\n",
       "\t CAAFJJ010000001\\_1\\_TPA\\_asm\\_Christensenellaceae\\_bacterium\\_isolate\\_HGM11614 & o\\_\\_Clostridiales (UID1120) & 304 & 250 & 143 & 80.38 & 1.05 & 0 & 1855163 & 0 & ⋯ & 42 & 205 & 3 & 0 & 0 & 0 & \\textbar{}ebio\\textbar{}abt3\\_projects\\textbar{}software\\textbar{}dev\\textbar{}ll\\_pipelines\\textbar{}llprimer\\textbar{}experiments\\textbar{}christensenella\\textbar{}genbank\\textbar{}checkM\\textbar{}1\\textbar{}checkm\\textbar{}markers\\_qa\\_summary.tsv.2 & markers\\_qa\\_summary.tsv.2 & NA & /ebio/abt3\\_projects/software/dev/ll\\_pipelines/llprimer/experiments/christensenella/genbank/checkM/1/checkm/markers\\_qa\\_summary.tsv.2\\\\\n",
       "\t ⋮ & ⋮ & ⋮ & ⋮ & ⋮ & ⋮ & ⋮ & ⋮ & ⋮ & ⋮ & ⋱ & ⋮ & ⋮ & ⋮ & ⋮ & ⋮ & ⋮ & ⋮ & ⋮ & ⋮ & ⋮\\\\\n",
       "\t WGWR01000001\\_1\\_Christensenellaceae\\_bacterium\\_isolate\\_COPD122\\_SB1785\\_bin\\_21 & o\\_\\_Clostridiales (UID1120) & 304 & 250 & 143 & 99.3 & 1.17 & 0 & 2907470 & 0 & ⋯ & 1 & 246 & 3 & 0 & 0 & 0 & \\textbar{}ebio\\textbar{}abt3\\_projects\\textbar{}software\\textbar{}dev\\textbar{}ll\\_pipelines\\textbar{}llprimer\\textbar{}experiments\\textbar{}christensenella\\textbar{}genbank\\textbar{}checkM\\textbar{}2\\textbar{}checkm\\textbar{}markers\\_qa\\_summary.tsv.21 & markers\\_qa\\_summary.tsv.21 & NA & /ebio/abt3\\_projects/software/dev/ll\\_pipelines/llprimer/experiments/christensenella/genbank/checkM/2/checkm/markers\\_qa\\_summary.tsv.21\\\\\n",
       "\t WGWS01000001\\_1\\_Christensenellaceae\\_bacterium\\_isolate\\_COPD123\\_SB1786\\_bin\\_39 & o\\_\\_Clostridiales (UID1120) & 304 & 250 & 143 & 98.6 & 1.17 & 0 & 2910731 & 0 & ⋯ & 2 & 245 & 3 & 0 & 0 & 0 & \\textbar{}ebio\\textbar{}abt3\\_projects\\textbar{}software\\textbar{}dev\\textbar{}ll\\_pipelines\\textbar{}llprimer\\textbar{}experiments\\textbar{}christensenella\\textbar{}genbank\\textbar{}checkM\\textbar{}2\\textbar{}checkm\\textbar{}markers\\_qa\\_summary.tsv.22 & markers\\_qa\\_summary.tsv.22 & NA & /ebio/abt3\\_projects/software/dev/ll\\_pipelines/llprimer/experiments/christensenella/genbank/checkM/2/checkm/markers\\_qa\\_summary.tsv.22\\\\\n",
       "\\end{tabular}\n"
      ],
      "text/markdown": [
       "\n",
       "A data.frame: 44 × 33\n",
       "\n",
       "| Bin.Id &lt;fct&gt; | Marker.lineage &lt;fct&gt; | X..genomes &lt;int&gt; | X..markers &lt;int&gt; | X..marker.sets &lt;int&gt; | Completeness &lt;dbl&gt; | Contamination &lt;dbl&gt; | Strain.heterogeneity &lt;dbl&gt; | Genome.size..bp. &lt;int&gt; | X..ambiguous.bases &lt;int&gt; | ⋯ ⋯ | X0 &lt;int&gt; | X1 &lt;int&gt; | X2 &lt;int&gt; | X3 &lt;int&gt; | X4 &lt;int&gt; | X5. &lt;int&gt; | assembly.Id &lt;fct&gt; | assembler.Id &lt;fct&gt; | taxon.Id &lt;lgl&gt; | File &lt;fct&gt; |\n",
       "|---|---|---|---|---|---|---|---|---|---|---|---|---|---|---|---|---|---|---|---|---|\n",
       "| CAADUP010000001_1_TPA_asm_Christensenellaceae_bacterium_isolate_HGM11615 | o__Clostridiales (UID1120) | 304 | 250 | 143 | 82.75 | 0.70 | 0 | 1686076 | 0 | ⋯ | 35 | 214 | 1 | 0 | 0 | 0 | |ebio|abt3_projects|software|dev|ll_pipelines|llprimer|experiments|christensenella|genbank|checkM|1|checkm|markers_qa_summary.tsv.1 | markers_qa_summary.tsv.1 | NA | /ebio/abt3_projects/software/dev/ll_pipelines/llprimer/experiments/christensenella/genbank/checkM/1/checkm/markers_qa_summary.tsv.1 |\n",
       "| CAAFJJ010000001_1_TPA_asm_Christensenellaceae_bacterium_isolate_HGM11614 | o__Clostridiales (UID1120) | 304 | 250 | 143 | 80.38 | 1.05 | 0 | 1855163 | 0 | ⋯ | 42 | 205 | 3 | 0 | 0 | 0 | |ebio|abt3_projects|software|dev|ll_pipelines|llprimer|experiments|christensenella|genbank|checkM|1|checkm|markers_qa_summary.tsv.2 | markers_qa_summary.tsv.2 | NA | /ebio/abt3_projects/software/dev/ll_pipelines/llprimer/experiments/christensenella/genbank/checkM/1/checkm/markers_qa_summary.tsv.2 |\n",
       "| ⋮ | ⋮ | ⋮ | ⋮ | ⋮ | ⋮ | ⋮ | ⋮ | ⋮ | ⋮ | ⋱ | ⋮ | ⋮ | ⋮ | ⋮ | ⋮ | ⋮ | ⋮ | ⋮ | ⋮ | ⋮ |\n",
       "| WGWR01000001_1_Christensenellaceae_bacterium_isolate_COPD122_SB1785_bin_21 | o__Clostridiales (UID1120) | 304 | 250 | 143 | 99.3 | 1.17 | 0 | 2907470 | 0 | ⋯ | 1 | 246 | 3 | 0 | 0 | 0 | |ebio|abt3_projects|software|dev|ll_pipelines|llprimer|experiments|christensenella|genbank|checkM|2|checkm|markers_qa_summary.tsv.21 | markers_qa_summary.tsv.21 | NA | /ebio/abt3_projects/software/dev/ll_pipelines/llprimer/experiments/christensenella/genbank/checkM/2/checkm/markers_qa_summary.tsv.21 |\n",
       "| WGWS01000001_1_Christensenellaceae_bacterium_isolate_COPD123_SB1786_bin_39 | o__Clostridiales (UID1120) | 304 | 250 | 143 | 98.6 | 1.17 | 0 | 2910731 | 0 | ⋯ | 2 | 245 | 3 | 0 | 0 | 0 | |ebio|abt3_projects|software|dev|ll_pipelines|llprimer|experiments|christensenella|genbank|checkM|2|checkm|markers_qa_summary.tsv.22 | markers_qa_summary.tsv.22 | NA | /ebio/abt3_projects/software/dev/ll_pipelines/llprimer/experiments/christensenella/genbank/checkM/2/checkm/markers_qa_summary.tsv.22 |\n",
       "\n"
      ],
      "text/plain": [
       "   Bin.Id                                                                    \n",
       "1  CAADUP010000001_1_TPA_asm_Christensenellaceae_bacterium_isolate_HGM11615  \n",
       "2  CAAFJJ010000001_1_TPA_asm_Christensenellaceae_bacterium_isolate_HGM11614  \n",
       "⋮  ⋮                                                                         \n",
       "43 WGWR01000001_1_Christensenellaceae_bacterium_isolate_COPD122_SB1785_bin_21\n",
       "44 WGWS01000001_1_Christensenellaceae_bacterium_isolate_COPD123_SB1786_bin_39\n",
       "   Marker.lineage             X..genomes X..markers X..marker.sets Completeness\n",
       "1  o__Clostridiales (UID1120) 304        250        143            82.75       \n",
       "2  o__Clostridiales (UID1120) 304        250        143            80.38       \n",
       "⋮  ⋮                          ⋮          ⋮          ⋮              ⋮           \n",
       "43 o__Clostridiales (UID1120) 304        250        143            99.3        \n",
       "44 o__Clostridiales (UID1120) 304        250        143            98.6        \n",
       "   Contamination Strain.heterogeneity Genome.size..bp. X..ambiguous.bases ⋯ X0\n",
       "1  0.70          0                    1686076          0                  ⋯ 35\n",
       "2  1.05          0                    1855163          0                  ⋯ 42\n",
       "⋮  ⋮             ⋮                    ⋮                ⋮                  ⋱ ⋮ \n",
       "43 1.17          0                    2907470          0                  ⋯ 1 \n",
       "44 1.17          0                    2910731          0                  ⋯ 2 \n",
       "   X1  X2 X3 X4 X5.\n",
       "1  214 1  0  0  0  \n",
       "2  205 3  0  0  0  \n",
       "⋮  ⋮   ⋮  ⋮  ⋮  ⋮  \n",
       "43 246 3  0  0  0  \n",
       "44 245 3  0  0  0  \n",
       "   assembly.Id                                                                                                                         \n",
       "1  |ebio|abt3_projects|software|dev|ll_pipelines|llprimer|experiments|christensenella|genbank|checkM|1|checkm|markers_qa_summary.tsv.1 \n",
       "2  |ebio|abt3_projects|software|dev|ll_pipelines|llprimer|experiments|christensenella|genbank|checkM|1|checkm|markers_qa_summary.tsv.2 \n",
       "⋮  ⋮                                                                                                                                   \n",
       "43 |ebio|abt3_projects|software|dev|ll_pipelines|llprimer|experiments|christensenella|genbank|checkM|2|checkm|markers_qa_summary.tsv.21\n",
       "44 |ebio|abt3_projects|software|dev|ll_pipelines|llprimer|experiments|christensenella|genbank|checkM|2|checkm|markers_qa_summary.tsv.22\n",
       "   assembler.Id              taxon.Id\n",
       "1  markers_qa_summary.tsv.1  NA      \n",
       "2  markers_qa_summary.tsv.2  NA      \n",
       "⋮  ⋮                         ⋮       \n",
       "43 markers_qa_summary.tsv.21 NA      \n",
       "44 markers_qa_summary.tsv.22 NA      \n",
       "   File                                                                                                                                \n",
       "1  /ebio/abt3_projects/software/dev/ll_pipelines/llprimer/experiments/christensenella/genbank/checkM/1/checkm/markers_qa_summary.tsv.1 \n",
       "2  /ebio/abt3_projects/software/dev/ll_pipelines/llprimer/experiments/christensenella/genbank/checkM/1/checkm/markers_qa_summary.tsv.2 \n",
       "⋮  ⋮                                                                                                                                   \n",
       "43 /ebio/abt3_projects/software/dev/ll_pipelines/llprimer/experiments/christensenella/genbank/checkM/2/checkm/markers_qa_summary.tsv.21\n",
       "44 /ebio/abt3_projects/software/dev/ll_pipelines/llprimer/experiments/christensenella/genbank/checkM/2/checkm/markers_qa_summary.tsv.22"
      ]
     },
     "metadata": {},
     "output_type": "display_data"
    }
   ],
   "source": [
    "# checkM summary\n",
    "checkm = file.path(work_dir, 'checkM', 'checkm_qa_summary.tsv') %>%\n",
    "    read.delim(, sep='\\t') \n",
    "checkm"
   ]
  },
  {
   "cell_type": "code",
   "execution_count": 69,
   "metadata": {},
   "outputs": [
    {
     "data": {
      "text/html": [
       "<table>\n",
       "<caption>A data.frame: 44 × 4</caption>\n",
       "<thead>\n",
       "\t<tr><th scope=col>genome</th><th scope=col>completeness</th><th scope=col>contamination</th><th scope=col>Bin.Id</th></tr>\n",
       "\t<tr><th scope=col>&lt;fct&gt;</th><th scope=col>&lt;dbl&gt;</th><th scope=col>&lt;dbl&gt;</th><th scope=col>&lt;chr&gt;</th></tr>\n",
       "</thead>\n",
       "<tbody>\n",
       "\t<tr><td>/ebio/abt3_scratch/nyoungblut/LLG_62325884640/genomes/CAADUP010000001_1_TPA_asm_Christensenellaceae_bacterium_isolate_HGM11615.fna</td><td>82.75</td><td>0.70</td><td>CAADUP010000001_1_TPA_asm_Christensenellaceae_bacterium_isolate_HGM11615</td></tr>\n",
       "\t<tr><td>/ebio/abt3_scratch/nyoungblut/LLG_62325884640/genomes/CAAFJJ010000001_1_TPA_asm_Christensenellaceae_bacterium_isolate_HGM11614.fna</td><td>80.38</td><td>1.05</td><td>CAAFJJ010000001_1_TPA_asm_Christensenellaceae_bacterium_isolate_HGM11614</td></tr>\n",
       "\t<tr><td>⋮</td><td>⋮</td><td>⋮</td><td>⋮</td></tr>\n",
       "\t<tr><td>/ebio/abt3_scratch/nyoungblut/LLG_62325884640/genomes/WGWR01000001_1_Christensenellaceae_bacterium_isolate_COPD122_SB1785_bin_21.fna</td><td>99.3</td><td>1.17</td><td>WGWR01000001_1_Christensenellaceae_bacterium_isolate_COPD122_SB1785_bin_21</td></tr>\n",
       "\t<tr><td>/ebio/abt3_scratch/nyoungblut/LLG_62325884640/genomes/WGWS01000001_1_Christensenellaceae_bacterium_isolate_COPD123_SB1786_bin_39.fna</td><td>98.6</td><td>1.17</td><td>WGWS01000001_1_Christensenellaceae_bacterium_isolate_COPD123_SB1786_bin_39</td></tr>\n",
       "</tbody>\n",
       "</table>\n"
      ],
      "text/latex": [
       "A data.frame: 44 × 4\n",
       "\\begin{tabular}{llll}\n",
       " genome & completeness & contamination & Bin.Id\\\\\n",
       " <fct> & <dbl> & <dbl> & <chr>\\\\\n",
       "\\hline\n",
       "\t /ebio/abt3\\_scratch/nyoungblut/LLG\\_62325884640/genomes/CAADUP010000001\\_1\\_TPA\\_asm\\_Christensenellaceae\\_bacterium\\_isolate\\_HGM11615.fna & 82.75 & 0.70 & CAADUP010000001\\_1\\_TPA\\_asm\\_Christensenellaceae\\_bacterium\\_isolate\\_HGM11615\\\\\n",
       "\t /ebio/abt3\\_scratch/nyoungblut/LLG\\_62325884640/genomes/CAAFJJ010000001\\_1\\_TPA\\_asm\\_Christensenellaceae\\_bacterium\\_isolate\\_HGM11614.fna & 80.38 & 1.05 & CAAFJJ010000001\\_1\\_TPA\\_asm\\_Christensenellaceae\\_bacterium\\_isolate\\_HGM11614\\\\\n",
       "\t ⋮ & ⋮ & ⋮ & ⋮\\\\\n",
       "\t /ebio/abt3\\_scratch/nyoungblut/LLG\\_62325884640/genomes/WGWR01000001\\_1\\_Christensenellaceae\\_bacterium\\_isolate\\_COPD122\\_SB1785\\_bin\\_21.fna & 99.3 & 1.17 & WGWR01000001\\_1\\_Christensenellaceae\\_bacterium\\_isolate\\_COPD122\\_SB1785\\_bin\\_21\\\\\n",
       "\t /ebio/abt3\\_scratch/nyoungblut/LLG\\_62325884640/genomes/WGWS01000001\\_1\\_Christensenellaceae\\_bacterium\\_isolate\\_COPD123\\_SB1786\\_bin\\_39.fna & 98.6 & 1.17 & WGWS01000001\\_1\\_Christensenellaceae\\_bacterium\\_isolate\\_COPD123\\_SB1786\\_bin\\_39\\\\\n",
       "\\end{tabular}\n"
      ],
      "text/markdown": [
       "\n",
       "A data.frame: 44 × 4\n",
       "\n",
       "| genome &lt;fct&gt; | completeness &lt;dbl&gt; | contamination &lt;dbl&gt; | Bin.Id &lt;chr&gt; |\n",
       "|---|---|---|---|\n",
       "| /ebio/abt3_scratch/nyoungblut/LLG_62325884640/genomes/CAADUP010000001_1_TPA_asm_Christensenellaceae_bacterium_isolate_HGM11615.fna | 82.75 | 0.70 | CAADUP010000001_1_TPA_asm_Christensenellaceae_bacterium_isolate_HGM11615 |\n",
       "| /ebio/abt3_scratch/nyoungblut/LLG_62325884640/genomes/CAAFJJ010000001_1_TPA_asm_Christensenellaceae_bacterium_isolate_HGM11614.fna | 80.38 | 1.05 | CAAFJJ010000001_1_TPA_asm_Christensenellaceae_bacterium_isolate_HGM11614 |\n",
       "| ⋮ | ⋮ | ⋮ | ⋮ |\n",
       "| /ebio/abt3_scratch/nyoungblut/LLG_62325884640/genomes/WGWR01000001_1_Christensenellaceae_bacterium_isolate_COPD122_SB1785_bin_21.fna | 99.3 | 1.17 | WGWR01000001_1_Christensenellaceae_bacterium_isolate_COPD122_SB1785_bin_21 |\n",
       "| /ebio/abt3_scratch/nyoungblut/LLG_62325884640/genomes/WGWS01000001_1_Christensenellaceae_bacterium_isolate_COPD123_SB1786_bin_39.fna | 98.6 | 1.17 | WGWS01000001_1_Christensenellaceae_bacterium_isolate_COPD123_SB1786_bin_39 |\n",
       "\n"
      ],
      "text/plain": [
       "   genome                                                                                                                              \n",
       "1  /ebio/abt3_scratch/nyoungblut/LLG_62325884640/genomes/CAADUP010000001_1_TPA_asm_Christensenellaceae_bacterium_isolate_HGM11615.fna  \n",
       "2  /ebio/abt3_scratch/nyoungblut/LLG_62325884640/genomes/CAAFJJ010000001_1_TPA_asm_Christensenellaceae_bacterium_isolate_HGM11614.fna  \n",
       "⋮  ⋮                                                                                                                                   \n",
       "43 /ebio/abt3_scratch/nyoungblut/LLG_62325884640/genomes/WGWR01000001_1_Christensenellaceae_bacterium_isolate_COPD122_SB1785_bin_21.fna\n",
       "44 /ebio/abt3_scratch/nyoungblut/LLG_62325884640/genomes/WGWS01000001_1_Christensenellaceae_bacterium_isolate_COPD123_SB1786_bin_39.fna\n",
       "   completeness contamination\n",
       "1  82.75        0.70         \n",
       "2  80.38        1.05         \n",
       "⋮  ⋮            ⋮            \n",
       "43 99.3         1.17         \n",
       "44 98.6         1.17         \n",
       "   Bin.Id                                                                    \n",
       "1  CAADUP010000001_1_TPA_asm_Christensenellaceae_bacterium_isolate_HGM11615  \n",
       "2  CAAFJJ010000001_1_TPA_asm_Christensenellaceae_bacterium_isolate_HGM11614  \n",
       "⋮  ⋮                                                                         \n",
       "43 WGWR01000001_1_Christensenellaceae_bacterium_isolate_COPD122_SB1785_bin_21\n",
       "44 WGWS01000001_1_Christensenellaceae_bacterium_isolate_COPD123_SB1786_bin_39"
      ]
     },
     "metadata": {},
     "output_type": "display_data"
    }
   ],
   "source": [
    "# dRep summary\n",
    "drep = file.path(work_dir, 'drep', 'checkm_markers_qa_summary.tsv') %>%\n",
    "    read.delim(sep='\\t') %>%\n",
    "    mutate(Bin.Id = gsub('.+/', '', genome),\n",
    "           Bin.Id = gsub('\\\\.fna$', '', Bin.Id))\n",
    "drep"
   ]
  },
  {
   "cell_type": "code",
   "execution_count": 70,
   "metadata": {},
   "outputs": [
    {
     "data": {
      "text/html": [
       "<table>\n",
       "<caption>A data.frame: 30 × 2</caption>\n",
       "<thead>\n",
       "\t<tr><th scope=col>Name</th><th scope=col>Fasta</th></tr>\n",
       "\t<tr><th scope=col>&lt;fct&gt;</th><th scope=col>&lt;fct&gt;</th></tr>\n",
       "</thead>\n",
       "<tbody>\n",
       "\t<tr><td>DUQK01000013_1_TPA_asm_Christensenellaceae_bacterium_isolate_AS08sgBPME_399_100239_AS08</td><td>/ebio/abt3_projects/software/dev/ll_pipelines/llprimer/experiments/christensenella/genbank/drep/drep/dereplicated_genomes/DUQK01000013_1_TPA_asm_Christensenellaceae_bacterium_isolate_AS08sgBPME_399_100239_AS08.fna</td></tr>\n",
       "\t<tr><td>JAAYRU010000004_1_Christensenellaceae_bacterium_isolate_AS23ysBPME_237                 </td><td>/ebio/abt3_projects/software/dev/ll_pipelines/llprimer/experiments/christensenella/genbank/drep/drep/dereplicated_genomes/JAAYRU010000004_1_Christensenellaceae_bacterium_isolate_AS23ysBPME_237.fna                 </td></tr>\n",
       "\t<tr><td>⋮</td><td>⋮</td></tr>\n",
       "\t<tr><td>WGWU01000001_1_Christensenellaceae_bacterium_isolate_COPD125_SB1790_bin_24</td><td>/ebio/abt3_projects/software/dev/ll_pipelines/llprimer/experiments/christensenella/genbank/drep/drep/dereplicated_genomes/WGWU01000001_1_Christensenellaceae_bacterium_isolate_COPD125_SB1790_bin_24.fna</td></tr>\n",
       "\t<tr><td>WGWI01000001_1_Christensenellaceae_bacterium_isolate_COPD113_SB1790_bin_5 </td><td>/ebio/abt3_projects/software/dev/ll_pipelines/llprimer/experiments/christensenella/genbank/drep/drep/dereplicated_genomes/WGWI01000001_1_Christensenellaceae_bacterium_isolate_COPD113_SB1790_bin_5.fna </td></tr>\n",
       "</tbody>\n",
       "</table>\n"
      ],
      "text/latex": [
       "A data.frame: 30 × 2\n",
       "\\begin{tabular}{ll}\n",
       " Name & Fasta\\\\\n",
       " <fct> & <fct>\\\\\n",
       "\\hline\n",
       "\t DUQK01000013\\_1\\_TPA\\_asm\\_Christensenellaceae\\_bacterium\\_isolate\\_AS08sgBPME\\_399\\_100239\\_AS08 & /ebio/abt3\\_projects/software/dev/ll\\_pipelines/llprimer/experiments/christensenella/genbank/drep/drep/dereplicated\\_genomes/DUQK01000013\\_1\\_TPA\\_asm\\_Christensenellaceae\\_bacterium\\_isolate\\_AS08sgBPME\\_399\\_100239\\_AS08.fna\\\\\n",
       "\t JAAYRU010000004\\_1\\_Christensenellaceae\\_bacterium\\_isolate\\_AS23ysBPME\\_237                  & /ebio/abt3\\_projects/software/dev/ll\\_pipelines/llprimer/experiments/christensenella/genbank/drep/drep/dereplicated\\_genomes/JAAYRU010000004\\_1\\_Christensenellaceae\\_bacterium\\_isolate\\_AS23ysBPME\\_237.fna                 \\\\\n",
       "\t ⋮ & ⋮\\\\\n",
       "\t WGWU01000001\\_1\\_Christensenellaceae\\_bacterium\\_isolate\\_COPD125\\_SB1790\\_bin\\_24 & /ebio/abt3\\_projects/software/dev/ll\\_pipelines/llprimer/experiments/christensenella/genbank/drep/drep/dereplicated\\_genomes/WGWU01000001\\_1\\_Christensenellaceae\\_bacterium\\_isolate\\_COPD125\\_SB1790\\_bin\\_24.fna\\\\\n",
       "\t WGWI01000001\\_1\\_Christensenellaceae\\_bacterium\\_isolate\\_COPD113\\_SB1790\\_bin\\_5  & /ebio/abt3\\_projects/software/dev/ll\\_pipelines/llprimer/experiments/christensenella/genbank/drep/drep/dereplicated\\_genomes/WGWI01000001\\_1\\_Christensenellaceae\\_bacterium\\_isolate\\_COPD113\\_SB1790\\_bin\\_5.fna \\\\\n",
       "\\end{tabular}\n"
      ],
      "text/markdown": [
       "\n",
       "A data.frame: 30 × 2\n",
       "\n",
       "| Name &lt;fct&gt; | Fasta &lt;fct&gt; |\n",
       "|---|---|\n",
       "| DUQK01000013_1_TPA_asm_Christensenellaceae_bacterium_isolate_AS08sgBPME_399_100239_AS08 | /ebio/abt3_projects/software/dev/ll_pipelines/llprimer/experiments/christensenella/genbank/drep/drep/dereplicated_genomes/DUQK01000013_1_TPA_asm_Christensenellaceae_bacterium_isolate_AS08sgBPME_399_100239_AS08.fna |\n",
       "| JAAYRU010000004_1_Christensenellaceae_bacterium_isolate_AS23ysBPME_237                  | /ebio/abt3_projects/software/dev/ll_pipelines/llprimer/experiments/christensenella/genbank/drep/drep/dereplicated_genomes/JAAYRU010000004_1_Christensenellaceae_bacterium_isolate_AS23ysBPME_237.fna                  |\n",
       "| ⋮ | ⋮ |\n",
       "| WGWU01000001_1_Christensenellaceae_bacterium_isolate_COPD125_SB1790_bin_24 | /ebio/abt3_projects/software/dev/ll_pipelines/llprimer/experiments/christensenella/genbank/drep/drep/dereplicated_genomes/WGWU01000001_1_Christensenellaceae_bacterium_isolate_COPD125_SB1790_bin_24.fna |\n",
       "| WGWI01000001_1_Christensenellaceae_bacterium_isolate_COPD113_SB1790_bin_5  | /ebio/abt3_projects/software/dev/ll_pipelines/llprimer/experiments/christensenella/genbank/drep/drep/dereplicated_genomes/WGWI01000001_1_Christensenellaceae_bacterium_isolate_COPD113_SB1790_bin_5.fna  |\n",
       "\n"
      ],
      "text/plain": [
       "   Name                                                                                   \n",
       "1  DUQK01000013_1_TPA_asm_Christensenellaceae_bacterium_isolate_AS08sgBPME_399_100239_AS08\n",
       "2  JAAYRU010000004_1_Christensenellaceae_bacterium_isolate_AS23ysBPME_237                 \n",
       "⋮  ⋮                                                                                      \n",
       "29 WGWU01000001_1_Christensenellaceae_bacterium_isolate_COPD125_SB1790_bin_24             \n",
       "30 WGWI01000001_1_Christensenellaceae_bacterium_isolate_COPD113_SB1790_bin_5              \n",
       "   Fasta                                                                                                                                                                                                                \n",
       "1  /ebio/abt3_projects/software/dev/ll_pipelines/llprimer/experiments/christensenella/genbank/drep/drep/dereplicated_genomes/DUQK01000013_1_TPA_asm_Christensenellaceae_bacterium_isolate_AS08sgBPME_399_100239_AS08.fna\n",
       "2  /ebio/abt3_projects/software/dev/ll_pipelines/llprimer/experiments/christensenella/genbank/drep/drep/dereplicated_genomes/JAAYRU010000004_1_Christensenellaceae_bacterium_isolate_AS23ysBPME_237.fna                 \n",
       "⋮  ⋮                                                                                                                                                                                                                    \n",
       "29 /ebio/abt3_projects/software/dev/ll_pipelines/llprimer/experiments/christensenella/genbank/drep/drep/dereplicated_genomes/WGWU01000001_1_Christensenellaceae_bacterium_isolate_COPD125_SB1790_bin_24.fna             \n",
       "30 /ebio/abt3_projects/software/dev/ll_pipelines/llprimer/experiments/christensenella/genbank/drep/drep/dereplicated_genomes/WGWI01000001_1_Christensenellaceae_bacterium_isolate_COPD113_SB1790_bin_5.fna              "
      ]
     },
     "metadata": {},
     "output_type": "display_data"
    }
   ],
   "source": [
    "# de-replicated genomes\n",
    "drep_gen = file.path(work_dir, 'drep', 'dereplicated_genomes.tsv') %>%\n",
    "    read.delim(sep='\\t')\n",
    "drep_gen"
   ]
  },
  {
   "cell_type": "code",
   "execution_count": 71,
   "metadata": {},
   "outputs": [
    {
     "data": {
      "text/html": [
       "<table>\n",
       "<caption>A data.frame: 44 × 23</caption>\n",
       "<thead>\n",
       "\t<tr><th scope=col>user_genome</th><th scope=col>Domain</th><th scope=col>Phylum</th><th scope=col>Class</th><th scope=col>Order</th><th scope=col>Family</th><th scope=col>Genus</th><th scope=col>Species</th><th scope=col>fastani_reference</th><th scope=col>fastani_reference_radius</th><th scope=col>⋯</th><th scope=col>closest_placement_reference</th><th scope=col>closest_placement_radius</th><th scope=col>closest_placement_taxonomy</th><th scope=col>closest_placement_ani</th><th scope=col>closest_placement_af</th><th scope=col>other_related_references.genome_id.species_name.radius.ANI.AF.</th><th scope=col>msa_percent</th><th scope=col>translation_table</th><th scope=col>red_value</th><th scope=col>warnings</th></tr>\n",
       "\t<tr><th scope=col>&lt;fct&gt;</th><th scope=col>&lt;chr&gt;</th><th scope=col>&lt;chr&gt;</th><th scope=col>&lt;chr&gt;</th><th scope=col>&lt;chr&gt;</th><th scope=col>&lt;chr&gt;</th><th scope=col>&lt;chr&gt;</th><th scope=col>&lt;chr&gt;</th><th scope=col>&lt;fct&gt;</th><th scope=col>&lt;fct&gt;</th><th scope=col>⋯</th><th scope=col>&lt;fct&gt;</th><th scope=col>&lt;fct&gt;</th><th scope=col>&lt;fct&gt;</th><th scope=col>&lt;fct&gt;</th><th scope=col>&lt;fct&gt;</th><th scope=col>&lt;fct&gt;</th><th scope=col>&lt;dbl&gt;</th><th scope=col>&lt;int&gt;</th><th scope=col>&lt;fct&gt;</th><th scope=col>&lt;fct&gt;</th></tr>\n",
       "</thead>\n",
       "<tbody>\n",
       "\t<tr><td>CAADUP010000001_1_TPA_asm_Christensenellaceae_bacterium_isolate_HGM11615</td><td>d__Bacteria</td><td>p__Firmicutes_A</td><td>c__Clostridia_A</td><td>o__Christensenellales</td><td>f__Christensenellaceae</td><td>g__UMGS743</td><td>s__UMGS743 sp900545085</td><td>GCA_900545085.1</td><td>95.0</td><td>⋯</td><td>GCA_900545085.1</td><td>95.0</td><td>d__Bacteria;p__Firmicutes_A;c__Clostridia_A;o__Christensenellales;f__Christensenellaceae;g__UMGS743;s__UMGS743 sp900545085</td><td>99.7</td><td>0.81</td><td>N/A</td><td>78.27</td><td>11</td><td>N/A               </td><td>N/A</td></tr>\n",
       "\t<tr><td>CAAFJJ010000001_1_TPA_asm_Christensenellaceae_bacterium_isolate_HGM11614</td><td>d__Bacteria</td><td>p__Firmicutes_A</td><td>c__Clostridia_A</td><td>o__Christensenellales</td><td>f__Christensenellaceae</td><td>g__       </td><td>s__                   </td><td>N/A            </td><td>N/A </td><td>⋯</td><td>N/A            </td><td>N/A </td><td>N/A                                                                                                                       </td><td>N/A </td><td>N/A </td><td>N/A</td><td>73.73</td><td>11</td><td>0.8049018204100806</td><td>N/A</td></tr>\n",
       "\t<tr><td>⋮</td><td>⋮</td><td>⋮</td><td>⋮</td><td>⋮</td><td>⋮</td><td>⋮</td><td>⋮</td><td>⋮</td><td>⋮</td><td>⋱</td><td>⋮</td><td>⋮</td><td>⋮</td><td>⋮</td><td>⋮</td><td>⋮</td><td>⋮</td><td>⋮</td><td>⋮</td><td>⋮</td></tr>\n",
       "\t<tr><td>WGWR01000001_1_Christensenellaceae_bacterium_isolate_COPD122_SB1785_bin_21</td><td>d__Bacteria</td><td>p__Firmicutes_A</td><td>c__Clostridia_A</td><td>o__Christensenellales</td><td>f__CAG-74</td><td>g__UBA11524</td><td>s__UBA11524 sp000437595</td><td>GCA_000437595.1</td><td>95.0</td><td>⋯</td><td>GCA_000437595.1</td><td>95.0</td><td>d__Bacteria;p__Firmicutes_A;c__Clostridia_A;o__Christensenellales;f__CAG-74;g__UBA11524;s__UBA11524 sp000437595</td><td>97.32</td><td>0.89</td><td>N/A</td><td>92.40</td><td>11</td><td>N/A</td><td>N/A</td></tr>\n",
       "\t<tr><td>WGWS01000001_1_Christensenellaceae_bacterium_isolate_COPD123_SB1786_bin_39</td><td>d__Bacteria</td><td>p__Firmicutes_A</td><td>c__Clostridia_A</td><td>o__Christensenellales</td><td>f__CAG-74</td><td>g__UBA11524</td><td>s__UBA11524 sp000437595</td><td>GCA_000437595.1</td><td>95.0</td><td>⋯</td><td>GCA_000437595.1</td><td>95.0</td><td>d__Bacteria;p__Firmicutes_A;c__Clostridia_A;o__Christensenellales;f__CAG-74;g__UBA11524;s__UBA11524 sp000437595</td><td>98.03</td><td>0.88</td><td>N/A</td><td>92.16</td><td>11</td><td>N/A</td><td>N/A</td></tr>\n",
       "</tbody>\n",
       "</table>\n"
      ],
      "text/latex": [
       "A data.frame: 44 × 23\n",
       "\\begin{tabular}{lllllllllllllllllllll}\n",
       " user\\_genome & Domain & Phylum & Class & Order & Family & Genus & Species & fastani\\_reference & fastani\\_reference\\_radius & ⋯ & closest\\_placement\\_reference & closest\\_placement\\_radius & closest\\_placement\\_taxonomy & closest\\_placement\\_ani & closest\\_placement\\_af & other\\_related\\_references.genome\\_id.species\\_name.radius.ANI.AF. & msa\\_percent & translation\\_table & red\\_value & warnings\\\\\n",
       " <fct> & <chr> & <chr> & <chr> & <chr> & <chr> & <chr> & <chr> & <fct> & <fct> & ⋯ & <fct> & <fct> & <fct> & <fct> & <fct> & <fct> & <dbl> & <int> & <fct> & <fct>\\\\\n",
       "\\hline\n",
       "\t CAADUP010000001\\_1\\_TPA\\_asm\\_Christensenellaceae\\_bacterium\\_isolate\\_HGM11615 & d\\_\\_Bacteria & p\\_\\_Firmicutes\\_A & c\\_\\_Clostridia\\_A & o\\_\\_Christensenellales & f\\_\\_Christensenellaceae & g\\_\\_UMGS743 & s\\_\\_UMGS743 sp900545085 & GCA\\_900545085.1 & 95.0 & ⋯ & GCA\\_900545085.1 & 95.0 & d\\_\\_Bacteria;p\\_\\_Firmicutes\\_A;c\\_\\_Clostridia\\_A;o\\_\\_Christensenellales;f\\_\\_Christensenellaceae;g\\_\\_UMGS743;s\\_\\_UMGS743 sp900545085 & 99.7 & 0.81 & N/A & 78.27 & 11 & N/A                & N/A\\\\\n",
       "\t CAAFJJ010000001\\_1\\_TPA\\_asm\\_Christensenellaceae\\_bacterium\\_isolate\\_HGM11614 & d\\_\\_Bacteria & p\\_\\_Firmicutes\\_A & c\\_\\_Clostridia\\_A & o\\_\\_Christensenellales & f\\_\\_Christensenellaceae & g\\_\\_        & s\\_\\_                    & N/A             & N/A  & ⋯ & N/A             & N/A  & N/A                                                                                                                        & N/A  & N/A  & N/A & 73.73 & 11 & 0.8049018204100806 & N/A\\\\\n",
       "\t ⋮ & ⋮ & ⋮ & ⋮ & ⋮ & ⋮ & ⋮ & ⋮ & ⋮ & ⋮ & ⋱ & ⋮ & ⋮ & ⋮ & ⋮ & ⋮ & ⋮ & ⋮ & ⋮ & ⋮ & ⋮\\\\\n",
       "\t WGWR01000001\\_1\\_Christensenellaceae\\_bacterium\\_isolate\\_COPD122\\_SB1785\\_bin\\_21 & d\\_\\_Bacteria & p\\_\\_Firmicutes\\_A & c\\_\\_Clostridia\\_A & o\\_\\_Christensenellales & f\\_\\_CAG-74 & g\\_\\_UBA11524 & s\\_\\_UBA11524 sp000437595 & GCA\\_000437595.1 & 95.0 & ⋯ & GCA\\_000437595.1 & 95.0 & d\\_\\_Bacteria;p\\_\\_Firmicutes\\_A;c\\_\\_Clostridia\\_A;o\\_\\_Christensenellales;f\\_\\_CAG-74;g\\_\\_UBA11524;s\\_\\_UBA11524 sp000437595 & 97.32 & 0.89 & N/A & 92.40 & 11 & N/A & N/A\\\\\n",
       "\t WGWS01000001\\_1\\_Christensenellaceae\\_bacterium\\_isolate\\_COPD123\\_SB1786\\_bin\\_39 & d\\_\\_Bacteria & p\\_\\_Firmicutes\\_A & c\\_\\_Clostridia\\_A & o\\_\\_Christensenellales & f\\_\\_CAG-74 & g\\_\\_UBA11524 & s\\_\\_UBA11524 sp000437595 & GCA\\_000437595.1 & 95.0 & ⋯ & GCA\\_000437595.1 & 95.0 & d\\_\\_Bacteria;p\\_\\_Firmicutes\\_A;c\\_\\_Clostridia\\_A;o\\_\\_Christensenellales;f\\_\\_CAG-74;g\\_\\_UBA11524;s\\_\\_UBA11524 sp000437595 & 98.03 & 0.88 & N/A & 92.16 & 11 & N/A & N/A\\\\\n",
       "\\end{tabular}\n"
      ],
      "text/markdown": [
       "\n",
       "A data.frame: 44 × 23\n",
       "\n",
       "| user_genome &lt;fct&gt; | Domain &lt;chr&gt; | Phylum &lt;chr&gt; | Class &lt;chr&gt; | Order &lt;chr&gt; | Family &lt;chr&gt; | Genus &lt;chr&gt; | Species &lt;chr&gt; | fastani_reference &lt;fct&gt; | fastani_reference_radius &lt;fct&gt; | ⋯ ⋯ | closest_placement_reference &lt;fct&gt; | closest_placement_radius &lt;fct&gt; | closest_placement_taxonomy &lt;fct&gt; | closest_placement_ani &lt;fct&gt; | closest_placement_af &lt;fct&gt; | other_related_references.genome_id.species_name.radius.ANI.AF. &lt;fct&gt; | msa_percent &lt;dbl&gt; | translation_table &lt;int&gt; | red_value &lt;fct&gt; | warnings &lt;fct&gt; |\n",
       "|---|---|---|---|---|---|---|---|---|---|---|---|---|---|---|---|---|---|---|---|---|\n",
       "| CAADUP010000001_1_TPA_asm_Christensenellaceae_bacterium_isolate_HGM11615 | d__Bacteria | p__Firmicutes_A | c__Clostridia_A | o__Christensenellales | f__Christensenellaceae | g__UMGS743 | s__UMGS743 sp900545085 | GCA_900545085.1 | 95.0 | ⋯ | GCA_900545085.1 | 95.0 | d__Bacteria;p__Firmicutes_A;c__Clostridia_A;o__Christensenellales;f__Christensenellaceae;g__UMGS743;s__UMGS743 sp900545085 | 99.7 | 0.81 | N/A | 78.27 | 11 | N/A                | N/A |\n",
       "| CAAFJJ010000001_1_TPA_asm_Christensenellaceae_bacterium_isolate_HGM11614 | d__Bacteria | p__Firmicutes_A | c__Clostridia_A | o__Christensenellales | f__Christensenellaceae | g__        | s__                    | N/A             | N/A  | ⋯ | N/A             | N/A  | N/A                                                                                                                        | N/A  | N/A  | N/A | 73.73 | 11 | 0.8049018204100806 | N/A |\n",
       "| ⋮ | ⋮ | ⋮ | ⋮ | ⋮ | ⋮ | ⋮ | ⋮ | ⋮ | ⋮ | ⋱ | ⋮ | ⋮ | ⋮ | ⋮ | ⋮ | ⋮ | ⋮ | ⋮ | ⋮ | ⋮ |\n",
       "| WGWR01000001_1_Christensenellaceae_bacterium_isolate_COPD122_SB1785_bin_21 | d__Bacteria | p__Firmicutes_A | c__Clostridia_A | o__Christensenellales | f__CAG-74 | g__UBA11524 | s__UBA11524 sp000437595 | GCA_000437595.1 | 95.0 | ⋯ | GCA_000437595.1 | 95.0 | d__Bacteria;p__Firmicutes_A;c__Clostridia_A;o__Christensenellales;f__CAG-74;g__UBA11524;s__UBA11524 sp000437595 | 97.32 | 0.89 | N/A | 92.40 | 11 | N/A | N/A |\n",
       "| WGWS01000001_1_Christensenellaceae_bacterium_isolate_COPD123_SB1786_bin_39 | d__Bacteria | p__Firmicutes_A | c__Clostridia_A | o__Christensenellales | f__CAG-74 | g__UBA11524 | s__UBA11524 sp000437595 | GCA_000437595.1 | 95.0 | ⋯ | GCA_000437595.1 | 95.0 | d__Bacteria;p__Firmicutes_A;c__Clostridia_A;o__Christensenellales;f__CAG-74;g__UBA11524;s__UBA11524 sp000437595 | 98.03 | 0.88 | N/A | 92.16 | 11 | N/A | N/A |\n",
       "\n"
      ],
      "text/plain": [
       "   user_genome                                                               \n",
       "1  CAADUP010000001_1_TPA_asm_Christensenellaceae_bacterium_isolate_HGM11615  \n",
       "2  CAAFJJ010000001_1_TPA_asm_Christensenellaceae_bacterium_isolate_HGM11614  \n",
       "⋮  ⋮                                                                         \n",
       "43 WGWR01000001_1_Christensenellaceae_bacterium_isolate_COPD122_SB1785_bin_21\n",
       "44 WGWS01000001_1_Christensenellaceae_bacterium_isolate_COPD123_SB1786_bin_39\n",
       "   Domain      Phylum          Class           Order                \n",
       "1  d__Bacteria p__Firmicutes_A c__Clostridia_A o__Christensenellales\n",
       "2  d__Bacteria p__Firmicutes_A c__Clostridia_A o__Christensenellales\n",
       "⋮  ⋮           ⋮               ⋮               ⋮                    \n",
       "43 d__Bacteria p__Firmicutes_A c__Clostridia_A o__Christensenellales\n",
       "44 d__Bacteria p__Firmicutes_A c__Clostridia_A o__Christensenellales\n",
       "   Family                 Genus       Species                 fastani_reference\n",
       "1  f__Christensenellaceae g__UMGS743  s__UMGS743 sp900545085  GCA_900545085.1  \n",
       "2  f__Christensenellaceae g__         s__                     N/A              \n",
       "⋮  ⋮                      ⋮           ⋮                       ⋮                \n",
       "43 f__CAG-74              g__UBA11524 s__UBA11524 sp000437595 GCA_000437595.1  \n",
       "44 f__CAG-74              g__UBA11524 s__UBA11524 sp000437595 GCA_000437595.1  \n",
       "   fastani_reference_radius ⋯ closest_placement_reference\n",
       "1  95.0                     ⋯ GCA_900545085.1            \n",
       "2  N/A                      ⋯ N/A                        \n",
       "⋮  ⋮                        ⋱ ⋮                          \n",
       "43 95.0                     ⋯ GCA_000437595.1            \n",
       "44 95.0                     ⋯ GCA_000437595.1            \n",
       "   closest_placement_radius\n",
       "1  95.0                    \n",
       "2  N/A                     \n",
       "⋮  ⋮                       \n",
       "43 95.0                    \n",
       "44 95.0                    \n",
       "   closest_placement_taxonomy                                                                                                \n",
       "1  d__Bacteria;p__Firmicutes_A;c__Clostridia_A;o__Christensenellales;f__Christensenellaceae;g__UMGS743;s__UMGS743 sp900545085\n",
       "2  N/A                                                                                                                       \n",
       "⋮  ⋮                                                                                                                         \n",
       "43 d__Bacteria;p__Firmicutes_A;c__Clostridia_A;o__Christensenellales;f__CAG-74;g__UBA11524;s__UBA11524 sp000437595           \n",
       "44 d__Bacteria;p__Firmicutes_A;c__Clostridia_A;o__Christensenellales;f__CAG-74;g__UBA11524;s__UBA11524 sp000437595           \n",
       "   closest_placement_ani closest_placement_af\n",
       "1  99.7                  0.81                \n",
       "2  N/A                   N/A                 \n",
       "⋮  ⋮                     ⋮                   \n",
       "43 97.32                 0.89                \n",
       "44 98.03                 0.88                \n",
       "   other_related_references.genome_id.species_name.radius.ANI.AF. msa_percent\n",
       "1  N/A                                                            78.27      \n",
       "2  N/A                                                            73.73      \n",
       "⋮  ⋮                                                              ⋮          \n",
       "43 N/A                                                            92.40      \n",
       "44 N/A                                                            92.16      \n",
       "   translation_table red_value          warnings\n",
       "1  11                N/A                N/A     \n",
       "2  11                0.8049018204100806 N/A     \n",
       "⋮  ⋮                 ⋮                  ⋮       \n",
       "43 11                N/A                N/A     \n",
       "44 11                N/A                N/A     "
      ]
     },
     "metadata": {},
     "output_type": "display_data"
    }
   ],
   "source": [
    "# GTDBTk summary\n",
    "tax = file.path(work_dir, 'gtdbtk', 'gtdbtk_bac_summary.tsv') %>%\n",
    "    read.delim(, sep='\\t') %>%\n",
    "    separate(classification, \n",
    "             c('Domain', 'Phylum', 'Class', 'Order', 'Family', 'Genus', 'Species'),\n",
    "             sep=';') %>%\n",
    "    select(-note, -classification_method, -pplacer_taxonomy)\n",
    "tax"
   ]
  },
  {
   "cell_type": "code",
   "execution_count": 72,
   "metadata": {},
   "outputs": [
    {
     "name": "stdout",
     "output_type": "stream",
     "text": [
      "-- drep --\n",
      "intersect(x,y): 30 \n",
      "setdiff(x,y): 0 \n",
      "setdiff(y,x): 14 \n",
      "union(x,y): 44 \n",
      "-- checkm --\n",
      "intersect(x,y): 44 \n",
      "setdiff(x,y): 0 \n",
      "setdiff(y,x): 0 \n",
      "union(x,y): 44 \n",
      "-- gtdbtk --\n",
      "intersect(x,y): 44 \n",
      "setdiff(x,y): 0 \n",
      "setdiff(y,x): 0 \n",
      "union(x,y): 44 \n"
     ]
    }
   ],
   "source": [
    "# checking overlap\n",
    "cat('-- drep --\\n')\n",
    "overlap(basename(as.character(drep_gen$Fasta)), \n",
    "        basename(as.character(drep$genome)))\n",
    "cat('-- checkm --\\n')\n",
    "overlap(drep$Bin.Id, checkm$Bin.Id)\n",
    "cat('-- gtdbtk --\\n')\n",
    "overlap(drep$Bin.Id, tax$user_genome)"
   ]
  },
  {
   "cell_type": "code",
   "execution_count": 73,
   "metadata": {},
   "outputs": [
    {
     "data": {
      "text/html": [
       "<table>\n",
       "<caption>A data.frame: 30 × 61</caption>\n",
       "<thead>\n",
       "\t<tr><th scope=col>genome</th><th scope=col>completeness</th><th scope=col>contamination</th><th scope=col>Bin.Id</th><th scope=col>Marker.lineage</th><th scope=col>X..genomes</th><th scope=col>X..markers</th><th scope=col>X..marker.sets</th><th scope=col>Completeness</th><th scope=col>Contamination</th><th scope=col>⋯</th><th scope=col>closest_placement_reference</th><th scope=col>closest_placement_radius</th><th scope=col>closest_placement_taxonomy</th><th scope=col>closest_placement_ani</th><th scope=col>closest_placement_af</th><th scope=col>other_related_references.genome_id.species_name.radius.ANI.AF.</th><th scope=col>msa_percent</th><th scope=col>translation_table</th><th scope=col>red_value</th><th scope=col>warnings</th></tr>\n",
       "\t<tr><th scope=col>&lt;fct&gt;</th><th scope=col>&lt;dbl&gt;</th><th scope=col>&lt;dbl&gt;</th><th scope=col>&lt;chr&gt;</th><th scope=col>&lt;fct&gt;</th><th scope=col>&lt;int&gt;</th><th scope=col>&lt;int&gt;</th><th scope=col>&lt;int&gt;</th><th scope=col>&lt;dbl&gt;</th><th scope=col>&lt;dbl&gt;</th><th scope=col>⋯</th><th scope=col>&lt;fct&gt;</th><th scope=col>&lt;fct&gt;</th><th scope=col>&lt;fct&gt;</th><th scope=col>&lt;fct&gt;</th><th scope=col>&lt;fct&gt;</th><th scope=col>&lt;fct&gt;</th><th scope=col>&lt;dbl&gt;</th><th scope=col>&lt;int&gt;</th><th scope=col>&lt;fct&gt;</th><th scope=col>&lt;fct&gt;</th></tr>\n",
       "</thead>\n",
       "<tbody>\n",
       "\t<tr><td>/ebio/abt3_scratch/nyoungblut/LLG_62325884640/genomes/CABKWJ010000001_1_Christensenella_timonensis_isolate_MGYG_HGUT_01550.fna</td><td>97.98</td><td>0.81</td><td>CABKWJ010000001_1_Christensenella_timonensis_isolate_MGYG_HGUT_01550</td><td>c__Clostridia (UID1118)</td><td>387</td><td>223</td><td>124</td><td>97.98</td><td>0.81</td><td>⋯</td><td>GCF_900087015.1</td><td>95.0</td><td>d__Bacteria;p__Firmicutes_A;c__Clostridia_A;o__Christensenellales;f__Christensenellaceae;g__Christensenella_A;s__Christensenella_A timonensis</td><td>100.0</td><td>1.0 </td><td>N/A                                                                                                                                    </td><td>95.42</td><td>11</td><td>N/A</td><td>N/A</td></tr>\n",
       "\t<tr><td>/ebio/abt3_scratch/nyoungblut/LLG_62325884640/genomes/CP029256_1_Christensenella_minuta_strain_DSM_22607_chromosome.fna       </td><td>98.39</td><td>0.81</td><td>CP029256_1_Christensenella_minuta_strain_DSM_22607_chromosome       </td><td>c__Clostridia (UID1118)</td><td>387</td><td>223</td><td>124</td><td>98.39</td><td>0.81</td><td>⋯</td><td>GCF_003628755.1</td><td>95.0</td><td>d__Bacteria;p__Firmicutes_A;c__Clostridia_A;o__Christensenellales;f__Christensenellaceae;g__Christensenella;s__Christensenella minuta        </td><td>100.0</td><td>0.99</td><td>GCF_001678845.1, s__Christensenella sp001678845, 95.0, 83.51, 0.69; GCF_900155415.1, s__Christensenella massiliensis, 95.0, 80.27, 0.47</td><td>95.42</td><td>11</td><td>N/A</td><td>N/A</td></tr>\n",
       "\t<tr><td>⋮</td><td>⋮</td><td>⋮</td><td>⋮</td><td>⋮</td><td>⋮</td><td>⋮</td><td>⋮</td><td>⋮</td><td>⋮</td><td>⋱</td><td>⋮</td><td>⋮</td><td>⋮</td><td>⋮</td><td>⋮</td><td>⋮</td><td>⋮</td><td>⋮</td><td>⋮</td><td>⋮</td></tr>\n",
       "\t<tr><td>/ebio/abt3_scratch/nyoungblut/LLG_62325884640/genomes/WGWR01000001_1_Christensenellaceae_bacterium_isolate_COPD122_SB1785_bin_21.fna</td><td>99.3</td><td>1.17</td><td>WGWR01000001_1_Christensenellaceae_bacterium_isolate_COPD122_SB1785_bin_21</td><td>o__Clostridiales (UID1120)</td><td>304</td><td>250</td><td>143</td><td>99.3</td><td>1.17</td><td>⋯</td><td>GCA_000437595.1</td><td>95.0</td><td>d__Bacteria;p__Firmicutes_A;c__Clostridia_A;o__Christensenellales;f__CAG-74;g__UBA11524;s__UBA11524 sp000437595</td><td>97.32</td><td>0.89</td><td>N/A</td><td>92.40</td><td>11</td><td>N/A</td><td>N/A</td></tr>\n",
       "\t<tr><td>/ebio/abt3_scratch/nyoungblut/LLG_62325884640/genomes/WGWS01000001_1_Christensenellaceae_bacterium_isolate_COPD123_SB1786_bin_39.fna</td><td>98.6</td><td>1.17</td><td>WGWS01000001_1_Christensenellaceae_bacterium_isolate_COPD123_SB1786_bin_39</td><td>o__Clostridiales (UID1120)</td><td>304</td><td>250</td><td>143</td><td>98.6</td><td>1.17</td><td>⋯</td><td>GCA_000437595.1</td><td>95.0</td><td>d__Bacteria;p__Firmicutes_A;c__Clostridia_A;o__Christensenellales;f__CAG-74;g__UBA11524;s__UBA11524 sp000437595</td><td>98.03</td><td>0.88</td><td>N/A</td><td>92.16</td><td>11</td><td>N/A</td><td>N/A</td></tr>\n",
       "</tbody>\n",
       "</table>\n"
      ],
      "text/latex": [
       "A data.frame: 30 × 61\n",
       "\\begin{tabular}{lllllllllllllllllllll}\n",
       " genome & completeness & contamination & Bin.Id & Marker.lineage & X..genomes & X..markers & X..marker.sets & Completeness & Contamination & ⋯ & closest\\_placement\\_reference & closest\\_placement\\_radius & closest\\_placement\\_taxonomy & closest\\_placement\\_ani & closest\\_placement\\_af & other\\_related\\_references.genome\\_id.species\\_name.radius.ANI.AF. & msa\\_percent & translation\\_table & red\\_value & warnings\\\\\n",
       " <fct> & <dbl> & <dbl> & <chr> & <fct> & <int> & <int> & <int> & <dbl> & <dbl> & ⋯ & <fct> & <fct> & <fct> & <fct> & <fct> & <fct> & <dbl> & <int> & <fct> & <fct>\\\\\n",
       "\\hline\n",
       "\t /ebio/abt3\\_scratch/nyoungblut/LLG\\_62325884640/genomes/CABKWJ010000001\\_1\\_Christensenella\\_timonensis\\_isolate\\_MGYG\\_HGUT\\_01550.fna & 97.98 & 0.81 & CABKWJ010000001\\_1\\_Christensenella\\_timonensis\\_isolate\\_MGYG\\_HGUT\\_01550 & c\\_\\_Clostridia (UID1118) & 387 & 223 & 124 & 97.98 & 0.81 & ⋯ & GCF\\_900087015.1 & 95.0 & d\\_\\_Bacteria;p\\_\\_Firmicutes\\_A;c\\_\\_Clostridia\\_A;o\\_\\_Christensenellales;f\\_\\_Christensenellaceae;g\\_\\_Christensenella\\_A;s\\_\\_Christensenella\\_A timonensis & 100.0 & 1.0  & N/A                                                                                                                                     & 95.42 & 11 & N/A & N/A\\\\\n",
       "\t /ebio/abt3\\_scratch/nyoungblut/LLG\\_62325884640/genomes/CP029256\\_1\\_Christensenella\\_minuta\\_strain\\_DSM\\_22607\\_chromosome.fna        & 98.39 & 0.81 & CP029256\\_1\\_Christensenella\\_minuta\\_strain\\_DSM\\_22607\\_chromosome        & c\\_\\_Clostridia (UID1118) & 387 & 223 & 124 & 98.39 & 0.81 & ⋯ & GCF\\_003628755.1 & 95.0 & d\\_\\_Bacteria;p\\_\\_Firmicutes\\_A;c\\_\\_Clostridia\\_A;o\\_\\_Christensenellales;f\\_\\_Christensenellaceae;g\\_\\_Christensenella;s\\_\\_Christensenella minuta         & 100.0 & 0.99 & GCF\\_001678845.1, s\\_\\_Christensenella sp001678845, 95.0, 83.51, 0.69; GCF\\_900155415.1, s\\_\\_Christensenella massiliensis, 95.0, 80.27, 0.47 & 95.42 & 11 & N/A & N/A\\\\\n",
       "\t ⋮ & ⋮ & ⋮ & ⋮ & ⋮ & ⋮ & ⋮ & ⋮ & ⋮ & ⋮ & ⋱ & ⋮ & ⋮ & ⋮ & ⋮ & ⋮ & ⋮ & ⋮ & ⋮ & ⋮ & ⋮\\\\\n",
       "\t /ebio/abt3\\_scratch/nyoungblut/LLG\\_62325884640/genomes/WGWR01000001\\_1\\_Christensenellaceae\\_bacterium\\_isolate\\_COPD122\\_SB1785\\_bin\\_21.fna & 99.3 & 1.17 & WGWR01000001\\_1\\_Christensenellaceae\\_bacterium\\_isolate\\_COPD122\\_SB1785\\_bin\\_21 & o\\_\\_Clostridiales (UID1120) & 304 & 250 & 143 & 99.3 & 1.17 & ⋯ & GCA\\_000437595.1 & 95.0 & d\\_\\_Bacteria;p\\_\\_Firmicutes\\_A;c\\_\\_Clostridia\\_A;o\\_\\_Christensenellales;f\\_\\_CAG-74;g\\_\\_UBA11524;s\\_\\_UBA11524 sp000437595 & 97.32 & 0.89 & N/A & 92.40 & 11 & N/A & N/A\\\\\n",
       "\t /ebio/abt3\\_scratch/nyoungblut/LLG\\_62325884640/genomes/WGWS01000001\\_1\\_Christensenellaceae\\_bacterium\\_isolate\\_COPD123\\_SB1786\\_bin\\_39.fna & 98.6 & 1.17 & WGWS01000001\\_1\\_Christensenellaceae\\_bacterium\\_isolate\\_COPD123\\_SB1786\\_bin\\_39 & o\\_\\_Clostridiales (UID1120) & 304 & 250 & 143 & 98.6 & 1.17 & ⋯ & GCA\\_000437595.1 & 95.0 & d\\_\\_Bacteria;p\\_\\_Firmicutes\\_A;c\\_\\_Clostridia\\_A;o\\_\\_Christensenellales;f\\_\\_CAG-74;g\\_\\_UBA11524;s\\_\\_UBA11524 sp000437595 & 98.03 & 0.88 & N/A & 92.16 & 11 & N/A & N/A\\\\\n",
       "\\end{tabular}\n"
      ],
      "text/markdown": [
       "\n",
       "A data.frame: 30 × 61\n",
       "\n",
       "| genome &lt;fct&gt; | completeness &lt;dbl&gt; | contamination &lt;dbl&gt; | Bin.Id &lt;chr&gt; | Marker.lineage &lt;fct&gt; | X..genomes &lt;int&gt; | X..markers &lt;int&gt; | X..marker.sets &lt;int&gt; | Completeness &lt;dbl&gt; | Contamination &lt;dbl&gt; | ⋯ ⋯ | closest_placement_reference &lt;fct&gt; | closest_placement_radius &lt;fct&gt; | closest_placement_taxonomy &lt;fct&gt; | closest_placement_ani &lt;fct&gt; | closest_placement_af &lt;fct&gt; | other_related_references.genome_id.species_name.radius.ANI.AF. &lt;fct&gt; | msa_percent &lt;dbl&gt; | translation_table &lt;int&gt; | red_value &lt;fct&gt; | warnings &lt;fct&gt; |\n",
       "|---|---|---|---|---|---|---|---|---|---|---|---|---|---|---|---|---|---|---|---|---|\n",
       "| /ebio/abt3_scratch/nyoungblut/LLG_62325884640/genomes/CABKWJ010000001_1_Christensenella_timonensis_isolate_MGYG_HGUT_01550.fna | 97.98 | 0.81 | CABKWJ010000001_1_Christensenella_timonensis_isolate_MGYG_HGUT_01550 | c__Clostridia (UID1118) | 387 | 223 | 124 | 97.98 | 0.81 | ⋯ | GCF_900087015.1 | 95.0 | d__Bacteria;p__Firmicutes_A;c__Clostridia_A;o__Christensenellales;f__Christensenellaceae;g__Christensenella_A;s__Christensenella_A timonensis | 100.0 | 1.0  | N/A                                                                                                                                     | 95.42 | 11 | N/A | N/A |\n",
       "| /ebio/abt3_scratch/nyoungblut/LLG_62325884640/genomes/CP029256_1_Christensenella_minuta_strain_DSM_22607_chromosome.fna        | 98.39 | 0.81 | CP029256_1_Christensenella_minuta_strain_DSM_22607_chromosome        | c__Clostridia (UID1118) | 387 | 223 | 124 | 98.39 | 0.81 | ⋯ | GCF_003628755.1 | 95.0 | d__Bacteria;p__Firmicutes_A;c__Clostridia_A;o__Christensenellales;f__Christensenellaceae;g__Christensenella;s__Christensenella minuta         | 100.0 | 0.99 | GCF_001678845.1, s__Christensenella sp001678845, 95.0, 83.51, 0.69; GCF_900155415.1, s__Christensenella massiliensis, 95.0, 80.27, 0.47 | 95.42 | 11 | N/A | N/A |\n",
       "| ⋮ | ⋮ | ⋮ | ⋮ | ⋮ | ⋮ | ⋮ | ⋮ | ⋮ | ⋮ | ⋱ | ⋮ | ⋮ | ⋮ | ⋮ | ⋮ | ⋮ | ⋮ | ⋮ | ⋮ | ⋮ |\n",
       "| /ebio/abt3_scratch/nyoungblut/LLG_62325884640/genomes/WGWR01000001_1_Christensenellaceae_bacterium_isolate_COPD122_SB1785_bin_21.fna | 99.3 | 1.17 | WGWR01000001_1_Christensenellaceae_bacterium_isolate_COPD122_SB1785_bin_21 | o__Clostridiales (UID1120) | 304 | 250 | 143 | 99.3 | 1.17 | ⋯ | GCA_000437595.1 | 95.0 | d__Bacteria;p__Firmicutes_A;c__Clostridia_A;o__Christensenellales;f__CAG-74;g__UBA11524;s__UBA11524 sp000437595 | 97.32 | 0.89 | N/A | 92.40 | 11 | N/A | N/A |\n",
       "| /ebio/abt3_scratch/nyoungblut/LLG_62325884640/genomes/WGWS01000001_1_Christensenellaceae_bacterium_isolate_COPD123_SB1786_bin_39.fna | 98.6 | 1.17 | WGWS01000001_1_Christensenellaceae_bacterium_isolate_COPD123_SB1786_bin_39 | o__Clostridiales (UID1120) | 304 | 250 | 143 | 98.6 | 1.17 | ⋯ | GCA_000437595.1 | 95.0 | d__Bacteria;p__Firmicutes_A;c__Clostridia_A;o__Christensenellales;f__CAG-74;g__UBA11524;s__UBA11524 sp000437595 | 98.03 | 0.88 | N/A | 92.16 | 11 | N/A | N/A |\n",
       "\n"
      ],
      "text/plain": [
       "   genome                                                                                                                              \n",
       "1  /ebio/abt3_scratch/nyoungblut/LLG_62325884640/genomes/CABKWJ010000001_1_Christensenella_timonensis_isolate_MGYG_HGUT_01550.fna      \n",
       "2  /ebio/abt3_scratch/nyoungblut/LLG_62325884640/genomes/CP029256_1_Christensenella_minuta_strain_DSM_22607_chromosome.fna             \n",
       "⋮  ⋮                                                                                                                                   \n",
       "29 /ebio/abt3_scratch/nyoungblut/LLG_62325884640/genomes/WGWR01000001_1_Christensenellaceae_bacterium_isolate_COPD122_SB1785_bin_21.fna\n",
       "30 /ebio/abt3_scratch/nyoungblut/LLG_62325884640/genomes/WGWS01000001_1_Christensenellaceae_bacterium_isolate_COPD123_SB1786_bin_39.fna\n",
       "   completeness contamination\n",
       "1  97.98        0.81         \n",
       "2  98.39        0.81         \n",
       "⋮  ⋮            ⋮            \n",
       "29 99.3         1.17         \n",
       "30 98.6         1.17         \n",
       "   Bin.Id                                                                    \n",
       "1  CABKWJ010000001_1_Christensenella_timonensis_isolate_MGYG_HGUT_01550      \n",
       "2  CP029256_1_Christensenella_minuta_strain_DSM_22607_chromosome             \n",
       "⋮  ⋮                                                                         \n",
       "29 WGWR01000001_1_Christensenellaceae_bacterium_isolate_COPD122_SB1785_bin_21\n",
       "30 WGWS01000001_1_Christensenellaceae_bacterium_isolate_COPD123_SB1786_bin_39\n",
       "   Marker.lineage             X..genomes X..markers X..marker.sets Completeness\n",
       "1  c__Clostridia (UID1118)    387        223        124            97.98       \n",
       "2  c__Clostridia (UID1118)    387        223        124            98.39       \n",
       "⋮  ⋮                          ⋮          ⋮          ⋮              ⋮           \n",
       "29 o__Clostridiales (UID1120) 304        250        143            99.3        \n",
       "30 o__Clostridiales (UID1120) 304        250        143            98.6        \n",
       "   Contamination ⋯ closest_placement_reference closest_placement_radius\n",
       "1  0.81          ⋯ GCF_900087015.1             95.0                    \n",
       "2  0.81          ⋯ GCF_003628755.1             95.0                    \n",
       "⋮  ⋮             ⋱ ⋮                           ⋮                       \n",
       "29 1.17          ⋯ GCA_000437595.1             95.0                    \n",
       "30 1.17          ⋯ GCA_000437595.1             95.0                    \n",
       "   closest_placement_taxonomy                                                                                                                   \n",
       "1  d__Bacteria;p__Firmicutes_A;c__Clostridia_A;o__Christensenellales;f__Christensenellaceae;g__Christensenella_A;s__Christensenella_A timonensis\n",
       "2  d__Bacteria;p__Firmicutes_A;c__Clostridia_A;o__Christensenellales;f__Christensenellaceae;g__Christensenella;s__Christensenella minuta        \n",
       "⋮  ⋮                                                                                                                                            \n",
       "29 d__Bacteria;p__Firmicutes_A;c__Clostridia_A;o__Christensenellales;f__CAG-74;g__UBA11524;s__UBA11524 sp000437595                              \n",
       "30 d__Bacteria;p__Firmicutes_A;c__Clostridia_A;o__Christensenellales;f__CAG-74;g__UBA11524;s__UBA11524 sp000437595                              \n",
       "   closest_placement_ani closest_placement_af\n",
       "1  100.0                 1.0                 \n",
       "2  100.0                 0.99                \n",
       "⋮  ⋮                     ⋮                   \n",
       "29 97.32                 0.89                \n",
       "30 98.03                 0.88                \n",
       "   other_related_references.genome_id.species_name.radius.ANI.AF.                                                                         \n",
       "1  N/A                                                                                                                                    \n",
       "2  GCF_001678845.1, s__Christensenella sp001678845, 95.0, 83.51, 0.69; GCF_900155415.1, s__Christensenella massiliensis, 95.0, 80.27, 0.47\n",
       "⋮  ⋮                                                                                                                                      \n",
       "29 N/A                                                                                                                                    \n",
       "30 N/A                                                                                                                                    \n",
       "   msa_percent translation_table red_value warnings\n",
       "1  95.42       11                N/A       N/A     \n",
       "2  95.42       11                N/A       N/A     \n",
       "⋮  ⋮           ⋮                 ⋮         ⋮       \n",
       "29 92.40       11                N/A       N/A     \n",
       "30 92.16       11                N/A       N/A     "
      ]
     },
     "metadata": {},
     "output_type": "display_data"
    }
   ],
   "source": [
    "# joining based on Bin.Id\n",
    "drep = drep %>%\n",
    "    inner_join(checkm, c('Bin.Id')) %>%\n",
    "    mutate(GEN = genome %>% as.character %>% basename) %>%\n",
    "    inner_join(drep_gen %>% mutate(GEN = Fasta %>% as.character %>% basename),\n",
    "               by=c('GEN')) %>%\n",
    "    inner_join(tax, c('Bin.Id'='user_genome')) #%>%\n",
    "    #mutate(genome = gsub('/ebio/abt3_scratch/nyoungblut/LLG_62325884640/genomes/',\n",
    "    #                     )\n",
    "drep"
   ]
  },
  {
   "cell_type": "markdown",
   "metadata": {},
   "source": [
    "### High quality genomes"
   ]
  },
  {
   "cell_type": "code",
   "execution_count": 103,
   "metadata": {},
   "outputs": [
    {
     "data": {
      "text/html": [
       "<table>\n",
       "<caption>A data.frame: 20 × 61</caption>\n",
       "<thead>\n",
       "\t<tr><th scope=col>genome</th><th scope=col>completeness</th><th scope=col>contamination</th><th scope=col>Bin.Id</th><th scope=col>Marker.lineage</th><th scope=col>X..genomes</th><th scope=col>X..markers</th><th scope=col>X..marker.sets</th><th scope=col>Completeness</th><th scope=col>Contamination</th><th scope=col>⋯</th><th scope=col>closest_placement_reference</th><th scope=col>closest_placement_radius</th><th scope=col>closest_placement_taxonomy</th><th scope=col>closest_placement_ani</th><th scope=col>closest_placement_af</th><th scope=col>other_related_references.genome_id.species_name.radius.ANI.AF.</th><th scope=col>msa_percent</th><th scope=col>translation_table</th><th scope=col>red_value</th><th scope=col>warnings</th></tr>\n",
       "\t<tr><th scope=col>&lt;fct&gt;</th><th scope=col>&lt;dbl&gt;</th><th scope=col>&lt;dbl&gt;</th><th scope=col>&lt;chr&gt;</th><th scope=col>&lt;fct&gt;</th><th scope=col>&lt;int&gt;</th><th scope=col>&lt;int&gt;</th><th scope=col>&lt;int&gt;</th><th scope=col>&lt;dbl&gt;</th><th scope=col>&lt;dbl&gt;</th><th scope=col>⋯</th><th scope=col>&lt;fct&gt;</th><th scope=col>&lt;fct&gt;</th><th scope=col>&lt;fct&gt;</th><th scope=col>&lt;fct&gt;</th><th scope=col>&lt;fct&gt;</th><th scope=col>&lt;fct&gt;</th><th scope=col>&lt;dbl&gt;</th><th scope=col>&lt;int&gt;</th><th scope=col>&lt;fct&gt;</th><th scope=col>&lt;fct&gt;</th></tr>\n",
       "</thead>\n",
       "<tbody>\n",
       "\t<tr><td>/ebio/abt3_scratch/nyoungblut/LLG_62325884640/genomes/CABKWJ010000001_1_Christensenella_timonensis_isolate_MGYG_HGUT_01550.fna</td><td>97.98</td><td>0.81</td><td>CABKWJ010000001_1_Christensenella_timonensis_isolate_MGYG_HGUT_01550</td><td>c__Clostridia (UID1118)</td><td>387</td><td>223</td><td>124</td><td>97.98</td><td>0.81</td><td>⋯</td><td>GCF_900087015.1</td><td>95.0</td><td>d__Bacteria;p__Firmicutes_A;c__Clostridia_A;o__Christensenellales;f__Christensenellaceae;g__Christensenella_A;s__Christensenella_A timonensis</td><td>100.0</td><td>1.0 </td><td>N/A                                                                                                                                    </td><td>95.42</td><td>11</td><td>N/A</td><td>N/A</td></tr>\n",
       "\t<tr><td>/ebio/abt3_scratch/nyoungblut/LLG_62325884640/genomes/CP029256_1_Christensenella_minuta_strain_DSM_22607_chromosome.fna       </td><td>98.39</td><td>0.81</td><td>CP029256_1_Christensenella_minuta_strain_DSM_22607_chromosome       </td><td>c__Clostridia (UID1118)</td><td>387</td><td>223</td><td>124</td><td>98.39</td><td>0.81</td><td>⋯</td><td>GCF_003628755.1</td><td>95.0</td><td>d__Bacteria;p__Firmicutes_A;c__Clostridia_A;o__Christensenellales;f__Christensenellaceae;g__Christensenella;s__Christensenella minuta        </td><td>100.0</td><td>0.99</td><td>GCF_001678845.1, s__Christensenella sp001678845, 95.0, 83.51, 0.69; GCF_900155415.1, s__Christensenella massiliensis, 95.0, 80.27, 0.47</td><td>95.42</td><td>11</td><td>N/A</td><td>N/A</td></tr>\n",
       "\t<tr><td>⋮</td><td>⋮</td><td>⋮</td><td>⋮</td><td>⋮</td><td>⋮</td><td>⋮</td><td>⋮</td><td>⋮</td><td>⋮</td><td>⋱</td><td>⋮</td><td>⋮</td><td>⋮</td><td>⋮</td><td>⋮</td><td>⋮</td><td>⋮</td><td>⋮</td><td>⋮</td><td>⋮</td></tr>\n",
       "\t<tr><td>/ebio/abt3_scratch/nyoungblut/LLG_62325884640/genomes/WGWR01000001_1_Christensenellaceae_bacterium_isolate_COPD122_SB1785_bin_21.fna</td><td>99.3</td><td>1.17</td><td>WGWR01000001_1_Christensenellaceae_bacterium_isolate_COPD122_SB1785_bin_21</td><td>o__Clostridiales (UID1120)</td><td>304</td><td>250</td><td>143</td><td>99.3</td><td>1.17</td><td>⋯</td><td>GCA_000437595.1</td><td>95.0</td><td>d__Bacteria;p__Firmicutes_A;c__Clostridia_A;o__Christensenellales;f__CAG-74;g__UBA11524;s__UBA11524 sp000437595</td><td>97.32</td><td>0.89</td><td>N/A</td><td>92.40</td><td>11</td><td>N/A</td><td>N/A</td></tr>\n",
       "\t<tr><td>/ebio/abt3_scratch/nyoungblut/LLG_62325884640/genomes/WGWS01000001_1_Christensenellaceae_bacterium_isolate_COPD123_SB1786_bin_39.fna</td><td>98.6</td><td>1.17</td><td>WGWS01000001_1_Christensenellaceae_bacterium_isolate_COPD123_SB1786_bin_39</td><td>o__Clostridiales (UID1120)</td><td>304</td><td>250</td><td>143</td><td>98.6</td><td>1.17</td><td>⋯</td><td>GCA_000437595.1</td><td>95.0</td><td>d__Bacteria;p__Firmicutes_A;c__Clostridia_A;o__Christensenellales;f__CAG-74;g__UBA11524;s__UBA11524 sp000437595</td><td>98.03</td><td>0.88</td><td>N/A</td><td>92.16</td><td>11</td><td>N/A</td><td>N/A</td></tr>\n",
       "</tbody>\n",
       "</table>\n"
      ],
      "text/latex": [
       "A data.frame: 20 × 61\n",
       "\\begin{tabular}{lllllllllllllllllllll}\n",
       " genome & completeness & contamination & Bin.Id & Marker.lineage & X..genomes & X..markers & X..marker.sets & Completeness & Contamination & ⋯ & closest\\_placement\\_reference & closest\\_placement\\_radius & closest\\_placement\\_taxonomy & closest\\_placement\\_ani & closest\\_placement\\_af & other\\_related\\_references.genome\\_id.species\\_name.radius.ANI.AF. & msa\\_percent & translation\\_table & red\\_value & warnings\\\\\n",
       " <fct> & <dbl> & <dbl> & <chr> & <fct> & <int> & <int> & <int> & <dbl> & <dbl> & ⋯ & <fct> & <fct> & <fct> & <fct> & <fct> & <fct> & <dbl> & <int> & <fct> & <fct>\\\\\n",
       "\\hline\n",
       "\t /ebio/abt3\\_scratch/nyoungblut/LLG\\_62325884640/genomes/CABKWJ010000001\\_1\\_Christensenella\\_timonensis\\_isolate\\_MGYG\\_HGUT\\_01550.fna & 97.98 & 0.81 & CABKWJ010000001\\_1\\_Christensenella\\_timonensis\\_isolate\\_MGYG\\_HGUT\\_01550 & c\\_\\_Clostridia (UID1118) & 387 & 223 & 124 & 97.98 & 0.81 & ⋯ & GCF\\_900087015.1 & 95.0 & d\\_\\_Bacteria;p\\_\\_Firmicutes\\_A;c\\_\\_Clostridia\\_A;o\\_\\_Christensenellales;f\\_\\_Christensenellaceae;g\\_\\_Christensenella\\_A;s\\_\\_Christensenella\\_A timonensis & 100.0 & 1.0  & N/A                                                                                                                                     & 95.42 & 11 & N/A & N/A\\\\\n",
       "\t /ebio/abt3\\_scratch/nyoungblut/LLG\\_62325884640/genomes/CP029256\\_1\\_Christensenella\\_minuta\\_strain\\_DSM\\_22607\\_chromosome.fna        & 98.39 & 0.81 & CP029256\\_1\\_Christensenella\\_minuta\\_strain\\_DSM\\_22607\\_chromosome        & c\\_\\_Clostridia (UID1118) & 387 & 223 & 124 & 98.39 & 0.81 & ⋯ & GCF\\_003628755.1 & 95.0 & d\\_\\_Bacteria;p\\_\\_Firmicutes\\_A;c\\_\\_Clostridia\\_A;o\\_\\_Christensenellales;f\\_\\_Christensenellaceae;g\\_\\_Christensenella;s\\_\\_Christensenella minuta         & 100.0 & 0.99 & GCF\\_001678845.1, s\\_\\_Christensenella sp001678845, 95.0, 83.51, 0.69; GCF\\_900155415.1, s\\_\\_Christensenella massiliensis, 95.0, 80.27, 0.47 & 95.42 & 11 & N/A & N/A\\\\\n",
       "\t ⋮ & ⋮ & ⋮ & ⋮ & ⋮ & ⋮ & ⋮ & ⋮ & ⋮ & ⋮ & ⋱ & ⋮ & ⋮ & ⋮ & ⋮ & ⋮ & ⋮ & ⋮ & ⋮ & ⋮ & ⋮\\\\\n",
       "\t /ebio/abt3\\_scratch/nyoungblut/LLG\\_62325884640/genomes/WGWR01000001\\_1\\_Christensenellaceae\\_bacterium\\_isolate\\_COPD122\\_SB1785\\_bin\\_21.fna & 99.3 & 1.17 & WGWR01000001\\_1\\_Christensenellaceae\\_bacterium\\_isolate\\_COPD122\\_SB1785\\_bin\\_21 & o\\_\\_Clostridiales (UID1120) & 304 & 250 & 143 & 99.3 & 1.17 & ⋯ & GCA\\_000437595.1 & 95.0 & d\\_\\_Bacteria;p\\_\\_Firmicutes\\_A;c\\_\\_Clostridia\\_A;o\\_\\_Christensenellales;f\\_\\_CAG-74;g\\_\\_UBA11524;s\\_\\_UBA11524 sp000437595 & 97.32 & 0.89 & N/A & 92.40 & 11 & N/A & N/A\\\\\n",
       "\t /ebio/abt3\\_scratch/nyoungblut/LLG\\_62325884640/genomes/WGWS01000001\\_1\\_Christensenellaceae\\_bacterium\\_isolate\\_COPD123\\_SB1786\\_bin\\_39.fna & 98.6 & 1.17 & WGWS01000001\\_1\\_Christensenellaceae\\_bacterium\\_isolate\\_COPD123\\_SB1786\\_bin\\_39 & o\\_\\_Clostridiales (UID1120) & 304 & 250 & 143 & 98.6 & 1.17 & ⋯ & GCA\\_000437595.1 & 95.0 & d\\_\\_Bacteria;p\\_\\_Firmicutes\\_A;c\\_\\_Clostridia\\_A;o\\_\\_Christensenellales;f\\_\\_CAG-74;g\\_\\_UBA11524;s\\_\\_UBA11524 sp000437595 & 98.03 & 0.88 & N/A & 92.16 & 11 & N/A & N/A\\\\\n",
       "\\end{tabular}\n"
      ],
      "text/markdown": [
       "\n",
       "A data.frame: 20 × 61\n",
       "\n",
       "| genome &lt;fct&gt; | completeness &lt;dbl&gt; | contamination &lt;dbl&gt; | Bin.Id &lt;chr&gt; | Marker.lineage &lt;fct&gt; | X..genomes &lt;int&gt; | X..markers &lt;int&gt; | X..marker.sets &lt;int&gt; | Completeness &lt;dbl&gt; | Contamination &lt;dbl&gt; | ⋯ ⋯ | closest_placement_reference &lt;fct&gt; | closest_placement_radius &lt;fct&gt; | closest_placement_taxonomy &lt;fct&gt; | closest_placement_ani &lt;fct&gt; | closest_placement_af &lt;fct&gt; | other_related_references.genome_id.species_name.radius.ANI.AF. &lt;fct&gt; | msa_percent &lt;dbl&gt; | translation_table &lt;int&gt; | red_value &lt;fct&gt; | warnings &lt;fct&gt; |\n",
       "|---|---|---|---|---|---|---|---|---|---|---|---|---|---|---|---|---|---|---|---|---|\n",
       "| /ebio/abt3_scratch/nyoungblut/LLG_62325884640/genomes/CABKWJ010000001_1_Christensenella_timonensis_isolate_MGYG_HGUT_01550.fna | 97.98 | 0.81 | CABKWJ010000001_1_Christensenella_timonensis_isolate_MGYG_HGUT_01550 | c__Clostridia (UID1118) | 387 | 223 | 124 | 97.98 | 0.81 | ⋯ | GCF_900087015.1 | 95.0 | d__Bacteria;p__Firmicutes_A;c__Clostridia_A;o__Christensenellales;f__Christensenellaceae;g__Christensenella_A;s__Christensenella_A timonensis | 100.0 | 1.0  | N/A                                                                                                                                     | 95.42 | 11 | N/A | N/A |\n",
       "| /ebio/abt3_scratch/nyoungblut/LLG_62325884640/genomes/CP029256_1_Christensenella_minuta_strain_DSM_22607_chromosome.fna        | 98.39 | 0.81 | CP029256_1_Christensenella_minuta_strain_DSM_22607_chromosome        | c__Clostridia (UID1118) | 387 | 223 | 124 | 98.39 | 0.81 | ⋯ | GCF_003628755.1 | 95.0 | d__Bacteria;p__Firmicutes_A;c__Clostridia_A;o__Christensenellales;f__Christensenellaceae;g__Christensenella;s__Christensenella minuta         | 100.0 | 0.99 | GCF_001678845.1, s__Christensenella sp001678845, 95.0, 83.51, 0.69; GCF_900155415.1, s__Christensenella massiliensis, 95.0, 80.27, 0.47 | 95.42 | 11 | N/A | N/A |\n",
       "| ⋮ | ⋮ | ⋮ | ⋮ | ⋮ | ⋮ | ⋮ | ⋮ | ⋮ | ⋮ | ⋱ | ⋮ | ⋮ | ⋮ | ⋮ | ⋮ | ⋮ | ⋮ | ⋮ | ⋮ | ⋮ |\n",
       "| /ebio/abt3_scratch/nyoungblut/LLG_62325884640/genomes/WGWR01000001_1_Christensenellaceae_bacterium_isolate_COPD122_SB1785_bin_21.fna | 99.3 | 1.17 | WGWR01000001_1_Christensenellaceae_bacterium_isolate_COPD122_SB1785_bin_21 | o__Clostridiales (UID1120) | 304 | 250 | 143 | 99.3 | 1.17 | ⋯ | GCA_000437595.1 | 95.0 | d__Bacteria;p__Firmicutes_A;c__Clostridia_A;o__Christensenellales;f__CAG-74;g__UBA11524;s__UBA11524 sp000437595 | 97.32 | 0.89 | N/A | 92.40 | 11 | N/A | N/A |\n",
       "| /ebio/abt3_scratch/nyoungblut/LLG_62325884640/genomes/WGWS01000001_1_Christensenellaceae_bacterium_isolate_COPD123_SB1786_bin_39.fna | 98.6 | 1.17 | WGWS01000001_1_Christensenellaceae_bacterium_isolate_COPD123_SB1786_bin_39 | o__Clostridiales (UID1120) | 304 | 250 | 143 | 98.6 | 1.17 | ⋯ | GCA_000437595.1 | 95.0 | d__Bacteria;p__Firmicutes_A;c__Clostridia_A;o__Christensenellales;f__CAG-74;g__UBA11524;s__UBA11524 sp000437595 | 98.03 | 0.88 | N/A | 92.16 | 11 | N/A | N/A |\n",
       "\n"
      ],
      "text/plain": [
       "   genome                                                                                                                              \n",
       "1  /ebio/abt3_scratch/nyoungblut/LLG_62325884640/genomes/CABKWJ010000001_1_Christensenella_timonensis_isolate_MGYG_HGUT_01550.fna      \n",
       "2  /ebio/abt3_scratch/nyoungblut/LLG_62325884640/genomes/CP029256_1_Christensenella_minuta_strain_DSM_22607_chromosome.fna             \n",
       "⋮  ⋮                                                                                                                                   \n",
       "19 /ebio/abt3_scratch/nyoungblut/LLG_62325884640/genomes/WGWR01000001_1_Christensenellaceae_bacterium_isolate_COPD122_SB1785_bin_21.fna\n",
       "20 /ebio/abt3_scratch/nyoungblut/LLG_62325884640/genomes/WGWS01000001_1_Christensenellaceae_bacterium_isolate_COPD123_SB1786_bin_39.fna\n",
       "   completeness contamination\n",
       "1  97.98        0.81         \n",
       "2  98.39        0.81         \n",
       "⋮  ⋮            ⋮            \n",
       "19 99.3         1.17         \n",
       "20 98.6         1.17         \n",
       "   Bin.Id                                                                    \n",
       "1  CABKWJ010000001_1_Christensenella_timonensis_isolate_MGYG_HGUT_01550      \n",
       "2  CP029256_1_Christensenella_minuta_strain_DSM_22607_chromosome             \n",
       "⋮  ⋮                                                                         \n",
       "19 WGWR01000001_1_Christensenellaceae_bacterium_isolate_COPD122_SB1785_bin_21\n",
       "20 WGWS01000001_1_Christensenellaceae_bacterium_isolate_COPD123_SB1786_bin_39\n",
       "   Marker.lineage             X..genomes X..markers X..marker.sets Completeness\n",
       "1  c__Clostridia (UID1118)    387        223        124            97.98       \n",
       "2  c__Clostridia (UID1118)    387        223        124            98.39       \n",
       "⋮  ⋮                          ⋮          ⋮          ⋮              ⋮           \n",
       "19 o__Clostridiales (UID1120) 304        250        143            99.3        \n",
       "20 o__Clostridiales (UID1120) 304        250        143            98.6        \n",
       "   Contamination ⋯ closest_placement_reference closest_placement_radius\n",
       "1  0.81          ⋯ GCF_900087015.1             95.0                    \n",
       "2  0.81          ⋯ GCF_003628755.1             95.0                    \n",
       "⋮  ⋮             ⋱ ⋮                           ⋮                       \n",
       "19 1.17          ⋯ GCA_000437595.1             95.0                    \n",
       "20 1.17          ⋯ GCA_000437595.1             95.0                    \n",
       "   closest_placement_taxonomy                                                                                                                   \n",
       "1  d__Bacteria;p__Firmicutes_A;c__Clostridia_A;o__Christensenellales;f__Christensenellaceae;g__Christensenella_A;s__Christensenella_A timonensis\n",
       "2  d__Bacteria;p__Firmicutes_A;c__Clostridia_A;o__Christensenellales;f__Christensenellaceae;g__Christensenella;s__Christensenella minuta        \n",
       "⋮  ⋮                                                                                                                                            \n",
       "19 d__Bacteria;p__Firmicutes_A;c__Clostridia_A;o__Christensenellales;f__CAG-74;g__UBA11524;s__UBA11524 sp000437595                              \n",
       "20 d__Bacteria;p__Firmicutes_A;c__Clostridia_A;o__Christensenellales;f__CAG-74;g__UBA11524;s__UBA11524 sp000437595                              \n",
       "   closest_placement_ani closest_placement_af\n",
       "1  100.0                 1.0                 \n",
       "2  100.0                 0.99                \n",
       "⋮  ⋮                     ⋮                   \n",
       "19 97.32                 0.89                \n",
       "20 98.03                 0.88                \n",
       "   other_related_references.genome_id.species_name.radius.ANI.AF.                                                                         \n",
       "1  N/A                                                                                                                                    \n",
       "2  GCF_001678845.1, s__Christensenella sp001678845, 95.0, 83.51, 0.69; GCF_900155415.1, s__Christensenella massiliensis, 95.0, 80.27, 0.47\n",
       "⋮  ⋮                                                                                                                                      \n",
       "19 N/A                                                                                                                                    \n",
       "20 N/A                                                                                                                                    \n",
       "   msa_percent translation_table red_value warnings\n",
       "1  95.42       11                N/A       N/A     \n",
       "2  95.42       11                N/A       N/A     \n",
       "⋮  ⋮           ⋮                 ⋮         ⋮       \n",
       "19 92.40       11                N/A       N/A     \n",
       "20 92.16       11                N/A       N/A     "
      ]
     },
     "metadata": {},
     "output_type": "display_data"
    }
   ],
   "source": [
    "# filtering by quality\n",
    "hq_genomes = drep %>%\n",
    "    filter(completeness >= 95,\n",
    "           contamination < 5,\n",
    "           Strain.heterogeneity < 50,\n",
    "           Genome.size..bp. >= 2e6,\n",
    "           X..predicted.genes >= 2000,\n",
    "           X..contigs <= 200)\n",
    "hq_genomes"
   ]
  },
  {
   "cell_type": "code",
   "execution_count": 104,
   "metadata": {},
   "outputs": [
    {
     "data": {
      "text/html": [
       "<table>\n",
       "<caption>A tibble: 10 × 3</caption>\n",
       "<thead>\n",
       "\t<tr><th scope=col>Family</th><th scope=col>Genus</th><th scope=col>n_genomes</th></tr>\n",
       "\t<tr><th scope=col>&lt;chr&gt;</th><th scope=col>&lt;chr&gt;</th><th scope=col>&lt;int&gt;</th></tr>\n",
       "</thead>\n",
       "<tbody>\n",
       "\t<tr><td>f__                   </td><td>g__                 </td><td>1</td></tr>\n",
       "\t<tr><td>f__CAG-138            </td><td>g__PeH17            </td><td>1</td></tr>\n",
       "\t<tr><td>f__CAG-138            </td><td>g__Phil1            </td><td>2</td></tr>\n",
       "\t<tr><td>f__CAG-74             </td><td>g__Firm-11          </td><td>2</td></tr>\n",
       "\t<tr><td>f__CAG-74             </td><td>g__UBA11524         </td><td>6</td></tr>\n",
       "\t<tr><td>f__Christensenellaceae</td><td>g__                 </td><td>1</td></tr>\n",
       "\t<tr><td>f__Christensenellaceae</td><td>g__Christensenella  </td><td>4</td></tr>\n",
       "\t<tr><td>f__Christensenellaceae</td><td>g__Christensenella_A</td><td>1</td></tr>\n",
       "\t<tr><td>f__GCA-900066905      </td><td>g__GCA-900066905    </td><td>1</td></tr>\n",
       "\t<tr><td>f__MARSEILLE-P3954    </td><td>g__MARSEILLE-P3954  </td><td>1</td></tr>\n",
       "</tbody>\n",
       "</table>\n"
      ],
      "text/latex": [
       "A tibble: 10 × 3\n",
       "\\begin{tabular}{lll}\n",
       " Family & Genus & n\\_genomes\\\\\n",
       " <chr> & <chr> & <int>\\\\\n",
       "\\hline\n",
       "\t f\\_\\_                    & g\\_\\_                  & 1\\\\\n",
       "\t f\\_\\_CAG-138             & g\\_\\_PeH17             & 1\\\\\n",
       "\t f\\_\\_CAG-138             & g\\_\\_Phil1             & 2\\\\\n",
       "\t f\\_\\_CAG-74              & g\\_\\_Firm-11           & 2\\\\\n",
       "\t f\\_\\_CAG-74              & g\\_\\_UBA11524          & 6\\\\\n",
       "\t f\\_\\_Christensenellaceae & g\\_\\_                  & 1\\\\\n",
       "\t f\\_\\_Christensenellaceae & g\\_\\_Christensenella   & 4\\\\\n",
       "\t f\\_\\_Christensenellaceae & g\\_\\_Christensenella\\_A & 1\\\\\n",
       "\t f\\_\\_GCA-900066905       & g\\_\\_GCA-900066905     & 1\\\\\n",
       "\t f\\_\\_MARSEILLE-P3954     & g\\_\\_MARSEILLE-P3954   & 1\\\\\n",
       "\\end{tabular}\n"
      ],
      "text/markdown": [
       "\n",
       "A tibble: 10 × 3\n",
       "\n",
       "| Family &lt;chr&gt; | Genus &lt;chr&gt; | n_genomes &lt;int&gt; |\n",
       "|---|---|---|\n",
       "| f__                    | g__                  | 1 |\n",
       "| f__CAG-138             | g__PeH17             | 1 |\n",
       "| f__CAG-138             | g__Phil1             | 2 |\n",
       "| f__CAG-74              | g__Firm-11           | 2 |\n",
       "| f__CAG-74              | g__UBA11524          | 6 |\n",
       "| f__Christensenellaceae | g__                  | 1 |\n",
       "| f__Christensenellaceae | g__Christensenella   | 4 |\n",
       "| f__Christensenellaceae | g__Christensenella_A | 1 |\n",
       "| f__GCA-900066905       | g__GCA-900066905     | 1 |\n",
       "| f__MARSEILLE-P3954     | g__MARSEILLE-P3954   | 1 |\n",
       "\n"
      ],
      "text/plain": [
       "   Family                 Genus                n_genomes\n",
       "1  f__                    g__                  1        \n",
       "2  f__CAG-138             g__PeH17             1        \n",
       "3  f__CAG-138             g__Phil1             2        \n",
       "4  f__CAG-74              g__Firm-11           2        \n",
       "5  f__CAG-74              g__UBA11524          6        \n",
       "6  f__Christensenellaceae g__                  1        \n",
       "7  f__Christensenellaceae g__Christensenella   4        \n",
       "8  f__Christensenellaceae g__Christensenella_A 1        \n",
       "9  f__GCA-900066905       g__GCA-900066905     1        \n",
       "10 f__MARSEILLE-P3954     g__MARSEILLE-P3954   1        "
      ]
     },
     "metadata": {},
     "output_type": "display_data"
    }
   ],
   "source": [
    "# summarizing the taxonomy\n",
    "df.dims(20)\n",
    "hq_genomes %>%\n",
    "    group_by(Family, Genus) %>%\n",
    "    summarize(n_genomes = n(), .groups='drop')\n",
    "df.dims()"
   ]
  },
  {
   "cell_type": "code",
   "execution_count": 105,
   "metadata": {},
   "outputs": [
    {
     "data": {
      "text/html": [
       "<table>\n",
       "<caption>A tibble: 6 × 3</caption>\n",
       "<thead>\n",
       "\t<tr><th scope=col>Order</th><th scope=col>Family</th><th scope=col>n_genomes</th></tr>\n",
       "\t<tr><th scope=col>&lt;chr&gt;</th><th scope=col>&lt;chr&gt;</th><th scope=col>&lt;int&gt;</th></tr>\n",
       "</thead>\n",
       "<tbody>\n",
       "\t<tr><td>o__Christensenellales</td><td>f__                   </td><td>1</td></tr>\n",
       "\t<tr><td>o__Christensenellales</td><td>f__CAG-138            </td><td>3</td></tr>\n",
       "\t<tr><td>o__Christensenellales</td><td>f__CAG-74             </td><td>8</td></tr>\n",
       "\t<tr><td>o__Christensenellales</td><td>f__Christensenellaceae</td><td>6</td></tr>\n",
       "\t<tr><td>o__Christensenellales</td><td>f__GCA-900066905      </td><td>1</td></tr>\n",
       "\t<tr><td>o__Christensenellales</td><td>f__MARSEILLE-P3954    </td><td>1</td></tr>\n",
       "</tbody>\n",
       "</table>\n"
      ],
      "text/latex": [
       "A tibble: 6 × 3\n",
       "\\begin{tabular}{lll}\n",
       " Order & Family & n\\_genomes\\\\\n",
       " <chr> & <chr> & <int>\\\\\n",
       "\\hline\n",
       "\t o\\_\\_Christensenellales & f\\_\\_                    & 1\\\\\n",
       "\t o\\_\\_Christensenellales & f\\_\\_CAG-138             & 3\\\\\n",
       "\t o\\_\\_Christensenellales & f\\_\\_CAG-74              & 8\\\\\n",
       "\t o\\_\\_Christensenellales & f\\_\\_Christensenellaceae & 6\\\\\n",
       "\t o\\_\\_Christensenellales & f\\_\\_GCA-900066905       & 1\\\\\n",
       "\t o\\_\\_Christensenellales & f\\_\\_MARSEILLE-P3954     & 1\\\\\n",
       "\\end{tabular}\n"
      ],
      "text/markdown": [
       "\n",
       "A tibble: 6 × 3\n",
       "\n",
       "| Order &lt;chr&gt; | Family &lt;chr&gt; | n_genomes &lt;int&gt; |\n",
       "|---|---|---|\n",
       "| o__Christensenellales | f__                    | 1 |\n",
       "| o__Christensenellales | f__CAG-138             | 3 |\n",
       "| o__Christensenellales | f__CAG-74              | 8 |\n",
       "| o__Christensenellales | f__Christensenellaceae | 6 |\n",
       "| o__Christensenellales | f__GCA-900066905       | 1 |\n",
       "| o__Christensenellales | f__MARSEILLE-P3954     | 1 |\n",
       "\n"
      ],
      "text/plain": [
       "  Order                 Family                 n_genomes\n",
       "1 o__Christensenellales f__                    1        \n",
       "2 o__Christensenellales f__CAG-138             3        \n",
       "3 o__Christensenellales f__CAG-74              8        \n",
       "4 o__Christensenellales f__Christensenellaceae 6        \n",
       "5 o__Christensenellales f__GCA-900066905       1        \n",
       "6 o__Christensenellales f__MARSEILLE-P3954     1        "
      ]
     },
     "metadata": {},
     "output_type": "display_data"
    }
   ],
   "source": [
    "# summarizing the taxonomy\n",
    "df.dims(20)\n",
    "hq_genomes %>%\n",
    "    group_by(Order, Family) %>%\n",
    "    summarize(n_genomes = n(), .groups='drop')\n",
    "df.dims()"
   ]
  },
  {
   "cell_type": "code",
   "execution_count": 106,
   "metadata": {},
   "outputs": [
    {
     "data": {
      "text/html": [
       "<table>\n",
       "<caption>A data.frame: 5 × 61</caption>\n",
       "<thead>\n",
       "\t<tr><th scope=col>genome</th><th scope=col>completeness</th><th scope=col>contamination</th><th scope=col>Bin.Id</th><th scope=col>Marker.lineage</th><th scope=col>X..genomes</th><th scope=col>X..markers</th><th scope=col>X..marker.sets</th><th scope=col>Completeness</th><th scope=col>Contamination</th><th scope=col>⋯</th><th scope=col>closest_placement_reference</th><th scope=col>closest_placement_radius</th><th scope=col>closest_placement_taxonomy</th><th scope=col>closest_placement_ani</th><th scope=col>closest_placement_af</th><th scope=col>other_related_references.genome_id.species_name.radius.ANI.AF.</th><th scope=col>msa_percent</th><th scope=col>translation_table</th><th scope=col>red_value</th><th scope=col>warnings</th></tr>\n",
       "\t<tr><th scope=col>&lt;fct&gt;</th><th scope=col>&lt;dbl&gt;</th><th scope=col>&lt;dbl&gt;</th><th scope=col>&lt;chr&gt;</th><th scope=col>&lt;fct&gt;</th><th scope=col>&lt;int&gt;</th><th scope=col>&lt;int&gt;</th><th scope=col>&lt;int&gt;</th><th scope=col>&lt;dbl&gt;</th><th scope=col>&lt;dbl&gt;</th><th scope=col>⋯</th><th scope=col>&lt;fct&gt;</th><th scope=col>&lt;fct&gt;</th><th scope=col>&lt;fct&gt;</th><th scope=col>&lt;fct&gt;</th><th scope=col>&lt;fct&gt;</th><th scope=col>&lt;fct&gt;</th><th scope=col>&lt;dbl&gt;</th><th scope=col>&lt;int&gt;</th><th scope=col>&lt;fct&gt;</th><th scope=col>&lt;fct&gt;</th></tr>\n",
       "</thead>\n",
       "<tbody>\n",
       "\t<tr><td>/ebio/abt3_scratch/nyoungblut/LLG_62325884640/genomes/CABKWJ010000001_1_Christensenella_timonensis_isolate_MGYG_HGUT_01550.fna</td><td>97.98</td><td>0.81</td><td>CABKWJ010000001_1_Christensenella_timonensis_isolate_MGYG_HGUT_01550</td><td>c__Clostridia (UID1118)</td><td>387</td><td>223</td><td>124</td><td>97.98</td><td>0.81</td><td>⋯</td><td>GCF_900087015.1</td><td>95.0</td><td>d__Bacteria;p__Firmicutes_A;c__Clostridia_A;o__Christensenellales;f__Christensenellaceae;g__Christensenella_A;s__Christensenella_A timonensis</td><td>100.0</td><td>1.0 </td><td>N/A                                                                                                                                    </td><td>95.42</td><td>11</td><td>N/A</td><td>N/A</td></tr>\n",
       "\t<tr><td>/ebio/abt3_scratch/nyoungblut/LLG_62325884640/genomes/CP029256_1_Christensenella_minuta_strain_DSM_22607_chromosome.fna       </td><td>98.39</td><td>0.81</td><td>CP029256_1_Christensenella_minuta_strain_DSM_22607_chromosome       </td><td>c__Clostridia (UID1118)</td><td>387</td><td>223</td><td>124</td><td>98.39</td><td>0.81</td><td>⋯</td><td>GCF_003628755.1</td><td>95.0</td><td>d__Bacteria;p__Firmicutes_A;c__Clostridia_A;o__Christensenellales;f__Christensenellaceae;g__Christensenella;s__Christensenella minuta        </td><td>100.0</td><td>0.99</td><td>GCF_001678845.1, s__Christensenella sp001678845, 95.0, 83.51, 0.69; GCF_900155415.1, s__Christensenella massiliensis, 95.0, 80.27, 0.47</td><td>95.42</td><td>11</td><td>N/A</td><td>N/A</td></tr>\n",
       "\t<tr><td>⋮</td><td>⋮</td><td>⋮</td><td>⋮</td><td>⋮</td><td>⋮</td><td>⋮</td><td>⋮</td><td>⋮</td><td>⋮</td><td>⋱</td><td>⋮</td><td>⋮</td><td>⋮</td><td>⋮</td><td>⋮</td><td>⋮</td><td>⋮</td><td>⋮</td><td>⋮</td><td>⋮</td></tr>\n",
       "\t<tr><td>/ebio/abt3_scratch/nyoungblut/LLG_62325884640/genomes/CABMKF010000001_1_Christensenellaceae_bacterium_isolate_MGYG_HGUT_02411.fna</td><td>99.19</td><td>0.81</td><td>CABMKF010000001_1_Christensenellaceae_bacterium_isolate_MGYG_HGUT_02411</td><td>c__Clostridia (UID1118)</td><td>387</td><td>223</td><td>124</td><td>99.19</td><td>0.81</td><td>⋯</td><td>GCF_001678845.1</td><td>95.0</td><td>d__Bacteria;p__Firmicutes_A;c__Clostridia_A;o__Christensenellales;f__Christensenellaceae;g__Christensenella;s__Christensenella sp001678845</td><td>100.0</td><td>1.0</td><td>GCF_003628755.1, s__Christensenella minuta, 95.0, 83.51, 0.69; GCF_900155415.1, s__Christensenella massiliensis, 95.0, 79.67, 0.42                                                                   </td><td>95.34</td><td>11</td><td>N/A               </td><td>N/A</td></tr>\n",
       "\t<tr><td>/ebio/abt3_scratch/nyoungblut/LLG_62325884640/genomes/JACOON010000001_1_Christensenella_sp__NSJ_35_HPD3569.fna                   </td><td>99.19</td><td>0.81</td><td>JACOON010000001_1_Christensenella_sp__NSJ_35_HPD3569                   </td><td>c__Clostridia (UID1118)</td><td>387</td><td>223</td><td>124</td><td>99.19</td><td>0.81</td><td>⋯</td><td>N/A            </td><td>N/A </td><td>N/A                                                                                                                                       </td><td>N/A  </td><td>N/A</td><td>GCF_003628755.1, s__Christensenella minuta, 95.0, 83.81, 0.61; GCF_001678845.1, s__Christensenella sp001678845, 95.0, 81.27, 0.53; GCF_900155415.1, s__Christensenella massiliensis, 95.0, 80.1, 0.42</td><td>95.36</td><td>11</td><td>0.9760390971090127</td><td>N/A</td></tr>\n",
       "</tbody>\n",
       "</table>\n"
      ],
      "text/latex": [
       "A data.frame: 5 × 61\n",
       "\\begin{tabular}{lllllllllllllllllllll}\n",
       " genome & completeness & contamination & Bin.Id & Marker.lineage & X..genomes & X..markers & X..marker.sets & Completeness & Contamination & ⋯ & closest\\_placement\\_reference & closest\\_placement\\_radius & closest\\_placement\\_taxonomy & closest\\_placement\\_ani & closest\\_placement\\_af & other\\_related\\_references.genome\\_id.species\\_name.radius.ANI.AF. & msa\\_percent & translation\\_table & red\\_value & warnings\\\\\n",
       " <fct> & <dbl> & <dbl> & <chr> & <fct> & <int> & <int> & <int> & <dbl> & <dbl> & ⋯ & <fct> & <fct> & <fct> & <fct> & <fct> & <fct> & <dbl> & <int> & <fct> & <fct>\\\\\n",
       "\\hline\n",
       "\t /ebio/abt3\\_scratch/nyoungblut/LLG\\_62325884640/genomes/CABKWJ010000001\\_1\\_Christensenella\\_timonensis\\_isolate\\_MGYG\\_HGUT\\_01550.fna & 97.98 & 0.81 & CABKWJ010000001\\_1\\_Christensenella\\_timonensis\\_isolate\\_MGYG\\_HGUT\\_01550 & c\\_\\_Clostridia (UID1118) & 387 & 223 & 124 & 97.98 & 0.81 & ⋯ & GCF\\_900087015.1 & 95.0 & d\\_\\_Bacteria;p\\_\\_Firmicutes\\_A;c\\_\\_Clostridia\\_A;o\\_\\_Christensenellales;f\\_\\_Christensenellaceae;g\\_\\_Christensenella\\_A;s\\_\\_Christensenella\\_A timonensis & 100.0 & 1.0  & N/A                                                                                                                                     & 95.42 & 11 & N/A & N/A\\\\\n",
       "\t /ebio/abt3\\_scratch/nyoungblut/LLG\\_62325884640/genomes/CP029256\\_1\\_Christensenella\\_minuta\\_strain\\_DSM\\_22607\\_chromosome.fna        & 98.39 & 0.81 & CP029256\\_1\\_Christensenella\\_minuta\\_strain\\_DSM\\_22607\\_chromosome        & c\\_\\_Clostridia (UID1118) & 387 & 223 & 124 & 98.39 & 0.81 & ⋯ & GCF\\_003628755.1 & 95.0 & d\\_\\_Bacteria;p\\_\\_Firmicutes\\_A;c\\_\\_Clostridia\\_A;o\\_\\_Christensenellales;f\\_\\_Christensenellaceae;g\\_\\_Christensenella;s\\_\\_Christensenella minuta         & 100.0 & 0.99 & GCF\\_001678845.1, s\\_\\_Christensenella sp001678845, 95.0, 83.51, 0.69; GCF\\_900155415.1, s\\_\\_Christensenella massiliensis, 95.0, 80.27, 0.47 & 95.42 & 11 & N/A & N/A\\\\\n",
       "\t ⋮ & ⋮ & ⋮ & ⋮ & ⋮ & ⋮ & ⋮ & ⋮ & ⋮ & ⋮ & ⋱ & ⋮ & ⋮ & ⋮ & ⋮ & ⋮ & ⋮ & ⋮ & ⋮ & ⋮ & ⋮\\\\\n",
       "\t /ebio/abt3\\_scratch/nyoungblut/LLG\\_62325884640/genomes/CABMKF010000001\\_1\\_Christensenellaceae\\_bacterium\\_isolate\\_MGYG\\_HGUT\\_02411.fna & 99.19 & 0.81 & CABMKF010000001\\_1\\_Christensenellaceae\\_bacterium\\_isolate\\_MGYG\\_HGUT\\_02411 & c\\_\\_Clostridia (UID1118) & 387 & 223 & 124 & 99.19 & 0.81 & ⋯ & GCF\\_001678845.1 & 95.0 & d\\_\\_Bacteria;p\\_\\_Firmicutes\\_A;c\\_\\_Clostridia\\_A;o\\_\\_Christensenellales;f\\_\\_Christensenellaceae;g\\_\\_Christensenella;s\\_\\_Christensenella sp001678845 & 100.0 & 1.0 & GCF\\_003628755.1, s\\_\\_Christensenella minuta, 95.0, 83.51, 0.69; GCF\\_900155415.1, s\\_\\_Christensenella massiliensis, 95.0, 79.67, 0.42                                                                    & 95.34 & 11 & N/A                & N/A\\\\\n",
       "\t /ebio/abt3\\_scratch/nyoungblut/LLG\\_62325884640/genomes/JACOON010000001\\_1\\_Christensenella\\_sp\\_\\_NSJ\\_35\\_HPD3569.fna                    & 99.19 & 0.81 & JACOON010000001\\_1\\_Christensenella\\_sp\\_\\_NSJ\\_35\\_HPD3569                    & c\\_\\_Clostridia (UID1118) & 387 & 223 & 124 & 99.19 & 0.81 & ⋯ & N/A             & N/A  & N/A                                                                                                                                        & N/A   & N/A & GCF\\_003628755.1, s\\_\\_Christensenella minuta, 95.0, 83.81, 0.61; GCF\\_001678845.1, s\\_\\_Christensenella sp001678845, 95.0, 81.27, 0.53; GCF\\_900155415.1, s\\_\\_Christensenella massiliensis, 95.0, 80.1, 0.42 & 95.36 & 11 & 0.9760390971090127 & N/A\\\\\n",
       "\\end{tabular}\n"
      ],
      "text/markdown": [
       "\n",
       "A data.frame: 5 × 61\n",
       "\n",
       "| genome &lt;fct&gt; | completeness &lt;dbl&gt; | contamination &lt;dbl&gt; | Bin.Id &lt;chr&gt; | Marker.lineage &lt;fct&gt; | X..genomes &lt;int&gt; | X..markers &lt;int&gt; | X..marker.sets &lt;int&gt; | Completeness &lt;dbl&gt; | Contamination &lt;dbl&gt; | ⋯ ⋯ | closest_placement_reference &lt;fct&gt; | closest_placement_radius &lt;fct&gt; | closest_placement_taxonomy &lt;fct&gt; | closest_placement_ani &lt;fct&gt; | closest_placement_af &lt;fct&gt; | other_related_references.genome_id.species_name.radius.ANI.AF. &lt;fct&gt; | msa_percent &lt;dbl&gt; | translation_table &lt;int&gt; | red_value &lt;fct&gt; | warnings &lt;fct&gt; |\n",
       "|---|---|---|---|---|---|---|---|---|---|---|---|---|---|---|---|---|---|---|---|---|\n",
       "| /ebio/abt3_scratch/nyoungblut/LLG_62325884640/genomes/CABKWJ010000001_1_Christensenella_timonensis_isolate_MGYG_HGUT_01550.fna | 97.98 | 0.81 | CABKWJ010000001_1_Christensenella_timonensis_isolate_MGYG_HGUT_01550 | c__Clostridia (UID1118) | 387 | 223 | 124 | 97.98 | 0.81 | ⋯ | GCF_900087015.1 | 95.0 | d__Bacteria;p__Firmicutes_A;c__Clostridia_A;o__Christensenellales;f__Christensenellaceae;g__Christensenella_A;s__Christensenella_A timonensis | 100.0 | 1.0  | N/A                                                                                                                                     | 95.42 | 11 | N/A | N/A |\n",
       "| /ebio/abt3_scratch/nyoungblut/LLG_62325884640/genomes/CP029256_1_Christensenella_minuta_strain_DSM_22607_chromosome.fna        | 98.39 | 0.81 | CP029256_1_Christensenella_minuta_strain_DSM_22607_chromosome        | c__Clostridia (UID1118) | 387 | 223 | 124 | 98.39 | 0.81 | ⋯ | GCF_003628755.1 | 95.0 | d__Bacteria;p__Firmicutes_A;c__Clostridia_A;o__Christensenellales;f__Christensenellaceae;g__Christensenella;s__Christensenella minuta         | 100.0 | 0.99 | GCF_001678845.1, s__Christensenella sp001678845, 95.0, 83.51, 0.69; GCF_900155415.1, s__Christensenella massiliensis, 95.0, 80.27, 0.47 | 95.42 | 11 | N/A | N/A |\n",
       "| ⋮ | ⋮ | ⋮ | ⋮ | ⋮ | ⋮ | ⋮ | ⋮ | ⋮ | ⋮ | ⋱ | ⋮ | ⋮ | ⋮ | ⋮ | ⋮ | ⋮ | ⋮ | ⋮ | ⋮ | ⋮ |\n",
       "| /ebio/abt3_scratch/nyoungblut/LLG_62325884640/genomes/CABMKF010000001_1_Christensenellaceae_bacterium_isolate_MGYG_HGUT_02411.fna | 99.19 | 0.81 | CABMKF010000001_1_Christensenellaceae_bacterium_isolate_MGYG_HGUT_02411 | c__Clostridia (UID1118) | 387 | 223 | 124 | 99.19 | 0.81 | ⋯ | GCF_001678845.1 | 95.0 | d__Bacteria;p__Firmicutes_A;c__Clostridia_A;o__Christensenellales;f__Christensenellaceae;g__Christensenella;s__Christensenella sp001678845 | 100.0 | 1.0 | GCF_003628755.1, s__Christensenella minuta, 95.0, 83.51, 0.69; GCF_900155415.1, s__Christensenella massiliensis, 95.0, 79.67, 0.42                                                                    | 95.34 | 11 | N/A                | N/A |\n",
       "| /ebio/abt3_scratch/nyoungblut/LLG_62325884640/genomes/JACOON010000001_1_Christensenella_sp__NSJ_35_HPD3569.fna                    | 99.19 | 0.81 | JACOON010000001_1_Christensenella_sp__NSJ_35_HPD3569                    | c__Clostridia (UID1118) | 387 | 223 | 124 | 99.19 | 0.81 | ⋯ | N/A             | N/A  | N/A                                                                                                                                        | N/A   | N/A | GCF_003628755.1, s__Christensenella minuta, 95.0, 83.81, 0.61; GCF_001678845.1, s__Christensenella sp001678845, 95.0, 81.27, 0.53; GCF_900155415.1, s__Christensenella massiliensis, 95.0, 80.1, 0.42 | 95.36 | 11 | 0.9760390971090127 | N/A |\n",
       "\n"
      ],
      "text/plain": [
       "  genome                                                                                                                           \n",
       "1 /ebio/abt3_scratch/nyoungblut/LLG_62325884640/genomes/CABKWJ010000001_1_Christensenella_timonensis_isolate_MGYG_HGUT_01550.fna   \n",
       "2 /ebio/abt3_scratch/nyoungblut/LLG_62325884640/genomes/CP029256_1_Christensenella_minuta_strain_DSM_22607_chromosome.fna          \n",
       "⋮ ⋮                                                                                                                                \n",
       "4 /ebio/abt3_scratch/nyoungblut/LLG_62325884640/genomes/CABMKF010000001_1_Christensenellaceae_bacterium_isolate_MGYG_HGUT_02411.fna\n",
       "5 /ebio/abt3_scratch/nyoungblut/LLG_62325884640/genomes/JACOON010000001_1_Christensenella_sp__NSJ_35_HPD3569.fna                   \n",
       "  completeness contamination\n",
       "1 97.98        0.81         \n",
       "2 98.39        0.81         \n",
       "⋮ ⋮            ⋮            \n",
       "4 99.19        0.81         \n",
       "5 99.19        0.81         \n",
       "  Bin.Id                                                                 \n",
       "1 CABKWJ010000001_1_Christensenella_timonensis_isolate_MGYG_HGUT_01550   \n",
       "2 CP029256_1_Christensenella_minuta_strain_DSM_22607_chromosome          \n",
       "⋮ ⋮                                                                      \n",
       "4 CABMKF010000001_1_Christensenellaceae_bacterium_isolate_MGYG_HGUT_02411\n",
       "5 JACOON010000001_1_Christensenella_sp__NSJ_35_HPD3569                   \n",
       "  Marker.lineage          X..genomes X..markers X..marker.sets Completeness\n",
       "1 c__Clostridia (UID1118) 387        223        124            97.98       \n",
       "2 c__Clostridia (UID1118) 387        223        124            98.39       \n",
       "⋮ ⋮                       ⋮          ⋮          ⋮              ⋮           \n",
       "4 c__Clostridia (UID1118) 387        223        124            99.19       \n",
       "5 c__Clostridia (UID1118) 387        223        124            99.19       \n",
       "  Contamination ⋯ closest_placement_reference closest_placement_radius\n",
       "1 0.81          ⋯ GCF_900087015.1             95.0                    \n",
       "2 0.81          ⋯ GCF_003628755.1             95.0                    \n",
       "⋮ ⋮             ⋱ ⋮                           ⋮                       \n",
       "4 0.81          ⋯ GCF_001678845.1             95.0                    \n",
       "5 0.81          ⋯ N/A                         N/A                     \n",
       "  closest_placement_taxonomy                                                                                                                   \n",
       "1 d__Bacteria;p__Firmicutes_A;c__Clostridia_A;o__Christensenellales;f__Christensenellaceae;g__Christensenella_A;s__Christensenella_A timonensis\n",
       "2 d__Bacteria;p__Firmicutes_A;c__Clostridia_A;o__Christensenellales;f__Christensenellaceae;g__Christensenella;s__Christensenella minuta        \n",
       "⋮ ⋮                                                                                                                                            \n",
       "4 d__Bacteria;p__Firmicutes_A;c__Clostridia_A;o__Christensenellales;f__Christensenellaceae;g__Christensenella;s__Christensenella sp001678845   \n",
       "5 N/A                                                                                                                                          \n",
       "  closest_placement_ani closest_placement_af\n",
       "1 100.0                 1.0                 \n",
       "2 100.0                 0.99                \n",
       "⋮ ⋮                     ⋮                   \n",
       "4 100.0                 1.0                 \n",
       "5 N/A                   N/A                 \n",
       "  other_related_references.genome_id.species_name.radius.ANI.AF.                                                                                                                                       \n",
       "1 N/A                                                                                                                                                                                                  \n",
       "2 GCF_001678845.1, s__Christensenella sp001678845, 95.0, 83.51, 0.69; GCF_900155415.1, s__Christensenella massiliensis, 95.0, 80.27, 0.47                                                              \n",
       "⋮ ⋮                                                                                                                                                                                                    \n",
       "4 GCF_003628755.1, s__Christensenella minuta, 95.0, 83.51, 0.69; GCF_900155415.1, s__Christensenella massiliensis, 95.0, 79.67, 0.42                                                                   \n",
       "5 GCF_003628755.1, s__Christensenella minuta, 95.0, 83.81, 0.61; GCF_001678845.1, s__Christensenella sp001678845, 95.0, 81.27, 0.53; GCF_900155415.1, s__Christensenella massiliensis, 95.0, 80.1, 0.42\n",
       "  msa_percent translation_table red_value          warnings\n",
       "1 95.42       11                N/A                N/A     \n",
       "2 95.42       11                N/A                N/A     \n",
       "⋮ ⋮           ⋮                 ⋮                  ⋮       \n",
       "4 95.34       11                N/A                N/A     \n",
       "5 95.36       11                0.9760390971090127 N/A     "
      ]
     },
     "metadata": {},
     "output_type": "display_data"
    }
   ],
   "source": [
    "hq_genomes = hq_genomes %>%\n",
    "    filter(Genus %in% c('g__Christensenella', 'g__Christensenella_A'))\n",
    "hq_genomes"
   ]
  },
  {
   "cell_type": "markdown",
   "metadata": {},
   "source": [
    "# Formatting for LLPRIMER\n",
    "\n",
    "The samples file requires the following columns:\n",
    "\n",
    "* Taxon\n",
    "* Groups\n",
    "* Taxid\n",
    "* Fasta"
   ]
  },
  {
   "cell_type": "code",
   "execution_count": 98,
   "metadata": {},
   "outputs": [
    {
     "data": {
      "text/html": [
       "<style>\n",
       ".list-inline {list-style: none; margin:0; padding: 0}\n",
       ".list-inline>li {display: inline-block}\n",
       ".list-inline>li:not(:last-child)::after {content: \"\\00b7\"; padding: 0 .5ex}\n",
       "</style>\n",
       "<ol class=list-inline><li>/ebio/abt3_projects/software/dev/ll_pipelines/llprimer/experiments/christensenella/genbank/drep/drep/dereplicated_genomes/CABKWJ010000001_1_Christensenella_timonensis_isolate_MGYG_HGUT_01550.fna</li><li>/ebio/abt3_projects/software/dev/ll_pipelines/llprimer/experiments/christensenella/genbank/drep/drep/dereplicated_genomes/CP029256_1_Christensenella_minuta_strain_DSM_22607_chromosome.fna</li><li>/ebio/abt3_projects/software/dev/ll_pipelines/llprimer/experiments/christensenella/genbank/drep/drep/dereplicated_genomes/LT700187_1_Christensenella_sp__Marseille_P2438.fna</li><li>/ebio/abt3_projects/software/dev/ll_pipelines/llprimer/experiments/christensenella/genbank/drep/drep/dereplicated_genomes/CABMKF010000001_1_Christensenellaceae_bacterium_isolate_MGYG_HGUT_02411.fna</li><li>/ebio/abt3_projects/software/dev/ll_pipelines/llprimer/experiments/christensenella/genbank/drep/drep/dereplicated_genomes/JACOON010000001_1_Christensenella_sp__NSJ_35_HPD3569.fna</li></ol>\n",
       "\n",
       "<details>\n",
       "\t<summary style=display:list-item;cursor:pointer>\n",
       "\t\t<strong>Levels</strong>:\n",
       "\t</summary>\n",
       "\t<style>\n",
       "\t.list-inline {list-style: none; margin:0; padding: 0}\n",
       "\t.list-inline>li {display: inline-block}\n",
       "\t.list-inline>li:not(:last-child)::after {content: \"\\00b7\"; padding: 0 .5ex}\n",
       "\t</style>\n",
       "\t<ol class=list-inline><li>'/ebio/abt3_projects/software/dev/ll_pipelines/llprimer/experiments/christensenella/genbank/drep/drep/dereplicated_genomes/CABKWJ010000001_1_Christensenella_timonensis_isolate_MGYG_HGUT_01550.fna'</li><li>'/ebio/abt3_projects/software/dev/ll_pipelines/llprimer/experiments/christensenella/genbank/drep/drep/dereplicated_genomes/CABMKF010000001_1_Christensenellaceae_bacterium_isolate_MGYG_HGUT_02411.fna'</li><li>'/ebio/abt3_projects/software/dev/ll_pipelines/llprimer/experiments/christensenella/genbank/drep/drep/dereplicated_genomes/CP029256_1_Christensenella_minuta_strain_DSM_22607_chromosome.fna'</li><li>'/ebio/abt3_projects/software/dev/ll_pipelines/llprimer/experiments/christensenella/genbank/drep/drep/dereplicated_genomes/DUQK01000013_1_TPA_asm_Christensenellaceae_bacterium_isolate_AS08sgBPME_399_100239_AS08.fna'</li><li>'/ebio/abt3_projects/software/dev/ll_pipelines/llprimer/experiments/christensenella/genbank/drep/drep/dereplicated_genomes/JAAXZP010000082_1_Christensenellaceae_bacterium_isolate_AS01afH2WH_49.fna'</li><li>'/ebio/abt3_projects/software/dev/ll_pipelines/llprimer/experiments/christensenella/genbank/drep/drep/dereplicated_genomes/JAAYRU010000004_1_Christensenellaceae_bacterium_isolate_AS23ysBPME_237.fna'</li><li>'/ebio/abt3_projects/software/dev/ll_pipelines/llprimer/experiments/christensenella/genbank/drep/drep/dereplicated_genomes/JACOON010000001_1_Christensenella_sp__NSJ_35_HPD3569.fna'</li><li>'/ebio/abt3_projects/software/dev/ll_pipelines/llprimer/experiments/christensenella/genbank/drep/drep/dereplicated_genomes/JACRSO010000001_1_Christensenellaceae_bacterium_NSJ_44_M11.fna'</li><li>'/ebio/abt3_projects/software/dev/ll_pipelines/llprimer/experiments/christensenella/genbank/drep/drep/dereplicated_genomes/JACRSR010000001_1_Christensenellaceae_bacterium_NSJ_53_H2.fna'</li><li>'/ebio/abt3_projects/software/dev/ll_pipelines/llprimer/experiments/christensenella/genbank/drep/drep/dereplicated_genomes/JACRSS010000001_1_Christensenellaceae_bacterium_NSJ_63_L27.fna'</li><li>'/ebio/abt3_projects/software/dev/ll_pipelines/llprimer/experiments/christensenella/genbank/drep/drep/dereplicated_genomes/LR026983_1_Christensenella_sp__Marseille_P3954.fna'</li><li>'/ebio/abt3_projects/software/dev/ll_pipelines/llprimer/experiments/christensenella/genbank/drep/drep/dereplicated_genomes/LT700187_1_Christensenella_sp__Marseille_P2438.fna'</li><li>'/ebio/abt3_projects/software/dev/ll_pipelines/llprimer/experiments/christensenella/genbank/drep/drep/dereplicated_genomes/MSGS01000001_1_Christensenellaceae_bacterium_Phil1_707_L1.fna'</li><li>'/ebio/abt3_projects/software/dev/ll_pipelines/llprimer/experiments/christensenella/genbank/drep/drep/dereplicated_genomes/MSGV01000001_1_Christensenellaceae_bacterium_Phil7_707_L1.fna'</li><li>'/ebio/abt3_projects/software/dev/ll_pipelines/llprimer/experiments/christensenella/genbank/drep/drep/dereplicated_genomes/WGWE01000001_1_Christensenellaceae_bacterium_isolate_COPD109_SA9259_bin_2.fna'</li><li>'/ebio/abt3_projects/software/dev/ll_pipelines/llprimer/experiments/christensenella/genbank/drep/drep/dereplicated_genomes/WGWF01000001_1_Christensenellaceae_bacterium_isolate_COPD110_SB1790_bin_13.fna'</li><li>'/ebio/abt3_projects/software/dev/ll_pipelines/llprimer/experiments/christensenella/genbank/drep/drep/dereplicated_genomes/WGWG01000001_1_Christensenellaceae_bacterium_isolate_COPD111_SA9245_bin_8.fna'</li><li>'/ebio/abt3_projects/software/dev/ll_pipelines/llprimer/experiments/christensenella/genbank/drep/drep/dereplicated_genomes/WGWH01000001_1_Christensenellaceae_bacterium_isolate_COPD112_SB1790_bin_16.fna'</li><li>'/ebio/abt3_projects/software/dev/ll_pipelines/llprimer/experiments/christensenella/genbank/drep/drep/dereplicated_genomes/WGWI01000001_1_Christensenellaceae_bacterium_isolate_COPD113_SB1790_bin_5.fna'</li><li>'/ebio/abt3_projects/software/dev/ll_pipelines/llprimer/experiments/christensenella/genbank/drep/drep/dereplicated_genomes/WGWJ01000001_1_Christensenellaceae_bacterium_isolate_COPD114_S7102_bin_20.fna'</li><li>'/ebio/abt3_projects/software/dev/ll_pipelines/llprimer/experiments/christensenella/genbank/drep/drep/dereplicated_genomes/WGWK01000001_1_Christensenellaceae_bacterium_isolate_COPD115_S7104_bin_6.fna'</li><li>'/ebio/abt3_projects/software/dev/ll_pipelines/llprimer/experiments/christensenella/genbank/drep/drep/dereplicated_genomes/WGWL01000001_1_Christensenellaceae_bacterium_isolate_COPD116_S7105_bin_16.fna'</li><li>'/ebio/abt3_projects/software/dev/ll_pipelines/llprimer/experiments/christensenella/genbank/drep/drep/dereplicated_genomes/WGWN01000001_1_Christensenellaceae_bacterium_isolate_COPD118_SA9261_bin_8.fna'</li><li>'/ebio/abt3_projects/software/dev/ll_pipelines/llprimer/experiments/christensenella/genbank/drep/drep/dereplicated_genomes/WGWO01000001_1_Christensenellaceae_bacterium_isolate_COPD119_SA9262_bin_33.fna'</li><li>'/ebio/abt3_projects/software/dev/ll_pipelines/llprimer/experiments/christensenella/genbank/drep/drep/dereplicated_genomes/WGWP01000001_1_Christensenellaceae_bacterium_isolate_COPD120_SB1781_bin_11.fna'</li><li>'/ebio/abt3_projects/software/dev/ll_pipelines/llprimer/experiments/christensenella/genbank/drep/drep/dereplicated_genomes/WGWQ01000001_1_Christensenellaceae_bacterium_isolate_COPD121_SB1784_bin_7.fna'</li><li>'/ebio/abt3_projects/software/dev/ll_pipelines/llprimer/experiments/christensenella/genbank/drep/drep/dereplicated_genomes/WGWR01000001_1_Christensenellaceae_bacterium_isolate_COPD122_SB1785_bin_21.fna'</li><li>'/ebio/abt3_projects/software/dev/ll_pipelines/llprimer/experiments/christensenella/genbank/drep/drep/dereplicated_genomes/WGWS01000001_1_Christensenellaceae_bacterium_isolate_COPD123_SB1786_bin_39.fna'</li><li>'/ebio/abt3_projects/software/dev/ll_pipelines/llprimer/experiments/christensenella/genbank/drep/drep/dereplicated_genomes/WGWT01000001_1_Christensenellaceae_bacterium_isolate_COPD124_SB1789_bin_21.fna'</li><li>'/ebio/abt3_projects/software/dev/ll_pipelines/llprimer/experiments/christensenella/genbank/drep/drep/dereplicated_genomes/WGWU01000001_1_Christensenellaceae_bacterium_isolate_COPD125_SB1790_bin_24.fna'</li></ol>\n",
       "</details>"
      ],
      "text/latex": [
       "\\begin{enumerate*}\n",
       "\\item /ebio/abt3\\_projects/software/dev/ll\\_pipelines/llprimer/experiments/christensenella/genbank/drep/drep/dereplicated\\_genomes/CABKWJ010000001\\_1\\_Christensenella\\_timonensis\\_isolate\\_MGYG\\_HGUT\\_01550.fna\n",
       "\\item /ebio/abt3\\_projects/software/dev/ll\\_pipelines/llprimer/experiments/christensenella/genbank/drep/drep/dereplicated\\_genomes/CP029256\\_1\\_Christensenella\\_minuta\\_strain\\_DSM\\_22607\\_chromosome.fna\n",
       "\\item /ebio/abt3\\_projects/software/dev/ll\\_pipelines/llprimer/experiments/christensenella/genbank/drep/drep/dereplicated\\_genomes/LT700187\\_1\\_Christensenella\\_sp\\_\\_Marseille\\_P2438.fna\n",
       "\\item /ebio/abt3\\_projects/software/dev/ll\\_pipelines/llprimer/experiments/christensenella/genbank/drep/drep/dereplicated\\_genomes/CABMKF010000001\\_1\\_Christensenellaceae\\_bacterium\\_isolate\\_MGYG\\_HGUT\\_02411.fna\n",
       "\\item /ebio/abt3\\_projects/software/dev/ll\\_pipelines/llprimer/experiments/christensenella/genbank/drep/drep/dereplicated\\_genomes/JACOON010000001\\_1\\_Christensenella\\_sp\\_\\_NSJ\\_35\\_HPD3569.fna\n",
       "\\end{enumerate*}\n",
       "\n",
       "\\emph{Levels}: \\begin{enumerate*}\n",
       "\\item '/ebio/abt3\\_projects/software/dev/ll\\_pipelines/llprimer/experiments/christensenella/genbank/drep/drep/dereplicated\\_genomes/CABKWJ010000001\\_1\\_Christensenella\\_timonensis\\_isolate\\_MGYG\\_HGUT\\_01550.fna'\n",
       "\\item '/ebio/abt3\\_projects/software/dev/ll\\_pipelines/llprimer/experiments/christensenella/genbank/drep/drep/dereplicated\\_genomes/CABMKF010000001\\_1\\_Christensenellaceae\\_bacterium\\_isolate\\_MGYG\\_HGUT\\_02411.fna'\n",
       "\\item '/ebio/abt3\\_projects/software/dev/ll\\_pipelines/llprimer/experiments/christensenella/genbank/drep/drep/dereplicated\\_genomes/CP029256\\_1\\_Christensenella\\_minuta\\_strain\\_DSM\\_22607\\_chromosome.fna'\n",
       "\\item '/ebio/abt3\\_projects/software/dev/ll\\_pipelines/llprimer/experiments/christensenella/genbank/drep/drep/dereplicated\\_genomes/DUQK01000013\\_1\\_TPA\\_asm\\_Christensenellaceae\\_bacterium\\_isolate\\_AS08sgBPME\\_399\\_100239\\_AS08.fna'\n",
       "\\item '/ebio/abt3\\_projects/software/dev/ll\\_pipelines/llprimer/experiments/christensenella/genbank/drep/drep/dereplicated\\_genomes/JAAXZP010000082\\_1\\_Christensenellaceae\\_bacterium\\_isolate\\_AS01afH2WH\\_49.fna'\n",
       "\\item '/ebio/abt3\\_projects/software/dev/ll\\_pipelines/llprimer/experiments/christensenella/genbank/drep/drep/dereplicated\\_genomes/JAAYRU010000004\\_1\\_Christensenellaceae\\_bacterium\\_isolate\\_AS23ysBPME\\_237.fna'\n",
       "\\item '/ebio/abt3\\_projects/software/dev/ll\\_pipelines/llprimer/experiments/christensenella/genbank/drep/drep/dereplicated\\_genomes/JACOON010000001\\_1\\_Christensenella\\_sp\\_\\_NSJ\\_35\\_HPD3569.fna'\n",
       "\\item '/ebio/abt3\\_projects/software/dev/ll\\_pipelines/llprimer/experiments/christensenella/genbank/drep/drep/dereplicated\\_genomes/JACRSO010000001\\_1\\_Christensenellaceae\\_bacterium\\_NSJ\\_44\\_M11.fna'\n",
       "\\item '/ebio/abt3\\_projects/software/dev/ll\\_pipelines/llprimer/experiments/christensenella/genbank/drep/drep/dereplicated\\_genomes/JACRSR010000001\\_1\\_Christensenellaceae\\_bacterium\\_NSJ\\_53\\_H2.fna'\n",
       "\\item '/ebio/abt3\\_projects/software/dev/ll\\_pipelines/llprimer/experiments/christensenella/genbank/drep/drep/dereplicated\\_genomes/JACRSS010000001\\_1\\_Christensenellaceae\\_bacterium\\_NSJ\\_63\\_L27.fna'\n",
       "\\item '/ebio/abt3\\_projects/software/dev/ll\\_pipelines/llprimer/experiments/christensenella/genbank/drep/drep/dereplicated\\_genomes/LR026983\\_1\\_Christensenella\\_sp\\_\\_Marseille\\_P3954.fna'\n",
       "\\item '/ebio/abt3\\_projects/software/dev/ll\\_pipelines/llprimer/experiments/christensenella/genbank/drep/drep/dereplicated\\_genomes/LT700187\\_1\\_Christensenella\\_sp\\_\\_Marseille\\_P2438.fna'\n",
       "\\item '/ebio/abt3\\_projects/software/dev/ll\\_pipelines/llprimer/experiments/christensenella/genbank/drep/drep/dereplicated\\_genomes/MSGS01000001\\_1\\_Christensenellaceae\\_bacterium\\_Phil1\\_707\\_L1.fna'\n",
       "\\item '/ebio/abt3\\_projects/software/dev/ll\\_pipelines/llprimer/experiments/christensenella/genbank/drep/drep/dereplicated\\_genomes/MSGV01000001\\_1\\_Christensenellaceae\\_bacterium\\_Phil7\\_707\\_L1.fna'\n",
       "\\item '/ebio/abt3\\_projects/software/dev/ll\\_pipelines/llprimer/experiments/christensenella/genbank/drep/drep/dereplicated\\_genomes/WGWE01000001\\_1\\_Christensenellaceae\\_bacterium\\_isolate\\_COPD109\\_SA9259\\_bin\\_2.fna'\n",
       "\\item '/ebio/abt3\\_projects/software/dev/ll\\_pipelines/llprimer/experiments/christensenella/genbank/drep/drep/dereplicated\\_genomes/WGWF01000001\\_1\\_Christensenellaceae\\_bacterium\\_isolate\\_COPD110\\_SB1790\\_bin\\_13.fna'\n",
       "\\item '/ebio/abt3\\_projects/software/dev/ll\\_pipelines/llprimer/experiments/christensenella/genbank/drep/drep/dereplicated\\_genomes/WGWG01000001\\_1\\_Christensenellaceae\\_bacterium\\_isolate\\_COPD111\\_SA9245\\_bin\\_8.fna'\n",
       "\\item '/ebio/abt3\\_projects/software/dev/ll\\_pipelines/llprimer/experiments/christensenella/genbank/drep/drep/dereplicated\\_genomes/WGWH01000001\\_1\\_Christensenellaceae\\_bacterium\\_isolate\\_COPD112\\_SB1790\\_bin\\_16.fna'\n",
       "\\item '/ebio/abt3\\_projects/software/dev/ll\\_pipelines/llprimer/experiments/christensenella/genbank/drep/drep/dereplicated\\_genomes/WGWI01000001\\_1\\_Christensenellaceae\\_bacterium\\_isolate\\_COPD113\\_SB1790\\_bin\\_5.fna'\n",
       "\\item '/ebio/abt3\\_projects/software/dev/ll\\_pipelines/llprimer/experiments/christensenella/genbank/drep/drep/dereplicated\\_genomes/WGWJ01000001\\_1\\_Christensenellaceae\\_bacterium\\_isolate\\_COPD114\\_S7102\\_bin\\_20.fna'\n",
       "\\item '/ebio/abt3\\_projects/software/dev/ll\\_pipelines/llprimer/experiments/christensenella/genbank/drep/drep/dereplicated\\_genomes/WGWK01000001\\_1\\_Christensenellaceae\\_bacterium\\_isolate\\_COPD115\\_S7104\\_bin\\_6.fna'\n",
       "\\item '/ebio/abt3\\_projects/software/dev/ll\\_pipelines/llprimer/experiments/christensenella/genbank/drep/drep/dereplicated\\_genomes/WGWL01000001\\_1\\_Christensenellaceae\\_bacterium\\_isolate\\_COPD116\\_S7105\\_bin\\_16.fna'\n",
       "\\item '/ebio/abt3\\_projects/software/dev/ll\\_pipelines/llprimer/experiments/christensenella/genbank/drep/drep/dereplicated\\_genomes/WGWN01000001\\_1\\_Christensenellaceae\\_bacterium\\_isolate\\_COPD118\\_SA9261\\_bin\\_8.fna'\n",
       "\\item '/ebio/abt3\\_projects/software/dev/ll\\_pipelines/llprimer/experiments/christensenella/genbank/drep/drep/dereplicated\\_genomes/WGWO01000001\\_1\\_Christensenellaceae\\_bacterium\\_isolate\\_COPD119\\_SA9262\\_bin\\_33.fna'\n",
       "\\item '/ebio/abt3\\_projects/software/dev/ll\\_pipelines/llprimer/experiments/christensenella/genbank/drep/drep/dereplicated\\_genomes/WGWP01000001\\_1\\_Christensenellaceae\\_bacterium\\_isolate\\_COPD120\\_SB1781\\_bin\\_11.fna'\n",
       "\\item '/ebio/abt3\\_projects/software/dev/ll\\_pipelines/llprimer/experiments/christensenella/genbank/drep/drep/dereplicated\\_genomes/WGWQ01000001\\_1\\_Christensenellaceae\\_bacterium\\_isolate\\_COPD121\\_SB1784\\_bin\\_7.fna'\n",
       "\\item '/ebio/abt3\\_projects/software/dev/ll\\_pipelines/llprimer/experiments/christensenella/genbank/drep/drep/dereplicated\\_genomes/WGWR01000001\\_1\\_Christensenellaceae\\_bacterium\\_isolate\\_COPD122\\_SB1785\\_bin\\_21.fna'\n",
       "\\item '/ebio/abt3\\_projects/software/dev/ll\\_pipelines/llprimer/experiments/christensenella/genbank/drep/drep/dereplicated\\_genomes/WGWS01000001\\_1\\_Christensenellaceae\\_bacterium\\_isolate\\_COPD123\\_SB1786\\_bin\\_39.fna'\n",
       "\\item '/ebio/abt3\\_projects/software/dev/ll\\_pipelines/llprimer/experiments/christensenella/genbank/drep/drep/dereplicated\\_genomes/WGWT01000001\\_1\\_Christensenellaceae\\_bacterium\\_isolate\\_COPD124\\_SB1789\\_bin\\_21.fna'\n",
       "\\item '/ebio/abt3\\_projects/software/dev/ll\\_pipelines/llprimer/experiments/christensenella/genbank/drep/drep/dereplicated\\_genomes/WGWU01000001\\_1\\_Christensenellaceae\\_bacterium\\_isolate\\_COPD125\\_SB1790\\_bin\\_24.fna'\n",
       "\\end{enumerate*}\n"
      ],
      "text/markdown": [
       "1. /ebio/abt3_projects/software/dev/ll_pipelines/llprimer/experiments/christensenella/genbank/drep/drep/dereplicated_genomes/CABKWJ010000001_1_Christensenella_timonensis_isolate_MGYG_HGUT_01550.fna\n",
       "2. /ebio/abt3_projects/software/dev/ll_pipelines/llprimer/experiments/christensenella/genbank/drep/drep/dereplicated_genomes/CP029256_1_Christensenella_minuta_strain_DSM_22607_chromosome.fna\n",
       "3. /ebio/abt3_projects/software/dev/ll_pipelines/llprimer/experiments/christensenella/genbank/drep/drep/dereplicated_genomes/LT700187_1_Christensenella_sp__Marseille_P2438.fna\n",
       "4. /ebio/abt3_projects/software/dev/ll_pipelines/llprimer/experiments/christensenella/genbank/drep/drep/dereplicated_genomes/CABMKF010000001_1_Christensenellaceae_bacterium_isolate_MGYG_HGUT_02411.fna\n",
       "5. /ebio/abt3_projects/software/dev/ll_pipelines/llprimer/experiments/christensenella/genbank/drep/drep/dereplicated_genomes/JACOON010000001_1_Christensenella_sp__NSJ_35_HPD3569.fna\n",
       "\n",
       "\n",
       "\n",
       "**Levels**: 1. '/ebio/abt3_projects/software/dev/ll_pipelines/llprimer/experiments/christensenella/genbank/drep/drep/dereplicated_genomes/CABKWJ010000001_1_Christensenella_timonensis_isolate_MGYG_HGUT_01550.fna'\n",
       "2. '/ebio/abt3_projects/software/dev/ll_pipelines/llprimer/experiments/christensenella/genbank/drep/drep/dereplicated_genomes/CABMKF010000001_1_Christensenellaceae_bacterium_isolate_MGYG_HGUT_02411.fna'\n",
       "3. '/ebio/abt3_projects/software/dev/ll_pipelines/llprimer/experiments/christensenella/genbank/drep/drep/dereplicated_genomes/CP029256_1_Christensenella_minuta_strain_DSM_22607_chromosome.fna'\n",
       "4. '/ebio/abt3_projects/software/dev/ll_pipelines/llprimer/experiments/christensenella/genbank/drep/drep/dereplicated_genomes/DUQK01000013_1_TPA_asm_Christensenellaceae_bacterium_isolate_AS08sgBPME_399_100239_AS08.fna'\n",
       "5. '/ebio/abt3_projects/software/dev/ll_pipelines/llprimer/experiments/christensenella/genbank/drep/drep/dereplicated_genomes/JAAXZP010000082_1_Christensenellaceae_bacterium_isolate_AS01afH2WH_49.fna'\n",
       "6. '/ebio/abt3_projects/software/dev/ll_pipelines/llprimer/experiments/christensenella/genbank/drep/drep/dereplicated_genomes/JAAYRU010000004_1_Christensenellaceae_bacterium_isolate_AS23ysBPME_237.fna'\n",
       "7. '/ebio/abt3_projects/software/dev/ll_pipelines/llprimer/experiments/christensenella/genbank/drep/drep/dereplicated_genomes/JACOON010000001_1_Christensenella_sp__NSJ_35_HPD3569.fna'\n",
       "8. '/ebio/abt3_projects/software/dev/ll_pipelines/llprimer/experiments/christensenella/genbank/drep/drep/dereplicated_genomes/JACRSO010000001_1_Christensenellaceae_bacterium_NSJ_44_M11.fna'\n",
       "9. '/ebio/abt3_projects/software/dev/ll_pipelines/llprimer/experiments/christensenella/genbank/drep/drep/dereplicated_genomes/JACRSR010000001_1_Christensenellaceae_bacterium_NSJ_53_H2.fna'\n",
       "10. '/ebio/abt3_projects/software/dev/ll_pipelines/llprimer/experiments/christensenella/genbank/drep/drep/dereplicated_genomes/JACRSS010000001_1_Christensenellaceae_bacterium_NSJ_63_L27.fna'\n",
       "11. '/ebio/abt3_projects/software/dev/ll_pipelines/llprimer/experiments/christensenella/genbank/drep/drep/dereplicated_genomes/LR026983_1_Christensenella_sp__Marseille_P3954.fna'\n",
       "12. '/ebio/abt3_projects/software/dev/ll_pipelines/llprimer/experiments/christensenella/genbank/drep/drep/dereplicated_genomes/LT700187_1_Christensenella_sp__Marseille_P2438.fna'\n",
       "13. '/ebio/abt3_projects/software/dev/ll_pipelines/llprimer/experiments/christensenella/genbank/drep/drep/dereplicated_genomes/MSGS01000001_1_Christensenellaceae_bacterium_Phil1_707_L1.fna'\n",
       "14. '/ebio/abt3_projects/software/dev/ll_pipelines/llprimer/experiments/christensenella/genbank/drep/drep/dereplicated_genomes/MSGV01000001_1_Christensenellaceae_bacterium_Phil7_707_L1.fna'\n",
       "15. '/ebio/abt3_projects/software/dev/ll_pipelines/llprimer/experiments/christensenella/genbank/drep/drep/dereplicated_genomes/WGWE01000001_1_Christensenellaceae_bacterium_isolate_COPD109_SA9259_bin_2.fna'\n",
       "16. '/ebio/abt3_projects/software/dev/ll_pipelines/llprimer/experiments/christensenella/genbank/drep/drep/dereplicated_genomes/WGWF01000001_1_Christensenellaceae_bacterium_isolate_COPD110_SB1790_bin_13.fna'\n",
       "17. '/ebio/abt3_projects/software/dev/ll_pipelines/llprimer/experiments/christensenella/genbank/drep/drep/dereplicated_genomes/WGWG01000001_1_Christensenellaceae_bacterium_isolate_COPD111_SA9245_bin_8.fna'\n",
       "18. '/ebio/abt3_projects/software/dev/ll_pipelines/llprimer/experiments/christensenella/genbank/drep/drep/dereplicated_genomes/WGWH01000001_1_Christensenellaceae_bacterium_isolate_COPD112_SB1790_bin_16.fna'\n",
       "19. '/ebio/abt3_projects/software/dev/ll_pipelines/llprimer/experiments/christensenella/genbank/drep/drep/dereplicated_genomes/WGWI01000001_1_Christensenellaceae_bacterium_isolate_COPD113_SB1790_bin_5.fna'\n",
       "20. '/ebio/abt3_projects/software/dev/ll_pipelines/llprimer/experiments/christensenella/genbank/drep/drep/dereplicated_genomes/WGWJ01000001_1_Christensenellaceae_bacterium_isolate_COPD114_S7102_bin_20.fna'\n",
       "21. '/ebio/abt3_projects/software/dev/ll_pipelines/llprimer/experiments/christensenella/genbank/drep/drep/dereplicated_genomes/WGWK01000001_1_Christensenellaceae_bacterium_isolate_COPD115_S7104_bin_6.fna'\n",
       "22. '/ebio/abt3_projects/software/dev/ll_pipelines/llprimer/experiments/christensenella/genbank/drep/drep/dereplicated_genomes/WGWL01000001_1_Christensenellaceae_bacterium_isolate_COPD116_S7105_bin_16.fna'\n",
       "23. '/ebio/abt3_projects/software/dev/ll_pipelines/llprimer/experiments/christensenella/genbank/drep/drep/dereplicated_genomes/WGWN01000001_1_Christensenellaceae_bacterium_isolate_COPD118_SA9261_bin_8.fna'\n",
       "24. '/ebio/abt3_projects/software/dev/ll_pipelines/llprimer/experiments/christensenella/genbank/drep/drep/dereplicated_genomes/WGWO01000001_1_Christensenellaceae_bacterium_isolate_COPD119_SA9262_bin_33.fna'\n",
       "25. '/ebio/abt3_projects/software/dev/ll_pipelines/llprimer/experiments/christensenella/genbank/drep/drep/dereplicated_genomes/WGWP01000001_1_Christensenellaceae_bacterium_isolate_COPD120_SB1781_bin_11.fna'\n",
       "26. '/ebio/abt3_projects/software/dev/ll_pipelines/llprimer/experiments/christensenella/genbank/drep/drep/dereplicated_genomes/WGWQ01000001_1_Christensenellaceae_bacterium_isolate_COPD121_SB1784_bin_7.fna'\n",
       "27. '/ebio/abt3_projects/software/dev/ll_pipelines/llprimer/experiments/christensenella/genbank/drep/drep/dereplicated_genomes/WGWR01000001_1_Christensenellaceae_bacterium_isolate_COPD122_SB1785_bin_21.fna'\n",
       "28. '/ebio/abt3_projects/software/dev/ll_pipelines/llprimer/experiments/christensenella/genbank/drep/drep/dereplicated_genomes/WGWS01000001_1_Christensenellaceae_bacterium_isolate_COPD123_SB1786_bin_39.fna'\n",
       "29. '/ebio/abt3_projects/software/dev/ll_pipelines/llprimer/experiments/christensenella/genbank/drep/drep/dereplicated_genomes/WGWT01000001_1_Christensenellaceae_bacterium_isolate_COPD124_SB1789_bin_21.fna'\n",
       "30. '/ebio/abt3_projects/software/dev/ll_pipelines/llprimer/experiments/christensenella/genbank/drep/drep/dereplicated_genomes/WGWU01000001_1_Christensenellaceae_bacterium_isolate_COPD125_SB1790_bin_24.fna'\n",
       "\n",
       "\n"
      ],
      "text/plain": [
       "[1] /ebio/abt3_projects/software/dev/ll_pipelines/llprimer/experiments/christensenella/genbank/drep/drep/dereplicated_genomes/CABKWJ010000001_1_Christensenella_timonensis_isolate_MGYG_HGUT_01550.fna   \n",
       "[2] /ebio/abt3_projects/software/dev/ll_pipelines/llprimer/experiments/christensenella/genbank/drep/drep/dereplicated_genomes/CP029256_1_Christensenella_minuta_strain_DSM_22607_chromosome.fna          \n",
       "[3] /ebio/abt3_projects/software/dev/ll_pipelines/llprimer/experiments/christensenella/genbank/drep/drep/dereplicated_genomes/LT700187_1_Christensenella_sp__Marseille_P2438.fna                         \n",
       "[4] /ebio/abt3_projects/software/dev/ll_pipelines/llprimer/experiments/christensenella/genbank/drep/drep/dereplicated_genomes/CABMKF010000001_1_Christensenellaceae_bacterium_isolate_MGYG_HGUT_02411.fna\n",
       "[5] /ebio/abt3_projects/software/dev/ll_pipelines/llprimer/experiments/christensenella/genbank/drep/drep/dereplicated_genomes/JACOON010000001_1_Christensenella_sp__NSJ_35_HPD3569.fna                   \n",
       "30 Levels: /ebio/abt3_projects/software/dev/ll_pipelines/llprimer/experiments/christensenella/genbank/drep/drep/dereplicated_genomes/CABKWJ010000001_1_Christensenella_timonensis_isolate_MGYG_HGUT_01550.fna ..."
      ]
     },
     "metadata": {},
     "output_type": "display_data"
    }
   ],
   "source": [
    "hq_genomes %>% .$Fasta"
   ]
  },
  {
   "cell_type": "code",
   "execution_count": 100,
   "metadata": {},
   "outputs": [
    {
     "name": "stdout",
     "output_type": "stream",
     "text": [
      "File written: /ebio/abt3_projects/software/dev/ll_pipelines/llprimer/experiments/christensenella/genbank/samples_christ_hq.txt \n"
     ]
    }
   ],
   "source": [
    "outfile = file.path(work_dir, 'samples_christ_hq.txt')\n",
    "hq_genomes %>%\n",
    "    select(Bin.Id, genome, Fasta) %>%\n",
    "    rename('Taxon' = Bin.Id) %>%\n",
    "    mutate(Taxon = gsub('_chromosome.+', '', Taxon),\n",
    "           Taxon = gsub('_bin_.+', '', Taxon),\n",
    "           Groups = 'Christenenella',\n",
    "           Taxid = 990721) %>%\n",
    "    write_table(outfile)"
   ]
  },
  {
   "cell_type": "markdown",
   "metadata": {},
   "source": [
    "# sessionInfo"
   ]
  },
  {
   "cell_type": "code",
   "execution_count": 101,
   "metadata": {},
   "outputs": [
    {
     "data": {
      "text/plain": [
       "R version 3.6.3 (2020-02-29)\n",
       "Platform: x86_64-conda_cos6-linux-gnu (64-bit)\n",
       "Running under: Ubuntu 18.04.5 LTS\n",
       "\n",
       "Matrix products: default\n",
       "BLAS/LAPACK: /ebio/abt3_projects/Georg_animal_feces/envs/tidyverse/lib/libopenblasp-r0.3.9.so\n",
       "\n",
       "locale:\n",
       " [1] LC_CTYPE=en_US.UTF-8       LC_NUMERIC=C              \n",
       " [3] LC_TIME=en_US.UTF-8        LC_COLLATE=en_US.UTF-8    \n",
       " [5] LC_MONETARY=en_US.UTF-8    LC_MESSAGES=en_US.UTF-8   \n",
       " [7] LC_PAPER=en_US.UTF-8       LC_NAME=C                 \n",
       " [9] LC_ADDRESS=C               LC_TELEPHONE=C            \n",
       "[11] LC_MEASUREMENT=en_US.UTF-8 LC_IDENTIFICATION=C       \n",
       "\n",
       "attached base packages:\n",
       "[1] stats     graphics  grDevices utils     datasets  methods   base     \n",
       "\n",
       "other attached packages:\n",
       "[1] LeyLabRMisc_0.1.6 ggplot2_3.3.1     tidyr_1.1.0       dplyr_1.0.0      \n",
       "\n",
       "loaded via a namespace (and not attached):\n",
       " [1] Rcpp_1.0.4.6     magrittr_1.5     munsell_0.5.0    tidyselect_1.1.0\n",
       " [5] uuid_0.1-4       colorspace_1.4-1 R6_2.4.1         rlang_0.4.6     \n",
       " [9] fansi_0.4.1      tools_3.6.3      grid_3.6.3       gtable_0.3.0    \n",
       "[13] cli_2.0.2        withr_2.2.0      htmltools_0.4.0  ellipsis_0.3.1  \n",
       "[17] assertthat_0.2.1 digest_0.6.25    tibble_3.0.1     lifecycle_0.2.0 \n",
       "[21] crayon_1.3.4     IRdisplay_0.7.0  purrr_0.3.4      repr_1.1.0      \n",
       "[25] base64enc_0.1-3  vctrs_0.3.1      IRkernel_1.1     glue_1.4.1      \n",
       "[29] evaluate_0.14    stringi_1.4.6    pbdZMQ_0.3-3     compiler_3.6.3  \n",
       "[33] pillar_1.4.4     scales_1.1.1     generics_0.0.2   jsonlite_1.6.1  \n",
       "[37] pkgconfig_2.0.3 "
      ]
     },
     "metadata": {},
     "output_type": "display_data"
    }
   ],
   "source": [
    "sessionInfo()"
   ]
  },
  {
   "cell_type": "code",
   "execution_count": null,
   "metadata": {},
   "outputs": [],
   "source": []
  }
 ],
 "metadata": {
  "kernelspec": {
   "display_name": "R [conda env:Georg_animal_feces-tidyverse]",
   "language": "R",
   "name": "conda-env-Georg_animal_feces-tidyverse-r"
  },
  "language_info": {
   "codemirror_mode": "r",
   "file_extension": ".r",
   "mimetype": "text/x-r-source",
   "name": "R",
   "pygments_lexer": "r",
   "version": "3.6.3"
  }
 },
 "nbformat": 4,
 "nbformat_minor": 4
}
