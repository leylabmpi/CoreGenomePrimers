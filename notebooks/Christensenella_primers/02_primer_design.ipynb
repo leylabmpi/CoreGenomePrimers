{
 "cells": [
  {
   "cell_type": "markdown",
   "metadata": {},
   "source": [
    "# Goal\n",
    "\n",
    "* Design primers for Christensenella"
   ]
  },
  {
   "cell_type": "markdown",
   "metadata": {},
   "source": [
    "# Var"
   ]
  },
  {
   "cell_type": "code",
   "execution_count": 17,
   "metadata": {
    "execution": {
     "iopub.execute_input": "2021-01-26T10:32:47.110472Z",
     "iopub.status.busy": "2021-01-26T10:32:47.108469Z",
     "iopub.status.idle": "2021-01-26T10:32:47.122974Z"
    }
   },
   "outputs": [],
   "source": [
    "work_dir = '/ebio/abt3_projects/software/dev/ll_pipelines/llprimer/experiments/christensenella/genbank/primers_r5/'"
   ]
  },
  {
   "cell_type": "markdown",
   "metadata": {},
   "source": [
    "# Init"
   ]
  },
  {
   "cell_type": "code",
   "execution_count": 18,
   "metadata": {
    "execution": {
     "iopub.execute_input": "2021-01-26T10:32:48.518568Z",
     "iopub.status.busy": "2021-01-26T10:32:48.516641Z",
     "iopub.status.idle": "2021-01-26T10:32:48.535973Z"
    }
   },
   "outputs": [],
   "source": [
    "library(dplyr)\n",
    "library(tidyr)\n",
    "library(ggplot2)\n",
    "library(LeyLabRMisc)"
   ]
  },
  {
   "cell_type": "code",
   "execution_count": 19,
   "metadata": {
    "execution": {
     "iopub.execute_input": "2021-01-26T10:32:48.608481Z",
     "iopub.status.busy": "2021-01-26T10:32:48.606605Z",
     "iopub.status.idle": "2021-01-26T10:32:48.620714Z"
    }
   },
   "outputs": [],
   "source": [
    "df.dims()"
   ]
  },
  {
   "cell_type": "markdown",
   "metadata": {},
   "source": [
    "# Primer design"
   ]
  },
  {
   "cell_type": "markdown",
   "metadata": {},
   "source": [
    "## llprimer pipeline"
   ]
  },
  {
   "cell_type": "markdown",
   "metadata": {},
   "source": [
    "### Config"
   ]
  },
  {
   "cell_type": "code",
   "execution_count": 5,
   "metadata": {
    "execution": {
     "iopub.execute_input": "2021-01-18T14:16:55.086698Z",
     "iopub.status.busy": "2021-01-18T14:16:55.085595Z",
     "iopub.status.idle": "2021-01-18T14:16:55.145443Z"
    }
   },
   "outputs": [
    {
     "name": "stdout",
     "output_type": "stream",
     "text": [
      "#-- I/O --#\n",
      "samples_file: experiments/christensenella/genbank/samples_christ_hq.txt\n",
      "\n",
      "# output location\n",
      "output_dir: /ebio/abt3_projects/software/dev/ll_pipelines/llprimer/experiments/christensenella/genbank/primers_r4/\n",
      "\n",
      "# temporary file directory (your username will be added automatically)\n",
      "tmp_dir: /ebio/abt3_scratch/\n",
      "\n",
      "#-- software parameters --#\n",
      "# See the README for a description\n",
      "params:\n",
      "  ionice: -c 3\n",
      "  cgp:\n",
      "    prodigal: \"\"    \n",
      "    mmseqs:\n",
      "      method: cluster    # or linclust (faster)\n",
      "      run: --min-seq-id 0.9 -c 0.8\n",
      "    core_genes: --frac 1 --max-clusters 1000\n",
      "    blastx: -evalue 1e-10 -max_target_seqs 3\n",
      "    blastx_nontarget: -evalue 1e-5 -max_target_seqs 30\n",
      "    align:\n",
      "      method: linsi\n",
      "      params: --auto --maxiterate 1000\n",
      "    primer3:\n",
      "      number: --num-primers 200\n",
      "      size: --opt-size 20 --min-size 18 --max-size 24\n",
      "      product: --opt-prod-size 150 --min-prod-size 100 --max-prod-size 200\n",
      "      Tm: --opt-tm 62 --min-tm 55 --max-tm 70 --max-tm-diff 1\n",
      "      PCR: --oligo-DNA 50 --salt-monovalent 50 --salt-divalent 1.5 --dNTPs 0.2\n",
      "      GC: --opt-gc 50 --min-gc 25 --max-gc 75\n",
      "      degeneracy: --max-degeneracy 128 --max-degeneracy-3prime 1 --window-3prime 5\n",
      "      internal_oligo: --make-oligo 0 --int-opt-size 20 --int-opt-tm 60\n",
      "    blastn: -max_target_seqs 500 -perc_identity 90\n",
      "    blast_filter: --perc-len 80 --min-amplicon-len 30 --max-amplicon-len 1500    \n",
      "\n",
      "#-- database --#\n",
      "databases:\n",
      "  blast:\n",
      "    nucl: /ebio/abt3_projects/databases_no-backup/NCBI_blastdb/nt\n",
      "    prot: /ebio/abt3_projects/databases_no-backup/NCBI_blastdb/nr\n",
      "    gene_names: /ebio/abt3_projects/databases_no-backup/NCBI_nr_geneIDs/2021-01/nr_accession-geneNames.pkl\n",
      "  taxonomy:\n",
      "    names: /ebio/abt3_projects/databases_no-backup/NCBI_taxonomy/2020-12-23/names.dmp\n",
      "    nodes: /ebio/abt3_projects/databases_no-backup/NCBI_taxonomy/2020-12-23/nodes.dmp\n",
      "\n",
      "#-- snakemake pipeline --#\n",
      "pipeline:\n",
      "  snakemake_folder: ./\n",
      "  script_folder: bin/scripts/\n",
      "  name: LLPRIMER"
     ]
    }
   ],
   "source": [
    "cat_file(file.path(work_dir, 'config.yaml'))"
   ]
  },
  {
   "cell_type": "markdown",
   "metadata": {},
   "source": [
    "### Run"
   ]
  },
  {
   "cell_type": "markdown",
   "metadata": {},
   "source": [
    "```\n",
    "(snakemake) @ rick:/ebio/abt3_projects/software/dev/ll_pipelines/llprimer/\n",
    "./snakemake_sge.sh experiments/christensenella/genbank/primers_r2/config.yaml 50 --notemp\n",
    "```"
   ]
  },
  {
   "cell_type": "markdown",
   "metadata": {},
   "source": [
    "## Summary"
   ]
  },
  {
   "cell_type": "code",
   "execution_count": 20,
   "metadata": {
    "execution": {
     "iopub.execute_input": "2021-01-26T10:32:51.511035Z",
     "iopub.status.busy": "2021-01-26T10:32:51.509077Z",
     "iopub.status.idle": "2021-01-26T10:32:51.571817Z"
    }
   },
   "outputs": [
    {
     "data": {
      "text/html": [
       "<table>\n",
       "<caption>A data.frame: 1596 × 22</caption>\n",
       "<thead>\n",
       "\t<tr><th scope=col>gene_type</th><th scope=col>cluster_id</th><th scope=col>primer_set</th><th scope=col>amplicon_size_consensus</th><th scope=col>amplicon_size_avg</th><th scope=col>amplicon_size_sd</th><th scope=col>primer_id</th><th scope=col>primer_type</th><th scope=col>sequence</th><th scope=col>length</th><th scope=col>⋯</th><th scope=col>position_start</th><th scope=col>position_end</th><th scope=col>Tm_avg</th><th scope=col>Tm_sd</th><th scope=col>GC_avg</th><th scope=col>GC_sd</th><th scope=col>hairpin_avg</th><th scope=col>hairpin_sd</th><th scope=col>homodimer_avg</th><th scope=col>homodimer_sd</th></tr>\n",
       "\t<tr><th scope=col>&lt;fct&gt;</th><th scope=col>&lt;int&gt;</th><th scope=col>&lt;int&gt;</th><th scope=col>&lt;int&gt;</th><th scope=col>&lt;dbl&gt;</th><th scope=col>&lt;dbl&gt;</th><th scope=col>&lt;fct&gt;</th><th scope=col>&lt;fct&gt;</th><th scope=col>&lt;fct&gt;</th><th scope=col>&lt;int&gt;</th><th scope=col>⋯</th><th scope=col>&lt;int&gt;</th><th scope=col>&lt;int&gt;</th><th scope=col>&lt;dbl&gt;</th><th scope=col>&lt;dbl&gt;</th><th scope=col>&lt;dbl&gt;</th><th scope=col>&lt;dbl&gt;</th><th scope=col>&lt;dbl&gt;</th><th scope=col>&lt;dbl&gt;</th><th scope=col>&lt;dbl&gt;</th><th scope=col>&lt;dbl&gt;</th></tr>\n",
       "</thead>\n",
       "<tbody>\n",
       "\t<tr><td>cds</td><td>3</td><td>22</td><td>167</td><td>167</td><td>0</td><td>22f</td><td>PRIMER_LEFT </td><td>MGKTCKGTSATYGARGCGAC</td><td>20</td><td>⋯</td><td>345</td><td>365</td><td>61.39241</td><td>2.093550</td><td>57.50000</td><td>5.590170</td><td>30.99646</td><td>23.27834</td><td>-12.64141</td><td>21.98370</td></tr>\n",
       "\t<tr><td>cds</td><td>3</td><td>22</td><td>167</td><td>167</td><td>0</td><td>22r</td><td>PRIMER_RIGHT</td><td>CCVAGCGARATVACRGCCAT</td><td>20</td><td>⋯</td><td>492</td><td>512</td><td>62.15616</td><td>1.997969</td><td>56.66667</td><td>4.859127</td><td>17.09865</td><td>19.12572</td><td>-14.36313</td><td>20.60622</td></tr>\n",
       "\t<tr><td>⋮</td><td>⋮</td><td>⋮</td><td>⋮</td><td>⋮</td><td>⋮</td><td>⋮</td><td>⋮</td><td>⋮</td><td>⋮</td><td>⋱</td><td>⋮</td><td>⋮</td><td>⋮</td><td>⋮</td><td>⋮</td><td>⋮</td><td>⋮</td><td>⋮</td><td>⋮</td><td>⋮</td></tr>\n",
       "\t<tr><td>rrna</td><td>1</td><td>500</td><td>105</td><td>105</td><td>0</td><td>500f</td><td>PRIMER_LEFT </td><td>GGTAGTCCACGCCGTAAACG</td><td>20</td><td>⋯</td><td>792</td><td>812</td><td>61.70626</td><td>0</td><td>60</td><td>0</td><td>39.44303</td><td>0</td><td>-25.45991</td><td>0</td></tr>\n",
       "\t<tr><td>rrna</td><td>1</td><td>500</td><td>105</td><td>105</td><td>0</td><td>500r</td><td>PRIMER_RIGHT</td><td>ACCTTGCGATCGTACTCCCC</td><td>20</td><td>⋯</td><td>877</td><td>897</td><td>62.33122</td><td>0</td><td>60</td><td>0</td><td> 0.00000</td><td>0</td><td> 18.12689</td><td>0</td></tr>\n",
       "</tbody>\n",
       "</table>\n"
      ],
      "text/latex": [
       "A data.frame: 1596 × 22\n",
       "\\begin{tabular}{lllllllllllllllllllll}\n",
       " gene\\_type & cluster\\_id & primer\\_set & amplicon\\_size\\_consensus & amplicon\\_size\\_avg & amplicon\\_size\\_sd & primer\\_id & primer\\_type & sequence & length & ⋯ & position\\_start & position\\_end & Tm\\_avg & Tm\\_sd & GC\\_avg & GC\\_sd & hairpin\\_avg & hairpin\\_sd & homodimer\\_avg & homodimer\\_sd\\\\\n",
       " <fct> & <int> & <int> & <int> & <dbl> & <dbl> & <fct> & <fct> & <fct> & <int> & ⋯ & <int> & <int> & <dbl> & <dbl> & <dbl> & <dbl> & <dbl> & <dbl> & <dbl> & <dbl>\\\\\n",
       "\\hline\n",
       "\t cds & 3 & 22 & 167 & 167 & 0 & 22f & PRIMER\\_LEFT  & MGKTCKGTSATYGARGCGAC & 20 & ⋯ & 345 & 365 & 61.39241 & 2.093550 & 57.50000 & 5.590170 & 30.99646 & 23.27834 & -12.64141 & 21.98370\\\\\n",
       "\t cds & 3 & 22 & 167 & 167 & 0 & 22r & PRIMER\\_RIGHT & CCVAGCGARATVACRGCCAT & 20 & ⋯ & 492 & 512 & 62.15616 & 1.997969 & 56.66667 & 4.859127 & 17.09865 & 19.12572 & -14.36313 & 20.60622\\\\\n",
       "\t ⋮ & ⋮ & ⋮ & ⋮ & ⋮ & ⋮ & ⋮ & ⋮ & ⋮ & ⋮ & ⋱ & ⋮ & ⋮ & ⋮ & ⋮ & ⋮ & ⋮ & ⋮ & ⋮ & ⋮ & ⋮\\\\\n",
       "\t rrna & 1 & 500 & 105 & 105 & 0 & 500f & PRIMER\\_LEFT  & GGTAGTCCACGCCGTAAACG & 20 & ⋯ & 792 & 812 & 61.70626 & 0 & 60 & 0 & 39.44303 & 0 & -25.45991 & 0\\\\\n",
       "\t rrna & 1 & 500 & 105 & 105 & 0 & 500r & PRIMER\\_RIGHT & ACCTTGCGATCGTACTCCCC & 20 & ⋯ & 877 & 897 & 62.33122 & 0 & 60 & 0 &  0.00000 & 0 &  18.12689 & 0\\\\\n",
       "\\end{tabular}\n"
      ],
      "text/markdown": [
       "\n",
       "A data.frame: 1596 × 22\n",
       "\n",
       "| gene_type &lt;fct&gt; | cluster_id &lt;int&gt; | primer_set &lt;int&gt; | amplicon_size_consensus &lt;int&gt; | amplicon_size_avg &lt;dbl&gt; | amplicon_size_sd &lt;dbl&gt; | primer_id &lt;fct&gt; | primer_type &lt;fct&gt; | sequence &lt;fct&gt; | length &lt;int&gt; | ⋯ ⋯ | position_start &lt;int&gt; | position_end &lt;int&gt; | Tm_avg &lt;dbl&gt; | Tm_sd &lt;dbl&gt; | GC_avg &lt;dbl&gt; | GC_sd &lt;dbl&gt; | hairpin_avg &lt;dbl&gt; | hairpin_sd &lt;dbl&gt; | homodimer_avg &lt;dbl&gt; | homodimer_sd &lt;dbl&gt; |\n",
       "|---|---|---|---|---|---|---|---|---|---|---|---|---|---|---|---|---|---|---|---|---|\n",
       "| cds | 3 | 22 | 167 | 167 | 0 | 22f | PRIMER_LEFT  | MGKTCKGTSATYGARGCGAC | 20 | ⋯ | 345 | 365 | 61.39241 | 2.093550 | 57.50000 | 5.590170 | 30.99646 | 23.27834 | -12.64141 | 21.98370 |\n",
       "| cds | 3 | 22 | 167 | 167 | 0 | 22r | PRIMER_RIGHT | CCVAGCGARATVACRGCCAT | 20 | ⋯ | 492 | 512 | 62.15616 | 1.997969 | 56.66667 | 4.859127 | 17.09865 | 19.12572 | -14.36313 | 20.60622 |\n",
       "| ⋮ | ⋮ | ⋮ | ⋮ | ⋮ | ⋮ | ⋮ | ⋮ | ⋮ | ⋮ | ⋱ | ⋮ | ⋮ | ⋮ | ⋮ | ⋮ | ⋮ | ⋮ | ⋮ | ⋮ | ⋮ |\n",
       "| rrna | 1 | 500 | 105 | 105 | 0 | 500f | PRIMER_LEFT  | GGTAGTCCACGCCGTAAACG | 20 | ⋯ | 792 | 812 | 61.70626 | 0 | 60 | 0 | 39.44303 | 0 | -25.45991 | 0 |\n",
       "| rrna | 1 | 500 | 105 | 105 | 0 | 500r | PRIMER_RIGHT | ACCTTGCGATCGTACTCCCC | 20 | ⋯ | 877 | 897 | 62.33122 | 0 | 60 | 0 |  0.00000 | 0 |  18.12689 | 0 |\n",
       "\n"
      ],
      "text/plain": [
       "     gene_type cluster_id primer_set amplicon_size_consensus amplicon_size_avg\n",
       "1    cds       3          22         167                     167              \n",
       "2    cds       3          22         167                     167              \n",
       "⋮    ⋮         ⋮          ⋮          ⋮                       ⋮                \n",
       "1595 rrna      1          500        105                     105              \n",
       "1596 rrna      1          500        105                     105              \n",
       "     amplicon_size_sd primer_id primer_type  sequence             length ⋯\n",
       "1    0                22f       PRIMER_LEFT  MGKTCKGTSATYGARGCGAC 20     ⋯\n",
       "2    0                22r       PRIMER_RIGHT CCVAGCGARATVACRGCCAT 20     ⋯\n",
       "⋮    ⋮                ⋮         ⋮            ⋮                    ⋮      ⋱\n",
       "1595 0                500f      PRIMER_LEFT  GGTAGTCCACGCCGTAAACG 20     ⋯\n",
       "1596 0                500r      PRIMER_RIGHT ACCTTGCGATCGTACTCCCC 20     ⋯\n",
       "     position_start position_end Tm_avg   Tm_sd    GC_avg   GC_sd   \n",
       "1    345            365          61.39241 2.093550 57.50000 5.590170\n",
       "2    492            512          62.15616 1.997969 56.66667 4.859127\n",
       "⋮    ⋮              ⋮            ⋮        ⋮        ⋮        ⋮       \n",
       "1595 792            812          61.70626 0        60       0       \n",
       "1596 877            897          62.33122 0        60       0       \n",
       "     hairpin_avg hairpin_sd homodimer_avg homodimer_sd\n",
       "1    30.99646    23.27834   -12.64141     21.98370    \n",
       "2    17.09865    19.12572   -14.36313     20.60622    \n",
       "⋮    ⋮           ⋮          ⋮             ⋮           \n",
       "1595 39.44303    0          -25.45991     0           \n",
       "1596  0.00000    0           18.12689     0           "
      ]
     },
     "metadata": {},
     "output_type": "display_data"
    }
   ],
   "source": [
    "# table on final primer metadata\n",
    "F = file.path(work_dir, 'cgp', 'primers_final_info.tsv')\n",
    "info = read.delim(F, sep='\\t')\n",
    "info"
   ]
  },
  {
   "cell_type": "code",
   "execution_count": 21,
   "metadata": {
    "execution": {
     "iopub.execute_input": "2021-01-26T10:32:54.128575Z",
     "iopub.status.busy": "2021-01-26T10:32:54.126601Z",
     "iopub.status.idle": "2021-01-26T10:32:54.167343Z"
    }
   },
   "outputs": [
    {
     "name": "stdout",
     "output_type": "stream",
     "text": [
      "No. of unique Primer sets: 400 \n",
      "No. of unique Primer sets: 82 \n"
     ]
    },
    {
     "data": {
      "text/html": [
       "<table>\n",
       "<caption>A matrix: 1 × 8 of type dbl</caption>\n",
       "<thead>\n",
       "\t<tr><th></th><th scope=col>Min.</th><th scope=col>1st Qu.</th><th scope=col>Median</th><th scope=col>Mean</th><th scope=col>3rd Qu.</th><th scope=col>Max.</th><th scope=col>sd</th><th scope=col>sd_err_of_mean</th></tr>\n",
       "</thead>\n",
       "<tbody>\n",
       "\t<tr><th scope=row>Primer sets per gene cluster</th><td>1</td><td>2</td><td>4</td><td>9.731707</td><td>8</td><td>162</td><td>64.206</td><td>26.212</td></tr>\n",
       "</tbody>\n",
       "</table>\n"
      ],
      "text/latex": [
       "A matrix: 1 × 8 of type dbl\n",
       "\\begin{tabular}{r|llllllll}\n",
       "  & Min. & 1st Qu. & Median & Mean & 3rd Qu. & Max. & sd & sd\\_err\\_of\\_mean\\\\\n",
       "\\hline\n",
       "\tPrimer sets per gene cluster & 1 & 2 & 4 & 9.731707 & 8 & 162 & 64.206 & 26.212\\\\\n",
       "\\end{tabular}\n"
      ],
      "text/markdown": [
       "\n",
       "A matrix: 1 × 8 of type dbl\n",
       "\n",
       "| <!--/--> | Min. | 1st Qu. | Median | Mean | 3rd Qu. | Max. | sd | sd_err_of_mean |\n",
       "|---|---|---|---|---|---|---|---|---|\n",
       "| Primer sets per gene cluster | 1 | 2 | 4 | 9.731707 | 8 | 162 | 64.206 | 26.212 |\n",
       "\n"
      ],
      "text/plain": [
       "                             Min. 1st Qu. Median Mean     3rd Qu. Max. sd    \n",
       "Primer sets per gene cluster 1    2       4      9.731707 8       162  64.206\n",
       "                             sd_err_of_mean\n",
       "Primer sets per gene cluster 26.212        "
      ]
     },
     "metadata": {},
     "output_type": "display_data"
    }
   ],
   "source": [
    "info$primer_set %>% unique_n('Primer sets')\n",
    "info$cluster_id %>% unique_n('Primer sets')\n",
    "info %>%\n",
    "    group_by(cluster_id) %>%\n",
    "    summarize(n_primer_sets = primer_set %>% unique %>% length,\n",
    "              .groups='drop') %>%\n",
    "    .$n_primer_sets %>% summary_x('Primer sets per gene cluster')"
   ]
  },
  {
   "cell_type": "code",
   "execution_count": 24,
   "metadata": {
    "execution": {
     "iopub.execute_input": "2021-01-26T10:34:00.043547Z",
     "iopub.status.busy": "2021-01-26T10:34:00.041442Z",
     "iopub.status.idle": "2021-01-26T10:34:00.072425Z"
    }
   },
   "outputs": [
    {
     "data": {
      "text/html": [
       "<table>\n",
       "<caption>A tibble: 2 × 2</caption>\n",
       "<thead>\n",
       "\t<tr><th scope=col>gene_type</th><th scope=col>n_primer_sets</th></tr>\n",
       "\t<tr><th scope=col>&lt;fct&gt;</th><th scope=col>&lt;int&gt;</th></tr>\n",
       "</thead>\n",
       "<tbody>\n",
       "\t<tr><td>cds </td><td>358</td></tr>\n",
       "\t<tr><td>rrna</td><td>162</td></tr>\n",
       "</tbody>\n",
       "</table>\n"
      ],
      "text/latex": [
       "A tibble: 2 × 2\n",
       "\\begin{tabular}{ll}\n",
       " gene\\_type & n\\_primer\\_sets\\\\\n",
       " <fct> & <int>\\\\\n",
       "\\hline\n",
       "\t cds  & 358\\\\\n",
       "\t rrna & 162\\\\\n",
       "\\end{tabular}\n"
      ],
      "text/markdown": [
       "\n",
       "A tibble: 2 × 2\n",
       "\n",
       "| gene_type &lt;fct&gt; | n_primer_sets &lt;int&gt; |\n",
       "|---|---|\n",
       "| cds  | 358 |\n",
       "| rrna | 162 |\n",
       "\n"
      ],
      "text/plain": [
       "  gene_type n_primer_sets\n",
       "1 cds       358          \n",
       "2 rrna      162          "
      ]
     },
     "metadata": {},
     "output_type": "display_data"
    }
   ],
   "source": [
    "# primer sets per gene type\n",
    "info %>%\n",
    "    distinct(gene_type, cluster_id, primer_set) %>%\n",
    "    group_by(gene_type) %>%\n",
    "    summarize(n_primer_sets = primer_set %>% unique %>% length,\n",
    "              .groups='drop') "
   ]
  },
  {
   "cell_type": "code",
   "execution_count": 25,
   "metadata": {
    "execution": {
     "iopub.execute_input": "2021-01-26T10:34:38.336725Z",
     "iopub.status.busy": "2021-01-26T10:34:38.331877Z",
     "iopub.status.idle": "2021-01-26T10:34:38.376924Z"
    }
   },
   "outputs": [
    {
     "data": {
      "text/html": [
       "<table>\n",
       "<caption>A data.frame: 10 × 22</caption>\n",
       "<thead>\n",
       "\t<tr><th></th><th scope=col>gene_type</th><th scope=col>cluster_id</th><th scope=col>primer_set</th><th scope=col>amplicon_size_consensus</th><th scope=col>amplicon_size_avg</th><th scope=col>amplicon_size_sd</th><th scope=col>primer_id</th><th scope=col>primer_type</th><th scope=col>sequence</th><th scope=col>length</th><th scope=col>degeneracy</th><th scope=col>degeneracy_3prime</th><th scope=col>position_start</th><th scope=col>position_end</th><th scope=col>Tm_avg</th><th scope=col>Tm_sd</th><th scope=col>GC_avg</th><th scope=col>GC_sd</th><th scope=col>hairpin_avg</th><th scope=col>hairpin_sd</th><th scope=col>homodimer_avg</th><th scope=col>homodimer_sd</th></tr>\n",
       "\t<tr><th></th><th scope=col>&lt;fct&gt;</th><th scope=col>&lt;int&gt;</th><th scope=col>&lt;int&gt;</th><th scope=col>&lt;int&gt;</th><th scope=col>&lt;dbl&gt;</th><th scope=col>&lt;dbl&gt;</th><th scope=col>&lt;fct&gt;</th><th scope=col>&lt;fct&gt;</th><th scope=col>&lt;fct&gt;</th><th scope=col>&lt;int&gt;</th><th scope=col>&lt;int&gt;</th><th scope=col>&lt;int&gt;</th><th scope=col>&lt;int&gt;</th><th scope=col>&lt;int&gt;</th><th scope=col>&lt;dbl&gt;</th><th scope=col>&lt;dbl&gt;</th><th scope=col>&lt;dbl&gt;</th><th scope=col>&lt;dbl&gt;</th><th scope=col>&lt;dbl&gt;</th><th scope=col>&lt;dbl&gt;</th><th scope=col>&lt;dbl&gt;</th><th scope=col>&lt;dbl&gt;</th></tr>\n",
       "</thead>\n",
       "<tbody>\n",
       "\t<tr><th scope=row>1</th><td>cds</td><td>3</td><td> 22</td><td>167</td><td>167</td><td>0</td><td>22f </td><td>PRIMER_LEFT </td><td>MGKTCKGTSATYGARGCGAC </td><td>20</td><td>64</td><td>1</td><td>345</td><td>365</td><td>61.39241</td><td>2.093550</td><td>57.50000</td><td>5.590170</td><td>30.99646</td><td>23.278340</td><td>-12.641412</td><td>21.98370</td></tr>\n",
       "\t<tr><th scope=row>2</th><td>cds</td><td>3</td><td> 22</td><td>167</td><td>167</td><td>0</td><td>22r </td><td>PRIMER_RIGHT</td><td>CCVAGCGARATVACRGCCAT </td><td>20</td><td>36</td><td>1</td><td>492</td><td>512</td><td>62.15616</td><td>1.997969</td><td>56.66667</td><td>4.859127</td><td>17.09865</td><td>19.125723</td><td>-14.363129</td><td>20.60622</td></tr>\n",
       "\t<tr><th scope=row>3</th><td>cds</td><td>3</td><td> 43</td><td>175</td><td>175</td><td>0</td><td>43f </td><td>PRIMER_LEFT </td><td>TCAAYATCGGCAGCGCGTTC </td><td>20</td><td> 2</td><td>1</td><td>634</td><td>654</td><td>63.52057</td><td>1.397559</td><td>57.50000</td><td>2.500000</td><td> 0.00000</td><td> 0.000000</td><td>  8.660936</td><td> 0.00000</td></tr>\n",
       "\t<tr><th scope=row>4</th><td>cds</td><td>3</td><td> 43</td><td>175</td><td>175</td><td>0</td><td>43r </td><td>PRIMER_RIGHT</td><td>GTRCGYTCRAGCACGCTGTG </td><td>20</td><td> 8</td><td>1</td><td>789</td><td>809</td><td>64.26538</td><td>2.087680</td><td>62.50000</td><td>4.330127</td><td>50.50432</td><td> 7.172953</td><td> 15.252237</td><td>17.19286</td></tr>\n",
       "\t<tr><th scope=row>5</th><td>cds</td><td>3</td><td> 54</td><td>166</td><td>166</td><td>0</td><td>54f </td><td>PRIMER_LEFT </td><td>ARATCAAYATCGGCAGCGCG </td><td>20</td><td> 4</td><td>1</td><td>631</td><td>651</td><td>62.43346</td><td>1.541262</td><td>55.00000</td><td>3.535534</td><td>17.93556</td><td>17.976394</td><td> -0.750490</td><td> 0.00000</td></tr>\n",
       "\t<tr><th scope=row>6</th><td>cds</td><td>3</td><td> 54</td><td>166</td><td>166</td><td>0</td><td>54r </td><td>PRIMER_RIGHT</td><td>ACGCTGTGCATBGTYTCCAT </td><td>20</td><td> 6</td><td>1</td><td>777</td><td>797</td><td>61.59511</td><td>1.099373</td><td>50.83333</td><td>3.435921</td><td>27.14570</td><td>19.842885</td><td>-15.725861</td><td>15.61321</td></tr>\n",
       "\t<tr><th scope=row>7</th><td>cds</td><td>3</td><td>278</td><td>126</td><td>126</td><td>0</td><td>278f</td><td>PRIMER_LEFT </td><td>MGKTCKGTSATYGARGCGAC </td><td>20</td><td>64</td><td>1</td><td>345</td><td>365</td><td>61.39241</td><td>2.093550</td><td>57.50000</td><td>5.590170</td><td>30.99646</td><td>23.278340</td><td>-12.641412</td><td>21.98370</td></tr>\n",
       "\t<tr><th scope=row>8</th><td>cds</td><td>3</td><td>278</td><td>126</td><td>126</td><td>0</td><td>278r</td><td>PRIMER_RIGHT</td><td>RTCRAGYACCATRTTGCCCTG</td><td>21</td><td>16</td><td>1</td><td>450</td><td>471</td><td>60.50139</td><td>2.354485</td><td>52.38095</td><td>4.761905</td><td>22.29399</td><td>22.293988</td><td>-12.885432</td><td>18.19178</td></tr>\n",
       "\t<tr><th scope=row>9</th><td>cds</td><td>3</td><td>350</td><td>176</td><td>176</td><td>0</td><td>350f</td><td>PRIMER_LEFT </td><td>TCAAYATCGGCAGCGCGTTC </td><td>20</td><td> 2</td><td>1</td><td>634</td><td>654</td><td>63.52057</td><td>1.397559</td><td>57.50000</td><td>2.500000</td><td> 0.00000</td><td> 0.000000</td><td>  8.660936</td><td> 0.00000</td></tr>\n",
       "\t<tr><th scope=row>10</th><td>cds</td><td>3</td><td>350</td><td>176</td><td>176</td><td>0</td><td>350r</td><td>PRIMER_RIGHT</td><td>CGTRCGYTCRAGCACGCTG  </td><td>19</td><td> 8</td><td>1</td><td>791</td><td>810</td><td>64.15562</td><td>2.169601</td><td>65.78947</td><td>4.558028</td><td>55.61760</td><td>12.010899</td><td> 21.792655</td><td>12.71115</td></tr>\n",
       "</tbody>\n",
       "</table>\n"
      ],
      "text/latex": [
       "A data.frame: 10 × 22\n",
       "\\begin{tabular}{r|llllllllllllllllllllll}\n",
       "  & gene\\_type & cluster\\_id & primer\\_set & amplicon\\_size\\_consensus & amplicon\\_size\\_avg & amplicon\\_size\\_sd & primer\\_id & primer\\_type & sequence & length & degeneracy & degeneracy\\_3prime & position\\_start & position\\_end & Tm\\_avg & Tm\\_sd & GC\\_avg & GC\\_sd & hairpin\\_avg & hairpin\\_sd & homodimer\\_avg & homodimer\\_sd\\\\\n",
       "  & <fct> & <int> & <int> & <int> & <dbl> & <dbl> & <fct> & <fct> & <fct> & <int> & <int> & <int> & <int> & <int> & <dbl> & <dbl> & <dbl> & <dbl> & <dbl> & <dbl> & <dbl> & <dbl>\\\\\n",
       "\\hline\n",
       "\t1 & cds & 3 &  22 & 167 & 167 & 0 & 22f  & PRIMER\\_LEFT  & MGKTCKGTSATYGARGCGAC  & 20 & 64 & 1 & 345 & 365 & 61.39241 & 2.093550 & 57.50000 & 5.590170 & 30.99646 & 23.278340 & -12.641412 & 21.98370\\\\\n",
       "\t2 & cds & 3 &  22 & 167 & 167 & 0 & 22r  & PRIMER\\_RIGHT & CCVAGCGARATVACRGCCAT  & 20 & 36 & 1 & 492 & 512 & 62.15616 & 1.997969 & 56.66667 & 4.859127 & 17.09865 & 19.125723 & -14.363129 & 20.60622\\\\\n",
       "\t3 & cds & 3 &  43 & 175 & 175 & 0 & 43f  & PRIMER\\_LEFT  & TCAAYATCGGCAGCGCGTTC  & 20 &  2 & 1 & 634 & 654 & 63.52057 & 1.397559 & 57.50000 & 2.500000 &  0.00000 &  0.000000 &   8.660936 &  0.00000\\\\\n",
       "\t4 & cds & 3 &  43 & 175 & 175 & 0 & 43r  & PRIMER\\_RIGHT & GTRCGYTCRAGCACGCTGTG  & 20 &  8 & 1 & 789 & 809 & 64.26538 & 2.087680 & 62.50000 & 4.330127 & 50.50432 &  7.172953 &  15.252237 & 17.19286\\\\\n",
       "\t5 & cds & 3 &  54 & 166 & 166 & 0 & 54f  & PRIMER\\_LEFT  & ARATCAAYATCGGCAGCGCG  & 20 &  4 & 1 & 631 & 651 & 62.43346 & 1.541262 & 55.00000 & 3.535534 & 17.93556 & 17.976394 &  -0.750490 &  0.00000\\\\\n",
       "\t6 & cds & 3 &  54 & 166 & 166 & 0 & 54r  & PRIMER\\_RIGHT & ACGCTGTGCATBGTYTCCAT  & 20 &  6 & 1 & 777 & 797 & 61.59511 & 1.099373 & 50.83333 & 3.435921 & 27.14570 & 19.842885 & -15.725861 & 15.61321\\\\\n",
       "\t7 & cds & 3 & 278 & 126 & 126 & 0 & 278f & PRIMER\\_LEFT  & MGKTCKGTSATYGARGCGAC  & 20 & 64 & 1 & 345 & 365 & 61.39241 & 2.093550 & 57.50000 & 5.590170 & 30.99646 & 23.278340 & -12.641412 & 21.98370\\\\\n",
       "\t8 & cds & 3 & 278 & 126 & 126 & 0 & 278r & PRIMER\\_RIGHT & RTCRAGYACCATRTTGCCCTG & 21 & 16 & 1 & 450 & 471 & 60.50139 & 2.354485 & 52.38095 & 4.761905 & 22.29399 & 22.293988 & -12.885432 & 18.19178\\\\\n",
       "\t9 & cds & 3 & 350 & 176 & 176 & 0 & 350f & PRIMER\\_LEFT  & TCAAYATCGGCAGCGCGTTC  & 20 &  2 & 1 & 634 & 654 & 63.52057 & 1.397559 & 57.50000 & 2.500000 &  0.00000 &  0.000000 &   8.660936 &  0.00000\\\\\n",
       "\t10 & cds & 3 & 350 & 176 & 176 & 0 & 350r & PRIMER\\_RIGHT & CGTRCGYTCRAGCACGCTG   & 19 &  8 & 1 & 791 & 810 & 64.15562 & 2.169601 & 65.78947 & 4.558028 & 55.61760 & 12.010899 &  21.792655 & 12.71115\\\\\n",
       "\\end{tabular}\n"
      ],
      "text/markdown": [
       "\n",
       "A data.frame: 10 × 22\n",
       "\n",
       "| <!--/--> | gene_type &lt;fct&gt; | cluster_id &lt;int&gt; | primer_set &lt;int&gt; | amplicon_size_consensus &lt;int&gt; | amplicon_size_avg &lt;dbl&gt; | amplicon_size_sd &lt;dbl&gt; | primer_id &lt;fct&gt; | primer_type &lt;fct&gt; | sequence &lt;fct&gt; | length &lt;int&gt; | degeneracy &lt;int&gt; | degeneracy_3prime &lt;int&gt; | position_start &lt;int&gt; | position_end &lt;int&gt; | Tm_avg &lt;dbl&gt; | Tm_sd &lt;dbl&gt; | GC_avg &lt;dbl&gt; | GC_sd &lt;dbl&gt; | hairpin_avg &lt;dbl&gt; | hairpin_sd &lt;dbl&gt; | homodimer_avg &lt;dbl&gt; | homodimer_sd &lt;dbl&gt; |\n",
       "|---|---|---|---|---|---|---|---|---|---|---|---|---|---|---|---|---|---|---|---|---|---|---|\n",
       "| 1 | cds | 3 |  22 | 167 | 167 | 0 | 22f  | PRIMER_LEFT  | MGKTCKGTSATYGARGCGAC  | 20 | 64 | 1 | 345 | 365 | 61.39241 | 2.093550 | 57.50000 | 5.590170 | 30.99646 | 23.278340 | -12.641412 | 21.98370 |\n",
       "| 2 | cds | 3 |  22 | 167 | 167 | 0 | 22r  | PRIMER_RIGHT | CCVAGCGARATVACRGCCAT  | 20 | 36 | 1 | 492 | 512 | 62.15616 | 1.997969 | 56.66667 | 4.859127 | 17.09865 | 19.125723 | -14.363129 | 20.60622 |\n",
       "| 3 | cds | 3 |  43 | 175 | 175 | 0 | 43f  | PRIMER_LEFT  | TCAAYATCGGCAGCGCGTTC  | 20 |  2 | 1 | 634 | 654 | 63.52057 | 1.397559 | 57.50000 | 2.500000 |  0.00000 |  0.000000 |   8.660936 |  0.00000 |\n",
       "| 4 | cds | 3 |  43 | 175 | 175 | 0 | 43r  | PRIMER_RIGHT | GTRCGYTCRAGCACGCTGTG  | 20 |  8 | 1 | 789 | 809 | 64.26538 | 2.087680 | 62.50000 | 4.330127 | 50.50432 |  7.172953 |  15.252237 | 17.19286 |\n",
       "| 5 | cds | 3 |  54 | 166 | 166 | 0 | 54f  | PRIMER_LEFT  | ARATCAAYATCGGCAGCGCG  | 20 |  4 | 1 | 631 | 651 | 62.43346 | 1.541262 | 55.00000 | 3.535534 | 17.93556 | 17.976394 |  -0.750490 |  0.00000 |\n",
       "| 6 | cds | 3 |  54 | 166 | 166 | 0 | 54r  | PRIMER_RIGHT | ACGCTGTGCATBGTYTCCAT  | 20 |  6 | 1 | 777 | 797 | 61.59511 | 1.099373 | 50.83333 | 3.435921 | 27.14570 | 19.842885 | -15.725861 | 15.61321 |\n",
       "| 7 | cds | 3 | 278 | 126 | 126 | 0 | 278f | PRIMER_LEFT  | MGKTCKGTSATYGARGCGAC  | 20 | 64 | 1 | 345 | 365 | 61.39241 | 2.093550 | 57.50000 | 5.590170 | 30.99646 | 23.278340 | -12.641412 | 21.98370 |\n",
       "| 8 | cds | 3 | 278 | 126 | 126 | 0 | 278r | PRIMER_RIGHT | RTCRAGYACCATRTTGCCCTG | 21 | 16 | 1 | 450 | 471 | 60.50139 | 2.354485 | 52.38095 | 4.761905 | 22.29399 | 22.293988 | -12.885432 | 18.19178 |\n",
       "| 9 | cds | 3 | 350 | 176 | 176 | 0 | 350f | PRIMER_LEFT  | TCAAYATCGGCAGCGCGTTC  | 20 |  2 | 1 | 634 | 654 | 63.52057 | 1.397559 | 57.50000 | 2.500000 |  0.00000 |  0.000000 |   8.660936 |  0.00000 |\n",
       "| 10 | cds | 3 | 350 | 176 | 176 | 0 | 350r | PRIMER_RIGHT | CGTRCGYTCRAGCACGCTG   | 19 |  8 | 1 | 791 | 810 | 64.15562 | 2.169601 | 65.78947 | 4.558028 | 55.61760 | 12.010899 |  21.792655 | 12.71115 |\n",
       "\n"
      ],
      "text/plain": [
       "   gene_type cluster_id primer_set amplicon_size_consensus amplicon_size_avg\n",
       "1  cds       3           22        167                     167              \n",
       "2  cds       3           22        167                     167              \n",
       "3  cds       3           43        175                     175              \n",
       "4  cds       3           43        175                     175              \n",
       "5  cds       3           54        166                     166              \n",
       "6  cds       3           54        166                     166              \n",
       "7  cds       3          278        126                     126              \n",
       "8  cds       3          278        126                     126              \n",
       "9  cds       3          350        176                     176              \n",
       "10 cds       3          350        176                     176              \n",
       "   amplicon_size_sd primer_id primer_type  sequence              length\n",
       "1  0                22f       PRIMER_LEFT  MGKTCKGTSATYGARGCGAC  20    \n",
       "2  0                22r       PRIMER_RIGHT CCVAGCGARATVACRGCCAT  20    \n",
       "3  0                43f       PRIMER_LEFT  TCAAYATCGGCAGCGCGTTC  20    \n",
       "4  0                43r       PRIMER_RIGHT GTRCGYTCRAGCACGCTGTG  20    \n",
       "5  0                54f       PRIMER_LEFT  ARATCAAYATCGGCAGCGCG  20    \n",
       "6  0                54r       PRIMER_RIGHT ACGCTGTGCATBGTYTCCAT  20    \n",
       "7  0                278f      PRIMER_LEFT  MGKTCKGTSATYGARGCGAC  20    \n",
       "8  0                278r      PRIMER_RIGHT RTCRAGYACCATRTTGCCCTG 21    \n",
       "9  0                350f      PRIMER_LEFT  TCAAYATCGGCAGCGCGTTC  20    \n",
       "10 0                350r      PRIMER_RIGHT CGTRCGYTCRAGCACGCTG   19    \n",
       "   degeneracy degeneracy_3prime position_start position_end Tm_avg   Tm_sd   \n",
       "1  64         1                 345            365          61.39241 2.093550\n",
       "2  36         1                 492            512          62.15616 1.997969\n",
       "3   2         1                 634            654          63.52057 1.397559\n",
       "4   8         1                 789            809          64.26538 2.087680\n",
       "5   4         1                 631            651          62.43346 1.541262\n",
       "6   6         1                 777            797          61.59511 1.099373\n",
       "7  64         1                 345            365          61.39241 2.093550\n",
       "8  16         1                 450            471          60.50139 2.354485\n",
       "9   2         1                 634            654          63.52057 1.397559\n",
       "10  8         1                 791            810          64.15562 2.169601\n",
       "   GC_avg   GC_sd    hairpin_avg hairpin_sd homodimer_avg homodimer_sd\n",
       "1  57.50000 5.590170 30.99646    23.278340  -12.641412    21.98370    \n",
       "2  56.66667 4.859127 17.09865    19.125723  -14.363129    20.60622    \n",
       "3  57.50000 2.500000  0.00000     0.000000    8.660936     0.00000    \n",
       "4  62.50000 4.330127 50.50432     7.172953   15.252237    17.19286    \n",
       "5  55.00000 3.535534 17.93556    17.976394   -0.750490     0.00000    \n",
       "6  50.83333 3.435921 27.14570    19.842885  -15.725861    15.61321    \n",
       "7  57.50000 5.590170 30.99646    23.278340  -12.641412    21.98370    \n",
       "8  52.38095 4.761905 22.29399    22.293988  -12.885432    18.19178    \n",
       "9  57.50000 2.500000  0.00000     0.000000    8.660936     0.00000    \n",
       "10 65.78947 4.558028 55.61760    12.010899   21.792655    12.71115    "
      ]
     },
     "metadata": {},
     "output_type": "display_data"
    }
   ],
   "source": [
    "df.dims(10, 30)\n",
    "info %>%\n",
    "    head(n=10)\n",
    "df.dims()"
   ]
  },
  {
   "cell_type": "code",
   "execution_count": 26,
   "metadata": {
    "execution": {
     "iopub.execute_input": "2021-01-26T10:34:45.487437Z",
     "iopub.status.busy": "2021-01-26T10:34:45.485322Z",
     "iopub.status.idle": "2021-01-26T10:34:45.547873Z"
    }
   },
   "outputs": [
    {
     "data": {
      "text/html": [
       "<table>\n",
       "<caption>A matrix: 1 × 8 of type dbl</caption>\n",
       "<thead>\n",
       "\t<tr><th></th><th scope=col>Min.</th><th scope=col>1st Qu.</th><th scope=col>Median</th><th scope=col>Mean</th><th scope=col>3rd Qu.</th><th scope=col>Max.</th><th scope=col>sd</th><th scope=col>sd_err_of_mean</th></tr>\n",
       "</thead>\n",
       "<tbody>\n",
       "\t<tr><th scope=row>amplicon_size_avg</th><td>100</td><td>119</td><td>136</td><td>141.4479</td><td>161</td><td>200</td><td>34.783</td><td>14.2</td></tr>\n",
       "</tbody>\n",
       "</table>\n"
      ],
      "text/latex": [
       "A matrix: 1 × 8 of type dbl\n",
       "\\begin{tabular}{r|llllllll}\n",
       "  & Min. & 1st Qu. & Median & Mean & 3rd Qu. & Max. & sd & sd\\_err\\_of\\_mean\\\\\n",
       "\\hline\n",
       "\tamplicon\\_size\\_avg & 100 & 119 & 136 & 141.4479 & 161 & 200 & 34.783 & 14.2\\\\\n",
       "\\end{tabular}\n"
      ],
      "text/markdown": [
       "\n",
       "A matrix: 1 × 8 of type dbl\n",
       "\n",
       "| <!--/--> | Min. | 1st Qu. | Median | Mean | 3rd Qu. | Max. | sd | sd_err_of_mean |\n",
       "|---|---|---|---|---|---|---|---|---|\n",
       "| amplicon_size_avg | 100 | 119 | 136 | 141.4479 | 161 | 200 | 34.783 | 14.2 |\n",
       "\n"
      ],
      "text/plain": [
       "                  Min. 1st Qu. Median Mean     3rd Qu. Max. sd    \n",
       "amplicon_size_avg 100  119     136    141.4479 161     200  34.783\n",
       "                  sd_err_of_mean\n",
       "amplicon_size_avg 14.2          "
      ]
     },
     "metadata": {},
     "output_type": "display_data"
    },
    {
     "name": "stderr",
     "output_type": "stream",
     "text": [
      "Warning message in is.data.frame(x):\n",
      "“NAs introduced by coercion”\n"
     ]
    },
    {
     "data": {
      "text/html": [
       "<table>\n",
       "<caption>A matrix: 1 × 5 of type chr</caption>\n",
       "<thead>\n",
       "\t<tr><th></th><th scope=col>Length</th><th scope=col>Class</th><th scope=col>Mode</th><th scope=col>sd</th><th scope=col>sd_err_of_mean</th></tr>\n",
       "</thead>\n",
       "<tbody>\n",
       "\t<tr><th scope=row>degen</th><td>0</td><td>NULL</td><td>NULL</td><td>NA</td><td>NA</td></tr>\n",
       "</tbody>\n",
       "</table>\n"
      ],
      "text/latex": [
       "A matrix: 1 × 5 of type chr\n",
       "\\begin{tabular}{r|lllll}\n",
       "  & Length & Class & Mode & sd & sd\\_err\\_of\\_mean\\\\\n",
       "\\hline\n",
       "\tdegen & 0 & NULL & NULL & NA & NA\\\\\n",
       "\\end{tabular}\n"
      ],
      "text/markdown": [
       "\n",
       "A matrix: 1 × 5 of type chr\n",
       "\n",
       "| <!--/--> | Length | Class | Mode | sd | sd_err_of_mean |\n",
       "|---|---|---|---|---|---|\n",
       "| degen | 0 | NULL | NULL | NA | NA |\n",
       "\n"
      ],
      "text/plain": [
       "      Length Class Mode sd sd_err_of_mean\n",
       "degen 0      NULL  NULL NA NA            "
      ]
     },
     "metadata": {},
     "output_type": "display_data"
    },
    {
     "data": {
      "text/html": [
       "<table>\n",
       "<caption>A matrix: 1 × 8 of type dbl</caption>\n",
       "<thead>\n",
       "\t<tr><th></th><th scope=col>Min.</th><th scope=col>1st Qu.</th><th scope=col>Median</th><th scope=col>Mean</th><th scope=col>3rd Qu.</th><th scope=col>Max.</th><th scope=col>sd</th><th scope=col>sd_err_of_mean</th></tr>\n",
       "</thead>\n",
       "<tbody>\n",
       "\t<tr><th scope=row>Tm-avg</th><td>57.03484</td><td>60.33245</td><td>61.17492</td><td>61.14643</td><td>62.06415</td><td>64.70111</td><td>2.491</td><td>1.017</td></tr>\n",
       "</tbody>\n",
       "</table>\n"
      ],
      "text/latex": [
       "A matrix: 1 × 8 of type dbl\n",
       "\\begin{tabular}{r|llllllll}\n",
       "  & Min. & 1st Qu. & Median & Mean & 3rd Qu. & Max. & sd & sd\\_err\\_of\\_mean\\\\\n",
       "\\hline\n",
       "\tTm-avg & 57.03484 & 60.33245 & 61.17492 & 61.14643 & 62.06415 & 64.70111 & 2.491 & 1.017\\\\\n",
       "\\end{tabular}\n"
      ],
      "text/markdown": [
       "\n",
       "A matrix: 1 × 8 of type dbl\n",
       "\n",
       "| <!--/--> | Min. | 1st Qu. | Median | Mean | 3rd Qu. | Max. | sd | sd_err_of_mean |\n",
       "|---|---|---|---|---|---|---|---|---|\n",
       "| Tm-avg | 57.03484 | 60.33245 | 61.17492 | 61.14643 | 62.06415 | 64.70111 | 2.491 | 1.017 |\n",
       "\n"
      ],
      "text/plain": [
       "       Min.     1st Qu.  Median   Mean     3rd Qu.  Max.     sd   \n",
       "Tm-avg 57.03484 60.33245 61.17492 61.14643 62.06415 64.70111 2.491\n",
       "       sd_err_of_mean\n",
       "Tm-avg 1.017         "
      ]
     },
     "metadata": {},
     "output_type": "display_data"
    },
    {
     "data": {
      "text/html": [
       "<table>\n",
       "<caption>A matrix: 1 × 8 of type dbl</caption>\n",
       "<thead>\n",
       "\t<tr><th></th><th scope=col>Min.</th><th scope=col>1st Qu.</th><th scope=col>Median</th><th scope=col>Mean</th><th scope=col>3rd Qu.</th><th scope=col>Max.</th><th scope=col>sd</th><th scope=col>sd_err_of_mean</th></tr>\n",
       "</thead>\n",
       "<tbody>\n",
       "\t<tr><th scope=row>Tm-sd</th><td>0</td><td>0</td><td>1.663903</td><td>1.359697</td><td>2.083074</td><td>3.097817</td><td>1.211</td><td>0.494</td></tr>\n",
       "</tbody>\n",
       "</table>\n"
      ],
      "text/latex": [
       "A matrix: 1 × 8 of type dbl\n",
       "\\begin{tabular}{r|llllllll}\n",
       "  & Min. & 1st Qu. & Median & Mean & 3rd Qu. & Max. & sd & sd\\_err\\_of\\_mean\\\\\n",
       "\\hline\n",
       "\tTm-sd & 0 & 0 & 1.663903 & 1.359697 & 2.083074 & 3.097817 & 1.211 & 0.494\\\\\n",
       "\\end{tabular}\n"
      ],
      "text/markdown": [
       "\n",
       "A matrix: 1 × 8 of type dbl\n",
       "\n",
       "| <!--/--> | Min. | 1st Qu. | Median | Mean | 3rd Qu. | Max. | sd | sd_err_of_mean |\n",
       "|---|---|---|---|---|---|---|---|---|\n",
       "| Tm-sd | 0 | 0 | 1.663903 | 1.359697 | 2.083074 | 3.097817 | 1.211 | 0.494 |\n",
       "\n"
      ],
      "text/plain": [
       "      Min. 1st Qu. Median   Mean     3rd Qu.  Max.     sd    sd_err_of_mean\n",
       "Tm-sd 0    0       1.663903 1.359697 2.083074 3.097817 1.211 0.494         "
      ]
     },
     "metadata": {},
     "output_type": "display_data"
    },
    {
     "data": {
      "text/html": [
       "<table>\n",
       "<caption>A matrix: 1 × 8 of type dbl</caption>\n",
       "<thead>\n",
       "\t<tr><th></th><th scope=col>Min.</th><th scope=col>1st Qu.</th><th scope=col>Median</th><th scope=col>Mean</th><th scope=col>3rd Qu.</th><th scope=col>Max.</th><th scope=col>sd</th><th scope=col>sd_err_of_mean</th></tr>\n",
       "</thead>\n",
       "<tbody>\n",
       "\t<tr><th scope=row>GC-avg</th><td>42.5</td><td>52.38095</td><td>55</td><td>54.27032</td><td>57.5</td><td>67.5</td><td>8.075</td><td>3.297</td></tr>\n",
       "</tbody>\n",
       "</table>\n"
      ],
      "text/latex": [
       "A matrix: 1 × 8 of type dbl\n",
       "\\begin{tabular}{r|llllllll}\n",
       "  & Min. & 1st Qu. & Median & Mean & 3rd Qu. & Max. & sd & sd\\_err\\_of\\_mean\\\\\n",
       "\\hline\n",
       "\tGC-avg & 42.5 & 52.38095 & 55 & 54.27032 & 57.5 & 67.5 & 8.075 & 3.297\\\\\n",
       "\\end{tabular}\n"
      ],
      "text/markdown": [
       "\n",
       "A matrix: 1 × 8 of type dbl\n",
       "\n",
       "| <!--/--> | Min. | 1st Qu. | Median | Mean | 3rd Qu. | Max. | sd | sd_err_of_mean |\n",
       "|---|---|---|---|---|---|---|---|---|\n",
       "| GC-avg | 42.5 | 52.38095 | 55 | 54.27032 | 57.5 | 67.5 | 8.075 | 3.297 |\n",
       "\n"
      ],
      "text/plain": [
       "       Min. 1st Qu.  Median Mean     3rd Qu. Max. sd    sd_err_of_mean\n",
       "GC-avg 42.5 52.38095 55     54.27032 57.5    67.5 8.075 3.297         "
      ]
     },
     "metadata": {},
     "output_type": "display_data"
    },
    {
     "data": {
      "text/html": [
       "<table>\n",
       "<caption>A matrix: 1 × 8 of type dbl</caption>\n",
       "<thead>\n",
       "\t<tr><th></th><th scope=col>Min.</th><th scope=col>1st Qu.</th><th scope=col>Median</th><th scope=col>Mean</th><th scope=col>3rd Qu.</th><th scope=col>Max.</th><th scope=col>sd</th><th scope=col>sd_err_of_mean</th></tr>\n",
       "</thead>\n",
       "<tbody>\n",
       "\t<tr><th scope=row>GC-sd</th><td>0</td><td>0</td><td>3.535534</td><td>2.979665</td><td>4.475088</td><td>6.299408</td><td>2.501</td><td>1.021</td></tr>\n",
       "</tbody>\n",
       "</table>\n"
      ],
      "text/latex": [
       "A matrix: 1 × 8 of type dbl\n",
       "\\begin{tabular}{r|llllllll}\n",
       "  & Min. & 1st Qu. & Median & Mean & 3rd Qu. & Max. & sd & sd\\_err\\_of\\_mean\\\\\n",
       "\\hline\n",
       "\tGC-sd & 0 & 0 & 3.535534 & 2.979665 & 4.475088 & 6.299408 & 2.501 & 1.021\\\\\n",
       "\\end{tabular}\n"
      ],
      "text/markdown": [
       "\n",
       "A matrix: 1 × 8 of type dbl\n",
       "\n",
       "| <!--/--> | Min. | 1st Qu. | Median | Mean | 3rd Qu. | Max. | sd | sd_err_of_mean |\n",
       "|---|---|---|---|---|---|---|---|---|\n",
       "| GC-sd | 0 | 0 | 3.535534 | 2.979665 | 4.475088 | 6.299408 | 2.501 | 1.021 |\n",
       "\n"
      ],
      "text/plain": [
       "      Min. 1st Qu. Median   Mean     3rd Qu.  Max.     sd    sd_err_of_mean\n",
       "GC-sd 0    0       3.535534 2.979665 4.475088 6.299408 2.501 1.021         "
      ]
     },
     "metadata": {},
     "output_type": "display_data"
    }
   ],
   "source": [
    "# general stats\n",
    "info$amplicon_size_avg %>% summary_x('amplicon_size_avg')\n",
    "info$seq_degeneracy %>% summary_x('degen')\n",
    "info$Tm_avg %>% summary_x('Tm-avg')\n",
    "info$Tm_sd %>% summary_x('Tm-sd')\n",
    "info$GC_avg %>% summary_x('GC-avg')\n",
    "info$GC_sd %>% summary_x('GC-sd')"
   ]
  },
  {
   "cell_type": "markdown",
   "metadata": {},
   "source": [
    "### CDS primers that are the best"
   ]
  },
  {
   "cell_type": "code",
   "execution_count": 40,
   "metadata": {
    "execution": {
     "iopub.execute_input": "2021-01-26T10:40:48.397722Z",
     "iopub.status.busy": "2021-01-26T10:40:48.395630Z",
     "iopub.status.idle": "2021-01-26T10:40:48.538347Z"
    }
   },
   "outputs": [
    {
     "data": {
      "text/html": [
       "<table>\n",
       "<caption>A data.frame: 4259 × 17</caption>\n",
       "<thead>\n",
       "\t<tr><th scope=col>cluster_id</th><th scope=col>query</th><th scope=col>subject</th><th scope=col>subject_name</th><th scope=col>pident</th><th scope=col>length</th><th scope=col>mismatch</th><th scope=col>qstart</th><th scope=col>qend</th><th scope=col>sstart</th><th scope=col>send</th><th scope=col>evalue</th><th scope=col>slen</th><th scope=col>qlen</th><th scope=col>sscinames</th><th scope=col>staxids</th><th scope=col>pident_rank</th></tr>\n",
       "\t<tr><th scope=col>&lt;int&gt;</th><th scope=col>&lt;fct&gt;</th><th scope=col>&lt;fct&gt;</th><th scope=col>&lt;fct&gt;</th><th scope=col>&lt;dbl&gt;</th><th scope=col>&lt;int&gt;</th><th scope=col>&lt;int&gt;</th><th scope=col>&lt;int&gt;</th><th scope=col>&lt;int&gt;</th><th scope=col>&lt;int&gt;</th><th scope=col>&lt;int&gt;</th><th scope=col>&lt;dbl&gt;</th><th scope=col>&lt;int&gt;</th><th scope=col>&lt;int&gt;</th><th scope=col>&lt;fct&gt;</th><th scope=col>&lt;fct&gt;</th><th scope=col>&lt;int&gt;</th></tr>\n",
       "</thead>\n",
       "<tbody>\n",
       "\t<tr><td>1</td><td>1e017375b4d44109b09daf0557f8f7c3</td><td>MBD5559572.1</td><td>GNAT family N-acetyltransferase [Clostridia bacterium]    </td><td>72.185</td><td>151</td><td>42</td><td>1</td><td>453</td><td>1</td><td>151</td><td>1.14e-76</td><td>151</td><td>456</td><td>Clostridia bacterium   </td><td>2044939</td><td>2</td></tr>\n",
       "\t<tr><td>1</td><td>1e017375b4d44109b09daf0557f8f7c3</td><td>PWL49310.1  </td><td>hypothetical protein DBY39_01400 [Clostridiales bacterium]</td><td>43.791</td><td>153</td><td>84</td><td>1</td><td>453</td><td>1</td><td>153</td><td>9.32e-38</td><td>153</td><td>456</td><td>Clostridiales bacterium</td><td>1898207</td><td>4</td></tr>\n",
       "\t<tr><td>⋮</td><td>⋮</td><td>⋮</td><td>⋮</td><td>⋮</td><td>⋮</td><td>⋮</td><td>⋮</td><td>⋮</td><td>⋮</td><td>⋮</td><td>⋮</td><td>⋮</td><td>⋮</td><td>⋮</td><td>⋮</td><td>⋮</td></tr>\n",
       "\t<tr><td>156</td><td>844a979832a0426591c598e2570282b4</td><td>NLI60856.1</td><td>elongation factor P [Clostridiales bacterium]</td><td>75.676</td><td>185</td><td>45</td><td>1</td><td>555</td><td>1</td><td>185</td><td>3.20e-103</td><td>185</td><td>558</td><td>Clostridiales bacterium</td><td>1898207</td><td>29</td></tr>\n",
       "\t<tr><td>156</td><td>844a979832a0426591c598e2570282b4</td><td>NLX70507.1</td><td>elongation factor P [Clostridiales bacterium]</td><td>76.216</td><td>185</td><td>44</td><td>1</td><td>555</td><td>1</td><td>185</td><td>3.42e-103</td><td>185</td><td>558</td><td>Clostridiales bacterium</td><td>1898207</td><td>26</td></tr>\n",
       "</tbody>\n",
       "</table>\n"
      ],
      "text/latex": [
       "A data.frame: 4259 × 17\n",
       "\\begin{tabular}{lllllllllllllllll}\n",
       " cluster\\_id & query & subject & subject\\_name & pident & length & mismatch & qstart & qend & sstart & send & evalue & slen & qlen & sscinames & staxids & pident\\_rank\\\\\n",
       " <int> & <fct> & <fct> & <fct> & <dbl> & <int> & <int> & <int> & <int> & <int> & <int> & <dbl> & <int> & <int> & <fct> & <fct> & <int>\\\\\n",
       "\\hline\n",
       "\t 1 & 1e017375b4d44109b09daf0557f8f7c3 & MBD5559572.1 & GNAT family N-acetyltransferase {[}Clostridia bacterium{]}     & 72.185 & 151 & 42 & 1 & 453 & 1 & 151 & 1.14e-76 & 151 & 456 & Clostridia bacterium    & 2044939 & 2\\\\\n",
       "\t 1 & 1e017375b4d44109b09daf0557f8f7c3 & PWL49310.1   & hypothetical protein DBY39\\_01400 {[}Clostridiales bacterium{]} & 43.791 & 153 & 84 & 1 & 453 & 1 & 153 & 9.32e-38 & 153 & 456 & Clostridiales bacterium & 1898207 & 4\\\\\n",
       "\t ⋮ & ⋮ & ⋮ & ⋮ & ⋮ & ⋮ & ⋮ & ⋮ & ⋮ & ⋮ & ⋮ & ⋮ & ⋮ & ⋮ & ⋮ & ⋮ & ⋮\\\\\n",
       "\t 156 & 844a979832a0426591c598e2570282b4 & NLI60856.1 & elongation factor P {[}Clostridiales bacterium{]} & 75.676 & 185 & 45 & 1 & 555 & 1 & 185 & 3.20e-103 & 185 & 558 & Clostridiales bacterium & 1898207 & 29\\\\\n",
       "\t 156 & 844a979832a0426591c598e2570282b4 & NLX70507.1 & elongation factor P {[}Clostridiales bacterium{]} & 76.216 & 185 & 44 & 1 & 555 & 1 & 185 & 3.42e-103 & 185 & 558 & Clostridiales bacterium & 1898207 & 26\\\\\n",
       "\\end{tabular}\n"
      ],
      "text/markdown": [
       "\n",
       "A data.frame: 4259 × 17\n",
       "\n",
       "| cluster_id &lt;int&gt; | query &lt;fct&gt; | subject &lt;fct&gt; | subject_name &lt;fct&gt; | pident &lt;dbl&gt; | length &lt;int&gt; | mismatch &lt;int&gt; | qstart &lt;int&gt; | qend &lt;int&gt; | sstart &lt;int&gt; | send &lt;int&gt; | evalue &lt;dbl&gt; | slen &lt;int&gt; | qlen &lt;int&gt; | sscinames &lt;fct&gt; | staxids &lt;fct&gt; | pident_rank &lt;int&gt; |\n",
       "|---|---|---|---|---|---|---|---|---|---|---|---|---|---|---|---|---|\n",
       "| 1 | 1e017375b4d44109b09daf0557f8f7c3 | MBD5559572.1 | GNAT family N-acetyltransferase [Clostridia bacterium]     | 72.185 | 151 | 42 | 1 | 453 | 1 | 151 | 1.14e-76 | 151 | 456 | Clostridia bacterium    | 2044939 | 2 |\n",
       "| 1 | 1e017375b4d44109b09daf0557f8f7c3 | PWL49310.1   | hypothetical protein DBY39_01400 [Clostridiales bacterium] | 43.791 | 153 | 84 | 1 | 453 | 1 | 153 | 9.32e-38 | 153 | 456 | Clostridiales bacterium | 1898207 | 4 |\n",
       "| ⋮ | ⋮ | ⋮ | ⋮ | ⋮ | ⋮ | ⋮ | ⋮ | ⋮ | ⋮ | ⋮ | ⋮ | ⋮ | ⋮ | ⋮ | ⋮ | ⋮ |\n",
       "| 156 | 844a979832a0426591c598e2570282b4 | NLI60856.1 | elongation factor P [Clostridiales bacterium] | 75.676 | 185 | 45 | 1 | 555 | 1 | 185 | 3.20e-103 | 185 | 558 | Clostridiales bacterium | 1898207 | 29 |\n",
       "| 156 | 844a979832a0426591c598e2570282b4 | NLX70507.1 | elongation factor P [Clostridiales bacterium] | 76.216 | 185 | 44 | 1 | 555 | 1 | 185 | 3.42e-103 | 185 | 558 | Clostridiales bacterium | 1898207 | 26 |\n",
       "\n"
      ],
      "text/plain": [
       "     cluster_id query                            subject     \n",
       "1    1          1e017375b4d44109b09daf0557f8f7c3 MBD5559572.1\n",
       "2    1          1e017375b4d44109b09daf0557f8f7c3 PWL49310.1  \n",
       "⋮    ⋮          ⋮                                ⋮           \n",
       "4258 156        844a979832a0426591c598e2570282b4 NLI60856.1  \n",
       "4259 156        844a979832a0426591c598e2570282b4 NLX70507.1  \n",
       "     subject_name                                               pident length\n",
       "1    GNAT family N-acetyltransferase [Clostridia bacterium]     72.185 151   \n",
       "2    hypothetical protein DBY39_01400 [Clostridiales bacterium] 43.791 153   \n",
       "⋮    ⋮                                                          ⋮      ⋮     \n",
       "4258 elongation factor P [Clostridiales bacterium]              75.676 185   \n",
       "4259 elongation factor P [Clostridiales bacterium]              76.216 185   \n",
       "     mismatch qstart qend sstart send evalue    slen qlen\n",
       "1    42       1      453  1      151  1.14e-76  151  456 \n",
       "2    84       1      453  1      153  9.32e-38  153  456 \n",
       "⋮    ⋮        ⋮      ⋮    ⋮      ⋮    ⋮         ⋮    ⋮   \n",
       "4258 45       1      555  1      185  3.20e-103 185  558 \n",
       "4259 44       1      555  1      185  3.42e-103 185  558 \n",
       "     sscinames               staxids pident_rank\n",
       "1    Clostridia bacterium    2044939 2          \n",
       "2    Clostridiales bacterium 1898207 4          \n",
       "⋮    ⋮                       ⋮       ⋮          \n",
       "4258 Clostridiales bacterium 1898207 29         \n",
       "4259 Clostridiales bacterium 1898207 26         "
      ]
     },
     "metadata": {},
     "output_type": "display_data"
    }
   ],
   "source": [
    "# blastx on non-targets\n",
    "F = file.path(work_dir, 'cgp', 'nontarget', 'cds_blastx.tsv')\n",
    "cds_blast = read.delim(F, sep='\\t') %>%\n",
    "    filter(!grepl('Catabacter|Christensenella', sscinames))\n",
    "cds_blast "
   ]
  },
  {
   "cell_type": "code",
   "execution_count": 44,
   "metadata": {
    "execution": {
     "iopub.execute_input": "2021-01-26T10:42:42.276028Z",
     "iopub.status.busy": "2021-01-26T10:42:42.274479Z",
     "iopub.status.idle": "2021-01-26T10:42:42.311498Z"
    }
   },
   "outputs": [
    {
     "name": "stdout",
     "output_type": "stream",
     "text": [
      "No. of unique clusters: 51 \n"
     ]
    }
   ],
   "source": [
    "# clusters with the most distant non-target relatives\n",
    "cds_blast_f = cds_blast %>%\n",
    "    group_by(cluster_id) %>%\n",
    "    mutate(max_pident = max(pident)) %>%\n",
    "    ungroup() %>%\n",
    "    filter(max_pident < 80)\n",
    "cds_blast_f %>% unique_n('clusters', cluster_id)"
   ]
  },
  {
   "cell_type": "code",
   "execution_count": 57,
   "metadata": {
    "execution": {
     "iopub.execute_input": "2021-01-26T10:47:57.164636Z",
     "iopub.status.busy": "2021-01-26T10:47:57.162792Z",
     "iopub.status.idle": "2021-01-26T10:47:57.288374Z"
    }
   },
   "outputs": [
    {
     "data": {
      "text/html": [
       "<table>\n",
       "<caption>A tibble: 30 × 23</caption>\n",
       "<thead>\n",
       "\t<tr><th scope=col>gene_type</th><th scope=col>cluster_id</th><th scope=col>primer_set</th><th scope=col>amplicon_size_consensus</th><th scope=col>amplicon_size_avg</th><th scope=col>amplicon_size_sd</th><th scope=col>primer_id</th><th scope=col>primer_type</th><th scope=col>sequence</th><th scope=col>length</th><th scope=col>degeneracy</th><th scope=col>degeneracy_3prime</th><th scope=col>position_start</th><th scope=col>position_end</th><th scope=col>Tm_avg</th><th scope=col>Tm_sd</th><th scope=col>GC_avg</th><th scope=col>GC_sd</th><th scope=col>hairpin_avg</th><th scope=col>hairpin_sd</th><th scope=col>homodimer_avg</th><th scope=col>homodimer_sd</th><th scope=col>n</th></tr>\n",
       "\t<tr><th scope=col>&lt;fct&gt;</th><th scope=col>&lt;int&gt;</th><th scope=col>&lt;int&gt;</th><th scope=col>&lt;int&gt;</th><th scope=col>&lt;dbl&gt;</th><th scope=col>&lt;dbl&gt;</th><th scope=col>&lt;fct&gt;</th><th scope=col>&lt;fct&gt;</th><th scope=col>&lt;fct&gt;</th><th scope=col>&lt;int&gt;</th><th scope=col>&lt;int&gt;</th><th scope=col>&lt;int&gt;</th><th scope=col>&lt;int&gt;</th><th scope=col>&lt;int&gt;</th><th scope=col>&lt;dbl&gt;</th><th scope=col>&lt;dbl&gt;</th><th scope=col>&lt;dbl&gt;</th><th scope=col>&lt;dbl&gt;</th><th scope=col>&lt;dbl&gt;</th><th scope=col>&lt;dbl&gt;</th><th scope=col>&lt;dbl&gt;</th><th scope=col>&lt;dbl&gt;</th><th scope=col>&lt;int&gt;</th></tr>\n",
       "</thead>\n",
       "<tbody>\n",
       "\t<tr><td>cds</td><td>87</td><td> 95</td><td>157</td><td>157</td><td>0</td><td>95f </td><td>PRIMER_LEFT </td><td>AGCTACGACCTGATCCCCAA </td><td>20</td><td>1</td><td>1</td><td> 48</td><td> 68</td><td>60.99849</td><td>0</td><td>55.00000</td><td>0</td><td> 0.00000</td><td>0</td><td>-29.59591</td><td>0</td><td>2</td></tr>\n",
       "\t<tr><td>cds</td><td>87</td><td> 95</td><td>157</td><td>157</td><td>0</td><td>95r </td><td>PRIMER_RIGHT</td><td>TGCGTCCCTGTCTTTTCAGC </td><td>20</td><td>1</td><td>1</td><td>185</td><td>205</td><td>61.53486</td><td>0</td><td>55.00000</td><td>0</td><td>34.80076</td><td>0</td><td>-37.51648</td><td>0</td><td>2</td></tr>\n",
       "\t<tr><td>cds</td><td>87</td><td> 96</td><td>158</td><td>158</td><td>0</td><td>96f </td><td>PRIMER_LEFT </td><td>AAGCTACGACCTGATCCCCA </td><td>20</td><td>1</td><td>1</td><td> 47</td><td> 67</td><td>60.99849</td><td>0</td><td>55.00000</td><td>0</td><td> 0.00000</td><td>0</td><td>-29.59591</td><td>0</td><td>2</td></tr>\n",
       "\t<tr><td>cds</td><td>87</td><td> 96</td><td>158</td><td>158</td><td>0</td><td>96r </td><td>PRIMER_RIGHT</td><td>TGCGTCCCTGTCTTTTCAGC </td><td>20</td><td>1</td><td>1</td><td>185</td><td>205</td><td>61.53486</td><td>0</td><td>55.00000</td><td>0</td><td>34.80076</td><td>0</td><td>-37.51648</td><td>0</td><td>2</td></tr>\n",
       "\t<tr><td>cds</td><td>87</td><td>101</td><td>159</td><td>159</td><td>0</td><td>101f</td><td>PRIMER_LEFT </td><td>AGCTACGACCTGATCCCCAA </td><td>20</td><td>1</td><td>1</td><td> 48</td><td> 68</td><td>60.99849</td><td>0</td><td>55.00000</td><td>0</td><td> 0.00000</td><td>0</td><td>-29.59591</td><td>0</td><td>2</td></tr>\n",
       "\t<tr><td>cds</td><td>87</td><td>101</td><td>159</td><td>159</td><td>0</td><td>101r</td><td>PRIMER_RIGHT</td><td>CGTGCGTCCCTGTCTTTTCA </td><td>20</td><td>1</td><td>1</td><td>187</td><td>207</td><td>61.52293</td><td>0</td><td>55.00000</td><td>0</td><td> 0.00000</td><td>0</td><td>-35.82261</td><td>0</td><td>2</td></tr>\n",
       "\t<tr><td>cds</td><td>87</td><td>102</td><td>160</td><td>160</td><td>0</td><td>102f</td><td>PRIMER_LEFT </td><td>AAGCTACGACCTGATCCCCA </td><td>20</td><td>1</td><td>1</td><td> 47</td><td> 67</td><td>60.99849</td><td>0</td><td>55.00000</td><td>0</td><td> 0.00000</td><td>0</td><td>-29.59591</td><td>0</td><td>2</td></tr>\n",
       "\t<tr><td>cds</td><td>87</td><td>102</td><td>160</td><td>160</td><td>0</td><td>102r</td><td>PRIMER_RIGHT</td><td>CGTGCGTCCCTGTCTTTTCA </td><td>20</td><td>1</td><td>1</td><td>187</td><td>207</td><td>61.52293</td><td>0</td><td>55.00000</td><td>0</td><td> 0.00000</td><td>0</td><td>-35.82261</td><td>0</td><td>2</td></tr>\n",
       "\t<tr><td>cds</td><td>87</td><td>139</td><td>161</td><td>161</td><td>0</td><td>139f</td><td>PRIMER_LEFT </td><td>AAGCTACGACCTGATCCCCAA</td><td>21</td><td>1</td><td>1</td><td> 47</td><td> 68</td><td>61.57581</td><td>0</td><td>52.38095</td><td>0</td><td> 0.00000</td><td>0</td><td>-29.59591</td><td>0</td><td>2</td></tr>\n",
       "\t<tr><td>cds</td><td>87</td><td>139</td><td>161</td><td>161</td><td>0</td><td>139r</td><td>PRIMER_RIGHT</td><td>CCGTGCGTCCCTGTCTTTTC </td><td>20</td><td>1</td><td>1</td><td>188</td><td>208</td><td>62.20623</td><td>0</td><td>60.00000</td><td>0</td><td> 0.00000</td><td>0</td><td>-35.82261</td><td>0</td><td>2</td></tr>\n",
       "\t<tr><td>cds</td><td>87</td><td>140</td><td>162</td><td>162</td><td>0</td><td>140f</td><td>PRIMER_LEFT </td><td>AAAGCTACGACCTGATCCCCA</td><td>21</td><td>1</td><td>1</td><td> 46</td><td> 67</td><td>61.57581</td><td>0</td><td>52.38095</td><td>0</td><td> 0.00000</td><td>0</td><td>-29.59591</td><td>0</td><td>2</td></tr>\n",
       "\t<tr><td>cds</td><td>87</td><td>140</td><td>162</td><td>162</td><td>0</td><td>140r</td><td>PRIMER_RIGHT</td><td>CCGTGCGTCCCTGTCTTTTC </td><td>20</td><td>1</td><td>1</td><td>188</td><td>208</td><td>62.20623</td><td>0</td><td>60.00000</td><td>0</td><td> 0.00000</td><td>0</td><td>-35.82261</td><td>0</td><td>2</td></tr>\n",
       "\t<tr><td>cds</td><td>87</td><td>173</td><td>156</td><td>156</td><td>0</td><td>173f</td><td>PRIMER_LEFT </td><td>AGCTACGACCTGATCCCCAA </td><td>20</td><td>1</td><td>1</td><td> 48</td><td> 68</td><td>60.99849</td><td>0</td><td>55.00000</td><td>0</td><td> 0.00000</td><td>0</td><td>-29.59591</td><td>0</td><td>2</td></tr>\n",
       "\t<tr><td>cds</td><td>87</td><td>173</td><td>156</td><td>156</td><td>0</td><td>173r</td><td>PRIMER_RIGHT</td><td>GCGTCCCTGTCTTTTCAGCT </td><td>20</td><td>1</td><td>1</td><td>184</td><td>204</td><td>61.25593</td><td>0</td><td>55.00000</td><td>0</td><td>34.80076</td><td>0</td><td>-57.19020</td><td>0</td><td>2</td></tr>\n",
       "\t<tr><td>cds</td><td>87</td><td>174</td><td>157</td><td>157</td><td>0</td><td>174f</td><td>PRIMER_LEFT </td><td>AAGCTACGACCTGATCCCCA </td><td>20</td><td>1</td><td>1</td><td> 47</td><td> 67</td><td>60.99849</td><td>0</td><td>55.00000</td><td>0</td><td> 0.00000</td><td>0</td><td>-29.59591</td><td>0</td><td>2</td></tr>\n",
       "\t<tr><td>cds</td><td>87</td><td>174</td><td>157</td><td>157</td><td>0</td><td>174r</td><td>PRIMER_RIGHT</td><td>GCGTCCCTGTCTTTTCAGCT </td><td>20</td><td>1</td><td>1</td><td>184</td><td>204</td><td>61.25593</td><td>0</td><td>55.00000</td><td>0</td><td>34.80076</td><td>0</td><td>-57.19020</td><td>0</td><td>2</td></tr>\n",
       "\t<tr><td>cds</td><td>87</td><td>204</td><td>158</td><td>158</td><td>0</td><td>204f</td><td>PRIMER_LEFT </td><td>AAGCTACGACCTGATCCCCAA</td><td>21</td><td>1</td><td>1</td><td> 47</td><td> 68</td><td>61.57581</td><td>0</td><td>52.38095</td><td>0</td><td> 0.00000</td><td>0</td><td>-29.59591</td><td>0</td><td>2</td></tr>\n",
       "\t<tr><td>cds</td><td>87</td><td>204</td><td>158</td><td>158</td><td>0</td><td>204r</td><td>PRIMER_RIGHT</td><td>TGCGTCCCTGTCTTTTCAGC </td><td>20</td><td>1</td><td>1</td><td>185</td><td>205</td><td>61.53486</td><td>0</td><td>55.00000</td><td>0</td><td>34.80076</td><td>0</td><td>-37.51648</td><td>0</td><td>2</td></tr>\n",
       "\t<tr><td>cds</td><td>87</td><td>205</td><td>159</td><td>159</td><td>0</td><td>205f</td><td>PRIMER_LEFT </td><td>AAAGCTACGACCTGATCCCCA</td><td>21</td><td>1</td><td>1</td><td> 46</td><td> 67</td><td>61.57581</td><td>0</td><td>52.38095</td><td>0</td><td> 0.00000</td><td>0</td><td>-29.59591</td><td>0</td><td>2</td></tr>\n",
       "\t<tr><td>cds</td><td>87</td><td>205</td><td>159</td><td>159</td><td>0</td><td>205r</td><td>PRIMER_RIGHT</td><td>TGCGTCCCTGTCTTTTCAGC </td><td>20</td><td>1</td><td>1</td><td>185</td><td>205</td><td>61.53486</td><td>0</td><td>55.00000</td><td>0</td><td>34.80076</td><td>0</td><td>-37.51648</td><td>0</td><td>2</td></tr>\n",
       "\t<tr><td>cds</td><td>87</td><td>214</td><td>160</td><td>160</td><td>0</td><td>214f</td><td>PRIMER_LEFT </td><td>AAGCTACGACCTGATCCCCAA</td><td>21</td><td>1</td><td>1</td><td> 47</td><td> 68</td><td>61.57581</td><td>0</td><td>52.38095</td><td>0</td><td> 0.00000</td><td>0</td><td>-29.59591</td><td>0</td><td>2</td></tr>\n",
       "\t<tr><td>cds</td><td>87</td><td>214</td><td>160</td><td>160</td><td>0</td><td>214r</td><td>PRIMER_RIGHT</td><td>CGTGCGTCCCTGTCTTTTCA </td><td>20</td><td>1</td><td>1</td><td>187</td><td>207</td><td>61.52293</td><td>0</td><td>55.00000</td><td>0</td><td> 0.00000</td><td>0</td><td>-35.82261</td><td>0</td><td>2</td></tr>\n",
       "\t<tr><td>cds</td><td>87</td><td>215</td><td>161</td><td>161</td><td>0</td><td>215f</td><td>PRIMER_LEFT </td><td>AAAGCTACGACCTGATCCCCA</td><td>21</td><td>1</td><td>1</td><td> 46</td><td> 67</td><td>61.57581</td><td>0</td><td>52.38095</td><td>0</td><td> 0.00000</td><td>0</td><td>-29.59591</td><td>0</td><td>2</td></tr>\n",
       "\t<tr><td>cds</td><td>87</td><td>215</td><td>161</td><td>161</td><td>0</td><td>215r</td><td>PRIMER_RIGHT</td><td>CGTGCGTCCCTGTCTTTTCA </td><td>20</td><td>1</td><td>1</td><td>187</td><td>207</td><td>61.52293</td><td>0</td><td>55.00000</td><td>0</td><td> 0.00000</td><td>0</td><td>-35.82261</td><td>0</td><td>2</td></tr>\n",
       "\t<tr><td>cds</td><td>87</td><td>363</td><td>157</td><td>157</td><td>0</td><td>363f</td><td>PRIMER_LEFT </td><td>AAGCTACGACCTGATCCCCAA</td><td>21</td><td>1</td><td>1</td><td> 47</td><td> 68</td><td>61.57581</td><td>0</td><td>52.38095</td><td>0</td><td> 0.00000</td><td>0</td><td>-29.59591</td><td>0</td><td>2</td></tr>\n",
       "\t<tr><td>cds</td><td>87</td><td>363</td><td>157</td><td>157</td><td>0</td><td>363r</td><td>PRIMER_RIGHT</td><td>GCGTCCCTGTCTTTTCAGCT </td><td>20</td><td>1</td><td>1</td><td>184</td><td>204</td><td>61.25593</td><td>0</td><td>55.00000</td><td>0</td><td>34.80076</td><td>0</td><td>-57.19020</td><td>0</td><td>2</td></tr>\n",
       "\t<tr><td>cds</td><td>87</td><td>364</td><td>158</td><td>158</td><td>0</td><td>364f</td><td>PRIMER_LEFT </td><td>AAAGCTACGACCTGATCCCCA</td><td>21</td><td>1</td><td>1</td><td> 46</td><td> 67</td><td>61.57581</td><td>0</td><td>52.38095</td><td>0</td><td> 0.00000</td><td>0</td><td>-29.59591</td><td>0</td><td>2</td></tr>\n",
       "\t<tr><td>cds</td><td>87</td><td>364</td><td>158</td><td>158</td><td>0</td><td>364r</td><td>PRIMER_RIGHT</td><td>GCGTCCCTGTCTTTTCAGCT </td><td>20</td><td>1</td><td>1</td><td>184</td><td>204</td><td>61.25593</td><td>0</td><td>55.00000</td><td>0</td><td>34.80076</td><td>0</td><td>-57.19020</td><td>0</td><td>2</td></tr>\n",
       "\t<tr><td>cds</td><td>87</td><td>392</td><td>156</td><td>156</td><td>0</td><td>392f</td><td>PRIMER_LEFT </td><td>AGCTACGACCTGATCCCCAA </td><td>20</td><td>1</td><td>1</td><td> 48</td><td> 68</td><td>60.99849</td><td>0</td><td>55.00000</td><td>0</td><td> 0.00000</td><td>0</td><td>-29.59591</td><td>0</td><td>2</td></tr>\n",
       "\t<tr><td>cds</td><td>87</td><td>392</td><td>156</td><td>156</td><td>0</td><td>392r</td><td>PRIMER_RIGHT</td><td>GCGTCCCTGTCTTTTCAGCTT</td><td>21</td><td>1</td><td>1</td><td>183</td><td>204</td><td>61.80351</td><td>0</td><td>52.38095</td><td>0</td><td>34.80076</td><td>0</td><td>-48.25839</td><td>0</td><td>2</td></tr>\n",
       "</tbody>\n",
       "</table>\n"
      ],
      "text/latex": [
       "A tibble: 30 × 23\n",
       "\\begin{tabular}{lllllllllllllllllllllll}\n",
       " gene\\_type & cluster\\_id & primer\\_set & amplicon\\_size\\_consensus & amplicon\\_size\\_avg & amplicon\\_size\\_sd & primer\\_id & primer\\_type & sequence & length & degeneracy & degeneracy\\_3prime & position\\_start & position\\_end & Tm\\_avg & Tm\\_sd & GC\\_avg & GC\\_sd & hairpin\\_avg & hairpin\\_sd & homodimer\\_avg & homodimer\\_sd & n\\\\\n",
       " <fct> & <int> & <int> & <int> & <dbl> & <dbl> & <fct> & <fct> & <fct> & <int> & <int> & <int> & <int> & <int> & <dbl> & <dbl> & <dbl> & <dbl> & <dbl> & <dbl> & <dbl> & <dbl> & <int>\\\\\n",
       "\\hline\n",
       "\t cds & 87 &  95 & 157 & 157 & 0 & 95f  & PRIMER\\_LEFT  & AGCTACGACCTGATCCCCAA  & 20 & 1 & 1 &  48 &  68 & 60.99849 & 0 & 55.00000 & 0 &  0.00000 & 0 & -29.59591 & 0 & 2\\\\\n",
       "\t cds & 87 &  95 & 157 & 157 & 0 & 95r  & PRIMER\\_RIGHT & TGCGTCCCTGTCTTTTCAGC  & 20 & 1 & 1 & 185 & 205 & 61.53486 & 0 & 55.00000 & 0 & 34.80076 & 0 & -37.51648 & 0 & 2\\\\\n",
       "\t cds & 87 &  96 & 158 & 158 & 0 & 96f  & PRIMER\\_LEFT  & AAGCTACGACCTGATCCCCA  & 20 & 1 & 1 &  47 &  67 & 60.99849 & 0 & 55.00000 & 0 &  0.00000 & 0 & -29.59591 & 0 & 2\\\\\n",
       "\t cds & 87 &  96 & 158 & 158 & 0 & 96r  & PRIMER\\_RIGHT & TGCGTCCCTGTCTTTTCAGC  & 20 & 1 & 1 & 185 & 205 & 61.53486 & 0 & 55.00000 & 0 & 34.80076 & 0 & -37.51648 & 0 & 2\\\\\n",
       "\t cds & 87 & 101 & 159 & 159 & 0 & 101f & PRIMER\\_LEFT  & AGCTACGACCTGATCCCCAA  & 20 & 1 & 1 &  48 &  68 & 60.99849 & 0 & 55.00000 & 0 &  0.00000 & 0 & -29.59591 & 0 & 2\\\\\n",
       "\t cds & 87 & 101 & 159 & 159 & 0 & 101r & PRIMER\\_RIGHT & CGTGCGTCCCTGTCTTTTCA  & 20 & 1 & 1 & 187 & 207 & 61.52293 & 0 & 55.00000 & 0 &  0.00000 & 0 & -35.82261 & 0 & 2\\\\\n",
       "\t cds & 87 & 102 & 160 & 160 & 0 & 102f & PRIMER\\_LEFT  & AAGCTACGACCTGATCCCCA  & 20 & 1 & 1 &  47 &  67 & 60.99849 & 0 & 55.00000 & 0 &  0.00000 & 0 & -29.59591 & 0 & 2\\\\\n",
       "\t cds & 87 & 102 & 160 & 160 & 0 & 102r & PRIMER\\_RIGHT & CGTGCGTCCCTGTCTTTTCA  & 20 & 1 & 1 & 187 & 207 & 61.52293 & 0 & 55.00000 & 0 &  0.00000 & 0 & -35.82261 & 0 & 2\\\\\n",
       "\t cds & 87 & 139 & 161 & 161 & 0 & 139f & PRIMER\\_LEFT  & AAGCTACGACCTGATCCCCAA & 21 & 1 & 1 &  47 &  68 & 61.57581 & 0 & 52.38095 & 0 &  0.00000 & 0 & -29.59591 & 0 & 2\\\\\n",
       "\t cds & 87 & 139 & 161 & 161 & 0 & 139r & PRIMER\\_RIGHT & CCGTGCGTCCCTGTCTTTTC  & 20 & 1 & 1 & 188 & 208 & 62.20623 & 0 & 60.00000 & 0 &  0.00000 & 0 & -35.82261 & 0 & 2\\\\\n",
       "\t cds & 87 & 140 & 162 & 162 & 0 & 140f & PRIMER\\_LEFT  & AAAGCTACGACCTGATCCCCA & 21 & 1 & 1 &  46 &  67 & 61.57581 & 0 & 52.38095 & 0 &  0.00000 & 0 & -29.59591 & 0 & 2\\\\\n",
       "\t cds & 87 & 140 & 162 & 162 & 0 & 140r & PRIMER\\_RIGHT & CCGTGCGTCCCTGTCTTTTC  & 20 & 1 & 1 & 188 & 208 & 62.20623 & 0 & 60.00000 & 0 &  0.00000 & 0 & -35.82261 & 0 & 2\\\\\n",
       "\t cds & 87 & 173 & 156 & 156 & 0 & 173f & PRIMER\\_LEFT  & AGCTACGACCTGATCCCCAA  & 20 & 1 & 1 &  48 &  68 & 60.99849 & 0 & 55.00000 & 0 &  0.00000 & 0 & -29.59591 & 0 & 2\\\\\n",
       "\t cds & 87 & 173 & 156 & 156 & 0 & 173r & PRIMER\\_RIGHT & GCGTCCCTGTCTTTTCAGCT  & 20 & 1 & 1 & 184 & 204 & 61.25593 & 0 & 55.00000 & 0 & 34.80076 & 0 & -57.19020 & 0 & 2\\\\\n",
       "\t cds & 87 & 174 & 157 & 157 & 0 & 174f & PRIMER\\_LEFT  & AAGCTACGACCTGATCCCCA  & 20 & 1 & 1 &  47 &  67 & 60.99849 & 0 & 55.00000 & 0 &  0.00000 & 0 & -29.59591 & 0 & 2\\\\\n",
       "\t cds & 87 & 174 & 157 & 157 & 0 & 174r & PRIMER\\_RIGHT & GCGTCCCTGTCTTTTCAGCT  & 20 & 1 & 1 & 184 & 204 & 61.25593 & 0 & 55.00000 & 0 & 34.80076 & 0 & -57.19020 & 0 & 2\\\\\n",
       "\t cds & 87 & 204 & 158 & 158 & 0 & 204f & PRIMER\\_LEFT  & AAGCTACGACCTGATCCCCAA & 21 & 1 & 1 &  47 &  68 & 61.57581 & 0 & 52.38095 & 0 &  0.00000 & 0 & -29.59591 & 0 & 2\\\\\n",
       "\t cds & 87 & 204 & 158 & 158 & 0 & 204r & PRIMER\\_RIGHT & TGCGTCCCTGTCTTTTCAGC  & 20 & 1 & 1 & 185 & 205 & 61.53486 & 0 & 55.00000 & 0 & 34.80076 & 0 & -37.51648 & 0 & 2\\\\\n",
       "\t cds & 87 & 205 & 159 & 159 & 0 & 205f & PRIMER\\_LEFT  & AAAGCTACGACCTGATCCCCA & 21 & 1 & 1 &  46 &  67 & 61.57581 & 0 & 52.38095 & 0 &  0.00000 & 0 & -29.59591 & 0 & 2\\\\\n",
       "\t cds & 87 & 205 & 159 & 159 & 0 & 205r & PRIMER\\_RIGHT & TGCGTCCCTGTCTTTTCAGC  & 20 & 1 & 1 & 185 & 205 & 61.53486 & 0 & 55.00000 & 0 & 34.80076 & 0 & -37.51648 & 0 & 2\\\\\n",
       "\t cds & 87 & 214 & 160 & 160 & 0 & 214f & PRIMER\\_LEFT  & AAGCTACGACCTGATCCCCAA & 21 & 1 & 1 &  47 &  68 & 61.57581 & 0 & 52.38095 & 0 &  0.00000 & 0 & -29.59591 & 0 & 2\\\\\n",
       "\t cds & 87 & 214 & 160 & 160 & 0 & 214r & PRIMER\\_RIGHT & CGTGCGTCCCTGTCTTTTCA  & 20 & 1 & 1 & 187 & 207 & 61.52293 & 0 & 55.00000 & 0 &  0.00000 & 0 & -35.82261 & 0 & 2\\\\\n",
       "\t cds & 87 & 215 & 161 & 161 & 0 & 215f & PRIMER\\_LEFT  & AAAGCTACGACCTGATCCCCA & 21 & 1 & 1 &  46 &  67 & 61.57581 & 0 & 52.38095 & 0 &  0.00000 & 0 & -29.59591 & 0 & 2\\\\\n",
       "\t cds & 87 & 215 & 161 & 161 & 0 & 215r & PRIMER\\_RIGHT & CGTGCGTCCCTGTCTTTTCA  & 20 & 1 & 1 & 187 & 207 & 61.52293 & 0 & 55.00000 & 0 &  0.00000 & 0 & -35.82261 & 0 & 2\\\\\n",
       "\t cds & 87 & 363 & 157 & 157 & 0 & 363f & PRIMER\\_LEFT  & AAGCTACGACCTGATCCCCAA & 21 & 1 & 1 &  47 &  68 & 61.57581 & 0 & 52.38095 & 0 &  0.00000 & 0 & -29.59591 & 0 & 2\\\\\n",
       "\t cds & 87 & 363 & 157 & 157 & 0 & 363r & PRIMER\\_RIGHT & GCGTCCCTGTCTTTTCAGCT  & 20 & 1 & 1 & 184 & 204 & 61.25593 & 0 & 55.00000 & 0 & 34.80076 & 0 & -57.19020 & 0 & 2\\\\\n",
       "\t cds & 87 & 364 & 158 & 158 & 0 & 364f & PRIMER\\_LEFT  & AAAGCTACGACCTGATCCCCA & 21 & 1 & 1 &  46 &  67 & 61.57581 & 0 & 52.38095 & 0 &  0.00000 & 0 & -29.59591 & 0 & 2\\\\\n",
       "\t cds & 87 & 364 & 158 & 158 & 0 & 364r & PRIMER\\_RIGHT & GCGTCCCTGTCTTTTCAGCT  & 20 & 1 & 1 & 184 & 204 & 61.25593 & 0 & 55.00000 & 0 & 34.80076 & 0 & -57.19020 & 0 & 2\\\\\n",
       "\t cds & 87 & 392 & 156 & 156 & 0 & 392f & PRIMER\\_LEFT  & AGCTACGACCTGATCCCCAA  & 20 & 1 & 1 &  48 &  68 & 60.99849 & 0 & 55.00000 & 0 &  0.00000 & 0 & -29.59591 & 0 & 2\\\\\n",
       "\t cds & 87 & 392 & 156 & 156 & 0 & 392r & PRIMER\\_RIGHT & GCGTCCCTGTCTTTTCAGCTT & 21 & 1 & 1 & 183 & 204 & 61.80351 & 0 & 52.38095 & 0 & 34.80076 & 0 & -48.25839 & 0 & 2\\\\\n",
       "\\end{tabular}\n"
      ],
      "text/markdown": [
       "\n",
       "A tibble: 30 × 23\n",
       "\n",
       "| gene_type &lt;fct&gt; | cluster_id &lt;int&gt; | primer_set &lt;int&gt; | amplicon_size_consensus &lt;int&gt; | amplicon_size_avg &lt;dbl&gt; | amplicon_size_sd &lt;dbl&gt; | primer_id &lt;fct&gt; | primer_type &lt;fct&gt; | sequence &lt;fct&gt; | length &lt;int&gt; | degeneracy &lt;int&gt; | degeneracy_3prime &lt;int&gt; | position_start &lt;int&gt; | position_end &lt;int&gt; | Tm_avg &lt;dbl&gt; | Tm_sd &lt;dbl&gt; | GC_avg &lt;dbl&gt; | GC_sd &lt;dbl&gt; | hairpin_avg &lt;dbl&gt; | hairpin_sd &lt;dbl&gt; | homodimer_avg &lt;dbl&gt; | homodimer_sd &lt;dbl&gt; | n &lt;int&gt; |\n",
       "|---|---|---|---|---|---|---|---|---|---|---|---|---|---|---|---|---|---|---|---|---|---|---|\n",
       "| cds | 87 |  95 | 157 | 157 | 0 | 95f  | PRIMER_LEFT  | AGCTACGACCTGATCCCCAA  | 20 | 1 | 1 |  48 |  68 | 60.99849 | 0 | 55.00000 | 0 |  0.00000 | 0 | -29.59591 | 0 | 2 |\n",
       "| cds | 87 |  95 | 157 | 157 | 0 | 95r  | PRIMER_RIGHT | TGCGTCCCTGTCTTTTCAGC  | 20 | 1 | 1 | 185 | 205 | 61.53486 | 0 | 55.00000 | 0 | 34.80076 | 0 | -37.51648 | 0 | 2 |\n",
       "| cds | 87 |  96 | 158 | 158 | 0 | 96f  | PRIMER_LEFT  | AAGCTACGACCTGATCCCCA  | 20 | 1 | 1 |  47 |  67 | 60.99849 | 0 | 55.00000 | 0 |  0.00000 | 0 | -29.59591 | 0 | 2 |\n",
       "| cds | 87 |  96 | 158 | 158 | 0 | 96r  | PRIMER_RIGHT | TGCGTCCCTGTCTTTTCAGC  | 20 | 1 | 1 | 185 | 205 | 61.53486 | 0 | 55.00000 | 0 | 34.80076 | 0 | -37.51648 | 0 | 2 |\n",
       "| cds | 87 | 101 | 159 | 159 | 0 | 101f | PRIMER_LEFT  | AGCTACGACCTGATCCCCAA  | 20 | 1 | 1 |  48 |  68 | 60.99849 | 0 | 55.00000 | 0 |  0.00000 | 0 | -29.59591 | 0 | 2 |\n",
       "| cds | 87 | 101 | 159 | 159 | 0 | 101r | PRIMER_RIGHT | CGTGCGTCCCTGTCTTTTCA  | 20 | 1 | 1 | 187 | 207 | 61.52293 | 0 | 55.00000 | 0 |  0.00000 | 0 | -35.82261 | 0 | 2 |\n",
       "| cds | 87 | 102 | 160 | 160 | 0 | 102f | PRIMER_LEFT  | AAGCTACGACCTGATCCCCA  | 20 | 1 | 1 |  47 |  67 | 60.99849 | 0 | 55.00000 | 0 |  0.00000 | 0 | -29.59591 | 0 | 2 |\n",
       "| cds | 87 | 102 | 160 | 160 | 0 | 102r | PRIMER_RIGHT | CGTGCGTCCCTGTCTTTTCA  | 20 | 1 | 1 | 187 | 207 | 61.52293 | 0 | 55.00000 | 0 |  0.00000 | 0 | -35.82261 | 0 | 2 |\n",
       "| cds | 87 | 139 | 161 | 161 | 0 | 139f | PRIMER_LEFT  | AAGCTACGACCTGATCCCCAA | 21 | 1 | 1 |  47 |  68 | 61.57581 | 0 | 52.38095 | 0 |  0.00000 | 0 | -29.59591 | 0 | 2 |\n",
       "| cds | 87 | 139 | 161 | 161 | 0 | 139r | PRIMER_RIGHT | CCGTGCGTCCCTGTCTTTTC  | 20 | 1 | 1 | 188 | 208 | 62.20623 | 0 | 60.00000 | 0 |  0.00000 | 0 | -35.82261 | 0 | 2 |\n",
       "| cds | 87 | 140 | 162 | 162 | 0 | 140f | PRIMER_LEFT  | AAAGCTACGACCTGATCCCCA | 21 | 1 | 1 |  46 |  67 | 61.57581 | 0 | 52.38095 | 0 |  0.00000 | 0 | -29.59591 | 0 | 2 |\n",
       "| cds | 87 | 140 | 162 | 162 | 0 | 140r | PRIMER_RIGHT | CCGTGCGTCCCTGTCTTTTC  | 20 | 1 | 1 | 188 | 208 | 62.20623 | 0 | 60.00000 | 0 |  0.00000 | 0 | -35.82261 | 0 | 2 |\n",
       "| cds | 87 | 173 | 156 | 156 | 0 | 173f | PRIMER_LEFT  | AGCTACGACCTGATCCCCAA  | 20 | 1 | 1 |  48 |  68 | 60.99849 | 0 | 55.00000 | 0 |  0.00000 | 0 | -29.59591 | 0 | 2 |\n",
       "| cds | 87 | 173 | 156 | 156 | 0 | 173r | PRIMER_RIGHT | GCGTCCCTGTCTTTTCAGCT  | 20 | 1 | 1 | 184 | 204 | 61.25593 | 0 | 55.00000 | 0 | 34.80076 | 0 | -57.19020 | 0 | 2 |\n",
       "| cds | 87 | 174 | 157 | 157 | 0 | 174f | PRIMER_LEFT  | AAGCTACGACCTGATCCCCA  | 20 | 1 | 1 |  47 |  67 | 60.99849 | 0 | 55.00000 | 0 |  0.00000 | 0 | -29.59591 | 0 | 2 |\n",
       "| cds | 87 | 174 | 157 | 157 | 0 | 174r | PRIMER_RIGHT | GCGTCCCTGTCTTTTCAGCT  | 20 | 1 | 1 | 184 | 204 | 61.25593 | 0 | 55.00000 | 0 | 34.80076 | 0 | -57.19020 | 0 | 2 |\n",
       "| cds | 87 | 204 | 158 | 158 | 0 | 204f | PRIMER_LEFT  | AAGCTACGACCTGATCCCCAA | 21 | 1 | 1 |  47 |  68 | 61.57581 | 0 | 52.38095 | 0 |  0.00000 | 0 | -29.59591 | 0 | 2 |\n",
       "| cds | 87 | 204 | 158 | 158 | 0 | 204r | PRIMER_RIGHT | TGCGTCCCTGTCTTTTCAGC  | 20 | 1 | 1 | 185 | 205 | 61.53486 | 0 | 55.00000 | 0 | 34.80076 | 0 | -37.51648 | 0 | 2 |\n",
       "| cds | 87 | 205 | 159 | 159 | 0 | 205f | PRIMER_LEFT  | AAAGCTACGACCTGATCCCCA | 21 | 1 | 1 |  46 |  67 | 61.57581 | 0 | 52.38095 | 0 |  0.00000 | 0 | -29.59591 | 0 | 2 |\n",
       "| cds | 87 | 205 | 159 | 159 | 0 | 205r | PRIMER_RIGHT | TGCGTCCCTGTCTTTTCAGC  | 20 | 1 | 1 | 185 | 205 | 61.53486 | 0 | 55.00000 | 0 | 34.80076 | 0 | -37.51648 | 0 | 2 |\n",
       "| cds | 87 | 214 | 160 | 160 | 0 | 214f | PRIMER_LEFT  | AAGCTACGACCTGATCCCCAA | 21 | 1 | 1 |  47 |  68 | 61.57581 | 0 | 52.38095 | 0 |  0.00000 | 0 | -29.59591 | 0 | 2 |\n",
       "| cds | 87 | 214 | 160 | 160 | 0 | 214r | PRIMER_RIGHT | CGTGCGTCCCTGTCTTTTCA  | 20 | 1 | 1 | 187 | 207 | 61.52293 | 0 | 55.00000 | 0 |  0.00000 | 0 | -35.82261 | 0 | 2 |\n",
       "| cds | 87 | 215 | 161 | 161 | 0 | 215f | PRIMER_LEFT  | AAAGCTACGACCTGATCCCCA | 21 | 1 | 1 |  46 |  67 | 61.57581 | 0 | 52.38095 | 0 |  0.00000 | 0 | -29.59591 | 0 | 2 |\n",
       "| cds | 87 | 215 | 161 | 161 | 0 | 215r | PRIMER_RIGHT | CGTGCGTCCCTGTCTTTTCA  | 20 | 1 | 1 | 187 | 207 | 61.52293 | 0 | 55.00000 | 0 |  0.00000 | 0 | -35.82261 | 0 | 2 |\n",
       "| cds | 87 | 363 | 157 | 157 | 0 | 363f | PRIMER_LEFT  | AAGCTACGACCTGATCCCCAA | 21 | 1 | 1 |  47 |  68 | 61.57581 | 0 | 52.38095 | 0 |  0.00000 | 0 | -29.59591 | 0 | 2 |\n",
       "| cds | 87 | 363 | 157 | 157 | 0 | 363r | PRIMER_RIGHT | GCGTCCCTGTCTTTTCAGCT  | 20 | 1 | 1 | 184 | 204 | 61.25593 | 0 | 55.00000 | 0 | 34.80076 | 0 | -57.19020 | 0 | 2 |\n",
       "| cds | 87 | 364 | 158 | 158 | 0 | 364f | PRIMER_LEFT  | AAAGCTACGACCTGATCCCCA | 21 | 1 | 1 |  46 |  67 | 61.57581 | 0 | 52.38095 | 0 |  0.00000 | 0 | -29.59591 | 0 | 2 |\n",
       "| cds | 87 | 364 | 158 | 158 | 0 | 364r | PRIMER_RIGHT | GCGTCCCTGTCTTTTCAGCT  | 20 | 1 | 1 | 184 | 204 | 61.25593 | 0 | 55.00000 | 0 | 34.80076 | 0 | -57.19020 | 0 | 2 |\n",
       "| cds | 87 | 392 | 156 | 156 | 0 | 392f | PRIMER_LEFT  | AGCTACGACCTGATCCCCAA  | 20 | 1 | 1 |  48 |  68 | 60.99849 | 0 | 55.00000 | 0 |  0.00000 | 0 | -29.59591 | 0 | 2 |\n",
       "| cds | 87 | 392 | 156 | 156 | 0 | 392r | PRIMER_RIGHT | GCGTCCCTGTCTTTTCAGCTT | 21 | 1 | 1 | 183 | 204 | 61.80351 | 0 | 52.38095 | 0 | 34.80076 | 0 | -48.25839 | 0 | 2 |\n",
       "\n"
      ],
      "text/plain": [
       "   gene_type cluster_id primer_set amplicon_size_consensus amplicon_size_avg\n",
       "1  cds       87          95        157                     157              \n",
       "2  cds       87          95        157                     157              \n",
       "3  cds       87          96        158                     158              \n",
       "4  cds       87          96        158                     158              \n",
       "5  cds       87         101        159                     159              \n",
       "6  cds       87         101        159                     159              \n",
       "7  cds       87         102        160                     160              \n",
       "8  cds       87         102        160                     160              \n",
       "9  cds       87         139        161                     161              \n",
       "10 cds       87         139        161                     161              \n",
       "11 cds       87         140        162                     162              \n",
       "12 cds       87         140        162                     162              \n",
       "13 cds       87         173        156                     156              \n",
       "14 cds       87         173        156                     156              \n",
       "15 cds       87         174        157                     157              \n",
       "16 cds       87         174        157                     157              \n",
       "17 cds       87         204        158                     158              \n",
       "18 cds       87         204        158                     158              \n",
       "19 cds       87         205        159                     159              \n",
       "20 cds       87         205        159                     159              \n",
       "21 cds       87         214        160                     160              \n",
       "22 cds       87         214        160                     160              \n",
       "23 cds       87         215        161                     161              \n",
       "24 cds       87         215        161                     161              \n",
       "25 cds       87         363        157                     157              \n",
       "26 cds       87         363        157                     157              \n",
       "27 cds       87         364        158                     158              \n",
       "28 cds       87         364        158                     158              \n",
       "29 cds       87         392        156                     156              \n",
       "30 cds       87         392        156                     156              \n",
       "   amplicon_size_sd primer_id primer_type  sequence              length\n",
       "1  0                95f       PRIMER_LEFT  AGCTACGACCTGATCCCCAA  20    \n",
       "2  0                95r       PRIMER_RIGHT TGCGTCCCTGTCTTTTCAGC  20    \n",
       "3  0                96f       PRIMER_LEFT  AAGCTACGACCTGATCCCCA  20    \n",
       "4  0                96r       PRIMER_RIGHT TGCGTCCCTGTCTTTTCAGC  20    \n",
       "5  0                101f      PRIMER_LEFT  AGCTACGACCTGATCCCCAA  20    \n",
       "6  0                101r      PRIMER_RIGHT CGTGCGTCCCTGTCTTTTCA  20    \n",
       "7  0                102f      PRIMER_LEFT  AAGCTACGACCTGATCCCCA  20    \n",
       "8  0                102r      PRIMER_RIGHT CGTGCGTCCCTGTCTTTTCA  20    \n",
       "9  0                139f      PRIMER_LEFT  AAGCTACGACCTGATCCCCAA 21    \n",
       "10 0                139r      PRIMER_RIGHT CCGTGCGTCCCTGTCTTTTC  20    \n",
       "11 0                140f      PRIMER_LEFT  AAAGCTACGACCTGATCCCCA 21    \n",
       "12 0                140r      PRIMER_RIGHT CCGTGCGTCCCTGTCTTTTC  20    \n",
       "13 0                173f      PRIMER_LEFT  AGCTACGACCTGATCCCCAA  20    \n",
       "14 0                173r      PRIMER_RIGHT GCGTCCCTGTCTTTTCAGCT  20    \n",
       "15 0                174f      PRIMER_LEFT  AAGCTACGACCTGATCCCCA  20    \n",
       "16 0                174r      PRIMER_RIGHT GCGTCCCTGTCTTTTCAGCT  20    \n",
       "17 0                204f      PRIMER_LEFT  AAGCTACGACCTGATCCCCAA 21    \n",
       "18 0                204r      PRIMER_RIGHT TGCGTCCCTGTCTTTTCAGC  20    \n",
       "19 0                205f      PRIMER_LEFT  AAAGCTACGACCTGATCCCCA 21    \n",
       "20 0                205r      PRIMER_RIGHT TGCGTCCCTGTCTTTTCAGC  20    \n",
       "21 0                214f      PRIMER_LEFT  AAGCTACGACCTGATCCCCAA 21    \n",
       "22 0                214r      PRIMER_RIGHT CGTGCGTCCCTGTCTTTTCA  20    \n",
       "23 0                215f      PRIMER_LEFT  AAAGCTACGACCTGATCCCCA 21    \n",
       "24 0                215r      PRIMER_RIGHT CGTGCGTCCCTGTCTTTTCA  20    \n",
       "25 0                363f      PRIMER_LEFT  AAGCTACGACCTGATCCCCAA 21    \n",
       "26 0                363r      PRIMER_RIGHT GCGTCCCTGTCTTTTCAGCT  20    \n",
       "27 0                364f      PRIMER_LEFT  AAAGCTACGACCTGATCCCCA 21    \n",
       "28 0                364r      PRIMER_RIGHT GCGTCCCTGTCTTTTCAGCT  20    \n",
       "29 0                392f      PRIMER_LEFT  AGCTACGACCTGATCCCCAA  20    \n",
       "30 0                392r      PRIMER_RIGHT GCGTCCCTGTCTTTTCAGCTT 21    \n",
       "   degeneracy degeneracy_3prime position_start position_end Tm_avg   Tm_sd\n",
       "1  1          1                  48             68          60.99849 0    \n",
       "2  1          1                 185            205          61.53486 0    \n",
       "3  1          1                  47             67          60.99849 0    \n",
       "4  1          1                 185            205          61.53486 0    \n",
       "5  1          1                  48             68          60.99849 0    \n",
       "6  1          1                 187            207          61.52293 0    \n",
       "7  1          1                  47             67          60.99849 0    \n",
       "8  1          1                 187            207          61.52293 0    \n",
       "9  1          1                  47             68          61.57581 0    \n",
       "10 1          1                 188            208          62.20623 0    \n",
       "11 1          1                  46             67          61.57581 0    \n",
       "12 1          1                 188            208          62.20623 0    \n",
       "13 1          1                  48             68          60.99849 0    \n",
       "14 1          1                 184            204          61.25593 0    \n",
       "15 1          1                  47             67          60.99849 0    \n",
       "16 1          1                 184            204          61.25593 0    \n",
       "17 1          1                  47             68          61.57581 0    \n",
       "18 1          1                 185            205          61.53486 0    \n",
       "19 1          1                  46             67          61.57581 0    \n",
       "20 1          1                 185            205          61.53486 0    \n",
       "21 1          1                  47             68          61.57581 0    \n",
       "22 1          1                 187            207          61.52293 0    \n",
       "23 1          1                  46             67          61.57581 0    \n",
       "24 1          1                 187            207          61.52293 0    \n",
       "25 1          1                  47             68          61.57581 0    \n",
       "26 1          1                 184            204          61.25593 0    \n",
       "27 1          1                  46             67          61.57581 0    \n",
       "28 1          1                 184            204          61.25593 0    \n",
       "29 1          1                  48             68          60.99849 0    \n",
       "30 1          1                 183            204          61.80351 0    \n",
       "   GC_avg   GC_sd hairpin_avg hairpin_sd homodimer_avg homodimer_sd n\n",
       "1  55.00000 0      0.00000    0          -29.59591     0            2\n",
       "2  55.00000 0     34.80076    0          -37.51648     0            2\n",
       "3  55.00000 0      0.00000    0          -29.59591     0            2\n",
       "4  55.00000 0     34.80076    0          -37.51648     0            2\n",
       "5  55.00000 0      0.00000    0          -29.59591     0            2\n",
       "6  55.00000 0      0.00000    0          -35.82261     0            2\n",
       "7  55.00000 0      0.00000    0          -29.59591     0            2\n",
       "8  55.00000 0      0.00000    0          -35.82261     0            2\n",
       "9  52.38095 0      0.00000    0          -29.59591     0            2\n",
       "10 60.00000 0      0.00000    0          -35.82261     0            2\n",
       "11 52.38095 0      0.00000    0          -29.59591     0            2\n",
       "12 60.00000 0      0.00000    0          -35.82261     0            2\n",
       "13 55.00000 0      0.00000    0          -29.59591     0            2\n",
       "14 55.00000 0     34.80076    0          -57.19020     0            2\n",
       "15 55.00000 0      0.00000    0          -29.59591     0            2\n",
       "16 55.00000 0     34.80076    0          -57.19020     0            2\n",
       "17 52.38095 0      0.00000    0          -29.59591     0            2\n",
       "18 55.00000 0     34.80076    0          -37.51648     0            2\n",
       "19 52.38095 0      0.00000    0          -29.59591     0            2\n",
       "20 55.00000 0     34.80076    0          -37.51648     0            2\n",
       "21 52.38095 0      0.00000    0          -29.59591     0            2\n",
       "22 55.00000 0      0.00000    0          -35.82261     0            2\n",
       "23 52.38095 0      0.00000    0          -29.59591     0            2\n",
       "24 55.00000 0      0.00000    0          -35.82261     0            2\n",
       "25 52.38095 0      0.00000    0          -29.59591     0            2\n",
       "26 55.00000 0     34.80076    0          -57.19020     0            2\n",
       "27 52.38095 0      0.00000    0          -29.59591     0            2\n",
       "28 55.00000 0     34.80076    0          -57.19020     0            2\n",
       "29 55.00000 0      0.00000    0          -29.59591     0            2\n",
       "30 52.38095 0     34.80076    0          -48.25839     0            2"
      ]
     },
     "metadata": {},
     "output_type": "display_data"
    }
   ],
   "source": [
    "# filtering primers\n",
    "info_f = info %>%\n",
    "    filter(gene_type == 'cds') %>%\n",
    "    semi_join(cds_blast_f, c('cluster_id')) %>%\n",
    "    filter(degeneracy <= 8, Tm_sd <= 1.5) %>%\n",
    "    group_by(gene_type, cluster_id, primer_set) %>%\n",
    "    mutate(n = n()) %>%\n",
    "    ungroup() %>%\n",
    "    filter(n == 2) \n",
    "\n",
    "df.dims(30,30)\n",
    "info_f %>%\n",
    "    arrange(Tm_sd, degeneracy, primer_set) %>%\n",
    "    head(n=30)\n",
    "df.dims()"
   ]
  },
  {
   "cell_type": "code",
   "execution_count": 59,
   "metadata": {
    "execution": {
     "iopub.execute_input": "2021-01-26T10:49:24.917682Z",
     "iopub.status.busy": "2021-01-26T10:49:24.915697Z",
     "iopub.status.idle": "2021-01-26T10:49:24.965274Z"
    }
   },
   "outputs": [
    {
     "data": {
      "text/html": [
       "<table>\n",
       "<caption>A data.frame: 415 × 13</caption>\n",
       "<thead>\n",
       "\t<tr><th scope=col>gene_type</th><th scope=col>cluster_id</th><th scope=col>seq_uuid</th><th scope=col>seq_orig_name</th><th scope=col>contig_id</th><th scope=col>taxon</th><th scope=col>start</th><th scope=col>end</th><th scope=col>score</th><th scope=col>strand</th><th scope=col>annotation</th><th scope=col>cluster_name</th><th scope=col>clust_id</th></tr>\n",
       "\t<tr><th scope=col>&lt;fct&gt;</th><th scope=col>&lt;int&gt;</th><th scope=col>&lt;fct&gt;</th><th scope=col>&lt;fct&gt;</th><th scope=col>&lt;fct&gt;</th><th scope=col>&lt;fct&gt;</th><th scope=col>&lt;int&gt;</th><th scope=col>&lt;int&gt;</th><th scope=col>&lt;fct&gt;</th><th scope=col>&lt;fct&gt;</th><th scope=col>&lt;fct&gt;</th><th scope=col>&lt;fct&gt;</th><th scope=col>&lt;int&gt;</th></tr>\n",
       "</thead>\n",
       "<tbody>\n",
       "\t<tr><td>cds</td><td>3</td><td>12dedcbcfa454b34be2b5533276587ea</td><td>JKEIJBMC_00467</td><td>CABKWJ010000002.1</td><td>CABKWJ010000001_1_Christensenella_timonensis_isolate_MGYG_HGUT_01550</td><td> 178589</td><td> 179638</td><td>.</td><td>-</td><td>Cell shape-determining protein Mbl</td><td>252b7a9ba11c4a8982495531ad40561a</td><td>3</td></tr>\n",
       "\t<tr><td>cds</td><td>3</td><td>22bb4e430c0140fbbe96e566f40837f6</td><td>KICEOJCJ_01701</td><td>CP029256.1       </td><td>CP029256_1_Christensenella_minuta_strain_DSM_22607_chromosome       </td><td>1855857</td><td>1856906</td><td>.</td><td>-</td><td>Cell shape-determining protein Mbl</td><td>252b7a9ba11c4a8982495531ad40561a</td><td>3</td></tr>\n",
       "\t<tr><td>⋮</td><td>⋮</td><td>⋮</td><td>⋮</td><td>⋮</td><td>⋮</td><td>⋮</td><td>⋮</td><td>⋮</td><td>⋮</td><td>⋮</td><td>⋮</td><td>⋮</td></tr>\n",
       "\t<tr><td>rrna</td><td>1</td><td>30635833e6d143f2857300329b123190</td><td>EGMHHNPD_02779</td><td>CABMKF010000023.1</td><td>CABMKF010000001_1_Christensenellaceae_bacterium_isolate_MGYG_HGUT_02411</td><td> 170</td><td>1703</td><td>0</td><td>+</td><td>16S ribosomal RNA</td><td>2</td><td>1</td></tr>\n",
       "\t<tr><td>rrna</td><td>1</td><td>824cbac467a24f2db12551504d9d1238</td><td>MBFOIHCP_02856</td><td>JACOON010000011.1</td><td>JACOON010000001_1_Christensenella_sp__NSJ_35_HPD3569                   </td><td>3489</td><td>5022</td><td>0</td><td>-</td><td>16S ribosomal RNA</td><td>2</td><td>1</td></tr>\n",
       "</tbody>\n",
       "</table>\n"
      ],
      "text/latex": [
       "A data.frame: 415 × 13\n",
       "\\begin{tabular}{lllllllllllll}\n",
       " gene\\_type & cluster\\_id & seq\\_uuid & seq\\_orig\\_name & contig\\_id & taxon & start & end & score & strand & annotation & cluster\\_name & clust\\_id\\\\\n",
       " <fct> & <int> & <fct> & <fct> & <fct> & <fct> & <int> & <int> & <fct> & <fct> & <fct> & <fct> & <int>\\\\\n",
       "\\hline\n",
       "\t cds & 3 & 12dedcbcfa454b34be2b5533276587ea & JKEIJBMC\\_00467 & CABKWJ010000002.1 & CABKWJ010000001\\_1\\_Christensenella\\_timonensis\\_isolate\\_MGYG\\_HGUT\\_01550 &  178589 &  179638 & . & - & Cell shape-determining protein Mbl & 252b7a9ba11c4a8982495531ad40561a & 3\\\\\n",
       "\t cds & 3 & 22bb4e430c0140fbbe96e566f40837f6 & KICEOJCJ\\_01701 & CP029256.1        & CP029256\\_1\\_Christensenella\\_minuta\\_strain\\_DSM\\_22607\\_chromosome        & 1855857 & 1856906 & . & - & Cell shape-determining protein Mbl & 252b7a9ba11c4a8982495531ad40561a & 3\\\\\n",
       "\t ⋮ & ⋮ & ⋮ & ⋮ & ⋮ & ⋮ & ⋮ & ⋮ & ⋮ & ⋮ & ⋮ & ⋮ & ⋮\\\\\n",
       "\t rrna & 1 & 30635833e6d143f2857300329b123190 & EGMHHNPD\\_02779 & CABMKF010000023.1 & CABMKF010000001\\_1\\_Christensenellaceae\\_bacterium\\_isolate\\_MGYG\\_HGUT\\_02411 &  170 & 1703 & 0 & + & 16S ribosomal RNA & 2 & 1\\\\\n",
       "\t rrna & 1 & 824cbac467a24f2db12551504d9d1238 & MBFOIHCP\\_02856 & JACOON010000011.1 & JACOON010000001\\_1\\_Christensenella\\_sp\\_\\_NSJ\\_35\\_HPD3569                    & 3489 & 5022 & 0 & - & 16S ribosomal RNA & 2 & 1\\\\\n",
       "\\end{tabular}\n"
      ],
      "text/markdown": [
       "\n",
       "A data.frame: 415 × 13\n",
       "\n",
       "| gene_type &lt;fct&gt; | cluster_id &lt;int&gt; | seq_uuid &lt;fct&gt; | seq_orig_name &lt;fct&gt; | contig_id &lt;fct&gt; | taxon &lt;fct&gt; | start &lt;int&gt; | end &lt;int&gt; | score &lt;fct&gt; | strand &lt;fct&gt; | annotation &lt;fct&gt; | cluster_name &lt;fct&gt; | clust_id &lt;int&gt; |\n",
       "|---|---|---|---|---|---|---|---|---|---|---|---|---|\n",
       "| cds | 3 | 12dedcbcfa454b34be2b5533276587ea | JKEIJBMC_00467 | CABKWJ010000002.1 | CABKWJ010000001_1_Christensenella_timonensis_isolate_MGYG_HGUT_01550 |  178589 |  179638 | . | - | Cell shape-determining protein Mbl | 252b7a9ba11c4a8982495531ad40561a | 3 |\n",
       "| cds | 3 | 22bb4e430c0140fbbe96e566f40837f6 | KICEOJCJ_01701 | CP029256.1        | CP029256_1_Christensenella_minuta_strain_DSM_22607_chromosome        | 1855857 | 1856906 | . | - | Cell shape-determining protein Mbl | 252b7a9ba11c4a8982495531ad40561a | 3 |\n",
       "| ⋮ | ⋮ | ⋮ | ⋮ | ⋮ | ⋮ | ⋮ | ⋮ | ⋮ | ⋮ | ⋮ | ⋮ | ⋮ |\n",
       "| rrna | 1 | 30635833e6d143f2857300329b123190 | EGMHHNPD_02779 | CABMKF010000023.1 | CABMKF010000001_1_Christensenellaceae_bacterium_isolate_MGYG_HGUT_02411 |  170 | 1703 | 0 | + | 16S ribosomal RNA | 2 | 1 |\n",
       "| rrna | 1 | 824cbac467a24f2db12551504d9d1238 | MBFOIHCP_02856 | JACOON010000011.1 | JACOON010000001_1_Christensenella_sp__NSJ_35_HPD3569                    | 3489 | 5022 | 0 | - | 16S ribosomal RNA | 2 | 1 |\n",
       "\n"
      ],
      "text/plain": [
       "    gene_type cluster_id seq_uuid                         seq_orig_name \n",
       "1   cds       3          12dedcbcfa454b34be2b5533276587ea JKEIJBMC_00467\n",
       "2   cds       3          22bb4e430c0140fbbe96e566f40837f6 KICEOJCJ_01701\n",
       "⋮   ⋮         ⋮          ⋮                                ⋮             \n",
       "414 rrna      1          30635833e6d143f2857300329b123190 EGMHHNPD_02779\n",
       "415 rrna      1          824cbac467a24f2db12551504d9d1238 MBFOIHCP_02856\n",
       "    contig_id        \n",
       "1   CABKWJ010000002.1\n",
       "2   CP029256.1       \n",
       "⋮   ⋮                \n",
       "414 CABMKF010000023.1\n",
       "415 JACOON010000011.1\n",
       "    taxon                                                                  \n",
       "1   CABKWJ010000001_1_Christensenella_timonensis_isolate_MGYG_HGUT_01550   \n",
       "2   CP029256_1_Christensenella_minuta_strain_DSM_22607_chromosome          \n",
       "⋮   ⋮                                                                      \n",
       "414 CABMKF010000001_1_Christensenellaceae_bacterium_isolate_MGYG_HGUT_02411\n",
       "415 JACOON010000001_1_Christensenella_sp__NSJ_35_HPD3569                   \n",
       "    start   end     score strand annotation                        \n",
       "1    178589  179638 .     -      Cell shape-determining protein Mbl\n",
       "2   1855857 1856906 .     -      Cell shape-determining protein Mbl\n",
       "⋮   ⋮       ⋮       ⋮     ⋮      ⋮                                 \n",
       "414  170    1703    0     +      16S ribosomal RNA                 \n",
       "415 3489    5022    0     -      16S ribosomal RNA                 \n",
       "    cluster_name                     clust_id\n",
       "1   252b7a9ba11c4a8982495531ad40561a 3       \n",
       "2   252b7a9ba11c4a8982495531ad40561a 3       \n",
       "⋮   ⋮                                ⋮       \n",
       "414 2                                1       \n",
       "415 2                                1       "
      ]
     },
     "metadata": {},
     "output_type": "display_data"
    }
   ],
   "source": [
    "# cluster info\n",
    "F = file.path(work_dir, 'cgp', 'core_clusters_info.tsv')\n",
    "clst_info = read.delim(F, sep='\\t')\n",
    "clst_info"
   ]
  },
  {
   "cell_type": "code",
   "execution_count": 65,
   "metadata": {
    "execution": {
     "iopub.execute_input": "2021-01-26T10:52:05.926888Z",
     "iopub.status.busy": "2021-01-26T10:52:05.924846Z",
     "iopub.status.idle": "2021-01-26T10:52:05.974740Z"
    }
   },
   "outputs": [
    {
     "data": {
      "text/html": [
       "<table>\n",
       "<caption>A data.frame: 10 × 13</caption>\n",
       "<thead>\n",
       "\t<tr><th scope=col>gene_type</th><th scope=col>cluster_id</th><th scope=col>seq_uuid</th><th scope=col>seq_orig_name</th><th scope=col>contig_id</th><th scope=col>taxon</th><th scope=col>start</th><th scope=col>end</th><th scope=col>score</th><th scope=col>strand</th><th scope=col>annotation</th><th scope=col>cluster_name</th><th scope=col>clust_id</th></tr>\n",
       "\t<tr><th scope=col>&lt;fct&gt;</th><th scope=col>&lt;int&gt;</th><th scope=col>&lt;fct&gt;</th><th scope=col>&lt;fct&gt;</th><th scope=col>&lt;fct&gt;</th><th scope=col>&lt;fct&gt;</th><th scope=col>&lt;int&gt;</th><th scope=col>&lt;int&gt;</th><th scope=col>&lt;fct&gt;</th><th scope=col>&lt;fct&gt;</th><th scope=col>&lt;fct&gt;</th><th scope=col>&lt;fct&gt;</th><th scope=col>&lt;int&gt;</th></tr>\n",
       "</thead>\n",
       "<tbody>\n",
       "\t<tr><td>cds</td><td> 87</td><td>5867640b1563453c9865c22b2b7b4780</td><td>JKEIJBMC_00820</td><td>CABKWJ010000002.1</td><td>CABKWJ010000001_1_Christensenella_timonensis_isolate_MGYG_HGUT_01550   </td><td> 565457</td><td> 565753</td><td>.</td><td>+</td><td>50S ribosomal protein L23                     </td><td>89175f88659b44088d2170d881abee78</td><td> 87</td></tr>\n",
       "\t<tr><td>cds</td><td> 87</td><td>035d9810b4ac4a2888b9d2bcd70d635d</td><td>KICEOJCJ_01994</td><td>CP029256.1       </td><td>CP029256_1_Christensenella_minuta_strain_DSM_22607_chromosome          </td><td>2138600</td><td>2138896</td><td>.</td><td>-</td><td>50S ribosomal protein L23                     </td><td>89175f88659b44088d2170d881abee78</td><td> 87</td></tr>\n",
       "\t<tr><td>cds</td><td> 87</td><td>3cd0d805ed6a49dc865f87aec2871667</td><td>HOHPHKNP_00652</td><td>LT700187.1       </td><td>LT700187_1_Christensenella_sp__Marseille_P2438                         </td><td> 646803</td><td> 647099</td><td>.</td><td>-</td><td>50S ribosomal protein L23                     </td><td>89175f88659b44088d2170d881abee78</td><td> 87</td></tr>\n",
       "\t<tr><td>cds</td><td> 87</td><td>89175f88659b44088d2170d881abee78</td><td>EGMHHNPD_01541</td><td>CABMKF010000004.1</td><td>CABMKF010000001_1_Christensenellaceae_bacterium_isolate_MGYG_HGUT_02411</td><td> 284994</td><td> 285290</td><td>.</td><td>-</td><td>50S ribosomal protein L23                     </td><td>89175f88659b44088d2170d881abee78</td><td> 87</td></tr>\n",
       "\t<tr><td>cds</td><td> 87</td><td>c9186319dbd9495880d79281763c9f51</td><td>MBFOIHCP_01868</td><td>JACOON010000005.1</td><td>JACOON010000001_1_Christensenella_sp__NSJ_35_HPD3569                   </td><td>   8579</td><td>   8875</td><td>.</td><td>+</td><td>50S ribosomal protein L23                     </td><td>89175f88659b44088d2170d881abee78</td><td> 87</td></tr>\n",
       "\t<tr><td>cds</td><td>129</td><td>f75e5d6845d34829ae5dd05136d89be9</td><td>JKEIJBMC_00769</td><td>CABKWJ010000002.1</td><td>CABKWJ010000001_1_Christensenella_timonensis_isolate_MGYG_HGUT_01550   </td><td> 515617</td><td> 516948</td><td>.</td><td>-</td><td>Replication-associated recombination protein A</td><td>fe745918481747ffa57aec99addf736a</td><td>129</td></tr>\n",
       "\t<tr><td>cds</td><td>129</td><td>da588e9f3529487aa48453b887ab91b0</td><td>KICEOJCJ_02427</td><td>CP029256.1       </td><td>CP029256_1_Christensenella_minuta_strain_DSM_22607_chromosome          </td><td>2614566</td><td>2615882</td><td>.</td><td>+</td><td>Replication-associated recombination protein A</td><td>fe745918481747ffa57aec99addf736a</td><td>129</td></tr>\n",
       "\t<tr><td>cds</td><td>129</td><td>ceecc01f345d4e83a7e311674514385b</td><td>HOHPHKNP_01050</td><td>LT700187.1       </td><td>LT700187_1_Christensenella_sp__Marseille_P2438                         </td><td>1070486</td><td>1071865</td><td>.</td><td>+</td><td>Replication-associated recombination protein A</td><td>fe745918481747ffa57aec99addf736a</td><td>129</td></tr>\n",
       "\t<tr><td>cds</td><td>129</td><td>fe745918481747ffa57aec99addf736a</td><td>EGMHHNPD_00815</td><td>CABMKF010000002.1</td><td>CABMKF010000001_1_Christensenellaceae_bacterium_isolate_MGYG_HGUT_02411</td><td> 318466</td><td> 319788</td><td>.</td><td>-</td><td>Replication-associated recombination protein A</td><td>fe745918481747ffa57aec99addf736a</td><td>129</td></tr>\n",
       "\t<tr><td>cds</td><td>129</td><td>76b7152b86284628be83e8120b567e0f</td><td>MBFOIHCP_02249</td><td>JACOON010000006.1</td><td>JACOON010000001_1_Christensenella_sp__NSJ_35_HPD3569                   </td><td>  90018</td><td>  91334</td><td>.</td><td>-</td><td>Replication-associated recombination protein A</td><td>fe745918481747ffa57aec99addf736a</td><td>129</td></tr>\n",
       "</tbody>\n",
       "</table>\n"
      ],
      "text/latex": [
       "A data.frame: 10 × 13\n",
       "\\begin{tabular}{lllllllllllll}\n",
       " gene\\_type & cluster\\_id & seq\\_uuid & seq\\_orig\\_name & contig\\_id & taxon & start & end & score & strand & annotation & cluster\\_name & clust\\_id\\\\\n",
       " <fct> & <int> & <fct> & <fct> & <fct> & <fct> & <int> & <int> & <fct> & <fct> & <fct> & <fct> & <int>\\\\\n",
       "\\hline\n",
       "\t cds &  87 & 5867640b1563453c9865c22b2b7b4780 & JKEIJBMC\\_00820 & CABKWJ010000002.1 & CABKWJ010000001\\_1\\_Christensenella\\_timonensis\\_isolate\\_MGYG\\_HGUT\\_01550    &  565457 &  565753 & . & + & 50S ribosomal protein L23                      & 89175f88659b44088d2170d881abee78 &  87\\\\\n",
       "\t cds &  87 & 035d9810b4ac4a2888b9d2bcd70d635d & KICEOJCJ\\_01994 & CP029256.1        & CP029256\\_1\\_Christensenella\\_minuta\\_strain\\_DSM\\_22607\\_chromosome           & 2138600 & 2138896 & . & - & 50S ribosomal protein L23                      & 89175f88659b44088d2170d881abee78 &  87\\\\\n",
       "\t cds &  87 & 3cd0d805ed6a49dc865f87aec2871667 & HOHPHKNP\\_00652 & LT700187.1        & LT700187\\_1\\_Christensenella\\_sp\\_\\_Marseille\\_P2438                          &  646803 &  647099 & . & - & 50S ribosomal protein L23                      & 89175f88659b44088d2170d881abee78 &  87\\\\\n",
       "\t cds &  87 & 89175f88659b44088d2170d881abee78 & EGMHHNPD\\_01541 & CABMKF010000004.1 & CABMKF010000001\\_1\\_Christensenellaceae\\_bacterium\\_isolate\\_MGYG\\_HGUT\\_02411 &  284994 &  285290 & . & - & 50S ribosomal protein L23                      & 89175f88659b44088d2170d881abee78 &  87\\\\\n",
       "\t cds &  87 & c9186319dbd9495880d79281763c9f51 & MBFOIHCP\\_01868 & JACOON010000005.1 & JACOON010000001\\_1\\_Christensenella\\_sp\\_\\_NSJ\\_35\\_HPD3569                    &    8579 &    8875 & . & + & 50S ribosomal protein L23                      & 89175f88659b44088d2170d881abee78 &  87\\\\\n",
       "\t cds & 129 & f75e5d6845d34829ae5dd05136d89be9 & JKEIJBMC\\_00769 & CABKWJ010000002.1 & CABKWJ010000001\\_1\\_Christensenella\\_timonensis\\_isolate\\_MGYG\\_HGUT\\_01550    &  515617 &  516948 & . & - & Replication-associated recombination protein A & fe745918481747ffa57aec99addf736a & 129\\\\\n",
       "\t cds & 129 & da588e9f3529487aa48453b887ab91b0 & KICEOJCJ\\_02427 & CP029256.1        & CP029256\\_1\\_Christensenella\\_minuta\\_strain\\_DSM\\_22607\\_chromosome           & 2614566 & 2615882 & . & + & Replication-associated recombination protein A & fe745918481747ffa57aec99addf736a & 129\\\\\n",
       "\t cds & 129 & ceecc01f345d4e83a7e311674514385b & HOHPHKNP\\_01050 & LT700187.1        & LT700187\\_1\\_Christensenella\\_sp\\_\\_Marseille\\_P2438                          & 1070486 & 1071865 & . & + & Replication-associated recombination protein A & fe745918481747ffa57aec99addf736a & 129\\\\\n",
       "\t cds & 129 & fe745918481747ffa57aec99addf736a & EGMHHNPD\\_00815 & CABMKF010000002.1 & CABMKF010000001\\_1\\_Christensenellaceae\\_bacterium\\_isolate\\_MGYG\\_HGUT\\_02411 &  318466 &  319788 & . & - & Replication-associated recombination protein A & fe745918481747ffa57aec99addf736a & 129\\\\\n",
       "\t cds & 129 & 76b7152b86284628be83e8120b567e0f & MBFOIHCP\\_02249 & JACOON010000006.1 & JACOON010000001\\_1\\_Christensenella\\_sp\\_\\_NSJ\\_35\\_HPD3569                    &   90018 &   91334 & . & - & Replication-associated recombination protein A & fe745918481747ffa57aec99addf736a & 129\\\\\n",
       "\\end{tabular}\n"
      ],
      "text/markdown": [
       "\n",
       "A data.frame: 10 × 13\n",
       "\n",
       "| gene_type &lt;fct&gt; | cluster_id &lt;int&gt; | seq_uuid &lt;fct&gt; | seq_orig_name &lt;fct&gt; | contig_id &lt;fct&gt; | taxon &lt;fct&gt; | start &lt;int&gt; | end &lt;int&gt; | score &lt;fct&gt; | strand &lt;fct&gt; | annotation &lt;fct&gt; | cluster_name &lt;fct&gt; | clust_id &lt;int&gt; |\n",
       "|---|---|---|---|---|---|---|---|---|---|---|---|---|\n",
       "| cds |  87 | 5867640b1563453c9865c22b2b7b4780 | JKEIJBMC_00820 | CABKWJ010000002.1 | CABKWJ010000001_1_Christensenella_timonensis_isolate_MGYG_HGUT_01550    |  565457 |  565753 | . | + | 50S ribosomal protein L23                      | 89175f88659b44088d2170d881abee78 |  87 |\n",
       "| cds |  87 | 035d9810b4ac4a2888b9d2bcd70d635d | KICEOJCJ_01994 | CP029256.1        | CP029256_1_Christensenella_minuta_strain_DSM_22607_chromosome           | 2138600 | 2138896 | . | - | 50S ribosomal protein L23                      | 89175f88659b44088d2170d881abee78 |  87 |\n",
       "| cds |  87 | 3cd0d805ed6a49dc865f87aec2871667 | HOHPHKNP_00652 | LT700187.1        | LT700187_1_Christensenella_sp__Marseille_P2438                          |  646803 |  647099 | . | - | 50S ribosomal protein L23                      | 89175f88659b44088d2170d881abee78 |  87 |\n",
       "| cds |  87 | 89175f88659b44088d2170d881abee78 | EGMHHNPD_01541 | CABMKF010000004.1 | CABMKF010000001_1_Christensenellaceae_bacterium_isolate_MGYG_HGUT_02411 |  284994 |  285290 | . | - | 50S ribosomal protein L23                      | 89175f88659b44088d2170d881abee78 |  87 |\n",
       "| cds |  87 | c9186319dbd9495880d79281763c9f51 | MBFOIHCP_01868 | JACOON010000005.1 | JACOON010000001_1_Christensenella_sp__NSJ_35_HPD3569                    |    8579 |    8875 | . | + | 50S ribosomal protein L23                      | 89175f88659b44088d2170d881abee78 |  87 |\n",
       "| cds | 129 | f75e5d6845d34829ae5dd05136d89be9 | JKEIJBMC_00769 | CABKWJ010000002.1 | CABKWJ010000001_1_Christensenella_timonensis_isolate_MGYG_HGUT_01550    |  515617 |  516948 | . | - | Replication-associated recombination protein A | fe745918481747ffa57aec99addf736a | 129 |\n",
       "| cds | 129 | da588e9f3529487aa48453b887ab91b0 | KICEOJCJ_02427 | CP029256.1        | CP029256_1_Christensenella_minuta_strain_DSM_22607_chromosome           | 2614566 | 2615882 | . | + | Replication-associated recombination protein A | fe745918481747ffa57aec99addf736a | 129 |\n",
       "| cds | 129 | ceecc01f345d4e83a7e311674514385b | HOHPHKNP_01050 | LT700187.1        | LT700187_1_Christensenella_sp__Marseille_P2438                          | 1070486 | 1071865 | . | + | Replication-associated recombination protein A | fe745918481747ffa57aec99addf736a | 129 |\n",
       "| cds | 129 | fe745918481747ffa57aec99addf736a | EGMHHNPD_00815 | CABMKF010000002.1 | CABMKF010000001_1_Christensenellaceae_bacterium_isolate_MGYG_HGUT_02411 |  318466 |  319788 | . | - | Replication-associated recombination protein A | fe745918481747ffa57aec99addf736a | 129 |\n",
       "| cds | 129 | 76b7152b86284628be83e8120b567e0f | MBFOIHCP_02249 | JACOON010000006.1 | JACOON010000001_1_Christensenella_sp__NSJ_35_HPD3569                    |   90018 |   91334 | . | - | Replication-associated recombination protein A | fe745918481747ffa57aec99addf736a | 129 |\n",
       "\n"
      ],
      "text/plain": [
       "   gene_type cluster_id seq_uuid                         seq_orig_name \n",
       "1  cds        87        5867640b1563453c9865c22b2b7b4780 JKEIJBMC_00820\n",
       "2  cds        87        035d9810b4ac4a2888b9d2bcd70d635d KICEOJCJ_01994\n",
       "3  cds        87        3cd0d805ed6a49dc865f87aec2871667 HOHPHKNP_00652\n",
       "4  cds        87        89175f88659b44088d2170d881abee78 EGMHHNPD_01541\n",
       "5  cds        87        c9186319dbd9495880d79281763c9f51 MBFOIHCP_01868\n",
       "6  cds       129        f75e5d6845d34829ae5dd05136d89be9 JKEIJBMC_00769\n",
       "7  cds       129        da588e9f3529487aa48453b887ab91b0 KICEOJCJ_02427\n",
       "8  cds       129        ceecc01f345d4e83a7e311674514385b HOHPHKNP_01050\n",
       "9  cds       129        fe745918481747ffa57aec99addf736a EGMHHNPD_00815\n",
       "10 cds       129        76b7152b86284628be83e8120b567e0f MBFOIHCP_02249\n",
       "   contig_id        \n",
       "1  CABKWJ010000002.1\n",
       "2  CP029256.1       \n",
       "3  LT700187.1       \n",
       "4  CABMKF010000004.1\n",
       "5  JACOON010000005.1\n",
       "6  CABKWJ010000002.1\n",
       "7  CP029256.1       \n",
       "8  LT700187.1       \n",
       "9  CABMKF010000002.1\n",
       "10 JACOON010000006.1\n",
       "   taxon                                                                  \n",
       "1  CABKWJ010000001_1_Christensenella_timonensis_isolate_MGYG_HGUT_01550   \n",
       "2  CP029256_1_Christensenella_minuta_strain_DSM_22607_chromosome          \n",
       "3  LT700187_1_Christensenella_sp__Marseille_P2438                         \n",
       "4  CABMKF010000001_1_Christensenellaceae_bacterium_isolate_MGYG_HGUT_02411\n",
       "5  JACOON010000001_1_Christensenella_sp__NSJ_35_HPD3569                   \n",
       "6  CABKWJ010000001_1_Christensenella_timonensis_isolate_MGYG_HGUT_01550   \n",
       "7  CP029256_1_Christensenella_minuta_strain_DSM_22607_chromosome          \n",
       "8  LT700187_1_Christensenella_sp__Marseille_P2438                         \n",
       "9  CABMKF010000001_1_Christensenellaceae_bacterium_isolate_MGYG_HGUT_02411\n",
       "10 JACOON010000001_1_Christensenella_sp__NSJ_35_HPD3569                   \n",
       "   start   end     score strand annotation                                    \n",
       "1   565457  565753 .     +      50S ribosomal protein L23                     \n",
       "2  2138600 2138896 .     -      50S ribosomal protein L23                     \n",
       "3   646803  647099 .     -      50S ribosomal protein L23                     \n",
       "4   284994  285290 .     -      50S ribosomal protein L23                     \n",
       "5     8579    8875 .     +      50S ribosomal protein L23                     \n",
       "6   515617  516948 .     -      Replication-associated recombination protein A\n",
       "7  2614566 2615882 .     +      Replication-associated recombination protein A\n",
       "8  1070486 1071865 .     +      Replication-associated recombination protein A\n",
       "9   318466  319788 .     -      Replication-associated recombination protein A\n",
       "10   90018   91334 .     -      Replication-associated recombination protein A\n",
       "   cluster_name                     clust_id\n",
       "1  89175f88659b44088d2170d881abee78  87     \n",
       "2  89175f88659b44088d2170d881abee78  87     \n",
       "3  89175f88659b44088d2170d881abee78  87     \n",
       "4  89175f88659b44088d2170d881abee78  87     \n",
       "5  89175f88659b44088d2170d881abee78  87     \n",
       "6  fe745918481747ffa57aec99addf736a 129     \n",
       "7  fe745918481747ffa57aec99addf736a 129     \n",
       "8  fe745918481747ffa57aec99addf736a 129     \n",
       "9  fe745918481747ffa57aec99addf736a 129     \n",
       "10 fe745918481747ffa57aec99addf736a 129     "
      ]
     },
     "metadata": {},
     "output_type": "display_data"
    }
   ],
   "source": [
    "# checking cluster info\n",
    "df.dims(10,30)\n",
    "clst_info %>%\n",
    "    filter(gene_type == 'cds', cluster_id %in% c(87, 129))\n",
    "df.dims()"
   ]
  },
  {
   "cell_type": "code",
   "execution_count": 66,
   "metadata": {
    "execution": {
     "iopub.execute_input": "2021-01-26T10:52:20.685154Z",
     "iopub.status.busy": "2021-01-26T10:52:20.684081Z",
     "iopub.status.idle": "2021-01-26T10:52:20.727100Z"
    }
   },
   "outputs": [
    {
     "data": {
      "text/html": [
       "<table>\n",
       "<caption>A data.frame: 52 × 17</caption>\n",
       "<thead>\n",
       "\t<tr><th scope=col>cluster_id</th><th scope=col>query</th><th scope=col>subject</th><th scope=col>subject_name</th><th scope=col>pident</th><th scope=col>length</th><th scope=col>mismatch</th><th scope=col>qstart</th><th scope=col>qend</th><th scope=col>sstart</th><th scope=col>send</th><th scope=col>evalue</th><th scope=col>slen</th><th scope=col>qlen</th><th scope=col>sscinames</th><th scope=col>staxids</th><th scope=col>pident_rank</th></tr>\n",
       "\t<tr><th scope=col>&lt;int&gt;</th><th scope=col>&lt;fct&gt;</th><th scope=col>&lt;fct&gt;</th><th scope=col>&lt;fct&gt;</th><th scope=col>&lt;dbl&gt;</th><th scope=col>&lt;int&gt;</th><th scope=col>&lt;int&gt;</th><th scope=col>&lt;int&gt;</th><th scope=col>&lt;int&gt;</th><th scope=col>&lt;int&gt;</th><th scope=col>&lt;int&gt;</th><th scope=col>&lt;dbl&gt;</th><th scope=col>&lt;int&gt;</th><th scope=col>&lt;int&gt;</th><th scope=col>&lt;fct&gt;</th><th scope=col>&lt;fct&gt;</th><th scope=col>&lt;int&gt;</th></tr>\n",
       "</thead>\n",
       "<tbody>\n",
       "\t<tr><td>87</td><td>89175f88659b44088d2170d881abee78</td><td>HBU12197.1</td><td>50S ribosomal protein L23 [Clostridiales bacterium]</td><td>79.592</td><td>98</td><td>20</td><td>1</td><td>294</td><td>1</td><td>98</td><td>1.95e-47</td><td>98</td><td>297</td><td>Clostridiales bacterium</td><td>1898207</td><td>2</td></tr>\n",
       "\t<tr><td>87</td><td>89175f88659b44088d2170d881abee78</td><td>PWM37934.1</td><td>50S ribosomal protein L23 [Clostridiales bacterium]</td><td>72.449</td><td>98</td><td>27</td><td>1</td><td>294</td><td>1</td><td>98</td><td>9.96e-42</td><td>98</td><td>297</td><td>Clostridiales bacterium</td><td>1898207</td><td>3</td></tr>\n",
       "\t<tr><td>⋮</td><td>⋮</td><td>⋮</td><td>⋮</td><td>⋮</td><td>⋮</td><td>⋮</td><td>⋮</td><td>⋮</td><td>⋮</td><td>⋮</td><td>⋮</td><td>⋮</td><td>⋮</td><td>⋮</td><td>⋮</td><td>⋮</td></tr>\n",
       "\t<tr><td>129</td><td>fe745918481747ffa57aec99addf736a</td><td>NLT17416.1  </td><td>replication-associated recombination protein A [Clostridiales bacterium]</td><td>61.224</td><td>441</td><td>166</td><td>1</td><td>1314</td><td>1</td><td>439</td><td>0</td><td>446</td><td>1323</td><td>Clostridiales bacterium</td><td>1898207</td><td>26</td></tr>\n",
       "\t<tr><td>129</td><td>fe745918481747ffa57aec99addf736a</td><td>MBE5784129.1</td><td>replication-associated recombination protein A [Clostridiales bacterium]</td><td>60.373</td><td>429</td><td>161</td><td>1</td><td>1275</td><td>1</td><td>424</td><td>0</td><td>428</td><td>1323</td><td>Clostridiales bacterium</td><td>1898207</td><td>29</td></tr>\n",
       "</tbody>\n",
       "</table>\n"
      ],
      "text/latex": [
       "A data.frame: 52 × 17\n",
       "\\begin{tabular}{lllllllllllllllll}\n",
       " cluster\\_id & query & subject & subject\\_name & pident & length & mismatch & qstart & qend & sstart & send & evalue & slen & qlen & sscinames & staxids & pident\\_rank\\\\\n",
       " <int> & <fct> & <fct> & <fct> & <dbl> & <int> & <int> & <int> & <int> & <int> & <int> & <dbl> & <int> & <int> & <fct> & <fct> & <int>\\\\\n",
       "\\hline\n",
       "\t 87 & 89175f88659b44088d2170d881abee78 & HBU12197.1 & 50S ribosomal protein L23 {[}Clostridiales bacterium{]} & 79.592 & 98 & 20 & 1 & 294 & 1 & 98 & 1.95e-47 & 98 & 297 & Clostridiales bacterium & 1898207 & 2\\\\\n",
       "\t 87 & 89175f88659b44088d2170d881abee78 & PWM37934.1 & 50S ribosomal protein L23 {[}Clostridiales bacterium{]} & 72.449 & 98 & 27 & 1 & 294 & 1 & 98 & 9.96e-42 & 98 & 297 & Clostridiales bacterium & 1898207 & 3\\\\\n",
       "\t ⋮ & ⋮ & ⋮ & ⋮ & ⋮ & ⋮ & ⋮ & ⋮ & ⋮ & ⋮ & ⋮ & ⋮ & ⋮ & ⋮ & ⋮ & ⋮ & ⋮\\\\\n",
       "\t 129 & fe745918481747ffa57aec99addf736a & NLT17416.1   & replication-associated recombination protein A {[}Clostridiales bacterium{]} & 61.224 & 441 & 166 & 1 & 1314 & 1 & 439 & 0 & 446 & 1323 & Clostridiales bacterium & 1898207 & 26\\\\\n",
       "\t 129 & fe745918481747ffa57aec99addf736a & MBE5784129.1 & replication-associated recombination protein A {[}Clostridiales bacterium{]} & 60.373 & 429 & 161 & 1 & 1275 & 1 & 424 & 0 & 428 & 1323 & Clostridiales bacterium & 1898207 & 29\\\\\n",
       "\\end{tabular}\n"
      ],
      "text/markdown": [
       "\n",
       "A data.frame: 52 × 17\n",
       "\n",
       "| cluster_id &lt;int&gt; | query &lt;fct&gt; | subject &lt;fct&gt; | subject_name &lt;fct&gt; | pident &lt;dbl&gt; | length &lt;int&gt; | mismatch &lt;int&gt; | qstart &lt;int&gt; | qend &lt;int&gt; | sstart &lt;int&gt; | send &lt;int&gt; | evalue &lt;dbl&gt; | slen &lt;int&gt; | qlen &lt;int&gt; | sscinames &lt;fct&gt; | staxids &lt;fct&gt; | pident_rank &lt;int&gt; |\n",
       "|---|---|---|---|---|---|---|---|---|---|---|---|---|---|---|---|---|\n",
       "| 87 | 89175f88659b44088d2170d881abee78 | HBU12197.1 | 50S ribosomal protein L23 [Clostridiales bacterium] | 79.592 | 98 | 20 | 1 | 294 | 1 | 98 | 1.95e-47 | 98 | 297 | Clostridiales bacterium | 1898207 | 2 |\n",
       "| 87 | 89175f88659b44088d2170d881abee78 | PWM37934.1 | 50S ribosomal protein L23 [Clostridiales bacterium] | 72.449 | 98 | 27 | 1 | 294 | 1 | 98 | 9.96e-42 | 98 | 297 | Clostridiales bacterium | 1898207 | 3 |\n",
       "| ⋮ | ⋮ | ⋮ | ⋮ | ⋮ | ⋮ | ⋮ | ⋮ | ⋮ | ⋮ | ⋮ | ⋮ | ⋮ | ⋮ | ⋮ | ⋮ | ⋮ |\n",
       "| 129 | fe745918481747ffa57aec99addf736a | NLT17416.1   | replication-associated recombination protein A [Clostridiales bacterium] | 61.224 | 441 | 166 | 1 | 1314 | 1 | 439 | 0 | 446 | 1323 | Clostridiales bacterium | 1898207 | 26 |\n",
       "| 129 | fe745918481747ffa57aec99addf736a | MBE5784129.1 | replication-associated recombination protein A [Clostridiales bacterium] | 60.373 | 429 | 161 | 1 | 1275 | 1 | 424 | 0 | 428 | 1323 | Clostridiales bacterium | 1898207 | 29 |\n",
       "\n"
      ],
      "text/plain": [
       "   cluster_id query                            subject     \n",
       "1  87         89175f88659b44088d2170d881abee78 HBU12197.1  \n",
       "2  87         89175f88659b44088d2170d881abee78 PWM37934.1  \n",
       "⋮  ⋮          ⋮                                ⋮           \n",
       "51 129        fe745918481747ffa57aec99addf736a NLT17416.1  \n",
       "52 129        fe745918481747ffa57aec99addf736a MBE5784129.1\n",
       "   subject_name                                                            \n",
       "1  50S ribosomal protein L23 [Clostridiales bacterium]                     \n",
       "2  50S ribosomal protein L23 [Clostridiales bacterium]                     \n",
       "⋮  ⋮                                                                       \n",
       "51 replication-associated recombination protein A [Clostridiales bacterium]\n",
       "52 replication-associated recombination protein A [Clostridiales bacterium]\n",
       "   pident length mismatch qstart qend sstart send evalue   slen qlen\n",
       "1  79.592 98     20       1      294  1      98   1.95e-47 98   297 \n",
       "2  72.449 98     27       1      294  1      98   9.96e-42 98   297 \n",
       "⋮  ⋮      ⋮      ⋮        ⋮      ⋮    ⋮      ⋮    ⋮        ⋮    ⋮   \n",
       "51 61.224 441    166      1      1314 1      439  0        446  1323\n",
       "52 60.373 429    161      1      1275 1      424  0        428  1323\n",
       "   sscinames               staxids pident_rank\n",
       "1  Clostridiales bacterium 1898207 2          \n",
       "2  Clostridiales bacterium 1898207 3          \n",
       "⋮  ⋮                       ⋮       ⋮          \n",
       "51 Clostridiales bacterium 1898207 26         \n",
       "52 Clostridiales bacterium 1898207 29         "
      ]
     },
     "metadata": {},
     "output_type": "display_data"
    }
   ],
   "source": [
    "# checking cluster non-targets\n",
    "cds_blast %>%\n",
    "    filter(cluster_id %in% c(87, 129))"
   ]
  },
  {
   "cell_type": "code",
   "execution_count": 67,
   "metadata": {
    "execution": {
     "iopub.execute_input": "2021-01-26T10:53:14.950251Z",
     "iopub.status.busy": "2021-01-26T10:53:14.948482Z",
     "iopub.status.idle": "2021-01-26T10:53:14.972065Z"
    }
   },
   "outputs": [
    {
     "name": "stdout",
     "output_type": "stream",
     "text": [
      "File written: /ebio/abt3_projects/software/dev/ll_pipelines/llprimer/experiments/christensenella/genbank/primers_r5//best_primers.tsv \n"
     ]
    }
   ],
   "source": [
    "# writing primers\n",
    "outF = file.path(work_dir, 'best_primers.tsv')\n",
    "info_f %>% write_table(outF)"
   ]
  },
  {
   "cell_type": "code",
   "execution_count": null,
   "metadata": {},
   "outputs": [],
   "source": []
  }
 ],
 "metadata": {
  "kernelspec": {
   "display_name": "R [conda env:Georg_animal_feces-tidyverse]",
   "language": "R",
   "name": "conda-env-Georg_animal_feces-tidyverse-r"
  },
  "language_info": {
   "codemirror_mode": "r",
   "file_extension": ".r",
   "mimetype": "text/x-r-source",
   "name": "R",
   "pygments_lexer": "r",
   "version": "3.6.3"
  },
  "toc-autonumbering": false,
  "toc-showcode": false,
  "toc-showmarkdowntxt": false
 },
 "nbformat": 4,
 "nbformat_minor": 4
}
